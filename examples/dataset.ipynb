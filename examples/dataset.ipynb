{
 "cells": [
  {
   "cell_type": "markdown",
   "id": "0364599c",
   "metadata": {},
   "source": [
    "# Phoenix Dataset Object\n",
    "\n",
    "This small tutorial is to demonstrate how we can use the 🔥🐦 Phoenix `Dataset` object. \n",
    "\n",
    "This object currently is composed of a dataframe and a schema. Data can be consumed from:\n",
    "* Pandas DataFrame directly\n",
    "* From local files: csv & hdf5"
   ]
  },
  {
   "cell_type": "code",
   "execution_count": 22,
   "id": "28f8890a",
   "metadata": {},
   "outputs": [],
   "source": [
    "import pandas as pd\n",
    "from phoenix.datasets import Dataset, Schema, EmbeddingColumnNames"
   ]
  },
  {
   "cell_type": "code",
   "execution_count": 23,
   "id": "02c7d1e2",
   "metadata": {},
   "outputs": [
    {
     "data": {
      "text/html": [
       "<div>\n",
       "<style scoped>\n",
       "    .dataframe tbody tr th:only-of-type {\n",
       "        vertical-align: middle;\n",
       "    }\n",
       "\n",
       "    .dataframe tbody tr th {\n",
       "        vertical-align: top;\n",
       "    }\n",
       "\n",
       "    .dataframe thead th {\n",
       "        text-align: right;\n",
       "    }\n",
       "</style>\n",
       "<table border=\"1\" class=\"dataframe\">\n",
       "  <thead>\n",
       "    <tr style=\"text-align: right;\">\n",
       "      <th></th>\n",
       "      <th>prediction_ts</th>\n",
       "      <th>reviewer_age</th>\n",
       "      <th>reviewer_gender</th>\n",
       "      <th>product_category</th>\n",
       "      <th>language</th>\n",
       "      <th>text</th>\n",
       "      <th>text_vector</th>\n",
       "      <th>label</th>\n",
       "      <th>pred_label</th>\n",
       "    </tr>\n",
       "  </thead>\n",
       "  <tbody>\n",
       "    <tr>\n",
       "      <th>0</th>\n",
       "      <td>1.650092e+09</td>\n",
       "      <td>21</td>\n",
       "      <td>female</td>\n",
       "      <td>apparel</td>\n",
       "      <td>english</td>\n",
       "      <td>Poor quality of fabric and ridiculously tight ...</td>\n",
       "      <td>[-7.05169961e-02  6.64003372e-01  3.35792184e-...</td>\n",
       "      <td>negative</td>\n",
       "      <td>negative</td>\n",
       "    </tr>\n",
       "    <tr>\n",
       "      <th>1</th>\n",
       "      <td>1.650092e+09</td>\n",
       "      <td>29</td>\n",
       "      <td>male</td>\n",
       "      <td>kitchen</td>\n",
       "      <td>english</td>\n",
       "      <td>Love these glasses, thought they'd be everyday...</td>\n",
       "      <td>[-2.44109239e-03 -5.40627480e-01  3.17134917e-...</td>\n",
       "      <td>positive</td>\n",
       "      <td>positive</td>\n",
       "    </tr>\n",
       "    <tr>\n",
       "      <th>2</th>\n",
       "      <td>1.650093e+09</td>\n",
       "      <td>26</td>\n",
       "      <td>female</td>\n",
       "      <td>sports</td>\n",
       "      <td>english</td>\n",
       "      <td>These are disgusting, it tastes like you are \"...</td>\n",
       "      <td>[ 4.04878825e-01  8.23539615e-01  3.83339435e-...</td>\n",
       "      <td>negative</td>\n",
       "      <td>negative</td>\n",
       "    </tr>\n",
       "    <tr>\n",
       "      <th>3</th>\n",
       "      <td>1.650093e+09</td>\n",
       "      <td>26</td>\n",
       "      <td>male</td>\n",
       "      <td>other</td>\n",
       "      <td>english</td>\n",
       "      <td>My husband has a pair of TaoTronics so I decid...</td>\n",
       "      <td>[ 0.01881652  0.53441304  0.4907303  -0.024163...</td>\n",
       "      <td>neutral</td>\n",
       "      <td>neutral</td>\n",
       "    </tr>\n",
       "    <tr>\n",
       "      <th>4</th>\n",
       "      <td>1.650093e+09</td>\n",
       "      <td>37</td>\n",
       "      <td>male</td>\n",
       "      <td>home_improvement</td>\n",
       "      <td>english</td>\n",
       "      <td>Threads too deep. Engages on tank, but gasket ...</td>\n",
       "      <td>[-0.25348073  0.31603432  0.35810202 -0.246728...</td>\n",
       "      <td>negative</td>\n",
       "      <td>negative</td>\n",
       "    </tr>\n",
       "  </tbody>\n",
       "</table>\n",
       "</div>"
      ],
      "text/plain": [
       "   prediction_ts  reviewer_age reviewer_gender  product_category language  \\\n",
       "0   1.650092e+09            21          female           apparel  english   \n",
       "1   1.650092e+09            29            male           kitchen  english   \n",
       "2   1.650093e+09            26          female            sports  english   \n",
       "3   1.650093e+09            26            male             other  english   \n",
       "4   1.650093e+09            37            male  home_improvement  english   \n",
       "\n",
       "                                                text  \\\n",
       "0  Poor quality of fabric and ridiculously tight ...   \n",
       "1  Love these glasses, thought they'd be everyday...   \n",
       "2  These are disgusting, it tastes like you are \"...   \n",
       "3  My husband has a pair of TaoTronics so I decid...   \n",
       "4  Threads too deep. Engages on tank, but gasket ...   \n",
       "\n",
       "                                         text_vector     label pred_label  \n",
       "0  [-7.05169961e-02  6.64003372e-01  3.35792184e-...  negative   negative  \n",
       "1  [-2.44109239e-03 -5.40627480e-01  3.17134917e-...  positive   positive  \n",
       "2  [ 4.04878825e-01  8.23539615e-01  3.83339435e-...  negative   negative  \n",
       "3  [ 0.01881652  0.53441304  0.4907303  -0.024163...   neutral    neutral  \n",
       "4  [-0.25348073  0.31603432  0.35810202 -0.246728...  negative   negative  "
      ]
     },
     "execution_count": 23,
     "metadata": {},
     "output_type": "execute_result"
    }
   ],
   "source": [
    "test_filename = \"NLP_sentiment_classification_language_drift\"\n",
    "\n",
    "df1 = pd.read_csv(f\"./fixtures/{test_filename}.csv\")\n",
    "df1.head()"
   ]
  },
  {
   "cell_type": "markdown",
   "id": "cc50b386",
   "metadata": {},
   "source": [
    "Define the schema same as you would in our SDK"
   ]
  },
  {
   "cell_type": "code",
   "execution_count": 24,
   "id": "ae788250",
   "metadata": {},
   "outputs": [],
   "source": [
    "features = [\n",
    "    'reviewer_age',\n",
    "    'reviewer_gender',\n",
    "    'product_category',\n",
    "    'language',\n",
    "]\n",
    "\n",
    "embedding_features = {\n",
    "    \"embedding_feature\": EmbeddingColumnNames(\n",
    "        vector_column_name=\"text_vector\",  # Will be name of embedding feature in the app\n",
    "        data_column_name=\"text\",\n",
    "    ),\n",
    "}\n",
    "\n",
    "# Define a Schema() object for Arize to pick up data from the correct columns for logging\n",
    "schema = Schema(\n",
    "    prediction_id_column_name=\"prediction_id\",\n",
    "    timestamp_column_name=\"prediction_ts\",\n",
    "    prediction_label_column_name=\"pred_label\",\n",
    "    actual_label_column_name=\"label\",\n",
    "    feature_column_names=features,\n",
    "    embedding_feature_column_names=embedding_features\n",
    ")\n",
    "\n"
   ]
  },
  {
   "cell_type": "markdown",
   "id": "d35bed3c",
   "metadata": {},
   "source": [
    "You are ready to define a `Dataset`"
   ]
  },
  {
   "cell_type": "code",
   "execution_count": 10,
   "id": "af7450a5",
   "metadata": {},
   "outputs": [],
   "source": [
    "# Defined directly from dataframe\n",
    "dataset1 = Dataset(df1,schema)\n",
    "dataset2 = Dataset.from_dataframe(df1, schema)\n",
    "# Defined from csv\n",
    "dataset3 = Dataset.from_csv(f\"./fixtures/{test_filename}.csv\", schema=schema)\n",
    "# Defined from hdf5\n",
    "dataset4 = Dataset.from_hdf(f\"./fixtures/{test_filename}.hdf5\", schema=schema, key=\"training\")"
   ]
  },
  {
   "cell_type": "markdown",
   "id": "4ce754b1",
   "metadata": {},
   "source": [
    "The following is an issue we need to investigate. We see that all datasets are equal. At first glance that seems ok. But, when loading a csv file, the embeddings are read as strings (issue to fix is filed). Hence the following condition should not be True"
   ]
  },
  {
   "cell_type": "code",
   "execution_count": 11,
   "id": "8ca50f81",
   "metadata": {},
   "outputs": [
    {
     "data": {
      "text/plain": [
       "True"
      ]
     },
     "execution_count": 11,
     "metadata": {},
     "output_type": "execute_result"
    }
   ],
   "source": [
    "dataset1==dataset2==dataset3==dataset4"
   ]
  },
  {
   "cell_type": "code",
   "execution_count": 19,
   "id": "7a9f0f11",
   "metadata": {},
   "outputs": [
    {
     "data": {
      "text/html": [
       "<div>\n",
       "<style scoped>\n",
       "    .dataframe tbody tr th:only-of-type {\n",
       "        vertical-align: middle;\n",
       "    }\n",
       "\n",
       "    .dataframe tbody tr th {\n",
       "        vertical-align: top;\n",
       "    }\n",
       "\n",
       "    .dataframe thead th {\n",
       "        text-align: right;\n",
       "    }\n",
       "</style>\n",
       "<table border=\"1\" class=\"dataframe\">\n",
       "  <thead>\n",
       "    <tr style=\"text-align: right;\">\n",
       "      <th></th>\n",
       "      <th>timestamp</th>\n",
       "      <th>reviewer_age</th>\n",
       "      <th>reviewer_gender</th>\n",
       "      <th>product_category</th>\n",
       "      <th>language</th>\n",
       "      <th>text</th>\n",
       "      <th>text_vector</th>\n",
       "      <th>actual_label</th>\n",
       "      <th>pred_label</th>\n",
       "    </tr>\n",
       "  </thead>\n",
       "  <tbody>\n",
       "    <tr>\n",
       "      <th>0</th>\n",
       "      <td>1.650092e+09</td>\n",
       "      <td>21</td>\n",
       "      <td>female</td>\n",
       "      <td>apparel</td>\n",
       "      <td>english</td>\n",
       "      <td>Poor quality of fabric and ridiculously tight ...</td>\n",
       "      <td>[-7.05169961e-02  6.64003372e-01  3.35792184e-...</td>\n",
       "      <td>negative</td>\n",
       "      <td>negative</td>\n",
       "    </tr>\n",
       "    <tr>\n",
       "      <th>1</th>\n",
       "      <td>1.650092e+09</td>\n",
       "      <td>29</td>\n",
       "      <td>male</td>\n",
       "      <td>kitchen</td>\n",
       "      <td>english</td>\n",
       "      <td>Love these glasses, thought they'd be everyday...</td>\n",
       "      <td>[-2.44109239e-03 -5.40627480e-01  3.17134917e-...</td>\n",
       "      <td>positive</td>\n",
       "      <td>positive</td>\n",
       "    </tr>\n",
       "    <tr>\n",
       "      <th>2</th>\n",
       "      <td>1.650093e+09</td>\n",
       "      <td>26</td>\n",
       "      <td>female</td>\n",
       "      <td>sports</td>\n",
       "      <td>english</td>\n",
       "      <td>These are disgusting, it tastes like you are \"...</td>\n",
       "      <td>[ 4.04878825e-01  8.23539615e-01  3.83339435e-...</td>\n",
       "      <td>negative</td>\n",
       "      <td>negative</td>\n",
       "    </tr>\n",
       "    <tr>\n",
       "      <th>3</th>\n",
       "      <td>1.650093e+09</td>\n",
       "      <td>26</td>\n",
       "      <td>male</td>\n",
       "      <td>other</td>\n",
       "      <td>english</td>\n",
       "      <td>My husband has a pair of TaoTronics so I decid...</td>\n",
       "      <td>[ 0.01881652  0.53441304  0.4907303  -0.024163...</td>\n",
       "      <td>neutral</td>\n",
       "      <td>neutral</td>\n",
       "    </tr>\n",
       "    <tr>\n",
       "      <th>4</th>\n",
       "      <td>1.650093e+09</td>\n",
       "      <td>37</td>\n",
       "      <td>male</td>\n",
       "      <td>home_improvement</td>\n",
       "      <td>english</td>\n",
       "      <td>Threads too deep. Engages on tank, but gasket ...</td>\n",
       "      <td>[-0.25348073  0.31603432  0.35810202 -0.246728...</td>\n",
       "      <td>negative</td>\n",
       "      <td>negative</td>\n",
       "    </tr>\n",
       "  </tbody>\n",
       "</table>\n",
       "</div>"
      ],
      "text/plain": [
       "      timestamp  reviewer_age reviewer_gender  product_category language  \\\n",
       "0  1.650092e+09            21          female           apparel  english   \n",
       "1  1.650092e+09            29            male           kitchen  english   \n",
       "2  1.650093e+09            26          female            sports  english   \n",
       "3  1.650093e+09            26            male             other  english   \n",
       "4  1.650093e+09            37            male  home_improvement  english   \n",
       "\n",
       "                                                text  \\\n",
       "0  Poor quality of fabric and ridiculously tight ...   \n",
       "1  Love these glasses, thought they'd be everyday...   \n",
       "2  These are disgusting, it tastes like you are \"...   \n",
       "3  My husband has a pair of TaoTronics so I decid...   \n",
       "4  Threads too deep. Engages on tank, but gasket ...   \n",
       "\n",
       "                                         text_vector actual_label pred_label  \n",
       "0  [-7.05169961e-02  6.64003372e-01  3.35792184e-...     negative   negative  \n",
       "1  [-2.44109239e-03 -5.40627480e-01  3.17134917e-...     positive   positive  \n",
       "2  [ 4.04878825e-01  8.23539615e-01  3.83339435e-...     negative   negative  \n",
       "3  [ 0.01881652  0.53441304  0.4907303  -0.024163...      neutral    neutral  \n",
       "4  [-0.25348073  0.31603432  0.35810202 -0.246728...     negative   negative  "
      ]
     },
     "execution_count": 19,
     "metadata": {},
     "output_type": "execute_result"
    }
   ],
   "source": [
    "df2 = df1.copy()\n",
    "df2.rename(\n",
    "    columns={\n",
    "        \"prediction_ts\":\"timestamp\",\n",
    "        \"label\":\"actual_label\"\n",
    "    },\n",
    "    inplace=True\n",
    ")\n",
    "df2.head()"
   ]
  },
  {
   "cell_type": "code",
   "execution_count": 20,
   "id": "a5ec5454",
   "metadata": {},
   "outputs": [],
   "source": [
    "# Define a Schema() object for Arize to pick up data from the correct columns for logging\n",
    "schema = Schema(\n",
    "    prediction_id_column_name=\"prediction_id\",\n",
    "    timestamp_column_name=\"timestamp\",\n",
    "    prediction_label_column_name=\"pred_label\",\n",
    "    actual_label_column_name=\"actual_label\",\n",
    "    feature_column_names=features,\n",
    "    embedding_feature_column_names=embedding_features\n",
    ")\n",
    "dataset5 = Dataset(df1,schema)"
   ]
  },
  {
   "cell_type": "markdown",
   "id": "f74d293f",
   "metadata": {},
   "source": [
    "This is another issue. In this case we have different dataframes with different schemas. However the Dataset objects are equal?"
   ]
  },
  {
   "cell_type": "code",
   "execution_count": 21,
   "id": "8128eda1",
   "metadata": {},
   "outputs": [
    {
     "data": {
      "text/plain": [
       "True"
      ]
     },
     "execution_count": 21,
     "metadata": {},
     "output_type": "execute_result"
    }
   ],
   "source": [
    "dataset1==dataset5"
   ]
  }
 ],
 "metadata": {
  "kernelspec": {
   "display_name": "Python 3 (ipykernel)",
   "language": "python",
   "name": "python3"
  },
  "language_info": {
   "codemirror_mode": {
    "name": "ipython",
    "version": 3
   },
   "file_extension": ".py",
   "mimetype": "text/x-python",
   "name": "python",
   "nbconvert_exporter": "python",
   "pygments_lexer": "ipython3",
   "version": "3.8.13"
  }
 },
 "nbformat": 4,
 "nbformat_minor": 5
}
