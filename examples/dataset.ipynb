{
 "cells": [
  {
   "cell_type": "markdown",
   "id": "0364599c",
   "metadata": {},
   "source": [
    "# Phoenix Dataset Object\n",
    "\n",
    "This small tutorial is to demonstrate how we can use the 🔥🐦 Phoenix `Dataset` object. \n",
    "\n",
    "This object currently is composed of a dataframe and a schema. Data can be consumed from:\n",
    "* Pandas DataFrame directly\n",
    "* From local files: csv & hdf5"
   ]
  },
  {
   "cell_type": "code",
   "execution_count": null,
   "id": "28f8890a",
   "metadata": {},
   "outputs": [],
   "source": [
    "import pandas as pd\n",
    "from phoenix.datasets import Dataset, Schema, EmbeddingColumnNames"
   ]
  },
  {
   "cell_type": "code",
   "execution_count": null,
   "id": "02c7d1e2",
   "metadata": {},
   "outputs": [],
   "source": [
    "test_filename = \"NLP_sentiment_classification_language_drift\"\n",
    "\n",
    "df1 = pd.read_csv(\n",
    "    \"https://storage.googleapis.com/arize-assets/phoenix/datasets/unstructured/nlp/sentiment_classification_language_drift_production.csv\",\n",
    ")\n",
    "df1.head()"
   ]
  },
  {
   "cell_type": "markdown",
   "id": "cc50b386",
   "metadata": {},
   "source": [
    "Define the schema same as you would in our SDK"
   ]
  },
  {
   "cell_type": "code",
   "execution_count": null,
   "id": "ae788250",
   "metadata": {},
   "outputs": [],
   "source": [
    "features = [\n",
    "    \"reviewer_age\",\n",
    "    \"reviewer_gender\",\n",
    "    \"product_category\",\n",
    "    \"language\",\n",
    "]\n",
    "\n",
    "embedding_features = {\n",
    "    \"embedding_feature\": EmbeddingColumnNames(\n",
    "        vector_column_name=\"text_vector\",  # Will be name of embedding feature in the app\n",
    "    ),\n",
    "}\n",
    "\n",
    "# Define a Schema object so that we can map your data's columns to a Dataset\n",
    "schema = Schema(\n",
    "    timestamp_column_name=\"prediction_ts\",\n",
    "    prediction_label_column_name=\"pred_label\",\n",
    "    actual_label_column_name=\"label\",\n",
    "    feature_column_names=features,\n",
    "    embedding_feature_column_names=embedding_features,\n",
    ")"
   ]
  },
  {
   "cell_type": "markdown",
   "id": "d35bed3c",
   "metadata": {},
   "source": [
    "You are ready to define a `Dataset`"
   ]
  },
  {
   "cell_type": "code",
   "execution_count": null,
   "id": "af7450a5",
   "metadata": {},
   "outputs": [],
   "source": [
    "# Defined directly from dataframe\n",
    "dataset1 = Dataset(df1, schema, name=\"primary\")\n",
    "dataset1.to_disc()\n",
    "# dataset2 = Dataset.from_dataframe(df1, schema)\n",
    "# print(dataset1.get_embedding_vector_column(\"embedding_feature\"))"
   ]
  },
  {
   "cell_type": "markdown",
   "id": "4ce754b1",
   "metadata": {},
   "source": [
    "The following is an issue we need to investigate. We see that all datasets are equal. At first glance that seems ok. But, when loading a csv file, the embeddings are read as strings (issue to fix is filed). Hence the following condition should not be True"
   ]
  },
  {
   "cell_type": "code",
   "execution_count": null,
   "id": "8ca50f81",
   "metadata": {},
   "outputs": [],
   "source": [
    "dataset1 == dataset2 == dataset3 == dataset4"
   ]
  },
  {
   "cell_type": "code",
   "execution_count": null,
   "id": "7a9f0f11",
   "metadata": {},
   "outputs": [],
   "source": [
    "df2 = df1.copy()\n",
    "df2.rename(columns={\"prediction_ts\": \"timestamp\", \"label\": \"actual_label\"}, inplace=True)\n",
    "df2.head()"
   ]
  },
  {
   "cell_type": "code",
   "execution_count": null,
   "id": "a5ec5454",
   "metadata": {},
   "outputs": [],
   "source": [
    "# Define a Schema object to map your columns to a Dataset\n",
    "schema = Schema(\n",
    "    prediction_id_column_name=\"prediction_id\",\n",
    "    timestamp_column_name=\"timestamp\",\n",
    "    prediction_label_column_name=\"pred_label\",\n",
    "    actual_label_column_name=\"actual_label\",\n",
    "    feature_column_names=features,\n",
    "    embedding_feature_column_names=embedding_features,\n",
    ")\n",
    "dataset5 = Dataset(df1, schema)"
   ]
  },
  {
   "cell_type": "markdown",
   "id": "f74d293f",
   "metadata": {},
   "source": [
    "This is another issue. In this case we have different dataframes with different schemas. However the Dataset objects are equal?"
   ]
  },
  {
   "cell_type": "code",
   "execution_count": null,
   "id": "8128eda1",
   "metadata": {},
   "outputs": [],
   "source": [
    "dataset1 == dataset5"
   ]
  }
 ],
 "metadata": {
  "kernelspec": {
   "display_name": "phoenix-env",
   "language": "python",
   "name": "python3"
  },
  "language_info": {
   "codemirror_mode": {
    "name": "ipython",
    "version": 3
   },
   "file_extension": ".py",
   "mimetype": "text/x-python",
   "name": "python",
   "nbconvert_exporter": "python",
   "pygments_lexer": "ipython3",
   "version": "3.9.15 (main, Dec 17 2022, 13:11:01) \n[Clang 14.0.0 (clang-1400.0.29.102)]"
  },
  "vscode": {
   "interpreter": {
    "hash": "376112051f594f6e24fa74b51812fe15f3714622b4054162117957862f7bf942"
   }
  }
 },
 "nbformat": 4,
 "nbformat_minor": 5
}
