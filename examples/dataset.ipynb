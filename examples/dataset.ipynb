{
 "cells": [
  {
   "cell_type": "markdown",
   "id": "0364599c",
   "metadata": {},
   "source": [
    "# Phoenix Dataset Object\n",
    "\n",
    "This small tutorial is to demonstrate how we can use the 🔥🐦 Phoenix `Dataset` object. \n",
    "\n",
    "This object currently is composed of a dataframe and a schema. Data can be consumed from:\n",
    "* Pandas DataFrame directly\n",
    "* From local files: csv & hdf5"
   ]
  },
  {
   "cell_type": "code",
   "execution_count": 1,
   "id": "28f8890a",
   "metadata": {},
   "outputs": [],
   "source": [
    "import pandas as pd\n",
    "from phoenix.datasets import Dataset, Schema, EmbeddingColumnNames"
   ]
  },
  {
   "cell_type": "code",
   "execution_count": 2,
   "id": "02c7d1e2",
   "metadata": {},
   "outputs": [
    {
     "data": {
      "text/html": [
       "<div>\n",
       "<style scoped>\n",
       "    .dataframe tbody tr th:only-of-type {\n",
       "        vertical-align: middle;\n",
       "    }\n",
       "\n",
       "    .dataframe tbody tr th {\n",
       "        vertical-align: top;\n",
       "    }\n",
       "\n",
       "    .dataframe thead th {\n",
       "        text-align: right;\n",
       "    }\n",
       "</style>\n",
       "<table border=\"1\" class=\"dataframe\">\n",
       "  <thead>\n",
       "    <tr style=\"text-align: right;\">\n",
       "      <th></th>\n",
       "      <th>Unnamed: 0</th>\n",
       "      <th>prediction_ts</th>\n",
       "      <th>reviewer_age</th>\n",
       "      <th>reviewer_gender</th>\n",
       "      <th>product_category</th>\n",
       "      <th>language</th>\n",
       "      <th>text</th>\n",
       "      <th>text_vector</th>\n",
       "      <th>label</th>\n",
       "      <th>pred_label</th>\n",
       "    </tr>\n",
       "  </thead>\n",
       "  <tbody>\n",
       "    <tr>\n",
       "      <th>0</th>\n",
       "      <td>0</td>\n",
       "      <td>1.650092e+09</td>\n",
       "      <td>21</td>\n",
       "      <td>female</td>\n",
       "      <td>apparel</td>\n",
       "      <td>english</td>\n",
       "      <td>Poor quality of fabric and ridiculously tight ...</td>\n",
       "      <td>[-7.05169961e-02  6.64003372e-01  3.35792184e-...</td>\n",
       "      <td>negative</td>\n",
       "      <td>negative</td>\n",
       "    </tr>\n",
       "    <tr>\n",
       "      <th>1</th>\n",
       "      <td>1</td>\n",
       "      <td>1.650092e+09</td>\n",
       "      <td>29</td>\n",
       "      <td>male</td>\n",
       "      <td>kitchen</td>\n",
       "      <td>english</td>\n",
       "      <td>Love these glasses, thought they'd be everyday...</td>\n",
       "      <td>[-2.44109239e-03 -5.40627480e-01  3.17134917e-...</td>\n",
       "      <td>positive</td>\n",
       "      <td>positive</td>\n",
       "    </tr>\n",
       "    <tr>\n",
       "      <th>2</th>\n",
       "      <td>2</td>\n",
       "      <td>1.650093e+09</td>\n",
       "      <td>26</td>\n",
       "      <td>female</td>\n",
       "      <td>sports</td>\n",
       "      <td>english</td>\n",
       "      <td>These are disgusting, it tastes like you are \"...</td>\n",
       "      <td>[ 4.04878825e-01  8.23539615e-01  3.83339435e-...</td>\n",
       "      <td>neutral</td>\n",
       "      <td>neutral</td>\n",
       "    </tr>\n",
       "    <tr>\n",
       "      <th>3</th>\n",
       "      <td>549</td>\n",
       "      <td>1.650175e+09</td>\n",
       "      <td>22</td>\n",
       "      <td>female</td>\n",
       "      <td>beauty</td>\n",
       "      <td>english</td>\n",
       "      <td>Their ok, not steady, not exactly necessary.</td>\n",
       "      <td>[-1.78982448e-02 -4.12485093e-01  4.79548365e-...</td>\n",
       "      <td>neutral</td>\n",
       "      <td>neutral</td>\n",
       "    </tr>\n",
       "    <tr>\n",
       "      <th>4</th>\n",
       "      <td>550</td>\n",
       "      <td>1.650176e+09</td>\n",
       "      <td>34</td>\n",
       "      <td>male</td>\n",
       "      <td>other</td>\n",
       "      <td>english</td>\n",
       "      <td>I actually got these rain ponchos to use on my...</td>\n",
       "      <td>[ 5.38790300e-02 -5.83797634e-01  1.63948029e-...</td>\n",
       "      <td>positive</td>\n",
       "      <td>positive</td>\n",
       "    </tr>\n",
       "  </tbody>\n",
       "</table>\n",
       "</div>"
      ],
      "text/plain": [
       "   Unnamed: 0  prediction_ts  reviewer_age reviewer_gender product_category  \\\n",
       "0           0   1.650092e+09            21          female          apparel   \n",
       "1           1   1.650092e+09            29            male          kitchen   \n",
       "2           2   1.650093e+09            26          female           sports   \n",
       "3         549   1.650175e+09            22          female           beauty   \n",
       "4         550   1.650176e+09            34            male            other   \n",
       "\n",
       "  language                                               text  \\\n",
       "0  english  Poor quality of fabric and ridiculously tight ...   \n",
       "1  english  Love these glasses, thought they'd be everyday...   \n",
       "2  english  These are disgusting, it tastes like you are \"...   \n",
       "3  english       Their ok, not steady, not exactly necessary.   \n",
       "4  english  I actually got these rain ponchos to use on my...   \n",
       "\n",
       "                                         text_vector     label pred_label  \n",
       "0  [-7.05169961e-02  6.64003372e-01  3.35792184e-...  negative   negative  \n",
       "1  [-2.44109239e-03 -5.40627480e-01  3.17134917e-...  positive   positive  \n",
       "2  [ 4.04878825e-01  8.23539615e-01  3.83339435e-...   neutral    neutral  \n",
       "3  [-1.78982448e-02 -4.12485093e-01  4.79548365e-...   neutral    neutral  \n",
       "4  [ 5.38790300e-02 -5.83797634e-01  1.63948029e-...  positive   positive  "
      ]
     },
     "execution_count": 2,
     "metadata": {},
     "output_type": "execute_result"
    }
   ],
   "source": [
    "test_filename = \"NLP_sentiment_classification_language_drift\"\n",
    "\n",
    "df1 = pd.read_csv(f\"./fixtures/{test_filename}.csv\")\n",
    "df1.head()"
   ]
  },
  {
   "cell_type": "markdown",
   "id": "cc50b386",
   "metadata": {},
   "source": [
    "Define the schema same as you would in our SDK"
   ]
  },
  {
   "cell_type": "code",
   "execution_count": 3,
   "id": "ae788250",
   "metadata": {},
   "outputs": [],
   "source": [
    "features = [\n",
    "    \"reviewer_age\",\n",
    "    \"reviewer_gender\",\n",
    "    \"product_category\",\n",
    "    \"language\",\n",
    "]\n",
    "\n",
    "embedding_features = {\n",
    "    \"embedding_feature\": EmbeddingColumnNames(\n",
    "        vector_column_name=\"text_vector\",  # Will be name of embedding feature in the app\n",
    "        data_column_name=\"text\",\n",
    "    ),\n",
    "}\n",
    "\n",
    "# Define a Schema object so that we can map your data's columns to a Dataset\n",
    "schema = Schema(\n",
    "    prediction_id_column_name=\"prediction_id\",\n",
    "    timestamp_column_name=\"prediction_ts\",\n",
    "    prediction_label_column_name=\"pred_label\",\n",
    "    actual_label_column_name=\"label\",\n",
    "    feature_column_names=features,\n",
    "    embedding_feature_column_names=embedding_features,\n",
    ")"
   ]
  },
  {
   "cell_type": "markdown",
   "id": "d35bed3c",
   "metadata": {},
   "source": [
    "You are ready to define a `Dataset`"
   ]
  },
  {
   "cell_type": "code",
   "execution_count": 4,
   "id": "af7450a5",
   "metadata": {},
   "outputs": [
    {
     "name": "stdout",
     "output_type": "stream",
     "text": [
      "0       [-7.05169961e-02  6.64003372e-01  3.35792184e-...\n",
      "1       [-2.44109239e-03 -5.40627480e-01  3.17134917e-...\n",
      "2       [ 4.04878825e-01  8.23539615e-01  3.83339435e-...\n",
      "3       [-1.78982448e-02 -4.12485093e-01  4.79548365e-...\n",
      "4       [ 5.38790300e-02 -5.83797634e-01  1.63948029e-...\n",
      "                              ...                        \n",
      "7449    [ 9.93590578e-02  3.58262956e-02 -1.73807964e-...\n",
      "7450    [-1.67410597e-01 -9.89676654e-01  4.06790376e-...\n",
      "7451    [ 0.02008727 -0.2938754   0.39946282 -0.183999...\n",
      "7452    [ 0.02993855 -0.48610854  0.08177334 -0.270041...\n",
      "7453    [-4.18550447e-02 -3.66181880e-01  2.91265190e-...\n",
      "Name: text_vector, Length: 7454, dtype: object\n",
      "<class 'str'> guard: True\n",
      "0       [-7.05169961e-02  6.64003372e-01  3.35792184e-...\n",
      "1       [-2.44109239e-03 -5.40627480e-01  3.17134917e-...\n",
      "2       [ 4.04878825e-01  8.23539615e-01  3.83339435e-...\n",
      "3       [-1.78982448e-02 -4.12485093e-01  4.79548365e-...\n",
      "4       [ 5.38790300e-02 -5.83797634e-01  1.63948029e-...\n",
      "                              ...                        \n",
      "7449    [ 9.93590578e-02  3.58262956e-02 -1.73807964e-...\n",
      "7450    [-1.67410597e-01 -9.89676654e-01  4.06790376e-...\n",
      "7451    [ 0.02008727 -0.2938754   0.39946282 -0.183999...\n",
      "7452    [ 0.02993855 -0.48610854  0.08177334 -0.270041...\n",
      "7453    [-4.18550447e-02 -3.66181880e-01  2.91265190e-...\n",
      "Name: text_vector, Length: 7454, dtype: object\n"
     ]
    }
   ],
   "source": [
    "# Defined directly from dataframe\n",
    "dataset1 = Dataset(df1, schema)\n",
    "dataset2 = Dataset.from_dataframe(df1, schema)\n",
    "print(dataset1.get_embedding_vector_column(\"embedding_feature\"))\n",
    "# Defined from csv\n",
    "dataset3 = Dataset.from_csv(f\"./fixtures/{test_filename}.csv\", schema=schema)\n",
    "# Defined from hdf5\n",
    "# dataset4 = Dataset.from_hdf(f\"./fixtures/{test_filename}.hdf5\", schema=schema, key=\"training\")"
   ]
  },
  {
   "cell_type": "markdown",
   "id": "4ce754b1",
   "metadata": {},
   "source": [
    "The following is an issue we need to investigate. We see that all datasets are equal. At first glance that seems ok. But, when loading a csv file, the embeddings are read as strings (issue to fix is filed). Hence the following condition should not be True"
   ]
  },
  {
   "cell_type": "code",
   "execution_count": 5,
   "id": "8ca50f81",
   "metadata": {},
   "outputs": [
    {
     "ename": "ValueError",
     "evalue": "The truth value of a DataFrame is ambiguous. Use a.empty, a.bool(), a.item(), a.any() or a.all().",
     "output_type": "error",
     "traceback": [
      "\u001b[0;31m---------------------------------------------------------------------------\u001b[0m",
      "\u001b[0;31mValueError\u001b[0m                                Traceback (most recent call last)",
      "Cell \u001b[0;32mIn [5], line 1\u001b[0m\n\u001b[0;32m----> 1\u001b[0m dataset1 \u001b[39m==\u001b[39m dataset2 \u001b[39m==\u001b[39m dataset3 \u001b[39m==\u001b[39m dataset4\n",
      "File \u001b[0;32m<string>:4\u001b[0m, in \u001b[0;36m__eq__\u001b[0;34m(self, other)\u001b[0m\n",
      "File \u001b[0;32m~/.virtualenvs/notebook/lib/python3.10/site-packages/pandas/core/generic.py:1527\u001b[0m, in \u001b[0;36mNDFrame.__nonzero__\u001b[0;34m(self)\u001b[0m\n\u001b[1;32m   1525\u001b[0m \u001b[39m@final\u001b[39m\n\u001b[1;32m   1526\u001b[0m \u001b[39mdef\u001b[39;00m \u001b[39m__nonzero__\u001b[39m(\u001b[39mself\u001b[39m) \u001b[39m-\u001b[39m\u001b[39m>\u001b[39m NoReturn:\n\u001b[0;32m-> 1527\u001b[0m     \u001b[39mraise\u001b[39;00m \u001b[39mValueError\u001b[39;00m(\n\u001b[1;32m   1528\u001b[0m         \u001b[39mf\u001b[39m\u001b[39m\"\u001b[39m\u001b[39mThe truth value of a \u001b[39m\u001b[39m{\u001b[39;00m\u001b[39mtype\u001b[39m(\u001b[39mself\u001b[39m)\u001b[39m.\u001b[39m\u001b[39m__name__\u001b[39m\u001b[39m}\u001b[39;00m\u001b[39m is ambiguous. \u001b[39m\u001b[39m\"\u001b[39m\n\u001b[1;32m   1529\u001b[0m         \u001b[39m\"\u001b[39m\u001b[39mUse a.empty, a.bool(), a.item(), a.any() or a.all().\u001b[39m\u001b[39m\"\u001b[39m\n\u001b[1;32m   1530\u001b[0m     )\n",
      "\u001b[0;31mValueError\u001b[0m: The truth value of a DataFrame is ambiguous. Use a.empty, a.bool(), a.item(), a.any() or a.all()."
     ]
    }
   ],
   "source": [
    "dataset1 == dataset2 == dataset3 == dataset4"
   ]
  },
  {
   "cell_type": "code",
   "execution_count": null,
   "id": "7a9f0f11",
   "metadata": {},
   "outputs": [],
   "source": [
    "df2 = df1.copy()\n",
    "df2.rename(columns={\"prediction_ts\": \"timestamp\", \"label\": \"actual_label\"}, inplace=True)\n",
    "df2.head()"
   ]
  },
  {
   "cell_type": "code",
   "execution_count": null,
   "id": "a5ec5454",
   "metadata": {},
   "outputs": [],
   "source": [
    "# Define a Schema object to map your columns to a Dataset\n",
    "schema = Schema(\n",
    "    prediction_id_column_name=\"prediction_id\",\n",
    "    timestamp_column_name=\"timestamp\",\n",
    "    prediction_label_column_name=\"pred_label\",\n",
    "    actual_label_column_name=\"actual_label\",\n",
    "    feature_column_names=features,\n",
    "    embedding_feature_column_names=embedding_features,\n",
    ")\n",
    "dataset5 = Dataset(df1, schema)"
   ]
  },
  {
   "cell_type": "markdown",
   "id": "f74d293f",
   "metadata": {},
   "source": [
    "This is another issue. In this case we have different dataframes with different schemas. However the Dataset objects are equal?"
   ]
  },
  {
   "cell_type": "code",
   "execution_count": null,
   "id": "8128eda1",
   "metadata": {},
   "outputs": [],
   "source": [
    "dataset1 == dataset5"
   ]
  }
 ],
 "metadata": {
  "kernelspec": {
   "display_name": "Python 3.10.3 ('notebook')",
   "language": "python",
   "name": "python3"
  },
  "language_info": {
   "codemirror_mode": {
    "name": "ipython",
    "version": 3
   },
   "file_extension": ".py",
   "mimetype": "text/x-python",
   "name": "python",
   "nbconvert_exporter": "python",
   "pygments_lexer": "ipython3",
   "version": "3.10.3"
  },
  "vscode": {
   "interpreter": {
    "hash": "f8476af36f82f278d0224c299b3c84ccca1fb7344702eda80d935d8f2c34d234"
   }
  }
 },
 "nbformat": 4,
 "nbformat_minor": 5
}
