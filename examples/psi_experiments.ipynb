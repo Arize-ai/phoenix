{
 "cells": [
  {
   "cell_type": "code",
   "execution_count": null,
   "metadata": {},
   "outputs": [],
   "source": [
    "import sys\n",
    "\n",
    "sys.path.insert(0, \"../src/\")\n",
    "\n",
    "import concurrent.futures as cf\n",
    "import datetime\n",
    "\n",
    "import numpy as np\n",
    "import pandas as pd\n",
    "from scipy.stats import norm\n",
    "\n",
    "from phoenix.datasets.binning import compute_default_bins, compute_histogram\n",
    "from phoenix.metrics.drift import psi"
   ]
  },
  {
   "cell_type": "code",
   "execution_count": null,
   "metadata": {},
   "outputs": [],
   "source": [
    "def initialize_dataframe(feature_column_names, num_samples, dtype, max_workers=None):\n",
    "    data = {}\n",
    "    with cf.ThreadPoolExecutor(max_workers=max_workers) as executor:\n",
    "        future_to_column_name = {\n",
    "            executor.submit(lambda: np.random.random(num_samples).astype(dtype)): column_name\n",
    "            for column_name in feature_column_names\n",
    "        }\n",
    "        for future in cf.as_completed(future_to_column_name):\n",
    "            column_name = future_to_column_name[future]\n",
    "            data[column_name] = future.result()\n",
    "    return pd.DataFrame.from_dict(data)"
   ]
  },
  {
   "cell_type": "code",
   "execution_count": null,
   "metadata": {},
   "outputs": [],
   "source": [
    "num_features = 100\n",
    "num_samples = 10**7\n",
    "dtype = np.float32\n",
    "if dtype == np.float32:\n",
    "    num_bytes_per_element = 4\n",
    "elif dtype == np.float64:\n",
    "    num_bytes_per_element = 8\n",
    "else:\n",
    "    raise ValueError()\n",
    "num_gigs = (num_features * num_samples * num_bytes_per_element) // 10**9\n",
    "epsilon = 1e-7\n",
    "feature_column_names = [f\"feature{i}\" for i in range(num_features)]\n",
    "primary = initialize_dataframe(feature_column_names, num_samples, dtype)\n",
    "reference = initialize_dataframe(feature_column_names, num_samples, dtype)"
   ]
  },
  {
   "cell_type": "code",
   "execution_count": null,
   "metadata": {
    "scrolled": true
   },
   "outputs": [],
   "source": [
    "# start computation\n",
    "psi_start = datetime.datetime.now()\n",
    "print(f\"num features: {num_features}\")\n",
    "print(f\"num samples: {num_samples}\")\n",
    "print(f\"dtype: {dtype}\")\n",
    "print(f\"num gigs: {num_gigs}\")\n",
    "\n",
    "# compute bins\n",
    "start = datetime.datetime.now()\n",
    "bins_column = compute_default_bins(reference)\n",
    "end = datetime.datetime.now()\n",
    "compute_bins_duration = end - start\n",
    "print(f\"compute bins: {compute_bins_duration}\")\n",
    "\n",
    "# compute primary histogram\n",
    "start = datetime.datetime.now()\n",
    "primary_histogram = compute_histogram(primary, bins_column)\n",
    "end = datetime.datetime.now()\n",
    "compute_primary_histogram_duration = end - start\n",
    "print(f\"compute primary histogram: {compute_primary_histogram_duration}\")\n",
    "\n",
    "# compute reference histogram\n",
    "start = datetime.datetime.now()\n",
    "reference_histogram = compute_histogram(reference, bins_column)\n",
    "end = datetime.datetime.now()\n",
    "compute_reference_histogram_duration = end - start\n",
    "print(f\"compute reference histogram: {compute_reference_histogram_duration}\")\n",
    "\n",
    "# compute primary distribution\n",
    "start = datetime.datetime.now()\n",
    "primary_distributions = primary_histogram / primary_histogram.sum()\n",
    "end = datetime.datetime.now()\n",
    "compute_primary_distribution_duration = end - start\n",
    "print(f\"compute primary distribution: {compute_primary_distribution_duration}\")\n",
    "\n",
    "# compute reference distribution\n",
    "start = datetime.datetime.now()\n",
    "reference_distributions = reference_histogram / reference_histogram.sum()\n",
    "end = datetime.datetime.now()\n",
    "compute_reference_distribution_duration = end - start\n",
    "print(f\"compute reference distribution duration: {compute_reference_distribution_duration}\")\n",
    "\n",
    "# compute psi\n",
    "start = datetime.datetime.now()\n",
    "out = psi(primary_distributions, reference_distributions, epsilon)\n",
    "end = datetime.datetime.now()\n",
    "compute_psi_duration = end - start\n",
    "print(f\"compute psi duration: {compute_psi_duration}\")\n",
    "\n",
    "# end computation\n",
    "psi_end = datetime.datetime.now()\n",
    "total_duration = psi_end - psi_start\n",
    "print(f\"total duration: {total_duration}\")\n",
    "\n",
    "# display computed values\n",
    "print(\"PSI\")\n",
    "print(out)"
   ]
  },
  {
   "cell_type": "code",
   "execution_count": null,
   "metadata": {
    "scrolled": true
   },
   "outputs": [],
   "source": [
    "def calculate_psi(primary_df, reference_df, max_workers=None):\n",
    "    bins_column = compute_default_bins(reference_df, max_workers=max_workers)\n",
    "    primary_histogram = compute_histogram(primary_df, bins_column, max_workers=max_workers)\n",
    "    reference_histogram = compute_histogram(reference_df, bins_column, max_workers=max_workers)\n",
    "    primary_distributions = primary_histogram / primary_histogram.sum()\n",
    "    reference_distributions = reference_histogram / reference_histogram.sum()\n",
    "    return psi(primary_distributions, reference_distributions, epsilon)"
   ]
  },
  {
   "cell_type": "code",
   "execution_count": null,
   "metadata": {
    "scrolled": true
   },
   "outputs": [],
   "source": [
    "import time\n",
    "\n",
    "max_workers_list = list(range(1, 11))\n",
    "durations = []\n",
    "for max_workers in max_workers_list:\n",
    "    print(max_workers)\n",
    "    start = time.time()\n",
    "    calculate_psi(primary, reference, max_workers=max_workers)\n",
    "    duration = time.time() - start\n",
    "    durations.append(duration)"
   ]
  },
  {
   "cell_type": "code",
   "execution_count": null,
   "metadata": {},
   "outputs": [],
   "source": [
    "%matplotlib notebook\n",
    "import matplotlib.pyplot as plt\n",
    "\n",
    "plt.plot(max_workers_list, durations)\n",
    "plt.xlabel(\"num threads\")\n",
    "plt.ylabel(\"seconds\")\n",
    "plt.show()"
   ]
  }
 ],
 "metadata": {
  "kernelspec": {
   "display_name": "Python 3 (ipykernel)",
   "language": "python",
   "name": "python3"
  },
  "language_info": {
   "codemirror_mode": {
    "name": "ipython",
    "version": 3
   },
   "file_extension": ".py",
   "mimetype": "text/x-python",
   "name": "python",
   "nbconvert_exporter": "python",
   "pygments_lexer": "ipython3",
   "version": "3.10.8"
  }
 },
 "nbformat": 4,
 "nbformat_minor": 1
}
