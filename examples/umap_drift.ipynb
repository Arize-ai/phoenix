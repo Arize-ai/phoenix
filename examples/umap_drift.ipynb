{
 "cells": [
  {
   "cell_type": "markdown",
   "metadata": {},
   "source": [
    "# Phoenix Embeddings\n",
    "\n",
    "This small tutorial goes over creating Phoenix's `Dataset` objects and using them to obtain a UMAP pointcloud using the `UMAPWidget`"
   ]
  },
  {
   "cell_type": "code",
   "execution_count": 1,
   "metadata": {},
   "outputs": [],
   "source": [
    "from phoenix.datasets import Dataset, EmbeddingColumnNames, Schema\n",
    "from phoenix.pointcloud import DriftPointCloud, UMAPProjector\n",
    "from phoenix.widgets import UMAPWidget"
   ]
  },
  {
   "cell_type": "code",
   "execution_count": 2,
   "metadata": {},
   "outputs": [
    {
     "name": "stdout",
     "output_type": "stream",
     "text": [
      "Downloading file: NLP_sentiment_classification_language_drift.hdf5\n",
      "[====================================================================================================] 100.0%\n",
      "Done!\n",
      "Downloading file: NLP_sentiment_classification_language_drift.hdf5\n",
      "[====================================================================================================] 100.0%\n",
      "Done!\n"
     ]
    }
   ],
   "source": [
    "test_local_filename = \"NLP_sentiment_classification_language_drift\"\n",
    "test_url_filename = \"https://storage.googleapis.com/arize-assets/fixtures/OpenSource/Embeddings/datasets/NLP/NLP_sentiment_classification_language_drift\"\n",
    "\n",
    "features = [\n",
    "    \"reviewer_age\",\n",
    "    \"reviewer_gender\",\n",
    "    \"product_category\",\n",
    "    \"language\",\n",
    "]\n",
    "\n",
    "embedding_features = {\n",
    "    \"embedding_feature\": EmbeddingColumnNames(\n",
    "        vector_column_name=\"text_vector\",  # Will be name of embedding feature in the app\n",
    "        raw_data_column_name=\"text\",\n",
    "    ),\n",
    "}\n",
    "\n",
    "# Define a Schema() object for Arize to pick up data from the correct columns for logging\n",
    "schema = Schema(\n",
    "    timestamp_column_name=\"prediction_ts\",\n",
    "    prediction_label_column_name=\"pred_label\",\n",
    "    actual_label_column_name=\"label\",\n",
    "    feature_column_names=features,\n",
    "    embedding_feature_column_names=embedding_features,\n",
    ")\n",
    "\n",
    "desired_format = \"url_hdf5\"\n",
    "\n",
    "if desired_format == \"hdf5\":\n",
    "    train_ds = Dataset.from_hdf(\n",
    "        f\"./fixtures/{test_local_filename}.hdf5\", schema=schema, keys=\"training\"\n",
    "    )\n",
    "    prod_ds = Dataset.from_hdf(\n",
    "        f\"./fixtures/{test_local_filename}.hdf5\", schema=schema, keys=\"production\"\n",
    "    )\n",
    "elif desired_format == \"url_hdf5\":\n",
    "    train_ds = Dataset.from_hdf(f\"{test_url_filename}.hdf5\", schema=schema, keys=\"training\")\n",
    "    prod_ds = Dataset.from_hdf(f\"{test_url_filename}.hdf5\", schema=schema, keys=\"production\")\n",
    "elif desired_format == \"csv\":\n",
    "    train_ds = Dataset.from_csv(f\"./fixtures/{test_local_filename}_training.csv\", schema=schema)\n",
    "    prod_ds = Dataset.from_csv(f\"./fixtures/{test_local_filename}_production.csv\", schema=schema)\n",
    "elif desired_format == \"url_csv\":\n",
    "    train_ds = Dataset.from_csv(f\"{test_url_filename}_training.csv\", schema=schema)\n",
    "    prod_ds = Dataset.from_csv(f\"{test_url_filename}_production.csv\", schema=schema)"
   ]
  },
  {
   "cell_type": "code",
   "execution_count": 3,
   "metadata": {},
   "outputs": [
    {
     "data": {
      "text/html": [
       "<div>\n",
       "<style scoped>\n",
       "    .dataframe tbody tr th:only-of-type {\n",
       "        vertical-align: middle;\n",
       "    }\n",
       "\n",
       "    .dataframe tbody tr th {\n",
       "        vertical-align: top;\n",
       "    }\n",
       "\n",
       "    .dataframe thead th {\n",
       "        text-align: right;\n",
       "    }\n",
       "</style>\n",
       "<table border=\"1\" class=\"dataframe\">\n",
       "  <thead>\n",
       "    <tr style=\"text-align: right;\">\n",
       "      <th></th>\n",
       "      <th>prediction_ts</th>\n",
       "      <th>reviewer_age</th>\n",
       "      <th>reviewer_gender</th>\n",
       "      <th>product_category</th>\n",
       "      <th>language</th>\n",
       "      <th>text</th>\n",
       "      <th>text_vector</th>\n",
       "      <th>label</th>\n",
       "      <th>pred_label</th>\n",
       "    </tr>\n",
       "  </thead>\n",
       "  <tbody>\n",
       "    <tr>\n",
       "      <th>0</th>\n",
       "      <td>1.650092e+09</td>\n",
       "      <td>21</td>\n",
       "      <td>female</td>\n",
       "      <td>apparel</td>\n",
       "      <td>english</td>\n",
       "      <td>Poor quality of fabric and ridiculously tight ...</td>\n",
       "      <td>[-0.070516996, 0.6640034, 0.33579218, -0.26907...</td>\n",
       "      <td>negative</td>\n",
       "      <td>negative</td>\n",
       "    </tr>\n",
       "    <tr>\n",
       "      <th>1</th>\n",
       "      <td>1.650093e+09</td>\n",
       "      <td>29</td>\n",
       "      <td>male</td>\n",
       "      <td>kitchen</td>\n",
       "      <td>english</td>\n",
       "      <td>Love these glasses, thought they'd be everyday...</td>\n",
       "      <td>[-0.0024410924, -0.5406275, 0.31713492, -0.033...</td>\n",
       "      <td>positive</td>\n",
       "      <td>positive</td>\n",
       "    </tr>\n",
       "    <tr>\n",
       "      <th>2</th>\n",
       "      <td>1.650093e+09</td>\n",
       "      <td>26</td>\n",
       "      <td>female</td>\n",
       "      <td>sports</td>\n",
       "      <td>english</td>\n",
       "      <td>These are disgusting, it tastes like you are \"...</td>\n",
       "      <td>[0.40487882, 0.8235396, 0.38333943, -0.4269158...</td>\n",
       "      <td>negative</td>\n",
       "      <td>negative</td>\n",
       "    </tr>\n",
       "    <tr>\n",
       "      <th>3</th>\n",
       "      <td>1.650093e+09</td>\n",
       "      <td>26</td>\n",
       "      <td>male</td>\n",
       "      <td>other</td>\n",
       "      <td>english</td>\n",
       "      <td>My husband has a pair of TaoTronics so I decid...</td>\n",
       "      <td>[0.018816521, 0.53441304, 0.4907303, -0.024163...</td>\n",
       "      <td>neutral</td>\n",
       "      <td>neutral</td>\n",
       "    </tr>\n",
       "    <tr>\n",
       "      <th>4</th>\n",
       "      <td>1.650093e+09</td>\n",
       "      <td>37</td>\n",
       "      <td>male</td>\n",
       "      <td>home_improvement</td>\n",
       "      <td>english</td>\n",
       "      <td>Threads too deep. Engages on tank, but gasket ...</td>\n",
       "      <td>[-0.25348073, 0.31603432, 0.35810202, -0.24672...</td>\n",
       "      <td>negative</td>\n",
       "      <td>negative</td>\n",
       "    </tr>\n",
       "  </tbody>\n",
       "</table>\n",
       "</div>"
      ],
      "text/plain": [
       "   prediction_ts  reviewer_age reviewer_gender  product_category language  \\\n",
       "0   1.650092e+09            21          female           apparel  english   \n",
       "1   1.650093e+09            29            male           kitchen  english   \n",
       "2   1.650093e+09            26          female            sports  english   \n",
       "3   1.650093e+09            26            male             other  english   \n",
       "4   1.650093e+09            37            male  home_improvement  english   \n",
       "\n",
       "                                                text  \\\n",
       "0  Poor quality of fabric and ridiculously tight ...   \n",
       "1  Love these glasses, thought they'd be everyday...   \n",
       "2  These are disgusting, it tastes like you are \"...   \n",
       "3  My husband has a pair of TaoTronics so I decid...   \n",
       "4  Threads too deep. Engages on tank, but gasket ...   \n",
       "\n",
       "                                         text_vector     label pred_label  \n",
       "0  [-0.070516996, 0.6640034, 0.33579218, -0.26907...  negative   negative  \n",
       "1  [-0.0024410924, -0.5406275, 0.31713492, -0.033...  positive   positive  \n",
       "2  [0.40487882, 0.8235396, 0.38333943, -0.4269158...  negative   negative  \n",
       "3  [0.018816521, 0.53441304, 0.4907303, -0.024163...   neutral    neutral  \n",
       "4  [-0.25348073, 0.31603432, 0.35810202, -0.24672...  negative   negative  "
      ]
     },
     "execution_count": 3,
     "metadata": {},
     "output_type": "execute_result"
    }
   ],
   "source": [
    "train_ds.head()"
   ]
  },
  {
   "cell_type": "code",
   "execution_count": 4,
   "metadata": {},
   "outputs": [
    {
     "ename": "NameError",
     "evalue": "name 'cacacaca' is not defined",
     "output_type": "error",
     "traceback": [
      "\u001b[0;31m---------------------------------------------------------------------------\u001b[0m",
      "\u001b[0;31mNameError\u001b[0m                                 Traceback (most recent call last)",
      "Cell \u001b[0;32mIn[4], line 1\u001b[0m\n\u001b[0;32m----> 1\u001b[0m \u001b[43mcacacaca\u001b[49m\n",
      "\u001b[0;31mNameError\u001b[0m: name 'cacacaca' is not defined"
     ]
    }
   ],
   "source": [
    "cacacaca"
   ]
  },
  {
   "cell_type": "code",
   "execution_count": 5,
   "metadata": {},
   "outputs": [],
   "source": [
    "ds = Dataset.from_hdf(\n",
    "    f\"./fixtures/{test_local_filename}.hdf5\", schema=schema, keys=[\"training\", \"production\"]\n",
    ")"
   ]
  },
  {
   "cell_type": "code",
   "execution_count": null,
   "metadata": {},
   "outputs": [],
   "source": [
    "ds"
   ]
  },
  {
   "cell_type": "code",
   "execution_count": null,
   "metadata": {},
   "outputs": [],
   "source": [
    "from typing import Any, List, Literal, Optional, Sequence, TypeVar\n",
    "\n",
    "\n",
    "T = TypeVar(\"T\", bound=type[Any])\n",
    "\n",
    "\n",
    "def list_of(lst: Sequence[object], tp: T) -> bool:\n",
    "    return isinstance(lst, list) and all(isinstance(x, tp) for x in lst)"
   ]
  },
  {
   "cell_type": "code",
   "execution_count": null,
   "metadata": {},
   "outputs": [],
   "source": [
    "x = [\"x\", \"y\"]"
   ]
  },
  {
   "cell_type": "code",
   "execution_count": null,
   "metadata": {},
   "outputs": [],
   "source": [
    "list_of(x, str)"
   ]
  },
  {
   "cell_type": "markdown",
   "metadata": {},
   "source": [
    "## Obtain the point cloud\n"
   ]
  },
  {
   "cell_type": "code",
   "execution_count": null,
   "metadata": {},
   "outputs": [],
   "source": [
    "UMAP_hyperparameters = {\n",
    "    \"n_components\": 3,\n",
    "    \"min_dist\": 0,\n",
    "}\n",
    "projector = UMAPProjector(hyperparameters=UMAP_hyperparameters)\n",
    "primary_pts, reference_pts, clusters = projector.project(prod_ds, train_ds, \"embedding_feature\")\n",
    "pc = DriftPointCloud(primary_pts, reference_pts, clusters)"
   ]
  },
  {
   "cell_type": "code",
   "execution_count": null,
   "metadata": {},
   "outputs": [],
   "source": [
    "widget = UMAPWidget(pc.to_json())\n",
    "widget.show()"
   ]
  }
 ],
 "metadata": {
  "kernelspec": {
   "display_name": "Python 3 (ipykernel)",
   "language": "python",
   "name": "python3"
  },
  "language_info": {
   "codemirror_mode": {
    "name": "ipython",
    "version": 3
   },
   "file_extension": ".py",
   "mimetype": "text/x-python",
   "name": "python",
   "nbconvert_exporter": "python",
   "pygments_lexer": "ipython3",
   "version": "3.10.0"
  },
  "vscode": {
   "interpreter": {
    "hash": "f8476af36f82f278d0224c299b3c84ccca1fb7344702eda80d935d8f2c34d234"
   }
  }
 },
 "nbformat": 4,
 "nbformat_minor": 2
}
