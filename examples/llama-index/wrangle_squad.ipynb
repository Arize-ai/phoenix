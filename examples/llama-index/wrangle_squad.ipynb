{
 "cells": [
  {
   "cell_type": "code",
   "execution_count": 1,
   "metadata": {},
   "outputs": [],
   "source": [
    "from build_database import download_squad_training_data"
   ]
  },
  {
   "cell_type": "code",
   "execution_count": null,
   "metadata": {},
   "outputs": [],
   "source": [
    "database_df, query_df = download_squad_training_data()\n",
    "database_df = database_df.sample(n=2500).reset_index(drop=True)\n",
    "database_df[[\"granular_subject\", \"paragraph_index\"]]"
   ]
  }
 ],
 "metadata": {
  "kernelspec": {
   "display_name": "phoenixdev",
   "language": "python",
   "name": "python3"
  },
  "language_info": {
   "codemirror_mode": {
    "name": "ipython",
    "version": 3
   },
   "file_extension": ".py",
   "mimetype": "text/x-python",
   "name": "python",
   "nbconvert_exporter": "python",
   "pygments_lexer": "ipython3",
   "version": "3.8.15"
  },
  "orig_nbformat": 4
 },
 "nbformat": 4,
 "nbformat_minor": 2
}
