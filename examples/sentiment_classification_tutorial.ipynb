{
 "cells": [
  {
   "cell_type": "markdown",
   "metadata": {},
   "source": [
    "# <center>Phoenix in Flight</center>\n",
    "## <center>Investigating Embedding Drift for a Sentiment Classification Model</center>\n",
    "\n",
    "Imagine you're in charge of maintaining a model that takes as input online reviews of your U.S.-based product and classifies the sentiment of each review as positive, negative, or neutral. Your model initially performs well in production, but its performance gradually degrades over time.\n",
    "\n",
    "Phoenix helps you surface the reason for this regression by analyzing the *embeddings* representing the text of each review. Your model was trained on English reviews, but as you'll discover, it's encountering Spanish reviews in production that it can't correctly classify.\n",
    "\n",
    "According to our research, embedding drift often precedes performance degradation. So Phoenix can help you proactively detect and fix this issue before it becomes noticable to your users.\n",
    "\n",
    "In this tutorial, you will:\n",
    "* Download curated datasets of embeddings and predictions\n",
    "* Visually explore embeddings in Phoenix\n",
    "* Investigate problematic clusters\n",
    "* Export data for labeling and re-training\n",
    "\n",
    "Let's get started!"
   ]
  },
  {
   "cell_type": "markdown",
   "metadata": {},
   "source": [
    "### 1. Install Dependencies and Import Libraries 📚"
   ]
  },
  {
   "cell_type": "code",
   "execution_count": 1,
   "metadata": {},
   "outputs": [],
   "source": [
    "# %pip install -q arize-phoenix\n",
    "\n",
    "import pandas as pd\n",
    "import phoenix as px\n",
    "from phoenix.datasets import Dataset, EmbeddingColumnNames, Schema"
   ]
  },
  {
   "cell_type": "markdown",
   "metadata": {},
   "source": [
    "### 2. Download the Data 📊\n",
    "\n",
    "Load your training and production data into two pandas dataframes and inspect a few rows of the training dataframe."
   ]
  },
  {
   "cell_type": "code",
   "execution_count": 2,
   "metadata": {},
   "outputs": [
    {
     "data": {
      "text/html": [
       "<div>\n",
       "<style scoped>\n",
       "    .dataframe tbody tr th:only-of-type {\n",
       "        vertical-align: middle;\n",
       "    }\n",
       "\n",
       "    .dataframe tbody tr th {\n",
       "        vertical-align: top;\n",
       "    }\n",
       "\n",
       "    .dataframe thead th {\n",
       "        text-align: right;\n",
       "    }\n",
       "</style>\n",
       "<table border=\"1\" class=\"dataframe\">\n",
       "  <thead>\n",
       "    <tr style=\"text-align: right;\">\n",
       "      <th></th>\n",
       "      <th>prediction_ts</th>\n",
       "      <th>reviewer_age</th>\n",
       "      <th>reviewer_gender</th>\n",
       "      <th>product_category</th>\n",
       "      <th>language</th>\n",
       "      <th>text</th>\n",
       "      <th>text_vector</th>\n",
       "      <th>label</th>\n",
       "      <th>pred_label</th>\n",
       "    </tr>\n",
       "  </thead>\n",
       "  <tbody>\n",
       "    <tr>\n",
       "      <th>0</th>\n",
       "      <td>1.650092e+09</td>\n",
       "      <td>21</td>\n",
       "      <td>female</td>\n",
       "      <td>apparel</td>\n",
       "      <td>english</td>\n",
       "      <td>Poor quality of fabric and ridiculously tight ...</td>\n",
       "      <td>[-0.070516996, 0.6640034, 0.33579218, -0.26907...</td>\n",
       "      <td>negative</td>\n",
       "      <td>negative</td>\n",
       "    </tr>\n",
       "    <tr>\n",
       "      <th>1</th>\n",
       "      <td>1.650093e+09</td>\n",
       "      <td>29</td>\n",
       "      <td>male</td>\n",
       "      <td>kitchen</td>\n",
       "      <td>english</td>\n",
       "      <td>Love these glasses, thought they'd be everyday...</td>\n",
       "      <td>[-0.0024410924, -0.5406275, 0.31713492, -0.033...</td>\n",
       "      <td>positive</td>\n",
       "      <td>positive</td>\n",
       "    </tr>\n",
       "    <tr>\n",
       "      <th>2</th>\n",
       "      <td>1.650093e+09</td>\n",
       "      <td>26</td>\n",
       "      <td>female</td>\n",
       "      <td>sports</td>\n",
       "      <td>english</td>\n",
       "      <td>These are disgusting, it tastes like you are \"...</td>\n",
       "      <td>[0.40487882, 0.8235396, 0.38333943, -0.4269158...</td>\n",
       "      <td>negative</td>\n",
       "      <td>negative</td>\n",
       "    </tr>\n",
       "    <tr>\n",
       "      <th>3</th>\n",
       "      <td>1.650093e+09</td>\n",
       "      <td>26</td>\n",
       "      <td>male</td>\n",
       "      <td>other</td>\n",
       "      <td>english</td>\n",
       "      <td>My husband has a pair of TaoTronics so I decid...</td>\n",
       "      <td>[0.018816521, 0.53441304, 0.4907303, -0.024163...</td>\n",
       "      <td>neutral</td>\n",
       "      <td>neutral</td>\n",
       "    </tr>\n",
       "    <tr>\n",
       "      <th>4</th>\n",
       "      <td>1.650093e+09</td>\n",
       "      <td>37</td>\n",
       "      <td>male</td>\n",
       "      <td>home_improvement</td>\n",
       "      <td>english</td>\n",
       "      <td>Threads too deep. Engages on tank, but gasket ...</td>\n",
       "      <td>[-0.25348073, 0.31603432, 0.35810202, -0.24672...</td>\n",
       "      <td>negative</td>\n",
       "      <td>negative</td>\n",
       "    </tr>\n",
       "  </tbody>\n",
       "</table>\n",
       "</div>"
      ],
      "text/plain": [
       "   prediction_ts  reviewer_age reviewer_gender  product_category language  \\\n",
       "0   1.650092e+09            21          female           apparel  english   \n",
       "1   1.650093e+09            29            male           kitchen  english   \n",
       "2   1.650093e+09            26          female            sports  english   \n",
       "3   1.650093e+09            26            male             other  english   \n",
       "4   1.650093e+09            37            male  home_improvement  english   \n",
       "\n",
       "                                                text  \\\n",
       "0  Poor quality of fabric and ridiculously tight ...   \n",
       "1  Love these glasses, thought they'd be everyday...   \n",
       "2  These are disgusting, it tastes like you are \"...   \n",
       "3  My husband has a pair of TaoTronics so I decid...   \n",
       "4  Threads too deep. Engages on tank, but gasket ...   \n",
       "\n",
       "                                         text_vector     label pred_label  \n",
       "0  [-0.070516996, 0.6640034, 0.33579218, -0.26907...  negative   negative  \n",
       "1  [-0.0024410924, -0.5406275, 0.31713492, -0.033...  positive   positive  \n",
       "2  [0.40487882, 0.8235396, 0.38333943, -0.4269158...  negative   negative  \n",
       "3  [0.018816521, 0.53441304, 0.4907303, -0.024163...   neutral    neutral  \n",
       "4  [-0.25348073, 0.31603432, 0.35810202, -0.24672...  negative   negative  "
      ]
     },
     "execution_count": 2,
     "metadata": {},
     "output_type": "execute_result"
    }
   ],
   "source": [
    "training_dataframe = pd.read_parquet(\n",
    "    \"https://storage.googleapis.com/arize-assets/phoenix/datasets/unstructured/nlp/sentiment-classification-language-drift/sentiment_classification_language_drift_training.parquet\",\n",
    ")\n",
    "production_dataframe = pd.read_parquet(\n",
    "    \"https://storage.googleapis.com/arize-assets/phoenix/datasets/unstructured/nlp/sentiment-classification-language-drift/sentiment_classification_language_drift_production.parquet\",\n",
    ")\n",
    "training_dataframe.head()"
   ]
  },
  {
   "cell_type": "markdown",
   "metadata": {},
   "source": [
    "The columns of the dataframe are:\n",
    "- **prediction_ts:** the Unix timestamps of your predictions\n",
    "- **review_age**, **reviewer_gender**, **product_category**, **language:** the features of your model\n",
    "- **text:** the text of each review\n",
    "- **text_vector:** the embedding vectors representing each review\n",
    "- **pred_label:** the label your model predicted\n",
    "- **label:** the ground-truth label for each review"
   ]
  },
  {
   "cell_type": "markdown",
   "metadata": {},
   "source": [
    "### 3. Launch Phoenix 🔥🐦"
   ]
  },
  {
   "cell_type": "markdown",
   "metadata": {},
   "source": [
    "#### a) Define Your Schema\n",
    "\n",
    "To launch Phoenix with your data, you first need to define a schema that tells Phoenix which columns of your dataframes correspond to features, predictions, actuals (i.e., ground truth), embeddings, etc.\n",
    "\n",
    "The trickiest part is defining embedding features. In this case, each embedding feature has two pieces of information: the embedding vector itself contained in the \"text_vector\" column and the review text contained in the \"text\" column."
   ]
  },
  {
   "cell_type": "code",
   "execution_count": 3,
   "metadata": {},
   "outputs": [],
   "source": [
    "embedding_features = {\n",
    "    \"text_embedding\": EmbeddingColumnNames(\n",
    "        vector_column_name=\"text_vector\", raw_data_column_name=\"text\"\n",
    "    ),\n",
    "}\n",
    "schema = Schema(\n",
    "    timestamp_column_name=\"prediction_ts\",\n",
    "    prediction_label_column_name=\"pred_label\",\n",
    "    actual_label_column_name=\"label\",\n",
    "    embedding_feature_column_names=embedding_features,\n",
    ")"
   ]
  },
  {
   "cell_type": "markdown",
   "metadata": {},
   "source": [
    "You'll notice that the schema above doesn't explicitly specify features. That's because feature columns are automatically inferred if you don't pass `feature_column_names` to your `Schema` object."
   ]
  },
  {
   "cell_type": "markdown",
   "metadata": {},
   "source": [
    "#### b) Define Your Datasets \n",
    "Next, define your primary and reference datasets. In this case, your reference dataset contains training data and your primary dataset contains production data."
   ]
  },
  {
   "cell_type": "code",
   "execution_count": 4,
   "metadata": {},
   "outputs": [
    {
     "name": "stdout",
     "output_type": "stream",
     "text": [
      "Dataset info written to '/Users/mikeldking/.phoenix/datasets/primary'\n",
      "Dataset already persisted\n",
      "Dataset: primary initialized\n",
      "Dataset info written to '/Users/mikeldking/.phoenix/datasets/reference'\n",
      "Dataset already persisted\n",
      "Dataset: reference initialized\n"
     ]
    }
   ],
   "source": [
    "primary_dataset = Dataset(dataframe=production_dataframe, schema=schema, name=\"primary\")\n",
    "reference_dataset = Dataset(dataframe=training_dataframe, schema=schema, name=\"reference\")"
   ]
  },
  {
   "cell_type": "markdown",
   "metadata": {},
   "source": [
    "#### c) Create a Phoenix Session"
   ]
  },
  {
   "cell_type": "code",
   "execution_count": 5,
   "metadata": {},
   "outputs": [],
   "source": [
    "session = px.launch_app(primary=primary_dataset, reference=reference_dataset)"
   ]
  },
  {
   "cell_type": "markdown",
   "metadata": {},
   "source": [
    "#### d) Launch the Phoenix UI"
   ]
  },
  {
   "cell_type": "code",
   "execution_count": 7,
   "metadata": {},
   "outputs": [
    {
     "data": {
      "text/html": [
       "\n",
       "        <iframe\n",
       "            width=\"100%\"\n",
       "            height=\"500\"\n",
       "            src=\"http://localhost:6060/\"\n",
       "            frameborder=\"0\"\n",
       "            allowfullscreen\n",
       "            \n",
       "        ></iframe>\n",
       "        "
      ],
      "text/plain": [
       "<IPython.lib.display.IFrame at 0x14211b3d0>"
      ]
     },
     "execution_count": 7,
     "metadata": {},
     "output_type": "execute_result"
    },
    {
     "name": "stdout",
     "output_type": "stream",
     "text": [
      "Starting Phoenix App\n",
      "            primary dataset: primary\n",
      "            reference dataset: reference\n",
      "INFO:     127.0.0.1:59743 - \"GET / HTTP/1.1\" 200 OK\n",
      "INFO:     127.0.0.1:59743 - \"GET /index.js HTTP/1.1\" 200 OK\n",
      "INFO:     127.0.0.1:59743 - \"POST /graphql HTTP/1.1\" 200 OK\n",
      "INFO:     127.0.0.1:59743 - \"POST /graphql HTTP/1.1\" 200 OK\n",
      "node: EmbeddingDimension 0\n",
      "INFO:     127.0.0.1:59743 - \"POST /graphql HTTP/1.1\" 200 OK\n",
      "node: EmbeddingDimension 0\n",
      "INFO:     127.0.0.1:59743 - \"POST /graphql HTTP/1.1\" 200 OK\n"
     ]
    },
    {
     "name": "stderr",
     "output_type": "stream",
     "text": [
      "Invalid comparison between dtype=datetime64[ns] and Timestamp\n",
      "\n",
      "GraphQL request:9:7\n",
      " 8 |     ... on EmbeddingDimension {\n",
      " 9 |       driftTimeSeries(metric: euclideanDistance, timeRange: $timeRange) {\n",
      "   |       ^\n",
      "10 |         data {\n",
      "Traceback (most recent call last):\n",
      "  File \"/Users/mikeldking/.virtualenvs/phoenix/lib/python3.10/site-packages/pandas/core/arrays/datetimelike.py\", line 582, in _validate_comparison_value\n",
      "    self._check_compatible_with(other)\n",
      "  File \"/Users/mikeldking/.virtualenvs/phoenix/lib/python3.10/site-packages/pandas/core/arrays/datetimes.py\", line 461, in _check_compatible_with\n",
      "    self._assert_tzawareness_compat(other)\n",
      "  File \"/Users/mikeldking/.virtualenvs/phoenix/lib/python3.10/site-packages/pandas/core/arrays/datetimes.py\", line 694, in _assert_tzawareness_compat\n",
      "    raise TypeError(\n",
      "TypeError: Cannot compare tz-naive and tz-aware datetime-like objects.\n",
      "\n",
      "The above exception was the direct cause of the following exception:\n",
      "\n",
      "Traceback (most recent call last):\n",
      "  File \"/Users/mikeldking/.virtualenvs/phoenix/lib/python3.10/site-packages/pandas/core/arrays/datetimelike.py\", line 1054, in _cmp_method\n",
      "    other = self._validate_comparison_value(other)\n",
      "  File \"/Users/mikeldking/.virtualenvs/phoenix/lib/python3.10/site-packages/pandas/core/arrays/datetimelike.py\", line 585, in _validate_comparison_value\n",
      "    raise InvalidComparison(other) from err\n",
      "pandas.core.arrays.datetimelike.InvalidComparison: 1970-01-17 09:43:08.416000+00:00\n",
      "\n",
      "During handling of the above exception, another exception occurred:\n",
      "\n",
      "Traceback (most recent call last):\n",
      "  File \"/Users/mikeldking/.virtualenvs/phoenix/lib/python3.10/site-packages/graphql/execution/execute.py\", line 521, in execute_field\n",
      "    result = resolve_fn(source, info, **args)\n",
      "  File \"/Users/mikeldking/.virtualenvs/phoenix/lib/python3.10/site-packages/strawberry/schema/schema_converter.py\", line 519, in _resolver\n",
      "    return _get_result(_source, strawberry_info, **kwargs)\n",
      "  File \"/Users/mikeldking/.virtualenvs/phoenix/lib/python3.10/site-packages/strawberry/schema/schema_converter.py\", line 511, in _get_result\n",
      "    return field.get_result(\n",
      "  File \"/Users/mikeldking/.virtualenvs/phoenix/lib/python3.10/site-packages/strawberry/field.py\", line 169, in get_result\n",
      "    return self.base_resolver(*args, **kwargs)\n",
      "  File \"/Users/mikeldking/.virtualenvs/phoenix/lib/python3.10/site-packages/strawberry/types/fields/resolver.py\", line 186, in __call__\n",
      "    return self.wrapped_func(*args, **kwargs)\n",
      "  File \"/Users/mikeldking/work/phoenix/src/phoenix/server/api/types/EmbeddingDimension.py\", line 142, in drift_time_series\n",
      "    primary_embeddings = _get_embeddings_array_for_time_range(\n",
      "  File \"/Users/mikeldking/work/phoenix/src/phoenix/server/api/types/EmbeddingDimension.py\", line 338, in _get_embeddings_array_for_time_range\n",
      "    embeddings_column = dataframe.query(query).embeddings\n",
      "  File \"/Users/mikeldking/.virtualenvs/phoenix/lib/python3.10/site-packages/pandas/util/_decorators.py\", line 331, in wrapper\n",
      "    return func(*args, **kwargs)\n",
      "  File \"/Users/mikeldking/.virtualenvs/phoenix/lib/python3.10/site-packages/pandas/core/frame.py\", line 4471, in query\n",
      "    res = self.eval(expr, **kwargs)\n",
      "  File \"/Users/mikeldking/.virtualenvs/phoenix/lib/python3.10/site-packages/pandas/util/_decorators.py\", line 331, in wrapper\n",
      "    return func(*args, **kwargs)\n",
      "  File \"/Users/mikeldking/.virtualenvs/phoenix/lib/python3.10/site-packages/pandas/core/frame.py\", line 4609, in eval\n",
      "    return _eval(expr, inplace=inplace, **kwargs)\n",
      "  File \"/Users/mikeldking/.virtualenvs/phoenix/lib/python3.10/site-packages/pandas/core/computation/eval.py\", line 353, in eval\n",
      "    parsed_expr = Expr(expr, engine=engine, parser=parser, env=env)\n",
      "  File \"/Users/mikeldking/.virtualenvs/phoenix/lib/python3.10/site-packages/pandas/core/computation/expr.py\", line 813, in __init__\n",
      "    self.terms = self.parse()\n",
      "  File \"/Users/mikeldking/.virtualenvs/phoenix/lib/python3.10/site-packages/pandas/core/computation/expr.py\", line 832, in parse\n",
      "    return self._visitor.visit(self.expr)\n",
      "  File \"/Users/mikeldking/.virtualenvs/phoenix/lib/python3.10/site-packages/pandas/core/computation/expr.py\", line 415, in visit\n",
      "    return visitor(node, **kwargs)\n",
      "  File \"/Users/mikeldking/.virtualenvs/phoenix/lib/python3.10/site-packages/pandas/core/computation/expr.py\", line 421, in visit_Module\n",
      "    return self.visit(expr, **kwargs)\n",
      "  File \"/Users/mikeldking/.virtualenvs/phoenix/lib/python3.10/site-packages/pandas/core/computation/expr.py\", line 415, in visit\n",
      "    return visitor(node, **kwargs)\n",
      "  File \"/Users/mikeldking/.virtualenvs/phoenix/lib/python3.10/site-packages/pandas/core/computation/expr.py\", line 424, in visit_Expr\n",
      "    return self.visit(node.value, **kwargs)\n",
      "  File \"/Users/mikeldking/.virtualenvs/phoenix/lib/python3.10/site-packages/pandas/core/computation/expr.py\", line 415, in visit\n",
      "    return visitor(node, **kwargs)\n",
      "  File \"/Users/mikeldking/.virtualenvs/phoenix/lib/python3.10/site-packages/pandas/core/computation/expr.py\", line 729, in visit_Compare\n",
      "    new_node = self.visit(\n",
      "  File \"/Users/mikeldking/.virtualenvs/phoenix/lib/python3.10/site-packages/pandas/core/computation/expr.py\", line 415, in visit\n",
      "    return visitor(node, **kwargs)\n",
      "  File \"/Users/mikeldking/.virtualenvs/phoenix/lib/python3.10/site-packages/pandas/core/computation/expr.py\", line 723, in visit_Compare\n",
      "    return self.visit(binop)\n",
      "  File \"/Users/mikeldking/.virtualenvs/phoenix/lib/python3.10/site-packages/pandas/core/computation/expr.py\", line 415, in visit\n",
      "    return visitor(node, **kwargs)\n",
      "  File \"/Users/mikeldking/.virtualenvs/phoenix/lib/python3.10/site-packages/pandas/core/computation/expr.py\", line 538, in visit_BinOp\n",
      "    return self._maybe_evaluate_binop(op, op_class, left, right)\n",
      "  File \"/Users/mikeldking/.virtualenvs/phoenix/lib/python3.10/site-packages/pandas/core/computation/expr.py\", line 520, in _maybe_evaluate_binop\n",
      "    return self._maybe_eval(res, self.binary_ops)\n",
      "  File \"/Users/mikeldking/.virtualenvs/phoenix/lib/python3.10/site-packages/pandas/core/computation/expr.py\", line 492, in _maybe_eval\n",
      "    return binop.evaluate(\n",
      "  File \"/Users/mikeldking/.virtualenvs/phoenix/lib/python3.10/site-packages/pandas/core/computation/ops.py\", line 427, in evaluate\n",
      "    res = self(env)\n",
      "  File \"/Users/mikeldking/.virtualenvs/phoenix/lib/python3.10/site-packages/pandas/core/computation/ops.py\", line 407, in __call__\n",
      "    return self.func(left, right)\n",
      "  File \"/Users/mikeldking/.virtualenvs/phoenix/lib/python3.10/site-packages/pandas/core/ops/common.py\", line 72, in new_method\n",
      "    return method(self, other)\n",
      "  File \"/Users/mikeldking/.virtualenvs/phoenix/lib/python3.10/site-packages/pandas/core/arraylike.py\", line 62, in __ge__\n",
      "    return self._cmp_method(other, operator.ge)\n",
      "  File \"/Users/mikeldking/.virtualenvs/phoenix/lib/python3.10/site-packages/pandas/core/series.py\", line 6243, in _cmp_method\n",
      "    res_values = ops.comparison_op(lvalues, rvalues, op)\n",
      "  File \"/Users/mikeldking/.virtualenvs/phoenix/lib/python3.10/site-packages/pandas/core/ops/array_ops.py\", line 273, in comparison_op\n",
      "    res_values = op(lvalues, rvalues)\n",
      "  File \"/Users/mikeldking/.virtualenvs/phoenix/lib/python3.10/site-packages/pandas/core/ops/common.py\", line 72, in new_method\n",
      "    return method(self, other)\n",
      "  File \"/Users/mikeldking/.virtualenvs/phoenix/lib/python3.10/site-packages/pandas/core/arraylike.py\", line 62, in __ge__\n",
      "    return self._cmp_method(other, operator.ge)\n",
      "  File \"/Users/mikeldking/.virtualenvs/phoenix/lib/python3.10/site-packages/pandas/core/arrays/datetimelike.py\", line 1056, in _cmp_method\n",
      "    return invalid_comparison(self, other, op)\n",
      "  File \"/Users/mikeldking/.virtualenvs/phoenix/lib/python3.10/site-packages/pandas/core/ops/invalid.py\", line 36, in invalid_comparison\n",
      "    raise TypeError(f\"Invalid comparison between dtype={left.dtype} and {typ}\")\n",
      "TypeError: Invalid comparison between dtype=datetime64[ns] and Timestamp\n",
      "Stack (most recent call last):\n",
      "  File \"/Users/mikeldking/work/phoenix/src/phoenix/server/main.py\", line 84, in <module>\n",
      "    uvicorn.run(app, port=args.port)\n",
      "  File \"/Users/mikeldking/.virtualenvs/phoenix/lib/python3.10/site-packages/uvicorn/main.py\", line 569, in run\n",
      "    server.run()\n",
      "  File \"/Users/mikeldking/.virtualenvs/phoenix/lib/python3.10/site-packages/uvicorn/server.py\", line 60, in run\n",
      "    return asyncio.run(self.serve(sockets=sockets))\n",
      "  File \"/Users/mikeldking/.pyenv/versions/3.10.3/lib/python3.10/asyncio/runners.py\", line 44, in run\n",
      "    return loop.run_until_complete(main)\n",
      "  File \"/Users/mikeldking/.pyenv/versions/3.10.3/lib/python3.10/asyncio/base_events.py\", line 633, in run_until_complete\n",
      "    self.run_forever()\n",
      "  File \"/Users/mikeldking/.pyenv/versions/3.10.3/lib/python3.10/asyncio/base_events.py\", line 600, in run_forever\n",
      "    self._run_once()\n",
      "  File \"/Users/mikeldking/.pyenv/versions/3.10.3/lib/python3.10/asyncio/base_events.py\", line 1896, in _run_once\n",
      "    handle._run()\n",
      "  File \"/Users/mikeldking/.pyenv/versions/3.10.3/lib/python3.10/asyncio/events.py\", line 80, in _run\n",
      "    self._context.run(self._callback, *self._args)\n",
      "  File \"/Users/mikeldking/.virtualenvs/phoenix/lib/python3.10/site-packages/starlette/middleware/base.py\", line 69, in coro\n",
      "    await self.app(scope, receive_or_disconnect, send_no_error)\n",
      "  File \"/Users/mikeldking/.virtualenvs/phoenix/lib/python3.10/site-packages/starlette/middleware/exceptions.py\", line 68, in __call__\n",
      "    await self.app(scope, receive, sender)\n",
      "  File \"/Users/mikeldking/.virtualenvs/phoenix/lib/python3.10/site-packages/starlette/routing.py\", line 706, in __call__\n",
      "    await route.handle(scope, receive, send)\n",
      "  File \"/Users/mikeldking/.virtualenvs/phoenix/lib/python3.10/site-packages/starlette/routing.py\", line 276, in handle\n",
      "    await self.app(scope, receive, send)\n",
      "  File \"/Users/mikeldking/.virtualenvs/phoenix/lib/python3.10/site-packages/strawberry/asgi/__init__.py\", line 48, in __call__\n",
      "    await self.http_handler_class(\n",
      "  File \"/Users/mikeldking/.virtualenvs/phoenix/lib/python3.10/site-packages/strawberry/asgi/handlers/http_handler.py\", line 50, in handle\n",
      "    response = await self.get_http_response(\n",
      "  File \"/Users/mikeldking/.virtualenvs/phoenix/lib/python3.10/site-packages/strawberry/asgi/handlers/http_handler.py\", line 148, in get_http_response\n",
      "    result = await execute(\n",
      "  File \"/Users/mikeldking/.virtualenvs/phoenix/lib/python3.10/site-packages/strawberry/asgi/handlers/http_handler.py\", line 201, in execute\n",
      "    return await self.schema.execute(\n",
      "  File \"/Users/mikeldking/.virtualenvs/phoenix/lib/python3.10/site-packages/strawberry/schema/schema.py\", line 226, in execute\n",
      "    result = await execute(\n",
      "  File \"/Users/mikeldking/.virtualenvs/phoenix/lib/python3.10/site-packages/strawberry/schema/execute.py\", line 144, in execute\n",
      "    process_errors(result.errors, execution_context)\n"
     ]
    },
    {
     "name": "stdout",
     "output_type": "stream",
     "text": [
      "node: EmbeddingDimension 0\n",
      "INFO:     127.0.0.1:59766 - \"POST /graphql HTTP/1.1\" 200 OK\n"
     ]
    }
   ],
   "source": [
    "session.view()"
   ]
  },
  {
   "cell_type": "markdown",
   "metadata": {},
   "source": [
    "### 4. Explore Your Data 📈\n",
    "\n",
    "Phoenix is under active development. At the moment, we display your model schema and a few data quality statistics. Check back soon for more updates."
   ]
  },
  {
   "cell_type": "markdown",
   "metadata": {},
   "source": [
    "### 5. Close the App 🧹\n",
    "\n",
    "When you're done, don't forget to close the app."
   ]
  },
  {
   "cell_type": "code",
   "execution_count": null,
   "metadata": {},
   "outputs": [],
   "source": [
    "px.close_app()"
   ]
  }
 ],
 "metadata": {
  "kernelspec": {
   "display_name": "Python 3 (ipykernel)",
   "language": "python",
   "name": "python3"
  },
  "language_info": {
   "codemirror_mode": {
    "name": "ipython",
    "version": 3
   },
   "file_extension": ".py",
   "mimetype": "text/x-python",
   "name": "python",
   "nbconvert_exporter": "python",
   "pygments_lexer": "ipython3",
   "version": "3.10.3"
  },
  "vscode": {
   "interpreter": {
    "hash": "376112051f594f6e24fa74b51812fe15f3714622b4054162117957862f7bf942"
   }
  }
 },
 "nbformat": 4,
 "nbformat_minor": 2
}
