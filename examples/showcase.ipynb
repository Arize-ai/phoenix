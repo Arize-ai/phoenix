{
 "cells": [
  {
   "cell_type": "code",
   "execution_count": 1,
   "metadata": {},
   "outputs": [
    {
     "ename": "FileNotFoundError",
     "evalue": "[Errno 2] No such file or directory: '/Users/mikeldking/.virtualenvs/notebook/lib/python3.10/site-packages/phoenix/nbextension/static/index.js'",
     "output_type": "error",
     "traceback": [
      "\u001b[0;31m---------------------------------------------------------------------------\u001b[0m",
      "\u001b[0;31mFileNotFoundError\u001b[0m                         Traceback (most recent call last)",
      "Cell \u001b[0;32mIn [1], line 5\u001b[0m\n\u001b[1;32m      2\u001b[0m \u001b[39mfrom\u001b[39;00m \u001b[39mphoenix\u001b[39;00m\u001b[39m.\u001b[39;00m\u001b[39mdatasets\u001b[39;00m \u001b[39mimport\u001b[39;00m Dataset, Schema, EmbeddingColumnNames\n\u001b[1;32m      4\u001b[0m widget \u001b[39m=\u001b[39m UMAPWidget(demo_json())\n\u001b[0;32m----> 5\u001b[0m widget\u001b[39m.\u001b[39;49mshow()\n",
      "File \u001b[0;32m~/.virtualenvs/notebook/lib/python3.10/site-packages/phoenix/widgets/umapWidget.py:70\u001b[0m, in \u001b[0;36mUMAPWidget.show\u001b[0;34m(self)\u001b[0m\n\u001b[1;32m     69\u001b[0m \u001b[39mdef\u001b[39;00m \u001b[39mshow\u001b[39m(\u001b[39mself\u001b[39m):\n\u001b[0;32m---> 70\u001b[0m     display(HTML(\u001b[39mself\u001b[39;49m\u001b[39m.\u001b[39;49mtemplate(\u001b[39mself\u001b[39;49m\u001b[39m.\u001b[39;49mjson)))\n",
      "File \u001b[0;32m~/.virtualenvs/notebook/lib/python3.10/site-packages/phoenix/widgets/umapWidget.py:58\u001b[0m, in \u001b[0;36mUMAPWidget.template\u001b[0;34m(self, json_data)\u001b[0m\n\u001b[1;32m     55\u001b[0m \u001b[39mdef\u001b[39;00m \u001b[39mtemplate\u001b[39m(\u001b[39mself\u001b[39m, json_data: \u001b[39mstr\u001b[39m):\n\u001b[1;32m     56\u001b[0m     \u001b[39mreturn\u001b[39;00m \u001b[39mf\u001b[39m\u001b[39m\"\"\"\u001b[39m\n\u001b[1;32m     57\u001b[0m \u001b[39m    <html>\u001b[39m\n\u001b[0;32m---> 58\u001b[0m \u001b[39m        <script>\u001b[39m\u001b[39m{\u001b[39;00mload_js()\u001b[39m}\u001b[39;00m\u001b[39m</script>\u001b[39m\n\u001b[1;32m     59\u001b[0m \u001b[39m            <body>\u001b[39m\n\u001b[1;32m     60\u001b[0m \u001b[39m                <div id=\u001b[39m\u001b[39m'\u001b[39m\u001b[39mroot\u001b[39m\u001b[39m'\u001b[39m\u001b[39m>\u001b[39m\n\u001b[1;32m     61\u001b[0m \u001b[39m                </div>\u001b[39m\n\u001b[1;32m     62\u001b[0m \u001b[39m            </body>\u001b[39m\n\u001b[1;32m     63\u001b[0m \u001b[39m        <script>window.renderUMAPWidget(\u001b[39m\u001b[39m{\u001b[39;00mjson_data\u001b[39m}\u001b[39;00m\u001b[39m);</script>\u001b[39m\n\u001b[1;32m     64\u001b[0m \u001b[39m    </html>\u001b[39m\n\u001b[1;32m     65\u001b[0m \u001b[39m    \u001b[39m\u001b[39m\"\"\"\u001b[39m\n",
      "File \u001b[0;32m~/.virtualenvs/notebook/lib/python3.10/site-packages/phoenix/widgets/umapWidget.py:17\u001b[0m, in \u001b[0;36mload_js\u001b[0;34m()\u001b[0m\n\u001b[1;32m     16\u001b[0m \u001b[39mdef\u001b[39;00m \u001b[39mload_js\u001b[39m():\n\u001b[0;32m---> 17\u001b[0m     \u001b[39mreturn\u001b[39;00m \u001b[39mopen\u001b[39;49m(\n\u001b[1;32m     18\u001b[0m         os\u001b[39m.\u001b[39;49mpath\u001b[39m.\u001b[39;49mjoin(STATIC_PATH, \u001b[39m\"\u001b[39;49m\u001b[39mindex.js\u001b[39;49m\u001b[39m\"\u001b[39;49m),\n\u001b[1;32m     19\u001b[0m         encoding\u001b[39m=\u001b[39;49m\u001b[39m\"\u001b[39;49m\u001b[39mutf-8\u001b[39;49m\u001b[39m\"\u001b[39;49m,\n\u001b[1;32m     20\u001b[0m     )\u001b[39m.\u001b[39mread()\n",
      "\u001b[0;31mFileNotFoundError\u001b[0m: [Errno 2] No such file or directory: '/Users/mikeldking/.virtualenvs/notebook/lib/python3.10/site-packages/phoenix/nbextension/static/index.js'"
     ]
    }
   ],
   "source": [
    "from phoenix.widgets import UMAPWidget, demo_json\n",
    "from phoenix.datasets import Dataset, Schema, EmbeddingColumnNames\n",
    "\n",
    "widget = UMAPWidget(demo_json())\n",
    "widget.show()"
   ]
  }
 ],
 "metadata": {
  "kernelspec": {
   "display_name": "Python 3.10.3 ('notebook')",
   "language": "python",
   "name": "python3"
  },
  "language_info": {
   "codemirror_mode": {
    "name": "ipython",
    "version": 3
   },
   "file_extension": ".py",
   "mimetype": "text/x-python",
   "name": "python",
   "nbconvert_exporter": "python",
   "pygments_lexer": "ipython3",
   "version": "3.10.3"
  },
  "orig_nbformat": 4,
  "vscode": {
   "interpreter": {
    "hash": "f8476af36f82f278d0224c299b3c84ccca1fb7344702eda80d935d8f2c34d234"
   }
  }
 },
 "nbformat": 4,
 "nbformat_minor": 2
}
