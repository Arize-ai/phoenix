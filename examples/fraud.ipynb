{
 "cells": [
  {
   "cell_type": "code",
   "execution_count": null,
   "metadata": {},
   "outputs": [],
   "source": [
    "import pandas as pd\n",
    "import phoenix as px"
   ]
  },
  {
   "cell_type": "code",
   "execution_count": null,
   "metadata": {},
   "outputs": [],
   "source": [
    "# Load the data\n",
    "df = pd.read_parquet(\n",
    "    \"https://storage.googleapis.com/arize-assets/phoenix/datasets/unstructured/nlp/sentiment_classification_language_drift_production.parquet\"\n",
    ")\n",
    "df.head()"
   ]
  },
  {
   "cell_type": "code",
   "execution_count": null,
   "metadata": {},
   "outputs": [],
   "source": [
    "from phoenix.datasets import Dataset, Schema, EmbeddingColumnNames\n",
    "\n",
    "# for now let's treat all columns as features\n",
    "feature_names = df.columns.to_list()\n",
    "\n",
    "schema = Schema(\n",
    "    timestamp_column_name=\"prediction_ts\",\n",
    "    feature_column_names=[\n",
    "        \"reviewer_age\",\n",
    "        \"reviewer_gender\",\n",
    "        \"product_category\",\n",
    "        \"language\",\n",
    "    ],\n",
    "    embedding_feature_column_names={\n",
    "        \"text_embedding\": EmbeddingColumnNames(vector_column_name=\"text_vector\")\n",
    "    },\n",
    ")\n",
    "primary = Dataset(\n",
    "    df,\n",
    "    schema,\n",
    "    name=\"primary_ds\",\n",
    ")\n",
    "reference = Dataset(\n",
    "    df,\n",
    "    schema,\n",
    "    name=\"reference_ds\",\n",
    ")"
   ]
  },
  {
   "cell_type": "code",
   "execution_count": null,
   "metadata": {},
   "outputs": [],
   "source": [
    "session = px.launch_app(primary, reference)"
   ]
  },
  {
   "cell_type": "code",
   "execution_count": null,
   "metadata": {},
   "outputs": [],
   "source": [
    "session.view()"
   ]
  }
 ],
 "metadata": {
  "kernelspec": {
   "display_name": "phoenix",
   "language": "python",
   "name": "python3"
  },
  "language_info": {
   "codemirror_mode": {
    "name": "ipython",
    "version": 3
   },
   "file_extension": ".py",
   "mimetype": "text/x-python",
   "name": "python",
   "nbconvert_exporter": "python",
   "pygments_lexer": "ipython3",
   "version": "3.10.3 (main, Apr 14 2022, 13:44:37) [Clang 13.1.6 (clang-1316.0.21.2.3)]"
  },
  "vscode": {
   "interpreter": {
    "hash": "9eae564f37d2859ecf169258c01003fd2ebae94255934d49a6e0c207bb5fdb38"
   }
  }
 },
 "nbformat": 4,
 "nbformat_minor": 2
}
