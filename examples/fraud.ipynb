{
 "cells": [
  {
   "cell_type": "code",
   "execution_count": 1,
   "metadata": {},
   "outputs": [],
   "source": [
    "import pandas as pd\n",
    "import phoenix as px"
   ]
  },
  {
   "cell_type": "code",
   "execution_count": 2,
   "metadata": {},
   "outputs": [
    {
     "data": {
      "text/html": [
       "<div>\n",
       "<style scoped>\n",
       "    .dataframe tbody tr th:only-of-type {\n",
       "        vertical-align: middle;\n",
       "    }\n",
       "\n",
       "    .dataframe tbody tr th {\n",
       "        vertical-align: top;\n",
       "    }\n",
       "\n",
       "    .dataframe thead th {\n",
       "        text-align: right;\n",
       "    }\n",
       "</style>\n",
       "<table border=\"1\" class=\"dataframe\">\n",
       "  <thead>\n",
       "    <tr style=\"text-align: right;\">\n",
       "      <th></th>\n",
       "      <th>prediction_ts</th>\n",
       "      <th>reviewer_age</th>\n",
       "      <th>reviewer_gender</th>\n",
       "      <th>product_category</th>\n",
       "      <th>language</th>\n",
       "      <th>text_vector</th>\n",
       "      <th>label</th>\n",
       "      <th>pred_label</th>\n",
       "    </tr>\n",
       "  </thead>\n",
       "  <tbody>\n",
       "    <tr>\n",
       "      <th>0</th>\n",
       "      <td>1.651388e+09</td>\n",
       "      <td>59</td>\n",
       "      <td>female</td>\n",
       "      <td>pet_products</td>\n",
       "      <td>english</td>\n",
       "      <td>[-0.813210666, -0.0616734475, 0.223145604, 0.6...</td>\n",
       "      <td>neutral</td>\n",
       "      <td>neutral</td>\n",
       "    </tr>\n",
       "    <tr>\n",
       "      <th>1</th>\n",
       "      <td>1.651388e+09</td>\n",
       "      <td>26</td>\n",
       "      <td>female</td>\n",
       "      <td>kitchen</td>\n",
       "      <td>english</td>\n",
       "      <td>[-0.00636624545, -0.332013339, 0.106140532, -0...</td>\n",
       "      <td>positive</td>\n",
       "      <td>positive</td>\n",
       "    </tr>\n",
       "    <tr>\n",
       "      <th>2</th>\n",
       "      <td>1.651388e+09</td>\n",
       "      <td>31</td>\n",
       "      <td>female</td>\n",
       "      <td>sports</td>\n",
       "      <td>english</td>\n",
       "      <td>[-0.19587253, -0.930066705, 0.352027774, -0.17...</td>\n",
       "      <td>positive</td>\n",
       "      <td>positive</td>\n",
       "    </tr>\n",
       "    <tr>\n",
       "      <th>3</th>\n",
       "      <td>1.651389e+09</td>\n",
       "      <td>21</td>\n",
       "      <td>female</td>\n",
       "      <td>jewelry</td>\n",
       "      <td>english</td>\n",
       "      <td>[-0.01982437, -0.38698494, 0.28868282, -0.1578...</td>\n",
       "      <td>positive</td>\n",
       "      <td>positive</td>\n",
       "    </tr>\n",
       "    <tr>\n",
       "      <th>4</th>\n",
       "      <td>1.651389e+09</td>\n",
       "      <td>32</td>\n",
       "      <td>male</td>\n",
       "      <td>office_product</td>\n",
       "      <td>english</td>\n",
       "      <td>[-0.0227119364, -0.625932634, -0.103129439, -0...</td>\n",
       "      <td>positive</td>\n",
       "      <td>positive</td>\n",
       "    </tr>\n",
       "  </tbody>\n",
       "</table>\n",
       "</div>"
      ],
      "text/plain": [
       "   prediction_ts  reviewer_age reviewer_gender product_category language  \\\n",
       "0   1.651388e+09            59          female     pet_products  english   \n",
       "1   1.651388e+09            26          female          kitchen  english   \n",
       "2   1.651388e+09            31          female           sports  english   \n",
       "3   1.651389e+09            21          female          jewelry  english   \n",
       "4   1.651389e+09            32            male   office_product  english   \n",
       "\n",
       "                                         text_vector     label pred_label  \n",
       "0  [-0.813210666, -0.0616734475, 0.223145604, 0.6...   neutral    neutral  \n",
       "1  [-0.00636624545, -0.332013339, 0.106140532, -0...  positive   positive  \n",
       "2  [-0.19587253, -0.930066705, 0.352027774, -0.17...  positive   positive  \n",
       "3  [-0.01982437, -0.38698494, 0.28868282, -0.1578...  positive   positive  \n",
       "4  [-0.0227119364, -0.625932634, -0.103129439, -0...  positive   positive  "
      ]
     },
     "execution_count": 2,
     "metadata": {},
     "output_type": "execute_result"
    }
   ],
   "source": [
    "# Load the data\n",
    "df = pd.read_parquet(\n",
    "    \"https://storage.googleapis.com/arize-assets/phoenix/datasets/unstructured/nlp/sentiment_classification_language_drift_production.parquet\"\n",
    ")\n",
    "df.head()"
   ]
  },
  {
   "cell_type": "code",
   "execution_count": 3,
   "metadata": {},
   "outputs": [
    {
     "name": "stdout",
     "output_type": "stream",
     "text": [
      "Dataset info written to '/Users/mikeldking/.phoenix/datasets/primary_ds'\n",
      "Dataset already persisted\n",
      "Dataset: primary_ds initialized\n",
      "Dataset info written to '/Users/mikeldking/.phoenix/datasets/reference_ds'\n",
      "Dataset already persisted\n",
      "Dataset: reference_ds initialized\n"
     ]
    }
   ],
   "source": [
    "from phoenix.datasets import Dataset, Schema, EmbeddingColumnNames\n",
    "\n",
    "# for now let's treat all columns as features\n",
    "feature_names = df.columns.to_list()\n",
    "\n",
    "schema = Schema(\n",
    "    timestamp_column_name=\"prediction_ts\",\n",
    "    feature_column_names=[\n",
    "        \"reviewer_age\",\n",
    "        \"reviewer_gender\",\n",
    "        \"product_category\",\n",
    "        \"language\",\n",
    "    ],\n",
    "    embedding_feature_column_names={\n",
    "        \"text_embedding\": EmbeddingColumnNames(vector_column_name=\"text_vector\")\n",
    "    },\n",
    ")\n",
    "primary = Dataset(\n",
    "    df,\n",
    "    schema,\n",
    "    name=\"primary_ds\",\n",
    ")\n",
    "reference = Dataset(\n",
    "    df,\n",
    "    schema,\n",
    "    name=\"reference_ds\",\n",
    ")"
   ]
  },
  {
   "cell_type": "code",
   "execution_count": null,
   "metadata": {},
   "outputs": [],
   "source": [
    "session = px.launch_app(primary, reference)"
   ]
  },
  {
   "cell_type": "code",
   "execution_count": null,
   "metadata": {},
   "outputs": [],
   "source": [
    "session.view()"
   ]
  }
 ],
 "metadata": {
  "kernelspec": {
   "display_name": "Python 3 (ipykernel)",
   "language": "python",
   "name": "python3"
  },
  "language_info": {
   "codemirror_mode": {
    "name": "ipython",
    "version": 3
   },
   "file_extension": ".py",
   "mimetype": "text/x-python",
   "name": "python",
   "nbconvert_exporter": "python",
   "pygments_lexer": "ipython3",
   "version": "3.10.3"
  },
  "vscode": {
   "interpreter": {
    "hash": "f8476af36f82f278d0224c299b3c84ccca1fb7344702eda80d935d8f2c34d234"
   }
  }
 },
 "nbformat": 4,
 "nbformat_minor": 2
}
