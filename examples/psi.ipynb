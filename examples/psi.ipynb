{
 "cells": [
  {
   "cell_type": "code",
   "execution_count": 1,
   "metadata": {},
   "outputs": [],
   "source": [
    "import sys\n",
    "\n",
    "sys.path.insert(0, \"../src/\")\n",
    "\n",
    "%matplotlib notebook\n",
    "import matplotlib.pyplot as plt\n",
    "import numpy as np\n",
    "import pandas as pd\n",
    "from scipy.stats import beta, norm, expon, gamma\n",
    "\n",
    "from phoenix.metrics.drift import psi"
   ]
  },
  {
   "cell_type": "code",
   "execution_count": null,
   "metadata": {},
   "outputs": [],
   "source": [
    "normal_random_variable = norm()\n",
    "beta_random_variable = beta(100, 10)\n",
    "x = np.linspace(-3, 3, 1000)\n",
    "y_normal = normal_random_variable.pdf(x)\n",
    "y_beta = beta_random_variable.pdf(x)"
   ]
  },
  {
   "cell_type": "code",
   "execution_count": null,
   "metadata": {
    "scrolled": true
   },
   "outputs": [],
   "source": [
    "plt.plot(x, y_normal)\n",
    "plt.plot(x, y_beta)\n",
    "plt.show()"
   ]
  },
  {
   "cell_type": "code",
   "execution_count": null,
   "metadata": {},
   "outputs": [],
   "source": [
    "lambd = 2\n",
    "exponential_random_variable = expon(2)\n",
    "gamma_random_variable = gamma(2, lambd)\n",
    "x = np.linspace(0, 10, 1000)\n",
    "y_exponential = exponential_random_variable.pdf(x)\n",
    "y_gamma = gamma_random_variable.pdf(x)"
   ]
  },
  {
   "cell_type": "code",
   "execution_count": null,
   "metadata": {},
   "outputs": [],
   "source": [
    "reference_random_variable = norm()\n",
    "primary_mean = 10\n",
    "primary_std = 1\n",
    "primary_random_variable = norm(loc=primary_mean, scale=primary_std)\n",
    "x = np.linspace(-3, 3, 1000)\n",
    "y_primary = reference_random_variable.pdf(x)\n",
    "y_reference = primary_random_variable.pdf(x)"
   ]
  },
  {
   "cell_type": "code",
   "execution_count": null,
   "metadata": {
    "scrolled": true
   },
   "outputs": [],
   "source": [
    "plt.plot(x, y_reference, c=\"blue\")\n",
    "plt.plot(x, y_primary, c=\"orange\")\n",
    "plt.show()"
   ]
  },
  {
   "cell_type": "code",
   "execution_count": null,
   "metadata": {},
   "outputs": [],
   "source": [
    "# Generate synthetic data\n",
    "num_samples = pow(10, 6)\n",
    "reference_df = pd.DataFrame.from_dict({\"data\": reference_random_variable.rvs(size=num_samples)})\n",
    "primary_df = pd.DataFrame.from_dict({\"data\": primary_random_variable.rvs(size=num_samples)})"
   ]
  },
  {
   "cell_type": "code",
   "execution_count": null,
   "metadata": {},
   "outputs": [],
   "source": [
    "psi(primary=primary_df, reference=reference_df)"
   ]
  },
  {
   "cell_type": "code",
   "execution_count": null,
   "metadata": {},
   "outputs": [],
   "source": [
    "# Gradually introduce drift in primary distribution\n",
    "reference_random_variable = norm()\n",
    "reference_df = pd.DataFrame.from_dict({\"data\": reference_random_variable.rvs(size=num_samples)})\n",
    "primary_std = 1\n",
    "psi_values = []\n",
    "num_samples = pow(10, 6)\n",
    "primary_means = np.linspace(0, 0.5, 10)\n",
    "for primary_mean in primary_means:\n",
    "    print(f\"mean: {primary_mean}\")\n",
    "    primary_random_variable = norm(loc=primary_mean, scale=primary_std)\n",
    "    primary_df = pd.DataFrame.from_dict({\"data\": primary_random_variable.rvs(size=num_samples)})\n",
    "    psi_values.append(psi(primary=primary_df, reference=reference_df))"
   ]
  },
  {
   "cell_type": "code",
   "execution_count": null,
   "metadata": {},
   "outputs": [],
   "source": [
    "plt.plot(primary_means, psi_values)\n",
    "plt.show()"
   ]
  },
  {
   "cell_type": "code",
   "execution_count": 4,
   "metadata": {},
   "outputs": [
    {
     "name": "stdout",
     "output_type": "stream",
     "text": [
      "compute bins: 0:00:01.813287\n",
      "compute primary histogram: 0:01:06.583072\n",
      "compute reference histogram: 0:01:06.844766\n",
      "compute primary distribution: 0:00:00.000350\n",
      "compute reference distribution duration: 0:00:00.000235\n",
      "compute psi duration: 0:00:00.000492\n",
      "total duration: 0:02:15.242770\n",
      "PSI\n",
      "feature_0     0.000010\n",
      "feature_1     0.000013\n",
      "feature_2     0.000015\n",
      "feature_3     0.000012\n",
      "feature_4     0.000019\n",
      "                ...   \n",
      "feature_95    0.000008\n",
      "feature_96    0.000014\n",
      "feature_97    0.000009\n",
      "feature_98    0.000016\n",
      "feature_99    0.000011\n",
      "Length: 100, dtype: float64\n"
     ]
    }
   ],
   "source": [
    "import datetime\n",
    "\n",
    "from phoenix.metrics.drift.psi import _psi, compute_edge_bins, compute_histogram\n",
    "\n",
    "# num_features = 200\n",
    "# num_samples = 6 * (10 ** 7)\n",
    "num_features = 100\n",
    "num_samples = 10**6\n",
    "epsilon = 10e-7\n",
    "reference_random_variable = norm()\n",
    "primary_random_variable = norm()\n",
    "reference = pd.DataFrame.from_dict(\n",
    "    {\n",
    "        f\"feature_{index}\": reference_random_variable.rvs(size=num_samples)\n",
    "        for index in range(num_features)\n",
    "    }\n",
    ")\n",
    "primary = pd.DataFrame.from_dict(\n",
    "    {\n",
    "        f\"feature_{index}\": reference_random_variable.rvs(size=num_samples)\n",
    "        for index in range(num_features)\n",
    "    }\n",
    ")\n",
    "\n",
    "# start computation\n",
    "psi_start = datetime.datetime.now()\n",
    "print(f\"num features: {num_features}\")\n",
    "print(f\"num samples: {num_samples}\")\n",
    "\n",
    "# compute bins\n",
    "start = datetime.datetime.now()\n",
    "bins_column = compute_edge_bins(reference)\n",
    "end = datetime.datetime.now()\n",
    "compute_bins_duration = end - start\n",
    "print(f\"compute bins: {compute_bins_duration}\")\n",
    "\n",
    "# compute primary histogram\n",
    "start = datetime.datetime.now()\n",
    "primary_histogram = compute_histogram(primary, bins_column)\n",
    "end = datetime.datetime.now()\n",
    "compute_primary_histogram_duration = end - start\n",
    "print(f\"compute primary histogram: {compute_primary_histogram_duration}\")\n",
    "\n",
    "# compute reference histogram\n",
    "start = datetime.datetime.now()\n",
    "reference_histogram = compute_histogram(reference, bins_column)\n",
    "end = datetime.datetime.now()\n",
    "compute_reference_histogram_duration = end - start\n",
    "print(f\"compute reference histogram: {compute_reference_histogram_duration}\")\n",
    "\n",
    "# compute primary distribution\n",
    "start = datetime.datetime.now()\n",
    "primary_distributions = primary_histogram / primary_histogram.sum()\n",
    "end = datetime.datetime.now()\n",
    "compute_primary_distribution_duration = end - start\n",
    "print(f\"compute primary distribution: {compute_primary_distribution_duration}\")\n",
    "\n",
    "# compute reference distribution\n",
    "start = datetime.datetime.now()\n",
    "reference_distributions = reference_histogram / reference_histogram.sum()\n",
    "end = datetime.datetime.now()\n",
    "compute_reference_distribution_duration = end - start\n",
    "print(f\"compute reference distribution duration: {compute_reference_distribution_duration}\")\n",
    "\n",
    "# compute psi\n",
    "start = datetime.datetime.now()\n",
    "out = _psi(primary_distributions, reference_distributions, epsilon)\n",
    "end = datetime.datetime.now()\n",
    "compute_psi_duration = end - start\n",
    "print(f\"compute psi duration: {compute_psi_duration}\")\n",
    "\n",
    "# end computation\n",
    "psi_end = datetime.datetime.now()\n",
    "total_duration = psi_end - psi_start\n",
    "print(f\"total duration: {total_duration}\")\n",
    "\n",
    "# display computed values\n",
    "print(\"PSI\")\n",
    "print(out)"
   ]
  }
 ],
 "metadata": {
  "kernelspec": {
   "display_name": "Python 3 (ipykernel)",
   "language": "python",
   "name": "python3"
  },
  "language_info": {
   "codemirror_mode": {
    "name": "ipython",
    "version": 3
   },
   "file_extension": ".py",
   "mimetype": "text/x-python",
   "name": "python",
   "nbconvert_exporter": "python",
   "pygments_lexer": "ipython3",
   "version": "3.10.8"
  }
 },
 "nbformat": 4,
 "nbformat_minor": 1
}
