{
 "cells": [
  {
   "cell_type": "code",
   "execution_count": null,
   "metadata": {},
   "outputs": [],
   "source": [
    "from pandas import read_parquet\n",
    "\n",
    "import phoenix as px\n",
    "from phoenix.datasets import Dataset, Schema\n",
    "\n",
    "schema = Schema(\n",
    "    prediction_id_column_name=\"prediction_id\",\n",
    "    prediction_label_column_name=\"predicted_label\",\n",
    "    prediction_score_column_name=\"predicted_score\",\n",
    "    actual_label_column_name=\"actual_label\",\n",
    "    timestamp_column_name=\"prediction_timestamp\",\n",
    "    tag_column_names=[\"age\"],\n",
    ")\n",
    "\n",
    "primary_dataframe = read_parquet(\n",
    "    \"https://storage.googleapis.com/arize-assets/phoenix/datasets/structured/credit-card-fraud/credit_card_fraud_production.parquet\"\n",
    ")\n",
    "primary_dataset = Dataset(\n",
    "    dataframe=primary_dataframe,\n",
    "    schema=schema,\n",
    "    name=\"primary_ds\",\n",
    ")\n",
    "reference_dataframe = read_parquet(\n",
    "    \"https://storage.googleapis.com/arize-assets/phoenix/datasets/structured/credit-card-fraud/credit_card_fraud_train.parquet\"\n",
    ")\n",
    "reference_dataset = Dataset(\n",
    "    dataframe=reference_dataframe,\n",
    "    schema=schema,\n",
    "    name=\"reference_ds\",\n",
    ")\n",
    "reference_dataset.dataframe.head()"
   ]
  },
  {
   "cell_type": "code",
   "execution_count": null,
   "metadata": {},
   "outputs": [],
   "source": [
    "# Launch a session\n",
    "session = px.launch_app(primary_dataset, reference_dataset)"
   ]
  },
  {
   "cell_type": "code",
   "execution_count": null,
   "metadata": {},
   "outputs": [],
   "source": [
    "session.view()"
   ]
  },
  {
   "cell_type": "code",
   "execution_count": null,
   "metadata": {},
   "outputs": [],
   "source": [
    "px.close_app()"
   ]
  }
 ],
 "metadata": {
  "kernelspec": {
   "display_name": "phoenix-env",
   "language": "python",
   "name": "python3"
  },
  "language_info": {
   "codemirror_mode": {
    "name": "ipython",
    "version": 3
   },
   "file_extension": ".py",
   "mimetype": "text/x-python",
   "name": "python",
   "nbconvert_exporter": "python",
   "pygments_lexer": "ipython3",
   "version": "3.9.15"
  },
  "vscode": {
   "interpreter": {
    "hash": "376112051f594f6e24fa74b51812fe15f3714622b4054162117957862f7bf942"
   }
  }
 },
 "nbformat": 4,
 "nbformat_minor": 2
}
