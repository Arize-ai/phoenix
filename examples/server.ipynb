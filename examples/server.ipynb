{
 "cells": [
  {
   "cell_type": "code",
   "execution_count": 1,
   "metadata": {},
   "outputs": [
    {
     "name": "stdout",
     "output_type": "stream",
     "text": [
      "Dataset info written to '/Users/mikeldking/.phoenix/datasets/primary_ds'\n",
      "Dataset already persisted\n",
      "Dataset: primary_ds initialized\n",
      "Dataset info written to '/Users/mikeldking/.phoenix/datasets/reference_ds'\n",
      "Dataset already persisted\n",
      "Dataset: reference_ds initialized\n"
     ]
    },
    {
     "data": {
      "text/html": [
       "<div>\n",
       "<style scoped>\n",
       "    .dataframe tbody tr th:only-of-type {\n",
       "        vertical-align: middle;\n",
       "    }\n",
       "\n",
       "    .dataframe tbody tr th {\n",
       "        vertical-align: top;\n",
       "    }\n",
       "\n",
       "    .dataframe thead th {\n",
       "        text-align: right;\n",
       "    }\n",
       "</style>\n",
       "<table border=\"1\" class=\"dataframe\">\n",
       "  <thead>\n",
       "    <tr style=\"text-align: right;\">\n",
       "      <th></th>\n",
       "      <th>actual_label</th>\n",
       "      <th>predicted_label</th>\n",
       "      <th>embeddings</th>\n",
       "      <th>image_url</th>\n",
       "      <th>timestamp</th>\n",
       "      <th>prediction_id</th>\n",
       "    </tr>\n",
       "  </thead>\n",
       "  <tbody>\n",
       "    <tr>\n",
       "      <th>0</th>\n",
       "      <td>Ankle boot</td>\n",
       "      <td>Ankle boot</td>\n",
       "      <td>[0.0, 0.0, 0.0, 1.1791428, 11.76183, 10.695144...</td>\n",
       "      <td>https://storage.googleapis.com/arize-assets/ph...</td>\n",
       "      <td>2023-02-01 23:36:09.654266+00:00</td>\n",
       "      <td>NaN</td>\n",
       "    </tr>\n",
       "    <tr>\n",
       "      <th>1</th>\n",
       "      <td>T-shirt/top</td>\n",
       "      <td>T-shirt/top</td>\n",
       "      <td>[4.3470197, 0.0, 0.0, 0.0, 0.0, 0.0, 7.2773085...</td>\n",
       "      <td>https://storage.googleapis.com/arize-assets/ph...</td>\n",
       "      <td>2023-02-01 23:36:09.654266+00:00</td>\n",
       "      <td>NaN</td>\n",
       "    </tr>\n",
       "    <tr>\n",
       "      <th>2</th>\n",
       "      <td>T-shirt/top</td>\n",
       "      <td>T-shirt/top</td>\n",
       "      <td>[1.4159611, 0.0, 0.0, 0.0, 0.0, 0.0, 0.0, 0.0,...</td>\n",
       "      <td>https://storage.googleapis.com/arize-assets/ph...</td>\n",
       "      <td>2023-02-01 23:36:09.654266+00:00</td>\n",
       "      <td>NaN</td>\n",
       "    </tr>\n",
       "    <tr>\n",
       "      <th>3</th>\n",
       "      <td>Dress</td>\n",
       "      <td>Dress</td>\n",
       "      <td>[0.026362432, 0.0, 0.0, 3.3768594, 0.0, 0.0, 0...</td>\n",
       "      <td>https://storage.googleapis.com/arize-assets/ph...</td>\n",
       "      <td>2023-02-01 23:36:09.654266+00:00</td>\n",
       "      <td>NaN</td>\n",
       "    </tr>\n",
       "    <tr>\n",
       "      <th>4</th>\n",
       "      <td>T-shirt/top</td>\n",
       "      <td>T-shirt/top</td>\n",
       "      <td>[5.580946, 0.0, 0.0, 0.0, 0.0, 0.0, 0.0, 0.0, ...</td>\n",
       "      <td>https://storage.googleapis.com/arize-assets/ph...</td>\n",
       "      <td>2023-02-01 23:36:09.654266+00:00</td>\n",
       "      <td>NaN</td>\n",
       "    </tr>\n",
       "  </tbody>\n",
       "</table>\n",
       "</div>"
      ],
      "text/plain": [
       "  actual_label predicted_label  \\\n",
       "0   Ankle boot      Ankle boot   \n",
       "1  T-shirt/top     T-shirt/top   \n",
       "2  T-shirt/top     T-shirt/top   \n",
       "3        Dress           Dress   \n",
       "4  T-shirt/top     T-shirt/top   \n",
       "\n",
       "                                          embeddings  \\\n",
       "0  [0.0, 0.0, 0.0, 1.1791428, 11.76183, 10.695144...   \n",
       "1  [4.3470197, 0.0, 0.0, 0.0, 0.0, 0.0, 7.2773085...   \n",
       "2  [1.4159611, 0.0, 0.0, 0.0, 0.0, 0.0, 0.0, 0.0,...   \n",
       "3  [0.026362432, 0.0, 0.0, 3.3768594, 0.0, 0.0, 0...   \n",
       "4  [5.580946, 0.0, 0.0, 0.0, 0.0, 0.0, 0.0, 0.0, ...   \n",
       "\n",
       "                                           image_url  \\\n",
       "0  https://storage.googleapis.com/arize-assets/ph...   \n",
       "1  https://storage.googleapis.com/arize-assets/ph...   \n",
       "2  https://storage.googleapis.com/arize-assets/ph...   \n",
       "3  https://storage.googleapis.com/arize-assets/ph...   \n",
       "4  https://storage.googleapis.com/arize-assets/ph...   \n",
       "\n",
       "                         timestamp prediction_id  \n",
       "0 2023-02-01 23:36:09.654266+00:00           NaN  \n",
       "1 2023-02-01 23:36:09.654266+00:00           NaN  \n",
       "2 2023-02-01 23:36:09.654266+00:00           NaN  \n",
       "3 2023-02-01 23:36:09.654266+00:00           NaN  \n",
       "4 2023-02-01 23:36:09.654266+00:00           NaN  "
      ]
     },
     "execution_count": 1,
     "metadata": {},
     "output_type": "execute_result"
    }
   ],
   "source": [
    "from pandas import read_parquet\n",
    "\n",
    "import phoenix as px\n",
    "from phoenix.datasets import Dataset, Schema, EmbeddingColumnNames\n",
    "\n",
    "schema = Schema(\n",
    "    timestamp_column_name=\"prediction_ts\",\n",
    "    embedding_feature_column_names={\n",
    "        \"embedding\": EmbeddingColumnNames(\n",
    "            vector_column_name=\"embeddings\", link_to_data_column_name=\"image_url\"\n",
    "        ),\n",
    "    },\n",
    "    actual_label_column_name=\"actual_label\",\n",
    "    prediction_label_column_name=\"predicted_label\",\n",
    ")\n",
    "\n",
    "train_schema = Schema(\n",
    "    embedding_feature_column_names={\n",
    "        \"embedding\": EmbeddingColumnNames(\n",
    "            vector_column_name=\"embeddings\", link_to_data_column_name=\"image_url\"\n",
    "        ),\n",
    "    },\n",
    "    actual_label_column_name=\"actual_label\",\n",
    "    prediction_label_column_name=\"predicted_label\",\n",
    ")\n",
    "\n",
    "primary_dataframe = read_parquet(\n",
    "    \"https://storage.googleapis.com/arize-assets/phoenix/datasets/unstructured/cv/fashion-mnist/fashion_mnist_production.parquet\"\n",
    ")\n",
    "primary_dataset = Dataset(\n",
    "    dataframe=primary_dataframe,\n",
    "    schema=schema,\n",
    "    name=\"primary_ds\",\n",
    ")\n",
    "reference_dataframe = read_parquet(\n",
    "    \"https://storage.googleapis.com/arize-assets/phoenix/datasets/unstructured/cv/fashion-mnist/fashion_mnist_train.parquet\"\n",
    ")\n",
    "reference_dataset = Dataset(\n",
    "    dataframe=reference_dataframe,\n",
    "    schema=train_schema,\n",
    "    name=\"reference_ds\",\n",
    ")\n",
    "reference_dataset.dataframe.head()"
   ]
  },
  {
   "cell_type": "code",
   "execution_count": 3,
   "metadata": {},
   "outputs": [
    {
     "name": "stderr",
     "output_type": "stream",
     "text": [
      "Existing running Phoenix instance detected! Shutting it down and starting a new instance...\n",
      "INFO:     Started server process [56085]\n",
      "INFO:     Waiting for application startup.\n",
      "INFO:     Application startup complete.\n",
      "INFO:     Uvicorn running on http://127.0.0.1:6060 (Press CTRL+C to quit)\n"
     ]
    }
   ],
   "source": [
    "# Launch a session\n",
    "session = px.launch_app(primary_dataset, reference_dataset)"
   ]
  },
  {
   "cell_type": "code",
   "execution_count": 5,
   "metadata": {
    "scrolled": true
   },
   "outputs": [
    {
     "data": {
      "text/plain": [
       "'http://localhost:6060/'"
      ]
     },
     "execution_count": 5,
     "metadata": {},
     "output_type": "execute_result"
    }
   ],
   "source": [
    "session.url"
   ]
  },
  {
   "cell_type": "code",
   "execution_count": null,
   "metadata": {},
   "outputs": [],
   "source": [
    "px.close_app()"
   ]
  }
 ],
 "metadata": {
  "kernelspec": {
   "display_name": "Python 3 (ipykernel)",
   "language": "python",
   "name": "python3"
  },
  "language_info": {
   "codemirror_mode": {
    "name": "ipython",
    "version": 3
   },
   "file_extension": ".py",
   "mimetype": "text/x-python",
   "name": "python",
   "nbconvert_exporter": "python",
   "pygments_lexer": "ipython3",
   "version": "3.10.3"
  },
  "vscode": {
   "interpreter": {
    "hash": "9eae564f37d2859ecf169258c01003fd2ebae94255934d49a6e0c207bb5fdb38"
   }
  }
 },
 "nbformat": 4,
 "nbformat_minor": 2
}
