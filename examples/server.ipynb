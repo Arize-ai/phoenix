{
 "cells": [
  {
   "cell_type": "code",
   "execution_count": null,
   "metadata": {},
   "outputs": [],
   "source": [
    "from pandas import read_parquet\n",
    "\n",
    "import phoenix as px\n",
    "from phoenix.datasets import Dataset, Schema, EmbeddingColumnNames\n",
    "\n",
    "schema = Schema(\n",
    "    timestamp_column_name=\"prediction_ts\",\n",
    "    embedding_feature_column_names={\n",
    "        \"embedding\": EmbeddingColumnNames(\n",
    "            vector_column_name=\"embeddings\", link_to_data_column_name=\"image_url\"\n",
    "        ),\n",
    "    },\n",
    "    actual_label_column_name=\"actual_label\",\n",
    "    prediction_label_column_name=\"predicted_label\",\n",
    ")\n",
    "\n",
    "train_schema = Schema(\n",
    "    embedding_feature_column_names={\n",
    "        \"embedding\": EmbeddingColumnNames(\n",
    "            vector_column_name=\"embeddings\", link_to_data_column_name=\"image_url\"\n",
    "        ),\n",
    "    },\n",
    "    actual_label_column_name=\"actual_label\",\n",
    "    prediction_label_column_name=\"predicted_label\",\n",
    ")\n",
    "\n",
    "primary_dataframe = read_parquet(\n",
    "    \"https://storage.googleapis.com/arize-assets/phoenix/datasets/unstructured/cv/fashion-mnist/fashion_mnist_production.parquet\"\n",
    ")\n",
    "primary_dataset = Dataset(\n",
    "    dataframe=primary_dataframe,\n",
    "    schema=schema,\n",
    "    name=\"primary_ds\",\n",
    ")\n",
    "reference_dataframe = read_parquet(\n",
    "    \"https://storage.googleapis.com/arize-assets/phoenix/datasets/unstructured/cv/fashion-mnist/fashion_mnist_train.parquet\"\n",
    ")\n",
    "reference_dataset = Dataset(\n",
    "    dataframe=reference_dataframe,\n",
    "    schema=train_schema,\n",
    "    name=\"reference_ds\",\n",
    ")\n",
    "reference_dataset.dataframe.head()"
   ]
  },
  {
   "cell_type": "code",
   "execution_count": null,
   "metadata": {},
   "outputs": [],
   "source": [
    "# Launch a session\n",
    "session = px.launch_app(primary_dataset, reference_dataset)"
   ]
  },
  {
   "cell_type": "code",
   "execution_count": null,
   "metadata": {},
   "outputs": [],
   "source": [
    "session.view()"
   ]
  },
  {
   "cell_type": "code",
   "execution_count": null,
   "metadata": {},
   "outputs": [],
   "source": [
    "px.close_app()"
   ]
  }
 ],
 "metadata": {
  "kernelspec": {
   "display_name": "phoenix",
   "language": "python",
   "name": "python3"
  },
  "language_info": {
   "codemirror_mode": {
    "name": "ipython",
    "version": 3
   },
   "file_extension": ".py",
   "mimetype": "text/x-python",
   "name": "python",
   "nbconvert_exporter": "python",
   "pygments_lexer": "ipython3",
   "version": "3.10.3 (main, Apr 14 2022, 13:44:37) [Clang 13.1.6 (clang-1316.0.21.2.3)]"
  },
  "vscode": {
   "interpreter": {
    "hash": "9eae564f37d2859ecf169258c01003fd2ebae94255934d49a6e0c207bb5fdb38"
   }
  }
 },
 "nbformat": 4,
 "nbformat_minor": 2
}
