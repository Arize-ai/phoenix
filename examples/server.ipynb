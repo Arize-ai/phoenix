{
 "cells": [
  {
   "cell_type": "code",
   "execution_count": 1,
   "metadata": {},
   "outputs": [
    {
     "name": "stdout",
     "output_type": "stream",
     "text": [
      "Dataset info written to '/Users/mikeldking/phoenix/datasets/primary_ds'\n",
      "Dataset already persisted\n",
      "Dataset: primary_ds initialized\n",
      "Dataset info written to '/Users/mikeldking/phoenix/datasets/reference_ds'\n",
      "Dataset already persisted\n",
      "Dataset: reference_ds initialized\n"
     ]
    },
    {
     "name": "stderr",
     "output_type": "stream",
     "text": [
      "INFO:     Started server process [16672]\n",
      "INFO:     Waiting for application startup.\n",
      "INFO:     Application startup complete.\n",
      "INFO:     Uvicorn running on http://127.0.0.1:6060 (Press CTRL+C to quit)\n"
     ]
    }
   ],
   "source": [
    "import phoenix as px\n",
    "from phoenix.datasets import Dataset, Schema\n",
    "\n",
    "test_filename = \"NLP_sentiment_classification_language_drift\"\n",
    "\n",
    "schema = Schema(\n",
    "    timestamp_column_name=\"prediction_ts\",\n",
    "    prediction_label_column_name=\"pred_label\",\n",
    "    actual_label_column_name=\"label\",\n",
    "    feature_column_names=[],\n",
    ")\n",
    "primary = Dataset.from_csv(\n",
    "    f\"./fixtures/NLP_sentiment_classification_language_drift.csv\", schema, name=\"primary_ds\"\n",
    ")\n",
    "reference = Dataset.from_csv(\n",
    "    f\"./fixtures/NLP_sentiment_classification_language_drift.csv\", schema, name=\"reference_ds\"\n",
    ")\n",
    "session = px.launch_app(primary, reference)"
   ]
  },
  {
   "cell_type": "code",
   "execution_count": 2,
   "metadata": {},
   "outputs": [
    {
     "data": {
      "text/html": [
       "\n",
       "        <iframe\n",
       "            width=\"500\"\n",
       "            height=\"1000\"\n",
       "            src=\"http://127.0.0.1:6060\"\n",
       "            frameborder=\"0\"\n",
       "            allowfullscreen\n",
       "            \n",
       "        ></iframe>\n",
       "        "
      ],
      "text/plain": [
       "<IPython.lib.display.IFrame at 0x107ec9cf0>"
      ]
     },
     "execution_count": 2,
     "metadata": {},
     "output_type": "execute_result"
    },
    {
     "name": "stdout",
     "output_type": "stream",
     "text": [
      "Starting Phoenix App\n",
      "            primary dataset: primary_ds\n",
      "            reference dataset: reference_ds\n",
      "code 200\n",
      "INFO:     127.0.0.1:60662 - \"GET / HTTP/1.1\" 200 OK\n",
      "code 200\n",
      "INFO:     127.0.0.1:60662 - \"GET /index.js HTTP/1.1\" 200 OK\n",
      "code 200\n",
      "INFO:     127.0.0.1:60684 - \"GET / HTTP/1.1\" 200 OK\n",
      "code 200\n",
      "INFO:     127.0.0.1:60684 - \"GET /index.js HTTP/1.1\" 200 OK\n"
     ]
    }
   ],
   "source": [
    "session.view()"
   ]
  },
  {
   "cell_type": "code",
   "execution_count": null,
   "metadata": {},
   "outputs": [],
   "source": [
    "px.close_app()"
   ]
  }
 ],
 "metadata": {
  "kernelspec": {
   "display_name": "Python 3 (ipykernel)",
   "language": "python",
   "name": "python3"
  },
  "language_info": {
   "codemirror_mode": {
    "name": "ipython",
    "version": 3
   },
   "file_extension": ".py",
   "mimetype": "text/x-python",
   "name": "python",
   "nbconvert_exporter": "python",
   "pygments_lexer": "ipython3",
   "version": "3.10.3"
  },
  "vscode": {
   "interpreter": {
    "hash": "f8476af36f82f278d0224c299b3c84ccca1fb7344702eda80d935d8f2c34d234"
   }
  }
 },
 "nbformat": 4,
 "nbformat_minor": 2
}
