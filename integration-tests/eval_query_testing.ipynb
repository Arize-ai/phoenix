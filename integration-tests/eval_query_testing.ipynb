{
 "cells": [
  {
   "cell_type": "code",
   "execution_count": null,
   "metadata": {},
   "outputs": [],
   "source": [
    "import phoenix as px\n",
    "from sqlalchemy import create_engine\n",
    "from sqlalchemy.orm import sessionmaker"
   ]
  },
  {
   "cell_type": "code",
   "execution_count": null,
   "metadata": {},
   "outputs": [],
   "source": [
    "PostgresSession = sessionmaker(\n",
    "    create_engine(\n",
    "        \"postgresql+psycopg://localhost:5432/postgres?user=postgres&password=mysecretpassword\",\n",
    "        echo=True,\n",
    "    ),\n",
    "    expire_on_commit=False,\n",
    ")\n",
    "SqliteSession = sessionmaker(\n",
    "    create_engine(\"sqlite:////Users/xandersong/.phoenix/phoenix.db\", echo=True),\n",
    "    expire_on_commit=False,\n",
    ")"
   ]
  },
  {
   "cell_type": "code",
   "execution_count": null,
   "metadata": {},
   "outputs": [],
   "source": [
    "original_endpoint = \"http://127.0.0.1:6008\"\n",
    "sqlite_endpoint = \"http://127.0.0.1:6006\"\n",
    "postgres_endpoint = \"http://127.0.0.1:6007\""
   ]
  },
  {
   "cell_type": "code",
   "execution_count": null,
   "metadata": {},
   "outputs": [],
   "source": [
    "COMMON_COLUMNS = [\n",
    "    \"attributes.__computed__\",\n",
    "    \"attributes.input.value\",\n",
    "    \"attributes.openinference.span.kind\",\n",
    "    \"attributes.output.value\",\n",
    "    \"context.span_id\",\n",
    "    \"context.trace_id\",\n",
    "    \"end_time\",\n",
    "    \"events\",\n",
    "    \"name\",\n",
    "    \"parent_id\",\n",
    "    \"start_time\",\n",
    "    \"status_code\",\n",
    "    \"status_message\",\n",
    "]"
   ]
  },
  {
   "cell_type": "code",
   "execution_count": null,
   "metadata": {},
   "outputs": [],
   "source": [
    "filter_condition = \"evals['Q&A Correctness'].label == 'correct'\"\n",
    "original_df = (\n",
    "    px.Client(endpoint=original_endpoint).get_spans_dataframe(filter_condition).sort_index()\n",
    ")\n",
    "postgres_df = (\n",
    "    px.Client(endpoint=postgres_endpoint).get_spans_dataframe(filter_condition).sort_index()\n",
    ")\n",
    "sqlite_df = px.Client(endpoint=sqlite_endpoint).get_spans_dataframe(filter_condition).sort_index()\n",
    "print(f\"{original_df.shape=}\")\n",
    "print(f\"{postgres_df.shape=}\")\n",
    "print(f\"{sqlite_df.shape=}\")"
   ]
  },
  {
   "cell_type": "code",
   "execution_count": null,
   "metadata": {},
   "outputs": [],
   "source": [
    "print(f\"{set(original_df.columns).difference(set(sqlite_df.columns))=}\")\n",
    "print(f\"{set(sqlite_df.columns).difference(set(original_df.columns))=}\")\n",
    "sqlite_df[COMMON_COLUMNS].compare(\n",
    "    original_df.rename(columns={\"span_kind\": \"attributes.openinference.span.kind\"})[COMMON_COLUMNS],\n",
    "    result_names=(\"sqlite\", \"original\"),\n",
    ")"
   ]
  },
  {
   "cell_type": "code",
   "execution_count": null,
   "metadata": {},
   "outputs": [],
   "source": [
    "print(f\"{set(original_df.columns).difference(set(postgres_df.columns))=}\")\n",
    "print(f\"{set(postgres_df.columns).difference(set(original_df.columns))=}\")\n",
    "postgres_df[COMMON_COLUMNS].compare(\n",
    "    original_df.rename(columns={\"span_kind\": \"attributes.openinference.span.kind\"})[COMMON_COLUMNS],\n",
    "    result_names=(\"postgres\", \"original\"),\n",
    ")"
   ]
  },
  {
   "cell_type": "code",
   "execution_count": null,
   "metadata": {},
   "outputs": [],
   "source": [
    "filter_condition = (\n",
    "    \"\"\"evals['Q&A Correctness'].label == 'correct' and evals[\"Hallucination\"].score < 0.5\"\"\"\n",
    ")\n",
    "original_df = (\n",
    "    px.Client(endpoint=original_endpoint).get_spans_dataframe(filter_condition).sort_index()\n",
    ")\n",
    "postgres_df = (\n",
    "    px.Client(endpoint=postgres_endpoint).get_spans_dataframe(filter_condition).sort_index()\n",
    ")\n",
    "sqlite_df = px.Client(endpoint=sqlite_endpoint).get_spans_dataframe(filter_condition).sort_index()\n",
    "print(f\"{original_df.shape=}\")\n",
    "print(f\"{postgres_df.shape=}\")\n",
    "print(f\"{sqlite_df.shape=}\")"
   ]
  },
  {
   "cell_type": "code",
   "execution_count": null,
   "metadata": {},
   "outputs": [],
   "source": [
    "print(f\"{set(original_df.columns).difference(set(sqlite_df.columns))=}\")\n",
    "print(f\"{set(sqlite_df.columns).difference(set(original_df.columns))=}\")\n",
    "sqlite_df[COMMON_COLUMNS].compare(\n",
    "    original_df.rename(columns={\"span_kind\": \"attributes.openinference.span.kind\"})[COMMON_COLUMNS],\n",
    "    result_names=(\"sqlite\", \"original\"),\n",
    ")"
   ]
  },
  {
   "cell_type": "code",
   "execution_count": null,
   "metadata": {},
   "outputs": [],
   "source": [
    "print(f\"{set(original_df.columns).difference(set(postgres_df.columns))=}\")\n",
    "print(f\"{set(postgres_df.columns).difference(set(original_df.columns))=}\")\n",
    "postgres_df[COMMON_COLUMNS].compare(\n",
    "    original_df.rename(columns={\"span_kind\": \"attributes.openinference.span.kind\"})[COMMON_COLUMNS],\n",
    "    result_names=(\"postgres\", \"original\"),\n",
    ")"
   ]
  },
  {
   "cell_type": "code",
   "execution_count": null,
   "metadata": {},
   "outputs": [],
   "source": [
    "filter_condition = \"\"\"evals['Q&A Correctness'].label != 'correct'\"\"\"\n",
    "original_df = (\n",
    "    px.Client(endpoint=original_endpoint).get_spans_dataframe(filter_condition).sort_index()\n",
    ")\n",
    "postgres_df = (\n",
    "    px.Client(endpoint=postgres_endpoint).get_spans_dataframe(filter_condition).sort_index()\n",
    ")\n",
    "sqlite_df = px.Client(endpoint=sqlite_endpoint).get_spans_dataframe(filter_condition).sort_index()\n",
    "print(f\"{original_df.shape=}\")\n",
    "print(f\"{postgres_df.shape=}\")\n",
    "print(f\"{sqlite_df.shape=}\")"
   ]
  },
  {
   "cell_type": "code",
   "execution_count": null,
   "metadata": {},
   "outputs": [],
   "source": [
    "print(f\"{set(original_df.columns).difference(set(sqlite_df.columns))=}\")\n",
    "print(f\"{set(sqlite_df.columns).difference(set(original_df.columns))=}\")\n",
    "sqlite_df[COMMON_COLUMNS].compare(\n",
    "    original_df.rename(columns={\"span_kind\": \"attributes.openinference.span.kind\"})[COMMON_COLUMNS],\n",
    "    result_names=(\"sqlite\", \"original\"),\n",
    ")"
   ]
  },
  {
   "cell_type": "code",
   "execution_count": null,
   "metadata": {},
   "outputs": [],
   "source": [
    "print(f\"{set(original_df.columns).difference(set(postgres_df.columns))=}\")\n",
    "print(f\"{set(postgres_df.columns).difference(set(original_df.columns))=}\")\n",
    "postgres_df[COMMON_COLUMNS].compare(\n",
    "    original_df.rename(columns={\"span_kind\": \"attributes.openinference.span.kind\"})[COMMON_COLUMNS],\n",
    "    result_names=(\"postgres\", \"original\"),\n",
    ")"
   ]
  },
  {
   "cell_type": "code",
   "execution_count": null,
   "metadata": {},
   "outputs": [],
   "source": [
    "filter_condition = \"\"\"evals['Q&A Correctness'].label is not None\"\"\"\n",
    "original_df = (\n",
    "    px.Client(endpoint=original_endpoint).get_spans_dataframe(filter_condition).sort_index()\n",
    ")\n",
    "postgres_df = (\n",
    "    px.Client(endpoint=postgres_endpoint).get_spans_dataframe(filter_condition).sort_index()\n",
    ")\n",
    "sqlite_df = px.Client(endpoint=sqlite_endpoint).get_spans_dataframe(filter_condition).sort_index()\n",
    "print(f\"{original_df.shape=}\")\n",
    "print(f\"{postgres_df.shape=}\")\n",
    "print(f\"{sqlite_df.shape=}\")"
   ]
  },
  {
   "cell_type": "code",
   "execution_count": null,
   "metadata": {},
   "outputs": [],
   "source": [
    "print(f\"{set(original_df.columns).difference(set(sqlite_df.columns))=}\")\n",
    "print(f\"{set(sqlite_df.columns).difference(set(original_df.columns))=}\")\n",
    "sqlite_df[COMMON_COLUMNS].compare(\n",
    "    original_df.rename(columns={\"span_kind\": \"attributes.openinference.span.kind\"})[COMMON_COLUMNS],\n",
    "    result_names=(\"sqlite\", \"original\"),\n",
    ")"
   ]
  },
  {
   "cell_type": "code",
   "execution_count": null,
   "metadata": {},
   "outputs": [],
   "source": [
    "print(f\"{set(original_df.columns).difference(set(postgres_df.columns))=}\")\n",
    "print(f\"{set(postgres_df.columns).difference(set(original_df.columns))=}\")\n",
    "postgres_df[COMMON_COLUMNS].compare(\n",
    "    original_df.rename(columns={\"span_kind\": \"attributes.openinference.span.kind\"})[COMMON_COLUMNS],\n",
    "    result_names=(\"postgres\", \"original\"),\n",
    ")"
   ]
  },
  {
   "cell_type": "code",
   "execution_count": null,
   "metadata": {},
   "outputs": [],
   "source": [
    "filter_condition = \"\"\"evals['Q&A Correctness'].score < evals[\"Hallucination\"].score\"\"\"\n",
    "original_df = (\n",
    "    px.Client(endpoint=original_endpoint).get_spans_dataframe(filter_condition).sort_index()\n",
    ")\n",
    "postgres_df = (\n",
    "    px.Client(endpoint=postgres_endpoint).get_spans_dataframe(filter_condition).sort_index()\n",
    ")\n",
    "sqlite_df = px.Client(endpoint=sqlite_endpoint).get_spans_dataframe(filter_condition).sort_index()\n",
    "print(f\"{original_df.shape=}\")\n",
    "print(f\"{postgres_df.shape=}\")\n",
    "print(f\"{sqlite_df.shape=}\")"
   ]
  },
  {
   "cell_type": "code",
   "execution_count": null,
   "metadata": {},
   "outputs": [],
   "source": [
    "print(f\"{set(original_df.columns).difference(set(sqlite_df.columns))=}\")\n",
    "print(f\"{set(sqlite_df.columns).difference(set(original_df.columns))=}\")\n",
    "sqlite_df[COMMON_COLUMNS].compare(\n",
    "    original_df.rename(columns={\"span_kind\": \"attributes.openinference.span.kind\"})[COMMON_COLUMNS],\n",
    "    result_names=(\"sqlite\", \"original\"),\n",
    ")"
   ]
  },
  {
   "cell_type": "code",
   "execution_count": null,
   "metadata": {},
   "outputs": [],
   "source": [
    "print(f\"{set(original_df.columns).difference(set(postgres_df.columns))=}\")\n",
    "print(f\"{set(postgres_df.columns).difference(set(original_df.columns))=}\")\n",
    "postgres_df[COMMON_COLUMNS].compare(\n",
    "    original_df.rename(columns={\"span_kind\": \"attributes.openinference.span.kind\"})[COMMON_COLUMNS],\n",
    "    result_names=(\"postgres\", \"original\"),\n",
    ")"
   ]
  }
 ],
 "metadata": {
  "language_info": {
   "name": "python"
  }
 },
 "nbformat": 4,
 "nbformat_minor": 2
}
