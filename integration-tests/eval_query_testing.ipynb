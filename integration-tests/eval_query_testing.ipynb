{
 "cells": [
  {
   "cell_type": "code",
   "execution_count": null,
   "metadata": {},
   "outputs": [],
   "source": [
    "import pandas as pd\n",
    "import phoenix as px\n",
    "from pandas.testing import assert_frame_equal\n",
    "from phoenix.db import models\n",
    "from sqlalchemy import and_, create_engine, select\n",
    "from sqlalchemy.orm import aliased, sessionmaker"
   ]
  },
  {
   "cell_type": "code",
   "execution_count": null,
   "metadata": {},
   "outputs": [],
   "source": [
    "PostgresSession = sessionmaker(\n",
    "    create_engine(\n",
    "        \"postgresql+psycopg://localhost:5432/postgres?user=postgres&password=mysecretpassword\",\n",
    "        echo=True,\n",
    "    ),\n",
    "    expire_on_commit=False,\n",
    ")\n",
    "SqliteSession = sessionmaker(\n",
    "    create_engine(\"sqlite:////Users/xandersong/.phoenix/phoenix.db\", echo=True),\n",
    "    expire_on_commit=False,\n",
    ")"
   ]
  },
  {
   "cell_type": "code",
   "execution_count": null,
   "metadata": {},
   "outputs": [],
   "source": [
    "original_endpoint = \"http://127.0.0.1:6008\"\n",
    "sqlite_endpoint = \"http://127.0.0.1:6006\"\n",
    "postgres_endpoint = \"http://127.0.0.1:6007\""
   ]
  },
  {
   "cell_type": "code",
   "execution_count": null,
   "metadata": {},
   "outputs": [],
   "source": [
    "# SELECT * FROM spans\n",
    "# JOIN (\n",
    "#     SELECT spans.id, sa.score, sa.label FROM spans\n",
    "#     JOIN span_annotations sa on spans.id = sa.span_rowid\n",
    "# ) B ON spans.id == B.id\n",
    "# WHERE B.score > 0.5 AND B.label == 'factual' AND spans.name == 'query';"
   ]
  },
  {
   "cell_type": "code",
   "execution_count": null,
   "metadata": {},
   "outputs": [],
   "source": [
    "def get_spans_dataframe(endpoint: str, filter_condition: str):\n",
    "    return (\n",
    "        px.Client(endpoint=endpoint)\n",
    "        .get_spans_dataframe(filter_condition)\n",
    "        .sort_index()\n",
    "        .reindex(sorted(sqlite_df.columns), axis=1)\n",
    "    )"
   ]
  },
  {
   "cell_type": "code",
   "execution_count": null,
   "metadata": {},
   "outputs": [],
   "source": [
    "filter_condition = \"evals['Q&A Correctness'].label == 'correct'\"\n",
    "original_df = get_spans_dataframe(endpoint=original_endpoint, filter_condition=filter_condition)\n",
    "postgres_df = get_spans_dataframe(endpoint=postgres_endpoint, filter_condition=filter_condition)\n",
    "sqlite_df = get_spans_dataframe(endpoint=sqlite_endpoint, filter_condition=filter_condition)"
   ]
  },
  {
   "cell_type": "code",
   "execution_count": null,
   "metadata": {},
   "outputs": [],
   "source": [
    "original_df.compare(sqlite_df, result_names=(\"original\", \"sqlite\"))"
   ]
  },
  {
   "cell_type": "code",
   "execution_count": null,
   "metadata": {},
   "outputs": [],
   "source": [
    "postgres_df"
   ]
  },
  {
   "cell_type": "code",
   "execution_count": null,
   "metadata": {},
   "outputs": [],
   "source": [
    "original_df.compare(postgres_df, result_names=(\"original\", \"postgres\"))"
   ]
  },
  {
   "cell_type": "code",
   "execution_count": null,
   "metadata": {},
   "outputs": [],
   "source": [
    "sqlite_df[[\"attributes.openinference.span.kind\", \"events\", \"parent_id\"]]"
   ]
  },
  {
   "cell_type": "code",
   "execution_count": null,
   "metadata": {},
   "outputs": [],
   "source": [
    "original_df[[\"attributes.openinference.span.kind\", \"events\", \"parent_id\"]]"
   ]
  },
  {
   "cell_type": "code",
   "execution_count": null,
   "metadata": {},
   "outputs": [],
   "source": [
    "original_df[\"events\"].map(len).value_counts()"
   ]
  },
  {
   "cell_type": "code",
   "execution_count": null,
   "metadata": {},
   "outputs": [],
   "source": [
    "type(sqlite_df[\"events\"].iloc[0])"
   ]
  },
  {
   "cell_type": "code",
   "execution_count": null,
   "metadata": {},
   "outputs": [],
   "source": [
    "original_df.equals(sqlite_df)"
   ]
  },
  {
   "cell_type": "code",
   "execution_count": null,
   "metadata": {},
   "outputs": [],
   "source": [
    "sqlite_df[\"parent_id\"].isna().sum()"
   ]
  },
  {
   "cell_type": "code",
   "execution_count": null,
   "metadata": {},
   "outputs": [],
   "source": [
    "original_df[\"attributes.openinference.span.kind\"]"
   ]
  },
  {
   "cell_type": "code",
   "execution_count": null,
   "metadata": {},
   "outputs": [],
   "source": [
    "original_df.columns"
   ]
  },
  {
   "cell_type": "code",
   "execution_count": null,
   "metadata": {},
   "outputs": [],
   "source": [
    "sqlite_df.columns"
   ]
  },
  {
   "cell_type": "code",
   "execution_count": null,
   "metadata": {},
   "outputs": [],
   "source": [
    "stmt = (\n",
    "    select(models.Span.span_id)\n",
    "    .join(models.SpanAnnotation)\n",
    "    .where(\n",
    "        and_(\n",
    "            models.SpanAnnotation.name == \"Q&A Correctness\",\n",
    "            models.SpanAnnotation.label == \"correct\",\n",
    "        ),\n",
    "    )\n",
    ")\n",
    "with SqliteSession() as sqlite_session:\n",
    "    sqlite_df = pd.read_sql(\n",
    "        stmt,\n",
    "        sqlite_session.connection(),\n",
    "        index_col=\"span_id\",\n",
    "    )\n",
    "with PostgresSession() as postgres_session:\n",
    "    postgres_df = pd.read_sql(\n",
    "        stmt,\n",
    "        postgres_session.connection(),\n",
    "        index_col=\"span_id\",\n",
    "    )\n",
    "assert_frame_equal(\n",
    "    sqlite_df.sort_index().sort_index(axis=1),\n",
    "    postgres_df.sort_index().sort_index(axis=1),\n",
    ")"
   ]
  },
  {
   "cell_type": "markdown",
   "metadata": {},
   "source": [
    "```\n",
    "evals[\"Q&A Correctness\"].label == \"correct\" and evals[\"Hallucination\"].label == \"hallucinated\"\n",
    "```"
   ]
  },
  {
   "cell_type": "code",
   "execution_count": null,
   "metadata": {},
   "outputs": [],
   "source": [
    "A = aliased(models.SpanAnnotation, name=\"first-table\")\n",
    "B = aliased(models.SpanAnnotation)\n",
    "stmt = (\n",
    "    select(models.Span.span_id)\n",
    "    .join(A, onclause=A.name == \"Q&A Correctness\")\n",
    "    .join(B, onclause=B.name == \"Hallucination\")\n",
    "    .where(A.label == \"correct\")\n",
    "    .where(B.label == \"hallucinated\")\n",
    ")\n",
    "with SqliteSession() as sqlite_session:\n",
    "    sqlite_df = pd.read_sql(\n",
    "        stmt,\n",
    "        sqlite_session.connection(),\n",
    "        index_col=\"span_id\",\n",
    "    )\n",
    "with PostgresSession() as postgres_session:\n",
    "    postgres_df = pd.read_sql(\n",
    "        stmt,\n",
    "        postgres_session.connection(),\n",
    "        index_col=\"span_id\",\n",
    "    )\n",
    "assert_frame_equal(\n",
    "    sqlite_df.sort_index().sort_index(axis=1),\n",
    "    postgres_df.sort_index().sort_index(axis=1),\n",
    ")"
   ]
  },
  {
   "cell_type": "code",
   "execution_count": null,
   "metadata": {},
   "outputs": [],
   "source": [
    "from sqlalchemy import inspect\n",
    "from sqlalchemy.orm import aliased\n",
    "\n",
    "insp = inspect(A)"
   ]
  },
  {
   "cell_type": "code",
   "execution_count": null,
   "metadata": {},
   "outputs": [],
   "source": [
    "from sqlalchemy.orm.util import AliasedClass\n",
    "\n",
    "isinstance(A, AliasedClass)"
   ]
  },
  {
   "cell_type": "code",
   "execution_count": null,
   "metadata": {},
   "outputs": [],
   "source": [
    "from sqlalchemy.sql.roles import JoinTargetRole\n",
    "\n",
    "isinstance(A, JoinTargetRole)"
   ]
  },
  {
   "cell_type": "code",
   "execution_count": null,
   "metadata": {},
   "outputs": [],
   "source": [
    "insp.name"
   ]
  },
  {
   "cell_type": "code",
   "execution_count": null,
   "metadata": {},
   "outputs": [],
   "source": [
    "# SELECT span_annotations.span_rowid,\n",
    "# MAX(CASE WHEN name = 'Hallucination' and score = 0 THEN 1 ELSE 0 END) AS A,\n",
    "# MAX(CASE WHEN name = 'Q&A Correctness' and label = 'correct' THEN 1 ELSE 0 END) AS B\n",
    "# FROM span_annotations\n",
    "# WHERE name in ('Hallucination', 'Q&A Correctness')\n",
    "# GROUP BY span_annotations.span_rowid\n",
    "# HAVING A = 1 and B = 1\n",
    "# ORDER BY span_rowid;"
   ]
  }
 ],
 "metadata": {
  "language_info": {
   "name": "python"
  }
 },
 "nbformat": 4,
 "nbformat_minor": 2
}
