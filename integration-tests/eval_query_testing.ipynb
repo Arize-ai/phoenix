{
 "cells": [
  {
   "cell_type": "code",
   "execution_count": null,
   "metadata": {},
   "outputs": [],
   "source": [
    "import pandas as pd\n",
    "from phoenix.db import models\n",
    "from sqlalchemy import and_, create_engine, select\n",
    "from sqlalchemy.orm import aliased, sessionmaker"
   ]
  },
  {
   "cell_type": "code",
   "execution_count": null,
   "metadata": {},
   "outputs": [],
   "source": [
    "# PostgresSession = sessionmaker(\n",
    "#     create_engine(\n",
    "#         \"postgresql+psycopg://localhost:5432/postgres?user=postgres&password=mysecretpassword\",\n",
    "#         echo=True,\n",
    "#     ),\n",
    "#     expire_on_commit=False,\n",
    "# )\n",
    "SqliteSession = sessionmaker(\n",
    "    create_engine(\"sqlite:////Users/xandersong/.phoenix/phoenix.db\", echo=True),\n",
    "    expire_on_commit=False,\n",
    ")"
   ]
  },
  {
   "cell_type": "code",
   "execution_count": null,
   "metadata": {},
   "outputs": [],
   "source": [
    "orig_endpoint = \"http://127.0.0.1:6008\"\n",
    "postgres_endpoint = \"http://127.0.0.1:6007\"\n",
    "sqlite_endpoint = \"http://127.0.0.1:6006\""
   ]
  },
  {
   "cell_type": "code",
   "execution_count": null,
   "metadata": {},
   "outputs": [],
   "source": [
    "# SELECT * FROM spans\n",
    "# JOIN (\n",
    "#     SELECT spans.id, sa.score, sa.label FROM spans\n",
    "#     JOIN span_annotations sa on spans.id = sa.span_rowid\n",
    "# ) B ON spans.id == B.id\n",
    "# WHERE B.score > 0.5 AND B.label == 'factual' AND spans.name == 'query';"
   ]
  },
  {
   "cell_type": "code",
   "execution_count": null,
   "metadata": {},
   "outputs": [],
   "source": [
    "with SqliteSession() as session:\n",
    "    df = pd.read_sql(\n",
    "        select(models.Span.id)\n",
    "        .join(models.SpanAnnotation)\n",
    "        .where(models.SpanAnnotation.score > 0.5)\n",
    "        .where(models.SpanAnnotation.label == \"factual\"),\n",
    "        session.connection(),\n",
    "    )\n",
    "df"
   ]
  },
  {
   "cell_type": "markdown",
   "metadata": {},
   "source": [
    "```\n",
    "evals[\"Q&A Correctness\"].label == \"correct\" and evals[\"Hallucination\"].label == \"hallucinated\"\n",
    "```"
   ]
  },
  {
   "cell_type": "code",
   "execution_count": null,
   "metadata": {},
   "outputs": [],
   "source": [
    "with SqliteSession() as session:\n",
    "    A = aliased(models.SpanAnnotation)\n",
    "    B = aliased(models.SpanAnnotation)\n",
    "    df = pd.read_sql(\n",
    "        select(models.Span.id, A.name, A.label, B.name, B.label)\n",
    "        .join(A)\n",
    "        .join(B)\n",
    "        .where(\n",
    "            and_(\n",
    "                A.name == \"Q&A Correctness\",\n",
    "                A.label == \"correct\",\n",
    "                B.name == \"Hallucination\",\n",
    "                B.label == \"hallucinated\",\n",
    "            ),\n",
    "        ),\n",
    "        session.connection(),\n",
    "    )\n",
    "df"
   ]
  },
  {
   "cell_type": "markdown",
   "metadata": {},
   "source": [
    "```\n",
    "evals[\"Q&A Correctness\"].label == \"correct\" and evals[\"Hallucination\"].score == 0\n",
    "```"
   ]
  },
  {
   "cell_type": "code",
   "execution_count": null,
   "metadata": {},
   "outputs": [],
   "source": [
    "with SqliteSession() as session:\n",
    "    A = aliased(models.SpanAnnotation)\n",
    "    B = aliased(models.SpanAnnotation)\n",
    "    df = pd.read_sql(\n",
    "        select(models.Span.id, A.name, A.label, B.name, B.label)\n",
    "        .join(A)\n",
    "        .join(B)\n",
    "        .where(\n",
    "            and_(\n",
    "                A.name == \"Q&A Correctness\",\n",
    "                A.label == \"correct\",\n",
    "                B.name == \"Hallucination\",\n",
    "                B.score == 0,\n",
    "            ),\n",
    "        ),\n",
    "        session.connection(),\n",
    "    )\n",
    "df"
   ]
  },
  {
   "cell_type": "code",
   "execution_count": null,
   "metadata": {},
   "outputs": [],
   "source": [
    "with SqliteSession() as session:\n",
    "    A = aliased(models.SpanAnnotation)\n",
    "    df = pd.read_sql(\n",
    "        select(models.Span.id, A.name, A.label)\n",
    "        .join(A)\n",
    "        .where(\n",
    "            and_(\n",
    "                A.name == \"Q&A Correctness\",\n",
    "                A.label == \"correct\",\n",
    "            ),\n",
    "        ),\n",
    "        session.connection(),\n",
    "    )\n",
    "df"
   ]
  },
  {
   "cell_type": "code",
   "execution_count": null,
   "metadata": {},
   "outputs": [],
   "source": [
    "# SELECT span_annotations.span_rowid,\n",
    "# MAX(CASE WHEN name = 'Hallucination' and score = 0 THEN 1 ELSE 0 END) AS A,\n",
    "# MAX(CASE WHEN name = 'Q&A Correctness' and label = 'correct' THEN 1 ELSE 0 END) AS B\n",
    "# FROM span_annotations\n",
    "# WHERE name in ('Hallucination', 'Q&A Correctness')\n",
    "# GROUP BY span_annotations.span_rowid\n",
    "# HAVING A = 1 and B = 1\n",
    "# ORDER BY span_rowid;"
   ]
  }
 ],
 "metadata": {
  "language_info": {
   "name": "python"
  }
 },
 "nbformat": 4,
 "nbformat_minor": 2
}
