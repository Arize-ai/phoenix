{
 "cells": [
  {
   "cell_type": "code",
   "execution_count": null,
   "metadata": {},
   "outputs": [],
   "source": [
    "import json\n",
    "\n",
    "from dictdiffer import diff\n",
    "from gql import Client, gql\n",
    "from gql.transport.requests import RequestsHTTPTransport\n",
    "\n",
    "new_url = \"http://127.0.0.1:6006/graphql\"\n",
    "old_url = \"http://127.0.0.1:6005/graphql\"\n",
    "\n",
    "client_new_url = Client(\n",
    "    transport=RequestsHTTPTransport(url=new_url, timeout=60), fetch_schema_from_transport=True\n",
    ")\n",
    "client_old_url = Client(\n",
    "    transport=RequestsHTTPTransport(url=old_url, timeout=60), fetch_schema_from_transport=True\n",
    ")"
   ]
  },
  {
   "cell_type": "markdown",
   "metadata": {},
   "source": [
    "# Span Evaluation Summary"
   ]
  },
  {
   "cell_type": "code",
   "execution_count": null,
   "metadata": {},
   "outputs": [],
   "source": [
    "span_eval_smry = gql(\n",
    "    \"\"\"\n",
    "    query MyQuery {\n",
    "        projects {\n",
    "            edges {\n",
    "                node {\n",
    "                    hallucination: spanEvaluationSummary(evaluationName: \"Hallucination\") {\n",
    "                        count\n",
    "                        labelCount\n",
    "                        labelFractions {\n",
    "                            fraction\n",
    "                            label\n",
    "                        }\n",
    "                        labels\n",
    "                        meanScore\n",
    "                        scoreCount\n",
    "                    }\n",
    "                    qa_correctness: spanEvaluationSummary(evaluationName: \"Q&A Correctness\") {\n",
    "                        count\n",
    "                        labelCount\n",
    "                        labelFractions {\n",
    "                            fraction\n",
    "                            label\n",
    "                        }\n",
    "                        labels\n",
    "                        meanScore\n",
    "                        scoreCount\n",
    "                    }\n",
    "                }\n",
    "            }\n",
    "        }\n",
    "    }\n",
    "\"\"\"\n",
    ")"
   ]
  },
  {
   "cell_type": "markdown",
   "metadata": {},
   "source": [
    "### Check Diff"
   ]
  },
  {
   "cell_type": "code",
   "execution_count": null,
   "metadata": {},
   "outputs": [],
   "source": [
    "list(\n",
    "    diff(\n",
    "        client_old_url.execute(span_eval_smry),\n",
    "        client_new_url.execute(span_eval_smry),\n",
    "        tolerance=0.0001,\n",
    "    )\n",
    ")"
   ]
  },
  {
   "cell_type": "code",
   "execution_count": null,
   "metadata": {},
   "outputs": [],
   "source": [
    "print(json.dumps(client_new_url.execute(span_eval_smry), indent=2))"
   ]
  },
  {
   "cell_type": "markdown",
   "metadata": {},
   "source": [
    "### Runtimes"
   ]
  },
  {
   "cell_type": "code",
   "execution_count": null,
   "metadata": {},
   "outputs": [],
   "source": [
    "%%timeit\n",
    "_ = client_new_url.execute(span_eval_smry)"
   ]
  },
  {
   "cell_type": "code",
   "execution_count": null,
   "metadata": {},
   "outputs": [],
   "source": [
    "%%timeit\n",
    "_ = client_old_url.execute(span_eval_smry)"
   ]
  },
  {
   "cell_type": "markdown",
   "metadata": {},
   "source": [
    "# Document Evaluation Summary"
   ]
  },
  {
   "cell_type": "code",
   "execution_count": null,
   "metadata": {},
   "outputs": [],
   "source": [
    "doc_eval_smry = gql(\n",
    "    \"\"\"\n",
    "    query MyQuery {\n",
    "        projects {\n",
    "            edges {\n",
    "                node {\n",
    "                    documentEvaluationSummary(evaluationName: \"Relevance\") {\n",
    "                        averageNdcg\n",
    "                        averagePrecision\n",
    "                        countHit\n",
    "                        countNdcg\n",
    "                        countPrecision\n",
    "                        countReciprocalRank\n",
    "                        evaluationName\n",
    "                        hitRate\n",
    "                        meanReciprocalRank\n",
    "                    }\n",
    "                }\n",
    "            }\n",
    "        }\n",
    "    }\n",
    "\"\"\"\n",
    ")"
   ]
  },
  {
   "cell_type": "markdown",
   "metadata": {},
   "source": [
    "### Check Diff"
   ]
  },
  {
   "cell_type": "code",
   "execution_count": null,
   "metadata": {},
   "outputs": [],
   "source": [
    "list(\n",
    "    diff(\n",
    "        client_old_url.execute(doc_eval_smry),\n",
    "        client_new_url.execute(doc_eval_smry),\n",
    "        tolerance=0.0001,\n",
    "    )\n",
    ")"
   ]
  },
  {
   "cell_type": "code",
   "execution_count": null,
   "metadata": {},
   "outputs": [],
   "source": [
    "print(json.dumps(client_new_url.execute(doc_eval_smry), indent=2))"
   ]
  },
  {
   "cell_type": "markdown",
   "metadata": {},
   "source": [
    "### Runtimes"
   ]
  },
  {
   "cell_type": "code",
   "execution_count": null,
   "metadata": {},
   "outputs": [],
   "source": [
    "%%timeit\n",
    "_ = client_new_url.execute(doc_eval_smry)"
   ]
  },
  {
   "cell_type": "code",
   "execution_count": null,
   "metadata": {},
   "outputs": [],
   "source": [
    "%%timeit\n",
    "_ = client_old_url.execute(doc_eval_smry)"
   ]
  },
  {
   "cell_type": "markdown",
   "metadata": {},
   "source": [
    "# Latency Ms Quantiles"
   ]
  },
  {
   "cell_type": "code",
   "execution_count": null,
   "metadata": {},
   "outputs": [],
   "source": [
    "latency_ms_qtl = gql(\n",
    "    \"\"\"\n",
    "    query MyQuery {\n",
    "    projects {\n",
    "        edges {\n",
    "        node {\n",
    "            _1: latencyMsQuantile(probability: 0.1)\n",
    "            _2: latencyMsQuantile(probability: 0.2)\n",
    "            _3: latencyMsQuantile(probability: 0.3)\n",
    "            _4: latencyMsQuantile(probability: 0.4)\n",
    "            _5: latencyMsQuantile(probability: 0.5)\n",
    "            _6: latencyMsQuantile(probability: 0.6)\n",
    "            _7: latencyMsQuantile(probability: 0.7)\n",
    "            _8: latencyMsQuantile(probability: 0.8)\n",
    "            _9: latencyMsQuantile(probability: 0.9)\n",
    "        }\n",
    "        }\n",
    "    }\n",
    "    }\n",
    "\"\"\"\n",
    ")"
   ]
  },
  {
   "cell_type": "markdown",
   "metadata": {},
   "source": [
    "### Check Diff"
   ]
  },
  {
   "cell_type": "code",
   "execution_count": null,
   "metadata": {},
   "outputs": [],
   "source": [
    "list(\n",
    "    diff(\n",
    "        client_old_url.execute(latency_ms_qtl),\n",
    "        client_new_url.execute(latency_ms_qtl),\n",
    "        tolerance=0.0001,\n",
    "    )\n",
    ")"
   ]
  },
  {
   "cell_type": "code",
   "execution_count": null,
   "metadata": {},
   "outputs": [],
   "source": [
    "print(json.dumps(client_new_url.execute(latency_ms_qtl), indent=2))"
   ]
  },
  {
   "cell_type": "markdown",
   "metadata": {},
   "source": [
    "### Runtimes"
   ]
  },
  {
   "cell_type": "code",
   "execution_count": null,
   "metadata": {},
   "outputs": [],
   "source": [
    "%%timeit\n",
    "_ = client_new_url.execute(latency_ms_qtl)"
   ]
  },
  {
   "cell_type": "code",
   "execution_count": null,
   "metadata": {},
   "outputs": [],
   "source": [
    "%%timeit\n",
    "_ = client_old_url.execute(latency_ms_qtl)"
   ]
  },
  {
   "cell_type": "markdown",
   "metadata": {},
   "source": [
    "# Start and End Times"
   ]
  },
  {
   "cell_type": "code",
   "execution_count": null,
   "metadata": {},
   "outputs": [],
   "source": [
    "start_end_times = gql(\n",
    "    \"\"\"\n",
    "    query MyQuery {\n",
    "    projects {\n",
    "        edges {\n",
    "        node {\n",
    "            endTime\n",
    "            startTime\n",
    "        }\n",
    "        }\n",
    "    }\n",
    "    }\n",
    "\"\"\"\n",
    ")"
   ]
  },
  {
   "cell_type": "markdown",
   "metadata": {},
   "source": [
    "### Check Diff"
   ]
  },
  {
   "cell_type": "code",
   "execution_count": null,
   "metadata": {},
   "outputs": [],
   "source": [
    "list(\n",
    "    diff(\n",
    "        client_old_url.execute(start_end_times),\n",
    "        client_new_url.execute(start_end_times),\n",
    "        tolerance=0.0001,\n",
    "    )\n",
    ")"
   ]
  },
  {
   "cell_type": "code",
   "execution_count": null,
   "metadata": {},
   "outputs": [],
   "source": [
    "print(json.dumps(client_new_url.execute(start_end_times), indent=2))"
   ]
  },
  {
   "cell_type": "markdown",
   "metadata": {},
   "source": [
    "### Runtimes"
   ]
  },
  {
   "cell_type": "code",
   "execution_count": null,
   "metadata": {},
   "outputs": [],
   "source": [
    "%%timeit\n",
    "_ = client_new_url.execute(start_end_times)"
   ]
  },
  {
   "cell_type": "code",
   "execution_count": null,
   "metadata": {},
   "outputs": [],
   "source": [
    "%%timeit\n",
    "_ = client_old_url.execute(start_end_times)"
   ]
  }
 ],
 "metadata": {
  "language_info": {
   "name": "python"
  }
 },
 "nbformat": 4,
 "nbformat_minor": 2
}
