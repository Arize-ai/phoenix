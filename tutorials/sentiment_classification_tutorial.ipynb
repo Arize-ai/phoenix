{
 "cells": [
  {
   "cell_type": "markdown",
   "metadata": {},
   "source": [
    "# <center>Phoenix in Flight</center>\n",
    "## <center>Investigating Embedding Drift for a Sentiment Classification Model</center>\n",
    "\n",
    "Imagine you're in charge of maintaining a model that takes as input online reviews of your U.S.-based product and classifies the sentiment of each review as positive, negative, or neutral. Your model initially performs well in production, but its performance gradually degrades over time.\n",
    "\n",
    "Phoenix helps you surface the reason for this regression by analyzing the *embeddings* representing the text of each review. Your model was trained on English reviews, but as you'll discover, it's encountering Spanish reviews in production that it can't correctly classify.\n",
    "\n",
    "According to our research, embedding drift often precedes performance degradation. So Phoenix can help you proactively detect and fix this issue before it becomes noticable to your users.\n",
    "\n",
    "In this tutorial, you will:\n",
    "* Download curated datasets of embeddings and predictions\n",
    "* Visually explore embeddings in Phoenix\n",
    "* Investigate problematic clusters\n",
    "* Export data for labeling and re-training\n",
    "\n",
    "Let's get started!"
   ]
  },
  {
   "cell_type": "markdown",
   "metadata": {},
   "source": [
    "### 1. Install Dependencies and Import Libraries 📚"
   ]
  },
  {
   "cell_type": "code",
   "execution_count": 1,
   "metadata": {},
   "outputs": [
    {
     "name": "stdout",
     "output_type": "stream",
     "text": [
      "\n",
      "\u001b[1m[\u001b[0m\u001b[34;49mnotice\u001b[0m\u001b[1;39;49m]\u001b[0m\u001b[39;49m A new release of pip available: \u001b[0m\u001b[31;49m22.2.2\u001b[0m\u001b[39;49m -> \u001b[0m\u001b[32;49m23.0.1\u001b[0m\n",
      "\u001b[1m[\u001b[0m\u001b[34;49mnotice\u001b[0m\u001b[1;39;49m]\u001b[0m\u001b[39;49m To update, run: \u001b[0m\u001b[32;49mpip install --upgrade pip\u001b[0m\n",
      "Note: you may need to restart the kernel to use updated packages.\n"
     ]
    }
   ],
   "source": [
    "%pip install -q arize-phoenix"
   ]
  },
  {
   "cell_type": "code",
   "execution_count": 2,
   "metadata": {},
   "outputs": [],
   "source": [
    "import pandas as pd\n",
    "import phoenix as px"
   ]
  },
  {
   "cell_type": "markdown",
   "metadata": {},
   "source": [
    "### 2. Download the Data 📊\n",
    "\n",
    "Load your training and production data into two pandas dataframes and inspect a few rows of the training dataframe."
   ]
  },
  {
   "cell_type": "code",
   "execution_count": 3,
   "metadata": {},
   "outputs": [
    {
     "data": {
      "text/html": [
       "<div>\n",
       "<style scoped>\n",
       "    .dataframe tbody tr th:only-of-type {\n",
       "        vertical-align: middle;\n",
       "    }\n",
       "\n",
       "    .dataframe tbody tr th {\n",
       "        vertical-align: top;\n",
       "    }\n",
       "\n",
       "    .dataframe thead th {\n",
       "        text-align: right;\n",
       "    }\n",
       "</style>\n",
       "<table border=\"1\" class=\"dataframe\">\n",
       "  <thead>\n",
       "    <tr style=\"text-align: right;\">\n",
       "      <th></th>\n",
       "      <th>prediction_ts</th>\n",
       "      <th>reviewer_age</th>\n",
       "      <th>reviewer_gender</th>\n",
       "      <th>product_category</th>\n",
       "      <th>language</th>\n",
       "      <th>text</th>\n",
       "      <th>text_vector</th>\n",
       "      <th>label</th>\n",
       "      <th>pred_label</th>\n",
       "    </tr>\n",
       "  </thead>\n",
       "  <tbody>\n",
       "    <tr>\n",
       "      <th>0</th>\n",
       "      <td>1.650092e+09</td>\n",
       "      <td>21</td>\n",
       "      <td>female</td>\n",
       "      <td>apparel</td>\n",
       "      <td>english</td>\n",
       "      <td>Poor quality of fabric and ridiculously tight ...</td>\n",
       "      <td>[-0.070516996, 0.6640034, 0.33579218, -0.26907...</td>\n",
       "      <td>negative</td>\n",
       "      <td>negative</td>\n",
       "    </tr>\n",
       "    <tr>\n",
       "      <th>1</th>\n",
       "      <td>1.650093e+09</td>\n",
       "      <td>29</td>\n",
       "      <td>male</td>\n",
       "      <td>kitchen</td>\n",
       "      <td>english</td>\n",
       "      <td>Love these glasses, thought they'd be everyday...</td>\n",
       "      <td>[-0.0024410924, -0.5406275, 0.31713492, -0.033...</td>\n",
       "      <td>positive</td>\n",
       "      <td>positive</td>\n",
       "    </tr>\n",
       "    <tr>\n",
       "      <th>2</th>\n",
       "      <td>1.650093e+09</td>\n",
       "      <td>26</td>\n",
       "      <td>female</td>\n",
       "      <td>sports</td>\n",
       "      <td>english</td>\n",
       "      <td>These are disgusting, it tastes like you are \"...</td>\n",
       "      <td>[0.40487882, 0.8235396, 0.38333943, -0.4269158...</td>\n",
       "      <td>negative</td>\n",
       "      <td>negative</td>\n",
       "    </tr>\n",
       "    <tr>\n",
       "      <th>3</th>\n",
       "      <td>1.650093e+09</td>\n",
       "      <td>26</td>\n",
       "      <td>male</td>\n",
       "      <td>other</td>\n",
       "      <td>english</td>\n",
       "      <td>My husband has a pair of TaoTronics so I decid...</td>\n",
       "      <td>[0.018816521, 0.53441304, 0.4907303, -0.024163...</td>\n",
       "      <td>neutral</td>\n",
       "      <td>neutral</td>\n",
       "    </tr>\n",
       "    <tr>\n",
       "      <th>4</th>\n",
       "      <td>1.650093e+09</td>\n",
       "      <td>37</td>\n",
       "      <td>male</td>\n",
       "      <td>home_improvement</td>\n",
       "      <td>english</td>\n",
       "      <td>Threads too deep. Engages on tank, but gasket ...</td>\n",
       "      <td>[-0.25348073, 0.31603432, 0.35810202, -0.24672...</td>\n",
       "      <td>negative</td>\n",
       "      <td>negative</td>\n",
       "    </tr>\n",
       "  </tbody>\n",
       "</table>\n",
       "</div>"
      ],
      "text/plain": [
       "   prediction_ts  reviewer_age reviewer_gender  product_category language  \\\n",
       "0   1.650092e+09            21          female           apparel  english   \n",
       "1   1.650093e+09            29            male           kitchen  english   \n",
       "2   1.650093e+09            26          female            sports  english   \n",
       "3   1.650093e+09            26            male             other  english   \n",
       "4   1.650093e+09            37            male  home_improvement  english   \n",
       "\n",
       "                                                text  \\\n",
       "0  Poor quality of fabric and ridiculously tight ...   \n",
       "1  Love these glasses, thought they'd be everyday...   \n",
       "2  These are disgusting, it tastes like you are \"...   \n",
       "3  My husband has a pair of TaoTronics so I decid...   \n",
       "4  Threads too deep. Engages on tank, but gasket ...   \n",
       "\n",
       "                                         text_vector     label pred_label  \n",
       "0  [-0.070516996, 0.6640034, 0.33579218, -0.26907...  negative   negative  \n",
       "1  [-0.0024410924, -0.5406275, 0.31713492, -0.033...  positive   positive  \n",
       "2  [0.40487882, 0.8235396, 0.38333943, -0.4269158...  negative   negative  \n",
       "3  [0.018816521, 0.53441304, 0.4907303, -0.024163...   neutral    neutral  \n",
       "4  [-0.25348073, 0.31603432, 0.35810202, -0.24672...  negative   negative  "
      ]
     },
     "execution_count": 3,
     "metadata": {},
     "output_type": "execute_result"
    }
   ],
   "source": [
    "training_dataframe = pd.read_parquet(\n",
    "    \"https://storage.googleapis.com/arize-assets/phoenix/datasets/unstructured/nlp/sentiment-classification-language-drift/sentiment_classification_language_drift_training.parquet\",\n",
    ")\n",
    "production_dataframe = pd.read_parquet(\n",
    "    \"https://storage.googleapis.com/arize-assets/phoenix/datasets/unstructured/nlp/sentiment-classification-language-drift/sentiment_classification_language_drift_production.parquet\",\n",
    ")\n",
    "training_dataframe.head()"
   ]
  },
  {
   "cell_type": "markdown",
   "metadata": {},
   "source": [
    "The columns of the dataframe are:\n",
    "- **prediction_ts:** the Unix timestamps of your predictions\n",
    "- **review_age**, **reviewer_gender**, **product_category**, **language:** the features of your model\n",
    "- **text:** the text of each review\n",
    "- **text_vector:** the embedding vectors representing each review\n",
    "- **pred_label:** the label your model predicted\n",
    "- **label:** the ground-truth label for each review"
   ]
  },
  {
   "cell_type": "markdown",
   "metadata": {},
   "source": [
    "### 3. Launch Phoenix 🔥🐦"
   ]
  },
  {
   "cell_type": "markdown",
   "metadata": {},
   "source": [
    "#### a) Define Your Schema\n",
    "\n",
    "To launch Phoenix with your data, you first need to define a schema that tells Phoenix which columns of your dataframes correspond to features, predictions, actuals (i.e., ground truth), embeddings, etc.\n",
    "\n",
    "The trickiest part is defining embedding features. In this case, each embedding feature has two pieces of information: the embedding vector itself contained in the \"text_vector\" column and the review text contained in the \"text\" column."
   ]
  },
  {
   "cell_type": "code",
   "execution_count": 4,
   "metadata": {},
   "outputs": [],
   "source": [
    "embedding_features = {\n",
    "    \"text_embedding\": px.EmbeddingColumnNames(\n",
    "        vector_column_name=\"text_vector\", raw_data_column_name=\"text\"\n",
    "    ),\n",
    "}\n",
    "schema = px.Schema(\n",
    "    timestamp_column_name=\"prediction_ts\",\n",
    "    prediction_label_column_name=\"pred_label\",\n",
    "    actual_label_column_name=\"label\",\n",
    "    embedding_feature_column_names=embedding_features,\n",
    ")"
   ]
  },
  {
   "cell_type": "markdown",
   "metadata": {},
   "source": [
    "You'll notice that the schema above doesn't explicitly specify features. That's because feature columns are automatically inferred if you don't pass `feature_column_names` to your `Schema` object."
   ]
  },
  {
   "cell_type": "markdown",
   "metadata": {},
   "source": [
    "#### b) Define Your Datasets \n",
    "Next, define your primary and reference datasets. In this case, your reference dataset contains training data and your primary dataset contains production data."
   ]
  },
  {
   "cell_type": "code",
   "execution_count": 5,
   "metadata": {},
   "outputs": [
    {
     "name": "stdout",
     "output_type": "stream",
     "text": [
      "Dataset info written to '/Users/natemar/.phoenix/datasets/primary'\n",
      "Dataset already persisted\n",
      "Dataset: primary initialized\n",
      "Dataset info written to '/Users/natemar/.phoenix/datasets/reference'\n",
      "Dataset already persisted\n",
      "Dataset: reference initialized\n"
     ]
    }
   ],
   "source": [
    "primary_dataset = px.Dataset(dataframe=production_dataframe, schema=schema, name=\"primary\")\n",
    "reference_dataset = px.Dataset(dataframe=training_dataframe, schema=schema, name=\"reference\")"
   ]
  },
  {
   "cell_type": "markdown",
   "metadata": {},
   "source": [
    "#### c) Create a Phoenix Session"
   ]
  },
  {
   "cell_type": "code",
   "execution_count": 14,
   "metadata": {},
   "outputs": [
    {
     "name": "stdout",
     "output_type": "stream",
     "text": [
      "⏳Launching Phoenix...Phoenix failed to launch. Please try again.\n"
     ]
    }
   ],
   "source": [
    "session = px.launch_app(primary=primary_dataset, reference=reference_dataset)"
   ]
  },
  {
   "cell_type": "markdown",
   "metadata": {},
   "source": [
    "#### d) Launch the Phoenix UI"
   ]
  },
  {
   "cell_type": "code",
   "execution_count": 15,
   "metadata": {},
   "outputs": [
    {
     "data": {
      "text/html": [
       "\n",
       "        <iframe\n",
       "            width=\"100%\"\n",
       "            height=\"500\"\n",
       "            src=\"http://localhost:6060/\"\n",
       "            frameborder=\"0\"\n",
       "            allowfullscreen\n",
       "            \n",
       "        ></iframe>\n",
       "        "
      ],
      "text/plain": [
       "<IPython.lib.display.IFrame at 0x129b5d690>"
      ]
     },
     "execution_count": 15,
     "metadata": {},
     "output_type": "execute_result"
    },
    {
     "name": "stderr",
     "output_type": "stream",
     "text": [
      "INFO:     Started server process [17902]\n",
      "INFO:     Waiting for application startup.\n",
      "INFO:     Application startup complete.\n",
      "INFO:     Uvicorn running on http://127.0.0.1:6060 (Press CTRL+C to quit)\n"
     ]
    },
    {
     "name": "stdout",
     "output_type": "stream",
     "text": [
      "1️⃣ primary dataset: primary\n",
      "2️⃣ reference dataset: reference\n",
      "INFO:     127.0.0.1:52344 - \"GET /embeddings/RW1iZWRkaW5nRGltZW5zaW9uOjA%3D HTTP/1.1\" 200 OK\n",
      "INFO:     127.0.0.1:52344 - \"GET /index.js HTTP/1.1\" 200 OK\n",
      "node: EmbeddingDimension 0\n",
      "INFO:     127.0.0.1:52344 - \"POST /graphql HTTP/1.1\" 200 OK\n",
      "INFO:     127.0.0.1:52344 - \"POST /graphql HTTP/1.1\" 200 OK\n",
      "node: EmbeddingDimension 0\n",
      "INFO:     127.0.0.1:52344 - \"POST /graphql HTTP/1.1\" 200 OK\n"
     ]
    },
    {
     "name": "stderr",
     "output_type": "stream",
     "text": [
      "OMP: Info #273: omp_set_nested routine deprecated, please use omp_set_max_active_levels instead.\n"
     ]
    },
    {
     "name": "stdout",
     "output_type": "stream",
     "text": [
      "node: EmbeddingDimension 0\n",
      "{<class 'phoenix.datasets.event.EventId'>}\n",
      "{<class 'numpy.ndarray'>}\n",
      "INFO:     127.0.0.1:52345 - \"POST /graphql HTTP/1.1\" 200 OK\n"
     ]
    }
   ],
   "source": [
    "session.view()"
   ]
  },
  {
   "cell_type": "markdown",
   "metadata": {},
   "source": [
    "### 4. Explore Your Data 📈\n",
    "\n",
    "Phoenix is under active development. At the moment, we display your model schema and a few data quality statistics. Check back soon for more updates."
   ]
  },
  {
   "cell_type": "markdown",
   "metadata": {},
   "source": [
    "### 5. Close the App 🧹\n",
    "\n",
    "When you're done, don't forget to close the app."
   ]
  },
  {
   "cell_type": "code",
   "execution_count": 11,
   "metadata": {},
   "outputs": [
    {
     "name": "stderr",
     "output_type": "stream",
     "text": [
      "INFO:     Shutting down\n",
      "INFO:     Waiting for application shutdown.\n",
      "INFO:     Application shutdown complete.\n",
      "INFO:     Finished server process [17712]\n"
     ]
    }
   ],
   "source": [
    "px.close_app()"
   ]
  },
  {
   "cell_type": "code",
   "execution_count": null,
   "metadata": {},
   "outputs": [],
   "source": []
  }
 ],
 "metadata": {
  "kernelspec": {
   "display_name": "Python 3 (ipykernel)",
   "language": "python",
   "name": "python3"
  },
  "language_info": {
   "codemirror_mode": {
    "name": "ipython",
    "version": 3
   },
   "file_extension": ".py",
   "mimetype": "text/x-python",
   "name": "python",
   "nbconvert_exporter": "python",
   "pygments_lexer": "ipython3",
   "version": "3.10.8"
  },
  "vscode": {
   "interpreter": {
    "hash": "376112051f594f6e24fa74b51812fe15f3714622b4054162117957862f7bf942"
   }
  }
 },
 "nbformat": 4,
 "nbformat_minor": 2
}
