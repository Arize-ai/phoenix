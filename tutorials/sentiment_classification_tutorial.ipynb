{
 "cells": [
  {
   "cell_type": "markdown",
   "metadata": {},
   "source": [
    "# Investigating Embedding Drift for a Sentiment Classification Model\n",
    "\n",
    "Imagine you're in charge of maintaining a model that takes as input online reviews of your U.S.-based product and classifies the sentiment of each review as positive, negative, or neutral. Your model initially performs well in production, but its performance gradually degrades over time.\n",
    "\n",
    "Phoenix helps you surface the reason for this regression by analyzing the [embeddings](https://docs.arize.com/phoenix/concepts/embeddings) representing the text of each review. Your model was trained on English reviews, but as you'll discover, it's encountering Spanish reviews in production that it can't correctly classify.\n",
    "\n",
    "In this tutorial, you will:\n",
    "* Download curated datasets of embeddings and predictions\n",
    "* Define a schema to describe the format of your data\n",
    "* Launch Phoenix to visually explore your embeddings\n",
    "* Investigate problematic clusters\n",
    "\n",
    "Let's get started!"
   ]
  },
  {
   "cell_type": "markdown",
   "metadata": {},
   "source": [
    "### 1. Install Dependencies and Import Libraries 📚"
   ]
  },
  {
   "cell_type": "code",
   "execution_count": 1,
   "metadata": {},
   "outputs": [
    {
     "name": "stdout",
     "output_type": "stream",
     "text": [
      "Note: you may need to restart the kernel to use updated packages.\n"
     ]
    }
   ],
   "source": [
    "!pip install -q arize-phoenix"
   ]
  },
  {
   "cell_type": "code",
   "execution_count": 6,
   "metadata": {},
   "outputs": [],
   "source": [
    "import pandas as pd\n",
    "import phoenix as px"
   ]
  },
  {
   "cell_type": "markdown",
   "metadata": {},
   "source": [
    "### 2. Download the Data 📊\n",
    "\n",
    "Load your training and production data into two Pandas DataFrames."
   ]
  },
  {
   "cell_type": "code",
   "execution_count": 7,
   "metadata": {},
   "outputs": [],
   "source": [
    "train_df = pd.read_parquet(\n",
    "    \"https://storage.googleapis.com/arize-assets/phoenix/datasets/unstructured/nlp/sentiment-classification-language-drift/sentiment_classification_language_drift_training.parquet\",\n",
    ")\n",
    "prod_df = pd.read_parquet(\n",
    "    \"https://storage.googleapis.com/arize-assets/phoenix/datasets/unstructured/nlp/sentiment-classification-language-drift/sentiment_classification_language_drift_production.parquet\",\n",
    ")"
   ]
  },
  {
   "cell_type": "markdown",
   "metadata": {},
   "source": [
    "Inspect a few rows of the training DataFrame."
   ]
  },
  {
   "cell_type": "code",
   "execution_count": 8,
   "metadata": {},
   "outputs": [
    {
     "data": {
      "text/html": [
       "<div>\n",
       "<style scoped>\n",
       "    .dataframe tbody tr th:only-of-type {\n",
       "        vertical-align: middle;\n",
       "    }\n",
       "\n",
       "    .dataframe tbody tr th {\n",
       "        vertical-align: top;\n",
       "    }\n",
       "\n",
       "    .dataframe thead th {\n",
       "        text-align: right;\n",
       "    }\n",
       "</style>\n",
       "<table border=\"1\" class=\"dataframe\">\n",
       "  <thead>\n",
       "    <tr style=\"text-align: right;\">\n",
       "      <th></th>\n",
       "      <th>prediction_ts</th>\n",
       "      <th>reviewer_age</th>\n",
       "      <th>reviewer_gender</th>\n",
       "      <th>product_category</th>\n",
       "      <th>language</th>\n",
       "      <th>text</th>\n",
       "      <th>text_vector</th>\n",
       "      <th>label</th>\n",
       "      <th>pred_label</th>\n",
       "    </tr>\n",
       "  </thead>\n",
       "  <tbody>\n",
       "    <tr>\n",
       "      <th>0</th>\n",
       "      <td>1.650092e+09</td>\n",
       "      <td>21</td>\n",
       "      <td>female</td>\n",
       "      <td>apparel</td>\n",
       "      <td>english</td>\n",
       "      <td>Poor quality of fabric and ridiculously tight ...</td>\n",
       "      <td>[-0.070516996, 0.6640034, 0.33579218, -0.26907...</td>\n",
       "      <td>negative</td>\n",
       "      <td>negative</td>\n",
       "    </tr>\n",
       "    <tr>\n",
       "      <th>1</th>\n",
       "      <td>1.650093e+09</td>\n",
       "      <td>29</td>\n",
       "      <td>male</td>\n",
       "      <td>kitchen</td>\n",
       "      <td>english</td>\n",
       "      <td>Love these glasses, thought they'd be everyday...</td>\n",
       "      <td>[-0.0024410924, -0.5406275, 0.31713492, -0.033...</td>\n",
       "      <td>positive</td>\n",
       "      <td>positive</td>\n",
       "    </tr>\n",
       "    <tr>\n",
       "      <th>2</th>\n",
       "      <td>1.650093e+09</td>\n",
       "      <td>26</td>\n",
       "      <td>female</td>\n",
       "      <td>sports</td>\n",
       "      <td>english</td>\n",
       "      <td>These are disgusting, it tastes like you are \"...</td>\n",
       "      <td>[0.40487882, 0.8235396, 0.38333943, -0.4269158...</td>\n",
       "      <td>negative</td>\n",
       "      <td>negative</td>\n",
       "    </tr>\n",
       "    <tr>\n",
       "      <th>3</th>\n",
       "      <td>1.650093e+09</td>\n",
       "      <td>26</td>\n",
       "      <td>male</td>\n",
       "      <td>other</td>\n",
       "      <td>english</td>\n",
       "      <td>My husband has a pair of TaoTronics so I decid...</td>\n",
       "      <td>[0.018816521, 0.53441304, 0.4907303, -0.024163...</td>\n",
       "      <td>neutral</td>\n",
       "      <td>neutral</td>\n",
       "    </tr>\n",
       "    <tr>\n",
       "      <th>4</th>\n",
       "      <td>1.650093e+09</td>\n",
       "      <td>37</td>\n",
       "      <td>male</td>\n",
       "      <td>home_improvement</td>\n",
       "      <td>english</td>\n",
       "      <td>Threads too deep. Engages on tank, but gasket ...</td>\n",
       "      <td>[-0.25348073, 0.31603432, 0.35810202, -0.24672...</td>\n",
       "      <td>negative</td>\n",
       "      <td>negative</td>\n",
       "    </tr>\n",
       "  </tbody>\n",
       "</table>\n",
       "</div>"
      ],
      "text/plain": [
       "   prediction_ts  reviewer_age reviewer_gender  product_category language  \\\n",
       "0   1.650092e+09            21          female           apparel  english   \n",
       "1   1.650093e+09            29            male           kitchen  english   \n",
       "2   1.650093e+09            26          female            sports  english   \n",
       "3   1.650093e+09            26            male             other  english   \n",
       "4   1.650093e+09            37            male  home_improvement  english   \n",
       "\n",
       "                                                text  \\\n",
       "0  Poor quality of fabric and ridiculously tight ...   \n",
       "1  Love these glasses, thought they'd be everyday...   \n",
       "2  These are disgusting, it tastes like you are \"...   \n",
       "3  My husband has a pair of TaoTronics so I decid...   \n",
       "4  Threads too deep. Engages on tank, but gasket ...   \n",
       "\n",
       "                                         text_vector     label pred_label  \n",
       "0  [-0.070516996, 0.6640034, 0.33579218, -0.26907...  negative   negative  \n",
       "1  [-0.0024410924, -0.5406275, 0.31713492, -0.033...  positive   positive  \n",
       "2  [0.40487882, 0.8235396, 0.38333943, -0.4269158...  negative   negative  \n",
       "3  [0.018816521, 0.53441304, 0.4907303, -0.024163...   neutral    neutral  \n",
       "4  [-0.25348073, 0.31603432, 0.35810202, -0.24672...  negative   negative  "
      ]
     },
     "execution_count": 8,
     "metadata": {},
     "output_type": "execute_result"
    }
   ],
   "source": [
    "train_df.head()"
   ]
  },
  {
   "cell_type": "markdown",
   "metadata": {},
   "source": [
    "The columns of the DataFrame are:\n",
    "- **prediction_ts:** the Unix timestamps of your predictions\n",
    "- **review_age**, **reviewer_gender**, **product_category**, **language:** the features of your model\n",
    "- **text:** the text of each review\n",
    "- **text_vector:** the embedding vectors representing each review\n",
    "- **pred_label:** the label your model predicted\n",
    "- **label:** the ground-truth label for each review"
   ]
  },
  {
   "cell_type": "markdown",
   "metadata": {},
   "source": [
    "### 3. Launch Phoenix 🔥🐦"
   ]
  },
  {
   "cell_type": "markdown",
   "metadata": {},
   "source": [
    "#### a) Define Your Schema\n",
    "\n",
    "To launch Phoenix with your data, you first need to define a schema that tells Phoenix which columns of your DataFrames correspond to features, predictions, actuals (i.e., ground truth), embeddings, etc.\n",
    "\n",
    "The trickiest part is defining embedding features. In this case, each embedding feature has two pieces of information: the embedding vector itself contained in the \"text_vector\" column and the review text contained in the \"text\" column."
   ]
  },
  {
   "cell_type": "code",
   "execution_count": 12,
   "metadata": {},
   "outputs": [
    {
     "data": {
      "text/html": [
       "<div>\n",
       "<style scoped>\n",
       "    .dataframe tbody tr th:only-of-type {\n",
       "        vertical-align: middle;\n",
       "    }\n",
       "\n",
       "    .dataframe tbody tr th {\n",
       "        vertical-align: top;\n",
       "    }\n",
       "\n",
       "    .dataframe thead th {\n",
       "        text-align: right;\n",
       "    }\n",
       "</style>\n",
       "<table border=\"1\" class=\"dataframe\">\n",
       "  <thead>\n",
       "    <tr style=\"text-align: right;\">\n",
       "      <th></th>\n",
       "      <th>prediction_ts</th>\n",
       "      <th>reviewer_age</th>\n",
       "      <th>reviewer_gender</th>\n",
       "      <th>product_category</th>\n",
       "      <th>language</th>\n",
       "      <th>text</th>\n",
       "      <th>text_vector</th>\n",
       "      <th>label</th>\n",
       "      <th>pred_label</th>\n",
       "    </tr>\n",
       "  </thead>\n",
       "  <tbody>\n",
       "    <tr>\n",
       "      <th>0</th>\n",
       "      <td>1.650092e+09</td>\n",
       "      <td>21</td>\n",
       "      <td>female</td>\n",
       "      <td>apparel</td>\n",
       "      <td>english</td>\n",
       "      <td>Poor quality of fabric and ridiculously tight ...</td>\n",
       "      <td>[-0.070516996, 0.6640034, 0.33579218, -0.26907...</td>\n",
       "      <td>negative</td>\n",
       "      <td>negative</td>\n",
       "    </tr>\n",
       "    <tr>\n",
       "      <th>1</th>\n",
       "      <td>1.650093e+09</td>\n",
       "      <td>29</td>\n",
       "      <td>male</td>\n",
       "      <td>kitchen</td>\n",
       "      <td>english</td>\n",
       "      <td>Love these glasses, thought they'd be everyday...</td>\n",
       "      <td>[-0.0024410924, -0.5406275, 0.31713492, -0.033...</td>\n",
       "      <td>positive</td>\n",
       "      <td>positive</td>\n",
       "    </tr>\n",
       "    <tr>\n",
       "      <th>2</th>\n",
       "      <td>1.650093e+09</td>\n",
       "      <td>26</td>\n",
       "      <td>female</td>\n",
       "      <td>sports</td>\n",
       "      <td>english</td>\n",
       "      <td>These are disgusting, it tastes like you are \"...</td>\n",
       "      <td>[0.40487882, 0.8235396, 0.38333943, -0.4269158...</td>\n",
       "      <td>negative</td>\n",
       "      <td>negative</td>\n",
       "    </tr>\n",
       "    <tr>\n",
       "      <th>3</th>\n",
       "      <td>1.650093e+09</td>\n",
       "      <td>26</td>\n",
       "      <td>male</td>\n",
       "      <td>other</td>\n",
       "      <td>english</td>\n",
       "      <td>My husband has a pair of TaoTronics so I decid...</td>\n",
       "      <td>[0.018816521, 0.53441304, 0.4907303, -0.024163...</td>\n",
       "      <td>neutral</td>\n",
       "      <td>neutral</td>\n",
       "    </tr>\n",
       "    <tr>\n",
       "      <th>4</th>\n",
       "      <td>1.650093e+09</td>\n",
       "      <td>37</td>\n",
       "      <td>male</td>\n",
       "      <td>home_improvement</td>\n",
       "      <td>english</td>\n",
       "      <td>Threads too deep. Engages on tank, but gasket ...</td>\n",
       "      <td>[-0.25348073, 0.31603432, 0.35810202, -0.24672...</td>\n",
       "      <td>negative</td>\n",
       "      <td>negative</td>\n",
       "    </tr>\n",
       "  </tbody>\n",
       "</table>\n",
       "</div>"
      ],
      "text/plain": [
       "   prediction_ts  reviewer_age reviewer_gender  product_category language  \\\n",
       "0   1.650092e+09            21          female           apparel  english   \n",
       "1   1.650093e+09            29            male           kitchen  english   \n",
       "2   1.650093e+09            26          female            sports  english   \n",
       "3   1.650093e+09            26            male             other  english   \n",
       "4   1.650093e+09            37            male  home_improvement  english   \n",
       "\n",
       "                                                text  \\\n",
       "0  Poor quality of fabric and ridiculously tight ...   \n",
       "1  Love these glasses, thought they'd be everyday...   \n",
       "2  These are disgusting, it tastes like you are \"...   \n",
       "3  My husband has a pair of TaoTronics so I decid...   \n",
       "4  Threads too deep. Engages on tank, but gasket ...   \n",
       "\n",
       "                                         text_vector     label pred_label  \n",
       "0  [-0.070516996, 0.6640034, 0.33579218, -0.26907...  negative   negative  \n",
       "1  [-0.0024410924, -0.5406275, 0.31713492, -0.033...  positive   positive  \n",
       "2  [0.40487882, 0.8235396, 0.38333943, -0.4269158...  negative   negative  \n",
       "3  [0.018816521, 0.53441304, 0.4907303, -0.024163...   neutral    neutral  \n",
       "4  [-0.25348073, 0.31603432, 0.35810202, -0.24672...  negative   negative  "
      ]
     },
     "execution_count": 12,
     "metadata": {},
     "output_type": "execute_result"
    }
   ],
   "source": [
    "train_df.head()"
   ]
  },
  {
   "cell_type": "code",
   "execution_count": 14,
   "metadata": {},
   "outputs": [],
   "source": [
    "import uuid\n",
    "def add_prediction_id(df):\n",
    "    return [str(uuid.uuid4()) for _ in range(df.shape[0])]\n",
    "    \n",
    "train_df['prediction_id'] = add_prediction_id(train_df)\n",
    "prod_df['prediction_id'] = add_prediction_id(prod_df)"
   ]
  },
  {
   "cell_type": "code",
   "execution_count": 15,
   "metadata": {},
   "outputs": [
    {
     "data": {
      "text/plain": [
       "Schema(prediction_id_column_name='prediction_id', timestamp_column_name='prediction_ts', feature_column_names=None, tag_column_names=None, prediction_label_column_name='pred_label', prediction_score_column_name=None, actual_label_column_name='label', actual_score_column_name=None, embedding_feature_column_names={'text_embedding': EmbeddingColumnNames(vector_column_name='text_vector', raw_data_column_name='text', link_to_data_column_name=None)}, excludes=None)"
      ]
     },
     "execution_count": 15,
     "metadata": {},
     "output_type": "execute_result"
    }
   ],
   "source": [
    "embedding_features = {\n",
    "    \"text_embedding\": px.EmbeddingColumnNames(\n",
    "        vector_column_name=\"text_vector\", raw_data_column_name=\"text\"\n",
    "    ),\n",
    "}\n",
    "schema = px.Schema(\n",
    "    prediction_id_column_name=\"prediction_id\",\n",
    "    timestamp_column_name=\"prediction_ts\",\n",
    "    prediction_label_column_name=\"pred_label\",\n",
    "    actual_label_column_name=\"label\",\n",
    "    embedding_feature_column_names=embedding_features,\n",
    ")\n",
    "schema"
   ]
  },
  {
   "cell_type": "markdown",
   "metadata": {},
   "source": [
    "You'll notice that the schema above doesn't explicitly specify features. That's because feature columns are [implicitly inferred](https://docs.arize.com/phoenix/how-to/define-your-schema#implicit-features) if you don't pass `feature_column_names` to your `Schema` object."
   ]
  },
  {
   "cell_type": "markdown",
   "metadata": {},
   "source": [
    "#### b) Define Your Datasets \n",
    "Next, define your [primary and reference datasets](https://docs.arize.com/phoenix/concepts/phoenix-basics#which-dataset-is-which). In this case, your reference dataset contains training data and your primary dataset contains production data."
   ]
  },
  {
   "cell_type": "code",
   "execution_count": 16,
   "metadata": {},
   "outputs": [
    {
     "name": "stdout",
     "output_type": "stream",
     "text": [
      "Dataset info written to '/Users/kiko/.phoenix/datasets/primary'\n",
      "Dataset already persisted\n",
      "Dataset: primary initialized\n",
      "Dataset info written to '/Users/kiko/.phoenix/datasets/reference'\n",
      "Dataset already persisted\n",
      "Dataset: reference initialized\n"
     ]
    }
   ],
   "source": [
    "prim_ds = px.Dataset(dataframe=prod_df, schema=schema, name=\"primary\")\n",
    "ref_ds = px.Dataset(dataframe=train_df, schema=schema, name=\"reference\")"
   ]
  },
  {
   "cell_type": "markdown",
   "metadata": {},
   "source": [
    "Inspect your primary dataset."
   ]
  },
  {
   "cell_type": "code",
   "execution_count": 17,
   "metadata": {},
   "outputs": [
    {
     "data": {
      "text/plain": [
       "<phoenix.datasets.dataset.Dataset at 0x7fdc29c7c550>"
      ]
     },
     "execution_count": 17,
     "metadata": {},
     "output_type": "execute_result"
    }
   ],
   "source": [
    "prim_ds"
   ]
  },
  {
   "cell_type": "markdown",
   "metadata": {},
   "source": [
    "#### c) Create a Phoenix Session"
   ]
  },
  {
   "cell_type": "code",
   "execution_count": 18,
   "metadata": {},
   "outputs": [
    {
     "name": "stdout",
     "output_type": "stream",
     "text": [
      "⏳Launching Phoenix...Phoenix failed to launch. Please try again.\n",
      "🌍 To view the Phoenix app in your browser, visit http://localhost:6060/\n",
      "📺 To view the Phoenix app in a notebook, run `px.active_session().view()`\n",
      "📖 For more information on how to use Phoenix, check out https://docs.arize.com/phoenix\n"
     ]
    },
    {
     "data": {
      "text/plain": [
       "<phoenix.session.session.Session at 0x7fdc29c5feb0>"
      ]
     },
     "execution_count": 18,
     "metadata": {},
     "output_type": "execute_result"
    }
   ],
   "source": [
    "session = px.launch_app(primary=prim_ds, reference=ref_ds)\n",
    "session"
   ]
  },
  {
   "cell_type": "markdown",
   "metadata": {},
   "source": [
    "#### d) Launch the Phoenix UI"
   ]
  },
  {
   "cell_type": "markdown",
   "metadata": {},
   "source": [
    "You can open Phoenix by copying and pasting the output of `session.url` into a new browser tab."
   ]
  },
  {
   "cell_type": "code",
   "execution_count": 19,
   "metadata": {},
   "outputs": [
    {
     "data": {
      "text/plain": [
       "'http://localhost:6060/'"
      ]
     },
     "execution_count": 19,
     "metadata": {},
     "output_type": "execute_result"
    },
    {
     "name": "stderr",
     "output_type": "stream",
     "text": [
      "INFO:     Started server process [33648]\n",
      "INFO:     Waiting for application startup.\n",
      "INFO:     Application startup complete.\n",
      "INFO:     Uvicorn running on http://127.0.0.1:6060 (Press CTRL+C to quit)\n"
     ]
    },
    {
     "name": "stdout",
     "output_type": "stream",
     "text": [
      "1️⃣ primary dataset: primary\n",
      "2️⃣ reference dataset: reference\n",
      "INFO:     127.0.0.1:55168 - \"GET /index.js HTTP/1.1\" 200 OK\n",
      "INFO:     127.0.0.1:55168 - \"POST /graphql HTTP/1.1\" 200 OK\n",
      "INFO:     127.0.0.1:55168 - \"POST /graphql HTTP/1.1\" 200 OK\n",
      "node: EmbeddingDimension 0\n",
      "INFO:     127.0.0.1:55169 - \"POST /graphql HTTP/1.1\" 200 OK\n",
      "node: EmbeddingDimension 0\n",
      "INFO:     127.0.0.1:55169 - \"POST /graphql HTTP/1.1\" 200 OK\n"
     ]
    },
    {
     "name": "stderr",
     "output_type": "stream",
     "text": [
      "OMP: Info #276: omp_set_nested routine deprecated, please use omp_set_max_active_levels instead.\n"
     ]
    },
    {
     "name": "stdout",
     "output_type": "stream",
     "text": [
      "node: EmbeddingDimension 0\n",
      "INFO:     127.0.0.1:55187 - \"POST /graphql HTTP/1.1\" 200 OK\n",
      "node: EmbeddingDimension 0\n",
      "INFO:     127.0.0.1:55169 - \"POST /graphql HTTP/1.1\" 200 OK\n",
      "INFO:     127.0.0.1:55755 - \"GET /graphql HTTP/1.1\" 200 OK\n",
      "INFO:     127.0.0.1:55755 - \"POST /graphql HTTP/1.1\" 200 OK\n",
      "node: EmbeddingDimension 0\n",
      "INFO:     127.0.0.1:55757 - \"POST /graphql HTTP/1.1\" 200 OK\n",
      "node: EmbeddingDimension 0\n",
      "INFO:     127.0.0.1:55874 - \"POST /graphql HTTP/1.1\" 200 OK\n",
      "node: EmbeddingDimension 0\n",
      "INFO:     127.0.0.1:55937 - \"POST /graphql HTTP/1.1\" 200 OK\n",
      "node: EmbeddingDimension 0\n",
      "INFO:     127.0.0.1:56023 - \"POST /graphql HTTP/1.1\" 200 OK\n"
     ]
    }
   ],
   "source": [
    "session.url"
   ]
  },
  {
   "cell_type": "markdown",
   "metadata": {},
   "source": [
    "Alternatively, you can open the Phoenix UI in your notebook with"
   ]
  },
  {
   "cell_type": "code",
   "execution_count": null,
   "metadata": {},
   "outputs": [],
   "source": [
    "session.view()"
   ]
  },
  {
   "cell_type": "markdown",
   "metadata": {},
   "source": [
    "### 4. Explore Your Data 📈\n",
    "\n",
    "Investigate troublesome clusters of your data:\n",
    "\n",
    "1. Navigate to the \"Embeddings\" tab and click on \"text_embedding\".\n",
    "2. In the Euclidean distance graph at the top of the page, click a point on the graph where the Euclidean distance is high.\n",
    "3. Click on the top cluster in the panel on the left.\n",
    "4. Use the panel at the bottom to examine the data points in this cluster.\n",
    "\n",
    "Answer the questions below and click to see answers:\n",
    "\n",
    "<details>\n",
    "    <summary>\n",
    "        What does the Euclidean distance graph measure?\n",
    "    </summary>\n",
    "    <p>\n",
    "        This graph measures the drift of your production data relative to your training data over time. See <a href=\"https://docs.arize.com/phoenix/reference/metrics/euclidean-distance\">here</a> for details.\n",
    "    </p>\n",
    "</details>\n",
    "\n",
    "<details>\n",
    "    <summary>\n",
    "        What do the points in the point cloud represent?\n",
    "    </summary>\n",
    "    <p>\n",
    "        Each point in the point cloud corresponds to a single product review. Phoenix has taken the high-dimensional embeddings in your original DataFrame and has reduced the dimensionality so that you can view them in lower dimensions.\n",
    "    </p>\n",
    "</details>\n",
    "\n",
    "<details>\n",
    "    <summary>\n",
    "        What do you notice about the cluster you selected?\n",
    "    </summary>\n",
    "    <p>\n",
    "        It consists almost entirely of production data, meaning that your model is seeing data in production the likes of which it never saw during training.\n",
    "    </p>\n",
    "</details>\n",
    "\n",
    "<details>\n",
    "    <summary>\n",
    "        What's gone wrong with your model in production?\n",
    "    </summary>\n",
    "    <p>\n",
    "        Your model was fine-tuned on examples of labeled product reviews in English. In production, your model is encountering product reviews in Spanish whose sentiment it cannot correctly predict.\n",
    "    </p>\n",
    "</details>\n",
    "\n",
    "Congrats! You've identified the root cause of your model's performance issue."
   ]
  },
  {
   "cell_type": "markdown",
   "metadata": {},
   "source": [
    "### 5. Close the App 🧹\n",
    "\n",
    "When you're done, don't forget to close the app."
   ]
  },
  {
   "cell_type": "code",
   "execution_count": null,
   "metadata": {},
   "outputs": [],
   "source": [
    "px.close_app()"
   ]
  }
 ],
 "metadata": {
  "kernelspec": {
   "display_name": "Python 3 (ipykernel)",
   "language": "python",
   "name": "python3"
  },
  "language_info": {
   "codemirror_mode": {
    "name": "ipython",
    "version": 3
   },
   "file_extension": ".py",
   "mimetype": "text/x-python",
   "name": "python",
   "nbconvert_exporter": "python",
   "pygments_lexer": "ipython3",
   "version": "3.8.16"
  },
  "vscode": {
   "interpreter": {
    "hash": "376112051f594f6e24fa74b51812fe15f3714622b4054162117957862f7bf942"
   }
  }
 },
 "nbformat": 4,
 "nbformat_minor": 2
}
