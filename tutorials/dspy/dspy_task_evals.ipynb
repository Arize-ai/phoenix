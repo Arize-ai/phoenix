{
 "cells": [
  {
   "cell_type": "code",
   "execution_count": 1,
   "metadata": {},
   "outputs": [
    {
     "name": "stdout",
     "output_type": "stream",
     "text": [
      "Requirement already satisfied: dspy-ai==2.4.3 in /Users/mikeldking/.virtualenvs/dspy/lib/python3.10/site-packages (2.4.3)\n",
      "Requirement already satisfied: openinference-instrumentation-dspy in /Users/mikeldking/.virtualenvs/dspy/lib/python3.10/site-packages (0.0.0)\n",
      "Requirement already satisfied: opentelemetry-exporter-otlp in /Users/mikeldking/.virtualenvs/dspy/lib/python3.10/site-packages (1.22.0)\n",
      "Requirement already satisfied: openai in /Users/mikeldking/.virtualenvs/dspy/lib/python3.10/site-packages (0.28.1)\n",
      "Requirement already satisfied: cohere==5.3.3 in /Users/mikeldking/.virtualenvs/dspy/lib/python3.10/site-packages (5.3.3)\n",
      "Requirement already satisfied: datasets in /Users/mikeldking/.virtualenvs/dspy/lib/python3.10/site-packages (2.14.6)\n",
      "Requirement already satisfied: scikit-learn in /Users/mikeldking/.virtualenvs/dspy/lib/python3.10/site-packages (1.4.2)\n",
      "Requirement already satisfied: arize-phoenix[evals] in /Users/mikeldking/.virtualenvs/dspy/lib/python3.10/site-packages (3.24.0)\n",
      "Requirement already satisfied: backoff~=2.2.1 in /Users/mikeldking/.virtualenvs/dspy/lib/python3.10/site-packages (from dspy-ai==2.4.3) (2.2.1)\n",
      "Requirement already satisfied: joblib~=1.3.2 in /Users/mikeldking/.virtualenvs/dspy/lib/python3.10/site-packages (from dspy-ai==2.4.3) (1.3.2)\n",
      "Requirement already satisfied: pandas in /Users/mikeldking/.virtualenvs/dspy/lib/python3.10/site-packages (from dspy-ai==2.4.3) (2.1.1)\n",
      "Requirement already satisfied: regex in /Users/mikeldking/.virtualenvs/dspy/lib/python3.10/site-packages (from dspy-ai==2.4.3) (2023.10.3)\n",
      "Requirement already satisfied: ujson in /Users/mikeldking/.virtualenvs/dspy/lib/python3.10/site-packages (from dspy-ai==2.4.3) (5.8.0)\n",
      "Requirement already satisfied: tqdm in /Users/mikeldking/.virtualenvs/dspy/lib/python3.10/site-packages (from dspy-ai==2.4.3) (4.66.1)\n",
      "Requirement already satisfied: requests in /Users/mikeldking/.virtualenvs/dspy/lib/python3.10/site-packages (from dspy-ai==2.4.3) (2.31.0)\n",
      "Requirement already satisfied: optuna in /Users/mikeldking/.virtualenvs/dspy/lib/python3.10/site-packages (from dspy-ai==2.4.3) (3.4.0)\n",
      "Requirement already satisfied: pydantic<=2.7,>=2.5.0 in /Users/mikeldking/.virtualenvs/dspy/lib/python3.10/site-packages (from dspy-ai==2.4.3) (2.7.0)\n",
      "Requirement already satisfied: fastavro<2.0.0,>=1.9.4 in /Users/mikeldking/.virtualenvs/dspy/lib/python3.10/site-packages (from cohere==5.3.3) (1.9.4)\n",
      "Requirement already satisfied: httpx>=0.21.2 in /Users/mikeldking/.virtualenvs/dspy/lib/python3.10/site-packages (from cohere==5.3.3) (0.27.0)\n",
      "Requirement already satisfied: httpx-sse<0.5.0,>=0.4.0 in /Users/mikeldking/.virtualenvs/dspy/lib/python3.10/site-packages (from cohere==5.3.3) (0.4.0)\n",
      "Requirement already satisfied: tokenizers<0.20,>=0.19 in /Users/mikeldking/.virtualenvs/dspy/lib/python3.10/site-packages (from cohere==5.3.3) (0.19.1)\n",
      "Requirement already satisfied: types-requests<3.0.0,>=2.0.0 in /Users/mikeldking/.virtualenvs/dspy/lib/python3.10/site-packages (from cohere==5.3.3) (2.31.0.20240406)\n",
      "Requirement already satisfied: typing_extensions>=4.0.0 in /Users/mikeldking/.virtualenvs/dspy/lib/python3.10/site-packages (from cohere==5.3.3) (4.9.0)\n",
      "Requirement already satisfied: hdbscan>=0.8.33 in /Users/mikeldking/.virtualenvs/dspy/lib/python3.10/site-packages (from arize-phoenix[evals]) (0.8.33)\n",
      "Requirement already satisfied: jinja2 in /Users/mikeldking/.virtualenvs/dspy/lib/python3.10/site-packages (from arize-phoenix[evals]) (3.1.3)\n",
      "Requirement already satisfied: numpy in /Users/mikeldking/.virtualenvs/dspy/lib/python3.10/site-packages (from arize-phoenix[evals]) (1.26.3)\n",
      "Requirement already satisfied: openinference-instrumentation in /Users/mikeldking/.virtualenvs/dspy/lib/python3.10/site-packages (from arize-phoenix[evals]) (0.1.1)\n",
      "Requirement already satisfied: openinference-instrumentation-langchain>=0.1.12 in /Users/mikeldking/.virtualenvs/dspy/lib/python3.10/site-packages (from arize-phoenix[evals]) (0.1.14)\n",
      "Requirement already satisfied: openinference-instrumentation-llama-index>=1.2.0 in /Users/mikeldking/.virtualenvs/dspy/lib/python3.10/site-packages (from arize-phoenix[evals]) (1.2.2)\n",
      "Requirement already satisfied: openinference-instrumentation-openai>=0.1.4 in /Users/mikeldking/.virtualenvs/dspy/lib/python3.10/site-packages (from arize-phoenix[evals]) (0.1.4)\n",
      "Requirement already satisfied: openinference-semantic-conventions>=0.1.5 in /Users/mikeldking/.virtualenvs/dspy/lib/python3.10/site-packages (from arize-phoenix[evals]) (0.1.5)\n",
      "Requirement already satisfied: opentelemetry-proto>=1.12.0 in /Users/mikeldking/.virtualenvs/dspy/lib/python3.10/site-packages (from arize-phoenix[evals]) (1.22.0)\n",
      "Requirement already satisfied: opentelemetry-sdk in /Users/mikeldking/.virtualenvs/dspy/lib/python3.10/site-packages (from arize-phoenix[evals]) (1.22.0)\n",
      "Requirement already satisfied: protobuf<6.0,>=3.20 in /Users/mikeldking/.virtualenvs/dspy/lib/python3.10/site-packages (from arize-phoenix[evals]) (4.25.2)\n",
      "Requirement already satisfied: psutil in /Users/mikeldking/.virtualenvs/dspy/lib/python3.10/site-packages (from arize-phoenix[evals]) (5.9.8)\n",
      "Requirement already satisfied: pyarrow in /Users/mikeldking/.virtualenvs/dspy/lib/python3.10/site-packages (from arize-phoenix[evals]) (15.0.0)\n",
      "Requirement already satisfied: scipy in /Users/mikeldking/.virtualenvs/dspy/lib/python3.10/site-packages (from arize-phoenix[evals]) (1.13.0)\n",
      "Requirement already satisfied: sortedcontainers in /Users/mikeldking/.virtualenvs/dspy/lib/python3.10/site-packages (from arize-phoenix[evals]) (2.4.0)\n",
      "Requirement already satisfied: starlette in /Users/mikeldking/.virtualenvs/dspy/lib/python3.10/site-packages (from arize-phoenix[evals]) (0.37.2)\n",
      "Requirement already satisfied: strawberry-graphql==0.208.2 in /Users/mikeldking/.virtualenvs/dspy/lib/python3.10/site-packages (from arize-phoenix[evals]) (0.208.2)\n",
      "Requirement already satisfied: umap-learn in /Users/mikeldking/.virtualenvs/dspy/lib/python3.10/site-packages (from arize-phoenix[evals]) (0.5.6)\n",
      "Requirement already satisfied: uvicorn in /Users/mikeldking/.virtualenvs/dspy/lib/python3.10/site-packages (from arize-phoenix[evals]) (0.29.0)\n",
      "Requirement already satisfied: wrapt in /Users/mikeldking/.virtualenvs/dspy/lib/python3.10/site-packages (from arize-phoenix[evals]) (1.16.0)\n",
      "Requirement already satisfied: arize-phoenix-evals>=0.3.0 in /Users/mikeldking/.virtualenvs/dspy/lib/python3.10/site-packages (from arize-phoenix[evals]) (0.8.0)\n",
      "Requirement already satisfied: graphql-core<3.3.0,>=3.2.0 in /Users/mikeldking/.virtualenvs/dspy/lib/python3.10/site-packages (from strawberry-graphql==0.208.2->arize-phoenix[evals]) (3.2.3)\n",
      "Requirement already satisfied: python-dateutil<3.0.0,>=2.7.0 in /Users/mikeldking/.virtualenvs/dspy/lib/python3.10/site-packages (from strawberry-graphql==0.208.2->arize-phoenix[evals]) (2.8.2)\n",
      "Requirement already satisfied: opentelemetry-api in /Users/mikeldking/.virtualenvs/dspy/lib/python3.10/site-packages (from openinference-instrumentation-dspy) (1.22.0)\n",
      "Requirement already satisfied: opentelemetry-instrumentation in /Users/mikeldking/.virtualenvs/dspy/lib/python3.10/site-packages (from openinference-instrumentation-dspy) (0.43b0)\n",
      "Requirement already satisfied: opentelemetry-semantic-conventions in /Users/mikeldking/.virtualenvs/dspy/lib/python3.10/site-packages (from openinference-instrumentation-dspy) (0.43b0)\n",
      "Requirement already satisfied: opentelemetry-exporter-otlp-proto-grpc==1.22.0 in /Users/mikeldking/.virtualenvs/dspy/lib/python3.10/site-packages (from opentelemetry-exporter-otlp) (1.22.0)\n",
      "Requirement already satisfied: opentelemetry-exporter-otlp-proto-http==1.22.0 in /Users/mikeldking/.virtualenvs/dspy/lib/python3.10/site-packages (from opentelemetry-exporter-otlp) (1.22.0)\n",
      "Requirement already satisfied: deprecated>=1.2.6 in /Users/mikeldking/.virtualenvs/dspy/lib/python3.10/site-packages (from opentelemetry-exporter-otlp-proto-grpc==1.22.0->opentelemetry-exporter-otlp) (1.2.14)\n",
      "Requirement already satisfied: googleapis-common-protos~=1.52 in /Users/mikeldking/.virtualenvs/dspy/lib/python3.10/site-packages (from opentelemetry-exporter-otlp-proto-grpc==1.22.0->opentelemetry-exporter-otlp) (1.62.0)\n",
      "Requirement already satisfied: grpcio<2.0.0,>=1.0.0 in /Users/mikeldking/.virtualenvs/dspy/lib/python3.10/site-packages (from opentelemetry-exporter-otlp-proto-grpc==1.22.0->opentelemetry-exporter-otlp) (1.60.0)\n",
      "Requirement already satisfied: opentelemetry-exporter-otlp-proto-common==1.22.0 in /Users/mikeldking/.virtualenvs/dspy/lib/python3.10/site-packages (from opentelemetry-exporter-otlp-proto-grpc==1.22.0->opentelemetry-exporter-otlp) (1.22.0)\n",
      "Requirement already satisfied: aiohttp in /Users/mikeldking/.virtualenvs/dspy/lib/python3.10/site-packages (from openai) (3.9.1)\n",
      "Requirement already satisfied: dill<0.3.8,>=0.3.0 in /Users/mikeldking/.virtualenvs/dspy/lib/python3.10/site-packages (from datasets) (0.3.7)\n",
      "Requirement already satisfied: xxhash in /Users/mikeldking/.virtualenvs/dspy/lib/python3.10/site-packages (from datasets) (3.4.1)\n",
      "Requirement already satisfied: multiprocess in /Users/mikeldking/.virtualenvs/dspy/lib/python3.10/site-packages (from datasets) (0.70.15)\n",
      "Requirement already satisfied: fsspec<=2023.10.0,>=2023.1.0 in /Users/mikeldking/.virtualenvs/dspy/lib/python3.10/site-packages (from fsspec[http]<=2023.10.0,>=2023.1.0->datasets) (2023.10.0)\n",
      "Requirement already satisfied: huggingface-hub<1.0.0,>=0.14.0 in /Users/mikeldking/.virtualenvs/dspy/lib/python3.10/site-packages (from datasets) (0.20.3)\n",
      "Requirement already satisfied: packaging in /Users/mikeldking/.virtualenvs/dspy/lib/python3.10/site-packages (from datasets) (23.2)\n",
      "Requirement already satisfied: pyyaml>=5.1 in /Users/mikeldking/.virtualenvs/dspy/lib/python3.10/site-packages (from datasets) (6.0.1)\n",
      "Requirement already satisfied: threadpoolctl>=2.0.0 in /Users/mikeldking/.virtualenvs/dspy/lib/python3.10/site-packages (from scikit-learn) (3.4.0)\n",
      "Requirement already satisfied: attrs>=17.3.0 in /Users/mikeldking/.virtualenvs/dspy/lib/python3.10/site-packages (from aiohttp->openai) (23.2.0)\n",
      "Requirement already satisfied: multidict<7.0,>=4.5 in /Users/mikeldking/.virtualenvs/dspy/lib/python3.10/site-packages (from aiohttp->openai) (6.0.4)\n",
      "Requirement already satisfied: yarl<2.0,>=1.0 in /Users/mikeldking/.virtualenvs/dspy/lib/python3.10/site-packages (from aiohttp->openai) (1.9.4)\n",
      "Requirement already satisfied: frozenlist>=1.1.1 in /Users/mikeldking/.virtualenvs/dspy/lib/python3.10/site-packages (from aiohttp->openai) (1.4.1)\n",
      "Requirement already satisfied: aiosignal>=1.1.2 in /Users/mikeldking/.virtualenvs/dspy/lib/python3.10/site-packages (from aiohttp->openai) (1.3.1)\n",
      "Requirement already satisfied: async-timeout<5.0,>=4.0 in /Users/mikeldking/.virtualenvs/dspy/lib/python3.10/site-packages (from aiohttp->openai) (4.0.3)\n",
      "Requirement already satisfied: cython<3,>=0.27 in /Users/mikeldking/.virtualenvs/dspy/lib/python3.10/site-packages (from hdbscan>=0.8.33->arize-phoenix[evals]) (0.29.37)\n",
      "Requirement already satisfied: anyio in /Users/mikeldking/.virtualenvs/dspy/lib/python3.10/site-packages (from httpx>=0.21.2->cohere==5.3.3) (4.3.0)\n",
      "Requirement already satisfied: certifi in /Users/mikeldking/.virtualenvs/dspy/lib/python3.10/site-packages (from httpx>=0.21.2->cohere==5.3.3) (2023.11.17)\n",
      "Requirement already satisfied: httpcore==1.* in /Users/mikeldking/.virtualenvs/dspy/lib/python3.10/site-packages (from httpx>=0.21.2->cohere==5.3.3) (1.0.5)\n",
      "Requirement already satisfied: idna in /Users/mikeldking/.virtualenvs/dspy/lib/python3.10/site-packages (from httpx>=0.21.2->cohere==5.3.3) (3.6)\n",
      "Requirement already satisfied: sniffio in /Users/mikeldking/.virtualenvs/dspy/lib/python3.10/site-packages (from httpx>=0.21.2->cohere==5.3.3) (1.3.1)\n",
      "Requirement already satisfied: h11<0.15,>=0.13 in /Users/mikeldking/.virtualenvs/dspy/lib/python3.10/site-packages (from httpcore==1.*->httpx>=0.21.2->cohere==5.3.3) (0.14.0)\n",
      "Requirement already satisfied: filelock in /Users/mikeldking/.virtualenvs/dspy/lib/python3.10/site-packages (from huggingface-hub<1.0.0,>=0.14.0->datasets) (3.13.1)\n",
      "Requirement already satisfied: importlib-metadata<7.0,>=6.0 in /Users/mikeldking/.virtualenvs/dspy/lib/python3.10/site-packages (from opentelemetry-api->openinference-instrumentation-dspy) (6.11.0)\n",
      "Requirement already satisfied: annotated-types>=0.4.0 in /Users/mikeldking/.virtualenvs/dspy/lib/python3.10/site-packages (from pydantic<=2.7,>=2.5.0->dspy-ai==2.4.3) (0.6.0)\n",
      "Requirement already satisfied: pydantic-core==2.18.1 in /Users/mikeldking/.virtualenvs/dspy/lib/python3.10/site-packages (from pydantic<=2.7,>=2.5.0->dspy-ai==2.4.3) (2.18.1)\n",
      "Requirement already satisfied: charset-normalizer<4,>=2 in /Users/mikeldking/.virtualenvs/dspy/lib/python3.10/site-packages (from requests->dspy-ai==2.4.3) (3.3.2)\n",
      "Requirement already satisfied: urllib3<3,>=1.21.1 in /Users/mikeldking/.virtualenvs/dspy/lib/python3.10/site-packages (from requests->dspy-ai==2.4.3) (2.1.0)\n",
      "Requirement already satisfied: MarkupSafe>=2.0 in /Users/mikeldking/.virtualenvs/dspy/lib/python3.10/site-packages (from jinja2->arize-phoenix[evals]) (2.1.4)\n",
      "Requirement already satisfied: setuptools>=16.0 in /Users/mikeldking/.virtualenvs/dspy/lib/python3.10/site-packages (from opentelemetry-instrumentation->openinference-instrumentation-dspy) (69.2.0)\n",
      "Requirement already satisfied: alembic>=1.5.0 in /Users/mikeldking/.virtualenvs/dspy/lib/python3.10/site-packages (from optuna->dspy-ai==2.4.3) (1.13.1)\n",
      "Requirement already satisfied: colorlog in /Users/mikeldking/.virtualenvs/dspy/lib/python3.10/site-packages (from optuna->dspy-ai==2.4.3) (6.8.0)\n",
      "Requirement already satisfied: sqlalchemy>=1.3.0 in /Users/mikeldking/.virtualenvs/dspy/lib/python3.10/site-packages (from optuna->dspy-ai==2.4.3) (2.0.25)\n",
      "Requirement already satisfied: pytz>=2020.1 in /Users/mikeldking/.virtualenvs/dspy/lib/python3.10/site-packages (from pandas->dspy-ai==2.4.3) (2023.3.post1)\n",
      "Requirement already satisfied: tzdata>=2022.1 in /Users/mikeldking/.virtualenvs/dspy/lib/python3.10/site-packages (from pandas->dspy-ai==2.4.3) (2023.4)\n",
      "Requirement already satisfied: numba>=0.51.2 in /Users/mikeldking/.virtualenvs/dspy/lib/python3.10/site-packages (from umap-learn->arize-phoenix[evals]) (0.59.1)\n",
      "Requirement already satisfied: pynndescent>=0.5 in /Users/mikeldking/.virtualenvs/dspy/lib/python3.10/site-packages (from umap-learn->arize-phoenix[evals]) (0.5.12)\n",
      "Requirement already satisfied: click>=7.0 in /Users/mikeldking/.virtualenvs/dspy/lib/python3.10/site-packages (from uvicorn->arize-phoenix[evals]) (8.1.7)\n",
      "Requirement already satisfied: Mako in /Users/mikeldking/.virtualenvs/dspy/lib/python3.10/site-packages (from alembic>=1.5.0->optuna->dspy-ai==2.4.3) (1.3.1)\n",
      "Requirement already satisfied: exceptiongroup>=1.0.2 in /Users/mikeldking/.virtualenvs/dspy/lib/python3.10/site-packages (from anyio->httpx>=0.21.2->cohere==5.3.3) (1.2.0)\n",
      "Requirement already satisfied: zipp>=0.5 in /Users/mikeldking/.virtualenvs/dspy/lib/python3.10/site-packages (from importlib-metadata<7.0,>=6.0->opentelemetry-api->openinference-instrumentation-dspy) (3.17.0)\n",
      "Requirement already satisfied: llvmlite<0.43,>=0.42.0dev0 in /Users/mikeldking/.virtualenvs/dspy/lib/python3.10/site-packages (from numba>=0.51.2->umap-learn->arize-phoenix[evals]) (0.42.0)\n",
      "Requirement already satisfied: six>=1.5 in /Users/mikeldking/.virtualenvs/dspy/lib/python3.10/site-packages (from python-dateutil<3.0.0,>=2.7.0->strawberry-graphql==0.208.2->arize-phoenix[evals]) (1.16.0)\n"
     ]
    }
   ],
   "source": [
    "!pip install \"arize-phoenix[evals]\" \"dspy-ai==2.4.3\" openinference-instrumentation-dspy opentelemetry-exporter-otlp openai \"cohere==5.3.3\" datasets 'scikit-learn'"
   ]
  },
  {
   "cell_type": "code",
   "execution_count": 2,
   "metadata": {},
   "outputs": [],
   "source": [
    "from getpass import getpass\n",
    "import os\n",
    "\n",
    "import openai\n",
    "\n",
    "if not (openai_api_key := os.getenv(\"OPENAI_API_KEY\")):\n",
    "    openai_api_key = getpass(\"🔑 Enter your OpenAI API key: \")\n",
    "openai.api_key = openai_api_key\n",
    "os.environ[\"OPENAI_API_KEY\"] = openai_api_key"
   ]
  },
  {
   "cell_type": "code",
   "execution_count": 1,
   "metadata": {},
   "outputs": [],
   "source": [
    "from  getpass import getpass\n",
    "import os\n",
    "\n",
    "import cohere\n",
    "\n",
    "if not (cohere_api_key := os.getenv(\"CO_API_KEY\")):\n",
    "    cohere_api_key = getpass(\"🔑 Enter your Cohere API key: \")\n",
    "cohere.api_key = cohere_api_key\n",
    "os.environ[\"CO_API_KEY\"] = cohere_api_key"
   ]
  },
  {
   "cell_type": "code",
   "execution_count": 4,
   "metadata": {},
   "outputs": [
    {
     "name": "stderr",
     "output_type": "stream",
     "text": [
      "/Users/mikeldking/.virtualenvs/dspy/lib/python3.10/site-packages/tqdm/auto.py:21: TqdmWarning: IProgress not found. Please update jupyter and ipywidgets. See https://ipywidgets.readthedocs.io/en/stable/user_install.html\n",
      "  from .autonotebook import tqdm as notebook_tqdm\n"
     ]
    },
    {
     "name": "stdout",
     "output_type": "stream",
     "text": [
      "🌍 To view the Phoenix app in your browser, visit http://localhost:6006/\n",
      "📺 To view the Phoenix app in a notebook, run `px.active_session().view()`\n",
      "📖 For more information on how to use Phoenix, check out https://docs.arize.com/phoenix\n"
     ]
    }
   ],
   "source": [
    "import phoenix as px\n",
    "\n",
    "session = px.launch_app()"
   ]
  },
  {
   "cell_type": "code",
   "execution_count": 5,
   "metadata": {},
   "outputs": [
    {
     "ename": "ModuleNotFoundError",
     "evalue": "No module named 'openinference.instrumentation.dspy'",
     "output_type": "error",
     "traceback": [
      "\u001b[0;31m---------------------------------------------------------------------------\u001b[0m",
      "\u001b[0;31mModuleNotFoundError\u001b[0m                       Traceback (most recent call last)",
      "Cell \u001b[0;32mIn[5], line 2\u001b[0m\n\u001b[1;32m      1\u001b[0m \u001b[38;5;66;03m# Initialize Instrumentation\u001b[39;00m\n\u001b[0;32m----> 2\u001b[0m \u001b[38;5;28;01mfrom\u001b[39;00m \u001b[38;5;21;01mopeninference\u001b[39;00m\u001b[38;5;21;01m.\u001b[39;00m\u001b[38;5;21;01minstrumentation\u001b[39;00m\u001b[38;5;21;01m.\u001b[39;00m\u001b[38;5;21;01mdspy\u001b[39;00m \u001b[38;5;28;01mimport\u001b[39;00m DSPyInstrumentor\n\u001b[1;32m      3\u001b[0m \u001b[38;5;28;01mfrom\u001b[39;00m \u001b[38;5;21;01mopentelemetry\u001b[39;00m \u001b[38;5;28;01mimport\u001b[39;00m trace \u001b[38;5;28;01mas\u001b[39;00m trace_api\n\u001b[1;32m      4\u001b[0m \u001b[38;5;28;01mfrom\u001b[39;00m \u001b[38;5;21;01mopentelemetry\u001b[39;00m\u001b[38;5;21;01m.\u001b[39;00m\u001b[38;5;21;01mexporter\u001b[39;00m\u001b[38;5;21;01m.\u001b[39;00m\u001b[38;5;21;01motlp\u001b[39;00m\u001b[38;5;21;01m.\u001b[39;00m\u001b[38;5;21;01mproto\u001b[39;00m\u001b[38;5;21;01m.\u001b[39;00m\u001b[38;5;21;01mhttp\u001b[39;00m\u001b[38;5;21;01m.\u001b[39;00m\u001b[38;5;21;01mtrace_exporter\u001b[39;00m \u001b[38;5;28;01mimport\u001b[39;00m OTLPSpanExporter\n",
      "\u001b[0;31mModuleNotFoundError\u001b[0m: No module named 'openinference.instrumentation.dspy'"
     ]
    }
   ],
   "source": [
    "# Initialize Instrumentation\n",
    "from openinference.instrumentation.dspy import DSPyInstrumentor\n",
    "from opentelemetry import trace as trace_api\n",
    "from opentelemetry.exporter.otlp.proto.http.trace_exporter import OTLPSpanExporter\n",
    "from opentelemetry.sdk import trace as trace_sdk\n",
    "from opentelemetry.sdk.resources import Resource\n",
    "from opentelemetry.sdk.trace.export import SimpleSpanProcessor\n",
    "\n",
    "endpoint = \"http://127.0.0.1:6006/v1/traces\"\n",
    "resource = Resource(attributes={})\n",
    "tracer_provider = trace_sdk.TracerProvider(resource=resource)\n",
    "span_otlp_exporter = OTLPSpanExporter(endpoint=endpoint)\n",
    "tracer_provider.add_span_processor(SimpleSpanProcessor(span_exporter=span_otlp_exporter))\n",
    "\n",
    "trace_api.set_tracer_provider(tracer_provider=tracer_provider)\n",
    "DSPyInstrumentor().instrument()"
   ]
  },
  {
   "cell_type": "code",
   "execution_count": null,
   "metadata": {},
   "outputs": [],
   "source": [
    "from datasets import load_dataset\n",
    "\n",
    "dataset = load_dataset(\"wiki_qa\")"
   ]
  },
  {
   "cell_type": "code",
   "execution_count": null,
   "metadata": {},
   "outputs": [
    {
     "data": {
      "text/plain": [
       "Dataset({\n",
       "    features: ['question_id', 'question', 'document_title', 'answer', 'label'],\n",
       "    num_rows: 20360\n",
       "})"
      ]
     },
     "execution_count": 6,
     "metadata": {},
     "output_type": "execute_result"
    }
   ],
   "source": [
    "dataset[\"train\"]"
   ]
  },
  {
   "cell_type": "code",
   "execution_count": null,
   "metadata": {},
   "outputs": [],
   "source": [
    "import dspy\n",
    "\n",
    "trainset = [dspy.Example({ \"question\": row[\"question\"], \"context\": row[\"answer\"], \"label\": \"relevant\" if row[\"label\"] == 1 else \"unrelated\" }).with_inputs(\"question\", \"context\") for row in dataset[\"train\"].select(range(30))]\n",
    "valset = [dspy.Example({ \"question\": row[\"question\"], \"context\": row[\"answer\"], \"label\": \"relevant\" if row[\"label\"] == 1 else \"unrelated\" }).with_inputs(\"question\", \"context\") for row in dataset[\"validation\"].select(range(6))]"
   ]
  },
  {
   "cell_type": "code",
   "execution_count": null,
   "metadata": {},
   "outputs": [
    {
     "data": {
      "text/plain": [
       "[Example({'question': 'how are glacier caves formed?', 'context': 'A partly submerged glacier cave on Perito Moreno Glacier .', 'label': 'unrelated'}) (input_keys={'context', 'question'}),\n",
       " Example({'question': 'how are glacier caves formed?', 'context': 'The ice facade is approximately 60 m high', 'label': 'unrelated'}) (input_keys={'context', 'question'}),\n",
       " Example({'question': 'how are glacier caves formed?', 'context': 'Ice formations in the Titlis glacier cave', 'label': 'unrelated'}) (input_keys={'context', 'question'}),\n",
       " Example({'question': 'how are glacier caves formed?', 'context': 'A glacier cave is a cave formed within the ice of a glacier .', 'label': 'relevant'}) (input_keys={'context', 'question'}),\n",
       " Example({'question': 'how are glacier caves formed?', 'context': 'Glacier caves are often called ice caves , but this term is properly used to describe bedrock caves that contain year-round ice.', 'label': 'unrelated'}) (input_keys={'context', 'question'}),\n",
       " Example({'question': 'How are the directions of the velocity and force vectors related in a circular motion', 'context': 'In physics , circular motion is a movement of an object along the circumference of a circle or rotation along a circular path.', 'label': 'unrelated'}) (input_keys={'context', 'question'}),\n",
       " Example({'question': 'How are the directions of the velocity and force vectors related in a circular motion', 'context': 'It can be uniform, with constant angular rate of rotation (and constant speed), or non-uniform with a changing rate of rotation.', 'label': 'unrelated'}) (input_keys={'context', 'question'}),\n",
       " Example({'question': 'How are the directions of the velocity and force vectors related in a circular motion', 'context': 'The rotation around a fixed axis of a three-dimensional body involves circular motion of its parts.', 'label': 'unrelated'}) (input_keys={'context', 'question'}),\n",
       " Example({'question': 'How are the directions of the velocity and force vectors related in a circular motion', 'context': 'The equations of motion describe the movement of the center of mass of a body.', 'label': 'unrelated'}) (input_keys={'context', 'question'}),\n",
       " Example({'question': 'How are the directions of the velocity and force vectors related in a circular motion', 'context': 'Examples of circular motion include: an artificial satellite orbiting the Earth at constant height, a stone which is tied to a rope and is being swung in circles, a car turning through a curve in a race track , an electron moving perpendicular to a uniform magnetic field , and a gear turning inside a mechanism.', 'label': 'unrelated'}) (input_keys={'context', 'question'}),\n",
       " Example({'question': 'How are the directions of the velocity and force vectors related in a circular motion', 'context': \"Since the object's velocity vector is constantly changing direction, the moving object is undergoing acceleration by a centripetal force in the direction of the center of rotation.\", 'label': 'unrelated'}) (input_keys={'context', 'question'}),\n",
       " Example({'question': 'How are the directions of the velocity and force vectors related in a circular motion', 'context': \"Without this acceleration, the object would move in a straight line, according to Newton's laws of motion .\", 'label': 'unrelated'}) (input_keys={'context', 'question'}),\n",
       " Example({'question': 'how did apollo creed die', 'context': 'Apollo Creed is a fictional character from the Rocky films , initially portrayed as the Undisputed Heavyweight Champion of the World.', 'label': 'unrelated'}) (input_keys={'context', 'question'}),\n",
       " Example({'question': 'how did apollo creed die', 'context': 'He was played by Carl Weathers .', 'label': 'unrelated'}) (input_keys={'context', 'question'}),\n",
       " Example({'question': 'how did apollo creed die', 'context': 'Creed had multiple nicknames, including The Master of Disaster, The King of Sting, The Dancing Destroyer, The Prince of Punch, The One and Only and The Count of Monte Fisto.', 'label': 'unrelated'}) (input_keys={'context', 'question'}),\n",
       " Example({'question': 'how did apollo creed die', 'context': \"Urban legend states that Apollo Creed's name is a wordplay on the Apostles' Creed , a statement of belief used in Christian churches.\", 'label': 'unrelated'}) (input_keys={'context', 'question'}),\n",
       " Example({'question': 'how did apollo creed die', 'context': \"All of Apollo's championship fights were scheduled for the 15 round distance.\", 'label': 'unrelated'}) (input_keys={'context', 'question'}),\n",
       " Example({'question': 'how did apollo creed die', 'context': 'Championship fights did not convert from 15 rounds to 12 rounds until 1987.', 'label': 'unrelated'}) (input_keys={'context', 'question'}),\n",
       " Example({'question': 'how did apollo creed die', 'context': 'Rocky Balboa is often wrongly credited with popularizing the red, white, and blue trunks; Creed was the first man to wear them (latterly worn by Rocky Balboa in the 3rd and 4th installments and finally by Tommy \"The Machine\" Gunn ( Tommy Morrison ) in the 5th installment) although normally he wore red and white, as seen in Rocky II.', 'label': 'unrelated'}) (input_keys={'context', 'question'}),\n",
       " Example({'question': 'how did apollo creed die', 'context': \"Balboa's signature colors were black and gold—colors he used in the latest movie .\", 'label': 'unrelated'}) (input_keys={'context', 'question'}),\n",
       " Example({'question': 'how long is the term for federal judges', 'context': 'In the United States, the title of federal judge usually means a judge appointed by the President of the United States and confirmed by the United States Senate pursuant to the Appointments Clause in Article II of the United States Constitution .', 'label': 'unrelated'}) (input_keys={'context', 'question'}),\n",
       " Example({'question': 'how long is the term for federal judges', 'context': 'In addition to the Supreme Court of the United States , whose existence and some aspects of whose jurisdiction are beyond the constitutional power of Congress to alter, acts of Congress have established 13 courts of appeals (also called \"circuit courts\") with appellate jurisdiction over different regions of the United States, and 94 United States district courts .', 'label': 'unrelated'}) (input_keys={'context', 'question'}),\n",
       " Example({'question': 'how long is the term for federal judges', 'context': 'Every judge appointed to such a court may be categorized as a federal judge; such positions include the Chief Justice and Associate Justices of the Supreme Court, Circuit Judges of the courts of appeals, and district judges of the United States district courts .', 'label': 'unrelated'}) (input_keys={'context', 'question'}),\n",
       " Example({'question': 'how long is the term for federal judges', 'context': 'All of these judges described thus far are referred to sometimes as \"Article III judges\" because they exercise the judicial power vested in the judicial branch of the federal government by Article III of the U.S. Constitution.', 'label': 'unrelated'}) (input_keys={'context', 'question'}),\n",
       " Example({'question': 'how long is the term for federal judges', 'context': 'In addition, judges of the Court of International Trade exercise judicial power pursuant to Article III.', 'label': 'unrelated'}) (input_keys={'context', 'question'}),\n",
       " Example({'question': 'how long is the term for federal judges', 'context': 'Other judges serving in the federal courts, including magistrate judges and bankruptcy judges , are also sometimes referred to as \"federal judges\"; however, they are neither appointed by the President nor confirmed by the Senate, and their power derives from Article I instead.', 'label': 'unrelated'}) (input_keys={'context', 'question'}),\n",
       " Example({'question': 'how long is the term for federal judges', 'context': 'See Article I and Article III tribunals .', 'label': 'unrelated'}) (input_keys={'context', 'question'}),\n",
       " Example({'question': 'how a beretta model 21 pistols magazines works', 'context': 'The Beretta 21A Bobcat is a small pocket-sized semi-automatic pistol designed by Beretta in Italy.', 'label': 'unrelated'}) (input_keys={'context', 'question'}),\n",
       " Example({'question': 'how a beretta model 21 pistols magazines works', 'context': 'Production began in late 1984, solely in the Beretta U.S.A. facility in Accokeek, Maryland.', 'label': 'unrelated'}) (input_keys={'context', 'question'}),\n",
       " Example({'question': 'how a beretta model 21 pistols magazines works', 'context': 'It is a further development of the Beretta Model 20, whose production ended in 1985.', 'label': 'unrelated'}) (input_keys={'context', 'question'})]"
      ]
     },
     "execution_count": 8,
     "metadata": {},
     "output_type": "execute_result"
    }
   ],
   "source": [
    "trainset"
   ]
  },
  {
   "cell_type": "code",
   "execution_count": 2,
   "metadata": {},
   "outputs": [
    {
     "name": "stderr",
     "output_type": "stream",
     "text": [
      "/Users/mikeldking/.virtualenvs/dspy/lib/python3.10/site-packages/tqdm/auto.py:21: TqdmWarning: IProgress not found. Please update jupyter and ipywidgets. See https://ipywidgets.readthedocs.io/en/stable/user_install.html\n",
      "  from .autonotebook import tqdm as notebook_tqdm\n"
     ]
    }
   ],
   "source": [
    "import dspy\n",
    "\n",
    "command_r = dspy.Cohere(model=\"command-r\", max_tokens=1000, api_key=os.environ[\"CO_API_KEY\"])\n",
    "dspy.settings.configure(lm=command_r)"
   ]
  },
  {
   "cell_type": "code",
   "execution_count": 3,
   "metadata": {},
   "outputs": [
    {
     "name": "stdout",
     "output_type": "stream",
     "text": [
      "[\"Hello! How's it going? 😊\"]\n"
     ]
    }
   ],
   "source": [
    "print(command_r(\"say_hello\"))"
   ]
  },
  {
   "cell_type": "code",
   "execution_count": null,
   "metadata": {},
   "outputs": [],
   "source": [
    "import dspy\n",
    "\n",
    "class RelevanceEvalSignature(dspy.Signature):\n",
    "    question = dspy.InputField()\n",
    "    context = dspy.InputField()\n",
    "    label = dspy.OutputField(desc=\"relevant or unrelated\")\n",
    "\n",
    "class Classify(dspy.Module):\n",
    "    def __init__(self):\n",
    "        super().__init__()\n",
    "        self.prog = dspy.ChainOfThought(RelevanceEvalSignature)\n",
    "\n",
    "    def forward(self, question: str, context: str):\n",
    "        resp = self.prog(question=question, context=context)\n",
    "        # dspy.Suggest(resp.label in [\"relevant\", \"unrelated\"], \"the label must be either 'relevant' or 'unrelated'\")\n",
    "        return resp"
   ]
  },
  {
   "cell_type": "code",
   "execution_count": null,
   "metadata": {},
   "outputs": [],
   "source": [
    "trainset"
   ]
  },
  {
   "cell_type": "code",
   "execution_count": null,
   "metadata": {},
   "outputs": [],
   "source": [
    "relevance_classify = Classify()\n"
   ]
  },
  {
   "cell_type": "code",
   "execution_count": null,
   "metadata": {},
   "outputs": [],
   "source": [
    "from dspy.evaluate import Evaluate\n",
    "\n",
    "# Optimize! Use our own custom metric\n",
    "def validate_label(example, pred, trace=None):\n",
    "    match = example[\"label\"] == pred.label.lower()\n",
    "    return 1 if match else 0\n",
    "\n",
    "evaluator = Evaluate(devset=trainset)"
   ]
  },
  {
   "cell_type": "markdown",
   "metadata": {},
   "source": []
  },
  {
   "cell_type": "code",
   "execution_count": null,
   "metadata": {},
   "outputs": [],
   "source": [
    "from phoenix.trace import using_project\n",
    "\n",
    "with using_project(\"eval-pre-optimized\"):\n",
    "    evaluator(relevance_classify, metric=validate_label)"
   ]
  },
  {
   "cell_type": "code",
   "execution_count": null,
   "metadata": {},
   "outputs": [],
   "source": [
    "from dspy.teleprompt import BootstrapFewShotWithRandomSearch\n",
    "from phoenix.trace import using_project\n",
    "\n",
    "# Set up the optimizer: we want to \"bootstrap\" (i.e., self-generate) 3-shot examples of our CoT program.\n",
    "config = dict(max_bootstrapped_demos=3, max_labeled_demos=3)\n",
    "\n",
    "teleprompter = BootstrapFewShotWithRandomSearch(metric=validate_label, **config)\n",
    "with using_project(\"relevance_training\"):\n",
    "    optimized_classify = teleprompter.compile(relevance_classify, trainset=trainset, valset=valset)"
   ]
  },
  {
   "cell_type": "code",
   "execution_count": null,
   "metadata": {},
   "outputs": [],
   "source": [
    "optimized_classify.save(path=\"optimized_relevance_classify\")"
   ]
  },
  {
   "cell_type": "code",
   "execution_count": null,
   "metadata": {},
   "outputs": [],
   "source": [
    "from phoenix.trace import using_project\n",
    "\n",
    "with using_project(\"eval-post-optimized-rd2\"):\n",
    "    evaluator(optimized_classify, metric=validate_label)"
   ]
  },
  {
   "cell_type": "markdown",
   "metadata": {},
   "source": []
  }
 ],
 "metadata": {
  "kernelspec": {
   "display_name": ".venv",
   "language": "python",
   "name": "python3"
  },
  "language_info": {
   "codemirror_mode": {
    "name": "ipython",
    "version": 3
   },
   "file_extension": ".py",
   "mimetype": "text/x-python",
   "name": "python",
   "nbconvert_exporter": "python",
   "pygments_lexer": "ipython3",
   "version": "3.10.9"
  }
 },
 "nbformat": 4,
 "nbformat_minor": 2
}
