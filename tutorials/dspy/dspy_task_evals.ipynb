{
 "cells": [
  {
   "cell_type": "code",
   "execution_count": 1,
   "metadata": {},
   "outputs": [
    {
     "name": "stdout",
     "output_type": "stream",
     "text": [
      "Requirement already satisfied: dspy-ai in /Users/mikeldking/.virtualenvs/phoenix/lib/python3.10/site-packages (2.4.5)\n",
      "Requirement already satisfied: openinference-instrumentation-dspy in /Users/mikeldking/.virtualenvs/phoenix/lib/python3.10/site-packages (0.1.6)\n",
      "Requirement already satisfied: opentelemetry-exporter-otlp in /Users/mikeldking/.virtualenvs/phoenix/lib/python3.10/site-packages (1.23.0)\n",
      "Requirement already satisfied: openai in /Users/mikeldking/.virtualenvs/phoenix/lib/python3.10/site-packages (1.14.1)\n",
      "Requirement already satisfied: cohere<5.0.0 in /Users/mikeldking/.virtualenvs/phoenix/lib/python3.10/site-packages (4.57)\n",
      "Requirement already satisfied: datasets in /Users/mikeldking/.virtualenvs/phoenix/lib/python3.10/site-packages (2.14.7)\n",
      "Requirement already satisfied: scikit-learn in /Users/mikeldking/.virtualenvs/phoenix/lib/python3.10/site-packages (1.4.1.post1)\n",
      "Requirement already satisfied: arize-phoenix[evals] in /Users/mikeldking/.virtualenvs/phoenix/lib/python3.10/site-packages (3.19.3)\n",
      "Requirement already satisfied: aiosqlite in /Users/mikeldking/.virtualenvs/phoenix/lib/python3.10/site-packages (from arize-phoenix[evals]) (0.20.0)\n",
      "Requirement already satisfied: alembic<2,>=1.3.0 in /Users/mikeldking/.virtualenvs/phoenix/lib/python3.10/site-packages (from arize-phoenix[evals]) (1.13.1)\n",
      "Requirement already satisfied: hdbscan>=0.8.33 in /Users/mikeldking/.virtualenvs/phoenix/lib/python3.10/site-packages (from arize-phoenix[evals]) (0.8.33)\n",
      "Requirement already satisfied: jinja2 in /Users/mikeldking/.virtualenvs/phoenix/lib/python3.10/site-packages (from arize-phoenix[evals]) (3.1.3)\n",
      "Requirement already satisfied: numpy in /Users/mikeldking/.virtualenvs/phoenix/lib/python3.10/site-packages (from arize-phoenix[evals]) (1.26.4)\n",
      "Requirement already satisfied: openinference-instrumentation in /Users/mikeldking/.virtualenvs/phoenix/lib/python3.10/site-packages (from arize-phoenix[evals]) (0.1.1)\n",
      "Requirement already satisfied: openinference-instrumentation-langchain>=0.1.12 in /Users/mikeldking/.virtualenvs/phoenix/lib/python3.10/site-packages (from arize-phoenix[evals]) (0.1.12)\n",
      "Requirement already satisfied: openinference-instrumentation-llama-index>=1.2.0 in /Users/mikeldking/.virtualenvs/phoenix/lib/python3.10/site-packages (from arize-phoenix[evals]) (1.2.0)\n",
      "Requirement already satisfied: openinference-instrumentation-openai>=0.1.4 in /Users/mikeldking/.virtualenvs/phoenix/lib/python3.10/site-packages (from arize-phoenix[evals]) (0.1.4)\n",
      "Requirement already satisfied: openinference-semantic-conventions>=0.1.5 in /Users/mikeldking/.virtualenvs/phoenix/lib/python3.10/site-packages (from arize-phoenix[evals]) (0.1.5)\n",
      "Requirement already satisfied: opentelemetry-proto in /Users/mikeldking/.virtualenvs/phoenix/lib/python3.10/site-packages (from arize-phoenix[evals]) (1.23.0)\n",
      "Requirement already satisfied: opentelemetry-sdk in /Users/mikeldking/.virtualenvs/phoenix/lib/python3.10/site-packages (from arize-phoenix[evals]) (1.23.0)\n",
      "Requirement already satisfied: pandas in /Users/mikeldking/.virtualenvs/phoenix/lib/python3.10/site-packages (from arize-phoenix[evals]) (2.2.1)\n",
      "Requirement already satisfied: protobuf<6.0,>=3.20 in /Users/mikeldking/.virtualenvs/phoenix/lib/python3.10/site-packages (from arize-phoenix[evals]) (4.25.3)\n",
      "Requirement already satisfied: psutil in /Users/mikeldking/.virtualenvs/phoenix/lib/python3.10/site-packages (from arize-phoenix[evals]) (5.9.8)\n",
      "Requirement already satisfied: pyarrow in /Users/mikeldking/.virtualenvs/phoenix/lib/python3.10/site-packages (from arize-phoenix[evals]) (15.0.1)\n",
      "Requirement already satisfied: requests in /Users/mikeldking/.virtualenvs/phoenix/lib/python3.10/site-packages (from arize-phoenix[evals]) (2.31.0)\n",
      "Requirement already satisfied: scipy in /Users/mikeldking/.virtualenvs/phoenix/lib/python3.10/site-packages (from arize-phoenix[evals]) (1.12.0)\n",
      "Requirement already satisfied: sortedcontainers in /Users/mikeldking/.virtualenvs/phoenix/lib/python3.10/site-packages (from arize-phoenix[evals]) (2.4.0)\n",
      "Requirement already satisfied: sqlalchemy<3,>=2 in /Users/mikeldking/.virtualenvs/phoenix/lib/python3.10/site-packages (from arize-phoenix[evals]) (2.0.28)\n",
      "Requirement already satisfied: starlette in /Users/mikeldking/.virtualenvs/phoenix/lib/python3.10/site-packages (from arize-phoenix[evals]) (0.37.2)\n",
      "Requirement already satisfied: strawberry-graphql==0.208.2 in /Users/mikeldking/.virtualenvs/phoenix/lib/python3.10/site-packages (from arize-phoenix[evals]) (0.208.2)\n",
      "Requirement already satisfied: tqdm in /Users/mikeldking/.virtualenvs/phoenix/lib/python3.10/site-packages (from arize-phoenix[evals]) (4.66.2)\n",
      "Requirement already satisfied: typing-extensions>=4.5 in /Users/mikeldking/.virtualenvs/phoenix/lib/python3.10/site-packages (from arize-phoenix[evals]) (4.10.0)\n",
      "Requirement already satisfied: umap-learn in /Users/mikeldking/.virtualenvs/phoenix/lib/python3.10/site-packages (from arize-phoenix[evals]) (0.5.5)\n",
      "Requirement already satisfied: uvicorn in /Users/mikeldking/.virtualenvs/phoenix/lib/python3.10/site-packages (from arize-phoenix[evals]) (0.28.0)\n",
      "Requirement already satisfied: wrapt in /Users/mikeldking/.virtualenvs/phoenix/lib/python3.10/site-packages (from arize-phoenix[evals]) (1.16.0)\n",
      "Requirement already satisfied: arize-phoenix-evals>=0.3.0 in /Users/mikeldking/.virtualenvs/phoenix/lib/python3.10/site-packages (from arize-phoenix[evals]) (0.4.0)\n",
      "Requirement already satisfied: graphql-core<3.3.0,>=3.2.0 in /Users/mikeldking/.virtualenvs/phoenix/lib/python3.10/site-packages (from strawberry-graphql==0.208.2->arize-phoenix[evals]) (3.2.3)\n",
      "Requirement already satisfied: python-dateutil<3.0.0,>=2.7.0 in /Users/mikeldking/.virtualenvs/phoenix/lib/python3.10/site-packages (from strawberry-graphql==0.208.2->arize-phoenix[evals]) (2.9.0.post0)\n",
      "Requirement already satisfied: backoff~=2.2.1 in /Users/mikeldking/.virtualenvs/phoenix/lib/python3.10/site-packages (from dspy-ai) (2.2.1)\n",
      "Requirement already satisfied: joblib~=1.3.2 in /Users/mikeldking/.virtualenvs/phoenix/lib/python3.10/site-packages (from dspy-ai) (1.3.2)\n",
      "Requirement already satisfied: regex in /Users/mikeldking/.virtualenvs/phoenix/lib/python3.10/site-packages (from dspy-ai) (2023.12.25)\n",
      "Requirement already satisfied: ujson in /Users/mikeldking/.virtualenvs/phoenix/lib/python3.10/site-packages (from dspy-ai) (5.9.0)\n",
      "Requirement already satisfied: optuna in /Users/mikeldking/.virtualenvs/phoenix/lib/python3.10/site-packages (from dspy-ai) (3.6.1)\n",
      "Requirement already satisfied: pydantic==2.5.0 in /Users/mikeldking/.virtualenvs/phoenix/lib/python3.10/site-packages (from dspy-ai) (2.5.0)\n",
      "Requirement already satisfied: annotated-types>=0.4.0 in /Users/mikeldking/.virtualenvs/phoenix/lib/python3.10/site-packages (from pydantic==2.5.0->dspy-ai) (0.6.0)\n",
      "Requirement already satisfied: pydantic-core==2.14.1 in /Users/mikeldking/.virtualenvs/phoenix/lib/python3.10/site-packages (from pydantic==2.5.0->dspy-ai) (2.14.1)\n",
      "Requirement already satisfied: opentelemetry-api in /Users/mikeldking/.virtualenvs/phoenix/lib/python3.10/site-packages (from openinference-instrumentation-dspy) (1.23.0)\n",
      "Requirement already satisfied: opentelemetry-instrumentation in /Users/mikeldking/.virtualenvs/phoenix/lib/python3.10/site-packages (from openinference-instrumentation-dspy) (0.44b0)\n",
      "Requirement already satisfied: opentelemetry-semantic-conventions in /Users/mikeldking/.virtualenvs/phoenix/lib/python3.10/site-packages (from openinference-instrumentation-dspy) (0.44b0)\n",
      "Requirement already satisfied: opentelemetry-exporter-otlp-proto-grpc==1.23.0 in /Users/mikeldking/.virtualenvs/phoenix/lib/python3.10/site-packages (from opentelemetry-exporter-otlp) (1.23.0)\n",
      "Requirement already satisfied: opentelemetry-exporter-otlp-proto-http==1.23.0 in /Users/mikeldking/.virtualenvs/phoenix/lib/python3.10/site-packages (from opentelemetry-exporter-otlp) (1.23.0)\n",
      "Requirement already satisfied: deprecated>=1.2.6 in /Users/mikeldking/.virtualenvs/phoenix/lib/python3.10/site-packages (from opentelemetry-exporter-otlp-proto-grpc==1.23.0->opentelemetry-exporter-otlp) (1.2.14)\n",
      "Requirement already satisfied: googleapis-common-protos~=1.52 in /Users/mikeldking/.virtualenvs/phoenix/lib/python3.10/site-packages (from opentelemetry-exporter-otlp-proto-grpc==1.23.0->opentelemetry-exporter-otlp) (1.63.0)\n",
      "Requirement already satisfied: grpcio<2.0.0,>=1.0.0 in /Users/mikeldking/.virtualenvs/phoenix/lib/python3.10/site-packages (from opentelemetry-exporter-otlp-proto-grpc==1.23.0->opentelemetry-exporter-otlp) (1.62.1)\n",
      "Requirement already satisfied: opentelemetry-exporter-otlp-proto-common==1.23.0 in /Users/mikeldking/.virtualenvs/phoenix/lib/python3.10/site-packages (from opentelemetry-exporter-otlp-proto-grpc==1.23.0->opentelemetry-exporter-otlp) (1.23.0)\n",
      "Requirement already satisfied: anyio<5,>=3.5.0 in /Users/mikeldking/.virtualenvs/phoenix/lib/python3.10/site-packages (from openai) (4.3.0)\n",
      "Requirement already satisfied: distro<2,>=1.7.0 in /Users/mikeldking/.virtualenvs/phoenix/lib/python3.10/site-packages (from openai) (1.9.0)\n",
      "Requirement already satisfied: httpx<1,>=0.23.0 in /Users/mikeldking/.virtualenvs/phoenix/lib/python3.10/site-packages (from openai) (0.27.0)\n",
      "Requirement already satisfied: sniffio in /Users/mikeldking/.virtualenvs/phoenix/lib/python3.10/site-packages (from openai) (1.3.1)\n",
      "Requirement already satisfied: aiohttp<4.0,>=3.0 in /Users/mikeldking/.virtualenvs/phoenix/lib/python3.10/site-packages (from cohere<5.0.0) (3.9.3)\n",
      "Requirement already satisfied: fastavro<2.0,>=1.8 in /Users/mikeldking/.virtualenvs/phoenix/lib/python3.10/site-packages (from cohere<5.0.0) (1.9.4)\n",
      "Requirement already satisfied: importlib_metadata<7.0,>=6.0 in /Users/mikeldking/.virtualenvs/phoenix/lib/python3.10/site-packages (from cohere<5.0.0) (6.11.0)\n",
      "Requirement already satisfied: urllib3<3,>=1.26 in /Users/mikeldking/.virtualenvs/phoenix/lib/python3.10/site-packages (from cohere<5.0.0) (2.2.1)\n",
      "Requirement already satisfied: pyarrow-hotfix in /Users/mikeldking/.virtualenvs/phoenix/lib/python3.10/site-packages (from datasets) (0.6)\n",
      "Requirement already satisfied: dill<0.3.8,>=0.3.0 in /Users/mikeldking/.virtualenvs/phoenix/lib/python3.10/site-packages (from datasets) (0.3.7)\n",
      "Requirement already satisfied: xxhash in /Users/mikeldking/.virtualenvs/phoenix/lib/python3.10/site-packages (from datasets) (3.4.1)\n",
      "Requirement already satisfied: multiprocess in /Users/mikeldking/.virtualenvs/phoenix/lib/python3.10/site-packages (from datasets) (0.70.15)\n",
      "Requirement already satisfied: fsspec<=2023.10.0,>=2023.1.0 in /Users/mikeldking/.virtualenvs/phoenix/lib/python3.10/site-packages (from fsspec[http]<=2023.10.0,>=2023.1.0->datasets) (2023.10.0)\n",
      "Requirement already satisfied: huggingface-hub<1.0.0,>=0.14.0 in /Users/mikeldking/.virtualenvs/phoenix/lib/python3.10/site-packages (from datasets) (0.21.4)\n",
      "Requirement already satisfied: packaging in /Users/mikeldking/.virtualenvs/phoenix/lib/python3.10/site-packages (from datasets) (23.2)\n",
      "Requirement already satisfied: pyyaml>=5.1 in /Users/mikeldking/.virtualenvs/phoenix/lib/python3.10/site-packages (from datasets) (6.0.1)\n",
      "Requirement already satisfied: threadpoolctl>=2.0.0 in /Users/mikeldking/.virtualenvs/phoenix/lib/python3.10/site-packages (from scikit-learn) (3.3.0)\n",
      "Requirement already satisfied: aiosignal>=1.1.2 in /Users/mikeldking/.virtualenvs/phoenix/lib/python3.10/site-packages (from aiohttp<4.0,>=3.0->cohere<5.0.0) (1.3.1)\n",
      "Requirement already satisfied: attrs>=17.3.0 in /Users/mikeldking/.virtualenvs/phoenix/lib/python3.10/site-packages (from aiohttp<4.0,>=3.0->cohere<5.0.0) (23.2.0)\n",
      "Requirement already satisfied: frozenlist>=1.1.1 in /Users/mikeldking/.virtualenvs/phoenix/lib/python3.10/site-packages (from aiohttp<4.0,>=3.0->cohere<5.0.0) (1.4.1)\n",
      "Requirement already satisfied: multidict<7.0,>=4.5 in /Users/mikeldking/.virtualenvs/phoenix/lib/python3.10/site-packages (from aiohttp<4.0,>=3.0->cohere<5.0.0) (6.0.5)\n",
      "Requirement already satisfied: yarl<2.0,>=1.0 in /Users/mikeldking/.virtualenvs/phoenix/lib/python3.10/site-packages (from aiohttp<4.0,>=3.0->cohere<5.0.0) (1.9.4)\n",
      "Requirement already satisfied: async-timeout<5.0,>=4.0 in /Users/mikeldking/.virtualenvs/phoenix/lib/python3.10/site-packages (from aiohttp<4.0,>=3.0->cohere<5.0.0) (4.0.3)\n",
      "Requirement already satisfied: Mako in /Users/mikeldking/.virtualenvs/phoenix/lib/python3.10/site-packages (from alembic<2,>=1.3.0->arize-phoenix[evals]) (1.3.2)\n",
      "Requirement already satisfied: idna>=2.8 in /Users/mikeldking/.virtualenvs/phoenix/lib/python3.10/site-packages (from anyio<5,>=3.5.0->openai) (3.6)\n",
      "Requirement already satisfied: exceptiongroup>=1.0.2 in /Users/mikeldking/.virtualenvs/phoenix/lib/python3.10/site-packages (from anyio<5,>=3.5.0->openai) (1.2.0)\n",
      "Requirement already satisfied: cython<3,>=0.27 in /Users/mikeldking/.virtualenvs/phoenix/lib/python3.10/site-packages (from hdbscan>=0.8.33->arize-phoenix[evals]) (0.29.37)\n",
      "Requirement already satisfied: certifi in /Users/mikeldking/.virtualenvs/phoenix/lib/python3.10/site-packages (from httpx<1,>=0.23.0->openai) (2024.2.2)\n",
      "Requirement already satisfied: httpcore==1.* in /Users/mikeldking/.virtualenvs/phoenix/lib/python3.10/site-packages (from httpx<1,>=0.23.0->openai) (1.0.4)\n",
      "Requirement already satisfied: h11<0.15,>=0.13 in /Users/mikeldking/.virtualenvs/phoenix/lib/python3.10/site-packages (from httpcore==1.*->httpx<1,>=0.23.0->openai) (0.14.0)\n",
      "Requirement already satisfied: filelock in /Users/mikeldking/.virtualenvs/phoenix/lib/python3.10/site-packages (from huggingface-hub<1.0.0,>=0.14.0->datasets) (3.13.1)\n",
      "Requirement already satisfied: zipp>=0.5 in /Users/mikeldking/.virtualenvs/phoenix/lib/python3.10/site-packages (from importlib_metadata<7.0,>=6.0->cohere<5.0.0) (3.18.1)\n",
      "Requirement already satisfied: charset-normalizer<4,>=2 in /Users/mikeldking/.virtualenvs/phoenix/lib/python3.10/site-packages (from requests->arize-phoenix[evals]) (3.3.2)\n",
      "Requirement already satisfied: MarkupSafe>=2.0 in /Users/mikeldking/.virtualenvs/phoenix/lib/python3.10/site-packages (from jinja2->arize-phoenix[evals]) (2.1.5)\n",
      "Requirement already satisfied: setuptools>=16.0 in /Users/mikeldking/.virtualenvs/phoenix/lib/python3.10/site-packages (from opentelemetry-instrumentation->openinference-instrumentation-dspy) (69.1.1)\n",
      "Requirement already satisfied: colorlog in /Users/mikeldking/.virtualenvs/phoenix/lib/python3.10/site-packages (from optuna->dspy-ai) (6.8.2)\n",
      "Requirement already satisfied: pytz>=2020.1 in /Users/mikeldking/.virtualenvs/phoenix/lib/python3.10/site-packages (from pandas->arize-phoenix[evals]) (2024.1)\n",
      "Requirement already satisfied: tzdata>=2022.7 in /Users/mikeldking/.virtualenvs/phoenix/lib/python3.10/site-packages (from pandas->arize-phoenix[evals]) (2024.1)\n",
      "Requirement already satisfied: numba>=0.51.2 in /Users/mikeldking/.virtualenvs/phoenix/lib/python3.10/site-packages (from umap-learn->arize-phoenix[evals]) (0.59.0)\n",
      "Requirement already satisfied: pynndescent>=0.5 in /Users/mikeldking/.virtualenvs/phoenix/lib/python3.10/site-packages (from umap-learn->arize-phoenix[evals]) (0.5.11)\n",
      "Requirement already satisfied: click>=7.0 in /Users/mikeldking/.virtualenvs/phoenix/lib/python3.10/site-packages (from uvicorn->arize-phoenix[evals]) (8.1.7)\n",
      "Requirement already satisfied: llvmlite<0.43,>=0.42.0dev0 in /Users/mikeldking/.virtualenvs/phoenix/lib/python3.10/site-packages (from numba>=0.51.2->umap-learn->arize-phoenix[evals]) (0.42.0)\n",
      "Requirement already satisfied: six>=1.5 in /Users/mikeldking/.virtualenvs/phoenix/lib/python3.10/site-packages (from python-dateutil<3.0.0,>=2.7.0->strawberry-graphql==0.208.2->arize-phoenix[evals]) (1.16.0)\n"
     ]
    }
   ],
   "source": [
    "!pip install \"arize-phoenix[evals]\" dspy-ai openinference-instrumentation-dspy opentelemetry-exporter-otlp openai \"cohere<5.0.0\" datasets 'scikit-learn'"
   ]
  },
  {
   "cell_type": "code",
   "execution_count": 1,
   "metadata": {},
   "outputs": [],
   "source": [
    "from getpass import getpass\n",
    "import os\n",
    "\n",
    "import openai\n",
    "\n",
    "if not (openai_api_key := os.getenv(\"OPENAI_API_KEY\")):\n",
    "    openai_api_key = getpass(\"🔑 Enter your OpenAI API key: \")\n",
    "openai.api_key = openai_api_key\n",
    "os.environ[\"OPENAI_API_KEY\"] = openai_api_key"
   ]
  },
  {
   "cell_type": "code",
   "execution_count": 2,
   "metadata": {},
   "outputs": [],
   "source": [
    "from  getpass import getpass\n",
    "import os\n",
    "\n",
    "import cohere\n",
    "\n",
    "if not (cohere_api_key := os.getenv(\"CO_API_KEY\")):\n",
    "    cohere_api_key = getpass(\"🔑 Enter your Cohere API key: \")\n",
    "cohere.api_key = cohere_api_key\n",
    "os.environ[\"CO_API_KEY\"] = cohere_api_key"
   ]
  },
  {
   "cell_type": "code",
   "execution_count": 3,
   "metadata": {},
   "outputs": [
    {
     "name": "stdout",
     "output_type": "stream",
     "text": [
      "🌍 To view the Phoenix app in your browser, visit http://localhost:6006/\n",
      "📺 To view the Phoenix app in a notebook, run `px.active_session().view()`\n",
      "📖 For more information on how to use Phoenix, check out https://docs.arize.com/phoenix\n"
     ]
    }
   ],
   "source": [
    "import phoenix as px\n",
    "\n",
    "session = px.launch_app()"
   ]
  },
  {
   "cell_type": "code",
   "execution_count": 4,
   "metadata": {},
   "outputs": [
    {
     "name": "stderr",
     "output_type": "stream",
     "text": [
      "Unknown project: UHJvamVjdDox\n",
      "\n",
      "GraphQL request:4:3\n",
      "3 | ) {\n",
      "4 |   node(id: $id) {\n",
      "  |   ^\n",
      "5 |     __typename\n",
      "Traceback (most recent call last):\n",
      "  File \"/Users/mikeldking/.virtualenvs/phoenix/lib/python3.10/site-packages/graphql/execution/execute.py\", line 521, in execute_field\n",
      "    result = resolve_fn(source, info, **args)\n",
      "  File \"/Users/mikeldking/.virtualenvs/phoenix/lib/python3.10/site-packages/strawberry/schema/schema_converter.py\", line 692, in _resolver\n",
      "    return _get_result_with_extensions(\n",
      "  File \"/Users/mikeldking/.virtualenvs/phoenix/lib/python3.10/site-packages/strawberry/schema/schema_converter.py\", line 678, in extension_resolver\n",
      "    return reduce(\n",
      "  File \"/Users/mikeldking/.virtualenvs/phoenix/lib/python3.10/site-packages/strawberry/schema/schema_converter.py\", line 673, in wrapped_get_result\n",
      "    return _get_result(\n",
      "  File \"/Users/mikeldking/.virtualenvs/phoenix/lib/python3.10/site-packages/strawberry/schema/schema_converter.py\", line 634, in _get_result\n",
      "    return field.get_result(\n",
      "  File \"/Users/mikeldking/.virtualenvs/phoenix/lib/python3.10/site-packages/strawberry/field.py\", line 210, in get_result\n",
      "    return self.base_resolver(*args, **kwargs)\n",
      "  File \"/Users/mikeldking/.virtualenvs/phoenix/lib/python3.10/site-packages/strawberry/types/fields/resolver.py\", line 203, in __call__\n",
      "    return self.wrapped_func(*args, **kwargs)\n",
      "  File \"/Users/mikeldking/work/phoenix/src/phoenix/server/api/schema.py\", line 96, in node\n",
      "    raise Exception(f\"Unknown project: {id}\")\n",
      "Exception: Unknown project: UHJvamVjdDox\n",
      "Stack (most recent call last):\n",
      "  File \"/Users/mikeldking/.pyenv/versions/3.10.3/lib/python3.10/threading.py\", line 966, in _bootstrap\n",
      "    self._bootstrap_inner()\n",
      "  File \"/Users/mikeldking/.pyenv/versions/3.10.3/lib/python3.10/threading.py\", line 1009, in _bootstrap_inner\n",
      "    self.run()\n",
      "  File \"/Users/mikeldking/.virtualenvs/phoenix/lib/python3.10/site-packages/ipykernel/ipkernel.py\", line 761, in run_closure\n",
      "    _threading_Thread_run(self)\n",
      "  File \"/Users/mikeldking/.pyenv/versions/3.10.3/lib/python3.10/threading.py\", line 946, in run\n",
      "    self._target(*self._args, **self._kwargs)\n",
      "  File \"/Users/mikeldking/.virtualenvs/phoenix/lib/python3.10/site-packages/uvicorn/server.py\", line 62, in run\n",
      "    return asyncio.run(self.serve(sockets=sockets))\n",
      "  File \"/Users/mikeldking/.pyenv/versions/3.10.3/lib/python3.10/asyncio/runners.py\", line 44, in run\n",
      "    return loop.run_until_complete(main)\n",
      "  File \"/Users/mikeldking/.pyenv/versions/3.10.3/lib/python3.10/asyncio/base_events.py\", line 633, in run_until_complete\n",
      "    self.run_forever()\n",
      "  File \"/Users/mikeldking/.pyenv/versions/3.10.3/lib/python3.10/asyncio/base_events.py\", line 600, in run_forever\n",
      "    self._run_once()\n",
      "  File \"/Users/mikeldking/.pyenv/versions/3.10.3/lib/python3.10/asyncio/base_events.py\", line 1896, in _run_once\n",
      "    handle._run()\n",
      "  File \"/Users/mikeldking/.pyenv/versions/3.10.3/lib/python3.10/asyncio/events.py\", line 80, in _run\n",
      "    self._context.run(self._callback, *self._args)\n",
      "  File \"/Users/mikeldking/.virtualenvs/phoenix/lib/python3.10/site-packages/starlette/middleware/base.py\", line 151, in coro\n",
      "    await self.app(scope, receive_or_disconnect, send_no_error)\n",
      "  File \"/Users/mikeldking/.virtualenvs/phoenix/lib/python3.10/site-packages/starlette/middleware/exceptions.py\", line 65, in __call__\n",
      "    await wrap_app_handling_exceptions(self.app, conn)(scope, receive, send)\n",
      "  File \"/Users/mikeldking/.virtualenvs/phoenix/lib/python3.10/site-packages/starlette/_exception_handler.py\", line 53, in wrapped_app\n",
      "    await app(scope, receive, sender)\n",
      "  File \"/Users/mikeldking/.virtualenvs/phoenix/lib/python3.10/site-packages/starlette/routing.py\", line 756, in __call__\n",
      "    await self.middleware_stack(scope, receive, send)\n",
      "  File \"/Users/mikeldking/.virtualenvs/phoenix/lib/python3.10/site-packages/starlette/routing.py\", line 776, in app\n",
      "    await route.handle(scope, receive, send)\n",
      "  File \"/Users/mikeldking/.virtualenvs/phoenix/lib/python3.10/site-packages/starlette/routing.py\", line 297, in handle\n",
      "    await self.app(scope, receive, send)\n",
      "  File \"/Users/mikeldking/.virtualenvs/phoenix/lib/python3.10/site-packages/strawberry/asgi/__init__.py\", line 111, in __call__\n",
      "    return await self.handle_http(scope, receive, send)\n",
      "  File \"/Users/mikeldking/.virtualenvs/phoenix/lib/python3.10/site-packages/strawberry/asgi/__init__.py\", line 178, in handle_http\n",
      "    response = await self.run(request)\n",
      "  File \"/Users/mikeldking/.virtualenvs/phoenix/lib/python3.10/site-packages/strawberry/http/async_base_view.py\", line 176, in run\n",
      "    result = await self.execute_operation(\n",
      "  File \"/Users/mikeldking/.virtualenvs/phoenix/lib/python3.10/site-packages/strawberry/http/async_base_view.py\", line 115, in execute_operation\n",
      "    return await self.schema.execute(\n",
      "  File \"/Users/mikeldking/.virtualenvs/phoenix/lib/python3.10/site-packages/strawberry/schema/schema.py\", line 256, in execute\n",
      "    result = await execute(\n",
      "  File \"/Users/mikeldking/.virtualenvs/phoenix/lib/python3.10/site-packages/strawberry/schema/execute.py\", line 156, in execute\n",
      "    process_errors(result.errors, execution_context)\n"
     ]
    }
   ],
   "source": [
    "# Initialize Instrumentation\n",
    "from openinference.instrumentation.dspy import DSPyInstrumentor\n",
    "from opentelemetry import trace as trace_api\n",
    "from opentelemetry.exporter.otlp.proto.http.trace_exporter import OTLPSpanExporter\n",
    "from opentelemetry.sdk import trace as trace_sdk\n",
    "from opentelemetry.sdk.resources import Resource\n",
    "from opentelemetry.sdk.trace.export import SimpleSpanProcessor\n",
    "\n",
    "endpoint = \"http://127.0.0.1:6006/v1/traces\"\n",
    "resource = Resource(attributes={})\n",
    "tracer_provider = trace_sdk.TracerProvider(resource=resource)\n",
    "span_otlp_exporter = OTLPSpanExporter(endpoint=endpoint)\n",
    "tracer_provider.add_span_processor(SimpleSpanProcessor(span_exporter=span_otlp_exporter))\n",
    "\n",
    "trace_api.set_tracer_provider(tracer_provider=tracer_provider)\n",
    "DSPyInstrumentor().instrument()"
   ]
  },
  {
   "cell_type": "code",
   "execution_count": 5,
   "metadata": {},
   "outputs": [],
   "source": [
    "from datasets import load_dataset\n",
    "\n",
    "dataset = load_dataset(\"wiki_qa\")"
   ]
  },
  {
   "cell_type": "code",
   "execution_count": 6,
   "metadata": {},
   "outputs": [
    {
     "data": {
      "text/html": [
       "<div>\n",
       "<style scoped>\n",
       "    .dataframe tbody tr th:only-of-type {\n",
       "        vertical-align: middle;\n",
       "    }\n",
       "\n",
       "    .dataframe tbody tr th {\n",
       "        vertical-align: top;\n",
       "    }\n",
       "\n",
       "    .dataframe thead th {\n",
       "        text-align: right;\n",
       "    }\n",
       "</style>\n",
       "<table border=\"1\" class=\"dataframe\">\n",
       "  <thead>\n",
       "    <tr style=\"text-align: right;\">\n",
       "      <th></th>\n",
       "      <th>question_id</th>\n",
       "      <th>question</th>\n",
       "      <th>document_title</th>\n",
       "      <th>answer</th>\n",
       "      <th>label</th>\n",
       "    </tr>\n",
       "  </thead>\n",
       "  <tbody>\n",
       "    <tr>\n",
       "      <th>0</th>\n",
       "      <td>Q0</td>\n",
       "      <td>HOW AFRICAN AMERICANS WERE IMMIGRATED TO THE US</td>\n",
       "      <td>African immigration to the United States</td>\n",
       "      <td>African immigration to the United States refer...</td>\n",
       "      <td>0</td>\n",
       "    </tr>\n",
       "    <tr>\n",
       "      <th>1</th>\n",
       "      <td>Q0</td>\n",
       "      <td>HOW AFRICAN AMERICANS WERE IMMIGRATED TO THE US</td>\n",
       "      <td>African immigration to the United States</td>\n",
       "      <td>The term African in the scope of this article ...</td>\n",
       "      <td>0</td>\n",
       "    </tr>\n",
       "    <tr>\n",
       "      <th>2</th>\n",
       "      <td>Q0</td>\n",
       "      <td>HOW AFRICAN AMERICANS WERE IMMIGRATED TO THE US</td>\n",
       "      <td>African immigration to the United States</td>\n",
       "      <td>From the Immigration and Nationality Act of 19...</td>\n",
       "      <td>0</td>\n",
       "    </tr>\n",
       "    <tr>\n",
       "      <th>3</th>\n",
       "      <td>Q0</td>\n",
       "      <td>HOW AFRICAN AMERICANS WERE IMMIGRATED TO THE US</td>\n",
       "      <td>African immigration to the United States</td>\n",
       "      <td>African immigrants in the United States come f...</td>\n",
       "      <td>0</td>\n",
       "    </tr>\n",
       "    <tr>\n",
       "      <th>4</th>\n",
       "      <td>Q0</td>\n",
       "      <td>HOW AFRICAN AMERICANS WERE IMMIGRATED TO THE US</td>\n",
       "      <td>African immigration to the United States</td>\n",
       "      <td>They include people from different national, l...</td>\n",
       "      <td>0</td>\n",
       "    </tr>\n",
       "  </tbody>\n",
       "</table>\n",
       "</div>"
      ],
      "text/plain": [
       "  question_id                                         question  \\\n",
       "0          Q0  HOW AFRICAN AMERICANS WERE IMMIGRATED TO THE US   \n",
       "1          Q0  HOW AFRICAN AMERICANS WERE IMMIGRATED TO THE US   \n",
       "2          Q0  HOW AFRICAN AMERICANS WERE IMMIGRATED TO THE US   \n",
       "3          Q0  HOW AFRICAN AMERICANS WERE IMMIGRATED TO THE US   \n",
       "4          Q0  HOW AFRICAN AMERICANS WERE IMMIGRATED TO THE US   \n",
       "\n",
       "                             document_title  \\\n",
       "0  African immigration to the United States   \n",
       "1  African immigration to the United States   \n",
       "2  African immigration to the United States   \n",
       "3  African immigration to the United States   \n",
       "4  African immigration to the United States   \n",
       "\n",
       "                                              answer  label  \n",
       "0  African immigration to the United States refer...      0  \n",
       "1  The term African in the scope of this article ...      0  \n",
       "2  From the Immigration and Nationality Act of 19...      0  \n",
       "3  African immigrants in the United States come f...      0  \n",
       "4  They include people from different national, l...      0  "
      ]
     },
     "execution_count": 6,
     "metadata": {},
     "output_type": "execute_result"
    }
   ],
   "source": [
    "dataset[\"test\"].to_pandas().head()"
   ]
  },
  {
   "cell_type": "code",
   "execution_count": 7,
   "metadata": {},
   "outputs": [
    {
     "data": {
      "text/html": [
       "<div>\n",
       "<style scoped>\n",
       "    .dataframe tbody tr th:only-of-type {\n",
       "        vertical-align: middle;\n",
       "    }\n",
       "\n",
       "    .dataframe tbody tr th {\n",
       "        vertical-align: top;\n",
       "    }\n",
       "\n",
       "    .dataframe thead th {\n",
       "        text-align: right;\n",
       "    }\n",
       "</style>\n",
       "<table border=\"1\" class=\"dataframe\">\n",
       "  <thead>\n",
       "    <tr style=\"text-align: right;\">\n",
       "      <th></th>\n",
       "      <th>question_id</th>\n",
       "      <th>question</th>\n",
       "      <th>document_title</th>\n",
       "      <th>answer</th>\n",
       "      <th>label</th>\n",
       "    </tr>\n",
       "  </thead>\n",
       "  <tbody>\n",
       "    <tr>\n",
       "      <th>0</th>\n",
       "      <td>Q1</td>\n",
       "      <td>how are glacier caves formed?</td>\n",
       "      <td>Glacier cave</td>\n",
       "      <td>A partly submerged glacier cave on Perito More...</td>\n",
       "      <td>0</td>\n",
       "    </tr>\n",
       "    <tr>\n",
       "      <th>1</th>\n",
       "      <td>Q1</td>\n",
       "      <td>how are glacier caves formed?</td>\n",
       "      <td>Glacier cave</td>\n",
       "      <td>The ice facade is approximately 60 m high</td>\n",
       "      <td>0</td>\n",
       "    </tr>\n",
       "    <tr>\n",
       "      <th>2</th>\n",
       "      <td>Q1</td>\n",
       "      <td>how are glacier caves formed?</td>\n",
       "      <td>Glacier cave</td>\n",
       "      <td>Ice formations in the Titlis glacier cave</td>\n",
       "      <td>0</td>\n",
       "    </tr>\n",
       "    <tr>\n",
       "      <th>3</th>\n",
       "      <td>Q1</td>\n",
       "      <td>how are glacier caves formed?</td>\n",
       "      <td>Glacier cave</td>\n",
       "      <td>A glacier cave is a cave formed within the ice...</td>\n",
       "      <td>1</td>\n",
       "    </tr>\n",
       "    <tr>\n",
       "      <th>4</th>\n",
       "      <td>Q1</td>\n",
       "      <td>how are glacier caves formed?</td>\n",
       "      <td>Glacier cave</td>\n",
       "      <td>Glacier caves are often called ice caves , but...</td>\n",
       "      <td>0</td>\n",
       "    </tr>\n",
       "  </tbody>\n",
       "</table>\n",
       "</div>"
      ],
      "text/plain": [
       "  question_id                       question document_title  \\\n",
       "0          Q1  how are glacier caves formed?   Glacier cave   \n",
       "1          Q1  how are glacier caves formed?   Glacier cave   \n",
       "2          Q1  how are glacier caves formed?   Glacier cave   \n",
       "3          Q1  how are glacier caves formed?   Glacier cave   \n",
       "4          Q1  how are glacier caves formed?   Glacier cave   \n",
       "\n",
       "                                              answer  label  \n",
       "0  A partly submerged glacier cave on Perito More...      0  \n",
       "1          The ice facade is approximately 60 m high      0  \n",
       "2          Ice formations in the Titlis glacier cave      0  \n",
       "3  A glacier cave is a cave formed within the ice...      1  \n",
       "4  Glacier caves are often called ice caves , but...      0  "
      ]
     },
     "execution_count": 7,
     "metadata": {},
     "output_type": "execute_result"
    }
   ],
   "source": [
    "dataset[\"train\"].to_pandas().head()"
   ]
  },
  {
   "cell_type": "code",
   "execution_count": 8,
   "metadata": {},
   "outputs": [],
   "source": [
    "import dspy\n",
    "\n",
    "trainset = [dspy.Example(row).with_inputs(\"question\", \"answer\") for row in dataset[\"train\"]]\n",
    "valset = [dspy.Example(row).with_inputs(\"question\", \"answer\") for row in dataset[\"validation\"]]"
   ]
  },
  {
   "cell_type": "code",
   "execution_count": 9,
   "metadata": {},
   "outputs": [],
   "source": [
    "import dspy\n",
    "\n",
    "turbo = dspy.OpenAI(model=\"gpt-3.5-turbo\")\n",
    "dspy.settings.configure(lm=turbo)"
   ]
  },
  {
   "cell_type": "code",
   "execution_count": 10,
   "metadata": {},
   "outputs": [],
   "source": [
    "import dspy\n",
    "\n",
    "class RelevanceEvalSignature(dspy.Signature):\n",
    "    question = dspy.InputField()\n",
    "    answer = dspy.InputField()\n",
    "    label = dspy.OutputField(desc=\"relevant or unrelated\")\n",
    "\n",
    "class Classify(dspy.Module):\n",
    "    def __init__(self):\n",
    "        super().__init__()\n",
    "        self.prog = dspy.ChainOfThought(RelevanceEvalSignature)\n",
    "\n",
    "    def forward(self, question):\n",
    "        return self.prog(question=question)"
   ]
  },
  {
   "cell_type": "code",
   "execution_count": 11,
   "metadata": {},
   "outputs": [
    {
     "name": "stdout",
     "output_type": "stream",
     "text": [
      "Going to sample between 1 and 3 traces per predictor.\n",
      "Will attempt to train 16 candidate sets.\n"
     ]
    },
    {
     "name": "stderr",
     "output_type": "stream",
     "text": [
      "  0%|          | 0/2733 [00:00<?, ?it/s]"
     ]
    },
    {
     "name": "stdout",
     "output_type": "stream",
     "text": [
      "WARNING: Not all input fields were provided to module. Present: ['question']. Missing: ['context'].WARNING: Not all input fields were provided to module. Present: ['question']. Missing: ['context'].\n",
      "\n",
      "WARNING: Not all input fields were provided to module. Present: ['question']. Missing: ['context'].\n",
      "WARNING: Not all input fields were provided to module. Present: ['question']. Missing: ['context'].\n",
      "WARNING: Not all input fields were provided to module. Present: ['question']. Missing: ['context'].\n",
      "WARNING: Not all input fields were provided to module. Present: ['question']. Missing: ['context'].\n"
     ]
    },
    {
     "name": "stderr",
     "output_type": "stream",
     "text": [
      "Average Metric: 0 / 4  (0.0):   0%|          | 3/2733 [00:02<1:34:24,  2.07s/it]"
     ]
    },
    {
     "name": "stdout",
     "output_type": "stream",
     "text": [
      "WARNING: Not all input fields were provided to module. Present: ['question']. Missing: ['context'].\n",
      "WARNING: Not all input fields were provided to module. Present: ['question']. Missing: ['context'].\n",
      "WARNING: Not all input fields were provided to module. Present: ['question']. Missing: ['context'].\n",
      "WARNING: Not all input fields were provided to module. Present: ['question']. Missing: ['context'].\n"
     ]
    },
    {
     "name": "stderr",
     "output_type": "stream",
     "text": [
      "Average Metric: 0 / 6  (0.0):   0%|          | 5/2733 [00:02<16:20,  2.78it/s]  "
     ]
    },
    {
     "name": "stdout",
     "output_type": "stream",
     "text": [
      "WARNING: Not all input fields were provided to module. Present: ['question']. Missing: ['context'].\n",
      "WARNING: Not all input fields were provided to module. Present: ['question']. Missing: ['context'].\n"
     ]
    },
    {
     "name": "stderr",
     "output_type": "stream",
     "text": [
      "Average Metric: 0 / 7  (0.0):   0%|          | 7/2733 [00:02<12:26,  3.65it/s]"
     ]
    },
    {
     "name": "stdout",
     "output_type": "stream",
     "text": [
      "WARNING: Not all input fields were provided to module. Present: ['question']. Missing: ['context'].\n"
     ]
    },
    {
     "name": "stderr",
     "output_type": "stream",
     "text": [
      "Average Metric: 0 / 8  (0.0):   0%|          | 8/2733 [00:02<12:12,  3.72it/s]"
     ]
    },
    {
     "name": "stdout",
     "output_type": "stream",
     "text": [
      "WARNING: Not all input fields were provided to module. Present: ['question']. Missing: ['context'].\n"
     ]
    },
    {
     "name": "stderr",
     "output_type": "stream",
     "text": [
      "Average Metric: 0 / 9  (0.0):   0%|          | 9/2733 [00:03<17:04,  2.66it/s]"
     ]
    },
    {
     "name": "stdout",
     "output_type": "stream",
     "text": [
      "WARNING: Not all input fields were provided to module. Present: ['question']. Missing: ['context'].\n"
     ]
    },
    {
     "name": "stderr",
     "output_type": "stream",
     "text": [
      "Average Metric: 0 / 11  (0.0):   0%|          | 11/2733 [00:03<13:30,  3.36it/s]"
     ]
    },
    {
     "name": "stdout",
     "output_type": "stream",
     "text": [
      "WARNING: Not all input fields were provided to module. Present: ['question']. Missing: ['context'].\n",
      "WARNING: Not all input fields were provided to module. Present: ['question']. Missing: ['context'].\n"
     ]
    },
    {
     "name": "stderr",
     "output_type": "stream",
     "text": [
      "Average Metric: 1 / 13  (7.7):   0%|          | 12/2733 [00:04<14:54,  3.04it/s]"
     ]
    },
    {
     "name": "stdout",
     "output_type": "stream",
     "text": [
      "WARNING: Not all input fields were provided to module. Present: ['question']. Missing: ['context'].\n",
      "WARNING: Not all input fields were provided to module. Present: ['question']. Missing: ['context'].\n"
     ]
    },
    {
     "name": "stderr",
     "output_type": "stream",
     "text": [
      "Average Metric: 2 / 14  (14.3):   0%|          | 13/2733 [00:04<13:13,  3.43it/s]"
     ]
    },
    {
     "name": "stdout",
     "output_type": "stream",
     "text": [
      "WARNING: Not all input fields were provided to module. Present: ['question']. Missing: ['context'].\n"
     ]
    },
    {
     "name": "stderr",
     "output_type": "stream",
     "text": [
      "Average Metric: 3 / 19  (15.8):   1%|          | 18/2733 [00:05<14:44,  3.07it/s]"
     ]
    },
    {
     "name": "stdout",
     "output_type": "stream",
     "text": [
      "WARNING: Not all input fields were provided to module. Present: ['question']. Missing: ['context'].\n",
      "WARNING: Not all input fields were provided to module. Present: ['question']. Missing: ['context'].\n",
      "WARNING: Not all input fields were provided to module. Present: ['question']. Missing: ['context'].\n",
      "WARNING: Not all input fields were provided to module. Present: ['question']. Missing: ['context'].\n",
      "WARNING: Not all input fields were provided to module. Present: ['question']. Missing: ['context'].\n"
     ]
    },
    {
     "name": "stderr",
     "output_type": "stream",
     "text": [
      "Average Metric: 3 / 20  (15.0):   1%|          | 20/2733 [00:05<08:23,  5.39it/s]"
     ]
    },
    {
     "name": "stdout",
     "output_type": "stream",
     "text": [
      "WARNING: Not all input fields were provided to module. Present: ['question']. Missing: ['context'].\n"
     ]
    },
    {
     "name": "stderr",
     "output_type": "stream",
     "text": [
      "Average Metric: 3 / 22  (13.6):   1%|          | 21/2733 [00:06<08:57,  5.05it/s]"
     ]
    },
    {
     "name": "stdout",
     "output_type": "stream",
     "text": [
      "WARNING: Not all input fields were provided to module. Present: ['question']. Missing: ['context'].\n",
      "WARNING: Not all input fields were provided to module. Present: ['question']. Missing: ['context'].\n"
     ]
    },
    {
     "name": "stderr",
     "output_type": "stream",
     "text": [
      "Average Metric: 3 / 23  (13.0):   1%|          | 23/2733 [00:06<08:18,  5.44it/s]"
     ]
    },
    {
     "name": "stdout",
     "output_type": "stream",
     "text": [
      "WARNING: Not all input fields were provided to module. Present: ['question']. Missing: ['context'].\n"
     ]
    },
    {
     "name": "stderr",
     "output_type": "stream",
     "text": [
      "Average Metric: 4 / 38  (10.5):   1%|▏         | 37/2733 [00:07<04:13, 10.64it/s]"
     ]
    },
    {
     "name": "stdout",
     "output_type": "stream",
     "text": [
      "WARNING: Not all input fields were provided to module. Present: ['question']. Missing: ['context'].\n",
      "WARNING: Not all input fields were provided to module. Present: ['question']. Missing: ['context'].\n",
      "WARNING: Not all input fields were provided to module. Present: ['question']. Missing: ['context'].\n",
      "WARNING: Not all input fields were provided to module. Present: ['question']. Missing: ['context'].\n",
      "WARNING: Not all input fields were provided to module. Present: ['question']. Missing: ['context'].\n",
      "WARNING: Not all input fields were provided to module. Present: ['question']. Missing: ['context'].\n",
      "WARNING: Not all input fields were provided to module. Present: ['question']. Missing: ['context'].\n",
      "WARNING: Not all input fields were provided to module. Present: ['question']. Missing: ['context'].\n",
      "WARNING: Not all input fields were provided to module. Present: ['question']. Missing: ['context'].\n",
      "WARNING: Not all input fields were provided to module. Present: ['question']. Missing: ['context'].\n",
      "WARNING: Not all input fields were provided to module. Present: ['question']. Missing: ['context'].\n",
      "WARNING: Not all input fields were provided to module. Present: ['question']. Missing: ['context'].\n",
      "WARNING: Not all input fields were provided to module. Present: ['question']. Missing: ['context'].\n",
      "WARNING: Not all input fields were provided to module. Present: ['question']. Missing: ['context'].\n",
      "WARNING: Not all input fields were provided to module. Present: ['question']. Missing: ['context'].\n"
     ]
    },
    {
     "name": "stderr",
     "output_type": "stream",
     "text": [
      "Average Metric: 4 / 40  (10.0):   1%|▏         | 39/2733 [00:07<03:45, 11.93it/s]"
     ]
    },
    {
     "name": "stdout",
     "output_type": "stream",
     "text": [
      "WARNING: Not all input fields were provided to module. Present: ['question']. Missing: ['context'].\n",
      "WARNING: Not all input fields were provided to module. Present: ['question']. Missing: ['context'].\n"
     ]
    },
    {
     "name": "stderr",
     "output_type": "stream",
     "text": [
      "Average Metric: 4 / 41  (9.8):   1%|▏         | 40/2733 [00:08<03:45, 11.93it/s] "
     ]
    },
    {
     "name": "stdout",
     "output_type": "stream",
     "text": [
      "WARNING: Not all input fields were provided to module. Present: ['question']. Missing: ['context'].\n"
     ]
    },
    {
     "name": "stderr",
     "output_type": "stream",
     "text": [
      "Average Metric: 4 / 42  (9.5):   2%|▏         | 42/2733 [00:08<06:11,  7.25it/s]"
     ]
    },
    {
     "name": "stdout",
     "output_type": "stream",
     "text": [
      "WARNING: Not all input fields were provided to module. Present: ['question']. Missing: ['context'].\n"
     ]
    },
    {
     "name": "stderr",
     "output_type": "stream",
     "text": [
      "Average Metric: 4 / 44  (9.1):   2%|▏         | 44/2733 [00:08<06:19,  7.08it/s]"
     ]
    },
    {
     "name": "stdout",
     "output_type": "stream",
     "text": [
      "WARNING: Not all input fields were provided to module. Present: ['question']. Missing: ['context'].\n",
      "WARNING: Not all input fields were provided to module. Present: ['question']. Missing: ['context'].\n"
     ]
    },
    {
     "name": "stderr",
     "output_type": "stream",
     "text": [
      "Average Metric: 4 / 55  (7.3):   2%|▏         | 54/2733 [00:09<05:35,  7.98it/s]"
     ]
    },
    {
     "name": "stdout",
     "output_type": "stream",
     "text": [
      "WARNING: Not all input fields were provided to module. Present: ['question']. Missing: ['context'].\n",
      "WARNING: Not all input fields were provided to module. Present: ['question']. Missing: ['context'].\n",
      "WARNING: Not all input fields were provided to module. Present: ['question']. Missing: ['context'].\n",
      "WARNING: Not all input fields were provided to module. Present: ['question']. Missing: ['context'].\n",
      "WARNING: Not all input fields were provided to module. Present: ['question']. Missing: ['context'].\n",
      "WARNING: Not all input fields were provided to module. Present: ['question']. Missing: ['context'].\n",
      "WARNING: Not all input fields were provided to module. Present: ['question']. Missing: ['context'].\n",
      "WARNING: Not all input fields were provided to module. Present: ['question']. Missing: ['context'].\n",
      "WARNING: Not all input fields were provided to module. Present: ['question']. Missing: ['context'].\n",
      "WARNING: Not all input fields were provided to module. Present: ['question']. Missing: ['context'].\n",
      "WARNING: Not all input fields were provided to module. Present: ['question']. Missing: ['context'].\n",
      "WARNING: Not all input fields were provided to module. Present: ['question']. Missing: ['context'].\n",
      "WARNING: Not all input fields were provided to module. Present: ['question']. Missing: ['context'].\n",
      "WARNING: Not all input fields were provided to module. Present: ['question']. Missing: ['context'].\n",
      "WARNING: Not all input fields were provided to module. Present: ['question']. Missing: ['context'].\n",
      "WARNING: Not all input fields were provided to module. Present: ['question']. Missing: ['context'].\n",
      "WARNING: Not all input fields were provided to module. Present: ['question']. Missing: ['context'].\n",
      "WARNING: Not all input fields were provided to module. Present: ['question']. Missing: ['context'].\n",
      "WARNING: Not all input fields were provided to module. Present: ['question']. Missing: ['context'].\n",
      "WARNING: Not all input fields were provided to module. Present: ['question']. Missing: ['context'].\n",
      "WARNING: Not all input fields were provided to module. Present: ['question']. Missing: ['context'].\n",
      "WARNING: Not all input fields were provided to module. Present: ['question']. Missing: ['context'].\n",
      "WARNING: Not all input fields were provided to module. Present: ['question']. Missing: ['context'].\n",
      "WARNING: Not all input fields were provided to module. Present: ['question']. Missing: ['context'].\n",
      "WARNING: Not all input fields were provided to module. Present: ['question']. Missing: ['context'].\n",
      "WARNING: Not all input fields were provided to module. Present: ['question']. Missing: ['context'].\n",
      "WARNING: Not all input fields were provided to module. Present: ['question']. Missing: ['context'].\n",
      "WARNING: Not all input fields were provided to module. Present: ['question']. Missing: ['context'].\n",
      "WARNING: Not all input fields were provided to module. Present: ['question']. Missing: ['context'].\n",
      "WARNING: Not all input fields were provided to module. Present: ['question']. Missing: ['context'].\n",
      "WARNING: Not all input fields were provided to module. Present: ['question']. Missing: ['context'].\n",
      "WARNING: Not all input fields were provided to module. Present: ['question']. Missing: ['context'].\n",
      "WARNING: Not all input fields were provided to module. Present: ['question']. Missing: ['context'].\n",
      "WARNING: Not all input fields were provided to module. Present: ['question']. Missing: ['context'].\n",
      "WARNING: Not all input fields were provided to module. Present: ['question']. Missing: ['context'].\n",
      "WARNING: Not all input fields were provided to module. Present: ['question']. Missing: ['context'].\n",
      "WARNING: Not all input fields were provided to module. Present: ['question']. Missing: ['context'].\n",
      "WARNING: Not all input fields were provided to module. Present: ['question']. Missing: ['context'].\n",
      "WARNING: Not all input fields were provided to module. Present: ['question']. Missing: ['context'].\n",
      "WARNING: Not all input fields were provided to module. Present: ['question']. Missing: ['context'].\n",
      "WARNING: Not all input fields were provided to module. Present: ['question']. Missing: ['context'].\n",
      "WARNING: Not all input fields were provided to module. Present: ['question']. Missing: ['context'].\n",
      "WARNING: Not all input fields were provided to module. Present: ['question']. Missing: ['context'].\n",
      "WARNING: Not all input fields were provided to module. Present: ['question']. Missing: ['context'].\n",
      "WARNING: Not all input fields were provided to module. Present: ['question']. Missing: ['context'].\n",
      "WARNING: Not all input fields were provided to module. Present: ['question']. Missing: ['context'].\n",
      "WARNING: Not all input fields were provided to module. Present: ['question']. Missing: ['context'].\n",
      "WARNING: Not all input fields were provided to module. Present: ['question']. Missing: ['context'].\n",
      "WARNING: Not all input fields were provided to module. Present: ['question']. Missing: ['context'].\n",
      "WARNING: Not all input fields were provided to module. Present: ['question']. Missing: ['context'].\n",
      "WARNING: Not all input fields were provided to module. Present: ['question']. Missing: ['context'].\n",
      "WARNING: Not all input fields were provided to module. Present: ['question']. Missing: ['context'].\n",
      "WARNING: Not all input fields were provided to module. Present: ['question']. Missing: ['context'].\n",
      "WARNING: Not all input fields were provided to module. Present: ['question']. Missing: ['context'].\n",
      "WARNING: Not all input fields were provided to module. Present: ['question']. Missing: ['context'].\n",
      "WARNING: Not all input fields were provided to module. Present: ['question']. Missing: ['context'].\n",
      "WARNING: Not all input fields were provided to module. Present: ['question']. Missing: ['context'].\n",
      "WARNING: Not all input fields were provided to module. Present: ['question']. Missing: ['context'].\n",
      "WARNING: Not all input fields were provided to module. Present: ['question']. Missing: ['context'].\n",
      "WARNING: Not all input fields were provided to module. Present: ['question']. Missing: ['context'].\n",
      "WARNING: Not all input fields were provided to module. Present: ['question']. Missing: ['context'].\n",
      "WARNING: Not all input fields were provided to module. Present: ['question']. Missing: ['context'].\n",
      "WARNING: Not all input fields were provided to module. Present: ['question']. Missing: ['context'].\n",
      "WARNING: Not all input fields were provided to module. Present: ['question']. Missing: ['context'].\n",
      "WARNING: Not all input fields were provided to module. Present: ['question']. Missing: ['context'].\n",
      "WARNING: Not all input fields were provided to module. Present: ['question']. Missing: ['context'].\n",
      "WARNING: Not all input fields were provided to module. Present: ['question']. Missing: ['context'].\n",
      "WARNING: Not all input fields were provided to module. Present: ['question']. Missing: ['context'].\n",
      "WARNING: Not all input fields were provided to module. Present: ['question']. Missing: ['context'].\n",
      "WARNING: Not all input fields were provided to module. Present: ['question']. Missing: ['context'].\n",
      "WARNING: Not all input fields were provided to module. Present: ['question']. Missing: ['context'].\n",
      "WARNING: Not all input fields were provided to module. Present: ['question']. Missing: ['context'].\n",
      "WARNING: Not all input fields were provided to module. Present: ['question']. Missing: ['context'].\n",
      "WARNING: Not all input fields were provided to module. Present: ['question']. Missing: ['context'].\n",
      "WARNING: Not all input fields were provided to module. Present: ['question']. Missing: ['context'].\n",
      "WARNING: Not all input fields were provided to module. Present: ['question']. Missing: ['context'].\n",
      "WARNING: Not all input fields were provided to module. Present: ['question']. Missing: ['context'].\n",
      "WARNING: Not all input fields were provided to module. Present: ['question']. Missing: ['context'].\n",
      "WARNING: Not all input fields were provided to module. Present: ['question']. Missing: ['context'].\n",
      "WARNING: Not all input fields were provided to module. Present: ['question']. Missing: ['context'].\n",
      "WARNING: Not all input fields were provided to module. Present: ['question']. Missing: ['context'].\n",
      "WARNING: Not all input fields were provided to module. Present: ['question']. Missing: ['context'].\n",
      "WARNING: Not all input fields were provided to module. Present: ['question']. Missing: ['context'].\n",
      "WARNING: Not all input fields were provided to module. Present: ['question']. Missing: ['context'].\n",
      "WARNING: Not all input fields were provided to module. Present: ['question']. Missing: ['context'].\n",
      "WARNING: Not all input fields were provided to module. Present: ['question']. Missing: ['context'].\n",
      "WARNING: Not all input fields were provided to module. Present: ['question']. Missing: ['context'].\n",
      "WARNING: Not all input fields were provided to module. Present: ['question']. Missing: ['context'].\n",
      "WARNING: Not all input fields were provided to module. Present: ['question']. Missing: ['context'].\n",
      "WARNING: Not all input fields were provided to module. Present: ['question']. Missing: ['context'].\n",
      "WARNING: Not all input fields were provided to module. Present: ['question']. Missing: ['context'].\n",
      "WARNING: Not all input fields were provided to module. Present: ['question']. Missing: ['context'].\n"
     ]
    },
    {
     "name": "stderr",
     "output_type": "stream",
     "text": [
      "Average Metric: 4 / 55  (7.3):   2%|▏         | 55/2733 [00:20<05:35,  7.98it/s]"
     ]
    },
    {
     "name": "stdout",
     "output_type": "stream",
     "text": [
      "WARNING: Not all input fields were provided to module. Present: ['question']. Missing: ['context'].\n",
      "WARNING: Not all input fields were provided to module. Present: ['question']. Missing: ['context'].\n",
      "WARNING: Not all input fields were provided to module. Present: ['question']. Missing: ['context'].\n",
      "WARNING: Not all input fields were provided to module. Present: ['question']. Missing: ['context'].\n",
      "WARNING: Not all input fields were provided to module. Present: ['question']. Missing: ['context'].\n",
      "WARNING: Not all input fields were provided to module. Present: ['question']. Missing: ['context'].\n",
      "WARNING: Not all input fields were provided to module. Present: ['question']. Missing: ['context'].\n",
      "WARNING: Not all input fields were provided to module. Present: ['question']. Missing: ['context'].\n",
      "WARNING: Not all input fields were provided to module. Present: ['question']. Missing: ['context'].\n",
      "WARNING: Not all input fields were provided to module. Present: ['question']. Missing: ['context'].\n",
      "WARNING: Not all input fields were provided to module. Present: ['question']. Missing: ['context'].\n",
      "WARNING: Not all input fields were provided to module. Present: ['question']. Missing: ['context'].\n",
      "WARNING: Not all input fields were provided to module. Present: ['question']. Missing: ['context'].\n",
      "WARNING: Not all input fields were provided to module. Present: ['question']. Missing: ['context'].\n",
      "WARNING: Not all input fields were provided to module. Present: ['question']. Missing: ['context'].\n",
      "WARNING: Not all input fields were provided to module. Present: ['question']. Missing: ['context'].\n",
      "WARNING: Not all input fields were provided to module. Present: ['question']. Missing: ['context'].\n",
      "WARNING: Not all input fields were provided to module. Present: ['question']. Missing: ['context'].\n",
      "WARNING: Not all input fields were provided to module. Present: ['question']. Missing: ['context'].\n",
      "WARNING: Not all input fields were provided to module. Present: ['question']. Missing: ['context'].\n",
      "WARNING: Not all input fields were provided to module. Present: ['question']. Missing: ['context'].\n",
      "WARNING: Not all input fields were provided to module. Present: ['question']. Missing: ['context'].\n",
      "WARNING: Not all input fields were provided to module. Present: ['question']. Missing: ['context'].\n",
      "WARNING: Not all input fields were provided to module. Present: ['question']. Missing: ['context'].\n",
      "WARNING: Not all input fields were provided to module. Present: ['question']. Missing: ['context'].\n",
      "WARNING: Not all input fields were provided to module. Present: ['question']. Missing: ['context'].\n",
      "WARNING: Not all input fields were provided to module. Present: ['question']. Missing: ['context'].\n",
      "WARNING: Not all input fields were provided to module. Present: ['question']. Missing: ['context'].\n",
      "WARNING: Not all input fields were provided to module. Present: ['question']. Missing: ['context'].\n",
      "WARNING: Not all input fields were provided to module. Present: ['question']. Missing: ['context'].\n",
      "WARNING: Not all input fields were provided to module. Present: ['question']. Missing: ['context'].\n",
      "WARNING: Not all input fields were provided to module. Present: ['question']. Missing: ['context'].\n",
      "WARNING: Not all input fields were provided to module. Present: ['question']. Missing: ['context'].\n",
      "WARNING: Not all input fields were provided to module. Present: ['question']. Missing: ['context'].\n",
      "WARNING: Not all input fields were provided to module. Present: ['question']. Missing: ['context'].\n",
      "WARNING: Not all input fields were provided to module. Present: ['question']. Missing: ['context'].\n",
      "WARNING: Not all input fields were provided to module. Present: ['question']. Missing: ['context'].\n",
      "WARNING: Not all input fields were provided to module. Present: ['question']. Missing: ['context'].\n",
      "WARNING: Not all input fields were provided to module. Present: ['question']. Missing: ['context'].\n",
      "WARNING: Not all input fields were provided to module. Present: ['question']. Missing: ['context'].\n",
      "WARNING: Not all input fields were provided to module. Present: ['question']. Missing: ['context'].\n",
      "WARNING: Not all input fields were provided to module. Present: ['question']. Missing: ['context'].\n",
      "WARNING: Not all input fields were provided to module. Present: ['question']. Missing: ['context'].\n",
      "WARNING: Not all input fields were provided to module. Present: ['question']. Missing: ['context'].\n",
      "WARNING: Not all input fields were provided to module. Present: ['question']. Missing: ['context'].\n",
      "WARNING: Not all input fields were provided to module. Present: ['question']. Missing: ['context'].\n",
      "WARNING: Not all input fields were provided to module. Present: ['question']. Missing: ['context'].\n",
      "WARNING: Not all input fields were provided to module. Present: ['question']. Missing: ['context'].\n",
      "WARNING: Not all input fields were provided to module. Present: ['question']. Missing: ['context'].\n",
      "WARNING: Not all input fields were provided to module. Present: ['question']. Missing: ['context'].\n",
      "WARNING: Not all input fields were provided to module. Present: ['question']. Missing: ['context'].\n",
      "WARNING: Not all input fields were provided to module. Present: ['question']. Missing: ['context'].\n",
      "WARNING: Not all input fields were provided to module. Present: ['question']. Missing: ['context'].\n",
      "WARNING: Not all input fields were provided to module. Present: ['question']. Missing: ['context'].\n",
      "WARNING: Not all input fields were provided to module. Present: ['question']. Missing: ['context'].\n",
      "WARNING: Not all input fields were provided to module. Present: ['question']. Missing: ['context'].\n",
      "WARNING: Not all input fields were provided to module. Present: ['question']. Missing: ['context'].\n",
      "WARNING: Not all input fields were provided to module. Present: ['question']. Missing: ['context'].\n",
      "WARNING: Not all input fields were provided to module. Present: ['question']. Missing: ['context'].\n",
      "WARNING: Not all input fields were provided to module. Present: ['question']. Missing: ['context'].\n",
      "WARNING: Not all input fields were provided to module. Present: ['question']. Missing: ['context'].\n",
      "WARNING: Not all input fields were provided to module. Present: ['question']. Missing: ['context'].\n",
      "WARNING: Not all input fields were provided to module. Present: ['question']. Missing: ['context'].WARNING: Not all input fields were provided to module. Present: ['question']. Missing: ['context'].\n",
      "\n",
      "WARNING: Not all input fields were provided to module. Present: ['question']. Missing: ['context'].\n",
      "WARNING: Not all input fields were provided to module. Present: ['question']. Missing: ['context'].\n",
      "WARNING: Not all input fields were provided to module. Present: ['question']. Missing: ['context'].\n",
      "WARNING: Not all input fields were provided to module. Present: ['question']. Missing: ['context'].\n",
      "WARNING: Not all input fields were provided to module. Present: ['question']. Missing: ['context'].\n",
      "WARNING: Not all input fields were provided to module. Present: ['question']. Missing: ['context'].\n",
      "WARNING: Not all input fields were provided to module. Present: ['question']. Missing: ['context'].\n",
      "WARNING: Not all input fields were provided to module. Present: ['question']. Missing: ['context'].\n",
      "WARNING: Not all input fields were provided to module. Present: ['question']. Missing: ['context'].\n",
      "WARNING: Not all input fields were provided to module. Present: ['question']. Missing: ['context'].\n",
      "WARNING: Not all input fields were provided to module. Present: ['question']. Missing: ['context'].\n",
      "WARNING: Not all input fields were provided to module. Present: ['question']. Missing: ['context'].\n",
      "WARNING: Not all input fields were provided to module. Present: ['question']. Missing: ['context'].\n",
      "WARNING: Not all input fields were provided to module. Present: ['question']. Missing: ['context'].\n",
      "WARNING: Not all input fields were provided to module. Present: ['question']. Missing: ['context'].\n",
      "WARNING: Not all input fields were provided to module. Present: ['question']. Missing: ['context'].\n",
      "WARNING: Not all input fields were provided to module. Present: ['question']. Missing: ['context'].\n",
      "WARNING: Not all input fields were provided to module. Present: ['question']. Missing: ['context'].\n",
      "WARNING: Not all input fields were provided to module. Present: ['question']. Missing: ['context'].\n",
      "WARNING: Not all input fields were provided to module. Present: ['question']. Missing: ['context'].\n",
      "WARNING: Not all input fields were provided to module. Present: ['question']. Missing: ['context'].\n",
      "WARNING: Not all input fields were provided to module. Present: ['question']. Missing: ['context'].\n",
      "WARNING: Not all input fields were provided to module. Present: ['question']. Missing: ['context'].\n",
      "WARNING: Not all input fields were provided to module. Present: ['question']. Missing: ['context'].\n",
      "WARNING: Not all input fields were provided to module. Present: ['question']. Missing: ['context'].\n",
      "WARNING: Not all input fields were provided to module. Present: ['question']. Missing: ['context'].\n",
      "WARNING: Not all input fields were provided to module. Present: ['question']. Missing: ['context'].\n",
      "WARNING: Not all input fields were provided to module. Present: ['question']. Missing: ['context'].\n",
      "WARNING: Not all input fields were provided to module. Present: ['question']. Missing: ['context'].\n",
      "WARNING: Not all input fields were provided to module. Present: ['question']. Missing: ['context'].\n",
      "WARNING: Not all input fields were provided to module. Present: ['question']. Missing: ['context'].\n",
      "WARNING: Not all input fields were provided to module. Present: ['question']. Missing: ['context'].\n",
      "WARNING: Not all input fields were provided to module. Present: ['question']. Missing: ['context'].\n",
      "WARNING: Not all input fields were provided to module. Present: ['question']. Missing: ['context'].\n",
      "WARNING: Not all input fields were provided to module. Present: ['question']. Missing: ['context'].\n",
      "WARNING: Not all input fields were provided to module. Present: ['question']. Missing: ['context'].\n",
      "WARNING: Not all input fields were provided to module. Present: ['question']. Missing: ['context'].\n",
      "WARNING: Not all input fields were provided to module. Present: ['question']. Missing: ['context'].\n",
      "WARNING: Not all input fields were provided to module. Present: ['question']. Missing: ['context'].\n",
      "WARNING: Not all input fields were provided to module. Present: ['question']. Missing: ['context'].\n",
      "WARNING: Not all input fields were provided to module. Present: ['question']. Missing: ['context'].\n",
      "WARNING: Not all input fields were provided to module. Present: ['question']. Missing: ['context'].\n",
      "WARNING: Not all input fields were provided to module. Present: ['question']. Missing: ['context'].\n",
      "WARNING: Not all input fields were provided to module. Present: ['question']. Missing: ['context'].\n",
      "WARNING: Not all input fields were provided to module. Present: ['question']. Missing: ['context'].\n"
     ]
    }
   ],
   "source": [
    "from dspy.teleprompt import BootstrapFewShotWithRandomSearch\n",
    "from phoenix.trace import using_project\n",
    "\n",
    "# Set up the optimizer: we want to \"bootstrap\" (i.e., self-generate) 3-shot examples of our CoT program.\n",
    "config = dict(max_bootstrapped_demos=3, max_labeled_demos=3)\n",
    "\n",
    "# Optimize! Use our own custom metric\n",
    "def validate_label(example, pred, trace=None):\n",
    "    if example[\"label\"] == 1:\n",
    "        match = pred.label.lower() == \"relevant\"\n",
    "    else:\n",
    "        match = pred.label.lower() == \"unrelated\"\n",
    "    return 1 if match else 0\n",
    "\n",
    "teleprompter = BootstrapFewShotWithRandomSearch(metric=validate_label, **config)\n",
    "with using_project(\"relevance_training\"):\n",
    "    optimized_cot = teleprompter.compile(Classify(), trainset=trainset, valset=valset)"
   ]
  },
  {
   "cell_type": "markdown",
   "metadata": {},
   "source": []
  }
 ],
 "metadata": {
  "kernelspec": {
   "display_name": ".venv",
   "language": "python",
   "name": "python3"
  },
  "language_info": {
   "codemirror_mode": {
    "name": "ipython",
    "version": 3
   },
   "file_extension": ".py",
   "mimetype": "text/x-python",
   "name": "python",
   "nbconvert_exporter": "python",
   "pygments_lexer": "ipython3",
   "version": "3.10.3"
  }
 },
 "nbformat": 4,
 "nbformat_minor": 2
}
