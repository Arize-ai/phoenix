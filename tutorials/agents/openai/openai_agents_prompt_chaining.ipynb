{
 "cells": [
  {
   "cell_type": "markdown",
   "metadata": {
    "id": "SUknhuHKyc-E"
   },
   "source": [
    "# <center>OpenAI agent pattern: prompt chaining agent</center>\n",
    "\n",
    "A starter guide for building an agent which chains two prompts together to generate an output using the `openai-agents` library.\n",
    "\n",
    "In the following example, we'll build a stock portfolio creation system using this pattern:\n",
    "1.  **Search Agent (Generation):** Searches the web for information on particular stock tickers.\n",
    "2.  **Report Agent (Generation):** Creates a portfolio of stocks and ETFs that supports the user's investment strategy."
   ]
  },
  {
   "cell_type": "markdown",
   "metadata": {
    "id": "n69HR7eJswNt"
   },
   "source": [
    "### Install Libraries"
   ]
  },
  {
   "cell_type": "code",
   "execution_count": 1,
   "metadata": {},
   "outputs": [],
   "source": [
    "# Install base libraries for OpenAI\n",
    "!pip install -q openai openai-agents pydantic\n",
    "\n",
    "# Install optional libraries for OpenInference/OpenTelemetry tracing\n",
    "!pip install -q arize-phoenix-otel openinference-instrumentation-openai-agents openinference-instrumentation-openai"
   ]
  },
  {
   "cell_type": "markdown",
   "metadata": {
    "id": "jQnyEnJisyn3"
   },
   "source": [
    "### Setup Keys\n",
    "\n",
    "Add your OpenAI API key to the environment variable `OPENAI_API_KEY`.\n",
    "\n",
    "Copy your Phoenix `API_KEY` from your settings page at [app.phoenix.arize.com](https://app.phoenix.arize.com)."
   ]
  },
  {
   "cell_type": "code",
   "execution_count": 1,
   "metadata": {},
   "outputs": [],
   "source": [
    "import os\n",
    "from getpass import getpass\n",
    "\n",
    "os.environ[\"PHOENIX_COLLECTOR_ENDPOINT\"] = \"https://app.phoenix.arize.com\"\n",
    "if not os.environ.get(\"PHOENIX_CLIENT_HEADERS\"):\n",
    "    os.environ[\"PHOENIX_CLIENT_HEADERS\"] = \"api_key=\" + getpass(\"Enter your Phoenix API key: \")\n",
    "\n",
    "OPENAI_API_KEY = globals().get(\"OPENAI_API_KEY\") or getpass(\n",
    "    \"🔑 Enter your OpenAI API key: \"\n",
    ")\n",
    "os.environ[\"OPENAI_API_KEY\"] = OPENAI_API_KEY"
   ]
  },
  {
   "cell_type": "markdown",
   "metadata": {
    "id": "kfid5cE99yN5"
   },
   "source": [
    "### Setup Tracing"
   ]
  },
  {
   "cell_type": "code",
   "execution_count": 2,
   "metadata": {},
   "outputs": [
    {
     "name": "stdout",
     "output_type": "stream",
     "text": [
      "🔭 OpenTelemetry Tracing Details 🔭\n",
      "|  Phoenix Project: openai-agents\n",
      "|  Span Processor: SimpleSpanProcessor\n",
      "|  Collector Endpoint: https://app.phoenix.arize.com/v1/traces\n",
      "|  Transport: HTTP + protobuf\n",
      "|  Transport Headers: {'api_key': '****'}\n",
      "|  \n",
      "|  Using a default SpanProcessor. `add_span_processor` will overwrite this default.\n",
      "|  \n",
      "|  ⚠️ WARNING: It is strongly advised to use a BatchSpanProcessor in production environments.\n",
      "|  \n",
      "|  `register` has set this TracerProvider as the global OpenTelemetry default.\n",
      "|  To disable this behavior, call `register` with `set_global_tracer_provider=False`.\n",
      "\n"
     ]
    }
   ],
   "source": [
    "from phoenix.otel import register\n",
    "\n",
    "tracer_provider = register(\n",
    "    project_name=\"openai-agents\",\n",
    "    endpoint=\"https://app.phoenix.arize.com/v1/traces\",\n",
    "    auto_instrument=True,\n",
    ")"
   ]
  },
  {
   "cell_type": "markdown",
   "metadata": {},
   "source": [
    "## Creating the agent\n",
    "\n"
   ]
  },
  {
   "cell_type": "code",
   "execution_count": 3,
   "metadata": {},
   "outputs": [
    {
     "name": "stdout",
     "output_type": "stream",
     "text": [
      "('Investing in smaller tech stocks can offer significant growth potential. '\n",
      " 'Here are some small-cap tech companies to consider:\\n'\n",
      " '\\n'\n",
      " '**Airship AI (NASDAQ: AISP)**  \\n'\n",
      " 'Specializes in analyzing unstructured data, notably from surveillance '\n",
      " 'videos. In 2024, the company secured contracts with the U.S. Department of '\n",
      " 'Homeland Security and the Department of Justice. Revenue increased by 148% '\n",
      " 'over the last 12 months, with a $130 million pipeline—five times its recent '\n",
      " 'annual revenue. Analysts project a potential 185% stock price increase. '\n",
      " '([marketbeat.com](https://www.marketbeat.com/stock-ideas/ais-next-big-winners-3-small-cap-stocks-to-watch-in-2025/?utm_source=openai))\\n'\n",
      " '\\n'\n",
      " '**BigBear.ai (NYSE: BBAI)**  \\n'\n",
      " 'Provides AI-driven analytics for national security and supply chain '\n",
      " 'management. In October 2024, it secured a five-year, $165 million contract '\n",
      " 'with the U.S. Army. The company is also expanding into civilian sectors, '\n",
      " 'implementing biometric verification at major airports like Denver '\n",
      " \"International and London's Heathrow. Analysts suggest the stock is fairly \"\n",
      " 'valued but could appreciate with new developments. '\n",
      " '([marketbeat.com](https://www.marketbeat.com/stock-ideas/ais-next-big-winners-3-small-cap-stocks-to-watch-in-2025/?utm_source=openai))\\n'\n",
      " '\\n'\n",
      " '**Rezolve AI (NASDAQ: RZLV)**  \\n'\n",
      " 'Offers AI solutions to enhance e-commerce customer engagement. Despite a 69% '\n",
      " 'stock decline in 2024, the company plans to commercialize its platform in '\n",
      " 'Europe by Q4 2024 and in North America by Q1 2025. Partnerships with '\n",
      " 'Alphabet and Microsoft aim to distribute its platform via their cloud '\n",
      " 'infrastructures. Rezolve targets $100 million in annual recurring revenue by '\n",
      " 'the end of 2025. '\n",
      " '([marketbeat.com](https://www.marketbeat.com/stock-ideas/ais-next-big-winners-3-small-cap-stocks-to-watch-in-2025/?utm_source=openai))\\n'\n",
      " '\\n'\n",
      " '**Amplitude (NASDAQ: AMPL)**  \\n'\n",
      " 'Provides digital product optimization tools. After acquiring Command AI in '\n",
      " 'October 2024, it expanded its platform with features like guides and '\n",
      " 'surveys. An AI agent launch is planned for the latter half of 2025 to '\n",
      " 'enhance customer insights. The stock has risen over 50% since August 2024. '\n",
      " '([nasdaq.com](https://www.nasdaq.com/articles/1-small-cap-tech-stock-could-be-breakout-winner-2025?utm_source=openai))\\n'\n",
      " '\\n'\n",
      " '**Wolfspeed (NYSE: WOLF)**  \\n'\n",
      " 'A semiconductor company focusing on silicon carbide power trains. In 2024, '\n",
      " 'its automotive business grew 2.5 times year-over-year, with a 75% growth '\n",
      " 'projection for 2025. The stock trades at a price-to-sales ratio of 1.5x, '\n",
      " 'suggesting potential value. '\n",
      " '([investing.com](https://www.investing.com/analysis/top-10-smallcap-stocks-to-watch-in-2025-200655548?utm_source=openai))\\n'\n",
      " '\\n'\n",
      " '**Innodata (NASDAQ: INOD)**  \\n'\n",
      " 'Offers a low-code platform enabling clients to utilize AI for process '\n",
      " 'automation. In the first half of 2024, revenue increased by 54% to $59 '\n",
      " 'million, with a net income of $975,000, a significant turnaround from a $2.9 '\n",
      " 'million loss in the same period of 2023. The stock has appreciated over 90% '\n",
      " 'in 2024. '\n",
      " '([fool.com](https://www.fool.com/investing/2024/10/13/the-best-small-cap-tech-stocks-to-invest-1000-in-r/?utm_source=openai))\\n'\n",
      " '\\n'\n",
      " '**SoundHound AI (NASDAQ: SOUN)**  \\n'\n",
      " 'Provides AI voice solutions across various industries, including automotive '\n",
      " 'and dining. In Q2 2024, revenue grew by 54% year-over-year to $13.5 million. '\n",
      " 'The company is expanding its AI-powered voice interactions in the dining '\n",
      " \"industry, partnering with brands like Papa John's and Chipotle. \"\n",
      " '([fool.com](https://www.fool.com/investing/2024/10/13/the-best-small-cap-tech-stocks-to-invest-1000-in-r/?utm_source=openai))\\n'\n",
      " '\\n'\n",
      " '**Rigetti Computing (NASDAQ: RGTI)**  \\n'\n",
      " 'Develops quantum computers and offers quantum-computing-as-a-service. The '\n",
      " 'company plans to launch 36- and 100-qubit systems by the end of 2025, '\n",
      " 'targeting an $8 billion addressable market. Revenue is expected to grow from '\n",
      " '$15 million, with profitability anticipated in the near future. '\n",
      " '([marketbeat.com](https://www.marketbeat.com/stock-ideas/3-innovative-small-cap-tech-stocks-time-to-buy-sell-or-hold/?utm_source=openai))\\n'\n",
      " '\\n'\n",
      " '**Five9 (NASDAQ: FIVN)**  \\n'\n",
      " 'Provides cloud software solutions for contact centers, integrating AI to '\n",
      " 'enhance customer interactions. In Q3 2024, subscription revenue grew by 20%, '\n",
      " 'with total revenue up 15%. The company raised its outlook in November 2024, '\n",
      " 'citing momentum in its AI products. '\n",
      " '([nasdaq.com](https://www.nasdaq.com/articles/tech-stocks-2025-buy-fivn-down-80-ai-boost-upside?utm_source=openai))\\n'\n",
      " '\\n'\n",
      " '**Archer Aviation (NYSE: ACHR)**  \\n'\n",
      " 'Develops electric vertical takeoff and landing (eVTOL) aircraft. The company '\n",
      " 'aims to complete certification and construct a manufacturing facility in '\n",
      " 'Georgia by 2024, with plans to produce 650 aircraft annually. Commercial '\n",
      " 'operations are set to begin in the U.S., UAE, and India by 2026, supported '\n",
      " 'by a $3.5 billion order backlog. '\n",
      " '([nasdaq.com](https://www.nasdaq.com/articles/3-small-cap-stocks-to-buy-for-100-returns-before-2025?utm_source=openai))\\n'\n",
      " '\\n'\n",
      " 'Investing in small-cap tech stocks carries inherent risks due to market '\n",
      " \"volatility and company-specific factors. It's advisable to conduct thorough \"\n",
      " 'research and consider consulting a financial advisor before making '\n",
      " 'investment decisions. ')\n",
      "Portfolio(tickers=[PortfolioItem(ticker='AISP', allocation=10.0, reason='Airship AI’s revenue surged 148% over the last 12 months, backed by a $130 million contract pipeline and U.S. DHS and DOJ wins. Analysts project up to a 185% stock price increase, highlighting strong growth potential in unstructured-data AI.'), PortfolioItem(ticker='BBAI', allocation=10.0, reason='BigBear.ai secured a five-year, $165 million U.S. Army contract in October 2024 and is expanding into civilian biometric-verification at major airports. Its AI analytics for national security and supply chains position it for steady contract-driven revenue.'), PortfolioItem(ticker='RZLV', allocation=10.0, reason='Rezolve AI plans commercial launches in Europe (Q4 2024) and North America (Q1 2025), with distribution via Alphabet and Microsoft clouds. Despite a 69% share decline in 2024, it targets $100 million ARR by end-2025, offering a turnaround play.'), PortfolioItem(ticker='AMPL', allocation=10.0, reason='Amplitude acquired Command AI in October 2024, adding guides and surveys to its digital-product optimization platform. A new AI agent slated for H2 2025 and a >50% stock rise since August 2024 underscore momentum in customer-insights tools.'), PortfolioItem(ticker='WOLF', allocation=10.0, reason='Wolfspeed’s silicon-carbide power-train revenue grew 2.5× YoY in 2024, with a 75% growth forecast for 2025. Trading at just 1.5× price-to-sales, it offers value exposure to the expanding electric-vehicle semiconductor market.'), PortfolioItem(ticker='INOD', allocation=10.0, reason='Innodata reported H1 2024 revenue up 54% to $59 million and turned profitable with $975,000 net income versus a $2.9 million loss in H1 2023. A 90% stock gain in 2024 reflects its successful AI-driven automation platform adoption.'), PortfolioItem(ticker='SOUN', allocation=10.0, reason='SoundHound AI’s Q2 2024 revenue jumped 54% YoY to $13.5 million, fueled by AI voice solutions in automotive and dining. Partnerships with Papa John’s and Chipotle signal expanding enterprise adoption of its conversational AI.'), PortfolioItem(ticker='RGTI', allocation=10.0, reason='Rigetti Computing is developing 36- and 100-qubit quantum systems for launch by end-2025, targeting an $8 billion addressable market. With quantum-computing-as-a-service revenues set to grow from $15 million and profitability nearing, it’s a long-term disruptor.'), PortfolioItem(ticker='FIVN', allocation=10.0, reason='Five9’s Q3 2024 subscription revenue rose 20% and total revenue 15%, driven by AI enhancements in its cloud contact-center platform. The November 2024 raised outlook underscores accelerating demand for AI-powered customer-service software.'), PortfolioItem(ticker='ACHR', allocation=10.0, reason='Archer Aviation aims FAA certification and a Georgia manufacturing facility by end-2024, with a $3.5 billion order backlog. Commercial eVTOL operations are planned in the U.S., UAE, and India by 2026, offering leverage to the emerging urban-air mobility market.')])\n"
     ]
    }
   ],
   "source": [
    "from textwrap import dedent\n",
    "from agents import Agent, WebSearchTool, Runner, TResponseInputItem\n",
    "from pydantic import BaseModel, Field\n",
    "from agents.model_settings import ModelSettings\n",
    "from pprint import pprint\n",
    "\n",
    "class PortfolioItem(BaseModel):\n",
    "    ticker: str = Field(\n",
    "        description=\"The ticker of the stock or ETF.\"\n",
    "    )\n",
    "    allocation: float = Field(\n",
    "        description=\"The percentage allocation of the ticker in the portfolio. The sum of all allocations should be 100.\"\n",
    "    )\n",
    "    reason: str = Field(\n",
    "        description=\"The reason why this ticker is included in the portfolio.\"\n",
    "    )\n",
    "\n",
    "class Portfolio(BaseModel):\n",
    "    tickers: list[PortfolioItem] = Field(\n",
    "        description=\"A list of tickers that could support the user's stated investment strategy.\"\n",
    "    )\n",
    "\n",
    "portfolio_agent = Agent(\n",
    "    name=\"Portfolio Agent\",\n",
    "    instructions=dedent(\"\"\"You are a senior financial analyst. You will be provided with a stock research report. Your task is to create a portfolio of stocks and ETFs that could support the user's stated investment strategy. Include facts and data from the research report in the stated reasons for the portfolio allocation.\"\"\"),\n",
    "    model=\"o4-mini\",\n",
    "    output_type=Portfolio,\n",
    ")\n",
    "\n",
    "research_agent = Agent(\n",
    "    name=\"FinancialSearchAgent\",\n",
    "    instructions=dedent(\"\"\"You are a research assistant specializing in financial topics. Given an investment strategy, use web search to retrieve up‑to‑date context and produce a short summary of stocks that support the investment strategy at most 50 words. Focus on key numbers, events, or quotes that will be useful to a financial analyst.\"\"\"),\n",
    "    model=\"gpt-4.1\",\n",
    "    tools=[WebSearchTool()],\n",
    "    model_settings=ModelSettings(tool_choice=\"required\", parallel_tool_calls=True),\n",
    ")\n",
    "\n",
    "user_input = input(\"Enter your investment strategy: \")\n",
    "input_items: list[TResponseInputItem] = [{\"content\": f\"My investment strategy: {user_input}\", \"role\": \"user\"}]\n",
    "\n",
    "\n",
    "research_output = await Runner.run(research_agent, input_items)\n",
    "pprint(research_output.final_output)\n",
    "\n",
    "input_items = research_output.to_input_list()\n",
    "portfolio_output = await Runner.run(portfolio_agent, input_items)\n",
    "pprint(portfolio_output.final_output)"
   ]
  }
 ],
 "metadata": {
  "kernelspec": {
   "display_name": ".venv",
   "language": "python",
   "name": "python3"
  },
  "language_info": {
   "codemirror_mode": {
    "name": "ipython",
    "version": 3
   },
   "file_extension": ".py",
   "mimetype": "text/x-python",
   "name": "python",
   "nbconvert_exporter": "python",
   "pygments_lexer": "ipython3",
   "version": "3.11.6"
  }
 },
 "nbformat": 4,
 "nbformat_minor": 0
}
