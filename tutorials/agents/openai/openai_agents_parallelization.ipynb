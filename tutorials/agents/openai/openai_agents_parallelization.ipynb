{
 "cells": [
  {
   "cell_type": "markdown",
   "metadata": {
    "id": "SUknhuHKyc-E"
   },
   "source": [
    "# <center>OpenAI agent pattern: parallelization</center>\n",
    "\n",
    "A starter guide for building an agent with parallel LLM and tool calling using the `openai-agents` library.\n",
    "\n",
    "In this example, we are building a stock research agent. If we want to research 5 stocks, we can force the agent to run multiple tool calls, instead of sequentially."
   ]
  },
  {
   "cell_type": "markdown",
   "metadata": {
    "id": "n69HR7eJswNt"
   },
   "source": [
    "### Install Libraries"
   ]
  },
  {
   "cell_type": "code",
   "execution_count": 5,
   "metadata": {},
   "outputs": [],
   "source": [
    "# Install base libraries for OpenAI\n",
    "!pip install -q openai openai-agents yfinance\n",
    "\n",
    "# Install optional libraries for OpenInference/OpenTelemetry tracing\n",
    "!pip install -q arize-phoenix-otel openinference-instrumentation-openai-agents openinference-instrumentation-openai"
   ]
  },
  {
   "cell_type": "markdown",
   "metadata": {
    "id": "jQnyEnJisyn3"
   },
   "source": [
    "### Setup Keys\n",
    "\n",
    "Add your OpenAI API key to the environment variable `OPENAI_API_KEY`.\n",
    "\n",
    "Copy your Phoenix `API_KEY` from your settings page at [app.phoenix.arize.com](https://app.phoenix.arize.com)."
   ]
  },
  {
   "cell_type": "code",
   "execution_count": 2,
   "metadata": {},
   "outputs": [],
   "source": [
    "import os\n",
    "from getpass import getpass\n",
    "\n",
    "os.environ[\"PHOENIX_COLLECTOR_ENDPOINT\"] = \"https://app.phoenix.arize.com\"\n",
    "if not os.environ.get(\"PHOENIX_CLIENT_HEADERS\"):\n",
    "    os.environ[\"PHOENIX_CLIENT_HEADERS\"] = \"api_key=\" + getpass(\"Enter your Phoenix API key: \")\n",
    "\n",
    "OPENAI_API_KEY = globals().get(\"OPENAI_API_KEY\") or getpass(\n",
    "    \"🔑 Enter your OpenAI API key: \"\n",
    ")\n",
    "os.environ[\"OPENAI_API_KEY\"] = OPENAI_API_KEY"
   ]
  },
  {
   "cell_type": "markdown",
   "metadata": {
    "id": "kfid5cE99yN5"
   },
   "source": [
    "### Setup Tracing"
   ]
  },
  {
   "cell_type": "code",
   "execution_count": 3,
   "metadata": {},
   "outputs": [
    {
     "name": "stdout",
     "output_type": "stream",
     "text": [
      "🔭 OpenTelemetry Tracing Details 🔭\n",
      "|  Phoenix Project: openai-agents\n",
      "|  Span Processor: SimpleSpanProcessor\n",
      "|  Collector Endpoint: https://app.phoenix.arize.com/v1/traces\n",
      "|  Transport: HTTP + protobuf\n",
      "|  Transport Headers: {'api_key': '****'}\n",
      "|  \n",
      "|  Using a default SpanProcessor. `add_span_processor` will overwrite this default.\n",
      "|  \n",
      "|  ⚠️ WARNING: It is strongly advised to use a BatchSpanProcessor in production environments.\n",
      "|  \n",
      "|  `register` has set this TracerProvider as the global OpenTelemetry default.\n",
      "|  To disable this behavior, call `register` with `set_global_tracer_provider=False`.\n",
      "\n"
     ]
    }
   ],
   "source": [
    "from phoenix.otel import register\n",
    "\n",
    "tracer_provider = register(\n",
    "    project_name=\"openai-agents\",\n",
    "    endpoint=\"https://app.phoenix.arize.com/v1/traces\",\n",
    "    auto_instrument=True,\n",
    ")"
   ]
  },
  {
   "cell_type": "markdown",
   "metadata": {},
   "source": [
    "## Creating your agent"
   ]
  },
  {
   "cell_type": "code",
   "execution_count": null,
   "metadata": {},
   "outputs": [
    {
     "name": "stdout",
     "output_type": "stream",
     "text": [
      "{'beta': 1.275,\n",
      " 'current_price': 195.2159,\n",
      " 'description': 'Apple Inc. designs, manufactures, and markets smartphones, '\n",
      "                'personal computers, tablets, wearables, and accessories '\n",
      "                'worldwide. The company offers iPhone, a line of smartphones; '\n",
      "                'Mac, a line of personal computers; iPad, a line of '\n",
      "                'multi-purpose tablets; and wearables, home, and accessories '\n",
      "                'comprising AirPods, Apple TV, Apple Watch, Beats products, '\n",
      "                'and HomePod. It also provides AppleCare support and cloud '\n",
      "                'services; and operates various platforms, including the App '\n",
      "                'Store that allow customers to discover and download '\n",
      "                'applications and digital content, such as books, music, '\n",
      "                'video, games, and podcasts, as well as advertising services '\n",
      "                'include third-party licensing arrangements and its own '\n",
      "                'advertising platforms. In addition, the company offers '\n",
      "                'various subscription-based services, such as Apple Arcade, a '\n",
      "                'game subscription service; Apple Fitness+, a personalized '\n",
      "                'fitness service; Apple Music, which offers users a curated '\n",
      "                'listening experience with on-demand radio stations; Apple '\n",
      "                'News+, a subscription news and magazine service; Apple TV+, '\n",
      "                'which offers exclusive original content; Apple Card, a '\n",
      "                'co-branded credit card; and Apple Pay, a cashless payment '\n",
      "                'service, as well as licenses its intellectual property. The '\n",
      "                'company serves consumers, and small and mid-sized businesses; '\n",
      "                'and the education, enterprise, and government markets. It '\n",
      "                'distributes third-party applications for its products through '\n",
      "                'the App Store. The company also sells its products through '\n",
      "                'its retail and online stores, and direct sales force; and '\n",
      "                'third-party cellular network carriers, wholesalers, '\n",
      "                'retailers, and resellers. Apple Inc. was founded in 1976 and '\n",
      "                'is headquartered in Cupertino, California.',\n",
      " 'dividend_yield': 0.52,\n",
      " 'earnings_growth': 0.078,\n",
      " 'fifty_day_moving_average': 213.6846,\n",
      " 'fifty_two_week_high': 260.1,\n",
      " 'fifty_two_week_low': 169.21,\n",
      " 'forward_pe': 23.491684,\n",
      " 'industry': 'Consumer Electronics',\n",
      " 'market_cap': 2915705552896,\n",
      " 'profit_margins': 0.24301,\n",
      " 'recommendation_key': 'buy',\n",
      " 'revenue_growth': 0.051,\n",
      " 'sector': 'Technology',\n",
      " 'symbol': 'AAPL',\n",
      " 'trailing_pe': 30.454899,\n",
      " 'two_hundred_day_moving_average': 226.8103,\n",
      " 'volume': 41800741}\n"
     ]
    }
   ],
   "source": [
    "import yfinance as yf\n",
    "from pprint import pprint\n",
    "\n",
    "def get_stock_data(ticker_symbol):\n",
    "    stock = yf.Ticker(ticker_symbol)\n",
    "    data = stock.info\n",
    "    return {\n",
    "        \"symbol\": data.get(\"symbol\"),\n",
    "        \"current_price\": data.get(\"currentPrice\"),\n",
    "        \"market_cap\": data.get(\"marketCap\"),\n",
    "        \"sector\": data.get(\"sector\"),\n",
    "        \"industry\": data.get(\"industry\"),\n",
    "        \"description\": data.get(\"longBusinessSummary\"),\n",
    "        \"trailing_pe\": data.get(\"trailingPE\"),\n",
    "        \"forward_pe\": data.get(\"forwardPE\"),\n",
    "        \"dividend_yield\": data.get(\"dividendYield\"),\n",
    "        \"beta\": data.get(\"beta\"),\n",
    "        \"fifty_two_week_high\": data.get(\"fiftyTwoWeekHigh\"),\n",
    "        \"fifty_two_week_low\": data.get(\"fiftyTwoWeekLow\"),\n",
    "        \"fifty_day_moving_average\": data.get(\"fiftyDayAverage\"),\n",
    "        \"two_hundred_day_moving_average\": data.get(\"twoHundredDayAverage\"),\n",
    "        \"recommendation_key\": data.get(\"recommendationKey\"),\n",
    "        \"revenue_growth\": data.get(\"revenueGrowth\"),\n",
    "        \"earnings_growth\": data.get(\"earningsGrowth\"),\n",
    "        \"profit_margins\": data.get(\"profitMargins\"),\n",
    "    }\n",
    "\n",
    "pprint(get_stock_data(\"AAPL\"))"
   ]
  },
  {
   "cell_type": "code",
   "execution_count": 11,
   "metadata": {},
   "outputs": [
    {
     "name": "stdout",
     "output_type": "stream",
     "text": [
      "('Apple (AAPL): $195.03, market cap $2.91T, TTM P/E 30.4, yield 0.52%. Margins '\n",
      " '24.3%. Revenue growth 5.1%. Recommendation: buy.\\n'\n",
      " '\\n'\n",
      " 'Alphabet (GOOGL): $150.27, market cap $1.83T, TTM P/E 16.8, yield 0.51%. '\n",
      " 'Margins 30.9%. Revenue growth 12%. Buy.\\n'\n",
      " '\\n'\n",
      " 'Microsoft (MSFT): $435.41, market cap $3.24T, TTM P/E 33.6, yield 0.77%. '\n",
      " 'Margins 35.8%. Revenue growth 13.3%. Strong buy.')\n"
     ]
    }
   ],
   "source": [
    "from textwrap import dedent\n",
    "from agents import Agent, WebSearchTool, Runner, TResponseInputItem, function_tool\n",
    "from agents.model_settings import ModelSettings\n",
    "from pprint import pprint\n",
    "\n",
    "@function_tool\n",
    "def get_stock_data_tool(ticker_symbol: str) -> dict:\n",
    "    \"\"\"\n",
    "    Get stock data for a given ticker symbol.\n",
    "    Args:\n",
    "        ticker_symbol: The ticker symbol of the stock to get data for.\n",
    "    Returns:\n",
    "        A dictionary containing stock data such as price, market cap, and more.\n",
    "    \"\"\"\n",
    "    return get_stock_data(ticker_symbol)\n",
    "\n",
    "\n",
    "research_agent = Agent(\n",
    "    name=\"FinancialSearchAgent\",\n",
    "    instructions=dedent(\"\"\"You are a research assistant specializing in financial topics. Given a stock ticker, use web search to retrieve up‑to‑date context and produce a short summary of at most 50 words. Focus on key numbers, events, or quotes that will be useful to a financial analyst.\"\"\"),\n",
    "    model=\"gpt-4.1\",\n",
    "    tools=[WebSearchTool(), get_stock_data_tool],\n",
    "    model_settings=ModelSettings(tool_choice=\"required\", parallel_tool_calls=True),\n",
    ")\n",
    "\n",
    "user_input = input(\"Enter the stock tickers you want to research: \")\n",
    "input_items: list[TResponseInputItem] = [{\"content\": user_input, \"role\": \"user\"}]\n",
    "\n",
    "orchestrator = await Runner.run(research_agent, input_items)\n",
    "orchestrator_output = orchestrator.final_output\n",
    "pprint(orchestrator_output)"
   ]
  }
 ],
 "metadata": {
  "kernelspec": {
   "display_name": ".venv",
   "language": "python",
   "name": "python3"
  },
  "language_info": {
   "codemirror_mode": {
    "name": "ipython",
    "version": 3
   },
   "file_extension": ".py",
   "mimetype": "text/x-python",
   "name": "python",
   "nbconvert_exporter": "python",
   "pygments_lexer": "ipython3",
   "version": "3.11.6"
  }
 },
 "nbformat": 4,
 "nbformat_minor": 0
}
