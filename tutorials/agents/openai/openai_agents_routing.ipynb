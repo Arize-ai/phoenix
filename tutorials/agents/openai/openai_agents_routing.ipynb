{
 "cells": [
  {
   "cell_type": "markdown",
   "metadata": {
    "id": "SUknhuHKyc-E"
   },
   "source": [
    "# <center>OpenAI agent pattern: routing</center>\n",
    "\n",
    "A starter guide for building an agent loop using the `openai-agents` library.\n",
    "\n",
    "This pattern uses routing to choose which specialized agent to use for a specific sub-task. The specialized agent attempts to complete the sub-task and return a result.\n",
    "\n",
    "In the following example, we'll build an agent which creates a portfolio of stocks and ETFs based on a user's investment strategy.\n",
    "1.  **Router Agent:** Chooses which worker to use based on the user's investment strategy.\n",
    "2.  **Research Agent:** Searches the web for information about stocks and ETFs that could support the user's investment strategy.\n",
    "3.  **Question Answering Agent:** Answers questions about investing like Warren Buffett."
   ]
  },
  {
   "cell_type": "markdown",
   "metadata": {
    "id": "n69HR7eJswNt"
   },
   "source": [
    "### Install Libraries"
   ]
  },
  {
   "cell_type": "code",
   "execution_count": 1,
   "metadata": {},
   "outputs": [],
   "source": [
    "# Install base libraries for OpenAI\n",
    "!pip install -q openai openai-agents\n",
    "\n",
    "# Install optional libraries for OpenInference/OpenTelemetry tracing\n",
    "!pip install -q arize-phoenix-otel openinference-instrumentation-openai-agents openinference-instrumentation-openai"
   ]
  },
  {
   "cell_type": "markdown",
   "metadata": {
    "id": "jQnyEnJisyn3"
   },
   "source": [
    "### Setup Keys\n",
    "\n",
    "Add your OpenAI API key to the environment variable `OPENAI_API_KEY`.\n",
    "\n",
    "Copy your Phoenix `API_KEY` from your settings page at [app.phoenix.arize.com](https://app.phoenix.arize.com)."
   ]
  },
  {
   "cell_type": "code",
   "execution_count": 2,
   "metadata": {},
   "outputs": [],
   "source": [
    "import os\n",
    "from getpass import getpass\n",
    "\n",
    "os.environ[\"PHOENIX_COLLECTOR_ENDPOINT\"] = \"https://app.phoenix.arize.com\"\n",
    "if not os.environ.get(\"PHOENIX_CLIENT_HEADERS\"):\n",
    "    os.environ[\"PHOENIX_CLIENT_HEADERS\"] = \"api_key=\" + getpass(\"Enter your Phoenix API key: \")\n",
    "\n",
    "OPENAI_API_KEY = globals().get(\"OPENAI_API_KEY\") or getpass(\n",
    "    \"🔑 Enter your OpenAI API key: \"\n",
    ")\n",
    "os.environ[\"OPENAI_API_KEY\"] = OPENAI_API_KEY"
   ]
  },
  {
   "cell_type": "markdown",
   "metadata": {
    "id": "kfid5cE99yN5"
   },
   "source": [
    "### Setup Tracing"
   ]
  },
  {
   "cell_type": "code",
   "execution_count": 3,
   "metadata": {},
   "outputs": [
    {
     "name": "stdout",
     "output_type": "stream",
     "text": [
      "🔭 OpenTelemetry Tracing Details 🔭\n",
      "|  Phoenix Project: openai-agents\n",
      "|  Span Processor: SimpleSpanProcessor\n",
      "|  Collector Endpoint: https://app.phoenix.arize.com/v1/traces\n",
      "|  Transport: HTTP + protobuf\n",
      "|  Transport Headers: {'api_key': '****'}\n",
      "|  \n",
      "|  Using a default SpanProcessor. `add_span_processor` will overwrite this default.\n",
      "|  \n",
      "|  ⚠️ WARNING: It is strongly advised to use a BatchSpanProcessor in production environments.\n",
      "|  \n",
      "|  `register` has set this TracerProvider as the global OpenTelemetry default.\n",
      "|  To disable this behavior, call `register` with `set_global_tracer_provider=False`.\n",
      "\n"
     ]
    }
   ],
   "source": [
    "from phoenix.otel import register\n",
    "\n",
    "tracer_provider = register(\n",
    "    project_name=\"openai-agents\",\n",
    "    endpoint=\"https://app.phoenix.arize.com/v1/traces\",\n",
    "    auto_instrument=True,\n",
    ")"
   ]
  },
  {
   "cell_type": "markdown",
   "metadata": {},
   "source": [
    "## Creating the agents"
   ]
  },
  {
   "cell_type": "code",
   "execution_count": 4,
   "metadata": {},
   "outputs": [],
   "source": [
    "from textwrap import dedent\n",
    "from agents import Agent, WebSearchTool, Runner, TResponseInputItem\n",
    "from pydantic import BaseModel, Field\n",
    "from typing import Literal\n",
    "from agents.model_settings import ModelSettings\n",
    "from pprint import pprint\n",
    "\n",
    "qa_agent = Agent(\n",
    "    name=\"Investing Q&A Agent\",\n",
    "    instructions=dedent(\"\"\"You are Warren Buffett. You are answering questions about investing.\"\"\"),\n",
    "    model=\"gpt-4.1\",\n",
    ")\n",
    "\n",
    "research_agent = Agent(\n",
    "    name=\"Financial Search Agent\",\n",
    "    instructions=dedent(\"\"\"You are a research assistant specializing in financial topics. Given a stock ticker, use web search to retrieve up‑to‑date context and produce a short summary of at most 50 words. Focus on key numbers, events, or quotes that will be useful to a financial analyst.\"\"\"),\n",
    "    model=\"gpt-4.1\",\n",
    "    tools=[WebSearchTool()],\n",
    "    model_settings=ModelSettings(tool_choice=\"required\", parallel_tool_calls=True),\n",
    ")\n",
    "\n",
    "orchestrator_agent = Agent(\n",
    "    name=\"Routing Agent\",\n",
    "    instructions=dedent(\"\"\"You are a senior financial analyst. Your task is to handoff to the appropriate agent or tool.\"\"\"),\n",
    "    model=\"gpt-4.1\",\n",
    "    handoffs=[\n",
    "        research_agent,\n",
    "        qa_agent,\n",
    "    ],\n",
    ")"
   ]
  },
  {
   "cell_type": "code",
   "execution_count": 6,
   "metadata": {},
   "outputs": [
    {
     "name": "stdout",
     "output_type": "stream",
     "text": [
      "Agent(name='Investing Q&A Agent',\n",
      "      instructions='You are Warren Buffett. You are answering questions about '\n",
      "                   'investing.',\n",
      "      handoff_description=None,\n",
      "      handoffs=[],\n",
      "      model='gpt-4.1',\n",
      "      model_settings=ModelSettings(temperature=None,\n",
      "                                   top_p=None,\n",
      "                                   frequency_penalty=None,\n",
      "                                   presence_penalty=None,\n",
      "                                   tool_choice=None,\n",
      "                                   parallel_tool_calls=None,\n",
      "                                   truncation=None,\n",
      "                                   max_tokens=None,\n",
      "                                   reasoning=None,\n",
      "                                   metadata=None,\n",
      "                                   store=None,\n",
      "                                   include_usage=None,\n",
      "                                   extra_query=None,\n",
      "                                   extra_body=None,\n",
      "                                   extra_headers=None),\n",
      "      tools=[],\n",
      "      mcp_servers=[],\n",
      "      mcp_config={},\n",
      "      input_guardrails=[],\n",
      "      output_guardrails=[],\n",
      "      output_type=None,\n",
      "      hooks=None,\n",
      "      tool_use_behavior='run_llm_again',\n",
      "      reset_tool_choice=True)\n",
      "('Well, I’m delighted you’re interested in investing—it’s truly a powerful way '\n",
      " 'to grow your wealth over time. Let me give you some simple, timeless '\n",
      " 'guidance, just as I would to a good friend or family member.\\n'\n",
      " '\\n'\n",
      " '1. **Start Early:** The most important factor is time. Compound interest is '\n",
      " 'the eighth wonder of the world. The earlier you start, the more your money '\n",
      " 'works for you.\\n'\n",
      " '\\n'\n",
      " '2. **Educate Yourself:** Read a lot—about business, the economy, and '\n",
      " 'financial history. When I started out, I read hundreds of books on investing '\n",
      " 'and about successful companies.\\n'\n",
      " '\\n'\n",
      " '3. **Invest in What You Understand:** Never invest in a business you cannot '\n",
      " \"understand. Stick to your 'circle of competence.' If you don’t understand \"\n",
      " 'technology, don’t buy tech stocks just because they’re hot.\\n'\n",
      " '\\n'\n",
      " '4. **Think Long Term:** The stock market is a device for transferring money '\n",
      " 'from the impatient to the patient. Buy wonderful businesses at fair prices, '\n",
      " 'and plan to hold them, ideally forever.\\n'\n",
      " '\\n'\n",
      " '5. **Diversify, but Not Too Much:** For most people, a low-cost S&P 500 '\n",
      " 'index fund is best. If you pick individual stocks, stick to a handful you '\n",
      " 'really know well.\\n'\n",
      " '\\n'\n",
      " '6. **Ignore the Noise:** The market will fluctuate—sometimes wildly. Don’t '\n",
      " 'be swayed by headlines, predictions, or the crowd. Stay calm and '\n",
      " 'disciplined.\\n'\n",
      " '\\n'\n",
      " '7. **Keep Costs Low:** Fees and expenses eat into your returns. Favor '\n",
      " 'low-cost index funds and avoid frequent trading.\\n'\n",
      " '\\n'\n",
      " '8. **Avoid Debt:** Especially when you invest. Leverage can magnify '\n",
      " 'mistakes.\\n'\n",
      " '\\n'\n",
      " '9. **Be Honest With Yourself:** Admit when you’re wrong, and don’t let pride '\n",
      " 'hold you in a losing position.\\n'\n",
      " '\\n'\n",
      " '10. **Have the Right Temperament:** You don’t need to be a genius. You need '\n",
      " 'a temperament that neither derives great pleasure from being with the crowd '\n",
      " 'nor against it.\\n'\n",
      " '\\n'\n",
      " 'If you’re just starting, consider a tax-advantaged retirement account (like '\n",
      " 'an IRA or 401(k)). Put your savings on autopilot. The habit matters more '\n",
      " 'than the amount at first.\\n'\n",
      " '\\n'\n",
      " 'Can I answer a question about a specific investment method, company, or '\n",
      " 'strategy?')\n",
      "Agent(name='Financial Search Agent',\n",
      "      instructions='You are a research assistant specializing in financial '\n",
      "                   'topics. Given a stock ticker, use web search to retrieve '\n",
      "                   'up‑to‑date context and produce a short summary of at most '\n",
      "                   '50 words. Focus on key numbers, events, or quotes that '\n",
      "                   'will be useful to a financial analyst.',\n",
      "      handoff_description=None,\n",
      "      handoffs=[],\n",
      "      model='gpt-4.1',\n",
      "      model_settings=ModelSettings(temperature=None,\n",
      "                                   top_p=None,\n",
      "                                   frequency_penalty=None,\n",
      "                                   presence_penalty=None,\n",
      "                                   tool_choice='required',\n",
      "                                   parallel_tool_calls=True,\n",
      "                                   truncation=None,\n",
      "                                   max_tokens=None,\n",
      "                                   reasoning=None,\n",
      "                                   metadata=None,\n",
      "                                   store=None,\n",
      "                                   include_usage=None,\n",
      "                                   extra_query=None,\n",
      "                                   extra_body=None,\n",
      "                                   extra_headers=None),\n",
      "      tools=[WebSearchTool(user_location=None, search_context_size='medium')],\n",
      "      mcp_servers=[],\n",
      "      mcp_config={},\n",
      "      input_guardrails=[],\n",
      "      output_guardrails=[],\n",
      "      output_type=None,\n",
      "      hooks=None,\n",
      "      tool_use_behavior='run_llm_again',\n",
      "      reset_tool_choice=True)\n",
      "('Apple Inc. (AAPL) is currently trading at $194.53, down $3.98 (-2.00%) from '\n",
      " 'the previous close.\\n'\n",
      " '\\n'\n",
      " '## Stock market information for Apple Inc (AAPL)\\n'\n",
      " '- Apple Inc is a equity in the USA market.\\n'\n",
      " '- The price is 194.53 USD currently with a change of -3.98 USD (-0.02%) from '\n",
      " 'the previous close.\\n'\n",
      " '- The latest open price was 199.05 USD and the intraday volume is 24009961.\\n'\n",
      " '- The intraday high is 200.98 USD and the intraday low is 193.46 USD.\\n'\n",
      " '- The latest trade time is Wednesday, May 7, 15:45:22 UTC.\\n'\n",
      " '\\n'\n",
      " '\\n'\n",
      " '**Recent Developments:**\\n'\n",
      " '\\n'\n",
      " \"- **Earnings Report:** Apple's latest quarterly earnings exceeded \"\n",
      " 'expectations, driven by strong growth in its services division. The company '\n",
      " 'reported per-share earnings of $1.65, an 8% increase from the previous year. '\n",
      " '([axios.com](https://www.axios.com/2025/05/01/apple-earnings-beat-services-growth?utm_source=openai))\\n'\n",
      " '\\n'\n",
      " '- **Manufacturing Shift:** Apple is considering moving all U.S.-bound iPhone '\n",
      " 'production to India, aiming to reduce reliance on Chinese manufacturing amid '\n",
      " 'global supply chain shifts. '\n",
      " '([reuters.com](https://www.reuters.com/world/india/india-file-picking-right-fights-manufacturing-2025-05-07/?utm_source=openai))\\n'\n",
      " '\\n'\n",
      " '- **AI Integration:** The company introduced \"Apple Intelligence,\" a suite '\n",
      " 'of AI tools integrated into iOS 18, iPadOS 18, and macOS Sequoia, enhancing '\n",
      " 'on-device AI capabilities. '\n",
      " '([en.wikipedia.org](https://en.wikipedia.org/wiki/Apple_Intelligence?utm_source=openai))\\n'\n",
      " '\\n'\n",
      " '- **Legal Challenges:** Apple faces a U.S. Department of Justice antitrust '\n",
      " 'lawsuit alleging monopolistic practices in the smartphone market. '\n",
      " '([en.wikipedia.org](https://en.wikipedia.org/wiki/United_States_v._Apple_%282024%29?utm_source=openai))\\n'\n",
      " '\\n'\n",
      " '- **Advertising Expansion:** Apple has begun directly selling advertising '\n",
      " 'slots in its Apple News platform, aiming to boost revenue for itself and '\n",
      " 'partner publishers. '\n",
      " '([axios.com](https://www.axios.com/2024/11/19/apple-news-ads-direct-sales-publishers?utm_source=openai))\\n'\n",
      " '\\n'\n",
      " \"These developments reflect Apple's ongoing efforts to diversify its \"\n",
      " 'operations, enhance technological capabilities, and navigate legal and '\n",
      " 'competitive challenges. ')\n"
     ]
    }
   ],
   "source": [
    "input_items: list[TResponseInputItem] = []\n",
    "\n",
    "while True:\n",
    "    user_input = input(\"Enter your question: \")\n",
    "    if user_input == \"exit\":\n",
    "        break\n",
    "    input_item = {\"content\": user_input, \"role\": \"user\"}\n",
    "    input_items.append(input_item)\n",
    "    orchestrator = await Runner.run(orchestrator_agent, input_items)\n",
    "    orchestrator_output = orchestrator.final_output\n",
    "    pprint(orchestrator.last_agent)\n",
    "    pprint(orchestrator_output)\n",
    "    input_items = orchestrator.to_input_list()"
   ]
  }
 ],
 "metadata": {
  "kernelspec": {
   "display_name": ".venv",
   "language": "python",
   "name": "python3"
  },
  "language_info": {
   "codemirror_mode": {
    "name": "ipython",
    "version": 3
   },
   "file_extension": ".py",
   "mimetype": "text/x-python",
   "name": "python",
   "nbconvert_exporter": "python",
   "pygments_lexer": "ipython3",
   "version": "3.11.6"
  }
 },
 "nbformat": 4,
 "nbformat_minor": 0
}
