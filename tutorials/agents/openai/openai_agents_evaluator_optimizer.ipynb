{
 "cells": [
  {
   "cell_type": "markdown",
   "metadata": {
    "id": "SUknhuHKyc-E"
   },
   "source": [
    "# <center>OpenAI agent pattern: evaluator optimizer agent</center>\n",
    "\n",
    "A starter guide for building an agent which iteratively generates an output based on LLM feedback using the `openai-agents` library.\n",
    "\n",
    "When creating LLM outputs, often times the first generation is unsatisfactory. You can use an agentic loop to iteratively improve the output by asking an LLM to give feedback, and then use the feedback to improve the output.\n",
    "\n",
    "In the following example, we'll build a financial report system using this pattern:\n",
    "1.  **Report Agent (Generation):** Creates a report on a particular stock ticker.\n",
    "2.  **Evaluator Agent (Feedback):** Evaluates the report and provides feedback on what to improve."
   ]
  },
  {
   "cell_type": "markdown",
   "metadata": {
    "id": "n69HR7eJswNt"
   },
   "source": [
    "### Install Libraries"
   ]
  },
  {
   "cell_type": "code",
   "execution_count": 1,
   "metadata": {},
   "outputs": [],
   "source": [
    "# Install base libraries for OpenAI\n",
    "!pip install -q openai openai-agents pydantic\n",
    "\n",
    "# Install optional libraries for OpenInference/OpenTelemetry tracing\n",
    "!pip install -q arize-phoenix-otel openinference-instrumentation-openai-agents openinference-instrumentation-openai"
   ]
  },
  {
   "cell_type": "markdown",
   "metadata": {
    "id": "jQnyEnJisyn3"
   },
   "source": [
    "### Setup Keys\n",
    "\n",
    "Add your OpenAI API key to the environment variable `OPENAI_API_KEY`.\n",
    "\n",
    "Copy your Phoenix `API_KEY` from your settings page at [app.phoenix.arize.com](https://app.phoenix.arize.com)."
   ]
  },
  {
   "cell_type": "code",
   "execution_count": 3,
   "metadata": {},
   "outputs": [],
   "source": [
    "import os\n",
    "from getpass import getpass\n",
    "\n",
    "os.environ[\"PHOENIX_COLLECTOR_ENDPOINT\"] = \"https://app.phoenix.arize.com\"\n",
    "if not os.environ.get(\"PHOENIX_CLIENT_HEADERS\"):\n",
    "    os.environ[\"PHOENIX_CLIENT_HEADERS\"] = \"api_key=\" + getpass(\"Enter your Phoenix API key: \")\n",
    "\n",
    "OPENAI_API_KEY = globals().get(\"OPENAI_API_KEY\") or getpass(\n",
    "    \"🔑 Enter your OpenAI API key: \"\n",
    ")\n",
    "os.environ[\"OPENAI_API_KEY\"] = OPENAI_API_KEY"
   ]
  },
  {
   "cell_type": "markdown",
   "metadata": {
    "id": "kfid5cE99yN5"
   },
   "source": [
    "### Setup Tracing"
   ]
  },
  {
   "cell_type": "code",
   "execution_count": 4,
   "metadata": {},
   "outputs": [
    {
     "name": "stdout",
     "output_type": "stream",
     "text": [
      "🔭 OpenTelemetry Tracing Details 🔭\n",
      "|  Phoenix Project: openai-agents\n",
      "|  Span Processor: SimpleSpanProcessor\n",
      "|  Collector Endpoint: https://app.phoenix.arize.com/v1/traces\n",
      "|  Transport: HTTP + protobuf\n",
      "|  Transport Headers: {'api_key': '****'}\n",
      "|  \n",
      "|  Using a default SpanProcessor. `add_span_processor` will overwrite this default.\n",
      "|  \n",
      "|  ⚠️ WARNING: It is strongly advised to use a BatchSpanProcessor in production environments.\n",
      "|  \n",
      "|  `register` has set this TracerProvider as the global OpenTelemetry default.\n",
      "|  To disable this behavior, call `register` with `set_global_tracer_provider=False`.\n",
      "\n"
     ]
    }
   ],
   "source": [
    "from phoenix.otel import register\n",
    "\n",
    "tracer_provider = register(\n",
    "    project_name=\"openai-agents\",\n",
    "    endpoint=\"https://app.phoenix.arize.com/v1/traces\",\n",
    "    auto_instrument=True,\n",
    ")"
   ]
  },
  {
   "cell_type": "markdown",
   "metadata": {},
   "source": [
    "## Creating the agent\n",
    "\n"
   ]
  },
  {
   "cell_type": "code",
   "execution_count": 6,
   "metadata": {},
   "outputs": [
    {
     "name": "stdout",
     "output_type": "stream",
     "text": [
      "### REPORT ###\n",
      "**AAPL (Apple Inc.)**\n",
      "\n",
      "**Positive Catalysts:**\n",
      "1. Strong iPhone/Services sales growth.\n",
      "2. Launch of new product categories (e.g., AR/VR headset, AI features).\n",
      "3. Expansion in emerging markets.\n",
      "\n",
      "**Negative Catalysts:**\n",
      "1. Supply chain disruptions, especially from China.\n",
      "2. Regulatory scrutiny regarding App Store practices.\n",
      "3. Slowing consumer demand for premium devices.\n",
      "### EVALUATION ###\n",
      "feedback='The research report correctly identifies three positive and three negative catalysts related to AAPL. Positive catalysts cover topline revenue growth via iPhone and Services sales, new product launches, and international expansion. Negative catalysts address supply chain, regulation, and demand trends. However, the report could be improved by including more detail and diversity in catalyst types. For example, margin expansion or contraction, free cash flow trends, usage/pricing/distribution changes, capital return policies (buybacks, dividends), competitive landscape, management execution, M&A activity, analyst ratings, trading volume, and technical or price momentum factors. Currently, there is no mention of share buybacks (a substantial Apple policy), dividend policy, competition (Samsung, etc.), or analyst sentiment. Including 1-2 additional key catalysts from these categories would make the report more comprehensive.' score='needs_improvement'\n",
      "Re-running with feedback\n",
      "### REPORT ###\n",
      "Thank you for your feedback. Here’s a revised report for **AAPL**, incorporating a more diverse set of catalysts as suggested:\n",
      "\n",
      "---\n",
      "\n",
      "**AAPL (Apple Inc.)**\n",
      "\n",
      "**Positive Catalysts:**\n",
      "1. Continued strong iPhone/Services revenue growth.\n",
      "2. Aggressive share buybacks and dividend increases.\n",
      "3. Launch of new products (AR/VR, AI integration) and expansion in emerging markets.\n",
      "\n",
      "**Negative Catalysts:**\n",
      "1. Intensifying competition (Samsung, Chinese OEMs).\n",
      "2. Regulatory risks (App Store, antitrust actions).\n",
      "3. Margin pressure from supply chain costs or FX headwinds.\n",
      "\n",
      "---\n",
      "\n",
      "Let me know if you’d like further customization!\n",
      "### EVALUATION ###\n",
      "feedback='This revised report for AAPL is significantly improved. It addresses topline revenue growth (iPhone/Services), margin pressures, share buybacks/dividends, new products, regulatory issues, and competition, which are all key catalysts. Additional positive catalysts you might consider for extra depth could include developments in distribution channels, analyst rating upgrades, or advances in Apple’s ecosystem (moat expansion). On the negative side, you could add any recent management changes, slowing trading volume, technical signals turning bearish, or potential delays in product launches. But overall, this report meets the requirements by providing at least three positive and three negative catalysts that are diverse and relevant to AAPL.' score='pass'\n"
     ]
    }
   ],
   "source": [
    "from textwrap import dedent\n",
    "from agents import Agent, Runner, TResponseInputItem\n",
    "from pydantic import BaseModel, Field\n",
    "from typing import Literal\n",
    "\n",
    "CATALYSTS = \"\"\"topline revenue growth, margin expansion, moat expansion, free cash flow generation, usage, pricing, distribution, share buyback, dividend, new products, regulation, competition, management team, mergers, acquisitions, analyst ratings, trading volume, technical indicators, price momentum\"\"\"\n",
    "\n",
    "class EvaluationFeedback(BaseModel):\n",
    "    feedback: str = Field(\n",
    "        description=f\"What is missing from the research report on positive and negative catalysts for a particular stock ticker. Catalysts include changes in {CATALYSTS}.\"\n",
    "    )\n",
    "    score: Literal[\"pass\", \"needs_improvement\", \"fail\"] = Field(\n",
    "        description=\"A score on the research report. Pass if the report is complete and contains at least 3 positive and 3 negative catalysts for the right stock ticker, needs_improvement if the report is missing some information, and fail if the report is completely wrong.\"\n",
    "    )\n",
    "\n",
    "report_agent = Agent(\n",
    "    name=\"Catalyst Report Agent\",\n",
    "    instructions=dedent(\"\"\"You are a research assistant specializing in stock research. Given a stock ticker, generate a report of 3 positive and 3 negative catalysts that could move the stock price in the future in 50 words or less.\"\"\"),\n",
    "    model=\"gpt-4.1\",\n",
    ")\n",
    "\n",
    "evaluation_agent = Agent(\n",
    "    name=\"Evaluation Agent\",\n",
    "    instructions=dedent(\"\"\"You are a senior financial analyst. You will be provided with a stock research report with positive and negative catalysts. Your task is to evaluate the report and provide feedback on what to improve.\"\"\"),\n",
    "    model=\"gpt-4.1\",\n",
    "    output_type=EvaluationFeedback,\n",
    ")\n",
    "\n",
    "report_feedback = \"fail\"\n",
    "input_items: list[TResponseInputItem] = [{\"content\": \"AAPL\", \"role\": \"user\"}]\n",
    "\n",
    "while report_feedback != \"pass\":\n",
    "    report = await Runner.run(report_agent, input_items)\n",
    "    print(\"### REPORT ###\")\n",
    "    print(report.final_output)\n",
    "    input_items = report.to_input_list()\n",
    "\n",
    "    evaluation = await Runner.run(evaluation_agent, str(report.final_output))\n",
    "    evaluation_feedback = evaluation.final_output_as(EvaluationFeedback)\n",
    "    print(\"### EVALUATION ###\")\n",
    "    print(str(evaluation_feedback))\n",
    "    report_feedback = evaluation_feedback.score\n",
    "\n",
    "    if report_feedback != \"pass\":\n",
    "        print(\"Re-running with feedback\")\n",
    "        input_items.append({\"content\": f\"Feedback: {evaluation_feedback.feedback}\", \"role\": \"user\"})"
   ]
  }
 ],
 "metadata": {
  "kernelspec": {
   "display_name": ".venv",
   "language": "python",
   "name": "python3"
  },
  "language_info": {
   "codemirror_mode": {
    "name": "ipython",
    "version": 3
   },
   "file_extension": ".py",
   "mimetype": "text/x-python",
   "name": "python",
   "nbconvert_exporter": "python",
   "pygments_lexer": "ipython3",
   "version": "3.11.6"
  }
 },
 "nbformat": 4,
 "nbformat_minor": 0
}
