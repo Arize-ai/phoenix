{
 "cells": [
  {
   "cell_type": "markdown",
   "metadata": {
    "id": "SUknhuHKyc-E"
   },
   "source": [
    "# <center>OpenAI agent pattern: basic agent</center>\n",
    "\n",
    "A starter guide for building a basic agent with tool calling using the `openai-agents` library. \n",
    "\n",
    "Here we've setup a basic agent that can answer questions about stocks using `web_search`. "
   ]
  },
  {
   "cell_type": "markdown",
   "metadata": {
    "id": "n69HR7eJswNt"
   },
   "source": [
    "### Install Libraries"
   ]
  },
  {
   "cell_type": "code",
   "execution_count": 3,
   "metadata": {},
   "outputs": [],
   "source": [
    "# Install base libraries for OpenAI\n",
    "!pip install -q openai openai-agents\n",
    "\n",
    "# Install optional libraries for OpenInference/OpenTelemetry tracing\n",
    "!pip install -q arize-phoenix-otel openinference-instrumentation-openai-agents openinference-instrumentation-openai"
   ]
  },
  {
   "cell_type": "markdown",
   "metadata": {
    "id": "jQnyEnJisyn3"
   },
   "source": [
    "### Setup Keys\n",
    "\n",
    "Add your OpenAI API key to the environment variable `OPENAI_API_KEY`.\n",
    "\n",
    "Copy your Phoenix `API_KEY` from your settings page at [app.phoenix.arize.com](https://app.phoenix.arize.com)."
   ]
  },
  {
   "cell_type": "code",
   "execution_count": 4,
   "metadata": {},
   "outputs": [],
   "source": [
    "import os\n",
    "from getpass import getpass\n",
    "\n",
    "os.environ[\"PHOENIX_COLLECTOR_ENDPOINT\"] = \"https://app.phoenix.arize.com\"\n",
    "if not os.environ.get(\"PHOENIX_CLIENT_HEADERS\"):\n",
    "    os.environ[\"PHOENIX_CLIENT_HEADERS\"] = \"api_key=\" + getpass(\"Enter your Phoenix API key: \")\n",
    "\n",
    "OPENAI_API_KEY = globals().get(\"OPENAI_API_KEY\") or getpass(\n",
    "    \"🔑 Enter your OpenAI API key: \"\n",
    ")\n",
    "os.environ[\"OPENAI_API_KEY\"] = OPENAI_API_KEY"
   ]
  },
  {
   "cell_type": "markdown",
   "metadata": {
    "id": "kfid5cE99yN5"
   },
   "source": [
    "### Setup Tracing"
   ]
  },
  {
   "cell_type": "code",
   "execution_count": 5,
   "metadata": {},
   "outputs": [
    {
     "name": "stdout",
     "output_type": "stream",
     "text": [
      "🔭 OpenTelemetry Tracing Details 🔭\n",
      "|  Phoenix Project: openai-agents\n",
      "|  Span Processor: SimpleSpanProcessor\n",
      "|  Collector Endpoint: https://app.phoenix.arize.com/v1/traces\n",
      "|  Transport: HTTP + protobuf\n",
      "|  Transport Headers: {'api_key': '****'}\n",
      "|  \n",
      "|  Using a default SpanProcessor. `add_span_processor` will overwrite this default.\n",
      "|  \n",
      "|  ⚠️ WARNING: It is strongly advised to use a BatchSpanProcessor in production environments.\n",
      "|  \n",
      "|  `register` has set this TracerProvider as the global OpenTelemetry default.\n",
      "|  To disable this behavior, call `register` with `set_global_tracer_provider=False`.\n",
      "\n"
     ]
    }
   ],
   "source": [
    "from phoenix.otel import register\n",
    "\n",
    "tracer_provider = register(\n",
    "    project_name=\"openai-agents\",\n",
    "    endpoint=\"https://app.phoenix.arize.com/v1/traces\",\n",
    "    auto_instrument=True,\n",
    ")"
   ]
  },
  {
   "cell_type": "markdown",
   "metadata": {
    "id": "bLVAqLi5_KAi"
   },
   "source": [
    "## Create your basic agent"
   ]
  },
  {
   "cell_type": "code",
   "execution_count": 20,
   "metadata": {},
   "outputs": [],
   "source": [
    "from agents import Agent, Runner, WebSearchTool\n",
    "\n",
    "agent = Agent(\n",
    "    name=\"Finance Agent\",\n",
    "    instructions=\"You are a finance agent that can answer questions about stocks. Use web search to retrieve up‑to‑date context. Then, return a brief, concise answer that is one sentence long.\",\n",
    "    tools=[WebSearchTool(search_context_size=\"low\")],\n",
    "    model=\"gpt-4.1-mini\",\n",
    ")"
   ]
  },
  {
   "cell_type": "code",
   "execution_count": 22,
   "metadata": {},
   "outputs": [
    {
     "name": "stdout",
     "output_type": "stream",
     "text": [
      "Apple is exploring integrating AI-powered search engines into Safari, potentially challenging Google's search market dominance. ([reuters.com](https://www.reuters.com/business/apple-looks-add-ai-search-companys-browser-bloomberg-reports-2025-05-07/?utm_source=openai))\n",
      "\n",
      "## Stock market information for Apple Inc (AAPL)\n",
      "- Apple Inc is a equity in the USA market.\n",
      "- The price is 197.52 USD currently with a change of -0.99 USD (-0.00%) from the previous close.\n",
      "- The latest open price was 199.05 USD and the intraday volume is 11859568.\n",
      "- The intraday high is 200.98 USD and the intraday low is 197.52 USD.\n",
      "- The latest trade time is Wednesday, May 7, 14:56:07 UTC.\n",
      " \n",
      "[{'content': 'what is the latest news on Apple?', 'role': 'user'},\n",
      " {'id': 'ws_681b98d0a9d88192b498440c896bf6e90c2e237e8d4cf4bd',\n",
      "  'status': 'completed',\n",
      "  'type': 'web_search_call'},\n",
      " {'content': [{'annotations': [{'end_index': 268,\n",
      "                                'start_index': 128,\n",
      "                                'title': 'Apple looks to add AI search to '\n",
      "                                         'Safari in potential blow for Google, '\n",
      "                                         'Bloomberg News reports',\n",
      "                                'type': 'url_citation',\n",
      "                                'url': 'https://www.reuters.com/business/apple-looks-add-ai-search-companys-browser-bloomberg-reports-2025-05-07/?utm_source=openai'}],\n",
      "               'text': 'Apple is exploring integrating AI-powered search '\n",
      "                       \"engines into Safari, potentially challenging Google's \"\n",
      "                       'search market dominance. '\n",
      "                       '([reuters.com](https://www.reuters.com/business/apple-looks-add-ai-search-companys-browser-bloomberg-reports-2025-05-07/?utm_source=openai))\\n'\n",
      "                       '\\n'\n",
      "                       '## Stock market information for Apple Inc (AAPL)\\n'\n",
      "                       '- Apple Inc is a equity in the USA market.\\n'\n",
      "                       '- The price is 197.52 USD currently with a change of '\n",
      "                       '-0.99 USD (-0.00%) from the previous close.\\n'\n",
      "                       '- The latest open price was 199.05 USD and the '\n",
      "                       'intraday volume is 11859568.\\n'\n",
      "                       '- The intraday high is 200.98 USD and the intraday low '\n",
      "                       'is 197.52 USD.\\n'\n",
      "                       '- The latest trade time is Wednesday, May 7, 14:56:07 '\n",
      "                       'UTC.\\n'\n",
      "                       ' ',\n",
      "               'type': 'output_text'}],\n",
      "  'id': 'msg_681b98d3e340819283b359a1c70e28380c2e237e8d4cf4bd',\n",
      "  'role': 'assistant',\n",
      "  'status': 'completed',\n",
      "  'type': 'message'}]\n"
     ]
    }
   ],
   "source": [
    "from pprint import pprint\n",
    "result = await Runner.run(agent, \"what is the latest news on Apple?\")\n",
    "\n",
    "# Get the final output\n",
    "print(result.final_output)\n",
    "\n",
    "# Get the entire list of messages recorded to generate the final output\n",
    "pprint(result.to_input_list())"
   ]
  }
 ],
 "metadata": {
  "kernelspec": {
   "display_name": ".venv",
   "language": "python",
   "name": "python3"
  },
  "language_info": {
   "codemirror_mode": {
    "name": "ipython",
    "version": 3
   },
   "file_extension": ".py",
   "mimetype": "text/x-python",
   "name": "python",
   "nbconvert_exporter": "python",
   "pygments_lexer": "ipython3",
   "version": "3.11.6"
  }
 },
 "nbformat": 4,
 "nbformat_minor": 0
}
