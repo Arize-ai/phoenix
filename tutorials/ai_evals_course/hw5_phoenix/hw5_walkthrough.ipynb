{
 "cells": [
  {
   "cell_type": "markdown",
   "id": "ffd790e4",
   "metadata": {},
   "source": [
    "# Homework 5 - Evals for Failure Analysis with Phoenix"
   ]
  },
  {
   "cell_type": "markdown",
   "id": "c45295dc",
   "metadata": {},
   "source": [
    "<center>\n",
    "    <p style=\"text-align:left\">\n",
    "        <img alt=\"phoenix logo\" src=\"https://repository-images.githubusercontent.com/564072810/f3666cdf-cb3e-4056-8a25-27cb3e6b5848\" width=\"600\"/>\n",
    "        <br>\n",
    "        <a href=\"https://arize.com/docs/phoenix/\">Docs</a>\n",
    "        |\n",
    "        <a href=\"https://github.com/Arize-ai/phoenix\">GitHub</a>\n",
    "        |\n",
    "        <a href=\"https://arize-ai.slack.com/join/shared_invite/zt-2w57bhem8-hq24MB6u7yE_ZF_ilOYSBw#/shared-invite/email\">Community</a>\n",
    "    </p>\n",
    "</center>\n",
    "\n",
    "## Launch Phoenix \n",
    "\n",
    "First, let's set up Phoenix on our local machine. You should run these commands within your terminal in your chosen environment.\n",
    "\n",
    "(If you have already done this in a previous HW assignment, you are good to go.)\n",
    "\n",
    "**Install Phoenix**\n",
    "\n",
    "```pip install arize-phoenix```\n",
    "\n",
    "**Boot up Phoenix on localhost**\n",
    "\n",
    "```phoenix serve```"
   ]
  },
  {
   "cell_type": "markdown",
   "id": "1d0c6eba",
   "metadata": {},
   "source": [
    "Run `phoenix serve` in your terminal to boot up Phoenix locally."
   ]
  },
  {
   "cell_type": "code",
   "execution_count": 1,
   "id": "1b82b36e",
   "metadata": {},
   "outputs": [
    {
     "name": "stderr",
     "output_type": "stream",
     "text": [
      "/Users/priyanjindal/recipe-chatbot/.venv/lib/python3.13/site-packages/tqdm/auto.py:21: TqdmWarning: IProgress not found. Please update jupyter and ipywidgets. See https://ipywidgets.readthedocs.io/en/stable/user_install.html\n",
      "  from .autonotebook import tqdm as notebook_tqdm\n"
     ]
    }
   ],
   "source": [
    "import json\n",
    "from collections import Counter\n",
    "from pathlib import Path\n",
    "from typing import Any, Dict, List\n",
    "\n",
    "import matplotlib.pyplot as plt\n",
    "import numpy as np\n",
    "import pandas as pd\n",
    "import seaborn as sns\n",
    "\n",
    "import phoenix as px\n",
    "from phoenix.trace.dsl import SpanQuery"
   ]
  },
  {
   "cell_type": "code",
   "execution_count": 2,
   "id": "ed9c09f2",
   "metadata": {},
   "outputs": [],
   "source": [
    "import os, getpass\n",
    "\n",
    "os.environ[\"OPENAI_API_KEY\"] = getpass.getpass(\"Enter your OpenAI API key: \")"
   ]
  },
  {
   "cell_type": "markdown",
   "id": "759276eb",
   "metadata": {},
   "source": [
    "# Pipeline States\n",
    "\n",
    "Below are the states of the recipe agent pipeline we are simulating, in order.\n",
    "\n",
    "**ParseRequest** - LLM interprets and analyzes the user's query to understand what they're asking for\n",
    "\n",
    "**PlanToolCalls** - LLM decides which tools to invoke and in what order based on the parsed request\n",
    "\n",
    "**GenCustomerArgs** - LLM constructs JSON arguments for the customer profile database lookup\n",
    "\n",
    "**GetCustomerProfile** - Executes the customer-profile tool to retrieve user preferences and dietary restrictions\n",
    "\n",
    "**GenRecipeArgs** - LLM constructs JSON arguments for the recipe database search based on customer profile\n",
    "\n",
    "**GetRecipes** - Executes the recipe-search tool to find relevant recipes matching the criteria\n",
    "\n",
    "**GenWebArgs** - LLM constructs JSON arguments for web search to find additional cooking tips/information\n",
    "\n",
    "**GetWebInfo** - Executes the web-search tool to retrieve supplementary cooking information\n",
    "\n",
    "**ComposeResponse** - LLM drafts the final answer combining recipes and web information\n",
    "\n",
    "**DeliverResponse** - Agent sends the composed response to the user"
   ]
  },
  {
   "cell_type": "code",
   "execution_count": 3,
   "id": "7ecd1cdb",
   "metadata": {},
   "outputs": [],
   "source": [
    "PIPELINE_STATES: List[str] = [\n",
    "    \"ParseRequest\",\n",
    "    \"PlanToolCalls\", \n",
    "    \"GenCustomerArgs\",\n",
    "    \"GetCustomerProfile\",\n",
    "    \"GenRecipeArgs\",\n",
    "    \"GetRecipes\",\n",
    "    \"GenWebArgs\",\n",
    "    \"GetWebInfo\",\n",
    "    \"ComposeResponse\",\n",
    "]\n",
    "STATE_INDEX = {s: i for i, s in enumerate(PIPELINE_STATES)}"
   ]
  },
  {
   "cell_type": "code",
   "execution_count": 8,
   "id": "6a7e1dc8",
   "metadata": {},
   "outputs": [
    {
     "name": "stderr",
     "output_type": "stream",
     "text": [
      "Overriding of current TracerProvider is not allowed\n",
      "Attempting to instrument while already instrumented\n"
     ]
    },
    {
     "name": "stdout",
     "output_type": "stream",
     "text": [
      "🔭 OpenTelemetry Tracing Details 🔭\n",
      "|  Phoenix Project: recipe-agent-hw5\n",
      "|  Span Processor: BatchSpanProcessor\n",
      "|  Collector Endpoint: localhost:4317\n",
      "|  Transport: gRPC\n",
      "|  Transport Headers: {}\n",
      "|  \n",
      "|  Using a default SpanProcessor. `add_span_processor` will overwrite this default.\n",
      "|  \n",
      "|  `register` has set this TracerProvider as the global OpenTelemetry default.\n",
      "|  To disable this behavior, call `register` with `set_global_tracer_provider=False`.\n",
      "\n",
      "Phoenix Instrumented Trace Generator\n",
      "==================================================\n",
      "Generating 100 traces with Phoenix instrumentation...\n"
     ]
    },
    {
     "name": "stderr",
     "output_type": "stream",
     "text": [
      "Generating traces: 100%|██████████| 100/100 [01:56<00:00,  1.17s/it]"
     ]
    },
    {
     "name": "stdout",
     "output_type": "stream",
     "text": [
      "Trace generation completed!\n",
      "Check Phoenix dashboard to view the detailed spans!\n"
     ]
    },
    {
     "name": "stderr",
     "output_type": "stream",
     "text": [
      "\n"
     ]
    }
   ],
   "source": [
    "%run generate_traces_phoenix.py"
   ]
  },
  {
   "cell_type": "code",
   "execution_count": 4,
   "id": "1d287e32",
   "metadata": {},
   "outputs": [
    {
     "name": "stdout",
     "output_type": "stream",
     "text": [
      "Loading traces from Phoenix...\n",
      "Successfully loaded 100 traces from Phoenix\n",
      "DataFrame shape: (100, 14)\n",
      "Columns: ['name', 'span_kind', 'parent_id', 'start_time', 'end_time', 'status_code', 'status_message', 'events', 'context.span_id', 'context.trace_id', 'attributes.openinference.span.kind', 'attributes.output.value', 'attributes.agent.name', 'attributes.input.value']\n",
      "\n",
      "Sample trace:\n",
      "name                                  RecipeBot_Conversation_689a0e8f-af17-4dc6-906f...\n",
      "span_kind                                                                         AGENT\n",
      "parent_id                                                                          None\n",
      "start_time                                             2025-08-15 23:18:46.631116+00:00\n",
      "end_time                                               2025-08-15 23:19:17.279528+00:00\n",
      "status_code                                                                       UNSET\n",
      "status_message                                                                         \n",
      "events                                                                               []\n",
      "context.span_id                                                        1957ccf926c1749b\n",
      "context.trace_id                                       1f40cafc751ac464a2f7bf3d2bafef02\n",
      "attributes.openinference.span.kind                                                AGENT\n",
      "attributes.output.value               [{\"role\": \"user\", \"content\": \"I need a gluten-...\n",
      "attributes.agent.name                                                         RecipeBot\n",
      "attributes.input.value                       I need a gluten-free dinner idea for four.\n",
      "Name: 1957ccf926c1749b, dtype: object\n"
     ]
    },
    {
     "name": "stderr",
     "output_type": "stream",
     "text": [
      "/Users/priyanjindal/recipe-chatbot/.venv/lib/python3.13/site-packages/phoenix/utilities/client.py:60: UserWarning: The Phoenix server (11.22.0) and client (11.18.0) versions are mismatched and may have compatibility issues.\n",
      "  warnings.warn(\n"
     ]
    }
   ],
   "source": [
    "def load_traces() -> pd.DataFrame:\n",
    "    query = SpanQuery().where(\"span_kind == 'AGENT'\")\n",
    "    traces_df = px.Client().query_spans(query, project_name='recipe-agent-hw5')\n",
    "    return traces_df\n",
    "\n",
    "# Load traces from Phoenix\n",
    "print(\"Loading traces from Phoenix...\")\n",
    "traces_df = load_traces()\n",
    "\n",
    "print(f\"Successfully loaded {len(traces_df)} traces from Phoenix\")\n",
    "print(f\"DataFrame shape: {traces_df.shape}\")\n",
    "print(f\"Columns: {list(traces_df.columns)}\")\n",
    "\n",
    "# Display sample trace\n",
    "if not traces_df.empty:\n",
    "    print(\"\\nSample trace:\")\n",
    "    print(traces_df.iloc[0])"
   ]
  },
  {
   "cell_type": "code",
   "execution_count": 5,
   "id": "d00ba0ce",
   "metadata": {},
   "outputs": [
    {
     "name": "stderr",
     "output_type": "stream",
     "text": [
      "🐌!! If running inside a notebook, patching the event loop with nest_asyncio will allow asynchronous eval submission, and is significantly faster. To patch the event loop, run `nest_asyncio.apply()`.\n",
      "llm_generate |██████████| 100/100 (100.0%) | ⏳ 02:02<00:00 |  1.22s/it\n",
      "/Users/priyanjindal/recipe-chatbot/.venv/lib/python3.13/site-packages/phoenix/utilities/client.py:60: UserWarning: The Phoenix server (11.22.0) and client (11.18.0) versions are mismatched and may have compatibility issues.\n",
      "  warnings.warn(\n"
     ]
    }
   ],
   "source": [
    "# Add Eval\n",
    "import os, re\n",
    "from phoenix.evals import llm_generate, OpenAIModel\n",
    "from phoenix.trace import SpanEvaluations\n",
    "\n",
    "with open(\"eval.txt\", \"r\") as f:\n",
    "    eval_prompt = f.read()\n",
    "\n",
    "def parser(response: str, row_index: int) -> dict:\n",
    "    \"\"\"Parser function for evaluate_output evaluator\"\"\"\n",
    "    failure_state = r'\"failure_state\":\\s*\"([^\"]*)\"'\n",
    "    explanation = r'\"explanation\":\\s*\"([^\"]*)\"'\n",
    "    failure_state_match = re.search(failure_state, response, re.IGNORECASE).group(1)\n",
    "    explanation_match = re.search(explanation, response, re.IGNORECASE).group(1)\n",
    "    return {\n",
    "        \"label\": failure_state_match,\n",
    "        \"explanation\": explanation_match\n",
    "    }\n",
    "\n",
    "eval_model = OpenAIModel(\n",
    "    model=\"gpt-4o\",\n",
    "    model_kwargs={\n",
    "        \"response_format\": {\"type\": \"json_object\"},\n",
    "        \"temperature\": 0\n",
    "    }\n",
    ")\n",
    "\n",
    "# Generate evaluations using llm_generate\n",
    "failure_analysis = llm_generate(\n",
    "    dataframe=traces_df,\n",
    "    template=eval_prompt,\n",
    "    model=eval_model,\n",
    "    output_parser=parser,\n",
    "    concurrency=10,\n",
    ")\n",
    "\n",
    "px.Client().log_evaluations(\n",
    "    SpanEvaluations(eval_name=\"Failure State with Explanation\", dataframe=failure_analysis)\n",
    ")\n",
    "\n"
   ]
  },
  {
   "cell_type": "code",
   "execution_count": 6,
   "id": "2afdd709",
   "metadata": {},
   "outputs": [
    {
     "data": {
      "image/png": "[encoded data removed]",
      "text/plain": [
       "<Figure size 800x600 with 1 Axes>"
      ]
     },
     "metadata": {},
     "output_type": "display_data"
    }
   ],
   "source": [
    "import matplotlib.pyplot as plt\n",
    "\n",
    "# Example: assume failure_analysis[\"label\"].value_counts() is already computed\n",
    "counts = failure_analysis[\"label\"].value_counts()\n",
    "\n",
    "plt.figure(figsize=(8, 6))\n",
    "counts.plot(kind=\"bar\")\n",
    "\n",
    "plt.title(\"Value Counts per Failure State\")\n",
    "plt.xlabel(\"Failure State\")\n",
    "plt.ylabel(\"Failures\")\n",
    "plt.xticks(rotation=45)\n",
    "plt.tight_layout()\n",
    "plt.show()\n"
   ]
  },
  {
   "cell_type": "markdown",
   "id": "9e0916da",
   "metadata": {},
   "source": [
    "# Analysis of Failure State Distribution\n",
    "\n",
    "The bar chart below shows how failures are distributed across the different pipeline states of the RecipeBot application. A few key insights stand out:\n",
    "\n",
    "### Dominance of `GenRecipeArgs` Failures\n",
    "- Approximately **40 failures** occurred at the `GenRecipeArgs` stage — by far the largest share.  \n",
    "- This stage is the most schema-heavy and constraint-sensitive, since it must align **user intent, customer profile, and dietary rules** into structured JSON.  \n",
    "- Even small misalignments can cause errors, such as:\n",
    "  - Ignoring dietary requirements  \n",
    "  - Mispopulating filters  \n",
    "  - Producing queries inconsistent with the upstream profile  \n",
    "\n",
    "\n",
    "### Healthy Share of Successful Runs\n",
    "- The `\"None\"` category shows about **21 successful traces**, meaning no material defects were detected.  \n",
    "- This indicates the pipeline is reasonably robust, with **roughly one-quarter to one-third of runs completing successfully** even under randomized defect injection.  \n",
    "\n",
    "\n",
    "### Mid-Tier Failure States\n",
    "- **ParseRequest (~12 failures)**  \n",
    "  - Critical stage: if the query is misinterpreted, **all downstream reasoning is compromised**.  \n",
    "- **GetRecipes (~12 failures)**  \n",
    "  - Retrieval adds variability. Failures usually involve **irrelevant or malformed documents**.  \n",
    "\n",
    "These represent **key failure points** that disrupt multiple downstream steps.  \n",
    "\n",
    "\n",
    "### Lower-Frequency Failures\n",
    "- States like **GenCustomerArgs**, **ComposeResponse**, **GetCustomerProfile**, **GetWebInfo**, and **PlanToolCalls** show only **1–4 failures each**.  \n",
    "- These are less error-prone, likely because:\n",
    "  - Their schemas are simpler  \n",
    "  - Issues are easier to catch earlier  \n",
    "  - Errors here have less systemic impact  \n"
   ]
  },
  {
   "cell_type": "code",
   "execution_count": 7,
   "id": "1a0af9ae",
   "metadata": {},
   "outputs": [
    {
     "data": {
      "text/html": [
       "<div>\n",
       "<style scoped>\n",
       "    .dataframe tbody tr th:only-of-type {\n",
       "        vertical-align: middle;\n",
       "    }\n",
       "\n",
       "    .dataframe tbody tr th {\n",
       "        vertical-align: top;\n",
       "    }\n",
       "\n",
       "    .dataframe thead th {\n",
       "        text-align: right;\n",
       "    }\n",
       "</style>\n",
       "<table border=\"1\" class=\"dataframe\">\n",
       "  <thead>\n",
       "    <tr style=\"text-align: right;\">\n",
       "      <th></th>\n",
       "      <th>label</th>\n",
       "      <th>explanation</th>\n",
       "      <th>trace</th>\n",
       "    </tr>\n",
       "    <tr>\n",
       "      <th>context.span_id</th>\n",
       "      <th></th>\n",
       "      <th></th>\n",
       "      <th></th>\n",
       "    </tr>\n",
       "  </thead>\n",
       "  <tbody>\n",
       "    <tr>\n",
       "      <th>1957ccf926c1749b</th>\n",
       "      <td>GenRecipeArgs</td>\n",
       "      <td>In 'GenRecipeArgs', the 'servings' field is nu...</td>\n",
       "      <td>[{\"role\": \"user\", \"content\": \"I need a gluten-...</td>\n",
       "    </tr>\n",
       "    <tr>\n",
       "      <th>bf008174222fb1d7</th>\n",
       "      <td>GenRecipeArgs</td>\n",
       "      <td>The 'Generating recipe args' state fails to in...</td>\n",
       "      <td>[{\"role\": \"user\", \"content\": \"Suggest a health...</td>\n",
       "    </tr>\n",
       "    <tr>\n",
       "      <th>856ae8251103749a</th>\n",
       "      <td>GenRecipeArgs</td>\n",
       "      <td>The 'Generating recipe args' state omits the '...</td>\n",
       "      <td>[{\"role\": \"user\", \"content\": \"I need a gluten-...</td>\n",
       "    </tr>\n",
       "    <tr>\n",
       "      <th>3c6a0c8931720838</th>\n",
       "      <td>GenRecipeArgs</td>\n",
       "      <td>The 'GenRecipeArgs' state omits the 'servings'...</td>\n",
       "      <td>[{\"role\": \"user\", \"content\": \"I need a gluten-...</td>\n",
       "    </tr>\n",
       "    <tr>\n",
       "      <th>1bb42c99a37634f3</th>\n",
       "      <td>GetCustomerProfile</td>\n",
       "      <td>The 'GetCustomerProfile' state introduces a fa...</td>\n",
       "      <td>[{\"role\": \"user\", \"content\": \"I need a gluten-...</td>\n",
       "    </tr>\n",
       "    <tr>\n",
       "      <th>...</th>\n",
       "      <td>...</td>\n",
       "      <td>...</td>\n",
       "      <td>...</td>\n",
       "    </tr>\n",
       "    <tr>\n",
       "      <th>9a489b8cb794e866</th>\n",
       "      <td>GetRecipes</td>\n",
       "      <td>The 'Found recipes' state includes 'Chocolate ...</td>\n",
       "      <td>[{\"role\": \"user\", \"content\": \"I need a gluten-...</td>\n",
       "    </tr>\n",
       "    <tr>\n",
       "      <th>61cde21819853e2f</th>\n",
       "      <td>GenRecipeArgs</td>\n",
       "      <td>The 'max_time_minutes' filter in 'Generating r...</td>\n",
       "      <td>[{\"role\": \"user\", \"content\": \"I need a gluten-...</td>\n",
       "    </tr>\n",
       "    <tr>\n",
       "      <th>800d18643cfdaddc</th>\n",
       "      <td>None</td>\n",
       "      <td>The pipeline run is successful. All states mai...</td>\n",
       "      <td>[{\"role\": \"user\", \"content\": \"What vegetarian ...</td>\n",
       "    </tr>\n",
       "    <tr>\n",
       "      <th>096ddd35afcb1d13</th>\n",
       "      <td>GenCustomerArgs</td>\n",
       "      <td>In 'GenCustomerArgs', the output incorrectly l...</td>\n",
       "      <td>[{\"role\": \"user\", \"content\": \"Suggest a health...</td>\n",
       "    </tr>\n",
       "    <tr>\n",
       "      <th>3890ac20f6213c03</th>\n",
       "      <td>GenRecipeArgs</td>\n",
       "      <td>The 'Generating recipe args' state omits the '...</td>\n",
       "      <td>[{\"role\": \"user\", \"content\": \"I need a gluten-...</td>\n",
       "    </tr>\n",
       "  </tbody>\n",
       "</table>\n",
       "<p>100 rows × 3 columns</p>\n",
       "</div>"
      ],
      "text/plain": [
       "                               label  \\\n",
       "context.span_id                        \n",
       "1957ccf926c1749b       GenRecipeArgs   \n",
       "bf008174222fb1d7       GenRecipeArgs   \n",
       "856ae8251103749a       GenRecipeArgs   \n",
       "3c6a0c8931720838       GenRecipeArgs   \n",
       "1bb42c99a37634f3  GetCustomerProfile   \n",
       "...                              ...   \n",
       "9a489b8cb794e866          GetRecipes   \n",
       "61cde21819853e2f       GenRecipeArgs   \n",
       "800d18643cfdaddc                None   \n",
       "096ddd35afcb1d13     GenCustomerArgs   \n",
       "3890ac20f6213c03       GenRecipeArgs   \n",
       "\n",
       "                                                        explanation  \\\n",
       "context.span_id                                                       \n",
       "1957ccf926c1749b  In 'GenRecipeArgs', the 'servings' field is nu...   \n",
       "bf008174222fb1d7  The 'Generating recipe args' state fails to in...   \n",
       "856ae8251103749a  The 'Generating recipe args' state omits the '...   \n",
       "3c6a0c8931720838  The 'GenRecipeArgs' state omits the 'servings'...   \n",
       "1bb42c99a37634f3  The 'GetCustomerProfile' state introduces a fa...   \n",
       "...                                                             ...   \n",
       "9a489b8cb794e866  The 'Found recipes' state includes 'Chocolate ...   \n",
       "61cde21819853e2f  The 'max_time_minutes' filter in 'Generating r...   \n",
       "800d18643cfdaddc  The pipeline run is successful. All states mai...   \n",
       "096ddd35afcb1d13  In 'GenCustomerArgs', the output incorrectly l...   \n",
       "3890ac20f6213c03  The 'Generating recipe args' state omits the '...   \n",
       "\n",
       "                                                              trace  \n",
       "context.span_id                                                      \n",
       "1957ccf926c1749b  [{\"role\": \"user\", \"content\": \"I need a gluten-...  \n",
       "bf008174222fb1d7  [{\"role\": \"user\", \"content\": \"Suggest a health...  \n",
       "856ae8251103749a  [{\"role\": \"user\", \"content\": \"I need a gluten-...  \n",
       "3c6a0c8931720838  [{\"role\": \"user\", \"content\": \"I need a gluten-...  \n",
       "1bb42c99a37634f3  [{\"role\": \"user\", \"content\": \"I need a gluten-...  \n",
       "...                                                             ...  \n",
       "9a489b8cb794e866  [{\"role\": \"user\", \"content\": \"I need a gluten-...  \n",
       "61cde21819853e2f  [{\"role\": \"user\", \"content\": \"I need a gluten-...  \n",
       "800d18643cfdaddc  [{\"role\": \"user\", \"content\": \"What vegetarian ...  \n",
       "096ddd35afcb1d13  [{\"role\": \"user\", \"content\": \"Suggest a health...  \n",
       "3890ac20f6213c03  [{\"role\": \"user\", \"content\": \"I need a gluten-...  \n",
       "\n",
       "[100 rows x 3 columns]"
      ]
     },
     "execution_count": 7,
     "metadata": {},
     "output_type": "execute_result"
    }
   ],
   "source": [
    "failure_analysis[\"trace\"] = traces_df[\"attributes.output.value\"]\n",
    "failure_analysis"
   ]
  },
  {
   "cell_type": "code",
   "execution_count": 8,
   "id": "3e4f73ef",
   "metadata": {},
   "outputs": [
    {
     "name": "stdout",
     "output_type": "stream",
     "text": [
      "Generated for ComposeResponse\n",
      "Generated for GenCustomerArgs\n",
      "Generated for GenRecipeArgs\n",
      "Generated for GetCustomerProfile\n",
      "Generated for GetRecipes\n",
      "Generated for GetWebInfo\n",
      "Generated for None\n",
      "Generated for ParseRequest\n",
      "{'ComposeResponse': '### Synthesis of Recurring Failure Patterns:\\n\\n1. **Contradictions with User Requests**: The responses often include suggestions that contradict clear user constraints, such as recommending non-vegetarian or dairy-inclusive options when the request specifies vegetarian or dairy-free.\\n\\n2. **Irrelevant Information**: Responses sometimes include irrelevant or misleading information that does not pertain to the user\\'s query.\\n\\n3. **Logical Inconsistencies**: Conflicting advice within the same response, such as recommending both canned and soaked ingredients, which contradicts preparation methods.\\n\\n### Proposed Fixes:\\n\\n1. **Constraint Adherence**: Implement stricter adherence to user constraints by enhancing the natural language processing capabilities to better recognize and respect keywords such as \\'vegetarian\\' or \\'dairy-free\\'.\\n\\n2. **Relevancy Checks**: Introduce a relevancy filter to responses that ensures additional information or suggestions clearly relate to the main query.\\n\\n3. **Internal Consistency**: Apply a logic check that verifies the consistency of advice within responses, preventing contradictory statements.\\n\\n### Validator Rules:\\n\\n1. **Constraint Validation**: Automatically reject any response containing suggestions that contradict explicit dietary or preference constraints identified in the user\\'s query.\\n\\n2. **Relevancy Enforcement**: Flag or reject any additional information or fun facts that do not directly relate to the main response topic.\\n\\n3. **Consistency Check**: Implement a check that scans for logical inconsistencies within the response, ensuring all advice conforms to the initial premise provided.\\n\\n### Unit Tests (Pre-Fix Failures):\\n\\n1. **Test_Contradictory_Dietary_Suggestion**: Validate a response with a vegetarian request to ensure no non-vegetarian items are suggested.\\n\\n```python\\ndef test_contradictory_dietary_suggestion():\\n    response = generate_response(\"What vegetarian options are available?\")\\n    assert \"grilled chicken\" not in response\\n```\\n\\n2. **Test_Dairy_Free_Constraint**: Validate a response with a dairy-free request to ensure no dairy products are suggested.\\n\\n```python\\ndef test_dairy_free_constraint():\\n    response = generate_response(\"What dairy-free drinks are available?\")\\n    assert \"almond milk (or any milk of your choice)\" not in response\\n```\\n\\n3. **Test_Irrelevant_Information**: Validate response relevancy by ensuring extraneous fun facts are excluded.\\n\\n```python\\ndef test_irrelevant_information():\\n    response = generate_response(\"What vegetarian salads are recommended?\")\\n    assert \"Fun Fact\" not in response\\n```\\n\\n4. **Test_Internal_Consistency**: Validate logical consistency within the response regarding preparation methods.\\n\\n```python\\ndef test_internal_consistency():\\n    response = generate_response(\"How to quickly prepare chickpeas?\")\\n    assert not (\"soaking\" in response and \"canned chickpeas\" in response)\\n```\\n\\n5. **Test_Vegetarian_Constraint_Enforcement**: Check that the system correctly identifies and excludes non-vegetarian items consistently.\\n\\n```python\\ndef test_vegetarian_constraint_enforcement():\\n    response = generate_response(\"Suggest a vegetarian meal.\")\\n    assert \"chicken\" not in response\\n```', 'GenCustomerArgs': '### 1. Synthesize Recurring Failure Patterns\\nRecurring errors in the `GenCustomerArgs` state involve incorrect labeling of dietary preferences as \\'dairy-free\\' instead of what the user actually requested, such as \\'vegetarian\\', \\'gluten-free\\', or \\'vegan\\'. This indicates a mismatch between user requests and the dietary constraints generated.\\n\\n### 2. Propose Concrete, Testable Fixes\\n- **Implement User Request Parsing**: Enhance the parsing logic to correctly identify and map user requests to dietary preference categories. This can be achieved by refining the natural language processing components or implementing rule-based checks to ensure accuracy.\\n- **Update Preference Mapping Logic**: Correct the mapping logic that assigns dietary preferences to ensure it reflects the user’s explicit requests rather than default settings.\\n- **Add Specificity to Requests**: Ensure that request handling distinguishes between dietary preferences and other modifiers. For instance, differentiate \\'vegan\\' from \\'dairy-free\\' and properly map these in attributes.\\n\\n### 3. Write Validator Rules\\n- **Rule 1**: Validate that all dietary preference attributes in `GenCustomerArgs` match the user\\'s explicit requests. If a preference is not stated, leave that attribute unspecified.\\n- **Rule 2**: Ensure that conflicting dietary preferences (e.g., marking both \\'dairy-free\\' and something contradicting like \\'contains dairy\\') are flagged and rejected.\\n- **Rule 3**: Guarantee that every dietary preference listed aligns with a correctly parsed user request. Cross-reference with initial user input to confirm consistency.\\n\\n### 4. Provide Minimal Unit Tests\\n\\n#### Test 1\\n**Input**: User explicitly requests \"gluten-free\".\\n**Expects**: Output should list \\'gluten-free\\'.\\n\\n```python\\ndef test_gluten_free_request():\\n    input_request = \"I need a gluten-free dinner idea\"\\n    args = gen_customer_args(input_request)\\n    assert \\'gluten-free\\' in args and \\'dairy-free\\' not in args\\n```\\n\\n#### Test 2\\n**Input**: User explicitly requests \"vegetarian high-protein\".\\n**Expects**: Output should list \\'vegetarian\\' and not \\'dairy-free\\'.\\n\\n```python\\ndef test_vegetarian_high_protein_request():\\n    input_request = \"What vegetarian high-protein meal can I have?\"\\n    args = gen_customer_args(input_request)\\n    assert \\'vegetarian\\' in args and \\'dairy-free\\' not in args\\n```\\n\\n#### Test 3\\n**Input**: User explicitly requests \"vegan\".\\n**Expects**: Output should list \\'vegan\\' and not \\'dairy-free\\'.\\n\\n```python\\ndef test_vegan_request():\\n    input_request = \"Suggest a healthy vegan breakfast using oatmeal.\"\\n    args = gen_customer_args(input_request)\\n    assert \\'vegan\\' in args and \\'dairy-free\\' not in args\\n```\\n\\n#### Test 4\\n**Input**: User explicitly requests \"vegan\" in `GetCustomerProfile`.\\n**Expects**: Output should maintain \\'vegan\\' consistency.\\n\\n```python\\ndef test_vegan_profile():\\n    input_request = \"Vegan meal profile\"\\n    args = gen_customer_args(input_request)\\n    assert \\'vegan\\' in args and \\'dairy-free\\' not in args\\n```\\n\\n#### Test 5\\n**Input**: Request with no specific dietary preference.\\n**Expects**: Output should have no dietary preferences unless specified.\\n\\n```python\\ndef test_no_dietary_preference():\\n    input_request = \"Suggest a dinner idea\"\\n    args = gen_customer_args(input_request)\\n    assert \\'dairy-free\\' not in args and \\'vegan\\' not in args and \\'gluten-free\\' not in args\\n```\\n\\nThese tests should fail under the current logic and pass once the fixes are implemented ensuring the dietary preferences in `GenCustomerArgs` properly reflect user inputs.', 'GenRecipeArgs': \"### Recurring Failure Patterns\\n\\n1. **Omission of Servings Parameter**: The 'servings' field is frequently omitted or set to null, despite user requests specifying a need for 4 servings. This leads to incorrect recipe search results.\\n\\n2. **Dietary Constraint Violations**: The dietary filters are incorrectly set, often contradicting user requests. Common errors include setting 'diet' to 'vegan' or 'non-vegetarian' when the user requested 'healthy', 'vegetarian', or specific ingredients like 'oatmeal'.\\n\\n3. **Exclusion of Key Ingredients**: User-requested ingredients such as 'oatmeal' are missing from the generated search queries, resulting in off-topic suggestions.\\n\\n4. **Unrealistic Limitations**: Parameters like 'max_time_minutes' are set to implausibly low values (e.g., 5 minutes), which may exclude otherwise suitable recipes.\\n\\n### Proposed Fixes\\n\\n1. **Ensure Servings Specification**: Implement logic to capture and propagate the 'servings' parameter from user input to the recipe search arguments.\\n\\n2. **Validate Dietary Filters**: Enhance input validation to align the diet filters with user requests, checking for faithfulness to requested dietary specifications like 'healthy', 'vegetarian', etc.\\n\\n3. **Include Key Ingredients**: Update the generation logic to ensure requested ingredients, such as 'oatmeal', are consistently included in all relevant queries.\\n\\n4. **Review Time Constraints**: Add a check to ensure 'max_time_minutes' is reasonable and aligns with the typical preparation time for the requested meal type.\\n\\n### Validator Rules\\n\\n1. **Servings Required**: Ensure 'servings' is not null and matches the user request.\\n\\n2. **Dietary Constraints Match User Request**: Verify 'filters.diet' aligns with the user's dietary constraints.\\n\\n3. **Include Requested Ingredients**: Check that key ingredients, such as 'oatmeal', are present in the query parameters if mentioned by the user.\\n\\n4. **Realistic Timing**: Validate that 'max_time_minutes' is set to a feasible value for the meal type requested.\\n\\n### Unit Tests\\n\\n1. **Test Missing Servings Parameter**\\n\\n   - **Input**: User requests 4 servings.\\n   - **Condition**: `GenRecipeArgs` omits servings.\\n   - **Expected Outcome**: Fail (before); Pass (after fix) - Servings are included.\\n\\n2. **Test Incorrect Dietary Filters**\\n\\n   - **Input**: User requests a vegetarian meal.\\n   - **Condition**: `GenRecipeArgs` sets filter to 'non-vegetarian'.\\n   - **Expected Outcome**: Fail (before); Pass (after fix) - Correct dietary filter applied.\\n\\n3. **Test Key Ingredient Inclusion**\\n\\n   - **Input**: User requests an oatmeal-based breakfast.\\n   - **Condition**: `GenRecipeArgs` query lacks 'oatmeal'.\\n   - **Expected Outcome**: Fail (before); Pass (after fix) - 'Oatmeal' included in query.\\n\\n4. **Test Unrealistic Time Constraint**\\n\\n   - **Input**: User requests dinner meal.\\n   - **Condition**: `max_time_minutes` set to 5.\\n   - **Expected Outcome**: Fail (before); Pass (after fix) - Time constraint reasonable.\\n\\n5. **Test Null Servings Field**\\n\\n   - **Input**: User specifies 4 servings.\\n   - **Condition**: `GenRecipeArgs` sets servings to null.\\n   - **Expected Outcome**: Fail (before); Pass (after fix) - Non-null servings as requested.\", 'GetCustomerProfile': '### Synthesis of Recurring Failure Patterns:\\n\\n1. **Faithfulness Violation**: The \\'GetCustomerProfile\\' state incorrectly adds \\'dairy-free\\' to the user\\'s dietary preferences, which is not mentioned in the original request. This results in inappropriate data being included in the customer profile, potentially leading to incorrect recommendations.\\n\\n### Proposed Fixes:\\n\\n1. **Improve Input Parsing**: Ensure that the code parsing user requests only extracts dietary preferences explicitly mentioned by the user, and does not infer or add additional preferences.\\n\\n2. **Update Profile Update Logic**: Modify the logic that updates or creates the customer profile to strictly adhere to the exact dietary preferences specified by the user without adding any assumptions.\\n\\n3. **Establish Clear Exception Handling**: Implement exception handling for invalid or unrecognized dietary preferences to ensure that only validated preferences are included.\\n\\n### Validator Rules:\\n\\n1. **Strict Preference Match**: Before leaving the \\'GetCustomerProfile\\' state, validate that dietary preferences in the profile exactly match those in the user\\'s request. \\n\\n2. **No Unrecognized Preferences**: Ensure no dietary preferences beyond those explicitly requested by the user are added to the profile.\\n\\n3. **Logging and Alerting**: Log any discrepancies between user requests and stored profiles for further analysis.\\n\\n### Minimal Unit Tests:\\n\\n1. **Test for Exact Match**:\\n   - **Test Input**: User request with \"gluten-free, vegetarian\".\\n   - **Expected Output**: Profile should match exactly with \"gluten-free, vegetarian\".\\n\\n2. **Test for Unrecognized Addition**:\\n   - **Test Input**: User request with \"vegan\".\\n   - **Expected Output**: Profile should only include \"vegan\" and not add \"dairy-free\".\\n\\n3. **Test for Unaltered Profile**:\\n   - **Test Input**: User request with no dietary preferences.\\n   - **Expected Output**: Profile should not include any preferences.\\n\\n4. **Test with Multiple Requests**:\\n   - **Test Input**: Multiple consecutive requests with different preferences.\\n   - **Expected Output**: Each profile update reflects only the preferences from the corresponding request, without addition.\\n\\n5. **Exception Handling Test**:\\n   - **Test Input**: User request with an invalid dietary preference \"sugar-free\".\\n   - **Expected Output**: Return an error or exclude unrecognized preference without adding \"dairy-free\".', 'GetRecipes': '### 1) Synthesize Recurring Failure Patterns\\n\\n- **Topicality Breakdown:** Recipes returned are off-topic from user requests (e.g., asking for oatmeal-based or healthy breakfast recipes but getting irrelevant options like \\'Chocolate Chip Cookies\\' or \\'Classic American Cheeseburger\\').\\n- **Requirement Mismatch:** User specified requirements are not being fulfilled (e.g., recipes excluding key ingredients like oatmeal or including disliked ingredients such as quinoa).\\n- **Contradictory Outputs:** Recipes do not match dietary restrictions (e.g., requesting gluten-free options but receiving recipes with gluten ingredients).\\n\\n### 2) Propose Concrete, Testable Fixes\\n\\n- Implement strict filtering criteria in the `GetRecipes` state to ensure recipes match user-specified ingredients and dietary restrictions.\\n- Enhance the parsing logic for user queries to accurately extract and prioritize requirements.\\n- Introduce validation checks to automatically exclude any recipe that contains explicitly mentioned disliked ingredients.\\n- Establish a tagging or categorization system for recipes to improve the matching of topical themes such as \"healthy\", \"gluten-free\", etc.\\n\\n### 3) Write Validator Rules\\n\\n- **Ingredient Rule:** Ensure that all recipes returned must include all key ingredients mentioned in the user query, if any.\\n- **Dietary Restriction Rule:** Exclude recipes from the results that contain any ingredients explicitly marked as disliked or restricted by the user.\\n- **Topic Relevance Rule:** Verify that all recipes match the context of the user’s request (e.g., recipes suggested for \"healthy breakfast\" should match that dietary theme).\\n\\n### 4) Minimal Unit Tests\\n\\n```python\\ndef test_recipe_includes_oatmeal():\\n    user_query = \"Suggest a healthy breakfast using oatmeal.\"\\n    recipes = get_recipes(user_query)\\n    assert any(\"oatmeal\" in recipe.ingredients for recipe in recipes), \"Recipes should include oatmeal\"\\n\\ndef test_exclude_unhealthy_recipes():\\n    user_query = \"Suggest a healthy breakfast.\"\\n    recipes = get_recipes(user_query)\\n    assert all(\"healthy\" in recipe.tags for recipe in recipes), \"Recipes should be categorized as healthy\"\\n\\ndef test_exclude_disliked_ingredient():\\n    user_query = \"I need a gluten-free breakfast without quinoa.\"\\n    recipes = get_recipes(user_query)\\n    assert all(\"quinoa\" not in recipe.ingredients for recipe in recipes), \"Recipes should not include quinoa\"\\n\\ndef test_gluten_free_recipes():\\n    user_query = \"I need a gluten-free breakfast.\"\\n    recipes = get_recipes(user_query)\\n    assert all(recipe.is_gluten_free for recipe in recipes), \"Recipes should be gluten-free\"\\n\\ndef test_topic_relevance():\\n    user_query = \"Suggest a health-focused meal.\"\\n    recipes = get_recipes(user_query)\\n    assert all(\"healthy\" in recipe.tags for recipe in recipes), \"Recipes should be tagged as healthy\"\\n```\\n\\nThese tests target the issues identified and should initially fail under the current system but will pass once the proposed fixes are implemented.', 'GetWebInfo': '### 1) Synthesizing Recurring Failure Patterns\\n\\n- Web resources retrieved are frequently off-topic and unrelated to the user\\'s query.\\n- Content categories retrieved include climate change, digital marketing, and technology, which do not align with the typical contexts, such as cooking or dietary needs, implied in the queries.\\n\\n### 2) Proposed Fixes\\n\\n- Implement query classification: Develop a system that classifies and identifies the context or topic of the user\\'s query (e.g., food, technology, science) before performing a web search.\\n  \\n- Improve keyword matching: Enhance the keyword extraction process to ensure it more accurately encapsulates the core intent of the user\\'s query. Use these keywords to perform context-specific web searches.\\n  \\n- Source prioritization: Create a list of high-relevance sources for different contexts (e.g., cooking websites for food-related queries) and prioritize these sources in the search results.\\n\\n### 3) Validator Rules\\n\\n- Validate that the search query is correctly classified into a predefined category (e.g., food, technology, travel) before proceeding with web info retrieval.\\n  \\n- Ensure the majority of extracted keywords directly match or align with the identified category of the query.\\n  \\n- Check that the web resources\\' domain names are within an approved list relevant to the category of the user\\'s query.\\n\\n### 4) Unit Tests\\n\\n#### Test 1: Off-Topic Query Handling\\n\\n- **Description**: Send a query related to food and verify no results about climate change or technology are retrieved.\\n- **Initial Condition**: \"I need a gluten-free cake recipe.\"\\n- **Expected Result**: All resources returned should be related to food or recipes.\\n\\n#### Test 2: Keyword Relevance\\n\\n- **Description**: Ensure keywords extracted from a query about cooking are not related to unrelated fields.\\n- **Initial Condition**: \"How do I cook pasta?\"\\n- **Expected Result**: Keywords like \"cook,\" \"pasta,\" and \"recipe\" are prevalent, with no digital marketing or technology keywords.\\n\\n#### Test 3: Source Validation\\n\\n- **Description**: Confirm that sources for a food-related query are from verified domains like cooking websites.\\n- **Initial Condition**: \"Find low-calorie vegetarian meals.\"\\n- **Expected Result**: Results should come from sources like cookbooks, recipe sites, or health journals.\\n\\n#### Test 4: Category Classification\\n\\n- **Description**: Verify that a food query does not get classified into technology.\\n- **Initial Condition**: \"Tips for barbeque grilling.\"\\n- **Expected Result**: Category classified as food or similar, not technology.\\n\\n#### Test 5: Contextual Influence\\n\\n- **Description**: Check that the influence of generalized or popular topics like climate change is nullified.\\n- **Initial Condition**: Any food-related user query.\\n- **Expected Result**: Search results do not include irrelevant popular topics like climate change unless specifically requested.\\n\\nThese fixes and tests aim to enhance the relevance and accuracy of the `GetWebInfo` state\\'s output by aligning web resource retrieval with the true intent behind the user\\'s queries.', 'None': \"### Synthesis of Recurring Failure Patterns:\\n\\n1. **Use of Nonexistent or Unused Tools:**\\n   - The 'Planning tools' state includes a nonexistent tool 'nutrition_facts', which is described as a harmless defect.\\n   - 'Planning tools' also contains unused 'nutrition_facts' despite its inclusion.\\n\\n2. **Incorrect Tool Planning Order:**\\n   - There is an incorrect order of tools, described as harmless but potentially confusing.\\n\\n3. **Schema Misuse:**\\n   - Incorrect schema usage in 'GenCustomerArgs' with 'dairy-free' instead of 'vegan'.\\n\\n### Proposed Fixes:\\n\\n1. **Nonexistent or Unused Tools:**\\n   - **Fix:** Review and update the list of available tools to ensure they exist and are used as needed.\\n   - **Implementation:** Remove or replace 'nutrition_facts' with an actual tool that is utilized in the process.\\n\\n2. **Tool Planning Order:**\\n   - **Fix:** Define and enforce a logical sequence for tool usage.\\n   - **Implementation:** Update the tool planning configuration to reflect the correct order.\\n\\n3. **Schema Misuse:**\\n   - **Fix:** Ensure standardized schema definitions for user constraints are used consistently.\\n   - **Implementation:** Adjust 'GenCustomerArgs' to correctly recognize and differentiate between 'dairy-free' and 'vegan'.\\n\\n### Validator Rules:\\n\\n1. **Tool Existence and Usage Check:**\\n   - Validate that all tools listed in the 'Planning tools' state exist and are used in subsequent processing steps.\\n\\n2. **Correct Tool Sequence:**\\n   - Enforce a predefined order for tool planning and execution.\\n\\n3. **Correct Schema Usage:**\\n   - Verify that the schema in 'GenCustomerArgs' matches the expected definitions for user constraints.\\n\\n### Unit Tests:\\n\\n1. **Test for Nonexistent Tools:**\\n   - **Test Case:** Ensure that all tools in 'Planning tools' exist.\\n   - **Expected Failure:** 'nutrition_facts' is not found.\\n\\n2. **Test for Tool Usage:**\\n   - **Test Case:** Ensure all tools in 'Planning tools' are utilized in later states.\\n   - **Expected Failure:** 'nutrition_facts' is listed but unused.\\n\\n3. **Test for Tool Planning Order:**\\n   - **Test Case:** Verify the tool sequence matches the required order.\\n   - **Expected Failure:** Order deviation detected.\\n\\n4. **Test for Schema Consistency:**\\n   - **Test Case:** Check 'GenCustomerArgs' for consistent schema usage.\\n   - **Expected Failure:** Presence of 'dairy-free' instead of 'vegan'.\\n\\n5. **Test for Schema Integrity:**\\n   - **Test Case:** Validate adherence to schema rules across states.\\n   - **Expected Failure:** Misalignment between user request and constraint schema.\\n\\nThese steps and tests are aimed at ensuring that the 'Planning tools' state is accurate, fully functional, and adheres to the expected schema constraints.\", 'ParseRequest': '### 1) Synthesized Failure Patterns:\\n\\n- **Missing Constraints:** The \\'ParseRequest\\' state frequently fails to capture user-specified dietary constraints such as \\'high-protein\\' and \\'vegetarian\\', leading to empty or incomplete \\'dietary_constraints\\' outputs.\\n\\n- **Incorrect Additions:** The \\'ParseRequest\\' state incorrectly adds \\'dairy-free\\' as a dietary constraint when it was not mentioned by the user, causing downstream processing errors.\\n\\n- **Misinterpretations:** There is a misinterpretation issue where \\'gluten-free\\' is sometimes interpreted as \\'dairy-free\\'.\\n\\n### 2) Proposed Fixes:\\n\\n- **Improved NLP Parsing:** Enhance natural language processing algorithms to accurately detect and extract specified dietary constraints from user input. Implement model retraining with a focus on accurately recognizing \\'high-protein\\', \\'vegetarian\\', and distinguishing between \\'gluten-free\\' and \\'dairy-free\\'.\\n\\n- **Constraint Validation:** Introduce a validation check that ensures only constraints mentioned by the user are added to \\'dietary_constraints\\'. This will help prevent incorrect addition of constraints.\\n\\n- **Context-aware Mapping:** Enhance the model to better map specific terms like \\'gluten-free\\' without defaulting to similar sounding constraints such as \\'dairy-free\\'. Use contextual cues if available.\\n\\n### 3) Validator Rules:\\n\\n- **Dietary Constraints Mention Check:** Ensure \\'dietary_constraints\\' only includes constraints explicitly mentioned by the user. If a constraint is identified but not mentioned, flag for review.\\n\\n- **Constraint Completeness Rule:** Validate that all constraints specified in the user input are captured. If any specified constraint is missing, trigger an alert for correction.\\n\\n- **Accuracy in Interpretation:** Validate the correct interpretation of user-specified terms. If \\'gluten-free\\' is misinterpreted as \\'dairy-free\\', flag this as an error.\\n\\n### 4) Minimal Unit Tests:\\n\\n1. **Test for Missing \\'high-protein\\' Constraint:**\\n\\n   ```python\\n   def test_high_protein_constraint():\\n       input_query = \"I need a vegetarian high-protein meal.\"\\n       output = parse_request(input_query)\\n       assert \\'high-protein\\' in output[\\'dietary_constraints\\']\\n   ```\\n\\n2. **Test for Incorrect \\'dairy-free\\' Addition:**\\n\\n   ```python\\n   def test_no_unmentioned_dairy_free():\\n       input_query = \"I need a gluten-free meal.\"\\n       output = parse_request(input_query)\\n       assert \\'dairy-free\\' not in output[\\'dietary_constraints\\']\\n   ```\\n\\n3. **Test for \\'vegetarian\\' Constraint Capture:**\\n\\n   ```python\\n   def test_vegetarian_constraint():\\n       input_query = \"What vegetarian options are high-protein?\"\\n       output = parse_request(input_query)\\n       assert \\'vegetarian\\' in output[\\'dietary_constraints\\']\\n   ```\\n\\n4. **Test for Correct Interpretation of \\'gluten-free\\':**\\n\\n   ```python\\n   def test_correct_gluten_free_interpretation():\\n       input_query = \"I need a gluten-free meal.\"\\n       output = parse_request(input_query)\\n       assert \\'gluten-free\\' in output[\\'dietary_constraints\\']\\n       assert \\'dairy-free\\' not in output[\\'dietary_constraints\\']\\n   ```\\n\\n5. **Test for Complete \\'dietary_constraints\\' List:**\\n\\n   ```python\\n   def test_complete_constraints():\\n       input_query = \"Find a vegetarian and high-protein meal.\"\\n       output = parse_request(input_query)\\n       assert \\'vegetarian\\' in output[\\'dietary_constraints\\']\\n       assert \\'high-protein\\' in output[\\'dietary_constraints\\']\\n   ```'}\n"
     ]
    }
   ],
   "source": [
    "from openai import OpenAI\n",
    "PER_CLASS_PROMPT = \"\"\"You are auditing failures for the state: {label}.\n",
    "\n",
    "You will receive many short “explanations” describing material defects detected by an evaluator. Your tasks:\n",
    "1) Synthesize recurring failure patterns without changing their meaning.\n",
    "2) Propose concrete, testable fixes that reduce these failures at the source state.\n",
    "3) Write validator rules the pipeline can enforce before leaving this state.\n",
    "4) Provide 3–5 minimal unit tests that should fail now and pass after the fixes.\n",
    "\n",
    "- Upstream context: {trace}\n",
    "- Explanations (one per line):\n",
    "{joined_explanations}\n",
    "\"\"\"\n",
    "\n",
    "client = OpenAI()\n",
    "results = {}\n",
    "\n",
    "for label, group in failure_analysis.groupby(\"label\"):\n",
    "    exps = group[\"explanation\"].astype(str).tolist()\n",
    "    joined = \"\\n\".join(f\"- {e}\" for e in exps)\n",
    "    prompt = PER_CLASS_PROMPT.replace(\"{label}\", label)\n",
    "    prompt = prompt.replace(\"{trace}\", group[\"trace\"].astype(str).to_string())\n",
    "    prompt = prompt.replace(\"{joined_explanations}\", joined)\n",
    "    response = client.responses.create(\n",
    "        model=\"gpt-4o\",\n",
    "        input=prompt,\n",
    "    )\n",
    "    results[label] = response.output_text\n",
    "    print(f\"Generated for {label}\")\n",
    "\n",
    "print(results)\n"
   ]
  },
  {
   "cell_type": "code",
   "execution_count": 10,
   "id": "93e4fd4b",
   "metadata": {},
   "outputs": [
    {
     "data": {
      "text/markdown": [
       "### 1) Synthesize Recurring Failure Patterns\n",
       "\n",
       "- **Topicality Breakdown:** Recipes returned are off-topic from user requests (e.g., asking for oatmeal-based or healthy breakfast recipes but getting irrelevant options like 'Chocolate Chip Cookies' or 'Classic American Cheeseburger').\n",
       "- **Requirement Mismatch:** User specified requirements are not being fulfilled (e.g., recipes excluding key ingredients like oatmeal or including disliked ingredients such as quinoa).\n",
       "- **Contradictory Outputs:** Recipes do not match dietary restrictions (e.g., requesting gluten-free options but receiving recipes with gluten ingredients).\n",
       "\n",
       "### 2) Propose Concrete, Testable Fixes\n",
       "\n",
       "- Implement strict filtering criteria in the `GetRecipes` state to ensure recipes match user-specified ingredients and dietary restrictions.\n",
       "- Enhance the parsing logic for user queries to accurately extract and prioritize requirements.\n",
       "- Introduce validation checks to automatically exclude any recipe that contains explicitly mentioned disliked ingredients.\n",
       "- Establish a tagging or categorization system for recipes to improve the matching of topical themes such as \"healthy\", \"gluten-free\", etc.\n",
       "\n",
       "### 3) Write Validator Rules\n",
       "\n",
       "- **Ingredient Rule:** Ensure that all recipes returned must include all key ingredients mentioned in the user query, if any.\n",
       "- **Dietary Restriction Rule:** Exclude recipes from the results that contain any ingredients explicitly marked as disliked or restricted by the user.\n",
       "- **Topic Relevance Rule:** Verify that all recipes match the context of the user’s request (e.g., recipes suggested for \"healthy breakfast\" should match that dietary theme).\n",
       "\n",
       "### 4) Minimal Unit Tests\n",
       "\n",
       "```python\n",
       "def test_recipe_includes_oatmeal():\n",
       "    user_query = \"Suggest a healthy breakfast using oatmeal.\"\n",
       "    recipes = get_recipes(user_query)\n",
       "    assert any(\"oatmeal\" in recipe.ingredients for recipe in recipes), \"Recipes should include oatmeal\"\n",
       "\n",
       "def test_exclude_unhealthy_recipes():\n",
       "    user_query = \"Suggest a healthy breakfast.\"\n",
       "    recipes = get_recipes(user_query)\n",
       "    assert all(\"healthy\" in recipe.tags for recipe in recipes), \"Recipes should be categorized as healthy\"\n",
       "\n",
       "def test_exclude_disliked_ingredient():\n",
       "    user_query = \"I need a gluten-free breakfast without quinoa.\"\n",
       "    recipes = get_recipes(user_query)\n",
       "    assert all(\"quinoa\" not in recipe.ingredients for recipe in recipes), \"Recipes should not include quinoa\"\n",
       "\n",
       "def test_gluten_free_recipes():\n",
       "    user_query = \"I need a gluten-free breakfast.\"\n",
       "    recipes = get_recipes(user_query)\n",
       "    assert all(recipe.is_gluten_free for recipe in recipes), \"Recipes should be gluten-free\"\n",
       "\n",
       "def test_topic_relevance():\n",
       "    user_query = \"Suggest a health-focused meal.\"\n",
       "    recipes = get_recipes(user_query)\n",
       "    assert all(\"healthy\" in recipe.tags for recipe in recipes), \"Recipes should be tagged as healthy\"\n",
       "```\n",
       "\n",
       "These tests target the issues identified and should initially fail under the current system but will pass once the proposed fixes are implemented."
      ],
      "text/plain": [
       "<IPython.core.display.Markdown object>"
      ]
     },
     "metadata": {},
     "output_type": "display_data"
    }
   ],
   "source": [
    "from IPython.display import display, Markdown\n",
    "\n",
    "label = \"GetRecipes\"\n",
    "text = results[label]\n",
    "\n",
    "display(Markdown(text))"
   ]
  }
 ],
 "metadata": {
  "kernelspec": {
   "display_name": ".venv",
   "language": "python",
   "name": "python3"
  },
  "language_info": {
   "codemirror_mode": {
    "name": "ipython",
    "version": 3
   },
   "file_extension": ".py",
   "mimetype": "text/x-python",
   "name": "python",
   "nbconvert_exporter": "python",
   "pygments_lexer": "ipython3",
   "version": "3.13.3"
  }
 },
 "nbformat": 4,
 "nbformat_minor": 5
}
