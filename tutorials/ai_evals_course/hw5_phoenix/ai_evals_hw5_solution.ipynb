{
 "cells": [
  {
   "cell_type": "markdown",
   "id": "ffd790e4",
   "metadata": {},
   "source": [
    "# Homework 5 - Evals for Failure Analysis with Phoenix"
   ]
  },
  {
   "cell_type": "markdown",
   "id": "c45295dc",
   "metadata": {},
   "source": [
    "<center>\n",
    "    <p style=\"text-align:left\">\n",
    "        <img alt=\"phoenix logo\" src=\"https://repository-images.githubusercontent.com/564072810/f3666cdf-cb3e-4056-8a25-27cb3e6b5848\" width=\"600\"/>\n",
    "        <br>\n",
    "        <a href=\"https://arize.com/docs/phoenix/\">Docs</a>\n",
    "        |\n",
    "        <a href=\"https://github.com/Arize-ai/phoenix\">GitHub</a>\n",
    "        |\n",
    "        <a href=\"https://arize-ai.slack.com/join/shared_invite/zt-2w57bhem8-hq24MB6u7yE_ZF_ilOYSBw#/shared-invite/email\">Community</a>\n",
    "    </p>\n",
    "</center>\n",
    "\n",
    "## Launch Phoenix \n",
    "\n",
    "First, let's set up Phoenix on our local machine. You should run these commands within your terminal in your chosen environment.\n",
    "\n",
    "(If you have already done this in a previous HW assignment, you are good to go.)\n",
    "\n",
    "**Install Phoenix**\n",
    "\n",
    "```pip install arize-phoenix```\n",
    "\n",
    "**Boot up Phoenix on localhost**\n",
    "\n",
    "```phoenix serve```"
   ]
  },
  {
   "cell_type": "markdown",
   "id": "1d0c6eba",
   "metadata": {},
   "source": [
    "Run `phoenix serve` in your terminal to boot up Phoenix locally."
   ]
  },
  {
   "cell_type": "code",
   "execution_count": 1,
   "id": "1b82b36e",
   "metadata": {},
   "outputs": [],
   "source": [
    "from typing import List\n",
    "\n",
    "import matplotlib.pyplot as plt\n",
    "import pandas as pd\n",
    "\n",
    "import phoenix as px\n",
    "from phoenix.trace.dsl import SpanQuery"
   ]
  },
  {
   "cell_type": "code",
   "execution_count": 36,
   "id": "ed9c09f2",
   "metadata": {},
   "outputs": [],
   "source": [
    "import getpass\n",
    "import os\n",
    "\n",
    "os.environ[\"OPENAI_API_KEY\"] = os.getenv(\"OPENAI_API_KEY\") or getpass.getpass(\"Enter your OpenAI API key: \")"
   ]
  },
  {
   "cell_type": "markdown",
   "id": "759276eb",
   "metadata": {},
   "source": [
    "# Pipeline States\n",
    "\n",
    "Below are the states of the recipe agent pipeline we are simulating, in order.\n",
    "\n",
    "**ParseRequest** - LLM interprets and analyzes the user's query to understand what they're asking for\n",
    "\n",
    "**PlanToolCalls** - LLM decides which tools to invoke and in what order based on the parsed request\n",
    "\n",
    "**GenRecipeArgs** - LLM constructs JSON arguments for the recipe database search based on customer profile\n",
    "\n",
    "**GetRecipes** - Executes the recipe-search tool to find relevant recipes matching the criteria\n",
    "\n",
    "**GenWebArgs** - LLM constructs JSON arguments for web search to find additional cooking tips/information\n",
    "\n",
    "**GetWebInfo** - Executes the web-search tool to retrieve supplementary cooking information\n",
    "\n",
    "**ComposeResponse** - LLM drafts the final answer combining recipes and web information\n",
    "\n",
    "**DeliverResponse** - Agent sends the composed response to the user"
   ]
  },
  {
   "cell_type": "code",
   "execution_count": 3,
   "id": "7ecd1cdb",
   "metadata": {},
   "outputs": [],
   "source": [
    "PIPELINE_STATES: List[str] = [\n",
    "    \"ParseRequest\",\n",
    "    \"PlanToolCalls\",\n",
    "    \"GenRecipeArgs\",\n",
    "    \"GetRecipes\",\n",
    "    \"GenWebArgs\",\n",
    "    \"GetWebInfo\",\n",
    "    \"ComposeResponse\",\n",
    "]\n",
    "STATE_INDEX = {s: i for i, s in enumerate(PIPELINE_STATES)}"
   ]
  },
  {
   "cell_type": "markdown",
   "id": "75c8457c",
   "metadata": {},
   "source": [
    "## Generate Phoenix Traces\n",
    "\n",
    "Here we are making 100 requests to the recipe bot and then collecting traces for those requests in Phoenix.\n",
    "\n",
    "You can look at the generate_traces_phoenix.py file for more details on how this is implemented."
   ]
  },
  {
   "cell_type": "code",
   "execution_count": null,
   "id": "6a7e1dc8",
   "metadata": {},
   "outputs": [],
   "source": [
    "%run generate_traces_phoenix.py"
   ]
  },
  {
   "cell_type": "markdown",
   "id": "7c469203",
   "metadata": {},
   "source": [
    "## Evals\n",
    "\n",
    "Here we run evals. We have 7 different evaluators with their own prompts, each designed to evaluate one of the 7 states of the recipe bot application. You can see the evaluator prompts in `evaluators` directory.\n",
    "\n",
    "We use the Phoenix method `SpanQuery()` to load spans for the 7 different states. \n",
    "\n",
    "We use the Phoenix method `llm_generate` to run the evals. llm_generate has built in concurrency that makes running your llm calls for your evals much quicker. \n",
    "\n",
    "Finally we use `log_evaluations` to log our evals back to our spans in Phoenix."
   ]
  },
  {
   "cell_type": "code",
   "execution_count": 38,
   "id": "d00ba0ce",
   "metadata": {},
   "outputs": [
    {
     "name": "stdout",
     "output_type": "stream",
     "text": [
      "Successfully loaded 100 ParseRequest spans from Phoenix\n"
     ]
    },
    {
     "data": {
      "application/vnd.jupyter.widget-view+json": {
       "model_id": "03c914981099479099b06323af92ba9c",
       "version_major": 2,
       "version_minor": 0
      },
      "text/plain": [
       "llm_generate |          | 0/100 (0.0%) | ⏳ 00:00<? | ?it/s"
      ]
     },
     "metadata": {},
     "output_type": "display_data"
    },
    {
     "name": "stdout",
     "output_type": "stream",
     "text": [
      "Successfully loaded 100 PlanToolCalls spans from Phoenix\n"
     ]
    },
    {
     "data": {
      "application/vnd.jupyter.widget-view+json": {
       "model_id": "c079f5b0d02a4067bf3e204458a933d5",
       "version_major": 2,
       "version_minor": 0
      },
      "text/plain": [
       "llm_generate |          | 0/100 (0.0%) | ⏳ 00:00<? | ?it/s"
      ]
     },
     "metadata": {},
     "output_type": "display_data"
    },
    {
     "name": "stdout",
     "output_type": "stream",
     "text": [
      "Successfully loaded 100 GenRecipeArgs spans from Phoenix\n"
     ]
    },
    {
     "data": {
      "application/vnd.jupyter.widget-view+json": {
       "model_id": "a20049837a224de3ac9dabfd29c20798",
       "version_major": 2,
       "version_minor": 0
      },
      "text/plain": [
       "llm_generate |          | 0/100 (0.0%) | ⏳ 00:00<? | ?it/s"
      ]
     },
     "metadata": {},
     "output_type": "display_data"
    },
    {
     "name": "stdout",
     "output_type": "stream",
     "text": [
      "Successfully loaded 100 GetRecipes spans from Phoenix\n"
     ]
    },
    {
     "data": {
      "application/vnd.jupyter.widget-view+json": {
       "model_id": "999e567025704d41a40eefdb0555c346",
       "version_major": 2,
       "version_minor": 0
      },
      "text/plain": [
       "llm_generate |          | 0/100 (0.0%) | ⏳ 00:00<? | ?it/s"
      ]
     },
     "metadata": {},
     "output_type": "display_data"
    },
    {
     "name": "stdout",
     "output_type": "stream",
     "text": [
      "Exception in worker on attempt 1: raised InternalServerError('upstream connect error or disconnect/reset before headers. reset reason: connection termination')\n",
      "Requeuing...\n",
      "Successfully loaded 100 GenWebArgs spans from Phoenix\n"
     ]
    },
    {
     "data": {
      "application/vnd.jupyter.widget-view+json": {
       "model_id": "6689de1766574181a44194dfe82d87d9",
       "version_major": 2,
       "version_minor": 0
      },
      "text/plain": [
       "llm_generate |          | 0/100 (0.0%) | ⏳ 00:00<? | ?it/s"
      ]
     },
     "metadata": {},
     "output_type": "display_data"
    },
    {
     "name": "stdout",
     "output_type": "stream",
     "text": [
      "Successfully loaded 100 GetWebInfo spans from Phoenix\n"
     ]
    },
    {
     "data": {
      "application/vnd.jupyter.widget-view+json": {
       "model_id": "c7287dae62ff49d886a7cbd357dca7ec",
       "version_major": 2,
       "version_minor": 0
      },
      "text/plain": [
       "llm_generate |          | 0/100 (0.0%) | ⏳ 00:00<? | ?it/s"
      ]
     },
     "metadata": {},
     "output_type": "display_data"
    },
    {
     "name": "stdout",
     "output_type": "stream",
     "text": [
      "Successfully loaded 99 ComposeResponse spans from Phoenix\n"
     ]
    },
    {
     "data": {
      "application/vnd.jupyter.widget-view+json": {
       "model_id": "22b2c1813d4f4304bcf0ddc78a97623c",
       "version_major": 2,
       "version_minor": 0
      },
      "text/plain": [
       "llm_generate |          | 0/99 (0.0%) | ⏳ 00:00<? | ?it/s"
      ]
     },
     "metadata": {},
     "output_type": "display_data"
    }
   ],
   "source": [
    "# Evals\n",
    "import os\n",
    "import re\n",
    "\n",
    "from phoenix.evals import OpenAIModel, llm_generate\n",
    "from phoenix.trace import SpanEvaluations\n",
    "\n",
    "import nest_asyncio\n",
    "nest_asyncio.apply()\n",
    "\n",
    "eval_to_path = {\n",
    "    \"ParseRequest\": \"evaluators/parse_request_eval.txt\",\n",
    "    \"PlanToolCalls\": \"evaluators/plan_tool_calls_eval.txt\",\n",
    "    \"GenRecipeArgs\": \"evaluators/gen_recipe_args_eval.txt\",\n",
    "    \"GetRecipes\": \"evaluators/get_recipes_eval.txt\",\n",
    "    \"GenWebArgs\": \"evaluators/gen_web_args_eval.txt\",\n",
    "    \"GetWebInfo\": \"evaluators/get_web_info_eval.txt\",\n",
    "    \"ComposeResponse\": \"evaluators/compose_response_eval.txt\",\n",
    "}\n",
    "\n",
    "def load_spans(name: str) -> pd.DataFrame:\n",
    "    query = SpanQuery().where(f\"name == '{name}'\")\n",
    "    spans_df = px.Client().query_spans(query, project_name='recipe-agent-hw5')\n",
    "    print(f\"Successfully loaded {len(spans_df)} {name} spans from Phoenix\")\n",
    "    return spans_df\n",
    "\n",
    "annotated_spans = []\n",
    "\n",
    "def eval_spans(spans_df: pd.DataFrame, eval_prompt: str) -> pd.DataFrame:\n",
    "\n",
    "    def parser(response: str, row_index: int) -> dict:\n",
    "        \"\"\"Parser function for evaluate_output evaluator\"\"\"\n",
    "        label = r'\"label\":\\s*\"([^\"]*)\"'\n",
    "        explanation = r'\"explanation\":\\s*\"([^\"]*)\"'\n",
    "        label_match = re.search(label, response, re.IGNORECASE).group(1)\n",
    "        explanation_match = re.search(explanation, response, re.IGNORECASE).group(1)\n",
    "        return {\n",
    "            \"label\": label_match,\n",
    "            \"explanation\": explanation_match\n",
    "        }\n",
    "\n",
    "    eval_model = OpenAIModel(\n",
    "        model=\"gpt-4o\",\n",
    "        model_kwargs={\n",
    "            \"response_format\": {\"type\": \"json_object\"},\n",
    "            \"temperature\": 0\n",
    "        }\n",
    "    )\n",
    "\n",
    "    # Generate evaluations using llm_generate\n",
    "    failure_analysis = llm_generate(\n",
    "        dataframe=spans_df,\n",
    "        template=eval_prompt,\n",
    "        model=eval_model,\n",
    "        output_parser=parser,\n",
    "        concurrency=10,\n",
    "    )\n",
    "\n",
    "    failure_analysis[\"context.trace_id\"] = spans_df[\"context.trace_id\"]\n",
    "    failure_analysis[\"attributes.input.value\"] = spans_df[\"attributes.input.value\"]\n",
    "    failure_analysis[\"attributes.output.value\"] = spans_df[\"attributes.output.value\"]\n",
    "    annotated_spans.append(failure_analysis)\n",
    "\n",
    "    px.Client().log_evaluations(\n",
    "        SpanEvaluations(eval_name=\"Eval\", dataframe=failure_analysis)\n",
    "    )\n",
    "\n",
    "\n",
    "for eval_name, eval_path in eval_to_path.items():\n",
    "    spans_df = load_spans(eval_name)\n",
    "    eval_prompt = open(eval_path, \"r\").read()\n",
    "    eval_spans(spans_df, eval_prompt)"
   ]
  },
  {
   "cell_type": "markdown",
   "id": "d2e54406",
   "metadata": {},
   "source": [
    "## Attach Evals up to Root Trace\n",
    "\n",
    "This code propagates our evals back to the root trace, so each root trace contains information on whether the 7 individual states within passed or failed."
   ]
  },
  {
   "cell_type": "code",
   "execution_count": null,
   "id": "f3593523",
   "metadata": {},
   "outputs": [],
   "source": [
    "# Track which traces have already been processed to avoid duplicates\n",
    "traces = {}\n",
    "\n",
    "for idx, span_df in enumerate(annotated_spans):\n",
    "    failure_state_name = PIPELINE_STATES[idx]\n",
    "    for span in span_df.iterrows():\n",
    "        trace_id = span[1][\"context.trace_id\"]\n",
    "        trace_query = SpanQuery().where(f\"context.trace_id == '{trace_id}' and span_kind == 'AGENT'\")\n",
    "        trace_df = px.Client().query_spans(trace_query, project_name='recipe-agent-hw5')\n",
    "        trace_df[\"label\"] = [span[1][\"label\"]]\n",
    "        trace_df[\"explanation\"] = [span[1][\"explanation\"]]\n",
    "        px.Client().log_evaluations(\n",
    "            SpanEvaluations(eval_name=failure_state_name, dataframe=trace_df)\n",
    "        )\n",
    "        trace = trace_df.iloc[0]\n",
    "        del trace[\"label\"]\n",
    "        if trace_id not in traces:\n",
    "            traces[trace_id] = trace\n",
    "            traces[trace_id][failure_state_name] = span[1][\"label\"]\n",
    "            traces[trace_id][\"{failure_state_name}_explanation\"] = span[1][\"explanation\"]\n",
    "        else:\n",
    "            trace = traces[trace_id]\n",
    "            trace[failure_state_name] = span[1][\"label\"]\n",
    "            trace[\"{failure_state_name}_explanation\"] = span[1][\"explanation\"]"
   ]
  },
  {
   "cell_type": "code",
   "execution_count": 17,
   "id": "8244e53c",
   "metadata": {},
   "outputs": [
    {
     "data": {
      "image/png": "[encoded data removed]",
      "text/plain": [
       "<Figure size 800x600 with 1 Axes>"
      ]
     },
     "metadata": {},
     "output_type": "display_data"
    }
   ],
   "source": [
    "import pandas as pd\n",
    "import matplotlib.pyplot as plt\n",
    "\n",
    "# Convert traces dict to DataFrame\n",
    "df = pd.DataFrame.from_dict(traces, orient=\"index\")\n",
    "\n",
    "# Count failures for each state\n",
    "failure_counts = (df[PIPELINE_STATES] == \"fail\").sum()\n",
    "\n",
    "all_pass_count = (df[PIPELINE_STATES] != \"fail\").all(axis=1).sum()\n",
    "failure_counts[\"all_pass\"] = all_pass_count\n",
    "\n",
    "# Plot\n",
    "plt.figure(figsize=(8, 6))\n",
    "failure_counts.plot(kind=\"bar\")\n",
    "\n",
    "plt.title(\"Distribution of Failures per Pipeline State\")\n",
    "plt.xlabel(\"Pipeline State\")\n",
    "plt.ylabel(\"Number of Failures\")\n",
    "plt.xticks(rotation=45)\n",
    "plt.tight_layout()\n",
    "plt.show()\n"
   ]
  },
  {
   "cell_type": "markdown",
   "id": "9e0916da",
   "metadata": {},
   "source": [
    "### Analysis of System Reliability and Failure Distribution\n",
    "\n",
    "1. **Overall Reliability**\n",
    "   Out of approximately 100 traces, about **one-third (32–33)** completed successfully without any failures. The remaining **two-thirds experienced at least one failure** along the pipeline. This indicates that while the system is not universally fragile, it is also not yet stable enough for production use.\n",
    "\n",
    "2. **Where Failures Occur**\n",
    "   Failures are not evenly distributed across the pipeline — instead, they cluster around a few key stages:\n",
    "\n",
    "* **GetWebInfo (33 failures):** The largest single source of errors, suggesting issues with external dependencies such as API reliability, query quality, or rate limits.\n",
    "* **ParseRequest (18) and PlanToolCalls (17):** Together these account for 35 failures, making input interpretation and tool planning the second biggest weakness.\n",
    "* **GenRecipeArgs, GetRecipes, GenWebArgs (8–11 each):** Moderate failure levels, likely reflecting occasional misalignments when constructing arguments or retrieving results.\n",
    "* **ComposeResponse (1):** Very low failure rate, showing the model can reliably synthesize answers when given valid inputs. Errors here are likely side effects of upstream problems.\n",
    "\n",
    "3. **Key Insights**\n",
    "   The system demonstrates a **bimodal pattern**:\n",
    "\n",
    "* Either a trace runs flawlessly end-to-end,\n",
    "* Or it fails in predictable spots (primarily GetWebInfo, ParseRequest, or PlanToolCalls).\n",
    "\n",
    "This clustering of root causes means that **targeted improvements in just a few stages** could significantly increase the overall success rate and bring the pipeline closer to production stability."
   ]
  },
  {
   "cell_type": "markdown",
   "id": "9836bafd",
   "metadata": {},
   "source": [
    "## Completing the Feedback Loop\n",
    "\n",
    "Evals are powerful because they don't only tell us where stuff went wrong, but WHY it did. This information is stored in the eval explanations. \n",
    "\n",
    "You can use the eval explanations to generate feedback for improvement strategies for your application, using LLMs!\n",
    "\n",
    "![feedback loop](https://storage.googleapis.com/arize-phoenix-assets/assets/images/Screenshot%202025-08-19%20at%208.38.11%E2%80%AFPM.png)"
   ]
  },
  {
   "cell_type": "code",
   "execution_count": 30,
   "id": "3e5714d9",
   "metadata": {},
   "outputs": [],
   "source": [
    "GetWebInfo_code = \"\"\"\n",
    "def gen_web_args(recipes: str, failure: int) -> str:\n",
    "    '''Simulate GenWebArgs state - LLM constructs arguments for web search.'''\n",
    "    if failure != 5:\n",
    "        prompt = '''\n",
    "        Generate web_search arguments to find cooking tips based on these recipes.\n",
    "\n",
    "        Recipes: {{recipes}}\n",
    "\n",
    "        Return just the query, which is a string containing a web search query for additional information, cooking tips, special ingredients, etc. \n",
    "        '''\n",
    "    response = chat_completion([{\"role\": \"user\", \"content\": prompt}])\n",
    "\n",
    "@tracer.tool(name=\"GetWebInfo\", description=\"Search the web for recipe information and tips\")\n",
    "def get_web_info(search_query: str, failure: int) -> str:\n",
    "    '''GetWebInfo state - Executes Tavily web search for recipe information.'''\n",
    "    \n",
    "    # Initialize Tavily client\n",
    "    tavily_client = TavilyClient(api_key=os.getenv(\"TAVILY_API_KEY\"))\n",
    "    \n",
    "    if failure != 6:\n",
    "        # Normal search for recipe information\n",
    "        response = tavily_client.search(search_query)\n",
    "        return json.dumps(response)\n",
    "    else:\n",
    "        # Search for off-topic information for testing\n",
    "        off_topic_query = \"unrelated topic information\"\n",
    "        response = tavily_client.search(off_topic_query)\n",
    "        return json.dumps(response)\n",
    "\n",
    "\"\"\""
   ]
  },
  {
   "cell_type": "code",
   "execution_count": 24,
   "id": "3e4f73ef",
   "metadata": {},
   "outputs": [],
   "source": [
    "from openai import OpenAI\n",
    "import json\n",
    "\n",
    "PROMPT = \"\"\"You are auditing failures for the state: {failure_state_name}.\n",
    "\n",
    "You will receive many short “explanations” describing material defects detected by an evaluator. Your tasks:\n",
    "1) Synthesize recurring failure patterns.\n",
    "2) Propose concrete, testable fixes that reduce these failures at the source state.\n",
    "3) Provide code for unit tests that should fail now and pass after the fixes.\n",
    "\n",
    "Inputs, Outputs, Labels, and Explanations:\n",
    "\"\"\"\n",
    "\n",
    "per_class_prompts = {}\n",
    "\n",
    "for idx, span_df in enumerate(annotated_spans):\n",
    "    failure_state_name = PIPELINE_STATES[idx]\n",
    "    df = span_df.reset_index(drop=True).fillna(\"\")\n",
    "\n",
    "    cases = []\n",
    "    for i in range(len(df)):\n",
    "        r = df.iloc[i]\n",
    "        cases.append(\n",
    "            f\"Case {i+1}:\\n\"\n",
    "            f\"  Label: {r['label']}\\n\"\n",
    "            f\"  Explanation: {r['explanation']}\\n\"\n",
    "            f\"  Input: {r['attributes.input.value']}\\n\"\n",
    "            f\"  Output: {r['attributes.output.value']}\"\n",
    "        )\n",
    "\n",
    "    prompt = (\n",
    "        PROMPT.format(failure_state_name=failure_state_name)\n",
    "        + \"\\n\"\n",
    "        + \"\\n\\n\".join(cases)\n",
    "    )\n",
    "    per_class_prompts[failure_state_name] = prompt\n",
    "\n",
    "\n"
   ]
  },
  {
   "cell_type": "code",
   "execution_count": 31,
   "id": "93e4fd4b",
   "metadata": {},
   "outputs": [
    {
     "data": {
      "text/markdown": [
       "### Failure Patterns\n",
       "\n",
       "1. **Missing Topics**: Frequently, certain components such as specific ingredients or techniques crucial to the query are absent in the results. This leads to incomplete or irrelevant responses.\n",
       "2. **Off-topic Results**: In cases where the query results are entirely unrelated (off-topic), the context is not aligned with the query at all, indicating a mismatch.\n",
       "3. **Lack of Depth**: Results often lack comprehensive coverage of necessary cooking tips, ingredient substitutions, or preparation techniques.\n",
       "4. **Misalignment**: Responses often fail to address the full scope of the query, especially when queries involve multiple components or need specialized information.\n",
       "\n",
       "### Proposed Fixes\n",
       "\n",
       "1. **Query Refinement**: Improve search query generation by using terms explicitly mentioned in the input and applying a context-aware refinement to prioritize core topics.\n",
       "2. **Focused Crawling**: Prioritize websites known for recipe and cooking tips to ensure more relevant and complete information is retrieved.\n",
       "3. **Result Filtering**: Implement a more robust relevance filter to exclude off-topic results and information that lacks depth.\n",
       "4. **AI Adjustment**: Adjust AI parameters to better understand context and specificity in generating queries, ensuring they align more closely with user intent.\n",
       "\n",
       "### Unit Tests\n",
       "\n",
       "Below are unit test cases designed to validate the effectiveness of these improvements. After implementing the proposed changes, these tests should pass without failure.\n",
       "\n",
       "```python\n",
       "import unittest\n",
       "\n",
       "class TestWebInfoRetrieval(unittest.TestCase):\n",
       "\n",
       "    def test_full_scope_coverage(self):\n",
       "        # Confirm retrieval covers all query components\n",
       "        query = \"\\\"cooking tips for quinoa salad with roasted vegetables, creamy pasta alfredo, stuffed bell peppers\\\"\"\n",
       "        output = get_web_info(query, failure=0)  # Mimicking a successful retrieval\n",
       "        self.assertIn(\"quinoa salad\", output)\n",
       "        self.assertIn(\"creamy pasta alfredo\", output)\n",
       "        self.assertIn(\"stuffed bell peppers\", output)\n",
       "\n",
       "    def test_topic_alignment(self):\n",
       "        # Ensure off-topic results are excluded\n",
       "        query = \"\\\"cooking tips for banana oatmeal pancakes, overnight chia oatmeal, savory oatmeal with spinach and egg\\\"\"\n",
       "        output = get_web_info(query, failure=5)  # Mimicking an off-topic retrieval\n",
       "        self.assertNotIn(\"unrelated topic\", output)\n",
       "\n",
       "    def test_completeness_of_results(self):\n",
       "        # Validate that essential components are present\n",
       "        query = \"\\\"cooking tips for Chocolate Lava Cake Chocolate Mousse Chocolate Chip Cookies\\\"\"\n",
       "        output = get_web_info(query, failure=3)\n",
       "        self.assertIn(\"Chocolate Lava Cake\", output)\n",
       "        self.assertIn(\"Chocolate Mousse\", output)\n",
       "        self.assertIn(\"Chocolate Chip Cookies\", output)\n",
       "\n",
       "    def test_filter_for_relevance(self):\n",
       "        # Confirm irrelevant data does not appear\n",
       "        query = \"\\\"best hiking trails\\\"\"\n",
       "        output = get_web_info(query, failure=2)\n",
       "        self.assertIn(\"hiking trails\", output)\n",
       "        self.assertNotIn(\"unrelated topic information\", output)\n",
       "        \n",
       "if __name__ == '__main__':\n",
       "    unittest.main()\n",
       "```\n",
       "\n",
       "These tests ensure that:\n",
       "- All relevant topics are covered in the results.\n",
       "- Off-topic results are successfully filtered out.\n",
       "- Each query component is comprehensively addressed.\n",
       "- Context alignment and specificity in results are maintained."
      ],
      "text/plain": [
       "<IPython.core.display.Markdown object>"
      ]
     },
     "metadata": {},
     "output_type": "display_data"
    }
   ],
   "source": [
    "from IPython.display import Markdown, display\n",
    "\n",
    "\n",
    "label = \"GetWebInfo\"\n",
    "prompt = per_class_prompts[label]\n",
    "prompt += f\"code for {label}: {GetWebInfo_code}\"\n",
    "\n",
    "openai_client = OpenAI(api_key=os.getenv(\"OPENAI_API_KEY\"))\n",
    "response = openai_client.responses.create(\n",
    "    model=\"gpt-4o\",\n",
    "    input=prompt,\n",
    ")\n",
    "\n",
    "display(Markdown(response.output_text))"
   ]
  }
 ],
 "metadata": {
  "kernelspec": {
   "display_name": "hw5",
   "language": "python",
   "name": "python3"
  },
  "language_info": {
   "codemirror_mode": {
    "name": "ipython",
    "version": 3
   },
   "file_extension": ".py",
   "mimetype": "text/x-python",
   "name": "python",
   "nbconvert_exporter": "python",
   "pygments_lexer": "ipython3",
   "version": "3.12.11"
  }
 },
 "nbformat": 4,
 "nbformat_minor": 5
}
