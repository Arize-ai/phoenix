{
 "cells": [
  {
   "cell_type": "markdown",
   "id": "990f673b",
   "metadata": {},
   "source": [
    "# HW4: Recipe RAG — BM25, Synthetic Queries, Phoenix\n",
    "\n",
    "\n",
    "<center>\n",
    "    <p style=\"text-align:left\">\n",
    "        <img alt=\"phoenix logo\" src=\"https://repository-images.githubusercontent.com/564072810/f3666cdf-cb3e-4056-8a25-27cb3e6b5848\" width=\"600\"/>\n",
    "        <br>\n",
    "        <a href=\"https://arize.com/docs/phoenix/\">Docs</a>\n",
    "        |\n",
    "        <a href=\"https://github.com/Arize-ai/phoenix\">GitHub</a>\n",
    "        |\n",
    "        <a href=\"https://arize-ai.slack.com/join/shared_invite/zt-2w57bhem8-hq24MB6u7yE_ZF_ilOYSBw#/shared-invite/email\">Community</a>\n",
    "    </p>\n",
    "</center>\n",
    "\n",
    "## 🎯 Assignment Overview\n",
    "In this assignment, you’ll build and evaluate a BM25-based RAG system for recipes, generate synthetic user queries with llm_generate, and trace everything in Phoenix for visibility and analysis.\n",
    "\n",
    "#### Workflow\n",
    "- 🧰 Setup — Install deps, set env vars, and import libs.\n",
    "\n",
    "- 📥 Load & structure data — Read RAW_recipes.csv, normalize fields (title, ingredients, steps, raw text).\n",
    "\n",
    "- 🔤 Tokenize & index — Use a number-preserving tokenizer (keeps 375 F, 9x13) and build/load a BM25 index.\n",
    "\n",
    "- 🧪 Generate synthetic queries — Use llm_generate to create realistic, technical cooking questions (+ validation & dedupe).\n",
    "\n",
    "- ☁️ Upload dataset to Phoenix — Map to input (query) and output (salient_fact) and upload as a Phoenix Dataset.\n",
    "\n",
    "- 🔎 Run retriever with tracing — For each query, call retrieve_bm25() (decorated) to emit rag.query → retrieval.bm25 spans.\n",
    "\n",
    "- 🧪 Experiments — Run a Phoenix Experiment (Recall@1/3/5, MRR) and compare runs.\n",
    "\n",
    "- 💾 Save results — Persist per-query outputs & summary to JSON for offline review.\n",
    "\n",
    "- 📊 Inspect in Phoenix — View spans, top-k documents, evaluation chips, and experiment summaries.\n",
    "\n",
    "#### Core Task: “Can the retriever surface the correct recipe?”\n",
    "You’ll evaluate whether the ground-truth recipe (the one that the synthetic question depends on) appears in the top-k results—especially top-1/3/5."
   ]
  },
  {
   "cell_type": "markdown",
   "id": "98c009a9",
   "metadata": {},
   "source": [
    "## Environment & Imports\n",
    "_Install deps (if needed), configure environment variables, and import libraries. Keep this section idempotent so re-running the notebook is safe._"
   ]
  },
  {
   "cell_type": "code",
   "execution_count": 3,
   "id": "852cf7a9",
   "metadata": {},
   "outputs": [
    {
     "name": "stdout",
     "output_type": "stream",
     "text": [
      "Note: you may need to restart the kernel to use updated packages.\n"
     ]
    }
   ],
   "source": [
    "%pip install -qqqq 'arize-phoenix==11.21.0' rank-bm25 tqdm litellm python-dotenv kagglehub openinference-instrumentation-litellm"
   ]
  },
  {
   "cell_type": "code",
   "execution_count": 46,
   "id": "379551e7",
   "metadata": {},
   "outputs": [],
   "source": [
    "import ast\n",
    "import functools\n",
    "import json\n",
    "import math\n",
    "import os\n",
    "import pickle\n",
    "import random\n",
    "import re\n",
    "import string\n",
    "import time\n",
    "from contextlib import contextmanager, nullcontext\n",
    "from getpass import getpass\n",
    "from pathlib import Path\n",
    "from time import perf_counter\n",
    "from typing import Any, Dict, List, Optional, Union\n",
    "\n",
    "import kagglehub\n",
    "import nest_asyncio\n",
    "import pandas as pd\n",
    "from kagglehub import KaggleDatasetAdapter\n",
    "from openinference.semconv.trace import OpenInferenceSpanKindValues, SpanAttributes\n",
    "from rank_bm25 import BM25Okapi\n",
    "from tqdm import tqdm\n",
    "\n",
    "import phoenix as px\n",
    "from phoenix.evals import OpenAIModel, RelevanceEvaluator, llm_generate, run_evals\n",
    "from phoenix.experiments import run_experiment\n",
    "from phoenix.experiments.types import Example\n",
    "from phoenix.otel import register\n",
    "from phoenix.session.evaluation import get_retrieved_documents\n",
    "from phoenix.trace import DocumentEvaluations\n",
    "\n",
    "file_path = \"hw4/RAW_recipes.csv\"\n",
    "KAGGLE_DATASET = \"shuyangli94/food-com-recipes-and-user-interactions\"\n",
    "KAGGLE_FILE = \"RAW_recipes.csv\"\n",
    "LOCAL_RAW_CSV = \"hw4/data/RAW_recipes.csv\"\n",
    "OUTPUT_JSON = \"hw4/data/processed_recipes.json\"\n",
    "DEFAULT_INDEX_PATH = \"hw4/data/bm25_index.pkl\"\n",
    "PHOENIX_API_KEY = os.getenv(\"PHOENIX_API_KEY\")\n",
    "PHOENIX_ENDPOINT = os.getenv(\"PHOENIX_COLLECTOR_ENDPOINT\")\n",
    "tracer = None\n",
    "TEXT_FIELD = \"raw_text\"\n",
    "TITLE_FIELD = \"title\"\n",
    "ID_FIELD = \"id\"\n",
    "TOP_N = 200\n",
    "\n",
    "QUERY_MODEL = \"gpt-3.5-turbo-0125\"\n",
    "NUM_QUERIES = 100\n",
    "BATCH_SIZE = 3\n",
    "MAX_WORKERS = 5\n",
    "SEED = 42\n",
    "TIMEOUT_S = 60\n",
    "SYN_QUERY_PATH = \"hw4/data/synthetic_queries.json\"\n",
    "EVAL_RESULTS_PATH = \"hw4/results/retrieval_evaluation.json\"\n",
    "\n",
    "random.seed(SEED)"
   ]
  },
  {
   "cell_type": "code",
   "execution_count": null,
   "id": "2e7bf2bd",
   "metadata": {},
   "outputs": [],
   "source": [
    "_JSON_RE = re.compile(r\"\\{.*\\}\", re.S)\n",
    "_WORD_RE = re.compile(r\"[a-zA-Z]+\")\n",
    "_TECH = re.compile(\n",
    "    r\"\\b\\d[\\d/\\.\\s]*(?:sec|second|min|minute|hour|hr|°[CF]|deg(?:rees)?\\s*[CF]|tsp|tbsp|cup|cups|g|gram|ml|°)\\b\",\n",
    "    re.I,\n",
    ")\n",
    "_TOKEN_RE = re.compile(\n",
    "    r\"\\d+\\s*[x×]\\s*\\d+\"\n",
    "    r\"|(?:\\d+/?\\d+)\"\n",
    "    r\"|(?:\\d+(?:\\.\\d+)?)\"\n",
    "    r\"|(?:°[fc])\"\n",
    "    r\"|[a-z]+\"\n",
    ")\n",
    "\n",
    "\n",
    "def tokenize(text: str) -> list[str]:\n",
    "    s = (text or \"\").lower()\n",
    "    s = s.replace(\"degrees f\", \"°f\").replace(\"degree f\", \"°f\")\n",
    "    s = s.replace(\"degrees c\", \"°c\").replace(\"degree c\", \"°c\")\n",
    "    s = s.replace(\"mins\", \"min\").replace(\"minutes\", \"min\")\n",
    "    s = s.replace(\"hours\", \"hr\").replace(\"hrs\", \"hr\")\n",
    "    return _TOKEN_RE.findall(s)\n",
    "\n",
    "\n",
    "def _to_text(x) -> str:\n",
    "    if isinstance(x, str):\n",
    "        return x\n",
    "    if x is None:\n",
    "        return \"\"\n",
    "    if isinstance(x, float) and math.isnan(x):\n",
    "        return \"\"\n",
    "    return str(x)\n",
    "\n",
    "\n",
    "def _jsonish(v):\n",
    "    if isinstance(v, str):\n",
    "        t = v.strip()\n",
    "        if t and (t[0] + t[-1] in (\"{}\", \"[]\")):\n",
    "            try:\n",
    "                return json.loads(t)\n",
    "            except Exception:\n",
    "                pass\n",
    "    return v\n",
    "\n",
    "\n",
    "def _norm_id(x):\n",
    "    return \"\" if x is None else str(x)\n",
    "\n",
    "\n",
    "nest_asyncio.apply()"
   ]
  },
  {
   "cell_type": "markdown",
   "id": "e5f6e372",
   "metadata": {},
   "source": [
    "## Step 0: Setup Phoenix"
   ]
  },
  {
   "cell_type": "markdown",
   "id": "ff64a6da",
   "metadata": {},
   "source": [
    "First, let's set up Phoenix on our local machine. You should run these commands within your terminal in your chosen environment.\n",
    "\n",
    "(If you have already done this in a previous HW assignment, you are good to go.)\n",
    "\n",
    "**Boot up Phoenix on localhost**\n",
    "\n",
    "```phoenix serve```"
   ]
  },
  {
   "cell_type": "code",
   "execution_count": 6,
   "id": "f909c1e2",
   "metadata": {},
   "outputs": [],
   "source": [
    "def register_phoenix():\n",
    "    global tracer\n",
    "    if tracer:\n",
    "        return tracer\n",
    "    tracer_provider = register(project_name=\"hw4-rag\")\n",
    "    tracer = tracer_provider.get_tracer(__name__)\n",
    "    return tracer"
   ]
  },
  {
   "cell_type": "code",
   "execution_count": 11,
   "id": "2f709081",
   "metadata": {},
   "outputs": [
    {
     "name": "stdout",
     "output_type": "stream",
     "text": [
      "🔭 OpenTelemetry Tracing Details 🔭\n",
      "|  Phoenix Project: hw4-rag\n",
      "|  Span Processor: SimpleSpanProcessor\n",
      "|  Collector Endpoint: localhost:4317\n",
      "|  Transport: gRPC\n",
      "|  Transport Headers: {'user-agent': '****'}\n",
      "|  \n",
      "|  Using a default SpanProcessor. `add_span_processor` will overwrite this default.\n",
      "|  \n",
      "|  ⚠️ WARNING: It is strongly advised to use a BatchSpanProcessor in production environments.\n",
      "|  \n",
      "|  `register` has set this TracerProvider as the global OpenTelemetry default.\n",
      "|  To disable this behavior, call `register` with `set_global_tracer_provider=False`.\n",
      "\n"
     ]
    }
   ],
   "source": [
    "tracer = register_phoenix()"
   ]
  },
  {
   "cell_type": "markdown",
   "id": "de1e31fd",
   "metadata": {},
   "source": [
    "#### Set OpenAI API Key"
   ]
  },
  {
   "cell_type": "code",
   "execution_count": 7,
   "id": "555c3811",
   "metadata": {},
   "outputs": [],
   "source": [
    "if \"OPENAI_API_KEY\" not in os.environ:\n",
    "    os.environ[\"OPENAI_API_KEY\"] = getpass(\"🔑 Enter your OpenAI API key: \")"
   ]
  },
  {
   "cell_type": "markdown",
   "id": "606c3e5a",
   "metadata": {},
   "source": [
    "# Part 1: Create Your Retrieval Evaluation Dataset\n",
    "\n",
    "## Step1: Data Loading & Structuring\n",
    "_Load the recipe dataset, perform minimal cleaning, and structure the fields we care about (title, ingredients, steps, text). Avoid heavy processing here so experimentation is quick._\n",
    "- Load and clean the provided RAW_recipes.csv (~5,000 recipes)\n",
    "- Structure recipe data (ingredients, steps, tags, nutrition)\n",
    "- Select the ~200 longest recipes by text content for richer evaluation\n",
    "- Save as data/processed_recipes.json"
   ]
  },
  {
   "cell_type": "code",
   "execution_count": 8,
   "id": "482fa7f2",
   "metadata": {},
   "outputs": [],
   "source": [
    "def load_raw_recipes() -> pd.DataFrame:\n",
    "    \"\"\"\n",
    "    Try local CSV first. If missing, pull via kagglehub and also cache locally.\n",
    "    \"\"\"\n",
    "    if os.path.exists(LOCAL_RAW_CSV):\n",
    "        return pd.read_csv(LOCAL_RAW_CSV)\n",
    "    try:\n",
    "        df = kagglehub.load_dataset(\n",
    "            KaggleDatasetAdapter.PANDAS,\n",
    "            KAGGLE_DATASET,\n",
    "            KAGGLE_FILE,\n",
    "        )\n",
    "        Path(LOCAL_RAW_CSV).parent.mkdir(parents=True, exist_ok=True)\n",
    "        df.to_csv(LOCAL_RAW_CSV, index=False)\n",
    "        print(f\"✅ Saved raw CSV to {LOCAL_RAW_CSV}\")\n",
    "        return df\n",
    "    except ModuleNotFoundError as e:\n",
    "        raise RuntimeError(\n",
    "            \"kagglehub not installed and local CSV missing. \"\n",
    "            \"Run `pip install kagglehub[pandas-datasets]` or place the CSV locally.\"\n",
    "        ) from e"
   ]
  },
  {
   "cell_type": "code",
   "execution_count": 9,
   "id": "a121a0ab",
   "metadata": {},
   "outputs": [],
   "source": [
    "def clean_text(text):\n",
    "    if pd.isna(text):\n",
    "        return \"\"\n",
    "    return re.sub(r\"\\s+\", \" \", str(text).strip())\n",
    "\n",
    "\n",
    "def parse_list_column(val):\n",
    "    \"\"\"\n",
    "    Columns like ingredients/steps/tags are stored as Python lists (string form).\n",
    "    \"\"\"\n",
    "    if pd.isna(val):\n",
    "        return []\n",
    "    try:\n",
    "        parsed = ast.literal_eval(val)\n",
    "        return [clean_text(x) for x in parsed if isinstance(x, str)]\n",
    "    except Exception:\n",
    "        return []\n",
    "\n",
    "\n",
    "def parse_nutrition(val):\n",
    "    \"\"\"\n",
    "    nutrition is a list of floats in this dataset:\n",
    "    [calories, total fat %, sugar %, sodium %, protein %, sat fat %, carbs %]\n",
    "    \"\"\"\n",
    "    if pd.isna(val):\n",
    "        return {}\n",
    "    try:\n",
    "        parsed = ast.literal_eval(val)\n",
    "        if not isinstance(parsed, (list, tuple)):\n",
    "            return {}\n",
    "        keys = [\n",
    "            \"calories\",\n",
    "            \"total_fat\",\n",
    "            \"sugar\",\n",
    "            \"sodium\",\n",
    "            \"protein\",\n",
    "            \"saturated_fat\",\n",
    "            \"carbohydrates\",\n",
    "        ]\n",
    "        return {k: float(parsed[i]) if i < len(parsed) else None for i, k in enumerate(keys)}\n",
    "    except Exception:\n",
    "        return {}"
   ]
  },
  {
   "cell_type": "code",
   "execution_count": 10,
   "id": "c52bc36f",
   "metadata": {},
   "outputs": [],
   "source": [
    "def structure_recipe(row):\n",
    "    ingredients = parse_list_column(row.get(\"ingredients\"))\n",
    "    steps = parse_list_column(row.get(\"steps\") or row.get(\"directions\"))\n",
    "    tags = parse_list_column(row.get(\"tags\"))\n",
    "    nutrition = parse_nutrition(row.get(\"nutrition\"))\n",
    "    description = clean_text(row.get(\"description\"))\n",
    "    minutes = row.get(\"minutes\")\n",
    "    title = clean_text(row.get(\"name\") or row.get(\"title\") or \"\")\n",
    "\n",
    "    raw_text = (\n",
    "        f\"{title}\"\n",
    "        + \"\\nIngredients:\\n\"\n",
    "        + \"\\n\".join(ingredients)\n",
    "        + \"\\nSteps:\\n\"\n",
    "        + \"\\n\".join(steps)\n",
    "        + \"\\nTags:\\n\"\n",
    "        + \"\\n\".join(tags)\n",
    "    ).strip()\n",
    "\n",
    "    return {\n",
    "        \"id\": str(row.get(\"id\") or row.name),\n",
    "        \"title\": title,\n",
    "        \"description\": description,\n",
    "        \"minutes\": minutes,\n",
    "        \"ingredients\": ingredients,\n",
    "        \"steps\": steps,\n",
    "        \"tags\": tags,\n",
    "        \"nutrition\": nutrition,\n",
    "        \"raw_text\": raw_text,\n",
    "    }"
   ]
  },
  {
   "cell_type": "code",
   "execution_count": 12,
   "id": "a5bef777",
   "metadata": {},
   "outputs": [
    {
     "name": "stdout",
     "output_type": "stream",
     "text": [
      "Loading raw recipes...\n",
      "Structuring & cleaning...\n",
      "Selecting top recipes by text length...\n",
      "Saving 200 recipes to hw4/data/processed_recipes.json\n"
     ]
    }
   ],
   "source": [
    "print(\"Loading raw recipes...\")\n",
    "df = load_raw_recipes()\n",
    "\n",
    "print(\"Structuring & cleaning...\")\n",
    "structured = [structure_recipe(r) for _, r in df.iterrows()]\n",
    "\n",
    "print(\"Selecting top recipes by text length...\")\n",
    "for rec in structured:\n",
    "    rec[\"text_length\"] = len(rec[\"raw_text\"])\n",
    "top_recipes = sorted(structured, key=lambda x: x[\"text_length\"], reverse=True)[:TOP_N]\n",
    "\n",
    "print(f\"Saving {len(top_recipes)} recipes to {OUTPUT_JSON}\")\n",
    "Path(OUTPUT_JSON).parent.mkdir(parents=True, exist_ok=True)\n",
    "with open(OUTPUT_JSON, \"w\", encoding=\"utf-8\") as f:\n",
    "    json.dump(top_recipes, f, indent=2, ensure_ascii=False)"
   ]
  },
  {
   "cell_type": "markdown",
   "id": "ef228079",
   "metadata": {},
   "source": [
    "## Step 2: Build BM25 Retrieval Engine\n",
    "\n",
    "- Implement BM25-based recipe search using rank_bm25\n",
    "- Support index saving/loading for efficiency\n",
    "- Provide retrieve_bm25(query, corpus, top_n=5) interface\n",
    "- Handle recipe ranking and scoring"
   ]
  },
  {
   "cell_type": "code",
   "execution_count": 31,
   "id": "670448ee",
   "metadata": {},
   "outputs": [],
   "source": [
    "def build_bm25(tokenized_corpus: List[List[str]]) -> BM25Okapi:\n",
    "    return BM25Okapi(tokenized_corpus)"
   ]
  },
  {
   "cell_type": "code",
   "execution_count": 34,
   "id": "6e531434",
   "metadata": {},
   "outputs": [],
   "source": [
    "def build_or_load_bm25(corpus, index_path, text_field=TEXT_FIELD, force_rebuild=False):\n",
    "    if not force_rebuild and os.path.exists(index_path):\n",
    "        with open(index_path, \"rb\") as f:\n",
    "            data = pickle.load(f)\n",
    "        if data.get(\"corpus_size\") == len(corpus):\n",
    "            return data[\"bm25\"], data[\"tok_corpus\"]\n",
    "\n",
    "    tok_corpus = [tokenize(doc.get(text_field, \"\")) for doc in corpus]\n",
    "    bm25 = BM25Okapi(tok_corpus)\n",
    "    with open(index_path, \"wb\") as f:\n",
    "        pickle.dump(\n",
    "            {\"bm25\": bm25, \"tok_corpus\": tok_corpus, \"corpus_size\": len(corpus)},\n",
    "            f,\n",
    "        )\n",
    "    return bm25, tok_corpus"
   ]
  },
  {
   "cell_type": "code",
   "execution_count": 35,
   "id": "cbde56d4",
   "metadata": {},
   "outputs": [
    {
     "name": "stdout",
     "output_type": "stream",
     "text": [
      "Building BM25 index...\n"
     ]
    }
   ],
   "source": [
    "print(\"Building BM25 index...\")\n",
    "corpus = top_recipes\n",
    "bm25, tok = build_or_load_bm25(corpus, index_path=DEFAULT_INDEX_PATH)"
   ]
  },
  {
   "cell_type": "markdown",
   "id": "c75b845a",
   "metadata": {},
   "source": [
    "#### Span helpers: set kind + conditionally create spans\n",
    "Utility helpers for cleaner tracing:\n",
    "\n",
    "_set_kind(span, kind) safely sets the OpenInference span kind (defaults to CHAIN, falls back to CHAIN if an unknown kind is passed).\n",
    "\n",
    "span_if(enabled, name, *, attrs=None, kind=\"CHAIN\") is a context manager that only creates a span when enabled=True, sets its kind, applies optional attributes, and yields the span. Use it to toggle fine-grained spans without cluttering the code."
   ]
  },
  {
   "cell_type": "code",
   "execution_count": 19,
   "id": "08b5c924",
   "metadata": {},
   "outputs": [],
   "source": [
    "def _set_kind(span, kind: str = \"CHAIN\"):\n",
    "    span.set_attribute(\n",
    "        SpanAttributes.OPENINFERENCE_SPAN_KIND,\n",
    "        getattr(OpenInferenceSpanKindValues, kind.upper(), OpenInferenceSpanKindValues.CHAIN).value,\n",
    "    )\n",
    "\n",
    "\n",
    "@contextmanager\n",
    "def span_if(enabled: bool, name: str, *, attrs: Dict[str, Any] | None = None, kind: str = \"CHAIN\"):\n",
    "    if not enabled:\n",
    "        yield None\n",
    "        return\n",
    "    with tracer.start_as_current_span(name) as s:\n",
    "        _set_kind(s, kind)\n",
    "        if attrs:\n",
    "            for k, v in attrs.items():\n",
    "                s.set_attribute(k, v)\n",
    "        yield s"
   ]
  },
  {
   "cell_type": "markdown",
   "id": "d70f2b25",
   "metadata": {},
   "source": [
    "#### BM25 retriever with tracing\n",
    "@retriever(\"retrieval.bm25\") emits a RETRIEVER span and logs each top-k doc (id, score, short content, metadata) for Phoenix.\n",
    "\n",
    "retrieve_bm25(..., emit_detail_spans=False) runs BM25 and, if enabled, adds tiny child spans (query.normalize → query.tokenize → bm25.score/bm25.rank → results.build).\n",
    "\n",
    "Returns ranked hits with useful metadata (matched terms, doc length, etc.)."
   ]
  },
  {
   "cell_type": "code",
   "execution_count": 20,
   "id": "516737ce",
   "metadata": {},
   "outputs": [],
   "source": [
    "def retriever(name: str = \"retrieval.bm25\"):\n",
    "    def outer(fn):\n",
    "        @functools.wraps(fn)\n",
    "        def inner(*a, **kw):\n",
    "            q = kw.get(\"query\", a[0] if a else None)\n",
    "            with tracer.start_as_current_span(name) as s:\n",
    "                s.set_attribute(\n",
    "                    SpanAttributes.OPENINFERENCE_SPAN_KIND,\n",
    "                    OpenInferenceSpanKindValues.RETRIEVER.value,\n",
    "                )\n",
    "                if q is not None:\n",
    "                    s.set_attribute(SpanAttributes.INPUT_VALUE, str(q))\n",
    "                res = fn(*a, **kw)\n",
    "                for i, r in enumerate(res):\n",
    "                    base = f\"retrieval.documents.{i}.document\"\n",
    "                    s.set_attribute(f\"{base}.id\", str(r.get(\"id\")))\n",
    "                    sc = r.get(\"score\")\n",
    "                    if sc is not None:\n",
    "                        s.set_attribute(f\"{base}.score\", float(sc))\n",
    "                    s.set_attribute(\n",
    "                        f\"{base}.content\", (r.get(\"text\", \"\") or \"\")[:1200].replace(\"\\n\", \" \")\n",
    "                    )\n",
    "                    meta = r.get(\"metadata\")\n",
    "                    if meta:\n",
    "                        s.set_attribute(\n",
    "                            f\"{base}.metadata\",\n",
    "                            json.dumps(meta, ensure_ascii=False, separators=(\",\", \":\")),\n",
    "                        )\n",
    "                return res\n",
    "\n",
    "        return inner\n",
    "\n",
    "    return outer\n",
    "\n",
    "\n",
    "@retriever(\"retrieval.bm25\")\n",
    "def retrieve_bm25(\n",
    "    query: str,\n",
    "    corpus: List[Dict[str, Any]],\n",
    "    bm25: BM25Okapi,\n",
    "    tokenized_corpus: List[List[str]],\n",
    "    top_n: int = 5,\n",
    "    text_field: str = TEXT_FIELD,\n",
    "    title_field: str = TITLE_FIELD,\n",
    "    id_field: str = ID_FIELD,\n",
    "    *,\n",
    "    emit_detail_spans: bool = False,\n",
    ") -> List[Dict[str, Any]]:\n",
    "    q_raw = _to_text(query)\n",
    "    with span_if(emit_detail_spans, \"query.normalize\", attrs={\"query.len\": len(q_raw)}):\n",
    "        q_norm = q_raw.strip()\n",
    "\n",
    "    with span_if(emit_detail_spans, \"query.tokenize\"):\n",
    "        qtok = tokenize(q_norm)\n",
    "\n",
    "    with span_if(\n",
    "        emit_detail_spans,\n",
    "        \"bm25.score\",\n",
    "        attrs={\"tokens\": len(qtok), \"N_docs\": len(tokenized_corpus)},\n",
    "    ):\n",
    "        scores = bm25.get_scores(qtok)\n",
    "\n",
    "    with span_if(emit_detail_spans, \"bm25.rank\", attrs={\"k\": int(top_n)}):\n",
    "        top = sorted(range(len(scores)), key=scores.__getitem__, reverse=True)[:top_n]\n",
    "\n",
    "    out: List[Dict[str, Any]] = []\n",
    "    with span_if(emit_detail_spans, \"results.build\", attrs={\"k\": int(top_n)}):\n",
    "        for rank, idx in enumerate(top, 1):\n",
    "            d = corpus[idx]\n",
    "            dt = tokenized_corpus[idx]\n",
    "            out.append(\n",
    "                {\n",
    "                    \"rank\": rank,\n",
    "                    \"score\": float(scores[idx]),\n",
    "                    \"id\": d.get(id_field),\n",
    "                    \"title\": d.get(title_field, \"\"),\n",
    "                    \"text\": d.get(text_field, \"\"),\n",
    "                    \"index\": idx,\n",
    "                    \"metadata\": {\n",
    "                        **{k: _jsonish(v) for k, v in d.items() if k != text_field},\n",
    "                        \"rank\": rank,\n",
    "                        \"bm25_score\": float(scores[idx]),\n",
    "                        \"matched_terms\": sorted(set(qtok) & set(dt)),\n",
    "                        \"doc_len_terms\": len(dt),\n",
    "                    },\n",
    "                }\n",
    "            )\n",
    "    return out"
   ]
  },
  {
   "cell_type": "code",
   "execution_count": 21,
   "id": "d002dc59",
   "metadata": {},
   "outputs": [
    {
     "name": "stdout",
     "output_type": "stream",
     "text": [
      "[{'rank': 1, 'score': 10.686793903359838, 'id': '537671', 'title': 'nutcracker peppermint red velvet cake pops', 'text': 'nutcracker peppermint red velvet cake pops\\nIngredients:\\ndevil\\'s food cake mix\\neggs\\nbuttermilk\\nred food coloring\\npeppermint candies\\nred candy melts\\npeppermint oil\\nfondant\\nfood coloring\\ncandy sprinkles\\nicing\\nwhite frosting\\nSteps:\\nbefore you begin , you will need to gather the following tools: nonstick baking spray , silicone popsicle mold , toothpicks , butter knife or fondant tools , wax paper , thin black food safe marker , food safe brushes , 2 piping bags , small round piping\\nif you\\'d like to make the white icing from scratch please see the buttercream recipe with my mermaid cake pops\\nto make the cake pops , preheat the oven to 350&deg\\nf spray your silicone molds generously with nonstick baking spray , and place them on a baking sheet\\nin a large mixing bowl add the cake mix , eggs , buttermilk , and red food coloring , and whisk together for 2 minutes\\nfold in the crushed peppermint candy\\ntransfer the batter to either a piping bag or large zip top bag , and cut a small corner off\\npipe the batter into each popsicle mold filling a little less than halfway , then insert the sticks\\nbake for 12- 15 minutes or until a toothpick inserted in the center comes out clean\\nallow the cakes to cool for 15 minutes in the mold before gently removing and transferring to a cooling rack to cool completely\\nmelt 1 bag of red candy melts at a time in a small heatproof jar\\nstart with heating them for 1 minute , in the microwave , at 50% power , and then decrease the time to 30 second intervals , at 50% power , stirring between each interval until the melts are smooth\\nif they are still lumpy after completely melting you can stir in either paramount crystals or vegetable oil 1 teaspoon at a time until you reach a smooth consistency\\nstir in 1 / 8 teaspoon peppermint candy oil\\ncarefully dip each cake pop into the candy shell allowing the excess to drip off , before placing them on a piece of wax paper to set\\ni like to dip each cake pop twice for an even and smooth coating\\ntime to turn them into nutcrackers ! roll your different shades of fondant out to 1 / 8 inch thick\\nuse either a fondant tool or butter knife to cut a rectangle out of the fondant so that it\\'ll cover about half of the cake pop\\nsmooth it over the top half of your cake pop , using a little water , if needed , to help it to stick\\nrepeat with the rest of the skin tones and cake pops\\nto make the decorations simpler i am breaking them up into as many little steps as possible , starting with the helmets\\nuse a toothpick as a guide to section off the rounded top of the fondant covered pop for the top of the helmut , and paint it with the edible gold paint\\nroll out the rest of the light fondant , and cut an oval shape , almost like an eye with the pointed corners , for the front of each helmet\\nattach below the section you just painted\\npaint this piece gold as well\\nattach 3 of the gold dragees while the paint is still tacky - 1 to the top middle of the front you just attached , and 1 on either side where the front of the helmet meets the side of the cake pop\\nroll a tiny ball of the black fondant between your fingers to form a small log\\nplace it down on wax paper , and use 2 fingers to carefully squeeze the sides in to form the shape of the tassels for the tops of the hats\\nattach to the top of every helmet\\nattach a small round piping\\nyou can add sideways \"v\" designs on either side of the sprinkle in the middle to complete the helmets\\nnext , i like to use a toothpick to carefully outline the sleeves as well as the design in the middle of each jacket\\nmy jacket and helmet designs were inspired by the nutcracker\\'s costume in the nutcracker and the four realms , please see my images for guidance on replicating the look , or feel free to create your own design\\nnow for my favorite part of all , the hair ! fit your second piping bag with the open star\\nbeginning on either side of the rim of the hat , pipe and release 2-3 lines of frosting to look like the hair coming out from under the helmet\\nthen , pipe and swirl the frosting to create the curls , repeat on both sides of the face\\nuse the black decorating icing and small round\\ni like to change the faces for each cake pop to give them a bit more personality\\nyou can add tiny highlights to any of the open eyes with the white frosting\\nfor the nutcrackers with only a mustache i added noses and mouths , but i skipped this step if i was going to give them beards\\nadd mustaches to all of the characters by beginning right below the nose and piping one side of the mustache , then the other , with the white frosting\\nwait until the jackets are complete to add the beards\\nyou can also use the pink decorating icing , and a small round piping\\npaint the design in the middle of the jacket\\nthen use the black decorating icing to pipe around it , as well as to pipe the outline for each sleeve\\npipe the sleeve designs as i did , or get creative with your own\\nwait at least 15 minutes for the black icing to set a little before using a thin brush to paint the gold over it\\nadd 2 gold dragees for buttons\\nadd the hands to each nutcracker using the same skin tone fondant as you did for the top of the cake pop\\njust roll 2 little balls of the fondant and use a little water to attach them at the bottom of each sleeve\\nnow is the time to add your beards if you\\'d like\\ni created the cute nutcracker teeth using a little white fondant shaped like a semi circle , and i drew the teeth with the food marker before adding the mouth just below the mustache\\nfor a fancy final touch i piped a little more of the white frosting across the bottom of each cake pop and sprinkled them with extra crushed peppermint\\nnow you have an army of cute nutcrackers all dressed up and ready to attend any holiday party !\\nTags:\\ntime-to-make\\ncourse\\npreparation\\noccasion\\nfor-large-groups\\ndesserts\\nholiday-event\\nwinter\\ncakes\\nchristmas\\nseasonal\\ntaste-mood\\nsweet\\nnumber-of-servings\\n4-hours-or-less', 'index': 23, 'metadata': {'id': '537671', 'title': 'nutcracker peppermint red velvet cake pops', 'description': 'rich red velvet cake combines with cool peppermint to create a delightfully festive flavor that’s perfect for the holiday season! edible gold paint and frosting help to turn this treat into the cutest nutcrackers inspired by disney’s new movie.', 'minutes': 135, 'ingredients': [\"devil's food cake mix\", 'eggs', 'buttermilk', 'red food coloring', 'peppermint candies', 'red candy melts', 'peppermint oil', 'fondant', 'food coloring', 'candy sprinkles', 'icing', 'white frosting'], 'steps': ['before you begin , you will need to gather the following tools: nonstick baking spray , silicone popsicle mold , toothpicks , butter knife or fondant tools , wax paper , thin black food safe marker , food safe brushes , 2 piping bags , small round piping', \"if you'd like to make the white icing from scratch please see the buttercream recipe with my mermaid cake pops\", 'to make the cake pops , preheat the oven to 350&deg', 'f spray your silicone molds generously with nonstick baking spray , and place them on a baking sheet', 'in a large mixing bowl add the cake mix , eggs , buttermilk , and red food coloring , and whisk together for 2 minutes', 'fold in the crushed peppermint candy', 'transfer the batter to either a piping bag or large zip top bag , and cut a small corner off', 'pipe the batter into each popsicle mold filling a little less than halfway , then insert the sticks', 'bake for 12- 15 minutes or until a toothpick inserted in the center comes out clean', 'allow the cakes to cool for 15 minutes in the mold before gently removing and transferring to a cooling rack to cool completely', 'melt 1 bag of red candy melts at a time in a small heatproof jar', 'start with heating them for 1 minute , in the microwave , at 50% power , and then decrease the time to 30 second intervals , at 50% power , stirring between each interval until the melts are smooth', 'if they are still lumpy after completely melting you can stir in either paramount crystals or vegetable oil 1 teaspoon at a time until you reach a smooth consistency', 'stir in 1 / 8 teaspoon peppermint candy oil', 'carefully dip each cake pop into the candy shell allowing the excess to drip off , before placing them on a piece of wax paper to set', 'i like to dip each cake pop twice for an even and smooth coating', 'time to turn them into nutcrackers ! roll your different shades of fondant out to 1 / 8 inch thick', \"use either a fondant tool or butter knife to cut a rectangle out of the fondant so that it'll cover about half of the cake pop\", 'smooth it over the top half of your cake pop , using a little water , if needed , to help it to stick', 'repeat with the rest of the skin tones and cake pops', 'to make the decorations simpler i am breaking them up into as many little steps as possible , starting with the helmets', 'use a toothpick as a guide to section off the rounded top of the fondant covered pop for the top of the helmut , and paint it with the edible gold paint', 'roll out the rest of the light fondant , and cut an oval shape , almost like an eye with the pointed corners , for the front of each helmet', 'attach below the section you just painted', 'paint this piece gold as well', 'attach 3 of the gold dragees while the paint is still tacky - 1 to the top middle of the front you just attached , and 1 on either side where the front of the helmet meets the side of the cake pop', 'roll a tiny ball of the black fondant between your fingers to form a small log', 'place it down on wax paper , and use 2 fingers to carefully squeeze the sides in to form the shape of the tassels for the tops of the hats', 'attach to the top of every helmet', 'attach a small round piping', 'you can add sideways \"v\" designs on either side of the sprinkle in the middle to complete the helmets', 'next , i like to use a toothpick to carefully outline the sleeves as well as the design in the middle of each jacket', \"my jacket and helmet designs were inspired by the nutcracker's costume in the nutcracker and the four realms , please see my images for guidance on replicating the look , or feel free to create your own design\", 'now for my favorite part of all , the hair ! fit your second piping bag with the open star', 'beginning on either side of the rim of the hat , pipe and release 2-3 lines of frosting to look like the hair coming out from under the helmet', 'then , pipe and swirl the frosting to create the curls , repeat on both sides of the face', 'use the black decorating icing and small round', 'i like to change the faces for each cake pop to give them a bit more personality', 'you can add tiny highlights to any of the open eyes with the white frosting', 'for the nutcrackers with only a mustache i added noses and mouths , but i skipped this step if i was going to give them beards', 'add mustaches to all of the characters by beginning right below the nose and piping one side of the mustache , then the other , with the white frosting', 'wait until the jackets are complete to add the beards', 'you can also use the pink decorating icing , and a small round piping', 'paint the design in the middle of the jacket', 'then use the black decorating icing to pipe around it , as well as to pipe the outline for each sleeve', 'pipe the sleeve designs as i did , or get creative with your own', 'wait at least 15 minutes for the black icing to set a little before using a thin brush to paint the gold over it', 'add 2 gold dragees for buttons', 'add the hands to each nutcracker using the same skin tone fondant as you did for the top of the cake pop', 'just roll 2 little balls of the fondant and use a little water to attach them at the bottom of each sleeve', \"now is the time to add your beards if you'd like\", 'i created the cute nutcracker teeth using a little white fondant shaped like a semi circle , and i drew the teeth with the food marker before adding the mouth just below the mustache', 'for a fancy final touch i piped a little more of the white frosting across the bottom of each cake pop and sprinkled them with extra crushed peppermint', 'now you have an army of cute nutcrackers all dressed up and ready to attend any holiday party !'], 'tags': ['time-to-make', 'course', 'preparation', 'occasion', 'for-large-groups', 'desserts', 'holiday-event', 'winter', 'cakes', 'christmas', 'seasonal', 'taste-mood', 'sweet', 'number-of-servings', '4-hours-or-less'], 'nutrition': {'calories': 207.9, 'total_fat': 12.0, 'sugar': 93.0, 'sodium': 10.0, 'protein': 6.0, 'saturated_fat': 8.0, 'carbohydrates': 10.0}, 'text_length': 5902, 'rank': 1, 'bm25_score': 10.686793903359838, 'matched_terms': ['cake', 'holiday', 'pops'], 'doc_len_terms': 1108}}, {'rank': 2, 'score': 7.916289582567964, 'id': '528649', 'title': 'jack o lantern cake', 'text': 'jack o lantern cake\\nIngredients:\\norange candy melts\\nballoons\\npaint powder\\nvodka\\nwhite sugar\\nvegetable oil\\nvanilla extract\\ncanned pumpkin\\neggs\\nall-purpose flour\\nbaking powder\\nbaking soda\\nsalt\\nground cinnamon\\nunsalted butter\\nconfectioners\\' sugar\\nheavy whipping cream\\nnutmeg\\npumpkin spice\\ncinnamon\\norange food coloring\\nfood coloring\\nSteps:\\nfor candy core and exterior- in a medium sauce pan or double boiler , heat candy melts until just liquid\\n110 degrees is their ideal temperature in a liquid state\\nblow up several balloons and make sure you have ample room in your freezer\\nslowly dip or paint candy melts onto balloon working in small sections until completely covered\\nonce ready , set on flat plate and place in freezer\\nhere are two helpful hints to avoid trouble at this stage: the balloon should be slightly under inflated and the temperature of the candy melts being too warm can cause the balloon to pop and splatter difficult to clean candy all over you and your kitchen\\ni can\\'t guarantee this won\\'t happen anyway , which is why i mentioned you should blow up several and make your peace with disaster before it happens\\nlayer the balloon several times and keep frozen until ready to use\\nwhen desired shape is achieved punch small hole in balloon and slowly begin to remove using your fingers to separate the balloon from the frozen candy\\nif any large pieces of your pumpkin core break , simply heat the edges and put it back where it broke from\\nkeep remaining candy melts to brush on final cake to create delicious seal\\nfor pumpkin cake- pre-heat oven to 350\\nin a large bowl , mix flour , baking powder , baking soda , salt and cinnamon , set aside\\nin stand mixer , combine 4 cups white sugar\\n2 1 / 2 cups vegetable oil , 2 teaspoon vanilla extract and 4 cups canned pumpkin\\nbeat until smooth and then add one egg at a time\\nslowly incorporate dry ingredients into the wet\\nbutter and flour six 7\" round cake pans and pour two cups batter into each\\nbake three at a time at 350 for 30 minutes\\nsome cakes are finicky , but these are pretty foolproof and so delicious !\\nonce removed from oven , wait 10 minutes , then remove from baking dishes , wrap loosely in wax paper and refrigerate until ready to use\\nat which point you will slice the rounds into thin moon-like crescents with a serrated blade and any additional pieces can be used later for pumpkin cake pops or just eating fresh\\nfor buttercream- in a stand mixer , beat room temp butter until light and the gradually add confectioners sugar\\nbeat until fluffy , then add 2 tbs heavy whipping cream , 4 tbs canned pumpkin , 1 / 2 tsp nutmeg , 1 tsp pumpkin spice , 1 / 2 tsp cinnamon , 1 tsp orange food coloring , 3 / 4 tsp brown food coloring and taste to ensure the flavor is to your liking\\nremove cake crescents from fridge and candy core dome from freezer and frost and apply in two layers\\ninitial layer should start horizontal and the last layer should be vertical\\nkeep in mind pumpkins are somewhat irregular , so don\\'t worry too much about imperfections\\nrefrigerate often to ensure cake is structurally sound and never work in a warm kitchen\\nonce built , frost with remaining buttercream and pipe stripes from top to bottom and blend for added dimension and flavor\\nseal with leftover candy melts and finalize by painting additional shadows and highlights\\nuse a flame-heated blade to carve the jack-o-lantern\\ncut a small mouse hole in the back and light with either a candle or a plug-in light\\nthis cake has no supports , so know it must be kept cold as it could collapse if left at room temperature\\nTags:\\ncourse\\npreparation\\noccasion\\nfor-large-groups\\nlow-protein\\ndesserts\\noven\\nholiday-event\\ndietary\\nhalloween\\nlow-in-something\\nequipment\\nnumber-of-servings\\nbaking', 'index': 190, 'metadata': {'id': '528649', 'title': 'jack o lantern cake', 'description': \"while the pumpkin in cinderella managed to transform into a carriage, this sinister sleepy hollow-inspired creation does one better by taking the form of a delicious cake! you've probably heard of pumpkin bread and pumpkin pie, but i doubt you've had a chance to try an actual pumpkin-flavored cake. with a flavor similar to a spice cake, this unique dessert may soon become one of your new favorites. follow the recipe to create a memorable centerpiece for your next ghoulish gathering. it's sure to please and while i can't promise it won't turn back into a pumpkin at midnight, it's doubtful any will be left by then!\", 'minutes': 390, 'ingredients': ['orange candy melts', 'balloons', 'paint powder', 'vodka', 'white sugar', 'vegetable oil', 'vanilla extract', 'canned pumpkin', 'eggs', 'all-purpose flour', 'baking powder', 'baking soda', 'salt', 'ground cinnamon', 'unsalted butter', \"confectioners' sugar\", 'heavy whipping cream', 'nutmeg', 'pumpkin spice', 'cinnamon', 'orange food coloring', 'food coloring'], 'steps': ['for candy core and exterior- in a medium sauce pan or double boiler , heat candy melts until just liquid', '110 degrees is their ideal temperature in a liquid state', 'blow up several balloons and make sure you have ample room in your freezer', 'slowly dip or paint candy melts onto balloon working in small sections until completely covered', 'once ready , set on flat plate and place in freezer', 'here are two helpful hints to avoid trouble at this stage: the balloon should be slightly under inflated and the temperature of the candy melts being too warm can cause the balloon to pop and splatter difficult to clean candy all over you and your kitchen', \"i can't guarantee this won't happen anyway , which is why i mentioned you should blow up several and make your peace with disaster before it happens\", 'layer the balloon several times and keep frozen until ready to use', 'when desired shape is achieved punch small hole in balloon and slowly begin to remove using your fingers to separate the balloon from the frozen candy', 'if any large pieces of your pumpkin core break , simply heat the edges and put it back where it broke from', 'keep remaining candy melts to brush on final cake to create delicious seal', 'for pumpkin cake- pre-heat oven to 350', 'in a large bowl , mix flour , baking powder , baking soda , salt and cinnamon , set aside', 'in stand mixer , combine 4 cups white sugar', '2 1 / 2 cups vegetable oil , 2 teaspoon vanilla extract and 4 cups canned pumpkin', 'beat until smooth and then add one egg at a time', 'slowly incorporate dry ingredients into the wet', 'butter and flour six 7\" round cake pans and pour two cups batter into each', 'bake three at a time at 350 for 30 minutes', 'some cakes are finicky , but these are pretty foolproof and so delicious !', 'once removed from oven , wait 10 minutes , then remove from baking dishes , wrap loosely in wax paper and refrigerate until ready to use', 'at which point you will slice the rounds into thin moon-like crescents with a serrated blade and any additional pieces can be used later for pumpkin cake pops or just eating fresh', 'for buttercream- in a stand mixer , beat room temp butter until light and the gradually add confectioners sugar', 'beat until fluffy , then add 2 tbs heavy whipping cream , 4 tbs canned pumpkin , 1 / 2 tsp nutmeg , 1 tsp pumpkin spice , 1 / 2 tsp cinnamon , 1 tsp orange food coloring , 3 / 4 tsp brown food coloring and taste to ensure the flavor is to your liking', 'remove cake crescents from fridge and candy core dome from freezer and frost and apply in two layers', 'initial layer should start horizontal and the last layer should be vertical', \"keep in mind pumpkins are somewhat irregular , so don't worry too much about imperfections\", 'refrigerate often to ensure cake is structurally sound and never work in a warm kitchen', 'once built , frost with remaining buttercream and pipe stripes from top to bottom and blend for added dimension and flavor', 'seal with leftover candy melts and finalize by painting additional shadows and highlights', 'use a flame-heated blade to carve the jack-o-lantern', 'cut a small mouse hole in the back and light with either a candle or a plug-in light', 'this cake has no supports , so know it must be kept cold as it could collapse if left at room temperature'], 'tags': ['course', 'preparation', 'occasion', 'for-large-groups', 'low-protein', 'desserts', 'oven', 'holiday-event', 'dietary', 'halloween', 'low-in-something', 'equipment', 'number-of-servings', 'baking'], 'nutrition': {'calories': 927.5, 'total_fat': 80.0, 'sugar': 317.0, 'sodium': 31.0, 'protein': 15.0, 'saturated_fat': 69.0, 'carbohydrates': 36.0}, 'text_length': 3726, 'rank': 2, 'bm25_score': 7.916289582567964, 'matched_terms': ['cake', 'holiday', 'pops'], 'doc_len_terms': 651}}, {'rank': 3, 'score': 3.129576239198954, 'id': '307279', 'title': 'a ptissier s black forest cake', 'text': 'a ptissier s black forest cake\\nIngredients:\\negg whites\\ngranulated sugar\\ncake flour\\nsugar\\nbaking soda\\nkosher salt\\nsalad oil\\nwhole milk\\negg yolks\\nunsweetened chocolate squares\\ncocoa powder\\ntart red cherries\\nport wine\\nkirschwasser\\nalmond extract\\nsemi-sweet chocolate baking squares\\nkirsch\\negg\\nwhipping cream\\nunsalted butter\\nconfectioners\\' sugar\\nhalf-and-half\\nvanilla extract\\nvanilla\\nchocolate curls\\nwhipped cream\\nmaraschino cherry\\nSteps:\\npre heat oven to 350 degrees , and make sure your fridge can house the cake periodically through out the prep\\na day ahead: begin with the cherry filling , it will take overnight to do it properly\\ncombine the can of drained cherries with 1 / 2 cu port wine , 1 tbls kirsch and 3-4 drops of almond extract in a sealed container and chill overnight\\ndrain before using\\nthe cake will be chilled periodically in between steps\\nif this is not done , your cake will fall apart\\nthis cake needs to be assembled on a heavy- duty cake stand if it is to stay at home\\nif it is to be transported , use a cake carrier and drive carefully , then chill promptly to prevent it from \"melting\"\\nfor the cake: you will need 9 x 1 1 / 2 in round cake pans , greased , lightly floured with either flour or cocoa powder\\ni line the bottom with parchment paper to aid in removal and to prevent sticking\\nwire racks will help when it is time to cool them\\nin the bowl of an electric mixer , with the whisk attachment , beat 2 egg whites until soft peaks form\\ngradually add 1 / 2 cu sugar and beat until stiff peaks form\\nset aside in bowl\\nthe cake: sift together 1 3 / 4 cu cake flour , 1 cu sugar , 3 / 4 tsp baking soda , and 1 tsp kosher salt into the mixing bowl\\nadd 1 / 3 cu salad oil and 1 / 2 cu milk and beat on med speed with paddle attachment , scraping bowl often\\nadd 1 / 2 cu milk , 2 egg yolks , and 2 oz of unsweetened baking chocolate that has been melted in a double boiler and cooled\\nbeat 1 minute longer , scraping bowl frequently\\ngently fold in the egg white mixture by hand with a spatula\\npour into the prepared pans and bake about 30-35 minutes\\ncool in pan 10 minutes\\nremove from pans and cool thoroughly on wire racks\\nwhen cooled , split the 2 layers , resulting in 4 total\\ndental floss is a great way to do this , slowly \"saw\" from back to front\\nset aside\\nchocolate mousse: combine 3 oz of semisweet baking chocolate and 3 tbls kirsch in a double boiler: stir over hot , but not boiling water until chocolate melts and mixture is smooth\\nlet cool slightly , then slowly stir into 1 well beaten egg\\nwhip 1 cu whipping cream and 2 tbsl sugar\\nfold into chocolate and chill atleast 2 hours\\nbutter frosting: an the bowl of an electric mixer , cream together the 6 tbls butter , and half the confectioner\\'s sugar\\nadd 2 tbls half and half and 1 1 / 2 tsp vanilla extract\\ngradually add in the remaining sugar\\nonce incorporated , add enough half and half to make it spreading consistency\\nchill 30 min or so\\nassembly should be done in stages to allow cake to set up and not fall !\\nto assemble: spread 1 / 2 cu butter frosting on the cut side of a cake layer\\nwith the remaining butter frosting , make a ridge 1 / 2 an inch wide and 3 / 4 of an in tall around the outside edge\\nmake a second ridge 2 in from the outside edge\\nthink target , or bull\\'s eye\\nchill 30 minutes\\nfill spaces with drained cherry filling\\ntop with 2nd layer\\nspread this layer with the mousse\\nchill 30 minutes\\nwhile this is chilling , whip 2 cu whipping cream and 2 tbls sugar and 1 tsp vanilla extract\\ntop mousse layer with 3rd cake layer\\nuse 1 1 / 2 cu whipped cream to cover this 3rd layer\\nchill 30 minutes\\ntop with the final 4th layer , and use remaining whipped cream to cover sides and top of cake\\nsift cocoa powder over top , and garnish with chocolate curls or shavings , dollops of whipped cream and maraschino cherries\\nchill 2 hours\\nTags:\\ntime-to-make\\ncourse\\nmain-ingredient\\npreparation\\noccasion\\ndesserts\\neggs-dairy\\n1-day-or-more\\nholiday-event', 'index': 146, 'metadata': {'id': '307279', 'title': 'a ptissier s black forest cake', 'description': 'i have been eating this cake since i was 10, and it is truly a masterpiece in the art of baking. i have never seen any other recipe like it, and i thank my mother for passing on the genes that came up with this genius.this cake is not for a novice, nor can it be \"thrown together\" at the last minute. all i can tell you is that, when properly executed, nothing can compare to this recipe. please read through the steps before you begin, it will make things much easier. good luck, you will never be satisfied with another recipe!', 'minutes': 2915, 'ingredients': ['egg whites', 'granulated sugar', 'cake flour', 'sugar', 'baking soda', 'kosher salt', 'salad oil', 'whole milk', 'egg yolks', 'unsweetened chocolate squares', 'cocoa powder', 'tart red cherries', 'port wine', 'kirschwasser', 'almond extract', 'semi-sweet chocolate baking squares', 'kirsch', 'egg', 'whipping cream', 'unsalted butter', \"confectioners' sugar\", 'half-and-half', 'vanilla extract', 'vanilla', 'chocolate curls', 'whipped cream', 'maraschino cherry'], 'steps': ['pre heat oven to 350 degrees , and make sure your fridge can house the cake periodically through out the prep', 'a day ahead: begin with the cherry filling , it will take overnight to do it properly', 'combine the can of drained cherries with 1 / 2 cu port wine , 1 tbls kirsch and 3-4 drops of almond extract in a sealed container and chill overnight', 'drain before using', 'the cake will be chilled periodically in between steps', 'if this is not done , your cake will fall apart', 'this cake needs to be assembled on a heavy- duty cake stand if it is to stay at home', 'if it is to be transported , use a cake carrier and drive carefully , then chill promptly to prevent it from \"melting\"', 'for the cake: you will need 9 x 1 1 / 2 in round cake pans , greased , lightly floured with either flour or cocoa powder', 'i line the bottom with parchment paper to aid in removal and to prevent sticking', 'wire racks will help when it is time to cool them', 'in the bowl of an electric mixer , with the whisk attachment , beat 2 egg whites until soft peaks form', 'gradually add 1 / 2 cu sugar and beat until stiff peaks form', 'set aside in bowl', 'the cake: sift together 1 3 / 4 cu cake flour , 1 cu sugar , 3 / 4 tsp baking soda , and 1 tsp kosher salt into the mixing bowl', 'add 1 / 3 cu salad oil and 1 / 2 cu milk and beat on med speed with paddle attachment , scraping bowl often', 'add 1 / 2 cu milk , 2 egg yolks , and 2 oz of unsweetened baking chocolate that has been melted in a double boiler and cooled', 'beat 1 minute longer , scraping bowl frequently', 'gently fold in the egg white mixture by hand with a spatula', 'pour into the prepared pans and bake about 30-35 minutes', 'cool in pan 10 minutes', 'remove from pans and cool thoroughly on wire racks', 'when cooled , split the 2 layers , resulting in 4 total', 'dental floss is a great way to do this , slowly \"saw\" from back to front', 'set aside', 'chocolate mousse: combine 3 oz of semisweet baking chocolate and 3 tbls kirsch in a double boiler: stir over hot , but not boiling water until chocolate melts and mixture is smooth', 'let cool slightly , then slowly stir into 1 well beaten egg', 'whip 1 cu whipping cream and 2 tbsl sugar', 'fold into chocolate and chill atleast 2 hours', \"butter frosting: an the bowl of an electric mixer , cream together the 6 tbls butter , and half the confectioner's sugar\", 'add 2 tbls half and half and 1 1 / 2 tsp vanilla extract', 'gradually add in the remaining sugar', 'once incorporated , add enough half and half to make it spreading consistency', 'chill 30 min or so', 'assembly should be done in stages to allow cake to set up and not fall !', 'to assemble: spread 1 / 2 cu butter frosting on the cut side of a cake layer', 'with the remaining butter frosting , make a ridge 1 / 2 an inch wide and 3 / 4 of an in tall around the outside edge', 'make a second ridge 2 in from the outside edge', \"think target , or bull's eye\", 'chill 30 minutes', 'fill spaces with drained cherry filling', 'top with 2nd layer', 'spread this layer with the mousse', 'chill 30 minutes', 'while this is chilling , whip 2 cu whipping cream and 2 tbls sugar and 1 tsp vanilla extract', 'top mousse layer with 3rd cake layer', 'use 1 1 / 2 cu whipped cream to cover this 3rd layer', 'chill 30 minutes', 'top with the final 4th layer , and use remaining whipped cream to cover sides and top of cake', 'sift cocoa powder over top , and garnish with chocolate curls or shavings , dollops of whipped cream and maraschino cherries', 'chill 2 hours'], 'tags': ['time-to-make', 'course', 'main-ingredient', 'preparation', 'occasion', 'desserts', 'eggs-dairy', '1-day-or-more', 'holiday-event'], 'nutrition': {'calories': 815.0, 'total_fat': 63.0, 'sugar': 343.0, 'sodium': 11.0, 'protein': 13.0, 'saturated_fat': 110.0, 'carbohydrates': 36.0}, 'text_length': 3935, 'rank': 3, 'bm25_score': 3.129576239198954, 'matched_terms': ['cake', 'holiday'], 'doc_len_terms': 729}}, {'rank': 4, 'score': 3.1239995966043552, 'id': '524744', 'title': 'thanksgiving piecaken', 'text': 'thanksgiving piecaken\\nIngredients:\\npumpkin pie\\npecan pie\\ngranny smith apples\\nunsalted butter\\ndark brown sugar\\nvegetable oil\\ngranulated sugar\\neggs\\nbuttermilk\\nvanilla extract\\nall-purpose flour\\nbaking powder\\nbaking soda\\nkosher salt\\nground cinnamon\\nground ginger\\nnutmeg\\negg whites\\nSteps:\\npreheat the oven to 350\\nspray a 8 cake pan with non stick spray and line with a round of parchment paper\\nmake the apple topping:\\npeel , core and cut it into quarters\\nslice each quarter into very thin slices\\nmelt the butter in the microwave\\nin a bowl , toss the butter , brown sugar and apples together\\nspread the apple mixture into a thin layer in the bottom of the prepared cake pan and bake in the oven for 10 minutes\\nthe sugar and butter should be melted and the apples should start to soften\\nthere may be a little liquid that has seeped out of the apples , that is fine\\nlet the pan cool while you make the cake\\nmake the spice cake:\\nput the flour , baking powder , baking soda , salt , and spices in a medium bowl and whisk until blended together\\nin a large mixing bowl whisk the oil and sugar together , its actually easier to do this by hand than with an electric mixer\\nif you really like the mixer , use it\\nadd both of the eggs and whisk until smooth , you dont have to spend a lot of time on this , just whisk it together\\nadd the buttermilk and vanilla and whisk until incorporated\\nadd the dry ingredients in two installments , whisking until blended\\ncarefully pour the batter over the apple layer\\nif you dump it on top , you run the risk of displacing the apples and ruining the pretty apple design !\\nreturn the pan to the oven and bake at 350 degrees for 20 to 30 minutes until the center of the cake is fully cooked\\nonce the cake has cooled for 20 minutes , flip it out of the cake pan and onto a cooling rack\\nremove the parchment\\nlet cool fully while you make the frosting\\nmake the cinnamon buttercream frosting:\\nfind a pot that will fit the bottom of the bowl of a kitchenaid , fill it with three inches of water and bring to a simmer\\nplace the egg whites and the sugar in the mixer bowl and place over the simmering pot of water\\nstir the mixture until the sugar has dissolved and the mixture is warm , about 4 minutes\\nplace the bowl on the mixer fitted with the whisk attachment and beat on medium high until cool\\ncut the butter into 1 inch cubes and gradually add to the mixer\\nmix until the butter has incorporated and the frosting is light and fluffy\\nadd the salt , vanilla and cinnamon and whisk until combined\\nassemble the piecaken:\\nit is easier to assemble the piecaken if the pies are chilled\\nwith a small knife , cut the outer crust off the pies , leaving only the filling and the bottom crust\\nwith a serrated knife , cut off what was the top of the cake , which is now on the bottom\\ndo this by cutting straight through the cake horizontally about a half inch up the side of the cake\\nreserve the scraps for snacking\\non an 8 inch cake board or serving plate , place the pecan pie\\nspread a inch layer of frosting over the top of the pie\\nplace the pumpkin pie on top and spread a inch of frosting on top\\nplace the cake , apple side up , on top of the frosting\\nwith a serrated knife , trim the sides of the cake to be flush with the pies\\neat the scraps\\nusing an offset spatula , spread a inch layer of frosting around the cake , covering the sides\\nusing a piping bag with whatever\\ni like to leave the top of the cake unfrosted so you can see the apples\\nrefrigerate the piecaken for at least an hour or tightly wrapped for up to 5 days\\nlet sit at room temperature for an hour before serving so the buttercream softens\\ncut the piecaken into 8 to 12 slices using a sharp knife dipped in hot water\\nserve with whipped cream or ice cream !\\nTags:\\ntime-to-make\\ncourse\\npreparation\\noccasion\\npies-and-tarts\\ndesserts\\neasy\\nfall\\nholiday-event\\ncakes\\npies\\nthanksgiving\\nseasonal', 'index': 162, 'metadata': {'id': '524744', 'title': 'thanksgiving piecaken', 'description': \"can't decide between cake or pie for dessert? don't. this epic confection hits all the right flavor notes, textures and will undoubtedly be the most impressive dessert you ever make.\", 'minutes': 330, 'ingredients': ['pumpkin pie', 'pecan pie', 'granny smith apples', 'unsalted butter', 'dark brown sugar', 'vegetable oil', 'granulated sugar', 'eggs', 'buttermilk', 'vanilla extract', 'all-purpose flour', 'baking powder', 'baking soda', 'kosher salt', 'ground cinnamon', 'ground ginger', 'nutmeg', 'egg whites'], 'steps': ['preheat the oven to 350', 'spray a 8 cake pan with non stick spray and line with a round of parchment paper', 'make the apple topping:', 'peel , core and cut it into quarters', 'slice each quarter into very thin slices', 'melt the butter in the microwave', 'in a bowl , toss the butter , brown sugar and apples together', 'spread the apple mixture into a thin layer in the bottom of the prepared cake pan and bake in the oven for 10 minutes', 'the sugar and butter should be melted and the apples should start to soften', 'there may be a little liquid that has seeped out of the apples , that is fine', 'let the pan cool while you make the cake', 'make the spice cake:', 'put the flour , baking powder , baking soda , salt , and spices in a medium bowl and whisk until blended together', 'in a large mixing bowl whisk the oil and sugar together , its actually easier to do this by hand than with an electric mixer', 'if you really like the mixer , use it', 'add both of the eggs and whisk until smooth , you dont have to spend a lot of time on this , just whisk it together', 'add the buttermilk and vanilla and whisk until incorporated', 'add the dry ingredients in two installments , whisking until blended', 'carefully pour the batter over the apple layer', 'if you dump it on top , you run the risk of displacing the apples and ruining the pretty apple design !', 'return the pan to the oven and bake at 350 degrees for 20 to 30 minutes until the center of the cake is fully cooked', 'once the cake has cooled for 20 minutes , flip it out of the cake pan and onto a cooling rack', 'remove the parchment', 'let cool fully while you make the frosting', 'make the cinnamon buttercream frosting:', 'find a pot that will fit the bottom of the bowl of a kitchenaid , fill it with three inches of water and bring to a simmer', 'place the egg whites and the sugar in the mixer bowl and place over the simmering pot of water', 'stir the mixture until the sugar has dissolved and the mixture is warm , about 4 minutes', 'place the bowl on the mixer fitted with the whisk attachment and beat on medium high until cool', 'cut the butter into 1 inch cubes and gradually add to the mixer', 'mix until the butter has incorporated and the frosting is light and fluffy', 'add the salt , vanilla and cinnamon and whisk until combined', 'assemble the piecaken:', 'it is easier to assemble the piecaken if the pies are chilled', 'with a small knife , cut the outer crust off the pies , leaving only the filling and the bottom crust', 'with a serrated knife , cut off what was the top of the cake , which is now on the bottom', 'do this by cutting straight through the cake horizontally about a half inch up the side of the cake', 'reserve the scraps for snacking', 'on an 8 inch cake board or serving plate , place the pecan pie', 'spread a inch layer of frosting over the top of the pie', 'place the pumpkin pie on top and spread a inch of frosting on top', 'place the cake , apple side up , on top of the frosting', 'with a serrated knife , trim the sides of the cake to be flush with the pies', 'eat the scraps', 'using an offset spatula , spread a inch layer of frosting around the cake , covering the sides', 'using a piping bag with whatever', 'i like to leave the top of the cake unfrosted so you can see the apples', 'refrigerate the piecaken for at least an hour or tightly wrapped for up to 5 days', 'let sit at room temperature for an hour before serving so the buttercream softens', 'cut the piecaken into 8 to 12 slices using a sharp knife dipped in hot water', 'serve with whipped cream or ice cream !'], 'tags': ['time-to-make', 'course', 'preparation', 'occasion', 'pies-and-tarts', 'desserts', 'easy', 'fall', 'holiday-event', 'cakes', 'pies', 'thanksgiving', 'seasonal'], 'nutrition': {'calories': 916.6, 'total_fat': 100.0, 'sugar': 235.0, 'sodium': 33.0, 'protein': 13.0, 'saturated_fat': 170.0, 'carbohydrates': 26.0}, 'text_length': 3861, 'rank': 4, 'bm25_score': 3.1239995966043552, 'matched_terms': ['cake', 'holiday'], 'doc_len_terms': 718}}, {'rank': 5, 'score': 3.10099685215837, 'id': '350579', 'title': 'sour cream coffee cake with toasted pecan filling', 'text': 'sour cream coffee cake with toasted pecan filling\\nIngredients:\\nunsalted butter\\nall-purpose flour\\npecans\\ngranulated sugar\\nlight brown sugar\\nground cinnamon\\nbaking powder\\ntable salt\\ncinnamon\\ncocoa powder\\ncake flour\\nbaking soda\\nsalt\\nsuperfine sugar\\neggs\\npure vanilla extract\\nsour cream\\nSteps:\\nposition rack in center of oven and heat oven to 350 degrees\\ngenerously butter 10\" tube pan with a removable bottom\\ntopping: in a 2 quart saucepan , heat butter over medium heat until almost melted\\nremove from heat and cool to tepid\\nin a medium bowl , combine flour , pecans , granulated sugar and light brown sugar , cinnamon , baking powder , and salt and stir with a fork\\nadd the flour mixture to the butter and stir until evenly moistened and crumbly\\nfilling: in a food processor , pulse the pecans , sugars , cinnamon , and cocoa 4-6 times to combine and chop the pecans\\ncake: in a medium bowl , whisk flour , baking powder , baking soda , and salt\\nin the bowl of a stand mixer fitted with paddle attachment , beat the butter on medium speed until smooth and creamy , 1-2 minutes\\nadd the sugar slowly , beating until combined\\nscrape the bowl\\nbeat in the eggs , one at a time , blending each one completely before adding the next\\nscrape the bowl down and add the vanilla\\non low speed , alternate adding the dry ingredients and the sour cream , adding the flour in four parts and the sour cream in three , beginning and ending with the flour and scraping the bowl as needed\\nspoon 2 generous cups of the batter into prepared pan\\nsmooth with the back of a soup spoon , spreading the batter to the side of the pan first and then to the center\\nsprinkle about 1 / 2 cup of the filling evenly over the batter\\ncover the fillinf with about 2 cups of the batter , dropping dollups around the pan and smoothing with the spoon to sides of the pan and then to the center\\ndon\\'t lift the spoon while smoothing or you will disturb the filling\\nsprinkle another 1 / 2 cup of filling over the batter and cover with 2 more cups of batter\\nlayer on the remaining filling and then the remaining batter for four layers of batter and three layers of filling\\ninsert a table knife 1\" from the side of the pan straight into the batter going almost to the bottom\\nrun the knife around the pan two times , without lifting the knife blade , and spacing the circles about 1\" apart\\nthis distributes the filling but still keeps it clearly defined\\nsmooth the top of the batter with the back of the soup spoon\\ntake a handful of the streusel and squeeze firmly to form a large mass\\nbreak up the mass into smaller clumps , distributing the streusel evenly over the batter\\nrepeat with the remaining streusel\\npress the streusel lightly into the surface of the batter\\nbake until the top of the cake is golden brown , the sides are beginning to pull away from the pan , and a wooden skewer inserted in to the center of the cake comes out clean , 70-75 minutes\\ntransfer to a wire rack and let cool for at least an hour before removing from pan\\ngently lift up the center tube while carefully pushing the bottom upward with your opposite hand\\nif the cake doesn\\'t release easily , run a thin knife between the cake and the tube and between the cake and the outer wall of the pan\\nonce the cake is out , run the knife under the bottom , too\\nfold a 12\" square of aluminum foil into quarters\\nmeasure 1 1 / 4\" from the inside\\nunfold and place over the cake , pressing gently onto the top of the cake and molding the foil around its sides to hold in all the streusel\\ninvert the cake onto a plate and remove the center tube\\ninvert the cake onto a rack , remove the foil , and cool right side up\\ncan be frozen up to 3 months\\nTags:\\ntime-to-make\\ncourse\\nmain-ingredient\\ncuisine\\npreparation\\noccasion\\nnorth-american\\nfor-large-groups\\nbreads\\neggs-dairy\\namerican\\noven\\nholiday-event\\ncoffee-cakes\\noamc-freezer-make-ahead\\nbrunch\\ntaste-mood\\nsweet\\nequipment\\nnumber-of-servings\\n4-hours-or-less', 'index': 149, 'metadata': {'id': '350579', 'title': 'sour cream coffee cake with toasted pecan filling', 'description': \"this is the one and only coffee cake you'll ever want to make! from fine cooking magazine.\", 'minutes': 135, 'ingredients': ['unsalted butter', 'all-purpose flour', 'pecans', 'granulated sugar', 'light brown sugar', 'ground cinnamon', 'baking powder', 'table salt', 'cinnamon', 'cocoa powder', 'cake flour', 'baking soda', 'salt', 'superfine sugar', 'eggs', 'pure vanilla extract', 'sour cream'], 'steps': ['position rack in center of oven and heat oven to 350 degrees', 'generously butter 10\" tube pan with a removable bottom', 'topping: in a 2 quart saucepan , heat butter over medium heat until almost melted', 'remove from heat and cool to tepid', 'in a medium bowl , combine flour , pecans , granulated sugar and light brown sugar , cinnamon , baking powder , and salt and stir with a fork', 'add the flour mixture to the butter and stir until evenly moistened and crumbly', 'filling: in a food processor , pulse the pecans , sugars , cinnamon , and cocoa 4-6 times to combine and chop the pecans', 'cake: in a medium bowl , whisk flour , baking powder , baking soda , and salt', 'in the bowl of a stand mixer fitted with paddle attachment , beat the butter on medium speed until smooth and creamy , 1-2 minutes', 'add the sugar slowly , beating until combined', 'scrape the bowl', 'beat in the eggs , one at a time , blending each one completely before adding the next', 'scrape the bowl down and add the vanilla', 'on low speed , alternate adding the dry ingredients and the sour cream , adding the flour in four parts and the sour cream in three , beginning and ending with the flour and scraping the bowl as needed', 'spoon 2 generous cups of the batter into prepared pan', 'smooth with the back of a soup spoon , spreading the batter to the side of the pan first and then to the center', 'sprinkle about 1 / 2 cup of the filling evenly over the batter', 'cover the fillinf with about 2 cups of the batter , dropping dollups around the pan and smoothing with the spoon to sides of the pan and then to the center', \"don't lift the spoon while smoothing or you will disturb the filling\", 'sprinkle another 1 / 2 cup of filling over the batter and cover with 2 more cups of batter', 'layer on the remaining filling and then the remaining batter for four layers of batter and three layers of filling', 'insert a table knife 1\" from the side of the pan straight into the batter going almost to the bottom', 'run the knife around the pan two times , without lifting the knife blade , and spacing the circles about 1\" apart', 'this distributes the filling but still keeps it clearly defined', 'smooth the top of the batter with the back of the soup spoon', 'take a handful of the streusel and squeeze firmly to form a large mass', 'break up the mass into smaller clumps , distributing the streusel evenly over the batter', 'repeat with the remaining streusel', 'press the streusel lightly into the surface of the batter', 'bake until the top of the cake is golden brown , the sides are beginning to pull away from the pan , and a wooden skewer inserted in to the center of the cake comes out clean , 70-75 minutes', 'transfer to a wire rack and let cool for at least an hour before removing from pan', 'gently lift up the center tube while carefully pushing the bottom upward with your opposite hand', \"if the cake doesn't release easily , run a thin knife between the cake and the tube and between the cake and the outer wall of the pan\", 'once the cake is out , run the knife under the bottom , too', 'fold a 12\" square of aluminum foil into quarters', 'measure 1 1 / 4\" from the inside', 'unfold and place over the cake , pressing gently onto the top of the cake and molding the foil around its sides to hold in all the streusel', 'invert the cake onto a plate and remove the center tube', 'invert the cake onto a rack , remove the foil , and cool right side up', 'can be frozen up to 3 months'], 'tags': ['time-to-make', 'course', 'main-ingredient', 'cuisine', 'preparation', 'occasion', 'north-american', 'for-large-groups', 'breads', 'eggs-dairy', 'american', 'oven', 'holiday-event', 'coffee-cakes', 'oamc-freezer-make-ahead', 'brunch', 'taste-mood', 'sweet', 'equipment', 'number-of-servings', '4-hours-or-less'], 'nutrition': {'calories': 512.7, 'total_fat': 47.0, 'sugar': 120.0, 'sodium': 12.0, 'protein': 11.0, 'saturated_fat': 76.0, 'carbohydrates': 18.0}, 'text_length': 3918, 'rank': 5, 'bm25_score': 3.10099685215837, 'matched_terms': ['cake', 'holiday'], 'doc_len_terms': 708}}]\n"
     ]
    }
   ],
   "source": [
    "query = \"holiday cake pops\"\n",
    "hits = retrieve_bm25(query, corpus, bm25, tok, top_n=5)\n",
    "print(hits)"
   ]
  },
  {
   "cell_type": "markdown",
   "id": "b40d23c8",
   "metadata": {},
   "source": [
    "## Step 3: Generate Synthetic Queries\n",
    "\n",
    "- Use LLM to generate realistic cooking queries\n",
    "- Focus on complex scenarios requiring specific recipe knowledge\n",
    "- Use ThreadPoolExecutor for parallel processing\n",
    "- Generate 100+ queries with salient facts\n",
    "- Save as data/synthetic_queries.json"
   ]
  },
  {
   "cell_type": "code",
   "execution_count": null,
   "id": "db294ee7",
   "metadata": {},
   "outputs": [],
   "source": [
    "SYSTEM_PROMPT = \"\"\"You are an advanced user of a recipe search engine.\n",
    "Given a recipe, write ONE realistic, conversational cooking question that depends on a precise, technical detail\n",
    "that is clearly contained in THIS recipe. Focus on:\n",
    "1) Specific methods (e.g., marinate 4 hours, bake at 375°F for 25 minutes)\n",
    "2) Appliance settings (e.g., air fryer 400°F for 12 minutes, pressure cook 8 minutes)\n",
    "3) Ingredient prep details (e.g., slice onions paper-thin, whip cream to soft peaks)\n",
    "4) Timing specifics (e.g., rest dough 30 minutes, simmer 45 minutes)\n",
    "5) Temperature precision (e.g., internal 165°F, oil 350°F)\n",
    "\n",
    "Return EXACTLY a single JSON object:\n",
    "{\"query\":\"...?\",\"salient_fact\":\"<exact quote or tight paraphrase>\"}\"\"\"\n",
    "\n",
    "_TEMPLATE = \"Recipe ID: {id}\\nTitle: {title}\\nKey ingredients: {ingredients}\\nFirst instruction: {first_step}\\n\""
   ]
  },
  {
   "cell_type": "markdown",
   "id": "e906c86e",
   "metadata": {},
   "source": [
    "#### Parse & normalize LLM output\n",
    "_norm_q(q) — lowercase, strip punctuation, collapse spaces → dedupe-friendly key.\n",
    "\n",
    "_parse_json(text) — parse JSON; if there’s extra text, grab the first {...} block and load it.\n",
    "\n",
    "_parse_and_validate(text) — require query + salient_fact, append “?” if missing, enforce a minimum length, and ensure the fact contains a concrete technical detail (time/temp/ratio/etc.). Returns the cleaned pair or None."
   ]
  },
  {
   "cell_type": "code",
   "execution_count": 23,
   "id": "df477810",
   "metadata": {},
   "outputs": [],
   "source": [
    "def _norm_q(q: str) -> str:\n",
    "    s = _to_text(q).lower().translate(_PUNCT).strip()\n",
    "    return re.sub(r\"\\s+\", \" \", s)\n",
    "\n",
    "\n",
    "def _parse_json(text: str) -> Optional[dict]:\n",
    "    s = _to_text(text).strip()\n",
    "    if not s:\n",
    "        return None\n",
    "    try:\n",
    "        return json.loads(s)\n",
    "    except Exception:\n",
    "        m = _JSON_RE.search(s)\n",
    "        return json.loads(m.group(0)) if m else None\n",
    "\n",
    "\n",
    "def _parse_and_validate(text: str) -> Optional[Dict[str, str]]:\n",
    "    obj = _parse_json(text)\n",
    "    if not isinstance(obj, dict):\n",
    "        return None\n",
    "    q = _to_text(obj.get(\"query\")).strip()\n",
    "    f = _to_text(obj.get(\"salient_fact\")).strip()\n",
    "    if not q or not f:\n",
    "        return None\n",
    "    if not q.endswith(\"?\"):\n",
    "        q += \"?\"\n",
    "    if len(q) < 25:\n",
    "        return None\n",
    "    if not _TECH.search(f):\n",
    "        return None\n",
    "    return {\"query\": q, \"salient_fact\": f}"
   ]
  },
  {
   "cell_type": "markdown",
   "id": "15c02280",
   "metadata": {},
   "source": [
    "Takes a slice of recipes starting at start and grabs batch_rows items (wrapping around if needed).\n",
    "\n",
    "For each recipe, it collects:\n",
    "\n",
    "- id and title\n",
    "\n",
    "- ingredients: the first 6 ingredients, joined as a comma-separated string\n",
    "\n",
    "- first_step: the first instruction, trimmed to 200 characters\n",
    "\n",
    "- _recipe: the full original recipe dict (kept for later)\n",
    "\n",
    "Returns a tidy pandas DataFrame with one row per recipe."
   ]
  },
  {
   "cell_type": "code",
   "execution_count": 24,
   "id": "33303d18",
   "metadata": {},
   "outputs": [],
   "source": [
    "def _make_batch_df(recipes: List[Dict[str, Any]], start: int, batch_rows: int) -> pd.DataFrame:\n",
    "    rows, n = [], len(recipes)\n",
    "    for i in range(batch_rows):\n",
    "        r = recipes[(start + i) % n]\n",
    "        ings = r.get(\"ingredients\") or []\n",
    "        step0 = (r.get(\"steps\") or [\"\"])[0]\n",
    "        rows.append(\n",
    "            {\n",
    "                \"id\": _to_text(r.get(\"id\")),\n",
    "                \"title\": _to_text(r.get(\"title\")),\n",
    "                \"ingredients\": \", \".join(_to_text(x) for x in ings[:6]),\n",
    "                \"first_step\": _to_text(step0)[:200],\n",
    "                \"_recipe\": r,\n",
    "            }\n",
    "        )\n",
    "    return pd.DataFrame(rows)\n",
    "\n",
    "\n",
    "_PUNCT = str.maketrans(\"\", \"\", string.punctuation)"
   ]
  },
  {
   "cell_type": "markdown",
   "id": "985fa787",
   "metadata": {},
   "source": [
    "#### Generate synthetic queries\n",
    "Uses llm_generate to create n unique, validated cooking questions from recipe batches.\n",
    "\n",
    "Dedupes via normalized text, nudges temperature if a batch adds zero.\n",
    "\n",
    "Saves results (with recipe metadata) to out_path and returns the file path."
   ]
  },
  {
   "cell_type": "code",
   "execution_count": 25,
   "id": "6cffdf24",
   "metadata": {},
   "outputs": [],
   "source": [
    "def generate_synthetic_queries(\n",
    "    recipes: List[Dict[str, Any]],\n",
    "    n: int = NUM_QUERIES,\n",
    "    out_path: str = SYN_QUERY_PATH,\n",
    "    max_workers: int = MAX_WORKERS,\n",
    "):\n",
    "    Path(out_path).parent.mkdir(parents=True, exist_ok=True)\n",
    "    random.shuffle(recipes)\n",
    "\n",
    "    model = OpenAIModel(\n",
    "        model=QUERY_MODEL,\n",
    "        temperature=0.25,\n",
    "        max_tokens=100,\n",
    "        request_timeout=TIMEOUT_S,\n",
    "    )\n",
    "\n",
    "    unique: Dict[str, Dict[str, Any]] = {}\n",
    "    seen_norm: set[str] = set()\n",
    "    start_idx = 0\n",
    "\n",
    "    with tqdm(total=n, desc=\"synthetic\", mininterval=0.2) as bar:\n",
    "        while len(unique) < n:\n",
    "            need = n - len(unique)\n",
    "            batch_rows = max(256, min(need * 3, 1024))\n",
    "            df = _make_batch_df(recipes, start_idx, batch_rows)\n",
    "            start_idx = (start_idx + batch_rows) % len(recipes)\n",
    "\n",
    "            out = llm_generate(\n",
    "                dataframe=df,\n",
    "                template=_TEMPLATE,\n",
    "                model=model,\n",
    "                system_instruction=SYSTEM_PROMPT,\n",
    "                output_parser=lambda txt, row_idx: (_parse_and_validate(txt) or {}),\n",
    "                run_sync=True,\n",
    "                concurrency=min(max_workers * 3, 48),\n",
    "            )\n",
    "\n",
    "            added = 0\n",
    "            for i, row in out.iterrows():\n",
    "                q = _to_text(row.get(\"query\"))\n",
    "                f = _to_text(row.get(\"salient_fact\"))\n",
    "                if not q or not f:\n",
    "                    continue\n",
    "                key = _norm_q(q)\n",
    "                if key in seen_norm:\n",
    "                    continue\n",
    "\n",
    "                base = df.iloc[i][\"_recipe\"]\n",
    "                unique[q] = {\n",
    "                    \"query\": q,\n",
    "                    \"salient_fact\": f,\n",
    "                    \"source_recipe_id\": base.get(\"id\"),\n",
    "                    \"recipe_name\": _to_text(base.get(\"title\")),\n",
    "                    \"ingredients\": base.get(\"ingredients\", []),\n",
    "                    \"tags\": base.get(\"tags\", []),\n",
    "                }\n",
    "                seen_norm.add(key)\n",
    "                added += 1\n",
    "                if len(unique) >= n:\n",
    "                    break\n",
    "\n",
    "            acc = (added / len(out)) if len(out) else 0.0\n",
    "            bar.set_postfix({\"batch\": len(out), \"added\": added, \"acc%\": f\"{acc * 100:.0f}\"})\n",
    "            if added:\n",
    "                bar.update(added)\n",
    "            else:\n",
    "                model.temperature = min(model.temperature + 0.1, 0.8)\n",
    "\n",
    "    with open(out_path, \"w\", encoding=\"utf-8\") as fp:\n",
    "        json.dump(list(unique.values()), fp, indent=2, ensure_ascii=False)\n",
    "    print(f\"✅ Saved {len(unique)} queries → {out_path}\")\n",
    "    return out_path"
   ]
  },
  {
   "cell_type": "code",
   "execution_count": 26,
   "id": "1beab230",
   "metadata": {},
   "outputs": [
    {
     "name": "stdout",
     "output_type": "stream",
     "text": [
      "Generating synthetic queries...\n"
     ]
    },
    {
     "name": "stderr",
     "output_type": "stream",
     "text": [
      "synthetic:   0%|          | 0/100 [00:00<?, ?it/s]"
     ]
    },
    {
     "data": {
      "application/vnd.jupyter.widget-view+json": {
       "model_id": "648f213a34af4656bd104195f64f948a",
       "version_major": 2,
       "version_minor": 0
      },
      "text/plain": [
       "llm_generate |          | 0/300 (0.0%) | ⏳ 00:00<? | ?it/s"
      ]
     },
     "metadata": {},
     "output_type": "display_data"
    },
    {
     "name": "stderr",
     "output_type": "stream",
     "text": [
      "synthetic:  55%|█████▌    | 55/100 [04:19<03:32,  4.71s/it, batch=300, added=55, acc%=18]"
     ]
    },
    {
     "data": {
      "application/vnd.jupyter.widget-view+json": {
       "model_id": "8840ee9f7a8c4210a766cdf1c3721823",
       "version_major": 2,
       "version_minor": 0
      },
      "text/plain": [
       "llm_generate |          | 0/256 (0.0%) | ⏳ 00:00<? | ?it/s"
      ]
     },
     "metadata": {},
     "output_type": "display_data"
    },
    {
     "name": "stderr",
     "output_type": "stream",
     "text": [
      "synthetic:  86%|████████▌ | 86/100 [07:46<01:18,  5.60s/it, batch=256, added=31, acc%=12]"
     ]
    },
    {
     "data": {
      "application/vnd.jupyter.widget-view+json": {
       "model_id": "042954a7c12f44379e92aac05bbb6cc3",
       "version_major": 2,
       "version_minor": 0
      },
      "text/plain": [
       "llm_generate |          | 0/256 (0.0%) | ⏳ 00:00<? | ?it/s"
      ]
     },
     "metadata": {},
     "output_type": "display_data"
    },
    {
     "name": "stderr",
     "output_type": "stream",
     "text": [
      "synthetic: 100%|██████████| 100/100 [11:24<00:00,  6.85s/it, batch=256, added=14, acc%=5]"
     ]
    },
    {
     "name": "stdout",
     "output_type": "stream",
     "text": [
      "✅ Saved 100 queries → hw4/data/synthetic_queries.json\n"
     ]
    },
    {
     "name": "stderr",
     "output_type": "stream",
     "text": [
      "\n"
     ]
    },
    {
     "data": {
      "text/plain": [
       "'hw4/data/synthetic_queries.json'"
      ]
     },
     "execution_count": 26,
     "metadata": {},
     "output_type": "execute_result"
    }
   ],
   "source": [
    "print(\"Generating synthetic queries...\")\n",
    "generate_synthetic_queries(top_recipes)"
   ]
  },
  {
   "cell_type": "markdown",
   "id": "f2774608",
   "metadata": {},
   "source": [
    "#### Upload synthetic queries to Phoenix\n",
    "Loads your JSON of queries, maps to Phoenix-friendly columns: input (query) and output (salient_fact).\n",
    "\n",
    "Flattens optional metadata (recipe_name, source_recipe_id, ingredients, tags) for tracking.\n",
    "\n",
    "Auto-generates a dataset name (or uses dataset_name) and uploads via px.Client().upload_dataset(...).\n"
   ]
  },
  {
   "cell_type": "code",
   "execution_count": 36,
   "id": "61cd4acc",
   "metadata": {},
   "outputs": [],
   "source": [
    "def upload_synthetic_queries_to_phoenix(\n",
    "    json_path: str = SYN_QUERY_PATH,\n",
    "    dataset_name: str | None = None,\n",
    "):\n",
    "    data = json.loads(Path(json_path).read_text(encoding=\"utf-8\"))\n",
    "    df = pd.DataFrame(data)\n",
    "\n",
    "    if \"query\" not in df or \"salient_fact\" not in df:\n",
    "        raise ValueError(\"Expected keys 'query' and 'salient_fact' in the JSON items.\")\n",
    "\n",
    "    df = df.copy()\n",
    "    df[\"input\"] = df[\"query\"].fillna(\"\").astype(str)\n",
    "    df[\"output\"] = df[\"salient_fact\"].fillna(\"\").astype(str)\n",
    "\n",
    "    meta_cols = []\n",
    "    for col in (\"recipe_name\", \"source_recipe_id\"):\n",
    "        if col in df:\n",
    "            df[col] = df[col].fillna(\"\").astype(str)\n",
    "            meta_cols.append(col)\n",
    "    for col in (\"ingredients\", \"tags\"):\n",
    "        if col in df:\n",
    "            df[col] = df[col].apply(\n",
    "                lambda x: json.dumps(x, ensure_ascii=False)\n",
    "                if isinstance(x, (list, dict))\n",
    "                else (\"\" if pd.isna(x) else str(x))\n",
    "            )\n",
    "            meta_cols.append(col)\n",
    "\n",
    "    upload_df = df[[\"input\", \"output\"] + meta_cols]\n",
    "    ds_name = (\n",
    "        dataset_name or f\"recipes-synth-queries-{len(upload_df)}-{time.strftime('%Y%m%d-%H%M%S')}\"\n",
    "    )\n",
    "    ds = px.Client().upload_dataset(\n",
    "        dataframe=upload_df,\n",
    "        dataset_name=ds_name,\n",
    "        input_keys=[\"input\"],\n",
    "        output_keys=[\"output\"],\n",
    "        metadata_keys=meta_cols or None,\n",
    "    )\n",
    "    print(f\"✅ Uploaded dataset '{getattr(ds, 'name', ds)}' with {len(upload_df)} rows\")\n",
    "    return ds"
   ]
  },
  {
   "cell_type": "code",
   "execution_count": 28,
   "id": "bf68d48d",
   "metadata": {},
   "outputs": [
    {
     "name": "stdout",
     "output_type": "stream",
     "text": [
      "Uploading synthetic queries as a dataset in Phoenix...\n",
      "📤 Uploading dataset...\n",
      "💾 Examples uploaded: http://127.0.0.1:6006/datasets/RGF0YXNldDoz/examples\n",
      "🗄️ Dataset version ID: RGF0YXNldFZlcnNpb246Mw==\n",
      "✅ Uploaded dataset 'Dataset(id='RGF0YXNldDoz', version_id='RGF0YXNldFZlcnNpb246Mw==')' with 100 rows\n"
     ]
    },
    {
     "data": {
      "text/plain": [
       "Dataset(id='RGF0YXNldDoz', version_id='RGF0YXNldFZlcnNpb246Mw==')"
      ]
     },
     "execution_count": 28,
     "metadata": {},
     "output_type": "execute_result"
    }
   ],
   "source": [
    "print(\"Uploading synthetic queries as a dataset in Phoenix...\")\n",
    "upload_synthetic_queries_to_phoenix(SYN_QUERY_PATH, dataset_name=\"synthetic_queries\")"
   ]
  },
  {
   "cell_type": "markdown",
   "id": "5b1c0dce",
   "metadata": {},
   "source": [
    "# Part 2: Evaluate the BM25 Retriever\n",
    "## Step 4: Implement Evaluation\n",
    "\n",
    "- Load synthetic queries and retrieval engine\n",
    "- For each query, run retrieve_bm25() and record results\n",
    "- Calculate standard IR metrics:\n",
    "    - ##Recall@1: Target recipe rank 1\n",
    "    - ##Recall@3: Target recipe in top 3\n",
    "    - ##Recall@5: Target recipe in top 5\n",
    "    - ##MRR: Mean Reciprocal Rank\n",
    "- Save detailed results to results/retrieval_evaluation.json"
   ]
  },
  {
   "cell_type": "markdown",
   "id": "24fce350",
   "metadata": {},
   "source": [
    "Let's track our traces in our Phoenix project!"
   ]
  },
  {
   "cell_type": "code",
   "execution_count": 29,
   "id": "28d813bb",
   "metadata": {},
   "outputs": [],
   "source": [
    "def run_queries_to_phoenix(\n",
    "    items: Union[str, List[Union[str, Dict[str, Any]]]],\n",
    "    corpus,\n",
    "    bm25,\n",
    "    tokenized_corpus,\n",
    "    *,\n",
    "    top_k: int = 5,\n",
    "    tracer=None,\n",
    "):\n",
    "    \"\"\"\n",
    "    For each query, emit a 'rag.query' span; your @retriever-decorated retrieve_bm25()\n",
    "    will emit the child 'retrieval.bm25' span with Phoenix-friendly doc attrs.\n",
    "    \"\"\"\n",
    "    tr = tracer or globals().get(\"tracer\") or register_phoenix()\n",
    "    span_cm = (lambda name: tr.start_as_current_span(name)) if tr else (lambda name: nullcontext())\n",
    "\n",
    "    if isinstance(items, str) and (items.endswith(\".json\") or os.path.exists(items)):\n",
    "        items = json.loads(Path(items).read_text(encoding=\"utf-8\"))\n",
    "\n",
    "    def _txt(x):\n",
    "        return \"\" if x is None else str(x)\n",
    "\n",
    "    def _norm(x):\n",
    "        return \"\" if x is None else str(x)\n",
    "\n",
    "    for it in items:\n",
    "        if isinstance(it, str):\n",
    "            q = it.strip()\n",
    "            salient = None\n",
    "            target_id = None\n",
    "        else:\n",
    "            q = _txt(it.get(\"query\") or it.get(\"input\")).strip()\n",
    "            salient = _txt(it.get(\"salient_fact\") or it.get(\"output\")).strip() or None\n",
    "            target_id = _norm(it.get(\"source_recipe_id\")) or None\n",
    "\n",
    "        with span_cm(\"rag.query\") as root:\n",
    "            if tr:\n",
    "                root.set_attribute(\n",
    "                    SpanAttributes.OPENINFERENCE_SPAN_KIND, OpenInferenceSpanKindValues.CHAIN.value\n",
    "                )\n",
    "                root.set_attribute(SpanAttributes.INPUT_VALUE, q)\n",
    "                root.set_attribute(\"eval.synthetic\", True)\n",
    "                if salient:\n",
    "                    root.set_attribute(\"eval.salient_fact\", salient)\n",
    "                if target_id:\n",
    "                    root.set_attribute(\"eval.target_id\", target_id)\n",
    "                root.set_attribute(\"retriever.top_k\", int(top_k))\n",
    "\n",
    "            t0 = perf_counter()\n",
    "            hits = retrieve_bm25(q, corpus, bm25, tokenized_corpus, top_n=5)\n",
    "            if tr:\n",
    "                root.set_attribute(\"retrieval.latency_ms\", int((perf_counter() - t0) * 1000))\n",
    "                root.set_attribute(\n",
    "                    \"retrieval.top_ids\", json.dumps([_norm(h.get(\"id\")) for h in hits])\n",
    "                )"
   ]
  },
  {
   "cell_type": "code",
   "execution_count": 37,
   "id": "f1dfa8f9",
   "metadata": {},
   "outputs": [
    {
     "name": "stderr",
     "output_type": "stream",
     "text": [
      "Transient error StatusCode.UNAVAILABLE encountered while exporting traces to localhost:4317, retrying in 1s.\n"
     ]
    },
    {
     "name": "stdout",
     "output_type": "stream",
     "text": [
      "Running queries to Phoenix...\n"
     ]
    }
   ],
   "source": [
    "print(\"Running queries to Phoenix...\")\n",
    "run_queries_to_phoenix(SYN_QUERY_PATH, corpus, bm25, tok, top_k=5, tracer=tracer)"
   ]
  },
  {
   "cell_type": "markdown",
   "id": "5228e181",
   "metadata": {},
   "source": [
    "We can also run our retriever on the synethtic queries dataset we have uploaded. "
   ]
  },
  {
   "cell_type": "code",
   "execution_count": 39,
   "id": "771f951c",
   "metadata": {},
   "outputs": [],
   "source": [
    "def make_bm25_task(\n",
    "    corpus,\n",
    "    bm25,\n",
    "    tokenized_corpus,\n",
    "    k: int,\n",
    "    collector: list,\n",
    "    show_top_k: int = 5,\n",
    "    tracer=None,\n",
    "):\n",
    "    tr = tracer or globals().get(\"tracer\") or register_phoenix()\n",
    "\n",
    "    def _span(name):\n",
    "        return tr.start_as_current_span(name) if tr else nullcontext()\n",
    "\n",
    "    def bm25_task(example: Example):\n",
    "        q = (example.input.get(\"input\") or example.input.get(\"query\") or \"\").strip()\n",
    "        salient = (example.output.get(\"output\") or example.output.get(\"salient_fact\") or \"\").strip()\n",
    "        md = example.metadata or {}\n",
    "        inp = example.input or {}\n",
    "        target_id = _norm_id(md.get(\"source_recipe_id\") or inp.get(\"source_recipe_id\"))\n",
    "\n",
    "        with _span(\"rag.query\") as root:\n",
    "            if tr:\n",
    "                root.set_attribute(\n",
    "                    SpanAttributes.OPENINFERENCE_SPAN_KIND, OpenInferenceSpanKindValues.CHAIN.value\n",
    "                )\n",
    "                root.set_attribute(SpanAttributes.INPUT_VALUE, q)\n",
    "                if salient:\n",
    "                    root.set_attribute(\"eval.salient_fact\", salient)\n",
    "                root.set_attribute(\"retriever.top_k\", int(k))\n",
    "\n",
    "            t0 = perf_counter()\n",
    "            hits = retrieve_bm25(q, corpus, bm25, tokenized_corpus, top_n=5)\n",
    "\n",
    "            keep = min(show_top_k, len(hits))\n",
    "            top = hits[:keep]\n",
    "            top_ids = [_norm_id(h.get(\"id\")) for h in top]\n",
    "            top_titles = [str(h.get(\"title\") or \"\") for h in top]\n",
    "\n",
    "            if tr:\n",
    "                root.set_attribute(\"retrieval.latency_ms\", int((perf_counter() - t0) * 1000))\n",
    "                root.set_attribute(\"retrieval.top_ids\", json.dumps(top_ids))\n",
    "\n",
    "        hit_rank = 0\n",
    "        if target_id:\n",
    "            for r, h in enumerate(hits, 1):\n",
    "                if _norm_id(h.get(\"id\")) == target_id:\n",
    "                    hit_rank = r\n",
    "                    break\n",
    "        r1 = 1.0 if hit_rank == 1 else 0.0\n",
    "        r3 = 1.0 if (hit_rank and hit_rank <= 3) else 0.0\n",
    "        r5 = 1.0 if (hit_rank and hit_rank <= 5) else 0.0\n",
    "        rr = 1.0 / hit_rank if hit_rank else 0.0\n",
    "\n",
    "        collector.append(\n",
    "            {\n",
    "                \"query\": q,\n",
    "                \"salient_fact\": salient,\n",
    "                \"target_id\": target_id or None,\n",
    "                \"top_k\": k,\n",
    "                \"hit_rank\": hit_rank or None,\n",
    "                \"recall@1\": r1,\n",
    "                \"recall@3\": r3,\n",
    "                \"recall@5\": r5,\n",
    "                \"rr\": rr,\n",
    "                \"top5\": [{\"id\": i, \"title\": t} for i, t in zip(top_ids, top_titles)],\n",
    "            }\n",
    "        )\n",
    "\n",
    "        return {\"top_ids\": top_ids, \"top_titles\": top_titles}\n",
    "\n",
    "    return bm25_task"
   ]
  },
  {
   "cell_type": "markdown",
   "id": "951c4635",
   "metadata": {},
   "source": [
    "## 🕰️ Evaluation Time "
   ]
  },
  {
   "cell_type": "markdown",
   "id": "e3e459d9",
   "metadata": {},
   "source": [
    "#### IR metric evaluators\n",
    "_recall_at_k_generic(k, ...): Checks if the ground-truth recipe ID appears in the model’s top_ids. Returns 1.0 if it’s within the top-k, else 0.0.\n",
    "\n",
    "RecallAt1 / RecallAt3 / RecallAt5: Thin wrappers around the generic function for k = 1, 3, 5.\n",
    "\n",
    "MRR: Mean Reciprocal Rank for a single example. If the ground-truth ID is at rank r in top_ids, returns 1/r; returns 0.0 if it’s not found."
   ]
  },
  {
   "cell_type": "markdown",
   "id": "679803ad",
   "metadata": {},
   "source": [
    "<img alt=\"Document Retrieval Evaluation Image\" src=\"https://storage.googleapis.com/arize-phoenix-assets/assets/images/phoenix-docs-images/ir_metrics_for_rag.png\" width=1000/>"
   ]
  },
  {
   "cell_type": "code",
   "execution_count": 38,
   "id": "e497d2d6",
   "metadata": {},
   "outputs": [],
   "source": [
    "def _recall_at_k_generic(\n",
    "    k: int, input=None, output=None, expected=None, metadata=None, reference=None\n",
    ") -> float:\n",
    "    gt = _norm_id((metadata or {}).get(\"source_recipe_id\") or (input or {}).get(\"source_recipe_id\"))\n",
    "    if not gt:\n",
    "        return 0.0\n",
    "    top_ids = (output or {}).get(\"top_ids\", []) if isinstance(output, dict) else []\n",
    "    for rank, did in enumerate(top_ids, 1):\n",
    "        if _norm_id(did) == gt:\n",
    "            return 1.0 if rank <= k else 0.0\n",
    "    return 0.0\n",
    "\n",
    "\n",
    "def RecallAt1(input=None, output=None, expected=None, metadata=None, reference=None) -> float:\n",
    "    return _recall_at_k_generic(\n",
    "        1, input=input, output=output, expected=expected, metadata=metadata, reference=reference\n",
    "    )\n",
    "\n",
    "\n",
    "def RecallAt3(input=None, output=None, expected=None, metadata=None, reference=None) -> float:\n",
    "    return _recall_at_k_generic(\n",
    "        3, input=input, output=output, expected=expected, metadata=metadata, reference=reference\n",
    "    )\n",
    "\n",
    "\n",
    "def RecallAt5(input=None, output=None, expected=None, metadata=None, reference=None) -> float:\n",
    "    return _recall_at_k_generic(\n",
    "        5, input=input, output=output, expected=expected, metadata=metadata, reference=reference\n",
    "    )\n",
    "\n",
    "\n",
    "def MRR(input=None, output=None, expected=None, metadata=None, reference=None) -> float:\n",
    "    gt = _norm_id((metadata or {}).get(\"source_recipe_id\") or (input or {}).get(\"source_recipe_id\"))\n",
    "    if not gt:\n",
    "        return 0.0\n",
    "    top_ids = (output or {}).get(\"top_ids\", []) if isinstance(output, dict) else []\n",
    "    for rank, did in enumerate(top_ids, 1):\n",
    "        if _norm_id(did) == gt:\n",
    "            return 1.0 / rank\n",
    "    return 0.0"
   ]
  },
  {
   "cell_type": "markdown",
   "id": "5eae9830",
   "metadata": {},
   "source": [
    "#### Run BM25 experiment\n",
    "Runs BM25 over a Phoenix dataset by name, logs spans, and scores Recall@1/3/5 + MRR.\n",
    "\n",
    "Collects per-query results, computes a summary, and saves everything to out_path as JSON.\n",
    "\n",
    "Returns the Phoenix experiment and the results file path."
   ]
  },
  {
   "cell_type": "code",
   "execution_count": 40,
   "id": "f66460a6",
   "metadata": {},
   "outputs": [],
   "source": [
    "def run_bm25_experiment_on_ds(\n",
    "    corpus,\n",
    "    bm25,\n",
    "    tokenized_corpus,\n",
    "    dataset_name: str,\n",
    "    k: int = 50,\n",
    "    show_top_k: int = 5,\n",
    "    out_path: str = EVAL_RESULTS_PATH,\n",
    "):\n",
    "    client = px.Client()\n",
    "    ds = client.get_dataset(name=dataset_name)\n",
    "\n",
    "    collector = []\n",
    "    task = make_bm25_task(\n",
    "        corpus, bm25, tokenized_corpus, k=k, collector=collector, show_top_k=show_top_k\n",
    "    )\n",
    "\n",
    "    evaluators = [RecallAt1, RecallAt3, RecallAt5, MRR]\n",
    "    experiment = run_experiment(ds, task, evaluators=evaluators)\n",
    "    print(\"✅ Experiment finished.\")\n",
    "\n",
    "    n = len(collector) or 1\n",
    "    sum_r1 = sum(r[\"recall@1\"] for r in collector)\n",
    "    sum_r3 = sum(r[\"recall@3\"] for r in collector)\n",
    "    sum_r5 = sum(r[\"recall@5\"] for r in collector)\n",
    "    sum_rr = sum(r[\"rr\"] for r in collector)\n",
    "\n",
    "    summary = {\n",
    "        \"examples\": n,\n",
    "        \"k\": k,\n",
    "        \"show_top_k\": show_top_k,\n",
    "        \"recall@1\": round(sum_r1 / n, 4),\n",
    "        \"recall@3\": round(sum_r3 / n, 4),\n",
    "        \"recall@5\": round(sum_r5 / n, 4),\n",
    "        \"mrr\": round(sum_rr / n, 4),\n",
    "        \"hit_rate@show_top_k\": round(\n",
    "            sum(1.0 for r in collector if r[\"hit_rank\"] and r[\"hit_rank\"] <= show_top_k) / n, 4\n",
    "        ),\n",
    "    }\n",
    "\n",
    "    payload = {\"summary\": summary, \"results\": collector}\n",
    "    Path(out_path).parent.mkdir(parents=True, exist_ok=True)\n",
    "    Path(out_path).write_text(json.dumps(payload, indent=2, ensure_ascii=False), encoding=\"utf-8\")\n",
    "    print(f\"💾 Saved detailed results → {out_path}\")\n",
    "\n",
    "    return experiment, out_path"
   ]
  },
  {
   "cell_type": "code",
   "execution_count": 41,
   "id": "1ac21f91",
   "metadata": {},
   "outputs": [
    {
     "name": "stdout",
     "output_type": "stream",
     "text": [
      "Running BM25 experiment on synthetic queries...\n",
      "🧪 Experiment started.\n",
      "📺 View dataset experiments: http://127.0.0.1:6006/datasets/RGF0YXNldDoz/experiments\n",
      "🔗 View this experiment: http://127.0.0.1:6006/datasets/RGF0YXNldDoz/compare?experimentId=RXhwZXJpbWVudDox\n"
     ]
    },
    {
     "data": {
      "application/vnd.jupyter.widget-view+json": {
       "model_id": "0ad27032f98e41e9920e2ff2419c8ef9",
       "version_major": 2,
       "version_minor": 0
      },
      "text/plain": [
       "running tasks |          | 0/100 (0.0%) | ⏳ 00:00<? | ?it/s"
      ]
     },
     "metadata": {},
     "output_type": "display_data"
    },
    {
     "name": "stderr",
     "output_type": "stream",
     "text": [
      "Transient error StatusCode.UNAVAILABLE encountered while exporting traces to localhost:4317, retrying in 1s.\n"
     ]
    },
    {
     "name": "stdout",
     "output_type": "stream",
     "text": [
      "✅ Task runs completed.\n",
      "🧠 Evaluation started.\n"
     ]
    },
    {
     "data": {
      "application/vnd.jupyter.widget-view+json": {
       "model_id": "35f55f520aef4babbb613c21d7567ff2",
       "version_major": 2,
       "version_minor": 0
      },
      "text/plain": [
       "running experiment evaluations |          | 0/400 (0.0%) | ⏳ 00:00<? | ?it/s"
      ]
     },
     "metadata": {},
     "output_type": "display_data"
    },
    {
     "name": "stdout",
     "output_type": "stream",
     "text": [
      "\n",
      "🔗 View this experiment: http://127.0.0.1:6006/datasets/RGF0YXNldDoz/compare?experimentId=RXhwZXJpbWVudDox\n",
      "\n",
      "Experiment Summary (08/12/25 05:20 PM -0700)\n",
      "--------------------------------------------\n",
      "| evaluator   |   n |   n_scores |   avg_score |\n",
      "|:------------|----:|-----------:|------------:|\n",
      "| MRR         | 100 |        100 |    0.607333 |\n",
      "| RecallAt1   | 100 |        100 |    0.53     |\n",
      "| RecallAt3   | 100 |        100 |    0.68     |\n",
      "| RecallAt5   | 100 |        100 |    0.72     |\n",
      "\n",
      "Tasks Summary (08/12/25 05:19 PM -0700)\n",
      "---------------------------------------\n",
      "|   n_examples |   n_runs |   n_errors |\n",
      "|-------------:|---------:|-----------:|\n",
      "|          100 |      100 |          0 |\n",
      "✅ Experiment finished.\n",
      "💾 Saved detailed results → hw4/results/retrieval_evaluation.json\n"
     ]
    }
   ],
   "source": [
    "print(\"Running BM25 experiment on synthetic queries...\")\n",
    "experiment, path = run_bm25_experiment_on_ds(\n",
    "    corpus, bm25, tok, dataset_name=\"synthetic_queries\", k=TOP_N\n",
    ")"
   ]
  },
  {
   "cell_type": "markdown",
   "id": "2fb280cd",
   "metadata": {},
   "source": [
    "## Optional: Document Retrieval Relevance Evaluator "
   ]
  },
  {
   "cell_type": "markdown",
   "id": "d93214f9",
   "metadata": {},
   "source": [
    "<img alt=\"Document Retrieval Evaluation Image\" src=\"https://storage.googleapis.com/arize-phoenix-assets/assets/images/phoenix-docs-images/documentRelevanceDiagram.png\" width=\"1000\"/>"
   ]
  },
  {
   "cell_type": "code",
   "execution_count": 42,
   "id": "0f8592e7",
   "metadata": {},
   "outputs": [
    {
     "data": {
      "text/html": [
       "<div>\n",
       "<style scoped>\n",
       "    .dataframe tbody tr th:only-of-type {\n",
       "        vertical-align: middle;\n",
       "    }\n",
       "\n",
       "    .dataframe tbody tr th {\n",
       "        vertical-align: top;\n",
       "    }\n",
       "\n",
       "    .dataframe thead th {\n",
       "        text-align: right;\n",
       "    }\n",
       "</style>\n",
       "<table border=\"1\" class=\"dataframe\">\n",
       "  <thead>\n",
       "    <tr style=\"text-align: right;\">\n",
       "      <th></th>\n",
       "      <th></th>\n",
       "      <th>context.trace_id</th>\n",
       "      <th>input</th>\n",
       "      <th>reference</th>\n",
       "      <th>document_score</th>\n",
       "    </tr>\n",
       "    <tr>\n",
       "      <th>context.span_id</th>\n",
       "      <th>document_position</th>\n",
       "      <th></th>\n",
       "      <th></th>\n",
       "      <th></th>\n",
       "      <th></th>\n",
       "    </tr>\n",
       "  </thead>\n",
       "  <tbody>\n",
       "    <tr>\n",
       "      <th rowspan=\"5\" valign=\"top\">e117d9951393dd77</th>\n",
       "      <th>0</th>\n",
       "      <td>badcc32ac1590f538a0f4efbedcd465e</td>\n",
       "      <td>What temperature should the oven be preheated to?</td>\n",
       "      <td>butter croissants Ingredients: butter all-purp...</td>\n",
       "      <td>12.576315</td>\n",
       "    </tr>\n",
       "    <tr>\n",
       "      <th>1</th>\n",
       "      <td>badcc32ac1590f538a0f4efbedcd465e</td>\n",
       "      <td>What temperature should the oven be preheated to?</td>\n",
       "      <td>artisan boule bread Ingredients: lager beer wa...</td>\n",
       "      <td>12.564336</td>\n",
       "    </tr>\n",
       "    <tr>\n",
       "      <th>2</th>\n",
       "      <td>badcc32ac1590f538a0f4efbedcd465e</td>\n",
       "      <td>What temperature should the oven be preheated to?</td>\n",
       "      <td>danish pastry cinnamon rolls Ingredients: butt...</td>\n",
       "      <td>12.407743</td>\n",
       "    </tr>\n",
       "    <tr>\n",
       "      <th>3</th>\n",
       "      <td>badcc32ac1590f538a0f4efbedcd465e</td>\n",
       "      <td>What temperature should the oven be preheated to?</td>\n",
       "      <td>cream puff paste Ingredients: all-purpose flou...</td>\n",
       "      <td>12.272685</td>\n",
       "    </tr>\n",
       "    <tr>\n",
       "      <th>4</th>\n",
       "      <td>badcc32ac1590f538a0f4efbedcd465e</td>\n",
       "      <td>What temperature should the oven be preheated to?</td>\n",
       "      <td>real down home southern country biscuits and g...</td>\n",
       "      <td>11.578284</td>\n",
       "    </tr>\n",
       "    <tr>\n",
       "      <th>...</th>\n",
       "      <th>...</th>\n",
       "      <td>...</td>\n",
       "      <td>...</td>\n",
       "      <td>...</td>\n",
       "      <td>...</td>\n",
       "    </tr>\n",
       "    <tr>\n",
       "      <th rowspan=\"5\" valign=\"top\">cc9e4574af5e9f7c</th>\n",
       "      <th>0</th>\n",
       "      <td>638c254c076e2bba7c5308bf6f92f25e</td>\n",
       "      <td>How long should the gingerbread castle bake for?</td>\n",
       "      <td>gingerbread castle Ingredients: unsalted butte...</td>\n",
       "      <td>25.282648</td>\n",
       "    </tr>\n",
       "    <tr>\n",
       "      <th>1</th>\n",
       "      <td>638c254c076e2bba7c5308bf6f92f25e</td>\n",
       "      <td>How long should the gingerbread castle bake for?</td>\n",
       "      <td>necco wafer gingerbread house from new england...</td>\n",
       "      <td>14.741815</td>\n",
       "    </tr>\n",
       "    <tr>\n",
       "      <th>2</th>\n",
       "      <td>638c254c076e2bba7c5308bf6f92f25e</td>\n",
       "      <td>How long should the gingerbread castle bake for?</td>\n",
       "      <td>rosemary christmas tree centerpiece Ingredient...</td>\n",
       "      <td>11.319921</td>\n",
       "    </tr>\n",
       "    <tr>\n",
       "      <th>3</th>\n",
       "      <td>638c254c076e2bba7c5308bf6f92f25e</td>\n",
       "      <td>How long should the gingerbread castle bake for?</td>\n",
       "      <td>the beefiest juiciest brisket what am the smok...</td>\n",
       "      <td>10.308221</td>\n",
       "    </tr>\n",
       "    <tr>\n",
       "      <th>4</th>\n",
       "      <td>638c254c076e2bba7c5308bf6f92f25e</td>\n",
       "      <td>How long should the gingerbread castle bake for?</td>\n",
       "      <td>rustic boule Ingredients: active dry yeast wat...</td>\n",
       "      <td>10.171013</td>\n",
       "    </tr>\n",
       "  </tbody>\n",
       "</table>\n",
       "<p>500 rows × 4 columns</p>\n",
       "</div>"
      ],
      "text/plain": [
       "                                                    context.trace_id  \\\n",
       "context.span_id  document_position                                     \n",
       "e117d9951393dd77 0                  badcc32ac1590f538a0f4efbedcd465e   \n",
       "                 1                  badcc32ac1590f538a0f4efbedcd465e   \n",
       "                 2                  badcc32ac1590f538a0f4efbedcd465e   \n",
       "                 3                  badcc32ac1590f538a0f4efbedcd465e   \n",
       "                 4                  badcc32ac1590f538a0f4efbedcd465e   \n",
       "...                                                              ...   \n",
       "cc9e4574af5e9f7c 0                  638c254c076e2bba7c5308bf6f92f25e   \n",
       "                 1                  638c254c076e2bba7c5308bf6f92f25e   \n",
       "                 2                  638c254c076e2bba7c5308bf6f92f25e   \n",
       "                 3                  638c254c076e2bba7c5308bf6f92f25e   \n",
       "                 4                  638c254c076e2bba7c5308bf6f92f25e   \n",
       "\n",
       "                                                                                input  \\\n",
       "context.span_id  document_position                                                      \n",
       "e117d9951393dd77 0                  What temperature should the oven be preheated to?   \n",
       "                 1                  What temperature should the oven be preheated to?   \n",
       "                 2                  What temperature should the oven be preheated to?   \n",
       "                 3                  What temperature should the oven be preheated to?   \n",
       "                 4                  What temperature should the oven be preheated to?   \n",
       "...                                                                               ...   \n",
       "cc9e4574af5e9f7c 0                   How long should the gingerbread castle bake for?   \n",
       "                 1                   How long should the gingerbread castle bake for?   \n",
       "                 2                   How long should the gingerbread castle bake for?   \n",
       "                 3                   How long should the gingerbread castle bake for?   \n",
       "                 4                   How long should the gingerbread castle bake for?   \n",
       "\n",
       "                                                                            reference  \\\n",
       "context.span_id  document_position                                                      \n",
       "e117d9951393dd77 0                  butter croissants Ingredients: butter all-purp...   \n",
       "                 1                  artisan boule bread Ingredients: lager beer wa...   \n",
       "                 2                  danish pastry cinnamon rolls Ingredients: butt...   \n",
       "                 3                  cream puff paste Ingredients: all-purpose flou...   \n",
       "                 4                  real down home southern country biscuits and g...   \n",
       "...                                                                               ...   \n",
       "cc9e4574af5e9f7c 0                  gingerbread castle Ingredients: unsalted butte...   \n",
       "                 1                  necco wafer gingerbread house from new england...   \n",
       "                 2                  rosemary christmas tree centerpiece Ingredient...   \n",
       "                 3                  the beefiest juiciest brisket what am the smok...   \n",
       "                 4                  rustic boule Ingredients: active dry yeast wat...   \n",
       "\n",
       "                                    document_score  \n",
       "context.span_id  document_position                  \n",
       "e117d9951393dd77 0                       12.576315  \n",
       "                 1                       12.564336  \n",
       "                 2                       12.407743  \n",
       "                 3                       12.272685  \n",
       "                 4                       11.578284  \n",
       "...                                            ...  \n",
       "cc9e4574af5e9f7c 0                       25.282648  \n",
       "                 1                       14.741815  \n",
       "                 2                       11.319921  \n",
       "                 3                       10.308221  \n",
       "                 4                       10.171013  \n",
       "\n",
       "[500 rows x 4 columns]"
      ]
     },
     "execution_count": 42,
     "metadata": {},
     "output_type": "execute_result"
    }
   ],
   "source": [
    "retrieved_documents_df = get_retrieved_documents(\n",
    "    px.Client(), project_name=experiment.project_name, timeout=None\n",
    ")\n",
    "retrieved_documents_df"
   ]
  },
  {
   "cell_type": "code",
   "execution_count": 43,
   "id": "a43c6df7",
   "metadata": {},
   "outputs": [],
   "source": [
    "eval_model = OpenAIModel(model=\"gpt-4\")\n",
    "relevance_evaluator = RelevanceEvaluator(eval_model)"
   ]
  },
  {
   "cell_type": "markdown",
   "id": "2079362b",
   "metadata": {},
   "source": [
    "#### RAG Eval Template = \n",
    "> You are comparing a reference text to a question and trying to determine if the reference text\n",
    ">\n",
    "> contains information relevant to answering the question. Here is the data:\n",
    ">\n",
    ">>    [BEGIN DATA]\n",
    ">>    \n",
    ">>    [Question] : query\n",
    ">>    \n",
    ">>    [Reference text] : reference\n",
    ">>\n",
    ">>    [END DATA]\n",
    ">\n",
    "> Compare the Question above to the Reference text. You must determine whether the Reference text\n",
    ">\n",
    "> contains information that can answer the Question. Please focus on whether the very specific\n",
    ">\n",
    "> question can be answered by the information in the Reference text.\n",
    ">\n",
    "> Your response must be single word, either \"relevant\" or \"unrelated\",\n",
    ">\n",
    "> and should not contain any text or characters aside from that word.\n",
    ">\n",
    "> \"unrelated\" means that the reference text does not contain an answer to the Question.\n",
    ">\n",
    "> \"relevant\" means the reference text contains an answer to the Question.\n"
   ]
  },
  {
   "cell_type": "code",
   "execution_count": 44,
   "id": "259e930a",
   "metadata": {},
   "outputs": [
    {
     "data": {
      "application/vnd.jupyter.widget-view+json": {
       "model_id": "c7a29182a4cd411f9810375ce88ed5a8",
       "version_major": 2,
       "version_minor": 0
      },
      "text/plain": [
       "run_evals |          | 0/500 (0.0%) | ⏳ 00:00<? | ?it/s"
      ]
     },
     "metadata": {},
     "output_type": "display_data"
    },
    {
     "data": {
      "text/html": [
       "<div>\n",
       "<style scoped>\n",
       "    .dataframe tbody tr th:only-of-type {\n",
       "        vertical-align: middle;\n",
       "    }\n",
       "\n",
       "    .dataframe tbody tr th {\n",
       "        vertical-align: top;\n",
       "    }\n",
       "\n",
       "    .dataframe thead th {\n",
       "        text-align: right;\n",
       "    }\n",
       "</style>\n",
       "<table border=\"1\" class=\"dataframe\">\n",
       "  <thead>\n",
       "    <tr style=\"text-align: right;\">\n",
       "      <th></th>\n",
       "      <th></th>\n",
       "      <th>label</th>\n",
       "      <th>score</th>\n",
       "      <th>explanation</th>\n",
       "    </tr>\n",
       "    <tr>\n",
       "      <th>context.span_id</th>\n",
       "      <th>document_position</th>\n",
       "      <th></th>\n",
       "      <th></th>\n",
       "      <th></th>\n",
       "    </tr>\n",
       "  </thead>\n",
       "  <tbody>\n",
       "    <tr>\n",
       "      <th rowspan=\"5\" valign=\"top\">e117d9951393dd77</th>\n",
       "      <th>0</th>\n",
       "      <td>unrelated</td>\n",
       "      <td>0</td>\n",
       "      <td>The question asks for the temperature to which...</td>\n",
       "    </tr>\n",
       "    <tr>\n",
       "      <th>1</th>\n",
       "      <td>unrelated</td>\n",
       "      <td>0</td>\n",
       "      <td>The question asks for the temperature to which...</td>\n",
       "    </tr>\n",
       "    <tr>\n",
       "      <th>2</th>\n",
       "      <td>unrelated</td>\n",
       "      <td>0</td>\n",
       "      <td>The question asks for the temperature to which...</td>\n",
       "    </tr>\n",
       "    <tr>\n",
       "      <th>3</th>\n",
       "      <td>unrelated</td>\n",
       "      <td>0</td>\n",
       "      <td>The question asks for the temperature to which...</td>\n",
       "    </tr>\n",
       "    <tr>\n",
       "      <th>4</th>\n",
       "      <td>unrelated</td>\n",
       "      <td>0</td>\n",
       "      <td>The question asks for the temperature to prehe...</td>\n",
       "    </tr>\n",
       "    <tr>\n",
       "      <th>...</th>\n",
       "      <th>...</th>\n",
       "      <td>...</td>\n",
       "      <td>...</td>\n",
       "      <td>...</td>\n",
       "    </tr>\n",
       "    <tr>\n",
       "      <th rowspan=\"5\" valign=\"top\">cc9e4574af5e9f7c</th>\n",
       "      <th>0</th>\n",
       "      <td>unrelated</td>\n",
       "      <td>0</td>\n",
       "      <td>The question asks for the baking time of the g...</td>\n",
       "    </tr>\n",
       "    <tr>\n",
       "      <th>1</th>\n",
       "      <td>unrelated</td>\n",
       "      <td>0</td>\n",
       "      <td>The question asks for the baking time of a gin...</td>\n",
       "    </tr>\n",
       "    <tr>\n",
       "      <th>2</th>\n",
       "      <td>unrelated</td>\n",
       "      <td>0</td>\n",
       "      <td>The question asks for the baking time of a gin...</td>\n",
       "    </tr>\n",
       "    <tr>\n",
       "      <th>3</th>\n",
       "      <td>unrelated</td>\n",
       "      <td>0</td>\n",
       "      <td>The question is asking for the baking time of ...</td>\n",
       "    </tr>\n",
       "    <tr>\n",
       "      <th>4</th>\n",
       "      <td>unrelated</td>\n",
       "      <td>0</td>\n",
       "      <td>The question is asking for the baking time of ...</td>\n",
       "    </tr>\n",
       "  </tbody>\n",
       "</table>\n",
       "<p>500 rows × 3 columns</p>\n",
       "</div>"
      ],
      "text/plain": [
       "                                        label  score  \\\n",
       "context.span_id  document_position                     \n",
       "e117d9951393dd77 0                  unrelated      0   \n",
       "                 1                  unrelated      0   \n",
       "                 2                  unrelated      0   \n",
       "                 3                  unrelated      0   \n",
       "                 4                  unrelated      0   \n",
       "...                                       ...    ...   \n",
       "cc9e4574af5e9f7c 0                  unrelated      0   \n",
       "                 1                  unrelated      0   \n",
       "                 2                  unrelated      0   \n",
       "                 3                  unrelated      0   \n",
       "                 4                  unrelated      0   \n",
       "\n",
       "                                                                          explanation  \n",
       "context.span_id  document_position                                                     \n",
       "e117d9951393dd77 0                  The question asks for the temperature to which...  \n",
       "                 1                  The question asks for the temperature to which...  \n",
       "                 2                  The question asks for the temperature to which...  \n",
       "                 3                  The question asks for the temperature to which...  \n",
       "                 4                  The question asks for the temperature to prehe...  \n",
       "...                                                                               ...  \n",
       "cc9e4574af5e9f7c 0                  The question asks for the baking time of the g...  \n",
       "                 1                  The question asks for the baking time of a gin...  \n",
       "                 2                  The question asks for the baking time of a gin...  \n",
       "                 3                  The question is asking for the baking time of ...  \n",
       "                 4                  The question is asking for the baking time of ...  \n",
       "\n",
       "[500 rows x 3 columns]"
      ]
     },
     "execution_count": 44,
     "metadata": {},
     "output_type": "execute_result"
    }
   ],
   "source": [
    "retrieved_documents_relevance_df = run_evals(\n",
    "    evaluators=[relevance_evaluator],\n",
    "    dataframe=retrieved_documents_df,\n",
    "    provide_explanation=True,\n",
    "    concurrency=20,\n",
    ")[0]\n",
    "retrieved_documents_relevance_df"
   ]
  },
  {
   "cell_type": "code",
   "execution_count": 47,
   "id": "1e64181e",
   "metadata": {},
   "outputs": [],
   "source": [
    "px.Client().log_evaluations(\n",
    "    DocumentEvaluations(eval_name=\"Retrieval Relevance\", dataframe=retrieved_documents_relevance_df)\n",
    ")"
   ]
  }
 ],
 "metadata": {
  "kernelspec": {
   "display_name": "base",
   "language": "python",
   "name": "python3"
  },
  "language_info": {
   "codemirror_mode": {
    "name": "ipython",
    "version": 3
   },
   "file_extension": ".py",
   "mimetype": "text/x-python",
   "name": "python",
   "nbconvert_exporter": "python",
   "pygments_lexer": "ipython3",
   "version": "3.12.2"
  }
 },
 "nbformat": 4,
 "nbformat_minor": 5
}
