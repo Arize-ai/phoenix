{
 "cells": [
  {
   "cell_type": "markdown",
   "metadata": {},
   "source": [
    "<center>\n",
    "    <p style=\"text-align:center\">\n",
    "        <img alt=\"phoenix logo\" src=\"https://raw.githubusercontent.com/Arize-ai/phoenix-assets/9e6101d95936f4bd4d390efc9ce646dc6937fb2d/images/socal/github-large-banner-phoenix.jpg\" width=\"1000\"/>\n",
    "        <br>\n",
    "        <br>\n",
    "        <a href=\"https://arize.com/docs/phoenix/\">Docs</a>\n",
    "        |\n",
    "        <a href=\"https://github.com/Arize-ai/phoenix\">GitHub</a>\n",
    "        |\n",
    "        <a href=\"https://arize-ai.slack.com/join/shared_invite/zt-2w57bhem8-hq24MB6u7yE_ZF_ilOYSBw#/shared-invite/email\">Community</a>\n",
    "    </p>\n",
    "</center>\n",
    "<h1 align=\"center\">Arize Phoenix</h1>\n",
    "\n",
    "Arize Phoenix is a fully open-source AI observability platform. It's designed for experimentation, evaluation, and troubleshooting. It provides:\n",
    "\n",
    "- [**_Tracing_**](https://arize.com/docs/phoenix/tracing/llm-traces) - Trace your LLM application's runtime using OpenTelemetry-based instrumentation.\n",
    "- [**_Evaluation_**](https://arize.com/docs/phoenix/evaluation/llm-evals) - Leverage LLMs to benchmark your application's performance using response and retrieval evals.\n",
    "- [**_Datasets_**](https://arize.com/docs/phoenix/datasets-and-experiments/overview-datasets) - Create versioned datasets of examples for experimentation, evaluation, and fine-tuning.\n",
    "- [**_Experiments_**](https://arize.com/docs/phoenix/datasets-and-experiments/overview-datasets#experiments) - Track and evaluate changes to prompts, LLMs, and retrieval.\n",
    "- [**_Playground_**](https://arize.com/docs/phoenix/prompt-engineering/overview-prompts)- Optimize prompts, compare models, adjust parameters, and replay traced LLM calls.\n",
    "- [**_Prompt Management_**](https://arize.com/docs/phoenix/prompt-engineering/overview-prompts/prompt-management)- Manage and test prompt changes systematically using version control, tagging, and experimentation.\n",
    "\n",
    "Phoenix is vendor and language agnostic with out-of-the-box support for popular frameworks and AI providers.\n",
    "<center>\n",
    "    <p style=\"text-align:center\">\n",
    "        <img alt=\"First-class support for various frameworks and ai providers\" src=\"https://storage.googleapis.com/arize-phoenix-assets/assets/images/openinference_integrations.jpg\" width=\"1000\"/>\n",
    "    </p>\n",
    "</center>\n",
    "\n",
    "Phoenix runs practically anywhere, including your local machine, a Jupyter notebook, a containerized deployment, or in the cloud.\n",
    "\n",
    "<center>\n",
    "    <p style=\"text-align:center\">\n",
    "        <img alt=\"First-class support for various frameworks and ai providers\" src=\"https://storage.googleapis.com/arize-phoenix-assets/assets/images/deployment_strategies.png\" width=\"1000\"/>\n",
    "    </p>\n",
    "</center>"
   ]
  },
  {
   "cell_type": "markdown",
   "metadata": {},
   "source": [
    "The most important thing about choosing a good observability and evaluation tool is first: \"Does the tool help me build good and responsible AI systems?\" All modern platforms will and can do this. The things that make Phoenix somewhat unique are:\n",
    "\n",
    "- 🌎 It's fully open-source and its development is driven heavily by developer feedback\n",
    "- 🔐 It's privacy first, where the data is easily accessible inside your VPC or computer\n",
    "- 🕊️ It has no feature gates and strives to maximize value for its users\n",
    "- ⚙️ It's designed to be customizable to your needs through APIs and SDKs\n",
    "- ✌️ Built on open standards and protocols like OTEL\n",
    "- 💸 It's free - because its goal is to be a platform built by developers for developers"
   ]
  },
  {
   "cell_type": "markdown",
   "metadata": {},
   "source": [
    "# The AI Problem\n",
    "<p style=\"text-align:center\">\n",
    "  <img alt=\"AI dev as scientific method\" src=\"https://storage.googleapis.com/arize-phoenix-assets/assets/gifs/20250524_1125_Forest%20Robots%20Interaction_simple_compose_01jw1n770bep1a829kw3cvvcsc.gif\" width=\"80%\" />\n",
    "</p>\n",
    "The hard truth: Building great AI native products requires a rigorous evaluation process.\n",
    "\n",
    "Talking to an LLM can feel like talking to a new species. We don't think this is an accident. In many ways we are AI scientists observing emergent behavior and the AI development cycle really is the scientific method in disguise. Just as scientists meticulously record experiments and take detailed notes to advance their understanding, AI systems require rigorous observation through tracing, annotations, and experimentation to reach their full potential. The goal of AI-native products is to build tools that empower humans, and it requires careful human judgment to align AI with human preferences and values.\n",
    "\n",
    " <p style=\"text-align:center\">\n",
    "  <img src=\"https://storage.googleapis.com/arize-phoenix-assets/assets/images/scientific_method.png\" width=\"80%\">\n",
    "</p>"
   ]
  },
  {
   "cell_type": "markdown",
   "metadata": {},
   "source": [
    "## 👷‍♀️ Let's build an App\n",
    "\n",
    "Let's build an App that uses common LLM prompting techniques. Specifically, let's try to get an LLM to produce structured output. Let's tackle a particularly messy problem - getting an LLM to produce SQL.\n",
    "\n",
    "We are going to build a simple agent that can answer movie trivia. While this can probably be performed by an LLM, we are going to force the LLM to look up the movie trivia from a SQL database. You can imagine this technique could be very useful if you wanted to expose an internal knowledge store to your agent.\n",
    "\n",
    "<p style=\"text-align: center\">\n",
    "  <img src=\"https://storage.googleapis.com/arize-assets/phoenix/assets/images/txt_2_sql.png\" style=\"width: 80%\" />\n",
    "</p>"
   ]
  },
  {
   "cell_type": "markdown",
   "metadata": {},
   "source": [
    "## 🎥 Tracing\n",
    "Just like scientists, every AI engineer needs a great camera. For this we will use OpenTelemetry. Telemetry produces traces of your LLM, Tools, and more.\n",
    "\n",
    "OpenTelemetry helps to capture the inputs and outputs to our LLM system. We want to trace enough parts of our system so that we can debug failure modes and perform error analysis.\n",
    "\n",
    "Let's roll camera."
   ]
  },
  {
   "cell_type": "code",
   "execution_count": 1,
   "metadata": {},
   "outputs": [],
   "source": [
    "!pip install -U \"arize-phoenix-otel\" \"arize-phoenix-client>=1.20.0\" openai 'httpx<0.28' duckdb datasets pyarrow \"pydantic>=2.0.0\" nest_asyncio \"openinference-instrumentation>=0.1.38\" openinference-instrumentation-openai --quiet"
   ]
  },
  {
   "cell_type": "markdown",
   "metadata": {},
   "source": [
    "This tutorial assumes you have a locally running Phoenix server. We can think of phoenix like a video recorder, observing every activity of your AI application.\n",
    "\n",
    "```shell\n",
    "phoenix serve\n",
    "```"
   ]
  },
  {
   "cell_type": "code",
   "execution_count": 1,
   "metadata": {},
   "outputs": [
    {
     "name": "stderr",
     "output_type": "stream",
     "text": [
      "/Users/mikeldking/work/phoenix/.venv/lib/python3.13/site-packages/tqdm/auto.py:21: TqdmWarning: IProgress not found. Please update jupyter and ipywidgets. See https://ipywidgets.readthedocs.io/en/stable/user_install.html\n",
      "  from .autonotebook import tqdm as notebook_tqdm\n"
     ]
    }
   ],
   "source": [
    "from phoenix.otel import register\n",
    "\n",
    "tracer_provider = register(\n",
    "    project_name=\"movie-app\",\n",
    "    endpoint=\"http://localhost:6006/v1/traces\",\n",
    "    verbose=False,\n",
    "    auto_instrument=True,  # Start recording traces via OpenAIInstrumentor\n",
    ")\n",
    "\n",
    "tracer = tracer_provider.get_tracer(__name__)"
   ]
  },
  {
   "cell_type": "markdown",
   "metadata": {},
   "source": [
    "Lastly, let's make sure we have our OpenAI API key set up."
   ]
  },
  {
   "cell_type": "code",
   "execution_count": 2,
   "metadata": {},
   "outputs": [],
   "source": [
    "import os\n",
    "from getpass import getpass\n",
    "\n",
    "if not os.getenv(\"OPENAI_API_KEY\"):\n",
    "    os.environ[\"OPENAI_API_KEY\"] = getpass(\"🔑 Enter your OpenAI API key: \")"
   ]
  },
  {
   "cell_type": "markdown",
   "metadata": {},
   "source": [
    "## 🗄️ Download Movie Data\n",
    "\n",
    "We are going to use a movie dataset that contains recent titles and their ratings. We will use DuckDB as our SQL database so that we can run the queries directly in the notebook, but you can imagine that this could be a pre-existing SQL database with business-specific data."
   ]
  },
  {
   "cell_type": "code",
   "execution_count": 3,
   "metadata": {},
   "outputs": [
    {
     "data": {
      "text/plain": [
       "<_duckdb.DuckDBPyConnection at 0x121078d30>"
      ]
     },
     "execution_count": 3,
     "metadata": {},
     "output_type": "execute_result"
    }
   ],
   "source": [
    "import duckdb\n",
    "from datasets import load_dataset\n",
    "\n",
    "data = load_dataset(\"wykonos/movies\")[\"train\"]\n",
    "\n",
    "conn = duckdb.connect(database=\":memory:\", read_only=False)\n",
    "conn.register(\"movies\", data.to_pandas())"
   ]
  },
  {
   "cell_type": "code",
   "execution_count": 4,
   "metadata": {},
   "outputs": [
    {
     "name": "stdout",
     "output_type": "stream",
     "text": [
      "{'id': 385687, 'title': 'Fast X', 'genres': 'Action-Crime-Thriller', 'original_language': 'en', 'overview': \"Over many missions and against impossible odds Dom Toretto and his family have outsmarted out-nerved and outdriven every foe in their path. Now they confront the most lethal opponent they've ever faced: A terrifying threat emerging from the shadows of the past who's fueled by blood revenge and who is determined to shatter this family and destroy everything—and everyone—that Dom loves forever.\", 'popularity': 6682.1, 'production_companies': 'Universal Pictures-Original Film-One Race-Perfect Storm Entertainment', 'release_date': '2023-05-17', 'budget': 340000000.0, 'revenue': 686700000.0, 'runtime': 142.0, 'status': 'Released', 'tagline': 'The end of the road begins.', 'vote_average': 7.331, 'vote_count': 1856.0, 'credits': 'Vin Diesel-Michelle Rodriguez-Tyrese Gibson-Ludacris-John Cena-Nathalie Emmanuel-Jordana Brewster-Sung Kang-Jason Momoa-Scott Eastwood-Daniela Melchior-Alan Ritchson-Helen Mirren-Brie Larson-Jason Statham-Charlize Theron-Rita Moreno-Joaquim de Almeida-Leo A. Perry-Luis Da Silva Jr.-Jaz Hutchins-Luka Hays-Alexander Capon-Pete Davidson-Shadrach Agozino-Ludmilla-Miraj Grbić-Meadow Walker Thornton-Allan-Michael Irby-Shahir Figueira-Ben-Hur Santos-Debby Ann Ryan-Josh Dun-Robert Bastens-Dwayne Johnson-Gal Gadot', 'keywords': 'sequel-revenge-racing-family-cars', 'poster_path': '/fiVW06jE7z9YnO4trhaMEdclSiC.jpg', 'backdrop_path': '/4XM8DUTQb3lhLemJC51Jx4a2EuA.jpg', 'recommendations': '19603-445954-697843-603692-781009-502356-747355-640146-569094-1070777-536437-121342-325358-667538-960033-496450-447365-1037644-298618-713704-1121116'}\n",
      "{'id': 758323, 'title': \"The Pope's Exorcist\", 'genres': 'Horror-Mystery-Thriller', 'original_language': 'en', 'overview': \"Father Gabriele Amorth Chief Exorcist of the Vatican investigates a young boy's terrifying possession and ends up uncovering a centuries-old conspiracy the Vatican has desperately tried to keep hidden.\", 'popularity': 5953.227, 'production_companies': 'Screen Gems-2.0 Entertainment-Jesus & Mary-Worldwide Katz-Loyola Productions-FFILME.RO', 'release_date': '2023-04-05', 'budget': 18000000.0, 'revenue': 65675816.0, 'runtime': 103.0, 'status': 'Released', 'tagline': 'Inspired by the actual files of Father Gabriele Amorth, Chief Exorcist of the Vatican.', 'vote_average': 7.433, 'vote_count': 545.0, 'credits': \"Russell Crowe-Daniel Zovatto-Alex Essoe-Franco Nero-Peter DeSouza-Feighoney-Laurel Marsden-Cornell John-Ryan O'Grady-Bianca Bardoe-Santi Bayón-Paloma Bloyd-Alessandro Gruttadauria-River Hawkins-Jordi Collet-Carrie Munro-Marc Velasco-Edward Harper-Jones-Matthew Sim-Victor Solé-Tom Bonington-Andrea Dugoni-Ed White-Laila Barwick-Gennaro Diana-Pablo Raybould-Ralph Ineson-Derek Carroll-Ella Cannon\", 'keywords': 'spain-rome italy-vatican-pope-pig-possession-conspiracy-devil-exorcist-skepticism-catholic priest-1980s-supernatural horror', 'poster_path': '/9JBEPLTPSm0d1mbEcLxULjJq9Eh.jpg', 'backdrop_path': '/hiHGRbyTcbZoLsYYkO4QiCLYe34.jpg', 'recommendations': '713704-296271-502356-1076605-1084225-1008005-916224-1023313-1033219-980078-842945-943822-816904-804150-638974-649609-603692-849869-809787-776835-1104040'}\n",
      "{'id': 640146, 'title': 'Ant-Man and the Wasp: Quantumania', 'genres': 'Action-Adventure-Science Fiction', 'original_language': 'en', 'overview': \"Super-Hero partners Scott Lang and Hope van Dyne along with with Hope's parents Janet van Dyne and Hank Pym and Scott's daughter Cassie Lang find themselves exploring the Quantum Realm interacting with strange new creatures and embarking on an adventure that will push them beyond the limits of what they thought possible.\", 'popularity': 4425.387, 'production_companies': 'Marvel Studios-Kevin Feige Productions', 'release_date': '2023-02-15', 'budget': 200000000.0, 'revenue': 475766228.0, 'runtime': 125.0, 'status': 'Released', 'tagline': 'Witness the beginning of a new dynasty.', 'vote_average': 6.507, 'vote_count': 2811.0, 'credits': \"Paul Rudd-Evangeline Lilly-Jonathan Majors-Kathryn Newton-Michelle Pfeiffer-Michael Douglas-Corey Stoll-Bill Murray-William Jackson Harper-David Dastmalchian-Jamie Andrew Cutler-Katy O'Brian-Mark Weinman-Randall Park-Ross Mullan-Tom Clark-Leon Cooke-Nathan Blees-Durassie Kiangangu-Liran Nathan-Sam Symons-Grahame Fox-Nicola Peluso-Harrison Daniels-Brahmdeo Shannon Ramana-Russell Balogh-Leonardo Taiwo-Osian Roberts-Lucas Gerstel-Mia Gerstel-Tracy Jeffrey-Dinah Jeffrey-Judy Jeffrey-John Nayagam-Greta Nayagam-Cathy Chan-Adam Sai-Jamie Sai-Jakari Fraser-Patricia Belcher-Mark Oliver Everett-Ruben Rabasa-Melanie Garcia-Gregg Turkington-Sierra Katow-Ryan Bergara-Marielle Scott-Jake Millgard-Dey Young-Briza Covarrubias-Tess Aubert-David J. Castillo-Sir Cornwell-Alan Heitz-Esther McAuley-Aisling Maria Andreica-Milton Lopes-Roger Craig Smith-Matthew Wood-Loveday Smith-John Townsend-Tom Hiddleston-Owen Wilson-Abby Ryder Fortson\", 'keywords': 'hero-ant-sequel-superhero-based on comic-family-superhero team-aftercreditsstinger-duringcreditsstinger-marvel cinematic universe (mcu)', 'poster_path': '/qnqGbB22YJ7dSs4o6M7exTpNxPz.jpg', 'backdrop_path': '/m8JTwHFwX7I7JY5fPe4SjqejWag.jpg', 'recommendations': '823999-676841-868759-734048-267805-965839-1033219-1035806-946310-811948-842942-772515-1058949-1105283-938992-1077280-76600-677179-802401-461191-980078'}\n",
      "{'id': 677179, 'title': 'Creed III', 'genres': 'Drama-Action', 'original_language': 'en', 'overview': 'After dominating the boxing world Adonis Creed has been thriving in both his career and family life. When a childhood friend and former boxing prodigy Damien Anderson resurfaces after serving a long sentence in prison he is eager to prove that he deserves his shot in the ring. The face-off between former friends is more than just a fight. To settle the score Adonis must put his future on the line to battle Damien — a fighter who has nothing to lose.', 'popularity': 3994.342, 'production_companies': 'Metro-Goldwyn-Mayer-Proximity Media-Balboa Productions-Outlier Society Productions-Chartoff-Winkler Productions', 'release_date': '2023-03-01', 'budget': 75000000.0, 'revenue': 269000000.0, 'runtime': 116.0, 'status': 'Released', 'tagline': \"You can't run from your past.\", 'vote_average': 7.262, 'vote_count': 1129.0, 'credits': \"Michael B. Jordan-Tessa Thompson-Jonathan Majors-Wood Harris-Phylicia Rashād-Mila Davis-Kent-José Benavidez Jr.-Selenis Leyva-Florian Munteanu-Thaddeus J. Mixson-Spence Moore II-Tony Bellew-Patrice Harris-Ann Najjar-Jacob 'Stitch' Duran-Terence Crawford-Bobby Hernandez-Yahya McClain-Lamont Lankford-Corey Calliet-Kenny Bayless-Todd Grisham-Jessica McCaskill-Maya Page-Jimmy Lennon Jr.-Russell Mora-Al Bernstein-Mauro Ranallo-Brianna Valeria Gonzalez Vazquez-Shayra Medal-Kimberly Dawn Davis-David Diamante-Tony Weeks-Chris Mannix-Andreia Gibau-Soraya Yd-Stephen A. Smith-Barry Pepper-Jessica Holmes-Canelo Álvarez-Fernanda Gomez-Kehlani-Jeremy Lee Stone-Aaron D. Alexander-Brian Neal-Corey Hibbert-James Harden-Jove Edmond-Engle Files-Michael A. Jordan-Natasha Ofili-Rose Eshay-Alan Boell-Eli Joshua Adé-Butch Locsin-Stefni Valencia-Bella Dee-Anastasia Wilson-Beth Scherr-Michelle Davidson-Leah Haile-Teófimo López-Pete Penuel\", 'keywords': 'philadelphia pennsylvania-husband wife relationship-deaf-sports-sequel-orphan-former best friend-ex-con-childhood friends-juvenile detention center-boxing-prodigy', 'poster_path': '/cvsXj3I9Q2iyyIo95AecSd1tad7.jpg', 'backdrop_path': '/5i6SjyDbDWqyun8klUuCxrlFbyw.jpg', 'recommendations': '965839-267805-943822-842942-1035806-823999-1077280-1058949-772515-937278-640146-758009-536554-1011679-315162-934433-785084-631842-82856-100088-436270'}\n",
      "{'id': 502356, 'title': 'The Super Mario Bros. Movie', 'genres': 'Animation-Family-Adventure-Fantasy-Comedy', 'original_language': 'en', 'overview': 'While working underground to fix a water main Brooklyn plumbers—and brothers—Mario and Luigi are transported down a mysterious pipe and wander into a magical new world. But when the brothers are separated Mario embarks on an epic quest to find Luigi.', 'popularity': 3859.926, 'production_companies': 'Universal Pictures-Illumination-Nintendo', 'release_date': '2023-04-05', 'budget': 100000000.0, 'revenue': 1278766975.0, 'runtime': 92.0, 'status': 'Released', 'tagline': None, 'vote_average': 7.764, 'vote_count': 4042.0, 'credits': 'Chris Pratt-Charlie Day-Anya Taylor-Joy-Jack Black-Keegan-Michael Key-Seth Rogen-Fred Armisen-Khary Payton-Sebastian Maniscalco-Charles Martinet-Kevin Michael Richardson-Juliet Jelenic-Rino Romano-John DiMaggio-Jessica DiCicco-Eric Bauza-Scott Menville-Jason Broad-Carlos Alazraqui-Ashly Burch-Rachel Butera-Cathy Cavadini-Will Collyer-Django Craig-Willow Geer-Aaron Hendry-Andy Hirsch-Phil LaMarr-Jeremy Maxwell-Daniel Mora-Eric Osmond-Noreen Reardon-Lee Shorten-Cree Summer-Nisa Ward-Nora Wyman-Barbara Harris-Kazumi Totaka', 'keywords': 'video game-gorilla-plumber-magic mushroom-anthropomorphism-based on video game-toad-aftercreditsstinger-duringcreditsstinger-damsel in distress-piano-white gloves-brother brother relationship', 'poster_path': '/qNBAXBIQlnOThrVvA6mA2B5ggV6.jpg', 'backdrop_path': '/2klQ1z1fcHGgQPevbEQdkCnzyuS.jpg', 'recommendations': '713704-385687-640146-60898-758323-1008005-493529-677179-603692-594767-977177-552688-76600-385647-860867-447365-1084226-1106739-325358-868759-868985'}\n",
      "{'id': 631842, 'title': 'Knock at the Cabin', 'genres': 'Horror-Mystery-Thriller', 'original_language': 'en', 'overview': 'While vacationing at a remote cabin a young girl and her two fathers are taken hostage by four armed strangers who demand that the family make an unthinkable choice to avert the apocalypse. With limited access to the outside world the family must decide what they believe before all is lost.', 'popularity': 3422.537, 'production_companies': 'Blinding Edge Pictures-Universal Pictures-FilmNation Entertainment-Wishmore-Perfect World Pictures', 'release_date': '2023-02-01', 'budget': 20000000.0, 'revenue': 52000000.0, 'runtime': 100.0, 'status': 'Released', 'tagline': 'Save your family or save humanity. Make the choice.', 'vote_average': 6.457, 'vote_count': 888.0, 'credits': \"Dave Bautista-Jonathan Groff-Ben Aldridge-Kristen Cui-Nikki Amuka-Bird-Rupert Grint-Abby Quinn-Clare Louise Frost-McKenna Kerrigan-Odera Adimorah-M. Night Shyamalan-Ian Merrill Peakes-Denise Nakano-Rose Luardo-Billy Vargus-Satomi Hofmann-Kelvin Leung-Lee Avant-Katy Murphy-Kittson O'Neill-Lya Yanne-Hanna Gaffney-Monica Fleurette-Saria Chen\", 'keywords': 'based on novel or book-sacrifice-cabin-faith-end of the world-apocalypse-home invasion-lgbt-aftercreditsstinger-adopted child-adopted daughter-shot on film-gay-same sex relationship-religious symbolism', 'poster_path': '/dm06L9pxDOL9jNSK4Cb6y139rrG.jpg', 'backdrop_path': '/zWDMQX0sPaW2u0N2pJaYA8bVVaJ.jpg', 'recommendations': '1058949-646389-772515-505642-143970-667216-1048522-785084-1058617-986054-640146-937278-1001500-717980-677179-935906-536554-945703-82856-100088-1003580'}\n",
      "{'id': 603692, 'title': 'John Wick: Chapter 4', 'genres': 'Action-Thriller-Crime', 'original_language': 'en', 'overview': 'With the price on his head ever increasing John Wick uncovers a path to defeating The High Table. But before he can earn his freedom Wick must face off against a new enemy with powerful alliances across the globe and forces that turn old friends into foes.', 'popularity': 2808.342, 'production_companies': 'Thunder Road-87Eleven-Summit Entertainment-Studio Babelsberg', 'release_date': '2023-03-22', 'budget': 90000000.0, 'revenue': 431769198.0, 'runtime': 170.0, 'status': 'Released', 'tagline': 'No way back, one way out.', 'vote_average': 7.904, 'vote_count': 3039.0, 'credits': 'Keanu Reeves-Donnie Yen-Bill Skarsgård-Ian McShane-Laurence Fishburne-Lance Reddick-Clancy Brown-Hiroyuki Sanada-Rina Sawayama-Scott Adkins-Aimée Kwan-Marko Zaror-Natalia Tena-Shamier Anderson-George Georgiou-Yoshinori Tashiro-Hiroki Sumi-Daiki Suzuki-Julia Asuka Riedl-Milena Rendón-Ivy Quainoo-Irina Trifanov-Iryna Fedorova-Andrej Kaminsky-Sven Marquardt-Raicho Vasilev-Marie Pierra Kakoma-Gina Aponte-Christoph Hofmann', 'keywords': 'new york city-martial arts-hitman-sequel-organized crime-osaka japan-aftercreditsstinger-hunted-professional assassin-neo-noir-berlin', 'poster_path': '/vZloFAK7NmvMGKE7VkF5UHaz0I.jpg', 'backdrop_path': '/1inZm0xxXrpRfN0LxwE2TXzyLN6.jpg', 'recommendations': '1098239-802401-24791-502356-385687-525644-1076605-1103694-384093-203579-649336-325358-347196-1033219-1007938-493529-1084225-594767-762338-840326-804150'}\n",
      "{'id': 840326, 'title': 'Sisu', 'genres': 'Action-War', 'original_language': 'fi', 'overview': 'Deep in the wilderness of Lapland Aatami Korpi is searching for gold but after he stumbles upon Nazi patrol a breathtaking and gold-hungry chase through the destroyed and mined Lapland wilderness begins.', 'popularity': 2634.212, 'production_companies': 'Subzero Film Entertainment-Good Chaos-Stage 6 Films', 'release_date': '2023-01-27', 'budget': 6200000.0, 'revenue': 10568631.0, 'runtime': 91.0, 'status': 'Released', 'tagline': 'Vengeance is golden.', 'vote_average': 7.393, 'vote_count': 261.0, 'credits': 'Jorma Tommila-Aksel Hennie-Jack Doolan-Mimosa Willamo-Onni Tommila-Tatu Sinisalo-Wilhelm Enckell-Vincent Willestrand-Arttu Kapulainen-Elina Saarela-Ilkka Koivula-Max Ovaska-Joel Hirvonen-Pekka Huotari-Severi Saarinen-Aamu Milonoff-Joonas Brilli-Nicholas Francett-Kevin Francett-Eemeli Franssi-Jussi Kaila-Jarkko Klemetti-Henri Koljonen-Pekka Laakso-Martti Näätä Leinonen-Joosua Oja-Pietari Paappanen-Oskari Skyttä-Tomi Lampinen-Mila Leppälä-Jasmi Mäenpää-Nora Nevia-Jenna Tyni-Anssi-Pekka Fredriksson-Jarmo Hietamäki-Wellu Mikkonen-Akseli Hakovirta-Juho-Lauri Hakovirta-Iisko Hirvasvuopio-Sakari Maliniemi-Jukka Vuorela-Ari Joki-Nikita Makkojev-Jasmin Valjas-Linnea Vilppunen-Hannu Anttila-Mario Esposito-Tarmo Hassinen-Miia Heikkinen-Kimmo Henriksson-Arto Kairajärvi-Risto Korhonen-Mirva Korvala-Steven Madlin-Julia Malmsten-Annika Moisio-Kari Parkkinen-Tommi Pelkonen-Arto Peltomäki-Leena Sormunen-Pekka Virkkunen-Jukka Virtanen-Tinwelindon Belbog', 'keywords': 'world war ii-nordic mythology-lapland-finnish mythology', 'poster_path': '/tELs0h3PPicRbsuu5cQ8UFcBQno.jpg', 'backdrop_path': '/94TIUEhuwv8PhdIADEvSuwPljS5.jpg', 'recommendations': '552688-713704-882569-296271-502356-605886-868985-758323-826753-385687-620705-916224-1079078-977223-804150-493529-878361-964980-809787-876969-447365'}\n",
      "{'id': 646389, 'title': 'Plane', 'genres': 'Action-Adventure-Thriller', 'original_language': 'en', 'overview': 'After a heroic job of successfully landing his storm-damaged aircraft in a war zone a fearless pilot finds himself between the agendas of multiple militias planning to take the plane and its passengers hostage.', 'popularity': 2618.646, 'production_companies': 'MadRiver Pictures-Di Bonaventura Pictures-G-BASE-Olive Hill Media-Riverstone Pictures', 'release_date': '2023-01-12', 'budget': 25000000.0, 'revenue': 51000000.0, 'runtime': 107.0, 'status': 'Released', 'tagline': 'Survive together or die alone.', 'vote_average': 6.901, 'vote_count': 785.0, 'credits': 'Gerard Butler-Mike Colter-Yoson An-Tony Goldwyn-Daniella Pineda-Paul Ben-Victor-Remi Adeleke-Joey Slotnick-Evan Dane Taylor-Claro de los Reyes-Kelly Gale-Haleigh Hekking-Lilly Krug-Oliver Trevena-Tara Westwood-Mark Labella-Quinn McPherson-Kate Rachesky-Amber Rivera-Otis Winston-Modesto Lacen-Jeff Francisco-Jeffrey Holsman-Ariel Felix-Rose Eshay-Jessica Nam-Thomas A. Curran-Ricky Robles Cruz-Matthew Valeña-Natalia Román García-Ángel Fabián Rivera-Heather Seiffert-Kate Bisset', 'keywords': 'pilot-airplane-philippines-held hostage-plane crash', 'poster_path': '/qi9r5xBgcc9KTxlOLjssEbDgO0J.jpg', 'backdrop_path': '/9Rq14Eyrf7Tu1xk0Pl7VcNbNh1n.jpg', 'recommendations': '505642-758769-864692-631842-1058949-925943-758009-315162-615777-707610-922830-1013870-536554-1035806-58087-996727'}\n",
      "{'id': 569094, 'title': 'Spider-Man: Across the Spider-Verse', 'genres': 'Action-Adventure-Animation-Science Fiction', 'original_language': 'en', 'overview': 'After reuniting with Gwen Stacy Brooklyn’s full-time friendly neighborhood Spider-Man is catapulted across the Multiverse where he encounters the Spider Society a team of Spider-People charged with protecting the Multiverse’s very existence. But when the heroes clash on how to handle a new threat Miles finds himself pitted against the other Spiders and must set out on his own to save those he loves most.', 'popularity': 2550.738, 'production_companies': 'Columbia Pictures-Sony Pictures Animation-Lord Miller-Pascal Pictures-Arad Productions', 'release_date': '2023-05-31', 'budget': 100000000.0, 'revenue': 512609552.0, 'runtime': 140.0, 'status': 'Released', 'tagline': \"It's how you wear the mask that matters\", 'vote_average': 8.64, 'vote_count': 1684.0, 'credits': \"Shameik Moore-Hailee Steinfeld-Brian Tyree Henry-Luna Lauren Velez-Jake Johnson-Oscar Isaac-Jason Schwartzman-Issa Rae-Daniel Kaluuya-Karan Soni-Shea Whigham-Greta Lee-Mahershala Ali-Amandla Stenberg-Jharrel Jerome-Andy Samberg-Jack Quaid-Rachel Dratch-Ziggy Marley-Jorma Taccone-J.K. Simmons-Donald Glover-Elizabeth Perkins-Kathryn Hahn-Ayo Edebiri-Nicole Delaney-Antonina Lentini-Atsuko Okatsuka-Peter Sohn-Melissa Sturm-Lorraine Velez-Nic Novicki-Taran Killam-Metro Boomin-Josh Keaton-Sofia Barclay-Danielle Perez-Yuri Lowenthal-Rita Rani Ahuja-Ismail Bashey-Oscar Camacho-Freddy Ferrari-Kerry Gutierrez-Kamal Khan-Angelo Sekou Kouyate-Andrew Leviton-David Michie-Sumit Naig-Juan Pacheco-Chrystee Pharris-Ben Pronsky-Al Rodrigo-Jaswant Dev Shrestha-Libby Thomas Dickey-Ruth Zalduondo-Jasper Johannes Andrews-Gredel Berrios Calladine-Natalia Castellanos-Russell Tyre Francis-Deepti Gupta-Sohm Kapila-Pradnya Kuwadekar-Ashley London-Christopher Miller-Andrea Navedo-Lakshmi Patel-Jacqueline Pinol-Eliyas Qureshi-Lashana Rodriguez-Dennis Singletary-Amanda Troop-Sitara Attaie-Mayuri Bhandari-June Christopher-Michelle Jubilee Gonzalez-Marabina Jaimes-Rez Kempton-Lex Lang-Phil Lord-Richard Miro-Doug Nicholas-Shakira Ja'nai Paye-James Pirri-Marley Ralph-Michelle Ruff-Narender Sood-Cedric L. Williams-Kimberly Bailey-Sanjay Chandani-Melanie Duke-Jorge R. Gutierrez-Miguel Jiron-Deepti Kingra-Mickelsen-Luisa Leschin-Caitlin McKenna-Richard Andrew Morgado-Arthur Ortiz-Eliana A. Perez-Juan Pope-Mike Rianda-Stan Sellers-Warren Sroka-Jason Linere-White-Kimiko Glenn-Peggy Lu-John Mulaney-Andrew Garfield-Denis Leary-Tobey Maguire-Cliff Robertson-Alfred Molina-Post Malone\", 'keywords': 'sacrifice-villain-comic book-sequel-superhero-based on comic-alternate dimension-alternate version-super power-brooklyn new york city-superhero team-spider bite-super villain-cliffhanger-teen superhero-alternate universe-female superhero-cartoon spider', 'poster_path': '/8Vt6mWEReuy4Of61Lnj5Xj704m8.jpg', 'backdrop_path': '/4HodYYKEIsGOdinkGi2Ucz6X9i0.jpg', 'recommendations': '496450-667538-385687-603692-298618-447277-976573-598331-324857-447365-462883-536437-979296-313369-537210-1106591-532408-502356-1140706-820707-462376'}\n"
     ]
    }
   ],
   "source": [
    "records = conn.query(\"SELECT * FROM movies LIMIT 10\").to_df().to_dict(orient=\"records\")\n",
    "\n",
    "for record in records:\n",
    "    print(record)"
   ]
  },
  {
   "cell_type": "markdown",
   "metadata": {},
   "source": [
    "## Convert Human Questions -> SQL (text-to-sql)\n",
    "\n",
    "Let's use an LLM to take human questions and to convert it into SQL so we can query the data above. Note that the prompt does a few specific things:\n",
    "\n",
    "- We need to tell the LLM what our database table looks like. Let's pass it the columns and the column types\n",
    "- We want the output to be pure SQL (select * from ...). LLMs tend to respond in markdown. Let's try to make sure it doesn't"
   ]
  },
  {
   "cell_type": "code",
   "execution_count": 6,
   "metadata": {},
   "outputs": [],
   "source": [
    "import os\n",
    "\n",
    "import openai\n",
    "\n",
    "from phoenix.client import AsyncClient\n",
    "from phoenix.client.types import PromptVersion\n",
    "\n",
    "px_client = AsyncClient()\n",
    "client = openai.AsyncClient()\n",
    "\n",
    "columns = conn.query(\"DESCRIBE movies\").to_df().to_dict(orient=\"records\")\n",
    "\n",
    "# We will use GPT4o to start\n",
    "TASK_MODEL = \"gpt-4o\"\n",
    "CONFIG = {\"model\": TASK_MODEL}\n",
    "\n",
    "system_prompt = f\"\"\"\n",
    "You are a SQL expert who takes user queries and transforms them into a SQL query to be executed.\n",
    "\n",
    "You are given a table named `movies` with the following columns and types:\n",
    "\n",
    "{\",\".join(column[\"column_name\"] + \": \" + column[\"column_type\"] for column in columns)}\n",
    "\n",
    "Write a raw DuckDB SQL query corresponding to the user's question. Return only a SQL query\n",
    "with no formatting. The response SHOULD NOT include backticks or markdown formatting.\n",
    "\n",
    "[BEGIN EXAMPLES]\n",
    "************\n",
    "[BAD RESPONSES]\n",
    "***************\n",
    "- `SELECT * FROM movies`\n",
    "- sql```SELECT * FROM movies``\n",
    "- here is the sql: SELECT * FROM movies\n",
    "***************\n",
    "[GOOD RESPONSES]\n",
    "***************\n",
    "- SELECT * FROM movies\n",
    "***************\n",
    "[END EXAMPLES]\n",
    "\"\"\"\n",
    "\n",
    "prompt_template = await px_client.prompts.create(\n",
    "    name=\"movie-text-to-sql\",\n",
    "    version=PromptVersion(\n",
    "        [\n",
    "            {\n",
    "                \"role\": \"system\",\n",
    "                \"content\": system_prompt,\n",
    "            },\n",
    "            {\n",
    "                \"role\": \"user\",\n",
    "                \"content\": \"{{question}}\",\n",
    "            },\n",
    "        ],\n",
    "        description=\"Initial prompt for text-to-sql\",\n",
    "        model_name=TASK_MODEL,\n",
    "    ),\n",
    ")\n",
    "\n",
    "\n",
    "@tracer.chain\n",
    "async def generate_sql(question):\n",
    "    # Vendor agnostic - can directly use OpenAI\n",
    "    prompt = prompt_template.format(variables={\"question\": question}, sdk=\"openai\")\n",
    "    response = await client.chat.completions.create(\n",
    "        **prompt,\n",
    "        temperature=0,\n",
    "    )\n",
    "    return response.choices[0].message.content"
   ]
  },
  {
   "cell_type": "code",
   "execution_count": 7,
   "metadata": {},
   "outputs": [
    {
     "name": "stdout",
     "output_type": "stream",
     "text": [
      "SELECT title FROM movies ORDER BY revenue DESC LIMIT 1\n"
     ]
    }
   ],
   "source": [
    "query = await generate_sql(\"What is the top grossing movie?\")\n",
    "print(query)"
   ]
  },
  {
   "cell_type": "markdown",
   "metadata": {},
   "source": [
    "Looks like the LLM is producing SQL. Let's try running the query against the database and see if we get the expected results. Just because the SQL query looks valid doesn't mean it's correct.\n",
    "\n",
    "Note: we again wrap this function in a decorator and denote that this is a tool that the LLM is using. While not explicitly a tool call, it's largely the same paradigm."
   ]
  },
  {
   "cell_type": "code",
   "execution_count": 8,
   "metadata": {},
   "outputs": [],
   "source": [
    "import math\n",
    "\n",
    "\n",
    "def sanitize_records(records):\n",
    "    return {k: None if isinstance(v, float) and math.isnan(v) else v for k, v in records.items()}\n",
    "\n",
    "\n",
    "@tracer.tool\n",
    "def execute_sql(query):\n",
    "    records = conn.query(query).fetchdf().to_dict(orient=\"records\")\n",
    "    return list(map(sanitize_records, records))"
   ]
  },
  {
   "cell_type": "code",
   "execution_count": 9,
   "metadata": {},
   "outputs": [
    {
     "data": {
      "text/plain": [
       "[{'title': 'Avatar'}]"
      ]
     },
     "execution_count": 9,
     "metadata": {},
     "output_type": "execute_result"
    }
   ],
   "source": [
    "execute_sql(query)"
   ]
  },
  {
   "cell_type": "markdown",
   "metadata": {},
   "source": [
    "Let's put the pieces together and see if we can create a movie agent that feels helpful. Here we are performing very simple RAG where the SQL query results are being passed to an LLM to synthesize a human-friendly answer."
   ]
  },
  {
   "cell_type": "code",
   "execution_count": 10,
   "metadata": {},
   "outputs": [],
   "source": [
    "@tracer.chain\n",
    "async def query_db(question):  # noqa: F811\n",
    "    sql = await generate_sql(question)\n",
    "    results = execute_sql(sql)\n",
    "    return {\n",
    "        \"sql\": sql,\n",
    "        \"results\": results,\n",
    "    }"
   ]
  },
  {
   "cell_type": "code",
   "execution_count": 11,
   "metadata": {},
   "outputs": [],
   "source": [
    "synthesis_system_prompt = \"\"\"\n",
    "You are a helpful assistant that can answer questions about movies. You are charming, witty, honest, and interesting.\n",
    "\n",
    "Answer the question based on the SQL results. Do not rely on your internal knowledge.\n",
    "\n",
    "Do not use SQL or abbreviations for genres or languages. Use an informative, concise voice.\n",
    "Your response should be purely in natural language, do not include any SQL or other technical details.\n",
    "\n",
    "If the SQL results are empty, say you don't know.\n",
    "\"\"\"\n",
    "\n",
    "synthesis_user_prompt_template = \"\"\"\n",
    "Answer the question based on the SQL results.\n",
    "\n",
    "[BEGIN DATA]\n",
    "************\n",
    "[Question]: {{question}}\n",
    "************\n",
    "[SQL Results]: {{results}}\n",
    "************\n",
    "[END DATA]\n",
    "\n",
    "Answer:\n",
    "\"\"\"\n",
    "\n",
    "synthesis_prompt_template = await px_client.prompts.create(\n",
    "    name=\"movie-synthesis\",\n",
    "    version=PromptVersion(\n",
    "        [\n",
    "            {\n",
    "                \"role\": \"system\",\n",
    "                \"content\": synthesis_system_prompt,\n",
    "            },\n",
    "            {\n",
    "                \"role\": \"user\",\n",
    "                \"content\": synthesis_user_prompt_template,\n",
    "            },\n",
    "        ],\n",
    "        description=\"Initial prompt for synthesis\",\n",
    "        model_name=TASK_MODEL,\n",
    "    ),\n",
    ")\n",
    "\n",
    "\n",
    "@tracer.agent\n",
    "async def movie_agent(question):\n",
    "    sql_response = await query_db(question)\n",
    "    prompt = synthesis_prompt_template.format(\n",
    "        variables={\"question\": question, \"results\": str(sql_response[\"results\"])}, sdk=\"openai\"\n",
    "    )\n",
    "    answer = await client.chat.completions.create(**prompt)\n",
    "    return answer.choices[0].message.content"
   ]
  },
  {
   "cell_type": "code",
   "execution_count": 12,
   "metadata": {},
   "outputs": [
    {
     "data": {
      "text/plain": [
       "'The top grossing movie is \"Avatar.\"'"
      ]
     },
     "execution_count": 12,
     "metadata": {},
     "output_type": "execute_result"
    }
   ],
   "source": [
    "await movie_agent(\"What is the top grossing movie?\")"
   ]
  },
  {
   "cell_type": "markdown",
   "metadata": {},
   "source": [
    "Looks like we have a working movie expert. Or do we? Let's double check. Let's run the agent over some examples we think the agent should be able to answer."
   ]
  },
  {
   "cell_type": "code",
   "execution_count": 13,
   "metadata": {},
   "outputs": [],
   "source": [
    "questions = [\n",
    "    \"Which Brad Pitt movie received the highest rating?\",\n",
    "    \"What is the top grossing Marvel movie?\",\n",
    "    \"What foreign-language fantasy movie was the most popular?\",\n",
    "    \"what are the best sci-fi movies of 2017?\",\n",
    "    \"What anime topped the box office in the 2010s?\",\n",
    "    \"Recommend a romcom that stars Paul Rudd.\",\n",
    "]"
   ]
  },
  {
   "cell_type": "markdown",
   "metadata": {},
   "source": [
    "Let's run the above queries against our agent and record it under a project as a \"baseline\" so we can see if we can improve it."
   ]
  },
  {
   "cell_type": "code",
   "execution_count": 14,
   "metadata": {},
   "outputs": [
    {
     "name": "stdout",
     "output_type": "stream",
     "text": [
      "Question:  Which Brad Pitt movie received the highest rating?\n",
      "Answer:  The Brad Pitt movie \"Voom Portraits\" received the highest rating.\n",
      "\n",
      "\n",
      "Question:  What is the top grossing Marvel movie?\n",
      "Answer:  The top grossing Marvel movie is \"Avengers: Endgame\".\n",
      "\n",
      "\n",
      "Question:  What foreign-language fantasy movie was the most popular?\n",
      "Answer:  The most popular foreign-language fantasy movie is \"The Nights Belong to Monsters.\" This Spanish-language film is a blend of fantasy and drama, focusing on a 17-year-old girl named Sol who faces hostility, bullying, and harassment in a new town. Her situation changes when she forms a symbiotic relationship with a mysterious and magical dog that protects her. The movie is produced by Rispo Films and Tieless Media and was released on October 9, 2021. Despite its popularity, it has a low average user rating.\n",
      "\n",
      "\n",
      "Question:  what are the best sci-fi movies of 2017?\n",
      "Answer:  I don't know which sci-fi movies are considered the best of 2017 based on the data provided.\n",
      "\n",
      "\n",
      "Question:  What anime topped the box office in the 2010s?\n",
      "Answer:  I don't know which anime topped the box office in the 2010s based on the data provided.\n",
      "\n",
      "\n",
      "Question:  Recommend a romcom that stars Paul Rudd.\n",
      "Answer:  If you're looking for a romantic comedy featuring Paul Rudd, I would recommend \"Clueless.\" It's a delightful blend of comedy and romance with Paul Rudd playing alongside Alicia Silverstone in a story about a wealthy high school student who plays matchmaker. Another great choice is \"I Love You, Man,\" where Paul Rudd stars as a man searching for a best man for his wedding and ends up forming an unexpected friendship. Both films are entertaining and showcase Rudd's charm and comedic timing beautifully.\n",
      "\n",
      "\n"
     ]
    }
   ],
   "source": [
    "from openinference.instrumentation import dangerously_using_project\n",
    "\n",
    "with dangerously_using_project(project_name=\"movie-agent-baseline\"):\n",
    "    for question in questions:\n",
    "        try:\n",
    "            answer = await movie_agent(question)\n",
    "            print(\"Question: \", question)\n",
    "            print(\"Answer: \", answer)\n",
    "            print(\"\\n\")\n",
    "        except Exception as e:\n",
    "            print(e)"
   ]
  },
  {
   "cell_type": "markdown",
   "metadata": {},
   "source": [
    "Let's look at the data and annotate it to see what the issues might be. Go to Settings > Annotations and add a correctness annotation config. Configure it as a categorical annotation with two categories, `correct` and `incorrect`. We can now quickly annotate the 7 traces (e.g. the agent spans) above as `correct` or `incorrect`. Once we've annotated some data we can bring it back into the notebook to analyze it."
   ]
  },
  {
   "cell_type": "code",
   "execution_count": 15,
   "metadata": {},
   "outputs": [],
   "source": [
    "from phoenix.client import AsyncClient\n",
    "from phoenix.client.types.spans import SpanQuery\n",
    "\n",
    "px_client = AsyncClient()\n",
    "query = SpanQuery().where(\"name == 'movie_agent'\")\n",
    "\n",
    "spans_df = await px_client.spans.get_spans_dataframe(\n",
    "    project_identifier=\"movie-agent-baseline\", query=query\n",
    ")\n",
    "annotations_df = await px_client.spans.get_span_annotations_dataframe(\n",
    "    spans_dataframe=spans_df, project_identifier=\"movie-agent-baseline\"\n",
    ")\n",
    "\n",
    "combined_df = annotations_df.join(spans_df, how=\"inner\")"
   ]
  },
  {
   "cell_type": "code",
   "execution_count": 16,
   "metadata": {},
   "outputs": [
    {
     "data": {
      "text/html": [
       "<div>\n",
       "<style scoped>\n",
       "    .dataframe tbody tr th:only-of-type {\n",
       "        vertical-align: middle;\n",
       "    }\n",
       "\n",
       "    .dataframe tbody tr th {\n",
       "        vertical-align: top;\n",
       "    }\n",
       "\n",
       "    .dataframe thead th {\n",
       "        text-align: right;\n",
       "    }\n",
       "</style>\n",
       "<table border=\"1\" class=\"dataframe\">\n",
       "  <thead>\n",
       "    <tr style=\"text-align: right;\">\n",
       "      <th></th>\n",
       "      <th>annotation_name</th>\n",
       "      <th>result.label</th>\n",
       "      <th>attributes.input.value</th>\n",
       "      <th>attributes.output.value</th>\n",
       "    </tr>\n",
       "  </thead>\n",
       "  <tbody>\n",
       "    <tr>\n",
       "      <th>4738ded59cdcd6bd</th>\n",
       "      <td>correctness</td>\n",
       "      <td>incorrect</td>\n",
       "      <td>Which Brad Pitt movie received the highest rat...</td>\n",
       "      <td>The Brad Pitt movie \"Voom Portraits\" received ...</td>\n",
       "    </tr>\n",
       "    <tr>\n",
       "      <th>6a7a775e37b887f8</th>\n",
       "      <td>correctness</td>\n",
       "      <td>correct</td>\n",
       "      <td>What is the top grossing Marvel movie?</td>\n",
       "      <td>The top grossing Marvel movie is \"Avengers: En...</td>\n",
       "    </tr>\n",
       "    <tr>\n",
       "      <th>5eadf30616992035</th>\n",
       "      <td>correctness</td>\n",
       "      <td>incorrect</td>\n",
       "      <td>What foreign-language fantasy movie was the mo...</td>\n",
       "      <td>The most popular foreign-language fantasy movi...</td>\n",
       "    </tr>\n",
       "    <tr>\n",
       "      <th>4f0f5d5ccef5a1e0</th>\n",
       "      <td>correctness</td>\n",
       "      <td>incorrect</td>\n",
       "      <td>what are the best sci-fi movies of 2017?</td>\n",
       "      <td>I don't know which sci-fi movies are considere...</td>\n",
       "    </tr>\n",
       "    <tr>\n",
       "      <th>6de075915169d472</th>\n",
       "      <td>correctness</td>\n",
       "      <td>incorrect</td>\n",
       "      <td>What anime topped the box office in the 2010s?</td>\n",
       "      <td>I don't know which anime topped the box office...</td>\n",
       "    </tr>\n",
       "  </tbody>\n",
       "</table>\n",
       "</div>"
      ],
      "text/plain": [
       "                 annotation_name result.label  \\\n",
       "4738ded59cdcd6bd     correctness    incorrect   \n",
       "6a7a775e37b887f8     correctness      correct   \n",
       "5eadf30616992035     correctness    incorrect   \n",
       "4f0f5d5ccef5a1e0     correctness    incorrect   \n",
       "6de075915169d472     correctness    incorrect   \n",
       "\n",
       "                                             attributes.input.value  \\\n",
       "4738ded59cdcd6bd  Which Brad Pitt movie received the highest rat...   \n",
       "6a7a775e37b887f8             What is the top grossing Marvel movie?   \n",
       "5eadf30616992035  What foreign-language fantasy movie was the mo...   \n",
       "4f0f5d5ccef5a1e0           what are the best sci-fi movies of 2017?   \n",
       "6de075915169d472     What anime topped the box office in the 2010s?   \n",
       "\n",
       "                                            attributes.output.value  \n",
       "4738ded59cdcd6bd  The Brad Pitt movie \"Voom Portraits\" received ...  \n",
       "6a7a775e37b887f8  The top grossing Marvel movie is \"Avengers: En...  \n",
       "5eadf30616992035  The most popular foreign-language fantasy movi...  \n",
       "4f0f5d5ccef5a1e0  I don't know which sci-fi movies are considere...  \n",
       "6de075915169d472  I don't know which anime topped the box office...  "
      ]
     },
     "execution_count": 16,
     "metadata": {},
     "output_type": "execute_result"
    }
   ],
   "source": [
    "examples_df = combined_df[\n",
    "    [\"annotation_name\", \"result.label\", \"attributes.input.value\", \"attributes.output.value\"]\n",
    "].head()\n",
    "examples_df"
   ]
  },
  {
   "cell_type": "markdown",
   "metadata": {},
   "source": [
    "Let's see if we can create an LLM judge that aligns with our human annotations."
   ]
  },
  {
   "cell_type": "code",
   "execution_count": 17,
   "metadata": {},
   "outputs": [
    {
     "name": "stdout",
     "output_type": "stream",
     "text": [
      "\n",
      "You are an expert evaluator of question and answer pairs. You will be given a human question and an answer from an AI agent.\n",
      "Your job is to determine if the answer is \"correct\" or \"incorrect\" and to provide a clear reason why the label should be assigned.\n",
      "\n",
      "Here are some examples of correct and incorrect answers:\n",
      "<examples>\n",
      "Question: Which Brad Pitt movie received the highest rating?\n",
      "Answer: The Brad Pitt movie \"Voom Portraits\" received the highest rating.\n",
      "Label: incorrect\n",
      "\n",
      "Question: What is the top grossing Marvel movie?\n",
      "Answer: The top grossing Marvel movie is \"Avengers: Endgame\".\n",
      "Label: correct\n",
      "\n",
      "Question: What foreign-language fantasy movie was the most popular?\n",
      "Answer: The most popular foreign-language fantasy movie is \"The Nights Belong to Monsters.\" This Spanish-language film is a blend of fantasy and drama, focusing on a 17-year-old girl named Sol who faces hostility, bullying, and harassment in a new town. Her situation changes when she forms a symbiotic relationship with a mysterious and magical dog that protects her. The movie is produced by Rispo Films and Tieless Media and was released on October 9, 2021. Despite its popularity, it has a low average user rating.\n",
      "Label: incorrect\n",
      "\n",
      "Question: what are the best sci-fi movies of 2017?\n",
      "Answer: I don't know which sci-fi movies are considered the best of 2017 based on the data provided.\n",
      "Label: incorrect\n",
      "\n",
      "Question: What anime topped the box office in the 2010s?\n",
      "Answer: I don't know which anime topped the box office in the 2010s based on the data provided.\n",
      "Label: incorrect\n",
      "</examples>\n",
      "\n",
      "<data>\n",
      "<question>\n",
      "{attributes.input.value}\n",
      "</question>\n",
      "<answer>\n",
      "{attributes.output.value}\n",
      "</answer>\n",
      "</data>\n",
      "\n"
     ]
    }
   ],
   "source": [
    "example_answers = \"\\n\\n\".join(\n",
    "    [\n",
    "        f\"Question: {example['attributes.input.value']}\\nAnswer: {example['attributes.output.value']}\\nLabel: {example['result.label']}\"\n",
    "        for example in examples_df.to_dict(orient=\"records\")\n",
    "    ]\n",
    ")\n",
    "eval_prompt = f\"\"\"\n",
    "You are an expert evaluator of question and answer pairs. You will be given a human question and an answer from an AI agent.\n",
    "Your job is to determine if the answer is \"correct\" or \"incorrect\" and to provide a clear reason why the label should be assigned.\n",
    "\n",
    "Here are some examples of correct and incorrect answers:\n",
    "<examples>\n",
    "{example_answers}\n",
    "</examples>\n",
    "\n",
    "<data>\n",
    "<question>\n",
    "{{attributes.input.value}}\n",
    "</question>\n",
    "<answer>\n",
    "{{attributes.output.value}}\n",
    "</answer>\n",
    "</data>\n",
    "\"\"\"\n",
    "\n",
    "print(eval_prompt)"
   ]
  },
  {
   "cell_type": "code",
   "execution_count": 18,
   "metadata": {},
   "outputs": [
    {
     "data": {
      "text/html": [
       "<div>\n",
       "<style scoped>\n",
       "    .dataframe tbody tr th:only-of-type {\n",
       "        vertical-align: middle;\n",
       "    }\n",
       "\n",
       "    .dataframe tbody tr th {\n",
       "        vertical-align: top;\n",
       "    }\n",
       "\n",
       "    .dataframe thead th {\n",
       "        text-align: right;\n",
       "    }\n",
       "</style>\n",
       "<table border=\"1\" class=\"dataframe\">\n",
       "  <thead>\n",
       "    <tr style=\"text-align: right;\">\n",
       "      <th></th>\n",
       "      <th>attributes.input.value</th>\n",
       "      <th>attributes.output.value</th>\n",
       "    </tr>\n",
       "    <tr>\n",
       "      <th>context.span_id</th>\n",
       "      <th></th>\n",
       "      <th></th>\n",
       "    </tr>\n",
       "  </thead>\n",
       "  <tbody>\n",
       "    <tr>\n",
       "      <th>6cac14b09ccc0048</th>\n",
       "      <td>Recommend a romcom that stars Paul Rudd.</td>\n",
       "      <td>If you're looking for a romantic comedy featur...</td>\n",
       "    </tr>\n",
       "    <tr>\n",
       "      <th>6de075915169d472</th>\n",
       "      <td>What anime topped the box office in the 2010s?</td>\n",
       "      <td>I don't know which anime topped the box office...</td>\n",
       "    </tr>\n",
       "    <tr>\n",
       "      <th>4f0f5d5ccef5a1e0</th>\n",
       "      <td>what are the best sci-fi movies of 2017?</td>\n",
       "      <td>I don't know which sci-fi movies are considere...</td>\n",
       "    </tr>\n",
       "    <tr>\n",
       "      <th>5eadf30616992035</th>\n",
       "      <td>What foreign-language fantasy movie was the mo...</td>\n",
       "      <td>The most popular foreign-language fantasy movi...</td>\n",
       "    </tr>\n",
       "    <tr>\n",
       "      <th>6a7a775e37b887f8</th>\n",
       "      <td>What is the top grossing Marvel movie?</td>\n",
       "      <td>The top grossing Marvel movie is \"Avengers: En...</td>\n",
       "    </tr>\n",
       "  </tbody>\n",
       "</table>\n",
       "</div>"
      ],
      "text/plain": [
       "                                             attributes.input.value  \\\n",
       "context.span_id                                                       \n",
       "6cac14b09ccc0048           Recommend a romcom that stars Paul Rudd.   \n",
       "6de075915169d472     What anime topped the box office in the 2010s?   \n",
       "4f0f5d5ccef5a1e0           what are the best sci-fi movies of 2017?   \n",
       "5eadf30616992035  What foreign-language fantasy movie was the mo...   \n",
       "6a7a775e37b887f8             What is the top grossing Marvel movie?   \n",
       "\n",
       "                                            attributes.output.value  \n",
       "context.span_id                                                      \n",
       "6cac14b09ccc0048  If you're looking for a romantic comedy featur...  \n",
       "6de075915169d472  I don't know which anime topped the box office...  \n",
       "4f0f5d5ccef5a1e0  I don't know which sci-fi movies are considere...  \n",
       "5eadf30616992035  The most popular foreign-language fantasy movi...  \n",
       "6a7a775e37b887f8  The top grossing Marvel movie is \"Avengers: En...  "
      ]
     },
     "execution_count": 18,
     "metadata": {},
     "output_type": "execute_result"
    }
   ],
   "source": [
    "spans_df[[\"attributes.input.value\", \"attributes.output.value\"]].head()"
   ]
  },
  {
   "cell_type": "code",
   "execution_count": 22,
   "metadata": {},
   "outputs": [],
   "source": [
    "from phoenix.evals.evaluators import create_classifier\n",
    "from phoenix.evals.llm import LLM\n",
    "\n",
    "# Define a classification based evaluation\n",
    "llm_correctness = create_classifier(name=\"llm_correctness\", llm=LLM(model=\"gpt-4o\", provider=\"openai\"), prompt_template=eval_prompt, choices={ \"correct\": 1, \"incorrect\": 0 })"
   ]
  },
  {
   "cell_type": "code",
   "execution_count": 23,
   "metadata": {},
   "outputs": [
    {
     "name": "stdout",
     "output_type": "stream",
     "text": [
      "Exception in worker on attempt 1: raised ValueError('Path not found: attributes')\n",
      "Requeuing...\n",
      "Exception in worker on attempt 1: raised ValueError('Path not found: attributes')\n",
      "Requeuing...\n",
      "Exception in worker on attempt 1: raised ValueError('Path not found: attributes')\n",
      "Requeuing...\n",
      "Exception in worker on attempt 2: raised ValueError('Path not found: attributes')\n",
      "Requeuing...\n",
      "Exception in worker on attempt 2: raised ValueError('Path not found: attributes')\n",
      "Requeuing...\n",
      "Exception in worker on attempt 2: raised ValueError('Path not found: attributes')\n",
      "Requeuing...\n",
      "Exception in worker on attempt 3: raised ValueError('Path not found: attributes')\n",
      "Requeuing...\n",
      "Exception in worker on attempt 3: raised ValueError('Path not found: attributes')\n",
      "Requeuing...\n",
      "Exception in worker on attempt 3: raised ValueError('Path not found: attributes')\n",
      "Requeuing...\n",
      "Exception in worker on attempt 4: raised ValueError('Path not found: attributes')\n",
      "Requeuing...\n",
      "Exception in worker on attempt 4: raised ValueError('Path not found: attributes')\n",
      "Requeuing...\n",
      "Exception in worker on attempt 4: raised ValueError('Path not found: attributes')\n",
      "Requeuing...\n",
      "Exception in worker on attempt 5: raised ValueError('Path not found: attributes')\n",
      "Requeuing...\n",
      "Exception in worker on attempt 5: raised ValueError('Path not found: attributes')\n",
      "Requeuing...\n",
      "Exception in worker on attempt 5: raised ValueError('Path not found: attributes')\n",
      "Requeuing...\n",
      "Exception in worker on attempt 6: raised ValueError('Path not found: attributes')\n",
      "Requeuing...\n",
      "Exception in worker on attempt 6: raised ValueError('Path not found: attributes')\n",
      "Requeuing...\n",
      "Exception in worker on attempt 6: raised ValueError('Path not found: attributes')\n",
      "Requeuing...\n",
      "Exception in worker on attempt 7: raised ValueError('Path not found: attributes')\n",
      "Requeuing...\n",
      "Exception in worker on attempt 7: raised ValueError('Path not found: attributes')\n",
      "Requeuing...\n",
      "Exception in worker on attempt 7: raised ValueError('Path not found: attributes')\n",
      "Requeuing...\n",
      "Exception in worker on attempt 8: raised ValueError('Path not found: attributes')\n",
      "Requeuing...\n",
      "Exception in worker on attempt 8: raised ValueError('Path not found: attributes')\n",
      "Requeuing...\n",
      "Exception in worker on attempt 8: raised ValueError('Path not found: attributes')\n",
      "Requeuing...\n",
      "Exception in worker on attempt 9: raised ValueError('Path not found: attributes')\n",
      "Requeuing...\n",
      "Exception in worker on attempt 9: raised ValueError('Path not found: attributes')\n",
      "Requeuing...\n",
      "Exception in worker on attempt 9: raised ValueError('Path not found: attributes')\n",
      "Requeuing...\n",
      "Exception in worker on attempt 10: raised ValueError('Path not found: attributes')\n",
      "Requeuing...\n",
      "Exception in worker on attempt 10: raised ValueError('Path not found: attributes')\n",
      "Requeuing...\n",
      "Exception in worker on attempt 10: raised ValueError('Path not found: attributes')\n",
      "Requeuing...\n",
      "Retries exhausted after 11 attempts: Path not found: attributes\n",
      "Retries exhausted after 11 attempts: Path not found: attributes\n",
      "Retries exhausted after 11 attempts: Path not found: attributes\n"
     ]
    }
   ],
   "source": [
    "from phoenix.evals import async_evaluate_dataframe\n",
    "\n",
    "evals_df = await async_evaluate_dataframe(dataframe=spans_df, evaluators=[llm_correctness])"
   ]
  },
  {
   "cell_type": "code",
   "execution_count": null,
   "metadata": {},
   "outputs": [],
   "source": [
    "spans_with_evals_df = spans_df.join(evals_df, how=\"left\")\n",
    "\n",
    "spans_with_evals_df[\n",
    "    [\"attributes.input.value\", \"attributes.output.value\", \"label\", \"score\", \"explanation\"]\n",
    "].head()"
   ]
  },
  {
   "cell_type": "code",
   "execution_count": 32,
   "metadata": {},
   "outputs": [
    {
     "ename": "NameError",
     "evalue": "name 'evals_df' is not defined",
     "output_type": "error",
     "traceback": [
      "\u001b[31m---------------------------------------------------------------------------\u001b[39m",
      "\u001b[31mNameError\u001b[39m                                 Traceback (most recent call last)",
      "\u001b[36mCell\u001b[39m\u001b[36m \u001b[39m\u001b[32mIn[32]\u001b[39m\u001b[32m, line 5\u001b[39m\n\u001b[32m      1\u001b[39m \u001b[38;5;28;01mfrom\u001b[39;00m\u001b[38;5;250m \u001b[39m\u001b[34;01mphoenix\u001b[39;00m\u001b[34;01m.\u001b[39;00m\u001b[34;01mclient\u001b[39;00m\u001b[38;5;250m \u001b[39m\u001b[38;5;28;01mimport\u001b[39;00m AsyncClient\n\u001b[32m      3\u001b[39m px_client = AsyncClient()\n\u001b[32m      4\u001b[39m \u001b[38;5;28;01mawait\u001b[39;00m px_client.spans.log_span_annotations_dataframe(\n\u001b[32m----> \u001b[39m\u001b[32m5\u001b[39m     dataframe=\u001b[43mevals_df\u001b[49m,\n\u001b[32m      6\u001b[39m     annotation_name=\u001b[33m\"\u001b[39m\u001b[33mllm_correctness\u001b[39m\u001b[33m\"\u001b[39m,\n\u001b[32m      7\u001b[39m     annotator_kind=\u001b[33m\"\u001b[39m\u001b[33mLLM\u001b[39m\u001b[33m\"\u001b[39m,\n\u001b[32m      8\u001b[39m )\n",
      "\u001b[31mNameError\u001b[39m: name 'evals_df' is not defined"
     ]
    }
   ],
   "source": [
    "from phoenix.client import AsyncClient\n",
    "\n",
    "px_client = AsyncClient()\n",
    "await px_client.spans.log_span_annotations_dataframe(\n",
    "    dataframe=evals_df,\n",
    "    annotation_name=\"llm_correctness\",\n",
    "    annotator_kind=\"LLM\",\n",
    ")"
   ]
  },
  {
   "cell_type": "markdown",
   "metadata": {},
   "source": [
    "## 🧪Experimentation\n",
    "\n",
    "The velocity AI application development is bottlenecked by high quality evaluations because engineers are often faced with hard trade-offs: which prompt or LLM best balances performance, latency, and cost. Quality Evaluations are critical as they help answer these types of questions with greater confidence.\n",
    "\n",
    "Evaluation consists of three parts — data, task, and evals. We'll start with data.\n",
    "\n",
    "<p style=\"text-align: center\">\n",
    "<img src=\"https://storage.googleapis.com/arize-phoenix-assets/assets/images/experiment_analogy.png\" width=\"800\">\n",
    "</p>"
   ]
  },
  {
   "cell_type": "markdown",
   "metadata": {},
   "source": [
    "Let's store the movie questions we created above as a versioned dataset in phoenix."
   ]
  },
  {
   "cell_type": "code",
   "execution_count": 38,
   "metadata": {},
   "outputs": [],
   "source": [
    "import pandas as pd\n",
    "\n",
    "# ds = await px_client.datasets.create_dataset(\n",
    "#     name=\"movie-train\",\n",
    "#     dataframe=pd.DataFrame([{\"question\": question} for question in questions]),\n",
    "#     input_keys=[\"question\"],\n",
    "#     output_keys=[],\n",
    "# )\n",
    "\n",
    "# If you have already uploaded the dataset, you can fetch it using the following line\n",
    "ds = await px_client.datasets.get_dataset(dataset=\"movie-train\")"
   ]
  },
  {
   "cell_type": "markdown",
   "metadata": {},
   "source": [
    "Next, we'll define the task. The task is to generate SQL queries from natural language questions."
   ]
  },
  {
   "cell_type": "code",
   "execution_count": 39,
   "metadata": {},
   "outputs": [],
   "source": [
    "@tracer.chain\n",
    "async def query_db(question):  # noqa: F811\n",
    "    query = await generate_sql(question)\n",
    "    results = execute_sql(query)\n",
    "    return {\n",
    "        \"query\": query,\n",
    "        \"results\": results,\n",
    "    }"
   ]
  },
  {
   "cell_type": "code",
   "execution_count": 40,
   "metadata": {},
   "outputs": [],
   "source": [
    "res = await query_db(\"What are the top Sci-Fi movies?\")\n",
    "for row in res[\"results\"]:\n",
    "    print(row)"
   ]
  },
  {
   "cell_type": "markdown",
   "metadata": {},
   "source": [
    "Finally, we'll define the evaluators. We'll use the following simple function that produces 1 if we got results and 0 if not."
   ]
  },
  {
   "cell_type": "code",
   "execution_count": 41,
   "metadata": {},
   "outputs": [],
   "source": [
    "# Test if the query has results\n",
    "def has_results(output):\n",
    "    results = output.get(\"results\")\n",
    "    has_results = results is not None and len(results) > 0\n",
    "    return 1.0 if has_results else 0.0"
   ]
  },
  {
   "cell_type": "markdown",
   "metadata": {},
   "source": [
    "Now let's run the experiment. To run the experiment, we pass the dataset of examples, the task which runs the SQL generation, and the evals described above."
   ]
  },
  {
   "cell_type": "code",
   "execution_count": 43,
   "metadata": {},
   "outputs": [
    {
     "name": "stdout",
     "output_type": "stream",
     "text": [
      "🧪 Experiment started.\n",
      "📺 View dataset experiments: http://127.0.0.1:6006/datasets/RGF0YXNldDoy/experiments\n",
      "🔗 View this experiment: http://127.0.0.1:6006/datasets/RGF0YXNldDoy/compare?experimentId=RXhwZXJpbWVudDo1\n"
     ]
    },
    {
     "name": "stderr",
     "output_type": "stream",
     "text": [
      "\n",
      "\u001b[A\n",
      "\u001b[A\n",
      "\u001b[A\n",
      "\u001b[A\n",
      "running tasks |██████████| 18/18 (100.0%) | ⏳ 03:35<00:00 | 11.98s/it\n",
      "/Users/mikeldking/work/phoenix/.venv/lib/python3.13/site-packages/pandas/core/indexes/base.py:5398: RuntimeWarning: coroutine 'OITracer._chain.<locals>.async_wrapper' was never awaited\n",
      "  if is_integer(key) or is_float(key):\n",
      "RuntimeWarning: Enable tracemalloc to get the object allocation traceback\n",
      "running experiment evaluations |██████████| 18/18 (100.0%) | ⏳ 03:35<00:00 | 11.97s/it\n",
      "\n",
      "\u001b[A\n",
      "\u001b[A\n",
      "\u001b[A\n",
      "running tasks |██████████| 18/18 (100.0%) | ⏳ 00:08<00:00 |  2.25it/s\n"
     ]
    },
    {
     "name": "stdout",
     "output_type": "stream",
     "text": [
      "✅ Task runs completed.\n",
      "🧠 Evaluation started.\n"
     ]
    },
    {
     "name": "stderr",
     "output_type": "stream",
     "text": [
      "running experiment evaluations |██████████| 18/18 (100.0%) | ⏳ 00:02<00:00 |  8.62it/s"
     ]
    },
    {
     "name": "stdout",
     "output_type": "stream",
     "text": [
      "Experiment completed: 18 task runs, 1 evaluator runs, 18 evaluations\n"
     ]
    },
    {
     "name": "stderr",
     "output_type": "stream",
     "text": [
      "\n"
     ]
    }
   ],
   "source": [
    "from phoenix.client.experiments import async_run_experiment\n",
    "\n",
    "\n",
    "# Define the task to run query_db on the input question\n",
    "async def task(input):\n",
    "    return await query_db(input[\"question\"])\n",
    "\n",
    "\n",
    "experiment = await async_run_experiment(\n",
    "    dataset=ds,\n",
    "    task=task,\n",
    "    evaluators=[has_results],\n",
    "    experiment_metadata=CONFIG,\n",
    "    experiment_name=\"baseline\",\n",
    "    repetitions=3,\n",
    ")"
   ]
  },
  {
   "cell_type": "markdown",
   "metadata": {},
   "source": [
    "Ok. Not looking very good. It looks like only 4 out 6 of our questions are yielding results. Let's dig in to see how we can fix these.\n"
   ]
  },
  {
   "cell_type": "markdown",
   "metadata": {},
   "source": [
    "## Interpreting the results\n",
    "\n",
    "Now that we ran the initial evaluation, it looks like 2 of the results are empty due to getting the genre wrong.\n",
    "\n",
    "- `Sci-Fi` needs to be queried as `Science Fiction`\n",
    "- `Anime` needs to be queried as `Animation` + language specification.\n",
    "\n",
    "These two issues would probably be improved by showing a sample of the data to the model (e.g. few shot example) since the data will show the LLM what is queryable."
   ]
  },
  {
   "cell_type": "markdown",
   "metadata": {},
   "source": [
    "Let's try to improve the prompt with few-shot examples and see if we can get better results."
   ]
  },
  {
   "cell_type": "code",
   "execution_count": 1,
   "metadata": {},
   "outputs": [
    {
     "ename": "NameError",
     "evalue": "name 'conn' is not defined",
     "output_type": "error",
     "traceback": [
      "\u001b[31m---------------------------------------------------------------------------\u001b[39m",
      "\u001b[31mNameError\u001b[39m                                 Traceback (most recent call last)",
      "\u001b[36mCell\u001b[39m\u001b[36m \u001b[39m\u001b[32mIn[1]\u001b[39m\u001b[32m, line 1\u001b[39m\n\u001b[32m----> \u001b[39m\u001b[32m1\u001b[39m samples = \u001b[43mconn\u001b[49m.query(\u001b[33m\"\u001b[39m\u001b[33mSELECT * FROM movies LIMIT 5\u001b[39m\u001b[33m\"\u001b[39m).to_df().to_dict(orient=\u001b[33m\"\u001b[39m\u001b[33mrecords\u001b[39m\u001b[33m\"\u001b[39m)\n\u001b[32m      3\u001b[39m example_row = \u001b[33m\"\u001b[39m\u001b[38;5;130;01m\\n\u001b[39;00m\u001b[33m\"\u001b[39m.join(\n\u001b[32m      4\u001b[39m     \u001b[33mf\u001b[39m\u001b[33m\"\u001b[39m\u001b[38;5;132;01m{\u001b[39;00mcolumn[\u001b[33m'\u001b[39m\u001b[33mcolumn_name\u001b[39m\u001b[33m'\u001b[39m]\u001b[38;5;132;01m}\u001b[39;00m\u001b[33m | \u001b[39m\u001b[38;5;132;01m{\u001b[39;00mcolumn[\u001b[33m'\u001b[39m\u001b[33mcolumn_type\u001b[39m\u001b[33m'\u001b[39m]\u001b[38;5;132;01m}\u001b[39;00m\u001b[33m | \u001b[39m\u001b[38;5;132;01m{\u001b[39;00msamples[\u001b[32m0\u001b[39m][column[\u001b[33m'\u001b[39m\u001b[33mcolumn_name\u001b[39m\u001b[33m'\u001b[39m]]\u001b[38;5;132;01m}\u001b[39;00m\u001b[33m\"\u001b[39m\n\u001b[32m      5\u001b[39m     \u001b[38;5;28;01mfor\u001b[39;00m column \u001b[38;5;129;01min\u001b[39;00m columns\n\u001b[32m      6\u001b[39m )\n\u001b[32m      8\u001b[39m column_header = \u001b[33m\"\u001b[39m\u001b[33m | \u001b[39m\u001b[33m\"\u001b[39m.join(column[\u001b[33m\"\u001b[39m\u001b[33mcolumn_name\u001b[39m\u001b[33m\"\u001b[39m] \u001b[38;5;28;01mfor\u001b[39;00m column \u001b[38;5;129;01min\u001b[39;00m columns)\n",
      "\u001b[31mNameError\u001b[39m: name 'conn' is not defined"
     ]
    }
   ],
   "source": [
    "samples = conn.query(\"SELECT * FROM movies LIMIT 5\").to_df().to_dict(orient=\"records\")\n",
    "\n",
    "example_row = \"\\n\".join(\n",
    "    f\"{column['column_name']} | {column['column_type']} | {samples[0][column['column_name']]}\"\n",
    "    for column in columns\n",
    ")\n",
    "\n",
    "column_header = \" | \".join(column[\"column_name\"] for column in columns)\n",
    "\n",
    "few_shot_examples = \"\\n\".join(\n",
    "    \" | \".join(str(sample[column[\"column_name\"]]) for column in columns) for sample in samples\n",
    ")\n",
    "\n",
    "system_prompt = f\"\"\"\n",
    "You are a SQL expert who takes user queries and transforms them into a SQL query to be executed.\n",
    "\n",
    "You are given a table named `movies` with the following columns:\n",
    "\n",
    "[BEGIN EXAMPLES]\n",
    "************\n",
    "Column | Type | Example\n",
    "-------|------|--------\n",
    "{example_row}\n",
    "************\n",
    "[Example table rows]\n",
    "{column_header}\n",
    "{few_shot_examples}\n",
    "************\n",
    "[END EXAMPLES]\n",
    "\n",
    "Write a raw DuckDB SQL query corresponding to the user's question. Return only the raw SQL query\n",
    "with no formatting. The response SHOULD NOT include backticks or markdown formatting. Never query for more than 10 rows.\n",
    "\n",
    "BAD RESPONSES:\n",
    "- `SELECT * FROM movies`\n",
    "- sql```SELECT * FROM movies``\n",
    "- here is the sql: SELECT * FROM movies\n",
    "\n",
    "GOOD RESPONSES:\n",
    "- SELECT * FROM movies\n",
    "\"\"\"\n",
    "\n",
    "prompt_template = await px_client.prompts.create(\n",
    "    name=\"movie-text-to-sql\",\n",
    "    version=PromptVersion(\n",
    "        [\n",
    "            {\n",
    "                \"role\": \"system\",\n",
    "                \"content\": system_prompt,\n",
    "            },\n",
    "            {\n",
    "                \"role\": \"user\",\n",
    "                \"content\": \"{{question}}\",\n",
    "            },\n",
    "        ],\n",
    "        description=\"Add few shot examples to the prompt\",\n",
    "        model_name=TASK_MODEL,\n",
    "    ),\n",
    ")"
   ]
  },
  {
   "cell_type": "code",
   "execution_count": null,
   "metadata": {},
   "outputs": [],
   "source": [
    "print(await generate_sql(\"What is the best Sci-Fi movies of 2017?\"))"
   ]
  },
  {
   "cell_type": "markdown",
   "metadata": {},
   "source": [
    "Looking much better! Since the prompt shows that \"Sci-Fi\" is represented as \"Science Fiction\", the LLM is able to synthesize the right where clause.\n",
    "\n",
    "Pro-tip: You can try out the prompt in the playground even before the next step!\n",
    "\n",
    "Let's run the experiment again."
   ]
  },
  {
   "cell_type": "code",
   "execution_count": null,
   "metadata": {},
   "outputs": [],
   "source": [
    "experiment = run_experiment(\n",
    "    dataset=ds,\n",
    "    experiment_name=\"with examples\",\n",
    "    task=task,\n",
    "    evaluators=[has_results],\n",
    "    experiment_metadata=CONFIG,\n",
    ")"
   ]
  },
  {
   "cell_type": "markdown",
   "metadata": {},
   "source": [
    "Looks much improved. It looks like we're getting data our of our system. But just because we are getting info out of the DB doesn't mean these records are useful. Let's construct an LLM judge to see if the results are relevant to the question."
   ]
  },
  {
   "cell_type": "code",
   "execution_count": null,
   "metadata": {},
   "outputs": [],
   "source": [
    "import json\n",
    "\n",
    "from openai import OpenAI\n",
    "\n",
    "from phoenix.client.experiments import create_evaluator, evaluate_experiment\n",
    "\n",
    "# Note: EvaluationResult type may have changed in new client API\n",
    "\n",
    "openai_client = OpenAI()\n",
    "\n",
    "judge_system_prompt = \"\"\"\n",
    "You are a judge that determines if a given question can be answered with the SQL results.\n",
    "\n",
    "Provide the label `useful` if the SQL results contain records that help answer the question.\n",
    "Provide the label `useless` if the SQL results do not contain records that help answer the question.\n",
    "\"\"\"\n",
    "\n",
    "judge_user_prompt = \"\"\"\n",
    "[BEGIN DATA]\n",
    "************\n",
    "{question}\n",
    "{results}\n",
    "************\n",
    "[END DATA]\n",
    "\"\"\"\n",
    "\n",
    "\n",
    "@create_evaluator(name=\"usefulness\", kind=\"llm\")\n",
    "def usefulness(input, output):\n",
    "    question = input.get(\"question\")\n",
    "    results = output.get(\"results\", \"\")\n",
    "    response = openai_client.chat.completions.create(\n",
    "        model=\"gpt-4o\",\n",
    "        messages=[\n",
    "            {\"role\": \"system\", \"content\": judge_system_prompt},\n",
    "            {\n",
    "                \"role\": \"user\",\n",
    "                \"content\": judge_user_prompt.format(question=question, results=str(results)),\n",
    "            },\n",
    "        ],\n",
    "        tool_choice=\"required\",\n",
    "        tools=[\n",
    "            {\n",
    "                \"type\": \"function\",\n",
    "                \"function\": {\n",
    "                    \"name\": \"usefulness\",\n",
    "                    \"description\": \"Determine if the SQL results are useful for answering the question.\",\n",
    "                    \"parameters\": {\n",
    "                        \"type\": \"object\",\n",
    "                        \"properties\": {\n",
    "                            \"explanation\": {\n",
    "                                \"type\": \"string\",\n",
    "                                \"description\": \"Explain why the label is useful or useless.\",\n",
    "                            },\n",
    "                            \"label\": {\"type\": \"string\", \"enum\": [\"useful\", \"useless\"]},\n",
    "                        },\n",
    "                    },\n",
    "                },\n",
    "            }\n",
    "        ],\n",
    "    )\n",
    "    if response.choices[0].message.tool_calls is None:\n",
    "        raise ValueError(\"No tool call found in response\")\n",
    "    args = json.loads(response.choices[0].message.tool_calls[0].function.arguments)\n",
    "    label = args[\"label\"]\n",
    "    explanation = args[\"explanation\"]\n",
    "    score = 1 if label == \"useful\" else 0\n",
    "    return score, label, explanation\n",
    "\n",
    "\n",
    "evaluate_experiment(experiment, evaluators=[usefulness])"
   ]
  },
  {
   "cell_type": "markdown",
   "metadata": {},
   "source": [
    "The LLM judge's scoring closely matches our manual review, demonstrating its effectiveness as an automated evaluation method. This approach is particularly valuable when traditional rule-based scoring functions are difficult to implement.\n",
    "\n",
    "The LLM judge also shows an advantage in nuanced understanding - for example, it correctly identifies that 'Anime' and 'Animation' are distinct genres, a subtlety our code-based evaluators missed. This highlights why developing custom LLM judges tailored to your specific task requirements is crucial for accurate evaluation."
   ]
  },
  {
   "cell_type": "markdown",
   "metadata": {},
   "source": [
    "\n",
    "We now have a simple text-to-sql pipeline that can be used to generate SQL queries from natural language questions. Since Phoenix has been tracing the entire pipeline, we can now use the Phoenix UI to convert the spans that generated successful queries into examples to use in **Golden Dataset** for regression testing as well."
   ]
  },
  {
   "cell_type": "markdown",
   "metadata": {},
   "source": [
    "## Bringing it all together\n",
    "\n",
    "Now that we've seen the experiment improve our outcome, let's put it to a test given the evals we built out earlier."
   ]
  },
  {
   "cell_type": "code",
   "execution_count": null,
   "metadata": {},
   "outputs": [],
   "source": [
    "from openinference.instrumentation import dangerously_using_project\n",
    "\n",
    "\n",
    "@tracer.agent\n",
    "async def movie_agent_improved(question):\n",
    "    sql_response = await query_db(question)\n",
    "    prompt = synthesis_prompt_template.format(\n",
    "        variables={\"question\": question, \"results\": str(sql_response[\"results\"])}, sdk=\"openai\"\n",
    "    )\n",
    "    answer = await client.chat.completions.create(**prompt)\n",
    "    return answer.choices[0].message.content\n",
    "\n",
    "\n",
    "with dangerously_using_project(project_name=\"movie-agent-improved\"):\n",
    "    for question in questions:\n",
    "        try:\n",
    "            answer = await movie_agent_improved(question)\n",
    "            print(\"Question: \", question)\n",
    "            print(\"Answer: \", answer)\n",
    "            print(\"\\n\")\n",
    "        except Exception as e:\n",
    "            print(e)"
   ]
  },
  {
   "cell_type": "code",
   "execution_count": null,
   "metadata": {},
   "outputs": [],
   "source": [
    "from phoenix.client import Client\n",
    "from phoenix.client.types.spans import SpanQuery\n",
    "\n",
    "phoenix_client = Client()\n",
    "query = SpanQuery().where(\"name == 'movie_agent_improved'\")\n",
    "\n",
    "spans_df = phoenix_client.spans.get_spans_dataframe(\n",
    "    project_identifier=\"movie-agent-improved\", query=query\n",
    ")\n",
    "\n",
    "spans_df.head()"
   ]
  },
  {
   "cell_type": "code",
   "execution_count": null,
   "metadata": {},
   "outputs": [],
   "source": [
    "from phoenix.evals import llm_classify\n",
    "from phoenix.evals.models import OpenAIModel\n",
    "from phoenix.evals.templates import PromptTemplate\n",
    "\n",
    "evals_df = llm_classify(\n",
    "    data=spans_df,\n",
    "    model=OpenAIModel(model=\"gpt-4o\"),\n",
    "    rails=[\"correct\", \"incorrect\"],\n",
    "    template=PromptTemplate(\n",
    "        template=eval_prompt,\n",
    "    ),\n",
    "    exit_on_error=False,\n",
    "    provide_explanation=True,\n",
    ")\n",
    "\n",
    "## Assign 1 to correct and 0 to incorrect\n",
    "evals_df[\"score\"] = evals_df[\"label\"].apply(lambda x: 1 if x == \"correct\" else 0)\n",
    "evals_df[[\"label\", \"score\", \"explanation\"]].head()"
   ]
  },
  {
   "cell_type": "code",
   "execution_count": null,
   "metadata": {},
   "outputs": [],
   "source": [
    "px_client = AsyncClient()\n",
    "await px_client.annotations.log_span_annotations_dataframe(\n",
    "    dataframe=evals_df,\n",
    "    annotation_name=\"llm_correctness\",\n",
    "    annotator_kind=\"LLM\",\n",
    ")"
   ]
  },
  {
   "cell_type": "markdown",
   "metadata": {},
   "source": [
    "Our improved agent now is able to answer all 6 questions but our `llm_correctness` eval was able to spot that the agent responses are not very good:\n",
    "\n",
    "- querying for `Anime` and responding with `Frozen II` misses the mark on anime being a japanese form of animation\n",
    "- the LLM thinks \"top\" or \"best\" means rating but doesn't take into account the number of votes.\n",
    "\n",
    "Our `movie-text-to-sql` prompt still needs more instructions if we want to improve its performance. But we're on the right track and can find more ways to guide the LLM."
   ]
  },
  {
   "cell_type": "markdown",
   "metadata": {
    "vscode": {
     "languageId": "raw"
    }
   },
   "source": [
    "This tutorial demonstrated the core principles of building **evals that work** for AI applications. Here are the key concepts you should take away:\n",
    "\n",
    "1. **Build & Trace**: Instrument your AI application with tracing from day one\n",
    "2. **Annotate**: Use human judgment to label traces with simple heuristics like correct/incorrect\n",
    "3. **Create Evaluators**: Build both simple programmatic evals as well as LLM judges\n",
    "4. **Experiment**: Run systematic experiments to compare different approaches\n",
    "5. **Iterate**: Use evaluation results to improve prompts, models, or architecture"
   ]
  },
  {
   "cell_type": "markdown",
   "metadata": {},
   "source": [
    "\n",
    "\n",
    "# Bibliography\n",
    "\n",
    "<cite id=\"yan2025\">Yan, Z. (2025). An LLM-as-Judge Won't Save The Product—Fixing Your Process Will. *eugeneyan.com*. https://eugeneyan.com/writing/eval-process/</cite>"
   ]
  }
 ],
 "metadata": {
  "kernelspec": {
   "display_name": ".venv",
   "language": "python",
   "name": "python3"
  },
  "language_info": {
   "codemirror_mode": {
    "name": "ipython",
    "version": 3
   },
   "file_extension": ".py",
   "mimetype": "text/x-python",
   "name": "python",
   "nbconvert_exporter": "python",
   "pygments_lexer": "ipython3",
   "version": "3.13.3"
  }
 },
 "nbformat": 4,
 "nbformat_minor": 2
}
