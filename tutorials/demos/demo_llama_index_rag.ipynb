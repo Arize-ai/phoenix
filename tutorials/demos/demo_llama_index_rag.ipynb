{
 "cells": [
  {
   "cell_type": "markdown",
   "metadata": {},
   "source": [
    "# Phoenix Notebook: Demo Llama-Index Tracing\n",
    "\n",
    "All tracing fixtures generated from this notebook can be found on GCS under the `arize-phoenix-assets/traces` as `demo_llama_index_rag_(name).parquet`: [link here](https://console.cloud.google.com/storage/browser/arize-phoenix-assets/traces)"
   ]
  },
  {
   "cell_type": "markdown",
   "metadata": {
    "id": "wYET8LC-3koX"
   },
   "source": [
    "## Setup"
   ]
  },
  {
   "cell_type": "markdown",
   "metadata": {},
   "source": [
    "Install libraries"
   ]
  },
  {
   "cell_type": "code",
   "execution_count": null,
   "metadata": {
    "id": "E3qLx9JwjMuj"
   },
   "outputs": [],
   "source": [
    "!pip install -qq arize-phoenix llama-index \"openai>=1\" gcsfs nest_asyncio langchain langchain-community cohere llama-index-postprocessor-cohere-rerank 'httpx<0.28'"
   ]
  },
  {
   "cell_type": "markdown",
   "metadata": {
    "id": "EejzP1ov3wgw"
   },
   "source": [
    "Set up environment variables and enter API keys\n"
   ]
  },
  {
   "cell_type": "code",
   "execution_count": null,
   "metadata": {
    "colab": {
     "base_uri": "https://localhost:8080/"
    },
    "id": "SfHrgDaHjkFP",
    "outputId": "4f28de04-c240-42bb-e49a-a8abe892bd10"
   },
   "outputs": [],
   "source": [
    "import os\n",
    "from getpass import getpass\n",
    "\n",
    "if not (openai_api_key := os.getenv(\"OPENAI_API_KEY\")):\n",
    "    openai_api_key = getpass(\"🔑 Enter your OpenAI API key: \")\n",
    "os.environ[\"OPENAI_API_KEY\"] = openai_api_key\n",
    "\n",
    "if not (cohere_api_key := os.getenv(\"COHERE_API_KEY\")):\n",
    "    cohere_api_key = getpass(\"🔑 Enter your Cohere API key: \")\n",
    "os.environ[\"COHERE_API_KEY\"] = cohere_api_key"
   ]
  },
  {
   "cell_type": "markdown",
   "metadata": {
    "id": "nrRN-Tur32Qd"
   },
   "source": [
    "## Launch Phoenix and Instrumentation"
   ]
  },
  {
   "cell_type": "code",
   "execution_count": null,
   "metadata": {
    "id": "RDmiCpAlK3Wd"
   },
   "outputs": [],
   "source": [
    "import phoenix as px\n",
    "\n",
    "session = px.launch_app()"
   ]
  },
  {
   "cell_type": "code",
   "execution_count": null,
   "metadata": {
    "id": "Ig1vG4l5co7-"
   },
   "outputs": [],
   "source": [
    "from openinference.instrumentation.llama_index import LlamaIndexInstrumentor\n",
    "\n",
    "from phoenix.otel import register\n",
    "\n",
    "tracer_provider = register(endpoint=\"http://127.0.0.1:6006/v1/traces\")\n",
    "LlamaIndexInstrumentor().instrument(tracer_provider=tracer_provider)"
   ]
  },
  {
   "cell_type": "markdown",
   "metadata": {
    "id": "7OP5ELmg4LeS"
   },
   "source": [
    "## Parse Phoenix Documentation into Llama-Index Documents"
   ]
  },
  {
   "cell_type": "markdown",
   "metadata": {},
   "source": [
    "Imports"
   ]
  },
  {
   "cell_type": "code",
   "execution_count": null,
   "metadata": {},
   "outputs": [],
   "source": [
    "import json\n",
    "import logging\n",
    "import sys\n",
    "\n",
    "import pandas as pd\n",
    "from langchain.document_loaders import GitbookLoader\n",
    "from llama_index.core import Document, VectorStoreIndex"
   ]
  },
  {
   "cell_type": "code",
   "execution_count": null,
   "metadata": {
    "colab": {
     "base_uri": "https://localhost:8080/"
    },
    "id": "w6cVWlJGjsMO",
    "outputId": "649293f3-48a6-470e-f9e1-0de741667746"
   },
   "outputs": [],
   "source": [
    "# The nest_asyncio module enables the nesting of asynchronous functions within an already running async loop.\n",
    "# This is necessary because Jupyter notebooks inherently operate in an asynchronous loop.\n",
    "# By applying nest_asyncio, we can run additional async functions within this existing loop without conflicts.\n",
    "import nest_asyncio\n",
    "\n",
    "nest_asyncio.apply()"
   ]
  },
  {
   "cell_type": "markdown",
   "metadata": {
    "id": "PWDCQJN1co7-"
   },
   "source": [
    "Enable Phoenix tracing via `LlamaIndexInstrumentor`. \n",
    "\n",
    "Phoenix uses OpenInference traces - an open-source standard for capturing and storing LLM application traces that enables LLM applications to seamlessly integrate with LLM observability solutions such as Phoenix."
   ]
  },
  {
   "cell_type": "code",
   "execution_count": null,
   "metadata": {
    "colab": {
     "base_uri": "https://localhost:8080/"
    },
    "id": "F9mFzfnlj2rV",
    "outputId": "b52d862f-bb3c-41f6-b07a-3ad0e18c5cc7"
   },
   "outputs": [],
   "source": [
    "\"\"\"\n",
    "Fetches the Arize documentation from Gitbook and serializes it into LangChain format.\n",
    "\"\"\"\n",
    "\n",
    "\n",
    "def load_gitbook_docs(docs_url: str):\n",
    "    \"\"\"Loads documents from a Gitbook URL.\n",
    "\n",
    "    Args:\n",
    "        docs_url (str): URL to Gitbook docs.\n",
    "\n",
    "    Returns:\n",
    "        List[LangChainDocument]: List of documents in LangChain format.\n",
    "    \"\"\"\n",
    "    loader = GitbookLoader(\n",
    "        docs_url,\n",
    "        load_all_paths=True,\n",
    "    )\n",
    "    return loader.load()\n",
    "\n",
    "\n",
    "logging.basicConfig(level=logging.INFO, stream=sys.stdout)\n",
    "\n",
    "# Fetch documentation\n",
    "docs_url = \"https://docs.arize.com/phoenix\"\n",
    "embedding_model_name = \"text-embedding-ada-002\"\n",
    "docs = load_gitbook_docs(docs_url)"
   ]
  },
  {
   "cell_type": "code",
   "execution_count": null,
   "metadata": {
    "id": "B5KT9icyk_Lh"
   },
   "outputs": [],
   "source": [
    "documents = []\n",
    "for doc in docs:\n",
    "    documents.append(Document(metadata=doc.metadata, text=doc.page_content))"
   ]
  },
  {
   "cell_type": "code",
   "execution_count": null,
   "metadata": {
    "colab": {
     "base_uri": "https://localhost:8080/"
    },
    "id": "CemnegejgI7f",
    "outputId": "1f7e434f-4e1b-4937-9478-aa1f0cedc2e7"
   },
   "outputs": [],
   "source": [
    "documents[0].metadata"
   ]
  },
  {
   "cell_type": "code",
   "execution_count": null,
   "metadata": {
    "id": "lAPNcG-RHWL2"
   },
   "outputs": [],
   "source": [
    "# Convert documents to a JSON serializable format (if needed)\n",
    "documents_json = [doc.to_dict() for doc in documents]\n",
    "\n",
    "# Save documents to a JSON file\n",
    "with open(\"demo_llama_index_documents.json\", \"w\") as file:\n",
    "    json.dump(documents_json, file, indent=4)"
   ]
  },
  {
   "cell_type": "markdown",
   "metadata": {
    "id": "a3pYhJwq4VwX"
   },
   "source": [
    "## Set Up VectorStore and Query Engine"
   ]
  },
  {
   "cell_type": "code",
   "execution_count": null,
   "metadata": {
    "id": "4S8pfGvFluIg"
   },
   "outputs": [],
   "source": [
    "from llama_index.core.node_parser import SentenceSplitter\n",
    "\n",
    "# Build index with a chunk_size of 1024\n",
    "splitter = SentenceSplitter(chunk_size=1024, chunk_overlap=250)\n",
    "nodes = splitter.get_nodes_from_documents(documents)\n",
    "vector_index = VectorStoreIndex(nodes)"
   ]
  },
  {
   "cell_type": "markdown",
   "metadata": {
    "id": "cOmyBVoSco7-"
   },
   "source": [
    "Build a QueryEngine and set up a Cohere reranker"
   ]
  },
  {
   "cell_type": "code",
   "execution_count": null,
   "metadata": {
    "colab": {
     "base_uri": "https://localhost:8080/"
    },
    "id": "3OB49Cghco7-",
    "outputId": "95c7afd2-4d6c-41dc-f1ce-e636e1516a24"
   },
   "outputs": [],
   "source": [
    "from llama_index.postprocessor.cohere_rerank import CohereRerank\n",
    "\n",
    "cohere_api_key = os.environ[\"COHERE_API_KEY\"]\n",
    "cohere_rerank = CohereRerank(api_key=cohere_api_key, top_n=2)\n",
    "\n",
    "query_engine = vector_index.as_query_engine(\n",
    "    similarity_top_k=5,\n",
    "    node_postprocessors=[cohere_rerank],\n",
    ")"
   ]
  },
  {
   "cell_type": "markdown",
   "metadata": {
    "id": "wmlw_irPco7_"
   },
   "source": [
    "## Import Questions"
   ]
  },
  {
   "cell_type": "code",
   "execution_count": null,
   "metadata": {},
   "outputs": [],
   "source": [
    "host = \"https://storage.googleapis.com/\"\n",
    "bucket = \"arize-phoenix-assets\"\n",
    "prefix = \"traces\"\n",
    "url = f\"{host}{bucket}/{prefix}\""
   ]
  },
  {
   "cell_type": "code",
   "execution_count": null,
   "metadata": {
    "id": "21s8Kk3znqJ-"
   },
   "outputs": [],
   "source": [
    "questions_file = \"demo_llama_index_rag_questions.parquet\"\n",
    "questions_df = pd.read_parquet(f\"{url}/{questions_file}\")\n",
    "questions_df"
   ]
  },
  {
   "cell_type": "markdown",
   "metadata": {
    "id": "jc7hbkyu5zr3"
   },
   "source": [
    "## Generate Answers for All Questions"
   ]
  },
  {
   "cell_type": "markdown",
   "metadata": {},
   "source": [
    "Start querying"
   ]
  },
  {
   "cell_type": "code",
   "execution_count": null,
   "metadata": {
    "colab": {
     "base_uri": "https://localhost:8080/"
    },
    "id": "4HmTkFYJsLq4",
    "outputId": "c6c18359-d7e1-4180-f194-2d67b27b6c0f"
   },
   "outputs": [],
   "source": [
    "# Loop over the questions and generate the answers\n",
    "for i, row in questions_df.iterrows():\n",
    "    question = row[\"Prompt/ Question\"]\n",
    "    response_vector = query_engine.query(question)\n",
    "    print(f\"Question: {question}\\nAnswer: {response_vector.response}\\n\")"
   ]
  },
  {
   "cell_type": "markdown",
   "metadata": {},
   "source": [
    "## OPTIONAL: Remove index spans\n",
    "\n",
    "Indexing traces, such as document embeddings and document node parsing, might be instrumented. Remove by:\n",
    "\n",
    "1. Query spans from Phoenix without indexing spans and save as `demo_traces.parquet`\n",
    "2. Clear all spans generated from this notebook (manually)\n",
    "3. Log the same traces back to Phoenix without the indexing spans"
   ]
  },
  {
   "cell_type": "markdown",
   "metadata": {},
   "source": [
    "Step 1: Query spans from Phoenix without indexing spans and save as `demo_traces.parquet`"
   ]
  },
  {
   "cell_type": "code",
   "execution_count": null,
   "metadata": {},
   "outputs": [],
   "source": [
    "from phoenix.trace.dsl import SpanQuery\n",
    "\n",
    "traces = px.Client().query_spans(\n",
    "    SpanQuery().where(\n",
    "        \"name != 'BaseEmbedding.get_text_embedding_batch' and name != 'MetadataAwareTextSplitter._parse_nodes' and name != 'SentenceSplitter.split_text_metadata_aware'\"\n",
    "    ),\n",
    "    limit=5000,\n",
    "    timeout=100,\n",
    ")\n",
    "traces.to_parquet(\"demo_traces.parquet\")"
   ]
  },
  {
   "cell_type": "markdown",
   "metadata": {},
   "source": [
    "Step 2: Clear all spans manually on Phoenix"
   ]
  },
  {
   "cell_type": "code",
   "execution_count": null,
   "metadata": {},
   "outputs": [],
   "source": [
    "session.view()"
   ]
  },
  {
   "cell_type": "markdown",
   "metadata": {},
   "source": [
    "Step 3: Log the same traces back to Phoenix without the indexing spans"
   ]
  },
  {
   "cell_type": "code",
   "execution_count": null,
   "metadata": {},
   "outputs": [],
   "source": [
    "from phoenix import TraceDataset\n",
    "\n",
    "px.Client().log_traces(TraceDataset(pd.read_parquet(\"demo_traces.parquet\")))"
   ]
  },
  {
   "cell_type": "markdown",
   "metadata": {},
   "source": [
    "Now indexing spans are removed and we're left with the traces we want"
   ]
  },
  {
   "cell_type": "markdown",
   "metadata": {
    "id": "Jd6tXZk-59VT"
   },
   "source": [
    "## Phoenix Evals"
   ]
  },
  {
   "cell_type": "code",
   "execution_count": null,
   "metadata": {
    "colab": {
     "base_uri": "https://localhost:8080/",
     "height": 542
    },
    "id": "6iwW7y2Bco8H",
    "outputId": "49df3b47-4999-4a52-b4e6-d46da4e1654f"
   },
   "outputs": [],
   "source": [
    "from phoenix.session.evaluation import get_retrieved_documents\n",
    "\n",
    "retrieved_documents_df = get_retrieved_documents(px.Client())\n",
    "retrieved_documents_df"
   ]
  },
  {
   "cell_type": "code",
   "execution_count": null,
   "metadata": {
    "colab": {
     "base_uri": "https://localhost:8080/",
     "height": 455
    },
    "id": "QzKMthtAxzsU",
    "outputId": "a65f625e-b1c5-4e51-ac9c-00ff0f3efbb9"
   },
   "outputs": [],
   "source": [
    "from phoenix.session.evaluation import get_qa_with_reference\n",
    "\n",
    "queries_df = get_qa_with_reference(px.active_session())\n",
    "queries_df"
   ]
  },
  {
   "cell_type": "markdown",
   "metadata": {
    "id": "AFECnz04co8H"
   },
   "source": [
    "Let's now use Phoenix's LLM Evals to evaluate the relevance of the retrieved documents with regards to the query. \n",
    "\n",
    "Note, we've turned on `explanations` which prompts the LLM to explain it's reasoning. This can be useful for debugging and for figuring out potential corrective actions."
   ]
  },
  {
   "cell_type": "code",
   "execution_count": null,
   "metadata": {
    "colab": {
     "base_uri": "https://localhost:8080/",
     "height": 49,
     "referenced_widgets": [
      "8648201ffcab4023a1a54dde1b964b8b",
      "df7e8713256a48c2992f3dce61c702d1",
      "d9af102cb64142b3ac7ea6a75027e6a7",
      "59a894868a0344789e8458549f8aa894",
      "2c6eb911b6354343a46fca08b0b85f03",
      "88978e8ddc704d8e9d4048095047615a",
      "44f75a3f6c48404990251849a9be33ca",
      "ae22d487bb1b442cad9018897a53e623",
      "c6aab3035f8247b6a3e276b2e86fe79b",
      "99e5a5eeb1ef41d68f41bbd3cb98d544",
      "d946d51d35344047add12d14c8445f46"
     ]
    },
    "id": "Hq4sr_zIco8H",
    "outputId": "176a349e-727e-4a4c-c305-176fc34ae23a"
   },
   "outputs": [],
   "source": [
    "from phoenix.evals import (\n",
    "    HallucinationEvaluator,\n",
    "    OpenAIModel,\n",
    "    QAEvaluator,\n",
    "    RelevanceEvaluator,\n",
    "    run_evals,\n",
    ")\n",
    "\n",
    "eval_model = OpenAIModel(model=\"gpt-4\")\n",
    "relevance_evaluator = RelevanceEvaluator(eval_model)\n",
    "hallucination_evaluator = HallucinationEvaluator(eval_model)\n",
    "qa_evaluator = QAEvaluator(eval_model)"
   ]
  },
  {
   "cell_type": "markdown",
   "metadata": {},
   "source": [
    "Document relevance evaluations"
   ]
  },
  {
   "cell_type": "code",
   "execution_count": null,
   "metadata": {},
   "outputs": [],
   "source": [
    "retrieved_documents_relevance_df = run_evals(\n",
    "    evaluators=[relevance_evaluator],\n",
    "    dataframe=retrieved_documents_df,\n",
    "    provide_explanation=True,\n",
    "    concurrency=20,\n",
    ")[0]\n",
    "retrieved_documents_relevance_df"
   ]
  },
  {
   "cell_type": "markdown",
   "metadata": {},
   "source": [
    "Hallucination and QA-correctness evaluations"
   ]
  },
  {
   "cell_type": "code",
   "execution_count": null,
   "metadata": {
    "colab": {
     "base_uri": "https://localhost:8080/",
     "height": 49,
     "referenced_widgets": [
      "3363dcebe07847be99e7b41b3840d042",
      "90412f8febda4ab1bb22fe56e2392274",
      "f7654cf0da3f47da801c21b947fda6da",
      "82e8f507e44841f88be5c66c91b27f48",
      "8aeca790868b44babe415849afba77db",
      "5f8024635af64b0a99855ae3adef558d",
      "aed1f2822d114ce4be7dcddfbc2dfc20",
      "aea78f53909e44b195de5886df74fad1",
      "fcf5b6ce6ca94b48b80ed2aa8ced55d5",
      "d10322222cb3435fafdbbdc4d98e5059",
      "d1d54e8e26a54881b1380b02159203ad"
     ]
    },
    "id": "Pe9J4-zYwuCl",
    "outputId": "b3424ecb-9536-4230-92ce-debaf19e690b"
   },
   "outputs": [],
   "source": [
    "hallucination_eval_df, qa_eval_df = run_evals(\n",
    "    dataframe=queries_df,\n",
    "    evaluators=[hallucination_evaluator, qa_evaluator],\n",
    "    provide_explanation=True,\n",
    "    concurrency=20,\n",
    ")\n",
    "hallucination_eval_df"
   ]
  },
  {
   "cell_type": "code",
   "execution_count": null,
   "metadata": {},
   "outputs": [],
   "source": [
    "qa_eval_df"
   ]
  },
  {
   "cell_type": "markdown",
   "metadata": {
    "id": "zbH5A6cS6fd-"
   },
   "source": [
    "## Log the Evaluations into Phoenix"
   ]
  },
  {
   "cell_type": "code",
   "execution_count": null,
   "metadata": {
    "id": "Xbs-D5W-zkDZ"
   },
   "outputs": [],
   "source": [
    "from phoenix.trace import DocumentEvaluations, SpanEvaluations\n",
    "\n",
    "px.Client().log_evaluations(\n",
    "    SpanEvaluations(eval_name=\"Hallucination\", dataframe=hallucination_eval_df),\n",
    "    SpanEvaluations(eval_name=\"QA Correctness\", dataframe=qa_eval_df),\n",
    "    DocumentEvaluations(\n",
    "        eval_name=\"Retrieval Relevance\", dataframe=retrieved_documents_relevance_df\n",
    "    ),\n",
    ")"
   ]
  },
  {
   "cell_type": "code",
   "execution_count": null,
   "metadata": {
    "colab": {
     "base_uri": "https://localhost:8080/",
     "height": 1000
    },
    "id": "O2-3FxRc4ukO",
    "outputId": "1193ef27-1de3-400c-ed40-901784b879d1"
   },
   "outputs": [],
   "source": [
    "session.view()"
   ]
  },
  {
   "cell_type": "markdown",
   "metadata": {
    "id": "I5IS5dvf6lkD"
   },
   "source": [
    "## Save the Traces and Evaluations"
   ]
  },
  {
   "cell_type": "markdown",
   "metadata": {},
   "source": [
    "Save all spans and evals as parquet fixtures"
   ]
  },
  {
   "cell_type": "code",
   "execution_count": null,
   "metadata": {
    "collapsed": true,
    "id": "qG-RDMTsY5a9"
   },
   "outputs": [],
   "source": [
    "import os\n",
    "\n",
    "# Specify and Create the Directory for Trace Dataset\n",
    "directory = \"fixtures\"\n",
    "os.makedirs(directory, exist_ok=True)\n",
    "\n",
    "# Save the Trace Dataset (set limit to above 2000)\n",
    "trace_id = px.Client().get_trace_dataset(limit=5000, timeout=60).save(directory=directory)"
   ]
  },
  {
   "cell_type": "markdown",
   "metadata": {},
   "source": [
    "Save LLM spans as fixtures for dataset usage"
   ]
  },
  {
   "cell_type": "code",
   "execution_count": null,
   "metadata": {},
   "outputs": [],
   "source": [
    "from phoenix.trace.dsl import SpanQuery\n",
    "\n",
    "llm_open_ai = px.Client().query_spans(\n",
    "    SpanQuery().where(\"span_kind == 'LLM' and name == 'OpenAI.chat'\")\n",
    ")\n",
    "\n",
    "llm_predict = px.Client().query_spans(\n",
    "    SpanQuery().where(\"span_kind == 'LLM' and name == 'LLM.predict'\")\n",
    ")\n",
    "\n",
    "all_llm = px.Client().query_spans(SpanQuery().where(\"span_kind == 'LLM'\"))\n",
    "\n",
    "llm_open_ai.to_parquet(\"fixtures/demo_llama_index_llm_open_ai.parquet\")\n",
    "llm_predict.to_parquet(\"fixtures/demo_llama_index_llm_predict.parquet\")\n",
    "all_llm.to_parquet(\"fixtures/demo_llama_index_llm_all_spans.parquet\")"
   ]
  },
  {
   "cell_type": "markdown",
   "metadata": {},
   "source": [
    "OPTIONAL: Delete on Phoenix and import again to check for validity if necessary"
   ]
  },
  {
   "cell_type": "code",
   "execution_count": null,
   "metadata": {},
   "outputs": [],
   "source": [
    "from phoenix import TraceDataset\n",
    "from phoenix.trace import DocumentEvaluations, SpanEvaluations\n",
    "\n",
    "px.Client().log_traces(\n",
    "    TraceDataset(pd.read_parquet(\"fixtures/demo_llama_index_rag_traces.parquet\"))\n",
    ")\n",
    "\n",
    "retrieved_documents_relevance_df = pd.read_parquet(\n",
    "    \"fixtures/demo_llama_index_rag_doc_relevance_eval.parquet\"\n",
    ")\n",
    "qa_eval_df = dataframe = pd.read_parquet(\n",
    "    \"fixtures/demo_llama_index_rag_qa_correctness_eval.parquet\"\n",
    ")\n",
    "hallucination_eval_df = dataframe = pd.read_parquet(\n",
    "    \"fixtures/demo_llama_index_rag_hallucination_eval.parquet\"\n",
    ")\n",
    "\n",
    "px.Client().log_evaluations(\n",
    "    SpanEvaluations(eval_name=\"Hallucination\", dataframe=hallucination_eval_df),\n",
    "    SpanEvaluations(eval_name=\"QA Correctness\", dataframe=qa_eval_df),\n",
    "    DocumentEvaluations(\n",
    "        eval_name=\"Retrieval Relevance\", dataframe=retrieved_documents_relevance_df\n",
    "    ),\n",
    ")"
   ]
  },
  {
   "cell_type": "markdown",
   "metadata": {},
   "source": [
    "Now we have finished generating llama-index RAG QA traces and evals and have them saved as fixtures!"
   ]
  }
 ],
 "metadata": {
  "colab": {
   "provenance": []
  },
  "kernelspec": {
   "display_name": "Python 3",
   "name": "python3"
  },
  "language_info": {
   "codemirror_mode": {
    "name": "ipython",
    "version": 3
   },
   "file_extension": ".py",
   "mimetype": "text/x-python",
   "name": "python",
   "nbconvert_exporter": "python",
   "pygments_lexer": "ipython3",
   "version": "3.12.5"
  },
  "widgets": {
   "application/vnd.jupyter.widget-state+json": {
    "2c6eb911b6354343a46fca08b0b85f03": {
     "model_module": "@jupyter-widgets/base",
     "model_module_version": "1.2.0",
     "model_name": "LayoutModel",
     "state": {
      "_model_module": "@jupyter-widgets/base",
      "_model_module_version": "1.2.0",
      "_model_name": "LayoutModel",
      "_view_count": null,
      "_view_module": "@jupyter-widgets/base",
      "_view_module_version": "1.2.0",
      "_view_name": "LayoutView",
      "align_content": null,
      "align_items": null,
      "align_self": null,
      "border": null,
      "bottom": null,
      "display": null,
      "flex": null,
      "flex_flow": null,
      "grid_area": null,
      "grid_auto_columns": null,
      "grid_auto_flow": null,
      "grid_auto_rows": null,
      "grid_column": null,
      "grid_gap": null,
      "grid_row": null,
      "grid_template_areas": null,
      "grid_template_columns": null,
      "grid_template_rows": null,
      "height": null,
      "justify_content": null,
      "justify_items": null,
      "left": null,
      "margin": null,
      "max_height": null,
      "max_width": null,
      "min_height": null,
      "min_width": null,
      "object_fit": null,
      "object_position": null,
      "order": null,
      "overflow": null,
      "overflow_x": null,
      "overflow_y": null,
      "padding": null,
      "right": null,
      "top": null,
      "visibility": null,
      "width": null
     }
    },
    "3363dcebe07847be99e7b41b3840d042": {
     "model_module": "@jupyter-widgets/controls",
     "model_module_version": "1.5.0",
     "model_name": "HBoxModel",
     "state": {
      "_dom_classes": [],
      "_model_module": "@jupyter-widgets/controls",
      "_model_module_version": "1.5.0",
      "_model_name": "HBoxModel",
      "_view_count": null,
      "_view_module": "@jupyter-widgets/controls",
      "_view_module_version": "1.5.0",
      "_view_name": "HBoxView",
      "box_style": "",
      "children": [
       "IPY_MODEL_90412f8febda4ab1bb22fe56e2392274",
       "IPY_MODEL_f7654cf0da3f47da801c21b947fda6da",
       "IPY_MODEL_82e8f507e44841f88be5c66c91b27f48"
      ],
      "layout": "IPY_MODEL_8aeca790868b44babe415849afba77db"
     }
    },
    "44f75a3f6c48404990251849a9be33ca": {
     "model_module": "@jupyter-widgets/controls",
     "model_module_version": "1.5.0",
     "model_name": "DescriptionStyleModel",
     "state": {
      "_model_module": "@jupyter-widgets/controls",
      "_model_module_version": "1.5.0",
      "_model_name": "DescriptionStyleModel",
      "_view_count": null,
      "_view_module": "@jupyter-widgets/base",
      "_view_module_version": "1.2.0",
      "_view_name": "StyleView",
      "description_width": ""
     }
    },
    "59a894868a0344789e8458549f8aa894": {
     "model_module": "@jupyter-widgets/controls",
     "model_module_version": "1.5.0",
     "model_name": "HTMLModel",
     "state": {
      "_dom_classes": [],
      "_model_module": "@jupyter-widgets/controls",
      "_model_module_version": "1.5.0",
      "_model_name": "HTMLModel",
      "_view_count": null,
      "_view_module": "@jupyter-widgets/controls",
      "_view_module_version": "1.5.0",
      "_view_name": "HTMLView",
      "description": "",
      "description_tooltip": null,
      "layout": "IPY_MODEL_99e5a5eeb1ef41d68f41bbd3cb98d544",
      "placeholder": "​",
      "style": "IPY_MODEL_d946d51d35344047add12d14c8445f46",
      "value": " 500/500 (100.0%) | ⏳ 02:06&lt;00:00 |  1.63it/s"
     }
    },
    "5f8024635af64b0a99855ae3adef558d": {
     "model_module": "@jupyter-widgets/base",
     "model_module_version": "1.2.0",
     "model_name": "LayoutModel",
     "state": {
      "_model_module": "@jupyter-widgets/base",
      "_model_module_version": "1.2.0",
      "_model_name": "LayoutModel",
      "_view_count": null,
      "_view_module": "@jupyter-widgets/base",
      "_view_module_version": "1.2.0",
      "_view_name": "LayoutView",
      "align_content": null,
      "align_items": null,
      "align_self": null,
      "border": null,
      "bottom": null,
      "display": null,
      "flex": null,
      "flex_flow": null,
      "grid_area": null,
      "grid_auto_columns": null,
      "grid_auto_flow": null,
      "grid_auto_rows": null,
      "grid_column": null,
      "grid_gap": null,
      "grid_row": null,
      "grid_template_areas": null,
      "grid_template_columns": null,
      "grid_template_rows": null,
      "height": null,
      "justify_content": null,
      "justify_items": null,
      "left": null,
      "margin": null,
      "max_height": null,
      "max_width": null,
      "min_height": null,
      "min_width": null,
      "object_fit": null,
      "object_position": null,
      "order": null,
      "overflow": null,
      "overflow_x": null,
      "overflow_y": null,
      "padding": null,
      "right": null,
      "top": null,
      "visibility": null,
      "width": null
     }
    },
    "82e8f507e44841f88be5c66c91b27f48": {
     "model_module": "@jupyter-widgets/controls",
     "model_module_version": "1.5.0",
     "model_name": "HTMLModel",
     "state": {
      "_dom_classes": [],
      "_model_module": "@jupyter-widgets/controls",
      "_model_module_version": "1.5.0",
      "_model_name": "HTMLModel",
      "_view_count": null,
      "_view_module": "@jupyter-widgets/controls",
      "_view_module_version": "1.5.0",
      "_view_name": "HTMLView",
      "description": "",
      "description_tooltip": null,
      "layout": "IPY_MODEL_d10322222cb3435fafdbbdc4d98e5059",
      "placeholder": "​",
      "style": "IPY_MODEL_d1d54e8e26a54881b1380b02159203ad",
      "value": " 200/200 (100.0%) | ⏳ 01:13&lt;00:00 |  2.21it/s"
     }
    },
    "8648201ffcab4023a1a54dde1b964b8b": {
     "model_module": "@jupyter-widgets/controls",
     "model_module_version": "1.5.0",
     "model_name": "HBoxModel",
     "state": {
      "_dom_classes": [],
      "_model_module": "@jupyter-widgets/controls",
      "_model_module_version": "1.5.0",
      "_model_name": "HBoxModel",
      "_view_count": null,
      "_view_module": "@jupyter-widgets/controls",
      "_view_module_version": "1.5.0",
      "_view_name": "HBoxView",
      "box_style": "",
      "children": [
       "IPY_MODEL_df7e8713256a48c2992f3dce61c702d1",
       "IPY_MODEL_d9af102cb64142b3ac7ea6a75027e6a7",
       "IPY_MODEL_59a894868a0344789e8458549f8aa894"
      ],
      "layout": "IPY_MODEL_2c6eb911b6354343a46fca08b0b85f03"
     }
    },
    "88978e8ddc704d8e9d4048095047615a": {
     "model_module": "@jupyter-widgets/base",
     "model_module_version": "1.2.0",
     "model_name": "LayoutModel",
     "state": {
      "_model_module": "@jupyter-widgets/base",
      "_model_module_version": "1.2.0",
      "_model_name": "LayoutModel",
      "_view_count": null,
      "_view_module": "@jupyter-widgets/base",
      "_view_module_version": "1.2.0",
      "_view_name": "LayoutView",
      "align_content": null,
      "align_items": null,
      "align_self": null,
      "border": null,
      "bottom": null,
      "display": null,
      "flex": null,
      "flex_flow": null,
      "grid_area": null,
      "grid_auto_columns": null,
      "grid_auto_flow": null,
      "grid_auto_rows": null,
      "grid_column": null,
      "grid_gap": null,
      "grid_row": null,
      "grid_template_areas": null,
      "grid_template_columns": null,
      "grid_template_rows": null,
      "height": null,
      "justify_content": null,
      "justify_items": null,
      "left": null,
      "margin": null,
      "max_height": null,
      "max_width": null,
      "min_height": null,
      "min_width": null,
      "object_fit": null,
      "object_position": null,
      "order": null,
      "overflow": null,
      "overflow_x": null,
      "overflow_y": null,
      "padding": null,
      "right": null,
      "top": null,
      "visibility": null,
      "width": null
     }
    },
    "8aeca790868b44babe415849afba77db": {
     "model_module": "@jupyter-widgets/base",
     "model_module_version": "1.2.0",
     "model_name": "LayoutModel",
     "state": {
      "_model_module": "@jupyter-widgets/base",
      "_model_module_version": "1.2.0",
      "_model_name": "LayoutModel",
      "_view_count": null,
      "_view_module": "@jupyter-widgets/base",
      "_view_module_version": "1.2.0",
      "_view_name": "LayoutView",
      "align_content": null,
      "align_items": null,
      "align_self": null,
      "border": null,
      "bottom": null,
      "display": null,
      "flex": null,
      "flex_flow": null,
      "grid_area": null,
      "grid_auto_columns": null,
      "grid_auto_flow": null,
      "grid_auto_rows": null,
      "grid_column": null,
      "grid_gap": null,
      "grid_row": null,
      "grid_template_areas": null,
      "grid_template_columns": null,
      "grid_template_rows": null,
      "height": null,
      "justify_content": null,
      "justify_items": null,
      "left": null,
      "margin": null,
      "max_height": null,
      "max_width": null,
      "min_height": null,
      "min_width": null,
      "object_fit": null,
      "object_position": null,
      "order": null,
      "overflow": null,
      "overflow_x": null,
      "overflow_y": null,
      "padding": null,
      "right": null,
      "top": null,
      "visibility": null,
      "width": null
     }
    },
    "90412f8febda4ab1bb22fe56e2392274": {
     "model_module": "@jupyter-widgets/controls",
     "model_module_version": "1.5.0",
     "model_name": "HTMLModel",
     "state": {
      "_dom_classes": [],
      "_model_module": "@jupyter-widgets/controls",
      "_model_module_version": "1.5.0",
      "_model_name": "HTMLModel",
      "_view_count": null,
      "_view_module": "@jupyter-widgets/controls",
      "_view_module_version": "1.5.0",
      "_view_name": "HTMLView",
      "description": "",
      "description_tooltip": null,
      "layout": "IPY_MODEL_5f8024635af64b0a99855ae3adef558d",
      "placeholder": "​",
      "style": "IPY_MODEL_aed1f2822d114ce4be7dcddfbc2dfc20",
      "value": "run_evals "
     }
    },
    "99e5a5eeb1ef41d68f41bbd3cb98d544": {
     "model_module": "@jupyter-widgets/base",
     "model_module_version": "1.2.0",
     "model_name": "LayoutModel",
     "state": {
      "_model_module": "@jupyter-widgets/base",
      "_model_module_version": "1.2.0",
      "_model_name": "LayoutModel",
      "_view_count": null,
      "_view_module": "@jupyter-widgets/base",
      "_view_module_version": "1.2.0",
      "_view_name": "LayoutView",
      "align_content": null,
      "align_items": null,
      "align_self": null,
      "border": null,
      "bottom": null,
      "display": null,
      "flex": null,
      "flex_flow": null,
      "grid_area": null,
      "grid_auto_columns": null,
      "grid_auto_flow": null,
      "grid_auto_rows": null,
      "grid_column": null,
      "grid_gap": null,
      "grid_row": null,
      "grid_template_areas": null,
      "grid_template_columns": null,
      "grid_template_rows": null,
      "height": null,
      "justify_content": null,
      "justify_items": null,
      "left": null,
      "margin": null,
      "max_height": null,
      "max_width": null,
      "min_height": null,
      "min_width": null,
      "object_fit": null,
      "object_position": null,
      "order": null,
      "overflow": null,
      "overflow_x": null,
      "overflow_y": null,
      "padding": null,
      "right": null,
      "top": null,
      "visibility": null,
      "width": null
     }
    },
    "ae22d487bb1b442cad9018897a53e623": {
     "model_module": "@jupyter-widgets/base",
     "model_module_version": "1.2.0",
     "model_name": "LayoutModel",
     "state": {
      "_model_module": "@jupyter-widgets/base",
      "_model_module_version": "1.2.0",
      "_model_name": "LayoutModel",
      "_view_count": null,
      "_view_module": "@jupyter-widgets/base",
      "_view_module_version": "1.2.0",
      "_view_name": "LayoutView",
      "align_content": null,
      "align_items": null,
      "align_self": null,
      "border": null,
      "bottom": null,
      "display": null,
      "flex": null,
      "flex_flow": null,
      "grid_area": null,
      "grid_auto_columns": null,
      "grid_auto_flow": null,
      "grid_auto_rows": null,
      "grid_column": null,
      "grid_gap": null,
      "grid_row": null,
      "grid_template_areas": null,
      "grid_template_columns": null,
      "grid_template_rows": null,
      "height": null,
      "justify_content": null,
      "justify_items": null,
      "left": null,
      "margin": null,
      "max_height": null,
      "max_width": null,
      "min_height": null,
      "min_width": null,
      "object_fit": null,
      "object_position": null,
      "order": null,
      "overflow": null,
      "overflow_x": null,
      "overflow_y": null,
      "padding": null,
      "right": null,
      "top": null,
      "visibility": null,
      "width": null
     }
    },
    "aea78f53909e44b195de5886df74fad1": {
     "model_module": "@jupyter-widgets/base",
     "model_module_version": "1.2.0",
     "model_name": "LayoutModel",
     "state": {
      "_model_module": "@jupyter-widgets/base",
      "_model_module_version": "1.2.0",
      "_model_name": "LayoutModel",
      "_view_count": null,
      "_view_module": "@jupyter-widgets/base",
      "_view_module_version": "1.2.0",
      "_view_name": "LayoutView",
      "align_content": null,
      "align_items": null,
      "align_self": null,
      "border": null,
      "bottom": null,
      "display": null,
      "flex": null,
      "flex_flow": null,
      "grid_area": null,
      "grid_auto_columns": null,
      "grid_auto_flow": null,
      "grid_auto_rows": null,
      "grid_column": null,
      "grid_gap": null,
      "grid_row": null,
      "grid_template_areas": null,
      "grid_template_columns": null,
      "grid_template_rows": null,
      "height": null,
      "justify_content": null,
      "justify_items": null,
      "left": null,
      "margin": null,
      "max_height": null,
      "max_width": null,
      "min_height": null,
      "min_width": null,
      "object_fit": null,
      "object_position": null,
      "order": null,
      "overflow": null,
      "overflow_x": null,
      "overflow_y": null,
      "padding": null,
      "right": null,
      "top": null,
      "visibility": null,
      "width": null
     }
    },
    "aed1f2822d114ce4be7dcddfbc2dfc20": {
     "model_module": "@jupyter-widgets/controls",
     "model_module_version": "1.5.0",
     "model_name": "DescriptionStyleModel",
     "state": {
      "_model_module": "@jupyter-widgets/controls",
      "_model_module_version": "1.5.0",
      "_model_name": "DescriptionStyleModel",
      "_view_count": null,
      "_view_module": "@jupyter-widgets/base",
      "_view_module_version": "1.2.0",
      "_view_name": "StyleView",
      "description_width": ""
     }
    },
    "c6aab3035f8247b6a3e276b2e86fe79b": {
     "model_module": "@jupyter-widgets/controls",
     "model_module_version": "1.5.0",
     "model_name": "ProgressStyleModel",
     "state": {
      "_model_module": "@jupyter-widgets/controls",
      "_model_module_version": "1.5.0",
      "_model_name": "ProgressStyleModel",
      "_view_count": null,
      "_view_module": "@jupyter-widgets/base",
      "_view_module_version": "1.2.0",
      "_view_name": "StyleView",
      "bar_color": null,
      "description_width": ""
     }
    },
    "d10322222cb3435fafdbbdc4d98e5059": {
     "model_module": "@jupyter-widgets/base",
     "model_module_version": "1.2.0",
     "model_name": "LayoutModel",
     "state": {
      "_model_module": "@jupyter-widgets/base",
      "_model_module_version": "1.2.0",
      "_model_name": "LayoutModel",
      "_view_count": null,
      "_view_module": "@jupyter-widgets/base",
      "_view_module_version": "1.2.0",
      "_view_name": "LayoutView",
      "align_content": null,
      "align_items": null,
      "align_self": null,
      "border": null,
      "bottom": null,
      "display": null,
      "flex": null,
      "flex_flow": null,
      "grid_area": null,
      "grid_auto_columns": null,
      "grid_auto_flow": null,
      "grid_auto_rows": null,
      "grid_column": null,
      "grid_gap": null,
      "grid_row": null,
      "grid_template_areas": null,
      "grid_template_columns": null,
      "grid_template_rows": null,
      "height": null,
      "justify_content": null,
      "justify_items": null,
      "left": null,
      "margin": null,
      "max_height": null,
      "max_width": null,
      "min_height": null,
      "min_width": null,
      "object_fit": null,
      "object_position": null,
      "order": null,
      "overflow": null,
      "overflow_x": null,
      "overflow_y": null,
      "padding": null,
      "right": null,
      "top": null,
      "visibility": null,
      "width": null
     }
    },
    "d1d54e8e26a54881b1380b02159203ad": {
     "model_module": "@jupyter-widgets/controls",
     "model_module_version": "1.5.0",
     "model_name": "DescriptionStyleModel",
     "state": {
      "_model_module": "@jupyter-widgets/controls",
      "_model_module_version": "1.5.0",
      "_model_name": "DescriptionStyleModel",
      "_view_count": null,
      "_view_module": "@jupyter-widgets/base",
      "_view_module_version": "1.2.0",
      "_view_name": "StyleView",
      "description_width": ""
     }
    },
    "d946d51d35344047add12d14c8445f46": {
     "model_module": "@jupyter-widgets/controls",
     "model_module_version": "1.5.0",
     "model_name": "DescriptionStyleModel",
     "state": {
      "_model_module": "@jupyter-widgets/controls",
      "_model_module_version": "1.5.0",
      "_model_name": "DescriptionStyleModel",
      "_view_count": null,
      "_view_module": "@jupyter-widgets/base",
      "_view_module_version": "1.2.0",
      "_view_name": "StyleView",
      "description_width": ""
     }
    },
    "d9af102cb64142b3ac7ea6a75027e6a7": {
     "model_module": "@jupyter-widgets/controls",
     "model_module_version": "1.5.0",
     "model_name": "FloatProgressModel",
     "state": {
      "_dom_classes": [],
      "_model_module": "@jupyter-widgets/controls",
      "_model_module_version": "1.5.0",
      "_model_name": "FloatProgressModel",
      "_view_count": null,
      "_view_module": "@jupyter-widgets/controls",
      "_view_module_version": "1.5.0",
      "_view_name": "ProgressView",
      "bar_style": "",
      "description": "",
      "description_tooltip": null,
      "layout": "IPY_MODEL_ae22d487bb1b442cad9018897a53e623",
      "max": 500,
      "min": 0,
      "orientation": "horizontal",
      "style": "IPY_MODEL_c6aab3035f8247b6a3e276b2e86fe79b",
      "value": 500
     }
    },
    "df7e8713256a48c2992f3dce61c702d1": {
     "model_module": "@jupyter-widgets/controls",
     "model_module_version": "1.5.0",
     "model_name": "HTMLModel",
     "state": {
      "_dom_classes": [],
      "_model_module": "@jupyter-widgets/controls",
      "_model_module_version": "1.5.0",
      "_model_name": "HTMLModel",
      "_view_count": null,
      "_view_module": "@jupyter-widgets/controls",
      "_view_module_version": "1.5.0",
      "_view_name": "HTMLView",
      "description": "",
      "description_tooltip": null,
      "layout": "IPY_MODEL_88978e8ddc704d8e9d4048095047615a",
      "placeholder": "​",
      "style": "IPY_MODEL_44f75a3f6c48404990251849a9be33ca",
      "value": "run_evals "
     }
    },
    "f7654cf0da3f47da801c21b947fda6da": {
     "model_module": "@jupyter-widgets/controls",
     "model_module_version": "1.5.0",
     "model_name": "FloatProgressModel",
     "state": {
      "_dom_classes": [],
      "_model_module": "@jupyter-widgets/controls",
      "_model_module_version": "1.5.0",
      "_model_name": "FloatProgressModel",
      "_view_count": null,
      "_view_module": "@jupyter-widgets/controls",
      "_view_module_version": "1.5.0",
      "_view_name": "ProgressView",
      "bar_style": "",
      "description": "",
      "description_tooltip": null,
      "layout": "IPY_MODEL_aea78f53909e44b195de5886df74fad1",
      "max": 200,
      "min": 0,
      "orientation": "horizontal",
      "style": "IPY_MODEL_fcf5b6ce6ca94b48b80ed2aa8ced55d5",
      "value": 200
     }
    },
    "fcf5b6ce6ca94b48b80ed2aa8ced55d5": {
     "model_module": "@jupyter-widgets/controls",
     "model_module_version": "1.5.0",
     "model_name": "ProgressStyleModel",
     "state": {
      "_model_module": "@jupyter-widgets/controls",
      "_model_module_version": "1.5.0",
      "_model_name": "ProgressStyleModel",
      "_view_count": null,
      "_view_module": "@jupyter-widgets/base",
      "_view_module_version": "1.2.0",
      "_view_name": "StyleView",
      "bar_color": null,
      "description_width": ""
     }
    }
   }
  }
 },
 "nbformat": 4,
 "nbformat_minor": 0
}
