{
 "cells": [
  {
   "cell_type": "markdown",
   "metadata": {},
   "source": [
    "# Phoenix Notebook: Demo Llama-Index Tracing\n",
    "\n",
    "All tracing fixtures generated from this notebook can be found on GCS under the `arize-phoenix-assets/traces` as `demo_llama_index_rag_(name).parquet`: [link here](https://console.cloud.google.com/storage/browser/arize-phoenix-assets/traces)"
   ]
  },
  {
   "cell_type": "markdown",
   "metadata": {
    "id": "wYET8LC-3koX"
   },
   "source": [
    "## Setup"
   ]
  },
  {
   "cell_type": "markdown",
   "metadata": {},
   "source": [
    "Install libraries"
   ]
  },
  {
   "cell_type": "code",
   "execution_count": null,
   "metadata": {},
   "outputs": [],
   "source": [
    "!pip install -qq arize-phoenix llama-index \"openai>=1\" gcsfs nest_asyncio langchain langchain-community cohere llama-index-postprocessor-cohere-rerank"
   ]
  },
  {
   "cell_type": "markdown",
   "metadata": {
    "id": "EejzP1ov3wgw"
   },
   "source": [
    "Set up environment variables and enter API keys\n"
   ]
  },
  {
   "cell_type": "code",
   "execution_count": null,
   "metadata": {},
   "outputs": [],
   "source": [
    "import os\n",
    "from getpass import getpass\n",
    "\n",
    "if not (openai_api_key := os.getenv(\"OPENAI_API_KEY\")):\n",
    "    openai_api_key = getpass(\"🔑 Enter your OpenAI API key: \")\n",
    "os.environ[\"OPENAI_API_KEY\"] = openai_api_key\n",
    "\n",
    "if not (cohere_api_key := os.getenv(\"COHERE_API_KEY\")):\n",
    "    cohere_api_key = getpass(\"🔑 Enter your Cohere API key: \")\n",
    "os.environ[\"COHERE_API_KEY\"] = cohere_api_key"
   ]
  },
  {
   "cell_type": "markdown",
   "metadata": {
    "id": "nrRN-Tur32Qd"
   },
   "source": [
    "## Launch Phoenix and Instrumentation"
   ]
  },
  {
   "cell_type": "code",
   "execution_count": null,
   "metadata": {},
   "outputs": [],
   "source": [
    "import phoenix as px\n",
    "\n",
    "session = px.launch_app()"
   ]
  },
  {
   "cell_type": "code",
   "execution_count": null,
   "metadata": {},
   "outputs": [],
   "source": [
    "from openinference.instrumentation.llama_index import LlamaIndexInstrumentor\n",
    "\n",
    "from phoenix.otel import register\n",
    "\n",
    "tracer_provider = register(endpoint=\"http://127.0.0.1:6006/v1/traces\")\n",
    "LlamaIndexInstrumentor().instrument(tracer_provider=tracer_provider)"
   ]
  },
  {
   "cell_type": "markdown",
   "metadata": {
    "id": "7OP5ELmg4LeS"
   },
   "source": [
    "## Parse Phoenix Documentation into Llama-Index Documents"
   ]
  },
  {
   "cell_type": "markdown",
   "metadata": {},
   "source": [
    "Imports"
   ]
  },
  {
   "cell_type": "code",
   "execution_count": null,
   "metadata": {},
   "outputs": [],
   "source": [
    "import json\n",
    "import logging\n",
    "import sys"
   ]
  },
  {
   "cell_type": "code",
   "execution_count": null,
   "metadata": {},
   "outputs": [],
   "source": [
    "# The nest_asyncio module enables the nesting of asynchronous functions within an already running async loop.\n",
    "# This is necessary because Jupyter notebooks inherently operate in an asynchronous loop.\n",
    "# By applying nest_asyncio, we can run additional async functions within this existing loop without conflicts.\n",
    "import nest_asyncio\n",
    "import pandas as pd\n",
    "from langchain.document_loaders import GitbookLoader\n",
    "from llama_index.core import Document, VectorStoreIndex\n",
    "\n",
    "nest_asyncio.apply()"
   ]
  },
  {
   "cell_type": "markdown",
   "metadata": {
    "id": "PWDCQJN1co7-"
   },
   "source": [
    "Enable Phoenix tracing via `LlamaIndexInstrumentor`. \n",
    "\n",
    "Phoenix uses OpenInference traces - an open-source standard for capturing and storing LLM application traces that enables LLM applications to seamlessly integrate with LLM observability solutions such as Phoenix."
   ]
  },
  {
   "cell_type": "code",
   "execution_count": null,
   "metadata": {},
   "outputs": [],
   "source": [
    "\"\"\"\n",
    "Fetches the Arize documentation from Gitbook and serializes it into LangChain format.\n",
    "\"\"\"\n",
    "\n",
    "\n",
    "def load_gitbook_docs(docs_url: str):\n",
    "    \"\"\"Loads documents from a Gitbook URL.\n",
    "\n",
    "    Args:\n",
    "        docs_url (str): URL to Gitbook docs.\n",
    "\n",
    "    Returns:\n",
    "        List[LangChainDocument]: List of documents in LangChain format.\n",
    "    \"\"\"\n",
    "    loader = GitbookLoader(\n",
    "        docs_url,\n",
    "        load_all_paths=True,\n",
    "    )\n",
    "    return loader.load()\n",
    "\n",
    "\n",
    "logging.basicConfig(level=logging.INFO, stream=sys.stdout)\n",
    "\n",
    "# Fetch documentation\n",
    "docs_url = \"https://docs.arize.com/phoenix\"\n",
    "embedding_model_name = \"text-embedding-ada-002\"\n",
    "docs = load_gitbook_docs(docs_url)"
   ]
  },
  {
   "cell_type": "code",
   "execution_count": null,
   "metadata": {},
   "outputs": [],
   "source": [
    "documents = []\n",
    "for doc in docs:\n",
    "    documents.append(Document(metadata=doc.metadata, text=doc.page_content))"
   ]
  },
  {
   "cell_type": "code",
   "execution_count": null,
   "metadata": {},
   "outputs": [],
   "source": [
    "documents[0].metadata"
   ]
  },
  {
   "cell_type": "code",
   "execution_count": null,
   "metadata": {},
   "outputs": [],
   "source": [
    "# Convert documents to a JSON serializable format (if needed)\n",
    "documents_json = [doc.to_dict() for doc in documents]\n",
    "\n",
    "# Save documents to a JSON file\n",
    "with open(\"demo_llama_index_documents.json\", \"w\") as file:\n",
    "    json.dump(documents_json, file, indent=4)"
   ]
  },
  {
   "cell_type": "markdown",
   "metadata": {
    "id": "a3pYhJwq4VwX"
   },
   "source": [
    "## Set Up VectorStore and Query Engine"
   ]
  },
  {
   "cell_type": "code",
   "execution_count": null,
   "metadata": {},
   "outputs": [],
   "source": [
    "from llama_index.core.node_parser import SentenceSplitter\n",
    "\n",
    "# Build index with a chunk_size of 1024\n",
    "splitter = SentenceSplitter(chunk_size=1024, chunk_overlap=250)\n",
    "nodes = splitter.get_nodes_from_documents(documents)\n",
    "vector_index = VectorStoreIndex(nodes)"
   ]
  },
  {
   "cell_type": "markdown",
   "metadata": {
    "id": "cOmyBVoSco7-"
   },
   "source": [
    "Build a QueryEngine and set up a Cohere reranker"
   ]
  },
  {
   "cell_type": "code",
   "execution_count": null,
   "metadata": {},
   "outputs": [],
   "source": [
    "from llama_index.postprocessor.cohere_rerank import CohereRerank\n",
    "\n",
    "cohere_api_key = os.environ[\"COHERE_API_KEY\"]\n",
    "cohere_rerank = CohereRerank(api_key=cohere_api_key, top_n=2)\n",
    "\n",
    "query_engine = vector_index.as_query_engine(\n",
    "    similarity_top_k=5,\n",
    "    node_postprocessors=[cohere_rerank],\n",
    ")"
   ]
  },
  {
   "cell_type": "markdown",
   "metadata": {
    "id": "wmlw_irPco7_"
   },
   "source": [
    "## Import Questions"
   ]
  },
  {
   "cell_type": "code",
   "execution_count": null,
   "metadata": {},
   "outputs": [],
   "source": [
    "host = \"https://storage.googleapis.com/\"\n",
    "bucket = \"arize-phoenix-assets\"\n",
    "prefix = \"traces\"\n",
    "url = f\"{host}{bucket}/{prefix}\""
   ]
  },
  {
   "cell_type": "code",
   "execution_count": null,
   "metadata": {},
   "outputs": [],
   "source": [
    "questions_file = \"demo_llama_index_rag_questions.parquet\"\n",
    "questions_df = pd.read_parquet(f\"{url}/{questions_file}\")\n",
    "questions_df"
   ]
  },
  {
   "cell_type": "markdown",
   "metadata": {
    "id": "jc7hbkyu5zr3"
   },
   "source": [
    "## Generate Answers for All Questions"
   ]
  },
  {
   "cell_type": "markdown",
   "metadata": {},
   "source": [
    "Start querying"
   ]
  },
  {
   "cell_type": "code",
   "execution_count": null,
   "metadata": {},
   "outputs": [],
   "source": [
    "# Loop over the questions and generate the answers\n",
    "for i, row in questions_df.iterrows():\n",
    "    question = row[\"Prompt/ Question\"]\n",
    "    response_vector = query_engine.query(question)\n",
    "    print(f\"Question: {question}\\nAnswer: {response_vector.response}\\n\")"
   ]
  },
  {
   "cell_type": "markdown",
   "metadata": {},
   "source": [
    "## OPTIONAL: Remove index spans\n",
    "\n",
    "Indexing traces, such as document embeddings and document node parsing, might be instrumented. Remove by:\n",
    "\n",
    "1. Query spans from Phoenix without indexing spans and save as `demo_traces.parquet`\n",
    "2. Clear all spans generated from this notebook (manually)\n",
    "3. Log the same traces back to Phoenix without the indexing spans"
   ]
  },
  {
   "cell_type": "markdown",
   "metadata": {},
   "source": [
    "Step 1: Query spans from Phoenix without indexing spans and save as `demo_traces.parquet`"
   ]
  },
  {
   "cell_type": "code",
   "execution_count": null,
   "metadata": {},
   "outputs": [],
   "source": [
    "from phoenix.trace.dsl import SpanQuery\n",
    "\n",
    "traces = px.Client().query_spans(\n",
    "    SpanQuery().where(\n",
    "        \"name != 'BaseEmbedding.get_text_embedding_batch' and name != 'MetadataAwareTextSplitter._parse_nodes' and name != 'SentenceSplitter.split_text_metadata_aware'\"\n",
    "    ),\n",
    "    limit=5000,\n",
    "    timeout=100,\n",
    ")\n",
    "traces.to_parquet(\"demo_traces.parquet\")"
   ]
  },
  {
   "cell_type": "markdown",
   "metadata": {},
   "source": [
    "Step 2: Clear all spans manually on Phoenix"
   ]
  },
  {
   "cell_type": "code",
   "execution_count": null,
   "metadata": {},
   "outputs": [],
   "source": [
    "session.view()"
   ]
  },
  {
   "cell_type": "markdown",
   "metadata": {},
   "source": [
    "Step 3: Log the same traces back to Phoenix without the indexing spans"
   ]
  },
  {
   "cell_type": "code",
   "execution_count": null,
   "metadata": {},
   "outputs": [],
   "source": [
    "from phoenix import TraceDataset\n",
    "\n",
    "px.Client().log_traces(TraceDataset(pd.read_parquet(\"demo_traces.parquet\")))"
   ]
  },
  {
   "cell_type": "markdown",
   "metadata": {},
   "source": [
    "Now indexing spans are removed and we're left with the traces we want"
   ]
  },
  {
   "cell_type": "markdown",
   "metadata": {
    "id": "Jd6tXZk-59VT"
   },
   "source": [
    "## Phoenix Evals"
   ]
  },
  {
   "cell_type": "code",
   "execution_count": null,
   "metadata": {},
   "outputs": [],
   "source": [
    "from phoenix.session.evaluation import get_retrieved_documents\n",
    "\n",
    "retrieved_documents_df = get_retrieved_documents(px.Client())\n",
    "retrieved_documents_df"
   ]
  },
  {
   "cell_type": "code",
   "execution_count": null,
   "metadata": {},
   "outputs": [],
   "source": [
    "from phoenix.session.evaluation import get_qa_with_reference\n",
    "\n",
    "queries_df = get_qa_with_reference(px.active_session())\n",
    "queries_df"
   ]
  },
  {
   "cell_type": "markdown",
   "metadata": {
    "id": "AFECnz04co8H"
   },
   "source": [
    "Let's now use Phoenix's LLM Evals to evaluate the relevance of the retrieved documents with regards to the query. \n",
    "\n",
    "Note, we've turned on `explanations` which prompts the LLM to explain it's reasoning. This can be useful for debugging and for figuring out potential corrective actions."
   ]
  },
  {
   "cell_type": "code",
   "execution_count": null,
   "metadata": {},
   "outputs": [],
   "source": [
    "from phoenix.evals import (\n",
    "    HallucinationEvaluator,\n",
    "    OpenAIModel,\n",
    "    QAEvaluator,\n",
    "    RelevanceEvaluator,\n",
    "    run_evals,\n",
    ")\n",
    "\n",
    "eval_model = OpenAIModel(model=\"gpt-4\")\n",
    "relevance_evaluator = RelevanceEvaluator(eval_model)\n",
    "hallucination_evaluator = HallucinationEvaluator(eval_model)\n",
    "qa_evaluator = QAEvaluator(eval_model)"
   ]
  },
  {
   "cell_type": "markdown",
   "metadata": {},
   "source": [
    "Document relevance evaluations"
   ]
  },
  {
   "cell_type": "code",
   "execution_count": null,
   "metadata": {},
   "outputs": [],
   "source": [
    "retrieved_documents_relevance_df = run_evals(\n",
    "    evaluators=[relevance_evaluator],\n",
    "    dataframe=retrieved_documents_df,\n",
    "    provide_explanation=True,\n",
    "    concurrency=20,\n",
    ")[0]\n",
    "retrieved_documents_relevance_df"
   ]
  },
  {
   "cell_type": "markdown",
   "metadata": {},
   "source": [
    "Hallucination and QA-correctness evaluations"
   ]
  },
  {
   "cell_type": "code",
   "execution_count": null,
   "metadata": {},
   "outputs": [],
   "source": [
    "hallucination_eval_df, qa_eval_df = run_evals(\n",
    "    dataframe=queries_df,\n",
    "    evaluators=[hallucination_evaluator, qa_evaluator],\n",
    "    provide_explanation=True,\n",
    "    concurrency=20,\n",
    ")\n",
    "hallucination_eval_df"
   ]
  },
  {
   "cell_type": "code",
   "execution_count": null,
   "metadata": {},
   "outputs": [],
   "source": [
    "qa_eval_df"
   ]
  },
  {
   "cell_type": "markdown",
   "metadata": {
    "id": "zbH5A6cS6fd-"
   },
   "source": [
    "## Log the Evaluations into Phoenix"
   ]
  },
  {
   "cell_type": "code",
   "execution_count": null,
   "metadata": {},
   "outputs": [],
   "source": [
    "from phoenix.trace import DocumentEvaluations, SpanEvaluations\n",
    "\n",
    "px.Client().log_evaluations(\n",
    "    SpanEvaluations(eval_name=\"Hallucination\", dataframe=hallucination_eval_df),\n",
    "    SpanEvaluations(eval_name=\"QA Correctness\", dataframe=qa_eval_df),\n",
    "    DocumentEvaluations(\n",
    "        eval_name=\"Retrieval Relevance\", dataframe=retrieved_documents_relevance_df\n",
    "    ),\n",
    ")"
   ]
  },
  {
   "cell_type": "code",
   "execution_count": null,
   "metadata": {},
   "outputs": [],
   "source": [
    "session.view()"
   ]
  },
  {
   "cell_type": "markdown",
   "metadata": {
    "id": "I5IS5dvf6lkD"
   },
   "source": [
    "## Save the Traces and Evaluations"
   ]
  },
  {
   "cell_type": "markdown",
   "metadata": {},
   "source": [
    "Save all spans and evals as parquet fixtures"
   ]
  },
  {
   "cell_type": "code",
   "execution_count": null,
   "metadata": {},
   "outputs": [],
   "source": [
    "import os\n",
    "\n",
    "# Specify and Create the Directory for Trace Dataset\n",
    "directory = \"fixtures\"\n",
    "os.makedirs(directory, exist_ok=True)\n",
    "\n",
    "# Save the Trace Dataset (set limit to above 2000)\n",
    "trace_id = px.Client().get_trace_dataset(limit=5000, timeout=60).save(directory=directory)"
   ]
  },
  {
   "cell_type": "markdown",
   "metadata": {},
   "source": [
    "Save LLM spans as fixtures for dataset usage"
   ]
  },
  {
   "cell_type": "code",
   "execution_count": null,
   "metadata": {},
   "outputs": [],
   "source": [
    "from phoenix.trace.dsl import SpanQuery\n",
    "\n",
    "llm_open_ai = px.Client().query_spans(\n",
    "    SpanQuery().where(\"span_kind == 'LLM' and name == 'OpenAI.chat'\")\n",
    ")\n",
    "\n",
    "llm_predict = px.Client().query_spans(\n",
    "    SpanQuery().where(\"span_kind == 'LLM' and name == 'LLM.predict'\")\n",
    ")\n",
    "\n",
    "all_llm = px.Client().query_spans(SpanQuery().where(\"span_kind == 'LLM'\"))\n",
    "\n",
    "llm_open_ai.to_parquet(\"fixtures/demo_llama_index_llm_open_ai.parquet\")\n",
    "llm_predict.to_parquet(\"fixtures/demo_llama_index_llm_predict.parquet\")\n",
    "all_llm.to_parquet(\"fixtures/demo_llama_index_llm_all_spans.parquet\")"
   ]
  },
  {
   "cell_type": "markdown",
   "metadata": {},
   "source": [
    "OPTIONAL: Delete on Phoenix and import again to check for validity if necessary"
   ]
  },
  {
   "cell_type": "code",
   "execution_count": null,
   "metadata": {},
   "outputs": [],
   "source": [
    "from phoenix import TraceDataset\n",
    "from phoenix.trace import DocumentEvaluations, SpanEvaluations\n",
    "\n",
    "px.Client().log_traces(\n",
    "    TraceDataset(pd.read_parquet(\"fixtures/demo_llama_index_rag_traces.parquet\"))\n",
    ")\n",
    "\n",
    "retrieved_documents_relevance_df = pd.read_parquet(\n",
    "    \"fixtures/demo_llama_index_rag_doc_relevance_eval.parquet\"\n",
    ")\n",
    "qa_eval_df = dataframe = pd.read_parquet(\n",
    "    \"fixtures/demo_llama_index_rag_qa_correctness_eval.parquet\"\n",
    ")\n",
    "hallucination_eval_df = dataframe = pd.read_parquet(\n",
    "    \"fixtures/demo_llama_index_rag_hallucination_eval.parquet\"\n",
    ")\n",
    "\n",
    "px.Client().log_evaluations(\n",
    "    SpanEvaluations(eval_name=\"Hallucination\", dataframe=hallucination_eval_df),\n",
    "    SpanEvaluations(eval_name=\"QA Correctness\", dataframe=qa_eval_df),\n",
    "    DocumentEvaluations(\n",
    "        eval_name=\"Retrieval Relevance\", dataframe=retrieved_documents_relevance_df\n",
    "    ),\n",
    ")"
   ]
  },
  {
   "cell_type": "markdown",
   "metadata": {},
   "source": [
    "Now we have finished generating llama-index RAG QA traces and evals and have them saved as fixtures!"
   ]
  }
 ],
 "metadata": {
  "language_info": {
   "name": "python"
  }
 },
 "nbformat": 4,
 "nbformat_minor": 0
}
