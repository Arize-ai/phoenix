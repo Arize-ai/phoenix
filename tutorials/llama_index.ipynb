{
 "cells": [
  {
   "cell_type": "code",
   "execution_count": null,
   "metadata": {},
   "outputs": [],
   "source": [
    "!pip install llama-index"
   ]
  },
  {
   "cell_type": "code",
   "execution_count": 1,
   "metadata": {},
   "outputs": [
    {
     "name": "stderr",
     "output_type": "stream",
     "text": [
      "/Users/xandersong/.virtualenvs/phoenixdev/lib/python3.8/site-packages/umap/distances.py:1063: NumbaDeprecationWarning: The 'nopython' keyword argument was not supplied to the 'numba.jit' decorator. The implicit default value for this argument is currently False, but it will be changed to True in Numba 0.59.0. See https://numba.readthedocs.io/en/stable/reference/deprecation.html#deprecation-of-object-mode-fall-back-behaviour-when-using-jit for details.\n",
      "  @numba.jit()\n",
      "/Users/xandersong/.virtualenvs/phoenixdev/lib/python3.8/site-packages/umap/distances.py:1071: NumbaDeprecationWarning: The 'nopython' keyword argument was not supplied to the 'numba.jit' decorator. The implicit default value for this argument is currently False, but it will be changed to True in Numba 0.59.0. See https://numba.readthedocs.io/en/stable/reference/deprecation.html#deprecation-of-object-mode-fall-back-behaviour-when-using-jit for details.\n",
      "  @numba.jit()\n",
      "/Users/xandersong/.virtualenvs/phoenixdev/lib/python3.8/site-packages/umap/distances.py:1086: NumbaDeprecationWarning: The 'nopython' keyword argument was not supplied to the 'numba.jit' decorator. The implicit default value for this argument is currently False, but it will be changed to True in Numba 0.59.0. See https://numba.readthedocs.io/en/stable/reference/deprecation.html#deprecation-of-object-mode-fall-back-behaviour-when-using-jit for details.\n",
      "  @numba.jit()\n",
      "/Users/xandersong/.virtualenvs/phoenixdev/lib/python3.8/site-packages/umap/umap_.py:660: NumbaDeprecationWarning: The 'nopython' keyword argument was not supplied to the 'numba.jit' decorator. The implicit default value for this argument is currently False, but it will be changed to True in Numba 0.59.0. See https://numba.readthedocs.io/en/stable/reference/deprecation.html#deprecation-of-object-mode-fall-back-behaviour-when-using-jit for details.\n",
      "  @numba.jit()\n"
     ]
    }
   ],
   "source": [
    "import textwrap\n",
    "\n",
    "import pandas as pd\n",
    "import phoenix as px\n",
    "from langchain import OpenAI\n",
    "from llama_index import StorageContext, load_index_from_storage\n",
    "from llama_index.response.schema import Response"
   ]
  },
  {
   "cell_type": "code",
   "execution_count": 34,
   "metadata": {},
   "outputs": [],
   "source": [
    "# database_df = pd.read_parquet(\"/Users/xandersong/Desktop/llama-index-data-full/splits/database.parquet\")\n",
    "# query_df = pd.read_parquet(\"/Users/xandersong/Desktop/llama-index-data/splits/query.parquet\")\n",
    "database_df = pd.read_parquet(\"/Users/xandersong/Downloads/database_openai.parquet\")\n",
    "query_df = pd.read_parquet(\"/Users/xandersong/Downloads/query_openai.parquet\")"
   ]
  },
  {
   "cell_type": "code",
   "execution_count": 41,
   "metadata": {},
   "outputs": [
    {
     "data": {
      "text/plain": [
       "American_Idol                     20\n",
       "Southampton                       18\n",
       "The_Blitz                         17\n",
       "Pub                               17\n",
       "Israel                            17\n",
       "                                  ..\n",
       "Flowering_plant                    1\n",
       "Turner_Classic_Movies              1\n",
       "Geography_of_the_United_States     1\n",
       "Hokkien                            1\n",
       "Wayback_Machine                    1\n",
       "Name: granular_subject, Length: 433, dtype: int64"
      ]
     },
     "execution_count": 41,
     "metadata": {},
     "output_type": "execute_result"
    }
   ],
   "source": [
    "database_df[\"granular_subject\"].value_counts()"
   ]
  },
  {
   "cell_type": "code",
   "execution_count": 11,
   "metadata": {},
   "outputs": [],
   "source": [
    "llama_database_df = pd.read_parquet(\"/Users/xandersong/Desktop/llama-index-data-full/splits/database.parquet\")\n",
    "llama_query_df = pd.read_parquet(\"/Users/xandersong/Desktop/llama-index-data/splits/query.parquet\")\n",
    "openai_api_database_df = pd.read_parquet(\"/Users/xandersong/Downloads/database_openai.parquet\")\n",
    "openai_api_query_df = pd.read_parquet(\"/Users/xandersong/Downloads/query_openai.parquet\")"
   ]
  },
  {
   "cell_type": "code",
   "execution_count": 13,
   "metadata": {},
   "outputs": [
    {
     "data": {
      "text/html": [
       "<div>\n",
       "<style scoped>\n",
       "    .dataframe tbody tr th:only-of-type {\n",
       "        vertical-align: middle;\n",
       "    }\n",
       "\n",
       "    .dataframe tbody tr th {\n",
       "        vertical-align: top;\n",
       "    }\n",
       "\n",
       "    .dataframe thead th {\n",
       "        text-align: right;\n",
       "    }\n",
       "</style>\n",
       "<table border=\"1\" class=\"dataframe\">\n",
       "  <thead>\n",
       "    <tr style=\"text-align: right;\">\n",
       "      <th></th>\n",
       "      <th>article_index_llama</th>\n",
       "      <th>granular_subject_llama</th>\n",
       "      <th>broad_subject_llama</th>\n",
       "      <th>text</th>\n",
       "      <th>text_vector_llama</th>\n",
       "      <th>article_index_openai</th>\n",
       "      <th>granular_subject_openai</th>\n",
       "      <th>broad_subject_openai</th>\n",
       "      <th>text_vector_openai</th>\n",
       "    </tr>\n",
       "  </thead>\n",
       "  <tbody>\n",
       "    <tr>\n",
       "      <th>0</th>\n",
       "      <td>0</td>\n",
       "      <td>Beyoncé</td>\n",
       "      <td>Music</td>\n",
       "      <td>Following the disbandment of Destiny's Child i...</td>\n",
       "      <td>[0.00039529084460809827, -0.003678029403090477...</td>\n",
       "      <td>0</td>\n",
       "      <td>Beyoncé</td>\n",
       "      <td>Music</td>\n",
       "      <td>[-0.04288230091333389, -0.02332954667508602, -...</td>\n",
       "    </tr>\n",
       "    <tr>\n",
       "      <th>1</th>\n",
       "      <td>0</td>\n",
       "      <td>Beyoncé</td>\n",
       "      <td>Music</td>\n",
       "      <td>In November 2003, she embarked on the Dangerou...</td>\n",
       "      <td>[-0.011079708114266396, 0.014556094072759151, ...</td>\n",
       "      <td>0</td>\n",
       "      <td>Beyoncé</td>\n",
       "      <td>Music</td>\n",
       "      <td>[-0.04744750261306763, -0.034264735877513885, ...</td>\n",
       "    </tr>\n",
       "    <tr>\n",
       "      <th>2</th>\n",
       "      <td>0</td>\n",
       "      <td>Beyoncé</td>\n",
       "      <td>Music</td>\n",
       "      <td>In 2011, documents obtained by WikiLeaks revea...</td>\n",
       "      <td>[0.00014355144230648875, -0.018711116164922714...</td>\n",
       "      <td>0</td>\n",
       "      <td>Beyoncé</td>\n",
       "      <td>Music</td>\n",
       "      <td>[-0.03642120957374573, -0.02462615631520748, -...</td>\n",
       "    </tr>\n",
       "    <tr>\n",
       "      <th>3</th>\n",
       "      <td>0</td>\n",
       "      <td>Beyoncé</td>\n",
       "      <td>Music</td>\n",
       "      <td>In August, the couple attended the 2011 MTV Vi...</td>\n",
       "      <td>[-0.011382809840142727, -0.000503173447214067,...</td>\n",
       "      <td>0</td>\n",
       "      <td>Beyoncé</td>\n",
       "      <td>Music</td>\n",
       "      <td>[-0.03636333718895912, -0.022920234128832817, ...</td>\n",
       "    </tr>\n",
       "    <tr>\n",
       "      <th>4</th>\n",
       "      <td>0</td>\n",
       "      <td>Beyoncé</td>\n",
       "      <td>Music</td>\n",
       "      <td>Beyoncé's work has influenced numerous artists...</td>\n",
       "      <td>[-0.004833301529288292, -0.006622910965234041,...</td>\n",
       "      <td>0</td>\n",
       "      <td>Beyoncé</td>\n",
       "      <td>Music</td>\n",
       "      <td>[-0.027973873540759087, -0.027022555470466614,...</td>\n",
       "    </tr>\n",
       "    <tr>\n",
       "      <th>...</th>\n",
       "      <td>...</td>\n",
       "      <td>...</td>\n",
       "      <td>...</td>\n",
       "      <td>...</td>\n",
       "      <td>...</td>\n",
       "      <td>...</td>\n",
       "      <td>...</td>\n",
       "      <td>...</td>\n",
       "      <td>...</td>\n",
       "    </tr>\n",
       "    <tr>\n",
       "      <th>2496</th>\n",
       "      <td>440</td>\n",
       "      <td>Myocardial_infarction</td>\n",
       "      <td>Health and Medicine</td>\n",
       "      <td>Tobacco smoking (including secondhand smoke) a...</td>\n",
       "      <td>[0.011196134611964226, -0.001808877452276647, ...</td>\n",
       "      <td>440</td>\n",
       "      <td>Myocardial_infarction</td>\n",
       "      <td>Health and Medicine</td>\n",
       "      <td>[-0.00284890690818429, -0.0056467982940375805,...</td>\n",
       "    </tr>\n",
       "    <tr>\n",
       "      <th>2497</th>\n",
       "      <td>440</td>\n",
       "      <td>Myocardial_infarction</td>\n",
       "      <td>Health and Medicine</td>\n",
       "      <td>The evidence for saturated fat is unclear. Som...</td>\n",
       "      <td>[0.007023566868156195, -0.0071074883453547955,...</td>\n",
       "      <td>440</td>\n",
       "      <td>Myocardial_infarction</td>\n",
       "      <td>Health and Medicine</td>\n",
       "      <td>[-0.014104289002716541, -0.011779055930674076,...</td>\n",
       "    </tr>\n",
       "    <tr>\n",
       "      <th>2498</th>\n",
       "      <td>440</td>\n",
       "      <td>Myocardial_infarction</td>\n",
       "      <td>Health and Medicine</td>\n",
       "      <td>At common law, in general, a myocardial infarc...</td>\n",
       "      <td>[-0.013305548578500748, 0.012270527891814709, ...</td>\n",
       "      <td>440</td>\n",
       "      <td>Myocardial_infarction</td>\n",
       "      <td>Health and Medicine</td>\n",
       "      <td>[-0.015292135067284107, 0.005499580409377813, ...</td>\n",
       "    </tr>\n",
       "    <tr>\n",
       "      <th>2499</th>\n",
       "      <td>441</td>\n",
       "      <td>Matter</td>\n",
       "      <td>Science and Technology</td>\n",
       "      <td>The quark–lepton definition of ordinary matter...</td>\n",
       "      <td>[-0.007048637606203556, 0.022659583017230034, ...</td>\n",
       "      <td>441</td>\n",
       "      <td>Matter</td>\n",
       "      <td>Science and Technology</td>\n",
       "      <td>[0.009820776991546154, 0.006965597625821829, -...</td>\n",
       "    </tr>\n",
       "    <tr>\n",
       "      <th>2500</th>\n",
       "      <td>441</td>\n",
       "      <td>Matter</td>\n",
       "      <td>Science and Technology</td>\n",
       "      <td>Baryonic matter is the part of the universe th...</td>\n",
       "      <td>[0.015154908411204815, 0.029626334086060524, -...</td>\n",
       "      <td>441</td>\n",
       "      <td>Matter</td>\n",
       "      <td>Science and Technology</td>\n",
       "      <td>[0.009383376687765121, 0.00650528259575367, -0...</td>\n",
       "    </tr>\n",
       "  </tbody>\n",
       "</table>\n",
       "<p>2501 rows × 9 columns</p>\n",
       "</div>"
      ],
      "text/plain": [
       "      article_index_llama granular_subject_llama     broad_subject_llama  \\\n",
       "0                       0                Beyoncé                   Music   \n",
       "1                       0                Beyoncé                   Music   \n",
       "2                       0                Beyoncé                   Music   \n",
       "3                       0                Beyoncé                   Music   \n",
       "4                       0                Beyoncé                   Music   \n",
       "...                   ...                    ...                     ...   \n",
       "2496                  440  Myocardial_infarction     Health and Medicine   \n",
       "2497                  440  Myocardial_infarction     Health and Medicine   \n",
       "2498                  440  Myocardial_infarction     Health and Medicine   \n",
       "2499                  441                 Matter  Science and Technology   \n",
       "2500                  441                 Matter  Science and Technology   \n",
       "\n",
       "                                                   text  \\\n",
       "0     Following the disbandment of Destiny's Child i...   \n",
       "1     In November 2003, she embarked on the Dangerou...   \n",
       "2     In 2011, documents obtained by WikiLeaks revea...   \n",
       "3     In August, the couple attended the 2011 MTV Vi...   \n",
       "4     Beyoncé's work has influenced numerous artists...   \n",
       "...                                                 ...   \n",
       "2496  Tobacco smoking (including secondhand smoke) a...   \n",
       "2497  The evidence for saturated fat is unclear. Som...   \n",
       "2498  At common law, in general, a myocardial infarc...   \n",
       "2499  The quark–lepton definition of ordinary matter...   \n",
       "2500  Baryonic matter is the part of the universe th...   \n",
       "\n",
       "                                      text_vector_llama  article_index_openai  \\\n",
       "0     [0.00039529084460809827, -0.003678029403090477...                     0   \n",
       "1     [-0.011079708114266396, 0.014556094072759151, ...                     0   \n",
       "2     [0.00014355144230648875, -0.018711116164922714...                     0   \n",
       "3     [-0.011382809840142727, -0.000503173447214067,...                     0   \n",
       "4     [-0.004833301529288292, -0.006622910965234041,...                     0   \n",
       "...                                                 ...                   ...   \n",
       "2496  [0.011196134611964226, -0.001808877452276647, ...                   440   \n",
       "2497  [0.007023566868156195, -0.0071074883453547955,...                   440   \n",
       "2498  [-0.013305548578500748, 0.012270527891814709, ...                   440   \n",
       "2499  [-0.007048637606203556, 0.022659583017230034, ...                   441   \n",
       "2500  [0.015154908411204815, 0.029626334086060524, -...                   441   \n",
       "\n",
       "     granular_subject_openai    broad_subject_openai  \\\n",
       "0                    Beyoncé                   Music   \n",
       "1                    Beyoncé                   Music   \n",
       "2                    Beyoncé                   Music   \n",
       "3                    Beyoncé                   Music   \n",
       "4                    Beyoncé                   Music   \n",
       "...                      ...                     ...   \n",
       "2496   Myocardial_infarction     Health and Medicine   \n",
       "2497   Myocardial_infarction     Health and Medicine   \n",
       "2498   Myocardial_infarction     Health and Medicine   \n",
       "2499                  Matter  Science and Technology   \n",
       "2500                  Matter  Science and Technology   \n",
       "\n",
       "                                     text_vector_openai  \n",
       "0     [-0.04288230091333389, -0.02332954667508602, -...  \n",
       "1     [-0.04744750261306763, -0.034264735877513885, ...  \n",
       "2     [-0.03642120957374573, -0.02462615631520748, -...  \n",
       "3     [-0.03636333718895912, -0.022920234128832817, ...  \n",
       "4     [-0.027973873540759087, -0.027022555470466614,...  \n",
       "...                                                 ...  \n",
       "2496  [-0.00284890690818429, -0.0056467982940375805,...  \n",
       "2497  [-0.014104289002716541, -0.011779055930674076,...  \n",
       "2498  [-0.015292135067284107, 0.005499580409377813, ...  \n",
       "2499  [0.009820776991546154, 0.006965597625821829, -...  \n",
       "2500  [0.009383376687765121, 0.00650528259575367, -0...  \n",
       "\n",
       "[2501 rows x 9 columns]"
      ]
     },
     "execution_count": 13,
     "metadata": {},
     "output_type": "execute_result"
    }
   ],
   "source": [
    "pd.merge(llama_database_df, openai_api_database_df, on=\"text\", suffixes=(\"_llama\", \"_openai\"))"
   ]
  },
  {
   "cell_type": "code",
   "execution_count": 26,
   "metadata": {},
   "outputs": [
    {
     "data": {
      "text/html": [
       "<div>\n",
       "<style scoped>\n",
       "    .dataframe tbody tr th:only-of-type {\n",
       "        vertical-align: middle;\n",
       "    }\n",
       "\n",
       "    .dataframe tbody tr th {\n",
       "        vertical-align: top;\n",
       "    }\n",
       "\n",
       "    .dataframe thead th {\n",
       "        text-align: right;\n",
       "    }\n",
       "</style>\n",
       "<table border=\"1\" class=\"dataframe\">\n",
       "  <thead>\n",
       "    <tr style=\"text-align: right;\">\n",
       "      <th></th>\n",
       "      <th>article_index</th>\n",
       "      <th>granular_subject</th>\n",
       "      <th>broad_subject</th>\n",
       "      <th>text</th>\n",
       "      <th>text_vector</th>\n",
       "    </tr>\n",
       "  </thead>\n",
       "  <tbody>\n",
       "    <tr>\n",
       "      <th>0</th>\n",
       "      <td>0</td>\n",
       "      <td>Beyoncé</td>\n",
       "      <td>Music</td>\n",
       "      <td>Beyoncé Giselle Knowles-Carter (/biːˈjɒnseɪ/ b...</td>\n",
       "      <td>[0.006957863457500935, -0.005873563699424267, ...</td>\n",
       "    </tr>\n",
       "    <tr>\n",
       "      <th>1</th>\n",
       "      <td>0</td>\n",
       "      <td>Beyoncé</td>\n",
       "      <td>Music</td>\n",
       "      <td>Following the disbandment of Destiny's Child i...</td>\n",
       "      <td>[0.00039529084460809827, -0.003678029403090477...</td>\n",
       "    </tr>\n",
       "    <tr>\n",
       "      <th>2</th>\n",
       "      <td>0</td>\n",
       "      <td>Beyoncé</td>\n",
       "      <td>Music</td>\n",
       "      <td>A self-described \"modern-day feminist\", Beyonc...</td>\n",
       "      <td>[0.005141089204698801, -0.011763231828808784, ...</td>\n",
       "    </tr>\n",
       "    <tr>\n",
       "      <th>3</th>\n",
       "      <td>0</td>\n",
       "      <td>Beyoncé</td>\n",
       "      <td>Music</td>\n",
       "      <td>Beyoncé Giselle Knowles was born in Houston, T...</td>\n",
       "      <td>[0.008775870315730572, -0.005858324933797121, ...</td>\n",
       "    </tr>\n",
       "    <tr>\n",
       "      <th>4</th>\n",
       "      <td>0</td>\n",
       "      <td>Beyoncé</td>\n",
       "      <td>Music</td>\n",
       "      <td>Beyoncé attended St. Mary's Elementary School ...</td>\n",
       "      <td>[0.003205823013558984, 0.0030714068561792374, ...</td>\n",
       "    </tr>\n",
       "  </tbody>\n",
       "</table>\n",
       "</div>"
      ],
      "text/plain": [
       "   article_index granular_subject broad_subject  \\\n",
       "0              0          Beyoncé         Music   \n",
       "1              0          Beyoncé         Music   \n",
       "2              0          Beyoncé         Music   \n",
       "3              0          Beyoncé         Music   \n",
       "4              0          Beyoncé         Music   \n",
       "\n",
       "                                                text  \\\n",
       "0  Beyoncé Giselle Knowles-Carter (/biːˈjɒnseɪ/ b...   \n",
       "1  Following the disbandment of Destiny's Child i...   \n",
       "2  A self-described \"modern-day feminist\", Beyonc...   \n",
       "3  Beyoncé Giselle Knowles was born in Houston, T...   \n",
       "4  Beyoncé attended St. Mary's Elementary School ...   \n",
       "\n",
       "                                         text_vector  \n",
       "0  [0.006957863457500935, -0.005873563699424267, ...  \n",
       "1  [0.00039529084460809827, -0.003678029403090477...  \n",
       "2  [0.005141089204698801, -0.011763231828808784, ...  \n",
       "3  [0.008775870315730572, -0.005858324933797121, ...  \n",
       "4  [0.003205823013558984, 0.0030714068561792374, ...  "
      ]
     },
     "execution_count": 26,
     "metadata": {},
     "output_type": "execute_result"
    }
   ],
   "source": [
    "database_df.head()"
   ]
  },
  {
   "cell_type": "code",
   "execution_count": 4,
   "metadata": {},
   "outputs": [
    {
     "data": {
      "text/html": [
       "<div>\n",
       "<style scoped>\n",
       "    .dataframe tbody tr th:only-of-type {\n",
       "        vertical-align: middle;\n",
       "    }\n",
       "\n",
       "    .dataframe tbody tr th {\n",
       "        vertical-align: top;\n",
       "    }\n",
       "\n",
       "    .dataframe thead th {\n",
       "        text-align: right;\n",
       "    }\n",
       "</style>\n",
       "<table border=\"1\" class=\"dataframe\">\n",
       "  <thead>\n",
       "    <tr style=\"text-align: right;\">\n",
       "      <th></th>\n",
       "      <th>id</th>\n",
       "      <th>granular_subject</th>\n",
       "      <th>broad_subject</th>\n",
       "      <th>paragraph_index</th>\n",
       "      <th>text</th>\n",
       "      <th>is_answerable</th>\n",
       "      <th>text_vector</th>\n",
       "    </tr>\n",
       "  </thead>\n",
       "  <tbody>\n",
       "    <tr>\n",
       "      <th>19822</th>\n",
       "      <td>5acf4a8777cf76001a684b20</td>\n",
       "      <td>University_of_Kansas</td>\n",
       "      <td>Education</td>\n",
       "      <td>3</td>\n",
       "      <td>What was the maximum size of the land that Law...</td>\n",
       "      <td>False</td>\n",
       "      <td>[0.0060654086992144585, 0.002131134970113635, ...</td>\n",
       "    </tr>\n",
       "    <tr>\n",
       "      <th>108143</th>\n",
       "      <td>5a3afa3c3ff257001ab84385</td>\n",
       "      <td>Flowering_plant</td>\n",
       "      <td>Nature and Environment</td>\n",
       "      <td>18</td>\n",
       "      <td>What characteristics of the flower attract spo...</td>\n",
       "      <td>False</td>\n",
       "      <td>[0.014706652611494064, -0.0055609107948839664,...</td>\n",
       "    </tr>\n",
       "    <tr>\n",
       "      <th>64651</th>\n",
       "      <td>5ad0cada645df0001a2d0398</td>\n",
       "      <td>Gothic_architecture</td>\n",
       "      <td>Architecture</td>\n",
       "      <td>9</td>\n",
       "      <td>What is one useless category of building that ...</td>\n",
       "      <td>False</td>\n",
       "      <td>[0.01179590355604887, 0.007782443892210722, 0....</td>\n",
       "    </tr>\n",
       "    <tr>\n",
       "      <th>124827</th>\n",
       "      <td>5732824557eb1f1400fd2d58</td>\n",
       "      <td>Dwight_D._Eisenhower</td>\n",
       "      <td>History</td>\n",
       "      <td>81</td>\n",
       "      <td>What term did Eisenhower use to describe the c...</td>\n",
       "      <td>True</td>\n",
       "      <td>[0.011045362800359726, -0.0017205276526510715,...</td>\n",
       "    </tr>\n",
       "    <tr>\n",
       "      <th>55319</th>\n",
       "      <td>5726635ddd62a815002e8362</td>\n",
       "      <td>East_India_Company</td>\n",
       "      <td>History</td>\n",
       "      <td>9</td>\n",
       "      <td>in 1720 what % of  import goods were from India?</td>\n",
       "      <td>True</td>\n",
       "      <td>[0.016335586085915565, -0.0070611885748803616,...</td>\n",
       "    </tr>\n",
       "  </tbody>\n",
       "</table>\n",
       "</div>"
      ],
      "text/plain": [
       "                              id      granular_subject  \\\n",
       "19822   5acf4a8777cf76001a684b20  University_of_Kansas   \n",
       "108143  5a3afa3c3ff257001ab84385       Flowering_plant   \n",
       "64651   5ad0cada645df0001a2d0398   Gothic_architecture   \n",
       "124827  5732824557eb1f1400fd2d58  Dwight_D._Eisenhower   \n",
       "55319   5726635ddd62a815002e8362    East_India_Company   \n",
       "\n",
       "                 broad_subject  paragraph_index  \\\n",
       "19822                Education                3   \n",
       "108143  Nature and Environment               18   \n",
       "64651             Architecture                9   \n",
       "124827                 History               81   \n",
       "55319                  History                9   \n",
       "\n",
       "                                                     text  is_answerable  \\\n",
       "19822   What was the maximum size of the land that Law...          False   \n",
       "108143  What characteristics of the flower attract spo...          False   \n",
       "64651   What is one useless category of building that ...          False   \n",
       "124827  What term did Eisenhower use to describe the c...           True   \n",
       "55319   in 1720 what % of  import goods were from India?            True   \n",
       "\n",
       "                                              text_vector  \n",
       "19822   [0.0060654086992144585, 0.002131134970113635, ...  \n",
       "108143  [0.014706652611494064, -0.0055609107948839664,...  \n",
       "64651   [0.01179590355604887, 0.007782443892210722, 0....  \n",
       "124827  [0.011045362800359726, -0.0017205276526510715,...  \n",
       "55319   [0.016335586085915565, -0.0070611885748803616,...  "
      ]
     },
     "execution_count": 4,
     "metadata": {},
     "output_type": "execute_result"
    }
   ],
   "source": [
    "query_df.head()"
   ]
  },
  {
   "cell_type": "code",
   "execution_count": null,
   "metadata": {
    "scrolled": true
   },
   "outputs": [],
   "source": [
    "query_df[(query_df[\"is_answerable\"] == \"True\")].head()[\"text\"].to_list()"
   ]
  },
  {
   "cell_type": "code",
   "execution_count": null,
   "metadata": {},
   "outputs": [],
   "source": [
    "query_df[(query_df[\"is_answerable\"] == \"False\")].head()[\"text\"].to_list()"
   ]
  },
  {
   "cell_type": "code",
   "execution_count": 27,
   "metadata": {},
   "outputs": [
    {
     "name": "stderr",
     "output_type": "stream",
     "text": [
      "/Users/xandersong/.virtualenvs/phoenixdev/lib/python3.8/site-packages/langchain/llms/openai.py:169: UserWarning: You are trying to use a chat model. This way of initializing it is no longer supported. Instead, please use: `from langchain.chat_models import ChatOpenAI`\n",
      "  warnings.warn(\n",
      "/Users/xandersong/.virtualenvs/phoenixdev/lib/python3.8/site-packages/langchain/llms/openai.py:687: UserWarning: You are trying to use a chat model. This way of initializing it is no longer supported. Instead, please use: `from langchain.chat_models import ChatOpenAI`\n",
      "  warnings.warn(\n"
     ]
    }
   ],
   "source": [
    "storage_context = StorageContext.from_defaults(\n",
    "    persist_dir=\"/Users/xandersong/Desktop/llama-index-data-full/indexes/database_index\"\n",
    ")\n",
    "# model_name = \"text-davinci-003\"\n",
    "model_name = \"gpt-4\"\n",
    "llm = OpenAI(temperature=0, model_name=model_name)\n",
    "index = load_index_from_storage(storage_context, llm=llm)\n",
    "query_engine = index.as_query_engine()"
   ]
  },
  {
   "cell_type": "code",
   "execution_count": 35,
   "metadata": {},
   "outputs": [],
   "source": [
    "def display_llama_index_response(response: Response) -> None:\n",
    "    \"\"\"\n",
    "    Displays a LlamaIndex response and its source nodes.\n",
    "    \"\"\"\n",
    "\n",
    "    print(\"Response\")\n",
    "    print(\"========\")\n",
    "    for line in textwrap.wrap(response.response.strip(), width=80):\n",
    "        print(line)\n",
    "    print()\n",
    "\n",
    "    print(\"Source Nodes\")\n",
    "    print(\"============\")\n",
    "    print()\n",
    "\n",
    "    for source_node in response.source_nodes:\n",
    "        print(f\"doc_id: {source_node.node.doc_id}\")\n",
    "        print(f\"score: {source_node.score}\")\n",
    "        print()\n",
    "        for line in textwrap.wrap(source_node.node.text, width=80):\n",
    "            print(line)\n",
    "        print()"
   ]
  },
  {
   "cell_type": "code",
   "execution_count": 36,
   "metadata": {},
   "outputs": [
    {
     "name": "stdout",
     "output_type": "stream",
     "text": [
      "Response\n",
      "========\n",
      "The Santa Monica Freeway (Interstate 10) begins on Pacific Coast Highway in\n",
      "Santa Monica near the Pacific Ocean.\n",
      "\n",
      "Source Nodes\n",
      "============\n",
      "\n",
      "doc_id: def6bb84-ddeb-4f51-a18e-0bae7c091b58\n",
      "score: 0.8995916406568247\n",
      "\n",
      "The Santa Monica Freeway (Interstate 10) begins in Santa Monica near the Pacific\n",
      "Ocean and heads east. The Santa Monica Freeway between Santa Monica and downtown\n",
      "Los Angeles has the distinction of being one of the busiest highways in all of\n",
      "North America. After traversing Los Angeles County, I-10 crosses seven more\n",
      "states, terminating at Jacksonville, Florida. In Santa Monica, there is a road\n",
      "sign designating this route as the Christopher Columbus Transcontinental\n",
      "Highway. State Route 2 (Santa Monica Boulevard) begins in Santa Monica, barely\n",
      "grazing State Route 1 at Lincoln Boulevard, and continues northeast across Los\n",
      "Angeles County, through the Angeles National Forest, crossing the San Gabriel\n",
      "Mountains as the Angeles Crest Highway, ending in Wrightwood. Santa Monica is\n",
      "also the western (Pacific) terminus of historic U.S. Route 66. Close to the\n",
      "eastern boundary of Santa Monica, Sepulveda Boulevard reaches from Long Beach at\n",
      "the south, to the northern end of the San Fernando Valley. Just east of Santa\n",
      "Monica is Interstate 405, the \"San Diego Freeway\", a major north-south route in\n",
      "Los Angeles County and Orange County, California.\n",
      "\n",
      "doc_id: 9d6a3513-19af-4b8b-b958-ac83fcfc7e96\n",
      "score: 0.8410398341599143\n",
      "\n",
      "Santa Monica was long inhabited by the Tongva people. Santa Monica was called\n",
      "Kecheek in the Tongva language. The first non-indigenous group to set foot in\n",
      "the area was the party of explorer Gaspar de Portolà, who camped near the\n",
      "present day intersection of Barrington and Ohio Avenues on August 3, 1769. There\n",
      "are two different versions of the naming of the city. One says that it was named\n",
      "in honor of the feast day of Saint Monica (mother of Saint Augustine), but her\n",
      "feast day is actually May 4. Another version says that it was named by Juan\n",
      "Crespí on account of a pair of springs, the Kuruvungna Springs (Serra Springs),\n",
      "that were reminiscent of the tears that Saint Monica shed over her son's early\n",
      "impiety.\n",
      "\n"
     ]
    }
   ],
   "source": [
    "# query = 'What is the name of the character Microsoft used to make Windows 8 seem more personable?'\n",
    "query = 'On what street does the Santa Monica Freeway begin?'\n",
    "response = query_engine.query(query)\n",
    "display_llama_index_response(response)"
   ]
  },
  {
   "cell_type": "code",
   "execution_count": 37,
   "metadata": {},
   "outputs": [],
   "source": [
    "# database_df_ = database_df[database_df[\"broad_subject\"] == \"Politics and Government\"]\n",
    "database_df_ = database_df.sample(frac=1)\n",
    "database_df_[\"is_answerable\"] = \"unknown\"\n",
    "# query_df_ = query_df[query_df[\"broad_subject\"] == \"Politics and Government\"]\n",
    "query_df_ = query_df.sample(frac=1)\n",
    "query_df_[\"is_answerable\"] = query_df_[\"is_answerable\"].astype(str)"
   ]
  },
  {
   "cell_type": "code",
   "execution_count": 38,
   "metadata": {},
   "outputs": [],
   "source": [
    "schema = px.Schema(\n",
    "    embedding_feature_column_names={\n",
    "        \"text_embedding\": px.EmbeddingColumnNames(\n",
    "            vector_column_name=\"text_vector\",\n",
    "            raw_data_column_name=\"text\",\n",
    "          )\n",
    "    },\n",
    "    tag_column_names=[\"granular_subject\", \"broad_subject\", \"is_answerable\"],\n",
    ")"
   ]
  },
  {
   "cell_type": "code",
   "execution_count": 39,
   "metadata": {},
   "outputs": [],
   "source": [
    "database_ds = px.Dataset(database_df_, schema, name=\"database\")\n",
    "query_ds = px.Dataset(query_df_, schema, name=\"query\")"
   ]
  },
  {
   "cell_type": "code",
   "execution_count": 40,
   "metadata": {},
   "outputs": [
    {
     "name": "stderr",
     "output_type": "stream",
     "text": [
      "Existing running Phoenix instance detected! Shutting it down and starting a new instance...\n"
     ]
    },
    {
     "name": "stdout",
     "output_type": "stream",
     "text": [
      "🌍 To view the Phoenix app in your browser, visit http://localhost:60076/\n",
      "📺 To view the Phoenix app in a notebook, run `px.active_session().view()`\n",
      "📖 For more information on how to use Phoenix, check out https://docs.arize.com/phoenix\n"
     ]
    },
    {
     "data": {
      "text/plain": [
       "<phoenix.session.session.ThreadSession at 0x2db95bf70>"
      ]
     },
     "execution_count": 40,
     "metadata": {},
     "output_type": "execute_result"
    },
    {
     "name": "stderr",
     "output_type": "stream",
     "text": [
      "/Users/xandersong/phoenix/src/phoenix/metrics/timeseries.py:198: FutureWarning: Indexing a timezone-naive DatetimeIndex with a timezone-aware datetime is deprecated and will raise KeyError in a future version.  Use a timezone-naive object instead.\n",
      "  yield filtered.groupby(\n"
     ]
    }
   ],
   "source": [
    "px.launch_app(primary=query_ds, reference=database_ds)"
   ]
  },
  {
   "cell_type": "code",
   "execution_count": null,
   "metadata": {},
   "outputs": [],
   "source": [
    "database_df_ = database_df[~database_df[\"granular_subject\"].isin([\"Beyoncé\"])]"
   ]
  },
  {
   "cell_type": "code",
   "execution_count": null,
   "metadata": {},
   "outputs": [],
   "source": [
    "import random\n",
    "\n",
    "random_subjects = random.sample(database_df[\"granular_subject\"].unique().tolist(), 10)\n",
    "random_subjects"
   ]
  },
  {
   "cell_type": "code",
   "execution_count": null,
   "metadata": {},
   "outputs": [],
   "source": [
    "database_df_ = database_df[database_df[\"granular_subject\"].isin(random_subjects)]\n",
    "query_df_ = query_df[query_df[\"granular_subject\"].isin(random_subjects)]"
   ]
  },
  {
   "cell_type": "code",
   "execution_count": null,
   "metadata": {},
   "outputs": [],
   "source": [
    "query_df_ = query_df.groupby([\"granular_subject\", \"paragraph_index\"], as_index=False).first().reset_index(drop=True)"
   ]
  },
  {
   "cell_type": "code",
   "execution_count": null,
   "metadata": {},
   "outputs": [],
   "source": [
    "len(query_df.sample(n=2500))"
   ]
  },
  {
   "cell_type": "code",
   "execution_count": null,
   "metadata": {},
   "outputs": [],
   "source": [
    "len(database_df)"
   ]
  },
  {
   "cell_type": "code",
   "execution_count": null,
   "metadata": {},
   "outputs": [],
   "source": [
    "import pandas as pd\n",
    "\n",
    "\n",
    "def sample_by_percentage(df, percentage_map):\n",
    "    def sample_group(group):\n",
    "        subject = group.name\n",
    "        frac = percentage_map.get(subject, 0)\n",
    "        return group.sample(frac=frac)\n",
    "\n",
    "    sampled_df = df.groupby(\"broad_subject\").apply(sample_group).reset_index(drop=True)\n",
    "    return sampled_df\n",
    "\n",
    "\n",
    "# Example usage\n",
    "data = {\n",
    "    \"broad_subject\": [\"Math\", \"Science\", \"Math\", \"Science\", \"Math\", \"Science\"],\n",
    "    \"score\": [90, 85, 95, 88, 92, 80],\n",
    "}\n",
    "df = pd.DataFrame(data)\n",
    "\n",
    "# Define the percentage map\n",
    "percentage_map = {\n",
    "    \"Math\": 0.5,  # Sample 50% of rows for Math\n",
    "    \"Science\": 0.3,  # Sample 30% of rows for Science\n",
    "}\n",
    "\n",
    "# Apply the function to the DataFrame\n",
    "sampled_df = sample_by_percentage(df, percentage_map)\n",
    "print(sampled_df)"
   ]
  },
  {
   "cell_type": "code",
   "execution_count": 15,
   "metadata": {},
   "outputs": [
    {
     "data": {
      "text/plain": [
       "0                         Music\n",
       "1                         Music\n",
       "2                         Music\n",
       "3                         Music\n",
       "4                         Music\n",
       "                  ...          \n",
       "19030    Science and Technology\n",
       "19031    Science and Technology\n",
       "19032    Science and Technology\n",
       "19033    Science and Technology\n",
       "19034    Science and Technology\n",
       "Name: broad_subject, Length: 19035, dtype: object"
      ]
     },
     "execution_count": 15,
     "metadata": {},
     "output_type": "execute_result"
    }
   ],
   "source": [
    "broad_\n",
    "database_df[\"broad_subject\"]"
   ]
  },
  {
   "cell_type": "code",
   "execution_count": null,
   "metadata": {},
   "outputs": [],
   "source": [
    "broad_subject_to_sample_percentage = {\n",
    "    \"Architecture\": 5.0,\n",
    "    \"Business and Economy\": 0.5,\n",
    "    \"Education\": 0.5,\n",
    "    \"Entertainment and Arts\": 0.5,\n",
    "    \"Geography and Places\": 0.5,\n",
    "    \"Health and Medicine\": 0.5,\n",
    "    \"History\": 0.5,\n",
    "    \"Language and Linguistics\": 0.5,\n",
    "    \"Law and Legal\": 0.5,\n",
    "    \"Literature\": 0.5,\n",
    "    \"Media and Communication\": 0.5,\n",
    "    \"Music\": 0.5,\n",
    "    \"Nature and Environment\": 0.5,\n",
    "    \"Nonprofit Organizations\": 0.5,\n",
    "    \"People and Ethnicity\": 0.5,\n",
    "    \"Philosophy\": 0.5,\n",
    "    \"Politics and Government\": 0.5,\n",
    "    \"Religion and Spirituality\": 0.5,\n",
    "    \"Science and Technology\": 0.5,\n",
    "    \"Social Sciences\": 0.5,\n",
    "    \"Sports\": 0.5,\n",
    "}"
   ]
  },
  {
   "cell_type": "code",
   "execution_count": null,
   "metadata": {},
   "outputs": [],
   "source": [
    "!pip install tiktoken"
   ]
  },
  {
   "cell_type": "code",
   "execution_count": null,
   "metadata": {},
   "outputs": [],
   "source": [
    "import tiktoken\n",
    "\n",
    "def get_token_count(text):\n",
    "    encoding = tiktoken.get_encoding(\"cl100k_base\")\n",
    "    tokens = encoding.encode(text)\n",
    "    return len(tokens)\n",
    "\n",
    "database_df[\"text\"].map(get_token_count).sort_values(ascending=False).head(10)"
   ]
  }
 ],
 "metadata": {
  "kernelspec": {
   "display_name": "Python 3 (ipykernel)",
   "language": "python",
   "name": "python3"
  },
  "language_info": {
   "codemirror_mode": {
    "name": "ipython",
    "version": 3
   },
   "file_extension": ".py",
   "mimetype": "text/x-python",
   "name": "python",
   "nbconvert_exporter": "python",
   "pygments_lexer": "ipython3",
   "version": "3.8.15"
  }
 },
 "nbformat": 4,
 "nbformat_minor": 2
}
