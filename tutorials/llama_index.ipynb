{
 "cells": [
  {
   "cell_type": "code",
   "execution_count": null,
   "metadata": {},
   "outputs": [],
   "source": [
    "!pip install llama-index"
   ]
  },
  {
   "cell_type": "code",
   "execution_count": null,
   "metadata": {},
   "outputs": [],
   "source": [
    "import textwrap\n",
    "\n",
    "import pandas as pd\n",
    "import phoenix as px\n",
    "from llama_index import StorageContext, load_index_from_storage\n",
    "from llama_index.response.schema import Response"
   ]
  },
  {
   "cell_type": "code",
   "execution_count": null,
   "metadata": {},
   "outputs": [],
   "source": [
    "database_df = pd.read_parquet(\"/Users/xandersong/Desktop/llama-index-data/splits/database.parquet\")\n",
    "query_df = pd.read_parquet(\"/Users/xandersong/Desktop/llama-index-data/splits/query.parquet\")"
   ]
  },
  {
   "cell_type": "code",
   "execution_count": null,
   "metadata": {},
   "outputs": [],
   "source": [
    "database_df.head()"
   ]
  },
  {
   "cell_type": "code",
   "execution_count": null,
   "metadata": {},
   "outputs": [],
   "source": [
    "query_df.head()"
   ]
  },
  {
   "cell_type": "code",
   "execution_count": null,
   "metadata": {},
   "outputs": [],
   "source": [
    "storage_context = StorageContext.from_defaults(\n",
    "    persist_dir=\"/Users/xandersong/Desktop/llama-index-data/indexes/database_index\"\n",
    ")\n",
    "index = load_index_from_storage(storage_context)\n",
    "query_engine = index.as_query_engine()"
   ]
  },
  {
   "cell_type": "code",
   "execution_count": null,
   "metadata": {},
   "outputs": [],
   "source": [
    "data = index.storage_context.vector_store.to_dict()\n",
    "list(data.keys())"
   ]
  },
  {
   "cell_type": "code",
   "execution_count": null,
   "metadata": {},
   "outputs": [],
   "source": [
    "lengths = set()\n",
    "for value in data[\"embedding_dict\"].values():\n",
    "    lengths.add(len(value))\n",
    "lengths"
   ]
  },
  {
   "cell_type": "code",
   "execution_count": null,
   "metadata": {},
   "outputs": [],
   "source": [
    "def display_llama_index_response(response: Response) -> None:\n",
    "    \"\"\"\n",
    "    Displays a LlamaIndex response and its source nodes.\n",
    "    \"\"\"\n",
    "\n",
    "    print(\"Response\")\n",
    "    print(\"========\")\n",
    "    print(response.response.strip())\n",
    "    print()\n",
    "\n",
    "    print(\"Source Nodes\")\n",
    "    print(\"============\")\n",
    "    print()\n",
    "\n",
    "    for source_node in response.source_nodes:\n",
    "        print(f\"doc_id: {source_node.node.doc_id}\")\n",
    "        print(f\"score: {source_node.score}\")\n",
    "        print()\n",
    "        for line in textwrap.wrap(source_node.node.text, width=80):\n",
    "            print(line)\n",
    "        print()"
   ]
  },
  {
   "cell_type": "code",
   "execution_count": null,
   "metadata": {},
   "outputs": [],
   "source": [
    "query = \"Where did Beyonce attend elementary school?\"\n",
    "response = query_engine.query(query)\n",
    "display_llama_index_response(response)"
   ]
  },
  {
   "cell_type": "code",
   "execution_count": null,
   "metadata": {},
   "outputs": [],
   "source": [
    "missing_database"
   ]
  },
  {
   "cell_type": "code",
   "execution_count": null,
   "metadata": {},
   "outputs": [],
   "source": [
    "import pandas as pd\n",
    "\n",
    "\n",
    "def sample_by_percentage(df, percentage_map):\n",
    "    def sample_group(group):\n",
    "        subject = group.name\n",
    "        frac = percentage_map.get(subject, 0)\n",
    "        return group.sample(frac=frac)\n",
    "\n",
    "    sampled_df = df.groupby(\"broad_subject\").apply(sample_group).reset_index(drop=True)\n",
    "    return sampled_df\n",
    "\n",
    "\n",
    "# Example usage\n",
    "data = {\n",
    "    \"broad_subject\": [\"Math\", \"Science\", \"Math\", \"Science\", \"Math\", \"Science\"],\n",
    "    \"score\": [90, 85, 95, 88, 92, 80],\n",
    "}\n",
    "df = pd.DataFrame(data)\n",
    "\n",
    "# Define the percentage map\n",
    "percentage_map = {\n",
    "    \"Math\": 0.5,  # Sample 50% of rows for Math\n",
    "    \"Science\": 0.3,  # Sample 30% of rows for Science\n",
    "}\n",
    "\n",
    "# Apply the function to the DataFrame\n",
    "sampled_df = sample_by_percentage(df, percentage_map)\n",
    "print(sampled_df)"
   ]
  },
  {
   "cell_type": "code",
   "execution_count": null,
   "metadata": {},
   "outputs": [],
   "source": [
    "broad_subject_to_sample_percentage = {\n",
    "    \"Architecture\": 5.0,\n",
    "    \"Business and Economy\": 0.5,\n",
    "    \"Education\": 0.5,\n",
    "    \"Entertainment and Arts\": 0.5,\n",
    "    \"Geography and Places\": 0.5,\n",
    "    \"Health and Medicine\": 0.5,\n",
    "    \"History\": 0.5,\n",
    "    \"Language and Linguistics\": 0.5,\n",
    "    \"Law and Legal\": 0.5,\n",
    "    \"Literature\": 0.5,\n",
    "    \"Media and Communication\": 0.5,\n",
    "    \"Music\": 0.5,\n",
    "    \"Nature and Environment\": 0.5,\n",
    "    \"Nonprofit Organizations\": 0.5,\n",
    "    \"People and Ethnicity\": 0.5,\n",
    "    \"Philosophy\": 0.5,\n",
    "    \"Politics and Government\": 0.5,\n",
    "    \"Religion and Spirituality\": 0.5,\n",
    "    \"Science and Technology\": 0.5,\n",
    "    \"Social Sciences\": 0.5,\n",
    "    \"Sports\": 0.5,\n",
    "}"
   ]
  }
 ],
 "metadata": {
  "language_info": {
   "name": "python"
  }
 },
 "nbformat": 4,
 "nbformat_minor": 2
}
