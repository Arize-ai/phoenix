{
 "cells": [
  {
   "cell_type": "markdown",
   "metadata": {
    "id": "CmwwTi0KUa1F"
   },
   "source": [
    "<center> <img src=\"https://storage.cloud.google.com/arize-assets/phoenix/assets/phoenix-logo-light.svg\" width=\"300\"/> </center>\n",
    "\n",
    "# <center>Getting Started with Hosted Phoenix"
   ]
  },
  {
   "cell_type": "markdown",
   "metadata": {
    "id": "u4-cym_JUfow"
   },
   "source": [
    "This guide demonstrates how to use hosted phoenix, our solution for AI developers to trace and evaluate their LLM applications without setting up infrastructure. Read more about Phoenix [here](https://docs.arize.com/phoenix/).\n",
    "\n",
    "ℹ️ This notebook requires an OpenAI API key\n"
   ]
  },
  {
   "cell_type": "markdown",
   "metadata": {
    "id": "BEFoI3zIUwt1"
   },
   "source": [
    "## Step 1: Install Dependencies 📚\n",
    "Let's get the notebook setup with dependencies. It does NOT require installing arize-phoenix to log traces, as we are compliant with OpenTelemetry tracing."
   ]
  },
  {
   "cell_type": "code",
   "execution_count": null,
   "metadata": {
    "id": "aoFI9N0DxQWk"
   },
   "outputs": [],
   "source": [
    "!pip install arize-otel openinference-instrumentation-openai openai"
   ]
  },
  {
   "cell_type": "code",
   "execution_count": null,
   "metadata": {
    "colab": {
     "base_uri": "https://localhost:8080/"
    },
    "id": "Cg7wFg21JyyX",
    "outputId": "07512b2a-61f4-4b8e-f794-b4f499a211e4"
   },
   "outputs": [
    {
     "name": "stdout",
     "output_type": "stream",
     "text": [
      "🔑 Enter your OpenAI API key: ··········\n"
     ]
    }
   ],
   "source": [
    "import os\n",
    "from getpass import getpass\n",
    "\n",
    "if not (openai_api_key := os.getenv(\"OPENAI_API_KEY\")):\n",
    "    openai_api_key = getpass(\"🔑 Enter your OpenAI API key: \")\n",
    "\n",
    "os.environ[\"OPENAI_API_KEY\"] = openai_api_key"
   ]
  },
  {
   "cell_type": "code",
   "execution_count": null,
   "metadata": {
    "colab": {
     "base_uri": "https://localhost:8080/"
    },
    "id": "QklZGzIFJz4R",
    "outputId": "3c681eeb-de7e-498a-906b-a999bddb49a8"
   },
   "outputs": [
    {
     "name": "stdout",
     "output_type": "stream",
     "text": [
      "🔑 Enter your Phoenix API key: ··········\n"
     ]
    }
   ],
   "source": [
    "import os\n",
    "from getpass import getpass\n",
    "\n",
    "if not (PHOENIX_API_KEY := os.getenv(\"PHOENIX_API_KEY\")):\n",
    "    PHOENIX_API_KEY = getpass(\"🔑 Enter your Phoenix API key: \")\n",
    "\n",
    "os.environ[\"PHOENIX_API_KEY\"] = PHOENIX_API_KEY"
   ]
  },
  {
   "cell_type": "markdown",
   "metadata": {
    "id": "SGTKOk-oU18k"
   },
   "source": [
    "## Step 2: Setup Tracing\n",
    "Let's send a trace to Hosted Phoenix! Notce the key lines below using `OTEL_EXPORTER_OTLP_HEADERS` and `app.phoenix.arize.com/v1/traces`"
   ]
  },
  {
   "cell_type": "code",
   "execution_count": null,
   "metadata": {
    "id": "yp9XJiJtO_Ji"
   },
   "outputs": [],
   "source": [
    "from arize_otel import Endpoints, register_otel\n",
    "from openinference.instrumentation.openai import OpenAIInstrumentor\n",
    "\n",
    "# Setup OTEL tracing for hosted Phoenix\n",
    "register_otel(endpoints=[Endpoints.HOSTED_PHOENIX], api_key=PHOENIX_API_KEY)\n",
    "\n",
    "# Turn on instrumentation for OpenAI\n",
    "OpenAIInstrumentor().instrument()"
   ]
  },
  {
   "cell_type": "markdown",
   "metadata": {
    "id": "COGJEi8HoOaB"
   },
   "source": [
    "Send query to Hosted Phoenix\n"
   ]
  },
  {
   "cell_type": "code",
   "execution_count": null,
   "metadata": {
    "colab": {
     "base_uri": "https://localhost:8080/"
    },
    "id": "wgF_PNZtTm1R",
    "outputId": "40b8cc85-edb1-49fe-c876-ce021b8ee18e"
   },
   "outputs": [
    {
     "name": "stdout",
     "output_type": "stream",
     "text": [
      "Whispers in the wind\n",
      "Leaves ruffle with gentle touch\n",
      "Nature's soft embrace\n"
     ]
    }
   ],
   "source": [
    "import openai\n",
    "\n",
    "openai_client = openai.OpenAI()\n",
    "response = openai_client.chat.completions.create(\n",
    "    model=\"gpt-3.5-turbo\",\n",
    "    messages=[{\"role\": \"user\", \"content\": \"Write a haiku.\"}],\n",
    "    max_tokens=20,\n",
    ")\n",
    "print(response.choices[0].message.content)"
   ]
  },
  {
   "cell_type": "markdown",
   "metadata": {
    "id": "M9dDee9_9ywx"
   },
   "source": [
    "## Step 3: Use the Phoenix SDK\n",
    "First, install the right python packages to setup phoenix.\n"
   ]
  },
  {
   "cell_type": "code",
   "execution_count": null,
   "metadata": {
    "id": "VxNAjeyTyBc2"
   },
   "outputs": [],
   "source": [
    "!pip install \"arize-phoenix[evals]\""
   ]
  },
  {
   "cell_type": "markdown",
   "metadata": {
    "id": "6EhmOQJpyHEq"
   },
   "source": [
    "Set the `PHOENIX_CLIENT_HEADERS` and the `PHOENIX_COLLECTOR_ENDPOINT` to the appropriate values to start using hosted Phoenix!"
   ]
  },
  {
   "cell_type": "code",
   "execution_count": null,
   "metadata": {
    "colab": {
     "base_uri": "https://localhost:8080/",
     "height": 1000
    },
    "id": "PD6-S9BY91Dp",
    "outputId": "da25d848-9f3c-433a-c165-ba92f8e2e205"
   },
   "outputs": [
    {
     "name": "stdout",
     "output_type": "stream",
     "text": [
      "                            name span_kind parent_id  \\\n",
      "context.span_id                                        \n",
      "30f18366408abf1f  ChatCompletion       LLM      None   \n",
      "\n",
      "                                       start_time  \\\n",
      "context.span_id                                     \n",
      "30f18366408abf1f 2024-07-25 21:23:21.506330+00:00   \n",
      "\n",
      "                                         end_time status_code status_message  \\\n",
      "context.span_id                                                                \n",
      "30f18366408abf1f 2024-07-25 21:23:22.170959+00:00          OK                  \n",
      "\n",
      "                 events   context.span_id                  context.trace_id  \\\n",
      "context.span_id                                                               \n",
      "30f18366408abf1f     []  30f18366408abf1f  e1a9815516cb9d2c618b03d975fda1d5   \n",
      "\n",
      "                  ... attributes.output.mime_type  attributes.input.mime_type  \\\n",
      "context.span_id   ...                                                           \n",
      "30f18366408abf1f  ...            application/json            application/json   \n",
      "\n",
      "                 attributes.llm.token_count.completion  \\\n",
      "context.span_id                                          \n",
      "30f18366408abf1f                                    18   \n",
      "\n",
      "                 attributes.openinference.span.kind  \\\n",
      "context.span_id                                       \n",
      "30f18366408abf1f                                LLM   \n",
      "\n",
      "                  attributes.llm.model_name  \\\n",
      "context.span_id                               \n",
      "30f18366408abf1f         gpt-3.5-turbo-0125   \n",
      "\n",
      "                                             attributes.input.value  \\\n",
      "context.span_id                                                       \n",
      "30f18366408abf1f  {\"messages\": [{\"role\": \"user\", \"content\": \"Wri...   \n",
      "\n",
      "                 attributes.llm.token_count.prompt  \\\n",
      "context.span_id                                      \n",
      "30f18366408abf1f                                12   \n",
      "\n",
      "                                            attributes.output.value  \\\n",
      "context.span_id                                                       \n",
      "30f18366408abf1f  {\"id\":\"chatcmpl-9p0DhUZ5zfsPJP3cf3tXkLqvnEthu\"...   \n",
      "\n",
      "                          attributes.llm.invocation_parameters  \\\n",
      "context.span_id                                                  \n",
      "30f18366408abf1f  {\"model\": \"gpt-3.5-turbo\", \"max_tokens\": 20}   \n",
      "\n",
      "                                     attributes.llm.output_messages  \n",
      "context.span_id                                                      \n",
      "30f18366408abf1f  [{'message.content': 'Whispers in the wind\n",
      "Lea...  \n",
      "\n",
      "[1 rows x 22 columns]\n"
     ]
    },
    {
     "data": {
      "application/vnd.google.colaboratory.intrinsic+json": {
       "repr_error": "cannot insert context.span_id, already exists",
       "type": "dataframe"
      },
      "text/html": [
       "\n",
       "  <div id=\"df-2d732e0d-987c-40b5-af54-dbe0d48413f0\" class=\"colab-df-container\">\n",
       "    <div>\n",
       "<style scoped>\n",
       "    .dataframe tbody tr th:only-of-type {\n",
       "        vertical-align: middle;\n",
       "    }\n",
       "\n",
       "    .dataframe tbody tr th {\n",
       "        vertical-align: top;\n",
       "    }\n",
       "\n",
       "    .dataframe thead th {\n",
       "        text-align: right;\n",
       "    }\n",
       "</style>\n",
       "<table border=\"1\" class=\"dataframe\">\n",
       "  <thead>\n",
       "    <tr style=\"text-align: right;\">\n",
       "      <th></th>\n",
       "      <th>name</th>\n",
       "      <th>span_kind</th>\n",
       "      <th>parent_id</th>\n",
       "      <th>start_time</th>\n",
       "      <th>end_time</th>\n",
       "      <th>status_code</th>\n",
       "      <th>status_message</th>\n",
       "      <th>events</th>\n",
       "      <th>context.span_id</th>\n",
       "      <th>context.trace_id</th>\n",
       "    </tr>\n",
       "    <tr>\n",
       "      <th>context.span_id</th>\n",
       "      <th></th>\n",
       "      <th></th>\n",
       "      <th></th>\n",
       "      <th></th>\n",
       "      <th></th>\n",
       "      <th></th>\n",
       "      <th></th>\n",
       "      <th></th>\n",
       "      <th></th>\n",
       "      <th></th>\n",
       "    </tr>\n",
       "  </thead>\n",
       "  <tbody>\n",
       "  </tbody>\n",
       "</table>\n",
       "</div>\n",
       "    <div class=\"colab-df-buttons\">\n",
       "\n",
       "  <div class=\"colab-df-container\">\n",
       "    <button class=\"colab-df-convert\" onclick=\"convertToInteractive('df-2d732e0d-987c-40b5-af54-dbe0d48413f0')\"\n",
       "            title=\"Convert this dataframe to an interactive table.\"\n",
       "            style=\"display:none;\">\n",
       "\n",
       "  <svg xmlns=\"http://www.w3.org/2000/svg\" height=\"24px\" viewBox=\"0 -960 960 960\">\n",
       "    <path d=\"M120-120v-720h720v720H120Zm60-500h600v-160H180v160Zm220 220h160v-160H400v160Zm0 220h160v-160H400v160ZM180-400h160v-160H180v160Zm440 0h160v-160H620v160ZM180-180h160v-160H180v160Zm440 0h160v-160H620v160Z\"/>\n",
       "  </svg>\n",
       "    </button>\n",
       "\n",
       "  <style>\n",
       "    .colab-df-container {\n",
       "      display:flex;\n",
       "      gap: 12px;\n",
       "    }\n",
       "\n",
       "    .colab-df-convert {\n",
       "      background-color: #E8F0FE;\n",
       "      border: none;\n",
       "      border-radius: 50%;\n",
       "      cursor: pointer;\n",
       "      display: none;\n",
       "      fill: #1967D2;\n",
       "      height: 32px;\n",
       "      padding: 0 0 0 0;\n",
       "      width: 32px;\n",
       "    }\n",
       "\n",
       "    .colab-df-convert:hover {\n",
       "      background-color: #E2EBFA;\n",
       "      box-shadow: 0px 1px 2px rgba(60, 64, 67, 0.3), 0px 1px 3px 1px rgba(60, 64, 67, 0.15);\n",
       "      fill: #174EA6;\n",
       "    }\n",
       "\n",
       "    .colab-df-buttons div {\n",
       "      margin-bottom: 4px;\n",
       "    }\n",
       "\n",
       "    [theme=dark] .colab-df-convert {\n",
       "      background-color: #3B4455;\n",
       "      fill: #D2E3FC;\n",
       "    }\n",
       "\n",
       "    [theme=dark] .colab-df-convert:hover {\n",
       "      background-color: #434B5C;\n",
       "      box-shadow: 0px 1px 3px 1px rgba(0, 0, 0, 0.15);\n",
       "      filter: drop-shadow(0px 1px 2px rgba(0, 0, 0, 0.3));\n",
       "      fill: #FFFFFF;\n",
       "    }\n",
       "  </style>\n",
       "\n",
       "    <script>\n",
       "      const buttonEl =\n",
       "        document.querySelector('#df-2d732e0d-987c-40b5-af54-dbe0d48413f0 button.colab-df-convert');\n",
       "      buttonEl.style.display =\n",
       "        google.colab.kernel.accessAllowed ? 'block' : 'none';\n",
       "\n",
       "      async function convertToInteractive(key) {\n",
       "        const element = document.querySelector('#df-2d732e0d-987c-40b5-af54-dbe0d48413f0');\n",
       "        const dataTable =\n",
       "          await google.colab.kernel.invokeFunction('convertToInteractive',\n",
       "                                                    [key], {});\n",
       "        if (!dataTable) return;\n",
       "\n",
       "        const docLinkHtml = 'Like what you see? Visit the ' +\n",
       "          '<a target=\"_blank\" href=https://colab.research.google.com/notebooks/data_table.ipynb>data table notebook</a>'\n",
       "          + ' to learn more about interactive tables.';\n",
       "        element.innerHTML = '';\n",
       "        dataTable['output_type'] = 'display_data';\n",
       "        await google.colab.output.renderOutput(dataTable, element);\n",
       "        const docLink = document.createElement('div');\n",
       "        docLink.innerHTML = docLinkHtml;\n",
       "        element.appendChild(docLink);\n",
       "      }\n",
       "    </script>\n",
       "  </div>\n",
       "\n",
       "\n",
       "    </div>\n",
       "  </div>\n"
      ],
      "text/plain": [
       "Empty DataFrame\n",
       "Columns: [name, span_kind, parent_id, start_time, end_time, status_code, status_message, events, context.span_id, context.trace_id]\n",
       "Index: []"
      ]
     },
     "execution_count": 10,
     "metadata": {},
     "output_type": "execute_result"
    }
   ],
   "source": [
    "os.environ[\"PHOENIX_CLIENT_HEADERS\"] = f\"api_key={PHOENIX_API_KEY}\"\n",
    "os.environ[\"PHOENIX_COLLECTOR_ENDPOINT\"] = \"https://app.phoenix.arize.com/\"\n",
    "\n",
    "from datetime import datetime, timedelta\n",
    "\n",
    "import phoenix as px\n",
    "\n",
    "# Initiate Phoenix client\n",
    "px_client = px.Client()\n",
    "\n",
    "# Get spans from the last 7 days only\n",
    "start = datetime.now() - timedelta(days=7)\n",
    "\n",
    "# Get spans to exclude the last 24 hours\n",
    "end = datetime.now() - timedelta(days=0)\n",
    "\n",
    "phoenix_df = px_client.query_spans(start_time=start, end_time=end)\n",
    "print(phoenix_df.head())\n",
    "px_client.get_spans_dataframe(project_name=\"rechat\", root_spans_only=True)"
   ]
  },
  {
   "cell_type": "markdown",
   "metadata": {
    "id": "vBcnGURRDIE5"
   },
   "source": [
    "Use our latest and greatest features around datasets on the latest Phoenix version"
   ]
  },
  {
   "cell_type": "code",
   "execution_count": null,
   "metadata": {
    "colab": {
     "base_uri": "https://localhost:8080/"
    },
    "id": "_BCBdfVqDKUK",
    "outputId": "79a97b22-2049-4a12-c12d-269cb324d59d"
   },
   "outputs": [
    {
     "name": "stdout",
     "output_type": "stream",
     "text": [
      "📤 Uploading dataset...\n",
      "💾 Examples uploaded: https://app.phoenix.arize.com/datasets/RGF0YXNldDoy/examples\n",
      "🗄️ Dataset version ID: RGF0YXNldFZlcnNpb246Mg==\n"
     ]
    }
   ],
   "source": [
    "import pandas as pd\n",
    "import phoenix as px\n",
    "\n",
    "df = pd.DataFrame(\n",
    "    [\n",
    "        {\n",
    "            \"question\": \"What is Paul Graham known for?\",\n",
    "            \"answer\": \"Co-founding Y Combinator and writing on startups and techology.\",\n",
    "            \"metadata\": {\"topic\": \"tech\"},\n",
    "        }\n",
    "    ]\n",
    ")\n",
    "phoenix_client = px.Client()\n",
    "dataset = phoenix_client.upload_dataset(\n",
    "    dataframe=df,\n",
    "    dataset_name=\"test-dataset-2\",\n",
    "    input_keys=[\"question\"],\n",
    "    output_keys=[\"answer\"],\n",
    "    metadata_keys=[\"metadata\"],\n",
    ")"
   ]
  }
 ],
 "metadata": {
  "colab": {
   "provenance": []
  },
  "kernelspec": {
   "display_name": "Python 3",
   "name": "python3"
  },
  "language_info": {
   "name": "python"
  }
 },
 "nbformat": 4,
 "nbformat_minor": 0
}
