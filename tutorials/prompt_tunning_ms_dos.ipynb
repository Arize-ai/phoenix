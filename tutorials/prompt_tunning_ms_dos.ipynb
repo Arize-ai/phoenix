{
 "cells": [
  {
   "cell_type": "code",
   "execution_count": 1,
   "id": "20173c48-f7f3-45b4-a02b-5d597ccb9fcd",
   "metadata": {},
   "outputs": [
    {
     "name": "stdout",
     "output_type": "stream",
     "text": [
      "Requirement already satisfied: datasets in /Users/danielajimeno/Desktop/arize_venv/lib/python3.8/site-packages (2.14.4)\n",
      "Requirement already satisfied: llama-index in /Users/danielajimeno/Desktop/arize_venv/lib/python3.8/site-packages (0.7.22)\n",
      "Requirement already satisfied: tenacity in /Users/danielajimeno/Desktop/arize_venv/lib/python3.8/site-packages (8.2.2)\n",
      "Requirement already satisfied: sklearn in /Users/danielajimeno/Desktop/arize_venv/lib/python3.8/site-packages (0.0.post7)\n",
      "Requirement already satisfied: nest_asyncio in /Users/danielajimeno/Desktop/arize_venv/lib/python3.8/site-packages (1.5.7)\n",
      "Requirement already satisfied: tiktoken in /Users/danielajimeno/Desktop/arize_venv/lib/python3.8/site-packages (0.4.0)\n",
      "Requirement already satisfied: seaborn in /Users/danielajimeno/Desktop/arize_venv/lib/python3.8/site-packages (0.12.2)\n",
      "Requirement already satisfied: numpy>=1.17 in /Users/danielajimeno/Desktop/arize_venv/lib/python3.8/site-packages (from datasets) (1.24.3)\n",
      "Requirement already satisfied: pyarrow>=8.0.0 in /Users/danielajimeno/Desktop/arize_venv/lib/python3.8/site-packages (from datasets) (12.0.1)\n",
      "Requirement already satisfied: dill<0.3.8,>=0.3.0 in /Users/danielajimeno/Desktop/arize_venv/lib/python3.8/site-packages (from datasets) (0.3.7)\n",
      "Requirement already satisfied: pandas in /Users/danielajimeno/Desktop/arize_venv/lib/python3.8/site-packages (from datasets) (2.0.3)\n",
      "Requirement already satisfied: requests>=2.19.0 in /Users/danielajimeno/Desktop/arize_venv/lib/python3.8/site-packages (from datasets) (2.31.0)\n",
      "Requirement already satisfied: tqdm>=4.62.1 in /Users/danielajimeno/Desktop/arize_venv/lib/python3.8/site-packages (from datasets) (4.66.0)\n",
      "Requirement already satisfied: xxhash in /Users/danielajimeno/Desktop/arize_venv/lib/python3.8/site-packages (from datasets) (3.3.0)\n",
      "Requirement already satisfied: multiprocess in /Users/danielajimeno/Desktop/arize_venv/lib/python3.8/site-packages (from datasets) (0.70.15)\n",
      "Requirement already satisfied: fsspec[http]>=2021.11.1 in /Users/danielajimeno/Desktop/arize_venv/lib/python3.8/site-packages (from datasets) (2023.6.0)\n",
      "Requirement already satisfied: aiohttp in /Users/danielajimeno/Desktop/arize_venv/lib/python3.8/site-packages (from datasets) (3.8.5)\n",
      "Requirement already satisfied: huggingface-hub<1.0.0,>=0.14.0 in /Users/danielajimeno/Desktop/arize_venv/lib/python3.8/site-packages (from datasets) (0.16.4)\n",
      "Requirement already satisfied: packaging in /Users/danielajimeno/Desktop/arize_venv/lib/python3.8/site-packages (from datasets) (23.1)\n",
      "Requirement already satisfied: pyyaml>=5.1 in /Users/danielajimeno/Desktop/arize_venv/lib/python3.8/site-packages (from datasets) (6.0.1)\n",
      "Requirement already satisfied: dataclasses-json in /Users/danielajimeno/Desktop/arize_venv/lib/python3.8/site-packages (from llama-index) (0.5.14)\n",
      "Requirement already satisfied: langchain>=0.0.218 in /Users/danielajimeno/Desktop/arize_venv/lib/python3.8/site-packages (from llama-index) (0.0.259)\n",
      "Requirement already satisfied: sqlalchemy>=2.0.15 in /Users/danielajimeno/Desktop/arize_venv/lib/python3.8/site-packages (from llama-index) (2.0.19)\n",
      "Requirement already satisfied: openai>=0.26.4 in /Users/danielajimeno/Desktop/arize_venv/lib/python3.8/site-packages (from llama-index) (0.27.8)\n",
      "Requirement already satisfied: urllib3<2 in /Users/danielajimeno/Desktop/arize_venv/lib/python3.8/site-packages (from llama-index) (1.26.16)\n",
      "Requirement already satisfied: typing-inspect>=0.8.0 in /Users/danielajimeno/Desktop/arize_venv/lib/python3.8/site-packages (from llama-index) (0.9.0)\n",
      "Requirement already satisfied: typing-extensions>=4.5.0 in /Users/danielajimeno/Desktop/arize_venv/lib/python3.8/site-packages (from llama-index) (4.5.0)\n",
      "Requirement already satisfied: beautifulsoup4 in /Users/danielajimeno/Desktop/arize_venv/lib/python3.8/site-packages (from llama-index) (4.12.2)\n",
      "Requirement already satisfied: regex>=2022.1.18 in /Users/danielajimeno/Desktop/arize_venv/lib/python3.8/site-packages (from tiktoken) (2023.8.8)\n",
      "Requirement already satisfied: matplotlib!=3.6.1,>=3.1 in /Users/danielajimeno/Desktop/arize_venv/lib/python3.8/site-packages (from seaborn) (3.7.2)\n",
      "Requirement already satisfied: attrs>=17.3.0 in /Users/danielajimeno/Desktop/arize_venv/lib/python3.8/site-packages (from aiohttp->datasets) (23.1.0)\n",
      "Requirement already satisfied: charset-normalizer<4.0,>=2.0 in /Users/danielajimeno/Desktop/arize_venv/lib/python3.8/site-packages (from aiohttp->datasets) (3.2.0)\n",
      "Requirement already satisfied: multidict<7.0,>=4.5 in /Users/danielajimeno/Desktop/arize_venv/lib/python3.8/site-packages (from aiohttp->datasets) (6.0.4)\n",
      "Requirement already satisfied: async-timeout<5.0,>=4.0.0a3 in /Users/danielajimeno/Desktop/arize_venv/lib/python3.8/site-packages (from aiohttp->datasets) (4.0.2)\n",
      "Requirement already satisfied: yarl<2.0,>=1.0 in /Users/danielajimeno/Desktop/arize_venv/lib/python3.8/site-packages (from aiohttp->datasets) (1.9.2)\n",
      "Requirement already satisfied: frozenlist>=1.1.1 in /Users/danielajimeno/Desktop/arize_venv/lib/python3.8/site-packages (from aiohttp->datasets) (1.4.0)\n",
      "Requirement already satisfied: aiosignal>=1.1.2 in /Users/danielajimeno/Desktop/arize_venv/lib/python3.8/site-packages (from aiohttp->datasets) (1.3.1)\n",
      "Requirement already satisfied: filelock in /Users/danielajimeno/Desktop/arize_venv/lib/python3.8/site-packages (from huggingface-hub<1.0.0,>=0.14.0->datasets) (3.12.2)\n",
      "Requirement already satisfied: langsmith<0.1.0,>=0.0.11 in /Users/danielajimeno/Desktop/arize_venv/lib/python3.8/site-packages (from langchain>=0.0.218->llama-index) (0.0.20)\n",
      "Requirement already satisfied: numexpr<3.0.0,>=2.8.4 in /Users/danielajimeno/Desktop/arize_venv/lib/python3.8/site-packages (from langchain>=0.0.218->llama-index) (2.8.5)\n",
      "Requirement already satisfied: openapi-schema-pydantic<2.0,>=1.2 in /Users/danielajimeno/Desktop/arize_venv/lib/python3.8/site-packages (from langchain>=0.0.218->llama-index) (1.2.4)\n",
      "Requirement already satisfied: pydantic<2,>=1 in /Users/danielajimeno/Desktop/arize_venv/lib/python3.8/site-packages (from langchain>=0.0.218->llama-index) (1.10.12)\n",
      "Requirement already satisfied: marshmallow<4.0.0,>=3.18.0 in /Users/danielajimeno/Desktop/arize_venv/lib/python3.8/site-packages (from dataclasses-json->llama-index) (3.20.1)\n",
      "Requirement already satisfied: contourpy>=1.0.1 in /Users/danielajimeno/Desktop/arize_venv/lib/python3.8/site-packages (from matplotlib!=3.6.1,>=3.1->seaborn) (1.1.0)\n",
      "Requirement already satisfied: cycler>=0.10 in /Users/danielajimeno/Desktop/arize_venv/lib/python3.8/site-packages (from matplotlib!=3.6.1,>=3.1->seaborn) (0.11.0)\n",
      "Requirement already satisfied: fonttools>=4.22.0 in /Users/danielajimeno/Desktop/arize_venv/lib/python3.8/site-packages (from matplotlib!=3.6.1,>=3.1->seaborn) (4.42.0)\n",
      "Requirement already satisfied: kiwisolver>=1.0.1 in /Users/danielajimeno/Desktop/arize_venv/lib/python3.8/site-packages (from matplotlib!=3.6.1,>=3.1->seaborn) (1.4.4)\n",
      "Requirement already satisfied: pillow>=6.2.0 in /Users/danielajimeno/Desktop/arize_venv/lib/python3.8/site-packages (from matplotlib!=3.6.1,>=3.1->seaborn) (10.0.0)\n",
      "Requirement already satisfied: pyparsing<3.1,>=2.3.1 in /Users/danielajimeno/Desktop/arize_venv/lib/python3.8/site-packages (from matplotlib!=3.6.1,>=3.1->seaborn) (3.0.9)\n",
      "Requirement already satisfied: python-dateutil>=2.7 in /Users/danielajimeno/Desktop/arize_venv/lib/python3.8/site-packages (from matplotlib!=3.6.1,>=3.1->seaborn) (2.8.2)\n",
      "Requirement already satisfied: importlib-resources>=3.2.0 in /Users/danielajimeno/Desktop/arize_venv/lib/python3.8/site-packages (from matplotlib!=3.6.1,>=3.1->seaborn) (6.0.1)\n",
      "Requirement already satisfied: pytz>=2020.1 in /Users/danielajimeno/Desktop/arize_venv/lib/python3.8/site-packages (from pandas->datasets) (2023.3)\n",
      "Requirement already satisfied: tzdata>=2022.1 in /Users/danielajimeno/Desktop/arize_venv/lib/python3.8/site-packages (from pandas->datasets) (2023.3)\n",
      "Requirement already satisfied: idna<4,>=2.5 in /Users/danielajimeno/Desktop/arize_venv/lib/python3.8/site-packages (from requests>=2.19.0->datasets) (3.4)\n",
      "Requirement already satisfied: certifi>=2017.4.17 in /Users/danielajimeno/Desktop/arize_venv/lib/python3.8/site-packages (from requests>=2.19.0->datasets) (2023.7.22)\n",
      "Requirement already satisfied: mypy-extensions>=0.3.0 in /Users/danielajimeno/Desktop/arize_venv/lib/python3.8/site-packages (from typing-inspect>=0.8.0->llama-index) (1.0.0)\n",
      "Requirement already satisfied: soupsieve>1.2 in /Users/danielajimeno/Desktop/arize_venv/lib/python3.8/site-packages (from beautifulsoup4->llama-index) (2.4.1)\n",
      "Requirement already satisfied: zipp>=3.1.0 in /Users/danielajimeno/Desktop/arize_venv/lib/python3.8/site-packages (from importlib-resources>=3.2.0->matplotlib!=3.6.1,>=3.1->seaborn) (3.16.2)\n",
      "Requirement already satisfied: six>=1.5 in /Users/danielajimeno/Desktop/arize_venv/lib/python3.8/site-packages (from python-dateutil>=2.7->matplotlib!=3.6.1,>=3.1->seaborn) (1.16.0)\n"
     ]
    }
   ],
   "source": [
    "!pip install datasets llama-index tenacity sklearn nest_asyncio tiktoken seaborn"
   ]
  },
  {
   "cell_type": "code",
   "execution_count": 2,
   "id": "d09abc4a-65a6-4c5e-94ab-6538f0c16a51",
   "metadata": {},
   "outputs": [],
   "source": [
    "import datasets\n",
    "import tiktoken\n",
    "from functools import partial\n",
    "from datasets import load_dataset\n",
    "import pandas as pd\n",
    "from tenacity import (\n",
    "    retry,\n",
    "    stop_after_attempt,\n",
    "    wait_random_exponential,\n",
    ")\n",
    "from sklearn.metrics import accuracy_score, precision_recall_fscore_support, confusion_matrix, ConfusionMatrixDisplay\n",
    "import pandas as pd\n",
    "import seaborn as sns\n",
    "import matplotlib.pyplot as plt\n",
    "import time\n",
    "from concurrent.futures import ThreadPoolExecutor\n",
    "import asyncio\n",
    "from llama_index.llms import ChatMessage, OpenAI\n",
    "import openai\n",
    "\n",
    "import nest_asyncio\n",
    "nest_asyncio.apply()\n",
    "\n",
    "pd.set_option(\"display.max_colwidth\", 1000)"
   ]
  },
  {
   "cell_type": "code",
   "execution_count": 3,
   "id": "a1c33889-c950-41fc-b2a5-fa8b4a305ff2",
   "metadata": {},
   "outputs": [],
   "source": [
    "train_data = load_dataset(\"ms_marco\", 'v2.1', split=\"train\")\n",
    "test_data = load_dataset(\"ms_marco\", 'v2.1', split=\"test\")\n",
    "validation_data = load_dataset(\"ms_marco\", 'v2.1', split=\"validation\")"
   ]
  },
  {
   "cell_type": "code",
   "execution_count": 4,
   "id": "e9954144-4813-49e1-9af7-a04f5316cd30",
   "metadata": {},
   "outputs": [],
   "source": [
    "train_df, test_df, validation_df = train_data.to_pandas(), test_data.to_pandas(), validation_data.to_pandas()"
   ]
  },
  {
   "cell_type": "code",
   "execution_count": 5,
   "id": "30a456a7-7d9c-4534-8654-94787366c613",
   "metadata": {},
   "outputs": [
    {
     "data": {
      "text/html": [
       "<div>\n",
       "<style scoped>\n",
       "    .dataframe tbody tr th:only-of-type {\n",
       "        vertical-align: middle;\n",
       "    }\n",
       "\n",
       "    .dataframe tbody tr th {\n",
       "        vertical-align: top;\n",
       "    }\n",
       "\n",
       "    .dataframe thead th {\n",
       "        text-align: right;\n",
       "    }\n",
       "</style>\n",
       "<table border=\"1\" class=\"dataframe\">\n",
       "  <thead>\n",
       "    <tr style=\"text-align: right;\">\n",
       "      <th></th>\n",
       "      <th>answers</th>\n",
       "      <th>passages</th>\n",
       "      <th>query</th>\n",
       "      <th>query_id</th>\n",
       "      <th>query_type</th>\n",
       "      <th>wellFormedAnswers</th>\n",
       "    </tr>\n",
       "  </thead>\n",
       "  <tbody>\n",
       "    <tr>\n",
       "      <th>0</th>\n",
       "      <td>[The immediate impact of the success of the manhattan project was the only cloud hanging over the impressive achievement of the atomic researchers and engineers is what their success truly meant; hundreds of thousands of innocent lives obliterated.]</td>\n",
       "      <td>{'is_selected': [1, 0, 0, 0, 0, 0, 0, 0, 0, 0], 'passage_text': ['The presence of communication amid scientific minds was equally important to the success of the Manhattan Project as scientific intellect was. The only cloud hanging over the impressive achievement of the atomic researchers and engineers is what their success truly meant; hundreds of thousands of innocent lives obliterated.', 'The Manhattan Project and its atomic bomb helped bring an end to World War II. Its legacy of peaceful uses of atomic energy continues to have an impact on history and science.', 'Essay on The Manhattan Project - The Manhattan Project The Manhattan Project was to see if making an atomic bomb possible. The success of this project would forever change the world forever making it known that something this powerful can be manmade.', 'The Manhattan Project was the name for a project conducted during World War II, to develop the first atomic bomb. It refers specifically to the period of the project fr...</td>\n",
       "      <td>)what was the immediate impact of the success of the manhattan project?</td>\n",
       "      <td>1185869</td>\n",
       "      <td>DESCRIPTION</td>\n",
       "      <td>[]</td>\n",
       "    </tr>\n",
       "  </tbody>\n",
       "</table>\n",
       "</div>"
      ],
      "text/plain": [
       "                                                                                                                                                                                                                                                     answers  \\\n",
       "0  [The immediate impact of the success of the manhattan project was the only cloud hanging over the impressive achievement of the atomic researchers and engineers is what their success truly meant; hundreds of thousands of innocent lives obliterated.]   \n",
       "\n",
       "                                                                                                                                                                                                                                                                                                                                                                                                                                                                                                                                                                                                                                                                                                                                                                                                                                                                                                                                                                                                                                  passages  \\\n",
       "0  {'is_selected': [1, 0, 0, 0, 0, 0, 0, 0, 0, 0], 'passage_text': ['The presence of communication amid scientific minds was equally important to the success of the Manhattan Project as scientific intellect was. The only cloud hanging over the impressive achievement of the atomic researchers and engineers is what their success truly meant; hundreds of thousands of innocent lives obliterated.', 'The Manhattan Project and its atomic bomb helped bring an end to World War II. Its legacy of peaceful uses of atomic energy continues to have an impact on history and science.', 'Essay on The Manhattan Project - The Manhattan Project The Manhattan Project was to see if making an atomic bomb possible. The success of this project would forever change the world forever making it known that something this powerful can be manmade.', 'The Manhattan Project was the name for a project conducted during World War II, to develop the first atomic bomb. It refers specifically to the period of the project fr...   \n",
       "\n",
       "                                                                     query  \\\n",
       "0  )what was the immediate impact of the success of the manhattan project?   \n",
       "\n",
       "   query_id   query_type wellFormedAnswers  \n",
       "0   1185869  DESCRIPTION                []  "
      ]
     },
     "execution_count": 5,
     "metadata": {},
     "output_type": "execute_result"
    }
   ],
   "source": [
    "train_df.head(1)"
   ]
  },
  {
   "cell_type": "code",
   "execution_count": null,
   "id": "5efef95c-b140-41f2-a090-56a541743220",
   "metadata": {},
   "outputs": [],
   "source": [
    "# Separating is_selected and passages for better training\n",
    "# Expand the 'passages' column into separate columns\n",
    "def process_row(row):\n",
    "    passages = pd.DataFrame({\n",
    "        \"is_selected\": row['passages']['is_selected'],\n",
    "        \"passage_text\": row['passages']['passage_text']\n",
    "    })\n",
    "    \n",
    "    # Repeat other columns for the length of passages\n",
    "    for col in ['answers', 'query', 'query_id', 'query_type', 'wellFormedAnswers']:\n",
    "        passages[col] = [row[col]] * len(passages)\n",
    "    \n",
    "    return passages\n",
    "\n",
    "\n",
    "# Apply the function to each row\n",
    "dfs = train_df.apply(process_row, axis=1)\n",
    "\n",
    "# Concatenate the resulting DataFrames and reset index\n",
    "result = pd.concat(dfs.values).reset_index(drop=True)\n",
    "\n",
    "# Convert 'answers' column list values to string values\n",
    "result['answers'] = result['answers'].str[0]"
   ]
  },
  {
   "cell_type": "code",
   "execution_count": null,
   "id": "056d97ef-0f52-43bf-9e31-8c4be306ff52",
   "metadata": {},
   "outputs": [],
   "source": [
    "result.head()"
   ]
  },
  {
   "cell_type": "code",
   "execution_count": null,
   "id": "50320880-b9f9-4aeb-ab28-58b3ae9a98c9",
   "metadata": {},
   "outputs": [],
   "source": []
  }
 ],
 "metadata": {
  "kernelspec": {
   "display_name": "Python 3 (ipykernel)",
   "language": "python",
   "name": "python3"
  },
  "language_info": {
   "codemirror_mode": {
    "name": "ipython",
    "version": 3
   },
   "file_extension": ".py",
   "mimetype": "text/x-python",
   "name": "python",
   "nbconvert_exporter": "python",
   "pygments_lexer": "ipython3",
   "version": "3.8.9"
  }
 },
 "nbformat": 4,
 "nbformat_minor": 5
}
