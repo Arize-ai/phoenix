{
 "cells": [
  {
   "cell_type": "markdown",
   "metadata": {
    "id": "63YJExI2n8n6"
   },
   "source": [
    "<center>\n",
    "<p style=\"text-align:center\">\n",
    "<img alt=\"phoenix logo\" src=\"https://raw.githubusercontent.com/Arize-ai/phoenix-assets/9e6101d95936f4bd4d390efc9ce646dc6937fb2d/images/socal/github-large-banner-phoenix.jpg\" width=\"1000\"/>\n",
    "<br>\n",
    "<br>\n",
    "<a href=\"https://docs.arize.com/phoenix/\">Docs</a>\n",
    "|\n",
    "<a href=\"https://github.com/Arize-ai/phoenix\">GitHub</a>\n",
    "|\n",
    "<a href=\"https://arize-ai.slack.com/join/shared_invite/zt-11t1vbu4x-xkBIHmOREQnYnYDH1GDfCg?__hstc=259489365.a667dfafcfa0169c8aee4178d115dc81.1733501603539.1733501603539.1733501603539.1&__hssc=259489365.1.1733501603539&__hsfp=3822854628&submissionGuid=381a0676-8f38-437b-96f2-fc10875658df#/shared-invite/email\">Community</a>\n",
    "</p>\n",
    "</center>\n",
    "<h1 align=\"center\">Few-Shot Prompting Tutorial</h1>\n",
    "\n",
    "Few-shot prompting is a powerful technique in prompt engineering that helps LLMs perform tasks more effectively by providing a few examples within the prompt.\n",
    "\n",
    "Unlike zero-shot prompting, where the model must infer the task with no prior context, or one-shot prompting, where a single example is provided, few-shot prompting leverages multiple examples to guide the model’s responses more accurately.\n",
    "\n",
    "In this tutorial you will:\n",
    "- Explore how different prompting strategies impact performance in a sentiment analysis task on a dataset of reviews.\n",
    "- Run an evaluation to measure how the prompt affects the model’s performance\n",
    "- Track your how your prompt and experiment changes overtime in Phoenix\n",
    "\n",
    "By the end of this tutorial, you’ll have a clear understanding of how structured prompting can significantly enhance the results of any application.\n",
    "\n",
    "⚠️You will need an OpenAI Key for this tutorial.\n",
    "\n",
    "Let’s get started! 🚀"
   ]
  },
  {
   "cell_type": "markdown",
   "metadata": {
    "id": "YW1WuRoFoEfb"
   },
   "source": [
    "# Setup Dependencies and Keys"
   ]
  },
  {
   "cell_type": "code",
   "execution_count": null,
   "metadata": {},
   "outputs": [],
   "source": [
    "!pip install -qqq \"arize-phoenix>=8.0.0\" datasets openinference-instrumentation-openai"
   ]
  },
  {
   "cell_type": "markdown",
   "metadata": {
    "id": "1vVLz60FRj0n"
   },
   "source": [
    "Next you need to connect to Phoenix. The code below will connect you to a Phoenix Cloud instance. You can also [connect to a self-hosted Phoenix instance](https://docs.arize.com/phoenix/deployment) if you'd prefer."
   ]
  },
  {
   "cell_type": "code",
   "execution_count": null,
   "metadata": {},
   "outputs": [],
   "source": [
    "import os\n",
    "from getpass import getpass\n",
    "\n",
    "os.environ[\"PHOENIX_COLLECTOR_ENDPOINT\"] = \"https://app.phoenix.arize.com\"\n",
    "if not os.environ.get(\"PHOENIX_CLIENT_HEADERS\"):\n",
    "    os.environ[\"PHOENIX_CLIENT_HEADERS\"] = \"api_key=\" + getpass(\"Enter your Phoenix API key: \")\n",
    "\n",
    "if not os.environ.get(\"OPENAI_API_KEY\"):\n",
    "    os.environ[\"OPENAI_API_KEY\"] = getpass(\"Enter your OpenAI API key: \")"
   ]
  },
  {
   "cell_type": "markdown",
   "metadata": {
    "id": "DClcbf5soimT"
   },
   "source": [
    "# Load Dataset Into Phoenix\n",
    "This dataset contains reviews along with their corresponding sentiment labels. Throughout this notebook, we will use the same dataset to evaluate the impact of different prompting techniques, refining our approach with each iteration.\n",
    "\n",
    "Here, we also import the Phoenix Client, which enables us to create and modify prompts directly within the notebook while seamlessly syncing changes to the Phoenix UI."
   ]
  },
  {
   "cell_type": "code",
   "execution_count": null,
   "metadata": {},
   "outputs": [],
   "source": [
    "from datasets import load_dataset\n",
    "\n",
    "ds = load_dataset(\"syeddula/fridgeReviews\")[\"train\"]\n",
    "ds = ds.to_pandas()\n",
    "ds.head()"
   ]
  },
  {
   "cell_type": "markdown",
   "metadata": {
    "id": "N92PeQyNoq4_"
   },
   "source": [
    "# Set up Phoenix Client"
   ]
  },
  {
   "cell_type": "code",
   "execution_count": null,
   "metadata": {},
   "outputs": [],
   "source": [
    "import uuid\n",
    "\n",
    "import phoenix as px\n",
    "from phoenix.client import Client as PhoenixClient\n",
    "\n",
    "unique_id = uuid.uuid4()\n",
    "\n",
    "# Upload the dataset to Phoenix\n",
    "dataset = px.Client().upload_dataset(\n",
    "    dataframe=ds,\n",
    "    input_keys=[\"Review\"],\n",
    "    output_keys=[\"Sentiment\"],\n",
    "    dataset_name=f\"review-classification-{unique_id}\",\n",
    ")"
   ]
  },
  {
   "cell_type": "markdown",
   "metadata": {
    "id": "uDKN_-8rfYNZ"
   },
   "source": [
    "# Zero-Shot Prompting\n"
   ]
  },
  {
   "cell_type": "markdown",
   "metadata": {
    "id": "nFevQAYVo4Bm"
   },
   "source": [
    "Zero-shot prompting is a technique where a language model is asked to perform a task without being given any prior examples. Instead, the model relies solely on its pre-trained knowledge to generate a response. This approach is useful when you need quick predictions without providing specific guidance.\n",
    "\n",
    "In this section, we will apply zero-shot prompting to our sentiment analysis dataset, asking the model to classify reviews as positive, negative, or neutral without any labeled examples. We’ll then evaluate its performance to see how well it can infer the task based on the prompt alone."
   ]
  },
  {
   "cell_type": "code",
   "execution_count": null,
   "metadata": {},
   "outputs": [],
   "source": [
    "from openai import OpenAI\n",
    "from openai.types.chat.completion_create_params import CompletionCreateParamsBase\n",
    "\n",
    "from phoenix.client.types import PromptVersion\n",
    "\n",
    "params = CompletionCreateParamsBase(\n",
    "    model=\"gpt-3.5-turbo\",\n",
    "    temperature=0,\n",
    "    messages=[\n",
    "        {\n",
    "            \"role\": \"system\",\n",
    "            \"content\": \"You are an evaluator who assesses the sentiment of a review. Output if the review positive, negative, or neutral. Only respond with one of these classifications.\",\n",
    "        },\n",
    "        {\"role\": \"user\", \"content\": \"{{Review}}\"},\n",
    "    ],\n",
    ")\n",
    "\n",
    "prompt_identifier = \"fridge-sentiment-reviews\"\n",
    "\n",
    "prompt = PhoenixClient().prompts.create(\n",
    "    name=prompt_identifier,\n",
    "    prompt_description=\"A prompt for classifying reviews based on sentiment.\",\n",
    "    version=PromptVersion.from_openai(params),\n",
    ")"
   ]
  },
  {
   "cell_type": "markdown",
   "metadata": {
    "id": "sHaWSs-oKj36"
   },
   "source": [
    "At this stage, this initial prompt is now available in Phoenix under the Prompt tab. Any modifications made to the prompt moving forward will be tracked under **Versions**, allowing you to monitor and compare changes over time.\n",
    "\n",
    "Prompts in Phoenix store more than just text—they also include key details such as the prompt template, model configurations, and response format, ensuring a structured and consistent approach to generating outputs.\n"
   ]
  },
  {
   "cell_type": "markdown",
   "metadata": {
    "id": "MxisJJRrTz5Y"
   },
   "source": [
    "![Prompt v1](https://storage.googleapis.com/arize-phoenix-assets/assets/gifs/s-few-shot-6.png)"
   ]
  },
  {
   "cell_type": "markdown",
   "metadata": {
    "id": "LNggJ6ilLJyW"
   },
   "source": [
    "Next we will define a task and evaluator for the experiment.\n",
    "\n",
    "Because our dataset has ground truth labels, we can use a simple function to check if the output of the task matches the expected output."
   ]
  },
  {
   "cell_type": "code",
   "execution_count": null,
   "metadata": {},
   "outputs": [],
   "source": [
    "def zero_shot_prompt(input):\n",
    "    client = OpenAI()\n",
    "    resp = client.chat.completions.create(**prompt.format(variables={\"Review\": input[\"Review\"]}))\n",
    "    return resp.choices[0].message.content.strip()\n",
    "\n",
    "\n",
    "def evaluate_response(output, expected):\n",
    "    return output.lower() == expected[\"Sentiment\"].lower()"
   ]
  },
  {
   "cell_type": "markdown",
   "metadata": {
    "id": "QDmF1o_jLpDW"
   },
   "source": [
    "If you’d like to instrument your code, you can run the cell below. While this step isn’t required for running prompts and evaluations, it enables trace visualization for deeper insights into the model’s behavior."
   ]
  },
  {
   "cell_type": "code",
   "execution_count": null,
   "metadata": {},
   "outputs": [],
   "source": [
    "from openinference.instrumentation.openai import OpenAIInstrumentor\n",
    "\n",
    "from phoenix.otel import register\n",
    "\n",
    "tracer_provider = register(project_name=\"few-shot-examples\")\n",
    "OpenAIInstrumentor().instrument(tracer_provider=tracer_provider)"
   ]
  },
  {
   "cell_type": "markdown",
   "metadata": {
    "id": "ps3j1ttAMZgc"
   },
   "source": [
    "Finally, we run our experiement. We can view the results of the experiement in Phoenix."
   ]
  },
  {
   "cell_type": "code",
   "execution_count": null,
   "metadata": {},
   "outputs": [],
   "source": [
    "import nest_asyncio\n",
    "\n",
    "from phoenix.experiments import run_experiment\n",
    "\n",
    "nest_asyncio.apply()\n",
    "\n",
    "initial_experiment = run_experiment(\n",
    "    dataset,\n",
    "    task=zero_shot_prompt,\n",
    "    evaluators=[evaluate_response],\n",
    "    experiment_description=\"Zero-Shot Prompt\",\n",
    "    experiment_name=\"zero-shot-prompt\",\n",
    "    experiment_metadata={\"prompt\": \"prompt_id=\" + prompt.id},\n",
    ")"
   ]
  },
  {
   "cell_type": "markdown",
   "metadata": {
    "id": "M_Y7OQWtRaeb"
   },
   "source": [
    "In the following sections, we refine the prompt to enhance the model's performance and improve the evaluation results on our dataset."
   ]
  },
  {
   "cell_type": "markdown",
   "metadata": {
    "id": "o55dsIHsTsbS"
   },
   "source": [
    "![First Run](https://storage.googleapis.com/arize-phoenix-assets/assets/gifs/s-few-shot-5.png)"
   ]
  },
  {
   "cell_type": "markdown",
   "metadata": {
    "id": "LBbmzJ9TfT_C"
   },
   "source": [
    "# One-Shot Prompting"
   ]
  },
  {
   "cell_type": "markdown",
   "metadata": {
    "id": "yFSsZl-4rlm3"
   },
   "source": [
    "One-shot prompting provides the model with a single example to guide its response. By including a labeled example in the prompt, we give the model a clearer understanding of the task, helping it generate more accurate predictions compared to zero-shot prompting.\n",
    "\n",
    "In this section, we will apply one shot prompting to our sentiment analysis dataset by providing one labeled review as a reference. We’ll then evaluate how this small amount of guidance impacts the model’s ability to classify sentiments correctly."
   ]
  },
  {
   "cell_type": "code",
   "execution_count": null,
   "metadata": {},
   "outputs": [],
   "source": [
    "ds = load_dataset(\"syeddula/fridgeReviews\")[\"test\"]\n",
    "one_shot_example = ds.to_pandas().sample(1)"
   ]
  },
  {
   "cell_type": "code",
   "execution_count": null,
   "metadata": {},
   "outputs": [],
   "source": [
    "one_shot_template = \"\"\"\n",
    "\"You are an evaluator who assesses the sentiment of a review. Output if the review positive, negative, or neutral. Only respond with one of these classifications.\"\n",
    "\n",
    "Here is one example of a review and the sentiment:\n",
    "\n",
    "{examples}\n",
    "\"\"\"\n",
    "\n",
    "params = CompletionCreateParamsBase(\n",
    "    model=\"gpt-3.5-turbo\",\n",
    "    temperature=0,\n",
    "    messages=[\n",
    "        {\"role\": \"system\", \"content\": one_shot_template.format(examples=one_shot_example)},\n",
    "        {\"role\": \"user\", \"content\": \"{{Review}}\"},\n",
    "    ],\n",
    ")\n",
    "\n",
    "one_shot_prompt = PhoenixClient().prompts.create(\n",
    "    name=prompt_identifier,\n",
    "    prompt_description=\"One-shot prompt for classifying reviews based on sentiment.\",\n",
    "    version=PromptVersion.from_openai(params),\n",
    ")"
   ]
  },
  {
   "cell_type": "markdown",
   "metadata": {
    "id": "qhAZgH5QNhKk"
   },
   "source": [
    "Under the prompts tab in Phoenix, we can see that our prompt has an updated version. The prompt includes one random example from the test dataset to help the model make its classification."
   ]
  },
  {
   "cell_type": "markdown",
   "metadata": {
    "id": "Vg4WJM2PTR8z"
   },
   "source": [
    "![Second Ver](https://storage.googleapis.com/arize-phoenix-assets/assets/gifs/s-few-shot-3.png)"
   ]
  },
  {
   "cell_type": "markdown",
   "metadata": {
    "id": "vL_y2yvxOYnt"
   },
   "source": [
    "Similar to the previous step, we will define the task and run the evaluator. This time, we will be using our updated prompt for One Shot Prompting and see how the evaluation changes."
   ]
  },
  {
   "cell_type": "code",
   "execution_count": null,
   "metadata": {},
   "outputs": [],
   "source": [
    "def one_shot_prompt_template(input):\n",
    "    client = OpenAI()\n",
    "    resp = client.chat.completions.create(\n",
    "        **one_shot_prompt.format(variables={\"Review\": input[\"Review\"]})\n",
    "    )\n",
    "    return resp.choices[0].message.content.strip()"
   ]
  },
  {
   "cell_type": "code",
   "execution_count": null,
   "metadata": {},
   "outputs": [],
   "source": [
    "one_shot_experiment = run_experiment(\n",
    "    dataset,\n",
    "    task=one_shot_prompt_template,\n",
    "    evaluators=[evaluate_response],\n",
    "    experiment_description=\"One-Shot Prompting\",\n",
    "    experiment_name=\"one-shot-prompt\",\n",
    "    experiment_metadata={\"prompt\": \"prompt_id=\" + one_shot_prompt.id},\n",
    ")"
   ]
  },
  {
   "cell_type": "markdown",
   "metadata": {
    "id": "sv-ta086R36_"
   },
   "source": [
    "In this run, we observe a slight improvement in the evaluation results. Let’s see if we can further enhance performance in the next section.\n",
    "\n",
    "**Note**: You may sometimes see a decline in performance, which is not necessarily \"wrong.\" Results can vary due to factors such as the choice of LLM, the randomness of selected test examples, and other inherent model behaviors."
   ]
  },
  {
   "cell_type": "markdown",
   "metadata": {
    "id": "XwsYstg_TKW1"
   },
   "source": [
    "![One Shot Result](https://storage.googleapis.com/arize-phoenix-assets/assets/gifs/s-few-shot-2.png)"
   ]
  },
  {
   "cell_type": "markdown",
   "metadata": {
    "id": "EEw30Lc4e5as"
   },
   "source": [
    "# Few-Shot Prompting"
   ]
  },
  {
   "cell_type": "markdown",
   "metadata": {
    "id": "mwdH08WGvGHA"
   },
   "source": [
    "Finally, we will explore few-shot Prompting which enhances a model’s performance by providing multiple labeled examples within the prompt. By exposing the model to several instances of the task, it gains a better understanding of the expected output, leading to more accurate and consistent responses.\n",
    "\n",
    "In this section, we will apply few-shot prompting to our sentiment analysis dataset by including multiple labeled reviews as references. This approach helps the model recognize patterns and improves its ability to classify sentiments correctly. We’ll then evaluate its performance to see how additional examples impact accuracy compared to zero-shot and one-shot prompting."
   ]
  },
  {
   "cell_type": "code",
   "execution_count": null,
   "metadata": {},
   "outputs": [],
   "source": [
    "ds = load_dataset(\"syeddula/fridgeReviews\")[\"test\"]\n",
    "few_shot_examples = ds.to_pandas().sample(10)"
   ]
  },
  {
   "cell_type": "code",
   "execution_count": null,
   "metadata": {},
   "outputs": [],
   "source": [
    "few_shot_template = \"\"\"\n",
    "\"You are an evaluator who assesses the sentiment of a review. Output if the review positive, negative, or neutral. Only respond with one of these classifications.\"\n",
    "\n",
    "Here are examples of a review and the sentiment:\n",
    "\n",
    "{examples}\n",
    "\"\"\"\n",
    "params = CompletionCreateParamsBase(\n",
    "    model=\"gpt-3.5-turbo\",\n",
    "    temperature=0,\n",
    "    messages=[\n",
    "        {\"role\": \"system\", \"content\": few_shot_template.format(examples=few_shot_examples)},\n",
    "        {\"role\": \"user\", \"content\": \"{{Review}}\"},\n",
    "    ],\n",
    ")\n",
    "\n",
    "few_shot_prompt = PhoenixClient().prompts.create(\n",
    "    name=prompt_identifier,\n",
    "    prompt_description=\"Few-shot prompt for classifying reviews based on sentiment.\",\n",
    "    version=PromptVersion.from_openai(params),\n",
    ")"
   ]
  },
  {
   "cell_type": "markdown",
   "metadata": {
    "id": "0C5LlkG3QMmG"
   },
   "source": [
    "Our updated prompt also lives in Phoenix. We can clearly see how the linear version history of our prompt was built."
   ]
  },
  {
   "cell_type": "markdown",
   "metadata": {
    "id": "LGdohBo-Tcof"
   },
   "source": [
    "![Few Shot Ver](https://storage.googleapis.com/arize-phoenix-assets/assets/gifs/s-few-shot-4.png)"
   ]
  },
  {
   "cell_type": "markdown",
   "metadata": {
    "id": "xYPlNA9MQvEz"
   },
   "source": [
    "Just like previous steps, we run our task and evaluation."
   ]
  },
  {
   "cell_type": "code",
   "execution_count": null,
   "metadata": {},
   "outputs": [],
   "source": [
    "def few_shot_prompt_template(input):\n",
    "    client = OpenAI()\n",
    "    resp = client.chat.completions.create(\n",
    "        **few_shot_prompt.format(variables={\"Review\": input[\"Review\"]})\n",
    "    )\n",
    "    return resp.choices[0].message.content.strip()"
   ]
  },
  {
   "cell_type": "code",
   "execution_count": null,
   "metadata": {},
   "outputs": [],
   "source": [
    "few_shot_experiment = run_experiment(\n",
    "    dataset,\n",
    "    task=few_shot_prompt_template,\n",
    "    evaluators=[evaluate_response],\n",
    "    experiment_description=\"Few Shot Prompting\",\n",
    "    experiment_name=\"few-shot-prompt\",\n",
    "    experiment_metadata={\"prompt\": \"prompt_id=\" + few_shot_prompt.id},\n",
    ")"
   ]
  },
  {
   "cell_type": "markdown",
   "metadata": {
    "id": "Jrr83wuLe7uL"
   },
   "source": [
    "# Final Results"
   ]
  },
  {
   "cell_type": "markdown",
   "metadata": {
    "id": "xXRluJkcS2uj"
   },
   "source": [
    "In this final run, we observe the most significant improvement in evaluation results. By incorporating multiple examples into our prompt, we provide clearer guidance to the model, leading to better sentiment classification.\n",
    "\n",
    "Note: Performance may still vary, and in some cases, results might decline. Like before, this is not necessarily \"wrong,\" as factors like the choice of LLM, the randomness of selected test examples, and inherent model behaviors can all influence outcomes."
   ]
  },
  {
   "cell_type": "markdown",
   "metadata": {
    "id": "PsQfNiRNS5sC"
   },
   "source": [
    "![Final Result](https://storage.googleapis.com/arize-phoenix-assets/assets/gifs/s-few-shot-1.png)"
   ]
  },
  {
   "cell_type": "markdown",
   "metadata": {
    "id": "3xolKarZTNIq"
   },
   "source": [
    "From here, you can check out more [examples on Phoenix](https://docs.arize.com/phoenix/notebooks), and if you haven't already, [please give us a star on GitHub!](https://github.com/Arize-ai/phoenix) ⭐️\n"
   ]
  }
 ],
 "metadata": {
  "language_info": {
   "name": "python"
  }
 },
 "nbformat": 4,
 "nbformat_minor": 0
}
