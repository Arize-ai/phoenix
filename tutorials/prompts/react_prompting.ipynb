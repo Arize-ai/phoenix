{
 "cells": [
  {
   "cell_type": "markdown",
   "metadata": {
    "id": "JYFf3E2Br-QV"
   },
   "source": [
    "<center>\n",
    "<p style=\"text-align:center\">\n",
    "<img alt=\"phoenix logo\" src=\"https://raw.githubusercontent.com/Arize-ai/phoenix-assets/9e6101d95936f4bd4d390efc9ce646dc6937fb2d/images/socal/github-large-banner-phoenix.jpg\" width=\"1000\"/>\n",
    "<br>\n",
    "<br>\n",
    "<a href=\"https://docs.arize.com/phoenix/\">Docs</a>\n",
    "|\n",
    "<a href=\"https://github.com/Arize-ai/phoenix\">GitHub</a>\n",
    "|\n",
    "<a href=\"https://arize-ai.slack.com/join/shared_invite/zt-11t1vbu4x-xkBIHmOREQnYnYDH1GDfCg?__hstc=259489365.a667dfafcfa0169c8aee4178d115dc81.1733501603539.1733501603539.1733501603539.1&__hssc=259489365.1.1733501603539&__hsfp=3822854628&submissionGuid=381a0676-8f38-437b-96f2-fc10875658df#/shared-invite/email\">Community</a>\n",
    "</p>\n",
    "</center>\n",
    "<h1 align=\"center\">ReAct Prompting Tutorial</h1>\n",
    "\n",
    "**ReAct (Reasoning + Acting)** is a prompting technique that enables LLMs to think step-by-step before taking action. Unlike traditional prompting, where a model directly provides an answer, ReAct prompts guide the model to reason through a problem first, then decide which tools or actions are necessary to reach the best solution.\n",
    "\n",
    "ReAct is ideal for situations that require **multi-step problem-solving with external tools**. It also improves **transparency** by clearly showing the reasoning behind each tool choice, making it easier to understand and refine the model's actions.\n",
    "\n",
    "In this tutorial, you will:\n",
    "- Learn how to craft prompts, tools, and evaluators in Phoenix\n",
    "- Refine your prompts to understand the power of ReAct prompting\n",
    "- Leverage Phoenix and LLM as a Judge techniques to evaluate accuracy at each step, gaining insight into the model's thought process.\n",
    "- Learn how to apply ReAct prompting in real-world scenarios for improved task execution and problem-solving.\n",
    "\n",
    "⚠️ You'll need an OpenAI Key for this tutorial.\n",
    "\n",
    "Let’s get started! 🚀"
   ]
  },
  {
   "cell_type": "markdown",
   "metadata": {
    "id": "-Aw0UEwtoGoe"
   },
   "source": [
    "# **Set up Dependencies and Keys**"
   ]
  },
  {
   "cell_type": "code",
   "execution_count": null,
   "metadata": {},
   "outputs": [],
   "source": [
    "!pip install -qqq \"arize-phoenix>=8.0.0\" datasets openinference-instrumentation-openai"
   ]
  },
  {
   "cell_type": "markdown",
   "metadata": {
    "id": "W0cfS6pUuFad"
   },
   "source": [
    "Next you need to connect to Phoenix. The code below will connect you to a Phoenix Cloud instance. You can also [connect to a self-hosted Phoenix instance](https://docs.arize.com/phoenix/deployment) if you'd prefer."
   ]
  },
  {
   "cell_type": "code",
   "execution_count": null,
   "metadata": {},
   "outputs": [],
   "source": [
    "import os\n",
    "from getpass import getpass\n",
    "\n",
    "os.environ[\"PHOENIX_COLLECTOR_ENDPOINT\"] = \"https://app.phoenix.arize.com\"\n",
    "if not os.environ.get(\"PHOENIX_CLIENT_HEADERS\"):\n",
    "    os.environ[\"PHOENIX_CLIENT_HEADERS\"] = \"api_key=\" + getpass(\"Enter your Phoenix API key: \")\n",
    "\n",
    "if not os.environ.get(\"OPENAI_API_KEY\"):\n",
    "    os.environ[\"OPENAI_API_KEY\"] = getpass(\"Enter your OpenAI API key: \")"
   ]
  },
  {
   "cell_type": "code",
   "execution_count": null,
   "metadata": {},
   "outputs": [],
   "source": [
    "import nest_asyncio\n",
    "import pandas as pd\n",
    "from openai import OpenAI\n",
    "from openai.types.chat.completion_create_params import CompletionCreateParamsBase\n",
    "from openinference.instrumentation.openai import OpenAIInstrumentor\n",
    "\n",
    "import phoenix as px\n",
    "from phoenix.client import Client as PhoenixClient\n",
    "from phoenix.client.types import PromptVersion\n",
    "from phoenix.evals import (\n",
    "    TOOL_CALLING_PROMPT_RAILS_MAP,\n",
    "    OpenAIModel,\n",
    "    llm_classify,\n",
    ")\n",
    "from phoenix.experiments import run_experiment\n",
    "from phoenix.otel import register\n",
    "\n",
    "nest_asyncio.apply()"
   ]
  },
  {
   "cell_type": "markdown",
   "metadata": {
    "id": "Jd1DAleLEf_d"
   },
   "source": [
    "## **Instrument Application**"
   ]
  },
  {
   "cell_type": "code",
   "execution_count": null,
   "metadata": {},
   "outputs": [],
   "source": [
    "tracer_provider = register(\n",
    "    project_name=\"ReAct-examples\", endpoint=\"https://app.phoenix.arize.com/v1/traces\"\n",
    ")\n",
    "OpenAIInstrumentor().instrument(tracer_provider=tracer_provider)"
   ]
  },
  {
   "cell_type": "markdown",
   "metadata": {
    "id": "O2G3koOgTDBk"
   },
   "source": [
    "# **Load Dataset Into Phoenix**"
   ]
  },
  {
   "cell_type": "markdown",
   "metadata": {
    "id": "LHRJNVpMuanG"
   },
   "source": [
    "This dataset contains 20 customer service questions that a customer might ask a store's chatbot. As we dive into ReAct prompting, we'll use these questions to guide the LLM in selecting the appropriate tools.\n",
    "\n",
    "Here, we also import the Phoenix Client, which enables us to create and modify prompts directly within the notebook while seamlessly syncing changes to the Phoenix UI.\n",
    "\n",
    "After running this cell, the dataset should will be under the Datasets tab in Phoenix."
   ]
  },
  {
   "cell_type": "code",
   "execution_count": null,
   "metadata": {},
   "outputs": [],
   "source": [
    "from datasets import load_dataset\n",
    "\n",
    "ds = load_dataset(\"syeddula/customer_questions\")[\"train\"]\n",
    "ds = ds.to_pandas()\n",
    "ds.head()\n",
    "import uuid\n",
    "\n",
    "unique_id = uuid.uuid4()\n",
    "\n",
    "# Upload the dataset to Phoenix\n",
    "dataset = px.Client().upload_dataset(\n",
    "    dataframe=ds,\n",
    "    input_keys=[\"Questions\"],\n",
    "    dataset_name=f\"customer-questions-{unique_id}\",\n",
    ")"
   ]
  },
  {
   "cell_type": "markdown",
   "metadata": {
    "id": "6VcP-OZUoAaZ"
   },
   "source": [
    "# **Define Tools**"
   ]
  },
  {
   "cell_type": "markdown",
   "metadata": {
    "id": "M7GJUErYvCCm"
   },
   "source": [
    "Next, let's define the tools available for the LLM to use. We have five tools at our disposal, each serving a specific purpose:\n",
    "Product Comparison, Product Details, Discounts, Customer Support, and Track Package.\n",
    "\n",
    "Depending on the customer's question, the LLM will determine the optimal sequence of tools to use.\n"
   ]
  },
  {
   "cell_type": "code",
   "execution_count": null,
   "metadata": {},
   "outputs": [],
   "source": [
    "tools = [\n",
    "    {\n",
    "        \"type\": \"function\",\n",
    "        \"function\": {\n",
    "            \"name\": \"product_comparison\",\n",
    "            \"description\": \"Compare features of two products.\",\n",
    "            \"parameters\": {\n",
    "                \"type\": \"object\",\n",
    "                \"properties\": {\n",
    "                    \"product_a_id\": {\n",
    "                        \"type\": \"string\",\n",
    "                        \"description\": \"The unique identifier of Product A.\",\n",
    "                    },\n",
    "                    \"product_b_id\": {\n",
    "                        \"type\": \"string\",\n",
    "                        \"description\": \"The unique identifier of Product B.\",\n",
    "                    },\n",
    "                },\n",
    "                \"required\": [\"product_a_id\", \"product_b_id\"],\n",
    "            },\n",
    "        },\n",
    "    },\n",
    "    {\n",
    "        \"type\": \"function\",\n",
    "        \"function\": {\n",
    "            \"name\": \"product_details\",\n",
    "            \"description\": \"Get detailed features on one product.\",\n",
    "            \"parameters\": {\n",
    "                \"type\": \"object\",\n",
    "                \"properties\": {\n",
    "                    \"product_id\": {\n",
    "                        \"type\": \"string\",\n",
    "                        \"description\": \"The unique identifier of the Product.\",\n",
    "                    }\n",
    "                },\n",
    "                \"required\": [\"product_id\"],\n",
    "            },\n",
    "        },\n",
    "    },\n",
    "    {\n",
    "        \"type\": \"function\",\n",
    "        \"function\": {\n",
    "            \"name\": \"apply_discount_code\",\n",
    "            \"description\": \"Checks for discounts and promotions. Applies a discount code to an order.\",\n",
    "            \"parameters\": {\n",
    "                \"type\": \"object\",\n",
    "                \"properties\": {\n",
    "                    \"order_id\": {\n",
    "                        \"type\": \"integer\",\n",
    "                        \"description\": \"The unique identifier of the order.\",\n",
    "                    },\n",
    "                    \"discount_code\": {\n",
    "                        \"type\": \"string\",\n",
    "                        \"description\": \"The discount code to apply.\",\n",
    "                    },\n",
    "                },\n",
    "                \"required\": [\"order_id\", \"discount_code\"],\n",
    "            },\n",
    "        },\n",
    "    },\n",
    "    {\n",
    "        \"type\": \"function\",\n",
    "        \"function\": {\n",
    "            \"name\": \"customer_support\",\n",
    "            \"description\": \"Get contact information for customer support regarding an issue.\",\n",
    "            \"parameters\": {\n",
    "                \"type\": \"object\",\n",
    "                \"properties\": {\n",
    "                    \"issue_type\": {\n",
    "                        \"type\": \"string\",\n",
    "                        \"description\": \"The type of issue (e.g., billing, technical support).\",\n",
    "                    }\n",
    "                },\n",
    "                \"required\": [\"issue_type\"],\n",
    "            },\n",
    "        },\n",
    "    },\n",
    "    {\n",
    "        \"type\": \"function\",\n",
    "        \"function\": {\n",
    "            \"name\": \"track_package\",\n",
    "            \"description\": \"Track the status of a package based on the tracking number.\",\n",
    "            \"parameters\": {\n",
    "                \"type\": \"object\",\n",
    "                \"properties\": {\n",
    "                    \"tracking_number\": {\n",
    "                        \"type\": \"integer\",\n",
    "                        \"description\": \"The tracking number of the package.\",\n",
    "                    }\n",
    "                },\n",
    "                \"required\": [\"tracking_number\"],\n",
    "            },\n",
    "        },\n",
    "    },\n",
    "]"
   ]
  },
  {
   "cell_type": "markdown",
   "metadata": {
    "id": "-mAcUkwRmQ2P"
   },
   "source": [
    "# **Initial Prompt**"
   ]
  },
  {
   "cell_type": "markdown",
   "metadata": {
    "id": "Zp0dFQPXvp9t"
   },
   "source": [
    "Let's start by defining a simple prompt that instructs the system to utilize the available tools to answer the questions. The choice of which tools to use, and how to apply them, is left to the model's discretion based on the context of each customer query."
   ]
  },
  {
   "cell_type": "code",
   "execution_count": null,
   "metadata": {},
   "outputs": [],
   "source": [
    "params = CompletionCreateParamsBase(\n",
    "    model=\"gpt-4\",\n",
    "    temperature=0.5,\n",
    "    tools=tools,\n",
    "    tool_choice=\"auto\",\n",
    "    messages=[\n",
    "        {\n",
    "            \"role\": \"system\",\n",
    "            \"content\": \"\"\"You are a helpful customer service agent.\n",
    "            Your task is to determine the best tools to use to answer a customer's question.\n",
    "            Output the tools and pick 3 tools at maximum.\n",
    "            \"\"\",\n",
    "        },\n",
    "        {\"role\": \"user\", \"content\": \"{{questions}}\"},\n",
    "    ],\n",
    ")\n",
    "\n",
    "prompt_identifier = \"customer-support\"\n",
    "\n",
    "prompt = PhoenixClient().prompts.create(\n",
    "    name=prompt_identifier,\n",
    "    prompt_description=\"Customer Support\",\n",
    "    version=PromptVersion.from_openai(params),\n",
    ")"
   ]
  },
  {
   "cell_type": "markdown",
   "metadata": {
    "id": "bek1TA_yvyPs"
   },
   "source": [
    "At this stage, this initial prompt is now available in Phoenix under the Prompt tab. Any modifications made to the prompt moving forward will be tracked under **Versions**, allowing you to monitor and compare changes over time.\n",
    "\n",
    "Prompts in Phoenix store more than just text—they also include key details such as the prompt template, model configurations, and response format, ensuring a structured and consistent approach to generating outputs."
   ]
  },
  {
   "cell_type": "markdown",
   "metadata": {
    "id": "ZPuSjOXA6HsI"
   },
   "source": [
    "![Prompt](https://storage.googleapis.com/arize-phoenix-assets/assets/images/react_prompt1.png)"
   ]
  },
  {
   "cell_type": "markdown",
   "metadata": {
    "id": "V66MrGrIwded"
   },
   "source": [
    "Next, we will define the Tool Calling Prompt Template. In this step, we use **[LLM as a Judge](https://docs.arize.com/phoenix/evaluation/concepts-evals/llm-as-a-judge)** to evaluate the output. LLM as a Judge is a technique where one LLM assesses the performance of another LLM.\n",
    "\n",
    "This prompt is provided to the LLM-as-Judge model, which takes in both the user's query and the tools the system has selected. The model then uses reasoning to assess how effectively the chosen tools addressed the query, providing an explanation for its evaluation."
   ]
  },
  {
   "cell_type": "code",
   "execution_count": null,
   "metadata": {},
   "outputs": [],
   "source": [
    "TOOL_CALLING_PROMPT_TEMPLATE = \"\"\"\n",
    "You are an evaluation assistant evaluating questions and tool calls to\n",
    "determine whether the tool called would reasonably help answer the question.\n",
    "The tool calls have been generated by a separate agent, chosen from the list of\n",
    "tools provided below. Your job is to decide whether that agent's response was relevant to solving the customer's question.\n",
    "\n",
    "    [BEGIN DATA]\n",
    "    ************\n",
    "    [Question]: {question}\n",
    "    ************\n",
    "    [Tool Called]: {tool_calls}\n",
    "    [END DATA]\n",
    "\n",
    "Your response must be one of the following:\n",
    "1. **\"correct\"** – The chosen tool(s) would sufficiently answer the question.\n",
    "2. **\"mostly_correct\"** – The tool(s) are helpful, but a better selection could have been made (at most 1 missing or unnecessary tool).\n",
    "3. **\"incorrect\"** – The tool(s) would not meaningfully help answer the question.\n",
    "\n",
    "Explain why you made your choice.\n",
    "\n",
    "    [Tool Definitions]:\n",
    "    product_comparison: Compare features of two products.\n",
    "    product_details: Get detailed features on one product.\n",
    "    apply_discount_code: Applies a discount code to an order.\n",
    "    customer_support: Get contact information for customer support regarding an issue.\n",
    "    track_package: Track the status of a package based on the tracking number.\n",
    "\"\"\""
   ]
  },
  {
   "cell_type": "markdown",
   "metadata": {
    "id": "XfrlauO1yCpt"
   },
   "source": [
    "In the following cells, we will define a task for the experiment.\n",
    "Then, in the `evaluate_response` function, we define our LLM as a Judge evaluator. Finally, we run our experiment."
   ]
  },
  {
   "cell_type": "code",
   "execution_count": null,
   "metadata": {},
   "outputs": [],
   "source": [
    "def prompt_task(input):\n",
    "    client = OpenAI()\n",
    "    resp = client.chat.completions.create(\n",
    "        **prompt.format(variables={\"questions\": input[\"Questions\"]})\n",
    "    )\n",
    "    return resp\n",
    "\n",
    "\n",
    "def evaluate_response(input, output):\n",
    "    response_classifications = llm_classify(\n",
    "        dataframe=pd.DataFrame([{\"question\": input[\"Questions\"], \"tool_calls\": output}]),\n",
    "        template=TOOL_CALLING_PROMPT_TEMPLATE,\n",
    "        model=OpenAIModel(model=\"gpt-3.5-turbo\"),\n",
    "        rails=list(TOOL_CALLING_PROMPT_RAILS_MAP.values()),\n",
    "        provide_explanation=True,\n",
    "    )\n",
    "    score = response_classifications.apply(lambda x: 0 if x[\"label\"] == \"incorrect\" else 1, axis=1)\n",
    "    return score"
   ]
  },
  {
   "cell_type": "markdown",
   "metadata": {
    "id": "RjtIZ9JnE3Pg"
   },
   "source": [
    "### **Experiment**"
   ]
  },
  {
   "cell_type": "code",
   "execution_count": null,
   "metadata": {},
   "outputs": [],
   "source": [
    "initial_experiment = run_experiment(\n",
    "    dataset,\n",
    "    task=prompt_task,\n",
    "    evaluators=[evaluate_response],\n",
    "    experiment_description=\"Customer Support Prompt\",\n",
    "    experiment_name=\"initial-prompt\",\n",
    "    experiment_metadata={\"prompt\": \"prompt_id=\" + prompt.id},\n",
    ")"
   ]
  },
  {
   "cell_type": "markdown",
   "metadata": {
    "id": "zV2sPwm63Sqc"
   },
   "source": [
    "After running our experiment and evaluation, we can dive deeper into the results. By clicking into the experiment, we can explore the tools that the LLM selected for the specific input. Next, if we click on the trace for the evaluation, we can see the reasoning behind the score assigned by LLM as a Judge for the output."
   ]
  },
  {
   "cell_type": "markdown",
   "metadata": {
    "id": "5P0cCYFK6RW2"
   },
   "source": [
    "![Run 1](https://storage.googleapis.com/arize-phoenix-assets/assets/gifs/react_prompt.gif)"
   ]
  },
  {
   "cell_type": "markdown",
   "metadata": {
    "id": "Uo8ePBqPozIm"
   },
   "source": [
    "# **ReAct Prompt**"
   ]
  },
  {
   "cell_type": "markdown",
   "metadata": {
    "id": "vCeGdC9q0X96"
   },
   "source": [
    "Next, we iterate on our system prompt using **ReAct Prompting** techniques. We emphasize that the model should think through the problem step-by-step, break it down logically, and then determine which tools to use and in what order. The model is instructed to output the relevant tools along with their corresponding parameters.\n",
    "\n",
    "This approach differs from our initial prompt because it encourages reasoning before action, guiding the model to select the best tools and parameters based on the specific context of the query, rather than simply using predefined actions."
   ]
  },
  {
   "cell_type": "code",
   "execution_count": null,
   "metadata": {},
   "outputs": [],
   "source": [
    "params = CompletionCreateParamsBase(\n",
    "    model=\"gpt-4\",\n",
    "    temperature=0.5,\n",
    "    tools=tools,\n",
    "    tool_choice=\"required\",\n",
    "    messages=[\n",
    "        {\n",
    "            \"role\": \"system\",\n",
    "            \"content\": \"\"\"\n",
    "              You are a helpful customer service agent. Carefully analyze the customer’s question to fully understand their request.\n",
    "              Step 1: Think step-by-step. Identify the key pieces of information needed to answer the question., Consider any dependencies between these pieces of information.\n",
    "              Step 2: Decide which tools to use. Choose up to 3 tools that will best retrieve the required information. If multiple tools are needed, determine the correct order to call them.\n",
    "              Step 3: Output the chosen tools and any relevant parameters.\n",
    "\n",
    "            \"\"\",\n",
    "        },\n",
    "        {\"role\": \"user\", \"content\": \"{{questions}}\"},\n",
    "    ],\n",
    ")\n",
    "\n",
    "prompt_identifier = \"customer-support\"\n",
    "\n",
    "prompt = PhoenixClient().prompts.create(\n",
    "    name=prompt_identifier,\n",
    "    prompt_description=\"Customer Support ReAct Prompt\",\n",
    "    version=PromptVersion.from_openai(params),\n",
    ")"
   ]
  },
  {
   "cell_type": "markdown",
   "metadata": {
    "id": "VII3vGXi1jhR"
   },
   "source": [
    "In the Prompts tab, you will see the updated prompt. As you iterate, you can build a version history."
   ]
  },
  {
   "cell_type": "markdown",
   "metadata": {
    "id": "nU5q4BTo6ioL"
   },
   "source": [
    "![Prompt 2](https://storage.googleapis.com/arize-phoenix-assets/assets/images/react_prompt2.png)"
   ]
  },
  {
   "cell_type": "markdown",
   "metadata": {
    "id": "jSY2oqED1Q4s"
   },
   "source": [
    "Just like above, we define our task, construct the evaluator, and run the experiment."
   ]
  },
  {
   "cell_type": "code",
   "execution_count": null,
   "metadata": {},
   "outputs": [],
   "source": [
    "def prompt_task(input):\n",
    "    client = OpenAI()\n",
    "    resp = client.chat.completions.create(\n",
    "        **prompt.format(variables={\"questions\": input[\"Questions\"]})\n",
    "    )\n",
    "    return resp\n",
    "\n",
    "\n",
    "def evaluate_response(input, output):\n",
    "    response_classifications = llm_classify(\n",
    "        dataframe=pd.DataFrame([{\"question\": input[\"Questions\"], \"tool_calls\": output}]),\n",
    "        template=TOOL_CALLING_PROMPT_TEMPLATE,\n",
    "        model=OpenAIModel(model=\"gpt-3.5-turbo\"),\n",
    "        rails=list(TOOL_CALLING_PROMPT_RAILS_MAP.values()),\n",
    "        provide_explanation=True,\n",
    "    )\n",
    "    score = response_classifications.apply(lambda x: 0 if x[\"label\"] == \"incorrect\" else 1, axis=1)\n",
    "    return score"
   ]
  },
  {
   "cell_type": "markdown",
   "metadata": {
    "id": "OuRM8lmME7JT"
   },
   "source": [
    "### **Experiment**"
   ]
  },
  {
   "cell_type": "code",
   "execution_count": null,
   "metadata": {},
   "outputs": [],
   "source": [
    "initial_experiment = run_experiment(\n",
    "    dataset,\n",
    "    task=prompt_task,\n",
    "    evaluators=[evaluate_response],\n",
    "    experiment_description=\"Customer Support Prompt\",\n",
    "    experiment_name=\"improved-prompt\",\n",
    "    experiment_metadata={\"prompt\": \"prompt_id=\" + prompt.id},\n",
    ")"
   ]
  },
  {
   "cell_type": "markdown",
   "metadata": {
    "id": "IXtf9ceU30VM"
   },
   "source": [
    "With our updated ReAct prompt, we can observe that the **LLM as a Judge Evaluator** rated more outputs as correct. By clicking into the traces, we can gain insights into the reasons behind this improvement. By prompting our LLM to be more thoughtful and purposeful, we can see the reasoning and acting aspects of ReAct.\n",
    "\n",
    "You can explore the evaluators outputs to better understand the improvements in detail.\n",
    "\n",
    "Keep in mind that results may vary due to randomness and the model's non-deterministic behavior.\n"
   ]
  },
  {
   "cell_type": "markdown",
   "metadata": {
    "id": "4kRbCRfm7zcj"
   },
   "source": [
    "![Evaluation](https://storage.googleapis.com/arize-phoenix-assets/assets/gifs/react_prompts2.gif)"
   ]
  },
  {
   "cell_type": "markdown",
   "metadata": {
    "id": "Md0rTGqm5am7"
   },
   "source": [
    "To refine and test these prompts against other datasets, experiment with alternative techniques like Chain of Thought (CoT) prompting to assess how they complement or contrast with ReAct in your specific use cases. With Phoenix, you can seamlessly integrate this process into your workflow using both the TypeScript and Python Clients.\n",
    "\n",
    "From here, you can check out more [examples on Phoenix](https://docs.arize.com/phoenix/notebooks), and if you haven't already, [please give us a star on GitHub!](https://github.com/Arize-ai/phoenix) ⭐️\n"
   ]
  }
 ],
 "metadata": {
  "language_info": {
   "name": "python"
  }
 },
 "nbformat": 4,
 "nbformat_minor": 0
}
