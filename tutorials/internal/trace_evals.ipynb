{
 "cells": [
  {
   "cell_type": "markdown",
   "metadata": {},
   "source": [
    "# A Working Example of the Traces + Evaluations\n"
   ]
  },
  {
   "cell_type": "code",
   "execution_count": null,
   "metadata": {},
   "outputs": [],
   "source": [
    "import phoenix as px\n",
    "\n",
    "ds = px.load_example_traces(\"llama_index_rag\")"
   ]
  },
  {
   "cell_type": "code",
   "execution_count": null,
   "metadata": {},
   "outputs": [],
   "source": [
    "spans_df = ds.to_spans_dataframe().head(5)\n",
    "spans_df.head()"
   ]
  },
  {
   "cell_type": "code",
   "execution_count": null,
   "metadata": {},
   "outputs": [],
   "source": [
    "from phoenix.trace.spans_dataframe_utils import SpansDataframeFormats, to_format\n",
    "\n",
    "# Filter down the traces just to just span_id, input, and output\n",
    "spans_df = to_format(spans_df, SpansDataframeFormats.key_value)\n",
    "spans_df.head()"
   ]
  },
  {
   "cell_type": "code",
   "execution_count": null,
   "metadata": {},
   "outputs": [],
   "source": [
    "import getpass\n",
    "import os\n",
    "\n",
    "import openai\n",
    "\n",
    "if not (openai_api_key := os.getenv(\"OPENAI_API_KEY\")):\n",
    "    openai_api_key = getpass(\"🔑 Enter your OpenAI API key: \")\n",
    "\n",
    "openai.api_key = openai_api_key\n",
    "os.environ[\"OPENAI_API_KEY\"] = openai_api_key"
   ]
  },
  {
   "cell_type": "code",
   "execution_count": null,
   "metadata": {},
   "outputs": [],
   "source": [
    "from phoenix.experimental.evals import (\n",
    "    TOXICITY_PROMPT_RAILS_MAP,\n",
    "    TOXICITY_PROMPT_TEMPLATE_STR,\n",
    "    OpenAIModel,\n",
    "    llm_classify,\n",
    ")\n",
    "\n",
    "eval_classifications_df = llm_classify(\n",
    "    spans_df.rename(columns={\"input\": \"text\"}),\n",
    "    model=OpenAIModel(\"gpt-4\"),\n",
    "    template=TOXICITY_PROMPT_TEMPLATE_STR,\n",
    "    rails=list(TOXICITY_PROMPT_RAILS_MAP.values()),\n",
    "    verbose=True,\n",
    "    provide_explanation=True,\n",
    ")"
   ]
  },
  {
   "cell_type": "code",
   "execution_count": null,
   "metadata": {},
   "outputs": [],
   "source": [
    "eval_classifications_df.head()"
   ]
  },
  {
   "cell_type": "code",
   "execution_count": null,
   "metadata": {},
   "outputs": [],
   "source": [
    "from phoenix.trace.trace_eval_dataset import binary_classifications_to_trace_eval_dataset\n",
    "\n",
    "evaluation_ds = binary_classifications_to_trace_eval_dataset(\n",
    "    eval_name=\"toxicity\",\n",
    "    classifications_df=eval_classifications_df,\n",
    "    spans_df=spans_df,\n",
    "    rails_map=TOXICITY_PROMPT_RAILS_MAP,\n",
    ")\n",
    "\n",
    "ds.append_evaluation(evaluation_ds)"
   ]
  },
  {
   "cell_type": "code",
   "execution_count": null,
   "metadata": {},
   "outputs": [],
   "source": [
    "ds.to_spans_dataframe().head()"
   ]
  }
 ],
 "metadata": {
  "language_info": {
   "name": "python"
  }
 },
 "nbformat": 4,
 "nbformat_minor": 2
}
