{
 "cells": [
  {
   "cell_type": "markdown",
   "metadata": {},
   "source": [
    "# A Working Example of the Traces + Evaluations"
   ]
  },
  {
   "cell_type": "code",
   "execution_count": null,
   "metadata": {},
   "outputs": [],
   "source": [
    "import phoenix as px\n",
    "\n",
    "ds = px.load_example_traces(\"llama_index_rag\")"
   ]
  },
  {
   "cell_type": "code",
   "execution_count": null,
   "metadata": {},
   "outputs": [],
   "source": [
    "spans_df = ds.to_spans_dataframe()\n",
    "spans_df.head()"
   ]
  },
  {
   "cell_type": "code",
   "execution_count": null,
   "metadata": {},
   "outputs": [],
   "source": [
    "from phoenix.trace.spans_dataframe_utils import SpansDataframeFormats, to_format\n",
    "\n",
    "# Filter down the traces just to just the root spans\n",
    "\n",
    "spans_df = to_format(spans_df, SpansDataframeFormats.key_value)\n",
    "spans_df.head()"
   ]
  },
  {
   "cell_type": "code",
   "execution_count": null,
   "metadata": {},
   "outputs": [],
   "source": [
    "import getpass\n",
    "import os\n",
    "\n",
    "import openai\n",
    "\n",
    "if not (openai_api_key := os.getenv(\"OPENAI_API_KEY\")):\n",
    "    openai_api_key = getpass(\"🔑 Enter your OpenAI API key: \")\n",
    "openai.api_key = openai_api_key\n",
    "os.environ[\"OPENAI_API_KEY\"] = openai_api_key"
   ]
  },
  {
   "cell_type": "code",
   "execution_count": null,
   "metadata": {},
   "outputs": [],
   "source": [
    "from phoenix.experimental.evals import (\n",
    "    TOXICITY_PROMPT_RAILS_MAP,\n",
    "    TOXICITY_PROMPT_TEMPLATE_STR,\n",
    "    OpenAIModel,\n",
    "    llm_classify,\n",
    ")\n",
    "\n",
    "evaluation_results = llm_classify(\n",
    "    spans_df.rename(columns={\"input\": \"text\"}),\n",
    "    model=OpenAIModel(\"gpt-4\"),\n",
    "    template=TOXICITY_PROMPT_TEMPLATE_STR,\n",
    "    rails=list(TOXICITY_PROMPT_RAILS_MAP.values()),\n",
    "    verbose=True,\n",
    "    provide_explanation=True,\n",
    ")"
   ]
  },
  {
   "cell_type": "code",
   "execution_count": null,
   "metadata": {},
   "outputs": [],
   "source": [
    "evaluation_results.head()"
   ]
  },
  {
   "cell_type": "code",
   "execution_count": null,
   "metadata": {},
   "outputs": [],
   "source": [
    "# Convert the labels to a 0 or 1 depending on if the span is toxic or not\n",
    "evaluation_results[\"label\"] = evaluation_results[\"label\"].apply(lambda x: 1 if x == \"toxic\" else 0)"
   ]
  },
  {
   "cell_type": "code",
   "execution_count": null,
   "metadata": {},
   "outputs": [],
   "source": [
    "evaluation_results = evaluation_results.rename(columns={\n",
    "    \"label\": \"eval.toxicity\",\n",
    "    \"explanation\": \"eval.toxicity.explanation\",\n",
    "})"
   ]
  },
  {
   "cell_type": "code",
   "execution_count": null,
   "metadata": {},
   "outputs": [],
   "source": [
    "evaluation_results.head()"
   ]
  },
  {
   "cell_type": "code",
   "execution_count": null,
   "metadata": {},
   "outputs": [],
   "source": [
    "from phoenix.trace.spans_dataframe_utils import to_trace_evaluations\n",
    "\n",
    "# We need to now associate the evaluation results with the original spans\n",
    "# We can do this by index\n",
    "evaluations = to_trace_evaluations(spans_df, evaluation_results)\n",
    "# Drop the columns that are not needed\n",
    "evaluations.head()"
   ]
  }
 ],
 "metadata": {
  "language_info": {
   "name": "python"
  }
 },
 "nbformat": 4,
 "nbformat_minor": 2
}
