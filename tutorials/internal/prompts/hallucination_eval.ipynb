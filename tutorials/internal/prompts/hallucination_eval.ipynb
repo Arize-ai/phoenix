{
 "cells": [
  {
   "cell_type": "code",
   "execution_count": null,
   "id": "initial_id",
   "metadata": {},
   "outputs": [],
   "source": [
    "import json\n",
    "from pathlib import Path\n",
    "from secrets import token_hex\n",
    "\n",
    "import anthropic\n",
    "import groq\n",
    "import nest_asyncio\n",
    "import openai\n",
    "import pandas as pd\n",
    "from dotenv import load_dotenv\n",
    "from openai import pydantic_function_tool\n",
    "from openai.types.chat import ChatCompletionToolParam\n",
    "from openai.types.chat.completion_create_params import CompletionCreateParamsBase\n",
    "from openinference.instrumentation.anthropic import AnthropicInstrumentor\n",
    "from openinference.instrumentation.groq import GroqInstrumentor\n",
    "from openinference.instrumentation.openai import OpenAIInstrumentor\n",
    "from pydantic import BaseModel\n",
    "from sklearn.metrics import accuracy_score\n",
    "\n",
    "import phoenix as px\n",
    "from phoenix.client import Client\n",
    "from phoenix.client.types import PromptVersion\n",
    "from phoenix.experiments import run_experiment\n",
    "from phoenix.otel import register\n",
    "\n",
    "nest_asyncio.apply()\n",
    "if (env_file := Path.home() / \".env\").exists():\n",
    "    load_dotenv(env_file)"
   ]
  },
  {
   "cell_type": "code",
   "execution_count": null,
   "id": "e7662ee0",
   "metadata": {},
   "outputs": [],
   "source": [
    "tracer_provider = register()\n",
    "OpenAIInstrumentor().instrument(tracer_provider=tracer_provider)\n",
    "AnthropicInstrumentor().instrument(tracer_provider=tracer_provider)\n",
    "GroqInstrumentor().instrument(tracer_provider=tracer_provider)"
   ]
  },
  {
   "cell_type": "code",
   "execution_count": null,
   "id": "1ef4c16985598a41",
   "metadata": {},
   "outputs": [],
   "source": [
    "url = \"https://raw.githubusercontent.com/RUCAIBox/HaluEval/refs/heads/main/data/qa_data.json\"\n",
    "qa = pd.read_json(url, lines=True)\n",
    "qa.sample(5).iloc[:, ::-1]"
   ]
  },
  {
   "cell_type": "code",
   "execution_count": null,
   "id": "a25ad645",
   "metadata": {},
   "outputs": [],
   "source": [
    "SAMPLE_SIZE = 1\n",
    "\n",
    "k = qa.iloc[:, :2]\n",
    "df = pd.concat(\n",
    "    [\n",
    "        pd.concat([k, qa.iloc[:, 2].rename(\"answer\")], axis=1).assign(true_label=\"factual\"),\n",
    "        pd.concat([k, qa.iloc[:, 3].rename(\"answer\")], axis=1).assign(true_label=\"hallucinated\"),\n",
    "    ]\n",
    ")\n",
    "df = df.sample(SAMPLE_SIZE, random_state=42).reset_index(drop=True).iloc[:, ::-1]\n",
    "df"
   ]
  },
  {
   "cell_type": "markdown",
   "id": "d0ea3a27",
   "metadata": {},
   "source": [
    "# Upload Dataset"
   ]
  },
  {
   "cell_type": "code",
   "execution_count": null,
   "id": "1cdbed73",
   "metadata": {},
   "outputs": [],
   "source": [
    "dataset_name = f\"hallu-eval-{token_hex(4)}\"  # adding a random suffix for demo purposes\n",
    "\n",
    "ds = px.Client().upload_dataset(\n",
    "    dataframe=df,\n",
    "    dataset_name=dataset_name,\n",
    "    input_keys=[\"question\", \"knowledge\", \"answer\"],\n",
    "    output_keys=[\"true_label\"],\n",
    ")"
   ]
  },
  {
   "cell_type": "markdown",
   "id": "425ba69734ac6874",
   "metadata": {},
   "source": [
    "# Use tool calling to constraint the model outputs"
   ]
  },
  {
   "cell_type": "code",
   "execution_count": null,
   "id": "4173944282267101",
   "metadata": {},
   "outputs": [],
   "source": [
    "class HallucinationEvaluationResult(BaseModel):\n",
    "    label: str\n",
    "\n",
    "\n",
    "tool: ChatCompletionToolParam = json.loads(\n",
    "    json.dumps(pydantic_function_tool(HallucinationEvaluationResult))\n",
    ")"
   ]
  },
  {
   "cell_type": "markdown",
   "id": "eed1a954b3859891",
   "metadata": {},
   "source": [
    "# Create Prompt\n"
   ]
  },
  {
   "cell_type": "code",
   "execution_count": null,
   "id": "e7c810e0b6cdf90",
   "metadata": {},
   "outputs": [],
   "source": [
    "prompt_name = f\"hallu-eval-{token_hex(4)}\"  # adding a random suffix for demo purposes"
   ]
  },
  {
   "cell_type": "markdown",
   "id": "b16fb9c96b819d4e",
   "metadata": {},
   "source": [
    "Send this [prompt](https://github.com/Arize-ai/phoenix/blob/390cfaa42c5b2c28d3f9f83fbf7c694b8c2beeff/packages/phoenix-evals/src/phoenix/evals/default_templates.py#L56) to Phoenix."
   ]
  },
  {
   "cell_type": "code",
   "execution_count": null,
   "id": "af22e707bedaff64",
   "metadata": {},
   "outputs": [],
   "source": [
    "content = \"\"\"\\\n",
    "In this task, you will be presented with a query, a reference text and an answer. The answer is\n",
    "generated to the question based on the reference text. The answer may contain false information. You\n",
    "must use the reference text to determine if the answer to the question contains false information,\n",
    "if the answer is a hallucination of facts. Your objective is to determine whether the answer text\n",
    "contains factual information and is not a hallucination. A 'hallucination' refers to\n",
    "an answer that is not based on the reference text or assumes information that is not available in\n",
    "the reference text. Your response should be a single word: either \"factual\" or \"hallucinated\", and\n",
    "it should not include any other text or characters. \"hallucinated\" indicates that the answer\n",
    "provides factually inaccurate information to the query based on the reference text. \"factual\"\n",
    "indicates that the answer to the question is correct relative to the reference text, and does not\n",
    "contain made up information. Please read the query and reference text carefully before determining\n",
    "your response.\n",
    "\n",
    "[BEGIN DATA]\n",
    "************\n",
    "[Query]: {{ question }}\n",
    "************\n",
    "[Reference text]: {{ knowledge }}\n",
    "************\n",
    "[Answer]: {{ answer }}\n",
    "************\n",
    "[END DATA]\n",
    "\n",
    "Is the answer above factual or hallucinated based on the query and reference text?\n",
    "\"\"\"\n",
    "_ = Client().prompts.create(\n",
    "    name=prompt_name,\n",
    "    prompt_description=\"Determining if an answer is factual or hallucinated based on a query and reference text\",\n",
    "    version=PromptVersion.from_openai(\n",
    "        CompletionCreateParamsBase(\n",
    "            messages=[{\"role\": \"user\", \"content\": content}],\n",
    "            model_name=\"gpt-4o-mini\",\n",
    "            tools=[tool],\n",
    "            tool_choice=\"required\",\n",
    "        )\n",
    "    ),\n",
    ")"
   ]
  },
  {
   "cell_type": "code",
   "execution_count": null,
   "id": "61c70c45",
   "metadata": {},
   "outputs": [],
   "source": [
    "from enum import Enum\n",
    "\n",
    "from openai.lib._parsing import type_to_response_format_param\n",
    "from openai.types.chat.completion_create_params import CompletionCreateParamsBase\n",
    "from pydantic import BaseModel, create_model\n",
    "\n",
    "\n",
    "class _UIType(str, Enum):\n",
    "    div = \"div\"\n",
    "    button = \"button\"\n",
    "    header = \"header\"\n",
    "    section = \"section\"\n",
    "    field = \"field\"\n",
    "    form = \"form\"\n",
    "\n",
    "\n",
    "class _Attribute(BaseModel):\n",
    "    name: str\n",
    "    value: str\n",
    "\n",
    "\n",
    "class _UI(BaseModel):\n",
    "    type: _UIType\n",
    "    label: str\n",
    "    children: list[\"_UI\"]\n",
    "    attributes: list[\"_Attribute\"]\n",
    "\n",
    "\n",
    "_UI.model_rebuild()\n",
    "\n",
    "_ = px.Client().prompts.create(\n",
    "    name=\"ui-generator\",\n",
    "    version=PromptVersion.from_openai(\n",
    "        CompletionCreateParamsBase(\n",
    "            messages=[{\"role\": \"user\", \"content\": \"Generate form for { feature }\"}],\n",
    "            model=\"gpt-4o-mini\",\n",
    "            response_format=type_to_response_format_param(create_model(\"Response\", ui=(_UI, ...))),\n",
    "        ),\n",
    "        template_format=\"FSTRING\",\n",
    "    ),\n",
    ")"
   ]
  },
  {
   "cell_type": "code",
   "execution_count": null,
   "id": "6c2caa69",
   "metadata": {},
   "outputs": [],
   "source": []
  },
  {
   "cell_type": "markdown",
   "id": "88dc3cc5",
   "metadata": {},
   "source": [
    "# Get Prompt"
   ]
  },
  {
   "cell_type": "code",
   "execution_count": null,
   "id": "593ec84e",
   "metadata": {},
   "outputs": [],
   "source": [
    "prompt = Client().prompts.get(prompt_identifier=prompt_name)\n",
    "prompt"
   ]
  },
  {
   "cell_type": "markdown",
   "id": "cb0e0cba",
   "metadata": {},
   "source": [
    "# GPT 4o Mini via OpenAI"
   ]
  },
  {
   "cell_type": "code",
   "execution_count": null,
   "id": "d0c38fc6",
   "metadata": {},
   "outputs": [],
   "source": [
    "def openai_eval(input):\n",
    "    formatted_prompt = prompt.format(variables=dict(input))\n",
    "    response = openai.OpenAI().chat.completions.create(**formatted_prompt)\n",
    "    return json.loads(response.choices[0].message.tool_calls[0].function.arguments)"
   ]
  },
  {
   "cell_type": "markdown",
   "id": "4b137880",
   "metadata": {},
   "source": [
    "### DataFrame Apply"
   ]
  },
  {
   "cell_type": "code",
   "execution_count": null,
   "id": "bd9bdca3",
   "metadata": {},
   "outputs": [],
   "source": [
    "gpt_result = pd.concat([pd.json_normalize(df.apply(openai_eval, axis=1)), df.true_label], axis=1)\n",
    "print(f\"Accuracy: {accuracy_score(gpt_result.true_label, gpt_result.label) * 100:.0f}%\")\n",
    "gpt_result"
   ]
  },
  {
   "cell_type": "markdown",
   "id": "0dd97ebe",
   "metadata": {},
   "source": [
    "# Run Experiment"
   ]
  },
  {
   "cell_type": "code",
   "execution_count": null,
   "id": "ef97ad99",
   "metadata": {},
   "outputs": [],
   "source": [
    "run_experiment(ds, openai_eval)"
   ]
  },
  {
   "cell_type": "markdown",
   "id": "6a85e29f2be08a64",
   "metadata": {},
   "source": [
    "# Claude Haiku via Anthropic"
   ]
  },
  {
   "cell_type": "code",
   "execution_count": null,
   "id": "9040e9786f6376f4",
   "metadata": {},
   "outputs": [],
   "source": [
    "def anthropic_eval(input, model=\"claude-3-5-haiku-latest\"):\n",
    "    formatted_prompt = prompt.format(variables=dict(input), sdk=\"anthropic\")\n",
    "    response = anthropic.Anthropic().messages.create(**{**formatted_prompt, \"model\": model})\n",
    "    for block in response.content:\n",
    "        if block.type == \"tool_use\":\n",
    "            return block.input\n",
    "    return {\"label\": None}"
   ]
  },
  {
   "cell_type": "markdown",
   "id": "ef67e42a67bb5462",
   "metadata": {},
   "source": [
    "### Run Experiment"
   ]
  },
  {
   "cell_type": "code",
   "execution_count": null,
   "id": "63b19b60c8a04ed2",
   "metadata": {},
   "outputs": [],
   "source": [
    "exp = run_experiment(ds, anthropic_eval)"
   ]
  },
  {
   "cell_type": "markdown",
   "id": "2634281b",
   "metadata": {},
   "source": [
    "# DeepSeek via Groq"
   ]
  },
  {
   "cell_type": "code",
   "execution_count": null,
   "id": "afc4b171",
   "metadata": {},
   "outputs": [],
   "source": [
    "async def groq_eval(input, model=\"deepseek-r1-distill-llama-70b\"):\n",
    "    formatted_prompt = prompt.format(variables=dict(input))\n",
    "    response = await groq.AsyncGroq().chat.completions.create(\n",
    "        **{**formatted_prompt, \"model\": model}\n",
    "    )\n",
    "    return json.loads(response.choices[0].message.tool_calls[0].function.arguments)"
   ]
  },
  {
   "cell_type": "markdown",
   "id": "cb856e29",
   "metadata": {},
   "source": [
    "### Run Experiment"
   ]
  },
  {
   "cell_type": "code",
   "execution_count": null,
   "id": "ff731996",
   "metadata": {},
   "outputs": [],
   "source": [
    "exp = run_experiment(ds, groq_eval)"
   ]
  },
  {
   "cell_type": "markdown",
   "id": "ea96b80b",
   "metadata": {},
   "source": [
    "### Extract the Last Word to Calculate Accuracy"
   ]
  },
  {
   "cell_type": "code",
   "execution_count": null,
   "id": "c66d9f03",
   "metadata": {},
   "outputs": [],
   "source": [
    "labels = pd.json_normalize(exp.as_dataframe().output).label.str.split(\"\\n\").str[-1]\n",
    "result = pd.concat([labels, df.true_label], axis=1)\n",
    "print(f\"Accuracy: {accuracy_score(result.true_label, result.label) * 100:.0f}%\")\n",
    "result"
   ]
  },
  {
   "cell_type": "code",
   "execution_count": null,
   "id": "b24e8ee1",
   "metadata": {},
   "outputs": [],
   "source": [
    "pd.concat([gpt_result.label.rename(\"gpt\"), result.rename({\"label\": \"deepseek\"}, axis=1)], axis=1)"
   ]
  }
 ],
 "metadata": {
  "language_info": {
   "name": "python"
  }
 },
 "nbformat": 4,
 "nbformat_minor": 5
}
