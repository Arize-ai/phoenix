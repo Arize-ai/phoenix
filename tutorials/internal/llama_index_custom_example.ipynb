{
 "cells": [
  {
   "cell_type": "code",
   "execution_count": null,
   "metadata": {},
   "outputs": [],
   "source": [
    "import phoenix as px\n",
    "from llama_index import Document, ServiceContext, SummaryIndex\n",
    "from llama_index.callbacks import CallbackManager\n",
    "from llama_index.indices.list import SummaryIndexRetriever\n",
    "from llama_index.llms import OpenAI\n",
    "from llama_index.query_engine import RetrieverQueryEngine\n",
    "from llama_index.response_synthesizers import CompactAndRefine\n",
    "from phoenix.trace.llama_index import (\n",
    "    OpenInferenceTraceCallbackHandler,\n",
    ")\n",
    "from pydantic import BaseModel, Field\n",
    "\n",
    "session = px.launch_app()\n",
    "\n",
    "callback_handler = OpenInferenceTraceCallbackHandler()\n",
    "cb_manager = CallbackManager(handlers=[callback_handler])\n",
    "\n",
    "service_ctx = ServiceContext.from_defaults(\n",
    "    llm=(OpenAI(model=\"gpt-3.5-turbo-16k\", max_retries=10, callback_manager=cb_manager)),\n",
    "    callback_manager=cb_manager,\n",
    ")\n",
    "\n",
    "\n",
    "class Person(BaseModel):\n",
    "    \"\"\"A class representing a person mentioned in the text\"\"\"\n",
    "\n",
    "    name: str = Field(description=\"The person's name\")\n",
    "    age: int | None = Field(description=\"The person's age\")\n",
    "\n",
    "\n",
    "class People(BaseModel):\n",
    "    \"\"\"A class representing a collection of unique individuals\"\"\"\n",
    "\n",
    "    people: list[Person] = Field(description=\"A list of all unique people mentioned in a text.\")\n",
    "\n",
    "\n",
    "from textwrap import dedent\n",
    "\n",
    "doc = Document(\n",
    "    text=dedent(\n",
    "        \"\"\"\n",
    "        Bobby Shaftoe was only 16 when he went to sea as a deckhand. \\\n",
    "        He fell victim to the scurvy after just 2 months. \\\n",
    "        Unfazed, Captain Jack discharged his duties with extreme prejudice. \\\n",
    "        \"\"\"\n",
    "    )\n",
    ")\n",
    "\n",
    "response_synth = CompactAndRefine(\n",
    "    service_context=service_ctx,\n",
    ")\n",
    "\n",
    "query_eng = RetrieverQueryEngine(\n",
    "    retriever=SummaryIndexRetriever(index=SummaryIndex.from_documents([doc])),\n",
    "    response_synthesizer=response_synth,\n",
    "    callback_manager=cb_manager,\n",
    ")\n",
    "\n",
    "query_eng.query(\"Who is mentioned in this contrived, minimal 'story'?\")\n",
    "\n",
    "df = session.get_spans_dataframe()"
   ]
  },
  {
   "cell_type": "code",
   "execution_count": null,
   "metadata": {},
   "outputs": [],
   "source": [
    "df.count()"
   ]
  }
 ],
 "metadata": {
  "language_info": {
   "name": "python"
  }
 },
 "nbformat": 4,
 "nbformat_minor": 2
}
