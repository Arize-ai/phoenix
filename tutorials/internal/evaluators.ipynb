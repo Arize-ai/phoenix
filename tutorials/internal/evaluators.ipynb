{
 "cells": [
  {
   "cell_type": "markdown",
   "metadata": {},
   "source": [
    "## Evaluators\n",
    "\n",
    "This notebook tests the ergonomics of `LLMEvaluator` and `run_evals`."
   ]
  },
  {
   "cell_type": "code",
   "execution_count": null,
   "metadata": {},
   "outputs": [],
   "source": [
    "import nest_asyncio\n",
    "import pandas as pd\n",
    "from phoenix.experimental.evals import (\n",
    "    HALLUCINATION_PROMPT_TEMPLATE,\n",
    "    RAG_RELEVANCY_PROMPT_TEMPLATE,\n",
    "    LLMEvaluator,\n",
    "    OpenAIModel,\n",
    ")\n",
    "from phoenix.experimental.evals.functions.classify import run_evals\n",
    "\n",
    "nest_asyncio.apply()"
   ]
  },
  {
   "cell_type": "code",
   "execution_count": null,
   "metadata": {},
   "outputs": [],
   "source": [
    "model = OpenAIModel(\"gpt-4\")\n",
    "relevance_evaluator = LLMEvaluator(model, RAG_RELEVANCY_PROMPT_TEMPLATE)\n",
    "hallucination_evaluator = LLMEvaluator(model, HALLUCINATION_PROMPT_TEMPLATE)"
   ]
  },
  {
   "cell_type": "code",
   "execution_count": null,
   "metadata": {},
   "outputs": [],
   "source": [
    "dataframe = pd.DataFrame(\n",
    "    [\n",
    "        {\n",
    "            \"input\": \"What is the capital of California?\",\n",
    "            \"reference\": \"Sacramento is the capital of California.\",\n",
    "            \"output\": \"Sacramento\",\n",
    "        },\n",
    "        {\n",
    "            \"input\": \"What is the capital of California?\",\n",
    "            \"reference\": \"Carson City is the Capital of Nevada.\",\n",
    "            \"output\": \"Carson City\",\n",
    "        },\n",
    "    ]\n",
    ")"
   ]
  },
  {
   "cell_type": "markdown",
   "metadata": {},
   "source": [
    "Run evaluators over dataframe without explanations."
   ]
  },
  {
   "cell_type": "code",
   "execution_count": null,
   "metadata": {},
   "outputs": [],
   "source": [
    "eval_dfs = run_evals(dataframe, [relevance_evaluator, hallucination_evaluator])"
   ]
  },
  {
   "cell_type": "code",
   "execution_count": null,
   "metadata": {},
   "outputs": [],
   "source": [
    "eval_dfs[0]"
   ]
  },
  {
   "cell_type": "code",
   "execution_count": null,
   "metadata": {},
   "outputs": [],
   "source": [
    "eval_dfs[1]"
   ]
  },
  {
   "cell_type": "markdown",
   "metadata": {},
   "source": [
    "Run evaluators over dataframe with explanations."
   ]
  },
  {
   "cell_type": "code",
   "execution_count": null,
   "metadata": {},
   "outputs": [],
   "source": [
    "eval_dfs = run_evals(\n",
    "    dataframe, [relevance_evaluator, hallucination_evaluator], provide_explanation=True\n",
    ")"
   ]
  },
  {
   "cell_type": "code",
   "execution_count": null,
   "metadata": {},
   "outputs": [],
   "source": [
    "eval_dfs[0]"
   ]
  },
  {
   "cell_type": "code",
   "execution_count": null,
   "metadata": {},
   "outputs": [],
   "source": [
    "eval_dfs[1]"
   ]
  }
 ],
 "metadata": {
  "language_info": {
   "name": "python"
  }
 },
 "nbformat": 4,
 "nbformat_minor": 2
}
