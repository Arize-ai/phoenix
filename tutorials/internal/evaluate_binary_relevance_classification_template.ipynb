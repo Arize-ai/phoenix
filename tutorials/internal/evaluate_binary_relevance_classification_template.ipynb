{
 "cells": [
  {
   "cell_type": "markdown",
   "metadata": {},
   "source": [
    "<center>\n",
    "    <p style=\"text-align:center\">\n",
    "        <img alt=\"phoenix logo\" src=\"https://storage.googleapis.com/arize-assets/phoenix/assets/phoenix-logo-light.svg\" width=\"200\"/>\n",
    "        <br>\n",
    "        <a href=\"https://docs.arize.com/phoenix/\">Docs</a>\n",
    "        |\n",
    "        <a href=\"https://github.com/Arize-ai/phoenix\">GitHub</a>\n",
    "        |\n",
    "        <a href=\"https://join.slack.com/t/arize-ai/shared_invite/zt-1px8dcmlf-fmThhDFD_V_48oU7ALan4Q\">Community</a>\n",
    "    </p>\n",
    "</center>\n",
    "<h1 align=\"center\">Evaluating Evals: Relevance Classification</h1>\n",
    "\n",
    "As part of \n",
    "\n",
    "The purpose of this notebook is:\n",
    "- to evaluate the performance of Arize's approach to relevance classification against information retrieval datasets with ground-truth relevance labels,\n",
    "- to provide an experimental framework for users to iterate and improve on Arize's default classification template.\n"
   ]
  },
  {
   "cell_type": "code",
   "execution_count": null,
   "metadata": {},
   "outputs": [],
   "source": [
    "# FIXME: Remove this cell after publishing Phoenix\n",
    "!npm install -g -s n\n",
    "!n latest\n",
    "!npm install -g -s npm@latest\n",
    "!pip install -qqq git+https://github.com/Arize-ai/phoenix.git@tracing-demo-launch\n",
    "!pip install \"arize-phoenix[experimental]\""
   ]
  },
  {
   "cell_type": "code",
   "execution_count": null,
   "metadata": {},
   "outputs": [],
   "source": [
    "!pip install -qq scikit-learn matplotlib ipython"
   ]
  },
  {
   "cell_type": "code",
   "execution_count": null,
   "metadata": {},
   "outputs": [],
   "source": [
    "import matplotlib.pyplot as plt\n",
    "import pandas as pd\n",
    "from IPython.display import display\n",
    "from phoenix.experimental.evals import (\n",
    "    RAG_RELEVANCY_PROMPT_TEMPLATE_STR,\n",
    "    OpenAiModel,\n",
    "    download_benchmark_dataset,\n",
    "    llm_eval_binary,\n",
    ")\n",
    "from sklearn.metrics import (\n",
    "    ConfusionMatrixDisplay,\n",
    "    accuracy_score,\n",
    "    confusion_matrix,\n",
    "    f1_score,\n",
    "    precision_recall_fscore_support,\n",
    "    precision_score,\n",
    "    recall_score,\n",
    ")\n"
   ]
  },
  {
   "cell_type": "markdown",
   "metadata": {},
   "source": [
    "## Download Benchmark Dataset\n",
    "\n",
    "We'll evaluate the combination of LLM model, configuration, and evaluation prompt template against benchmark datasets of queries and retrieved documents with ground-truth relevance labels. Currently supported datasets include:\n",
    "\n",
    "- \"wiki_qa-train\"\n",
    "- \"ms_marco-v1.1-train\""
   ]
  },
  {
   "cell_type": "code",
   "execution_count": null,
   "metadata": {},
   "outputs": [],
   "source": [
    "dataset_name = \"wiki_qa-train\"\n",
    "df = download_benchmark_dataset(\n",
    "    task=\"binary-relevance-classification\", dataset_name=\"wiki_qa-train\"\n",
    ")\n",
    "df.head()\n"
   ]
  },
  {
   "cell_type": "markdown",
   "metadata": {},
   "source": [
    "## Display Binary Relevance Classification Template\n",
    "\n",
    "View the default template used to classify relevance. You can tweak this template and evaluate its performance relative to the default."
   ]
  },
  {
   "cell_type": "code",
   "execution_count": null,
   "metadata": {},
   "outputs": [],
   "source": [
    "print(RAG_RELEVANCY_PROMPT_TEMPLATE_STR)\n"
   ]
  },
  {
   "cell_type": "markdown",
   "metadata": {},
   "source": [
    "The template variables are:\n",
    "\n",
    "- query_text\n",
    "- document_text\n",
    "- relevant"
   ]
  },
  {
   "cell_type": "markdown",
   "metadata": {},
   "source": [
    "## Configure an LLM\n",
    "\n",
    "Configure your LLM."
   ]
  },
  {
   "cell_type": "code",
   "execution_count": null,
   "metadata": {},
   "outputs": [],
   "source": [
    "model = OpenAiModel(\n",
    "    model_name=\"gpt-4\",\n",
    "    temperature=0.0,\n",
    ")"
   ]
  },
  {
   "cell_type": "markdown",
   "metadata": {},
   "source": [
    "## Run Relevance Classifications\n",
    "\n",
    "Run relevance classifications against a subset of the data."
   ]
  },
  {
   "cell_type": "code",
   "execution_count": null,
   "metadata": {},
   "outputs": [],
   "source": [
    "df = df.sample(n=100).reset_index(drop=True)\n",
    "df = df.rename(\n",
    "    columns={\n",
    "        \"query_text\": \"query\",\n",
    "        \"document_text\": \"reference\",\n",
    "    },\n",
    ")"
   ]
  },
  {
   "cell_type": "code",
   "execution_count": null,
   "metadata": {},
   "outputs": [],
   "source": [
    "res = llm_eval_binary(\n",
    "    df=df, template=RAG_RELEVANCY_PROMPT_TEMPLATE_STR, model=model, rails=[\"relevant\", \"irrelevant\"]\n",
    ")\n"
   ]
  },
  {
   "cell_type": "markdown",
   "metadata": {},
   "source": [
    "## Evaluate Predictions"
   ]
  },
  {
   "cell_type": "code",
   "execution_count": null,
   "metadata": {},
   "outputs": [],
   "source": [
    "df[\"eval_relevance\"] = res\n"
   ]
  },
  {
   "cell_type": "code",
   "execution_count": null,
   "metadata": {},
   "outputs": [],
   "source": [
    "df[\"relevant\"].value_counts()\n"
   ]
  },
  {
   "cell_type": "code",
   "execution_count": null,
   "metadata": {},
   "outputs": [],
   "source": [
    "df[\"eval_relevance\"].value_counts()\n"
   ]
  },
  {
   "cell_type": "code",
   "execution_count": null,
   "metadata": {},
   "outputs": [],
   "source": [
    "y_true = df[\"relevant\"].map({True: \"relevant\", False: \"irrelevant\"})\n",
    "y_pred = df[\"eval_relevance\"]\n"
   ]
  },
  {
   "cell_type": "code",
   "execution_count": null,
   "metadata": {},
   "outputs": [],
   "source": [
    "# Calculate F1 score\n",
    "f1 = f1_score(y_true, y_pred, pos_label=\"relevant\")\n",
    "print(\"F1 Score:\", f1)\n",
    "\n",
    "# Calculate Precision\n",
    "precision = precision_score(y_true, y_pred, pos_label=\"relevant\")\n",
    "print(\"Precision:\", precision)\n",
    "\n",
    "# Calculate Recall\n",
    "recall = recall_score(y_true, y_pred, pos_label=\"relevant\")\n",
    "print(\"Recall:\", recall)\n",
    "\n",
    "# Calculate Accuracy\n",
    "accuracy = accuracy_score(y_true, y_pred)\n",
    "print(\"Accuracy:\", accuracy)\n",
    "\n",
    "# Calculate and print the Confusion Matrix\n",
    "conf_matrix = confusion_matrix(y_true, y_pred)\n",
    "print(\"Confusion Matrix:\")\n",
    "print(conf_matrix)\n"
   ]
  },
  {
   "cell_type": "code",
   "execution_count": null,
   "metadata": {},
   "outputs": [],
   "source": [
    "true_labels = []  # Your actual labels\n",
    "predicted_labels = []  # Your predicted labels\n",
    "mapping = {0: \"Class_0\", 1: \"Class_1\"}  # Your class mapping\n",
    "\n",
    "# Compute Overall Accuracy\n",
    "accuracy = accuracy_score(true_labels, predicted_labels)\n",
    "# Compute Per-Class Precision, Recall, F1 Score, Support\n",
    "precision, recall, f1, support = precision_recall_fscore_support(true_labels, predicted_labels)\n",
    "\n",
    "# Display the results in a table\n",
    "metrics_df = pd.DataFrame(\n",
    "    {\n",
    "        \"Class\": [\"Overall\", mapping[0], mapping[1]],\n",
    "        \"Accuracy\": [accuracy, \"N/A\", \"N/A\"],\n",
    "        \"Precision\": [\"N/A\", precision[1], precision[0]],\n",
    "        \"Recall\": [\"N/A\", recall[1], recall[0]],\n",
    "        \"F1\": [\"N/A\", f1[1], f1[0]],\n",
    "        \"Support\": [\"N/A\", int(support[1]), int(support[0])],\n",
    "    }\n",
    ")\n",
    "\n",
    "# Display the DataFrame\n",
    "display(metrics_df)\n",
    "\n",
    "# Compute confusion matrix\n",
    "cm = confusion_matrix(true_labels, predicted_labels, labels=[mapping[0], mapping[1]])\n",
    "# Plot the confusion matrix\n",
    "disp = ConfusionMatrixDisplay(cm, display_labels=[mapping[0], mapping[1]])\n",
    "disp.plot()\n",
    "\n",
    "plt.title(\"Confusion Matrix\")\n",
    "plt.xlabel(\"Predicted\")\n",
    "plt.ylabel(\"Actual\")\n",
    "plt.show()\n"
   ]
  }
 ],
 "metadata": {
  "kernelspec": {
   "display_name": "llmapps",
   "language": "python",
   "name": "python3"
  },
  "language_info": {
   "codemirror_mode": {
    "name": "ipython",
    "version": 3
   },
   "file_extension": ".py",
   "mimetype": "text/x-python",
   "name": "python",
   "nbconvert_exporter": "python",
   "pygments_lexer": "ipython3",
   "version": "3.10.12"
  }
 },
 "nbformat": 4,
 "nbformat_minor": 4
}
