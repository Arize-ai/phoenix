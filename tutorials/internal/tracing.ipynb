{
 "cells": [
  {
   "cell_type": "code",
   "execution_count": 1,
   "metadata": {},
   "outputs": [
    {
     "name": "stderr",
     "output_type": "stream",
     "text": [
      "/Users/mikeldking/.virtualenvs/phoenix/lib/python3.10/site-packages/tqdm/auto.py:21: TqdmWarning: IProgress not found. Please update jupyter and ipywidgets. See https://ipywidgets.readthedocs.io/en/stable/user_install.html\n",
      "  from .autonotebook import tqdm as notebook_tqdm\n"
     ]
    }
   ],
   "source": [
    "import phoenix as px"
   ]
  },
  {
   "cell_type": "code",
   "execution_count": 6,
   "metadata": {},
   "outputs": [
    {
     "data": {
      "text/plain": [
       "[{'name': 'event_0',\n",
       "  'message': 'message_0',\n",
       "  'timestamp': '2023-08-16T12:48:25.604239'},\n",
       " {'name': 'event_1',\n",
       "  'message': 'message_1',\n",
       "  'timestamp': '2023-08-16T12:48:26.604239'},\n",
       " {'name': 'event_2',\n",
       "  'message': 'message_2',\n",
       "  'timestamp': '2023-08-16T12:48:27.604239'},\n",
       " {'name': 'event_3',\n",
       "  'message': 'message_3',\n",
       "  'timestamp': '2023-08-16T12:48:28.604239'}]"
      ]
     },
     "execution_count": 6,
     "metadata": {},
     "output_type": "execute_result"
    }
   ],
   "source": [
    "traces_ds = px.load_example_traces(\"random\")\n",
    "\n",
    "traces_ds.dataframe[\"events\"][0]"
   ]
  }
 ],
 "metadata": {
  "kernelspec": {
   "display_name": "phoenix",
   "language": "python",
   "name": "python3"
  },
  "language_info": {
   "codemirror_mode": {
    "name": "ipython",
    "version": 3
   },
   "file_extension": ".py",
   "mimetype": "text/x-python",
   "name": "python",
   "nbconvert_exporter": "python",
   "pygments_lexer": "ipython3",
   "version": "3.10.3"
  }
 },
 "nbformat": 4,
 "nbformat_minor": 2
}
