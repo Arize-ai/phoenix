{
 "cells": [
  {
   "cell_type": "code",
   "execution_count": 1,
   "metadata": {},
   "outputs": [
    {
     "name": "stdout",
     "output_type": "stream",
     "text": [
      "Requirement already satisfied: openinference-instrumentation-haystack in /Users/mikeldking/anaconda3/envs/phoenix/lib/python3.12/site-packages (0.1.8)\n",
      "Requirement already satisfied: haystack-ai in /Users/mikeldking/anaconda3/envs/phoenix/lib/python3.12/site-packages (2.4.0)\n",
      "Requirement already satisfied: opentelemetry-sdk in /Users/mikeldking/anaconda3/envs/phoenix/lib/python3.12/site-packages (1.26.0)\n",
      "Requirement already satisfied: opentelemetry-exporter-otlp in /Users/mikeldking/anaconda3/envs/phoenix/lib/python3.12/site-packages (1.26.0)\n",
      "Requirement already satisfied: openinference-instrumentation>=0.1.12 in /Users/mikeldking/anaconda3/envs/phoenix/lib/python3.12/site-packages (from openinference-instrumentation-haystack) (0.1.12)\n",
      "Requirement already satisfied: openinference-semantic-conventions in /Users/mikeldking/anaconda3/envs/phoenix/lib/python3.12/site-packages (from openinference-instrumentation-haystack) (0.1.9)\n",
      "Requirement already satisfied: opentelemetry-api in /Users/mikeldking/anaconda3/envs/phoenix/lib/python3.12/site-packages (from openinference-instrumentation-haystack) (1.26.0)\n",
      "Requirement already satisfied: opentelemetry-instrumentation in /Users/mikeldking/anaconda3/envs/phoenix/lib/python3.12/site-packages (from openinference-instrumentation-haystack) (0.47b0)\n",
      "Requirement already satisfied: opentelemetry-semantic-conventions in /Users/mikeldking/anaconda3/envs/phoenix/lib/python3.12/site-packages (from openinference-instrumentation-haystack) (0.47b0)\n",
      "Requirement already satisfied: typing-extensions in /Users/mikeldking/anaconda3/envs/phoenix/lib/python3.12/site-packages (from openinference-instrumentation-haystack) (4.12.2)\n",
      "Requirement already satisfied: wrapt in /Users/mikeldking/anaconda3/envs/phoenix/lib/python3.12/site-packages (from openinference-instrumentation-haystack) (1.16.0)\n",
      "Requirement already satisfied: haystack-experimental in /Users/mikeldking/anaconda3/envs/phoenix/lib/python3.12/site-packages (from haystack-ai) (0.1.1)\n",
      "Requirement already satisfied: jinja2 in /Users/mikeldking/anaconda3/envs/phoenix/lib/python3.12/site-packages (from haystack-ai) (3.1.4)\n",
      "Requirement already satisfied: lazy-imports in /Users/mikeldking/anaconda3/envs/phoenix/lib/python3.12/site-packages (from haystack-ai) (0.3.1)\n",
      "Requirement already satisfied: more-itertools in /Users/mikeldking/anaconda3/envs/phoenix/lib/python3.12/site-packages (from haystack-ai) (10.3.0)\n",
      "Requirement already satisfied: networkx in /Users/mikeldking/anaconda3/envs/phoenix/lib/python3.12/site-packages (from haystack-ai) (3.3)\n",
      "Requirement already satisfied: numpy<2 in /Users/mikeldking/anaconda3/envs/phoenix/lib/python3.12/site-packages (from haystack-ai) (1.26.4)\n",
      "Requirement already satisfied: openai>=1.1.0 in /Users/mikeldking/anaconda3/envs/phoenix/lib/python3.12/site-packages (from haystack-ai) (1.40.6)\n",
      "Requirement already satisfied: pandas in /Users/mikeldking/anaconda3/envs/phoenix/lib/python3.12/site-packages (from haystack-ai) (2.2.2)\n",
      "Requirement already satisfied: posthog in /Users/mikeldking/anaconda3/envs/phoenix/lib/python3.12/site-packages (from haystack-ai) (3.5.0)\n",
      "Requirement already satisfied: python-dateutil in /Users/mikeldking/anaconda3/envs/phoenix/lib/python3.12/site-packages (from haystack-ai) (2.9.0)\n",
      "Requirement already satisfied: pyyaml in /Users/mikeldking/anaconda3/envs/phoenix/lib/python3.12/site-packages (from haystack-ai) (6.0.1)\n",
      "Requirement already satisfied: requests in /Users/mikeldking/anaconda3/envs/phoenix/lib/python3.12/site-packages (from haystack-ai) (2.32.3)\n",
      "Requirement already satisfied: tenacity!=8.4.0 in /Users/mikeldking/anaconda3/envs/phoenix/lib/python3.12/site-packages (from haystack-ai) (8.5.0)\n",
      "Requirement already satisfied: tqdm in /Users/mikeldking/anaconda3/envs/phoenix/lib/python3.12/site-packages (from haystack-ai) (4.66.4)\n",
      "Requirement already satisfied: deprecated>=1.2.6 in /Users/mikeldking/anaconda3/envs/phoenix/lib/python3.12/site-packages (from opentelemetry-api->openinference-instrumentation-haystack) (1.2.14)\n",
      "Requirement already satisfied: importlib-metadata<=8.0.0,>=6.0 in /Users/mikeldking/anaconda3/envs/phoenix/lib/python3.12/site-packages (from opentelemetry-api->openinference-instrumentation-haystack) (8.0.0)\n",
      "Requirement already satisfied: opentelemetry-exporter-otlp-proto-grpc==1.26.0 in /Users/mikeldking/anaconda3/envs/phoenix/lib/python3.12/site-packages (from opentelemetry-exporter-otlp) (1.26.0)\n",
      "Requirement already satisfied: opentelemetry-exporter-otlp-proto-http==1.26.0 in /Users/mikeldking/anaconda3/envs/phoenix/lib/python3.12/site-packages (from opentelemetry-exporter-otlp) (1.26.0)\n",
      "Requirement already satisfied: googleapis-common-protos~=1.52 in /Users/mikeldking/anaconda3/envs/phoenix/lib/python3.12/site-packages (from opentelemetry-exporter-otlp-proto-grpc==1.26.0->opentelemetry-exporter-otlp) (1.63.2)\n",
      "Requirement already satisfied: grpcio<2.0.0,>=1.0.0 in /Users/mikeldking/anaconda3/envs/phoenix/lib/python3.12/site-packages (from opentelemetry-exporter-otlp-proto-grpc==1.26.0->opentelemetry-exporter-otlp) (1.65.4)\n",
      "Requirement already satisfied: opentelemetry-exporter-otlp-proto-common==1.26.0 in /Users/mikeldking/anaconda3/envs/phoenix/lib/python3.12/site-packages (from opentelemetry-exporter-otlp-proto-grpc==1.26.0->opentelemetry-exporter-otlp) (1.26.0)\n",
      "Requirement already satisfied: opentelemetry-proto==1.26.0 in /Users/mikeldking/anaconda3/envs/phoenix/lib/python3.12/site-packages (from opentelemetry-exporter-otlp-proto-grpc==1.26.0->opentelemetry-exporter-otlp) (1.26.0)\n",
      "Requirement already satisfied: protobuf<5.0,>=3.19 in /Users/mikeldking/anaconda3/envs/phoenix/lib/python3.12/site-packages (from opentelemetry-proto==1.26.0->opentelemetry-exporter-otlp-proto-grpc==1.26.0->opentelemetry-exporter-otlp) (4.25.4)\n",
      "Requirement already satisfied: anyio<5,>=3.5.0 in /Users/mikeldking/anaconda3/envs/phoenix/lib/python3.12/site-packages (from openai>=1.1.0->haystack-ai) (4.4.0)\n",
      "Requirement already satisfied: distro<2,>=1.7.0 in /Users/mikeldking/anaconda3/envs/phoenix/lib/python3.12/site-packages (from openai>=1.1.0->haystack-ai) (1.9.0)\n",
      "Requirement already satisfied: httpx<1,>=0.23.0 in /Users/mikeldking/anaconda3/envs/phoenix/lib/python3.12/site-packages (from openai>=1.1.0->haystack-ai) (0.27.0)\n",
      "Requirement already satisfied: jiter<1,>=0.4.0 in /Users/mikeldking/anaconda3/envs/phoenix/lib/python3.12/site-packages (from openai>=1.1.0->haystack-ai) (0.5.0)\n",
      "Requirement already satisfied: pydantic<3,>=1.9.0 in /Users/mikeldking/anaconda3/envs/phoenix/lib/python3.12/site-packages (from openai>=1.1.0->haystack-ai) (2.8.2)\n",
      "Requirement already satisfied: sniffio in /Users/mikeldking/anaconda3/envs/phoenix/lib/python3.12/site-packages (from openai>=1.1.0->haystack-ai) (1.3.1)\n",
      "Requirement already satisfied: charset-normalizer<4,>=2 in /Users/mikeldking/anaconda3/envs/phoenix/lib/python3.12/site-packages (from requests->haystack-ai) (3.3.2)\n",
      "Requirement already satisfied: idna<4,>=2.5 in /Users/mikeldking/anaconda3/envs/phoenix/lib/python3.12/site-packages (from requests->haystack-ai) (3.7)\n",
      "Requirement already satisfied: urllib3<3,>=1.21.1 in /Users/mikeldking/anaconda3/envs/phoenix/lib/python3.12/site-packages (from requests->haystack-ai) (2.2.2)\n",
      "Requirement already satisfied: certifi>=2017.4.17 in /Users/mikeldking/anaconda3/envs/phoenix/lib/python3.12/site-packages (from requests->haystack-ai) (2024.7.4)\n",
      "Requirement already satisfied: MarkupSafe>=2.0 in /Users/mikeldking/anaconda3/envs/phoenix/lib/python3.12/site-packages (from jinja2->haystack-ai) (2.1.5)\n",
      "Requirement already satisfied: setuptools>=16.0 in /Users/mikeldking/anaconda3/envs/phoenix/lib/python3.12/site-packages (from opentelemetry-instrumentation->openinference-instrumentation-haystack) (72.1.0)\n",
      "Requirement already satisfied: pytz>=2020.1 in /Users/mikeldking/anaconda3/envs/phoenix/lib/python3.12/site-packages (from pandas->haystack-ai) (2024.1)\n",
      "Requirement already satisfied: tzdata>=2022.7 in /Users/mikeldking/anaconda3/envs/phoenix/lib/python3.12/site-packages (from pandas->haystack-ai) (2024.1)\n",
      "Requirement already satisfied: six>=1.5 in /Users/mikeldking/anaconda3/envs/phoenix/lib/python3.12/site-packages (from python-dateutil->haystack-ai) (1.16.0)\n",
      "Requirement already satisfied: monotonic>=1.5 in /Users/mikeldking/anaconda3/envs/phoenix/lib/python3.12/site-packages (from posthog->haystack-ai) (1.6)\n",
      "Requirement already satisfied: backoff>=1.10.0 in /Users/mikeldking/anaconda3/envs/phoenix/lib/python3.12/site-packages (from posthog->haystack-ai) (2.2.1)\n",
      "Requirement already satisfied: httpcore==1.* in /Users/mikeldking/anaconda3/envs/phoenix/lib/python3.12/site-packages (from httpx<1,>=0.23.0->openai>=1.1.0->haystack-ai) (1.0.5)\n",
      "Requirement already satisfied: h11<0.15,>=0.13 in /Users/mikeldking/anaconda3/envs/phoenix/lib/python3.12/site-packages (from httpcore==1.*->httpx<1,>=0.23.0->openai>=1.1.0->haystack-ai) (0.14.0)\n",
      "Requirement already satisfied: zipp>=0.5 in /Users/mikeldking/anaconda3/envs/phoenix/lib/python3.12/site-packages (from importlib-metadata<=8.0.0,>=6.0->opentelemetry-api->openinference-instrumentation-haystack) (3.19.2)\n",
      "Requirement already satisfied: annotated-types>=0.4.0 in /Users/mikeldking/anaconda3/envs/phoenix/lib/python3.12/site-packages (from pydantic<3,>=1.9.0->openai>=1.1.0->haystack-ai) (0.7.0)\n",
      "Requirement already satisfied: pydantic-core==2.20.1 in /Users/mikeldking/anaconda3/envs/phoenix/lib/python3.12/site-packages (from pydantic<3,>=1.9.0->openai>=1.1.0->haystack-ai) (2.20.1)\n"
     ]
    }
   ],
   "source": [
    "!pip install openinference-instrumentation-haystack haystack-ai opentelemetry-sdk opentelemetry-exporter-otlp"
   ]
  },
  {
   "cell_type": "code",
   "execution_count": 1,
   "metadata": {},
   "outputs": [
    {
     "name": "stderr",
     "output_type": "stream",
     "text": [
      "INFO:phoenix.config:📋 Ensuring phoenix working directory: /Users/mikeldking/.phoenix\n"
     ]
    },
    {
     "name": "stdout",
     "output_type": "stream",
     "text": [
      "🌍 To view the Phoenix app in your browser, visit http://localhost:6006/\n",
      "📖 For more information on how to use Phoenix, check out https://docs.arize.com/phoenix\n"
     ]
    },
    {
     "data": {
      "text/plain": [
       "<phoenix.session.session.ThreadSession at 0x314f8d550>"
      ]
     },
     "execution_count": 1,
     "metadata": {},
     "output_type": "execute_result"
    }
   ],
   "source": [
    "import phoenix as px\n",
    "\n",
    "px.launch_app()"
   ]
  },
  {
   "cell_type": "code",
   "execution_count": 2,
   "metadata": {},
   "outputs": [],
   "source": [
    "from openinference.instrumentation.haystack import HaystackInstrumentor\n",
    "from opentelemetry.exporter.otlp.proto.http.trace_exporter import (\n",
    "    OTLPSpanExporter,\n",
    ")\n",
    "from opentelemetry.sdk import trace as trace_sdk\n",
    "from opentelemetry.sdk.trace.export import SimpleSpanProcessor\n",
    "\n",
    "endpoint = \"http://localhost:6006/v1/traces\"  # The URL to your Phoenix instance\n",
    "tracer_provider = trace_sdk.TracerProvider()\n",
    "tracer_provider.add_span_processor(SimpleSpanProcessor(OTLPSpanExporter(endpoint)))\n",
    "\n",
    "HaystackInstrumentor().instrument(tracer_provider=tracer_provider)"
   ]
  },
  {
   "cell_type": "code",
   "execution_count": null,
   "metadata": {},
   "outputs": [],
   "source": []
  },
  {
   "cell_type": "code",
   "execution_count": 19,
   "metadata": {},
   "outputs": [
    {
     "ename": "",
     "evalue": "",
     "output_type": "error",
     "traceback": [
      "\u001b[1;31mThe Kernel crashed while executing code in the current cell or a previous cell. \n",
      "\u001b[1;31mPlease review the code in the cell(s) to identify a possible cause of the failure. \n",
      "\u001b[1;31mClick <a href='https://aka.ms/vscodeJupyterKernelCrash'>here</a> for more info. \n",
      "\u001b[1;31mView Jupyter <a href='command:jupyter.viewOutput'>log</a> for further details."
     ]
    }
   ],
   "source": [
    "from haystack import Document, Pipeline\n",
    "from haystack.components.builders.prompt_builder import PromptBuilder\n",
    "from haystack.components.generators import OpenAIGenerator\n",
    "from haystack.components.retrievers.in_memory import InMemoryBM25Retriever\n",
    "from haystack.document_stores.in_memory import InMemoryDocumentStore\n",
    "\n",
    "document_store = InMemoryDocumentStore()\n",
    "document_store.write_documents(\n",
    "    [\n",
    "        Document(content=\"My name is Jean and I live in Paris.\"),\n",
    "        Document(content=\"My name is Mark and I live in Berlin.\"),\n",
    "        Document(content=\"My name is Giorgio and I live in Rome.\"),\n",
    "    ]\n",
    ")\n",
    "\n",
    "prompt_template = \"\"\"\n",
    "Given these documents, answer the question.\n",
    "Documents:\n",
    "{% for doc in documents %}\n",
    "    {{ doc.content }}\n",
    "{% endfor %}\n",
    "Question: {{question}}\n",
    "Answer:\n",
    "\"\"\"\n",
    "\n",
    "retriever = InMemoryBM25Retriever(document_store=document_store)\n",
    "prompt_builder = PromptBuilder(template=prompt_template)\n",
    "llm = OpenAIGenerator()\n",
    "\n",
    "rag_pipeline = Pipeline()\n",
    "rag_pipeline.add_component(\"retriever\", retriever)\n",
    "rag_pipeline.add_component(\"prompt_builder\", prompt_builder)\n",
    "rag_pipeline.add_component(\"llm\", llm)\n",
    "rag_pipeline.connect(\"retriever\", \"prompt_builder.documents\")\n",
    "rag_pipeline.connect(\"prompt_builder\", \"llm\")\n",
    "\n",
    "question = \"Who lives in Paris?\"\n",
    "results = rag_pipeline.run(\n",
    "    {\n",
    "        \"retriever\": {\"query\": question},\n",
    "        \"prompt_builder\": {\"question\": question},\n",
    "    }\n",
    ")"
   ]
  },
  {
   "cell_type": "code",
   "execution_count": null,
   "metadata": {},
   "outputs": [],
   "source": []
  }
 ],
 "metadata": {
  "kernelspec": {
   "display_name": "phoenix",
   "language": "python",
   "name": "python3"
  },
  "language_info": {
   "codemirror_mode": {
    "name": "ipython",
    "version": 3
   },
   "file_extension": ".py",
   "mimetype": "text/x-python",
   "name": "python",
   "nbconvert_exporter": "python",
   "pygments_lexer": "ipython3",
   "version": "3.12.4"
  }
 },
 "nbformat": 4,
 "nbformat_minor": 2
}
