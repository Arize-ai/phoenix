{
 "cells": [
  {
   "cell_type": "markdown",
   "metadata": {},
   "source": [
    "<center>\n",
    "    <p style=\"text-align:center\">\n",
    "        <img alt=\"phoenix logo\" src=\"https://storage.googleapis.com/arize-phoenix-assets/assets/phoenix-logo-light.svg\" width=\"200\"/>\n",
    "        <br>\n",
    "        <a href=\"https://docs.arize.com/phoenix/\">Docs</a>\n",
    "        |\n",
    "        <a href=\"https://github.com/Arize-ai/phoenix\">GitHub</a>\n",
    "        |\n",
    "        <a href=\"https://join.slack.com/t/arize-ai/shared_invite/zt-1px8dcmlf-fmThhDFD_V_48oU7ALan4Q\">Community</a>\n",
    "    </p>\n",
    "</center>\n",
    "<h1 align=\"center\">Setting up Sessions</h1>\n",
    "\n",
    "A Session is a sequence of traces representing a single session (e.g. a session or a thread). Each response is represented as it's own trace, but these traces are linked together by being part of the same session.\n",
    "To associate traces together, you need to pass in a special metadata key where the value is the unique identifier for that thread.\n",
    "\n",
    "In this tutorial we will setup sessions using OpenAI and OpenInference instrumentation."
   ]
  },
  {
   "cell_type": "markdown",
   "metadata": {},
   "source": [
    "## 1. Install Dependencies and Import Libraries\n",
    "\n",
    "Install dependencies."
   ]
  },
  {
   "cell_type": "code",
   "execution_count": 4,
   "metadata": {},
   "outputs": [
    {
     "name": "stderr",
     "output_type": "stream",
     "text": [
      "WARNING: All log messages before absl::InitializeLog() is called are written to STDERR\n",
      "I0000 00:00:1733237167.554913 1990701 fork_posix.cc:75] Other threads are currently calling into gRPC, skipping fork() handlers\n"
     ]
    },
    {
     "name": "stdout",
     "output_type": "stream",
     "text": [
      "Requirement already satisfied: openai>=1.0.0 in /Users/mikeldking/anaconda3/envs/phoenix/lib/python3.12/site-packages (1.55.1)\n",
      "Requirement already satisfied: arize-phoenix in /Users/mikeldking/anaconda3/envs/phoenix/lib/python3.12/site-packages (5.12.0)\n",
      "Requirement already satisfied: jsonschema in /Users/mikeldking/anaconda3/envs/phoenix/lib/python3.12/site-packages (4.23.0)\n",
      "Requirement already satisfied: openinference-instrumentation-openai in /Users/mikeldking/anaconda3/envs/phoenix/lib/python3.12/site-packages (0.1.18)\n",
      "Requirement already satisfied: openinference-instrumentation in /Users/mikeldking/anaconda3/envs/phoenix/lib/python3.12/site-packages (0.1.18)\n",
      "Requirement already satisfied: opentelemetry-api in /Users/mikeldking/anaconda3/envs/phoenix/lib/python3.12/site-packages (1.28.2)\n",
      "Requirement already satisfied: opentelemetry-sdk in /Users/mikeldking/anaconda3/envs/phoenix/lib/python3.12/site-packages (1.28.2)\n",
      "Requirement already satisfied: openinference-semantic-conventions in /Users/mikeldking/anaconda3/envs/phoenix/lib/python3.12/site-packages (0.1.12)\n",
      "Requirement already satisfied: anyio<5,>=3.5.0 in /Users/mikeldking/anaconda3/envs/phoenix/lib/python3.12/site-packages (from openai>=1.0.0) (4.6.2.post1)\n",
      "Requirement already satisfied: distro<2,>=1.7.0 in /Users/mikeldking/anaconda3/envs/phoenix/lib/python3.12/site-packages (from openai>=1.0.0) (1.9.0)\n",
      "Requirement already satisfied: httpx<1,>=0.23.0 in /Users/mikeldking/anaconda3/envs/phoenix/lib/python3.12/site-packages (from openai>=1.0.0) (0.27.2)\n",
      "Requirement already satisfied: jiter<1,>=0.4.0 in /Users/mikeldking/anaconda3/envs/phoenix/lib/python3.12/site-packages (from openai>=1.0.0) (0.7.1)\n",
      "Requirement already satisfied: pydantic<3,>=1.9.0 in /Users/mikeldking/anaconda3/envs/phoenix/lib/python3.12/site-packages (from openai>=1.0.0) (2.9.2)\n",
      "Requirement already satisfied: sniffio in /Users/mikeldking/anaconda3/envs/phoenix/lib/python3.12/site-packages (from openai>=1.0.0) (1.3.1)\n",
      "Requirement already satisfied: tqdm>4 in /Users/mikeldking/anaconda3/envs/phoenix/lib/python3.12/site-packages (from openai>=1.0.0) (4.67.1)\n",
      "Requirement already satisfied: typing-extensions<5,>=4.11 in /Users/mikeldking/anaconda3/envs/phoenix/lib/python3.12/site-packages (from openai>=1.0.0) (4.12.2)\n",
      "Requirement already satisfied: aioitertools in /Users/mikeldking/anaconda3/envs/phoenix/lib/python3.12/site-packages (from arize-phoenix) (0.12.0)\n",
      "Requirement already satisfied: aiosqlite in /Users/mikeldking/anaconda3/envs/phoenix/lib/python3.12/site-packages (from arize-phoenix) (0.20.0)\n",
      "Requirement already satisfied: alembic<2,>=1.3.0 in /Users/mikeldking/anaconda3/envs/phoenix/lib/python3.12/site-packages (from arize-phoenix) (1.14.0)\n",
      "Requirement already satisfied: arize-phoenix-evals>=0.13.1 in /Users/mikeldking/anaconda3/envs/phoenix/lib/python3.12/site-packages (from arize-phoenix) (0.17.5)\n",
      "Requirement already satisfied: arize-phoenix-otel>=0.5.1 in /Users/mikeldking/anaconda3/envs/phoenix/lib/python3.12/site-packages (from arize-phoenix) (0.6.1)\n",
      "Requirement already satisfied: authlib in /Users/mikeldking/anaconda3/envs/phoenix/lib/python3.12/site-packages (from arize-phoenix) (1.3.2)\n",
      "Requirement already satisfied: cachetools in /Users/mikeldking/anaconda3/envs/phoenix/lib/python3.12/site-packages (from arize-phoenix) (5.5.0)\n",
      "Requirement already satisfied: fastapi in /Users/mikeldking/anaconda3/envs/phoenix/lib/python3.12/site-packages (from arize-phoenix) (0.115.5)\n",
      "Requirement already satisfied: grpc-interceptor in /Users/mikeldking/anaconda3/envs/phoenix/lib/python3.12/site-packages (from arize-phoenix) (0.15.4)\n",
      "Requirement already satisfied: grpcio in /Users/mikeldking/anaconda3/envs/phoenix/lib/python3.12/site-packages (from arize-phoenix) (1.68.0)\n",
      "Requirement already satisfied: jinja2 in /Users/mikeldking/anaconda3/envs/phoenix/lib/python3.12/site-packages (from arize-phoenix) (3.1.4)\n",
      "Requirement already satisfied: numpy!=2.0.0 in /Users/mikeldking/anaconda3/envs/phoenix/lib/python3.12/site-packages (from arize-phoenix) (1.26.4)\n",
      "Requirement already satisfied: opentelemetry-exporter-otlp in /Users/mikeldking/anaconda3/envs/phoenix/lib/python3.12/site-packages (from arize-phoenix) (1.28.2)\n",
      "Requirement already satisfied: opentelemetry-proto>=1.12.0 in /Users/mikeldking/anaconda3/envs/phoenix/lib/python3.12/site-packages (from arize-phoenix) (1.28.2)\n",
      "Requirement already satisfied: opentelemetry-semantic-conventions in /Users/mikeldking/anaconda3/envs/phoenix/lib/python3.12/site-packages (from arize-phoenix) (0.49b2)\n",
      "Requirement already satisfied: pandas>=1.0 in /Users/mikeldking/anaconda3/envs/phoenix/lib/python3.12/site-packages (from arize-phoenix) (2.2.3)\n",
      "Requirement already satisfied: protobuf<6.0,>=3.20.2 in /Users/mikeldking/anaconda3/envs/phoenix/lib/python3.12/site-packages (from arize-phoenix) (5.28.3)\n",
      "Requirement already satisfied: psutil in /Users/mikeldking/anaconda3/envs/phoenix/lib/python3.12/site-packages (from arize-phoenix) (6.1.0)\n",
      "Requirement already satisfied: pyarrow in /Users/mikeldking/anaconda3/envs/phoenix/lib/python3.12/site-packages (from arize-phoenix) (18.1.0)\n",
      "Requirement already satisfied: python-multipart in /Users/mikeldking/anaconda3/envs/phoenix/lib/python3.12/site-packages (from arize-phoenix) (0.0.17)\n",
      "Requirement already satisfied: scikit-learn in /Users/mikeldking/anaconda3/envs/phoenix/lib/python3.12/site-packages (from arize-phoenix) (1.5.2)\n",
      "Requirement already satisfied: scipy in /Users/mikeldking/anaconda3/envs/phoenix/lib/python3.12/site-packages (from arize-phoenix) (1.14.1)\n",
      "Requirement already satisfied: sqlalchemy<3,>=2.0.4 in /Users/mikeldking/anaconda3/envs/phoenix/lib/python3.12/site-packages (from sqlalchemy[asyncio]<3,>=2.0.4->arize-phoenix) (2.0.36)\n",
      "Requirement already satisfied: sqlean-py>=3.45.1 in /Users/mikeldking/anaconda3/envs/phoenix/lib/python3.12/site-packages (from arize-phoenix) (3.47.0)\n",
      "Requirement already satisfied: starlette in /Users/mikeldking/anaconda3/envs/phoenix/lib/python3.12/site-packages (from arize-phoenix) (0.41.3)\n",
      "Requirement already satisfied: strawberry-graphql==0.243.1 in /Users/mikeldking/anaconda3/envs/phoenix/lib/python3.12/site-packages (from arize-phoenix) (0.243.1)\n",
      "Requirement already satisfied: uvicorn in /Users/mikeldking/anaconda3/envs/phoenix/lib/python3.12/site-packages (from arize-phoenix) (0.32.1)\n",
      "Requirement already satisfied: websockets in /Users/mikeldking/anaconda3/envs/phoenix/lib/python3.12/site-packages (from arize-phoenix) (14.1)\n",
      "Requirement already satisfied: wrapt in /Users/mikeldking/anaconda3/envs/phoenix/lib/python3.12/site-packages (from arize-phoenix) (1.17.0)\n",
      "Requirement already satisfied: graphql-core<3.4.0,>=3.2.0 in /Users/mikeldking/anaconda3/envs/phoenix/lib/python3.12/site-packages (from strawberry-graphql==0.243.1->arize-phoenix) (3.2.5)\n",
      "Requirement already satisfied: python-dateutil<3.0.0,>=2.7.0 in /Users/mikeldking/anaconda3/envs/phoenix/lib/python3.12/site-packages (from strawberry-graphql==0.243.1->arize-phoenix) (2.9.0.post0)\n",
      "Requirement already satisfied: attrs>=22.2.0 in /Users/mikeldking/anaconda3/envs/phoenix/lib/python3.12/site-packages (from jsonschema) (24.2.0)\n",
      "Requirement already satisfied: jsonschema-specifications>=2023.03.6 in /Users/mikeldking/anaconda3/envs/phoenix/lib/python3.12/site-packages (from jsonschema) (2024.10.1)\n",
      "Requirement already satisfied: referencing>=0.28.4 in /Users/mikeldking/anaconda3/envs/phoenix/lib/python3.12/site-packages (from jsonschema) (0.35.1)\n",
      "Requirement already satisfied: rpds-py>=0.7.1 in /Users/mikeldking/anaconda3/envs/phoenix/lib/python3.12/site-packages (from jsonschema) (0.21.0)\n",
      "Requirement already satisfied: opentelemetry-instrumentation in /Users/mikeldking/anaconda3/envs/phoenix/lib/python3.12/site-packages (from openinference-instrumentation-openai) (0.49b2)\n",
      "Requirement already satisfied: deprecated>=1.2.6 in /Users/mikeldking/anaconda3/envs/phoenix/lib/python3.12/site-packages (from opentelemetry-api) (1.2.15)\n",
      "Requirement already satisfied: importlib-metadata<=8.5.0,>=6.0 in /Users/mikeldking/anaconda3/envs/phoenix/lib/python3.12/site-packages (from opentelemetry-api) (8.5.0)\n",
      "Requirement already satisfied: Mako in /Users/mikeldking/anaconda3/envs/phoenix/lib/python3.12/site-packages (from alembic<2,>=1.3.0->arize-phoenix) (1.3.6)\n",
      "Requirement already satisfied: idna>=2.8 in /Users/mikeldking/anaconda3/envs/phoenix/lib/python3.12/site-packages (from anyio<5,>=3.5.0->openai>=1.0.0) (3.10)\n",
      "Requirement already satisfied: certifi in /Users/mikeldking/anaconda3/envs/phoenix/lib/python3.12/site-packages (from httpx<1,>=0.23.0->openai>=1.0.0) (2024.8.30)\n",
      "Requirement already satisfied: httpcore==1.* in /Users/mikeldking/anaconda3/envs/phoenix/lib/python3.12/site-packages (from httpx<1,>=0.23.0->openai>=1.0.0) (1.0.7)\n",
      "Requirement already satisfied: h11<0.15,>=0.13 in /Users/mikeldking/anaconda3/envs/phoenix/lib/python3.12/site-packages (from httpcore==1.*->httpx<1,>=0.23.0->openai>=1.0.0) (0.14.0)\n",
      "Requirement already satisfied: zipp>=3.20 in /Users/mikeldking/anaconda3/envs/phoenix/lib/python3.12/site-packages (from importlib-metadata<=8.5.0,>=6.0->opentelemetry-api) (3.21.0)\n",
      "Requirement already satisfied: pytz>=2020.1 in /Users/mikeldking/anaconda3/envs/phoenix/lib/python3.12/site-packages (from pandas>=1.0->arize-phoenix) (2024.2)\n",
      "Requirement already satisfied: tzdata>=2022.7 in /Users/mikeldking/anaconda3/envs/phoenix/lib/python3.12/site-packages (from pandas>=1.0->arize-phoenix) (2024.2)\n",
      "Requirement already satisfied: annotated-types>=0.6.0 in /Users/mikeldking/anaconda3/envs/phoenix/lib/python3.12/site-packages (from pydantic<3,>=1.9.0->openai>=1.0.0) (0.7.0)\n",
      "Requirement already satisfied: pydantic-core==2.23.4 in /Users/mikeldking/anaconda3/envs/phoenix/lib/python3.12/site-packages (from pydantic<3,>=1.9.0->openai>=1.0.0) (2.23.4)\n",
      "Requirement already satisfied: greenlet!=0.4.17 in /Users/mikeldking/anaconda3/envs/phoenix/lib/python3.12/site-packages (from sqlalchemy[asyncio]<3,>=2.0.4->arize-phoenix) (3.1.1)\n",
      "Requirement already satisfied: cryptography in /Users/mikeldking/anaconda3/envs/phoenix/lib/python3.12/site-packages (from authlib->arize-phoenix) (43.0.3)\n",
      "Requirement already satisfied: MarkupSafe>=2.0 in /Users/mikeldking/anaconda3/envs/phoenix/lib/python3.12/site-packages (from jinja2->arize-phoenix) (3.0.2)\n",
      "Requirement already satisfied: opentelemetry-exporter-otlp-proto-grpc==1.28.2 in /Users/mikeldking/anaconda3/envs/phoenix/lib/python3.12/site-packages (from opentelemetry-exporter-otlp->arize-phoenix) (1.28.2)\n",
      "Requirement already satisfied: opentelemetry-exporter-otlp-proto-http==1.28.2 in /Users/mikeldking/anaconda3/envs/phoenix/lib/python3.12/site-packages (from opentelemetry-exporter-otlp->arize-phoenix) (1.28.2)\n",
      "Requirement already satisfied: googleapis-common-protos~=1.52 in /Users/mikeldking/anaconda3/envs/phoenix/lib/python3.12/site-packages (from opentelemetry-exporter-otlp-proto-grpc==1.28.2->opentelemetry-exporter-otlp->arize-phoenix) (1.66.0)\n",
      "Requirement already satisfied: opentelemetry-exporter-otlp-proto-common==1.28.2 in /Users/mikeldking/anaconda3/envs/phoenix/lib/python3.12/site-packages (from opentelemetry-exporter-otlp-proto-grpc==1.28.2->opentelemetry-exporter-otlp->arize-phoenix) (1.28.2)\n",
      "Requirement already satisfied: requests~=2.7 in /Users/mikeldking/anaconda3/envs/phoenix/lib/python3.12/site-packages (from opentelemetry-exporter-otlp-proto-http==1.28.2->opentelemetry-exporter-otlp->arize-phoenix) (2.32.3)\n",
      "Requirement already satisfied: packaging>=18.0 in /Users/mikeldking/anaconda3/envs/phoenix/lib/python3.12/site-packages (from opentelemetry-instrumentation->openinference-instrumentation-openai) (24.2)\n",
      "Requirement already satisfied: joblib>=1.2.0 in /Users/mikeldking/anaconda3/envs/phoenix/lib/python3.12/site-packages (from scikit-learn->arize-phoenix) (1.4.2)\n",
      "Requirement already satisfied: threadpoolctl>=3.1.0 in /Users/mikeldking/anaconda3/envs/phoenix/lib/python3.12/site-packages (from scikit-learn->arize-phoenix) (3.5.0)\n",
      "Requirement already satisfied: click>=7.0 in /Users/mikeldking/anaconda3/envs/phoenix/lib/python3.12/site-packages (from uvicorn->arize-phoenix) (8.1.7)\n",
      "Requirement already satisfied: six>=1.5 in /Users/mikeldking/anaconda3/envs/phoenix/lib/python3.12/site-packages (from python-dateutil<3.0.0,>=2.7.0->strawberry-graphql==0.243.1->arize-phoenix) (1.16.0)\n",
      "Requirement already satisfied: cffi>=1.12 in /Users/mikeldking/anaconda3/envs/phoenix/lib/python3.12/site-packages (from cryptography->authlib->arize-phoenix) (1.17.1)\n",
      "Requirement already satisfied: pycparser in /Users/mikeldking/anaconda3/envs/phoenix/lib/python3.12/site-packages (from cffi>=1.12->cryptography->authlib->arize-phoenix) (2.22)\n",
      "Requirement already satisfied: charset-normalizer<4,>=2 in /Users/mikeldking/anaconda3/envs/phoenix/lib/python3.12/site-packages (from requests~=2.7->opentelemetry-exporter-otlp-proto-http==1.28.2->opentelemetry-exporter-otlp->arize-phoenix) (3.4.0)\n",
      "Requirement already satisfied: urllib3<3,>=1.21.1 in /Users/mikeldking/anaconda3/envs/phoenix/lib/python3.12/site-packages (from requests~=2.7->opentelemetry-exporter-otlp-proto-http==1.28.2->opentelemetry-exporter-otlp->arize-phoenix) (2.2.3)\n"
     ]
    }
   ],
   "source": [
    "!pip install \"openai>=1.0.0\" arize-phoenix jsonschema openinference-instrumentation-openai openinference-instrumentation opentelemetry-api opentelemetry-sdk openinference-semantic-conventions"
   ]
  },
  {
   "cell_type": "markdown",
   "metadata": {},
   "source": [
    "## Configure Your OpenAI API Key and Instantiate Your OpenAI Client\n",
    "\n",
    "Set your OpenAI API key if it is not already set as an environment variable."
   ]
  },
  {
   "cell_type": "code",
   "execution_count": 1,
   "metadata": {},
   "outputs": [],
   "source": [
    "import os\n",
    "from getpass import getpass\n",
    "\n",
    "from openai import OpenAI\n",
    "\n",
    "if not (openai_api_key := os.getenv(\"OPENAI_API_KEY\")):\n",
    "    openai_api_key = getpass(\"🔑 Enter your OpenAI API key: \")\n",
    "client = OpenAI(api_key=openai_api_key)"
   ]
  },
  {
   "cell_type": "markdown",
   "metadata": {},
   "source": [
    "## Instrument Your OpenAI Client\n",
    "\n",
    "Instrument your OpenAI client with a tracer that emits telemetry data in OpenInference format. [OpenInference](https://arize-ai.github.io/open-inference-spec/trace/) is an open standard for capturing and storing LLM application traces that enables LLM applications to seamlessly integrate with LLM observability solutions such as Phoenix."
   ]
  },
  {
   "cell_type": "code",
   "execution_count": 2,
   "metadata": {},
   "outputs": [
    {
     "name": "stdout",
     "output_type": "stream",
     "text": [
      "🔭 OpenTelemetry Tracing Details 🔭\n",
      "|  Phoenix Project: openai-sessions-example\n",
      "|  Span Processor: SimpleSpanProcessor\n",
      "|  Collector Endpoint: localhost:4317\n",
      "|  Transport: gRPC\n",
      "|  Transport Headers: {'user-agent': '****'}\n",
      "|  \n",
      "|  Using a default SpanProcessor. `add_span_processor` will overwrite this default.\n",
      "|  \n",
      "|  `register` has set this TracerProvider as the global OpenTelemetry default.\n",
      "|  To disable this behavior, call `register` with `set_global_tracer_provider=False`.\n",
      "\n"
     ]
    }
   ],
   "source": [
    "from openinference.instrumentation.openai import OpenAIInstrumentor\n",
    "\n",
    "from phoenix.otel import register\n",
    "\n",
    "tracer_provider = register(project_name=\"openai-sessions-example\")\n",
    "OpenAIInstrumentor().instrument(tracer_provider=tracer_provider)"
   ]
  },
  {
   "cell_type": "markdown",
   "metadata": {},
   "source": [
    "## Run Phoenix in the Background\n",
    "\n",
    "Launch Phoenix as a background session to collect the trace data emitted by your instrumented OpenAI client. Note that Phoenix should be run in a container in a production environment."
   ]
  },
  {
   "cell_type": "code",
   "execution_count": 3,
   "metadata": {},
   "outputs": [
    {
     "name": "stdout",
     "output_type": "stream",
     "text": [
      "🌍 To view the Phoenix app in your browser, visit http://localhost:6006/\n",
      "📖 For more information on how to use Phoenix, check out https://docs.arize.com/phoenix\n"
     ]
    },
    {
     "data": {
      "text/plain": [
       "<phoenix.session.session.ThreadSession at 0x30feb9b80>"
      ]
     },
     "execution_count": 3,
     "metadata": {},
     "output_type": "execute_result"
    }
   ],
   "source": [
    "import phoenix as px\n",
    "\n",
    "px.launch_app()"
   ]
  },
  {
   "cell_type": "markdown",
   "metadata": {},
   "source": [
    "## Create a bare-bones Agent\n",
    "\n",
    "Let's create the outline of an agent that will leverage OpenAI."
   ]
  },
  {
   "cell_type": "code",
   "execution_count": 6,
   "metadata": {},
   "outputs": [],
   "source": [
    "\n",
    "import uuid\n",
    "\n",
    "import openai\n",
    "from openinference.instrumentation import using_session\n",
    "from openinference.semconv.trace import SpanAttributes\n",
    "from opentelemetry import trace\n",
    "\n",
    "client = openai.Client()\n",
    "session_id = str(uuid.uuid4())\n",
    "\n",
    "tracer = trace.get_tracer(__name__)\n",
    "\n",
    "@tracer.start_as_current_span(name=\"agent\", attributes={SpanAttributes.OPENINFERENCE_SPAN_KIND: \"agent\"})\n",
    "def assistant(\n",
    "  messages: list[dict],\n",
    "  session_id: str = str,\n",
    "):\n",
    "  current_span = trace.get_current_span()\n",
    "  current_span.set_attribute(SpanAttributes.SESSION_ID, session_id)\n",
    "  current_span.set_attribute(SpanAttributes.INPUT_VALUE, messages[-1].get('content'))\n",
    "\n",
    "  # Propagate the session_id down to spans crated by the OpenAI instrumentation\n",
    "  # This is not strictly necessary, but it helps to correlate the spans to the same session\n",
    "  with using_session(session_id):\n",
    "   response = client.chat.completions.create(\n",
    "       model=\"gpt-3.5-turbo\",\n",
    "       messages=[{\"role\": \"system\", \"content\": \"You are a helpful assistant.\"}] + messages,\n",
    "   ).choices[0].message\n",
    "\n",
    "  current_span.set_attribute(SpanAttributes.OUTPUT_VALUE, response.content)\n",
    "  return response\n",
    "\n",
    "messages = [\n",
    "  {\"role\": \"user\", \"content\": \"hi! im bob\"}\n",
    "]\n",
    "response = assistant(\n",
    "  messages,\n",
    "  session_id=session_id,\n",
    ")\n",
    "messages = messages + [\n",
    "  response,\n",
    "  {\"role\": \"user\", \"content\": \"what's my name?\"}\n",
    "]\n",
    "response = assistant(\n",
    "  messages,\n",
    "  session_id=session_id,\n",
    ")"
   ]
  }
 ],
 "metadata": {
  "kernelspec": {
   "display_name": "phoenix",
   "language": "python",
   "name": "python3"
  },
  "language_info": {
   "codemirror_mode": {
    "name": "ipython",
    "version": 3
   },
   "file_extension": ".py",
   "mimetype": "text/x-python",
   "name": "python",
   "nbconvert_exporter": "python",
   "pygments_lexer": "ipython3",
   "version": "3.12.7"
  }
 },
 "nbformat": 4,
 "nbformat_minor": 2
}
