{
 "cells": [
  {
   "cell_type": "markdown",
   "metadata": {},
   "source": [
    "<center>\n",
    "    <p style=\"text-align:center\">\n",
    "        <img alt=\"phoenix logo\" src=\"https://storage.googleapis.com/arize-assets/phoenix/assets/phoenix-logo-light.svg\" width=\"200\"/>\n",
    "        <br>\n",
    "        <a href=\"https://docs.arize.com/phoenix/\">Docs</a>\n",
    "        |\n",
    "        <a href=\"https://github.com/Arize-ai/phoenix\">GitHub</a>\n",
    "        |\n",
    "        <a href=\"https://join.slack.com/t/arize-ai/shared_invite/zt-1px8dcmlf-fmThhDFD_V_48oU7ALan4Q\">Community</a>\n",
    "    </p>\n",
    "</center>\n",
    "<h1 align=\"center\">Hallucination Classification Evals</h1>\n",
    "\n",
    "The purpose of this notebook is:\n",
    "\n",
    "- to evaluate the performance of an LLM-assisted approach to detecting hallucinations,\n",
    "- to provide an experimental framework for users to iterate and improve on the default classification template.\n",
    "\n",
    "## Install Dependencies and Import Libraries"
   ]
  },
  {
   "cell_type": "code",
   "execution_count": 1,
   "metadata": {},
   "outputs": [],
   "source": [
    "#####################\n",
    "## N_EVAL_SAMPLE_SIZE\n",
    "#####################\n",
    "# Eval sample size determines the run time\n",
    "# 100 samples: GPT-4 ~ 80 sec / GPT-3.5 ~ 40 sec\n",
    "# 1,000 samples: GPT-4 ~15-17 min / GPT-3.5 ~ 6-7min (depending on retries)\n",
    "# 10,000 samples GPT-4 ~170 min / GPT-3.5 ~ 70min\n",
    "N_EVAL_SAMPLE_SIZE = 100"
   ]
  },
  {
   "cell_type": "code",
   "execution_count": 2,
   "metadata": {},
   "outputs": [
    {
     "name": "stdout",
     "output_type": "stream",
     "text": [
      "Requirement already satisfied: arize-phoenix[experimental] in /Users/mikeldking/.virtualenvs/phoenix/lib/python3.10/site-packages (0.0.50)\n",
      "Requirement already satisfied: ipython in /Users/mikeldking/.virtualenvs/phoenix/lib/python3.10/site-packages (8.14.0)\n",
      "Requirement already satisfied: matplotlib in /Users/mikeldking/.virtualenvs/phoenix/lib/python3.10/site-packages (3.7.3)\n",
      "Requirement already satisfied: openai<1 in /Users/mikeldking/.virtualenvs/phoenix/lib/python3.10/site-packages (0.28.1)\n",
      "Requirement already satisfied: pycm in /Users/mikeldking/.virtualenvs/phoenix/lib/python3.10/site-packages (4.0)\n",
      "Requirement already satisfied: scikit-learn in /Users/mikeldking/.virtualenvs/phoenix/lib/python3.10/site-packages (1.2.2)\n",
      "Requirement already satisfied: tiktoken in /Users/mikeldking/.virtualenvs/phoenix/lib/python3.10/site-packages (0.4.0)\n",
      "Requirement already satisfied: ddsketch in /Users/mikeldking/.virtualenvs/phoenix/lib/python3.10/site-packages (from arize-phoenix[experimental]) (2.0.4)\n",
      "Requirement already satisfied: hdbscan<1.0.0,>=0.8.33 in /Users/mikeldking/.virtualenvs/phoenix/lib/python3.10/site-packages (from arize-phoenix[experimental]) (0.8.33)\n",
      "Requirement already satisfied: jinja2 in /Users/mikeldking/.virtualenvs/phoenix/lib/python3.10/site-packages (from arize-phoenix[experimental]) (3.1.2)\n",
      "Requirement already satisfied: nest-asyncio in /Users/mikeldking/.virtualenvs/phoenix/lib/python3.10/site-packages (from arize-phoenix[experimental]) (1.5.8)\n",
      "Requirement already satisfied: numpy in /Users/mikeldking/.virtualenvs/phoenix/lib/python3.10/site-packages (from arize-phoenix[experimental]) (1.24.4)\n",
      "Requirement already satisfied: pandas in /Users/mikeldking/.virtualenvs/phoenix/lib/python3.10/site-packages (from arize-phoenix[experimental]) (1.5.3)\n",
      "Requirement already satisfied: protobuf<5.0,>=3.20 in /Users/mikeldking/.virtualenvs/phoenix/lib/python3.10/site-packages (from arize-phoenix[experimental]) (4.24.0)\n",
      "Requirement already satisfied: psutil in /Users/mikeldking/.virtualenvs/phoenix/lib/python3.10/site-packages (from arize-phoenix[experimental]) (5.9.5)\n",
      "Requirement already satisfied: pyarrow in /Users/mikeldking/.virtualenvs/phoenix/lib/python3.10/site-packages (from arize-phoenix[experimental]) (12.0.1)\n",
      "Requirement already satisfied: scipy in /Users/mikeldking/.virtualenvs/phoenix/lib/python3.10/site-packages (from arize-phoenix[experimental]) (1.11.1)\n",
      "Requirement already satisfied: sortedcontainers in /Users/mikeldking/.virtualenvs/phoenix/lib/python3.10/site-packages (from arize-phoenix[experimental]) (2.4.0)\n",
      "Requirement already satisfied: starlette in /Users/mikeldking/.virtualenvs/phoenix/lib/python3.10/site-packages (from arize-phoenix[experimental]) (0.27.0)\n",
      "Requirement already satisfied: strawberry-graphql==0.208.2 in /Users/mikeldking/.virtualenvs/phoenix/lib/python3.10/site-packages (from arize-phoenix[experimental]) (0.208.2)\n",
      "Requirement already satisfied: typing-extensions in /Users/mikeldking/.virtualenvs/phoenix/lib/python3.10/site-packages (from arize-phoenix[experimental]) (4.7.1)\n",
      "Requirement already satisfied: umap-learn in /Users/mikeldking/.virtualenvs/phoenix/lib/python3.10/site-packages (from arize-phoenix[experimental]) (0.5.3)\n",
      "Requirement already satisfied: uvicorn in /Users/mikeldking/.virtualenvs/phoenix/lib/python3.10/site-packages (from arize-phoenix[experimental]) (0.23.2)\n",
      "Requirement already satisfied: wrapt in /Users/mikeldking/.virtualenvs/phoenix/lib/python3.10/site-packages (from arize-phoenix[experimental]) (1.15.0)\n",
      "Requirement already satisfied: tenacity in /Users/mikeldking/.virtualenvs/phoenix/lib/python3.10/site-packages (from arize-phoenix[experimental]) (8.2.3)\n",
      "Requirement already satisfied: graphql-core<3.3.0,>=3.2.0 in /Users/mikeldking/.virtualenvs/phoenix/lib/python3.10/site-packages (from strawberry-graphql==0.208.2->arize-phoenix[experimental]) (3.2.3)\n",
      "Requirement already satisfied: python-dateutil<3.0.0,>=2.7.0 in /Users/mikeldking/.virtualenvs/phoenix/lib/python3.10/site-packages (from strawberry-graphql==0.208.2->arize-phoenix[experimental]) (2.8.2)\n",
      "Requirement already satisfied: backcall in /Users/mikeldking/.virtualenvs/phoenix/lib/python3.10/site-packages (from ipython) (0.2.0)\n",
      "Requirement already satisfied: decorator in /Users/mikeldking/.virtualenvs/phoenix/lib/python3.10/site-packages (from ipython) (5.1.1)\n",
      "Requirement already satisfied: jedi>=0.16 in /Users/mikeldking/.virtualenvs/phoenix/lib/python3.10/site-packages (from ipython) (0.19.0)\n",
      "Requirement already satisfied: matplotlib-inline in /Users/mikeldking/.virtualenvs/phoenix/lib/python3.10/site-packages (from ipython) (0.1.6)\n",
      "Requirement already satisfied: pickleshare in /Users/mikeldking/.virtualenvs/phoenix/lib/python3.10/site-packages (from ipython) (0.7.5)\n",
      "Requirement already satisfied: prompt-toolkit!=3.0.37,<3.1.0,>=3.0.30 in /Users/mikeldking/.virtualenvs/phoenix/lib/python3.10/site-packages (from ipython) (3.0.39)\n",
      "Requirement already satisfied: pygments>=2.4.0 in /Users/mikeldking/.virtualenvs/phoenix/lib/python3.10/site-packages (from ipython) (2.16.1)\n",
      "Requirement already satisfied: stack-data in /Users/mikeldking/.virtualenvs/phoenix/lib/python3.10/site-packages (from ipython) (0.6.2)\n",
      "Requirement already satisfied: traitlets>=5 in /Users/mikeldking/.virtualenvs/phoenix/lib/python3.10/site-packages (from ipython) (5.9.0)\n",
      "Requirement already satisfied: pexpect>4.3 in /Users/mikeldking/.virtualenvs/phoenix/lib/python3.10/site-packages (from ipython) (4.8.0)\n",
      "Requirement already satisfied: appnope in /Users/mikeldking/.virtualenvs/phoenix/lib/python3.10/site-packages (from ipython) (0.1.3)\n",
      "Requirement already satisfied: contourpy>=1.0.1 in /Users/mikeldking/.virtualenvs/phoenix/lib/python3.10/site-packages (from matplotlib) (1.1.0)\n",
      "Requirement already satisfied: cycler>=0.10 in /Users/mikeldking/.virtualenvs/phoenix/lib/python3.10/site-packages (from matplotlib) (0.11.0)\n",
      "Requirement already satisfied: fonttools>=4.22.0 in /Users/mikeldking/.virtualenvs/phoenix/lib/python3.10/site-packages (from matplotlib) (4.42.1)\n",
      "Requirement already satisfied: kiwisolver>=1.0.1 in /Users/mikeldking/.virtualenvs/phoenix/lib/python3.10/site-packages (from matplotlib) (1.4.5)\n",
      "Requirement already satisfied: packaging>=20.0 in /Users/mikeldking/.virtualenvs/phoenix/lib/python3.10/site-packages (from matplotlib) (23.1)\n",
      "Requirement already satisfied: pillow>=6.2.0 in /Users/mikeldking/.virtualenvs/phoenix/lib/python3.10/site-packages (from matplotlib) (9.5.0)\n",
      "Requirement already satisfied: pyparsing>=2.3.1 in /Users/mikeldking/.virtualenvs/phoenix/lib/python3.10/site-packages (from matplotlib) (3.1.1)\n",
      "Requirement already satisfied: requests>=2.20 in /Users/mikeldking/.virtualenvs/phoenix/lib/python3.10/site-packages (from openai<1) (2.31.0)\n",
      "Requirement already satisfied: tqdm in /Users/mikeldking/.virtualenvs/phoenix/lib/python3.10/site-packages (from openai<1) (4.66.1)\n",
      "Requirement already satisfied: aiohttp in /Users/mikeldking/.virtualenvs/phoenix/lib/python3.10/site-packages (from openai<1) (3.8.5)\n",
      "Requirement already satisfied: art>=1.8 in /Users/mikeldking/.virtualenvs/phoenix/lib/python3.10/site-packages (from pycm) (6.0)\n",
      "Requirement already satisfied: joblib>=1.1.1 in /Users/mikeldking/.virtualenvs/phoenix/lib/python3.10/site-packages (from scikit-learn) (1.3.2)\n",
      "Requirement already satisfied: threadpoolctl>=2.0.0 in /Users/mikeldking/.virtualenvs/phoenix/lib/python3.10/site-packages (from scikit-learn) (3.2.0)\n",
      "Requirement already satisfied: regex>=2022.1.18 in /Users/mikeldking/.virtualenvs/phoenix/lib/python3.10/site-packages (from tiktoken) (2023.8.8)\n",
      "Requirement already satisfied: cython<3,>=0.27 in /Users/mikeldking/.virtualenvs/phoenix/lib/python3.10/site-packages (from hdbscan<1.0.0,>=0.8.33->arize-phoenix[experimental]) (0.29.36)\n",
      "Requirement already satisfied: parso<0.9.0,>=0.8.3 in /Users/mikeldking/.virtualenvs/phoenix/lib/python3.10/site-packages (from jedi>=0.16->ipython) (0.8.3)\n",
      "Requirement already satisfied: ptyprocess>=0.5 in /Users/mikeldking/.virtualenvs/phoenix/lib/python3.10/site-packages (from pexpect>4.3->ipython) (0.7.0)\n",
      "Requirement already satisfied: wcwidth in /Users/mikeldking/.virtualenvs/phoenix/lib/python3.10/site-packages (from prompt-toolkit!=3.0.37,<3.1.0,>=3.0.30->ipython) (0.2.6)\n",
      "Requirement already satisfied: six>=1.5 in /Users/mikeldking/.virtualenvs/phoenix/lib/python3.10/site-packages (from python-dateutil<3.0.0,>=2.7.0->strawberry-graphql==0.208.2->arize-phoenix[experimental]) (1.16.0)\n",
      "Requirement already satisfied: charset-normalizer<4,>=2 in /Users/mikeldking/.virtualenvs/phoenix/lib/python3.10/site-packages (from requests>=2.20->openai<1) (3.2.0)\n",
      "Requirement already satisfied: idna<4,>=2.5 in /Users/mikeldking/.virtualenvs/phoenix/lib/python3.10/site-packages (from requests>=2.20->openai<1) (3.4)\n",
      "Requirement already satisfied: urllib3<3,>=1.21.1 in /Users/mikeldking/.virtualenvs/phoenix/lib/python3.10/site-packages (from requests>=2.20->openai<1) (1.26.16)\n",
      "Requirement already satisfied: certifi>=2017.4.17 in /Users/mikeldking/.virtualenvs/phoenix/lib/python3.10/site-packages (from requests>=2.20->openai<1) (2023.7.22)\n",
      "Requirement already satisfied: attrs>=17.3.0 in /Users/mikeldking/.virtualenvs/phoenix/lib/python3.10/site-packages (from aiohttp->openai<1) (23.1.0)\n",
      "Requirement already satisfied: multidict<7.0,>=4.5 in /Users/mikeldking/.virtualenvs/phoenix/lib/python3.10/site-packages (from aiohttp->openai<1) (6.0.4)\n",
      "Requirement already satisfied: async-timeout<5.0,>=4.0.0a3 in /Users/mikeldking/.virtualenvs/phoenix/lib/python3.10/site-packages (from aiohttp->openai<1) (4.0.3)\n",
      "Requirement already satisfied: yarl<2.0,>=1.0 in /Users/mikeldking/.virtualenvs/phoenix/lib/python3.10/site-packages (from aiohttp->openai<1) (1.9.2)\n",
      "Requirement already satisfied: frozenlist>=1.1.1 in /Users/mikeldking/.virtualenvs/phoenix/lib/python3.10/site-packages (from aiohttp->openai<1) (1.4.0)\n",
      "Requirement already satisfied: aiosignal>=1.1.2 in /Users/mikeldking/.virtualenvs/phoenix/lib/python3.10/site-packages (from aiohttp->openai<1) (1.3.1)\n",
      "Requirement already satisfied: MarkupSafe>=2.0 in /Users/mikeldking/.virtualenvs/phoenix/lib/python3.10/site-packages (from jinja2->arize-phoenix[experimental]) (2.1.3)\n",
      "Requirement already satisfied: pytz>=2020.1 in /Users/mikeldking/.virtualenvs/phoenix/lib/python3.10/site-packages (from pandas->arize-phoenix[experimental]) (2023.3)\n",
      "Requirement already satisfied: executing>=1.2.0 in /Users/mikeldking/.virtualenvs/phoenix/lib/python3.10/site-packages (from stack-data->ipython) (1.2.0)\n",
      "Requirement already satisfied: asttokens>=2.1.0 in /Users/mikeldking/.virtualenvs/phoenix/lib/python3.10/site-packages (from stack-data->ipython) (2.2.1)\n",
      "Requirement already satisfied: pure-eval in /Users/mikeldking/.virtualenvs/phoenix/lib/python3.10/site-packages (from stack-data->ipython) (0.2.2)\n",
      "Requirement already satisfied: anyio<5,>=3.4.0 in /Users/mikeldking/.virtualenvs/phoenix/lib/python3.10/site-packages (from starlette->arize-phoenix[experimental]) (3.7.1)\n",
      "Requirement already satisfied: numba>=0.49 in /Users/mikeldking/.virtualenvs/phoenix/lib/python3.10/site-packages (from umap-learn->arize-phoenix[experimental]) (0.57.1)\n",
      "Requirement already satisfied: pynndescent>=0.5 in /Users/mikeldking/.virtualenvs/phoenix/lib/python3.10/site-packages (from umap-learn->arize-phoenix[experimental]) (0.5.10)\n",
      "Requirement already satisfied: click>=7.0 in /Users/mikeldking/.virtualenvs/phoenix/lib/python3.10/site-packages (from uvicorn->arize-phoenix[experimental]) (8.1.6)\n",
      "Requirement already satisfied: h11>=0.8 in /Users/mikeldking/.virtualenvs/phoenix/lib/python3.10/site-packages (from uvicorn->arize-phoenix[experimental]) (0.14.0)\n",
      "Requirement already satisfied: sniffio>=1.1 in /Users/mikeldking/.virtualenvs/phoenix/lib/python3.10/site-packages (from anyio<5,>=3.4.0->starlette->arize-phoenix[experimental]) (1.3.0)\n",
      "Requirement already satisfied: exceptiongroup in /Users/mikeldking/.virtualenvs/phoenix/lib/python3.10/site-packages (from anyio<5,>=3.4.0->starlette->arize-phoenix[experimental]) (1.1.3)\n",
      "Requirement already satisfied: llvmlite<0.41,>=0.40.0dev0 in /Users/mikeldking/.virtualenvs/phoenix/lib/python3.10/site-packages (from numba>=0.49->umap-learn->arize-phoenix[experimental]) (0.40.1)\n",
      "\n",
      "\u001b[1m[\u001b[0m\u001b[34;49mnotice\u001b[0m\u001b[1;39;49m]\u001b[0m\u001b[39;49m A new release of pip is available: \u001b[0m\u001b[31;49m23.2.1\u001b[0m\u001b[39;49m -> \u001b[0m\u001b[32;49m23.3.1\u001b[0m\n",
      "\u001b[1m[\u001b[0m\u001b[34;49mnotice\u001b[0m\u001b[1;39;49m]\u001b[0m\u001b[39;49m To update, run: \u001b[0m\u001b[32;49mpip install --upgrade pip\u001b[0m\n"
     ]
    }
   ],
   "source": [
    "!pip install \"arize-phoenix[experimental]\" \"openai<1\" ipython matplotlib pycm scikit-learn tiktoken"
   ]
  },
  {
   "cell_type": "code",
   "execution_count": 3,
   "metadata": {},
   "outputs": [],
   "source": [
    "import os\n",
    "from getpass import getpass\n",
    "\n",
    "import matplotlib.pyplot as plt\n",
    "import openai\n",
    "import pandas as pd\n",
    "from phoenix.experimental.evals import (\n",
    "    HALLUCINATION_PROMPT_RAILS_MAP,\n",
    "    HALLUCINATION_PROMPT_TEMPLATE_STR,\n",
    "    OpenAIModel,\n",
    "    download_benchmark_dataset,\n",
    "    llm_classify,\n",
    ")\n",
    "from pycm import ConfusionMatrix\n",
    "from sklearn.metrics import classification_report\n",
    "\n",
    "pd.set_option(\"display.max_colwidth\", None)"
   ]
  },
  {
   "cell_type": "markdown",
   "metadata": {},
   "source": [
    "## Download Benchmark Dataset\n",
    "\n",
    "We'll evaluate the evaluation system consisting of an LLM model and settings in addition to an evaluation prompt template against benchmark datasets of queries and retrieved documents with ground-truth relevance labels. Currently supported datasets include \"halueval_qa_data\" from the HaluEval benchmark:\n",
    "\n",
    "- https://arxiv.org/abs/2305.11747\n",
    "- https://github.com/RUCAIBox/HaluEval"
   ]
  },
  {
   "cell_type": "code",
   "execution_count": 4,
   "metadata": {},
   "outputs": [
    {
     "data": {
      "text/html": [
       "<div>\n",
       "<style scoped>\n",
       "    .dataframe tbody tr th:only-of-type {\n",
       "        vertical-align: middle;\n",
       "    }\n",
       "\n",
       "    .dataframe tbody tr th {\n",
       "        vertical-align: top;\n",
       "    }\n",
       "\n",
       "    .dataframe thead th {\n",
       "        text-align: right;\n",
       "    }\n",
       "</style>\n",
       "<table border=\"1\" class=\"dataframe\">\n",
       "  <thead>\n",
       "    <tr style=\"text-align: right;\">\n",
       "      <th></th>\n",
       "      <th>reference</th>\n",
       "      <th>query</th>\n",
       "      <th>response</th>\n",
       "      <th>is_hallucination</th>\n",
       "    </tr>\n",
       "  </thead>\n",
       "  <tbody>\n",
       "    <tr>\n",
       "      <th>0</th>\n",
       "      <td>() is a prefecture-level city in northwestern Anhui province, China.Gaozhou is a county-level city in southwestern Guangdong Province, China.</td>\n",
       "      <td>Can  Fuyang and Gaozhou be found in the same province?</td>\n",
       "      <td>no</td>\n",
       "      <td>False</td>\n",
       "    </tr>\n",
       "    <tr>\n",
       "      <th>1</th>\n",
       "      <td>() is a prefecture-level city in northwestern Anhui province, China.Gaozhou is a county-level city in southwestern Guangdong Province, China.</td>\n",
       "      <td>Can  Fuyang and Gaozhou be found in the same province?</td>\n",
       "      <td>Yes, Fuyang and Gaozhou are in the same province.</td>\n",
       "      <td>True</td>\n",
       "    </tr>\n",
       "    <tr>\n",
       "      <th>2</th>\n",
       "      <td>\"808\" was a success in the United States becoming the group's first top ten hit peaking at number eight on the \"Billboard\" Hot 100 and top five peaking at number four on the Hot R&amp;B/Hip-Hop Singles.The \"Billboard\" Hot 100 is the music industry standard record chart in the United States for singles, published weekly by \"Billboard\" magazine.</td>\n",
       "      <td>808 peaked at number eight on what?</td>\n",
       "      <td>Billboard\" Hot 100</td>\n",
       "      <td>False</td>\n",
       "    </tr>\n",
       "    <tr>\n",
       "      <th>3</th>\n",
       "      <td>\"808\" was a success in the United States becoming the group's first top ten hit peaking at number eight on the \"Billboard\" Hot 100 and top five peaking at number four on the Hot R&amp;B/Hip-Hop Singles.The \"Billboard\" Hot 100 is the music industry standard record chart in the United States for singles, published weekly by \"Billboard\" magazine.</td>\n",
       "      <td>808 peaked at number eight on what?</td>\n",
       "      <td>\"808\" peaked at number nine on \"Billboard\" Hot 100.</td>\n",
       "      <td>True</td>\n",
       "    </tr>\n",
       "    <tr>\n",
       "      <th>4</th>\n",
       "      <td>\"Arms\" then made a comeback in 2017 reaching #36 on the iTunes chart passing Auli'i Cravalho's \"How Far I'll Go\" from the Disney movie \"Moana\" (2017).Moana ( ) is a 2016 American 3D computer-animated musical fantasy-adventure film produced by Walt Disney Animation Studios and released by Walt Disney Pictures.</td>\n",
       "      <td>Arms is a song by American singer-songwriter Christina Perri, in 2017, it passed Auli'i Cravalho's, \"How Far I'll Go\" from which 2016, American 3D computer-animated Disney movie?</td>\n",
       "      <td>Moana</td>\n",
       "      <td>False</td>\n",
       "    </tr>\n",
       "  </tbody>\n",
       "</table>\n",
       "</div>"
      ],
      "text/plain": [
       "                                                                                                                                                                                                                                                                                                                                                reference  \\\n",
       "0                                                                                                                                                                                                           () is a prefecture-level city in northwestern Anhui province, China.Gaozhou is a county-level city in southwestern Guangdong Province, China.   \n",
       "1                                                                                                                                                                                                           () is a prefecture-level city in northwestern Anhui province, China.Gaozhou is a county-level city in southwestern Guangdong Province, China.   \n",
       "2   \"808\" was a success in the United States becoming the group's first top ten hit peaking at number eight on the \"Billboard\" Hot 100 and top five peaking at number four on the Hot R&B/Hip-Hop Singles.The \"Billboard\" Hot 100 is the music industry standard record chart in the United States for singles, published weekly by \"Billboard\" magazine.   \n",
       "3   \"808\" was a success in the United States becoming the group's first top ten hit peaking at number eight on the \"Billboard\" Hot 100 and top five peaking at number four on the Hot R&B/Hip-Hop Singles.The \"Billboard\" Hot 100 is the music industry standard record chart in the United States for singles, published weekly by \"Billboard\" magazine.   \n",
       "4                                  \"Arms\" then made a comeback in 2017 reaching #36 on the iTunes chart passing Auli'i Cravalho's \"How Far I'll Go\" from the Disney movie \"Moana\" (2017).Moana ( ) is a 2016 American 3D computer-animated musical fantasy-adventure film produced by Walt Disney Animation Studios and released by Walt Disney Pictures.   \n",
       "\n",
       "                                                                                                                                                                                query  \\\n",
       "0                                                                                                                              Can  Fuyang and Gaozhou be found in the same province?   \n",
       "1                                                                                                                              Can  Fuyang and Gaozhou be found in the same province?   \n",
       "2                                                                                                                                                 808 peaked at number eight on what?   \n",
       "3                                                                                                                                                 808 peaked at number eight on what?   \n",
       "4  Arms is a song by American singer-songwriter Christina Perri, in 2017, it passed Auli'i Cravalho's, \"How Far I'll Go\" from which 2016, American 3D computer-animated Disney movie?   \n",
       "\n",
       "                                              response  is_hallucination  \n",
       "0                                                   no             False  \n",
       "1    Yes, Fuyang and Gaozhou are in the same province.              True  \n",
       "2                                   Billboard\" Hot 100             False  \n",
       "3  \"808\" peaked at number nine on \"Billboard\" Hot 100.              True  \n",
       "4                                                Moana             False  "
      ]
     },
     "execution_count": 4,
     "metadata": {},
     "output_type": "execute_result"
    }
   ],
   "source": [
    "df = download_benchmark_dataset(\n",
    "    task=\"binary-hallucination-classification\", dataset_name=\"halueval_qa_data\"\n",
    ")\n",
    "df.head()"
   ]
  },
  {
   "cell_type": "markdown",
   "metadata": {},
   "source": [
    "## Display Binary Hallucination Classification Template\n",
    "\n",
    "View the default template used to classify hallucinations. You can tweak this template and evaluate its performance relative to the default."
   ]
  },
  {
   "cell_type": "code",
   "execution_count": 5,
   "metadata": {},
   "outputs": [
    {
     "name": "stdout",
     "output_type": "stream",
     "text": [
      "\n",
      "In this task, you will be presented with a query, a reference text and an answer. The answer is\n",
      "generated to the question based on the reference text. The answer may contain false information, you\n",
      "must use the reference text to determine if the answer to the question contains false information,\n",
      "if the answer is a hallucination of facts. Your objective is to determine whether the reference text\n",
      "contains factual information and is not a hallucination. A 'hallucination' in this context refers to\n",
      "an answer that is not based on the reference text or assumes information that is not available in\n",
      "the reference text. Your response should be a single word: either \"factual\" or \"hallucinated\", and\n",
      "it should not include any other text or characters. \"hallucinated\" indicates that the answer\n",
      "provides factually inaccurate information to the query based on the reference text. \"factual\"\n",
      "indicates that the answer to the question is correct relative to the reference text, and does not\n",
      "contain made up information. Please read the query and reference text carefully before determining\n",
      "your response.\n",
      "\n",
      "    # Query: {query}\n",
      "    # Reference text: {reference}\n",
      "    # Answer: {response}\n",
      "    Is the answer above factual or hallucinated based on the query and reference text?\n",
      "\n"
     ]
    }
   ],
   "source": [
    "print(HALLUCINATION_PROMPT_TEMPLATE_STR)"
   ]
  },
  {
   "cell_type": "markdown",
   "metadata": {},
   "source": [
    "Template variables:\n",
    "- **query** : The question or prompt asked on the context data.\n",
    "- **reference** : The context data used to answer the question\n",
    "- **answer** : The answer from the context data, we are checking this answer for halluciations relative to the reference context"
   ]
  },
  {
   "cell_type": "markdown",
   "metadata": {},
   "source": [
    "## Configure the LLM\n",
    "\n",
    "Configure your OpenAI API key."
   ]
  },
  {
   "cell_type": "code",
   "execution_count": 6,
   "metadata": {},
   "outputs": [],
   "source": [
    "if not (openai_api_key := os.getenv(\"OPENAI_API_KEY\")):\n",
    "    openai_api_key = getpass(\"🔑 Enter your OpenAI API key: \")\n",
    "openai.api_key = openai_api_key\n",
    "os.environ[\"OPENAI_API_KEY\"] = openai_api_key"
   ]
  },
  {
   "cell_type": "markdown",
   "metadata": {},
   "source": [
    "## Benchmark Dataset Sample\n",
    "Sample size determines run time\n",
    "Recommend iterating small: 100 samples\n",
    "Then increasing to large test set"
   ]
  },
  {
   "cell_type": "code",
   "execution_count": 7,
   "metadata": {},
   "outputs": [],
   "source": [
    "df = df.sample(n=N_EVAL_SAMPLE_SIZE).reset_index(drop=True)"
   ]
  },
  {
   "cell_type": "markdown",
   "metadata": {},
   "source": [
    "## LLM Evals: hallucination Classifications GPT-4\n",
    "Run hallucination against a subset of the data."
   ]
  },
  {
   "cell_type": "markdown",
   "metadata": {},
   "source": [
    "Instantiate the LLM and set parameters."
   ]
  },
  {
   "cell_type": "code",
   "execution_count": 8,
   "metadata": {},
   "outputs": [],
   "source": [
    "model = OpenAIModel(\n",
    "    model_name=\"gpt-4\",\n",
    "    temperature=0.0,\n",
    ")"
   ]
  },
  {
   "cell_type": "code",
   "execution_count": 9,
   "metadata": {},
   "outputs": [
    {
     "name": "stderr",
     "output_type": "stream",
     "text": [
      "Eta:2023-11-07 10:27:41.733954 |█████████████████████████████| 100.0% (1/1) [00:02<00:00,  2.73s/it]\n"
     ]
    },
    {
     "data": {
      "text/plain": [
       "\"Hello! I'm working perfectly. How can I assist you today?\""
      ]
     },
     "execution_count": 9,
     "metadata": {},
     "output_type": "execute_result"
    }
   ],
   "source": [
    "model(\"Hello world, this is a test if you are working?\")"
   ]
  },
  {
   "cell_type": "code",
   "execution_count": 10,
   "metadata": {},
   "outputs": [
    {
     "name": "stderr",
     "output_type": "stream",
     "text": [
      "Eta:2023-11-07 10:30:37.718600 |█████████████████████████| 100.0% (100/100) [02:55<00:00,  1.76s/it]\n"
     ]
    }
   ],
   "source": [
    "# The rails fore the output to specific values of the template\n",
    "# It will remove text such as \",,,\" or \"...\", anything not the\n",
    "# binary value expected from the template\n",
    "rails = list(HALLUCINATION_PROMPT_RAILS_MAP.values())\n",
    "hallucination_classifications = llm_classify(\n",
    "    dataframe=df, template=HALLUCINATION_PROMPT_TEMPLATE_STR, model=model, rails=rails\n",
    ")[\"label\"]"
   ]
  },
  {
   "cell_type": "markdown",
   "metadata": {},
   "source": [
    "\n",
    "\n",
    "Evaluate the predictions against human-labeled ground-truth hallucination labels."
   ]
  },
  {
   "cell_type": "code",
   "execution_count": 11,
   "metadata": {},
   "outputs": [
    {
     "name": "stdout",
     "output_type": "stream",
     "text": [
      "              precision    recall  f1-score   support\n",
      "\n",
      "hallucinated       0.83      0.67      0.74        51\n",
      "     factual       0.71      0.86      0.78        49\n",
      "\n",
      "    accuracy                           0.76       100\n",
      "   macro avg       0.77      0.76      0.76       100\n",
      "weighted avg       0.77      0.76      0.76       100\n",
      "\n"
     ]
    },
    {
     "data": {
      "text/plain": [
       "<Axes: title={'center': 'Confusion Matrix (Normalized)'}, xlabel='Predicted Classes', ylabel='Actual Classes'>"
      ]
     },
     "execution_count": 11,
     "metadata": {},
     "output_type": "execute_result"
    },
    {
     "data": {
      "image/png": "[encoded data removed]",
      "text/plain": [
       "<Figure size 640x480 with 2 Axes>"
      ]
     },
     "metadata": {},
     "output_type": "display_data"
    }
   ],
   "source": [
    "true_labels = df[\"is_hallucination\"].map(HALLUCINATION_PROMPT_RAILS_MAP).tolist()\n",
    "hallucination_classifications = (\n",
    "    pd.Series(hallucination_classifications)\n",
    "    .map(lambda x: \"unparseable\" if x is None else x)\n",
    "    .tolist()\n",
    ")\n",
    "print(classification_report(true_labels, hallucination_classifications, labels=rails))\n",
    "confusion_matrix = ConfusionMatrix(\n",
    "    actual_vector=true_labels, predict_vector=hallucination_classifications, classes=rails\n",
    ")\n",
    "confusion_matrix.plot(\n",
    "    cmap=plt.colormaps[\"Blues\"],\n",
    "    number_label=True,\n",
    "    normalized=True,\n",
    ")"
   ]
  },
  {
   "cell_type": "markdown",
   "metadata": {},
   "source": [
    "## LLM Evals: hallucination Classifications GPT-3.5\n",
    "Run hallucination against a subset of the data."
   ]
  },
  {
   "cell_type": "code",
   "execution_count": 12,
   "metadata": {},
   "outputs": [],
   "source": [
    "model = OpenAIModel(model_name=\"gpt-3.5-turbo\", temperature=0.0, request_timeout=20)"
   ]
  },
  {
   "cell_type": "code",
   "execution_count": 13,
   "metadata": {},
   "outputs": [
    {
     "name": "stderr",
     "output_type": "stream",
     "text": [
      "Eta:1970-01-01 00:00:00 |                                            | 0.0% (0/100) [00:00<?, ?it/s]"
     ]
    },
    {
     "name": "stderr",
     "output_type": "stream",
     "text": [
      "Eta:2023-11-07 10:32:41.771061 |█████████████████████████| 100.0% (100/100) [02:03<00:00,  1.24s/it]\n"
     ]
    }
   ],
   "source": [
    "rails = list(HALLUCINATION_PROMPT_RAILS_MAP.values())\n",
    "hallucination_classifications = llm_classify(\n",
    "    dataframe=df, template=HALLUCINATION_PROMPT_TEMPLATE_STR, model=model, rails=rails\n",
    ")[\"label\"]"
   ]
  },
  {
   "cell_type": "code",
   "execution_count": 14,
   "metadata": {},
   "outputs": [
    {
     "name": "stdout",
     "output_type": "stream",
     "text": [
      "              precision    recall  f1-score   support\n",
      "\n",
      "hallucinated       0.88      0.55      0.67        51\n",
      "     factual       0.66      0.92      0.77        49\n",
      "\n",
      "    accuracy                           0.73       100\n",
      "   macro avg       0.77      0.73      0.72       100\n",
      "weighted avg       0.77      0.73      0.72       100\n",
      "\n"
     ]
    },
    {
     "data": {
      "text/plain": [
       "<Axes: title={'center': 'Confusion Matrix (Normalized)'}, xlabel='Predicted Classes', ylabel='Actual Classes'>"
      ]
     },
     "execution_count": 14,
     "metadata": {},
     "output_type": "execute_result"
    },
    {
     "data": {
      "image/png": "[encoded data removed]",
      "text/plain": [
       "<Figure size 640x480 with 2 Axes>"
      ]
     },
     "metadata": {},
     "output_type": "display_data"
    }
   ],
   "source": [
    "true_labels = df[\"is_hallucination\"].map(HALLUCINATION_PROMPT_RAILS_MAP).tolist()\n",
    "hallucination_classifications = (\n",
    "    pd.Series(hallucination_classifications)\n",
    "    .map(lambda x: \"unparseable\" if x is None else x)\n",
    "    .tolist()\n",
    ")\n",
    "\n",
    "print(classification_report(true_labels, hallucination_classifications, labels=rails))\n",
    "confusion_matrix = ConfusionMatrix(\n",
    "    actual_vector=true_labels, predict_vector=hallucination_classifications, classes=rails\n",
    ")\n",
    "confusion_matrix.plot(\n",
    "    cmap=plt.colormaps[\"Blues\"],\n",
    "    number_label=True,\n",
    "    normalized=True,\n",
    ")"
   ]
  }
 ],
 "metadata": {
  "kernelspec": {
   "display_name": "Python 3 (ipykernel)",
   "language": "python",
   "name": "python3"
  },
  "language_info": {
   "codemirror_mode": {
    "name": "ipython",
    "version": 3
   },
   "file_extension": ".py",
   "mimetype": "text/x-python",
   "name": "python",
   "nbconvert_exporter": "python",
   "pygments_lexer": "ipython3",
   "version": "3.10.3"
  }
 },
 "nbformat": 4,
 "nbformat_minor": 4
}
