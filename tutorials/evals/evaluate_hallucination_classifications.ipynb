{
 "cells": [
  {
   "cell_type": "markdown",
   "metadata": {},
   "source": [
    "<center>\n",
    "    <p style=\"text-align:center\">\n",
    "        <img alt=\"phoenix logo\" src=\"https://storage.googleapis.com/arize-assets/phoenix/assets/phoenix-logo-light.svg\" width=\"200\"/>\n",
    "        <br>\n",
    "        <a href=\"https://docs.arize.com/phoenix/\">Docs</a>\n",
    "        |\n",
    "        <a href=\"https://github.com/Arize-ai/phoenix\">GitHub</a>\n",
    "        |\n",
    "        <a href=\"https://join.slack.com/t/arize-ai/shared_invite/zt-1px8dcmlf-fmThhDFD_V_48oU7ALan4Q\">Community</a>\n",
    "    </p>\n",
    "</center>\n",
    "<h1 align=\"center\">Hallucination Classification Evals</h1>\n",
    "\n",
    "The purpose of this notebook is:\n",
    "\n",
    "- to evaluate the performance of an LLM-assisted approach to detecting hallucinations,\n",
    "- to provide an experimental framework for users to iterate and improve on the default classification template.\n",
    "\n",
    "## Install Dependencies and Import Libraries"
   ]
  },
  {
   "cell_type": "code",
   "execution_count": 1,
   "metadata": {},
   "outputs": [],
   "source": [
    "#####################\n",
    "## N_EVAL_SAMPLE_SIZE\n",
    "#####################\n",
    "# Eval sample size determines the run time\n",
    "# 100 samples: GPT-4 ~ 80 sec / GPT-3.5 ~ 40 sec\n",
    "# 1,000 samples: GPT-4 ~15-17 min / GPT-3.5 ~ 6-7min (depending on retries)\n",
    "# 10,000 samples GPT-4 ~170 min / GPT-3.5 ~ 70min\n",
    "N_EVAL_SAMPLE_SIZE = 100"
   ]
  },
  {
   "cell_type": "code",
   "execution_count": 2,
   "metadata": {},
   "outputs": [],
   "source": [
    "!pip install -qq \"arize-phoenix[experimental]\" \"openai>=1\" ipython matplotlib pycm scikit-learn tiktoken"
   ]
  },
  {
   "cell_type": "code",
   "execution_count": 3,
   "metadata": {},
   "outputs": [],
   "source": [
    "import os\n",
    "from getpass import getpass\n",
    "\n",
    "import matplotlib.pyplot as plt\n",
    "import openai\n",
    "import pandas as pd\n",
    "from phoenix.experimental.evals import (\n",
    "    HALLUCINATION_PROMPT_RAILS_MAP,\n",
    "    HALLUCINATION_PROMPT_TEMPLATE,\n",
    "    OpenAIModel,\n",
    "    download_benchmark_dataset,\n",
    "    llm_classify,\n",
    ")\n",
    "from pycm import ConfusionMatrix\n",
    "from sklearn.metrics import classification_report\n",
    "\n",
    "pd.set_option(\"display.max_colwidth\", None)"
   ]
  },
  {
   "cell_type": "markdown",
   "metadata": {},
   "source": [
    "## Download Benchmark Dataset\n",
    "\n",
    "We'll evaluate the evaluation system consisting of an LLM model and settings in addition to an evaluation prompt template against benchmark datasets of queries and retrieved documents with ground-truth relevance labels. Currently supported datasets include \"halueval_qa_data\" from the HaluEval benchmark:\n",
    "\n",
    "- https://arxiv.org/abs/2305.11747\n",
    "- https://github.com/RUCAIBox/HaluEval"
   ]
  },
  {
   "cell_type": "code",
   "execution_count": 4,
   "metadata": {},
   "outputs": [
    {
     "data": {
      "text/html": [
       "<div>\n",
       "<style scoped>\n",
       "    .dataframe tbody tr th:only-of-type {\n",
       "        vertical-align: middle;\n",
       "    }\n",
       "\n",
       "    .dataframe tbody tr th {\n",
       "        vertical-align: top;\n",
       "    }\n",
       "\n",
       "    .dataframe thead th {\n",
       "        text-align: right;\n",
       "    }\n",
       "</style>\n",
       "<table border=\"1\" class=\"dataframe\">\n",
       "  <thead>\n",
       "    <tr style=\"text-align: right;\">\n",
       "      <th></th>\n",
       "      <th>reference</th>\n",
       "      <th>query</th>\n",
       "      <th>response</th>\n",
       "      <th>is_hallucination</th>\n",
       "    </tr>\n",
       "  </thead>\n",
       "  <tbody>\n",
       "    <tr>\n",
       "      <th>0</th>\n",
       "      <td>() is a prefecture-level city in northwestern Anhui province, China.Gaozhou is a county-level city in southwestern Guangdong Province, China.</td>\n",
       "      <td>Can  Fuyang and Gaozhou be found in the same province?</td>\n",
       "      <td>no</td>\n",
       "      <td>False</td>\n",
       "    </tr>\n",
       "    <tr>\n",
       "      <th>1</th>\n",
       "      <td>() is a prefecture-level city in northwestern Anhui province, China.Gaozhou is a county-level city in southwestern Guangdong Province, China.</td>\n",
       "      <td>Can  Fuyang and Gaozhou be found in the same province?</td>\n",
       "      <td>Yes, Fuyang and Gaozhou are in the same province.</td>\n",
       "      <td>True</td>\n",
       "    </tr>\n",
       "    <tr>\n",
       "      <th>2</th>\n",
       "      <td>\"808\" was a success in the United States becoming the group's first top ten hit peaking at number eight on the \"Billboard\" Hot 100 and top five peaking at number four on the Hot R&amp;B/Hip-Hop Singles.The \"Billboard\" Hot 100 is the music industry standard record chart in the United States for singles, published weekly by \"Billboard\" magazine.</td>\n",
       "      <td>808 peaked at number eight on what?</td>\n",
       "      <td>Billboard\" Hot 100</td>\n",
       "      <td>False</td>\n",
       "    </tr>\n",
       "    <tr>\n",
       "      <th>3</th>\n",
       "      <td>\"808\" was a success in the United States becoming the group's first top ten hit peaking at number eight on the \"Billboard\" Hot 100 and top five peaking at number four on the Hot R&amp;B/Hip-Hop Singles.The \"Billboard\" Hot 100 is the music industry standard record chart in the United States for singles, published weekly by \"Billboard\" magazine.</td>\n",
       "      <td>808 peaked at number eight on what?</td>\n",
       "      <td>\"808\" peaked at number nine on \"Billboard\" Hot 100.</td>\n",
       "      <td>True</td>\n",
       "    </tr>\n",
       "    <tr>\n",
       "      <th>4</th>\n",
       "      <td>\"Arms\" then made a comeback in 2017 reaching #36 on the iTunes chart passing Auli'i Cravalho's \"How Far I'll Go\" from the Disney movie \"Moana\" (2017).Moana ( ) is a 2016 American 3D computer-animated musical fantasy-adventure film produced by Walt Disney Animation Studios and released by Walt Disney Pictures.</td>\n",
       "      <td>Arms is a song by American singer-songwriter Christina Perri, in 2017, it passed Auli'i Cravalho's, \"How Far I'll Go\" from which 2016, American 3D computer-animated Disney movie?</td>\n",
       "      <td>Moana</td>\n",
       "      <td>False</td>\n",
       "    </tr>\n",
       "  </tbody>\n",
       "</table>\n",
       "</div>"
      ],
      "text/plain": [
       "                                                                                                                                                                                                                                                                                                                                                reference  \\\n",
       "0                                                                                                                                                                                                           () is a prefecture-level city in northwestern Anhui province, China.Gaozhou is a county-level city in southwestern Guangdong Province, China.   \n",
       "1                                                                                                                                                                                                           () is a prefecture-level city in northwestern Anhui province, China.Gaozhou is a county-level city in southwestern Guangdong Province, China.   \n",
       "2   \"808\" was a success in the United States becoming the group's first top ten hit peaking at number eight on the \"Billboard\" Hot 100 and top five peaking at number four on the Hot R&B/Hip-Hop Singles.The \"Billboard\" Hot 100 is the music industry standard record chart in the United States for singles, published weekly by \"Billboard\" magazine.   \n",
       "3   \"808\" was a success in the United States becoming the group's first top ten hit peaking at number eight on the \"Billboard\" Hot 100 and top five peaking at number four on the Hot R&B/Hip-Hop Singles.The \"Billboard\" Hot 100 is the music industry standard record chart in the United States for singles, published weekly by \"Billboard\" magazine.   \n",
       "4                                  \"Arms\" then made a comeback in 2017 reaching #36 on the iTunes chart passing Auli'i Cravalho's \"How Far I'll Go\" from the Disney movie \"Moana\" (2017).Moana ( ) is a 2016 American 3D computer-animated musical fantasy-adventure film produced by Walt Disney Animation Studios and released by Walt Disney Pictures.   \n",
       "\n",
       "                                                                                                                                                                                query  \\\n",
       "0                                                                                                                              Can  Fuyang and Gaozhou be found in the same province?   \n",
       "1                                                                                                                              Can  Fuyang and Gaozhou be found in the same province?   \n",
       "2                                                                                                                                                 808 peaked at number eight on what?   \n",
       "3                                                                                                                                                 808 peaked at number eight on what?   \n",
       "4  Arms is a song by American singer-songwriter Christina Perri, in 2017, it passed Auli'i Cravalho's, \"How Far I'll Go\" from which 2016, American 3D computer-animated Disney movie?   \n",
       "\n",
       "                                              response  is_hallucination  \n",
       "0                                                   no             False  \n",
       "1    Yes, Fuyang and Gaozhou are in the same province.              True  \n",
       "2                                   Billboard\" Hot 100             False  \n",
       "3  \"808\" peaked at number nine on \"Billboard\" Hot 100.              True  \n",
       "4                                                Moana             False  "
      ]
     },
     "execution_count": 4,
     "metadata": {},
     "output_type": "execute_result"
    }
   ],
   "source": [
    "df = download_benchmark_dataset(\n",
    "    task=\"binary-hallucination-classification\", dataset_name=\"halueval_qa_data\"\n",
    ")\n",
    "df.head()"
   ]
  },
  {
   "cell_type": "markdown",
   "metadata": {},
   "source": [
    "## Display Binary Hallucination Classification Template\n",
    "\n",
    "View the default template used to classify hallucinations. You can tweak this template and evaluate its performance relative to the default."
   ]
  },
  {
   "cell_type": "code",
   "execution_count": 5,
   "metadata": {},
   "outputs": [
    {
     "name": "stdout",
     "output_type": "stream",
     "text": [
      "\n",
      "In this task, you will be presented with a query, a reference text and an answer. The answer is\n",
      "generated to the question based on the reference text. The answer may contain false information, you\n",
      "must use the reference text to determine if the answer to the question contains false information,\n",
      "if the answer is a hallucination of facts. Your objective is to determine whether the reference text\n",
      "contains factual information and is not a hallucination. A 'hallucination' in this context refers to\n",
      "an answer that is not based on the reference text or assumes information that is not available in\n",
      "the reference text. Your response should be a single word: either \"factual\" or \"hallucinated\", and\n",
      "it should not include any other text or characters. \"hallucinated\" indicates that the answer\n",
      "provides factually inaccurate information to the query based on the reference text. \"factual\"\n",
      "indicates that the answer to the question is correct relative to the reference text, and does not\n",
      "contain made up information. Please read the query and reference text carefully before determining\n",
      "your response.\n",
      "\n",
      "    [BEGIN DATA]\n",
      "    ************\n",
      "    [Query]: {query}\n",
      "    ************\n",
      "    [Reference text]: {reference}\n",
      "    ************\n",
      "    [Answer]: {response}\n",
      "    ************\n",
      "    [END DATA]\n",
      "\n",
      "    Is the answer above factual or hallucinated based on the query and reference text?\n",
      "\n",
      "Your response should be a single word: either \"factual\" or \"hallucinated\", and\n",
      "it should not include any other text or characters. \"hallucinated\" indicates that the answer\n",
      "provides factually inaccurate information to the query based on the reference text. \"factual\"\n",
      "indicates that the answer to the question is correct relative to the reference text, and does not\n",
      "contain made up information. Please read the query and reference text carefully before determining\n",
      "your response.\n",
      "\n"
     ]
    }
   ],
   "source": [
    "print(HALLUCINATION_PROMPT_TEMPLATE)"
   ]
  },
  {
   "cell_type": "markdown",
   "metadata": {},
   "source": [
    "Template variables:\n",
    "- **query** : The question or prompt asked on the context data.\n",
    "- **reference** : The context data used to answer the question\n",
    "- **answer** : The answer from the context data, we are checking this answer for halluciations relative to the reference context"
   ]
  },
  {
   "cell_type": "markdown",
   "metadata": {},
   "source": [
    "## Configure the LLM\n",
    "\n",
    "Configure your OpenAI API key."
   ]
  },
  {
   "cell_type": "code",
   "execution_count": 6,
   "metadata": {},
   "outputs": [
    {
     "name": "stdin",
     "output_type": "stream",
     "text": [
      "🔑 Enter your OpenAI API key:  ········\n"
     ]
    }
   ],
   "source": [
    "if not (openai_api_key := os.getenv(\"OPENAI_API_KEY\")):\n",
    "    openai_api_key = getpass(\"🔑 Enter your OpenAI API key: \")\n",
    "openai.api_key = openai_api_key\n",
    "os.environ[\"OPENAI_API_KEY\"] = openai_api_key"
   ]
  },
  {
   "cell_type": "markdown",
   "metadata": {},
   "source": [
    "## Benchmark Dataset Sample\n",
    "Sample size determines run time\n",
    "Recommend iterating small: 100 samples\n",
    "Then increasing to large test set"
   ]
  },
  {
   "cell_type": "code",
   "execution_count": 7,
   "metadata": {},
   "outputs": [],
   "source": [
    "df = df.sample(n=N_EVAL_SAMPLE_SIZE).reset_index(drop=True)"
   ]
  },
  {
   "cell_type": "markdown",
   "metadata": {},
   "source": [
    "## LLM Evals: hallucination Classifications GPT-4\n",
    "Run hallucination against a subset of the data."
   ]
  },
  {
   "cell_type": "markdown",
   "metadata": {},
   "source": [
    "Instantiate the LLM and set parameters."
   ]
  },
  {
   "cell_type": "code",
   "execution_count": 8,
   "metadata": {},
   "outputs": [],
   "source": [
    "model = OpenAIModel(\n",
    "    model_name=\"gpt-4\",\n",
    "    temperature=0.0,\n",
    ")"
   ]
  },
  {
   "cell_type": "code",
   "execution_count": 9,
   "metadata": {},
   "outputs": [
    {
     "data": {
      "text/plain": [
       "\"Hello! I'm working perfectly. How can I assist you today?\""
      ]
     },
     "execution_count": 9,
     "metadata": {},
     "output_type": "execute_result"
    }
   ],
   "source": [
    "model(\"Hello world, this is a test if you are working?\")"
   ]
  },
  {
   "cell_type": "code",
   "execution_count": 10,
   "metadata": {},
   "outputs": [
    {
     "data": {
      "application/vnd.jupyter.widget-view+json": {
       "model_id": "3fbe7be5ff2640d2a85e3464fcdf16b2",
       "version_major": 2,
       "version_minor": 0
      },
      "text/plain": [
       "  0%|          | 0/100 [00:00<?, ?it/s]"
      ]
     },
     "metadata": {},
     "output_type": "display_data"
    }
   ],
   "source": [
    "# The rails fore the output to specific values of the template\n",
    "# It will remove text such as \",,,\" or \"...\", anything not the\n",
    "# binary value expected from the template\n",
    "rails = list(HALLUCINATION_PROMPT_RAILS_MAP.values())\n",
    "hallucination_classifications = llm_classify(\n",
    "    dataframe=df, template=HALLUCINATION_PROMPT_TEMPLATE, model=model, rails=rails\n",
    ")[\"label\"]"
   ]
  },
  {
   "cell_type": "markdown",
   "metadata": {},
   "source": [
    "\n",
    "\n",
    "Evaluate the predictions against human-labeled ground-truth hallucination labels."
   ]
  },
  {
   "cell_type": "code",
   "execution_count": 11,
   "metadata": {},
   "outputs": [
    {
     "name": "stdout",
     "output_type": "stream",
     "text": [
      "              precision    recall  f1-score   support\n",
      "\n",
      "hallucinated       0.93      0.87      0.90        45\n",
      "     factual       0.90      0.95      0.92        55\n",
      "\n",
      "    accuracy                           0.91       100\n",
      "   macro avg       0.91      0.91      0.91       100\n",
      "weighted avg       0.91      0.91      0.91       100\n",
      "\n"
     ]
    },
    {
     "data": {
      "text/plain": [
       "<Axes: title={'center': 'Confusion Matrix (Normalized)'}, xlabel='Predicted Classes', ylabel='Actual Classes'>"
      ]
     },
     "execution_count": 11,
     "metadata": {},
     "output_type": "execute_result"
    },
    {
     "data": {
      "image/png": "[encoded data removed]",
      "text/plain": [
       "<Figure size 640x480 with 2 Axes>"
      ]
     },
     "metadata": {},
     "output_type": "display_data"
    }
   ],
   "source": [
    "true_labels = df[\"is_hallucination\"].map(HALLUCINATION_PROMPT_RAILS_MAP).tolist()\n",
    "hallucination_classifications = (\n",
    "    pd.Series(hallucination_classifications)\n",
    "    .map(lambda x: \"unparseable\" if x is None else x)\n",
    "    .tolist()\n",
    ")\n",
    "print(classification_report(true_labels, hallucination_classifications, labels=rails))\n",
    "confusion_matrix = ConfusionMatrix(\n",
    "    actual_vector=true_labels, predict_vector=hallucination_classifications, classes=rails\n",
    ")\n",
    "confusion_matrix.plot(\n",
    "    cmap=plt.colormaps[\"Blues\"],\n",
    "    number_label=True,\n",
    "    normalized=True,\n",
    ")"
   ]
  },
  {
   "cell_type": "markdown",
   "metadata": {},
   "source": [
    "## Classifications with explanations\n",
    "\n",
    "When evaluating a dataset for hallucinations, it can be useful to know why the LLM classified a response as a hallucination or not. The following code block runs `llm_classify` with explanations turned on so that we can inspect why the LLM made the classification it did. There is speed tradeoff since more tokens is being generated but it can be highly informative when troubleshooting."
   ]
  },
  {
   "cell_type": "code",
   "execution_count": 12,
   "metadata": {},
   "outputs": [
    {
     "name": "stdout",
     "output_type": "stream",
     "text": [
      "Using prompt:\n",
      "\n",
      "\n",
      "In this task, you will be presented with a query, a reference text and an answer. The answer is\n",
      "generated to the question based on the reference text. The answer may contain false information, you\n",
      "must use the reference text to determine if the answer to the question contains false information,\n",
      "if the answer is a hallucination of facts. Your objective is to determine whether the reference text\n",
      "contains factual information and is not a hallucination. A 'hallucination' in this context refers to\n",
      "an answer that is not based on the reference text or assumes information that is not available in\n",
      "the reference text.\n",
      "\n",
      "    [BEGIN DATA]\n",
      "    ************\n",
      "    [Query]: {query}\n",
      "    ************\n",
      "    [Reference text]: {reference}\n",
      "    ************\n",
      "    [Answer]: {response}\n",
      "    ************\n",
      "    [END DATA]\n",
      "\n",
      "    Is the answer above factual or hallucinated based on the query and reference text?\n",
      "\n",
      "Please read the query, reference text and answer carefully, then write out in a step by step manner\n",
      "an EXPLANATION to show how to determine if the answer is \"factual\" or \"hallucinated\". Avoid simply\n",
      "stating the correct answer at the outset. Your response LABEL should be a single word: either\n",
      "\"factual\" or \"hallucinated\", and it should not include any other text or characters. \"hallucinated\"\n",
      "indicates that the answer provides factually inaccurate information to the query based on the\n",
      "reference text. \"factual\" indicates that the answer to the question is correct relative to the\n",
      "reference text, and does not contain made up information.\n",
      "\n",
      "Example response:\n",
      "************\n",
      "EXPLANATION: An explanation of your reasoning for why the label is \"factual\" or \"hallucinated\"\n",
      "LABEL: \"factual\" or \"hallucinated\"\n",
      "************\n",
      "\n",
      "EXPLANATION:\n",
      "OpenAI invocation parameters: {'model': 'gpt-4', 'temperature': 0.0, 'max_tokens': 256, 'frequency_penalty': 0, 'presence_penalty': 0, 'top_p': 1, 'n': 1, 'timeout': None}\n"
     ]
    },
    {
     "data": {
      "application/vnd.jupyter.widget-view+json": {
       "model_id": "568408126fc54856a4785ba771c9e842",
       "version_major": 2,
       "version_minor": 0
      },
      "text/plain": [
       "  0%|          | 0/5 [00:00<?, ?it/s]"
      ]
     },
     "metadata": {},
     "output_type": "display_data"
    },
    {
     "name": "stdout",
     "output_type": "stream",
     "text": [
      "- Snapped 'factual' to rail: factual\n",
      "- Snapped 'hallucinated' to rail: hallucinated\n",
      "- Snapped 'hallucinated' to rail: hallucinated\n",
      "- Snapped 'hallucinated' to rail: hallucinated\n",
      "- Snapped 'factual' to rail: factual\n"
     ]
    }
   ],
   "source": [
    "small_df_sample = df.copy().sample(n=5).reset_index(drop=True)\n",
    "hallucination_classifications_df = llm_classify(\n",
    "    dataframe=small_df_sample,\n",
    "    template=HALLUCINATION_PROMPT_TEMPLATE,\n",
    "    model=model,\n",
    "    rails=rails,\n",
    "    provide_explanation=True,\n",
    "    verbose=True,\n",
    ")"
   ]
  },
  {
   "cell_type": "code",
   "execution_count": 13,
   "metadata": {},
   "outputs": [
    {
     "data": {
      "text/html": [
       "<div>\n",
       "<style scoped>\n",
       "    .dataframe tbody tr th:only-of-type {\n",
       "        vertical-align: middle;\n",
       "    }\n",
       "\n",
       "    .dataframe tbody tr th {\n",
       "        vertical-align: top;\n",
       "    }\n",
       "\n",
       "    .dataframe thead th {\n",
       "        text-align: right;\n",
       "    }\n",
       "</style>\n",
       "<table border=\"1\" class=\"dataframe\">\n",
       "  <thead>\n",
       "    <tr style=\"text-align: right;\">\n",
       "      <th></th>\n",
       "      <th>query</th>\n",
       "      <th>reference</th>\n",
       "      <th>response</th>\n",
       "      <th>is_hallucination</th>\n",
       "      <th>label</th>\n",
       "      <th>explanation</th>\n",
       "    </tr>\n",
       "  </thead>\n",
       "  <tbody>\n",
       "    <tr>\n",
       "      <th>0</th>\n",
       "      <td>On which bank of the river known in French as \"Fleuve Saint-Jean\" is Nashwaaksis situated?</td>\n",
       "      <td>Nashwaaksis is a neighbourhood and former village in the city of Fredericton, New Brunswick; it is located on the north bank of the Saint John River and at the mouth of the Nashwaaksis Stream, which should not be confused with the larger Nashwaak River nearby.The Saint John River (French: \"Fleuve Saint-Jean\" ; Maliseet: \"Wolastoq\"( )) is a river, approximately 418 mi long, located principally in the Canadian province of New Brunswick, but also in and arising from the province of Quebec and the U.S. state of Maine.</td>\n",
       "      <td>north</td>\n",
       "      <td>False</td>\n",
       "      <td>factual</td>\n",
       "      <td>The query asks for the bank of the river (known in French as 'Fleuve Saint-Jean') on which Nashwaaksis is situated. The reference text clearly states that Nashwaaksis is located on the north bank of the Saint John River (which is the English name for 'Fleuve Saint-Jean'). Therefore, the answer 'north' is factual and based on the information provided in the reference text.</td>\n",
       "    </tr>\n",
       "    <tr>\n",
       "      <th>1</th>\n",
       "      <td>What choreographer for the Indian version of BBC's \"Strictly Come Dancing\" is currently judging Maharashtracha Dancing Superstar - Chhotte Masters?</td>\n",
       "      <td>Savio Barnes (Hindi: सवियो बार्न्स) is a popular Bollywood Dance choreographer, actor and dancer. He came to fame after choreographing many dances for Jhalak Dikhhla Jaa, a dance-competition. Currently Savio is judging the Marathi dance reality show Maharashtracha Dancing Superstar - Chhotte Masters.Jhalak Dikhhla Jaa is a television reality show and the Indian version of BBC's \"Strictly Come Dancing\".</td>\n",
       "      <td>Savio Barnes was a participant in Jhalak Dikhhla Jaa before becoming a choreographer and judge.</td>\n",
       "      <td>True</td>\n",
       "      <td>hallucinated</td>\n",
       "      <td>The answer states that Savio Barnes was a participant in Jhalak Dikhhla Jaa before becoming a choreographer and judge. However, the reference text does not provide any information about Savio Barnes being a participant in the show. It only mentions that he came to fame after choreographing many dances for Jhalak Dikhhla Jaa and is currently judging the Marathi dance reality show Maharashtracha Dancing Superstar - Chhotte Masters. Therefore, the answer is hallucinated as it assumes information that is not available in the reference text.</td>\n",
       "    </tr>\n",
       "    <tr>\n",
       "      <th>2</th>\n",
       "      <td>The Valigeria Franzi was an Italian manufacturer of leather bags and luggage founded in Milan in 1864 by Rocco Franzi, Guccio Gucci worked for the company until he set up Gucci in what year, an Italian luxury brand of fashion and leather goods, part of the Gucci Group, which is owned by the French holding company Kering?</td>\n",
       "      <td>Guccio Gucci worked for the company until he set up Gucci in 1921. Gucci was founded by Guccio Gucci in Florence in 1921.</td>\n",
       "      <td>Guccio Gucci set up Gucci in 1922.</td>\n",
       "      <td>True</td>\n",
       "      <td>hallucinated</td>\n",
       "      <td>The reference text clearly states that Guccio Gucci set up Gucci in 1921. However, the answer claims that Guccio Gucci set up Gucci in 1922. This is a contradiction, and since the answer does not align with the information provided in the reference text, it can be considered a hallucination.</td>\n",
       "    </tr>\n",
       "    <tr>\n",
       "      <th>3</th>\n",
       "      <td>Thomas Ritter  is a retired German footballer who played one game for Germany in 1993 against Uruguay, as a substitute for Stefan Effenberg, a retired German footballer who last managed what club?</td>\n",
       "      <td>Thomas Ritter (born 10 October 1967 in Görlitz) is a retired German footballer. He played one game for Germany on 13 October 1993 in a friendly against Uruguay, as a substitute for Stefan Effenberg.Stefan Effenberg (] ; born 2 August 1968) is a retired German footballer who last managed SC Paderborn.</td>\n",
       "      <td>Stefan Effenberg last managed Borussia Mönchengladbach.</td>\n",
       "      <td>True</td>\n",
       "      <td>hallucinated</td>\n",
       "      <td>The answer states that Stefan Effenberg last managed Borussia Mönchengladbach. However, according to the reference text, Stefan Effenberg last managed SC Paderborn. Therefore, the answer is hallucinated as it provides factually inaccurate information based on the reference text.</td>\n",
       "    </tr>\n",
       "    <tr>\n",
       "      <th>4</th>\n",
       "      <td>Are the bands \"Halestorm\" and \"Say Anything\" from different states?</td>\n",
       "      <td>Halestorm is an American hard rock band from Red Lion, Pennsylvania, consisting of lead vocalist and guitarist Lzzy Hale, her brother drummer and percussionist Arejay Hale, guitarist Joe Hottinger, and bassist Josh Smith.Say Anything is an American rock band from Los Angeles, California.</td>\n",
       "      <td>yes</td>\n",
       "      <td>False</td>\n",
       "      <td>factual</td>\n",
       "      <td>The reference text clearly states that the band 'Halestorm' is from Red Lion, Pennsylvania and the band 'Say Anything' is from Los Angeles, California. These are two different states in the United States. Therefore, the answer 'yes' to the query 'Are the bands \"Halestorm\" and \"Say Anything\" from different states?' is factual and based on the information provided in the reference text.</td>\n",
       "    </tr>\n",
       "  </tbody>\n",
       "</table>\n",
       "</div>"
      ],
      "text/plain": [
       "                                                                                                                                                                                                                                                                                                                                query  \\\n",
       "0                                                                                                                                                                                                                                          On which bank of the river known in French as \"Fleuve Saint-Jean\" is Nashwaaksis situated?   \n",
       "1                                                                                                                                                                                 What choreographer for the Indian version of BBC's \"Strictly Come Dancing\" is currently judging Maharashtracha Dancing Superstar - Chhotte Masters?   \n",
       "2  The Valigeria Franzi was an Italian manufacturer of leather bags and luggage founded in Milan in 1864 by Rocco Franzi, Guccio Gucci worked for the company until he set up Gucci in what year, an Italian luxury brand of fashion and leather goods, part of the Gucci Group, which is owned by the French holding company Kering?   \n",
       "3                                                                                                                                Thomas Ritter  is a retired German footballer who played one game for Germany in 1993 against Uruguay, as a substitute for Stefan Effenberg, a retired German footballer who last managed what club?   \n",
       "4                                                                                                                                                                                                                                                                 Are the bands \"Halestorm\" and \"Say Anything\" from different states?   \n",
       "\n",
       "                                                                                                                                                                                                                                                                                                                                                                                                                                                                                                                                 reference  \\\n",
       "0  Nashwaaksis is a neighbourhood and former village in the city of Fredericton, New Brunswick; it is located on the north bank of the Saint John River and at the mouth of the Nashwaaksis Stream, which should not be confused with the larger Nashwaak River nearby.The Saint John River (French: \"Fleuve Saint-Jean\" ; Maliseet: \"Wolastoq\"( )) is a river, approximately 418 mi long, located principally in the Canadian province of New Brunswick, but also in and arising from the province of Quebec and the U.S. state of Maine.   \n",
       "1                                                                                                                    Savio Barnes (Hindi: सवियो बार्न्स) is a popular Bollywood Dance choreographer, actor and dancer. He came to fame after choreographing many dances for Jhalak Dikhhla Jaa, a dance-competition. Currently Savio is judging the Marathi dance reality show Maharashtracha Dancing Superstar - Chhotte Masters.Jhalak Dikhhla Jaa is a television reality show and the Indian version of BBC's \"Strictly Come Dancing\".   \n",
       "2                                                                                                                                                                                                                                                                                                                                                                                                                Guccio Gucci worked for the company until he set up Gucci in 1921. Gucci was founded by Guccio Gucci in Florence in 1921.   \n",
       "3                                                                                                                                                                                                                            Thomas Ritter (born 10 October 1967 in Görlitz) is a retired German footballer. He played one game for Germany on 13 October 1993 in a friendly against Uruguay, as a substitute for Stefan Effenberg.Stefan Effenberg (] ; born 2 August 1968) is a retired German footballer who last managed SC Paderborn.   \n",
       "4                                                                                                                                                                                                                                         Halestorm is an American hard rock band from Red Lion, Pennsylvania, consisting of lead vocalist and guitarist Lzzy Hale, her brother drummer and percussionist Arejay Hale, guitarist Joe Hottinger, and bassist Josh Smith.Say Anything is an American rock band from Los Angeles, California.   \n",
       "\n",
       "                                                                                          response  \\\n",
       "0                                                                                            north   \n",
       "1  Savio Barnes was a participant in Jhalak Dikhhla Jaa before becoming a choreographer and judge.   \n",
       "2                                                               Guccio Gucci set up Gucci in 1922.   \n",
       "3                                          Stefan Effenberg last managed Borussia Mönchengladbach.   \n",
       "4                                                                                              yes   \n",
       "\n",
       "   is_hallucination         label  \\\n",
       "0             False       factual   \n",
       "1              True  hallucinated   \n",
       "2              True  hallucinated   \n",
       "3              True  hallucinated   \n",
       "4             False       factual   \n",
       "\n",
       "                                                                                                                                                                                                                                                                                                                                                                                                                                                                                                                                                      explanation  \n",
       "0                                                                                                                                                                          The query asks for the bank of the river (known in French as 'Fleuve Saint-Jean') on which Nashwaaksis is situated. The reference text clearly states that Nashwaaksis is located on the north bank of the Saint John River (which is the English name for 'Fleuve Saint-Jean'). Therefore, the answer 'north' is factual and based on the information provided in the reference text.  \n",
       "1  The answer states that Savio Barnes was a participant in Jhalak Dikhhla Jaa before becoming a choreographer and judge. However, the reference text does not provide any information about Savio Barnes being a participant in the show. It only mentions that he came to fame after choreographing many dances for Jhalak Dikhhla Jaa and is currently judging the Marathi dance reality show Maharashtracha Dancing Superstar - Chhotte Masters. Therefore, the answer is hallucinated as it assumes information that is not available in the reference text.  \n",
       "2                                                                                                                                                                                                                                                            The reference text clearly states that Guccio Gucci set up Gucci in 1921. However, the answer claims that Guccio Gucci set up Gucci in 1922. This is a contradiction, and since the answer does not align with the information provided in the reference text, it can be considered a hallucination.  \n",
       "3                                                                                                                                                                                                                                                                         The answer states that Stefan Effenberg last managed Borussia Mönchengladbach. However, according to the reference text, Stefan Effenberg last managed SC Paderborn. Therefore, the answer is hallucinated as it provides factually inaccurate information based on the reference text.  \n",
       "4                                                                                                                                                             The reference text clearly states that the band 'Halestorm' is from Red Lion, Pennsylvania and the band 'Say Anything' is from Los Angeles, California. These are two different states in the United States. Therefore, the answer 'yes' to the query 'Are the bands \"Halestorm\" and \"Say Anything\" from different states?' is factual and based on the information provided in the reference text.  "
      ]
     },
     "execution_count": 13,
     "metadata": {},
     "output_type": "execute_result"
    }
   ],
   "source": [
    "# Let's view the data\n",
    "merged_df = pd.merge(\n",
    "    small_df_sample, hallucination_classifications_df, left_index=True, right_index=True\n",
    ")\n",
    "merged_df[[\"query\", \"reference\", \"response\", \"is_hallucination\", \"label\", \"explanation\"]].head()"
   ]
  },
  {
   "cell_type": "markdown",
   "metadata": {},
   "source": [
    "## LLM Evals: hallucination Classifications GPT-3.5\n",
    "Run hallucination against a subset of the data."
   ]
  },
  {
   "cell_type": "code",
   "execution_count": 14,
   "metadata": {},
   "outputs": [],
   "source": [
    "model = OpenAIModel(model_name=\"gpt-3.5-turbo\", temperature=0.0, request_timeout=20)"
   ]
  },
  {
   "cell_type": "code",
   "execution_count": 15,
   "metadata": {},
   "outputs": [
    {
     "data": {
      "application/vnd.jupyter.widget-view+json": {
       "model_id": "b719814e7fc74bf8889335a3d687c6a6",
       "version_major": 2,
       "version_minor": 0
      },
      "text/plain": [
       "  0%|          | 0/100 [00:00<?, ?it/s]"
      ]
     },
     "metadata": {},
     "output_type": "display_data"
    }
   ],
   "source": [
    "rails = list(HALLUCINATION_PROMPT_RAILS_MAP.values())\n",
    "hallucination_classifications = llm_classify(\n",
    "    dataframe=df, template=HALLUCINATION_PROMPT_TEMPLATE, model=model, rails=rails\n",
    ")[\"label\"]"
   ]
  },
  {
   "cell_type": "code",
   "execution_count": 16,
   "metadata": {},
   "outputs": [
    {
     "name": "stdout",
     "output_type": "stream",
     "text": [
      "              precision    recall  f1-score   support\n",
      "\n",
      "hallucinated       0.97      0.78      0.86        45\n",
      "     factual       0.84      0.98      0.91        55\n",
      "\n",
      "    accuracy                           0.89       100\n",
      "   macro avg       0.91      0.88      0.89       100\n",
      "weighted avg       0.90      0.89      0.89       100\n",
      "\n"
     ]
    },
    {
     "data": {
      "text/plain": [
       "<Axes: title={'center': 'Confusion Matrix (Normalized)'}, xlabel='Predicted Classes', ylabel='Actual Classes'>"
      ]
     },
     "execution_count": 16,
     "metadata": {},
     "output_type": "execute_result"
    },
    {
     "data": {
      "image/png": "[encoded data removed]",
      "text/plain": [
       "<Figure size 640x480 with 2 Axes>"
      ]
     },
     "metadata": {},
     "output_type": "display_data"
    }
   ],
   "source": [
    "true_labels = df[\"is_hallucination\"].map(HALLUCINATION_PROMPT_RAILS_MAP).tolist()\n",
    "hallucination_classifications = (\n",
    "    pd.Series(hallucination_classifications)\n",
    "    .map(lambda x: \"unparseable\" if x is None else x)\n",
    "    .tolist()\n",
    ")\n",
    "\n",
    "print(classification_report(true_labels, hallucination_classifications, labels=rails))\n",
    "confusion_matrix = ConfusionMatrix(\n",
    "    actual_vector=true_labels, predict_vector=hallucination_classifications, classes=rails\n",
    ")\n",
    "confusion_matrix.plot(\n",
    "    cmap=plt.colormaps[\"Blues\"],\n",
    "    number_label=True,\n",
    "    normalized=True,\n",
    ")"
   ]
  },
  {
   "cell_type": "markdown",
   "metadata": {},
   "source": [
    "# Preview: GPT-4 Turbo"
   ]
  },
  {
   "cell_type": "code",
   "execution_count": 17,
   "metadata": {},
   "outputs": [
    {
     "data": {
      "application/vnd.jupyter.widget-view+json": {
       "model_id": "c03979f38841479aa379acf3ca5915b9",
       "version_major": 2,
       "version_minor": 0
      },
      "text/plain": [
       "  0%|          | 0/100 [00:00<?, ?it/s]"
      ]
     },
     "metadata": {},
     "output_type": "display_data"
    }
   ],
   "source": [
    "rails = list(HALLUCINATION_PROMPT_RAILS_MAP.values())\n",
    "readability_classifications = llm_classify(\n",
    "    dataframe=df,\n",
    "    template=HALLUCINATION_PROMPT_TEMPLATE,\n",
    "    model=OpenAIModel(model_name=\"gpt-4-1106-preview\", temperature=0.0),\n",
    "    rails=rails,\n",
    ")[\"label\"]"
   ]
  },
  {
   "cell_type": "code",
   "execution_count": 18,
   "metadata": {},
   "outputs": [
    {
     "name": "stdout",
     "output_type": "stream",
     "text": [
      "              precision    recall  f1-score   support\n",
      "\n",
      "hallucinated       0.97      0.78      0.86        45\n",
      "     factual       0.84      0.98      0.91        55\n",
      "\n",
      "    accuracy                           0.89       100\n",
      "   macro avg       0.91      0.88      0.89       100\n",
      "weighted avg       0.90      0.89      0.89       100\n",
      "\n"
     ]
    },
    {
     "data": {
      "text/plain": [
       "<Axes: title={'center': 'Confusion Matrix (Normalized)'}, xlabel='Predicted Classes', ylabel='Actual Classes'>"
      ]
     },
     "execution_count": 18,
     "metadata": {},
     "output_type": "execute_result"
    },
    {
     "data": {
      "image/png": "[encoded data removed]",
      "text/plain": [
       "<Figure size 640x480 with 2 Axes>"
      ]
     },
     "metadata": {},
     "output_type": "display_data"
    }
   ],
   "source": [
    "true_labels = df[\"is_hallucination\"].map(HALLUCINATION_PROMPT_RAILS_MAP).tolist()\n",
    "hallucination_classifications = (\n",
    "    pd.Series(hallucination_classifications)\n",
    "    .map(lambda x: \"unparseable\" if x is None else x)\n",
    "    .tolist()\n",
    ")\n",
    "\n",
    "print(classification_report(true_labels, hallucination_classifications, labels=rails))\n",
    "confusion_matrix = ConfusionMatrix(\n",
    "    actual_vector=true_labels, predict_vector=hallucination_classifications, classes=rails\n",
    ")\n",
    "confusion_matrix.plot(\n",
    "    cmap=plt.colormaps[\"Blues\"],\n",
    "    number_label=True,\n",
    "    normalized=True,\n",
    ")"
   ]
  }
 ],
 "metadata": {
  "kernelspec": {
   "display_name": "Python 3 (ipykernel)",
   "language": "python",
   "name": "python3"
  },
  "language_info": {
   "codemirror_mode": {
    "name": "ipython",
    "version": 3
   },
   "file_extension": ".py",
   "mimetype": "text/x-python",
   "name": "python",
   "nbconvert_exporter": "python",
   "pygments_lexer": "ipython3",
   "version": "3.8.18"
  }
 },
 "nbformat": 4,
 "nbformat_minor": 4
}
