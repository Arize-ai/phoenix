{
    "cells": [
        {
            "cell_type": "markdown",
            "metadata": {},
            "source": [
                "<center>\n",
                "    <p style=\"text-align:center\">\n",
                "        <img alt=\"phoenix logo\" src=\"https://storage.googleapis.com/arize-phoenix-assets/assets/phoenix-logo-light.svg\" width=\"200\"/>\n",
                "        <br>\n",
                "        <a href=\"https://docs.arize.com/phoenix/\">Docs</a>\n",
                "        |\n",
                "        <a href=\"https://github.com/Arize-ai/phoenix\">GitHub</a>\n",
                "        |\n",
                "        <a href=\"https://join.slack.com/t/arize-ai/shared_invite/zt-1px8dcmlf-fmThhDFD_V_48oU7ALan4Q\">Community</a>\n",
                "    </p>\n",
                "</center>\n",
                "<h1 align=\"center\">Hallucination Classification Evals</h1>\n",
                "\n",
                "The purpose of this notebook is:\n",
                "\n",
                "- to evaluate the performance of an LLM-assisted approach to detecting hallucinations,\n",
                "- to provide an experimental framework for users to iterate and improve on the default classification template.\n",
                "\n",
                "## Install Dependencies and Import Libraries"
            ]
        },
        {
            "cell_type": "code",
            "execution_count": 2,
            "metadata": {},
            "outputs": [],
            "source": [
                "#####################\n",
                "## N_EVAL_SAMPLE_SIZE\n",
                "#####################\n",
                "# Eval sample size determines the run time\n",
                "# 100 samples: GPT-4 ~ 80 sec / GPT-3.5 ~ 40 sec\n",
                "# 1,000 samples: GPT-4 ~15-17 min / GPT-3.5 ~ 6-7min (depending on retries)\n",
                "# 10,000 samples GPT-4 ~170 min / GPT-3.5 ~ 70min\n",
                "N_EVAL_SAMPLE_SIZE = 100"
            ]
        },
        {
            "cell_type": "code",
            "execution_count": 1,
            "metadata": {},
            "outputs": [],
            "source": [
                "!pip install -qq \"arize-phoenix-evals>=0.0.5\" \"openai>=1\" ipython matplotlib pycm scikit-learn tiktoken nest_asyncio"
            ]
        },
        {
            "cell_type": "markdown",
            "metadata": {},
            "source": [
                "ℹ️ To enable async request submission in notebook environments like Jupyter or Google Colab, optionally use `nest_asyncio`. `nest_asyncio` globally patches `asyncio` to enable event loops to be re-entrant. This is not required for non-notebook environments.\n",
                "\n",
                "Without `nest_asyncio`, eval submission can be much slower, depending on your organization's rate limits. Speed increases of about 5x are typical."
            ]
        },
        {
            "cell_type": "code",
            "execution_count": 3,
            "metadata": {},
            "outputs": [],
            "source": [
                "import nest_asyncio\n",
                "\n",
                "nest_asyncio.apply()"
            ]
        },
        {
            "cell_type": "code",
            "execution_count": 4,
            "metadata": {},
            "outputs": [
                {
                    "name": "stderr",
                    "output_type": "stream",
                    "text": [
                        "/Users/mikeldking/anaconda3/envs/phoenix/lib/python3.12/site-packages/tqdm/auto.py:21: TqdmWarning: IProgress not found. Please update jupyter and ipywidgets. See https://ipywidgets.readthedocs.io/en/stable/user_install.html\n",
                        "  from .autonotebook import tqdm as notebook_tqdm\n"
                    ]
                }
            ],
            "source": [
                "import os\n",
                "from getpass import getpass\n",
                "\n",
                "import matplotlib.pyplot as plt\n",
                "import openai\n",
                "import pandas as pd\n",
                "from phoenix.evals import (\n",
                "    HALLUCINATION_PROMPT_RAILS_MAP,\n",
                "    HALLUCINATION_PROMPT_TEMPLATE,\n",
                "    OpenAIModel,\n",
                "    download_benchmark_dataset,\n",
                "    llm_classify,\n",
                ")\n",
                "from pycm import ConfusionMatrix\n",
                "from sklearn.metrics import classification_report\n",
                "\n",
                "pd.set_option(\"display.max_colwidth\", None)"
            ]
        },
        {
            "cell_type": "markdown",
            "metadata": {},
            "source": [
                "## Download Benchmark Dataset\n",
                "\n",
                "We'll evaluate the evaluation system consisting of an LLM model and settings in addition to an evaluation prompt template against benchmark datasets of queries and retrieved documents with ground-truth relevance labels. Currently supported datasets include \"halueval_qa_data\" from the HaluEval benchmark:\n",
                "\n",
                "- https://arxiv.org/abs/2305.11747\n",
                "- https://github.com/RUCAIBox/HaluEval"
            ]
        },
        {
            "cell_type": "code",
            "execution_count": 5,
            "metadata": {},
            "outputs": [
                {
                    "data": {
                        "text/html": [
                            "<div>\n",
                            "<style scoped>\n",
                            "    .dataframe tbody tr th:only-of-type {\n",
                            "        vertical-align: middle;\n",
                            "    }\n",
                            "\n",
                            "    .dataframe tbody tr th {\n",
                            "        vertical-align: top;\n",
                            "    }\n",
                            "\n",
                            "    .dataframe thead th {\n",
                            "        text-align: right;\n",
                            "    }\n",
                            "</style>\n",
                            "<table border=\"1\" class=\"dataframe\">\n",
                            "  <thead>\n",
                            "    <tr style=\"text-align: right;\">\n",
                            "      <th></th>\n",
                            "      <th>reference</th>\n",
                            "      <th>query</th>\n",
                            "      <th>response</th>\n",
                            "      <th>is_hallucination</th>\n",
                            "    </tr>\n",
                            "  </thead>\n",
                            "  <tbody>\n",
                            "    <tr>\n",
                            "      <th>0</th>\n",
                            "      <td>() is a prefecture-level city in northwestern Anhui province, China.Gaozhou is a county-level city in southwestern Guangdong Province, China.</td>\n",
                            "      <td>Can  Fuyang and Gaozhou be found in the same province?</td>\n",
                            "      <td>no</td>\n",
                            "      <td>False</td>\n",
                            "    </tr>\n",
                            "    <tr>\n",
                            "      <th>1</th>\n",
                            "      <td>() is a prefecture-level city in northwestern Anhui province, China.Gaozhou is a county-level city in southwestern Guangdong Province, China.</td>\n",
                            "      <td>Can  Fuyang and Gaozhou be found in the same province?</td>\n",
                            "      <td>Yes, Fuyang and Gaozhou are in the same province.</td>\n",
                            "      <td>True</td>\n",
                            "    </tr>\n",
                            "    <tr>\n",
                            "      <th>2</th>\n",
                            "      <td>\"808\" was a success in the United States becoming the group's first top ten hit peaking at number eight on the \"Billboard\" Hot 100 and top five peaking at number four on the Hot R&amp;B/Hip-Hop Singles.The \"Billboard\" Hot 100 is the music industry standard record chart in the United States for singles, published weekly by \"Billboard\" magazine.</td>\n",
                            "      <td>808 peaked at number eight on what?</td>\n",
                            "      <td>Billboard\" Hot 100</td>\n",
                            "      <td>False</td>\n",
                            "    </tr>\n",
                            "    <tr>\n",
                            "      <th>3</th>\n",
                            "      <td>\"808\" was a success in the United States becoming the group's first top ten hit peaking at number eight on the \"Billboard\" Hot 100 and top five peaking at number four on the Hot R&amp;B/Hip-Hop Singles.The \"Billboard\" Hot 100 is the music industry standard record chart in the United States for singles, published weekly by \"Billboard\" magazine.</td>\n",
                            "      <td>808 peaked at number eight on what?</td>\n",
                            "      <td>\"808\" peaked at number nine on \"Billboard\" Hot 100.</td>\n",
                            "      <td>True</td>\n",
                            "    </tr>\n",
                            "    <tr>\n",
                            "      <th>4</th>\n",
                            "      <td>\"Arms\" then made a comeback in 2017 reaching #36 on the iTunes chart passing Auli'i Cravalho's \"How Far I'll Go\" from the Disney movie \"Moana\" (2017).Moana ( ) is a 2016 American 3D computer-animated musical fantasy-adventure film produced by Walt Disney Animation Studios and released by Walt Disney Pictures.</td>\n",
                            "      <td>Arms is a song by American singer-songwriter Christina Perri, in 2017, it passed Auli'i Cravalho's, \"How Far I'll Go\" from which 2016, American 3D computer-animated Disney movie?</td>\n",
                            "      <td>Moana</td>\n",
                            "      <td>False</td>\n",
                            "    </tr>\n",
                            "  </tbody>\n",
                            "</table>\n",
                            "</div>"
                        ],
                        "text/plain": [
                            "                                                                                                                                                                                                                                                                                                                                                reference  \\\n",
                            "0                                                                                                                                                                                                           () is a prefecture-level city in northwestern Anhui province, China.Gaozhou is a county-level city in southwestern Guangdong Province, China.   \n",
                            "1                                                                                                                                                                                                           () is a prefecture-level city in northwestern Anhui province, China.Gaozhou is a county-level city in southwestern Guangdong Province, China.   \n",
                            "2   \"808\" was a success in the United States becoming the group's first top ten hit peaking at number eight on the \"Billboard\" Hot 100 and top five peaking at number four on the Hot R&B/Hip-Hop Singles.The \"Billboard\" Hot 100 is the music industry standard record chart in the United States for singles, published weekly by \"Billboard\" magazine.   \n",
                            "3   \"808\" was a success in the United States becoming the group's first top ten hit peaking at number eight on the \"Billboard\" Hot 100 and top five peaking at number four on the Hot R&B/Hip-Hop Singles.The \"Billboard\" Hot 100 is the music industry standard record chart in the United States for singles, published weekly by \"Billboard\" magazine.   \n",
                            "4                                  \"Arms\" then made a comeback in 2017 reaching #36 on the iTunes chart passing Auli'i Cravalho's \"How Far I'll Go\" from the Disney movie \"Moana\" (2017).Moana ( ) is a 2016 American 3D computer-animated musical fantasy-adventure film produced by Walt Disney Animation Studios and released by Walt Disney Pictures.   \n",
                            "\n",
                            "                                                                                                                                                                                query  \\\n",
                            "0                                                                                                                              Can  Fuyang and Gaozhou be found in the same province?   \n",
                            "1                                                                                                                              Can  Fuyang and Gaozhou be found in the same province?   \n",
                            "2                                                                                                                                                 808 peaked at number eight on what?   \n",
                            "3                                                                                                                                                 808 peaked at number eight on what?   \n",
                            "4  Arms is a song by American singer-songwriter Christina Perri, in 2017, it passed Auli'i Cravalho's, \"How Far I'll Go\" from which 2016, American 3D computer-animated Disney movie?   \n",
                            "\n",
                            "                                              response  is_hallucination  \n",
                            "0                                                   no             False  \n",
                            "1    Yes, Fuyang and Gaozhou are in the same province.              True  \n",
                            "2                                   Billboard\" Hot 100             False  \n",
                            "3  \"808\" peaked at number nine on \"Billboard\" Hot 100.              True  \n",
                            "4                                                Moana             False  "
                        ]
                    },
                    "execution_count": 5,
                    "metadata": {},
                    "output_type": "execute_result"
                }
            ],
            "source": [
                "df = download_benchmark_dataset(\n",
                "    task=\"binary-hallucination-classification\", dataset_name=\"halueval_qa_data\"\n",
                ")\n",
                "df.head()"
            ]
        },
        {
            "cell_type": "markdown",
            "metadata": {},
            "source": [
                "## Display Binary Hallucination Classification Template\n",
                "\n",
                "View the default template used to classify hallucinations. You can tweak this template and evaluate its performance relative to the default."
            ]
        },
        {
            "cell_type": "code",
            "execution_count": 6,
            "metadata": {},
            "outputs": [
                {
                    "name": "stdout",
                    "output_type": "stream",
                    "text": [
                        "\n",
                        "In this task, you will be presented with a query, a reference text and an answer. The answer is\n",
                        "generated to the question based on the reference text. The answer may contain false information, you\n",
                        "must use the reference text to determine if the answer to the question contains false information,\n",
                        "if the answer is a hallucination of facts. Your objective is to determine whether the answer text\n",
                        "contains factual information and is not a hallucination. A 'hallucination' refers to\n",
                        "an answer that is not based on the reference text or assumes information that is not available in\n",
                        "the reference text. Your response should be a single word: either \"factual\" or \"hallucinated\", and\n",
                        "it should not include any other text or characters. \"hallucinated\" indicates that the answer\n",
                        "provides factually inaccurate information to the query based on the reference text. \"factual\"\n",
                        "indicates that the answer to the question is correct relative to the reference text, and does not\n",
                        "contain made up information. Please read the query and reference text carefully before determining\n",
                        "your response.\n",
                        "\n",
                        "    [BEGIN DATA]\n",
                        "    ************\n",
                        "    [Query]: {input}\n",
                        "    ************\n",
                        "    [Reference text]: {reference}\n",
                        "    ************\n",
                        "    [Answer]: {output}\n",
                        "    ************\n",
                        "    [END DATA]\n",
                        "\n",
                        "    Is the answer above factual or hallucinated based on the query and reference text?\n",
                        "\n"
                    ]
                }
            ],
            "source": [
                "print(HALLUCINATION_PROMPT_TEMPLATE)"
            ]
        },
        {
            "cell_type": "markdown",
            "metadata": {},
            "source": [
                "Template variables:\n",
                "- **input** : The question or prompt asked on the context data.\n",
                "- **reference** : The context data used to answer the question\n",
                "- **output** : The answer generated from the context data, we are checking this answer for halluciations relative to the reference context"
            ]
        },
        {
            "cell_type": "markdown",
            "metadata": {},
            "source": [
                "## Configure the LLM\n",
                "\n",
                "Configure your OpenAI API key."
            ]
        },
        {
            "cell_type": "code",
            "execution_count": 7,
            "metadata": {},
            "outputs": [],
            "source": [
                "if not (openai_api_key := os.getenv(\"OPENAI_API_KEY\")):\n",
                "    openai_api_key = getpass(\"🔑 Enter your OpenAI API key: \")\n",
                "openai.api_key = openai_api_key\n",
                "os.environ[\"OPENAI_API_KEY\"] = openai_api_key"
            ]
        },
        {
            "cell_type": "markdown",
            "metadata": {},
            "source": [
                "## Benchmark Dataset Sample\n",
                "Sample size determines run time\n",
                "Recommend iterating small: 100 samples\n",
                "Then increasing to large test set"
            ]
        },
        {
            "cell_type": "code",
            "execution_count": 8,
            "metadata": {},
            "outputs": [],
            "source": [
                "df = (\n",
                "    df.sample(n=N_EVAL_SAMPLE_SIZE)\n",
                "    .reset_index(drop=True)\n",
                "    .rename(columns={\"query\": \"input\", \"response\": \"output\"})\n",
                ")"
            ]
        },
        {
            "cell_type": "markdown",
            "metadata": {},
            "source": [
                "## LLM Evals: hallucination Classifications GPT-4\n",
                "Run hallucination against a subset of the data."
            ]
        },
        {
            "cell_type": "markdown",
            "metadata": {},
            "source": [
                "Instantiate the LLM and set parameters."
            ]
        },
        {
            "cell_type": "code",
            "execution_count": 9,
            "metadata": {},
            "outputs": [
                {
                    "name": "stdout",
                    "output_type": "stream",
                    "text": [
                        "The `model_name` field is deprecated. Use `model` instead.                 This will be removed in a future release.\n"
                    ]
                }
            ],
            "source": [
                "model = OpenAIModel(\n",
                "    model_name=\"gpt-4\",\n",
                "    temperature=0.0,\n",
                ")"
            ]
        },
        {
            "cell_type": "code",
            "execution_count": 10,
            "metadata": {},
            "outputs": [
                {
                    "data": {
                        "text/plain": [
                            "\"Hello! I'm working perfectly. How can I assist you today?\""
                        ]
                    },
                    "execution_count": 10,
                    "metadata": {},
                    "output_type": "execute_result"
                }
            ],
            "source": [
                "model(\"Hello world, this is a test if you are working?\")"
            ]
        },
        {
            "cell_type": "code",
            "execution_count": 11,
            "metadata": {},
            "outputs": [
                {
                    "name": "stderr",
                    "output_type": "stream",
                    "text": [
                        "llm_classify |██████████| 100/100 (100.0%) | ⏳ 00:17<00:00 |  6.57it/s"
                    ]
                }
            ],
            "source": [
                "# The rails fore the output to specific values of the template\n",
                "# It will remove text such as \",,,\" or \"...\", anything not the\n",
                "# binary value expected from the template\n",
                "rails = list(HALLUCINATION_PROMPT_RAILS_MAP.values())\n",
                "hallucination_classifications = llm_classify(\n",
                "    dataframe=df, template=HALLUCINATION_PROMPT_TEMPLATE, model=model, rails=rails, concurrency=20\n",
                ")[\"label\"].tolist()"
            ]
        },
        {
            "cell_type": "markdown",
            "metadata": {},
            "source": [
                "\n",
                "\n",
                "Evaluate the predictions against human-labeled ground-truth hallucination labels."
            ]
        },
        {
            "cell_type": "code",
            "execution_count": 12,
            "metadata": {},
            "outputs": [
                {
                    "name": "stderr",
                    "output_type": "stream",
                    "text": [
                        "llm_classify |██████████| 100/100 (100.0%) | ⏳ 00:18<00:00 |  5.48it/s"
                    ]
                },
                {
                    "name": "stdout",
                    "output_type": "stream",
                    "text": [
                        "              precision    recall  f1-score   support\n",
                        "\n",
                        "hallucinated       0.97      0.70      0.81        46\n",
                        "     factual       0.79      0.98      0.88        54\n",
                        "\n",
                        "    accuracy                           0.85       100\n",
                        "   macro avg       0.88      0.84      0.84       100\n",
                        "weighted avg       0.87      0.85      0.85       100\n",
                        "\n"
                    ]
                },
                {
                    "name": "stderr",
                    "output_type": "stream",
                    "text": [
                        "\n"
                    ]
                },
                {
                    "data": {
                        "text/plain": [
                            "<Axes: title={'center': 'Confusion Matrix (Normalized)'}, xlabel='Predicted Classes', ylabel='Actual Classes'>"
                        ]
                    },
                    "execution_count": 12,
                    "metadata": {},
                    "output_type": "execute_result"
                },
                {
                    "data": {
                        "image/png": "[encoded data removed]",
                        "text/plain": [
                            "<Figure size 640x480 with 2 Axes>"
                        ]
                    },
                    "metadata": {},
                    "output_type": "display_data"
                }
            ],
            "source": [
                "true_labels = df[\"is_hallucination\"].map(HALLUCINATION_PROMPT_RAILS_MAP).tolist()\n",
                "print(classification_report(true_labels, hallucination_classifications, labels=rails))\n",
                "confusion_matrix = ConfusionMatrix(\n",
                "    actual_vector=true_labels,\n",
                "    predict_vector=hallucination_classifications,\n",
                "    classes=rails,\n",
                ")\n",
                "confusion_matrix.plot(\n",
                "    cmap=plt.colormaps[\"Blues\"],\n",
                "    number_label=True,\n",
                "    normalized=True,\n",
                ")"
            ]
        },
        {
            "cell_type": "markdown",
            "metadata": {},
            "source": [
                "## Classifications with explanations\n",
                "\n",
                "When evaluating a dataset for hallucinations, it can be useful to know why the LLM classified a response as a hallucination or not. The following code block runs `llm_classify` with explanations turned on so that we can inspect why the LLM made the classification it did. There is speed tradeoff since more tokens is being generated but it can be highly informative when troubleshooting."
            ]
        },
        {
            "cell_type": "code",
            "execution_count": 13,
            "metadata": {},
            "outputs": [
                {
                    "name": "stdout",
                    "output_type": "stream",
                    "text": [
                        "Using prompt:\n",
                        "\n",
                        "\n",
                        "In this task, you will be presented with a query, a reference text and an answer. The answer is\n",
                        "generated to the question based on the reference text. The answer may contain false information, you\n",
                        "must use the reference text to determine if the answer to the question contains false information,\n",
                        "if the answer is a hallucination of facts. Your objective is to determine whether the answer text\n",
                        "contains factual information and is not a hallucination. A 'hallucination' refers to\n",
                        "an answer that is not based on the reference text or assumes information that is not available in\n",
                        "the reference text.\n",
                        "\n",
                        "    [BEGIN DATA]\n",
                        "    ************\n",
                        "    [Query]: {input}\n",
                        "    ************\n",
                        "    [Reference text]: {reference}\n",
                        "    ************\n",
                        "    [Answer]: {output}\n",
                        "    ************\n",
                        "    [END DATA]\n",
                        "\n",
                        "    Is the answer above factual or hallucinated based on the query and reference text?\n",
                        "\n",
                        "Please read the query, reference text and answer carefully, then write out in a step by step manner\n",
                        "an EXPLANATION to show how to determine if the answer is \"factual\" or \"hallucinated\". Avoid simply\n",
                        "stating the correct answer at the outset. Your response LABEL should be a single word: either\n",
                        "\"factual\" or \"hallucinated\", and it should not include any other text or characters. \"hallucinated\"\n",
                        "indicates that the answer provides factually inaccurate information to the query based on the\n",
                        "reference text. \"factual\" indicates that the answer to the question is correct relative to the\n",
                        "reference text, and does not contain made up information.\n",
                        "\n",
                        "Example response:\n",
                        "************\n",
                        "EXPLANATION: An explanation of your reasoning for why the label is \"factual\" or \"hallucinated\"\n",
                        "LABEL: \"factual\" or \"hallucinated\"\n",
                        "************\n",
                        "\n",
                        "EXPLANATION:\n",
                        "OpenAI invocation parameters: {'model': 'gpt-4', 'temperature': 0.0, 'max_tokens': 256, 'frequency_penalty': 0, 'presence_penalty': 0, 'top_p': 1, 'n': 1, 'timeout': None}\n"
                    ]
                },
                {
                    "name": "stderr",
                    "output_type": "stream",
                    "text": [
                        "llm_classify |          | 0/5 (0.0%) | ⏳ 00:00<? | ?it/s"
                    ]
                },
                {
                    "name": "stderr",
                    "output_type": "stream",
                    "text": [
                        "llm_classify |██        | 1/5 (20.0%) | ⏳ 00:03<00:14 |  3.67s/it"
                    ]
                },
                {
                    "name": "stdout",
                    "output_type": "stream",
                    "text": [
                        "- Snapped 'factual' to rail: factual\n"
                    ]
                },
                {
                    "name": "stderr",
                    "output_type": "stream",
                    "text": [
                        "llm_classify |████      | 2/5 (40.0%) | ⏳ 00:04<00:05 |  1.75s/it "
                    ]
                },
                {
                    "name": "stdout",
                    "output_type": "stream",
                    "text": [
                        "- Snapped 'factual' to rail: factual\n",
                        "- Snapped 'factual' to rail: factual\n"
                    ]
                },
                {
                    "name": "stderr",
                    "output_type": "stream",
                    "text": [
                        "llm_classify |████████  | 4/5 (80.0%) | ⏳ 00:05<00:01 |  1.10s/it "
                    ]
                },
                {
                    "name": "stdout",
                    "output_type": "stream",
                    "text": [
                        "- Snapped 'factual' to rail: factual\n"
                    ]
                },
                {
                    "name": "stderr",
                    "output_type": "stream",
                    "text": [
                        "llm_classify |██████████| 5/5 (100.0%) | ⏳ 00:05<00:00 |  1.14it/s"
                    ]
                },
                {
                    "name": "stdout",
                    "output_type": "stream",
                    "text": [
                        "- Snapped 'factual' to rail: factual\n"
                    ]
                }
            ],
            "source": [
                "small_df_sample = df.copy().sample(n=5).reset_index(drop=True)\n",
                "hallucination_classifications_df = llm_classify(\n",
                "    dataframe=small_df_sample,\n",
                "    template=HALLUCINATION_PROMPT_TEMPLATE,\n",
                "    model=model,\n",
                "    rails=rails,\n",
                "    provide_explanation=True,\n",
                "    verbose=True,\n",
                "    concurrency=20,\n",
                ")"
            ]
        },
        {
            "cell_type": "code",
            "execution_count": 14,
            "metadata": {},
            "outputs": [
                {
                    "name": "stderr",
                    "output_type": "stream",
                    "text": [
                        "llm_classify |██████████| 5/5 (100.0%) | ⏳ 00:06<00:00 |  1.38s/it\n"
                    ]
                },
                {
                    "data": {
                        "text/html": [
                            "<div>\n",
                            "<style scoped>\n",
                            "    .dataframe tbody tr th:only-of-type {\n",
                            "        vertical-align: middle;\n",
                            "    }\n",
                            "\n",
                            "    .dataframe tbody tr th {\n",
                            "        vertical-align: top;\n",
                            "    }\n",
                            "\n",
                            "    .dataframe thead th {\n",
                            "        text-align: right;\n",
                            "    }\n",
                            "</style>\n",
                            "<table border=\"1\" class=\"dataframe\">\n",
                            "  <thead>\n",
                            "    <tr style=\"text-align: right;\">\n",
                            "      <th></th>\n",
                            "      <th>input</th>\n",
                            "      <th>reference</th>\n",
                            "      <th>output</th>\n",
                            "      <th>is_hallucination</th>\n",
                            "      <th>label</th>\n",
                            "      <th>explanation</th>\n",
                            "    </tr>\n",
                            "  </thead>\n",
                            "  <tbody>\n",
                            "    <tr>\n",
                            "      <th>0</th>\n",
                            "      <td>Caitlin Pike was a character in JAG that was portrayed by an actress who appeared in Pretty Little Liars, and was a dancer in what form of dance?</td>\n",
                            "      <td>Commander Caitlin \"Kate\" Pike, USN (JAGC) was a character in the military TV series \"JAG\" and was portrayed by Andrea Parker.Andrea Nicole Parker (born March 8, 1970) is an American television actress and former ballet dancer. She is known for her roles on \"ER\", \"The Pretender\", \"Less than Perfect\", \"Desperate Housewives\", and \"Pretty Little Liars\".</td>\n",
                            "      <td>ballet</td>\n",
                            "      <td>False</td>\n",
                            "      <td>factual</td>\n",
                            "      <td>The query asks about the form of dance that the character Caitlin Pike, portrayed by Andrea Parker, was a dancer in. The reference text mentions that Andrea Parker is a former ballet dancer. Therefore, the answer 'ballet' is based on the information provided in the reference text.</td>\n",
                            "    </tr>\n",
                            "    <tr>\n",
                            "      <th>1</th>\n",
                            "      <td>John Lasseter and Mikhail Kalatozov, share which mutual occupation?</td>\n",
                            "      <td>John Alan Lasseter (born January 12, 1957) is an American animator, film director, screenwriter, and film producer.Mikhail Konstantinovich Kalatozov (Georgian: მიხეილ კალატოზიშვილი , Russian: Михаи́л Константи́нович Калато́зов ) (28 December 1903 — 27 March 1973), born Mikheil Kalatozishvili, was a Soviet film director of Georgian origin who contributed to both Georgian and Russian cinema.</td>\n",
                            "      <td>John Lasseter and Mikhail Kalatozov share the occupation of filmmaking.</td>\n",
                            "      <td>True</td>\n",
                            "      <td>factual</td>\n",
                            "      <td>The reference text states that John Lasseter is an American animator, film director, screenwriter, and film producer, and Mikhail Kalatozov was a Soviet film director. Both of them are involved in the filmmaking industry. Therefore, the answer that they share the occupation of filmmaking is based on the information provided in the reference text.</td>\n",
                            "    </tr>\n",
                            "    <tr>\n",
                            "      <th>2</th>\n",
                            "      <td>Lugton and Dunlop are both villages located in what country?</td>\n",
                            "      <td>Lugton is a small village or hamlet in East Ayrshire, Scotland with a population of 80 people.Dunlop ( ; Scots: \"Dunlap\" , Scottish Gaelic: \"Dùn Lùib\" ) is a village and parish in East Ayrshire, Scotland.</td>\n",
                            "      <td>Scotland</td>\n",
                            "      <td>False</td>\n",
                            "      <td>factual</td>\n",
                            "      <td>The query asks for the country where the villages Lugton and Dunlop are located. The reference text clearly states that both Lugton and Dunlop are villages in East Ayrshire, Scotland. Therefore, the answer 'Scotland' is directly supported by the information provided in the reference text.</td>\n",
                            "    </tr>\n",
                            "    <tr>\n",
                            "      <th>3</th>\n",
                            "      <td>What is the 2010 population of the city to which WRHR-LP was licensed?</td>\n",
                            "      <td>WRHR-LP (95.3 FM) is a radio station licensed to Corbin, Kentucky, USA. As of the 2010 census, the city population was 7,304, with 21,132 living in the \"urban cluster\" that includes Corbin and North Corbin.</td>\n",
                            "      <td>7,304</td>\n",
                            "      <td>False</td>\n",
                            "      <td>factual</td>\n",
                            "      <td>The query asks for the 2010 population of the city to which WRHR-LP was licensed. The reference text states that WRHR-LP is licensed to Corbin, Kentucky, USA and that the 2010 population of Corbin was 7,304. The answer provided is 7,304, which matches the information given in the reference text. Therefore, the answer is not a hallucination, but is factual.</td>\n",
                            "    </tr>\n",
                            "    <tr>\n",
                            "      <th>4</th>\n",
                            "      <td>What punk rock band using horror film imagery was an influence on the Swedish band Entombed?</td>\n",
                            "      <td>Entombed is a Swedish death metal band formed in 1987 under the name of Nihilist. Entombed have been influenced by bands such as Slayer, Black Sabbath, Celtic Frost, Autopsy, Repulsion, Kiss, The Misfits, Motörhead and Discharge.Misfits are an American punk rock band often recognized as the progenitors of the horror punk subgenre, blending punk and other musical influences with horror film themes and imagery.</td>\n",
                            "      <td>The Swedish band Entombed was influenced by American band Misfits, who are recognized as the progenitors of horror punk.</td>\n",
                            "      <td>True</td>\n",
                            "      <td>factual</td>\n",
                            "      <td>The query asks for the punk rock band that uses horror film imagery and influenced the Swedish band Entombed. The reference text mentions that Entombed was influenced by several bands, including Misfits. The text also states that Misfits is an American punk rock band often recognized as the progenitors of the horror punk subgenre, blending punk and other musical influences with horror film themes and imagery. The answer states that Entombed was influenced by Misfits, who are recognized as the progenitors of horror punk. This is in line with the information provided in the reference text.</td>\n",
                            "    </tr>\n",
                            "  </tbody>\n",
                            "</table>\n",
                            "</div>"
                        ],
                        "text/plain": [
                            "                                                                                                                                               input  \\\n",
                            "0  Caitlin Pike was a character in JAG that was portrayed by an actress who appeared in Pretty Little Liars, and was a dancer in what form of dance?   \n",
                            "1                                                                                John Lasseter and Mikhail Kalatozov, share which mutual occupation?   \n",
                            "2                                                                                       Lugton and Dunlop are both villages located in what country?   \n",
                            "3                                                                             What is the 2010 population of the city to which WRHR-LP was licensed?   \n",
                            "4                                                       What punk rock band using horror film imagery was an influence on the Swedish band Entombed?   \n",
                            "\n",
                            "                                                                                                                                                                                                                                                                                                                                                                                                                      reference  \\\n",
                            "0                                                               Commander Caitlin \"Kate\" Pike, USN (JAGC) was a character in the military TV series \"JAG\" and was portrayed by Andrea Parker.Andrea Nicole Parker (born March 8, 1970) is an American television actress and former ballet dancer. She is known for her roles on \"ER\", \"The Pretender\", \"Less than Perfect\", \"Desperate Housewives\", and \"Pretty Little Liars\".   \n",
                            "1                      John Alan Lasseter (born January 12, 1957) is an American animator, film director, screenwriter, and film producer.Mikhail Konstantinovich Kalatozov (Georgian: მიხეილ კალატოზიშვილი , Russian: Михаи́л Константи́нович Калато́зов ) (28 December 1903 — 27 March 1973), born Mikheil Kalatozishvili, was a Soviet film director of Georgian origin who contributed to both Georgian and Russian cinema.   \n",
                            "2                                                                                                                                                                                                                  Lugton is a small village or hamlet in East Ayrshire, Scotland with a population of 80 people.Dunlop ( ; Scots: \"Dunlap\" , Scottish Gaelic: \"Dùn Lùib\" ) is a village and parish in East Ayrshire, Scotland.   \n",
                            "3                                                                                                                                                                                                                WRHR-LP (95.3 FM) is a radio station licensed to Corbin, Kentucky, USA. As of the 2010 census, the city population was 7,304, with 21,132 living in the \"urban cluster\" that includes Corbin and North Corbin.   \n",
                            "4  Entombed is a Swedish death metal band formed in 1987 under the name of Nihilist. Entombed have been influenced by bands such as Slayer, Black Sabbath, Celtic Frost, Autopsy, Repulsion, Kiss, The Misfits, Motörhead and Discharge.Misfits are an American punk rock band often recognized as the progenitors of the horror punk subgenre, blending punk and other musical influences with horror film themes and imagery.   \n",
                            "\n",
                            "                                                                                                                     output  \\\n",
                            "0                                                                                                                    ballet   \n",
                            "1                                                   John Lasseter and Mikhail Kalatozov share the occupation of filmmaking.   \n",
                            "2                                                                                                                  Scotland   \n",
                            "3                                                                                                                     7,304   \n",
                            "4  The Swedish band Entombed was influenced by American band Misfits, who are recognized as the progenitors of horror punk.   \n",
                            "\n",
                            "   is_hallucination    label  \\\n",
                            "0             False  factual   \n",
                            "1              True  factual   \n",
                            "2             False  factual   \n",
                            "3             False  factual   \n",
                            "4              True  factual   \n",
                            "\n",
                            "                                                                                                                                                                                                                                                                                                                                                                                                                                                                                                                                                                                                          explanation  \n",
                            "0                                                                                                                                                                                                                                                                                                                           The query asks about the form of dance that the character Caitlin Pike, portrayed by Andrea Parker, was a dancer in. The reference text mentions that Andrea Parker is a former ballet dancer. Therefore, the answer 'ballet' is based on the information provided in the reference text.  \n",
                            "1                                                                                                                                                                                                                                                        The reference text states that John Lasseter is an American animator, film director, screenwriter, and film producer, and Mikhail Kalatozov was a Soviet film director. Both of them are involved in the filmmaking industry. Therefore, the answer that they share the occupation of filmmaking is based on the information provided in the reference text.  \n",
                            "2                                                                                                                                                                                                                                                                                                                   The query asks for the country where the villages Lugton and Dunlop are located. The reference text clearly states that both Lugton and Dunlop are villages in East Ayrshire, Scotland. Therefore, the answer 'Scotland' is directly supported by the information provided in the reference text.  \n",
                            "3                                                                                                                                                                                                                                              The query asks for the 2010 population of the city to which WRHR-LP was licensed. The reference text states that WRHR-LP is licensed to Corbin, Kentucky, USA and that the 2010 population of Corbin was 7,304. The answer provided is 7,304, which matches the information given in the reference text. Therefore, the answer is not a hallucination, but is factual.  \n",
                            "4  The query asks for the punk rock band that uses horror film imagery and influenced the Swedish band Entombed. The reference text mentions that Entombed was influenced by several bands, including Misfits. The text also states that Misfits is an American punk rock band often recognized as the progenitors of the horror punk subgenre, blending punk and other musical influences with horror film themes and imagery. The answer states that Entombed was influenced by Misfits, who are recognized as the progenitors of horror punk. This is in line with the information provided in the reference text.  "
                        ]
                    },
                    "execution_count": 14,
                    "metadata": {},
                    "output_type": "execute_result"
                }
            ],
            "source": [
                "# Let's view the data\n",
                "merged_df = pd.merge(\n",
                "    small_df_sample, hallucination_classifications_df, left_index=True, right_index=True\n",
                ")\n",
                "merged_df[[\"input\", \"reference\", \"output\", \"is_hallucination\", \"label\", \"explanation\"]].head()"
            ]
        },
        {
            "cell_type": "markdown",
            "metadata": {},
            "source": [
                "## LLM Evals: hallucination Classifications GPT-3.5\n",
                "Run hallucination against a subset of the data."
            ]
        },
        {
            "cell_type": "code",
            "execution_count": 15,
            "metadata": {},
            "outputs": [
                {
                    "name": "stdout",
                    "output_type": "stream",
                    "text": [
                        "The `model_name` field is deprecated. Use `model` instead.                 This will be removed in a future release.\n"
                    ]
                }
            ],
            "source": [
                "model = OpenAIModel(model_name=\"gpt-3.5-turbo\", temperature=0.0, request_timeout=20)"
            ]
        },
        {
            "cell_type": "code",
            "execution_count": 16,
            "metadata": {},
            "outputs": [
                {
                    "name": "stderr",
                    "output_type": "stream",
                    "text": [
                        "llm_classify |          | 0/100 (0.0%) | ⏳ 00:00<? | ?it/s"
                    ]
                },
                {
                    "name": "stderr",
                    "output_type": "stream",
                    "text": [
                        "llm_classify |██████████| 100/100 (100.0%) | ⏳ 00:19<00:00 |  3.91it/s"
                    ]
                }
            ],
            "source": [
                "rails = list(HALLUCINATION_PROMPT_RAILS_MAP.values())\n",
                "hallucination_classifications = llm_classify(\n",
                "    dataframe=df, template=HALLUCINATION_PROMPT_TEMPLATE, model=model, rails=rails, concurrency=20\n",
                ")[\"label\"].tolist()"
            ]
        },
        {
            "cell_type": "code",
            "execution_count": 17,
            "metadata": {},
            "outputs": [
                {
                    "name": "stderr",
                    "output_type": "stream",
                    "text": [
                        "llm_classify |██████████| 100/100 (100.0%) | ⏳ 00:20<00:00 |  4.91it/s"
                    ]
                },
                {
                    "name": "stdout",
                    "output_type": "stream",
                    "text": [
                        "              precision    recall  f1-score   support\n",
                        "\n",
                        "hallucinated       0.82      0.72      0.77        46\n",
                        "     factual       0.78      0.87      0.82        54\n",
                        "\n",
                        "    accuracy                           0.80       100\n",
                        "   macro avg       0.80      0.79      0.80       100\n",
                        "weighted avg       0.80      0.80      0.80       100\n",
                        "\n"
                    ]
                },
                {
                    "name": "stderr",
                    "output_type": "stream",
                    "text": [
                        "\n"
                    ]
                },
                {
                    "data": {
                        "text/plain": [
                            "<Axes: title={'center': 'Confusion Matrix (Normalized)'}, xlabel='Predicted Classes', ylabel='Actual Classes'>"
                        ]
                    },
                    "execution_count": 17,
                    "metadata": {},
                    "output_type": "execute_result"
                },
                {
                    "data": {
                        "image/png": "[encoded data removed]",
                        "text/plain": [
                            "<Figure size 640x480 with 2 Axes>"
                        ]
                    },
                    "metadata": {},
                    "output_type": "display_data"
                }
            ],
            "source": [
                "true_labels = df[\"is_hallucination\"].map(HALLUCINATION_PROMPT_RAILS_MAP).tolist()\n",
                "\n",
                "print(classification_report(true_labels, hallucination_classifications, labels=rails))\n",
                "confusion_matrix = ConfusionMatrix(\n",
                "    actual_vector=true_labels,\n",
                "    predict_vector=hallucination_classifications,\n",
                "    classes=rails,\n",
                ")\n",
                "confusion_matrix.plot(\n",
                "    cmap=plt.colormaps[\"Blues\"],\n",
                "    number_label=True,\n",
                "    normalized=True,\n",
                ")"
            ]
        },
        {
            "cell_type": "markdown",
            "metadata": {},
            "source": [
                "# Preview: GPT-4 Turbo"
            ]
        },
        {
            "cell_type": "code",
            "execution_count": 18,
            "metadata": {},
            "outputs": [
                {
                    "name": "stdout",
                    "output_type": "stream",
                    "text": [
                        "The `model_name` field is deprecated. Use `model` instead.                 This will be removed in a future release.\n"
                    ]
                },
                {
                    "name": "stderr",
                    "output_type": "stream",
                    "text": [
                        "llm_classify |██████████| 100/100 (100.0%) | ⏳ 00:18<00:00 |  7.60it/s"
                    ]
                }
            ],
            "source": [
                "rails = list(HALLUCINATION_PROMPT_RAILS_MAP.values())\n",
                "hallucination_classifications = llm_classify(\n",
                "    dataframe=df,\n",
                "    template=HALLUCINATION_PROMPT_TEMPLATE,\n",
                "    model=OpenAIModel(model_name=\"gpt-4-turbo-preview\", temperature=0.0),\n",
                "    rails=rails,\n",
                "    concurrency=20,\n",
                ")[\"label\"].tolist()"
            ]
        },
        {
            "cell_type": "code",
            "execution_count": 19,
            "metadata": {},
            "outputs": [
                {
                    "name": "stderr",
                    "output_type": "stream",
                    "text": [
                        "llm_classify |██████████| 100/100 (100.0%) | ⏳ 00:19<00:00 |  5.03it/s"
                    ]
                },
                {
                    "name": "stdout",
                    "output_type": "stream",
                    "text": [
                        "              precision    recall  f1-score   support\n",
                        "\n",
                        "hallucinated       0.92      0.74      0.82        46\n",
                        "     factual       0.81      0.94      0.87        54\n",
                        "\n",
                        "    accuracy                           0.85       100\n",
                        "   macro avg       0.86      0.84      0.85       100\n",
                        "weighted avg       0.86      0.85      0.85       100\n",
                        "\n"
                    ]
                },
                {
                    "name": "stderr",
                    "output_type": "stream",
                    "text": [
                        "\n"
                    ]
                },
                {
                    "data": {
                        "text/plain": [
                            "<Axes: title={'center': 'Confusion Matrix (Normalized)'}, xlabel='Predicted Classes', ylabel='Actual Classes'>"
                        ]
                    },
                    "execution_count": 19,
                    "metadata": {},
                    "output_type": "execute_result"
                },
                {
                    "data": {
                        "image/png": "[encoded data removed]",
                        "text/plain": [
                            "<Figure size 640x480 with 2 Axes>"
                        ]
                    },
                    "metadata": {},
                    "output_type": "display_data"
                }
            ],
            "source": [
                "print(classification_report(true_labels, hallucination_classifications, labels=rails))\n",
                "confusion_matrix = ConfusionMatrix(\n",
                "    actual_vector=true_labels,\n",
                "    predict_vector=hallucination_classifications,\n",
                "    classes=rails,\n",
                ")\n",
                "confusion_matrix.plot(\n",
                "    cmap=plt.colormaps[\"Blues\"],\n",
                "    number_label=True,\n",
                "    normalized=True,\n",
                ")"
            ]
        }
    ],
    "metadata": {
        "kernelspec": {
            "display_name": "Python 3 (ipykernel)",
            "language": "python",
            "name": "python3"
        },
        "language_info": {
            "codemirror_mode": {
                "name": "ipython",
                "version": 3
            },
            "file_extension": ".py",
            "mimetype": "text/x-python",
            "name": "python",
            "nbconvert_exporter": "python",
            "pygments_lexer": "ipython3",
            "version": "3.12.3"
        }
    },
    "nbformat": 4,
    "nbformat_minor": 4
}
