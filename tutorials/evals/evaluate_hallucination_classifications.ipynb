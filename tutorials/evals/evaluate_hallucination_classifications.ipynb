{
    "cells": [
        {
            "cell_type": "markdown",
            "metadata": {},
            "source": [
                "<center>\n",
                "    <p style=\"text-align:center\">\n",
                "        <img alt=\"phoenix logo\" src=\"https://storage.googleapis.com/arize-phoenix-assets/assets/phoenix-logo-light.svg\" width=\"200\"/>\n",
                "        <br>\n",
                "        <a href=\"https://docs.arize.com/phoenix/\">Docs</a>\n",
                "        |\n",
                "        <a href=\"https://github.com/Arize-ai/phoenix\">GitHub</a>\n",
                "        |\n",
                "        <a href=\"https://join.slack.com/t/arize-ai/shared_invite/zt-1px8dcmlf-fmThhDFD_V_48oU7ALan4Q\">Community</a>\n",
                "    </p>\n",
                "</center>\n",
                "<h1 align=\"center\">Hallucination Classification Evals</h1>\n",
                "\n",
                "The purpose of this notebook is:\n",
                "\n",
                "- to evaluate the performance of an LLM-assisted approach to detecting hallucinations,\n",
                "- to provide an experimental framework for users to iterate and improve on the default classification template.\n",
                "\n",
                "## Install Dependencies and Import Libraries"
            ]
        },
        {
            "cell_type": "code",
            "execution_count": 1,
            "metadata": {},
            "outputs": [],
            "source": [
                "#####################\n",
                "## N_EVAL_SAMPLE_SIZE\n",
                "#####################\n",
                "# Eval sample size determines the run time\n",
                "# 100 samples: GPT-4 ~ 80 sec / GPT-3.5 ~ 40 sec\n",
                "# 1,000 samples: GPT-4 ~15-17 min / GPT-3.5 ~ 6-7min (depending on retries)\n",
                "# 10,000 samples GPT-4 ~170 min / GPT-3.5 ~ 70min\n",
                "N_EVAL_SAMPLE_SIZE = 100"
            ]
        },
        {
            "cell_type": "code",
            "execution_count": 1,
            "metadata": {},
            "outputs": [],
            "source": [
                "!pip install -qq \"arize-phoenix-evals>=0.0.5\" \"openai>=1\" ipython matplotlib pycm scikit-learn tiktoken nest_asyncio"
            ]
        },
        {
            "cell_type": "markdown",
            "metadata": {},
            "source": [
                "ℹ️ To enable async request submission in notebook environments like Jupyter or Google Colab, optionally use `nest_asyncio`. `nest_asyncio` globally patches `asyncio` to enable event loops to be re-entrant. This is not required for non-notebook environments.\n",
                "\n",
                "Without `nest_asyncio`, eval submission can be much slower, depending on your organization's rate limits. Speed increases of about 5x are typical."
            ]
        },
        {
            "cell_type": "code",
            "execution_count": 2,
            "metadata": {},
            "outputs": [],
            "source": [
                "import nest_asyncio\n",
                "\n",
                "nest_asyncio.apply()"
            ]
        },
        {
            "cell_type": "code",
            "execution_count": 3,
            "metadata": {},
            "outputs": [],
            "source": [
                "import os\n",
                "from getpass import getpass\n",
                "\n",
                "import matplotlib.pyplot as plt\n",
                "import openai\n",
                "import pandas as pd\n",
                "from phoenix.evals import (\n",
                "    HALLUCINATION_PROMPT_RAILS_MAP,\n",
                "    HALLUCINATION_PROMPT_TEMPLATE,\n",
                "    OpenAIModel,\n",
                "    download_benchmark_dataset,\n",
                "    llm_classify,\n",
                ")\n",
                "from pycm import ConfusionMatrix\n",
                "from sklearn.metrics import classification_report\n",
                "\n",
                "pd.set_option(\"display.max_colwidth\", None)"
            ]
        },
        {
            "cell_type": "markdown",
            "metadata": {},
            "source": [
                "## Download Benchmark Dataset\n",
                "\n",
                "We'll evaluate the evaluation system consisting of an LLM model and settings in addition to an evaluation prompt template against benchmark datasets of queries and retrieved documents with ground-truth relevance labels. Currently supported datasets include \"halueval_qa_data\" from the HaluEval benchmark:\n",
                "\n",
                "- https://arxiv.org/abs/2305.11747\n",
                "- https://github.com/RUCAIBox/HaluEval"
            ]
        },
        {
            "cell_type": "code",
            "execution_count": 4,
            "metadata": {},
            "outputs": [
                {
                    "data": {
                        "text/html": [
                            "<div>\n",
                            "<style scoped>\n",
                            "    .dataframe tbody tr th:only-of-type {\n",
                            "        vertical-align: middle;\n",
                            "    }\n",
                            "\n",
                            "    .dataframe tbody tr th {\n",
                            "        vertical-align: top;\n",
                            "    }\n",
                            "\n",
                            "    .dataframe thead th {\n",
                            "        text-align: right;\n",
                            "    }\n",
                            "</style>\n",
                            "<table border=\"1\" class=\"dataframe\">\n",
                            "  <thead>\n",
                            "    <tr style=\"text-align: right;\">\n",
                            "      <th></th>\n",
                            "      <th>reference</th>\n",
                            "      <th>query</th>\n",
                            "      <th>response</th>\n",
                            "      <th>is_hallucination</th>\n",
                            "    </tr>\n",
                            "  </thead>\n",
                            "  <tbody>\n",
                            "    <tr>\n",
                            "      <th>0</th>\n",
                            "      <td>() is a prefecture-level city in northwestern Anhui province, China.Gaozhou is a county-level city in southwestern Guangdong Province, China.</td>\n",
                            "      <td>Can  Fuyang and Gaozhou be found in the same province?</td>\n",
                            "      <td>no</td>\n",
                            "      <td>False</td>\n",
                            "    </tr>\n",
                            "    <tr>\n",
                            "      <th>1</th>\n",
                            "      <td>() is a prefecture-level city in northwestern Anhui province, China.Gaozhou is a county-level city in southwestern Guangdong Province, China.</td>\n",
                            "      <td>Can  Fuyang and Gaozhou be found in the same province?</td>\n",
                            "      <td>Yes, Fuyang and Gaozhou are in the same province.</td>\n",
                            "      <td>True</td>\n",
                            "    </tr>\n",
                            "    <tr>\n",
                            "      <th>2</th>\n",
                            "      <td>\"808\" was a success in the United States becoming the group's first top ten hit peaking at number eight on the \"Billboard\" Hot 100 and top five peaking at number four on the Hot R&amp;B/Hip-Hop Singles.The \"Billboard\" Hot 100 is the music industry standard record chart in the United States for singles, published weekly by \"Billboard\" magazine.</td>\n",
                            "      <td>808 peaked at number eight on what?</td>\n",
                            "      <td>Billboard\" Hot 100</td>\n",
                            "      <td>False</td>\n",
                            "    </tr>\n",
                            "    <tr>\n",
                            "      <th>3</th>\n",
                            "      <td>\"808\" was a success in the United States becoming the group's first top ten hit peaking at number eight on the \"Billboard\" Hot 100 and top five peaking at number four on the Hot R&amp;B/Hip-Hop Singles.The \"Billboard\" Hot 100 is the music industry standard record chart in the United States for singles, published weekly by \"Billboard\" magazine.</td>\n",
                            "      <td>808 peaked at number eight on what?</td>\n",
                            "      <td>\"808\" peaked at number nine on \"Billboard\" Hot 100.</td>\n",
                            "      <td>True</td>\n",
                            "    </tr>\n",
                            "    <tr>\n",
                            "      <th>4</th>\n",
                            "      <td>\"Arms\" then made a comeback in 2017 reaching #36 on the iTunes chart passing Auli'i Cravalho's \"How Far I'll Go\" from the Disney movie \"Moana\" (2017).Moana ( ) is a 2016 American 3D computer-animated musical fantasy-adventure film produced by Walt Disney Animation Studios and released by Walt Disney Pictures.</td>\n",
                            "      <td>Arms is a song by American singer-songwriter Christina Perri, in 2017, it passed Auli'i Cravalho's, \"How Far I'll Go\" from which 2016, American 3D computer-animated Disney movie?</td>\n",
                            "      <td>Moana</td>\n",
                            "      <td>False</td>\n",
                            "    </tr>\n",
                            "  </tbody>\n",
                            "</table>\n",
                            "</div>"
                        ],
                        "text/plain": [
                            "                                                                                                                                                                                                                                                                                                                                                reference  \\\n",
                            "0                                                                                                                                                                                                           () is a prefecture-level city in northwestern Anhui province, China.Gaozhou is a county-level city in southwestern Guangdong Province, China.   \n",
                            "1                                                                                                                                                                                                           () is a prefecture-level city in northwestern Anhui province, China.Gaozhou is a county-level city in southwestern Guangdong Province, China.   \n",
                            "2   \"808\" was a success in the United States becoming the group's first top ten hit peaking at number eight on the \"Billboard\" Hot 100 and top five peaking at number four on the Hot R&B/Hip-Hop Singles.The \"Billboard\" Hot 100 is the music industry standard record chart in the United States for singles, published weekly by \"Billboard\" magazine.   \n",
                            "3   \"808\" was a success in the United States becoming the group's first top ten hit peaking at number eight on the \"Billboard\" Hot 100 and top five peaking at number four on the Hot R&B/Hip-Hop Singles.The \"Billboard\" Hot 100 is the music industry standard record chart in the United States for singles, published weekly by \"Billboard\" magazine.   \n",
                            "4                                  \"Arms\" then made a comeback in 2017 reaching #36 on the iTunes chart passing Auli'i Cravalho's \"How Far I'll Go\" from the Disney movie \"Moana\" (2017).Moana ( ) is a 2016 American 3D computer-animated musical fantasy-adventure film produced by Walt Disney Animation Studios and released by Walt Disney Pictures.   \n",
                            "\n",
                            "                                                                                                                                                                                query  \\\n",
                            "0                                                                                                                              Can  Fuyang and Gaozhou be found in the same province?   \n",
                            "1                                                                                                                              Can  Fuyang and Gaozhou be found in the same province?   \n",
                            "2                                                                                                                                                 808 peaked at number eight on what?   \n",
                            "3                                                                                                                                                 808 peaked at number eight on what?   \n",
                            "4  Arms is a song by American singer-songwriter Christina Perri, in 2017, it passed Auli'i Cravalho's, \"How Far I'll Go\" from which 2016, American 3D computer-animated Disney movie?   \n",
                            "\n",
                            "                                              response  is_hallucination  \n",
                            "0                                                   no             False  \n",
                            "1    Yes, Fuyang and Gaozhou are in the same province.              True  \n",
                            "2                                   Billboard\" Hot 100             False  \n",
                            "3  \"808\" peaked at number nine on \"Billboard\" Hot 100.              True  \n",
                            "4                                                Moana             False  "
                        ]
                    },
                    "execution_count": 4,
                    "metadata": {},
                    "output_type": "execute_result"
                }
            ],
            "source": [
                "df = download_benchmark_dataset(\n",
                "    task=\"binary-hallucination-classification\", dataset_name=\"halueval_qa_data\"\n",
                ")\n",
                "df.head()"
            ]
        },
        {
            "cell_type": "markdown",
            "metadata": {},
            "source": [
                "## Display Binary Hallucination Classification Template\n",
                "\n",
                "View the default template used to classify hallucinations. You can tweak this template and evaluate its performance relative to the default."
            ]
        },
        {
            "cell_type": "code",
            "execution_count": 5,
            "metadata": {},
            "outputs": [
                {
                    "name": "stdout",
                    "output_type": "stream",
                    "text": [
                        "\n",
                        "In this task, you will be presented with a query, a reference text and an answer. The answer is\n",
                        "generated to the question based on the reference text. The answer may contain false information. You\n",
                        "must use the reference text to determine if the answer to the question contains false information,\n",
                        "if the answer is a hallucination of facts. Your objective is to determine whether the answer text\n",
                        "contains factual information and is not a hallucination. A 'hallucination' refers to\n",
                        "an answer that is not based on the reference text or assumes information that is not available in\n",
                        "the reference text. Your response should be a single word: either \"factual\" or \"hallucinated\", and\n",
                        "it should not include any other text or characters. \"hallucinated\" indicates that the answer\n",
                        "provides factually inaccurate information to the query based on the reference text. \"factual\"\n",
                        "indicates that the answer to the question is correct relative to the reference text, and does not\n",
                        "contain made up information. Please read the query and reference text carefully before determining\n",
                        "your response.\n",
                        "\n",
                        "    [BEGIN DATA]\n",
                        "    ************\n",
                        "    [Query]: {input}\n",
                        "    ************\n",
                        "    [Reference text]: {reference}\n",
                        "    ************\n",
                        "    [Answer]: {output}\n",
                        "    ************\n",
                        "    [END DATA]\n",
                        "\n",
                        "    Is the answer above factual or hallucinated based on the query and reference text?\n",
                        "\n"
                    ]
                }
            ],
            "source": [
                "print(HALLUCINATION_PROMPT_TEMPLATE)"
            ]
        },
        {
            "cell_type": "markdown",
            "metadata": {},
            "source": [
                "Template variables:\n",
                "- **input** : The question or prompt asked on the context data.\n",
                "- **reference** : The context data used to answer the question\n",
                "- **output** : The answer generated from the context data, we are checking this answer for halluciations relative to the reference context"
            ]
        },
        {
            "cell_type": "markdown",
            "metadata": {},
            "source": [
                "## Configure the LLM\n",
                "\n",
                "Configure your OpenAI API key."
            ]
        },
        {
            "cell_type": "code",
            "execution_count": 6,
            "metadata": {},
            "outputs": [],
            "source": [
                "if not (openai_api_key := os.getenv(\"OPENAI_API_KEY\")):\n",
                "    openai_api_key = getpass(\"🔑 Enter your OpenAI API key: \")\n",
                "openai.api_key = openai_api_key\n",
                "os.environ[\"OPENAI_API_KEY\"] = openai_api_key"
            ]
        },
        {
            "cell_type": "markdown",
            "metadata": {},
            "source": [
                "## Benchmark Dataset Sample\n",
                "Sample size determines run time\n",
                "Recommend iterating small: 100 samples\n",
                "Then increasing to large test set"
            ]
        },
        {
            "cell_type": "code",
            "execution_count": 7,
            "metadata": {},
            "outputs": [],
            "source": [
                "df = (\n",
                "    df.sample(n=N_EVAL_SAMPLE_SIZE)\n",
                "    .reset_index(drop=True)\n",
                "    .rename(columns={\"query\": \"input\", \"response\": \"output\"})\n",
                ")"
            ]
        },
        {
            "cell_type": "markdown",
            "metadata": {},
            "source": [
                "## LLM Evals: hallucination Classifications GPT-4\n",
                "Run hallucination against a subset of the data."
            ]
        },
        {
            "cell_type": "markdown",
            "metadata": {},
            "source": [
                "Instantiate the LLM and set parameters."
            ]
        },
        {
            "cell_type": "code",
            "execution_count": 8,
            "metadata": {},
            "outputs": [
                {
                    "name": "stdout",
                    "output_type": "stream",
                    "text": [
                        "The `model_name` field is deprecated. Use `model` instead.                 This will be removed in a future release.\n"
                    ]
                }
            ],
            "source": [
                "model = OpenAIModel(\n",
                "    model_name=\"gpt-4\",\n",
                "    temperature=0.0,\n",
                ")"
            ]
        },
        {
            "cell_type": "code",
            "execution_count": 9,
            "metadata": {},
            "outputs": [
                {
                    "data": {
                        "text/plain": [
                            "\"Hello! I'm working perfectly. How can I assist you today?\""
                        ]
                    },
                    "execution_count": 9,
                    "metadata": {},
                    "output_type": "execute_result"
                }
            ],
            "source": [
                "model(\"Hello world, this is a test if you are working?\")"
            ]
        },
        {
            "cell_type": "code",
            "execution_count": 10,
            "metadata": {},
            "outputs": [
                {
                    "data": {
                        "application/vnd.jupyter.widget-view+json": {
                            "model_id": "14ea0322570e48979f83ac4f87036ac0",
                            "version_major": 2,
                            "version_minor": 0
                        },
                        "text/plain": [
                            "llm_classify |          | 0/100 (0.0%) | ⏳ 00:00<? | ?it/s"
                        ]
                    },
                    "metadata": {},
                    "output_type": "display_data"
                }
            ],
            "source": [
                "# The rails fore the output to specific values of the template\n",
                "# It will remove text such as \",,,\" or \"...\", anything not the\n",
                "# binary value expected from the template\n",
                "rails = list(HALLUCINATION_PROMPT_RAILS_MAP.values())\n",
                "hallucination_classifications = llm_classify(\n",
                "    dataframe=df, template=HALLUCINATION_PROMPT_TEMPLATE, model=model, rails=rails, concurrency=20\n",
                ")[\"label\"].tolist()"
            ]
        },
        {
            "cell_type": "markdown",
            "metadata": {},
            "source": [
                "\n",
                "\n",
                "Evaluate the predictions against human-labeled ground-truth hallucination labels."
            ]
        },
        {
            "cell_type": "code",
            "execution_count": 11,
            "metadata": {},
            "outputs": [
                {
                    "name": "stdout",
                    "output_type": "stream",
                    "text": [
                        "              precision    recall  f1-score   support\n",
                        "\n",
                        "hallucinated       0.95      0.78      0.86        50\n",
                        "     factual       0.81      0.96      0.88        50\n",
                        "\n",
                        "    accuracy                           0.87       100\n",
                        "   macro avg       0.88      0.87      0.87       100\n",
                        "weighted avg       0.88      0.87      0.87       100\n",
                        "\n"
                    ]
                },
                {
                    "data": {
                        "text/plain": [
                            "<Axes: title={'center': 'Confusion Matrix (Normalized)'}, xlabel='Predicted Classes', ylabel='Actual Classes'>"
                        ]
                    },
                    "execution_count": 11,
                    "metadata": {},
                    "output_type": "execute_result"
                },
                {
                    "data": {
                        "image/png": "[encoded data removed]",
                        "text/plain": [
                            "<Figure size 640x480 with 2 Axes>"
                        ]
                    },
                    "metadata": {},
                    "output_type": "display_data"
                }
            ],
            "source": [
                "true_labels = df[\"is_hallucination\"].map(HALLUCINATION_PROMPT_RAILS_MAP).tolist()\n",
                "print(classification_report(true_labels, hallucination_classifications, labels=rails))\n",
                "confusion_matrix = ConfusionMatrix(\n",
                "    actual_vector=true_labels,\n",
                "    predict_vector=hallucination_classifications,\n",
                "    classes=rails,\n",
                ")\n",
                "confusion_matrix.plot(\n",
                "    cmap=plt.colormaps[\"Blues\"],\n",
                "    number_label=True,\n",
                "    normalized=True,\n",
                ")"
            ]
        },
        {
            "cell_type": "markdown",
            "metadata": {},
            "source": [
                "## Classifications with explanations\n",
                "\n",
                "When evaluating a dataset for hallucinations, it can be useful to know why the LLM classified a response as a hallucination or not. The following code block runs `llm_classify` with explanations turned on so that we can inspect why the LLM made the classification it did. There is speed tradeoff since more tokens is being generated but it can be highly informative when troubleshooting."
            ]
        },
        {
            "cell_type": "code",
            "execution_count": 12,
            "metadata": {},
            "outputs": [
                {
                    "name": "stdout",
                    "output_type": "stream",
                    "text": [
                        "Using prompt:\n",
                        "\n",
                        "\n",
                        "In this task, you will be presented with a query, a reference text and an answer. The answer is\n",
                        "generated to the question based on the reference text. The answer may contain false information. You\n",
                        "must use the reference text to determine if the answer to the question contains false information,\n",
                        "if the answer is a hallucination of facts. Your objective is to determine whether the answer text\n",
                        "contains factual information and is not a hallucination. A 'hallucination' refers to\n",
                        "an answer that is not based on the reference text or assumes information that is not available in\n",
                        "the reference text.\n",
                        "\n",
                        "    [BEGIN DATA]\n",
                        "    ************\n",
                        "    [Query]: {input}\n",
                        "    ************\n",
                        "    [Reference text]: {reference}\n",
                        "    ************\n",
                        "    [Answer]: {output}\n",
                        "    ************\n",
                        "    [END DATA]\n",
                        "\n",
                        "    Is the answer above factual or hallucinated based on the query and reference text?\n",
                        "\n",
                        "Please read the query, reference text and answer carefully, then write out in a step by step manner\n",
                        "an EXPLANATION to show how to determine if the answer is \"factual\" or \"hallucinated\". Avoid simply\n",
                        "stating the correct answer at the outset. Your response LABEL should be a single word: either\n",
                        "\"factual\" or \"hallucinated\", and it should not include any other text or characters. \"hallucinated\"\n",
                        "indicates that the answer provides factually inaccurate information to the query based on the\n",
                        "reference text. \"factual\" indicates that the answer to the question is correct relative to the\n",
                        "reference text, and does not contain made up information.\n",
                        "\n",
                        "Example response:\n",
                        "************\n",
                        "EXPLANATION: An explanation of your reasoning for why the label is \"factual\" or \"hallucinated\"\n",
                        "LABEL: \"factual\" or \"hallucinated\"\n",
                        "************\n",
                        "\n",
                        "EXPLANATION:\n",
                        "OpenAI invocation parameters: {'model': 'gpt-4', 'temperature': 0.0, 'max_tokens': 256, 'frequency_penalty': 0, 'presence_penalty': 0, 'top_p': 1, 'n': 1, 'timeout': None}\n"
                    ]
                },
                {
                    "data": {
                        "application/vnd.jupyter.widget-view+json": {
                            "model_id": "d6a8248990b44ba28037bf046a9097f1",
                            "version_major": 2,
                            "version_minor": 0
                        },
                        "text/plain": [
                            "llm_classify |          | 0/5 (0.0%) | ⏳ 00:00<? | ?it/s"
                        ]
                    },
                    "metadata": {},
                    "output_type": "display_data"
                },
                {
                    "name": "stdout",
                    "output_type": "stream",
                    "text": [
                        "- Snapped 'hallucinated' to rail: hallucinated\n",
                        "- Snapped 'factual' to rail: factual\n",
                        "- Snapped 'factual' to rail: factual\n",
                        "- Snapped 'hallucinated' to rail: hallucinated\n",
                        "- Snapped 'hallucinated' to rail: hallucinated\n"
                    ]
                }
            ],
            "source": [
                "small_df_sample = df.copy().sample(n=5).reset_index(drop=True)\n",
                "hallucination_classifications_df = llm_classify(\n",
                "    dataframe=small_df_sample,\n",
                "    template=HALLUCINATION_PROMPT_TEMPLATE,\n",
                "    model=model,\n",
                "    rails=rails,\n",
                "    provide_explanation=True,\n",
                "    verbose=True,\n",
                "    concurrency=20,\n",
                ")"
            ]
        },
        {
            "cell_type": "code",
            "execution_count": 13,
            "metadata": {},
            "outputs": [
                {
                    "data": {
                        "text/html": [
                            "<div>\n",
                            "<style scoped>\n",
                            "    .dataframe tbody tr th:only-of-type {\n",
                            "        vertical-align: middle;\n",
                            "    }\n",
                            "\n",
                            "    .dataframe tbody tr th {\n",
                            "        vertical-align: top;\n",
                            "    }\n",
                            "\n",
                            "    .dataframe thead th {\n",
                            "        text-align: right;\n",
                            "    }\n",
                            "</style>\n",
                            "<table border=\"1\" class=\"dataframe\">\n",
                            "  <thead>\n",
                            "    <tr style=\"text-align: right;\">\n",
                            "      <th></th>\n",
                            "      <th>input</th>\n",
                            "      <th>reference</th>\n",
                            "      <th>output</th>\n",
                            "      <th>is_hallucination</th>\n",
                            "      <th>label</th>\n",
                            "      <th>explanation</th>\n",
                            "    </tr>\n",
                            "  </thead>\n",
                            "  <tbody>\n",
                            "    <tr>\n",
                            "      <th>0</th>\n",
                            "      <td>What fraudulent company was listed on both the Alberta Stock Exchange and the Toronto Stock Exchange?</td>\n",
                            "      <td>The Alberta Stock Exchange (ASE) was a stock exchange based in Calgary, Alberta established in 1913. The ASE was the original listing exchange for Bre-X, one of the biggest corporate frauds in Canadian history. Bre-X bought the Busang site in March 1993 and in October 1995 announced significant amounts of gold had been discovered, sending its stock price soaring. Originally a penny stock, its stock price reached a peak at CAD $286.50 (split adjusted) in May 1996 on the Toronto Stock Exchange (TSE), with a total capitalization of over CAD $6 billion.</td>\n",
                            "      <td>The ASE did not list any fraudulent company.</td>\n",
                            "      <td>True</td>\n",
                            "      <td>hallucinated</td>\n",
                            "      <td>The query asks for the fraudulent company that was listed on both the Alberta Stock Exchange and the Toronto Stock Exchange. The reference text clearly states that Bre-X, a company involved in one of the biggest corporate frauds in Canadian history, was originally listed on the Alberta Stock Exchange and its stock price reached a peak on the Toronto Stock Exchange. However, the answer states that the ASE did not list any fraudulent company, which contradicts the information provided in the reference text.</td>\n",
                            "    </tr>\n",
                            "    <tr>\n",
                            "      <th>1</th>\n",
                            "      <td>\"Simple Song #3\" is the lead single from a 2015 Italian comedy film set where?</td>\n",
                            "      <td>\"Simple Song#3\" or \"Simple Song Number 3\" is an original song sung by South Korean singer Sumi Jo. It is the director's second English language film, and stars Michael Caine and Harvey Keitel as best friends who reflect on their lives while holidaying in the Swiss Alps.</td>\n",
                            "      <td>\"Simple Song #3\" is a lead single from a 2015 Italian comedy film set in the Caribbean.</td>\n",
                            "      <td>True</td>\n",
                            "      <td>hallucinated</td>\n",
                            "      <td>The reference text states that the film, which features the song 'Simple Song #3', is set in the Swiss Alps. However, the answer claims that the film is set in the Caribbean. This is a contradiction, and therefore the answer is not factual based on the reference text.</td>\n",
                            "    </tr>\n",
                            "    <tr>\n",
                            "      <th>2</th>\n",
                            "      <td>What is the name of the business connected to the Treasure Island Hotel and Casino that is owned by General Growth Properties Inc?</td>\n",
                            "      <td>Treasure Island Hotel &amp; Casino (also known as \"TI\") is a hotel and casino located on the Las Vegas Strip in Paradise, Nevada, USA with 2,664 rooms and 220 suites, and is connected by tram to The Mirage as well as pedestrian bridge to the Fashion Show Mall shopping center.Fashion Show Mall is a shopping mall located on the Las Vegas Strip in Paradise, Nevada, and is owned by General Growth Properties Inc. The mall spans 1888151 sqft of space, with more than 250 stores and seven anchors, and hosts weekend fashion shows on a retractable runway with the mall's central atrium, hence the name.</td>\n",
                            "      <td>Fashion Show Mall</td>\n",
                            "      <td>False</td>\n",
                            "      <td>factual</td>\n",
                            "      <td>The query asks for the name of the business connected to the Treasure Island Hotel and Casino that is owned by General Growth Properties Inc. The reference text mentions that the Treasure Island Hotel &amp; Casino is connected by a pedestrian bridge to the Fashion Show Mall shopping center, which is owned by General Growth Properties Inc. Therefore, the answer 'Fashion Show Mall' is based on the information provided in the reference text.</td>\n",
                            "    </tr>\n",
                            "    <tr>\n",
                            "      <th>3</th>\n",
                            "      <td>Charles Wallace Murray is a major character in a fantasy/science fiction series of how many young adult novels written by Madeleine L'Engle?</td>\n",
                            "      <td>Charles Wallace Murry is a major character in Madeleine L'Engle's Time Quintet series of young adult science fiction novels.The Time Quintet is a fantasy/science fiction series of five young adult novels written by Madeleine L'Engle.</td>\n",
                            "      <td>five</td>\n",
                            "      <td>False</td>\n",
                            "      <td>factual</td>\n",
                            "      <td>The query asks for the number of young adult novels in the fantasy/science fiction series by Madeleine L'Engle in which Charles Wallace Murry is a major character. The reference text clearly states that Charles Wallace Murry is a major character in the Time Quintet series by Madeleine L'Engle, which consists of five young adult novels. Therefore, the answer 'five' is directly supported by the reference text.</td>\n",
                            "    </tr>\n",
                            "    <tr>\n",
                            "      <th>4</th>\n",
                            "      <td>In which city is the headquarters of the company which John Schnatter is a spokesman of located in?</td>\n",
                            "      <td>John H. Schnatter (born November 22, 1961) is an American entrepreneur and the founder, CEO, and spokesman of Papa John's International, Inc. It runs the third largest take-out and pizza delivery restaurant chain in the United States, with headquarters in Jeffersontown, Kentucky, a suburb of Louisville.</td>\n",
                            "      <td>The headquarters is located in Kentucky.</td>\n",
                            "      <td>True</td>\n",
                            "      <td>hallucinated</td>\n",
                            "      <td>The query asks for the city where the headquarters of the company that John Schnatter is a spokesman for is located. The reference text states that the headquarters of Papa John's International, Inc., the company for which John Schnatter is a spokesman, is in Jeffersontown, Kentucky. The answer states that the headquarters is located in Kentucky. While this is technically true, it does not fully answer the query, which specifically asks for the city. Therefore, the answer is not entirely factual.</td>\n",
                            "    </tr>\n",
                            "  </tbody>\n",
                            "</table>\n",
                            "</div>"
                        ],
                        "text/plain": [
                            "                                                                                                                                          input  \\\n",
                            "0                                         What fraudulent company was listed on both the Alberta Stock Exchange and the Toronto Stock Exchange?   \n",
                            "1                                                               \"Simple Song #3\" is the lead single from a 2015 Italian comedy film set where?    \n",
                            "2            What is the name of the business connected to the Treasure Island Hotel and Casino that is owned by General Growth Properties Inc?   \n",
                            "3  Charles Wallace Murray is a major character in a fantasy/science fiction series of how many young adult novels written by Madeleine L'Engle?   \n",
                            "4                                           In which city is the headquarters of the company which John Schnatter is a spokesman of located in?   \n",
                            "\n",
                            "                                                                                                                                                                                                                                                                                                                                                                                                                                                                                                                                                                                                            reference  \\\n",
                            "0                                         The Alberta Stock Exchange (ASE) was a stock exchange based in Calgary, Alberta established in 1913. The ASE was the original listing exchange for Bre-X, one of the biggest corporate frauds in Canadian history. Bre-X bought the Busang site in March 1993 and in October 1995 announced significant amounts of gold had been discovered, sending its stock price soaring. Originally a penny stock, its stock price reached a peak at CAD $286.50 (split adjusted) in May 1996 on the Toronto Stock Exchange (TSE), with a total capitalization of over CAD $6 billion.   \n",
                            "1                                                                                                                                                                                                                                                                                                                                      \"Simple Song#3\" or \"Simple Song Number 3\" is an original song sung by South Korean singer Sumi Jo. It is the director's second English language film, and stars Michael Caine and Harvey Keitel as best friends who reflect on their lives while holidaying in the Swiss Alps.   \n",
                            "2  Treasure Island Hotel & Casino (also known as \"TI\") is a hotel and casino located on the Las Vegas Strip in Paradise, Nevada, USA with 2,664 rooms and 220 suites, and is connected by tram to The Mirage as well as pedestrian bridge to the Fashion Show Mall shopping center.Fashion Show Mall is a shopping mall located on the Las Vegas Strip in Paradise, Nevada, and is owned by General Growth Properties Inc. The mall spans 1888151 sqft of space, with more than 250 stores and seven anchors, and hosts weekend fashion shows on a retractable runway with the mall's central atrium, hence the name.   \n",
                            "3                                                                                                                                                                                                                                                                                                                                                                           Charles Wallace Murry is a major character in Madeleine L'Engle's Time Quintet series of young adult science fiction novels.The Time Quintet is a fantasy/science fiction series of five young adult novels written by Madeleine L'Engle.   \n",
                            "4                                                                                                                                                                                                                                                                                                    John H. Schnatter (born November 22, 1961) is an American entrepreneur and the founder, CEO, and spokesman of Papa John's International, Inc. It runs the third largest take-out and pizza delivery restaurant chain in the United States, with headquarters in Jeffersontown, Kentucky, a suburb of Louisville.   \n",
                            "\n",
                            "                                                                                    output  \\\n",
                            "0                                             The ASE did not list any fraudulent company.   \n",
                            "1  \"Simple Song #3\" is a lead single from a 2015 Italian comedy film set in the Caribbean.   \n",
                            "2                                                                        Fashion Show Mall   \n",
                            "3                                                                                     five   \n",
                            "4                                                 The headquarters is located in Kentucky.   \n",
                            "\n",
                            "   is_hallucination         label  \\\n",
                            "0              True  hallucinated   \n",
                            "1              True  hallucinated   \n",
                            "2             False       factual   \n",
                            "3             False       factual   \n",
                            "4              True  hallucinated   \n",
                            "\n",
                            "                                                                                                                                                                                                                                                                                                                                                                                                                                                                                                                      explanation  \n",
                            "0  The query asks for the fraudulent company that was listed on both the Alberta Stock Exchange and the Toronto Stock Exchange. The reference text clearly states that Bre-X, a company involved in one of the biggest corporate frauds in Canadian history, was originally listed on the Alberta Stock Exchange and its stock price reached a peak on the Toronto Stock Exchange. However, the answer states that the ASE did not list any fraudulent company, which contradicts the information provided in the reference text.  \n",
                            "1                                                                                                                                                                                                                                                    The reference text states that the film, which features the song 'Simple Song #3', is set in the Swiss Alps. However, the answer claims that the film is set in the Caribbean. This is a contradiction, and therefore the answer is not factual based on the reference text.  \n",
                            "2                                                                          The query asks for the name of the business connected to the Treasure Island Hotel and Casino that is owned by General Growth Properties Inc. The reference text mentions that the Treasure Island Hotel & Casino is connected by a pedestrian bridge to the Fashion Show Mall shopping center, which is owned by General Growth Properties Inc. Therefore, the answer 'Fashion Show Mall' is based on the information provided in the reference text.  \n",
                            "3                                                                                                     The query asks for the number of young adult novels in the fantasy/science fiction series by Madeleine L'Engle in which Charles Wallace Murry is a major character. The reference text clearly states that Charles Wallace Murry is a major character in the Time Quintet series by Madeleine L'Engle, which consists of five young adult novels. Therefore, the answer 'five' is directly supported by the reference text.  \n",
                            "4           The query asks for the city where the headquarters of the company that John Schnatter is a spokesman for is located. The reference text states that the headquarters of Papa John's International, Inc., the company for which John Schnatter is a spokesman, is in Jeffersontown, Kentucky. The answer states that the headquarters is located in Kentucky. While this is technically true, it does not fully answer the query, which specifically asks for the city. Therefore, the answer is not entirely factual.  "
                        ]
                    },
                    "execution_count": 13,
                    "metadata": {},
                    "output_type": "execute_result"
                }
            ],
            "source": [
                "# Let's view the data\n",
                "merged_df = pd.merge(\n",
                "    small_df_sample, hallucination_classifications_df, left_index=True, right_index=True\n",
                ")\n",
                "merged_df[[\"input\", \"reference\", \"output\", \"is_hallucination\", \"label\", \"explanation\"]].head()"
            ]
        },
        {
            "cell_type": "markdown",
            "metadata": {},
            "source": [
                "## LLM Evals: hallucination Classifications GPT-3.5\n",
                "Run hallucination against a subset of the data."
            ]
        },
        {
            "cell_type": "code",
            "execution_count": 14,
            "metadata": {},
            "outputs": [
                {
                    "name": "stdout",
                    "output_type": "stream",
                    "text": [
                        "The `model_name` field is deprecated. Use `model` instead.                 This will be removed in a future release.\n"
                    ]
                }
            ],
            "source": [
                "model = OpenAIModel(model_name=\"gpt-3.5-turbo\", temperature=0.0, request_timeout=20)"
            ]
        },
        {
            "cell_type": "code",
            "execution_count": 15,
            "metadata": {},
            "outputs": [
                {
                    "data": {
                        "application/vnd.jupyter.widget-view+json": {
                            "model_id": "179dbf669839492abec15fcfe151a524",
                            "version_major": 2,
                            "version_minor": 0
                        },
                        "text/plain": [
                            "llm_classify |          | 0/100 (0.0%) | ⏳ 00:00<? | ?it/s"
                        ]
                    },
                    "metadata": {},
                    "output_type": "display_data"
                }
            ],
            "source": [
                "rails = list(HALLUCINATION_PROMPT_RAILS_MAP.values())\n",
                "hallucination_classifications = llm_classify(\n",
                "    dataframe=df, template=HALLUCINATION_PROMPT_TEMPLATE, model=model, rails=rails, concurrency=20\n",
                ")[\"label\"].tolist()"
            ]
        },
        {
            "cell_type": "code",
            "execution_count": 16,
            "metadata": {},
            "outputs": [
                {
                    "name": "stdout",
                    "output_type": "stream",
                    "text": [
                        "              precision    recall  f1-score   support\n",
                        "\n",
                        "hallucinated       0.84      0.72      0.77        50\n",
                        "     factual       0.75      0.86      0.80        50\n",
                        "\n",
                        "    accuracy                           0.79       100\n",
                        "   macro avg       0.80      0.79      0.79       100\n",
                        "weighted avg       0.80      0.79      0.79       100\n",
                        "\n"
                    ]
                },
                {
                    "data": {
                        "text/plain": [
                            "<Axes: title={'center': 'Confusion Matrix (Normalized)'}, xlabel='Predicted Classes', ylabel='Actual Classes'>"
                        ]
                    },
                    "execution_count": 16,
                    "metadata": {},
                    "output_type": "execute_result"
                },
                {
                    "data": {
                        "image/png": "[encoded data removed]",
                        "text/plain": [
                            "<Figure size 640x480 with 2 Axes>"
                        ]
                    },
                    "metadata": {},
                    "output_type": "display_data"
                }
            ],
            "source": [
                "true_labels = df[\"is_hallucination\"].map(HALLUCINATION_PROMPT_RAILS_MAP).tolist()\n",
                "\n",
                "print(classification_report(true_labels, hallucination_classifications, labels=rails))\n",
                "confusion_matrix = ConfusionMatrix(\n",
                "    actual_vector=true_labels,\n",
                "    predict_vector=hallucination_classifications,\n",
                "    classes=rails,\n",
                ")\n",
                "confusion_matrix.plot(\n",
                "    cmap=plt.colormaps[\"Blues\"],\n",
                "    number_label=True,\n",
                "    normalized=True,\n",
                ")"
            ]
        },
        {
            "cell_type": "markdown",
            "metadata": {},
            "source": [
                "# Preview: GPT-4 Turbo"
            ]
        },
        {
            "cell_type": "code",
            "execution_count": 17,
            "metadata": {},
            "outputs": [
                {
                    "name": "stdout",
                    "output_type": "stream",
                    "text": [
                        "The `model_name` field is deprecated. Use `model` instead.                 This will be removed in a future release.\n"
                    ]
                },
                {
                    "data": {
                        "application/vnd.jupyter.widget-view+json": {
                            "model_id": "4f2acf95cd944403bff76be580b6a9ab",
                            "version_major": 2,
                            "version_minor": 0
                        },
                        "text/plain": [
                            "llm_classify |          | 0/100 (0.0%) | ⏳ 00:00<? | ?it/s"
                        ]
                    },
                    "metadata": {},
                    "output_type": "display_data"
                }
            ],
            "source": [
                "rails = list(HALLUCINATION_PROMPT_RAILS_MAP.values())\n",
                "hallucination_classifications = llm_classify(\n",
                "    dataframe=df,\n",
                "    template=HALLUCINATION_PROMPT_TEMPLATE,\n",
                "    model=OpenAIModel(model_name=\"gpt-4-turbo-preview\", temperature=0.0),\n",
                "    rails=rails,\n",
                "    concurrency=20,\n",
                ")[\"label\"].tolist()"
            ]
        },
        {
            "cell_type": "code",
            "execution_count": 18,
            "metadata": {},
            "outputs": [
                {
                    "name": "stdout",
                    "output_type": "stream",
                    "text": [
                        "              precision    recall  f1-score   support\n",
                        "\n",
                        "hallucinated       0.90      0.74      0.81        50\n",
                        "     factual       0.78      0.92      0.84        50\n",
                        "\n",
                        "    accuracy                           0.83       100\n",
                        "   macro avg       0.84      0.83      0.83       100\n",
                        "weighted avg       0.84      0.83      0.83       100\n",
                        "\n"
                    ]
                },
                {
                    "data": {
                        "text/plain": [
                            "<Axes: title={'center': 'Confusion Matrix (Normalized)'}, xlabel='Predicted Classes', ylabel='Actual Classes'>"
                        ]
                    },
                    "execution_count": 18,
                    "metadata": {},
                    "output_type": "execute_result"
                },
                {
                    "data": {
                        "image/png": "[encoded data removed]",
                        "text/plain": [
                            "<Figure size 640x480 with 2 Axes>"
                        ]
                    },
                    "metadata": {},
                    "output_type": "display_data"
                }
            ],
            "source": [
                "print(classification_report(true_labels, hallucination_classifications, labels=rails))\n",
                "confusion_matrix = ConfusionMatrix(\n",
                "    actual_vector=true_labels,\n",
                "    predict_vector=hallucination_classifications,\n",
                "    classes=rails,\n",
                ")\n",
                "confusion_matrix.plot(\n",
                "    cmap=plt.colormaps[\"Blues\"],\n",
                "    number_label=True,\n",
                "    normalized=True,\n",
                ")"
            ]
        }
    ],
    "metadata": {
        "kernelspec": {
            "display_name": "Python 3 (ipykernel)",
            "language": "python",
            "name": "python3"
        },
        "language_info": {
            "codemirror_mode": {
                "name": "ipython",
                "version": 3
            },
            "file_extension": ".py",
            "mimetype": "text/x-python",
            "name": "python",
            "nbconvert_exporter": "python",
            "pygments_lexer": "ipython3",
            "version": "3.12.3"
        }
    },
    "nbformat": 4,
    "nbformat_minor": 4
}
