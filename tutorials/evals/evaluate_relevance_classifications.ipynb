{
  "cells": [
    {
      "cell_type": "markdown",
      "metadata": {
        "id": "KqohxWpF79gr"
      },
      "source": [
        "<center>\n",
        "    <p style=\"text-align:center\">\n",
        "        <img alt=\"phoenix logo\" src=\"https://storage.googleapis.com/arize-assets/phoenix/assets/phoenix-logo-light.svg\" width=\"200\"/>\n",
        "        <br>\n",
        "        <a href=\"https://docs.arize.com/phoenix/\">Docs</a>\n",
        "        |\n",
        "        <a href=\"https://github.com/Arize-ai/phoenix\">GitHub</a>\n",
        "        |\n",
        "        <a href=\"https://join.slack.com/t/arize-ai/shared_invite/zt-1px8dcmlf-fmThhDFD_V_48oU7ALan4Q\">Community</a>\n",
        "    </p>\n",
        "</center>\n",
        "<h1 align=\"center\">Retrieval Relevance Evals</h1>\n",
        "\n",
        "Arize provides tooling to evaluate LLM applications, including tools to determine the relevance or irrelevance of documents retrieved by retrieval-augmented generation (RAG) applications. This relevance is then used to measure the quality of each retrieval using ranking metrics such as precision@k. In order to determine whether each retrieved document is relevant or irrelevant to the corresponding query, our approach is straightforward: ask an LLM.\n",
        "\n",
        "The purpose of this notebook is:\n",
        "\n",
        "- to evaluate the performance of an LLM-assisted approach to relevance classification against information retrieval datasets with ground-truth relevance labels,\n",
        "- to provide an experimental framework for users to iterate and improve on the default classification template.\n",
        "\n",
        "## Install Dependencies and Import Libraries"
      ]
    },
    {
      "cell_type": "code",
      "source": [
        "#####################\n",
        "## N_EVAL_SAMPLE_SIZE\n",
        "#####################\n",
        "#Eval sample size determines the run time\n",
        "#100 samples: GPT-4 ~ 80 sec / GPT-3.5 ~ 40 sec\n",
        "#1,000 samples: GPT-4 ~15-17 min / GPT-3.5 ~ 6-7min (depending on retries)\n",
        "#10,000 samples GPT-4 ~170 min / GPT-3.5 ~ 70min\n",
        "N_EVAL_SAMPLE_SIZE = 100"
      ],
      "metadata": {
        "id": "AAN7zKfe8NVa"
      },
      "execution_count": 1,
      "outputs": []
    },
    {
      "cell_type": "code",
      "execution_count": 2,
      "metadata": {
        "id": "kjxHQPDr79gt",
        "colab": {
          "base_uri": "https://localhost:8080/"
        },
        "outputId": "e83449d8-1517-4feb-abb6-bd0771247634"
      },
      "outputs": [
        {
          "output_type": "stream",
          "name": "stdout",
          "text": [
            "\u001b[2K     \u001b[90m━━━━━━━━━━━━━━━━━━━━━━━━━━━━━━━━━━━━━━━━\u001b[0m \u001b[32m1.1/1.1 MB\u001b[0m \u001b[31m7.4 MB/s\u001b[0m eta \u001b[36m0:00:00\u001b[0m\n",
            "\u001b[2K     \u001b[90m━━━━━━━━━━━━━━━━━━━━━━━━━━━━━━━━━━━━━━━━\u001b[0m \u001b[32m76.5/76.5 kB\u001b[0m \u001b[31m7.1 MB/s\u001b[0m eta \u001b[36m0:00:00\u001b[0m\n",
            "\u001b[2K     \u001b[90m━━━━━━━━━━━━━━━━━━━━━━━━━━━━━━━━━━━━━━━━\u001b[0m \u001b[32m70.3/70.3 kB\u001b[0m \u001b[31m7.4 MB/s\u001b[0m eta \u001b[36m0:00:00\u001b[0m\n",
            "\u001b[2K     \u001b[90m━━━━━━━━━━━━━━━━━━━━━━━━━━━━━━━━━━━━━━━━\u001b[0m \u001b[32m5.2/5.2 MB\u001b[0m \u001b[31m12.4 MB/s\u001b[0m eta \u001b[36m0:00:00\u001b[0m\n",
            "\u001b[?25h  Installing build dependencies ... \u001b[?25l\u001b[?25hdone\n",
            "  Getting requirements to build wheel ... \u001b[?25l\u001b[?25hdone\n",
            "  Preparing metadata (pyproject.toml) ... \u001b[?25l\u001b[?25hdone\n",
            "\u001b[2K     \u001b[90m━━━━━━━━━━━━━━━━━━━━━━━━━━━━━━━━━━━━━━━━\u001b[0m \u001b[32m69.9/69.9 kB\u001b[0m \u001b[31m8.2 MB/s\u001b[0m eta \u001b[36m0:00:00\u001b[0m\n",
            "\u001b[2K     \u001b[90m━━━━━━━━━━━━━━━━━━━━━━━━━━━━━━━━━━━━━━\u001b[0m \u001b[32m266.5/266.5 kB\u001b[0m \u001b[31m11.2 MB/s\u001b[0m eta \u001b[36m0:00:00\u001b[0m\n",
            "\u001b[2K     \u001b[90m━━━━━━━━━━━━━━━━━━━━━━━━━━━━━━━━━━━━━━━━\u001b[0m \u001b[32m90.8/90.8 kB\u001b[0m \u001b[31m9.8 MB/s\u001b[0m eta \u001b[36m0:00:00\u001b[0m\n",
            "\u001b[?25h  Preparing metadata (setup.py) ... \u001b[?25l\u001b[?25hdone\n",
            "\u001b[2K     \u001b[90m━━━━━━━━━━━━━━━━━━━━━━━━━━━━━━━━━━━━━━━━\u001b[0m \u001b[32m59.5/59.5 kB\u001b[0m \u001b[31m6.4 MB/s\u001b[0m eta \u001b[36m0:00:00\u001b[0m\n",
            "\u001b[2K     \u001b[90m━━━━━━━━━━━━━━━━━━━━━━━━━━━━━━━━━━━━━━━\u001b[0m \u001b[32m202.9/202.9 kB\u001b[0m \u001b[31m8.0 MB/s\u001b[0m eta \u001b[36m0:00:00\u001b[0m\n",
            "\u001b[2K     \u001b[90m━━━━━━━━━━━━━━━━━━━━━━━━━━━━━━━━━━━━━━━━\u001b[0m \u001b[32m1.6/1.6 MB\u001b[0m \u001b[31m12.8 MB/s\u001b[0m eta \u001b[36m0:00:00\u001b[0m\n",
            "\u001b[2K     \u001b[90m━━━━━━━━━━━━━━━━━━━━━━━━━━━━━━━━━━━━━━\u001b[0m \u001b[32m599.4/599.4 kB\u001b[0m \u001b[31m13.3 MB/s\u001b[0m eta \u001b[36m0:00:00\u001b[0m\n",
            "\u001b[2K     \u001b[90m━━━━━━━━━━━━━━━━━━━━━━━━━━━━━━━━━━━━━━━━\u001b[0m \u001b[32m1.1/1.1 MB\u001b[0m \u001b[31m13.9 MB/s\u001b[0m eta \u001b[36m0:00:00\u001b[0m\n",
            "\u001b[?25h  Preparing metadata (setup.py) ... \u001b[?25l\u001b[?25hdone\n",
            "\u001b[2K     \u001b[90m━━━━━━━━━━━━━━━━━━━━━━━━━━━━━━━━━━━━━━━━\u001b[0m \u001b[32m58.3/58.3 kB\u001b[0m \u001b[31m5.4 MB/s\u001b[0m eta \u001b[36m0:00:00\u001b[0m\n",
            "\u001b[?25h  Building wheel for hdbscan (pyproject.toml) ... \u001b[?25l\u001b[?25hdone\n",
            "  Building wheel for umap-learn (setup.py) ... \u001b[?25l\u001b[?25hdone\n",
            "  Building wheel for pynndescent (setup.py) ... \u001b[?25l\u001b[?25hdone\n"
          ]
        }
      ],
      "source": [
        "!pip install -qq arize-phoenix ipython matplotlib openai pycm scikit-learn"
      ]
    },
    {
      "cell_type": "code",
      "execution_count": 3,
      "metadata": {
        "id": "Zg_8sFIk79gu"
      },
      "outputs": [],
      "source": [
        "import os\n",
        "from getpass import getpass\n",
        "\n",
        "import matplotlib.pyplot as plt\n",
        "import openai\n",
        "import pandas as pd\n",
        "from phoenix.experimental.evals import (\n",
        "    RAG_RELEVANCY_PROMPT_RAILS_MAP,\n",
        "    RAG_RELEVANCY_PROMPT_TEMPLATE_STR,\n",
        "    OpenAIModel,\n",
        "    download_benchmark_dataset,\n",
        "    llm_eval_binary,\n",
        ")\n",
        "from pycm import ConfusionMatrix\n",
        "from sklearn.metrics import classification_report\n",
        "\n",
        "pd.set_option(\"display.max_colwidth\", None)"
      ]
    },
    {
      "cell_type": "markdown",
      "metadata": {
        "id": "vAkoAXc279gu"
      },
      "source": [
        "## Download Benchmark Dataset\n",
        "\n",
        "We'll evaluate the evaluation system consisting of an LLM model and settings in addition to an evaluation prompt template against benchmark datasets of queries and retrieved documents with ground-truth relevance labels. Currently supported datasets include:\n",
        "\n",
        "- \"wiki_qa-train\"\n",
        "- \"ms_marco-v1.1-train\""
      ]
    },
    {
      "cell_type": "code",
      "execution_count": 4,
      "metadata": {
        "id": "xqvRL4i979gv",
        "colab": {
          "base_uri": "https://localhost:8080/",
          "height": 1000
        },
        "outputId": "62b0c49f-9aa9-4374-da73-01e3cd56d062"
      },
      "outputs": [
        {
          "output_type": "execute_result",
          "data": {
            "text/plain": [
              "  query_id  \\\n",
              "0       Q1   \n",
              "1      Q10   \n",
              "2     Q100   \n",
              "3    Q1000   \n",
              "4    Q1001   \n",
              "\n",
              "                                                            query_text  \\\n",
              "0                                        how are glacier caves formed?   \n",
              "1                                     how an outdoor wood boiler works   \n",
              "2  what happens  to the light independent reactions of photosynthesis?   \n",
              "3          where in the bible that palestine have no land in jerusalem   \n",
              "4                                    what are the test scores on asvab   \n",
              "\n",
              "                               document_title  \\\n",
              "0                                Glacier cave   \n",
              "1                   Outdoor wood-fired boiler   \n",
              "2                 Light-independent reactions   \n",
              "3                                 Philistines   \n",
              "4  Armed Services Vocational Aptitude Battery   \n",
              "\n",
              "                                                                                                                                                                                                                                                                                                                                                                                                                                                                                                                                                                                                                                                                                                                                                                                                                                                                                                                                                                                                                                                                                                                                                                                                                                                                                                                                                                                                                                                                               document_text  \\\n",
              "0                                                                                                                                                                                                                                                                                                                                                                                                                                                                                                                                                                                                                                                                                                                                                                                                                                                                                                                                                                                                                                                                                                                                              A partly submerged glacier cave on Perito Moreno Glacier . The ice facade is approximately 60 m high Ice formations in the Titlis glacier cave A glacier cave is a cave formed within the ice of a glacier . Glacier caves are often called ice caves , but this term is properly used to describe bedrock caves that contain year-round ice.   \n",
              "1                                                                                                                                                                                                                                                                                                                                                                                                                                                                                                                                                                                                                                                                                                                                                                                                                                                                                                                                                                                                                                                                                                                                                                                                                                                                                                                                        The outdoor wood boiler is a variant of the classic wood stove adapted for set-up outdoors while still transferring the heat to interior buildings.   \n",
              "2                                                                                                                                                                                                                                                                                                                                    The simplified internal structure of a chloroplast Overview of the Calvin cycle and carbon fixation The light-independent reactions of photosynthesis are chemical reactions that convert carbon dioxide and other compounds into glucose . These reactions occur in the stroma , the fluid-filled area of a chloroplast outside of the thylakoid membranes. These reactions take the light-dependent reactions and perform further chemical processes on them. There are three phases to the light-independent reactions, collectively called the Calvin cycle : carbon fixation, reduction reactions, and ribulose 1,5-bisphosphate (RuBP) regeneration. Despite its name, this process occurs only when light is available. Plants do not carry out the Calvin cycle by night. They, instead, release sucrose into the phloem from their starch reserves. This process happens when light is available independent of the kind of photosynthesis ( C3 carbon fixation , C4 carbon fixation , and Crassulacean Acid Metabolism ); CAM plants store malic acid in their vacuoles every night and release it by day in order to make this process work.   \n",
              "3  The Philistine cities of Gaza, Ashdod, Ashkelon, Ekron, and Gath The Philistines (, , , or ; , Plištim), Pleshet or Peleset, were a people who as part of the Sea Peoples appeared in the southern coastal area of Canaan at the beginning of the Iron Age (circa 1175 BC), most probably from the Aegean region. According to the Bible , they ruled the five city-states (the \"Philistine Pentapolis\") of Gaza , Ashkelon , Ashdod , Ekron and Gath , from Wadi Gaza in the south to the Yarqon River in the north, but with no fixed border to the east. The Bible paints them as the Kingdom of Israel 's most dangerous enemy. Originating somewhere in the Aegean , their population was around 25,000 in the 12th century BC, rising to a peak of 30,000 in the 11th century BC, of which the Aegean element was not more than half the total, and perhaps much less. Nothing is known for certain about the original language or languages of the Philistines, however they were not part of the Semitic Canaanite population. There is some limited evidence in favour of the assumption that the Philistines were Indo-European-speakers either from Greece and/or Luwian speakers from the coast of Asia Minor . Philistine-related words found in the Bible are not Semitic, and can in some cases, with reservations, be traced back to Proto-Indo-European roots. By the beginning of the 1st Millennium BCE they had adopted the general Canaanite language of the region.   \n",
              "4                                                                                                                                                                                                                                                                                                                                                                                                                                                                                                                                                                                                                                                                                                                                                                                                                                                                                                                The Armed Services Vocational Aptitude Battery (ASVAB) is a multiple choice test, administered by the United States Military Entrance Processing Command , used to determine qualification for enlistment in the United States armed forces . It is often offered to American high school students when they are in the 10th, 11th and 12th grade, though anyone eligible for enlistment may take it. Although the test is administered by the military, it is not (and never has been) a requirement that a test-taker with a qualifying score enlist in the armed forces.   \n",
              "\n",
              "                                                                                                                                                                                                                                                                                                                                                                                                                                                                                                                                                                                                                                                                                                                                                                                                                                                                                                                                                                                                                                                                                                                                                                                                                                                                                                                                                                                                                                                                 document_text_with_emphasis  \\\n",
              "0                                                                                                                                                                                                                                                                                                                                                                                                                                                                                                                                                                                                                                                                                                                                                                                                                                                                                                                                                                                                                                                                                                                                              A partly submerged glacier cave on Perito Moreno Glacier . The ice facade is approximately 60 m high Ice formations in the Titlis glacier cave A GLACIER CAVE IS A CAVE FORMED WITHIN THE ICE OF A GLACIER . Glacier caves are often called ice caves , but this term is properly used to describe bedrock caves that contain year-round ice.   \n",
              "1                                                                                                                                                                                                                                                                                                                                                                                                                                                                                                                                                                                                                                                                                                                                                                                                                                                                                                                                                                                                                                                                                                                                                                                                                                                                                                                                        The outdoor wood boiler is a variant of the classic wood stove adapted for set-up outdoors while still transferring the heat to interior buildings.   \n",
              "2                                                                                                                                                                                                                                                                                                                                    The simplified internal structure of a chloroplast Overview of the Calvin cycle and carbon fixation THE LIGHT-INDEPENDENT REACTIONS OF PHOTOSYNTHESIS ARE CHEMICAL REACTIONS THAT CONVERT CARBON DIOXIDE AND OTHER COMPOUNDS INTO GLUCOSE . These reactions occur in the stroma , the fluid-filled area of a chloroplast outside of the thylakoid membranes. THESE REACTIONS TAKE THE LIGHT-DEPENDENT REACTIONS AND PERFORM FURTHER CHEMICAL PROCESSES ON THEM. There are three phases to the light-independent reactions, collectively called the Calvin cycle : carbon fixation, reduction reactions, and ribulose 1,5-bisphosphate (RuBP) regeneration. Despite its name, this process occurs only when light is available. Plants do not carry out the Calvin cycle by night. They, instead, release sucrose into the phloem from their starch reserves. This process happens when light is available independent of the kind of photosynthesis ( C3 carbon fixation , C4 carbon fixation , and Crassulacean Acid Metabolism ); CAM plants store malic acid in their vacuoles every night and release it by day in order to make this process work.   \n",
              "3  The Philistine cities of Gaza, Ashdod, Ashkelon, Ekron, and Gath The Philistines (, , , or ; , Plištim), Pleshet or Peleset, were a people who as part of the Sea Peoples appeared in the southern coastal area of Canaan at the beginning of the Iron Age (circa 1175 BC), most probably from the Aegean region. According to the Bible , they ruled the five city-states (the \"Philistine Pentapolis\") of Gaza , Ashkelon , Ashdod , Ekron and Gath , from Wadi Gaza in the south to the Yarqon River in the north, but with no fixed border to the east. The Bible paints them as the Kingdom of Israel 's most dangerous enemy. Originating somewhere in the Aegean , their population was around 25,000 in the 12th century BC, rising to a peak of 30,000 in the 11th century BC, of which the Aegean element was not more than half the total, and perhaps much less. Nothing is known for certain about the original language or languages of the Philistines, however they were not part of the Semitic Canaanite population. There is some limited evidence in favour of the assumption that the Philistines were Indo-European-speakers either from Greece and/or Luwian speakers from the coast of Asia Minor . Philistine-related words found in the Bible are not Semitic, and can in some cases, with reservations, be traced back to Proto-Indo-European roots. By the beginning of the 1st Millennium BCE they had adopted the general Canaanite language of the region.   \n",
              "4                                                                                                                                                                                                                                                                                                                                                                                                                                                                                                                                                                                                                                                                                                                                                                                                                                                                                                                The Armed Services Vocational Aptitude Battery (ASVAB) is a multiple choice test, administered by the United States Military Entrance Processing Command , used to determine qualification for enlistment in the United States armed forces . It is often offered to American high school students when they are in the 10th, 11th and 12th grade, though anyone eligible for enlistment may take it. Although the test is administered by the military, it is not (and never has been) a requirement that a test-taker with a qualifying score enlist in the armed forces.   \n",
              "\n",
              "   relevant  \n",
              "0      True  \n",
              "1     False  \n",
              "2      True  \n",
              "3     False  \n",
              "4     False  "
            ],
            "text/html": [
              "\n",
              "  <div id=\"df-ac773003-85a9-42a8-bf15-8581c4f0a83d\" class=\"colab-df-container\">\n",
              "    <div>\n",
              "<style scoped>\n",
              "    .dataframe tbody tr th:only-of-type {\n",
              "        vertical-align: middle;\n",
              "    }\n",
              "\n",
              "    .dataframe tbody tr th {\n",
              "        vertical-align: top;\n",
              "    }\n",
              "\n",
              "    .dataframe thead th {\n",
              "        text-align: right;\n",
              "    }\n",
              "</style>\n",
              "<table border=\"1\" class=\"dataframe\">\n",
              "  <thead>\n",
              "    <tr style=\"text-align: right;\">\n",
              "      <th></th>\n",
              "      <th>query_id</th>\n",
              "      <th>query_text</th>\n",
              "      <th>document_title</th>\n",
              "      <th>document_text</th>\n",
              "      <th>document_text_with_emphasis</th>\n",
              "      <th>relevant</th>\n",
              "    </tr>\n",
              "  </thead>\n",
              "  <tbody>\n",
              "    <tr>\n",
              "      <th>0</th>\n",
              "      <td>Q1</td>\n",
              "      <td>how are glacier caves formed?</td>\n",
              "      <td>Glacier cave</td>\n",
              "      <td>A partly submerged glacier cave on Perito Moreno Glacier . The ice facade is approximately 60 m high Ice formations in the Titlis glacier cave A glacier cave is a cave formed within the ice of a glacier . Glacier caves are often called ice caves , but this term is properly used to describe bedrock caves that contain year-round ice.</td>\n",
              "      <td>A partly submerged glacier cave on Perito Moreno Glacier . The ice facade is approximately 60 m high Ice formations in the Titlis glacier cave A GLACIER CAVE IS A CAVE FORMED WITHIN THE ICE OF A GLACIER . Glacier caves are often called ice caves , but this term is properly used to describe bedrock caves that contain year-round ice.</td>\n",
              "      <td>True</td>\n",
              "    </tr>\n",
              "    <tr>\n",
              "      <th>1</th>\n",
              "      <td>Q10</td>\n",
              "      <td>how an outdoor wood boiler works</td>\n",
              "      <td>Outdoor wood-fired boiler</td>\n",
              "      <td>The outdoor wood boiler is a variant of the classic wood stove adapted for set-up outdoors while still transferring the heat to interior buildings.</td>\n",
              "      <td>The outdoor wood boiler is a variant of the classic wood stove adapted for set-up outdoors while still transferring the heat to interior buildings.</td>\n",
              "      <td>False</td>\n",
              "    </tr>\n",
              "    <tr>\n",
              "      <th>2</th>\n",
              "      <td>Q100</td>\n",
              "      <td>what happens  to the light independent reactions of photosynthesis?</td>\n",
              "      <td>Light-independent reactions</td>\n",
              "      <td>The simplified internal structure of a chloroplast Overview of the Calvin cycle and carbon fixation The light-independent reactions of photosynthesis are chemical reactions that convert carbon dioxide and other compounds into glucose . These reactions occur in the stroma , the fluid-filled area of a chloroplast outside of the thylakoid membranes. These reactions take the light-dependent reactions and perform further chemical processes on them. There are three phases to the light-independent reactions, collectively called the Calvin cycle : carbon fixation, reduction reactions, and ribulose 1,5-bisphosphate (RuBP) regeneration. Despite its name, this process occurs only when light is available. Plants do not carry out the Calvin cycle by night. They, instead, release sucrose into the phloem from their starch reserves. This process happens when light is available independent of the kind of photosynthesis ( C3 carbon fixation , C4 carbon fixation , and Crassulacean Acid Metabolism ); CAM plants store malic acid in their vacuoles every night and release it by day in order to make this process work.</td>\n",
              "      <td>The simplified internal structure of a chloroplast Overview of the Calvin cycle and carbon fixation THE LIGHT-INDEPENDENT REACTIONS OF PHOTOSYNTHESIS ARE CHEMICAL REACTIONS THAT CONVERT CARBON DIOXIDE AND OTHER COMPOUNDS INTO GLUCOSE . These reactions occur in the stroma , the fluid-filled area of a chloroplast outside of the thylakoid membranes. THESE REACTIONS TAKE THE LIGHT-DEPENDENT REACTIONS AND PERFORM FURTHER CHEMICAL PROCESSES ON THEM. There are three phases to the light-independent reactions, collectively called the Calvin cycle : carbon fixation, reduction reactions, and ribulose 1,5-bisphosphate (RuBP) regeneration. Despite its name, this process occurs only when light is available. Plants do not carry out the Calvin cycle by night. They, instead, release sucrose into the phloem from their starch reserves. This process happens when light is available independent of the kind of photosynthesis ( C3 carbon fixation , C4 carbon fixation , and Crassulacean Acid Metabolism ); CAM plants store malic acid in their vacuoles every night and release it by day in order to make this process work.</td>\n",
              "      <td>True</td>\n",
              "    </tr>\n",
              "    <tr>\n",
              "      <th>3</th>\n",
              "      <td>Q1000</td>\n",
              "      <td>where in the bible that palestine have no land in jerusalem</td>\n",
              "      <td>Philistines</td>\n",
              "      <td>The Philistine cities of Gaza, Ashdod, Ashkelon, Ekron, and Gath The Philistines (, , , or ; , Plištim), Pleshet or Peleset, were a people who as part of the Sea Peoples appeared in the southern coastal area of Canaan at the beginning of the Iron Age (circa 1175 BC), most probably from the Aegean region. According to the Bible , they ruled the five city-states (the \"Philistine Pentapolis\") of Gaza , Ashkelon , Ashdod , Ekron and Gath , from Wadi Gaza in the south to the Yarqon River in the north, but with no fixed border to the east. The Bible paints them as the Kingdom of Israel 's most dangerous enemy. Originating somewhere in the Aegean , their population was around 25,000 in the 12th century BC, rising to a peak of 30,000 in the 11th century BC, of which the Aegean element was not more than half the total, and perhaps much less. Nothing is known for certain about the original language or languages of the Philistines, however they were not part of the Semitic Canaanite population. There is some limited evidence in favour of the assumption that the Philistines were Indo-European-speakers either from Greece and/or Luwian speakers from the coast of Asia Minor . Philistine-related words found in the Bible are not Semitic, and can in some cases, with reservations, be traced back to Proto-Indo-European roots. By the beginning of the 1st Millennium BCE they had adopted the general Canaanite language of the region.</td>\n",
              "      <td>The Philistine cities of Gaza, Ashdod, Ashkelon, Ekron, and Gath The Philistines (, , , or ; , Plištim), Pleshet or Peleset, were a people who as part of the Sea Peoples appeared in the southern coastal area of Canaan at the beginning of the Iron Age (circa 1175 BC), most probably from the Aegean region. According to the Bible , they ruled the five city-states (the \"Philistine Pentapolis\") of Gaza , Ashkelon , Ashdod , Ekron and Gath , from Wadi Gaza in the south to the Yarqon River in the north, but with no fixed border to the east. The Bible paints them as the Kingdom of Israel 's most dangerous enemy. Originating somewhere in the Aegean , their population was around 25,000 in the 12th century BC, rising to a peak of 30,000 in the 11th century BC, of which the Aegean element was not more than half the total, and perhaps much less. Nothing is known for certain about the original language or languages of the Philistines, however they were not part of the Semitic Canaanite population. There is some limited evidence in favour of the assumption that the Philistines were Indo-European-speakers either from Greece and/or Luwian speakers from the coast of Asia Minor . Philistine-related words found in the Bible are not Semitic, and can in some cases, with reservations, be traced back to Proto-Indo-European roots. By the beginning of the 1st Millennium BCE they had adopted the general Canaanite language of the region.</td>\n",
              "      <td>False</td>\n",
              "    </tr>\n",
              "    <tr>\n",
              "      <th>4</th>\n",
              "      <td>Q1001</td>\n",
              "      <td>what are the test scores on asvab</td>\n",
              "      <td>Armed Services Vocational Aptitude Battery</td>\n",
              "      <td>The Armed Services Vocational Aptitude Battery (ASVAB) is a multiple choice test, administered by the United States Military Entrance Processing Command , used to determine qualification for enlistment in the United States armed forces . It is often offered to American high school students when they are in the 10th, 11th and 12th grade, though anyone eligible for enlistment may take it. Although the test is administered by the military, it is not (and never has been) a requirement that a test-taker with a qualifying score enlist in the armed forces.</td>\n",
              "      <td>The Armed Services Vocational Aptitude Battery (ASVAB) is a multiple choice test, administered by the United States Military Entrance Processing Command , used to determine qualification for enlistment in the United States armed forces . It is often offered to American high school students when they are in the 10th, 11th and 12th grade, though anyone eligible for enlistment may take it. Although the test is administered by the military, it is not (and never has been) a requirement that a test-taker with a qualifying score enlist in the armed forces.</td>\n",
              "      <td>False</td>\n",
              "    </tr>\n",
              "  </tbody>\n",
              "</table>\n",
              "</div>\n",
              "    <div class=\"colab-df-buttons\">\n",
              "\n",
              "  <div class=\"colab-df-container\">\n",
              "    <button class=\"colab-df-convert\" onclick=\"convertToInteractive('df-ac773003-85a9-42a8-bf15-8581c4f0a83d')\"\n",
              "            title=\"Convert this dataframe to an interactive table.\"\n",
              "            style=\"display:none;\">\n",
              "\n",
              "  <svg xmlns=\"http://www.w3.org/2000/svg\" height=\"24px\" viewBox=\"0 -960 960 960\">\n",
              "    <path d=\"M120-120v-720h720v720H120Zm60-500h600v-160H180v160Zm220 220h160v-160H400v160Zm0 220h160v-160H400v160ZM180-400h160v-160H180v160Zm440 0h160v-160H620v160ZM180-180h160v-160H180v160Zm440 0h160v-160H620v160Z\"/>\n",
              "  </svg>\n",
              "    </button>\n",
              "\n",
              "  <style>\n",
              "    .colab-df-container {\n",
              "      display:flex;\n",
              "      gap: 12px;\n",
              "    }\n",
              "\n",
              "    .colab-df-convert {\n",
              "      background-color: #E8F0FE;\n",
              "      border: none;\n",
              "      border-radius: 50%;\n",
              "      cursor: pointer;\n",
              "      display: none;\n",
              "      fill: #1967D2;\n",
              "      height: 32px;\n",
              "      padding: 0 0 0 0;\n",
              "      width: 32px;\n",
              "    }\n",
              "\n",
              "    .colab-df-convert:hover {\n",
              "      background-color: #E2EBFA;\n",
              "      box-shadow: 0px 1px 2px rgba(60, 64, 67, 0.3), 0px 1px 3px 1px rgba(60, 64, 67, 0.15);\n",
              "      fill: #174EA6;\n",
              "    }\n",
              "\n",
              "    .colab-df-buttons div {\n",
              "      margin-bottom: 4px;\n",
              "    }\n",
              "\n",
              "    [theme=dark] .colab-df-convert {\n",
              "      background-color: #3B4455;\n",
              "      fill: #D2E3FC;\n",
              "    }\n",
              "\n",
              "    [theme=dark] .colab-df-convert:hover {\n",
              "      background-color: #434B5C;\n",
              "      box-shadow: 0px 1px 3px 1px rgba(0, 0, 0, 0.15);\n",
              "      filter: drop-shadow(0px 1px 2px rgba(0, 0, 0, 0.3));\n",
              "      fill: #FFFFFF;\n",
              "    }\n",
              "  </style>\n",
              "\n",
              "    <script>\n",
              "      const buttonEl =\n",
              "        document.querySelector('#df-ac773003-85a9-42a8-bf15-8581c4f0a83d button.colab-df-convert');\n",
              "      buttonEl.style.display =\n",
              "        google.colab.kernel.accessAllowed ? 'block' : 'none';\n",
              "\n",
              "      async function convertToInteractive(key) {\n",
              "        const element = document.querySelector('#df-ac773003-85a9-42a8-bf15-8581c4f0a83d');\n",
              "        const dataTable =\n",
              "          await google.colab.kernel.invokeFunction('convertToInteractive',\n",
              "                                                    [key], {});\n",
              "        if (!dataTable) return;\n",
              "\n",
              "        const docLinkHtml = 'Like what you see? Visit the ' +\n",
              "          '<a target=\"_blank\" href=https://colab.research.google.com/notebooks/data_table.ipynb>data table notebook</a>'\n",
              "          + ' to learn more about interactive tables.';\n",
              "        element.innerHTML = '';\n",
              "        dataTable['output_type'] = 'display_data';\n",
              "        await google.colab.output.renderOutput(dataTable, element);\n",
              "        const docLink = document.createElement('div');\n",
              "        docLink.innerHTML = docLinkHtml;\n",
              "        element.appendChild(docLink);\n",
              "      }\n",
              "    </script>\n",
              "  </div>\n",
              "\n",
              "\n",
              "<div id=\"df-a011243a-8580-4fb2-8901-3dea8e99c422\">\n",
              "  <button class=\"colab-df-quickchart\" onclick=\"quickchart('df-a011243a-8580-4fb2-8901-3dea8e99c422')\"\n",
              "            title=\"Suggest charts.\"\n",
              "            style=\"display:none;\">\n",
              "\n",
              "<svg xmlns=\"http://www.w3.org/2000/svg\" height=\"24px\"viewBox=\"0 0 24 24\"\n",
              "     width=\"24px\">\n",
              "    <g>\n",
              "        <path d=\"M19 3H5c-1.1 0-2 .9-2 2v14c0 1.1.9 2 2 2h14c1.1 0 2-.9 2-2V5c0-1.1-.9-2-2-2zM9 17H7v-7h2v7zm4 0h-2V7h2v10zm4 0h-2v-4h2v4z\"/>\n",
              "    </g>\n",
              "</svg>\n",
              "  </button>\n",
              "\n",
              "<style>\n",
              "  .colab-df-quickchart {\n",
              "      --bg-color: #E8F0FE;\n",
              "      --fill-color: #1967D2;\n",
              "      --hover-bg-color: #E2EBFA;\n",
              "      --hover-fill-color: #174EA6;\n",
              "      --disabled-fill-color: #AAA;\n",
              "      --disabled-bg-color: #DDD;\n",
              "  }\n",
              "\n",
              "  [theme=dark] .colab-df-quickchart {\n",
              "      --bg-color: #3B4455;\n",
              "      --fill-color: #D2E3FC;\n",
              "      --hover-bg-color: #434B5C;\n",
              "      --hover-fill-color: #FFFFFF;\n",
              "      --disabled-bg-color: #3B4455;\n",
              "      --disabled-fill-color: #666;\n",
              "  }\n",
              "\n",
              "  .colab-df-quickchart {\n",
              "    background-color: var(--bg-color);\n",
              "    border: none;\n",
              "    border-radius: 50%;\n",
              "    cursor: pointer;\n",
              "    display: none;\n",
              "    fill: var(--fill-color);\n",
              "    height: 32px;\n",
              "    padding: 0;\n",
              "    width: 32px;\n",
              "  }\n",
              "\n",
              "  .colab-df-quickchart:hover {\n",
              "    background-color: var(--hover-bg-color);\n",
              "    box-shadow: 0 1px 2px rgba(60, 64, 67, 0.3), 0 1px 3px 1px rgba(60, 64, 67, 0.15);\n",
              "    fill: var(--button-hover-fill-color);\n",
              "  }\n",
              "\n",
              "  .colab-df-quickchart-complete:disabled,\n",
              "  .colab-df-quickchart-complete:disabled:hover {\n",
              "    background-color: var(--disabled-bg-color);\n",
              "    fill: var(--disabled-fill-color);\n",
              "    box-shadow: none;\n",
              "  }\n",
              "\n",
              "  .colab-df-spinner {\n",
              "    border: 2px solid var(--fill-color);\n",
              "    border-color: transparent;\n",
              "    border-bottom-color: var(--fill-color);\n",
              "    animation:\n",
              "      spin 1s steps(1) infinite;\n",
              "  }\n",
              "\n",
              "  @keyframes spin {\n",
              "    0% {\n",
              "      border-color: transparent;\n",
              "      border-bottom-color: var(--fill-color);\n",
              "      border-left-color: var(--fill-color);\n",
              "    }\n",
              "    20% {\n",
              "      border-color: transparent;\n",
              "      border-left-color: var(--fill-color);\n",
              "      border-top-color: var(--fill-color);\n",
              "    }\n",
              "    30% {\n",
              "      border-color: transparent;\n",
              "      border-left-color: var(--fill-color);\n",
              "      border-top-color: var(--fill-color);\n",
              "      border-right-color: var(--fill-color);\n",
              "    }\n",
              "    40% {\n",
              "      border-color: transparent;\n",
              "      border-right-color: var(--fill-color);\n",
              "      border-top-color: var(--fill-color);\n",
              "    }\n",
              "    60% {\n",
              "      border-color: transparent;\n",
              "      border-right-color: var(--fill-color);\n",
              "    }\n",
              "    80% {\n",
              "      border-color: transparent;\n",
              "      border-right-color: var(--fill-color);\n",
              "      border-bottom-color: var(--fill-color);\n",
              "    }\n",
              "    90% {\n",
              "      border-color: transparent;\n",
              "      border-bottom-color: var(--fill-color);\n",
              "    }\n",
              "  }\n",
              "</style>\n",
              "\n",
              "  <script>\n",
              "    async function quickchart(key) {\n",
              "      const quickchartButtonEl =\n",
              "        document.querySelector('#' + key + ' button');\n",
              "      quickchartButtonEl.disabled = true;  // To prevent multiple clicks.\n",
              "      quickchartButtonEl.classList.add('colab-df-spinner');\n",
              "      try {\n",
              "        const charts = await google.colab.kernel.invokeFunction(\n",
              "            'suggestCharts', [key], {});\n",
              "      } catch (error) {\n",
              "        console.error('Error during call to suggestCharts:', error);\n",
              "      }\n",
              "      quickchartButtonEl.classList.remove('colab-df-spinner');\n",
              "      quickchartButtonEl.classList.add('colab-df-quickchart-complete');\n",
              "    }\n",
              "    (() => {\n",
              "      let quickchartButtonEl =\n",
              "        document.querySelector('#df-a011243a-8580-4fb2-8901-3dea8e99c422 button');\n",
              "      quickchartButtonEl.style.display =\n",
              "        google.colab.kernel.accessAllowed ? 'block' : 'none';\n",
              "    })();\n",
              "  </script>\n",
              "</div>\n",
              "    </div>\n",
              "  </div>\n"
            ]
          },
          "metadata": {},
          "execution_count": 4
        }
      ],
      "source": [
        "df = download_benchmark_dataset(\n",
        "    task=\"binary-relevance-classification\", dataset_name=\"wiki_qa-train\"\n",
        ")\n",
        "df.head()"
      ]
    },
    {
      "cell_type": "markdown",
      "metadata": {
        "id": "-f8hk31_79gv"
      },
      "source": [
        "## Display Binary Relevance Classification Template\n",
        "\n",
        "View the default template used to classify relevance. You can tweak this template and evaluate its performance relative to the default."
      ]
    },
    {
      "cell_type": "code",
      "execution_count": 5,
      "metadata": {
        "id": "3pu_qYac79gv",
        "colab": {
          "base_uri": "https://localhost:8080/"
        },
        "outputId": "a290241f-15d1-43f4-a388-4b33df53cfe5"
      },
      "outputs": [
        {
          "output_type": "stream",
          "name": "stdout",
          "text": [
            "\n",
            "You are comparing a reference text to a question and trying to determine if the reference text\n",
            "contains information relevant to answering the question. Here is the data:\n",
            "    [BEGIN DATA]\n",
            "    ************\n",
            "    [Question]: {query}\n",
            "    ************\n",
            "    [Reference text]: {reference}\n",
            "    [END DATA]\n",
            "\n",
            "Compare the Question above to the Reference text. You must determine whether the Reference text\n",
            "contains information that can answer the Question. Please focus on whether the very specific\n",
            "question can be answered by the information in the Reference text.\n",
            "Your response must be single word, either \"relevant\" or \"irrelevant\",\n",
            "and should not contain any text or characters aside from that word.\n",
            "\"irrelevant\" means that the reference text does not contain an answer to the Question.\n",
            "\"relevant\" means the reference text contains an answer to the Question.\n",
            "\n"
          ]
        }
      ],
      "source": [
        "print(RAG_RELEVANCY_PROMPT_TEMPLATE_STR)"
      ]
    },
    {
      "cell_type": "markdown",
      "metadata": {
        "id": "DAxhz__a79gv"
      },
      "source": [
        "The template variables are:\n",
        "\n",
        "- **query_text:** the question asked by a user\n",
        "- **document_text:** the text of the retrieved document\n",
        "- **relevant:** a ground-truth binary relevance label"
      ]
    },
    {
      "cell_type": "markdown",
      "metadata": {
        "id": "2oRKbX6o79gv"
      },
      "source": [
        "## Configure the LLM\n",
        "\n",
        "Configure your OpenAI API key."
      ]
    },
    {
      "cell_type": "code",
      "execution_count": 7,
      "metadata": {
        "id": "IwcvrRgK79gw"
      },
      "outputs": [],
      "source": [
        "if not (openai_api_key := os.getenv(\"OPENAI_API_KEY\")):\n",
        "    openai_api_key = getpass(\"🔑 Enter your OpenAI API key: \")\n",
        "openai.api_key = openai_api_key\n",
        "os.environ[\"OPENAI_API_KEY\"] = openai_api_key"
      ]
    },
    {
      "cell_type": "markdown",
      "source": [
        "## Benchmark Dataset Sample\n",
        "Sample size determines run time\n",
        "Recommend iterating small: 100 samples\n",
        "Then increasing to large test set"
      ],
      "metadata": {
        "id": "uvixzQAo8tnD"
      }
    },
    {
      "cell_type": "code",
      "execution_count": 8,
      "metadata": {
        "id": "TIoiPg6R79gx"
      },
      "outputs": [],
      "source": [
        "df = df.sample(n=N_EVAL_SAMPLE_SIZE).reset_index(drop=True)\n",
        "df = df.rename(\n",
        "    columns={\n",
        "        \"query_text\": \"query\",\n",
        "        \"document_text\": \"reference\",\n",
        "    },\n",
        ")"
      ]
    },
    {
      "cell_type": "markdown",
      "metadata": {
        "id": "hddgTQsB79gw"
      },
      "source": [
        "## LLM Evals: Retrieval Relevance Classifications GPT-4\n",
        "Run relevance against a subset of the data.\n",
        "Instantiate the LLM and set parameters."
      ]
    },
    {
      "cell_type": "code",
      "execution_count": 9,
      "metadata": {
        "id": "LiL7jStY79gw"
      },
      "outputs": [],
      "source": [
        "model = OpenAIModel(\n",
        "    model_name=\"gpt-4\",\n",
        "    temperature=0.0,\n",
        ")"
      ]
    },
    {
      "cell_type": "code",
      "source": [
        "model(\"Hello world, this is a test if you are working?\")"
      ],
      "metadata": {
        "id": "IxuvOj8HniRj",
        "outputId": "8222e975-cc6e-4eb7-b004-61dd755b3501",
        "colab": {
          "base_uri": "https://localhost:8080/",
          "height": 53
        }
      },
      "execution_count": 10,
      "outputs": [
        {
          "output_type": "stream",
          "name": "stderr",
          "text": [
            "100%|██████████| 1/1 [00:01<00:00,  1.77s/it]\n"
          ]
        },
        {
          "output_type": "execute_result",
          "data": {
            "text/plain": [
              "\"Hello! I'm working perfectly. How can I assist you today?\""
            ],
            "application/vnd.google.colaboratory.intrinsic+json": {
              "type": "string"
            }
          },
          "metadata": {},
          "execution_count": 10
        }
      ]
    },
    {
      "cell_type": "markdown",
      "metadata": {
        "id": "h9VR9kP479gw"
      },
      "source": [
        "## Run Relevance Classifications\n",
        "\n",
        "Run relevance classifications against a subset of the data."
      ]
    },
    {
      "cell_type": "code",
      "execution_count": 11,
      "metadata": {
        "id": "E3Ccz31w79gx",
        "colab": {
          "base_uri": "https://localhost:8080/"
        },
        "outputId": "9d137e13-07a3-488b-8240-ca18c1105578"
      },
      "outputs": [
        {
          "output_type": "stream",
          "name": "stderr",
          "text": [
            "100%|██████████| 100/100 [05:21<00:00,  3.21s/it]\n"
          ]
        }
      ],
      "source": [
        "#The rails is used to hold the output to specific values based on the template\n",
        "#It will remove text such as \",,,\" or \"...\"\n",
        "#Will ensure the binary value expected from the template is returned\n",
        "rails = list(RAG_RELEVANCY_PROMPT_RAILS_MAP.values())\n",
        "relevance_classifications = llm_eval_binary(\n",
        "    dataframe=df,\n",
        "    template=RAG_RELEVANCY_PROMPT_TEMPLATE_STR,\n",
        "    model=model,\n",
        "    rails=rails,\n",
        ")"
      ]
    },
    {
      "cell_type": "markdown",
      "metadata": {
        "id": "xVhhbBo_79gx"
      },
      "source": [
        "## Evaluate Classifications\n",
        "\n",
        "Evaluate the predictions against human-labeled ground-truth relevance labels."
      ]
    },
    {
      "cell_type": "code",
      "execution_count": 12,
      "metadata": {
        "id": "rQLFlUwR79gx",
        "colab": {
          "base_uri": "https://localhost:8080/",
          "height": 651
        },
        "outputId": "50b404c9-1ea9-4517-c722-3fa3df0644bd"
      },
      "outputs": [
        {
          "output_type": "stream",
          "name": "stdout",
          "text": [
            "              precision    recall  f1-score   support\n",
            "\n",
            "    relevant       0.69      0.93      0.79        45\n",
            "  irrelevant       0.92      0.65      0.77        55\n",
            "\n",
            "    accuracy                           0.78       100\n",
            "   macro avg       0.81      0.79      0.78       100\n",
            "weighted avg       0.82      0.78      0.78       100\n",
            "\n"
          ]
        },
        {
          "output_type": "execute_result",
          "data": {
            "text/plain": [
              "<Axes: title={'center': 'Confusion Matrix (Normalized)'}, xlabel='Predicted Classes', ylabel='Actual Classes'>"
            ]
          },
          "metadata": {},
          "execution_count": 12
        },
        {
          "output_type": "display_data",
          "data": {
            "text/plain": [
              "<Figure size 640x480 with 2 Axes>"
            ],
            "image/png": "[encoded data removed]"
          },
          "metadata": {}
        }
      ],
      "source": [
        "true_labels = df[\"relevant\"].map(RAG_RELEVANCY_PROMPT_RAILS_MAP).tolist()\n",
        "relevance_classifications= (\n",
        "    pd.Series(relevance_classifications).map(lambda x: \"unparseable\" if x is None else x).tolist()\n",
        ")\n",
        "\n",
        "print(classification_report(true_labels, relevance_classifications, labels=rails))\n",
        "confusion_matrix = ConfusionMatrix(\n",
        "    actual_vector=true_labels, predict_vector=relevance_classifications, classes=rails\n",
        ")\n",
        "confusion_matrix.plot(\n",
        "    cmap=plt.colormaps[\"Blues\"],\n",
        "    number_label=True,\n",
        "    normalized=True,\n",
        ")"
      ]
    },
    {
      "cell_type": "markdown",
      "source": [
        "## LLM Evals: hallucination Classifications GPT-3.5\n",
        "Run hallucination against a subset of the data."
      ],
      "metadata": {
        "id": "EJkyrYKcCsNm"
      }
    },
    {
      "cell_type": "code",
      "source": [
        "model = OpenAIModel(\n",
        "    model_name=\"gpt-3.5-turbo\",\n",
        "    temperature=0.0,\n",
        "    request_timeout=20\n",
        ")\n"
      ],
      "metadata": {
        "id": "ZhfiGxwnCsww"
      },
      "execution_count": 13,
      "outputs": []
    },
    {
      "cell_type": "code",
      "source": [
        "rails = list(RAG_RELEVANCY_PROMPT_RAILS_MAP.values())\n",
        "hallucination_classifications = llm_eval_binary(\n",
        "    dataframe=df, template=RAG_RELEVANCY_PROMPT_TEMPLATE_STR, model=model, rails=rails\n",
        ")"
      ],
      "metadata": {
        "colab": {
          "base_uri": "https://localhost:8080/"
        },
        "id": "7bfF3J7WCxDP",
        "outputId": "eb76bcf1-fb35-45fc-fbe3-1ddf2868744a"
      },
      "execution_count": 14,
      "outputs": [
        {
          "output_type": "stream",
          "name": "stderr",
          "text": [
            "100%|██████████| 100/100 [00:48<00:00,  2.05it/s]\n"
          ]
        }
      ]
    },
    {
      "cell_type": "code",
      "source": [
        "true_labels = df[\"relevant\"].map(RAG_RELEVANCY_PROMPT_RAILS_MAP).tolist()\n",
        "relevance_classifications= (\n",
        "    pd.Series(relevance_classifications).map(lambda x: \"unparseable\" if x is None else x).tolist()\n",
        ")\n",
        "\n",
        "print(classification_report(true_labels, relevance_classifications, labels=rails))\n",
        "confusion_matrix = ConfusionMatrix(\n",
        "    actual_vector=true_labels, predict_vector=relevance_classifications, classes=rails\n",
        ")\n",
        "confusion_matrix.plot(\n",
        "    cmap=plt.colormaps[\"Blues\"],\n",
        "    number_label=True,\n",
        "    normalized=True,\n",
        ")"
      ],
      "metadata": {
        "colab": {
          "base_uri": "https://localhost:8080/",
          "height": 651
        },
        "id": "PIJU4-yDCzTg",
        "outputId": "554d50f4-d25d-4847-a26a-e0c38f59d4d7"
      },
      "execution_count": 15,
      "outputs": [
        {
          "output_type": "stream",
          "name": "stdout",
          "text": [
            "              precision    recall  f1-score   support\n",
            "\n",
            "    relevant       0.69      0.93      0.79        45\n",
            "  irrelevant       0.92      0.65      0.77        55\n",
            "\n",
            "    accuracy                           0.78       100\n",
            "   macro avg       0.81      0.79      0.78       100\n",
            "weighted avg       0.82      0.78      0.78       100\n",
            "\n"
          ]
        },
        {
          "output_type": "execute_result",
          "data": {
            "text/plain": [
              "<Axes: title={'center': 'Confusion Matrix (Normalized)'}, xlabel='Predicted Classes', ylabel='Actual Classes'>"
            ]
          },
          "metadata": {},
          "execution_count": 15
        },
        {
          "output_type": "display_data",
          "data": {
            "text/plain": [
              "<Figure size 640x480 with 2 Axes>"
            ],
            "image/png": "[encoded data removed]"
          },
          "metadata": {}
        }
      ]
    }
  ],
  "metadata": {
    "language_info": {
      "name": "python"
    },
    "colab": {
      "provenance": []
    },
    "kernelspec": {
      "name": "python3",
      "display_name": "Python 3"
    }
  },
  "nbformat": 4,
  "nbformat_minor": 0
}