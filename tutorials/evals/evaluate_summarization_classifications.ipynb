{
  "cells": [
    {
      "cell_type": "markdown",
      "metadata": {
        "id": "CUgP1j4k9xrq"
      },
      "source": [
        "<center>\n",
        "    <p style=\"text-align:center\">\n",
        "        <img alt=\"phoenix logo\" src=\"https://storage.googleapis.com/arize-assets/phoenix/assets/phoenix-logo-light.svg\" width=\"200\"/>\n",
        "        <br>\n",
        "        <a href=\"https://docs.arize.com/phoenix/\">Docs</a>\n",
        "        |\n",
        "        <a href=\"https://github.com/Arize-ai/phoenix\">GitHub</a>\n",
        "        |\n",
        "        <a href=\"https://join.slack.com/t/arize-ai/shared_invite/zt-1px8dcmlf-fmThhDFD_V_48oU7ALan4Q\">Community</a>\n",
        "    </p>\n",
        "</center>\n",
        "<h1 align=\"center\">Summarization Classification Evals</h1>\n",
        "\n",
        "The purpose of this notebook is:\n",
        "\n",
        "- to evaluate the performance of an LLM-assisted approach to evaluating summarization quality,\n",
        "- to provide an experimental framework for users to iterate and improve on the default classification template.\n",
        "\n",
        "## Install Dependencies and Import Libraries"
      ]
    },
    {
      "cell_type": "code",
      "source": [
        "#####################\n",
        "## N_EVAL_SAMPLE_SIZE\n",
        "#####################\n",
        "#Eval sample size determines the run time\n",
        "#100 samples: GPT-4 ~ 80 sec / GPT-3.5 ~ 40 sec\n",
        "#1,000 samples: GPT-4 ~15-17 min / GPT-3.5 ~ 6-7min (depending on retries)\n",
        "#10,000 samples GPT-4 ~170 min / GPT-3.5 ~ 70min\n",
        "N_EVAL_SAMPLE_SIZE = 100"
      ],
      "metadata": {
        "id": "NmYckUs66DUd"
      },
      "execution_count": 30,
      "outputs": []
    },
    {
      "cell_type": "code",
      "execution_count": 31,
      "metadata": {
        "id": "iB0ha2HW9xrr"
      },
      "outputs": [],
      "source": [
        "!pip install -qq arize-phoenix ipython matplotlib openai pycm scikit-learn"
      ]
    },
    {
      "cell_type": "code",
      "execution_count": 32,
      "metadata": {
        "id": "FHTpeDPp9xrs"
      },
      "outputs": [],
      "source": [
        "import os\n",
        "from getpass import getpass\n",
        "\n",
        "import matplotlib.pyplot as plt\n",
        "import openai\n",
        "import pandas as pd\n",
        "import phoenix.experimental.evals.templates.default_templates as templates\n",
        "from phoenix.experimental.evals import (\n",
        "    OpenAIModel,\n",
        "    download_benchmark_dataset,\n",
        "    llm_eval_binary,\n",
        ")\n",
        "from pycm import ConfusionMatrix\n",
        "from sklearn.metrics import classification_report\n",
        "\n",
        "pd.set_option(\"display.max_colwidth\", None)"
      ]
    },
    {
      "cell_type": "markdown",
      "metadata": {
        "id": "7ZDV2XLq9xrs"
      },
      "source": [
        "## Download Benchmark Dataset\n",
        "\n",
        "We'll evaluate the evaluation system consisting of an LLM model and settings in addition to an evaluation prompt template against benchmark datasets of queries and retrieved documents with ground-truth relevance labels. We will be using the CNN Daily News Mail dataset. This dataset is commonly used for text summarization models as a benchmark."
      ]
    },
    {
      "cell_type": "code",
      "source": [
        "df = download_benchmark_dataset(task=\"summarization-classification\", dataset_name=\"summarization-test\")\n",
        "df.head()"
      ],
      "metadata": {
        "colab": {
          "base_uri": "https://localhost:8080/",
          "height": 1000
        },
        "id": "X3R86hfPPfQt",
        "outputId": "4daa1d84-ee39-4da4-814d-5693c44a66cf"
      },
      "execution_count": 33,
      "outputs": [
        {
          "output_type": "execute_result",
          "data": {
            "text/plain": [
              "                                                                                                                                                                                                                                                                                                                                                                                                                                                                                                                                                                                                                                                                                                                                                                                                                                                                                                                                                                                                                                                                                                                                                                                                                                                                                                                                                                                                                                                                                                                                                                                                                                                                                                                                                                                                                                                                                                                                                                                                                                                                                                                                                                                                                                                                                                                                                                                                                                                                                                                                                                                                                                                                                                                                                                                                                                                                                                                                                                                                                                                                                                                                                                                                                                                                                                                                                                                                                                                                                                                                                                                                                                                                                                                                                                                                                                                                                                                                                                                                                                                                                                                                                                                                                                                                                                                                                                                                                                                                                                                                                                                                                                                                                                                                                                                                                                                                                                                                                                                                                                                                                                                                                                                                                                                                                                                                                                                                                                                                                                                                                                                                          document  \\\n",
              "0                                                                                                                                                                                                                                                                                                                                                                                                                                                                                                                                                                                                                                                                                                                                                                                                                                                                                                                                                                                                                                                                                                                                                                                                                                                                                                                                                                                                                                                                                                                                                                                                                                                                                                                                                                                                                                                                                                                                                                                                                                                                                                                                                                                                                                                                                                                                                                                                                                                                                                                                                                                                                                                                                                                                                                                                                                                                                                                                                                                                                                                                                                                                                                                                                                                                                                                                                    It's the ultimate in slow-motion footage. The BBC is to air a two-hour, real-time documentary following a canalboat as it pootles its way along a British waterway at a leisurely 4mph. For many, the languid film will be as interesting as watching paint dry, but the Corporation hopes many viewers will find it a refreshing change from the usual frenetic pace of modern TV. There is no presenter, narrator, dialogue or music, so all viewers will hear are the sounds of the boat's engine, the lapping of the water and the local birdsong as the barge makes its way along a picturesque stretch of the Kennet and Avon Canal. 00.00: And they're off! 0-4mph in ten minutes . 34.07: Bridge over (not at all) troubled water . 41.50: Crazy boy racers scream past at 5mph . Aside from two aerial cutaway shots, when the boat negotiates a lock and crosses the Dundas Aqueduct, the full two hours is shot continuously from a single camera on the front of the boat. Rather incongruously, it's the same specialist high-definition equipment used to shoot the action-packed James Bond blockbuster Skyfall. In contrast, the most exiting moments of All Aboard! The Canal Trip involve the narrowboat being overtaken by a swan, or having to manoeuvre out of the way of a pleasure craft. Other exciting scenes feature a plank of wood, a dog-walker and cyclists on the towpath. The film was shot on a sunny day last month and will air on May 5 as part of the BBC Four Goes Slow series of deliberately unrushed programmes. Producer Luke Korzun Martin said: 'We want the voyage to feel like a sensory experience. We want it to be mesmeric, hypnotic and beautiful. 'The idea was to create a moving painting. It is like a Constable landscape which changes in front of your eyes. If people are going to sit and watch a two-hour single shot, it needs to be the most beautiful two-hour shot it can be.' Rob Dean, of the Kennet and Avon Canal Trust, said: 'I think this is the right approach. The whole point about the waterways is they slow people down.' 55.40: Mayday! Mayday! Wild swan on the attack . 1hr, 45m: Gridlock... Canal swamped by two boats . 1hr 56m: It's all water over the bridge (at last)   \n",
              "1                                                                                                                                                                                                                                                                                                                                                                                                                                                                                                                                                                                                                                                                                                                                                                                                                                                                                                                                                                                                                                                                                                                                                                                                                                                                                                                                                                                                                                                                                                                                                                                                                                                                                                                                                                                                                                          Oil from a Russian  trawler which was towed out to  sea to sink after catching fire in port is washing up on the beaches of Gran Canaria and  threatening  tourist spots across the Canary Islands. The Russian vessel Oleg Naydenov was carrying 1,400 metric tons of viscous fuel oil, when it caught fire in Las Palmas port on April 11. It was towed out to sea as a precaution and sank some 15 miles south of the island three days later. Clean up operation: Volunteers clear oil from the sunken Russian Trawler Naydenov on Los Seco beach, Gran Canaria . Spill: The  Oleg Naydenov was carrying 1,400 tonnes of fuel oil when it caught fire in Las Palmas port before being  towed it out to sea where it sank . Threat: An aerial picture shows part of the three mile long oil slick which is also threatening the Canary Islands of Tenerife and La Gomera . The Spanish government activated an environmental emergency alert and said one beach has been cleared of oil and clean-up operations were ongoing on three other beaches near the tourist town of Maspalomas. The government activated a level 2 alert after analyzing ocean current data from Spain's Oceanographic Institute, saying the slick that reached coastlines earlier in the week could affect vulnerable land. Level 2 is the second highest alert level. Environmental group Greenpeace  criticised the decision to tow the  vessel out to sea and has called on the Spanish government to dedicate more resources to the clean-up operation. Dedicated: A volunteer shows his oil-stained hands during the clean up operation on 'Los Seco' beach . Greenpeace has criticised the Spanish authorities for towing the trawler out to open sea after it caught fire in Los Palmas port . Volunteers taking part in the oil spill clean up . Oil spill clean up at 'Los Seco' beach, Gran Canaria . Estimates: According to Spanish officials the boat is still leaking between five and 10 litres of fuel an hour . Measures: The government activated a level two alert after analyzing ocean current data from Spain's Oceanographic Institute . A three mile slick of oil floating on the surface was photographed from the air last week and it is feared ocean currents could carry it onto the islands of Tenerife and La Gomera. Authorities estimated last week that the ship was currently leaking between five and 10 litres of fuel into the sea per hour. Development Ministry spokesman Julio Gomez said on Sunday that slicks were being monitored; a day after the government activated an alert, saying oil could damage the islands' vulnerable coasts. Greenpeace is calling on the Spanish government to dedicate more resources to the clean-up operation . Greenpeace released this picture of a dolphin with oil on its fin and have demanded Spanish authorities do more to control the spread of the oil which could hit Tenerife and La Gomera . An image taken by a robotic submarine shows the wreck of the Oleg Naydenov lying 2,700 meters down around 15 miles south of Gran Canaria . An unmanned remote-controlled submarine sent down 2,400 meters (7,900 feet) to survey the wreck . Greenpeace posted photographs of a dolphin partially coated in oil, while Spanish state television TVE broadcast images of workers cleaning a rocky beach that was stained black with oil. Red Cross spokesman Jose Antonio Rodriguez told The Associated Press that Veneguera beach on Gran Canaria island, a top European vacation spot, had been cleaned. An unmanned remote-controlled submarine sent down 2,400 meters (7,900 feet) to survey the wreck of the Russian trawler was inspecting to see if three holes in its hull could be blocked.   \n",
              "2  If all your hashtags, retweets and favourites seem overwhelming, Twitter has a solution. The site has today rolled out a new feature dubbed 'Highlights', aimed at helping users sift through the large number of tweets on their feed each day. The service provides a twice-daily summary 'of the best tweets for you, delivered via rich push notification,' Twitter's Gordon Luk said in a blog post. Twitter has rolled out a new feature aimed at helping users sift through the large number of tweets on their feed each day. Highlights is limited to English-language readers with the Twitter app installed on an Android device. To enable the feature on your account, launch the official Twitter app and bring up the three-dot icon in the top-right corner of your screen. Select Settings from the drop-down, and then press on your account name. Tap on Mobile Notifications. Scroll down until you find the new option titled Highlights and press on it. The check box should display a check mark, marking the feature as active. Twitter users who opt into the service on their Android device will see a new Highlights section in a push notification. A push notification leads to an area where users can browse popular tweets from people they know, as well as trending stories. 'We want to help you get the most out of Twitter, no matter how much time you spend with it,' said Luk. 'While your home timeline is a great place to browse through and engage with tweets, we know it can be challenging to find the time to get through everything.' To enable the feature on your account, launch the official Twitter app on Android and bring up the three-dot icon in the top-right corner of your screen . Select Settings from the drop-down, and then press on your account name. Tap on Mobile Notifications. Scroll down until you find the new option titled Highlights and press on it. The move is the latest by Twitter to boost engagement for its members amid growth which is slower than some rival social networks. 'We look at things like the accounts and conversations that are popular among people you follow, tweets from people you're closely tied to, topics and events that are trending in your area or within your network, and people that are popular or trending among people you follow,' Luk said. Highlights is being rolled out first in English for people using Android-powered devices, which can be activated in user settings. 'We're refining the experience on Android first and will consider bringing Highlights to other platforms in the future,' Luk added. Earlier this week, Twitter announced that abusive accounts will now be temporarily locked until a phone number or similar is added. The move is the latest by Twitter to boost engagement for its users amid growth which is slower than expected . An algorithm will also automatically remove abuse before you even see it. Twitter already asks users who violate its abuse guidelines to delete content, and can suspend accounts permanently if they don't. But under the new changes, Twitter has added a middle-ground. Its new enforcement option lets the support team temporarily lock abusive accounts for a set period of time, up to 12 hours. In its last quarterly update, Twitter said the number of active monthly users of the San Francisco-based one-to-many messaging service monthly grew to 288 million. This is just four million more than in the previous quarter. Twitter reports its results for the first quarter next week. Twitter's chief executive Dick Costolo recently said his site 'sucks at dealing with abuse and trolls'. In a memo, Mr Costolo said  he is embarrassed by the way the company handles abuse and that it must take stronger action. In December, a blog post titled 'Building a safer Twitter' revealed  Twitter is working on ways to make it easier to block and report abuse. For months Twitter has been rolling out features designed to rid the site of the scourge of trolls . The site has since improved the reporting process to make it more mobile-friendly, auto-populated fields, and it now requires less initial information. It has also improved the ways in which abuse can be reported to law enforcement. Last month, the site took aim at the rising levels of revenge porn and stolen nude photos posted to the social network. Its rules now say that users must not 'post intimate photos or videos that were taken or distributed without the subject's consent'. Twitter said an affected user can report a post if they believe it contains photos or videos posted without their consent. From today, Twitter users can now report indirect threats, offending accounts will be temporarily locked until a phone number or similar is added, and an algorithm will automatically remove abuse before you even see it. Twitter already asks users who violate its abuse guidelines to delete content, and can suspend accounts permanently if they don't. But under the new changes, Twitter's new enforcement option lets the support team temporarily lock abusive accounts for a set period of time, up to 12 hours. Elsewhere, Twitter has begun testing a product feature to help identify suspected abusive tweets and limit their reach by automatically removing them from a person's notifications. It has also updated its violent threats policy to include indirect tweets, or the 'threats of violence against others or promoting violence against others.'   \n",
              "3                                                                                                                                                                                                                                                                                                                                                                                                                                                                                                                                                                                                                                                                                                                                                                                                                                                                                                                                                                                                                                                                                                                                                                                                                                                                                                                                                                                                                                                                                                                                                                                                                                                                                                                                                                                                                                                                                                                                                                                                                                                                                                                                                                                                                                                                                                                                                                                                                                                                                                                                                                                                                                                                                                                                                                                                                                                                                                                                                                                                                                                                                                                                                                                  An anonymous Good Samaritan has donated $360,000 to pay for a man's mortgage after he lost his wife and house in the mudslide that swept Washington last year. Tim Ward and his wife of 38 years, Brandy, were at home in Oso, Washington, on March 22, 2014, when tons of debris, soil and rock came crashing down from upland. Brandy was one of the 43 people crushed by the force of the natural disaster. Tim, who broke his pelvis, was buried under 25 feet of mud, but managed to call for help through a gap in the surface. Just a week later, as Tim started trying to rebuild his life, he was informed he did not have 'landslide insurance' - and therefore did not qualify for payment to settle his mortgage. SCROLL DOWN FOR VIDEO . Tragic: Brandy Ward (right) was killed in the mudslide that swept Oso, Washington, in March last year. Her husband Tim (left) survived and has spent the past year trying to pay his mortgage, which a donor has now paid . Horrific: The mudslide on March 22, 2014, killed 43 people including Brandy Ward . For a year, Tim has been grappling with his financial predicament, while renting a small property nearby. He lost everything in the mudflow. Only one of their five dogs survived the mudslide, but lost a leg. The disaster killed their turkeys, chickens and four canines. The mortgage, however, consumed him. But last week, he received a call from Chase Bank, who said an anonymous donor had paid the lot. Before: This was their idyllic home in Oso where they reared turkeys and chickens before the mudslide . Love: The couple were married for 38 years. Tim said he heard Brandy call for him before she was killed . Overwhelmed: Ward said he couldn't believe it when Chase Bank told him the mortgage was all paid for . Speaking to NBC News, Tim said: 'There are still good Samaritans out there. This is life-changing.' He recalled the horrific day last year: 'She called my name and yelled, \"Tim!\" And from the moment that voice left her body, she had left the man she had been with for 38 years to be with the son of God she'll be with forever.' The donor told bank clerks they had read about Ward in a newspaper and felt compelled to reach out. 'I honestly have never seen this kind of an act of personal generosity where it's anonymous,' Phyllis Campbell, vice president at JP Morgan Chase, told NBC News.   \n",
              "4                                                                                                                                                                                                                                                                                                                                                                                                                                                                                                                                                                                                                             Switzerland is the world's happiest nation thanks to healthy GDP figures, strong social bonds and an increasing life expectancy, a new study of global wellbeing has revealed. The list is dominated by European nations, particularly those in Scandinavia, and measures a country's population by factors contributing to its citizens' contentment, rather than wealth. Britons are happier now than they were two years ago, the study found, but still ranks in at a relatively lowly 21st place. And despite often mocking its northern neighbour as an inferior nation, the United States is a full 10 places below Canada, ranking at 10th and fifth respectively. Unsurprisingly the world's least happy countries are places ravaged by war and extreme poverty - with Syria, Burundi and Togo taking their place at the bottom of the 158-nation strong list. Celebration: Switzerland is the world's happiest nation thanks to healthy GDP figures, strong social bonds and an increasing life expectancy, a new study of global wellbeing has revealed . Spectacular: Icelandic citizens are now so happy that the country jumped from number nine in 2013 to number two this year, thanks in part to their well beautiful scenery (pictured) and cultural history . The 2015 World Happiness Report is the third of its kind and is edited by a team of renowned academics and analysts - among them American economist Jeffrey Sachs and  head of the London School of Economics' 'wellbeing' programme, Richard Laynard. First published in 2012, the study uses a range of factors to determine how happy a nation is, ranging from purely domestic perspectives - such as GDP and life expectancy figures - to how its citizens view themselves and their country within the world at large. 1. Switzerland              6. Finland . 2. Iceland                     7. Netherlands . 3. Denmark                  8. Sweden . 4. Norway                    9. New Zealand . 5. Canada                   10. Australia . This year's study is the first to additionally break the statistics down by age and gender, however, with it possible for readers to find, for example, that a country ranking relatively highly overall, has a hidden population of deeply unhappy young women concerned about equal rights and pay. The top 10 on the list is dominated by nations from Scandinavia - which are unsurprisingly also among the wealthiest on the planet too. Equally unsurprising are the countries lower at the bottom of the list - almost all of which are in the midst by bloody civil war, political unrest or crushing poverty. One surprising anomaly, however, is Palestine, which came just below the midway point in the study at number 108, despite being ravaged by conflict. Happiness: The top 10 on the list is dominated by nations from Scandinavia. Citizens of these countries, such as Swedish nationals (pictured) are unsurprisingly also among the wealthiest on the planet too . Fierce rivalry: Despite often mocking their northern neighbour as an inferior nation, U.S. nationals (left) are a full 10 places below Canadians (right), ranking at 10th and fifth respectively . Low ranking: Unsurprisingly the world's least happy countries are places ravaged by war and extreme poverty - with Syria (pictured) Burundi and Togo taking their place at the bottom of the 158-nation strong list . The idea of assessing nations by the citizens level of happiness, rather than simply by wealth, is something promoted by the EU, who consider it a more accurate representation of the population as a whole. While many of the study's headline findings were relatively predictable, the wellbeing test becomes far more interesting when experts being analysing the biggest rises and falls. 149. Chad                    154. Rwanda . 150. Guinea                 155. Benin . 151. Ivory Coast           156. Syria . 152. Burkina Faso        157. Burundi . 153. Afghanistan          158. Togo . Greece, which is crippled by national debt and faces an increasingly uncertain future, is by far the fastest declining nation on the list. Other European nations that suffered the worst during the global recession, such as Spain and Italy, have also plummeted in the happiness stakes. Recent economic difficulties do not guarantee a country tumbling down the rankings, however. Both Ireland and Iceland suffered financial woes towards the end of the last decade, but the wellbeing of their populations appear to have been more affected by improvements in health and social issues. In fact Icelandic citizens are now so happy that the country has jumped from number nine in 2013 to number two, pushing the world's previously most happy nation, Denmark, down into third place thanks their country's perceived level of generosity, as well beautiful scenery and cultural history.   \n",
              "\n",
              "                                                                                                                                                                                                                                                                                                                                                                                                                                                                                                                                                                                         correct_summary  \\\n",
              "0                                                                                                                                                                                                                           The BBC will air a two-hour documentary of a canalboat as it leisurely moves along a British waterway at 4mph. The documentary has no presenter, dialogue, or music, and the camera is continuously shot from a single camera on the front of the boat. The producers of the film wanted to create a hypnotic, mesmeric, and beautiful experience akin to a moving painting.   \n",
              "1                         Oil from a Russian trawler that sank after catching fire in port is washing up on the beaches of Gran Canaria and threatening tourist spots across the Canary Islands, with an environmental emergency alert being activated by the Spanish government. The Oleg Naydenov vessel was carrying 1,400 metric tonnes of viscous fuel when it sank 15 miles south of the island three days after catching fire. Greenpeace has criticised the decision to tow the vessel out to sea and has called on the Spanish government to dedicate more resources to the clean-up operation.   \n",
              "2                                                                    Twitter has launched a new feature called 'Highlights' aimed at helping users manage the abundance of tweets on their feed each day by providing them with a twice-daily summary of the best tweets, delivered through mobile notifications. This feature is only available to English-language readers, with the Twitter app installed on an Android device. The move is the latest in a series of steps taken by Twitter to boost engagement for its users, as Twitter's growth is slower than some of its rival social networks.   \n",
              "3                                                                                                                                                                                                                                  An anonymous donor has given $360,000 to pay the mortgage of Tim Ward whose wife, Brandy, was killed in a mudslide last year in Washington. Tim had been informed that he did not qualify for payment on the mortgage as he did not have landslide insurance. The donation has lifted a significant financial burden for Tim who had lost everything in the disaster.   \n",
              "4  Switzerland has been named the happiest country in the world by a new study of global wellbeing, followed by Iceland, Denmark, Norway and Canada. The 2015 World Happiness Report, edited by American economist Jeffrey Sachs, aims to determine how happy a nation is, by a range of factors, including levels of equal rights and pay. The list is dominated by European nations, particularly those in Scandinavia, and measures a country’s population by factors contributing to its citizens’ happiness, such as strong social bonds and increasing life expectancy, rather than just wealth.\\n   \n",
              "\n",
              "                                                                                                                                                                                                                                                                                                                                                                                                                                                                                                                                                                                                                                                                                                                                                                                                                                                                                               wrong_summary  \\\n",
              "0                                                                                                                                                                                                    The BBC is set to broadcast a high-speed, action-packed documentary featuring a canalboat racing along a British waterway at a thrilling 4mph. The film, filled with intense dialogue and a riveting musical score, will keep viewers on the edge of their seats as the boat navigates dangerous waters and encounters wild swans and boy racers. The documentary, shot with the same high-definition equipment used in the James Bond blockbuster Skyfall, includes dramatic aerial shots and a suspenseful scene where the boat is swamped by two other vessels. The film, part of the BBC Four Goes Fast series, is expected to be a major hit with viewers seeking adrenaline-fueled entertainment.   \n",
              "1                                                                                                    A Russian trawler, the Oleg Naydenov, intentionally dumped 1,400 metric tons of fuel oil into the sea off the coast of Gran Canaria, causing a massive oil spill that is now threatening the Canary Islands. The vessel was set on fire by its crew in Las Palmas port on April 11, and then deliberately sunk 15 miles south of the island. The Spanish government has been criticized for their lack of response to the disaster, with Greenpeace accusing them of not dedicating enough resources to the clean-up operation. The oil spill has already reached the tourist town of Maspalomas, and it is feared that it could spread to the islands of Tenerife and La Gomera. The Spanish government has activated a level 2 alert, the highest possible, indicating the severity of the situation.   \n",
              "2                                                                                                                                                                                            Twitter has launched a new feature called 'Highlights' that forces users to sift through a large number of tweets on their feed each day. The feature, which is only available to non-English speakers using the Twitter app on an iOS device, provides a twice-daily summary of irrelevant tweets. Twitter's Gordon Luk stated that the feature is designed to make it more challenging for users to find the time to get through everything on their feed. Twitter is also planning to lock all accounts temporarily until a phone number is added, and will automatically delete all content before users can see it. The company has also decided to promote violence and abusive behavior on its platform.   \n",
              "3                                                                                                                                                                                                                                                                                                                                                                                                Tim Ward, a man from Oso, Washington, was forced to pay his mortgage after a mudslide destroyed his home and killed his wife in 2014. Despite being buried under 25 feet of mud and breaking his pelvis, Ward was denied insurance coverage as he did not have 'landslide insurance'. He has been struggling financially ever since, even losing all five of his dogs in the disaster. Recently, an anonymous individual donated a small amount to help Ward, but he remains in a dire financial situation.   \n",
              "4  The United States has been declared the world's happiest nation, according to a recent study. The study, which focused on wealth as the primary factor for happiness, found that European nations, particularly those in Scandinavia, were the least content. The UK, despite being happier than two years ago, ranked at a dismal 21st place. Canada, often mocked by the US, was found to be 10 places below the US, ranking at 15th. The world's least happy countries were surprisingly those with high GDP figures and strong social bonds, such as Switzerland, Iceland, and Denmark. The study also revealed that the happiest citizens were young women concerned about equal rights and pay. The EU has criticized the study for its focus on wealth over happiness. The study also found that Greece, despite its national debt and uncertain future, is the fastest rising nation on the list.   \n",
              "\n",
              "                                                                                                                                                                                                                                                                                                                                                                                                                                                                                                                                                                                                                                                                                                                                                                                                                                                                                                     summary  \\\n",
              "0                                                                                                                                                                                                                                                                                                                                                                                                                                                                                                                               The BBC will air a two-hour documentary of a canalboat as it leisurely moves along a British waterway at 4mph. The documentary has no presenter, dialogue, or music, and the camera is continuously shot from a single camera on the front of the boat. The producers of the film wanted to create a hypnotic, mesmeric, and beautiful experience akin to a moving painting.   \n",
              "1                                                                                                    A Russian trawler, the Oleg Naydenov, intentionally dumped 1,400 metric tons of fuel oil into the sea off the coast of Gran Canaria, causing a massive oil spill that is now threatening the Canary Islands. The vessel was set on fire by its crew in Las Palmas port on April 11, and then deliberately sunk 15 miles south of the island. The Spanish government has been criticized for their lack of response to the disaster, with Greenpeace accusing them of not dedicating enough resources to the clean-up operation. The oil spill has already reached the tourist town of Maspalomas, and it is feared that it could spread to the islands of Tenerife and La Gomera. The Spanish government has activated a level 2 alert, the highest possible, indicating the severity of the situation.   \n",
              "2                                                                                                                                                                                                                                                                                                                                                                        Twitter has launched a new feature called 'Highlights' aimed at helping users manage the abundance of tweets on their feed each day by providing them with a twice-daily summary of the best tweets, delivered through mobile notifications. This feature is only available to English-language readers, with the Twitter app installed on an Android device. The move is the latest in a series of steps taken by Twitter to boost engagement for its users, as Twitter's growth is slower than some of its rival social networks.   \n",
              "3                                                                                                                                                                                                                                                                                                                                                                                                Tim Ward, a man from Oso, Washington, was forced to pay his mortgage after a mudslide destroyed his home and killed his wife in 2014. Despite being buried under 25 feet of mud and breaking his pelvis, Ward was denied insurance coverage as he did not have 'landslide insurance'. He has been struggling financially ever since, even losing all five of his dogs in the disaster. Recently, an anonymous individual donated a small amount to help Ward, but he remains in a dire financial situation.   \n",
              "4  The United States has been declared the world's happiest nation, according to a recent study. The study, which focused on wealth as the primary factor for happiness, found that European nations, particularly those in Scandinavia, were the least content. The UK, despite being happier than two years ago, ranked at a dismal 21st place. Canada, often mocked by the US, was found to be 10 places below the US, ranking at 15th. The world's least happy countries were surprisingly those with high GDP figures and strong social bonds, such as Switzerland, Iceland, and Denmark. The study also revealed that the happiest citizens were young women concerned about equal rights and pay. The EU has criticized the study for its focus on wealth over happiness. The study also found that Greece, despite its national debt and uncertain future, is the fastest rising nation on the list.   \n",
              "\n",
              "   user_feedback  \n",
              "0           True  \n",
              "1          False  \n",
              "2           True  \n",
              "3          False  \n",
              "4          False  "
            ],
            "text/html": [
              "\n",
              "  <div id=\"df-92cf0fed-a10c-4a0f-ae25-5ff79cbfea20\" class=\"colab-df-container\">\n",
              "    <div>\n",
              "<style scoped>\n",
              "    .dataframe tbody tr th:only-of-type {\n",
              "        vertical-align: middle;\n",
              "    }\n",
              "\n",
              "    .dataframe tbody tr th {\n",
              "        vertical-align: top;\n",
              "    }\n",
              "\n",
              "    .dataframe thead th {\n",
              "        text-align: right;\n",
              "    }\n",
              "</style>\n",
              "<table border=\"1\" class=\"dataframe\">\n",
              "  <thead>\n",
              "    <tr style=\"text-align: right;\">\n",
              "      <th></th>\n",
              "      <th>document</th>\n",
              "      <th>correct_summary</th>\n",
              "      <th>wrong_summary</th>\n",
              "      <th>summary</th>\n",
              "      <th>user_feedback</th>\n",
              "    </tr>\n",
              "  </thead>\n",
              "  <tbody>\n",
              "    <tr>\n",
              "      <th>0</th>\n",
              "      <td>It's the ultimate in slow-motion footage. The BBC is to air a two-hour, real-time documentary following a canalboat as it pootles its way along a British waterway at a leisurely 4mph. For many, the languid film will be as interesting as watching paint dry, but the Corporation hopes many viewers will find it a refreshing change from the usual frenetic pace of modern TV. There is no presenter, narrator, dialogue or music, so all viewers will hear are the sounds of the boat's engine, the lapping of the water and the local birdsong as the barge makes its way along a picturesque stretch of the Kennet and Avon Canal. 00.00: And they're off! 0-4mph in ten minutes . 34.07: Bridge over (not at all) troubled water . 41.50: Crazy boy racers scream past at 5mph . Aside from two aerial cutaway shots, when the boat negotiates a lock and crosses the Dundas Aqueduct, the full two hours is shot continuously from a single camera on the front of the boat. Rather incongruously, it's the same specialist high-definition equipment used to shoot the action-packed James Bond blockbuster Skyfall. In contrast, the most exiting moments of All Aboard! The Canal Trip involve the narrowboat being overtaken by a swan, or having to manoeuvre out of the way of a pleasure craft. Other exciting scenes feature a plank of wood, a dog-walker and cyclists on the towpath. The film was shot on a sunny day last month and will air on May 5 as part of the BBC Four Goes Slow series of deliberately unrushed programmes. Producer Luke Korzun Martin said: 'We want the voyage to feel like a sensory experience. We want it to be mesmeric, hypnotic and beautiful. 'The idea was to create a moving painting. It is like a Constable landscape which changes in front of your eyes. If people are going to sit and watch a two-hour single shot, it needs to be the most beautiful two-hour shot it can be.' Rob Dean, of the Kennet and Avon Canal Trust, said: 'I think this is the right approach. The whole point about the waterways is they slow people down.' 55.40: Mayday! Mayday! Wild swan on the attack . 1hr, 45m: Gridlock... Canal swamped by two boats . 1hr 56m: It's all water over the bridge (at last)</td>\n",
              "      <td>The BBC will air a two-hour documentary of a canalboat as it leisurely moves along a British waterway at 4mph. The documentary has no presenter, dialogue, or music, and the camera is continuously shot from a single camera on the front of the boat. The producers of the film wanted to create a hypnotic, mesmeric, and beautiful experience akin to a moving painting.</td>\n",
              "      <td>The BBC is set to broadcast a high-speed, action-packed documentary featuring a canalboat racing along a British waterway at a thrilling 4mph. The film, filled with intense dialogue and a riveting musical score, will keep viewers on the edge of their seats as the boat navigates dangerous waters and encounters wild swans and boy racers. The documentary, shot with the same high-definition equipment used in the James Bond blockbuster Skyfall, includes dramatic aerial shots and a suspenseful scene where the boat is swamped by two other vessels. The film, part of the BBC Four Goes Fast series, is expected to be a major hit with viewers seeking adrenaline-fueled entertainment.</td>\n",
              "      <td>The BBC will air a two-hour documentary of a canalboat as it leisurely moves along a British waterway at 4mph. The documentary has no presenter, dialogue, or music, and the camera is continuously shot from a single camera on the front of the boat. The producers of the film wanted to create a hypnotic, mesmeric, and beautiful experience akin to a moving painting.</td>\n",
              "      <td>True</td>\n",
              "    </tr>\n",
              "    <tr>\n",
              "      <th>1</th>\n",
              "      <td>Oil from a Russian  trawler which was towed out to  sea to sink after catching fire in port is washing up on the beaches of Gran Canaria and  threatening  tourist spots across the Canary Islands. The Russian vessel Oleg Naydenov was carrying 1,400 metric tons of viscous fuel oil, when it caught fire in Las Palmas port on April 11. It was towed out to sea as a precaution and sank some 15 miles south of the island three days later. Clean up operation: Volunteers clear oil from the sunken Russian Trawler Naydenov on Los Seco beach, Gran Canaria . Spill: The  Oleg Naydenov was carrying 1,400 tonnes of fuel oil when it caught fire in Las Palmas port before being  towed it out to sea where it sank . Threat: An aerial picture shows part of the three mile long oil slick which is also threatening the Canary Islands of Tenerife and La Gomera . The Spanish government activated an environmental emergency alert and said one beach has been cleared of oil and clean-up operations were ongoing on three other beaches near the tourist town of Maspalomas. The government activated a level 2 alert after analyzing ocean current data from Spain's Oceanographic Institute, saying the slick that reached coastlines earlier in the week could affect vulnerable land. Level 2 is the second highest alert level. Environmental group Greenpeace  criticised the decision to tow the  vessel out to sea and has called on the Spanish government to dedicate more resources to the clean-up operation. Dedicated: A volunteer shows his oil-stained hands during the clean up operation on 'Los Seco' beach . Greenpeace has criticised the Spanish authorities for towing the trawler out to open sea after it caught fire in Los Palmas port . Volunteers taking part in the oil spill clean up . Oil spill clean up at 'Los Seco' beach, Gran Canaria . Estimates: According to Spanish officials the boat is still leaking between five and 10 litres of fuel an hour . Measures: The government activated a level two alert after analyzing ocean current data from Spain's Oceanographic Institute . A three mile slick of oil floating on the surface was photographed from the air last week and it is feared ocean currents could carry it onto the islands of Tenerife and La Gomera. Authorities estimated last week that the ship was currently leaking between five and 10 litres of fuel into the sea per hour. Development Ministry spokesman Julio Gomez said on Sunday that slicks were being monitored; a day after the government activated an alert, saying oil could damage the islands' vulnerable coasts. Greenpeace is calling on the Spanish government to dedicate more resources to the clean-up operation . Greenpeace released this picture of a dolphin with oil on its fin and have demanded Spanish authorities do more to control the spread of the oil which could hit Tenerife and La Gomera . An image taken by a robotic submarine shows the wreck of the Oleg Naydenov lying 2,700 meters down around 15 miles south of Gran Canaria . An unmanned remote-controlled submarine sent down 2,400 meters (7,900 feet) to survey the wreck . Greenpeace posted photographs of a dolphin partially coated in oil, while Spanish state television TVE broadcast images of workers cleaning a rocky beach that was stained black with oil. Red Cross spokesman Jose Antonio Rodriguez told The Associated Press that Veneguera beach on Gran Canaria island, a top European vacation spot, had been cleaned. An unmanned remote-controlled submarine sent down 2,400 meters (7,900 feet) to survey the wreck of the Russian trawler was inspecting to see if three holes in its hull could be blocked.</td>\n",
              "      <td>Oil from a Russian trawler that sank after catching fire in port is washing up on the beaches of Gran Canaria and threatening tourist spots across the Canary Islands, with an environmental emergency alert being activated by the Spanish government. The Oleg Naydenov vessel was carrying 1,400 metric tonnes of viscous fuel when it sank 15 miles south of the island three days after catching fire. Greenpeace has criticised the decision to tow the vessel out to sea and has called on the Spanish government to dedicate more resources to the clean-up operation.</td>\n",
              "      <td>A Russian trawler, the Oleg Naydenov, intentionally dumped 1,400 metric tons of fuel oil into the sea off the coast of Gran Canaria, causing a massive oil spill that is now threatening the Canary Islands. The vessel was set on fire by its crew in Las Palmas port on April 11, and then deliberately sunk 15 miles south of the island. The Spanish government has been criticized for their lack of response to the disaster, with Greenpeace accusing them of not dedicating enough resources to the clean-up operation. The oil spill has already reached the tourist town of Maspalomas, and it is feared that it could spread to the islands of Tenerife and La Gomera. The Spanish government has activated a level 2 alert, the highest possible, indicating the severity of the situation.</td>\n",
              "      <td>A Russian trawler, the Oleg Naydenov, intentionally dumped 1,400 metric tons of fuel oil into the sea off the coast of Gran Canaria, causing a massive oil spill that is now threatening the Canary Islands. The vessel was set on fire by its crew in Las Palmas port on April 11, and then deliberately sunk 15 miles south of the island. The Spanish government has been criticized for their lack of response to the disaster, with Greenpeace accusing them of not dedicating enough resources to the clean-up operation. The oil spill has already reached the tourist town of Maspalomas, and it is feared that it could spread to the islands of Tenerife and La Gomera. The Spanish government has activated a level 2 alert, the highest possible, indicating the severity of the situation.</td>\n",
              "      <td>False</td>\n",
              "    </tr>\n",
              "    <tr>\n",
              "      <th>2</th>\n",
              "      <td>If all your hashtags, retweets and favourites seem overwhelming, Twitter has a solution. The site has today rolled out a new feature dubbed 'Highlights', aimed at helping users sift through the large number of tweets on their feed each day. The service provides a twice-daily summary 'of the best tweets for you, delivered via rich push notification,' Twitter's Gordon Luk said in a blog post. Twitter has rolled out a new feature aimed at helping users sift through the large number of tweets on their feed each day. Highlights is limited to English-language readers with the Twitter app installed on an Android device. To enable the feature on your account, launch the official Twitter app and bring up the three-dot icon in the top-right corner of your screen. Select Settings from the drop-down, and then press on your account name. Tap on Mobile Notifications. Scroll down until you find the new option titled Highlights and press on it. The check box should display a check mark, marking the feature as active. Twitter users who opt into the service on their Android device will see a new Highlights section in a push notification. A push notification leads to an area where users can browse popular tweets from people they know, as well as trending stories. 'We want to help you get the most out of Twitter, no matter how much time you spend with it,' said Luk. 'While your home timeline is a great place to browse through and engage with tweets, we know it can be challenging to find the time to get through everything.' To enable the feature on your account, launch the official Twitter app on Android and bring up the three-dot icon in the top-right corner of your screen . Select Settings from the drop-down, and then press on your account name. Tap on Mobile Notifications. Scroll down until you find the new option titled Highlights and press on it. The move is the latest by Twitter to boost engagement for its members amid growth which is slower than some rival social networks. 'We look at things like the accounts and conversations that are popular among people you follow, tweets from people you're closely tied to, topics and events that are trending in your area or within your network, and people that are popular or trending among people you follow,' Luk said. Highlights is being rolled out first in English for people using Android-powered devices, which can be activated in user settings. 'We're refining the experience on Android first and will consider bringing Highlights to other platforms in the future,' Luk added. Earlier this week, Twitter announced that abusive accounts will now be temporarily locked until a phone number or similar is added. The move is the latest by Twitter to boost engagement for its users amid growth which is slower than expected . An algorithm will also automatically remove abuse before you even see it. Twitter already asks users who violate its abuse guidelines to delete content, and can suspend accounts permanently if they don't. But under the new changes, Twitter has added a middle-ground. Its new enforcement option lets the support team temporarily lock abusive accounts for a set period of time, up to 12 hours. In its last quarterly update, Twitter said the number of active monthly users of the San Francisco-based one-to-many messaging service monthly grew to 288 million. This is just four million more than in the previous quarter. Twitter reports its results for the first quarter next week. Twitter's chief executive Dick Costolo recently said his site 'sucks at dealing with abuse and trolls'. In a memo, Mr Costolo said  he is embarrassed by the way the company handles abuse and that it must take stronger action. In December, a blog post titled 'Building a safer Twitter' revealed  Twitter is working on ways to make it easier to block and report abuse. For months Twitter has been rolling out features designed to rid the site of the scourge of trolls . The site has since improved the reporting process to make it more mobile-friendly, auto-populated fields, and it now requires less initial information. It has also improved the ways in which abuse can be reported to law enforcement. Last month, the site took aim at the rising levels of revenge porn and stolen nude photos posted to the social network. Its rules now say that users must not 'post intimate photos or videos that were taken or distributed without the subject's consent'. Twitter said an affected user can report a post if they believe it contains photos or videos posted without their consent. From today, Twitter users can now report indirect threats, offending accounts will be temporarily locked until a phone number or similar is added, and an algorithm will automatically remove abuse before you even see it. Twitter already asks users who violate its abuse guidelines to delete content, and can suspend accounts permanently if they don't. But under the new changes, Twitter's new enforcement option lets the support team temporarily lock abusive accounts for a set period of time, up to 12 hours. Elsewhere, Twitter has begun testing a product feature to help identify suspected abusive tweets and limit their reach by automatically removing them from a person's notifications. It has also updated its violent threats policy to include indirect tweets, or the 'threats of violence against others or promoting violence against others.'</td>\n",
              "      <td>Twitter has launched a new feature called 'Highlights' aimed at helping users manage the abundance of tweets on their feed each day by providing them with a twice-daily summary of the best tweets, delivered through mobile notifications. This feature is only available to English-language readers, with the Twitter app installed on an Android device. The move is the latest in a series of steps taken by Twitter to boost engagement for its users, as Twitter's growth is slower than some of its rival social networks.</td>\n",
              "      <td>Twitter has launched a new feature called 'Highlights' that forces users to sift through a large number of tweets on their feed each day. The feature, which is only available to non-English speakers using the Twitter app on an iOS device, provides a twice-daily summary of irrelevant tweets. Twitter's Gordon Luk stated that the feature is designed to make it more challenging for users to find the time to get through everything on their feed. Twitter is also planning to lock all accounts temporarily until a phone number is added, and will automatically delete all content before users can see it. The company has also decided to promote violence and abusive behavior on its platform.</td>\n",
              "      <td>Twitter has launched a new feature called 'Highlights' aimed at helping users manage the abundance of tweets on their feed each day by providing them with a twice-daily summary of the best tweets, delivered through mobile notifications. This feature is only available to English-language readers, with the Twitter app installed on an Android device. The move is the latest in a series of steps taken by Twitter to boost engagement for its users, as Twitter's growth is slower than some of its rival social networks.</td>\n",
              "      <td>True</td>\n",
              "    </tr>\n",
              "    <tr>\n",
              "      <th>3</th>\n",
              "      <td>An anonymous Good Samaritan has donated $360,000 to pay for a man's mortgage after he lost his wife and house in the mudslide that swept Washington last year. Tim Ward and his wife of 38 years, Brandy, were at home in Oso, Washington, on March 22, 2014, when tons of debris, soil and rock came crashing down from upland. Brandy was one of the 43 people crushed by the force of the natural disaster. Tim, who broke his pelvis, was buried under 25 feet of mud, but managed to call for help through a gap in the surface. Just a week later, as Tim started trying to rebuild his life, he was informed he did not have 'landslide insurance' - and therefore did not qualify for payment to settle his mortgage. SCROLL DOWN FOR VIDEO . Tragic: Brandy Ward (right) was killed in the mudslide that swept Oso, Washington, in March last year. Her husband Tim (left) survived and has spent the past year trying to pay his mortgage, which a donor has now paid . Horrific: The mudslide on March 22, 2014, killed 43 people including Brandy Ward . For a year, Tim has been grappling with his financial predicament, while renting a small property nearby. He lost everything in the mudflow. Only one of their five dogs survived the mudslide, but lost a leg. The disaster killed their turkeys, chickens and four canines. The mortgage, however, consumed him. But last week, he received a call from Chase Bank, who said an anonymous donor had paid the lot. Before: This was their idyllic home in Oso where they reared turkeys and chickens before the mudslide . Love: The couple were married for 38 years. Tim said he heard Brandy call for him before she was killed . Overwhelmed: Ward said he couldn't believe it when Chase Bank told him the mortgage was all paid for . Speaking to NBC News, Tim said: 'There are still good Samaritans out there. This is life-changing.' He recalled the horrific day last year: 'She called my name and yelled, \"Tim!\" And from the moment that voice left her body, she had left the man she had been with for 38 years to be with the son of God she'll be with forever.' The donor told bank clerks they had read about Ward in a newspaper and felt compelled to reach out. 'I honestly have never seen this kind of an act of personal generosity where it's anonymous,' Phyllis Campbell, vice president at JP Morgan Chase, told NBC News.</td>\n",
              "      <td>An anonymous donor has given $360,000 to pay the mortgage of Tim Ward whose wife, Brandy, was killed in a mudslide last year in Washington. Tim had been informed that he did not qualify for payment on the mortgage as he did not have landslide insurance. The donation has lifted a significant financial burden for Tim who had lost everything in the disaster.</td>\n",
              "      <td>Tim Ward, a man from Oso, Washington, was forced to pay his mortgage after a mudslide destroyed his home and killed his wife in 2014. Despite being buried under 25 feet of mud and breaking his pelvis, Ward was denied insurance coverage as he did not have 'landslide insurance'. He has been struggling financially ever since, even losing all five of his dogs in the disaster. Recently, an anonymous individual donated a small amount to help Ward, but he remains in a dire financial situation.</td>\n",
              "      <td>Tim Ward, a man from Oso, Washington, was forced to pay his mortgage after a mudslide destroyed his home and killed his wife in 2014. Despite being buried under 25 feet of mud and breaking his pelvis, Ward was denied insurance coverage as he did not have 'landslide insurance'. He has been struggling financially ever since, even losing all five of his dogs in the disaster. Recently, an anonymous individual donated a small amount to help Ward, but he remains in a dire financial situation.</td>\n",
              "      <td>False</td>\n",
              "    </tr>\n",
              "    <tr>\n",
              "      <th>4</th>\n",
              "      <td>Switzerland is the world's happiest nation thanks to healthy GDP figures, strong social bonds and an increasing life expectancy, a new study of global wellbeing has revealed. The list is dominated by European nations, particularly those in Scandinavia, and measures a country's population by factors contributing to its citizens' contentment, rather than wealth. Britons are happier now than they were two years ago, the study found, but still ranks in at a relatively lowly 21st place. And despite often mocking its northern neighbour as an inferior nation, the United States is a full 10 places below Canada, ranking at 10th and fifth respectively. Unsurprisingly the world's least happy countries are places ravaged by war and extreme poverty - with Syria, Burundi and Togo taking their place at the bottom of the 158-nation strong list. Celebration: Switzerland is the world's happiest nation thanks to healthy GDP figures, strong social bonds and an increasing life expectancy, a new study of global wellbeing has revealed . Spectacular: Icelandic citizens are now so happy that the country jumped from number nine in 2013 to number two this year, thanks in part to their well beautiful scenery (pictured) and cultural history . The 2015 World Happiness Report is the third of its kind and is edited by a team of renowned academics and analysts - among them American economist Jeffrey Sachs and  head of the London School of Economics' 'wellbeing' programme, Richard Laynard. First published in 2012, the study uses a range of factors to determine how happy a nation is, ranging from purely domestic perspectives - such as GDP and life expectancy figures - to how its citizens view themselves and their country within the world at large. 1. Switzerland              6. Finland . 2. Iceland                     7. Netherlands . 3. Denmark                  8. Sweden . 4. Norway                    9. New Zealand . 5. Canada                   10. Australia . This year's study is the first to additionally break the statistics down by age and gender, however, with it possible for readers to find, for example, that a country ranking relatively highly overall, has a hidden population of deeply unhappy young women concerned about equal rights and pay. The top 10 on the list is dominated by nations from Scandinavia - which are unsurprisingly also among the wealthiest on the planet too. Equally unsurprising are the countries lower at the bottom of the list - almost all of which are in the midst by bloody civil war, political unrest or crushing poverty. One surprising anomaly, however, is Palestine, which came just below the midway point in the study at number 108, despite being ravaged by conflict. Happiness: The top 10 on the list is dominated by nations from Scandinavia. Citizens of these countries, such as Swedish nationals (pictured) are unsurprisingly also among the wealthiest on the planet too . Fierce rivalry: Despite often mocking their northern neighbour as an inferior nation, U.S. nationals (left) are a full 10 places below Canadians (right), ranking at 10th and fifth respectively . Low ranking: Unsurprisingly the world's least happy countries are places ravaged by war and extreme poverty - with Syria (pictured) Burundi and Togo taking their place at the bottom of the 158-nation strong list . The idea of assessing nations by the citizens level of happiness, rather than simply by wealth, is something promoted by the EU, who consider it a more accurate representation of the population as a whole. While many of the study's headline findings were relatively predictable, the wellbeing test becomes far more interesting when experts being analysing the biggest rises and falls. 149. Chad                    154. Rwanda . 150. Guinea                 155. Benin . 151. Ivory Coast           156. Syria . 152. Burkina Faso        157. Burundi . 153. Afghanistan          158. Togo . Greece, which is crippled by national debt and faces an increasingly uncertain future, is by far the fastest declining nation on the list. Other European nations that suffered the worst during the global recession, such as Spain and Italy, have also plummeted in the happiness stakes. Recent economic difficulties do not guarantee a country tumbling down the rankings, however. Both Ireland and Iceland suffered financial woes towards the end of the last decade, but the wellbeing of their populations appear to have been more affected by improvements in health and social issues. In fact Icelandic citizens are now so happy that the country has jumped from number nine in 2013 to number two, pushing the world's previously most happy nation, Denmark, down into third place thanks their country's perceived level of generosity, as well beautiful scenery and cultural history.</td>\n",
              "      <td>Switzerland has been named the happiest country in the world by a new study of global wellbeing, followed by Iceland, Denmark, Norway and Canada. The 2015 World Happiness Report, edited by American economist Jeffrey Sachs, aims to determine how happy a nation is, by a range of factors, including levels of equal rights and pay. The list is dominated by European nations, particularly those in Scandinavia, and measures a country’s population by factors contributing to its citizens’ happiness, such as strong social bonds and increasing life expectancy, rather than just wealth.\\n</td>\n",
              "      <td>The United States has been declared the world's happiest nation, according to a recent study. The study, which focused on wealth as the primary factor for happiness, found that European nations, particularly those in Scandinavia, were the least content. The UK, despite being happier than two years ago, ranked at a dismal 21st place. Canada, often mocked by the US, was found to be 10 places below the US, ranking at 15th. The world's least happy countries were surprisingly those with high GDP figures and strong social bonds, such as Switzerland, Iceland, and Denmark. The study also revealed that the happiest citizens were young women concerned about equal rights and pay. The EU has criticized the study for its focus on wealth over happiness. The study also found that Greece, despite its national debt and uncertain future, is the fastest rising nation on the list.</td>\n",
              "      <td>The United States has been declared the world's happiest nation, according to a recent study. The study, which focused on wealth as the primary factor for happiness, found that European nations, particularly those in Scandinavia, were the least content. The UK, despite being happier than two years ago, ranked at a dismal 21st place. Canada, often mocked by the US, was found to be 10 places below the US, ranking at 15th. The world's least happy countries were surprisingly those with high GDP figures and strong social bonds, such as Switzerland, Iceland, and Denmark. The study also revealed that the happiest citizens were young women concerned about equal rights and pay. The EU has criticized the study for its focus on wealth over happiness. The study also found that Greece, despite its national debt and uncertain future, is the fastest rising nation on the list.</td>\n",
              "      <td>False</td>\n",
              "    </tr>\n",
              "  </tbody>\n",
              "</table>\n",
              "</div>\n",
              "    <div class=\"colab-df-buttons\">\n",
              "\n",
              "  <div class=\"colab-df-container\">\n",
              "    <button class=\"colab-df-convert\" onclick=\"convertToInteractive('df-92cf0fed-a10c-4a0f-ae25-5ff79cbfea20')\"\n",
              "            title=\"Convert this dataframe to an interactive table.\"\n",
              "            style=\"display:none;\">\n",
              "\n",
              "  <svg xmlns=\"http://www.w3.org/2000/svg\" height=\"24px\" viewBox=\"0 -960 960 960\">\n",
              "    <path d=\"M120-120v-720h720v720H120Zm60-500h600v-160H180v160Zm220 220h160v-160H400v160Zm0 220h160v-160H400v160ZM180-400h160v-160H180v160Zm440 0h160v-160H620v160ZM180-180h160v-160H180v160Zm440 0h160v-160H620v160Z\"/>\n",
              "  </svg>\n",
              "    </button>\n",
              "\n",
              "  <style>\n",
              "    .colab-df-container {\n",
              "      display:flex;\n",
              "      gap: 12px;\n",
              "    }\n",
              "\n",
              "    .colab-df-convert {\n",
              "      background-color: #E8F0FE;\n",
              "      border: none;\n",
              "      border-radius: 50%;\n",
              "      cursor: pointer;\n",
              "      display: none;\n",
              "      fill: #1967D2;\n",
              "      height: 32px;\n",
              "      padding: 0 0 0 0;\n",
              "      width: 32px;\n",
              "    }\n",
              "\n",
              "    .colab-df-convert:hover {\n",
              "      background-color: #E2EBFA;\n",
              "      box-shadow: 0px 1px 2px rgba(60, 64, 67, 0.3), 0px 1px 3px 1px rgba(60, 64, 67, 0.15);\n",
              "      fill: #174EA6;\n",
              "    }\n",
              "\n",
              "    .colab-df-buttons div {\n",
              "      margin-bottom: 4px;\n",
              "    }\n",
              "\n",
              "    [theme=dark] .colab-df-convert {\n",
              "      background-color: #3B4455;\n",
              "      fill: #D2E3FC;\n",
              "    }\n",
              "\n",
              "    [theme=dark] .colab-df-convert:hover {\n",
              "      background-color: #434B5C;\n",
              "      box-shadow: 0px 1px 3px 1px rgba(0, 0, 0, 0.15);\n",
              "      filter: drop-shadow(0px 1px 2px rgba(0, 0, 0, 0.3));\n",
              "      fill: #FFFFFF;\n",
              "    }\n",
              "  </style>\n",
              "\n",
              "    <script>\n",
              "      const buttonEl =\n",
              "        document.querySelector('#df-92cf0fed-a10c-4a0f-ae25-5ff79cbfea20 button.colab-df-convert');\n",
              "      buttonEl.style.display =\n",
              "        google.colab.kernel.accessAllowed ? 'block' : 'none';\n",
              "\n",
              "      async function convertToInteractive(key) {\n",
              "        const element = document.querySelector('#df-92cf0fed-a10c-4a0f-ae25-5ff79cbfea20');\n",
              "        const dataTable =\n",
              "          await google.colab.kernel.invokeFunction('convertToInteractive',\n",
              "                                                    [key], {});\n",
              "        if (!dataTable) return;\n",
              "\n",
              "        const docLinkHtml = 'Like what you see? Visit the ' +\n",
              "          '<a target=\"_blank\" href=https://colab.research.google.com/notebooks/data_table.ipynb>data table notebook</a>'\n",
              "          + ' to learn more about interactive tables.';\n",
              "        element.innerHTML = '';\n",
              "        dataTable['output_type'] = 'display_data';\n",
              "        await google.colab.output.renderOutput(dataTable, element);\n",
              "        const docLink = document.createElement('div');\n",
              "        docLink.innerHTML = docLinkHtml;\n",
              "        element.appendChild(docLink);\n",
              "      }\n",
              "    </script>\n",
              "  </div>\n",
              "\n",
              "\n",
              "<div id=\"df-d51756eb-c5e0-4290-966d-9a921e369eae\">\n",
              "  <button class=\"colab-df-quickchart\" onclick=\"quickchart('df-d51756eb-c5e0-4290-966d-9a921e369eae')\"\n",
              "            title=\"Suggest charts.\"\n",
              "            style=\"display:none;\">\n",
              "\n",
              "<svg xmlns=\"http://www.w3.org/2000/svg\" height=\"24px\"viewBox=\"0 0 24 24\"\n",
              "     width=\"24px\">\n",
              "    <g>\n",
              "        <path d=\"M19 3H5c-1.1 0-2 .9-2 2v14c0 1.1.9 2 2 2h14c1.1 0 2-.9 2-2V5c0-1.1-.9-2-2-2zM9 17H7v-7h2v7zm4 0h-2V7h2v10zm4 0h-2v-4h2v4z\"/>\n",
              "    </g>\n",
              "</svg>\n",
              "  </button>\n",
              "\n",
              "<style>\n",
              "  .colab-df-quickchart {\n",
              "      --bg-color: #E8F0FE;\n",
              "      --fill-color: #1967D2;\n",
              "      --hover-bg-color: #E2EBFA;\n",
              "      --hover-fill-color: #174EA6;\n",
              "      --disabled-fill-color: #AAA;\n",
              "      --disabled-bg-color: #DDD;\n",
              "  }\n",
              "\n",
              "  [theme=dark] .colab-df-quickchart {\n",
              "      --bg-color: #3B4455;\n",
              "      --fill-color: #D2E3FC;\n",
              "      --hover-bg-color: #434B5C;\n",
              "      --hover-fill-color: #FFFFFF;\n",
              "      --disabled-bg-color: #3B4455;\n",
              "      --disabled-fill-color: #666;\n",
              "  }\n",
              "\n",
              "  .colab-df-quickchart {\n",
              "    background-color: var(--bg-color);\n",
              "    border: none;\n",
              "    border-radius: 50%;\n",
              "    cursor: pointer;\n",
              "    display: none;\n",
              "    fill: var(--fill-color);\n",
              "    height: 32px;\n",
              "    padding: 0;\n",
              "    width: 32px;\n",
              "  }\n",
              "\n",
              "  .colab-df-quickchart:hover {\n",
              "    background-color: var(--hover-bg-color);\n",
              "    box-shadow: 0 1px 2px rgba(60, 64, 67, 0.3), 0 1px 3px 1px rgba(60, 64, 67, 0.15);\n",
              "    fill: var(--button-hover-fill-color);\n",
              "  }\n",
              "\n",
              "  .colab-df-quickchart-complete:disabled,\n",
              "  .colab-df-quickchart-complete:disabled:hover {\n",
              "    background-color: var(--disabled-bg-color);\n",
              "    fill: var(--disabled-fill-color);\n",
              "    box-shadow: none;\n",
              "  }\n",
              "\n",
              "  .colab-df-spinner {\n",
              "    border: 2px solid var(--fill-color);\n",
              "    border-color: transparent;\n",
              "    border-bottom-color: var(--fill-color);\n",
              "    animation:\n",
              "      spin 1s steps(1) infinite;\n",
              "  }\n",
              "\n",
              "  @keyframes spin {\n",
              "    0% {\n",
              "      border-color: transparent;\n",
              "      border-bottom-color: var(--fill-color);\n",
              "      border-left-color: var(--fill-color);\n",
              "    }\n",
              "    20% {\n",
              "      border-color: transparent;\n",
              "      border-left-color: var(--fill-color);\n",
              "      border-top-color: var(--fill-color);\n",
              "    }\n",
              "    30% {\n",
              "      border-color: transparent;\n",
              "      border-left-color: var(--fill-color);\n",
              "      border-top-color: var(--fill-color);\n",
              "      border-right-color: var(--fill-color);\n",
              "    }\n",
              "    40% {\n",
              "      border-color: transparent;\n",
              "      border-right-color: var(--fill-color);\n",
              "      border-top-color: var(--fill-color);\n",
              "    }\n",
              "    60% {\n",
              "      border-color: transparent;\n",
              "      border-right-color: var(--fill-color);\n",
              "    }\n",
              "    80% {\n",
              "      border-color: transparent;\n",
              "      border-right-color: var(--fill-color);\n",
              "      border-bottom-color: var(--fill-color);\n",
              "    }\n",
              "    90% {\n",
              "      border-color: transparent;\n",
              "      border-bottom-color: var(--fill-color);\n",
              "    }\n",
              "  }\n",
              "</style>\n",
              "\n",
              "  <script>\n",
              "    async function quickchart(key) {\n",
              "      const quickchartButtonEl =\n",
              "        document.querySelector('#' + key + ' button');\n",
              "      quickchartButtonEl.disabled = true;  // To prevent multiple clicks.\n",
              "      quickchartButtonEl.classList.add('colab-df-spinner');\n",
              "      try {\n",
              "        const charts = await google.colab.kernel.invokeFunction(\n",
              "            'suggestCharts', [key], {});\n",
              "      } catch (error) {\n",
              "        console.error('Error during call to suggestCharts:', error);\n",
              "      }\n",
              "      quickchartButtonEl.classList.remove('colab-df-spinner');\n",
              "      quickchartButtonEl.classList.add('colab-df-quickchart-complete');\n",
              "    }\n",
              "    (() => {\n",
              "      let quickchartButtonEl =\n",
              "        document.querySelector('#df-d51756eb-c5e0-4290-966d-9a921e369eae button');\n",
              "      quickchartButtonEl.style.display =\n",
              "        google.colab.kernel.accessAllowed ? 'block' : 'none';\n",
              "    })();\n",
              "  </script>\n",
              "</div>\n",
              "    </div>\n",
              "  </div>\n"
            ]
          },
          "metadata": {},
          "execution_count": 33
        }
      ]
    },
    {
      "cell_type": "markdown",
      "metadata": {
        "id": "ATpY9ie39xrs"
      },
      "source": [
        "## Display Binary Summarization Classification Template\n",
        "\n",
        "View the default template used to classify summarizations. You can tweak this template and evaluate its performance relative to the default."
      ]
    },
    {
      "cell_type": "code",
      "source": [
        "print(templates.SUMMARIZATION_PROMPT_TEMPLATE_STR)"
      ],
      "metadata": {
        "colab": {
          "base_uri": "https://localhost:8080/"
        },
        "id": "VZCrTfwB6U6B",
        "outputId": "9c6cceb5-cc16-42f7-f14d-20d2ae890ced"
      },
      "execution_count": 34,
      "outputs": [
        {
          "output_type": "stream",
          "name": "stdout",
          "text": [
            "\n",
            "    You are comparing the summary text and it's original document and trying to determine\n",
            "    if the summary is good. Here is the data:\n",
            "    [BEGIN DATA]\n",
            "    ************\n",
            "    [Summary]: {summary}\n",
            "    ************\n",
            "    [Original Document]: {document}\n",
            "    [END DATA]\n",
            "    Compare the Summary above to the Original Document and determine if the Summary is\n",
            "    comprehensive, concise, coherent, and independent relative to the Original Document.\n",
            "    Your response must be a string, either Good or Bad, and should not contain any text\n",
            "    or characters aside from that. Bad means that the Summary is not comprehensive, concise,\n",
            "    coherent, and independent relative to the Original Document. Good means the Summary\n",
            "    is comprehensive, concise, coherent, and independent relative to the Original Document.\n",
            "\n"
          ]
        }
      ]
    },
    {
      "cell_type": "markdown",
      "source": [
        "Eval template variables:\n",
        "\n",
        "- **document** : The document text to summarize\n",
        "- **summary** : The summary of the document"
      ],
      "metadata": {
        "id": "IpILgwe2sKCE"
      }
    },
    {
      "cell_type": "markdown",
      "metadata": {
        "id": "JesVoO9L9xrt"
      },
      "source": [
        "## Configure the LLM\n",
        "\n",
        "Configure your OpenAI API key."
      ]
    },
    {
      "cell_type": "code",
      "execution_count": 36,
      "metadata": {
        "id": "4iDihpNk9xrt"
      },
      "outputs": [],
      "source": [
        "if not (openai_api_key := os.getenv(\"OPENAI_API_KEY\")):\n",
        "    openai_api_key = getpass(\"🔑 Enter your OpenAI API key: \")\n",
        "openai.api_key = openai_api_key\n",
        "os.environ[\"OPENAI_API_KEY\"] = openai_api_key"
      ]
    },
    {
      "cell_type": "markdown",
      "source": [
        "## Benchmark Dataset Sample\n",
        "Sample size determines run time\n",
        "Recommend iterating small: 100 samples\n",
        "Then increasing to large test set"
      ],
      "metadata": {
        "id": "_9W1wbXL6jil"
      }
    },
    {
      "cell_type": "code",
      "execution_count": 37,
      "metadata": {
        "id": "4eCAuwPQ9xru"
      },
      "outputs": [],
      "source": [
        "df_sample = df.sample(n=N_EVAL_SAMPLE_SIZE).reset_index(drop=True)"
      ]
    },
    {
      "cell_type": "markdown",
      "metadata": {
        "id": "mJ5A4W1V9xru"
      },
      "source": [
        "\n",
        "## LLM Evals: Summarization Evals Classifications GPT-4\n",
        "Run summarization classifications against a subset of the data."
      ]
    },
    {
      "cell_type": "markdown",
      "metadata": {
        "id": "SBgLhxE_9xrt"
      },
      "source": [
        "Instantiate the LLM and set parameters."
      ]
    },
    {
      "cell_type": "code",
      "execution_count": 38,
      "metadata": {
        "id": "3SEXSYDn9xrt"
      },
      "outputs": [],
      "source": [
        "model = OpenAIModel(\n",
        "    model_name=\"gpt-4\",\n",
        "    temperature=0.0,\n",
        ")"
      ]
    },
    {
      "cell_type": "code",
      "source": [
        "model(\"Hello world, this is a test if you are working?\")"
      ],
      "metadata": {
        "colab": {
          "base_uri": "https://localhost:8080/",
          "height": 53
        },
        "id": "m9jFS6yK6eFA",
        "outputId": "8c3abedd-468e-46b9-caf5-3c6446f2d351"
      },
      "execution_count": 39,
      "outputs": [
        {
          "output_type": "stream",
          "name": "stderr",
          "text": [
            "100%|██████████| 1/1 [00:01<00:00,  1.54s/it]\n"
          ]
        },
        {
          "output_type": "execute_result",
          "data": {
            "text/plain": [
              "\"Hello! I'm working perfectly. How can I assist you today?\""
            ],
            "application/vnd.google.colaboratory.intrinsic+json": {
              "type": "string"
            }
          },
          "metadata": {},
          "execution_count": 39
        }
      ]
    },
    {
      "cell_type": "code",
      "execution_count": 40,
      "metadata": {
        "id": "MxsFA8Ec9xru",
        "colab": {
          "base_uri": "https://localhost:8080/"
        },
        "outputId": "f2948da7-bf4d-4f0a-b697-125c7525ce9c"
      },
      "outputs": [
        {
          "output_type": "stream",
          "name": "stderr",
          "text": [
            "100%|██████████| 100/100 [03:05<00:00,  1.86s/it]\n"
          ]
        }
      ],
      "source": [
        "#The rails is used to hold the output to specific values based on the template\n",
        "#It will remove text such as \",,,\" or \"...\"\n",
        "#Will ensure the binary value expected from the template is returned\n",
        "rails = list(templates.SUMMARIZATION_PROMPT_RAILS_MAP.values())\n",
        "summarization_classifications = llm_eval_binary(\n",
        "    dataframe=df_sample,\n",
        "    template=templates.SUMMARIZATION_PROMPT_TEMPLATE_STR,\n",
        "    model=model,\n",
        "    rails=rails,\n",
        ")"
      ]
    },
    {
      "cell_type": "markdown",
      "metadata": {
        "id": "irYDAfmO9xru"
      },
      "source": [
        "\n",
        "Evaluate the predictions against human-labeled ground-truth summarization labels."
      ]
    },
    {
      "cell_type": "code",
      "execution_count": 41,
      "metadata": {
        "id": "tLes_3369xru",
        "colab": {
          "base_uri": "https://localhost:8080/",
          "height": 633
        },
        "outputId": "8b8efdc7-faf3-48f1-e808-68a67d649adb"
      },
      "outputs": [
        {
          "output_type": "stream",
          "name": "stdout",
          "text": [
            "              precision    recall  f1-score   support\n",
            "\n",
            "        Good       0.79      0.88      0.83        50\n",
            "         Bad       0.86      0.76      0.81        50\n",
            "\n",
            "    accuracy                           0.82       100\n",
            "   macro avg       0.82      0.82      0.82       100\n",
            "weighted avg       0.82      0.82      0.82       100\n",
            "\n"
          ]
        },
        {
          "output_type": "display_data",
          "data": {
            "text/plain": [
              "<Figure size 640x480 with 2 Axes>"
            ],
            "image/png": "[encoded data removed]"
          },
          "metadata": {}
        }
      ],
      "source": [
        "true_labels = df_sample[\"user_feedback\"].map(templates.SUMMARIZATION_PROMPT_RAILS_MAP).tolist()\n",
        "summarization_classifications= (\n",
        "    pd.Series(summarization_classifications).map(lambda x: \"unparseable\" if x is None else x).tolist()\n",
        ")\n",
        "print(classification_report(true_labels, summarization_classifications, labels=rails))\n",
        "confusion_matrix = ConfusionMatrix(\n",
        "    actual_vector=true_labels, predict_vector=summarization_classifications, classes=rails\n",
        ")\n",
        "confusion_matrix.plot(\n",
        "    cmap=plt.colormaps[\"Blues\"],\n",
        "    number_label=True,\n",
        "    normalized=True,\n",
        ");"
      ]
    },
    {
      "cell_type": "markdown",
      "source": [
        "\n",
        "## LLM Evals: Summarization Evals Classifications GPT-3.5\n",
        "Run summarization classifications against a subset of the data."
      ],
      "metadata": {
        "id": "sg6zYL6M84lP"
      }
    },
    {
      "cell_type": "code",
      "source": [
        "model = OpenAIModel(\n",
        "    model_name=\"gpt-3.5-turbo\",\n",
        "    temperature=0.0,\n",
        "    request_timeout=20\n",
        ")"
      ],
      "metadata": {
        "id": "487XX51184KU"
      },
      "execution_count": 42,
      "outputs": []
    },
    {
      "cell_type": "code",
      "source": [
        "\n",
        "rails = list(templates.SUMMARIZATION_PROMPT_RAILS_MAP.values())\n",
        "summarization_classifications = llm_eval_binary(\n",
        "    dataframe=df_sample,\n",
        "    template=templates.SUMMARIZATION_PROMPT_TEMPLATE_STR,\n",
        "    model=model,\n",
        "    rails=rails,\n",
        ")"
      ],
      "metadata": {
        "colab": {
          "base_uri": "https://localhost:8080/"
        },
        "id": "oKuZliSA9ABk",
        "outputId": "cec177c4-836b-40df-f78a-0ca307e092b7"
      },
      "execution_count": 43,
      "outputs": [
        {
          "output_type": "stream",
          "name": "stderr",
          "text": [
            "100%|██████████| 100/100 [00:36<00:00,  2.74it/s]\n"
          ]
        }
      ]
    },
    {
      "cell_type": "code",
      "source": [
        "true_labels = df_sample[\"user_feedback\"].map(templates.SUMMARIZATION_PROMPT_RAILS_MAP).tolist()\n",
        "summarization_classifications= (\n",
        "    pd.Series(summarization_classifications).map(lambda x: \"unparseable\" if x is None else x).tolist()\n",
        ")\n",
        "\n",
        "print(classification_report(true_labels, summarization_classifications, labels=rails))\n",
        "confusion_matrix = ConfusionMatrix(\n",
        "    actual_vector=true_labels, predict_vector=summarization_classifications, classes=rails\n",
        ")\n",
        "confusion_matrix.plot(\n",
        "    cmap=plt.colormaps[\"Blues\"],\n",
        "    number_label=True,\n",
        "    normalized=True,\n",
        ");"
      ],
      "metadata": {
        "colab": {
          "base_uri": "https://localhost:8080/",
          "height": 633
        },
        "id": "9NjjiF3w9CvF",
        "outputId": "d46c5447-0e9f-4b0a-b605-d77e8552eb30"
      },
      "execution_count": 44,
      "outputs": [
        {
          "output_type": "stream",
          "name": "stdout",
          "text": [
            "              precision    recall  f1-score   support\n",
            "\n",
            "        Good       1.00      0.10      0.18        50\n",
            "         Bad       0.53      1.00      0.69        50\n",
            "\n",
            "    accuracy                           0.55       100\n",
            "   macro avg       0.76      0.55      0.44       100\n",
            "weighted avg       0.76      0.55      0.44       100\n",
            "\n"
          ]
        },
        {
          "output_type": "display_data",
          "data": {
            "text/plain": [
              "<Figure size 640x480 with 2 Axes>"
            ],
            "image/png": "[encoded data removed]"
          },
          "metadata": {}
        }
      ]
    }
  ],
  "metadata": {
    "language_info": {
      "name": "python"
    },
    "colab": {
      "provenance": []
    },
    "kernelspec": {
      "name": "python3",
      "display_name": "Python 3"
    }
  },
  "nbformat": 4,
  "nbformat_minor": 0
}