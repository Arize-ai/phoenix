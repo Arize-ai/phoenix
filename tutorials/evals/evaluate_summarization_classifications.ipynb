{
  "cells": [
    {
      "cell_type": "markdown",
      "metadata": {
        "id": "CUgP1j4k9xrq"
      },
      "source": [
        "<center>\n",
        "    <p style=\"text-align:center\">\n",
        "        <img alt=\"phoenix logo\" src=\"https://storage.googleapis.com/arize-assets/phoenix/assets/phoenix-logo-light.svg\" width=\"200\"/>\n",
        "        <br>\n",
        "        <a href=\"https://docs.arize.com/phoenix/\">Docs</a>\n",
        "        |\n",
        "        <a href=\"https://github.com/Arize-ai/phoenix\">GitHub</a>\n",
        "        |\n",
        "        <a href=\"https://join.slack.com/t/arize-ai/shared_invite/zt-1px8dcmlf-fmThhDFD_V_48oU7ALan4Q\">Community</a>\n",
        "    </p>\n",
        "</center>\n",
        "<h1 align=\"center\">Summarization Classification Evals</h1>\n",
        "\n",
        "The purpose of this notebook is:\n",
        "\n",
        "- to evaluate the performance of an LLM-assisted approach to evaluating summarization quality,\n",
        "- to provide an experimental framework for users to iterate and improve on the default classification template.\n",
        "\n",
        "## Install Dependencies and Import Libraries"
      ]
    },
    {
      "cell_type": "code",
      "source": [
        "#####################\n",
        "## N_EVAL_SAMPLE_SIZE\n",
        "#####################\n",
        "#Eval sample size determines the run time\n",
        "#100 samples: GPT-4 ~ 80 sec / GPT-3.5 ~ 40 sec\n",
        "#1,000 samples: GPT-4 ~15-17 min / GPT-3.5 ~ 6-7min (depending on retries)\n",
        "#10,000 samples GPT-4 ~170 min / GPT-3.5 ~ 70min\n",
        "N_EVAL_SAMPLE_SIZE = 100"
      ],
      "metadata": {
        "id": "NmYckUs66DUd"
      },
      "execution_count": 1,
      "outputs": []
    },
    {
      "cell_type": "code",
      "execution_count": 2,
      "metadata": {
        "id": "iB0ha2HW9xrr",
        "outputId": "359b47be-368a-4a4b-fb9b-7f760ee65da6",
        "colab": {
          "base_uri": "https://localhost:8080/"
        }
      },
      "outputs": [
        {
          "output_type": "stream",
          "name": "stdout",
          "text": [
            "\u001b[2K     \u001b[90m━━━━━━━━━━━━━━━━━━━━━━━━━━━━━━━━━━━━━━━━\u001b[0m \u001b[32m1.1/1.1 MB\u001b[0m \u001b[31m9.1 MB/s\u001b[0m eta \u001b[36m0:00:00\u001b[0m\n",
            "\u001b[2K     \u001b[90m━━━━━━━━━━━━━━━━━━━━━━━━━━━━━━━━━━━━━━━━\u001b[0m \u001b[32m76.5/76.5 kB\u001b[0m \u001b[31m9.2 MB/s\u001b[0m eta \u001b[36m0:00:00\u001b[0m\n",
            "\u001b[2K     \u001b[90m━━━━━━━━━━━━━━━━━━━━━━━━━━━━━━━━━━━━━━━━\u001b[0m \u001b[32m70.3/70.3 kB\u001b[0m \u001b[31m7.8 MB/s\u001b[0m eta \u001b[36m0:00:00\u001b[0m\n",
            "\u001b[2K     \u001b[90m━━━━━━━━━━━━━━━━━━━━━━━━━━━━━━━━━━━━━━━━\u001b[0m \u001b[32m5.2/5.2 MB\u001b[0m \u001b[31m77.3 MB/s\u001b[0m eta \u001b[36m0:00:00\u001b[0m\n",
            "\u001b[?25h  Installing build dependencies ... \u001b[?25l\u001b[?25hdone\n",
            "  Getting requirements to build wheel ... \u001b[?25l\u001b[?25hdone\n",
            "  Preparing metadata (pyproject.toml) ... \u001b[?25l\u001b[?25hdone\n",
            "\u001b[2K     \u001b[90m━━━━━━━━━━━━━━━━━━━━━━━━━━━━━━━━━━━━━━━━\u001b[0m \u001b[32m69.9/69.9 kB\u001b[0m \u001b[31m8.5 MB/s\u001b[0m eta \u001b[36m0:00:00\u001b[0m\n",
            "\u001b[2K     \u001b[90m━━━━━━━━━━━━━━━━━━━━━━━━━━━━━━━━━━━━━━\u001b[0m \u001b[32m266.5/266.5 kB\u001b[0m \u001b[31m28.9 MB/s\u001b[0m eta \u001b[36m0:00:00\u001b[0m\n",
            "\u001b[2K     \u001b[90m━━━━━━━━━━━━━━━━━━━━━━━━━━━━━━━━━━━━━━━━\u001b[0m \u001b[32m90.8/90.8 kB\u001b[0m \u001b[31m9.2 MB/s\u001b[0m eta \u001b[36m0:00:00\u001b[0m\n",
            "\u001b[?25h  Preparing metadata (setup.py) ... \u001b[?25l\u001b[?25hdone\n",
            "\u001b[2K     \u001b[90m━━━━━━━━━━━━━━━━━━━━━━━━━━━━━━━━━━━━━━━━\u001b[0m \u001b[32m59.5/59.5 kB\u001b[0m \u001b[31m7.5 MB/s\u001b[0m eta \u001b[36m0:00:00\u001b[0m\n",
            "\u001b[2K     \u001b[90m━━━━━━━━━━━━━━━━━━━━━━━━━━━━━━━━━━━━━━\u001b[0m \u001b[32m202.9/202.9 kB\u001b[0m \u001b[31m22.3 MB/s\u001b[0m eta \u001b[36m0:00:00\u001b[0m\n",
            "\u001b[2K     \u001b[90m━━━━━━━━━━━━━━━━━━━━━━━━━━━━━━━━━━━━━━━━\u001b[0m \u001b[32m1.6/1.6 MB\u001b[0m \u001b[31m63.9 MB/s\u001b[0m eta \u001b[36m0:00:00\u001b[0m\n",
            "\u001b[2K     \u001b[90m━━━━━━━━━━━━━━━━━━━━━━━━━━━━━━━━━━━━━━\u001b[0m \u001b[32m599.4/599.4 kB\u001b[0m \u001b[31m50.3 MB/s\u001b[0m eta \u001b[36m0:00:00\u001b[0m\n",
            "\u001b[2K     \u001b[90m━━━━━━━━━━━━━━━━━━━━━━━━━━━━━━━━━━━━━━━━\u001b[0m \u001b[32m1.1/1.1 MB\u001b[0m \u001b[31m63.4 MB/s\u001b[0m eta \u001b[36m0:00:00\u001b[0m\n",
            "\u001b[?25h  Preparing metadata (setup.py) ... \u001b[?25l\u001b[?25hdone\n",
            "\u001b[2K     \u001b[90m━━━━━━━━━━━━━━━━━━━━━━━━━━━━━━━━━━━━━━━━\u001b[0m \u001b[32m58.3/58.3 kB\u001b[0m \u001b[31m6.8 MB/s\u001b[0m eta \u001b[36m0:00:00\u001b[0m\n",
            "\u001b[?25h  Building wheel for hdbscan (pyproject.toml) ... \u001b[?25l\u001b[?25hdone\n",
            "  Building wheel for umap-learn (setup.py) ... \u001b[?25l\u001b[?25hdone\n",
            "  Building wheel for pynndescent (setup.py) ... \u001b[?25l\u001b[?25hdone\n"
          ]
        }
      ],
      "source": [
        "!pip install -qq arize-phoenix ipython matplotlib openai pycm scikit-learn"
      ]
    },
    {
      "cell_type": "code",
      "execution_count": 3,
      "metadata": {
        "id": "FHTpeDPp9xrs"
      },
      "outputs": [],
      "source": [
        "import os\n",
        "from getpass import getpass\n",
        "\n",
        "import matplotlib.pyplot as plt\n",
        "import openai\n",
        "import pandas as pd\n",
        "import phoenix.experimental.evals.templates.default_templates as templates\n",
        "from phoenix.experimental.evals import (\n",
        "    OpenAIModel,\n",
        "    download_benchmark_dataset,\n",
        "    llm_eval_binary,\n",
        ")\n",
        "from pycm import ConfusionMatrix\n",
        "from sklearn.metrics import classification_report\n",
        "\n",
        "pd.set_option(\"display.max_colwidth\", None)"
      ]
    },
    {
      "cell_type": "markdown",
      "metadata": {
        "id": "7ZDV2XLq9xrs"
      },
      "source": [
        "## Download Benchmark Dataset\n",
        "\n",
        "We'll evaluate the evaluation system consisting of an LLM model and settings in addition to an evaluation prompt template against benchmark datasets of queries and retrieved documents with ground-truth relevance labels. We will be using the CNN Daily News Mail dataset. This dataset is commonly used for text summarization models as a benchmark."
      ]
    },
    {
      "cell_type": "code",
      "source": [
        "df = pd.read_parquet(\"https://storage.googleapis.com/arize-assets/fixtures/Embeddings/GENERATIVE/cnndn_summarization.snappy.pq\")\n",
        "df.head()"
      ],
      "metadata": {
        "colab": {
          "base_uri": "https://localhost:8080/",
          "height": 1000
        },
        "id": "8pMXXY-mfqzK",
        "outputId": "676af7b1-0a43-49b4-b920-b53f6a41bbe9"
      },
      "execution_count": 4,
      "outputs": [
        {
          "output_type": "execute_result",
          "data": {
            "text/plain": [
              "                                                                                                                                                                                                                                                                                                                                                                                                                                                                                                                                                                                                                                                                                                                                                                                                                                                                                                                                                                                                                                                                                                                                                                                                                                                                                                                                                                                                                                                                                                                                                                                                                                                                                                                                                                                                                                                                                                                                                                                                                                                                                                                                                                                                                                                                                                                                                                                                                                                                                                                                                                                                                                                                                                                                                                                                                                                                                                                                                                                                                                                                                                                                                                                                                                                                                                                                                                                                                                                                                                                                                                                                                                                                                                                                                                                                                                                                                                                                                                                                                                                                                                                                                                                                                                                                                                                                                                                                                                                                                                                                                                                                                                                                                                                                                                                                                                                                                                                                                                                                                                                                                                                      document  \\\n",
              "0                                                                                                                                                                                                                                                                                                                                                                                                                                                                                                                                                                                                                                                                                                                                                                                                                                                                                                                                                                                                                                                                                                                                                                                                                                                                                                                                                                                                                                                                                                                                                                                                                                                                                                                                                                                                                                                                                                                                                                                                                                                                   This is the moment when an angry woman forced an elderly man to kneel in the street after he accidentally knocked her phone out of her hand. The video, filmed at an undisclosed location in China, sees the woman demand that the man pays compensation for her damaged phone as she slaps him in the middle of a busy road. Despite the elderly man promising to pay her back once he has the means to do so, she continues to berate him in front of witnesses, the People's Daily Online reports. Scroll down for video . Street attack: The shocking video was filmed after the elderly man knocked the woman's phone out of her hand, causing the screen to break . The shocking exchange was filmed by a witness and it had since gone viral on Chinese social media. The woman had allegedly been taking pictures of her children with her new iPhone 6 plus when the old man passed through on his moped. He accidentally bumped into the woman’s shoulder and her phone fell on the ground, and the screen cracked, the newspaper reports. The woman demanded the old man to compensate for repairing her phone, which he promised to do, but adding that it would have to wait as he did not have the money there and then. ‘The old man’s voice was trembling and he had tears in his eyes,’ a witnesses said, describing how the woman called four friends to the scene. Abuse: After being told that the man does not have the money to pay her back straight away, she is seen slapping him twice in the street . In the clip, the woman can be heard demanding that he pays her on the spot, despite his assurance that she will be compensated eventually . ‘The young woman’s friends hit the old man’s hat constantly and discussed whether they should really hit him,’the witness said. After a long verbal argument between the young woman and the old man, she is said to have demanded: ‘Kneel down for apology, then I will forget the money!’ The old man allegedly came off his moped, falling over as he kneeled down. 'His disability became apparent to the crowd but the young woman’s action became more infuriating,' a witness said. ‘The young lady just stood in front of the old man and slapped him twice.' In the clip, the woman can be heard demanding that he pays her on the spot, despite his assurance that she will be compensated eventually. Although no one called the police, the authority has investigated further after the clip went online. A user, posting under the username ‘The girl who sells tea eggs’, wrote: It was the old man’s fault that he bumped into the young woman but this is definitely not a reason to slap someone. 'The old man has to pay a compensation for sure but they could have called the police to settle the matter. If you stand in the old man’s shoes, you would be very angry as well. How can one compare the value of a phone and the old man’s dignity? How can people be so cold-hearted? The young woman has been called to report at the police station.   \n",
              "1                                                                                                                                                                                                                                                                                                                                                                                                                                                                                                                                                                                                                                                                                                                                                                            A Florida university is investigating the death of a student who drowned in Daytona Beach to determine whether or not hazing was involved. Bethune-Cookman University student Damian Parks, 22, was reported missing after going swimming with student s at 3am on Sunday and students who were with him said strong currents pulled Parks out to sea. His body was found Monday morning. Students who were with Parks, who were all part of a step team called Melodic Stepping Experience, which formed last year, said no hazing was involved. Bethune-Cookman University student Damian Parks, 22, drowned in Daytona Beach on Sunday after going for a swim with friends at 3am. He was pulled out to see by a strong current and his body was later found on Monday morning . But Bethune-Cookman University is investigating Parks death after university administration 'heard rumors' that hazing was involved. Parks and the men he was swimming with were part of a step team called Melodic Stepping Experience, which formed last year . A Bethune-Cookman spokeswoman Keisha Boyd said that the university administration had 'heard rumors' about hazing and that Volusia County Beach Safety Ocean Rescue is investigating the student's death, according to the Daytona Beach News-Journal. Parks' mother, Carolyn Parks, said she didn't know why her son would decide to swim in the ocean. 'I don't know why it happened, why he would go into the water like this, because he is not a good swimmer,' she told WESH 2. 'And I had talked to him just before he came out here and he told me he was tired and was going to rest, not knowing he was going to come out here to the beach.' Damian Parks is the second son Carolyn Parks has had to mourn in recent months. Her 16-year-old son died in Miami six months ago. Parks was with four other men in about 5ft of water near Sun Splash Park when he lost grip of a friend's clothing and a the current pulled him out to sea, according to a U.S. Coast Guard report. Parks' friends said that there was 'no foul play at all' and that is was not hazing. They added that the group was 'having fun' and that Parks had not been drinking before the incident . Uamil Turner, who was at the beach, said 'it wasn't hazing', and he was unsure where the rumor came from. Marquise Nelson, who was also at the beach with Parks, said that there 'was no foul play at all'. 'Damian didn't do anything he didn't want to do, and everyone knew that,' Nelson told the News-Journal. 'Everyone was having fun.' Parks friends said that the student had not been drinking the night he drowned nor was he impaired in any way. Deputy Chief Ray Manchester of Volusia County Beach Safety Ocean Rescue said there's no sign of hazing in the incident and that the men had, however, been out bar-hopping before going for a swim. He added that he believed 'they may have been drinking' and that the ocean was rough when the men entered the water. Students and staff at Bethune-Cookman University mourned Parks' death during a prayer vigil held on Monday after the student's body was found . The university said that though the investigation is ongoing, it still wants to celebrate Parks' life and support his family 'in this most difficult time' The university is investigating into hazing, while Volusia County Beach Safety Ocean Rescue is assisting with toxicology and witness statements, Manchester said. Bethune-Cookman spokeswoman Boyd said that though the investigation was ongoing, the university is still celebrating Parks' life. 'Once any additional information is provided by the Beach Patrol, the University will issue another statement. While information regarding the events of April 20th are continuing to surface, we ask that the public join B-CU in supporting the Parks family in this most difficult time,' she said. The university held a prayer vigil on Monday, in which University President Edison Jackson planted a tree in Parks' memory. Students at the vigil said that Parks 'never stopped laughing' and was both talented and artistic. During Monday's vigil, University President Edison planted a tree in Parks' memory. More than 100 people appeared to have shown up for Monday's vigil .   \n",
              "2                                                                                                                                                                                                                                                                                                      It was once the edgiest place in town, attracting the word's biggest bands to its iconic stage - but 30 years later Cleveland's Variety Theater is silent. The venue was renowned for its rock concerts but everything changed in 1984 when heavy metal band Motorhead played a gig so loud it literally began to bring the house down. As the crowd went wild over the group's unique ear-shattering brand of music, the ceiling cracked and pieces of plaster began to fall on the audience - ending the concert and the life of the Variety Theater in one deafening shriek. Abandoned for 30 years: The Variety Theater in Cleveland was once a buzzing music venue but was closed down after the ceiling cracked during a Motorhead gig in 1984 . The power was cut off to stop the band from playing and two years later a judge ordered the theater to be sealed off for good. Built in 1927, The Variety Theater was home to one of the earliest single screen cinemas in Cleveland, Ohio, before becoming an iconic music venue. The 20,000 sq ft main stage hosted the likes of  Metallica, the Dead Kennedy's and R.E.M. before Motorhead's fatal performance on December 2 1984. Since then it has stayed abandoned and hidden from public eye until now, thirty years later, a photographer has captured a collection of eery images offering a fascinating glimpse into music history. Seph Lawless, the 37-year-old photojournalist from Cleveland who took these incredible pictures, said: 'I'm Cleveland born and raised and I've always been into rock and roll. 'This theater has gone down in folklore in my hometown and it always had that air of mystery when we were kids growing up. Crumbling and rotting remains: The once-iconic Ohio venue was sealed off on the order of a judge in 1986, two years after Motorhead's gig . 'It was really inspiring to go in and photograph the theater, it's something I've always wanted to do and at times it actually felt like I was stepping back in time. 'I love rock and roll music so it was just incredible, it was like a time capsule to that era and that all the bands who performed there were captured in the fabric of the building.' Seph is a photojournalist specialising in nostalgic pictures. He recently completed a trip around the United States where he took photographs of abandoned or neglected buildings in every state. Due to the efforts of The Friends of the Historic Variety Theater, an organization that owns the huge building, a scheme to regenerate the venue have been given a new lease of life. The group is said to have plans to spruce up the theater section of the building, turning it into a music venue once more. Slow decay of time: Many of the theater's wooden seats have fallen into disrepair while the staircase shows the effects of years of decay . Renowned venue: Before its closure, the theater hosted concerts from bands including Metallica, the Dead Kennedy's and R.E.M. Hidden from view: The stunning pictures were taken by 37-year-old photojournalist Seph Lawless, who has lived in Cleveland all his life . Silent halls: The walls are cracked and chipped and the tiles on the floor have rotted after three decades of abandonment . Ruled to be unsafe: The venue was closed after the ceiling cracked and pieces of plaster began to fall on the audience during a 1984 gig . Open for half a century: Built in 1927, The Variety Theater was home to one of the earliest single screen cinemas in Cleveland, Ohio, before becoming an iconic music venue . Regeneration: The Friends of the Historic Variety Theater have plans to spruce up the theater section of the building and rent out the structure’s eight retail store-fronts . Dated equipment: Most of the building's machinery has been languishing for years since the venue's unfortunate closure . 1920s-style décor: The theater had kept its vintage style for decades and left everything untouched when it was sealed up in 1986 . Enticing: Mr Lawless said the theater 'has gone down in folklore' in Cleveland and always 'had that air of mystery' to it when he was a child . Fatal concert: During Motorhead's 1984 gig, the power was cut off to stop the band from playing and two years later the venue was cosed . A glimpse of the past: A peek through a broken piece of wall reveals the lit up stage of the Variety Theater in dramatic fashion . Fascinating history: There are now plans to restore the decaying building to a live music venue . Coated in dust: Mr Lawless is a photojournalist specialising in nostalgic pictures. He recently completed a trip around the United States where he took photographs of abandoned or neglected buildings in every state .   \n",
              "3  Unite baron Len McCluskey has boasted that trade unions ‘own’ the Labour party and its policies. ‘The Labour Party is our party. We built it, to serve us’, he declared and went on to say: ‘These are our policies…they are now within our grasp.’ The boast comes only 24 hours after Alex Salmond bragged that he would be writing Labour’s budget. The arrogant claim by the former Scottish first minister, who is running as an SNP candidate, was featured on the front page of yesterday’s Mail. Unite boss Len McCluskey, pictured, boasted that the trade union movement 'owns' the Labour Party . The intervention of Mr McCluskey, so soon after Mr Salmond’s mocking remarks, is another humiliation for Ed Miliband. It comes in a foreword to Unite’s magazine. Mr McCluskey urges his members to ‘take back our country’ and ‘restore decency, dignity and justice’. He says: ‘The Labour party is our party. We built it, to serve us, the people. Never forget, the rich and powerful have their party, the Tories. And Ukip is no friend – they are frauds, charlatans who will roll back every advance won by working people. ‘One May 7, we can vote for a government that will build homes, give our kids hope, save our NHS and attack the evil of zero hours, hire and fire working. ‘These are our policies. These are the changes that you have been fighting for these five long years. They are now within our grasp.’ He goes on to warn: ‘Do not for a moment forget this: should Cameron and his cronies win on May 7, they will change our nation forever – but not for better. ‘Cuts that will take us back to the darkest days of the 1930s. Attacks on unions will place us in chains so we cannot defend you, our members.’ The article is Mr McCluskey’s first major intervention in the election campaign. Trade unions gave Labour £737,948 out of the £1.1million the party raised this week – the second week of the election campaign. This is the equivalent of £1.22 every second from trade union. Unite gave £112,000 according to official figures published by the Electoral Commission. But this was dwarfed by health workers’ union Unison’s £311,875 and the Union of Shop, Distributive and Allied Workers’ £300,481. However, last week Unite gave Labour £1million and has provided £14.4million since Mr Miliband won the Labour leadership. He was a surprise victor in the 2010 leadership election thanks largely to the support of the unions. The Labour leader was even serenaded by Unite’s brass band at a rally in Yorkshire yesterday. Labour's deputy leader Harriet Harman, right, is a fully paid up member of the Unite trade union . Other Unite members looking for a seat in cabinet are Andy Burnham, pictured, and Chuka Umunna . Reflecting Unite’s own programme, the party plans to ban zero hours contracts, impose rent controls, raise the minimum wage, scrap job tribunal fees and part-renationalise the railways. Earlier this week it emerged that more than half of Labour candidates in winnable seats are sponsored by Unite. Unite has also called on Labour to restore the 50p top rate of tax, ditch the so-called bedroom tax, or spare room subsidy, end all austerity measures and increase borrowing. Mr McCluskey, a former dock worker who has clawed himself up to the top of the super-union, threatened to axe funding to Labour unless it adopted his socialist policies. Of the 106 target constituencies, Unite has endorsed or partly bankrolled 54 of the contenders. Harriet Harman, Andy Burnham and former banker Chuka Umunna are paid up members of Unite. Labour also received a £300,000 boost from Allamhouse Limited, a company owned by Egyptian tycoon Aseem Allam, who is worth a reputed £300million. Mr Allam, owner of the premier Hull City football club, said he was ‘not necessarily’ voting Labour but had donated to the party to reduce its reliance on the trade unions. He said: ‘I like Ed Miliband, he is an honest politician. He means every word he says. I just don’t like what the words he is saying.’ He added that politicians, in particular Labour, ‘should stop talking about the gap between rich and poor. If the gap becomes too small then you will have communism. The only way to lift the standard of living is to create more rich people. Otherwise you make everybody poor.’ He recently praised David Cameron and said the Conservatives had the ‘best’ economic plan. A Labour Party spokesman said: ‘We are grateful to all those who donate to the Labour Party. He added: ‘Unlike the Conservatives who increasingly rely on the money of hedge funds and an exclusive group of super rich donors… Labour is proud to be supported by millions of teachers, nurses, builders, plumbers, supermarket workers and many others.’ The Conservatives received money from 17 donors, of which 14 were individuals – accounting for £460,000 of the £492,512. Among them was Brevan Howard Asset Management hedge fund founder Christopher Rokos, who gave £170,000.   \n",
              "4                                                                                                                                                                                                                                                                                                                                                                                                                                                                                                                                                                                                                                                                                                                                                                                                                                                                                                                                                                                                                                                                                                                                                                                                                                                                                                                                                                                                      Amazon is trialling a  scheme that could spell the end of waiting in for deliveries or collecting your parcels from a local locker. Select Prime customers will soon be given the option to have their goods delivered to the boot, or trunk, of their car without needing to be near the vehicle. The delivery driver is then given temporary keyless access to the car to drop off the items at any time of the day. Select Amazon Prime customers will soon be given the option to have their goods delivered to the boot, or trunk, of their car without needing to be near the vehicle. The pilot scheme is launching in Munich next month and Amazon has teamed up with Audi and DHL to run the initiative . The pilot scheme is launching in Munich next month and Amazon has teamed up with Audi and DHL to run the initiative. During the checkout process, Prime customers selected for the trial will be given the option to pinpoint the location of their car on a map under delivery options. The pilot scheme is launching in Munich next month and Amazon has teamed up with Audi and DHL to run the initiative. During the checkout process, Prime customers selected for the trial will be given the option to pinpoint the location of their car on a map in delivery options. Once ordered, a DHL delivery driver will receive a temporary digital access code. As soon as the boot is closed the vehicle is locked automatically, and the code is revoked. Amazon said the vehicle can be parked anywhere  a delivery driver can access, including public car parks, but not gated properties. Once ordered, a DHL delivery driver will receive a temporary digital access code. This code gives the driver keyless access to the boot of the car up until the delivery is made. As soon as the boot is closed the vehicle is locked automatically, and the code is revoked. Amazon said the vehicle can be parked anywhere  a delivery driver can access, including public car parks, but not gated properties. It said it is also looking into ways to extend the service to other Prime members with different vehicles in different regions. 'We are working to offer Prime members a delivery location that is always available and convenient: the trunk of their car,' explained Michael Pasch, European director of Amazon Prime. 'This innovation makes shopping at Amazon even easier and more flexible. It gives customers another way to receive their orders.' He continued that the test partners will 'take all possible security issues very seriously' and are working together to develop ways to make sure cars can't be stolen or damaged. At the checkout, Prime customers selected for the trial will be given the option to pinpoint the location of their car on a map in delivery options. Once ordered, a DHL delivery driver will receive a temporary digital access code. As soon as the boot is closed the vehicle is locked automatically, and the code is revoked . Amazon is also planning to launch a drone delivery service in the UK, and already offers drop-offs to be made in Amazon Lockers. These lockers (example pictured) can be installed in various locations. Once a delivery is made a customer uses touchscreens to enter their order details securely and unlock the relevant locker . Amazon is also planning to launch a drone delivery service in the UK, and already offers drop-offs to be made in Amazon Lockers. These lockers can be installed in various locations and shops within a town or city worldwide. Once a delivery is made a customer uses touchscreens to enter their order details securely and unlock the relevant locker.   \n",
              "\n",
              "                                                                                                                                                                                                                                                                                                                                                                                                                                                                                                                                                summary  \\\n",
              "0                                                                                                                                   An elderly man was forced to kneel in the street by an angry woman in China who demanded he pay compensation for her damaged phone, which he accidentally knocked out of her hand. Despite the man promising to pay her back and not having the means to do so, the woman berated him in front of witnesses and slapped him twice. The incident was filmed by a witness and has gone viral on Chinese social media.   \n",
              "1                                Bethune-Cookman University is investigating whether the death of 22-year-old student Damian Parks, who drowned in Daytona Beach while swimming with friends, was hazing-related. Parks and the other students he was with were part of a step team called Melodic Stepping Experience, which was formed last year. While Parks’ friends have said that there was no foul play or hazing involved, the university is investigating the death, following rumors suggesting hazing may have played a part in his death.\\n   \n",
              "2                                                                    The Variety Theater in Cleveland, once a buzzing music venue, was closed down 30 years ago after the ceiling cracked during a Motorhead gig in 1984. The venue was renowned for hosting bands including Metallica, the Dead Kennedys, and REM before the fatal performance of Motorhead. Plans to regenerate the building, including turning the theater section into a music venue once more, have been given a new lease of life by The Friends of the Historic Variety Theater.   \n",
              "3                                                                                                                                                                                   Len McCluskey, Unite's General Secretary, has claimed that trade unions \"own\" the Labour Party and its policies. His comments, made in an article in Unite magazine, came shortly after Alex Salmond claimed he would be writing Labour's post-election budget. Last week, Unite gave Labour over £730,000, whilst health worker's union Unison gave over £300,000.   \n",
              "4  Amazon is launching a pilot scheme in Munich in partnership with Audi and DHL that will allow select Prime customers to have their packages delivered to their car's trunk without being present. The scheme is a bid to bring convenience to customers and introduce an alternative option to home or office deliveries. When the service goes live, users will be able to pinpoint their car's location on a map during the checkout process and receive a temporary digital access code that will give delivery drivers access to the car's boot.   \n",
              "\n",
              "                                                                                                                                                                                                                                                                                                                                                                                                                                                                                                                                                                                                                                               reference_summary  \\\n",
              "0                                                                                                                                                                                                                                                                                                                                                                                       Man on moped knocked woman's phone out of her hand in China .\\nThe screen cracks and she demands he pays for the damages .\\nWhen he says that he has no money right now, she makes him kneel .\\nDespite promising to pay eventually, she slaps the man across the face .   \n",
              "1  Bethune-Cookman University student Damian Parks, 22, drowned on Sunday .\\nHe and four friends had gone swimming in Daytona Beach at 3am after bar-hopping, Volusia County Beach Safety Ocean Rescue said .\\nStrong currents pulled Parks out to sea and his body was found on Monday .\\nFriends who were with him said there 'was no foul play at all' and that Parks had not been drinking nor was he impaired in any way .\\nThe five students were part of a step team called Melodic Stepping Experience, which formed last year .\\nParks' mother Carolyn Parks, who lost another son, aged 16, six months ago, said that her son was not a good swimmer .   \n",
              "2                                                                                                                                                                               Cleveland's Variety Theater was a renowned rock venue that hosted the likes of Metallica, REM and Dead Kennedy's .\\nBut as metal band Motorhead performed in 1984, the ceiling cracked and plaster began to fall on to the audience .\\nThe gig was stopped and the theater was sealed off two years later - staying hidden from the public for 30 years .\\nNow a photojournalist has ventured into the building, capturing eery photos that offer a glimpse into music history .   \n",
              "3                                                                                                                                                                                                                                                                                                                                                                 Unite boss Len McCluskey told members that Unions created Labour .\\nHe urged members to 'take back our country' and 'bring back decency'\\nLast week his union pumped a further £1 million into the Labour Party .\\nMore than half of Labour candidates in winnable seats are backed by Unite .   \n",
              "4                                                                                                                                                                                                                                                                                               Pilot begins in May for  Prime customers who drive Audis in Germany .\\nAt the checkout, a customer pinpoints the location of their car .\\nA DHL delivery driver will then receive a temporary digital access code .\\nThis code gives the driver keyless access to the boot and as soon as it is closed the vehicle locks automatically and the code is revoked .   \n",
              "\n",
              "   user_feedback  \n",
              "0           True  \n",
              "1           True  \n",
              "2           True  \n",
              "3           True  \n",
              "4          False  "
            ],
            "text/html": [
              "\n",
              "  <div id=\"df-959c1243-e801-4396-9faa-cd153170d628\" class=\"colab-df-container\">\n",
              "    <div>\n",
              "<style scoped>\n",
              "    .dataframe tbody tr th:only-of-type {\n",
              "        vertical-align: middle;\n",
              "    }\n",
              "\n",
              "    .dataframe tbody tr th {\n",
              "        vertical-align: top;\n",
              "    }\n",
              "\n",
              "    .dataframe thead th {\n",
              "        text-align: right;\n",
              "    }\n",
              "</style>\n",
              "<table border=\"1\" class=\"dataframe\">\n",
              "  <thead>\n",
              "    <tr style=\"text-align: right;\">\n",
              "      <th></th>\n",
              "      <th>document</th>\n",
              "      <th>summary</th>\n",
              "      <th>reference_summary</th>\n",
              "      <th>user_feedback</th>\n",
              "    </tr>\n",
              "  </thead>\n",
              "  <tbody>\n",
              "    <tr>\n",
              "      <th>0</th>\n",
              "      <td>This is the moment when an angry woman forced an elderly man to kneel in the street after he accidentally knocked her phone out of her hand. The video, filmed at an undisclosed location in China, sees the woman demand that the man pays compensation for her damaged phone as she slaps him in the middle of a busy road. Despite the elderly man promising to pay her back once he has the means to do so, she continues to berate him in front of witnesses, the People's Daily Online reports. Scroll down for video . Street attack: The shocking video was filmed after the elderly man knocked the woman's phone out of her hand, causing the screen to break . The shocking exchange was filmed by a witness and it had since gone viral on Chinese social media. The woman had allegedly been taking pictures of her children with her new iPhone 6 plus when the old man passed through on his moped. He accidentally bumped into the woman’s shoulder and her phone fell on the ground, and the screen cracked, the newspaper reports. The woman demanded the old man to compensate for repairing her phone, which he promised to do, but adding that it would have to wait as he did not have the money there and then. ‘The old man’s voice was trembling and he had tears in his eyes,’ a witnesses said, describing how the woman called four friends to the scene. Abuse: After being told that the man does not have the money to pay her back straight away, she is seen slapping him twice in the street . In the clip, the woman can be heard demanding that he pays her on the spot, despite his assurance that she will be compensated eventually . ‘The young woman’s friends hit the old man’s hat constantly and discussed whether they should really hit him,’the witness said. After a long verbal argument between the young woman and the old man, she is said to have demanded: ‘Kneel down for apology, then I will forget the money!’ The old man allegedly came off his moped, falling over as he kneeled down. 'His disability became apparent to the crowd but the young woman’s action became more infuriating,' a witness said. ‘The young lady just stood in front of the old man and slapped him twice.' In the clip, the woman can be heard demanding that he pays her on the spot, despite his assurance that she will be compensated eventually. Although no one called the police, the authority has investigated further after the clip went online. A user, posting under the username ‘The girl who sells tea eggs’, wrote: It was the old man’s fault that he bumped into the young woman but this is definitely not a reason to slap someone. 'The old man has to pay a compensation for sure but they could have called the police to settle the matter. If you stand in the old man’s shoes, you would be very angry as well. How can one compare the value of a phone and the old man’s dignity? How can people be so cold-hearted? The young woman has been called to report at the police station.</td>\n",
              "      <td>An elderly man was forced to kneel in the street by an angry woman in China who demanded he pay compensation for her damaged phone, which he accidentally knocked out of her hand. Despite the man promising to pay her back and not having the means to do so, the woman berated him in front of witnesses and slapped him twice. The incident was filmed by a witness and has gone viral on Chinese social media.</td>\n",
              "      <td>Man on moped knocked woman's phone out of her hand in China .\\nThe screen cracks and she demands he pays for the damages .\\nWhen he says that he has no money right now, she makes him kneel .\\nDespite promising to pay eventually, she slaps the man across the face .</td>\n",
              "      <td>True</td>\n",
              "    </tr>\n",
              "    <tr>\n",
              "      <th>1</th>\n",
              "      <td>A Florida university is investigating the death of a student who drowned in Daytona Beach to determine whether or not hazing was involved. Bethune-Cookman University student Damian Parks, 22, was reported missing after going swimming with student s at 3am on Sunday and students who were with him said strong currents pulled Parks out to sea. His body was found Monday morning. Students who were with Parks, who were all part of a step team called Melodic Stepping Experience, which formed last year, said no hazing was involved. Bethune-Cookman University student Damian Parks, 22, drowned in Daytona Beach on Sunday after going for a swim with friends at 3am. He was pulled out to see by a strong current and his body was later found on Monday morning . But Bethune-Cookman University is investigating Parks death after university administration 'heard rumors' that hazing was involved. Parks and the men he was swimming with were part of a step team called Melodic Stepping Experience, which formed last year . A Bethune-Cookman spokeswoman Keisha Boyd said that the university administration had 'heard rumors' about hazing and that Volusia County Beach Safety Ocean Rescue is investigating the student's death, according to the Daytona Beach News-Journal. Parks' mother, Carolyn Parks, said she didn't know why her son would decide to swim in the ocean. 'I don't know why it happened, why he would go into the water like this, because he is not a good swimmer,' she told WESH 2. 'And I had talked to him just before he came out here and he told me he was tired and was going to rest, not knowing he was going to come out here to the beach.' Damian Parks is the second son Carolyn Parks has had to mourn in recent months. Her 16-year-old son died in Miami six months ago. Parks was with four other men in about 5ft of water near Sun Splash Park when he lost grip of a friend's clothing and a the current pulled him out to sea, according to a U.S. Coast Guard report. Parks' friends said that there was 'no foul play at all' and that is was not hazing. They added that the group was 'having fun' and that Parks had not been drinking before the incident . Uamil Turner, who was at the beach, said 'it wasn't hazing', and he was unsure where the rumor came from. Marquise Nelson, who was also at the beach with Parks, said that there 'was no foul play at all'. 'Damian didn't do anything he didn't want to do, and everyone knew that,' Nelson told the News-Journal. 'Everyone was having fun.' Parks friends said that the student had not been drinking the night he drowned nor was he impaired in any way. Deputy Chief Ray Manchester of Volusia County Beach Safety Ocean Rescue said there's no sign of hazing in the incident and that the men had, however, been out bar-hopping before going for a swim. He added that he believed 'they may have been drinking' and that the ocean was rough when the men entered the water. Students and staff at Bethune-Cookman University mourned Parks' death during a prayer vigil held on Monday after the student's body was found . The university said that though the investigation is ongoing, it still wants to celebrate Parks' life and support his family 'in this most difficult time' The university is investigating into hazing, while Volusia County Beach Safety Ocean Rescue is assisting with toxicology and witness statements, Manchester said. Bethune-Cookman spokeswoman Boyd said that though the investigation was ongoing, the university is still celebrating Parks' life. 'Once any additional information is provided by the Beach Patrol, the University will issue another statement. While information regarding the events of April 20th are continuing to surface, we ask that the public join B-CU in supporting the Parks family in this most difficult time,' she said. The university held a prayer vigil on Monday, in which University President Edison Jackson planted a tree in Parks' memory. Students at the vigil said that Parks 'never stopped laughing' and was both talented and artistic. During Monday's vigil, University President Edison planted a tree in Parks' memory. More than 100 people appeared to have shown up for Monday's vigil .</td>\n",
              "      <td>Bethune-Cookman University is investigating whether the death of 22-year-old student Damian Parks, who drowned in Daytona Beach while swimming with friends, was hazing-related. Parks and the other students he was with were part of a step team called Melodic Stepping Experience, which was formed last year. While Parks’ friends have said that there was no foul play or hazing involved, the university is investigating the death, following rumors suggesting hazing may have played a part in his death.\\n</td>\n",
              "      <td>Bethune-Cookman University student Damian Parks, 22, drowned on Sunday .\\nHe and four friends had gone swimming in Daytona Beach at 3am after bar-hopping, Volusia County Beach Safety Ocean Rescue said .\\nStrong currents pulled Parks out to sea and his body was found on Monday .\\nFriends who were with him said there 'was no foul play at all' and that Parks had not been drinking nor was he impaired in any way .\\nThe five students were part of a step team called Melodic Stepping Experience, which formed last year .\\nParks' mother Carolyn Parks, who lost another son, aged 16, six months ago, said that her son was not a good swimmer .</td>\n",
              "      <td>True</td>\n",
              "    </tr>\n",
              "    <tr>\n",
              "      <th>2</th>\n",
              "      <td>It was once the edgiest place in town, attracting the word's biggest bands to its iconic stage - but 30 years later Cleveland's Variety Theater is silent. The venue was renowned for its rock concerts but everything changed in 1984 when heavy metal band Motorhead played a gig so loud it literally began to bring the house down. As the crowd went wild over the group's unique ear-shattering brand of music, the ceiling cracked and pieces of plaster began to fall on the audience - ending the concert and the life of the Variety Theater in one deafening shriek. Abandoned for 30 years: The Variety Theater in Cleveland was once a buzzing music venue but was closed down after the ceiling cracked during a Motorhead gig in 1984 . The power was cut off to stop the band from playing and two years later a judge ordered the theater to be sealed off for good. Built in 1927, The Variety Theater was home to one of the earliest single screen cinemas in Cleveland, Ohio, before becoming an iconic music venue. The 20,000 sq ft main stage hosted the likes of  Metallica, the Dead Kennedy's and R.E.M. before Motorhead's fatal performance on December 2 1984. Since then it has stayed abandoned and hidden from public eye until now, thirty years later, a photographer has captured a collection of eery images offering a fascinating glimpse into music history. Seph Lawless, the 37-year-old photojournalist from Cleveland who took these incredible pictures, said: 'I'm Cleveland born and raised and I've always been into rock and roll. 'This theater has gone down in folklore in my hometown and it always had that air of mystery when we were kids growing up. Crumbling and rotting remains: The once-iconic Ohio venue was sealed off on the order of a judge in 1986, two years after Motorhead's gig . 'It was really inspiring to go in and photograph the theater, it's something I've always wanted to do and at times it actually felt like I was stepping back in time. 'I love rock and roll music so it was just incredible, it was like a time capsule to that era and that all the bands who performed there were captured in the fabric of the building.' Seph is a photojournalist specialising in nostalgic pictures. He recently completed a trip around the United States where he took photographs of abandoned or neglected buildings in every state. Due to the efforts of The Friends of the Historic Variety Theater, an organization that owns the huge building, a scheme to regenerate the venue have been given a new lease of life. The group is said to have plans to spruce up the theater section of the building, turning it into a music venue once more. Slow decay of time: Many of the theater's wooden seats have fallen into disrepair while the staircase shows the effects of years of decay . Renowned venue: Before its closure, the theater hosted concerts from bands including Metallica, the Dead Kennedy's and R.E.M. Hidden from view: The stunning pictures were taken by 37-year-old photojournalist Seph Lawless, who has lived in Cleveland all his life . Silent halls: The walls are cracked and chipped and the tiles on the floor have rotted after three decades of abandonment . Ruled to be unsafe: The venue was closed after the ceiling cracked and pieces of plaster began to fall on the audience during a 1984 gig . Open for half a century: Built in 1927, The Variety Theater was home to one of the earliest single screen cinemas in Cleveland, Ohio, before becoming an iconic music venue . Regeneration: The Friends of the Historic Variety Theater have plans to spruce up the theater section of the building and rent out the structure’s eight retail store-fronts . Dated equipment: Most of the building's machinery has been languishing for years since the venue's unfortunate closure . 1920s-style décor: The theater had kept its vintage style for decades and left everything untouched when it was sealed up in 1986 . Enticing: Mr Lawless said the theater 'has gone down in folklore' in Cleveland and always 'had that air of mystery' to it when he was a child . Fatal concert: During Motorhead's 1984 gig, the power was cut off to stop the band from playing and two years later the venue was cosed . A glimpse of the past: A peek through a broken piece of wall reveals the lit up stage of the Variety Theater in dramatic fashion . Fascinating history: There are now plans to restore the decaying building to a live music venue . Coated in dust: Mr Lawless is a photojournalist specialising in nostalgic pictures. He recently completed a trip around the United States where he took photographs of abandoned or neglected buildings in every state .</td>\n",
              "      <td>The Variety Theater in Cleveland, once a buzzing music venue, was closed down 30 years ago after the ceiling cracked during a Motorhead gig in 1984. The venue was renowned for hosting bands including Metallica, the Dead Kennedys, and REM before the fatal performance of Motorhead. Plans to regenerate the building, including turning the theater section into a music venue once more, have been given a new lease of life by The Friends of the Historic Variety Theater.</td>\n",
              "      <td>Cleveland's Variety Theater was a renowned rock venue that hosted the likes of Metallica, REM and Dead Kennedy's .\\nBut as metal band Motorhead performed in 1984, the ceiling cracked and plaster began to fall on to the audience .\\nThe gig was stopped and the theater was sealed off two years later - staying hidden from the public for 30 years .\\nNow a photojournalist has ventured into the building, capturing eery photos that offer a glimpse into music history .</td>\n",
              "      <td>True</td>\n",
              "    </tr>\n",
              "    <tr>\n",
              "      <th>3</th>\n",
              "      <td>Unite baron Len McCluskey has boasted that trade unions ‘own’ the Labour party and its policies. ‘The Labour Party is our party. We built it, to serve us’, he declared and went on to say: ‘These are our policies…they are now within our grasp.’ The boast comes only 24 hours after Alex Salmond bragged that he would be writing Labour’s budget. The arrogant claim by the former Scottish first minister, who is running as an SNP candidate, was featured on the front page of yesterday’s Mail. Unite boss Len McCluskey, pictured, boasted that the trade union movement 'owns' the Labour Party . The intervention of Mr McCluskey, so soon after Mr Salmond’s mocking remarks, is another humiliation for Ed Miliband. It comes in a foreword to Unite’s magazine. Mr McCluskey urges his members to ‘take back our country’ and ‘restore decency, dignity and justice’. He says: ‘The Labour party is our party. We built it, to serve us, the people. Never forget, the rich and powerful have their party, the Tories. And Ukip is no friend – they are frauds, charlatans who will roll back every advance won by working people. ‘One May 7, we can vote for a government that will build homes, give our kids hope, save our NHS and attack the evil of zero hours, hire and fire working. ‘These are our policies. These are the changes that you have been fighting for these five long years. They are now within our grasp.’ He goes on to warn: ‘Do not for a moment forget this: should Cameron and his cronies win on May 7, they will change our nation forever – but not for better. ‘Cuts that will take us back to the darkest days of the 1930s. Attacks on unions will place us in chains so we cannot defend you, our members.’ The article is Mr McCluskey’s first major intervention in the election campaign. Trade unions gave Labour £737,948 out of the £1.1million the party raised this week – the second week of the election campaign. This is the equivalent of £1.22 every second from trade union. Unite gave £112,000 according to official figures published by the Electoral Commission. But this was dwarfed by health workers’ union Unison’s £311,875 and the Union of Shop, Distributive and Allied Workers’ £300,481. However, last week Unite gave Labour £1million and has provided £14.4million since Mr Miliband won the Labour leadership. He was a surprise victor in the 2010 leadership election thanks largely to the support of the unions. The Labour leader was even serenaded by Unite’s brass band at a rally in Yorkshire yesterday. Labour's deputy leader Harriet Harman, right, is a fully paid up member of the Unite trade union . Other Unite members looking for a seat in cabinet are Andy Burnham, pictured, and Chuka Umunna . Reflecting Unite’s own programme, the party plans to ban zero hours contracts, impose rent controls, raise the minimum wage, scrap job tribunal fees and part-renationalise the railways. Earlier this week it emerged that more than half of Labour candidates in winnable seats are sponsored by Unite. Unite has also called on Labour to restore the 50p top rate of tax, ditch the so-called bedroom tax, or spare room subsidy, end all austerity measures and increase borrowing. Mr McCluskey, a former dock worker who has clawed himself up to the top of the super-union, threatened to axe funding to Labour unless it adopted his socialist policies. Of the 106 target constituencies, Unite has endorsed or partly bankrolled 54 of the contenders. Harriet Harman, Andy Burnham and former banker Chuka Umunna are paid up members of Unite. Labour also received a £300,000 boost from Allamhouse Limited, a company owned by Egyptian tycoon Aseem Allam, who is worth a reputed £300million. Mr Allam, owner of the premier Hull City football club, said he was ‘not necessarily’ voting Labour but had donated to the party to reduce its reliance on the trade unions. He said: ‘I like Ed Miliband, he is an honest politician. He means every word he says. I just don’t like what the words he is saying.’ He added that politicians, in particular Labour, ‘should stop talking about the gap between rich and poor. If the gap becomes too small then you will have communism. The only way to lift the standard of living is to create more rich people. Otherwise you make everybody poor.’ He recently praised David Cameron and said the Conservatives had the ‘best’ economic plan. A Labour Party spokesman said: ‘We are grateful to all those who donate to the Labour Party. He added: ‘Unlike the Conservatives who increasingly rely on the money of hedge funds and an exclusive group of super rich donors… Labour is proud to be supported by millions of teachers, nurses, builders, plumbers, supermarket workers and many others.’ The Conservatives received money from 17 donors, of which 14 were individuals – accounting for £460,000 of the £492,512. Among them was Brevan Howard Asset Management hedge fund founder Christopher Rokos, who gave £170,000.</td>\n",
              "      <td>Len McCluskey, Unite's General Secretary, has claimed that trade unions \"own\" the Labour Party and its policies. His comments, made in an article in Unite magazine, came shortly after Alex Salmond claimed he would be writing Labour's post-election budget. Last week, Unite gave Labour over £730,000, whilst health worker's union Unison gave over £300,000.</td>\n",
              "      <td>Unite boss Len McCluskey told members that Unions created Labour .\\nHe urged members to 'take back our country' and 'bring back decency'\\nLast week his union pumped a further £1 million into the Labour Party .\\nMore than half of Labour candidates in winnable seats are backed by Unite .</td>\n",
              "      <td>True</td>\n",
              "    </tr>\n",
              "    <tr>\n",
              "      <th>4</th>\n",
              "      <td>Amazon is trialling a  scheme that could spell the end of waiting in for deliveries or collecting your parcels from a local locker. Select Prime customers will soon be given the option to have their goods delivered to the boot, or trunk, of their car without needing to be near the vehicle. The delivery driver is then given temporary keyless access to the car to drop off the items at any time of the day. Select Amazon Prime customers will soon be given the option to have their goods delivered to the boot, or trunk, of their car without needing to be near the vehicle. The pilot scheme is launching in Munich next month and Amazon has teamed up with Audi and DHL to run the initiative . The pilot scheme is launching in Munich next month and Amazon has teamed up with Audi and DHL to run the initiative. During the checkout process, Prime customers selected for the trial will be given the option to pinpoint the location of their car on a map under delivery options. The pilot scheme is launching in Munich next month and Amazon has teamed up with Audi and DHL to run the initiative. During the checkout process, Prime customers selected for the trial will be given the option to pinpoint the location of their car on a map in delivery options. Once ordered, a DHL delivery driver will receive a temporary digital access code. As soon as the boot is closed the vehicle is locked automatically, and the code is revoked. Amazon said the vehicle can be parked anywhere  a delivery driver can access, including public car parks, but not gated properties. Once ordered, a DHL delivery driver will receive a temporary digital access code. This code gives the driver keyless access to the boot of the car up until the delivery is made. As soon as the boot is closed the vehicle is locked automatically, and the code is revoked. Amazon said the vehicle can be parked anywhere  a delivery driver can access, including public car parks, but not gated properties. It said it is also looking into ways to extend the service to other Prime members with different vehicles in different regions. 'We are working to offer Prime members a delivery location that is always available and convenient: the trunk of their car,' explained Michael Pasch, European director of Amazon Prime. 'This innovation makes shopping at Amazon even easier and more flexible. It gives customers another way to receive their orders.' He continued that the test partners will 'take all possible security issues very seriously' and are working together to develop ways to make sure cars can't be stolen or damaged. At the checkout, Prime customers selected for the trial will be given the option to pinpoint the location of their car on a map in delivery options. Once ordered, a DHL delivery driver will receive a temporary digital access code. As soon as the boot is closed the vehicle is locked automatically, and the code is revoked . Amazon is also planning to launch a drone delivery service in the UK, and already offers drop-offs to be made in Amazon Lockers. These lockers (example pictured) can be installed in various locations. Once a delivery is made a customer uses touchscreens to enter their order details securely and unlock the relevant locker . Amazon is also planning to launch a drone delivery service in the UK, and already offers drop-offs to be made in Amazon Lockers. These lockers can be installed in various locations and shops within a town or city worldwide. Once a delivery is made a customer uses touchscreens to enter their order details securely and unlock the relevant locker.</td>\n",
              "      <td>Amazon is launching a pilot scheme in Munich in partnership with Audi and DHL that will allow select Prime customers to have their packages delivered to their car's trunk without being present. The scheme is a bid to bring convenience to customers and introduce an alternative option to home or office deliveries. When the service goes live, users will be able to pinpoint their car's location on a map during the checkout process and receive a temporary digital access code that will give delivery drivers access to the car's boot.</td>\n",
              "      <td>Pilot begins in May for  Prime customers who drive Audis in Germany .\\nAt the checkout, a customer pinpoints the location of their car .\\nA DHL delivery driver will then receive a temporary digital access code .\\nThis code gives the driver keyless access to the boot and as soon as it is closed the vehicle locks automatically and the code is revoked .</td>\n",
              "      <td>False</td>\n",
              "    </tr>\n",
              "  </tbody>\n",
              "</table>\n",
              "</div>\n",
              "    <div class=\"colab-df-buttons\">\n",
              "\n",
              "  <div class=\"colab-df-container\">\n",
              "    <button class=\"colab-df-convert\" onclick=\"convertToInteractive('df-959c1243-e801-4396-9faa-cd153170d628')\"\n",
              "            title=\"Convert this dataframe to an interactive table.\"\n",
              "            style=\"display:none;\">\n",
              "\n",
              "  <svg xmlns=\"http://www.w3.org/2000/svg\" height=\"24px\" viewBox=\"0 -960 960 960\">\n",
              "    <path d=\"M120-120v-720h720v720H120Zm60-500h600v-160H180v160Zm220 220h160v-160H400v160Zm0 220h160v-160H400v160ZM180-400h160v-160H180v160Zm440 0h160v-160H620v160ZM180-180h160v-160H180v160Zm440 0h160v-160H620v160Z\"/>\n",
              "  </svg>\n",
              "    </button>\n",
              "\n",
              "  <style>\n",
              "    .colab-df-container {\n",
              "      display:flex;\n",
              "      gap: 12px;\n",
              "    }\n",
              "\n",
              "    .colab-df-convert {\n",
              "      background-color: #E8F0FE;\n",
              "      border: none;\n",
              "      border-radius: 50%;\n",
              "      cursor: pointer;\n",
              "      display: none;\n",
              "      fill: #1967D2;\n",
              "      height: 32px;\n",
              "      padding: 0 0 0 0;\n",
              "      width: 32px;\n",
              "    }\n",
              "\n",
              "    .colab-df-convert:hover {\n",
              "      background-color: #E2EBFA;\n",
              "      box-shadow: 0px 1px 2px rgba(60, 64, 67, 0.3), 0px 1px 3px 1px rgba(60, 64, 67, 0.15);\n",
              "      fill: #174EA6;\n",
              "    }\n",
              "\n",
              "    .colab-df-buttons div {\n",
              "      margin-bottom: 4px;\n",
              "    }\n",
              "\n",
              "    [theme=dark] .colab-df-convert {\n",
              "      background-color: #3B4455;\n",
              "      fill: #D2E3FC;\n",
              "    }\n",
              "\n",
              "    [theme=dark] .colab-df-convert:hover {\n",
              "      background-color: #434B5C;\n",
              "      box-shadow: 0px 1px 3px 1px rgba(0, 0, 0, 0.15);\n",
              "      filter: drop-shadow(0px 1px 2px rgba(0, 0, 0, 0.3));\n",
              "      fill: #FFFFFF;\n",
              "    }\n",
              "  </style>\n",
              "\n",
              "    <script>\n",
              "      const buttonEl =\n",
              "        document.querySelector('#df-959c1243-e801-4396-9faa-cd153170d628 button.colab-df-convert');\n",
              "      buttonEl.style.display =\n",
              "        google.colab.kernel.accessAllowed ? 'block' : 'none';\n",
              "\n",
              "      async function convertToInteractive(key) {\n",
              "        const element = document.querySelector('#df-959c1243-e801-4396-9faa-cd153170d628');\n",
              "        const dataTable =\n",
              "          await google.colab.kernel.invokeFunction('convertToInteractive',\n",
              "                                                    [key], {});\n",
              "        if (!dataTable) return;\n",
              "\n",
              "        const docLinkHtml = 'Like what you see? Visit the ' +\n",
              "          '<a target=\"_blank\" href=https://colab.research.google.com/notebooks/data_table.ipynb>data table notebook</a>'\n",
              "          + ' to learn more about interactive tables.';\n",
              "        element.innerHTML = '';\n",
              "        dataTable['output_type'] = 'display_data';\n",
              "        await google.colab.output.renderOutput(dataTable, element);\n",
              "        const docLink = document.createElement('div');\n",
              "        docLink.innerHTML = docLinkHtml;\n",
              "        element.appendChild(docLink);\n",
              "      }\n",
              "    </script>\n",
              "  </div>\n",
              "\n",
              "\n",
              "<div id=\"df-0245eced-4f7a-4350-9fec-5aa54507ccc0\">\n",
              "  <button class=\"colab-df-quickchart\" onclick=\"quickchart('df-0245eced-4f7a-4350-9fec-5aa54507ccc0')\"\n",
              "            title=\"Suggest charts.\"\n",
              "            style=\"display:none;\">\n",
              "\n",
              "<svg xmlns=\"http://www.w3.org/2000/svg\" height=\"24px\"viewBox=\"0 0 24 24\"\n",
              "     width=\"24px\">\n",
              "    <g>\n",
              "        <path d=\"M19 3H5c-1.1 0-2 .9-2 2v14c0 1.1.9 2 2 2h14c1.1 0 2-.9 2-2V5c0-1.1-.9-2-2-2zM9 17H7v-7h2v7zm4 0h-2V7h2v10zm4 0h-2v-4h2v4z\"/>\n",
              "    </g>\n",
              "</svg>\n",
              "  </button>\n",
              "\n",
              "<style>\n",
              "  .colab-df-quickchart {\n",
              "      --bg-color: #E8F0FE;\n",
              "      --fill-color: #1967D2;\n",
              "      --hover-bg-color: #E2EBFA;\n",
              "      --hover-fill-color: #174EA6;\n",
              "      --disabled-fill-color: #AAA;\n",
              "      --disabled-bg-color: #DDD;\n",
              "  }\n",
              "\n",
              "  [theme=dark] .colab-df-quickchart {\n",
              "      --bg-color: #3B4455;\n",
              "      --fill-color: #D2E3FC;\n",
              "      --hover-bg-color: #434B5C;\n",
              "      --hover-fill-color: #FFFFFF;\n",
              "      --disabled-bg-color: #3B4455;\n",
              "      --disabled-fill-color: #666;\n",
              "  }\n",
              "\n",
              "  .colab-df-quickchart {\n",
              "    background-color: var(--bg-color);\n",
              "    border: none;\n",
              "    border-radius: 50%;\n",
              "    cursor: pointer;\n",
              "    display: none;\n",
              "    fill: var(--fill-color);\n",
              "    height: 32px;\n",
              "    padding: 0;\n",
              "    width: 32px;\n",
              "  }\n",
              "\n",
              "  .colab-df-quickchart:hover {\n",
              "    background-color: var(--hover-bg-color);\n",
              "    box-shadow: 0 1px 2px rgba(60, 64, 67, 0.3), 0 1px 3px 1px rgba(60, 64, 67, 0.15);\n",
              "    fill: var(--button-hover-fill-color);\n",
              "  }\n",
              "\n",
              "  .colab-df-quickchart-complete:disabled,\n",
              "  .colab-df-quickchart-complete:disabled:hover {\n",
              "    background-color: var(--disabled-bg-color);\n",
              "    fill: var(--disabled-fill-color);\n",
              "    box-shadow: none;\n",
              "  }\n",
              "\n",
              "  .colab-df-spinner {\n",
              "    border: 2px solid var(--fill-color);\n",
              "    border-color: transparent;\n",
              "    border-bottom-color: var(--fill-color);\n",
              "    animation:\n",
              "      spin 1s steps(1) infinite;\n",
              "  }\n",
              "\n",
              "  @keyframes spin {\n",
              "    0% {\n",
              "      border-color: transparent;\n",
              "      border-bottom-color: var(--fill-color);\n",
              "      border-left-color: var(--fill-color);\n",
              "    }\n",
              "    20% {\n",
              "      border-color: transparent;\n",
              "      border-left-color: var(--fill-color);\n",
              "      border-top-color: var(--fill-color);\n",
              "    }\n",
              "    30% {\n",
              "      border-color: transparent;\n",
              "      border-left-color: var(--fill-color);\n",
              "      border-top-color: var(--fill-color);\n",
              "      border-right-color: var(--fill-color);\n",
              "    }\n",
              "    40% {\n",
              "      border-color: transparent;\n",
              "      border-right-color: var(--fill-color);\n",
              "      border-top-color: var(--fill-color);\n",
              "    }\n",
              "    60% {\n",
              "      border-color: transparent;\n",
              "      border-right-color: var(--fill-color);\n",
              "    }\n",
              "    80% {\n",
              "      border-color: transparent;\n",
              "      border-right-color: var(--fill-color);\n",
              "      border-bottom-color: var(--fill-color);\n",
              "    }\n",
              "    90% {\n",
              "      border-color: transparent;\n",
              "      border-bottom-color: var(--fill-color);\n",
              "    }\n",
              "  }\n",
              "</style>\n",
              "\n",
              "  <script>\n",
              "    async function quickchart(key) {\n",
              "      const quickchartButtonEl =\n",
              "        document.querySelector('#' + key + ' button');\n",
              "      quickchartButtonEl.disabled = true;  // To prevent multiple clicks.\n",
              "      quickchartButtonEl.classList.add('colab-df-spinner');\n",
              "      try {\n",
              "        const charts = await google.colab.kernel.invokeFunction(\n",
              "            'suggestCharts', [key], {});\n",
              "      } catch (error) {\n",
              "        console.error('Error during call to suggestCharts:', error);\n",
              "      }\n",
              "      quickchartButtonEl.classList.remove('colab-df-spinner');\n",
              "      quickchartButtonEl.classList.add('colab-df-quickchart-complete');\n",
              "    }\n",
              "    (() => {\n",
              "      let quickchartButtonEl =\n",
              "        document.querySelector('#df-0245eced-4f7a-4350-9fec-5aa54507ccc0 button');\n",
              "      quickchartButtonEl.style.display =\n",
              "        google.colab.kernel.accessAllowed ? 'block' : 'none';\n",
              "    })();\n",
              "  </script>\n",
              "</div>\n",
              "    </div>\n",
              "  </div>\n"
            ]
          },
          "metadata": {},
          "execution_count": 4
        }
      ]
    },
    {
      "cell_type": "markdown",
      "metadata": {
        "id": "ATpY9ie39xrs"
      },
      "source": [
        "## Display Binary Summarization Classification Template\n",
        "\n",
        "View the default template used to classify summarizations. You can tweak this template and evaluate its performance relative to the default."
      ]
    },
    {
      "cell_type": "code",
      "source": [
        "print(templates.SUMMARIZATION_PROMPT_TEMPLATE_STR)"
      ],
      "metadata": {
        "colab": {
          "base_uri": "https://localhost:8080/"
        },
        "id": "VZCrTfwB6U6B",
        "outputId": "96db05d9-8856-4493-c843-53a832b783a7"
      },
      "execution_count": 5,
      "outputs": [
        {
          "output_type": "stream",
          "name": "stdout",
          "text": [
            "\n",
            "    You are comparing the summary text and it's original document and trying to determine\n",
            "    if the summary is good. Here is the data:\n",
            "    [BEGIN DATA]\n",
            "    ************\n",
            "    [Summary]: {summary}\n",
            "    ************\n",
            "    [Original Document]: {document}\n",
            "    [END DATA]\n",
            "    Compare the Summary above to the Original Document and determine if the Summary is\n",
            "    comprehensive, concise, coherent, and independent relative to the Original Document.\n",
            "    Your response must be a string, either Good or Bad, and should not contain any text\n",
            "    or characters aside from that. Bad means that the Summary is not comprehensive, concise,\n",
            "    coherent, and independent relative to the Original Document. Good means the Summary\n",
            "    is comprehensive, concise, coherent, and independent relative to the Original Document.\n",
            "\n"
          ]
        }
      ]
    },
    {
      "cell_type": "markdown",
      "source": [
        "Eval template variables:\n",
        "\n",
        "- **document** : The document text to summarize\n",
        "- **summary** : The summary of the document"
      ],
      "metadata": {
        "id": "IpILgwe2sKCE"
      }
    },
    {
      "cell_type": "markdown",
      "metadata": {
        "id": "JesVoO9L9xrt"
      },
      "source": [
        "## Configure the LLM\n",
        "\n",
        "Configure your OpenAI API key."
      ]
    },
    {
      "cell_type": "code",
      "execution_count": 7,
      "metadata": {
        "id": "4iDihpNk9xrt"
      },
      "outputs": [],
      "source": [
        "if not (openai_api_key := os.getenv(\"OPENAI_API_KEY\")):\n",
        "    openai_api_key = getpass(\"🔑 Enter your OpenAI API key: \")\n",
        "openai.api_key = openai_api_key\n",
        "os.environ[\"OPENAI_API_KEY\"] = openai_api_key"
      ]
    },
    {
      "cell_type": "markdown",
      "source": [
        "## Benchmark Dataset Sample\n",
        "Sample size determines run time\n",
        "Recommend iterating small: 100 samples\n",
        "Then increasing to large test set"
      ],
      "metadata": {
        "id": "_9W1wbXL6jil"
      }
    },
    {
      "cell_type": "code",
      "execution_count": 8,
      "metadata": {
        "id": "4eCAuwPQ9xru"
      },
      "outputs": [],
      "source": [
        "df_sample = df.sample(n=N_EVAL_SAMPLE_SIZE).reset_index(drop=True)"
      ]
    },
    {
      "cell_type": "markdown",
      "metadata": {
        "id": "mJ5A4W1V9xru"
      },
      "source": [
        "\n",
        "## LLM Evals: Summarization Evals Classifications GPT-4\n",
        "Run summarization classifications against a subset of the data."
      ]
    },
    {
      "cell_type": "markdown",
      "metadata": {
        "id": "SBgLhxE_9xrt"
      },
      "source": [
        "Instantiate the LLM and set parameters."
      ]
    },
    {
      "cell_type": "code",
      "execution_count": 9,
      "metadata": {
        "id": "3SEXSYDn9xrt"
      },
      "outputs": [],
      "source": [
        "model = OpenAIModel(\n",
        "    model_name=\"gpt-4\",\n",
        "    temperature=0.0,\n",
        ")"
      ]
    },
    {
      "cell_type": "code",
      "source": [
        "model(\"Hello world, this is a test if you are working?\")"
      ],
      "metadata": {
        "colab": {
          "base_uri": "https://localhost:8080/",
          "height": 53
        },
        "id": "m9jFS6yK6eFA",
        "outputId": "76cc7332-c9ff-4b38-c750-8d11c3990779"
      },
      "execution_count": 10,
      "outputs": [
        {
          "output_type": "stream",
          "name": "stderr",
          "text": [
            "100%|██████████| 1/1 [00:02<00:00,  2.11s/it]\n"
          ]
        },
        {
          "output_type": "execute_result",
          "data": {
            "text/plain": [
              "\"Hello! I'm working perfectly. How can I assist you today?\""
            ],
            "application/vnd.google.colaboratory.intrinsic+json": {
              "type": "string"
            }
          },
          "metadata": {},
          "execution_count": 10
        }
      ]
    },
    {
      "cell_type": "code",
      "execution_count": 11,
      "metadata": {
        "id": "MxsFA8Ec9xru",
        "colab": {
          "base_uri": "https://localhost:8080/"
        },
        "outputId": "baf0b792-e723-40d2-90fe-c56512b7d450"
      },
      "outputs": [
        {
          "output_type": "stream",
          "name": "stderr",
          "text": [
            "100%|██████████| 100/100 [05:21<00:00,  3.21s/it]\n"
          ]
        }
      ],
      "source": [
        "#The rails is used to hold the output to specific values based on the template\n",
        "#It will remove text such as \",,,\" or \"...\"\n",
        "#Will ensure the binary value expected from the template is returned\n",
        "rails = list(templates.SUMMARIZATION_PROMPT_RAILS_MAP.values())\n",
        "summarization_classifications = llm_eval_binary(\n",
        "    dataframe=df_sample,\n",
        "    template=templates.SUMMARIZATION_PROMPT_TEMPLATE_STR,\n",
        "    model=model,\n",
        "    rails=rails,\n",
        ")"
      ]
    },
    {
      "cell_type": "markdown",
      "metadata": {
        "id": "irYDAfmO9xru"
      },
      "source": [
        "\n",
        "Evaluate the predictions against human-labeled ground-truth summarization labels."
      ]
    },
    {
      "cell_type": "code",
      "execution_count": 12,
      "metadata": {
        "id": "tLes_3369xru",
        "colab": {
          "base_uri": "https://localhost:8080/",
          "height": 633
        },
        "outputId": "245d8eb0-ece3-4fef-a86f-ee162fc1fef1"
      },
      "outputs": [
        {
          "output_type": "stream",
          "name": "stdout",
          "text": [
            "              precision    recall  f1-score   support\n",
            "\n",
            "        Good       0.82      0.99      0.90        76\n",
            "         Bad       0.89      0.33      0.48        24\n",
            "\n",
            "    accuracy                           0.83       100\n",
            "   macro avg       0.86      0.66      0.69       100\n",
            "weighted avg       0.84      0.83      0.80       100\n",
            "\n"
          ]
        },
        {
          "output_type": "display_data",
          "data": {
            "text/plain": [
              "<Figure size 640x480 with 2 Axes>"
            ],
            "image/png": "[encoded data removed]"
          },
          "metadata": {}
        }
      ],
      "source": [
        "true_labels = df_sample[\"user_feedback\"].map(templates.SUMMARIZATION_PROMPT_RAILS_MAP).tolist()\n",
        "summarization_classifications= (\n",
        "    pd.Series(summarization_classifications).map(lambda x: \"unparseable\" if x is None else x).tolist()\n",
        ")\n",
        "print(classification_report(true_labels, summarization_classifications, labels=rails))\n",
        "confusion_matrix = ConfusionMatrix(\n",
        "    actual_vector=true_labels, predict_vector=summarization_classifications, classes=rails\n",
        ")\n",
        "confusion_matrix.plot(\n",
        "    cmap=plt.colormaps[\"Blues\"],\n",
        "    number_label=True,\n",
        "    normalized=True,\n",
        ");"
      ]
    },
    {
      "cell_type": "markdown",
      "source": [
        "\n",
        "## LLM Evals: Summarization Evals Classifications GPT-3.5\n",
        "Run summarization classifications against a subset of the data."
      ],
      "metadata": {
        "id": "sg6zYL6M84lP"
      }
    },
    {
      "cell_type": "code",
      "source": [
        "model = OpenAIModel(\n",
        "    model_name=\"gpt-3.5-turbo\",\n",
        "    temperature=0.0,\n",
        "    request_timeout=20\n",
        ")"
      ],
      "metadata": {
        "id": "487XX51184KU"
      },
      "execution_count": 13,
      "outputs": []
    },
    {
      "cell_type": "code",
      "source": [
        "\n",
        "rails = list(templates.SUMMARIZATION_PROMPT_RAILS_MAP.values())\n",
        "summarization_classifications = llm_eval_binary(\n",
        "    dataframe=df_sample,\n",
        "    template=templates.SUMMARIZATION_PROMPT_TEMPLATE_STR,\n",
        "    model=model,\n",
        "    rails=rails,\n",
        ")"
      ],
      "metadata": {
        "colab": {
          "base_uri": "https://localhost:8080/"
        },
        "id": "oKuZliSA9ABk",
        "outputId": "65d7f541-e1fd-4c6f-a26b-2a52a11c9d8e"
      },
      "execution_count": 14,
      "outputs": [
        {
          "output_type": "stream",
          "name": "stderr",
          "text": [
            "100%|██████████| 100/100 [00:37<00:00,  2.68it/s]\n"
          ]
        }
      ]
    },
    {
      "cell_type": "code",
      "source": [
        "true_labels = df_sample[\"user_feedback\"].map(templates.SUMMARIZATION_PROMPT_RAILS_MAP).tolist()\n",
        "summarization_classifications= (\n",
        "    pd.Series(summarization_classifications).map(lambda x: \"unparseable\" if x is None else x).tolist()\n",
        ")\n",
        "\n",
        "print(classification_report(true_labels, summarization_classifications, labels=rails))\n",
        "confusion_matrix = ConfusionMatrix(\n",
        "    actual_vector=true_labels, predict_vector=summarization_classifications, classes=rails\n",
        ")\n",
        "confusion_matrix.plot(\n",
        "    cmap=plt.colormaps[\"Blues\"],\n",
        "    number_label=True,\n",
        "    normalized=True,\n",
        ");"
      ],
      "metadata": {
        "colab": {
          "base_uri": "https://localhost:8080/",
          "height": 633
        },
        "id": "9NjjiF3w9CvF",
        "outputId": "44eb32a9-2e31-4f4b-df28-12c9499d1586"
      },
      "execution_count": 15,
      "outputs": [
        {
          "output_type": "stream",
          "name": "stdout",
          "text": [
            "              precision    recall  f1-score   support\n",
            "\n",
            "        Good       0.82      0.12      0.21        76\n",
            "         Bad       0.25      0.92      0.39        24\n",
            "\n",
            "    accuracy                           0.31       100\n",
            "   macro avg       0.53      0.52      0.30       100\n",
            "weighted avg       0.68      0.31      0.25       100\n",
            "\n"
          ]
        },
        {
          "output_type": "display_data",
          "data": {
            "text/plain": [
              "<Figure size 640x480 with 2 Axes>"
            ],
            "image/png": "[encoded data removed]"
          },
          "metadata": {}
        }
      ]
    }
  ],
  "metadata": {
    "language_info": {
      "name": "python"
    },
    "colab": {
      "provenance": []
    },
    "kernelspec": {
      "name": "python3",
      "display_name": "Python 3"
    }
  },
  "nbformat": 4,
  "nbformat_minor": 0
}