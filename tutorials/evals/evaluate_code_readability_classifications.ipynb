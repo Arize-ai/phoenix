{
 "cells": [
  {
   "cell_type": "markdown",
   "metadata": {},
   "source": [
    "<center>\n",
    "    <p style=\"text-align:center\">\n",
    "        <img alt=\"phoenix logo\" src=\"https://storage.googleapis.com/arize-assets/phoenix/assets/phoenix-logo-light.svg\" width=\"200\"/>\n",
    "        <br>\n",
    "        <a href=\"https://docs.arize.com/phoenix/\">Docs</a>\n",
    "        |\n",
    "        <a href=\"https://github.com/Arize-ai/phoenix\">GitHub</a>\n",
    "        |\n",
    "        <a href=\"https://join.slack.com/t/arize-ai/shared_invite/zt-1px8dcmlf-fmThhDFD_V_48oU7ALan4Q\">Community</a>\n",
    "    </p>\n",
    "</center>\n",
    "<h1 align=\"center\">Relevance Classification Evals</h1>\n",
    "\n",
    "Arize provides tooling to evaluate LLM applications, including tools to determine the relevance or irrelevance of documents retrieved by retrieval-augmented generation (RAG) applications. This relevance is then used to measure the quality of each retrieval using ranking metrics such as precision@k. In order to determine whether each retrieved document is relevant or irrelevant to the corresponding query, our approach is straightforward: ask an LLM.\n",
    "\n",
    "The purpose of this notebook is:\n",
    "\n",
    "- to evaluate the performance of an LLM-assisted approach to relevance classification against information retrieval datasets with ground-truth relevance labels,\n",
    "- to provide an experimental framework for users to iterate and improve on the default classification template.\n",
    "\n",
    "## Install Dependencies and Import Libraries"
   ]
  },
  {
   "cell_type": "code",
   "execution_count": null,
   "metadata": {},
   "outputs": [],
   "source": [
    "!pip install -qq \"arize-phoenix[experimental]==0.0.33rc6\" ipython matplotlib openai pycm scikit-learn"
   ]
  },
  {
   "cell_type": "code",
   "execution_count": 1,
   "metadata": {},
   "outputs": [],
   "source": [
    "import os\n",
    "from getpass import getpass\n",
    "\n",
    "import matplotlib.pyplot as plt\n",
    "import openai\n",
    "from phoenix.experimental.evals import (\n",
    "    RAG_RELEVANCY_PROMPT_RAILS,\n",
    "    CODE_READABILITY_PROMPT_TEMPLATE_STR,\n",
    "    OpenAiModel,\n",
    "    download_benchmark_dataset,\n",
    "    llm_eval_binary,\n",
    ")\n",
    "from pycm import ConfusionMatrix\n",
    "from sklearn.metrics import classification_report"
   ]
  },
  {
   "cell_type": "markdown",
   "metadata": {},
   "source": [
    "## Download Benchmark Dataset\n",
    "\n",
    "We'll evaluate the evaluation system consisting of an LLM model and settings in addition to an evaluation prompt template against benchmark datasets of queries and retrieved documents with ground-truth relevance labels. Currently supported datasets include:\n",
    "\n",
    "- \"wiki_qa-train\"\n",
    "- \"ms_marco-v1.1-train\"\n",
    "- \"code-readability-classification\"\n",
    "\n",
    "for the code-readability-classification dataset below, we'll randomly select either the \"canonical_solution\" or the \"unreadable_solution\" and set the \"ground_truth\" label to 1 if we selected the canonical solution and 0 if we selected the unreadable solution"
   ]
  },
  {
   "cell_type": "code",
   "execution_count": 7,
   "metadata": {},
   "outputs": [
    {
     "data": {
      "text/html": [
       "<div>\n",
       "<style scoped>\n",
       "    .dataframe tbody tr th:only-of-type {\n",
       "        vertical-align: middle;\n",
       "    }\n",
       "\n",
       "    .dataframe tbody tr th {\n",
       "        vertical-align: top;\n",
       "    }\n",
       "\n",
       "    .dataframe thead th {\n",
       "        text-align: right;\n",
       "    }\n",
       "</style>\n",
       "<table border=\"1\" class=\"dataframe\">\n",
       "  <thead>\n",
       "    <tr style=\"text-align: right;\">\n",
       "      <th></th>\n",
       "      <th>Unnamed: 0</th>\n",
       "      <th>task_id</th>\n",
       "      <th>prompt</th>\n",
       "      <th>canonical_solution</th>\n",
       "      <th>test</th>\n",
       "      <th>entry_point</th>\n",
       "      <th>readable</th>\n",
       "      <th>solution</th>\n",
       "    </tr>\n",
       "  </thead>\n",
       "  <tbody>\n",
       "    <tr>\n",
       "      <th>0</th>\n",
       "      <td>0</td>\n",
       "      <td>HumanEval/0</td>\n",
       "      <td>from typing import List\\n\\n\\ndef has_close_ele...</td>\n",
       "      <td>for idx, elem in enumerate(numbers):\\n    ...</td>\n",
       "      <td>\\n\\nMETADATA = {\\n    'author': 'jt',\\n    'da...</td>\n",
       "      <td>has_close_elements</td>\n",
       "      <td>True</td>\n",
       "      <td>for idx, elem in enumerate(numbers):\\n    ...</td>\n",
       "    </tr>\n",
       "    <tr>\n",
       "      <th>1</th>\n",
       "      <td>1</td>\n",
       "      <td>HumanEval/1</td>\n",
       "      <td>from typing import List\\n\\n\\ndef separate_pare...</td>\n",
       "      <td>result = []\\n    current_string = []\\n    ...</td>\n",
       "      <td>\\n\\nMETADATA = {\\n    'author': 'jt',\\n    'da...</td>\n",
       "      <td>separate_paren_groups</td>\n",
       "      <td>True</td>\n",
       "      <td>result = []\\n    current_string = []\\n    ...</td>\n",
       "    </tr>\n",
       "    <tr>\n",
       "      <th>2</th>\n",
       "      <td>2</td>\n",
       "      <td>HumanEval/2</td>\n",
       "      <td>\\n\\ndef truncate_number(number: float) -&gt; floa...</td>\n",
       "      <td>return number % 1.0\\n</td>\n",
       "      <td>\\n\\nMETADATA = {\\n    'author': 'jt',\\n    'da...</td>\n",
       "      <td>truncate_number</td>\n",
       "      <td>False</td>\n",
       "      <td>return((lambda x: (lambda y: y(x))(lambda f: (...</td>\n",
       "    </tr>\n",
       "    <tr>\n",
       "      <th>3</th>\n",
       "      <td>3</td>\n",
       "      <td>HumanEval/3</td>\n",
       "      <td>from typing import List\\n\\n\\ndef below_zero(op...</td>\n",
       "      <td>balance = 0\\n\\n    for op in operations:\\n...</td>\n",
       "      <td>\\n\\nMETADATA = {\\n    'author': 'jt',\\n    'da...</td>\n",
       "      <td>below_zero</td>\n",
       "      <td>True</td>\n",
       "      <td>balance = 0\\n\\n    for op in operations:\\n...</td>\n",
       "    </tr>\n",
       "    <tr>\n",
       "      <th>4</th>\n",
       "      <td>4</td>\n",
       "      <td>HumanEval/4</td>\n",
       "      <td>from typing import List\\n\\n\\ndef mean_absolute...</td>\n",
       "      <td>mean = sum(numbers) / len(numbers)\\n    re...</td>\n",
       "      <td>\\n\\nMETADATA = {\\n    'author': 'jt',\\n    'da...</td>\n",
       "      <td>mean_absolute_deviation</td>\n",
       "      <td>True</td>\n",
       "      <td>mean = sum(numbers) / len(numbers)\\n    re...</td>\n",
       "    </tr>\n",
       "  </tbody>\n",
       "</table>\n",
       "</div>"
      ],
      "text/plain": [
       "   Unnamed: 0      task_id                                             prompt  \\\n",
       "0           0  HumanEval/0  from typing import List\\n\\n\\ndef has_close_ele...   \n",
       "1           1  HumanEval/1  from typing import List\\n\\n\\ndef separate_pare...   \n",
       "2           2  HumanEval/2  \\n\\ndef truncate_number(number: float) -> floa...   \n",
       "3           3  HumanEval/3  from typing import List\\n\\n\\ndef below_zero(op...   \n",
       "4           4  HumanEval/4  from typing import List\\n\\n\\ndef mean_absolute...   \n",
       "\n",
       "                                  canonical_solution  \\\n",
       "0      for idx, elem in enumerate(numbers):\\n    ...   \n",
       "1      result = []\\n    current_string = []\\n    ...   \n",
       "2                              return number % 1.0\\n   \n",
       "3      balance = 0\\n\\n    for op in operations:\\n...   \n",
       "4      mean = sum(numbers) / len(numbers)\\n    re...   \n",
       "\n",
       "                                                test              entry_point  \\\n",
       "0  \\n\\nMETADATA = {\\n    'author': 'jt',\\n    'da...       has_close_elements   \n",
       "1  \\n\\nMETADATA = {\\n    'author': 'jt',\\n    'da...    separate_paren_groups   \n",
       "2  \\n\\nMETADATA = {\\n    'author': 'jt',\\n    'da...          truncate_number   \n",
       "3  \\n\\nMETADATA = {\\n    'author': 'jt',\\n    'da...               below_zero   \n",
       "4  \\n\\nMETADATA = {\\n    'author': 'jt',\\n    'da...  mean_absolute_deviation   \n",
       "\n",
       "   readable                                           solution  \n",
       "0      True      for idx, elem in enumerate(numbers):\\n    ...  \n",
       "1      True      result = []\\n    current_string = []\\n    ...  \n",
       "2     False  return((lambda x: (lambda y: y(x))(lambda f: (...  \n",
       "3      True      balance = 0\\n\\n    for op in operations:\\n...  \n",
       "4      True      mean = sum(numbers) / len(numbers)\\n    re...  "
      ]
     },
     "execution_count": 7,
     "metadata": {},
     "output_type": "execute_result"
    }
   ],
   "source": [
    "# dataset_name = \"openai_humaneval_readability\"\n",
    "# df = download_benchmark_dataset(\n",
    "#     task=\"code-readability-classification\", dataset_name=dataset_name\n",
    "# )\n",
    "from zipfile import ZipFile\n",
    "import pandas as pd\n",
    "import gzip\n",
    "import json\n",
    "with gzip.open(\"/Users/harrisonchu/Downloads/openai_humaneval_with_readability.jsonl.zipped\") as jsonl_file:\n",
    "    df = pd.DataFrame(map(json.loads, jsonl_file.readlines()))\n",
    "df.head()"
   ]
  },
  {
   "cell_type": "markdown",
   "metadata": {},
   "source": [
    "## Display Binary Relevance Classification Template\n",
    "\n",
    "View the default template used to classify relevance. You can tweak this template and evaluate its performance relative to the default."
   ]
  },
  {
   "cell_type": "code",
   "execution_count": 9,
   "metadata": {},
   "outputs": [
    {
     "name": "stdout",
     "output_type": "stream",
     "text": [
      "\n",
      "You are a stern but practical senior software engineer who cares a lot about simplicity and\n",
      "readability of code. Can you review the following code that was written by another engineer?\n",
      "Focus on readability of the code. Respond with \"readable\" if you think the code is readable,\n",
      "or \"unreadable\" if the code is unreadable or needlessly complex for what it's trying\n",
      "to accomplish.\n",
      "\n",
      "ONLY respond with \"readable\" or \"unreadable\"\n",
      "\n",
      "Task Assignment:\n",
      "```\n",
      "{query}\n",
      "```\n",
      "\n",
      "Implementation to Evaluate:\n",
      "```\n",
      "{code}\n",
      "```\n",
      "\n"
     ]
    }
   ],
   "source": [
    "print(CODE_READABILITY_PROMPT_TEMPLATE_STR)"
   ]
  },
  {
   "cell_type": "markdown",
   "metadata": {},
   "source": [
    "The template variables are:\n",
    "\n",
    "- **query_text:** the coding task asked by a user\n",
    "- **code:** implementation of the coding task"
   ]
  },
  {
   "cell_type": "markdown",
   "metadata": {},
   "source": [
    "## Configure the LLM\n",
    "\n",
    "Configure your OpenAI API key."
   ]
  },
  {
   "cell_type": "code",
   "execution_count": 14,
   "metadata": {},
   "outputs": [],
   "source": [
    "# if not (openai_api_key := os.getenv(\"OPENAI_API_KEY\")):\n",
    "#     openai_api_key = getpass(\"🔑 Enter your OpenAI API key: \")\n",
    "# openai.api_key = openai_api_key\n",
    "# os.environ[\"OPENAI_API_KEY\"] = openai_api_key\n"
   ]
  },
  {
   "cell_type": "markdown",
   "metadata": {},
   "source": [
    "Instantiate the LLM and set parameters."
   ]
  },
  {
   "cell_type": "code",
   "execution_count": 15,
   "metadata": {},
   "outputs": [],
   "source": [
    "model = OpenAiModel(\n",
    "    model_name=\"gpt-3.5-turbo\",\n",
    "    temperature=0.0,\n",
    ")"
   ]
  },
  {
   "cell_type": "markdown",
   "metadata": {},
   "source": [
    "## Run Relevance Classifications\n",
    "\n",
    "Run relevance classifications against a subset of the data."
   ]
  },
  {
   "cell_type": "code",
   "execution_count": 16,
   "metadata": {},
   "outputs": [],
   "source": [
    "df = df.sample(n=100).reset_index(drop=True)\n",
    "df = df.rename(\n",
    "    columns={\n",
    "        \"prompt\": \"query\",\n",
    "        \"solution\": \"code\"\n",
    "    },\n",
    ")"
   ]
  },
  {
   "cell_type": "code",
   "execution_count": 18,
   "metadata": {},
   "outputs": [
    {
     "name": "stderr",
     "output_type": "stream",
     "text": [
      "100%|████████████████████████████████████████████████████████████████████████████████████████████████████████████████████████████████████████████████████████████████████████████████████████████████████████████| 100/100 [00:47<00:00,  2.11it/s]\n"
     ]
    }
   ],
   "source": [
    "relevance_classifications = llm_eval_binary(\n",
    "    dataframe=df,\n",
    "    template=CODE_READABILITY_PROMPT_TEMPLATE_STR,\n",
    "    model=model,\n",
    "    rails=[\"readable\", \"unreadable\"],\n",
    ")"
   ]
  },
  {
   "cell_type": "markdown",
   "metadata": {},
   "source": [
    "## Evaluate Classifications\n",
    "\n",
    "Evaluate the predictions against human-labeled ground-truth relevance labels."
   ]
  },
  {
   "cell_type": "code",
   "execution_count": 20,
   "metadata": {},
   "outputs": [
    {
     "name": "stdout",
     "output_type": "stream",
     "text": [
      "              precision    recall  f1-score   support\n",
      "\n",
      "    readable       0.79      0.92      0.85        49\n",
      "  unreadable       0.91      0.76      0.83        51\n",
      "\n",
      "    accuracy                           0.84       100\n",
      "   macro avg       0.85      0.84      0.84       100\n",
      "weighted avg       0.85      0.84      0.84       100\n",
      "\n"
     ]
    },
    {
     "data": {
      "image/png": "[encoded data removed]",
      "text/plain": [
       "<Figure size 640x480 with 2 Axes>"
      ]
     },
     "metadata": {},
     "output_type": "display_data"
    }
   ],
   "source": [
    "true_labels = df[\"readable\"].map({True: \"readable\", False: \"unreadable\"}).tolist()\n",
    "predicted_labels = relevance_classifications\n",
    "classes = [\"readable\", \"unreadable\"]\n",
    "\n",
    "print(classification_report(true_labels, predicted_labels, labels=classes))\n",
    "confusion_matrix = ConfusionMatrix(\n",
    "    actual_vector=true_labels, predict_vector=predicted_labels, classes=classes\n",
    ")\n",
    "confusion_matrix.plot(\n",
    "    cmap=plt.colormaps[\"Blues\"],\n",
    "    number_label=True,\n",
    "    normalized=True,\n",
    ");"
   ]
  },
  {
   "cell_type": "code",
   "execution_count": null,
   "metadata": {},
   "outputs": [],
   "source": []
  }
 ],
 "metadata": {
  "kernelspec": {
   "display_name": "Python 3 (ipykernel)",
   "language": "python",
   "name": "python3"
  },
  "language_info": {
   "codemirror_mode": {
    "name": "ipython",
    "version": 3
   },
   "file_extension": ".py",
   "mimetype": "text/x-python",
   "name": "python",
   "nbconvert_exporter": "python",
   "pygments_lexer": "ipython3",
   "version": "3.9.18"
  }
 },
 "nbformat": 4,
 "nbformat_minor": 4
}
