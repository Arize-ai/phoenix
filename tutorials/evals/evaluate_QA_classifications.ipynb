{
  "cells": [
    {
      "cell_type": "markdown",
      "metadata": {
        "id": "tsXLpBI_LE8I"
      },
      "source": [
        "<center>\n",
        "    <p style=\"text-align:center\">\n",
        "        <img alt=\"phoenix logo\" src=\"https://storage.googleapis.com/arize-assets/phoenix/assets/phoenix-logo-light.svg\" width=\"200\"/>\n",
        "        <br>\n",
        "        <a href=\"https://docs.arize.com/phoenix/\">Docs</a>\n",
        "        |\n",
        "        <a href=\"https://github.com/Arize-ai/phoenix\">GitHub</a>\n",
        "        |\n",
        "        <a href=\"https://join.slack.com/t/arize-ai/shared_invite/zt-1px8dcmlf-fmThhDFD_V_48oU7ALan4Q\">Community</a>\n",
        "    </p>\n",
        "</center>\n",
        "<h1 align=\"center\">Q&A Classification Evals</h1>\n",
        "\n",
        "The purpose of this notebook is:\n",
        "\n",
        "- to evaluate the performance of an LLM-assisted approach to detecting issues with Q&A systems on retrieved context data\n",
        "- to provide an experimental framework for users to iterate and improve on the default classification template.\n",
        "\n",
        "## Install Dependencies and Import Libraries"
      ]
    },
    {
      "cell_type": "code",
      "source": [
        "#####################\n",
        "## N_EVAL_SAMPLE_SIZE\n",
        "#####################\n",
        "#Eval sample size determines the run time\n",
        "#100 samples: GPT-4 ~ 80 sec / GPT-3.5 ~ 40 sec\n",
        "#1,000 samples: GPT-4 ~15-17 min / GPT-3.5 ~ 6-7min (depending on retries)\n",
        "#10,000 samples GPT-4 ~170 min / GPT-3.5 ~ 70min\n",
        "N_EVAL_SAMPLE_SIZE = 300"
      ],
      "metadata": {
        "id": "EvKRvL1vpCWL"
      },
      "execution_count": 1,
      "outputs": []
    },
    {
      "cell_type": "code",
      "execution_count": 2,
      "metadata": {
        "id": "u0YohopoLE8P",
        "colab": {
          "base_uri": "https://localhost:8080/"
        },
        "outputId": "61aad350-0406-4215-bbd9-72382aa161d7"
      },
      "outputs": [
        {
          "output_type": "stream",
          "name": "stdout",
          "text": [
            "\u001b[2K     \u001b[90m━━━━━━━━━━━━━━━━━━━━━━━━━━━━━━━━━━━━━━━━\u001b[0m \u001b[32m1.1/1.1 MB\u001b[0m \u001b[31m6.9 MB/s\u001b[0m eta \u001b[36m0:00:00\u001b[0m\n",
            "\u001b[2K     \u001b[90m━━━━━━━━━━━━━━━━━━━━━━━━━━━━━━━━━━━━━━━━\u001b[0m \u001b[32m76.5/76.5 kB\u001b[0m \u001b[31m6.7 MB/s\u001b[0m eta \u001b[36m0:00:00\u001b[0m\n",
            "\u001b[2K     \u001b[90m━━━━━━━━━━━━━━━━━━━━━━━━━━━━━━━━━━━━━━━━\u001b[0m \u001b[32m70.3/70.3 kB\u001b[0m \u001b[31m5.9 MB/s\u001b[0m eta \u001b[36m0:00:00\u001b[0m\n",
            "\u001b[2K     \u001b[90m━━━━━━━━━━━━━━━━━━━━━━━━━━━━━━━━━━━━━━━━\u001b[0m \u001b[32m5.2/5.2 MB\u001b[0m \u001b[31m18.4 MB/s\u001b[0m eta \u001b[36m0:00:00\u001b[0m\n",
            "\u001b[?25h  Installing build dependencies ... \u001b[?25l\u001b[?25hdone\n",
            "  Getting requirements to build wheel ... \u001b[?25l\u001b[?25hdone\n",
            "  Preparing metadata (pyproject.toml) ... \u001b[?25l\u001b[?25hdone\n",
            "\u001b[2K     \u001b[90m━━━━━━━━━━━━━━━━━━━━━━━━━━━━━━━━━━━━━━━━\u001b[0m \u001b[32m69.9/69.9 kB\u001b[0m \u001b[31m5.5 MB/s\u001b[0m eta \u001b[36m0:00:00\u001b[0m\n",
            "\u001b[2K     \u001b[90m━━━━━━━━━━━━━━━━━━━━━━━━━━━━━━━━━━━━━━\u001b[0m \u001b[32m266.5/266.5 kB\u001b[0m \u001b[31m21.1 MB/s\u001b[0m eta \u001b[36m0:00:00\u001b[0m\n",
            "\u001b[2K     \u001b[90m━━━━━━━━━━━━━━━━━━━━━━━━━━━━━━━━━━━━━━━━\u001b[0m \u001b[32m90.8/90.8 kB\u001b[0m \u001b[31m9.2 MB/s\u001b[0m eta \u001b[36m0:00:00\u001b[0m\n",
            "\u001b[?25h  Preparing metadata (setup.py) ... \u001b[?25l\u001b[?25hdone\n",
            "\u001b[2K     \u001b[90m━━━━━━━━━━━━━━━━━━━━━━━━━━━━━━━━━━━━━━━━\u001b[0m \u001b[32m59.5/59.5 kB\u001b[0m \u001b[31m6.2 MB/s\u001b[0m eta \u001b[36m0:00:00\u001b[0m\n",
            "\u001b[2K     \u001b[90m━━━━━━━━━━━━━━━━━━━━━━━━━━━━━━━━━━━━━━\u001b[0m \u001b[32m202.9/202.9 kB\u001b[0m \u001b[31m16.3 MB/s\u001b[0m eta \u001b[36m0:00:00\u001b[0m\n",
            "\u001b[2K     \u001b[90m━━━━━━━━━━━━━━━━━━━━━━━━━━━━━━━━━━━━━━━━\u001b[0m \u001b[32m1.6/1.6 MB\u001b[0m \u001b[31m26.7 MB/s\u001b[0m eta \u001b[36m0:00:00\u001b[0m\n",
            "\u001b[2K     \u001b[90m━━━━━━━━━━━━━━━━━━━━━━━━━━━━━━━━━━━━━━\u001b[0m \u001b[32m599.4/599.4 kB\u001b[0m \u001b[31m24.0 MB/s\u001b[0m eta \u001b[36m0:00:00\u001b[0m\n",
            "\u001b[2K     \u001b[90m━━━━━━━━━━━━━━━━━━━━━━━━━━━━━━━━━━━━━━━━\u001b[0m \u001b[32m1.1/1.1 MB\u001b[0m \u001b[31m28.0 MB/s\u001b[0m eta \u001b[36m0:00:00\u001b[0m\n",
            "\u001b[?25h  Preparing metadata (setup.py) ... \u001b[?25l\u001b[?25hdone\n",
            "\u001b[2K     \u001b[90m━━━━━━━━━━━━━━━━━━━━━━━━━━━━━━━━━━━━━━━━\u001b[0m \u001b[32m58.3/58.3 kB\u001b[0m \u001b[31m4.9 MB/s\u001b[0m eta \u001b[36m0:00:00\u001b[0m\n",
            "\u001b[?25h  Building wheel for hdbscan (pyproject.toml) ... \u001b[?25l\u001b[?25hdone\n",
            "  Building wheel for umap-learn (setup.py) ... \u001b[?25l\u001b[?25hdone\n",
            "  Building wheel for pynndescent (setup.py) ... \u001b[?25l\u001b[?25hdone\n"
          ]
        }
      ],
      "source": [
        "!pip install -qq arize-phoenix ipython matplotlib openai pycm scikit-learn"
      ]
    },
    {
      "cell_type": "code",
      "source": [
        "from phoenix.experimental.evals import (\n",
        "    OpenAIModel,\n",
        "    download_benchmark_dataset,\n",
        "    llm_eval_binary,\n",
        ")"
      ],
      "metadata": {
        "id": "Gt7duxrGhjkE"
      },
      "execution_count": 3,
      "outputs": []
    },
    {
      "cell_type": "code",
      "source": [
        "import phoenix.experimental.evals.templates.default_templates as templates"
      ],
      "metadata": {
        "id": "7vTCS3Abk2Se"
      },
      "execution_count": 4,
      "outputs": []
    },
    {
      "cell_type": "code",
      "execution_count": 5,
      "metadata": {
        "id": "7Jyom4upLE8R"
      },
      "outputs": [],
      "source": [
        "import os\n",
        "from getpass import getpass\n",
        "\n",
        "import matplotlib.pyplot as plt\n",
        "import openai\n",
        "import pandas as pd\n",
        "from pycm import ConfusionMatrix\n",
        "from sklearn.metrics import classification_report\n",
        "\n",
        "pd.set_option(\"display.max_colwidth\", None)"
      ]
    },
    {
      "cell_type": "markdown",
      "metadata": {
        "id": "KqRH3rfZLE8S"
      },
      "source": [
        "## Download Benchmark Dataset\n",
        "\n",
        "\n",
        "\n",
        "- Squad 2:\n",
        "The 2.0 version of the large-scale dataset Stanford Question Answering Dataset (SQuAD 2.0) allows researchers to design AI models for reading comprehension tasks under challenging constraints.\n",
        "https://web.stanford.edu/class/archive/cs/cs224n/cs224n.1194/reports/default/15785042.pdf\n",
        "- Supplemental Data to Sqaud 2: In order to check the case of detecting incorrect answers, we created wrong answers based on the context data. The wrong answers are intermixed with right answers.\n",
        "- sampled_answer is a sampled column of randomly original Squad 2 or incorrect answers"
      ]
    },
    {
      "cell_type": "code",
      "source": [
        "import pandas as pd\n",
        "\n",
        "# Attempt to load the JSON content into a DataFrame\n",
        "try:\n",
        "    df = pd.read_json(\"https://storage.googleapis.com/arize-assets/fixtures/Embeddings/GENERATIVE/qa_generated_dataset.json\", lines=True)\n",
        "    success = True\n",
        "except Exception as e:\n",
        "    error_message = str(e)\n",
        "    success = False\n",
        "\n",
        "success, error_message if not success else \"Successfully loaded.\"\n"
      ],
      "metadata": {
        "colab": {
          "base_uri": "https://localhost:8080/"
        },
        "id": "zJpM2RVKPu_5",
        "outputId": "419a8507-2e0f-4957-ea3a-fa8070a57267"
      },
      "execution_count": 6,
      "outputs": [
        {
          "output_type": "execute_result",
          "data": {
            "text/plain": [
              "(True, 'Successfully loaded.')"
            ]
          },
          "metadata": {},
          "execution_count": 6
        }
      ]
    },
    {
      "cell_type": "code",
      "source": [
        "df.head()"
      ],
      "metadata": {
        "colab": {
          "base_uri": "https://localhost:8080/",
          "height": 1000
        },
        "id": "N9U1hUSXQAK1",
        "outputId": "d8a1a0f3-d39d-4b59-9ee8-ea8de252bb25"
      },
      "execution_count": 7,
      "outputs": [
        {
          "output_type": "execute_result",
          "data": {
            "text/plain": [
              "                            id                   title  \\\n",
              "0     57317e8d497a881900248f87                  Mosaic   \n",
              "1     56cfabed234ae51400d9be49           New_York_City   \n",
              "2     571a2c554faf5e1900b8a8f6                  Memory   \n",
              "3     57301bf5b2c2fd1400568889          Roman_Republic   \n",
              "4     572f8ee0b2c2fd14005681f6                 Armenia   \n",
              "...                        ...                     ...   \n",
              "2495  572a398baf94a219006aa8d2  New_Haven,_Connecticut   \n",
              "2496  56df8a214a1a83140091eb0c   Alexander_Graham_Bell   \n",
              "2497  57280c6eff5b5019007d9bbd      Gamal_Abdel_Nasser   \n",
              "2498  5725ca9e271a42140099d1c8       Buckingham_Palace   \n",
              "2499  572809d54b864d19001642bb   European_Central_Bank   \n",
              "\n",
              "                                                                                                                                                                                                                                                                                                                                                                                                                                                                                                                                                                                                                                                                                                                                                                                                                                                                                                                                                        context  \\\n",
              "0     Jerusalem with its many holy places probably had the highest concentration of mosaic-covered churches but very few of them survived the subsequent waves of destructions. The present remains do not do justice to the original richness of the city. The most important is the so-called \"Armenian Mosaic\" which was discovered in 1894 on the Street of the Prophets near Damascus Gate. It depicts a vine with many branches and grape clusters, which springs from a vase. Populating the vine's branches are peacocks, ducks, storks, pigeons, an eagle, a partridge, and a parrot in a cage. The inscription reads: \"For the memory and salvation of all those Armenians whose name the Lord knows.\" Beneath a corner of the mosaic is a small, natural cave which contained human bones dating to the 5th or 6th centuries. The symbolism of the mosaic and the presence of the burial cave indicates that the room was used as a mortuary chapel.   \n",
              "1                                                                                                                                                                                                                                                                                                                                                                                                                                                                                     The first non-Native American inhabitant of what would eventually become New York City was Dominican trader Juan Rodriguez (transliterated to Dutch as Jan Rodrigues). Born in Santo Domingo of Portuguese and African descent, he arrived in Manhattan during the winter of 1613–1614, trapping for pelts and trading with the local population as a representative of the Dutch. Broadway, from 159th Street to 218th Street, is named Juan Rodriguez Way in his honor.   \n",
              "2                                                                    Short-term memory is supported by transient patterns of neuronal communication, dependent on regions of the frontal lobe (especially dorsolateral prefrontal cortex) and the parietal lobe. Long-term memory, on the other hand, is maintained by more stable and permanent changes in neural connections widely spread throughout the brain. The hippocampus is essential (for learning new information) to the consolidation of information from short-term to long-term memory, although it does not seem to store information itself. Without the hippocampus, new memories are unable to be stored into long-term memory, as learned from patient Henry Molaison after removal of both his hippocampi, and there will be a very short attention span. Furthermore, it may be involved in changing neural connections for a period of three months or more after the initial learning.   \n",
              "3                                                                                                                                                                                                                                                                                                       In 62 BC, Pompey returned victorious from Asia. The Senate, elated by its successes against Catiline, refused to ratify the arrangements that Pompey had made. Pompey, in effect, became powerless. Thus, when Julius Caesar returned from a governorship in Spain in 61 BC, he found it easy to make an arrangement with Pompey. Caesar and Pompey, along with Crassus, established a private agreement, now known as the First Triumvirate. Under the agreement, Pompey's arrangements would be ratified. Caesar would be elected consul in 59 BC, and would then serve as governor of Gaul for five years. Crassus was promised a future consulship.   \n",
              "4                                                                                                                                                                                                                                                                                                                                                                           The Seljuk Empire soon started to collapse. In the early 12th century, Armenian princes of the Zakarid noble family drove out the Seljuk Turks and established a semi-independent Armenian principality in Northern and Eastern Armenia, known as Zakarid Armenia, which lasted under the patronage of the Georgian Kingdom. The noble family of Orbelians shared control with the Zakarids in various parts of the country, especially in Syunik and Vayots Dzor, while the Armenian family of Hasan-Jalalians controlled provinces of Artsakh and Utik as the Kingdom of Artsakh.   \n",
              "...                                                                                                                                                                                                                                                                                                                                                                                                                                                                                                                                                                                                                                                                                                                                                                                                                                                                                                                                                         ...   \n",
              "2495                                                                                                                                                                                                                                                                                                                     The city is home to New Haven Promise, a scholarship funded by Yale University for students who meet the requirements. Students must be enrolled in a public high school (charters included) for four years, be a resident of the city during that time, carry a 3.0 cumulative grade-point average, have a 90-percent attendance rate and perform 40 hours of service to the city. The initiative was launched in 2010 and there are currently more than 500 Scholars enrolled in qualifying Connecticut colleges and universities. There are more than 60 cities in the country that have a Promise-type program for their students.   \n",
              "2496                                                                                                                                                                                                                                                                  In 1874, telegraph message traffic was rapidly expanding and in the words of Western Union President William Orton, had become \"the nervous system of commerce\". Orton had contracted with inventors Thomas Edison and Elisha Gray to find a way to send multiple telegraph messages on each telegraph line to avoid the great cost of constructing new lines. When Bell mentioned to Gardiner Hubbard and Thomas Sanders that he was working on a method of sending multiple tones on a telegraph wire using a multi-reed device, the two wealthy patrons began to financially support Bell's experiments. Patent matters would be handled by Hubbard's patent attorney, Anthony Pollok.   \n",
              "2497                                                                                                                                   Despite the commanded withdrawal of Egyptian troops, about 2,000 Egyptian soldiers were killed during engagement with Israeli forces, and some 5,000 Egyptian soldiers were captured by the Israeli Army. Amer and Salah Salem proposed requesting a ceasefire, with Salem further recommending that Nasser surrender himself to British forces. Nasser berated Amer and Salem, and vowed, \"Nobody is going to surrender.\" Nasser assumed military command. Despite the relative ease in which Sinai was occupied, Nasser's prestige at home and among Arabs was undamaged. To counterbalance the Egyptian Army's dismal performance, Nasser authorized the distribution of about 400,000 rifles to civilian volunteers and hundreds of militias were formed throughout Egypt, many led by Nasser's political opponents.   \n",
              "2498                                                                                                                                                                                                                                                                                                                                                             By 1847, the couple had found the palace too small for court life and their growing family, and consequently the new wing, designed by Edward Blore, was built by Thomas Cubitt, enclosing the central quadrangle. The large East Front, facing The Mall, is today the \"public face\" of Buckingham Palace, and contains the balcony from which the royal family acknowledge the crowds on momentous occasions and after the annual Trooping the Colour. The ballroom wing and a further suite of state rooms were also built in this period, designed by Nash's student Sir James Pennethorne.   \n",
              "2499                                                                                                                                                                                                                                                                                                                                                                                          Although the ECB is governed by European law directly and thus not by corporate law applying to private law companies, its set-up resembles that of a corporation in the sense that the ECB has shareholders and stock capital. Its capital is five billion euros which is held by the national central banks of the member states as shareholders. The initial capital allocation key was determined in 1998 on the basis of the states' population and GDP, but the key is adjustable. Shares in the ECB are not transferable and cannot be used as collateral.   \n",
              "\n",
              "                                                                                          question  \\\n",
              "0                                                      When was the Armenian Mosaic re-discovered?   \n",
              "1                                  Who was the first non-Indian person to live in what is now NYC?   \n",
              "2                                  Which part of the brain does short-term memory seem to rely on?   \n",
              "3                                                  What provided the Roman senate with exuberance?   \n",
              "4                                                       What area did the Hasan-jalalians command?   \n",
              "...                                                                                            ...   \n",
              "2495  In terms of requirement what sort of service would one needs to fulfilled in order to apply?   \n",
              "2496                                                 What business was William Orton in charge of?   \n",
              "2497                                      Who recommended Nasser surrender himself to the British?   \n",
              "2498                                                               The new wing was built by whom?   \n",
              "2499                                                                  Who holds the ECB's capital?   \n",
              "\n",
              "                                                                             answers  \\\n",
              "0                                                                               1894   \n",
              "1                                                                     Juan Rodriguez   \n",
              "2     frontal lobe (especially dorsolateral prefrontal cortex) and the parietal lobe   \n",
              "3                                                         successes against Catiline   \n",
              "4                                                                   Artsakh and Utik   \n",
              "...                                                                              ...   \n",
              "2495                                                40 hours of service to the city.   \n",
              "2496                                                                   Western Union   \n",
              "2497                                                                     Salah Salem   \n",
              "2498                                                                   Thomas Cubitt   \n",
              "2499                 the national central banks of the member states as shareholders   \n",
              "\n",
              "      correct_answer  \\\n",
              "0               True   \n",
              "1               True   \n",
              "2               True   \n",
              "3               True   \n",
              "4               True   \n",
              "...              ...   \n",
              "2495            True   \n",
              "2496            True   \n",
              "2497            True   \n",
              "2498            True   \n",
              "2499            True   \n",
              "\n",
              "                                                                                                          wrong_answer  \\\n",
              "0                                                                       The Armenian Mosaic was re-discovered in 1920.   \n",
              "1                    The first non-Indian person to live in what is now NYC was Italian explorer Christopher Columbus.   \n",
              "2                                                                                                       The cerebellum   \n",
              "3                                          The Roman Senate was filled with exuberance due to Pompey's defeat in Asia.   \n",
              "4                                                    The Hasan-Jalalians commanded the area of Syunik and Vayots Dzor.   \n",
              "...                                                                                                                ...   \n",
              "2495  In order to apply, one needs to fulfill the requirement of 100 hours of community service in a neighboring city.   \n",
              "2496                                                             William Orton was in charge of the railroad business.   \n",
              "2497                                             The Israeli Army recommended Nasser surrender himself to the British.   \n",
              "2498                                                                  The new wing was built by Sir James Pennethorne.   \n",
              "2499                                    The ECB's capital is held by private investors and multinational corporations.   \n",
              "\n",
              "                                                                      sampled_answer  \\\n",
              "0                                                                               1894   \n",
              "1                                                                     Juan Rodriguez   \n",
              "2     frontal lobe (especially dorsolateral prefrontal cortex) and the parietal lobe   \n",
              "3        The Roman Senate was filled with exuberance due to Pompey's defeat in Asia.   \n",
              "4                                                                   Artsakh and Utik   \n",
              "...                                                                              ...   \n",
              "2495                                                40 hours of service to the city.   \n",
              "2496                           William Orton was in charge of the railroad business.   \n",
              "2497                                                                     Salah Salem   \n",
              "2498                                The new wing was built by Sir James Pennethorne.   \n",
              "2499                 the national central banks of the member states as shareholders   \n",
              "\n",
              "      answer_true  \n",
              "0            True  \n",
              "1            True  \n",
              "2            True  \n",
              "3           False  \n",
              "4            True  \n",
              "...           ...  \n",
              "2495         True  \n",
              "2496        False  \n",
              "2497         True  \n",
              "2498        False  \n",
              "2499         True  \n",
              "\n",
              "[2500 rows x 9 columns]"
            ],
            "text/html": [
              "\n",
              "  <div id=\"df-e9a618c9-7dbe-4b59-b331-eb30ba28d348\" class=\"colab-df-container\">\n",
              "    <div>\n",
              "<style scoped>\n",
              "    .dataframe tbody tr th:only-of-type {\n",
              "        vertical-align: middle;\n",
              "    }\n",
              "\n",
              "    .dataframe tbody tr th {\n",
              "        vertical-align: top;\n",
              "    }\n",
              "\n",
              "    .dataframe thead th {\n",
              "        text-align: right;\n",
              "    }\n",
              "</style>\n",
              "<table border=\"1\" class=\"dataframe\">\n",
              "  <thead>\n",
              "    <tr style=\"text-align: right;\">\n",
              "      <th></th>\n",
              "      <th>id</th>\n",
              "      <th>title</th>\n",
              "      <th>context</th>\n",
              "      <th>question</th>\n",
              "      <th>answers</th>\n",
              "      <th>correct_answer</th>\n",
              "      <th>wrong_answer</th>\n",
              "      <th>sampled_answer</th>\n",
              "      <th>answer_true</th>\n",
              "    </tr>\n",
              "  </thead>\n",
              "  <tbody>\n",
              "    <tr>\n",
              "      <th>0</th>\n",
              "      <td>57317e8d497a881900248f87</td>\n",
              "      <td>Mosaic</td>\n",
              "      <td>Jerusalem with its many holy places probably had the highest concentration of mosaic-covered churches but very few of them survived the subsequent waves of destructions. The present remains do not do justice to the original richness of the city. The most important is the so-called \"Armenian Mosaic\" which was discovered in 1894 on the Street of the Prophets near Damascus Gate. It depicts a vine with many branches and grape clusters, which springs from a vase. Populating the vine's branches are peacocks, ducks, storks, pigeons, an eagle, a partridge, and a parrot in a cage. The inscription reads: \"For the memory and salvation of all those Armenians whose name the Lord knows.\" Beneath a corner of the mosaic is a small, natural cave which contained human bones dating to the 5th or 6th centuries. The symbolism of the mosaic and the presence of the burial cave indicates that the room was used as a mortuary chapel.</td>\n",
              "      <td>When was the Armenian Mosaic re-discovered?</td>\n",
              "      <td>1894</td>\n",
              "      <td>True</td>\n",
              "      <td>The Armenian Mosaic was re-discovered in 1920.</td>\n",
              "      <td>1894</td>\n",
              "      <td>True</td>\n",
              "    </tr>\n",
              "    <tr>\n",
              "      <th>1</th>\n",
              "      <td>56cfabed234ae51400d9be49</td>\n",
              "      <td>New_York_City</td>\n",
              "      <td>The first non-Native American inhabitant of what would eventually become New York City was Dominican trader Juan Rodriguez (transliterated to Dutch as Jan Rodrigues). Born in Santo Domingo of Portuguese and African descent, he arrived in Manhattan during the winter of 1613–1614, trapping for pelts and trading with the local population as a representative of the Dutch. Broadway, from 159th Street to 218th Street, is named Juan Rodriguez Way in his honor.</td>\n",
              "      <td>Who was the first non-Indian person to live in what is now NYC?</td>\n",
              "      <td>Juan Rodriguez</td>\n",
              "      <td>True</td>\n",
              "      <td>The first non-Indian person to live in what is now NYC was Italian explorer Christopher Columbus.</td>\n",
              "      <td>Juan Rodriguez</td>\n",
              "      <td>True</td>\n",
              "    </tr>\n",
              "    <tr>\n",
              "      <th>2</th>\n",
              "      <td>571a2c554faf5e1900b8a8f6</td>\n",
              "      <td>Memory</td>\n",
              "      <td>Short-term memory is supported by transient patterns of neuronal communication, dependent on regions of the frontal lobe (especially dorsolateral prefrontal cortex) and the parietal lobe. Long-term memory, on the other hand, is maintained by more stable and permanent changes in neural connections widely spread throughout the brain. The hippocampus is essential (for learning new information) to the consolidation of information from short-term to long-term memory, although it does not seem to store information itself. Without the hippocampus, new memories are unable to be stored into long-term memory, as learned from patient Henry Molaison after removal of both his hippocampi, and there will be a very short attention span. Furthermore, it may be involved in changing neural connections for a period of three months or more after the initial learning.</td>\n",
              "      <td>Which part of the brain does short-term memory seem to rely on?</td>\n",
              "      <td>frontal lobe (especially dorsolateral prefrontal cortex) and the parietal lobe</td>\n",
              "      <td>True</td>\n",
              "      <td>The cerebellum</td>\n",
              "      <td>frontal lobe (especially dorsolateral prefrontal cortex) and the parietal lobe</td>\n",
              "      <td>True</td>\n",
              "    </tr>\n",
              "    <tr>\n",
              "      <th>3</th>\n",
              "      <td>57301bf5b2c2fd1400568889</td>\n",
              "      <td>Roman_Republic</td>\n",
              "      <td>In 62 BC, Pompey returned victorious from Asia. The Senate, elated by its successes against Catiline, refused to ratify the arrangements that Pompey had made. Pompey, in effect, became powerless. Thus, when Julius Caesar returned from a governorship in Spain in 61 BC, he found it easy to make an arrangement with Pompey. Caesar and Pompey, along with Crassus, established a private agreement, now known as the First Triumvirate. Under the agreement, Pompey's arrangements would be ratified. Caesar would be elected consul in 59 BC, and would then serve as governor of Gaul for five years. Crassus was promised a future consulship.</td>\n",
              "      <td>What provided the Roman senate with exuberance?</td>\n",
              "      <td>successes against Catiline</td>\n",
              "      <td>True</td>\n",
              "      <td>The Roman Senate was filled with exuberance due to Pompey's defeat in Asia.</td>\n",
              "      <td>The Roman Senate was filled with exuberance due to Pompey's defeat in Asia.</td>\n",
              "      <td>False</td>\n",
              "    </tr>\n",
              "    <tr>\n",
              "      <th>4</th>\n",
              "      <td>572f8ee0b2c2fd14005681f6</td>\n",
              "      <td>Armenia</td>\n",
              "      <td>The Seljuk Empire soon started to collapse. In the early 12th century, Armenian princes of the Zakarid noble family drove out the Seljuk Turks and established a semi-independent Armenian principality in Northern and Eastern Armenia, known as Zakarid Armenia, which lasted under the patronage of the Georgian Kingdom. The noble family of Orbelians shared control with the Zakarids in various parts of the country, especially in Syunik and Vayots Dzor, while the Armenian family of Hasan-Jalalians controlled provinces of Artsakh and Utik as the Kingdom of Artsakh.</td>\n",
              "      <td>What area did the Hasan-jalalians command?</td>\n",
              "      <td>Artsakh and Utik</td>\n",
              "      <td>True</td>\n",
              "      <td>The Hasan-Jalalians commanded the area of Syunik and Vayots Dzor.</td>\n",
              "      <td>Artsakh and Utik</td>\n",
              "      <td>True</td>\n",
              "    </tr>\n",
              "    <tr>\n",
              "      <th>...</th>\n",
              "      <td>...</td>\n",
              "      <td>...</td>\n",
              "      <td>...</td>\n",
              "      <td>...</td>\n",
              "      <td>...</td>\n",
              "      <td>...</td>\n",
              "      <td>...</td>\n",
              "      <td>...</td>\n",
              "      <td>...</td>\n",
              "    </tr>\n",
              "    <tr>\n",
              "      <th>2495</th>\n",
              "      <td>572a398baf94a219006aa8d2</td>\n",
              "      <td>New_Haven,_Connecticut</td>\n",
              "      <td>The city is home to New Haven Promise, a scholarship funded by Yale University for students who meet the requirements. Students must be enrolled in a public high school (charters included) for four years, be a resident of the city during that time, carry a 3.0 cumulative grade-point average, have a 90-percent attendance rate and perform 40 hours of service to the city. The initiative was launched in 2010 and there are currently more than 500 Scholars enrolled in qualifying Connecticut colleges and universities. There are more than 60 cities in the country that have a Promise-type program for their students.</td>\n",
              "      <td>In terms of requirement what sort of service would one needs to fulfilled in order to apply?</td>\n",
              "      <td>40 hours of service to the city.</td>\n",
              "      <td>True</td>\n",
              "      <td>In order to apply, one needs to fulfill the requirement of 100 hours of community service in a neighboring city.</td>\n",
              "      <td>40 hours of service to the city.</td>\n",
              "      <td>True</td>\n",
              "    </tr>\n",
              "    <tr>\n",
              "      <th>2496</th>\n",
              "      <td>56df8a214a1a83140091eb0c</td>\n",
              "      <td>Alexander_Graham_Bell</td>\n",
              "      <td>In 1874, telegraph message traffic was rapidly expanding and in the words of Western Union President William Orton, had become \"the nervous system of commerce\". Orton had contracted with inventors Thomas Edison and Elisha Gray to find a way to send multiple telegraph messages on each telegraph line to avoid the great cost of constructing new lines. When Bell mentioned to Gardiner Hubbard and Thomas Sanders that he was working on a method of sending multiple tones on a telegraph wire using a multi-reed device, the two wealthy patrons began to financially support Bell's experiments. Patent matters would be handled by Hubbard's patent attorney, Anthony Pollok.</td>\n",
              "      <td>What business was William Orton in charge of?</td>\n",
              "      <td>Western Union</td>\n",
              "      <td>True</td>\n",
              "      <td>William Orton was in charge of the railroad business.</td>\n",
              "      <td>William Orton was in charge of the railroad business.</td>\n",
              "      <td>False</td>\n",
              "    </tr>\n",
              "    <tr>\n",
              "      <th>2497</th>\n",
              "      <td>57280c6eff5b5019007d9bbd</td>\n",
              "      <td>Gamal_Abdel_Nasser</td>\n",
              "      <td>Despite the commanded withdrawal of Egyptian troops, about 2,000 Egyptian soldiers were killed during engagement with Israeli forces, and some 5,000 Egyptian soldiers were captured by the Israeli Army. Amer and Salah Salem proposed requesting a ceasefire, with Salem further recommending that Nasser surrender himself to British forces. Nasser berated Amer and Salem, and vowed, \"Nobody is going to surrender.\" Nasser assumed military command. Despite the relative ease in which Sinai was occupied, Nasser's prestige at home and among Arabs was undamaged. To counterbalance the Egyptian Army's dismal performance, Nasser authorized the distribution of about 400,000 rifles to civilian volunteers and hundreds of militias were formed throughout Egypt, many led by Nasser's political opponents.</td>\n",
              "      <td>Who recommended Nasser surrender himself to the British?</td>\n",
              "      <td>Salah Salem</td>\n",
              "      <td>True</td>\n",
              "      <td>The Israeli Army recommended Nasser surrender himself to the British.</td>\n",
              "      <td>Salah Salem</td>\n",
              "      <td>True</td>\n",
              "    </tr>\n",
              "    <tr>\n",
              "      <th>2498</th>\n",
              "      <td>5725ca9e271a42140099d1c8</td>\n",
              "      <td>Buckingham_Palace</td>\n",
              "      <td>By 1847, the couple had found the palace too small for court life and their growing family, and consequently the new wing, designed by Edward Blore, was built by Thomas Cubitt, enclosing the central quadrangle. The large East Front, facing The Mall, is today the \"public face\" of Buckingham Palace, and contains the balcony from which the royal family acknowledge the crowds on momentous occasions and after the annual Trooping the Colour. The ballroom wing and a further suite of state rooms were also built in this period, designed by Nash's student Sir James Pennethorne.</td>\n",
              "      <td>The new wing was built by whom?</td>\n",
              "      <td>Thomas Cubitt</td>\n",
              "      <td>True</td>\n",
              "      <td>The new wing was built by Sir James Pennethorne.</td>\n",
              "      <td>The new wing was built by Sir James Pennethorne.</td>\n",
              "      <td>False</td>\n",
              "    </tr>\n",
              "    <tr>\n",
              "      <th>2499</th>\n",
              "      <td>572809d54b864d19001642bb</td>\n",
              "      <td>European_Central_Bank</td>\n",
              "      <td>Although the ECB is governed by European law directly and thus not by corporate law applying to private law companies, its set-up resembles that of a corporation in the sense that the ECB has shareholders and stock capital. Its capital is five billion euros which is held by the national central banks of the member states as shareholders. The initial capital allocation key was determined in 1998 on the basis of the states' population and GDP, but the key is adjustable. Shares in the ECB are not transferable and cannot be used as collateral.</td>\n",
              "      <td>Who holds the ECB's capital?</td>\n",
              "      <td>the national central banks of the member states as shareholders</td>\n",
              "      <td>True</td>\n",
              "      <td>The ECB's capital is held by private investors and multinational corporations.</td>\n",
              "      <td>the national central banks of the member states as shareholders</td>\n",
              "      <td>True</td>\n",
              "    </tr>\n",
              "  </tbody>\n",
              "</table>\n",
              "<p>2500 rows × 9 columns</p>\n",
              "</div>\n",
              "    <div class=\"colab-df-buttons\">\n",
              "\n",
              "  <div class=\"colab-df-container\">\n",
              "    <button class=\"colab-df-convert\" onclick=\"convertToInteractive('df-e9a618c9-7dbe-4b59-b331-eb30ba28d348')\"\n",
              "            title=\"Convert this dataframe to an interactive table.\"\n",
              "            style=\"display:none;\">\n",
              "\n",
              "  <svg xmlns=\"http://www.w3.org/2000/svg\" height=\"24px\" viewBox=\"0 -960 960 960\">\n",
              "    <path d=\"M120-120v-720h720v720H120Zm60-500h600v-160H180v160Zm220 220h160v-160H400v160Zm0 220h160v-160H400v160ZM180-400h160v-160H180v160Zm440 0h160v-160H620v160ZM180-180h160v-160H180v160Zm440 0h160v-160H620v160Z\"/>\n",
              "  </svg>\n",
              "    </button>\n",
              "\n",
              "  <style>\n",
              "    .colab-df-container {\n",
              "      display:flex;\n",
              "      gap: 12px;\n",
              "    }\n",
              "\n",
              "    .colab-df-convert {\n",
              "      background-color: #E8F0FE;\n",
              "      border: none;\n",
              "      border-radius: 50%;\n",
              "      cursor: pointer;\n",
              "      display: none;\n",
              "      fill: #1967D2;\n",
              "      height: 32px;\n",
              "      padding: 0 0 0 0;\n",
              "      width: 32px;\n",
              "    }\n",
              "\n",
              "    .colab-df-convert:hover {\n",
              "      background-color: #E2EBFA;\n",
              "      box-shadow: 0px 1px 2px rgba(60, 64, 67, 0.3), 0px 1px 3px 1px rgba(60, 64, 67, 0.15);\n",
              "      fill: #174EA6;\n",
              "    }\n",
              "\n",
              "    .colab-df-buttons div {\n",
              "      margin-bottom: 4px;\n",
              "    }\n",
              "\n",
              "    [theme=dark] .colab-df-convert {\n",
              "      background-color: #3B4455;\n",
              "      fill: #D2E3FC;\n",
              "    }\n",
              "\n",
              "    [theme=dark] .colab-df-convert:hover {\n",
              "      background-color: #434B5C;\n",
              "      box-shadow: 0px 1px 3px 1px rgba(0, 0, 0, 0.15);\n",
              "      filter: drop-shadow(0px 1px 2px rgba(0, 0, 0, 0.3));\n",
              "      fill: #FFFFFF;\n",
              "    }\n",
              "  </style>\n",
              "\n",
              "    <script>\n",
              "      const buttonEl =\n",
              "        document.querySelector('#df-e9a618c9-7dbe-4b59-b331-eb30ba28d348 button.colab-df-convert');\n",
              "      buttonEl.style.display =\n",
              "        google.colab.kernel.accessAllowed ? 'block' : 'none';\n",
              "\n",
              "      async function convertToInteractive(key) {\n",
              "        const element = document.querySelector('#df-e9a618c9-7dbe-4b59-b331-eb30ba28d348');\n",
              "        const dataTable =\n",
              "          await google.colab.kernel.invokeFunction('convertToInteractive',\n",
              "                                                    [key], {});\n",
              "        if (!dataTable) return;\n",
              "\n",
              "        const docLinkHtml = 'Like what you see? Visit the ' +\n",
              "          '<a target=\"_blank\" href=https://colab.research.google.com/notebooks/data_table.ipynb>data table notebook</a>'\n",
              "          + ' to learn more about interactive tables.';\n",
              "        element.innerHTML = '';\n",
              "        dataTable['output_type'] = 'display_data';\n",
              "        await google.colab.output.renderOutput(dataTable, element);\n",
              "        const docLink = document.createElement('div');\n",
              "        docLink.innerHTML = docLinkHtml;\n",
              "        element.appendChild(docLink);\n",
              "      }\n",
              "    </script>\n",
              "  </div>\n",
              "\n",
              "\n",
              "<div id=\"df-7d4d738b-fe76-408f-b8b9-aa08c5987347\">\n",
              "  <button class=\"colab-df-quickchart\" onclick=\"quickchart('df-7d4d738b-fe76-408f-b8b9-aa08c5987347')\"\n",
              "            title=\"Suggest charts.\"\n",
              "            style=\"display:none;\">\n",
              "\n",
              "<svg xmlns=\"http://www.w3.org/2000/svg\" height=\"24px\"viewBox=\"0 0 24 24\"\n",
              "     width=\"24px\">\n",
              "    <g>\n",
              "        <path d=\"M19 3H5c-1.1 0-2 .9-2 2v14c0 1.1.9 2 2 2h14c1.1 0 2-.9 2-2V5c0-1.1-.9-2-2-2zM9 17H7v-7h2v7zm4 0h-2V7h2v10zm4 0h-2v-4h2v4z\"/>\n",
              "    </g>\n",
              "</svg>\n",
              "  </button>\n",
              "\n",
              "<style>\n",
              "  .colab-df-quickchart {\n",
              "      --bg-color: #E8F0FE;\n",
              "      --fill-color: #1967D2;\n",
              "      --hover-bg-color: #E2EBFA;\n",
              "      --hover-fill-color: #174EA6;\n",
              "      --disabled-fill-color: #AAA;\n",
              "      --disabled-bg-color: #DDD;\n",
              "  }\n",
              "\n",
              "  [theme=dark] .colab-df-quickchart {\n",
              "      --bg-color: #3B4455;\n",
              "      --fill-color: #D2E3FC;\n",
              "      --hover-bg-color: #434B5C;\n",
              "      --hover-fill-color: #FFFFFF;\n",
              "      --disabled-bg-color: #3B4455;\n",
              "      --disabled-fill-color: #666;\n",
              "  }\n",
              "\n",
              "  .colab-df-quickchart {\n",
              "    background-color: var(--bg-color);\n",
              "    border: none;\n",
              "    border-radius: 50%;\n",
              "    cursor: pointer;\n",
              "    display: none;\n",
              "    fill: var(--fill-color);\n",
              "    height: 32px;\n",
              "    padding: 0;\n",
              "    width: 32px;\n",
              "  }\n",
              "\n",
              "  .colab-df-quickchart:hover {\n",
              "    background-color: var(--hover-bg-color);\n",
              "    box-shadow: 0 1px 2px rgba(60, 64, 67, 0.3), 0 1px 3px 1px rgba(60, 64, 67, 0.15);\n",
              "    fill: var(--button-hover-fill-color);\n",
              "  }\n",
              "\n",
              "  .colab-df-quickchart-complete:disabled,\n",
              "  .colab-df-quickchart-complete:disabled:hover {\n",
              "    background-color: var(--disabled-bg-color);\n",
              "    fill: var(--disabled-fill-color);\n",
              "    box-shadow: none;\n",
              "  }\n",
              "\n",
              "  .colab-df-spinner {\n",
              "    border: 2px solid var(--fill-color);\n",
              "    border-color: transparent;\n",
              "    border-bottom-color: var(--fill-color);\n",
              "    animation:\n",
              "      spin 1s steps(1) infinite;\n",
              "  }\n",
              "\n",
              "  @keyframes spin {\n",
              "    0% {\n",
              "      border-color: transparent;\n",
              "      border-bottom-color: var(--fill-color);\n",
              "      border-left-color: var(--fill-color);\n",
              "    }\n",
              "    20% {\n",
              "      border-color: transparent;\n",
              "      border-left-color: var(--fill-color);\n",
              "      border-top-color: var(--fill-color);\n",
              "    }\n",
              "    30% {\n",
              "      border-color: transparent;\n",
              "      border-left-color: var(--fill-color);\n",
              "      border-top-color: var(--fill-color);\n",
              "      border-right-color: var(--fill-color);\n",
              "    }\n",
              "    40% {\n",
              "      border-color: transparent;\n",
              "      border-right-color: var(--fill-color);\n",
              "      border-top-color: var(--fill-color);\n",
              "    }\n",
              "    60% {\n",
              "      border-color: transparent;\n",
              "      border-right-color: var(--fill-color);\n",
              "    }\n",
              "    80% {\n",
              "      border-color: transparent;\n",
              "      border-right-color: var(--fill-color);\n",
              "      border-bottom-color: var(--fill-color);\n",
              "    }\n",
              "    90% {\n",
              "      border-color: transparent;\n",
              "      border-bottom-color: var(--fill-color);\n",
              "    }\n",
              "  }\n",
              "</style>\n",
              "\n",
              "  <script>\n",
              "    async function quickchart(key) {\n",
              "      const quickchartButtonEl =\n",
              "        document.querySelector('#' + key + ' button');\n",
              "      quickchartButtonEl.disabled = true;  // To prevent multiple clicks.\n",
              "      quickchartButtonEl.classList.add('colab-df-spinner');\n",
              "      try {\n",
              "        const charts = await google.colab.kernel.invokeFunction(\n",
              "            'suggestCharts', [key], {});\n",
              "      } catch (error) {\n",
              "        console.error('Error during call to suggestCharts:', error);\n",
              "      }\n",
              "      quickchartButtonEl.classList.remove('colab-df-spinner');\n",
              "      quickchartButtonEl.classList.add('colab-df-quickchart-complete');\n",
              "    }\n",
              "    (() => {\n",
              "      let quickchartButtonEl =\n",
              "        document.querySelector('#df-7d4d738b-fe76-408f-b8b9-aa08c5987347 button');\n",
              "      quickchartButtonEl.style.display =\n",
              "        google.colab.kernel.accessAllowed ? 'block' : 'none';\n",
              "    })();\n",
              "  </script>\n",
              "</div>\n",
              "    </div>\n",
              "  </div>\n"
            ]
          },
          "metadata": {},
          "execution_count": 7
        }
      ]
    },
    {
      "cell_type": "markdown",
      "metadata": {
        "id": "ZKp1qAjfLE8T"
      },
      "source": [
        "## Display Binary Q&A Classification Template\n",
        "\n",
        "View the default template used to classify hallucinations. You can tweak this template and evaluate its performance relative to the default."
      ]
    },
    {
      "cell_type": "code",
      "source": [
        "print(templates.QA_PROMPT_TEMPLATE_STR)"
      ],
      "metadata": {
        "id": "k55ezdByQ4Lf",
        "colab": {
          "base_uri": "https://localhost:8080/"
        },
        "outputId": "74f8e2f5-1def-44e5-8c48-67a3f5053055"
      },
      "execution_count": 8,
      "outputs": [
        {
          "output_type": "stream",
          "name": "stdout",
          "text": [
            "\n",
            "You are given a question, an answer and reference text. You must determine whether the\n",
            "given answer correctly answers the question based on the reference text. Here is the data:\n",
            "    [BEGIN DATA]\n",
            "    ************\n",
            "    [Question]: {question}\n",
            "    ************\n",
            "    [Reference]: {context}\n",
            "    ************\n",
            "    [Answer]: {sampled_answer}\n",
            "    [END DATA]\n",
            "Your response must be a single word, either \"correct\" or \"incorrect\",\n",
            "and should not contain any text or characters aside from that word.\n",
            "\"correct\" means that the question is correctly and fully answered by the answer.\n",
            "\"incorrect\" means that the question is not correctly or only partially answered by the\n",
            "answer.\n",
            "\n"
          ]
        }
      ]
    },
    {
      "cell_type": "markdown",
      "source": [
        "- **question**: This is the question the Q&A system is running against\n",
        "- **sampled_answer**: This is a random sample of correct_answer from Squad 2 or wrong_answer which is a made up incorrect answer. THIS IS the column we test against as it has wrong and wright answers.\n",
        "- **correct_answer**: True if answer is correct, False if not. The ground truth to test against.\n",
        "- **answer**: This is the answer to the right answer to the question.\n",
        "- **wrong_answer**: This is an incorrect answer generated by the context.\n",
        "- **context**: This is the context to be used to answer the question, and is what Q&A Eval must use to check the correct answer.\n",
        "\n"
      ],
      "metadata": {
        "id": "N7NYz7w5P8B4"
      }
    },
    {
      "cell_type": "markdown",
      "metadata": {
        "id": "BIxKyOceLE8W"
      },
      "source": [
        "## Configure the API Key\n",
        "\n",
        "Configure your OpenAI API key."
      ]
    },
    {
      "cell_type": "code",
      "source": [
        "if not (openai_api_key := os.getenv(\"OPENAI_API_KEY\")):\n",
        "    openai_api_key = getpass(\"🔑 Enter your OpenAI API key: \")\n",
        "openai.api_key = openai_api_key\n",
        "os.environ[\"OPENAI_API_KEY\"] = openai_api_key"
      ],
      "metadata": {
        "id": "nQ_rUDS1Q9p8"
      },
      "execution_count": 10,
      "outputs": []
    },
    {
      "cell_type": "markdown",
      "source": [
        "## Benchmark Dataset Sample\n",
        "Sample size determines run time\n",
        "Recommend iterating small: 100 samples\n",
        "Then increasing to large test set"
      ],
      "metadata": {
        "id": "VyX9BjJMslik"
      }
    },
    {
      "cell_type": "code",
      "source": [
        "df_sample = df.sample(n=N_EVAL_SAMPLE_SIZE).reset_index(drop=True)"
      ],
      "metadata": {
        "id": "0yNZc8wdsgzu"
      },
      "execution_count": 11,
      "outputs": []
    },
    {
      "cell_type": "markdown",
      "metadata": {
        "id": "JWMp4AYLLE8Y"
      },
      "source": [
        "## LLM Evals: Q&A Classifications GPT-4\n",
        "Run Q&A classifications against a subset of the data."
      ]
    },
    {
      "cell_type": "markdown",
      "metadata": {
        "id": "uT4nTzfoLE8X"
      },
      "source": [
        "Instantiate the LLM and set parameters."
      ]
    },
    {
      "cell_type": "code",
      "source": [
        "model = OpenAIModel(\n",
        "    model_name=\"gpt-4\",\n",
        "    temperature=0.0,\n",
        ")\n"
      ],
      "metadata": {
        "id": "2WvCNSZUQ_SZ"
      },
      "execution_count": 12,
      "outputs": []
    },
    {
      "cell_type": "code",
      "source": [
        "model(\"Hello world, this is a test if you are working?\")"
      ],
      "metadata": {
        "colab": {
          "base_uri": "https://localhost:8080/",
          "height": 53
        },
        "id": "0PwomcNfnra4",
        "outputId": "78a3510d-37c0-47da-f0fd-0ae9488b267c"
      },
      "execution_count": 13,
      "outputs": [
        {
          "output_type": "stream",
          "name": "stderr",
          "text": [
            "100%|██████████| 1/1 [00:01<00:00,  1.51s/it]\n"
          ]
        },
        {
          "output_type": "execute_result",
          "data": {
            "text/plain": [
              "\"Hello! I'm working perfectly. How can I assist you today?\""
            ],
            "application/vnd.google.colaboratory.intrinsic+json": {
              "type": "string"
            }
          },
          "metadata": {},
          "execution_count": 13
        }
      ]
    },
    {
      "cell_type": "markdown",
      "source": [
        "Run LLM Eval using the template against the dataset: This is the main Eval function"
      ],
      "metadata": {
        "id": "t1djlNsYm92z"
      }
    },
    {
      "cell_type": "code",
      "source": [
        "#The rails fore the output to specific values of the template\n",
        "#It will remove text such as \",,,\" or \"...\", anything not the\n",
        "#binary value expected from the template\n",
        "rails = list(templates.QA_PROMPT_RAILS_MAP.values())\n",
        "Q_and_A_classifications = llm_eval_binary(\n",
        "    dataframe=df_sample,\n",
        "    template=templates.QA_PROMPT_TEMPLATE_STR,\n",
        "    model=model,\n",
        "    rails=rails,\n",
        ")"
      ],
      "metadata": {
        "colab": {
          "base_uri": "https://localhost:8080/"
        },
        "id": "hM_viSgWZnrF",
        "outputId": "0234cb4d-1f1a-4a06-b1bd-e449367e36cb"
      },
      "execution_count": 14,
      "outputs": [
        {
          "output_type": "stream",
          "name": "stderr",
          "text": [
            "100%|██████████| 300/300 [07:32<00:00,  1.51s/it]\n"
          ]
        }
      ]
    },
    {
      "cell_type": "markdown",
      "metadata": {
        "id": "xOfyj3tJLE8Y"
      },
      "source": [
        "\n",
        "\n",
        "Evaluate the predictions against human-labeled ground-truth Q&A labels."
      ]
    },
    {
      "cell_type": "code",
      "execution_count": 15,
      "metadata": {
        "id": "s46zwLigLE8Z",
        "colab": {
          "base_uri": "https://localhost:8080/",
          "height": 633
        },
        "outputId": "a8ad03c3-5fe5-420f-99eb-fc3ae13f846f"
      },
      "outputs": [
        {
          "output_type": "stream",
          "name": "stdout",
          "text": [
            "              precision    recall  f1-score   support\n",
            "\n",
            "     correct       1.00      0.94      0.97       145\n",
            "   incorrect       0.95      1.00      0.97       155\n",
            "\n",
            "    accuracy                           0.97       300\n",
            "   macro avg       0.98      0.97      0.97       300\n",
            "weighted avg       0.97      0.97      0.97       300\n",
            "\n"
          ]
        },
        {
          "output_type": "display_data",
          "data": {
            "text/plain": [
              "<Figure size 640x480 with 2 Axes>"
            ],
            "image/png": "[encoded data removed]"
          },
          "metadata": {}
        }
      ],
      "source": [
        "true_labels = df_sample[\"answer_true\"].map(templates.QA_PROMPT_RAILS_MAP).tolist()\n",
        "Q_and_A_classifications= (\n",
        "    pd.Series(Q_and_A_classifications).map(lambda x: \"unparseable\" if x is None else x).tolist()\n",
        ")\n",
        "\n",
        "print(classification_report(true_labels, Q_and_A_classifications, labels=rails))\n",
        "confusion_matrix = ConfusionMatrix(\n",
        "    actual_vector=true_labels, predict_vector=Q_and_A_classifications, classes=rails\n",
        ")\n",
        "confusion_matrix.plot(\n",
        "    cmap=plt.colormaps[\"Blues\"],\n",
        "    number_label=True,\n",
        "    normalized=True,\n",
        ");"
      ]
    },
    {
      "cell_type": "markdown",
      "source": [
        "##  LLM Evals: Q&A Classifications GPT-3.5\n",
        "\n",
        "\n",
        "Evaluate the predictions against human-labeled ground-truth Q&A labels."
      ],
      "metadata": {
        "id": "sj5DxCbV1-RW"
      }
    },
    {
      "cell_type": "code",
      "source": [
        "\n",
        "model = OpenAIModel(\n",
        "    model_name=\"gpt-3.5-turbo\",\n",
        "    temperature=0.0,\n",
        "    request_timeout=20\n",
        ")\n"
      ],
      "metadata": {
        "id": "FPkKiGwEzRL3"
      },
      "execution_count": 16,
      "outputs": []
    },
    {
      "cell_type": "code",
      "source": [
        "Q_and_A_classifications = llm_eval_binary(\n",
        "    dataframe=df_sample,\n",
        "    template=templates.QA_PROMPT_TEMPLATE_STR,\n",
        "    model=model,\n",
        "    rails=templates.QA_PROMPT_RAILS_MAP.values(),\n",
        ")"
      ],
      "metadata": {
        "colab": {
          "base_uri": "https://localhost:8080/"
        },
        "id": "uDDBtnFi0Exn",
        "outputId": "9073449a-b8cd-41bf-d3c2-bbd2c51e2190"
      },
      "execution_count": 17,
      "outputs": [
        {
          "output_type": "stream",
          "name": "stderr",
          "text": [
            "100%|██████████| 300/300 [02:08<00:00,  2.33it/s]\n"
          ]
        }
      ]
    },
    {
      "cell_type": "code",
      "source": [
        "true_labels = df_sample[\"answer_true\"].map(templates.QA_PROMPT_RAILS_MAP).tolist()\n",
        "classes = list(templates.QA_PROMPT_RAILS_MAP.values())\n",
        "Q_and_A_classifications= (\n",
        "    pd.Series(Q_and_A_classifications).map(lambda x: \"unparseable\" if x is None else x).tolist()\n",
        ")\n",
        "\n",
        "print(classification_report(true_labels, Q_and_A_classifications, labels=classes))\n",
        "confusion_matrix = ConfusionMatrix(\n",
        "    actual_vector=true_labels, predict_vector=Q_and_A_classifications, classes=classes\n",
        ")\n",
        "confusion_matrix.plot(\n",
        "    cmap=plt.colormaps[\"Blues\"],\n",
        "    number_label=True,\n",
        "    normalized=True,\n",
        ");"
      ],
      "metadata": {
        "colab": {
          "base_uri": "https://localhost:8080/",
          "height": 633
        },
        "id": "L29S7ia_0HCn",
        "outputId": "9be41d74-6c16-4e64-c696-9dfc3c2feddf"
      },
      "execution_count": 19,
      "outputs": [
        {
          "output_type": "stream",
          "name": "stdout",
          "text": [
            "              precision    recall  f1-score   support\n",
            "\n",
            "     correct       1.00      0.80      0.89       145\n",
            "   incorrect       0.84      1.00      0.91       155\n",
            "\n",
            "    accuracy                           0.90       300\n",
            "   macro avg       0.92      0.90      0.90       300\n",
            "weighted avg       0.92      0.90      0.90       300\n",
            "\n"
          ]
        },
        {
          "output_type": "display_data",
          "data": {
            "text/plain": [
              "<Figure size 640x480 with 2 Axes>"
            ],
            "image/png": "[encoded data removed]"
          },
          "metadata": {}
        }
      ]
    }
  ],
  "metadata": {
    "language_info": {
      "name": "python"
    },
    "colab": {
      "provenance": []
    },
    "kernelspec": {
      "name": "python3",
      "display_name": "Python 3"
    }
  },
  "nbformat": 4,
  "nbformat_minor": 0
}