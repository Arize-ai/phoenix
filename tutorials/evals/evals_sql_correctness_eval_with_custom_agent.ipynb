{
 "cells": [
  {
   "cell_type": "code",
   "execution_count": 1,
   "metadata": {
    "colab": {
     "base_uri": "https://localhost:8080/"
    },
    "id": "ITrITdpI4-3F",
    "outputId": "3959cf93-80f2-4803-e31c-97c985141948"
   },
   "outputs": [],
   "source": [
    "!pip install -qq \"arize-phoenix[eval,llama-index]\" \"openai>=1\" pyvis datasets pycm requests"
   ]
  },
  {
   "cell_type": "code",
   "execution_count": 1,
   "metadata": {},
   "outputs": [],
   "source": [
    "import os\n",
    "from getpass import getpass\n",
    "\n",
    "if not (openai_api_key := os.getenv(\"OPENAI_API_KEY\")):\n",
    "    openai_api_key = getpass(\"🔑 Enter your OpenAI API key: \")\n",
    "os.environ[\"OPENAI_API_KEY\"] = openai_api_key"
   ]
  },
  {
   "cell_type": "code",
   "execution_count": 2,
   "metadata": {
    "id": "_aVw1hsN5M3y"
   },
   "outputs": [],
   "source": [
    "# Standard library imports\n",
    "import re\n",
    "\n",
    "# Third-party library imports\n",
    "from typing import Any, Dict, List, Optional, Set, Tuple, cast\n",
    "\n",
    "import nest_asyncio\n",
    "import pandas as pd\n",
    "import phoenix as px\n",
    "\n",
    "# Local module imports\n",
    "from llama_index.core import SQLDatabase\n",
    "from llama_index.core.agent import (\n",
    "    AgentChatResponse,\n",
    "    AgentRunner,\n",
    "    QueryPipelineAgentWorker,\n",
    "    ReActChatFormatter,\n",
    "    Task,\n",
    ")\n",
    "from llama_index.core.agent.react.output_parser import ReActOutputParser\n",
    "from llama_index.core.agent.react.types import (\n",
    "    ObservationReasoningStep,\n",
    "    ResponseReasoningStep,\n",
    ")\n",
    "from llama_index.core.llms import ChatMessage, MessageRole\n",
    "from llama_index.core.query_engine import NLSQLTableQueryEngine\n",
    "from llama_index.core.query_pipeline import (\n",
    "    AgentFnComponent,\n",
    "    AgentInputComponent,\n",
    "    CustomAgentComponent,\n",
    "    QueryComponent,\n",
    "    QueryPipeline,\n",
    "    ToolRunnerComponent,\n",
    ")\n",
    "from llama_index.core.tools import BaseTool, QueryEngineTool\n",
    "from llama_index.llms.openai import OpenAI\n",
    "from sqlalchemy import create_engine\n",
    "from tqdm import tqdm\n",
    "\n",
    "# Apply settings and initializations\n",
    "pd.set_option(\"display.max_colwidth\", 1000)\n",
    "nest_asyncio.apply()"
   ]
  },
  {
   "cell_type": "code",
   "execution_count": 3,
   "metadata": {},
   "outputs": [],
   "source": [
    "import os\n",
    "import tempfile\n",
    "import zipfile\n",
    "from io import BytesIO\n",
    "\n",
    "import matplotlib.pyplot as plt\n",
    "import pandas as pd\n",
    "import requests"
   ]
  },
  {
   "cell_type": "code",
   "execution_count": 4,
   "metadata": {
    "id": "MpXRIw765P04"
   },
   "outputs": [],
   "source": [
    "from phoenix.evals import (\n",
    "    SQL_GEN_EVAL_PROMPT_RAILS_MAP,\n",
    "    SQL_GEN_EVAL_PROMPT_TEMPLATE,\n",
    "    OpenAIModel,\n",
    "    llm_classify,\n",
    ")\n",
    "from pycm import ConfusionMatrix\n",
    "from sklearn.metrics import classification_report\n",
    "\n",
    "temp_dir = tempfile.mkdtemp()\n",
    "url = \"https://www.sqlitetutorial.net/wp-content/uploads/2018/03/chinook.zip\"\n",
    "with zipfile.ZipFile(BytesIO(requests.get(url).content), \"r\") as f:\n",
    "    f.extractall(temp_dir)\n",
    "engine = create_engine(f\"sqlite:///{os.path.join(temp_dir, 'chinook.db')}\")\n",
    "sql_database = SQLDatabase(engine)"
   ]
  },
  {
   "cell_type": "code",
   "execution_count": 5,
   "metadata": {
    "id": "49xi62r06RtT"
   },
   "outputs": [
    {
     "name": "stdout",
     "output_type": "stream",
     "text": [
      "🌍 To view the Phoenix app in your browser, visit http://localhost:6006/\n",
      "📖 For more information on how to use Phoenix, check out https://docs.arize.com/phoenix\n"
     ]
    }
   ],
   "source": [
    "session = px.launch_app()"
   ]
  },
  {
   "cell_type": "code",
   "execution_count": 6,
   "metadata": {},
   "outputs": [],
   "source": [
    "from openinference.instrumentation.llama_index import LlamaIndexInstrumentor\n",
    "from opentelemetry.exporter.otlp.proto.http.trace_exporter import OTLPSpanExporter\n",
    "from opentelemetry.sdk.trace import TracerProvider\n",
    "from opentelemetry.sdk.trace.export import SimpleSpanProcessor\n",
    "\n",
    "endpoint = \"http://127.0.0.1:6006/v1/traces\"\n",
    "tracer_provider = TracerProvider()\n",
    "tracer_provider.add_span_processor(SimpleSpanProcessor(OTLPSpanExporter(endpoint)))\n",
    "\n",
    "LlamaIndexInstrumentor().instrument(tracer_provider=tracer_provider)"
   ]
  },
  {
   "cell_type": "code",
   "execution_count": 7,
   "metadata": {
    "id": "J3CELA8D6adm"
   },
   "outputs": [],
   "source": [
    "sql_query_engine = NLSQLTableQueryEngine(\n",
    "    sql_database=sql_database,\n",
    "    tables=[\"albums\", \"tracks\", \"artists\"],\n",
    "    verbose=True,\n",
    ")\n",
    "sql_tool = QueryEngineTool.from_defaults(\n",
    "    query_engine=sql_query_engine,\n",
    "    name=\"sql_tool\",\n",
    "    description=(\"Useful for translating a natural language query into a SQL query\"),\n",
    ")"
   ]
  },
  {
   "cell_type": "code",
   "execution_count": 8,
   "metadata": {
    "id": "rvM1qEHS63Hk"
   },
   "outputs": [
    {
     "name": "stdout",
     "output_type": "stream",
     "text": [
      "['What is the name of the artist with ID 5?', 'List all tracks in the album with ID 3.', \"How many tracks does the artist named 'Aerosmith' have?\"]\n"
     ]
    }
   ],
   "source": [
    "questions = [\n",
    "    \"What is the name of the artist with ID 5?\",\n",
    "    \"List all tracks in the album with ID 3.\",\n",
    "    \"How many tracks does the artist named 'Aerosmith' have?\",\n",
    "    \"Find the oldest song in the database.\",\n",
    "    \"What is the duration of the track with ID 10?\",\n",
    "    \"List the names of all albums released in 2020.\",\n",
    "    \"How many artists are in the database?\",\n",
    "    \"Which artist has the most tracks in the database?\",\n",
    "    \"List all tracks in the 'Pop' genre.\",\n",
    "    \"What is the average length of tracks in the database?\",\n",
    "    \"Find the most recent track.\",\n",
    "    \"List the top 5 longest tracks in the database.\",\n",
    "    \"Which album has the highest number of tracks?\",\n",
    "    \"List all artists who have released more than 3 albums.\",\n",
    "    \"What is the shortest track in the database?\",\n",
    "    \"Find all albums released by 'The Beatles'.\",\n",
    "    \"How many tracks are in the 'Rock' genre?\",\n",
    "    \"List the names of all tracks released before 2000.\",\n",
    "    \"What is the total duration of the album with ID 7?\",\n",
    "    \"Find the artist who released the album 'Thriller'.\",\n",
    "    \"List the names of all albums by 'Pink Floyd'.\",\n",
    "    \"How many albums have been released between 1990 and 2000?\",\n",
    "    \"What genres are covered by the artist 'David Bowie'?\",\n",
    "    \"List the top 10 most played tracks.\",\n",
    "    \"Which artist has the longest total track duration in the database?\",\n",
    "    \"Find all tracks with a duration longer than 5 minutes.\",\n",
    "    \"How many tracks does each album contain on average?\",\n",
    "    \"List all albums sorted by release date.\",\n",
    "    \"Which artist's albums have the highest average ratings?\",\n",
    "    \"Find the total duration of all tracks by 'Michael Jackson'.\",\n",
    "    \"How many tracks in the database are instrumental?\",\n",
    "    \"List the names of all tracks by artists with the name starting with 'J'.\",\n",
    "    \"What is the most common genre in the database?\",\n",
    "    \"Find the average album length in minutes.\",\n",
    "    \"How many artists have only one album in the database?\",\n",
    "    \"List all tracks from the album with the most number of tracks.\",\n",
    "    \"Which artist has released the most albums?\",\n",
    "    \"Find the total number of tracks produced by 'Eminem'.\",\n",
    "    \"How many albums in the database have no tracks?\",\n",
    "    \"List the name and duration of the longest track in each album.\",\n",
    "    \"What is the average number of tracks per album?\",\n",
    "    \"Find all albums that have more than 10 tracks.\",\n",
    "    \"How many tracks in the database are longer than the average track length?\",\n",
    "    \"List the albums released by the artist with the most albums.\",\n",
    "    \"Which year has the highest number of album releases?\",\n",
    "    \"Find the total playtime of all tracks in the 'Jazz' genre.\",\n",
    "    \"How many artists have names longer than 10 characters?\",\n",
    "    \"List all song genres found in the database.\",\n",
    "    \"What is the average track length of the tracks?\",\n",
    "    \"How many albums were released on average by each artist?\",\n",
    "]\n",
    "\n",
    "print(questions)"
   ]
  },
  {
   "cell_type": "code",
   "execution_count": 9,
   "metadata": {
    "id": "ugLE4JqN_ZID"
   },
   "outputs": [],
   "source": [
    "## Agent Input Component\n",
    "## This is the component that produces agent inputs to the rest of the components\n",
    "## Can also put initialization logic here.\n",
    "\n",
    "\n",
    "def agent_input_fn(task: Task, state: Dict[str, Any]) -> Dict[str, Any]:\n",
    "    \"\"\"Agent input function.\n",
    "\n",
    "    Returns:\n",
    "        A Dictionary of output keys and values. If you are specifying\n",
    "        src_key when defining links between this component and other\n",
    "        components, make sure the src_key matches the specified output_key.\n",
    "\n",
    "    \"\"\"\n",
    "    # initialize current_reasoning\n",
    "    if \"current_reasoning\" not in state:\n",
    "        state[\"current_reasoning\"] = []\n",
    "    reasoning_step = ObservationReasoningStep(observation=task.input)\n",
    "    state[\"current_reasoning\"].append(reasoning_step)\n",
    "    return {\"input\": task.input}\n",
    "\n",
    "\n",
    "agent_input_component = AgentInputComponent(fn=agent_input_fn)"
   ]
  },
  {
   "cell_type": "code",
   "execution_count": 10,
   "metadata": {
    "id": "0MHBXiyE_14j"
   },
   "outputs": [],
   "source": [
    "## define prompt function\n",
    "\n",
    "\n",
    "def react_prompt_fn(\n",
    "    task: Task, state: Dict[str, Any], input: str, tools: List[BaseTool]\n",
    ") -> List[ChatMessage]:\n",
    "    # Add input to reasoning\n",
    "    chat_formatter = ReActChatFormatter()\n",
    "    return chat_formatter.format(\n",
    "        tools,\n",
    "        chat_history=task.memory.get() + state[\"memory\"].get_all(),\n",
    "        current_reasoning=state[\"current_reasoning\"],\n",
    "    )\n",
    "\n",
    "\n",
    "react_prompt_component = AgentFnComponent(fn=react_prompt_fn, partial_dict={\"tools\": [sql_tool]})"
   ]
  },
  {
   "cell_type": "code",
   "execution_count": 11,
   "metadata": {
    "id": "9XV34o4a_-oH"
   },
   "outputs": [],
   "source": [
    "## Agent Output Component\n",
    "## Process reasoning step/tool outputs, and return agent response\n",
    "\n",
    "\n",
    "def finalize_fn(\n",
    "    task: Task,\n",
    "    state: Dict[str, Any],\n",
    "    reasoning_step: Any,\n",
    "    is_done: bool = False,\n",
    "    tool_output: Optional[Any] = None,\n",
    ") -> Tuple[AgentChatResponse, bool]:\n",
    "    \"\"\"Finalize function.\n",
    "\n",
    "    Here we take the latest reasoning step, and a tool output (if provided),\n",
    "    and return the agent output (and decide if agent is done).\n",
    "\n",
    "    This function returns an `AgentChatResponse` and `is_done` tuple. and\n",
    "    is the last component of the query pipeline. This is the expected\n",
    "    return type for any query pipeline passed to `QueryPipelineAgentWorker`.\n",
    "\n",
    "    \"\"\"\n",
    "    current_reasoning = state[\"current_reasoning\"]\n",
    "    current_reasoning.append(reasoning_step)\n",
    "    # if tool_output is not None, add to current reasoning\n",
    "    if tool_output is not None:\n",
    "        observation_step = ObservationReasoningStep(observation=str(tool_output))\n",
    "        current_reasoning.append(observation_step)\n",
    "    if isinstance(current_reasoning[-1], ResponseReasoningStep):\n",
    "        response_step = cast(ResponseReasoningStep, current_reasoning[-1])\n",
    "        response_str = response_step.response\n",
    "    else:\n",
    "        response_str = current_reasoning[-1].get_content()\n",
    "\n",
    "    # if is_done, add to memory\n",
    "    # NOTE: memory is a reserved keyword in `state`, but you can add your own too\n",
    "    if is_done:\n",
    "        state[\"memory\"].put(ChatMessage(content=task.input, role=MessageRole.USER))\n",
    "        state[\"memory\"].put(ChatMessage(content=response_str, role=MessageRole.ASSISTANT))\n",
    "\n",
    "    return AgentChatResponse(response=response_str), is_done\n",
    "\n",
    "\n",
    "class OutputAgentComponent(CustomAgentComponent):\n",
    "    \"\"\"Output agent component.\"\"\"\n",
    "\n",
    "    tool_runner_component: ToolRunnerComponent\n",
    "    output_parser: ReActOutputParser\n",
    "\n",
    "    def __init__(self, tools, **kwargs):\n",
    "        tool_runner_component = ToolRunnerComponent(tools)\n",
    "        super().__init__(\n",
    "            tool_runner_component=tool_runner_component, output_parser=ReActOutputParser(), **kwargs\n",
    "        )\n",
    "\n",
    "    def _run_component(self, **kwargs: Any) -> Any:\n",
    "        \"\"\"Run component.\"\"\"\n",
    "        chat_response = kwargs[\"chat_response\"]\n",
    "        task = kwargs[\"task\"]\n",
    "        state = kwargs[\"state\"]\n",
    "        reasoning_step = self.output_parser.parse(chat_response.message.content)\n",
    "        if reasoning_step.is_done:\n",
    "            return {\"output\": finalize_fn(task, state, reasoning_step, is_done=True)}\n",
    "        else:\n",
    "            tool_output = self.tool_runner_component.run_component(\n",
    "                tool_name=reasoning_step.action,\n",
    "                tool_input=reasoning_step.action_input,\n",
    "            )\n",
    "            return {\n",
    "                \"output\": finalize_fn(\n",
    "                    task,\n",
    "                    state,\n",
    "                    reasoning_step,\n",
    "                    is_done=False,\n",
    "                    tool_output=tool_output,\n",
    "                )\n",
    "            }\n",
    "\n",
    "    @property\n",
    "    def _input_keys(self) -> Set[str]:\n",
    "        return {\"chat_response\"}\n",
    "\n",
    "    @property\n",
    "    def _optional_input_keys(self) -> Set[str]:\n",
    "        return {\"is_done\", \"tool_output\"}\n",
    "\n",
    "    @property\n",
    "    def _output_keys(self) -> Set[str]:\n",
    "        return {\"output\"}\n",
    "\n",
    "    @property\n",
    "    def sub_query_components(self) -> List[QueryComponent]:\n",
    "        return [self.tool_runner_component]\n",
    "\n",
    "\n",
    "react_output_component = OutputAgentComponent([sql_tool])"
   ]
  },
  {
   "cell_type": "code",
   "execution_count": 12,
   "metadata": {
    "id": "AOOW40acAJv4"
   },
   "outputs": [],
   "source": [
    "qp = QueryPipeline(\n",
    "    modules={\n",
    "        \"agent_input\": agent_input_component,\n",
    "        \"react_prompt\": react_prompt_component,\n",
    "        \"llm\": OpenAI(model=\"gpt-4o\"),\n",
    "        \"react_output\": react_output_component,\n",
    "    },\n",
    "    verbose=True,\n",
    ")\n",
    "qp.add_chain([\"agent_input\", \"react_prompt\", \"llm\", \"react_output\"])"
   ]
  },
  {
   "cell_type": "code",
   "execution_count": 13,
   "metadata": {
    "id": "yXYTjKpAAmMG"
   },
   "outputs": [
    {
     "name": "stdout",
     "output_type": "stream",
     "text": [
      "\u001b[1;3;38;2;155;135;227m> Running module agent_input with input: \n",
      "state: {'sources': [], 'memory': ChatMemoryBuffer(chat_store=SimpleChatStore(store={}), chat_store_key='chat_history', token_limit=3000, tokenizer_fn=functools.partial(<bound method Encoding.encode of <Encod...\n",
      "task: task_id='b5f91146-3fa5-4129-9af1-57269b4caef3' input='Is Aerosmith in this database?' memory=ChatMemoryBuffer(chat_store=SimpleChatStore(store={}), chat_store_key='chat_history', token_limit=3000, tok...\n",
      "\n",
      "\u001b[0m\u001b[1;3;38;2;155;135;227m> Running module react_prompt with input: \n",
      "input: Is Aerosmith in this database?\n",
      "\n",
      "\u001b[0m\u001b[1;3;38;2;155;135;227m> Running module llm with input: \n",
      "messages: [ChatMessage(role=<MessageRole.SYSTEM: 'system'>, content='You are designed to help with a variety of tasks, from answering questions to providing summaries to other types of analyses.\\n\\n## Tools\\n\\n...\n",
      "\n",
      "\u001b[0m\u001b[1;3;38;2;155;135;227m> Running module react_output with input: \n",
      "chat_response: assistant: Thought: The user is asking if Aerosmith is in a database, but I don't have direct access to a database to check this information. However, I can help them construct a SQL query that could ...\n",
      "\n",
      "\u001b[0m\u001b[1;3;38;2;155;135;227m> Running module agent_input with input: \n",
      "state: {'sources': [], 'memory': ChatMemoryBuffer(chat_store=SimpleChatStore(store={}), chat_store_key='chat_history', token_limit=3000, tokenizer_fn=functools.partial(<bound method Encoding.encode of <Encod...\n",
      "task: task_id='b5f91146-3fa5-4129-9af1-57269b4caef3' input='Is Aerosmith in this database?' memory=ChatMemoryBuffer(chat_store=SimpleChatStore(store={}), chat_store_key='chat_history', token_limit=3000, tok...\n",
      "\n",
      "\u001b[0m\u001b[1;3;38;2;155;135;227m> Running module react_prompt with input: \n",
      "input: Is Aerosmith in this database?\n",
      "\n",
      "\u001b[0m\u001b[1;3;38;2;155;135;227m> Running module llm with input: \n",
      "messages: [ChatMessage(role=<MessageRole.SYSTEM: 'system'>, content='You are designed to help with a variety of tasks, from answering questions to providing summaries to other types of analyses.\\n\\n## Tools\\n\\n...\n",
      "\n",
      "\u001b[0m\u001b[1;3;38;2;155;135;227m> Running module react_output with input: \n",
      "chat_response: assistant: Thought: The user has repeated the question, possibly looking for a direct answer. Since the tool has already provided a SQL query and a simulated response indicating that Aerosmith is in t...\n",
      "\n",
      "\u001b[0mYes, the band Aerosmith is in the database. The SQL query that checks for this is: \n",
      "\n",
      "```sql\n",
      "SELECT Name\n",
      "FROM artists\n",
      "WHERE Name = 'Aerosmith';\n",
      "```\n",
      "\n",
      "And it appears to return a result indicating that Aerosmith is indeed an entry in the database.\n"
     ]
    }
   ],
   "source": [
    "agent_worker = QueryPipelineAgentWorker(qp)\n",
    "agent = AgentRunner(agent_worker)\n",
    "response = agent.chat(\"Is Aerosmith in this database?\")\n",
    "print(str(response))"
   ]
  },
  {
   "cell_type": "code",
   "execution_count": 14,
   "metadata": {
    "id": "hZr6k6boBKXW"
   },
   "outputs": [
    {
     "name": "stderr",
     "output_type": "stream",
     "text": [
      "  0%|          | 0/3 [00:00<?, ?it/s]"
     ]
    },
    {
     "name": "stdout",
     "output_type": "stream",
     "text": [
      "\u001b[1;3;38;2;155;135;227m> Running module agent_input with input: \n",
      "state: {'sources': [], 'memory': ChatMemoryBuffer(chat_store=SimpleChatStore(store={}), chat_store_key='chat_history', token_limit=3000, tokenizer_fn=functools.partial(<bound method Encoding.encode of <Encod...\n",
      "task: task_id='3b2ae15a-71ad-47ad-816c-7544925458e7' input='What is the name of the artist with ID 5?' memory=ChatMemoryBuffer(chat_store=SimpleChatStore(store={}), chat_store_key='chat_history', token_limi...\n",
      "\n",
      "\u001b[0m\u001b[1;3;38;2;155;135;227m> Running module react_prompt with input: \n",
      "input: What is the name of the artist with ID 5?\n",
      "\n",
      "\u001b[0m\u001b[1;3;38;2;155;135;227m> Running module llm with input: \n",
      "messages: [ChatMessage(role=<MessageRole.SYSTEM: 'system'>, content='You are designed to help with a variety of tasks, from answering questions to providing summaries to other types of analyses.\\n\\n## Tools\\n\\n...\n",
      "\n",
      "\u001b[0m\u001b[1;3;38;2;155;135;227m> Running module react_output with input: \n",
      "chat_response: assistant: Thought: The current language of the user is English. I need to use a tool to help me answer the question.\n",
      "Action: sql_tool\n",
      "Action Input: {\"input\": \"What is the name of the artist with ID 5...\n",
      "\n",
      "\u001b[0m"
     ]
    },
    {
     "name": "stderr",
     "output_type": "stream",
     "text": [
      " 33%|███▎      | 1/3 [00:04<00:09,  4.50s/it]"
     ]
    },
    {
     "name": "stdout",
     "output_type": "stream",
     "text": [
      "SQL Query: SELECT Name\\nFROM artists\\nWHERE ArtistId = 5;\n",
      "Response: The artist with ID 5 is Alice In Chains.\n",
      "\u001b[1;3;38;2;155;135;227m> Running module agent_input with input: \n",
      "state: {'sources': [], 'memory': ChatMemoryBuffer(chat_store=SimpleChatStore(store={}), chat_store_key='chat_history', token_limit=3000, tokenizer_fn=functools.partial(<bound method Encoding.encode of <Encod...\n",
      "task: task_id='d7cd70c9-e23b-4c0f-a810-ea1fb4e48d45' input='List all tracks in the album with ID 3.' memory=ChatMemoryBuffer(chat_store=SimpleChatStore(store={}), chat_store_key='chat_history', token_limit=...\n",
      "\n",
      "\u001b[0m\u001b[1;3;38;2;155;135;227m> Running module react_prompt with input: \n",
      "input: List all tracks in the album with ID 3.\n",
      "\n",
      "\u001b[0m\u001b[1;3;38;2;155;135;227m> Running module llm with input: \n",
      "messages: [ChatMessage(role=<MessageRole.SYSTEM: 'system'>, content='You are designed to help with a variety of tasks, from answering questions to providing summaries to other types of analyses.\\n\\n## Tools\\n\\n...\n",
      "\n",
      "\u001b[0m\u001b[1;3;38;2;155;135;227m> Running module react_output with input: \n",
      "chat_response: assistant: Thought: The current language of the user is English. I need to use a tool to help me translate the natural language query into a SQL query.\n",
      "Action: sql_tool\n",
      "Action Input: {\"input\": \"List a...\n",
      "\n",
      "\u001b[0m"
     ]
    },
    {
     "name": "stderr",
     "output_type": "stream",
     "text": [
      " 67%|██████▋   | 2/3 [00:12<00:06,  6.28s/it]"
     ]
    },
    {
     "name": "stdout",
     "output_type": "stream",
     "text": [
      "SQL Query: SELECT Name\\nFROM tracks\\nWHERE AlbumId = 3\\nORDER BY Name;\n",
      "Response: The tracks in the album with ID 3 are \"Fast As a Shark\", \"Princess of the Dawn\", and \"Restless and Wild\".\n",
      "\u001b[1;3;38;2;155;135;227m> Running module agent_input with input: \n",
      "state: {'sources': [], 'memory': ChatMemoryBuffer(chat_store=SimpleChatStore(store={}), chat_store_key='chat_history', token_limit=3000, tokenizer_fn=functools.partial(<bound method Encoding.encode of <Encod...\n",
      "task: task_id='ba8cef26-5704-4149-97c8-b3db57b8413a' input=\"How many tracks does the artist named 'Aerosmith' have?\" memory=ChatMemoryBuffer(chat_store=SimpleChatStore(store={}), chat_store_key='chat_histor...\n",
      "\n",
      "\u001b[0m\u001b[1;3;38;2;155;135;227m> Running module react_prompt with input: \n",
      "input: How many tracks does the artist named 'Aerosmith' have?\n",
      "\n",
      "\u001b[0m\u001b[1;3;38;2;155;135;227m> Running module llm with input: \n",
      "messages: [ChatMessage(role=<MessageRole.SYSTEM: 'system'>, content='You are designed to help with a variety of tasks, from answering questions to providing summaries to other types of analyses.\\n\\n## Tools\\n\\n...\n",
      "\n",
      "\u001b[0m\u001b[1;3;38;2;155;135;227m> Running module react_output with input: \n",
      "chat_response: assistant: Thought: The current language of the user is English. I need to use a tool to help me answer the question.\n",
      "Action: sql_tool\n",
      "Action Input: {\"input\": \"How many tracks does the artist named 'A...\n",
      "\n",
      "\u001b[0m"
     ]
    },
    {
     "name": "stderr",
     "output_type": "stream",
     "text": [
      "100%|██████████| 3/3 [00:16<00:00,  5.44s/it]"
     ]
    },
    {
     "name": "stdout",
     "output_type": "stream",
     "text": [
      "Observation: {'output': ToolOutput(content=\"The artist named 'Aerosmith' has a total of 15 tracks.\", tool_name='sql_tool', raw_input={'input': \"How many tracks does the artist named 'Aerosmith' have?\"}, raw_output=Response(response=\"The artist named 'Aerosmith' has a total of 15 tracks.\", source_nodes=[NodeWithScore(node=TextNode(id_='24f28ef3-7c72-4f8d-ba99-ef289a2029e9', embedding=None, metadata={}, excluded_embed_metadata_keys=[], excluded_llm_metadata_keys=[], relationships={}, text='[(15,)]', start_char_idx=None, end_char_idx=None, text_template='{metadata_str}\\n\\n{content}', metadata_template='{key}: {value}', metadata_seperator='\\n'), score=None)], metadata={'24f28ef3-7c72-4f8d-ba99-ef289a2029e9': {}, 'sql_query': \"SELECT COUNT(tracks.TrackId) AS NumTracks\\nFROM tracks\\nJOIN albums ON tracks.AlbumId = albums.AlbumId\\nJOIN artists ON albums.ArtistId = artists.ArtistId\\nWHERE artists.Name = 'Aerosmith'\", 'result': [(15,)], 'col_keys': ['NumTracks']}), is_error=False)}\n",
      "SQL Query: None\n",
      "Response: None\n"
     ]
    },
    {
     "name": "stderr",
     "output_type": "stream",
     "text": [
      "\n"
     ]
    }
   ],
   "source": [
    "all_sql_queries = []\n",
    "all_ans = []\n",
    "for question in tqdm(questions):\n",
    "    agent_worker = QueryPipelineAgentWorker(qp)\n",
    "    agent = AgentRunner(agent_worker)\n",
    "    task = agent.create_task(question)\n",
    "    # Need to manually run the task as to recover the convo_history\n",
    "    step_output = agent.run_step(task.task_id)\n",
    "    ans = str(step_output)\n",
    "    sql_query_match = re.search(r\"\\'sql_query\\': \\'([^\\']+)\\'\", ans)\n",
    "\n",
    "    if not sql_query_match:\n",
    "        print(ans)\n",
    "    # Extract the sql_query if the pattern is found\n",
    "    sql_query = sql_query_match.group(1) if sql_query_match else None\n",
    "\n",
    "    # Regular expression to extract the response\n",
    "    response_match = re.search(r\"response=\\'([^\\']+)\\'\", ans)\n",
    "\n",
    "    # Extract the response if the pattern is found\n",
    "    response = response_match.group(1) if response_match else None\n",
    "\n",
    "    print(\"SQL Query:\", sql_query)\n",
    "    print(\"Response:\", response)\n",
    "    all_ans.append(response)\n",
    "    all_sql_queries.append(sql_query)"
   ]
  },
  {
   "cell_type": "code",
   "execution_count": 15,
   "metadata": {
    "id": "AYFYLSHqEfQV"
   },
   "outputs": [
    {
     "data": {
      "text/html": [
       "<div>\n",
       "<style scoped>\n",
       "    .dataframe tbody tr th:only-of-type {\n",
       "        vertical-align: middle;\n",
       "    }\n",
       "\n",
       "    .dataframe tbody tr th {\n",
       "        vertical-align: top;\n",
       "    }\n",
       "\n",
       "    .dataframe thead th {\n",
       "        text-align: right;\n",
       "    }\n",
       "</style>\n",
       "<table border=\"1\" class=\"dataframe\">\n",
       "  <thead>\n",
       "    <tr style=\"text-align: right;\">\n",
       "      <th></th>\n",
       "      <th>question</th>\n",
       "      <th>query_gen</th>\n",
       "      <th>response</th>\n",
       "    </tr>\n",
       "  </thead>\n",
       "  <tbody>\n",
       "    <tr>\n",
       "      <th>0</th>\n",
       "      <td>What is the name of the artist with ID 5?</td>\n",
       "      <td>SELECT Name\\nFROM artists\\nWHERE ArtistId = 5;</td>\n",
       "      <td>The artist with ID 5 is Alice In Chains.</td>\n",
       "    </tr>\n",
       "    <tr>\n",
       "      <th>1</th>\n",
       "      <td>List all tracks in the album with ID 3.</td>\n",
       "      <td>SELECT Name\\nFROM tracks\\nWHERE AlbumId = 3\\nORDER BY Name;</td>\n",
       "      <td>The tracks in the album with ID 3 are \"Fast As a Shark\", \"Princess of the Dawn\", and \"Restless and Wild\".</td>\n",
       "    </tr>\n",
       "    <tr>\n",
       "      <th>2</th>\n",
       "      <td>How many tracks does the artist named 'Aerosmith' have?</td>\n",
       "      <td>None</td>\n",
       "      <td>None</td>\n",
       "    </tr>\n",
       "  </tbody>\n",
       "</table>\n",
       "</div>"
      ],
      "text/plain": [
       "                                                  question  \\\n",
       "0                What is the name of the artist with ID 5?   \n",
       "1                  List all tracks in the album with ID 3.   \n",
       "2  How many tracks does the artist named 'Aerosmith' have?   \n",
       "\n",
       "                                                     query_gen  \\\n",
       "0               SELECT Name\\nFROM artists\\nWHERE ArtistId = 5;   \n",
       "1  SELECT Name\\nFROM tracks\\nWHERE AlbumId = 3\\nORDER BY Name;   \n",
       "2                                                         None   \n",
       "\n",
       "                                                                                                    response  \n",
       "0                                                                   The artist with ID 5 is Alice In Chains.  \n",
       "1  The tracks in the album with ID 3 are \"Fast As a Shark\", \"Princess of the Dawn\", and \"Restless and Wild\".  \n",
       "2                                                                                                       None  "
      ]
     },
     "execution_count": 15,
     "metadata": {},
     "output_type": "execute_result"
    }
   ],
   "source": [
    "df = pd.DataFrame({\"question\": questions, \"query_gen\": all_sql_queries, \"response\": all_ans})\n",
    "df[:3]"
   ]
  },
  {
   "cell_type": "code",
   "execution_count": 16,
   "metadata": {},
   "outputs": [
    {
     "name": "stdout",
     "output_type": "stream",
     "text": [
      "\n",
      "SQL Evaluation Prompt:\n",
      "-----------------------\n",
      "You are tasked with determining if the SQL generated appropiately answers a given instruction\n",
      "taking into account its generated query and response.\n",
      "\n",
      "Data:\n",
      "-----\n",
      "- [Instruction]: {question}\n",
      "  This section contains the specific task or problem that the sql query is intended to solve.\n",
      "\n",
      "- [Reference Query]: {query_gen}\n",
      "  This is the sql query submitted for evaluation. Analyze it in the context of the provided\n",
      "  instruction.\n",
      "\n",
      "- [Provided Response]: {response}\n",
      "  This is the response and/or conclusions made after running the sql query through the database\n",
      "\n",
      "Evaluation:\n",
      "-----------\n",
      "Your response should be a single word: either \"correct\" or \"incorrect\".\n",
      "You must assume that the db exists and that columns are appropiately named.\n",
      "You must take into account the response as additional information to determine the correctness.\n",
      "\n",
      "- \"correct\" indicates that the sql query correctly solves the instruction.\n",
      "- \"incorrect\" indicates that the sql query correctly does not solve the instruction correctly.\n",
      "\n",
      "Note: Your response should contain only the word \"correct\" or \"incorrect\" with no additional text\n",
      "or characters.\n",
      "\n"
     ]
    }
   ],
   "source": [
    "print(SQL_GEN_EVAL_PROMPT_TEMPLATE)"
   ]
  },
  {
   "cell_type": "code",
   "execution_count": 17,
   "metadata": {},
   "outputs": [],
   "source": [
    "df.rename(columns={\"query\": \"question\", \"sql_query\": \"query_gen\"}, inplace=True)"
   ]
  },
  {
   "cell_type": "code",
   "execution_count": 18,
   "metadata": {
    "id": "kOL9mJRvXeJS"
   },
   "outputs": [
    {
     "name": "stdout",
     "output_type": "stream",
     "text": [
      "The `model_name` field is deprecated. Use `model` instead.                 This will be removed in a future release.\n"
     ]
    },
    {
     "data": {
      "application/vnd.jupyter.widget-view+json": {
       "model_id": "60b25e0331334ceb8e1c44b37cac4a88",
       "version_major": 2,
       "version_minor": 0
      },
      "text/plain": [
       "llm_classify |          | 0/3 (0.0%) | ⏳ 00:00<? | ?it/s"
      ]
     },
     "metadata": {},
     "output_type": "display_data"
    },
    {
     "name": "stdout",
     "output_type": "stream",
     "text": [
      "Retries exhausted after 1 attempts: Missing template variables: query_gen, response\n"
     ]
    }
   ],
   "source": [
    "rails = list(SQL_GEN_EVAL_PROMPT_RAILS_MAP.values())\n",
    "model = OpenAIModel(\n",
    "    model_name=\"gpt-4o\",\n",
    "    temperature=0.0,\n",
    ")\n",
    "relevance_classifications = llm_classify(\n",
    "    dataframe=df,\n",
    "    template=SQL_GEN_EVAL_PROMPT_TEMPLATE,\n",
    "    model=model,\n",
    "    rails=rails,\n",
    "    provide_explanation=True,\n",
    ")\n",
    "# relevance_classifications"
   ]
  },
  {
   "cell_type": "code",
   "execution_count": 19,
   "metadata": {
    "id": "msPdqs7Vh_Dr"
   },
   "outputs": [],
   "source": [
    "labels = relevance_classifications[\"label\"].tolist()\n",
    "explanation = relevance_classifications[\"explanation\"].tolist()"
   ]
  },
  {
   "cell_type": "code",
   "execution_count": 20,
   "metadata": {
    "id": "emIUo7v7ijY3"
   },
   "outputs": [],
   "source": [
    "df[\"label\"] = labels\n",
    "df[\"explanation\"] = explanation"
   ]
  },
  {
   "cell_type": "code",
   "execution_count": 21,
   "metadata": {},
   "outputs": [
    {
     "data": {
      "text/html": [
       "<div>\n",
       "<style scoped>\n",
       "    .dataframe tbody tr th:only-of-type {\n",
       "        vertical-align: middle;\n",
       "    }\n",
       "\n",
       "    .dataframe tbody tr th {\n",
       "        vertical-align: top;\n",
       "    }\n",
       "\n",
       "    .dataframe thead th {\n",
       "        text-align: right;\n",
       "    }\n",
       "</style>\n",
       "<table border=\"1\" class=\"dataframe\">\n",
       "  <thead>\n",
       "    <tr style=\"text-align: right;\">\n",
       "      <th></th>\n",
       "      <th>question</th>\n",
       "      <th>query_gen</th>\n",
       "      <th>response</th>\n",
       "      <th>label</th>\n",
       "      <th>explanation</th>\n",
       "    </tr>\n",
       "  </thead>\n",
       "  <tbody>\n",
       "    <tr>\n",
       "      <th>0</th>\n",
       "      <td>What is the name of the artist with ID 5?</td>\n",
       "      <td>SELECT Name\\nFROM artists\\nWHERE ArtistId = 5;</td>\n",
       "      <td>The artist with ID 5 is Alice In Chains.</td>\n",
       "      <td>None</td>\n",
       "      <td>None</td>\n",
       "    </tr>\n",
       "    <tr>\n",
       "      <th>1</th>\n",
       "      <td>List all tracks in the album with ID 3.</td>\n",
       "      <td>SELECT Name\\nFROM tracks\\nWHERE AlbumId = 3\\nORDER BY Name;</td>\n",
       "      <td>The tracks in the album with ID 3 are \"Fast As a Shark\", \"Princess of the Dawn\", and \"Restless and Wild\".</td>\n",
       "      <td>None</td>\n",
       "      <td>None</td>\n",
       "    </tr>\n",
       "  </tbody>\n",
       "</table>\n",
       "</div>"
      ],
      "text/plain": [
       "                                    question  \\\n",
       "0  What is the name of the artist with ID 5?   \n",
       "1    List all tracks in the album with ID 3.   \n",
       "\n",
       "                                                     query_gen  \\\n",
       "0               SELECT Name\\nFROM artists\\nWHERE ArtistId = 5;   \n",
       "1  SELECT Name\\nFROM tracks\\nWHERE AlbumId = 3\\nORDER BY Name;   \n",
       "\n",
       "                                                                                                    response  \\\n",
       "0                                                                   The artist with ID 5 is Alice In Chains.   \n",
       "1  The tracks in the album with ID 3 are \"Fast As a Shark\", \"Princess of the Dawn\", and \"Restless and Wild\".   \n",
       "\n",
       "  label explanation  \n",
       "0  None        None  \n",
       "1  None        None  "
      ]
     },
     "execution_count": 21,
     "metadata": {},
     "output_type": "execute_result"
    }
   ],
   "source": [
    "df[:2]"
   ]
  },
  {
   "cell_type": "code",
   "execution_count": 22,
   "metadata": {
    "id": "XcGsFTzcxlEQ"
   },
   "outputs": [],
   "source": [
    "boolean_classifications = [x == \"correct\" for x in df[\"label\"].tolist()]"
   ]
  },
  {
   "cell_type": "code",
   "execution_count": 23,
   "metadata": {
    "id": "LOR8wHIP60ZF"
   },
   "outputs": [],
   "source": [
    "df[\"is_correct\"] = boolean_classifications"
   ]
  },
  {
   "cell_type": "code",
   "execution_count": 25,
   "metadata": {
    "id": "qmYz96wf64Q3"
   },
   "outputs": [],
   "source": [
    "df[\"ground_truth\"] = [\n",
    "    True,\n",
    "    True,\n",
    "    False,\n",
    "    False,\n",
    "    True,\n",
    "    False,\n",
    "    True,\n",
    "    True,\n",
    "    False,\n",
    "    True,\n",
    "    False,\n",
    "    True,\n",
    "    True,\n",
    "    True,\n",
    "    True,\n",
    "    False,\n",
    "    False,\n",
    "    False,\n",
    "    True,\n",
    "    False,\n",
    "    False,\n",
    "    False,\n",
    "    False,\n",
    "    True,\n",
    "    True,\n",
    "    True,\n",
    "    True,\n",
    "    True,\n",
    "    False,\n",
    "    False,\n",
    "    False,\n",
    "    False,\n",
    "    True,\n",
    "    False,\n",
    "    True,\n",
    "    False,\n",
    "    True,\n",
    "    False,\n",
    "    True,\n",
    "    True,\n",
    "    True,\n",
    "    True,\n",
    "    True,\n",
    "    True,\n",
    "    True,\n",
    "    False,\n",
    "    True,\n",
    "    False,\n",
    "    True,\n",
    "    False,\n",
    "]\n",
    "true_labels = df[\"ground_truth\"]"
   ]
  },
  {
   "cell_type": "code",
   "execution_count": 26,
   "metadata": {
    "id": "BC0rliCE9hHg"
   },
   "outputs": [
    {
     "name": "stdout",
     "output_type": "stream",
     "text": [
      "              precision    recall  f1-score   support\n",
      "\n",
      "        True       0.00      0.00      0.00         2\n",
      "       False       0.33      1.00      0.50         1\n",
      "\n",
      "    accuracy                           0.33         3\n",
      "   macro avg       0.17      0.50      0.25         3\n",
      "weighted avg       0.11      0.33      0.17         3\n",
      "\n"
     ]
    },
    {
     "name": "stderr",
     "output_type": "stream",
     "text": [
      "/opt/homebrew/Caskroom/mambaforge/base/envs/py38/lib/python3.8/site-packages/sklearn/metrics/_classification.py:1344: UndefinedMetricWarning: Precision and F-score are ill-defined and being set to 0.0 in labels with no predicted samples. Use `zero_division` parameter to control this behavior.\n",
      "  _warn_prf(average, modifier, msg_start, len(result))\n",
      "/opt/homebrew/Caskroom/mambaforge/base/envs/py38/lib/python3.8/site-packages/sklearn/metrics/_classification.py:1344: UndefinedMetricWarning: Precision and F-score are ill-defined and being set to 0.0 in labels with no predicted samples. Use `zero_division` parameter to control this behavior.\n",
      "  _warn_prf(average, modifier, msg_start, len(result))\n",
      "/opt/homebrew/Caskroom/mambaforge/base/envs/py38/lib/python3.8/site-packages/sklearn/metrics/_classification.py:1344: UndefinedMetricWarning: Precision and F-score are ill-defined and being set to 0.0 in labels with no predicted samples. Use `zero_division` parameter to control this behavior.\n",
      "  _warn_prf(average, modifier, msg_start, len(result))\n"
     ]
    },
    {
     "data": {
      "text/plain": [
       "<Axes: title={'center': 'Confusion Matrix (Normalized)'}, xlabel='Predicted Classes', ylabel='Actual Classes'>"
      ]
     },
     "execution_count": 26,
     "metadata": {},
     "output_type": "execute_result"
    },
    {
     "data": {
      "image/png": "[encoded data removed]",
      "text/plain": [
       "<Figure size 640x480 with 2 Axes>"
      ]
     },
     "metadata": {},
     "output_type": "display_data"
    }
   ],
   "source": [
    "print(classification_report(true_labels, boolean_classifications, labels=[True, False]))\n",
    "confusion_matrix = ConfusionMatrix(\n",
    "    actual_vector=true_labels.tolist(), predict_vector=boolean_classifications\n",
    ")\n",
    "confusion_matrix.plot(\n",
    "    cmap=plt.colormaps[\"Blues\"],\n",
    "    number_label=True,\n",
    "    normalized=True,\n",
    ")"
   ]
  },
  {
   "cell_type": "code",
   "execution_count": null,
   "metadata": {
    "id": "Os3ssWNu_zXR"
   },
   "outputs": [],
   "source": []
  }
 ],
 "metadata": {
  "colab": {
   "provenance": []
  },
  "kernelspec": {
   "display_name": "Python 3",
   "name": "python3"
  },
  "language_info": {
   "codemirror_mode": {
    "name": "ipython",
    "version": 3
   },
   "file_extension": ".py",
   "mimetype": "text/x-python",
   "name": "python",
   "nbconvert_exporter": "python",
   "pygments_lexer": "ipython3",
   "version": "3.8.17"
  }
 },
 "nbformat": 4,
 "nbformat_minor": 0
}
