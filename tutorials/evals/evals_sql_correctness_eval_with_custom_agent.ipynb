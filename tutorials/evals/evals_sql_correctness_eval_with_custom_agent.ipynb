{
 "cells": [
  {
   "cell_type": "code",
   "execution_count": 1,
   "metadata": {
    "colab": {
     "base_uri": "https://localhost:8080/"
    },
    "id": "ITrITdpI4-3F",
    "outputId": "3959cf93-80f2-4803-e31c-97c985141948"
   },
   "outputs": [],
   "source": [
    "!pip install -qq \"arize-phoenix[eval,llama-index]\" \"openai>=1\" pyvis datasets pycm"
   ]
  },
  {
   "cell_type": "code",
   "execution_count": 1,
   "metadata": {},
   "outputs": [],
   "source": [
    "import os\n",
    "from getpass import getpass\n",
    "\n",
    "if not (openai_api_key := os.getenv(\"OPENAI_API_KEY\")):\n",
    "    openai_api_key = getpass(\"🔑 Enter your OpenAI API key: \")\n",
    "os.environ[\"OPENAI_API_KEY\"] = openai_api_key"
   ]
  },
  {
   "cell_type": "code",
   "execution_count": 2,
   "metadata": {
    "id": "_aVw1hsN5M3y"
   },
   "outputs": [],
   "source": [
    "# Standard library imports\n",
    "import re\n",
    "\n",
    "# Third-party library imports\n",
    "from typing import Any, Dict, List, Optional, Set, Tuple, cast\n",
    "\n",
    "import nest_asyncio\n",
    "import pandas as pd\n",
    "import phoenix as px\n",
    "\n",
    "# Local module imports\n",
    "from llama_index.core import SQLDatabase\n",
    "from llama_index.core.agent import (\n",
    "    AgentChatResponse,\n",
    "    AgentRunner,\n",
    "    QueryPipelineAgentWorker,\n",
    "    ReActChatFormatter,\n",
    "    Task,\n",
    ")\n",
    "from llama_index.core.agent.react.output_parser import ReActOutputParser\n",
    "from llama_index.core.agent.react.types import (\n",
    "    ObservationReasoningStep,\n",
    "    ResponseReasoningStep,\n",
    ")\n",
    "from llama_index.core.llms import ChatMessage, MessageRole\n",
    "from llama_index.core.query_engine import NLSQLTableQueryEngine\n",
    "from llama_index.core.query_pipeline import (\n",
    "    AgentFnComponent,\n",
    "    AgentInputComponent,\n",
    "    CustomAgentComponent,\n",
    "    QueryComponent,\n",
    "    QueryPipeline,\n",
    "    ToolRunnerComponent,\n",
    ")\n",
    "from llama_index.core.tools import BaseTool, QueryEngineTool\n",
    "from llama_index.llms.openai import OpenAI\n",
    "from sqlalchemy import create_engine\n",
    "from tqdm import tqdm\n",
    "\n",
    "# Apply settings and initializations\n",
    "pd.set_option(\"display.max_colwidth\", 1000)\n",
    "nest_asyncio.apply()"
   ]
  },
  {
   "cell_type": "code",
   "execution_count": 4,
   "metadata": {},
   "outputs": [],
   "source": [
    "import os\n",
    "import subprocess\n",
    "import tempfile\n",
    "\n",
    "import matplotlib.pyplot as plt\n",
    "import pandas as pd"
   ]
  },
  {
   "cell_type": "code",
   "execution_count": 5,
   "metadata": {
    "id": "MpXRIw765P04"
   },
   "outputs": [
    {
     "name": "stdout",
     "output_type": "stream",
     "text": [
      "Archive:  /var/folders/lz/dhndbs9933lb47kx9_8k7dvm0000gn/T/tmp_rs22o48/chinook.zip\n",
      "  inflating: chinook.db              \n"
     ]
    },
    {
     "name": "stderr",
     "output_type": "stream",
     "text": [
      "  % Total    % Received % Xferd  Average Speed   Time    Time     Time  Current\n",
      "                                 Dload  Upload   Total   Spent    Left  Speed\n",
      "100  298k  100  298k    0     0  1925k      0 --:--:-- --:--:-- --:--:-- 1937k\n"
     ]
    }
   ],
   "source": [
    "from phoenix.evals import (\n",
    "    SQL_GEN_EVAL_PROMPT_RAILS_MAP,\n",
    "    SQL_GEN_EVAL_PROMPT_TEMPLATE,\n",
    "    OpenAIModel,\n",
    "    llm_classify,\n",
    ")\n",
    "from pycm import ConfusionMatrix\n",
    "from sklearn.metrics import classification_report\n",
    "\n",
    "temp_dir = tempfile.mkdtemp()\n",
    "subprocess.run(\n",
    "    [\n",
    "        \"curl\",\n",
    "        \"https://www.sqlitetutorial.net/wp-content/uploads/2018/03/chinook.zip\",\n",
    "        \"-o\",\n",
    "        os.path.join(temp_dir, \"chinook.zip\"),\n",
    "    ],\n",
    "    check=True,\n",
    ")\n",
    "subprocess.run([\"unzip\", \"-o\", os.path.join(temp_dir, \"chinook.zip\")], check=True)\n",
    "engine = create_engine(f\"sqlite:///{os.path.join(temp_dir, 'chinook.db')}\")\n",
    "sql_database = SQLDatabase(engine)"
   ]
  },
  {
   "cell_type": "code",
   "execution_count": 6,
   "metadata": {
    "id": "49xi62r06RtT"
   },
   "outputs": [
    {
     "name": "stdout",
     "output_type": "stream",
     "text": [
      "🌍 To view the Phoenix app in your browser, visit http://localhost:6006/\n",
      "📖 For more information on how to use Phoenix, check out https://docs.arize.com/phoenix\n"
     ]
    }
   ],
   "source": [
    "session = px.launch_app()"
   ]
  },
  {
   "cell_type": "code",
   "execution_count": 7,
   "metadata": {},
   "outputs": [],
   "source": [
    "from openinference.instrumentation.llama_index import LlamaIndexInstrumentor\n",
    "from opentelemetry.exporter.otlp.proto.http.trace_exporter import OTLPSpanExporter\n",
    "from opentelemetry.sdk.trace import TracerProvider\n",
    "from opentelemetry.sdk.trace.export import SimpleSpanProcessor\n",
    "\n",
    "endpoint = \"http://127.0.0.1:6006/v1/traces\"\n",
    "tracer_provider = TracerProvider()\n",
    "tracer_provider.add_span_processor(SimpleSpanProcessor(OTLPSpanExporter(endpoint)))\n",
    "\n",
    "LlamaIndexInstrumentor().instrument(tracer_provider=tracer_provider)"
   ]
  },
  {
   "cell_type": "code",
   "execution_count": 8,
   "metadata": {
    "id": "J3CELA8D6adm"
   },
   "outputs": [],
   "source": [
    "sql_query_engine = NLSQLTableQueryEngine(\n",
    "    sql_database=sql_database,\n",
    "    tables=[\"albums\", \"tracks\", \"artists\"],\n",
    "    verbose=True,\n",
    ")\n",
    "sql_tool = QueryEngineTool.from_defaults(\n",
    "    query_engine=sql_query_engine,\n",
    "    name=\"sql_tool\",\n",
    "    description=(\"Useful for translating a natural language query into a SQL query\"),\n",
    ")"
   ]
  },
  {
   "cell_type": "code",
   "execution_count": 9,
   "metadata": {
    "id": "rvM1qEHS63Hk"
   },
   "outputs": [
    {
     "name": "stdout",
     "output_type": "stream",
     "text": [
      "['What is the name of the artist with ID 5?', 'List all tracks in the album with ID 3.', \"How many tracks does the artist named 'Aerosmith' have?\", 'Find the oldest song in the database.', 'What is the duration of the track with ID 10?', 'List the names of all albums released in 2020.', 'How many artists are in the database?', 'Which artist has the most tracks in the database?', \"List all tracks in the 'Pop' genre.\", 'What is the average length of tracks in the database?', 'Find the most recent track.', 'List the top 5 longest tracks in the database.', 'Which album has the highest number of tracks?', 'List all artists who have released more than 3 albums.', 'What is the shortest track in the database?', \"Find all albums released by 'The Beatles'.\", \"How many tracks are in the 'Rock' genre?\", 'List the names of all tracks released before 2000.', 'What is the total duration of the album with ID 7?', \"Find the artist who released the album 'Thriller'.\", \"List the names of all albums by 'Pink Floyd'.\", 'How many albums have been released between 1990 and 2000?', \"What genres are covered by the artist 'David Bowie'?\", 'List the top 10 most played tracks.', 'Which artist has the longest total track duration in the database?', 'Find all tracks with a duration longer than 5 minutes.', 'How many tracks does each album contain on average?', 'List all albums sorted by release date.', \"Which artist's albums have the highest average ratings?\", \"Find the total duration of all tracks by 'Michael Jackson'.\", 'How many tracks in the database are instrumental?', \"List the names of all tracks by artists with the name starting with 'J'.\", 'What is the most common genre in the database?', 'Find the average album length in minutes.', 'How many artists have only one album in the database?', 'List all tracks from the album with the most number of tracks.', 'Which artist has released the most albums?', \"Find the total number of tracks produced by 'Eminem'.\", 'How many albums in the database have no tracks?', 'List the name and duration of the longest track in each album.', 'What is the average number of tracks per album?', 'Find all albums that have more than 10 tracks.', 'How many tracks in the database are longer than the average track length?', 'List the albums released by the artist with the most albums.', 'Which year has the highest number of album releases?', \"Find the total playtime of all tracks in the 'Jazz' genre.\", 'How many artists have names longer than 10 characters?', 'List all song genres found in the database.', 'What is the average track length of the tracks?', 'How many albums were released on average by each artist?']\n"
     ]
    }
   ],
   "source": [
    "questions = [\n",
    "    \"What is the name of the artist with ID 5?\",\n",
    "    \"List all tracks in the album with ID 3.\",\n",
    "    \"How many tracks does the artist named 'Aerosmith' have?\",\n",
    "    \"Find the oldest song in the database.\",\n",
    "    \"What is the duration of the track with ID 10?\",\n",
    "    \"List the names of all albums released in 2020.\",\n",
    "    \"How many artists are in the database?\",\n",
    "    \"Which artist has the most tracks in the database?\",\n",
    "    \"List all tracks in the 'Pop' genre.\",\n",
    "    \"What is the average length of tracks in the database?\",\n",
    "    \"Find the most recent track.\",\n",
    "    \"List the top 5 longest tracks in the database.\",\n",
    "    \"Which album has the highest number of tracks?\",\n",
    "    \"List all artists who have released more than 3 albums.\",\n",
    "    \"What is the shortest track in the database?\",\n",
    "    \"Find all albums released by 'The Beatles'.\",\n",
    "    \"How many tracks are in the 'Rock' genre?\",\n",
    "    \"List the names of all tracks released before 2000.\",\n",
    "    \"What is the total duration of the album with ID 7?\",\n",
    "    \"Find the artist who released the album 'Thriller'.\",\n",
    "    \"List the names of all albums by 'Pink Floyd'.\",\n",
    "    \"How many albums have been released between 1990 and 2000?\",\n",
    "    \"What genres are covered by the artist 'David Bowie'?\",\n",
    "    \"List the top 10 most played tracks.\",\n",
    "    \"Which artist has the longest total track duration in the database?\",\n",
    "    \"Find all tracks with a duration longer than 5 minutes.\",\n",
    "    \"How many tracks does each album contain on average?\",\n",
    "    \"List all albums sorted by release date.\",\n",
    "    \"Which artist's albums have the highest average ratings?\",\n",
    "    \"Find the total duration of all tracks by 'Michael Jackson'.\",\n",
    "    \"How many tracks in the database are instrumental?\",\n",
    "    \"List the names of all tracks by artists with the name starting with 'J'.\",\n",
    "    \"What is the most common genre in the database?\",\n",
    "    \"Find the average album length in minutes.\",\n",
    "    \"How many artists have only one album in the database?\",\n",
    "    \"List all tracks from the album with the most number of tracks.\",\n",
    "    \"Which artist has released the most albums?\",\n",
    "    \"Find the total number of tracks produced by 'Eminem'.\",\n",
    "    \"How many albums in the database have no tracks?\",\n",
    "    \"List the name and duration of the longest track in each album.\",\n",
    "    \"What is the average number of tracks per album?\",\n",
    "    \"Find all albums that have more than 10 tracks.\",\n",
    "    \"How many tracks in the database are longer than the average track length?\",\n",
    "    \"List the albums released by the artist with the most albums.\",\n",
    "    \"Which year has the highest number of album releases?\",\n",
    "    \"Find the total playtime of all tracks in the 'Jazz' genre.\",\n",
    "    \"How many artists have names longer than 10 characters?\",\n",
    "    \"List all song genres found in the database.\",\n",
    "    \"What is the average track length of the tracks?\",\n",
    "    \"How many albums were released on average by each artist?\",\n",
    "]\n",
    "\n",
    "print(questions)"
   ]
  },
  {
   "cell_type": "code",
   "execution_count": 10,
   "metadata": {
    "id": "ugLE4JqN_ZID"
   },
   "outputs": [],
   "source": [
    "## Agent Input Component\n",
    "## This is the component that produces agent inputs to the rest of the components\n",
    "## Can also put initialization logic here.\n",
    "\n",
    "\n",
    "def agent_input_fn(task: Task, state: Dict[str, Any]) -> Dict[str, Any]:\n",
    "    \"\"\"Agent input function.\n",
    "\n",
    "    Returns:\n",
    "        A Dictionary of output keys and values. If you are specifying\n",
    "        src_key when defining links between this component and other\n",
    "        components, make sure the src_key matches the specified output_key.\n",
    "\n",
    "    \"\"\"\n",
    "    # initialize current_reasoning\n",
    "    if \"current_reasoning\" not in state:\n",
    "        state[\"current_reasoning\"] = []\n",
    "    reasoning_step = ObservationReasoningStep(observation=task.input)\n",
    "    state[\"current_reasoning\"].append(reasoning_step)\n",
    "    return {\"input\": task.input}\n",
    "\n",
    "\n",
    "agent_input_component = AgentInputComponent(fn=agent_input_fn)"
   ]
  },
  {
   "cell_type": "code",
   "execution_count": 11,
   "metadata": {
    "id": "0MHBXiyE_14j"
   },
   "outputs": [],
   "source": [
    "## define prompt function\n",
    "\n",
    "\n",
    "def react_prompt_fn(\n",
    "    task: Task, state: Dict[str, Any], input: str, tools: List[BaseTool]\n",
    ") -> List[ChatMessage]:\n",
    "    # Add input to reasoning\n",
    "    chat_formatter = ReActChatFormatter()\n",
    "    return chat_formatter.format(\n",
    "        tools,\n",
    "        chat_history=task.memory.get() + state[\"memory\"].get_all(),\n",
    "        current_reasoning=state[\"current_reasoning\"],\n",
    "    )\n",
    "\n",
    "\n",
    "react_prompt_component = AgentFnComponent(fn=react_prompt_fn, partial_dict={\"tools\": [sql_tool]})"
   ]
  },
  {
   "cell_type": "code",
   "execution_count": 12,
   "metadata": {
    "id": "9XV34o4a_-oH"
   },
   "outputs": [],
   "source": [
    "## Agent Output Component\n",
    "## Process reasoning step/tool outputs, and return agent response\n",
    "\n",
    "\n",
    "def finalize_fn(\n",
    "    task: Task,\n",
    "    state: Dict[str, Any],\n",
    "    reasoning_step: Any,\n",
    "    is_done: bool = False,\n",
    "    tool_output: Optional[Any] = None,\n",
    ") -> Tuple[AgentChatResponse, bool]:\n",
    "    \"\"\"Finalize function.\n",
    "\n",
    "    Here we take the latest reasoning step, and a tool output (if provided),\n",
    "    and return the agent output (and decide if agent is done).\n",
    "\n",
    "    This function returns an `AgentChatResponse` and `is_done` tuple. and\n",
    "    is the last component of the query pipeline. This is the expected\n",
    "    return type for any query pipeline passed to `QueryPipelineAgentWorker`.\n",
    "\n",
    "    \"\"\"\n",
    "    current_reasoning = state[\"current_reasoning\"]\n",
    "    current_reasoning.append(reasoning_step)\n",
    "    # if tool_output is not None, add to current reasoning\n",
    "    if tool_output is not None:\n",
    "        observation_step = ObservationReasoningStep(observation=str(tool_output))\n",
    "        current_reasoning.append(observation_step)\n",
    "    if isinstance(current_reasoning[-1], ResponseReasoningStep):\n",
    "        response_step = cast(ResponseReasoningStep, current_reasoning[-1])\n",
    "        response_str = response_step.response\n",
    "    else:\n",
    "        response_str = current_reasoning[-1].get_content()\n",
    "\n",
    "    # if is_done, add to memory\n",
    "    # NOTE: memory is a reserved keyword in `state`, but you can add your own too\n",
    "    if is_done:\n",
    "        state[\"memory\"].put(ChatMessage(content=task.input, role=MessageRole.USER))\n",
    "        state[\"memory\"].put(ChatMessage(content=response_str, role=MessageRole.ASSISTANT))\n",
    "\n",
    "    return AgentChatResponse(response=response_str), is_done\n",
    "\n",
    "\n",
    "class OutputAgentComponent(CustomAgentComponent):\n",
    "    \"\"\"Output agent component.\"\"\"\n",
    "\n",
    "    tool_runner_component: ToolRunnerComponent\n",
    "    output_parser: ReActOutputParser\n",
    "\n",
    "    def __init__(self, tools, **kwargs):\n",
    "        tool_runner_component = ToolRunnerComponent(tools)\n",
    "        super().__init__(\n",
    "            tool_runner_component=tool_runner_component, output_parser=ReActOutputParser(), **kwargs\n",
    "        )\n",
    "\n",
    "    def _run_component(self, **kwargs: Any) -> Any:\n",
    "        \"\"\"Run component.\"\"\"\n",
    "        chat_response = kwargs[\"chat_response\"]\n",
    "        task = kwargs[\"task\"]\n",
    "        state = kwargs[\"state\"]\n",
    "        reasoning_step = self.output_parser.parse(chat_response.message.content)\n",
    "        if reasoning_step.is_done:\n",
    "            return {\"output\": finalize_fn(task, state, reasoning_step, is_done=True)}\n",
    "        else:\n",
    "            tool_output = self.tool_runner_component.run_component(\n",
    "                tool_name=reasoning_step.action,\n",
    "                tool_input=reasoning_step.action_input,\n",
    "            )\n",
    "            return {\n",
    "                \"output\": finalize_fn(\n",
    "                    task,\n",
    "                    state,\n",
    "                    reasoning_step,\n",
    "                    is_done=False,\n",
    "                    tool_output=tool_output,\n",
    "                )\n",
    "            }\n",
    "\n",
    "    @property\n",
    "    def _input_keys(self) -> Set[str]:\n",
    "        return {\"chat_response\"}\n",
    "\n",
    "    @property\n",
    "    def _optional_input_keys(self) -> Set[str]:\n",
    "        return {\"is_done\", \"tool_output\"}\n",
    "\n",
    "    @property\n",
    "    def _output_keys(self) -> Set[str]:\n",
    "        return {\"output\"}\n",
    "\n",
    "    @property\n",
    "    def sub_query_components(self) -> List[QueryComponent]:\n",
    "        return [self.tool_runner_component]\n",
    "\n",
    "\n",
    "react_output_component = OutputAgentComponent([sql_tool])"
   ]
  },
  {
   "cell_type": "code",
   "execution_count": 13,
   "metadata": {
    "id": "AOOW40acAJv4"
   },
   "outputs": [],
   "source": [
    "qp = QueryPipeline(\n",
    "    modules={\n",
    "        \"agent_input\": agent_input_component,\n",
    "        \"react_prompt\": react_prompt_component,\n",
    "        \"llm\": OpenAI(model=\"gpt-4-1106-preview\"),\n",
    "        \"react_output\": react_output_component,\n",
    "    },\n",
    "    verbose=True,\n",
    ")\n",
    "qp.add_chain([\"agent_input\", \"react_prompt\", \"llm\", \"react_output\"])"
   ]
  },
  {
   "cell_type": "code",
   "execution_count": 17,
   "metadata": {
    "id": "yXYTjKpAAmMG"
   },
   "outputs": [
    {
     "name": "stdout",
     "output_type": "stream",
     "text": [
      "\u001b[1;3;38;2;155;135;227m> Running module agent_input with input: \n",
      "state: {'sources': [], 'memory': ChatMemoryBuffer(chat_store=SimpleChatStore(store={}), chat_store_key='chat_history', token_limit=3000, tokenizer_fn=functools.partial(<bound method Encoding.encode of <Encod...\n",
      "task: task_id='4efe4868-bfe5-4dbd-8559-710e67393ae9' input='Is Aerosmith in this database?' memory=ChatMemoryBuffer(chat_store=SimpleChatStore(store={}), chat_store_key='chat_history', token_limit=3000, tok...\n",
      "\n",
      "\u001b[0m\u001b[1;3;38;2;155;135;227m> Running module react_prompt with input: \n",
      "input: Is Aerosmith in this database?\n",
      "\n",
      "\u001b[0m\u001b[1;3;38;2;155;135;227m> Running module llm with input: \n",
      "messages: [ChatMessage(role=<MessageRole.SYSTEM: 'system'>, content='You are designed to help with a variety of tasks, from answering questions to providing summaries to other types of analyses.\\n\\n## Tools\\n\\n...\n",
      "\n",
      "\u001b[0m\u001b[1;3;38;2;155;135;227m> Running module react_output with input: \n",
      "chat_response: assistant: Thought: The user is asking if Aerosmith is present in a database, but I don't have direct access to a database to check this information. However, I can help them construct a SQL query tha...\n",
      "\n",
      "\u001b[0m"
     ]
    },
    {
     "ename": "NoSuchTableError",
     "evalue": "album",
     "output_type": "error",
     "traceback": [
      "\u001b[0;31m---------------------------------------------------------------------------\u001b[0m",
      "\u001b[0;31mNoSuchTableError\u001b[0m                          Traceback (most recent call last)",
      "Cell \u001b[0;32mIn[17], line 3\u001b[0m\n\u001b[1;32m      1\u001b[0m agent_worker \u001b[38;5;241m=\u001b[39m QueryPipelineAgentWorker(qp)\n\u001b[1;32m      2\u001b[0m agent \u001b[38;5;241m=\u001b[39m AgentRunner(agent_worker)\n\u001b[0;32m----> 3\u001b[0m response \u001b[38;5;241m=\u001b[39m \u001b[43magent\u001b[49m\u001b[38;5;241;43m.\u001b[39;49m\u001b[43mchat\u001b[49m\u001b[43m(\u001b[49m\u001b[38;5;124;43m\"\u001b[39;49m\u001b[38;5;124;43mIs Aerosmith in this database?\u001b[39;49m\u001b[38;5;124;43m\"\u001b[39;49m\u001b[43m)\u001b[49m\n\u001b[1;32m      4\u001b[0m \u001b[38;5;28mprint\u001b[39m(\u001b[38;5;28mstr\u001b[39m(response))\n",
      "File \u001b[0;32m/opt/homebrew/Caskroom/mambaforge/base/envs/py38/lib/python3.8/site-packages/llama_index/core/instrumentation/dispatcher.py:223\u001b[0m, in \u001b[0;36mDispatcher.span.<locals>.wrapper\u001b[0;34m(func, instance, args, kwargs)\u001b[0m\n\u001b[1;32m    219\u001b[0m \u001b[38;5;28mself\u001b[39m\u001b[38;5;241m.\u001b[39mspan_enter(\n\u001b[1;32m    220\u001b[0m     id_\u001b[38;5;241m=\u001b[39mid_, bound_args\u001b[38;5;241m=\u001b[39mbound_args, instance\u001b[38;5;241m=\u001b[39minstance, parent_id\u001b[38;5;241m=\u001b[39mparent_id\n\u001b[1;32m    221\u001b[0m )\n\u001b[1;32m    222\u001b[0m \u001b[38;5;28;01mtry\u001b[39;00m:\n\u001b[0;32m--> 223\u001b[0m     result \u001b[38;5;241m=\u001b[39m \u001b[43mfunc\u001b[49m\u001b[43m(\u001b[49m\u001b[38;5;241;43m*\u001b[39;49m\u001b[43margs\u001b[49m\u001b[43m,\u001b[49m\u001b[43m \u001b[49m\u001b[38;5;241;43m*\u001b[39;49m\u001b[38;5;241;43m*\u001b[39;49m\u001b[43mkwargs\u001b[49m\u001b[43m)\u001b[49m\n\u001b[1;32m    224\u001b[0m \u001b[38;5;28;01mexcept\u001b[39;00m \u001b[38;5;167;01mBaseException\u001b[39;00m \u001b[38;5;28;01mas\u001b[39;00m e:\n\u001b[1;32m    225\u001b[0m     \u001b[38;5;28mself\u001b[39m\u001b[38;5;241m.\u001b[39mevent(SpanDropEvent(span_id\u001b[38;5;241m=\u001b[39mid_, err_str\u001b[38;5;241m=\u001b[39m\u001b[38;5;28mstr\u001b[39m(e)))\n",
      "File \u001b[0;32m/opt/homebrew/Caskroom/mambaforge/base/envs/py38/lib/python3.8/site-packages/llama_index/core/callbacks/utils.py:41\u001b[0m, in \u001b[0;36mtrace_method.<locals>.decorator.<locals>.wrapper\u001b[0;34m(self, *args, **kwargs)\u001b[0m\n\u001b[1;32m     39\u001b[0m callback_manager \u001b[38;5;241m=\u001b[39m cast(CallbackManager, callback_manager)\n\u001b[1;32m     40\u001b[0m \u001b[38;5;28;01mwith\u001b[39;00m callback_manager\u001b[38;5;241m.\u001b[39mas_trace(trace_id):\n\u001b[0;32m---> 41\u001b[0m     \u001b[38;5;28;01mreturn\u001b[39;00m \u001b[43mfunc\u001b[49m\u001b[43m(\u001b[49m\u001b[38;5;28;43mself\u001b[39;49m\u001b[43m,\u001b[49m\u001b[43m \u001b[49m\u001b[38;5;241;43m*\u001b[39;49m\u001b[43margs\u001b[49m\u001b[43m,\u001b[49m\u001b[43m \u001b[49m\u001b[38;5;241;43m*\u001b[39;49m\u001b[38;5;241;43m*\u001b[39;49m\u001b[43mkwargs\u001b[49m\u001b[43m)\u001b[49m\n",
      "File \u001b[0;32m/opt/homebrew/Caskroom/mambaforge/base/envs/py38/lib/python3.8/site-packages/llama_index/core/agent/runner/base.py:640\u001b[0m, in \u001b[0;36mAgentRunner.chat\u001b[0;34m(self, message, chat_history, tool_choice)\u001b[0m\n\u001b[1;32m    635\u001b[0m     tool_choice \u001b[38;5;241m=\u001b[39m \u001b[38;5;28mself\u001b[39m\u001b[38;5;241m.\u001b[39mdefault_tool_choice\n\u001b[1;32m    636\u001b[0m \u001b[38;5;28;01mwith\u001b[39;00m \u001b[38;5;28mself\u001b[39m\u001b[38;5;241m.\u001b[39mcallback_manager\u001b[38;5;241m.\u001b[39mevent(\n\u001b[1;32m    637\u001b[0m     CBEventType\u001b[38;5;241m.\u001b[39mAGENT_STEP,\n\u001b[1;32m    638\u001b[0m     payload\u001b[38;5;241m=\u001b[39m{EventPayload\u001b[38;5;241m.\u001b[39mMESSAGES: [message]},\n\u001b[1;32m    639\u001b[0m ) \u001b[38;5;28;01mas\u001b[39;00m e:\n\u001b[0;32m--> 640\u001b[0m     chat_response \u001b[38;5;241m=\u001b[39m \u001b[38;5;28;43mself\u001b[39;49m\u001b[38;5;241;43m.\u001b[39;49m\u001b[43m_chat\u001b[49m\u001b[43m(\u001b[49m\n\u001b[1;32m    641\u001b[0m \u001b[43m        \u001b[49m\u001b[43mmessage\u001b[49m\u001b[38;5;241;43m=\u001b[39;49m\u001b[43mmessage\u001b[49m\u001b[43m,\u001b[49m\n\u001b[1;32m    642\u001b[0m \u001b[43m        \u001b[49m\u001b[43mchat_history\u001b[49m\u001b[38;5;241;43m=\u001b[39;49m\u001b[43mchat_history\u001b[49m\u001b[43m,\u001b[49m\n\u001b[1;32m    643\u001b[0m \u001b[43m        \u001b[49m\u001b[43mtool_choice\u001b[49m\u001b[38;5;241;43m=\u001b[39;49m\u001b[43mtool_choice\u001b[49m\u001b[43m,\u001b[49m\n\u001b[1;32m    644\u001b[0m \u001b[43m        \u001b[49m\u001b[43mmode\u001b[49m\u001b[38;5;241;43m=\u001b[39;49m\u001b[43mChatResponseMode\u001b[49m\u001b[38;5;241;43m.\u001b[39;49m\u001b[43mWAIT\u001b[49m\u001b[43m,\u001b[49m\n\u001b[1;32m    645\u001b[0m \u001b[43m    \u001b[49m\u001b[43m)\u001b[49m\n\u001b[1;32m    646\u001b[0m     \u001b[38;5;28;01massert\u001b[39;00m \u001b[38;5;28misinstance\u001b[39m(chat_response, AgentChatResponse)\n\u001b[1;32m    647\u001b[0m     e\u001b[38;5;241m.\u001b[39mon_end(payload\u001b[38;5;241m=\u001b[39m{EventPayload\u001b[38;5;241m.\u001b[39mRESPONSE: chat_response})\n",
      "File \u001b[0;32m/opt/homebrew/Caskroom/mambaforge/base/envs/py38/lib/python3.8/site-packages/llama_index/core/instrumentation/dispatcher.py:223\u001b[0m, in \u001b[0;36mDispatcher.span.<locals>.wrapper\u001b[0;34m(func, instance, args, kwargs)\u001b[0m\n\u001b[1;32m    219\u001b[0m \u001b[38;5;28mself\u001b[39m\u001b[38;5;241m.\u001b[39mspan_enter(\n\u001b[1;32m    220\u001b[0m     id_\u001b[38;5;241m=\u001b[39mid_, bound_args\u001b[38;5;241m=\u001b[39mbound_args, instance\u001b[38;5;241m=\u001b[39minstance, parent_id\u001b[38;5;241m=\u001b[39mparent_id\n\u001b[1;32m    221\u001b[0m )\n\u001b[1;32m    222\u001b[0m \u001b[38;5;28;01mtry\u001b[39;00m:\n\u001b[0;32m--> 223\u001b[0m     result \u001b[38;5;241m=\u001b[39m \u001b[43mfunc\u001b[49m\u001b[43m(\u001b[49m\u001b[38;5;241;43m*\u001b[39;49m\u001b[43margs\u001b[49m\u001b[43m,\u001b[49m\u001b[43m \u001b[49m\u001b[38;5;241;43m*\u001b[39;49m\u001b[38;5;241;43m*\u001b[39;49m\u001b[43mkwargs\u001b[49m\u001b[43m)\u001b[49m\n\u001b[1;32m    224\u001b[0m \u001b[38;5;28;01mexcept\u001b[39;00m \u001b[38;5;167;01mBaseException\u001b[39;00m \u001b[38;5;28;01mas\u001b[39;00m e:\n\u001b[1;32m    225\u001b[0m     \u001b[38;5;28mself\u001b[39m\u001b[38;5;241m.\u001b[39mevent(SpanDropEvent(span_id\u001b[38;5;241m=\u001b[39mid_, err_str\u001b[38;5;241m=\u001b[39m\u001b[38;5;28mstr\u001b[39m(e)))\n",
      "File \u001b[0;32m/opt/homebrew/Caskroom/mambaforge/base/envs/py38/lib/python3.8/site-packages/llama_index/core/agent/runner/base.py:572\u001b[0m, in \u001b[0;36mAgentRunner._chat\u001b[0;34m(self, message, chat_history, tool_choice, mode)\u001b[0m\n\u001b[1;32m    569\u001b[0m dispatcher\u001b[38;5;241m.\u001b[39mevent(AgentChatWithStepStartEvent(user_msg\u001b[38;5;241m=\u001b[39mmessage))\n\u001b[1;32m    570\u001b[0m \u001b[38;5;28;01mwhile\u001b[39;00m \u001b[38;5;28;01mTrue\u001b[39;00m:\n\u001b[1;32m    571\u001b[0m     \u001b[38;5;66;03m# pass step queue in as argument, assume step executor is stateless\u001b[39;00m\n\u001b[0;32m--> 572\u001b[0m     cur_step_output \u001b[38;5;241m=\u001b[39m \u001b[38;5;28;43mself\u001b[39;49m\u001b[38;5;241;43m.\u001b[39;49m\u001b[43m_run_step\u001b[49m\u001b[43m(\u001b[49m\n\u001b[1;32m    573\u001b[0m \u001b[43m        \u001b[49m\u001b[43mtask\u001b[49m\u001b[38;5;241;43m.\u001b[39;49m\u001b[43mtask_id\u001b[49m\u001b[43m,\u001b[49m\u001b[43m \u001b[49m\u001b[43mmode\u001b[49m\u001b[38;5;241;43m=\u001b[39;49m\u001b[43mmode\u001b[49m\u001b[43m,\u001b[49m\u001b[43m \u001b[49m\u001b[43mtool_choice\u001b[49m\u001b[38;5;241;43m=\u001b[39;49m\u001b[43mtool_choice\u001b[49m\n\u001b[1;32m    574\u001b[0m \u001b[43m    \u001b[49m\u001b[43m)\u001b[49m\n\u001b[1;32m    576\u001b[0m     \u001b[38;5;28;01mif\u001b[39;00m cur_step_output\u001b[38;5;241m.\u001b[39mis_last:\n\u001b[1;32m    577\u001b[0m         result_output \u001b[38;5;241m=\u001b[39m cur_step_output\n",
      "File \u001b[0;32m/opt/homebrew/Caskroom/mambaforge/base/envs/py38/lib/python3.8/site-packages/llama_index/core/instrumentation/dispatcher.py:223\u001b[0m, in \u001b[0;36mDispatcher.span.<locals>.wrapper\u001b[0;34m(func, instance, args, kwargs)\u001b[0m\n\u001b[1;32m    219\u001b[0m \u001b[38;5;28mself\u001b[39m\u001b[38;5;241m.\u001b[39mspan_enter(\n\u001b[1;32m    220\u001b[0m     id_\u001b[38;5;241m=\u001b[39mid_, bound_args\u001b[38;5;241m=\u001b[39mbound_args, instance\u001b[38;5;241m=\u001b[39minstance, parent_id\u001b[38;5;241m=\u001b[39mparent_id\n\u001b[1;32m    221\u001b[0m )\n\u001b[1;32m    222\u001b[0m \u001b[38;5;28;01mtry\u001b[39;00m:\n\u001b[0;32m--> 223\u001b[0m     result \u001b[38;5;241m=\u001b[39m \u001b[43mfunc\u001b[49m\u001b[43m(\u001b[49m\u001b[38;5;241;43m*\u001b[39;49m\u001b[43margs\u001b[49m\u001b[43m,\u001b[49m\u001b[43m \u001b[49m\u001b[38;5;241;43m*\u001b[39;49m\u001b[38;5;241;43m*\u001b[39;49m\u001b[43mkwargs\u001b[49m\u001b[43m)\u001b[49m\n\u001b[1;32m    224\u001b[0m \u001b[38;5;28;01mexcept\u001b[39;00m \u001b[38;5;167;01mBaseException\u001b[39;00m \u001b[38;5;28;01mas\u001b[39;00m e:\n\u001b[1;32m    225\u001b[0m     \u001b[38;5;28mself\u001b[39m\u001b[38;5;241m.\u001b[39mevent(SpanDropEvent(span_id\u001b[38;5;241m=\u001b[39mid_, err_str\u001b[38;5;241m=\u001b[39m\u001b[38;5;28mstr\u001b[39m(e)))\n",
      "File \u001b[0;32m/opt/homebrew/Caskroom/mambaforge/base/envs/py38/lib/python3.8/site-packages/llama_index/core/agent/runner/base.py:411\u001b[0m, in \u001b[0;36mAgentRunner._run_step\u001b[0;34m(self, task_id, step, input, mode, **kwargs)\u001b[0m\n\u001b[1;32m    407\u001b[0m \u001b[38;5;66;03m# TODO: figure out if you can dynamically swap in different step executors\u001b[39;00m\n\u001b[1;32m    408\u001b[0m \u001b[38;5;66;03m# not clear when you would do that by theoretically possible\u001b[39;00m\n\u001b[1;32m    410\u001b[0m \u001b[38;5;28;01mif\u001b[39;00m mode \u001b[38;5;241m==\u001b[39m ChatResponseMode\u001b[38;5;241m.\u001b[39mWAIT:\n\u001b[0;32m--> 411\u001b[0m     cur_step_output \u001b[38;5;241m=\u001b[39m \u001b[38;5;28;43mself\u001b[39;49m\u001b[38;5;241;43m.\u001b[39;49m\u001b[43magent_worker\u001b[49m\u001b[38;5;241;43m.\u001b[39;49m\u001b[43mrun_step\u001b[49m\u001b[43m(\u001b[49m\u001b[43mstep\u001b[49m\u001b[43m,\u001b[49m\u001b[43m \u001b[49m\u001b[43mtask\u001b[49m\u001b[43m,\u001b[49m\u001b[43m \u001b[49m\u001b[38;5;241;43m*\u001b[39;49m\u001b[38;5;241;43m*\u001b[39;49m\u001b[43mkwargs\u001b[49m\u001b[43m)\u001b[49m\n\u001b[1;32m    412\u001b[0m \u001b[38;5;28;01melif\u001b[39;00m mode \u001b[38;5;241m==\u001b[39m ChatResponseMode\u001b[38;5;241m.\u001b[39mSTREAM:\n\u001b[1;32m    413\u001b[0m     cur_step_output \u001b[38;5;241m=\u001b[39m \u001b[38;5;28mself\u001b[39m\u001b[38;5;241m.\u001b[39magent_worker\u001b[38;5;241m.\u001b[39mstream_step(step, task, \u001b[38;5;241m*\u001b[39m\u001b[38;5;241m*\u001b[39mkwargs)\n",
      "File \u001b[0;32m/opt/homebrew/Caskroom/mambaforge/base/envs/py38/lib/python3.8/site-packages/llama_index/core/callbacks/utils.py:41\u001b[0m, in \u001b[0;36mtrace_method.<locals>.decorator.<locals>.wrapper\u001b[0;34m(self, *args, **kwargs)\u001b[0m\n\u001b[1;32m     39\u001b[0m callback_manager \u001b[38;5;241m=\u001b[39m cast(CallbackManager, callback_manager)\n\u001b[1;32m     40\u001b[0m \u001b[38;5;28;01mwith\u001b[39;00m callback_manager\u001b[38;5;241m.\u001b[39mas_trace(trace_id):\n\u001b[0;32m---> 41\u001b[0m     \u001b[38;5;28;01mreturn\u001b[39;00m \u001b[43mfunc\u001b[49m\u001b[43m(\u001b[49m\u001b[38;5;28;43mself\u001b[39;49m\u001b[43m,\u001b[49m\u001b[43m \u001b[49m\u001b[38;5;241;43m*\u001b[39;49m\u001b[43margs\u001b[49m\u001b[43m,\u001b[49m\u001b[43m \u001b[49m\u001b[38;5;241;43m*\u001b[39;49m\u001b[38;5;241;43m*\u001b[39;49m\u001b[43mkwargs\u001b[49m\u001b[43m)\u001b[49m\n",
      "File \u001b[0;32m/opt/homebrew/Caskroom/mambaforge/base/envs/py38/lib/python3.8/site-packages/llama_index/core/agent/custom/pipeline_worker.py:154\u001b[0m, in \u001b[0;36mQueryPipelineAgentWorker.run_step\u001b[0;34m(self, step, task, **kwargs)\u001b[0m\n\u001b[1;32m    151\u001b[0m \u001b[38;5;28;01mfor\u001b[39;00m agent_fn_component \u001b[38;5;129;01min\u001b[39;00m \u001b[38;5;28mself\u001b[39m\u001b[38;5;241m.\u001b[39magent_components:\n\u001b[1;32m    152\u001b[0m     agent_fn_component\u001b[38;5;241m.\u001b[39mpartial(task\u001b[38;5;241m=\u001b[39mtask, state\u001b[38;5;241m=\u001b[39mstep\u001b[38;5;241m.\u001b[39mstep_state)\n\u001b[0;32m--> 154\u001b[0m agent_response, is_done \u001b[38;5;241m=\u001b[39m \u001b[38;5;28;43mself\u001b[39;49m\u001b[38;5;241;43m.\u001b[39;49m\u001b[43mpipeline\u001b[49m\u001b[38;5;241;43m.\u001b[39;49m\u001b[43mrun\u001b[49m\u001b[43m(\u001b[49m\u001b[43mstate\u001b[49m\u001b[38;5;241;43m=\u001b[39;49m\u001b[43mstep\u001b[49m\u001b[38;5;241;43m.\u001b[39;49m\u001b[43mstep_state\u001b[49m\u001b[43m,\u001b[49m\u001b[43m \u001b[49m\u001b[43mtask\u001b[49m\u001b[38;5;241;43m=\u001b[39;49m\u001b[43mtask\u001b[49m\u001b[43m)\u001b[49m\n\u001b[1;32m    155\u001b[0m response \u001b[38;5;241m=\u001b[39m \u001b[38;5;28mself\u001b[39m\u001b[38;5;241m.\u001b[39m_get_task_step_response(agent_response, step, is_done)\n\u001b[1;32m    156\u001b[0m \u001b[38;5;66;03m# sync step state with task state\u001b[39;00m\n",
      "File \u001b[0;32m/opt/homebrew/Caskroom/mambaforge/base/envs/py38/lib/python3.8/site-packages/llama_index/core/query_pipeline/query.py:321\u001b[0m, in \u001b[0;36mQueryPipeline.run\u001b[0;34m(self, return_values_direct, callback_manager, batch, *args, **kwargs)\u001b[0m\n\u001b[1;32m    317\u001b[0m     query_payload \u001b[38;5;241m=\u001b[39m json\u001b[38;5;241m.\u001b[39mdumps(\u001b[38;5;28mstr\u001b[39m(kwargs))\n\u001b[1;32m    318\u001b[0m \u001b[38;5;28;01mwith\u001b[39;00m \u001b[38;5;28mself\u001b[39m\u001b[38;5;241m.\u001b[39mcallback_manager\u001b[38;5;241m.\u001b[39mevent(\n\u001b[1;32m    319\u001b[0m     CBEventType\u001b[38;5;241m.\u001b[39mQUERY, payload\u001b[38;5;241m=\u001b[39m{EventPayload\u001b[38;5;241m.\u001b[39mQUERY_STR: query_payload}\n\u001b[1;32m    320\u001b[0m ) \u001b[38;5;28;01mas\u001b[39;00m query_event:\n\u001b[0;32m--> 321\u001b[0m     outputs, _ \u001b[38;5;241m=\u001b[39m \u001b[38;5;28;43mself\u001b[39;49m\u001b[38;5;241;43m.\u001b[39;49m\u001b[43m_run\u001b[49m\u001b[43m(\u001b[49m\n\u001b[1;32m    322\u001b[0m \u001b[43m        \u001b[49m\u001b[38;5;241;43m*\u001b[39;49m\u001b[43margs\u001b[49m\u001b[43m,\u001b[49m\n\u001b[1;32m    323\u001b[0m \u001b[43m        \u001b[49m\u001b[43mreturn_values_direct\u001b[49m\u001b[38;5;241;43m=\u001b[39;49m\u001b[43mreturn_values_direct\u001b[49m\u001b[43m,\u001b[49m\n\u001b[1;32m    324\u001b[0m \u001b[43m        \u001b[49m\u001b[43mshow_intermediates\u001b[49m\u001b[38;5;241;43m=\u001b[39;49m\u001b[38;5;28;43;01mFalse\u001b[39;49;00m\u001b[43m,\u001b[49m\n\u001b[1;32m    325\u001b[0m \u001b[43m        \u001b[49m\u001b[43mbatch\u001b[49m\u001b[38;5;241;43m=\u001b[39;49m\u001b[43mbatch\u001b[49m\u001b[43m,\u001b[49m\n\u001b[1;32m    326\u001b[0m \u001b[43m        \u001b[49m\u001b[38;5;241;43m*\u001b[39;49m\u001b[38;5;241;43m*\u001b[39;49m\u001b[43mkwargs\u001b[49m\u001b[43m,\u001b[49m\n\u001b[1;32m    327\u001b[0m \u001b[43m    \u001b[49m\u001b[43m)\u001b[49m\n\u001b[1;32m    329\u001b[0m     \u001b[38;5;28;01mreturn\u001b[39;00m outputs\n",
      "File \u001b[0;32m/opt/homebrew/Caskroom/mambaforge/base/envs/py38/lib/python3.8/site-packages/llama_index/core/query_pipeline/query.py:673\u001b[0m, in \u001b[0;36mQueryPipeline._run\u001b[0;34m(self, return_values_direct, show_intermediates, batch, *args, **kwargs)\u001b[0m\n\u001b[1;32m    671\u001b[0m     \u001b[38;5;28;01mreturn\u001b[39;00m result_outputs, intermediates\n\u001b[1;32m    672\u001b[0m \u001b[38;5;28;01melse\u001b[39;00m:\n\u001b[0;32m--> 673\u001b[0m     result_outputs, intermediates \u001b[38;5;241m=\u001b[39m \u001b[38;5;28;43mself\u001b[39;49m\u001b[38;5;241;43m.\u001b[39;49m\u001b[43m_run_multi\u001b[49m\u001b[43m(\u001b[49m\n\u001b[1;32m    674\u001b[0m \u001b[43m        \u001b[49m\u001b[43m{\u001b[49m\u001b[43mroot_key\u001b[49m\u001b[43m:\u001b[49m\u001b[43m \u001b[49m\u001b[43mkwargs\u001b[49m\u001b[43m}\u001b[49m\u001b[43m,\u001b[49m\u001b[43m \u001b[49m\u001b[43mshow_intermediates\u001b[49m\u001b[38;5;241;43m=\u001b[39;49m\u001b[43mshow_intermediates\u001b[49m\n\u001b[1;32m    675\u001b[0m \u001b[43m    \u001b[49m\u001b[43m)\u001b[49m\n\u001b[1;32m    677\u001b[0m     \u001b[38;5;28;01mreturn\u001b[39;00m (\n\u001b[1;32m    678\u001b[0m         \u001b[38;5;28mself\u001b[39m\u001b[38;5;241m.\u001b[39m_get_single_result_output(result_outputs, return_values_direct),\n\u001b[1;32m    679\u001b[0m         intermediates,\n\u001b[1;32m    680\u001b[0m     )\n",
      "File \u001b[0;32m/opt/homebrew/Caskroom/mambaforge/base/envs/py38/lib/python3.8/site-packages/llama_index/core/query_pipeline/query.py:876\u001b[0m, in \u001b[0;36mQueryPipeline._run_multi\u001b[0;34m(self, module_input_dict, show_intermediates)\u001b[0m\n\u001b[1;32m    874\u001b[0m \u001b[38;5;28;01mif\u001b[39;00m \u001b[38;5;28mself\u001b[39m\u001b[38;5;241m.\u001b[39mverbose:\n\u001b[1;32m    875\u001b[0m     print_debug_input(module_key, module_input)\n\u001b[0;32m--> 876\u001b[0m output_dict \u001b[38;5;241m=\u001b[39m \u001b[43mmodule\u001b[49m\u001b[38;5;241;43m.\u001b[39;49m\u001b[43mrun_component\u001b[49m\u001b[43m(\u001b[49m\u001b[38;5;241;43m*\u001b[39;49m\u001b[38;5;241;43m*\u001b[39;49m\u001b[43mmodule_input\u001b[49m\u001b[43m)\u001b[49m\n\u001b[1;32m    878\u001b[0m \u001b[38;5;28;01mif\u001b[39;00m show_intermediates \u001b[38;5;129;01mand\u001b[39;00m module_key \u001b[38;5;129;01mnot\u001b[39;00m \u001b[38;5;129;01min\u001b[39;00m intermediate_outputs:\n\u001b[1;32m    879\u001b[0m     intermediate_outputs[module_key] \u001b[38;5;241m=\u001b[39m ComponentIntermediates(\n\u001b[1;32m    880\u001b[0m         inputs\u001b[38;5;241m=\u001b[39mmodule_input, outputs\u001b[38;5;241m=\u001b[39moutput_dict\n\u001b[1;32m    881\u001b[0m     )\n",
      "File \u001b[0;32m/opt/homebrew/Caskroom/mambaforge/base/envs/py38/lib/python3.8/site-packages/llama_index/core/base/query_pipeline/query.py:199\u001b[0m, in \u001b[0;36mQueryComponent.run_component\u001b[0;34m(self, **kwargs)\u001b[0m\n\u001b[1;32m    197\u001b[0m kwargs\u001b[38;5;241m.\u001b[39mupdate(\u001b[38;5;28mself\u001b[39m\u001b[38;5;241m.\u001b[39mpartial_dict)\n\u001b[1;32m    198\u001b[0m kwargs \u001b[38;5;241m=\u001b[39m \u001b[38;5;28mself\u001b[39m\u001b[38;5;241m.\u001b[39mvalidate_component_inputs(kwargs)\n\u001b[0;32m--> 199\u001b[0m component_outputs \u001b[38;5;241m=\u001b[39m \u001b[38;5;28;43mself\u001b[39;49m\u001b[38;5;241;43m.\u001b[39;49m\u001b[43m_run_component\u001b[49m\u001b[43m(\u001b[49m\u001b[38;5;241;43m*\u001b[39;49m\u001b[38;5;241;43m*\u001b[39;49m\u001b[43mkwargs\u001b[49m\u001b[43m)\u001b[49m\n\u001b[1;32m    200\u001b[0m \u001b[38;5;28;01mreturn\u001b[39;00m \u001b[38;5;28mself\u001b[39m\u001b[38;5;241m.\u001b[39mvalidate_component_outputs(component_outputs)\n",
      "Cell \u001b[0;32mIn[12], line 62\u001b[0m, in \u001b[0;36mOutputAgentComponent._run_component\u001b[0;34m(self, **kwargs)\u001b[0m\n\u001b[1;32m     60\u001b[0m     \u001b[38;5;28;01mreturn\u001b[39;00m {\u001b[38;5;124m\"\u001b[39m\u001b[38;5;124moutput\u001b[39m\u001b[38;5;124m\"\u001b[39m: finalize_fn(task, state, reasoning_step, is_done\u001b[38;5;241m=\u001b[39m\u001b[38;5;28;01mTrue\u001b[39;00m)}\n\u001b[1;32m     61\u001b[0m \u001b[38;5;28;01melse\u001b[39;00m:\n\u001b[0;32m---> 62\u001b[0m     tool_output \u001b[38;5;241m=\u001b[39m \u001b[38;5;28;43mself\u001b[39;49m\u001b[38;5;241;43m.\u001b[39;49m\u001b[43mtool_runner_component\u001b[49m\u001b[38;5;241;43m.\u001b[39;49m\u001b[43mrun_component\u001b[49m\u001b[43m(\u001b[49m\n\u001b[1;32m     63\u001b[0m \u001b[43m        \u001b[49m\u001b[43mtool_name\u001b[49m\u001b[38;5;241;43m=\u001b[39;49m\u001b[43mreasoning_step\u001b[49m\u001b[38;5;241;43m.\u001b[39;49m\u001b[43maction\u001b[49m\u001b[43m,\u001b[49m\n\u001b[1;32m     64\u001b[0m \u001b[43m        \u001b[49m\u001b[43mtool_input\u001b[49m\u001b[38;5;241;43m=\u001b[39;49m\u001b[43mreasoning_step\u001b[49m\u001b[38;5;241;43m.\u001b[39;49m\u001b[43maction_input\u001b[49m\u001b[43m,\u001b[49m\n\u001b[1;32m     65\u001b[0m \u001b[43m    \u001b[49m\u001b[43m)\u001b[49m\n\u001b[1;32m     66\u001b[0m     \u001b[38;5;28;01mreturn\u001b[39;00m {\n\u001b[1;32m     67\u001b[0m         \u001b[38;5;124m\"\u001b[39m\u001b[38;5;124moutput\u001b[39m\u001b[38;5;124m\"\u001b[39m: finalize_fn(\n\u001b[1;32m     68\u001b[0m             task,\n\u001b[0;32m   (...)\u001b[0m\n\u001b[1;32m     73\u001b[0m         )\n\u001b[1;32m     74\u001b[0m     }\n",
      "File \u001b[0;32m/opt/homebrew/Caskroom/mambaforge/base/envs/py38/lib/python3.8/site-packages/llama_index/core/base/query_pipeline/query.py:199\u001b[0m, in \u001b[0;36mQueryComponent.run_component\u001b[0;34m(self, **kwargs)\u001b[0m\n\u001b[1;32m    197\u001b[0m kwargs\u001b[38;5;241m.\u001b[39mupdate(\u001b[38;5;28mself\u001b[39m\u001b[38;5;241m.\u001b[39mpartial_dict)\n\u001b[1;32m    198\u001b[0m kwargs \u001b[38;5;241m=\u001b[39m \u001b[38;5;28mself\u001b[39m\u001b[38;5;241m.\u001b[39mvalidate_component_inputs(kwargs)\n\u001b[0;32m--> 199\u001b[0m component_outputs \u001b[38;5;241m=\u001b[39m \u001b[38;5;28;43mself\u001b[39;49m\u001b[38;5;241;43m.\u001b[39;49m\u001b[43m_run_component\u001b[49m\u001b[43m(\u001b[49m\u001b[38;5;241;43m*\u001b[39;49m\u001b[38;5;241;43m*\u001b[39;49m\u001b[43mkwargs\u001b[49m\u001b[43m)\u001b[49m\n\u001b[1;32m    200\u001b[0m \u001b[38;5;28;01mreturn\u001b[39;00m \u001b[38;5;28mself\u001b[39m\u001b[38;5;241m.\u001b[39mvalidate_component_outputs(component_outputs)\n",
      "File \u001b[0;32m/opt/homebrew/Caskroom/mambaforge/base/envs/py38/lib/python3.8/site-packages/llama_index/core/query_pipeline/components/tool_runner.py:79\u001b[0m, in \u001b[0;36mToolRunnerComponent._run_component\u001b[0;34m(self, **kwargs)\u001b[0m\n\u001b[1;32m     71\u001b[0m tool \u001b[38;5;241m=\u001b[39m cast(AsyncBaseTool, \u001b[38;5;28mself\u001b[39m\u001b[38;5;241m.\u001b[39mtool_dict[tool_name])\n\u001b[1;32m     72\u001b[0m \u001b[38;5;28;01mwith\u001b[39;00m \u001b[38;5;28mself\u001b[39m\u001b[38;5;241m.\u001b[39mcallback_manager\u001b[38;5;241m.\u001b[39mevent(\n\u001b[1;32m     73\u001b[0m     CBEventType\u001b[38;5;241m.\u001b[39mFUNCTION_CALL,\n\u001b[1;32m     74\u001b[0m     payload\u001b[38;5;241m=\u001b[39m{\n\u001b[0;32m   (...)\u001b[0m\n\u001b[1;32m     77\u001b[0m     },\n\u001b[1;32m     78\u001b[0m ) \u001b[38;5;28;01mas\u001b[39;00m event:\n\u001b[0;32m---> 79\u001b[0m     tool_output \u001b[38;5;241m=\u001b[39m \u001b[43mtool\u001b[49m\u001b[43m(\u001b[49m\u001b[38;5;241;43m*\u001b[39;49m\u001b[38;5;241;43m*\u001b[39;49m\u001b[43mtool_input\u001b[49m\u001b[43m)\u001b[49m\n\u001b[1;32m     80\u001b[0m     event\u001b[38;5;241m.\u001b[39mon_end(payload\u001b[38;5;241m=\u001b[39m{EventPayload\u001b[38;5;241m.\u001b[39mFUNCTION_OUTPUT: \u001b[38;5;28mstr\u001b[39m(tool_output)})\n\u001b[1;32m     82\u001b[0m \u001b[38;5;28;01mreturn\u001b[39;00m {\u001b[38;5;124m\"\u001b[39m\u001b[38;5;124moutput\u001b[39m\u001b[38;5;124m\"\u001b[39m: tool_output}\n",
      "File \u001b[0;32m/opt/homebrew/Caskroom/mambaforge/base/envs/py38/lib/python3.8/site-packages/llama_index/core/tools/types.py:163\u001b[0m, in \u001b[0;36mAsyncBaseTool.__call__\u001b[0;34m(self, *args, **kwargs)\u001b[0m\n\u001b[1;32m    162\u001b[0m \u001b[38;5;28;01mdef\u001b[39;00m \u001b[38;5;21m__call__\u001b[39m(\u001b[38;5;28mself\u001b[39m, \u001b[38;5;241m*\u001b[39margs: Any, \u001b[38;5;241m*\u001b[39m\u001b[38;5;241m*\u001b[39mkwargs: Any) \u001b[38;5;241m-\u001b[39m\u001b[38;5;241m>\u001b[39m ToolOutput:\n\u001b[0;32m--> 163\u001b[0m     \u001b[38;5;28;01mreturn\u001b[39;00m \u001b[38;5;28;43mself\u001b[39;49m\u001b[38;5;241;43m.\u001b[39;49m\u001b[43mcall\u001b[49m\u001b[43m(\u001b[49m\u001b[38;5;241;43m*\u001b[39;49m\u001b[43margs\u001b[49m\u001b[43m,\u001b[49m\u001b[43m \u001b[49m\u001b[38;5;241;43m*\u001b[39;49m\u001b[38;5;241;43m*\u001b[39;49m\u001b[43mkwargs\u001b[49m\u001b[43m)\u001b[49m\n",
      "File \u001b[0;32m/opt/homebrew/Caskroom/mambaforge/base/envs/py38/lib/python3.8/site-packages/llama_index/core/tools/query_engine.py:68\u001b[0m, in \u001b[0;36mQueryEngineTool.call\u001b[0;34m(self, *args, **kwargs)\u001b[0m\n\u001b[1;32m     66\u001b[0m \u001b[38;5;28;01mdef\u001b[39;00m \u001b[38;5;21mcall\u001b[39m(\u001b[38;5;28mself\u001b[39m, \u001b[38;5;241m*\u001b[39margs: Any, \u001b[38;5;241m*\u001b[39m\u001b[38;5;241m*\u001b[39mkwargs: Any) \u001b[38;5;241m-\u001b[39m\u001b[38;5;241m>\u001b[39m ToolOutput:\n\u001b[1;32m     67\u001b[0m     query_str \u001b[38;5;241m=\u001b[39m \u001b[38;5;28mself\u001b[39m\u001b[38;5;241m.\u001b[39m_get_query_str(\u001b[38;5;241m*\u001b[39margs, \u001b[38;5;241m*\u001b[39m\u001b[38;5;241m*\u001b[39mkwargs)\n\u001b[0;32m---> 68\u001b[0m     response \u001b[38;5;241m=\u001b[39m \u001b[38;5;28;43mself\u001b[39;49m\u001b[38;5;241;43m.\u001b[39;49m\u001b[43m_query_engine\u001b[49m\u001b[38;5;241;43m.\u001b[39;49m\u001b[43mquery\u001b[49m\u001b[43m(\u001b[49m\u001b[43mquery_str\u001b[49m\u001b[43m)\u001b[49m\n\u001b[1;32m     69\u001b[0m     \u001b[38;5;28;01mreturn\u001b[39;00m ToolOutput(\n\u001b[1;32m     70\u001b[0m         content\u001b[38;5;241m=\u001b[39m\u001b[38;5;28mstr\u001b[39m(response),\n\u001b[1;32m     71\u001b[0m         tool_name\u001b[38;5;241m=\u001b[39m\u001b[38;5;28mself\u001b[39m\u001b[38;5;241m.\u001b[39mmetadata\u001b[38;5;241m.\u001b[39mname,\n\u001b[1;32m     72\u001b[0m         raw_input\u001b[38;5;241m=\u001b[39m{\u001b[38;5;124m\"\u001b[39m\u001b[38;5;124minput\u001b[39m\u001b[38;5;124m\"\u001b[39m: query_str},\n\u001b[1;32m     73\u001b[0m         raw_output\u001b[38;5;241m=\u001b[39mresponse,\n\u001b[1;32m     74\u001b[0m     )\n",
      "File \u001b[0;32m/opt/homebrew/Caskroom/mambaforge/base/envs/py38/lib/python3.8/site-packages/llama_index/core/instrumentation/dispatcher.py:223\u001b[0m, in \u001b[0;36mDispatcher.span.<locals>.wrapper\u001b[0;34m(func, instance, args, kwargs)\u001b[0m\n\u001b[1;32m    219\u001b[0m \u001b[38;5;28mself\u001b[39m\u001b[38;5;241m.\u001b[39mspan_enter(\n\u001b[1;32m    220\u001b[0m     id_\u001b[38;5;241m=\u001b[39mid_, bound_args\u001b[38;5;241m=\u001b[39mbound_args, instance\u001b[38;5;241m=\u001b[39minstance, parent_id\u001b[38;5;241m=\u001b[39mparent_id\n\u001b[1;32m    221\u001b[0m )\n\u001b[1;32m    222\u001b[0m \u001b[38;5;28;01mtry\u001b[39;00m:\n\u001b[0;32m--> 223\u001b[0m     result \u001b[38;5;241m=\u001b[39m \u001b[43mfunc\u001b[49m\u001b[43m(\u001b[49m\u001b[38;5;241;43m*\u001b[39;49m\u001b[43margs\u001b[49m\u001b[43m,\u001b[49m\u001b[43m \u001b[49m\u001b[38;5;241;43m*\u001b[39;49m\u001b[38;5;241;43m*\u001b[39;49m\u001b[43mkwargs\u001b[49m\u001b[43m)\u001b[49m\n\u001b[1;32m    224\u001b[0m \u001b[38;5;28;01mexcept\u001b[39;00m \u001b[38;5;167;01mBaseException\u001b[39;00m \u001b[38;5;28;01mas\u001b[39;00m e:\n\u001b[1;32m    225\u001b[0m     \u001b[38;5;28mself\u001b[39m\u001b[38;5;241m.\u001b[39mevent(SpanDropEvent(span_id\u001b[38;5;241m=\u001b[39mid_, err_str\u001b[38;5;241m=\u001b[39m\u001b[38;5;28mstr\u001b[39m(e)))\n",
      "File \u001b[0;32m/opt/homebrew/Caskroom/mambaforge/base/envs/py38/lib/python3.8/site-packages/llama_index/core/base/base_query_engine.py:51\u001b[0m, in \u001b[0;36mBaseQueryEngine.query\u001b[0;34m(self, str_or_query_bundle)\u001b[0m\n\u001b[1;32m     49\u001b[0m     \u001b[38;5;28;01mif\u001b[39;00m \u001b[38;5;28misinstance\u001b[39m(str_or_query_bundle, \u001b[38;5;28mstr\u001b[39m):\n\u001b[1;32m     50\u001b[0m         str_or_query_bundle \u001b[38;5;241m=\u001b[39m QueryBundle(str_or_query_bundle)\n\u001b[0;32m---> 51\u001b[0m     query_result \u001b[38;5;241m=\u001b[39m \u001b[38;5;28;43mself\u001b[39;49m\u001b[38;5;241;43m.\u001b[39;49m\u001b[43m_query\u001b[49m\u001b[43m(\u001b[49m\u001b[43mstr_or_query_bundle\u001b[49m\u001b[43m)\u001b[49m\n\u001b[1;32m     52\u001b[0m dispatcher\u001b[38;5;241m.\u001b[39mevent(\n\u001b[1;32m     53\u001b[0m     QueryEndEvent(query\u001b[38;5;241m=\u001b[39mstr_or_query_bundle, response\u001b[38;5;241m=\u001b[39mquery_result)\n\u001b[1;32m     54\u001b[0m )\n\u001b[1;32m     55\u001b[0m \u001b[38;5;28;01mreturn\u001b[39;00m query_result\n",
      "File \u001b[0;32m/opt/homebrew/Caskroom/mambaforge/base/envs/py38/lib/python3.8/site-packages/llama_index/core/indices/struct_store/sql_query.py:386\u001b[0m, in \u001b[0;36mBaseSQLTableQueryEngine._query\u001b[0;34m(self, query_bundle)\u001b[0m\n\u001b[1;32m    384\u001b[0m \u001b[38;5;28;01mdef\u001b[39;00m \u001b[38;5;21m_query\u001b[39m(\u001b[38;5;28mself\u001b[39m, query_bundle: QueryBundle) \u001b[38;5;241m-\u001b[39m\u001b[38;5;241m>\u001b[39m Response:\n\u001b[1;32m    385\u001b[0m \u001b[38;5;250m    \u001b[39m\u001b[38;5;124;03m\"\"\"Answer a query.\"\"\"\u001b[39;00m\n\u001b[0;32m--> 386\u001b[0m     retrieved_nodes, metadata \u001b[38;5;241m=\u001b[39m \u001b[38;5;28;43mself\u001b[39;49m\u001b[38;5;241;43m.\u001b[39;49m\u001b[43msql_retriever\u001b[49m\u001b[38;5;241;43m.\u001b[39;49m\u001b[43mretrieve_with_metadata\u001b[49m\u001b[43m(\u001b[49m\n\u001b[1;32m    387\u001b[0m \u001b[43m        \u001b[49m\u001b[43mquery_bundle\u001b[49m\n\u001b[1;32m    388\u001b[0m \u001b[43m    \u001b[49m\u001b[43m)\u001b[49m\n\u001b[1;32m    390\u001b[0m     sql_query_str \u001b[38;5;241m=\u001b[39m metadata[\u001b[38;5;124m\"\u001b[39m\u001b[38;5;124msql_query\u001b[39m\u001b[38;5;124m\"\u001b[39m]\n\u001b[1;32m    391\u001b[0m     \u001b[38;5;28;01mif\u001b[39;00m \u001b[38;5;28mself\u001b[39m\u001b[38;5;241m.\u001b[39m_synthesize_response:\n",
      "File \u001b[0;32m/opt/homebrew/Caskroom/mambaforge/base/envs/py38/lib/python3.8/site-packages/llama_index/core/indices/struct_store/sql_retriever.py:291\u001b[0m, in \u001b[0;36mNLSQLRetriever.retrieve_with_metadata\u001b[0;34m(self, str_or_query_bundle)\u001b[0m\n\u001b[1;32m    289\u001b[0m \u001b[38;5;28;01melse\u001b[39;00m:\n\u001b[1;32m    290\u001b[0m     query_bundle \u001b[38;5;241m=\u001b[39m str_or_query_bundle\n\u001b[0;32m--> 291\u001b[0m table_desc_str \u001b[38;5;241m=\u001b[39m \u001b[38;5;28;43mself\u001b[39;49m\u001b[38;5;241;43m.\u001b[39;49m\u001b[43m_get_table_context\u001b[49m\u001b[43m(\u001b[49m\u001b[43mquery_bundle\u001b[49m\u001b[43m)\u001b[49m\n\u001b[1;32m    292\u001b[0m logger\u001b[38;5;241m.\u001b[39minfo(\u001b[38;5;124mf\u001b[39m\u001b[38;5;124m\"\u001b[39m\u001b[38;5;124m> Table desc str: \u001b[39m\u001b[38;5;132;01m{\u001b[39;00mtable_desc_str\u001b[38;5;132;01m}\u001b[39;00m\u001b[38;5;124m\"\u001b[39m)\n\u001b[1;32m    293\u001b[0m \u001b[38;5;28;01mif\u001b[39;00m \u001b[38;5;28mself\u001b[39m\u001b[38;5;241m.\u001b[39m_verbose:\n",
      "File \u001b[0;32m/opt/homebrew/Caskroom/mambaforge/base/envs/py38/lib/python3.8/site-packages/llama_index/core/indices/struct_store/sql_retriever.py:397\u001b[0m, in \u001b[0;36mNLSQLRetriever._get_table_context\u001b[0;34m(self, query_bundle)\u001b[0m\n\u001b[1;32m    394\u001b[0m     context_strs \u001b[38;5;241m=\u001b[39m [\u001b[38;5;28mself\u001b[39m\u001b[38;5;241m.\u001b[39m_context_str_prefix]\n\u001b[1;32m    396\u001b[0m \u001b[38;5;28;01mfor\u001b[39;00m table_schema_obj \u001b[38;5;129;01min\u001b[39;00m table_schema_objs:\n\u001b[0;32m--> 397\u001b[0m     table_info \u001b[38;5;241m=\u001b[39m \u001b[38;5;28;43mself\u001b[39;49m\u001b[38;5;241;43m.\u001b[39;49m\u001b[43m_sql_database\u001b[49m\u001b[38;5;241;43m.\u001b[39;49m\u001b[43mget_single_table_info\u001b[49m\u001b[43m(\u001b[49m\n\u001b[1;32m    398\u001b[0m \u001b[43m        \u001b[49m\u001b[43mtable_schema_obj\u001b[49m\u001b[38;5;241;43m.\u001b[39;49m\u001b[43mtable_name\u001b[49m\n\u001b[1;32m    399\u001b[0m \u001b[43m    \u001b[49m\u001b[43m)\u001b[49m\n\u001b[1;32m    401\u001b[0m     \u001b[38;5;28;01mif\u001b[39;00m table_schema_obj\u001b[38;5;241m.\u001b[39mcontext_str:\n\u001b[1;32m    402\u001b[0m         table_opt_context \u001b[38;5;241m=\u001b[39m \u001b[38;5;124m\"\u001b[39m\u001b[38;5;124m The table description is: \u001b[39m\u001b[38;5;124m\"\u001b[39m\n",
      "File \u001b[0;32m/opt/homebrew/Caskroom/mambaforge/base/envs/py38/lib/python3.8/site-packages/llama_index/core/utilities/sql_wrapper.py:167\u001b[0m, in \u001b[0;36mSQLDatabase.get_single_table_info\u001b[0;34m(self, table_name)\u001b[0m\n\u001b[1;32m    165\u001b[0m template \u001b[38;5;241m+\u001b[39m\u001b[38;5;241m=\u001b[39m \u001b[38;5;124m\"\u001b[39m\u001b[38;5;124mand foreign keys: \u001b[39m\u001b[38;5;132;01m{foreign_keys}\u001b[39;00m\u001b[38;5;124m.\u001b[39m\u001b[38;5;124m\"\u001b[39m\n\u001b[1;32m    166\u001b[0m columns \u001b[38;5;241m=\u001b[39m []\n\u001b[0;32m--> 167\u001b[0m \u001b[38;5;28;01mfor\u001b[39;00m column \u001b[38;5;129;01min\u001b[39;00m \u001b[38;5;28;43mself\u001b[39;49m\u001b[38;5;241;43m.\u001b[39;49m\u001b[43m_inspector\u001b[49m\u001b[38;5;241;43m.\u001b[39;49m\u001b[43mget_columns\u001b[49m\u001b[43m(\u001b[49m\u001b[43mtable_name\u001b[49m\u001b[43m,\u001b[49m\u001b[43m \u001b[49m\u001b[43mschema\u001b[49m\u001b[38;5;241;43m=\u001b[39;49m\u001b[38;5;28;43mself\u001b[39;49m\u001b[38;5;241;43m.\u001b[39;49m\u001b[43m_schema\u001b[49m\u001b[43m)\u001b[49m:\n\u001b[1;32m    168\u001b[0m     \u001b[38;5;28;01mif\u001b[39;00m column\u001b[38;5;241m.\u001b[39mget(\u001b[38;5;124m\"\u001b[39m\u001b[38;5;124mcomment\u001b[39m\u001b[38;5;124m\"\u001b[39m):\n\u001b[1;32m    169\u001b[0m         columns\u001b[38;5;241m.\u001b[39mappend(\n\u001b[1;32m    170\u001b[0m             \u001b[38;5;124mf\u001b[39m\u001b[38;5;124m\"\u001b[39m\u001b[38;5;132;01m{\u001b[39;00mcolumn[\u001b[38;5;124m'\u001b[39m\u001b[38;5;124mname\u001b[39m\u001b[38;5;124m'\u001b[39m]\u001b[38;5;132;01m}\u001b[39;00m\u001b[38;5;124m (\u001b[39m\u001b[38;5;132;01m{\u001b[39;00mcolumn[\u001b[38;5;124m'\u001b[39m\u001b[38;5;124mtype\u001b[39m\u001b[38;5;124m'\u001b[39m]\u001b[38;5;132;01m!s}\u001b[39;00m\u001b[38;5;124m): \u001b[39m\u001b[38;5;124m\"\u001b[39m\n\u001b[1;32m    171\u001b[0m             \u001b[38;5;124mf\u001b[39m\u001b[38;5;124m\"\u001b[39m\u001b[38;5;124m'\u001b[39m\u001b[38;5;132;01m{\u001b[39;00mcolumn\u001b[38;5;241m.\u001b[39mget(\u001b[38;5;124m'\u001b[39m\u001b[38;5;124mcomment\u001b[39m\u001b[38;5;124m'\u001b[39m)\u001b[38;5;132;01m}\u001b[39;00m\u001b[38;5;124m'\u001b[39m\u001b[38;5;124m\"\u001b[39m\n\u001b[1;32m    172\u001b[0m         )\n",
      "File \u001b[0;32m/opt/homebrew/Caskroom/mambaforge/base/envs/py38/lib/python3.8/site-packages/sqlalchemy/engine/reflection.py:859\u001b[0m, in \u001b[0;36mInspector.get_columns\u001b[0;34m(self, table_name, schema, **kw)\u001b[0m\n\u001b[1;32m    835\u001b[0m \u001b[38;5;250m\u001b[39m\u001b[38;5;124mr\u001b[39m\u001b[38;5;124;03m\"\"\"Return information about columns in ``table_name``.\u001b[39;00m\n\u001b[1;32m    836\u001b[0m \n\u001b[1;32m    837\u001b[0m \u001b[38;5;124;03mGiven a string ``table_name`` and an optional string ``schema``,\u001b[39;00m\n\u001b[0;32m   (...)\u001b[0m\n\u001b[1;32m    855\u001b[0m \n\u001b[1;32m    856\u001b[0m \u001b[38;5;124;03m\"\"\"\u001b[39;00m\n\u001b[1;32m    858\u001b[0m \u001b[38;5;28;01mwith\u001b[39;00m \u001b[38;5;28mself\u001b[39m\u001b[38;5;241m.\u001b[39m_operation_context() \u001b[38;5;28;01mas\u001b[39;00m conn:\n\u001b[0;32m--> 859\u001b[0m     col_defs \u001b[38;5;241m=\u001b[39m \u001b[38;5;28;43mself\u001b[39;49m\u001b[38;5;241;43m.\u001b[39;49m\u001b[43mdialect\u001b[49m\u001b[38;5;241;43m.\u001b[39;49m\u001b[43mget_columns\u001b[49m\u001b[43m(\u001b[49m\n\u001b[1;32m    860\u001b[0m \u001b[43m        \u001b[49m\u001b[43mconn\u001b[49m\u001b[43m,\u001b[49m\u001b[43m \u001b[49m\u001b[43mtable_name\u001b[49m\u001b[43m,\u001b[49m\u001b[43m \u001b[49m\u001b[43mschema\u001b[49m\u001b[43m,\u001b[49m\u001b[43m \u001b[49m\u001b[43minfo_cache\u001b[49m\u001b[38;5;241;43m=\u001b[39;49m\u001b[38;5;28;43mself\u001b[39;49m\u001b[38;5;241;43m.\u001b[39;49m\u001b[43minfo_cache\u001b[49m\u001b[43m,\u001b[49m\u001b[43m \u001b[49m\u001b[38;5;241;43m*\u001b[39;49m\u001b[38;5;241;43m*\u001b[39;49m\u001b[43mkw\u001b[49m\n\u001b[1;32m    861\u001b[0m \u001b[43m    \u001b[49m\u001b[43m)\u001b[49m\n\u001b[1;32m    862\u001b[0m \u001b[38;5;28;01mif\u001b[39;00m col_defs:\n\u001b[1;32m    863\u001b[0m     \u001b[38;5;28mself\u001b[39m\u001b[38;5;241m.\u001b[39m_instantiate_types([col_defs])\n",
      "File \u001b[0;32m<string>:2\u001b[0m, in \u001b[0;36mget_columns\u001b[0;34m(self, connection, table_name, schema, **kw)\u001b[0m\n",
      "File \u001b[0;32m/opt/homebrew/Caskroom/mambaforge/base/envs/py38/lib/python3.8/site-packages/sqlalchemy/engine/reflection.py:97\u001b[0m, in \u001b[0;36mcache\u001b[0;34m(fn, self, con, *args, **kw)\u001b[0m\n\u001b[1;32m     95\u001b[0m ret: _R \u001b[38;5;241m=\u001b[39m info_cache\u001b[38;5;241m.\u001b[39mget(key)\n\u001b[1;32m     96\u001b[0m \u001b[38;5;28;01mif\u001b[39;00m ret \u001b[38;5;129;01mis\u001b[39;00m \u001b[38;5;28;01mNone\u001b[39;00m:\n\u001b[0;32m---> 97\u001b[0m     ret \u001b[38;5;241m=\u001b[39m \u001b[43mfn\u001b[49m\u001b[43m(\u001b[49m\u001b[38;5;28;43mself\u001b[39;49m\u001b[43m,\u001b[49m\u001b[43m \u001b[49m\u001b[43mcon\u001b[49m\u001b[43m,\u001b[49m\u001b[43m \u001b[49m\u001b[38;5;241;43m*\u001b[39;49m\u001b[43margs\u001b[49m\u001b[43m,\u001b[49m\u001b[43m \u001b[49m\u001b[38;5;241;43m*\u001b[39;49m\u001b[38;5;241;43m*\u001b[39;49m\u001b[43mkw\u001b[49m\u001b[43m)\u001b[49m\n\u001b[1;32m     98\u001b[0m     info_cache[key] \u001b[38;5;241m=\u001b[39m ret\n\u001b[1;32m     99\u001b[0m \u001b[38;5;28;01mreturn\u001b[39;00m ret\n",
      "File \u001b[0;32m/opt/homebrew/Caskroom/mambaforge/base/envs/py38/lib/python3.8/site-packages/sqlalchemy/dialects/sqlite/base.py:2250\u001b[0m, in \u001b[0;36mSQLiteDialect.get_columns\u001b[0;34m(self, connection, table_name, schema, **kw)\u001b[0m\n\u001b[1;32m   2248\u001b[0m     \u001b[38;5;28;01mreturn\u001b[39;00m columns\n\u001b[1;32m   2249\u001b[0m \u001b[38;5;28;01melif\u001b[39;00m \u001b[38;5;129;01mnot\u001b[39;00m \u001b[38;5;28mself\u001b[39m\u001b[38;5;241m.\u001b[39mhas_table(connection, table_name, schema):\n\u001b[0;32m-> 2250\u001b[0m     \u001b[38;5;28;01mraise\u001b[39;00m exc\u001b[38;5;241m.\u001b[39mNoSuchTableError(\n\u001b[1;32m   2251\u001b[0m         \u001b[38;5;124mf\u001b[39m\u001b[38;5;124m\"\u001b[39m\u001b[38;5;132;01m{\u001b[39;00mschema\u001b[38;5;132;01m}\u001b[39;00m\u001b[38;5;124m.\u001b[39m\u001b[38;5;132;01m{\u001b[39;00mtable_name\u001b[38;5;132;01m}\u001b[39;00m\u001b[38;5;124m\"\u001b[39m \u001b[38;5;28;01mif\u001b[39;00m schema \u001b[38;5;28;01melse\u001b[39;00m table_name\n\u001b[1;32m   2252\u001b[0m     )\n\u001b[1;32m   2253\u001b[0m \u001b[38;5;28;01melse\u001b[39;00m:\n\u001b[1;32m   2254\u001b[0m     \u001b[38;5;28;01mreturn\u001b[39;00m ReflectionDefaults\u001b[38;5;241m.\u001b[39mcolumns()\n",
      "\u001b[0;31mNoSuchTableError\u001b[0m: album"
     ]
    }
   ],
   "source": [
    "agent_worker = QueryPipelineAgentWorker(qp)\n",
    "agent = AgentRunner(agent_worker)\n",
    "response = agent.chat(\"Is Aerosmith in this database?\")\n",
    "print(str(response))"
   ]
  },
  {
   "cell_type": "code",
   "execution_count": 18,
   "metadata": {
    "id": "hZr6k6boBKXW"
   },
   "outputs": [
    {
     "name": "stderr",
     "output_type": "stream",
     "text": [
      "  0%|          | 0/50 [00:00<?, ?it/s]"
     ]
    },
    {
     "name": "stdout",
     "output_type": "stream",
     "text": [
      "\u001b[1;3;38;2;155;135;227m> Running module agent_input with input: \n",
      "state: {'sources': [], 'memory': ChatMemoryBuffer(chat_store=SimpleChatStore(store={}), chat_store_key='chat_history', token_limit=3000, tokenizer_fn=functools.partial(<bound method Encoding.encode of <Encod...\n",
      "task: task_id='bc1c9e58-c797-43b4-9179-05154576ad11' input='What is the name of the artist with ID 5?' memory=ChatMemoryBuffer(chat_store=SimpleChatStore(store={}), chat_store_key='chat_history', token_limi...\n",
      "\n",
      "\u001b[0m\u001b[1;3;38;2;155;135;227m> Running module react_prompt with input: \n",
      "input: What is the name of the artist with ID 5?\n",
      "\n",
      "\u001b[0m\u001b[1;3;38;2;155;135;227m> Running module llm with input: \n",
      "messages: [ChatMessage(role=<MessageRole.SYSTEM: 'system'>, content='You are designed to help with a variety of tasks, from answering questions to providing summaries to other types of analyses.\\n\\n## Tools\\n\\n...\n",
      "\n",
      "\u001b[0m"
     ]
    },
    {
     "name": "stderr",
     "output_type": "stream",
     "text": [
      "  0%|          | 0/50 [00:02<?, ?it/s]"
     ]
    },
    {
     "name": "stdout",
     "output_type": "stream",
     "text": [
      "\u001b[1;3;38;2;155;135;227m> Running module react_output with input: \n",
      "chat_response: assistant: Thought: The current language of the user is English. I need to use a tool to help me answer the question.\n",
      "Action: sql_tool\n",
      "Action Input: {\"input\": \"What is the name of the artist with ID 5...\n",
      "\n",
      "\u001b[0m"
     ]
    },
    {
     "name": "stderr",
     "output_type": "stream",
     "text": [
      "\n"
     ]
    },
    {
     "ename": "NoSuchTableError",
     "evalue": "album",
     "output_type": "error",
     "traceback": [
      "\u001b[0;31m---------------------------------------------------------------------------\u001b[0m",
      "\u001b[0;31mNoSuchTableError\u001b[0m                          Traceback (most recent call last)",
      "Cell \u001b[0;32mIn[18], line 8\u001b[0m\n\u001b[1;32m      6\u001b[0m task \u001b[38;5;241m=\u001b[39m agent\u001b[38;5;241m.\u001b[39mcreate_task(question)\n\u001b[1;32m      7\u001b[0m \u001b[38;5;66;03m# Need to manually run the task as to recover the convo_history\u001b[39;00m\n\u001b[0;32m----> 8\u001b[0m step_output \u001b[38;5;241m=\u001b[39m \u001b[43magent\u001b[49m\u001b[38;5;241;43m.\u001b[39;49m\u001b[43mrun_step\u001b[49m\u001b[43m(\u001b[49m\u001b[43mtask\u001b[49m\u001b[38;5;241;43m.\u001b[39;49m\u001b[43mtask_id\u001b[49m\u001b[43m)\u001b[49m\n\u001b[1;32m      9\u001b[0m ans \u001b[38;5;241m=\u001b[39m \u001b[38;5;28mstr\u001b[39m(step_output)\n\u001b[1;32m     10\u001b[0m sql_query_match \u001b[38;5;241m=\u001b[39m re\u001b[38;5;241m.\u001b[39msearch(\u001b[38;5;124mr\u001b[39m\u001b[38;5;124m\"\u001b[39m\u001b[38;5;124m\\\u001b[39m\u001b[38;5;124m'\u001b[39m\u001b[38;5;124msql_query\u001b[39m\u001b[38;5;124m\\\u001b[39m\u001b[38;5;124m'\u001b[39m\u001b[38;5;124m: \u001b[39m\u001b[38;5;124m\\\u001b[39m\u001b[38;5;124m'\u001b[39m\u001b[38;5;124m([^\u001b[39m\u001b[38;5;124m\\\u001b[39m\u001b[38;5;124m'\u001b[39m\u001b[38;5;124m]+)\u001b[39m\u001b[38;5;124m\\\u001b[39m\u001b[38;5;124m'\u001b[39m\u001b[38;5;124m\"\u001b[39m, ans)\n",
      "File \u001b[0;32m/opt/homebrew/Caskroom/mambaforge/base/envs/py38/lib/python3.8/site-packages/llama_index/core/instrumentation/dispatcher.py:223\u001b[0m, in \u001b[0;36mDispatcher.span.<locals>.wrapper\u001b[0;34m(func, instance, args, kwargs)\u001b[0m\n\u001b[1;32m    219\u001b[0m \u001b[38;5;28mself\u001b[39m\u001b[38;5;241m.\u001b[39mspan_enter(\n\u001b[1;32m    220\u001b[0m     id_\u001b[38;5;241m=\u001b[39mid_, bound_args\u001b[38;5;241m=\u001b[39mbound_args, instance\u001b[38;5;241m=\u001b[39minstance, parent_id\u001b[38;5;241m=\u001b[39mparent_id\n\u001b[1;32m    221\u001b[0m )\n\u001b[1;32m    222\u001b[0m \u001b[38;5;28;01mtry\u001b[39;00m:\n\u001b[0;32m--> 223\u001b[0m     result \u001b[38;5;241m=\u001b[39m \u001b[43mfunc\u001b[49m\u001b[43m(\u001b[49m\u001b[38;5;241;43m*\u001b[39;49m\u001b[43margs\u001b[49m\u001b[43m,\u001b[49m\u001b[43m \u001b[49m\u001b[38;5;241;43m*\u001b[39;49m\u001b[38;5;241;43m*\u001b[39;49m\u001b[43mkwargs\u001b[49m\u001b[43m)\u001b[49m\n\u001b[1;32m    224\u001b[0m \u001b[38;5;28;01mexcept\u001b[39;00m \u001b[38;5;167;01mBaseException\u001b[39;00m \u001b[38;5;28;01mas\u001b[39;00m e:\n\u001b[1;32m    225\u001b[0m     \u001b[38;5;28mself\u001b[39m\u001b[38;5;241m.\u001b[39mevent(SpanDropEvent(span_id\u001b[38;5;241m=\u001b[39mid_, err_str\u001b[38;5;241m=\u001b[39m\u001b[38;5;28mstr\u001b[39m(e)))\n",
      "File \u001b[0;32m/opt/homebrew/Caskroom/mambaforge/base/envs/py38/lib/python3.8/site-packages/llama_index/core/agent/runner/base.py:478\u001b[0m, in \u001b[0;36mAgentRunner.run_step\u001b[0;34m(self, task_id, input, step, **kwargs)\u001b[0m\n\u001b[1;32m    476\u001b[0m \u001b[38;5;250m\u001b[39m\u001b[38;5;124;03m\"\"\"Run step.\"\"\"\u001b[39;00m\n\u001b[1;32m    477\u001b[0m step \u001b[38;5;241m=\u001b[39m validate_step_from_args(task_id, \u001b[38;5;28minput\u001b[39m, step, \u001b[38;5;241m*\u001b[39m\u001b[38;5;241m*\u001b[39mkwargs)\n\u001b[0;32m--> 478\u001b[0m \u001b[38;5;28;01mreturn\u001b[39;00m \u001b[38;5;28;43mself\u001b[39;49m\u001b[38;5;241;43m.\u001b[39;49m\u001b[43m_run_step\u001b[49m\u001b[43m(\u001b[49m\n\u001b[1;32m    479\u001b[0m \u001b[43m    \u001b[49m\u001b[43mtask_id\u001b[49m\u001b[43m,\u001b[49m\u001b[43m \u001b[49m\u001b[43mstep\u001b[49m\u001b[43m,\u001b[49m\u001b[43m \u001b[49m\u001b[38;5;28;43minput\u001b[39;49m\u001b[38;5;241;43m=\u001b[39;49m\u001b[38;5;28;43minput\u001b[39;49m\u001b[43m,\u001b[49m\u001b[43m \u001b[49m\u001b[43mmode\u001b[49m\u001b[38;5;241;43m=\u001b[39;49m\u001b[43mChatResponseMode\u001b[49m\u001b[38;5;241;43m.\u001b[39;49m\u001b[43mWAIT\u001b[49m\u001b[43m,\u001b[49m\u001b[43m \u001b[49m\u001b[38;5;241;43m*\u001b[39;49m\u001b[38;5;241;43m*\u001b[39;49m\u001b[43mkwargs\u001b[49m\n\u001b[1;32m    480\u001b[0m \u001b[43m\u001b[49m\u001b[43m)\u001b[49m\n",
      "File \u001b[0;32m/opt/homebrew/Caskroom/mambaforge/base/envs/py38/lib/python3.8/site-packages/llama_index/core/instrumentation/dispatcher.py:223\u001b[0m, in \u001b[0;36mDispatcher.span.<locals>.wrapper\u001b[0;34m(func, instance, args, kwargs)\u001b[0m\n\u001b[1;32m    219\u001b[0m \u001b[38;5;28mself\u001b[39m\u001b[38;5;241m.\u001b[39mspan_enter(\n\u001b[1;32m    220\u001b[0m     id_\u001b[38;5;241m=\u001b[39mid_, bound_args\u001b[38;5;241m=\u001b[39mbound_args, instance\u001b[38;5;241m=\u001b[39minstance, parent_id\u001b[38;5;241m=\u001b[39mparent_id\n\u001b[1;32m    221\u001b[0m )\n\u001b[1;32m    222\u001b[0m \u001b[38;5;28;01mtry\u001b[39;00m:\n\u001b[0;32m--> 223\u001b[0m     result \u001b[38;5;241m=\u001b[39m \u001b[43mfunc\u001b[49m\u001b[43m(\u001b[49m\u001b[38;5;241;43m*\u001b[39;49m\u001b[43margs\u001b[49m\u001b[43m,\u001b[49m\u001b[43m \u001b[49m\u001b[38;5;241;43m*\u001b[39;49m\u001b[38;5;241;43m*\u001b[39;49m\u001b[43mkwargs\u001b[49m\u001b[43m)\u001b[49m\n\u001b[1;32m    224\u001b[0m \u001b[38;5;28;01mexcept\u001b[39;00m \u001b[38;5;167;01mBaseException\u001b[39;00m \u001b[38;5;28;01mas\u001b[39;00m e:\n\u001b[1;32m    225\u001b[0m     \u001b[38;5;28mself\u001b[39m\u001b[38;5;241m.\u001b[39mevent(SpanDropEvent(span_id\u001b[38;5;241m=\u001b[39mid_, err_str\u001b[38;5;241m=\u001b[39m\u001b[38;5;28mstr\u001b[39m(e)))\n",
      "File \u001b[0;32m/opt/homebrew/Caskroom/mambaforge/base/envs/py38/lib/python3.8/site-packages/llama_index/core/agent/runner/base.py:411\u001b[0m, in \u001b[0;36mAgentRunner._run_step\u001b[0;34m(self, task_id, step, input, mode, **kwargs)\u001b[0m\n\u001b[1;32m    407\u001b[0m \u001b[38;5;66;03m# TODO: figure out if you can dynamically swap in different step executors\u001b[39;00m\n\u001b[1;32m    408\u001b[0m \u001b[38;5;66;03m# not clear when you would do that by theoretically possible\u001b[39;00m\n\u001b[1;32m    410\u001b[0m \u001b[38;5;28;01mif\u001b[39;00m mode \u001b[38;5;241m==\u001b[39m ChatResponseMode\u001b[38;5;241m.\u001b[39mWAIT:\n\u001b[0;32m--> 411\u001b[0m     cur_step_output \u001b[38;5;241m=\u001b[39m \u001b[38;5;28;43mself\u001b[39;49m\u001b[38;5;241;43m.\u001b[39;49m\u001b[43magent_worker\u001b[49m\u001b[38;5;241;43m.\u001b[39;49m\u001b[43mrun_step\u001b[49m\u001b[43m(\u001b[49m\u001b[43mstep\u001b[49m\u001b[43m,\u001b[49m\u001b[43m \u001b[49m\u001b[43mtask\u001b[49m\u001b[43m,\u001b[49m\u001b[43m \u001b[49m\u001b[38;5;241;43m*\u001b[39;49m\u001b[38;5;241;43m*\u001b[39;49m\u001b[43mkwargs\u001b[49m\u001b[43m)\u001b[49m\n\u001b[1;32m    412\u001b[0m \u001b[38;5;28;01melif\u001b[39;00m mode \u001b[38;5;241m==\u001b[39m ChatResponseMode\u001b[38;5;241m.\u001b[39mSTREAM:\n\u001b[1;32m    413\u001b[0m     cur_step_output \u001b[38;5;241m=\u001b[39m \u001b[38;5;28mself\u001b[39m\u001b[38;5;241m.\u001b[39magent_worker\u001b[38;5;241m.\u001b[39mstream_step(step, task, \u001b[38;5;241m*\u001b[39m\u001b[38;5;241m*\u001b[39mkwargs)\n",
      "File \u001b[0;32m/opt/homebrew/Caskroom/mambaforge/base/envs/py38/lib/python3.8/site-packages/llama_index/core/callbacks/utils.py:41\u001b[0m, in \u001b[0;36mtrace_method.<locals>.decorator.<locals>.wrapper\u001b[0;34m(self, *args, **kwargs)\u001b[0m\n\u001b[1;32m     39\u001b[0m callback_manager \u001b[38;5;241m=\u001b[39m cast(CallbackManager, callback_manager)\n\u001b[1;32m     40\u001b[0m \u001b[38;5;28;01mwith\u001b[39;00m callback_manager\u001b[38;5;241m.\u001b[39mas_trace(trace_id):\n\u001b[0;32m---> 41\u001b[0m     \u001b[38;5;28;01mreturn\u001b[39;00m \u001b[43mfunc\u001b[49m\u001b[43m(\u001b[49m\u001b[38;5;28;43mself\u001b[39;49m\u001b[43m,\u001b[49m\u001b[43m \u001b[49m\u001b[38;5;241;43m*\u001b[39;49m\u001b[43margs\u001b[49m\u001b[43m,\u001b[49m\u001b[43m \u001b[49m\u001b[38;5;241;43m*\u001b[39;49m\u001b[38;5;241;43m*\u001b[39;49m\u001b[43mkwargs\u001b[49m\u001b[43m)\u001b[49m\n",
      "File \u001b[0;32m/opt/homebrew/Caskroom/mambaforge/base/envs/py38/lib/python3.8/site-packages/llama_index/core/agent/custom/pipeline_worker.py:154\u001b[0m, in \u001b[0;36mQueryPipelineAgentWorker.run_step\u001b[0;34m(self, step, task, **kwargs)\u001b[0m\n\u001b[1;32m    151\u001b[0m \u001b[38;5;28;01mfor\u001b[39;00m agent_fn_component \u001b[38;5;129;01min\u001b[39;00m \u001b[38;5;28mself\u001b[39m\u001b[38;5;241m.\u001b[39magent_components:\n\u001b[1;32m    152\u001b[0m     agent_fn_component\u001b[38;5;241m.\u001b[39mpartial(task\u001b[38;5;241m=\u001b[39mtask, state\u001b[38;5;241m=\u001b[39mstep\u001b[38;5;241m.\u001b[39mstep_state)\n\u001b[0;32m--> 154\u001b[0m agent_response, is_done \u001b[38;5;241m=\u001b[39m \u001b[38;5;28;43mself\u001b[39;49m\u001b[38;5;241;43m.\u001b[39;49m\u001b[43mpipeline\u001b[49m\u001b[38;5;241;43m.\u001b[39;49m\u001b[43mrun\u001b[49m\u001b[43m(\u001b[49m\u001b[43mstate\u001b[49m\u001b[38;5;241;43m=\u001b[39;49m\u001b[43mstep\u001b[49m\u001b[38;5;241;43m.\u001b[39;49m\u001b[43mstep_state\u001b[49m\u001b[43m,\u001b[49m\u001b[43m \u001b[49m\u001b[43mtask\u001b[49m\u001b[38;5;241;43m=\u001b[39;49m\u001b[43mtask\u001b[49m\u001b[43m)\u001b[49m\n\u001b[1;32m    155\u001b[0m response \u001b[38;5;241m=\u001b[39m \u001b[38;5;28mself\u001b[39m\u001b[38;5;241m.\u001b[39m_get_task_step_response(agent_response, step, is_done)\n\u001b[1;32m    156\u001b[0m \u001b[38;5;66;03m# sync step state with task state\u001b[39;00m\n",
      "File \u001b[0;32m/opt/homebrew/Caskroom/mambaforge/base/envs/py38/lib/python3.8/site-packages/llama_index/core/query_pipeline/query.py:321\u001b[0m, in \u001b[0;36mQueryPipeline.run\u001b[0;34m(self, return_values_direct, callback_manager, batch, *args, **kwargs)\u001b[0m\n\u001b[1;32m    317\u001b[0m     query_payload \u001b[38;5;241m=\u001b[39m json\u001b[38;5;241m.\u001b[39mdumps(\u001b[38;5;28mstr\u001b[39m(kwargs))\n\u001b[1;32m    318\u001b[0m \u001b[38;5;28;01mwith\u001b[39;00m \u001b[38;5;28mself\u001b[39m\u001b[38;5;241m.\u001b[39mcallback_manager\u001b[38;5;241m.\u001b[39mevent(\n\u001b[1;32m    319\u001b[0m     CBEventType\u001b[38;5;241m.\u001b[39mQUERY, payload\u001b[38;5;241m=\u001b[39m{EventPayload\u001b[38;5;241m.\u001b[39mQUERY_STR: query_payload}\n\u001b[1;32m    320\u001b[0m ) \u001b[38;5;28;01mas\u001b[39;00m query_event:\n\u001b[0;32m--> 321\u001b[0m     outputs, _ \u001b[38;5;241m=\u001b[39m \u001b[38;5;28;43mself\u001b[39;49m\u001b[38;5;241;43m.\u001b[39;49m\u001b[43m_run\u001b[49m\u001b[43m(\u001b[49m\n\u001b[1;32m    322\u001b[0m \u001b[43m        \u001b[49m\u001b[38;5;241;43m*\u001b[39;49m\u001b[43margs\u001b[49m\u001b[43m,\u001b[49m\n\u001b[1;32m    323\u001b[0m \u001b[43m        \u001b[49m\u001b[43mreturn_values_direct\u001b[49m\u001b[38;5;241;43m=\u001b[39;49m\u001b[43mreturn_values_direct\u001b[49m\u001b[43m,\u001b[49m\n\u001b[1;32m    324\u001b[0m \u001b[43m        \u001b[49m\u001b[43mshow_intermediates\u001b[49m\u001b[38;5;241;43m=\u001b[39;49m\u001b[38;5;28;43;01mFalse\u001b[39;49;00m\u001b[43m,\u001b[49m\n\u001b[1;32m    325\u001b[0m \u001b[43m        \u001b[49m\u001b[43mbatch\u001b[49m\u001b[38;5;241;43m=\u001b[39;49m\u001b[43mbatch\u001b[49m\u001b[43m,\u001b[49m\n\u001b[1;32m    326\u001b[0m \u001b[43m        \u001b[49m\u001b[38;5;241;43m*\u001b[39;49m\u001b[38;5;241;43m*\u001b[39;49m\u001b[43mkwargs\u001b[49m\u001b[43m,\u001b[49m\n\u001b[1;32m    327\u001b[0m \u001b[43m    \u001b[49m\u001b[43m)\u001b[49m\n\u001b[1;32m    329\u001b[0m     \u001b[38;5;28;01mreturn\u001b[39;00m outputs\n",
      "File \u001b[0;32m/opt/homebrew/Caskroom/mambaforge/base/envs/py38/lib/python3.8/site-packages/llama_index/core/query_pipeline/query.py:673\u001b[0m, in \u001b[0;36mQueryPipeline._run\u001b[0;34m(self, return_values_direct, show_intermediates, batch, *args, **kwargs)\u001b[0m\n\u001b[1;32m    671\u001b[0m     \u001b[38;5;28;01mreturn\u001b[39;00m result_outputs, intermediates\n\u001b[1;32m    672\u001b[0m \u001b[38;5;28;01melse\u001b[39;00m:\n\u001b[0;32m--> 673\u001b[0m     result_outputs, intermediates \u001b[38;5;241m=\u001b[39m \u001b[38;5;28;43mself\u001b[39;49m\u001b[38;5;241;43m.\u001b[39;49m\u001b[43m_run_multi\u001b[49m\u001b[43m(\u001b[49m\n\u001b[1;32m    674\u001b[0m \u001b[43m        \u001b[49m\u001b[43m{\u001b[49m\u001b[43mroot_key\u001b[49m\u001b[43m:\u001b[49m\u001b[43m \u001b[49m\u001b[43mkwargs\u001b[49m\u001b[43m}\u001b[49m\u001b[43m,\u001b[49m\u001b[43m \u001b[49m\u001b[43mshow_intermediates\u001b[49m\u001b[38;5;241;43m=\u001b[39;49m\u001b[43mshow_intermediates\u001b[49m\n\u001b[1;32m    675\u001b[0m \u001b[43m    \u001b[49m\u001b[43m)\u001b[49m\n\u001b[1;32m    677\u001b[0m     \u001b[38;5;28;01mreturn\u001b[39;00m (\n\u001b[1;32m    678\u001b[0m         \u001b[38;5;28mself\u001b[39m\u001b[38;5;241m.\u001b[39m_get_single_result_output(result_outputs, return_values_direct),\n\u001b[1;32m    679\u001b[0m         intermediates,\n\u001b[1;32m    680\u001b[0m     )\n",
      "File \u001b[0;32m/opt/homebrew/Caskroom/mambaforge/base/envs/py38/lib/python3.8/site-packages/llama_index/core/query_pipeline/query.py:876\u001b[0m, in \u001b[0;36mQueryPipeline._run_multi\u001b[0;34m(self, module_input_dict, show_intermediates)\u001b[0m\n\u001b[1;32m    874\u001b[0m \u001b[38;5;28;01mif\u001b[39;00m \u001b[38;5;28mself\u001b[39m\u001b[38;5;241m.\u001b[39mverbose:\n\u001b[1;32m    875\u001b[0m     print_debug_input(module_key, module_input)\n\u001b[0;32m--> 876\u001b[0m output_dict \u001b[38;5;241m=\u001b[39m \u001b[43mmodule\u001b[49m\u001b[38;5;241;43m.\u001b[39;49m\u001b[43mrun_component\u001b[49m\u001b[43m(\u001b[49m\u001b[38;5;241;43m*\u001b[39;49m\u001b[38;5;241;43m*\u001b[39;49m\u001b[43mmodule_input\u001b[49m\u001b[43m)\u001b[49m\n\u001b[1;32m    878\u001b[0m \u001b[38;5;28;01mif\u001b[39;00m show_intermediates \u001b[38;5;129;01mand\u001b[39;00m module_key \u001b[38;5;129;01mnot\u001b[39;00m \u001b[38;5;129;01min\u001b[39;00m intermediate_outputs:\n\u001b[1;32m    879\u001b[0m     intermediate_outputs[module_key] \u001b[38;5;241m=\u001b[39m ComponentIntermediates(\n\u001b[1;32m    880\u001b[0m         inputs\u001b[38;5;241m=\u001b[39mmodule_input, outputs\u001b[38;5;241m=\u001b[39moutput_dict\n\u001b[1;32m    881\u001b[0m     )\n",
      "File \u001b[0;32m/opt/homebrew/Caskroom/mambaforge/base/envs/py38/lib/python3.8/site-packages/llama_index/core/base/query_pipeline/query.py:199\u001b[0m, in \u001b[0;36mQueryComponent.run_component\u001b[0;34m(self, **kwargs)\u001b[0m\n\u001b[1;32m    197\u001b[0m kwargs\u001b[38;5;241m.\u001b[39mupdate(\u001b[38;5;28mself\u001b[39m\u001b[38;5;241m.\u001b[39mpartial_dict)\n\u001b[1;32m    198\u001b[0m kwargs \u001b[38;5;241m=\u001b[39m \u001b[38;5;28mself\u001b[39m\u001b[38;5;241m.\u001b[39mvalidate_component_inputs(kwargs)\n\u001b[0;32m--> 199\u001b[0m component_outputs \u001b[38;5;241m=\u001b[39m \u001b[38;5;28;43mself\u001b[39;49m\u001b[38;5;241;43m.\u001b[39;49m\u001b[43m_run_component\u001b[49m\u001b[43m(\u001b[49m\u001b[38;5;241;43m*\u001b[39;49m\u001b[38;5;241;43m*\u001b[39;49m\u001b[43mkwargs\u001b[49m\u001b[43m)\u001b[49m\n\u001b[1;32m    200\u001b[0m \u001b[38;5;28;01mreturn\u001b[39;00m \u001b[38;5;28mself\u001b[39m\u001b[38;5;241m.\u001b[39mvalidate_component_outputs(component_outputs)\n",
      "Cell \u001b[0;32mIn[12], line 62\u001b[0m, in \u001b[0;36mOutputAgentComponent._run_component\u001b[0;34m(self, **kwargs)\u001b[0m\n\u001b[1;32m     60\u001b[0m     \u001b[38;5;28;01mreturn\u001b[39;00m {\u001b[38;5;124m\"\u001b[39m\u001b[38;5;124moutput\u001b[39m\u001b[38;5;124m\"\u001b[39m: finalize_fn(task, state, reasoning_step, is_done\u001b[38;5;241m=\u001b[39m\u001b[38;5;28;01mTrue\u001b[39;00m)}\n\u001b[1;32m     61\u001b[0m \u001b[38;5;28;01melse\u001b[39;00m:\n\u001b[0;32m---> 62\u001b[0m     tool_output \u001b[38;5;241m=\u001b[39m \u001b[38;5;28;43mself\u001b[39;49m\u001b[38;5;241;43m.\u001b[39;49m\u001b[43mtool_runner_component\u001b[49m\u001b[38;5;241;43m.\u001b[39;49m\u001b[43mrun_component\u001b[49m\u001b[43m(\u001b[49m\n\u001b[1;32m     63\u001b[0m \u001b[43m        \u001b[49m\u001b[43mtool_name\u001b[49m\u001b[38;5;241;43m=\u001b[39;49m\u001b[43mreasoning_step\u001b[49m\u001b[38;5;241;43m.\u001b[39;49m\u001b[43maction\u001b[49m\u001b[43m,\u001b[49m\n\u001b[1;32m     64\u001b[0m \u001b[43m        \u001b[49m\u001b[43mtool_input\u001b[49m\u001b[38;5;241;43m=\u001b[39;49m\u001b[43mreasoning_step\u001b[49m\u001b[38;5;241;43m.\u001b[39;49m\u001b[43maction_input\u001b[49m\u001b[43m,\u001b[49m\n\u001b[1;32m     65\u001b[0m \u001b[43m    \u001b[49m\u001b[43m)\u001b[49m\n\u001b[1;32m     66\u001b[0m     \u001b[38;5;28;01mreturn\u001b[39;00m {\n\u001b[1;32m     67\u001b[0m         \u001b[38;5;124m\"\u001b[39m\u001b[38;5;124moutput\u001b[39m\u001b[38;5;124m\"\u001b[39m: finalize_fn(\n\u001b[1;32m     68\u001b[0m             task,\n\u001b[0;32m   (...)\u001b[0m\n\u001b[1;32m     73\u001b[0m         )\n\u001b[1;32m     74\u001b[0m     }\n",
      "File \u001b[0;32m/opt/homebrew/Caskroom/mambaforge/base/envs/py38/lib/python3.8/site-packages/llama_index/core/base/query_pipeline/query.py:199\u001b[0m, in \u001b[0;36mQueryComponent.run_component\u001b[0;34m(self, **kwargs)\u001b[0m\n\u001b[1;32m    197\u001b[0m kwargs\u001b[38;5;241m.\u001b[39mupdate(\u001b[38;5;28mself\u001b[39m\u001b[38;5;241m.\u001b[39mpartial_dict)\n\u001b[1;32m    198\u001b[0m kwargs \u001b[38;5;241m=\u001b[39m \u001b[38;5;28mself\u001b[39m\u001b[38;5;241m.\u001b[39mvalidate_component_inputs(kwargs)\n\u001b[0;32m--> 199\u001b[0m component_outputs \u001b[38;5;241m=\u001b[39m \u001b[38;5;28;43mself\u001b[39;49m\u001b[38;5;241;43m.\u001b[39;49m\u001b[43m_run_component\u001b[49m\u001b[43m(\u001b[49m\u001b[38;5;241;43m*\u001b[39;49m\u001b[38;5;241;43m*\u001b[39;49m\u001b[43mkwargs\u001b[49m\u001b[43m)\u001b[49m\n\u001b[1;32m    200\u001b[0m \u001b[38;5;28;01mreturn\u001b[39;00m \u001b[38;5;28mself\u001b[39m\u001b[38;5;241m.\u001b[39mvalidate_component_outputs(component_outputs)\n",
      "File \u001b[0;32m/opt/homebrew/Caskroom/mambaforge/base/envs/py38/lib/python3.8/site-packages/llama_index/core/query_pipeline/components/tool_runner.py:79\u001b[0m, in \u001b[0;36mToolRunnerComponent._run_component\u001b[0;34m(self, **kwargs)\u001b[0m\n\u001b[1;32m     71\u001b[0m tool \u001b[38;5;241m=\u001b[39m cast(AsyncBaseTool, \u001b[38;5;28mself\u001b[39m\u001b[38;5;241m.\u001b[39mtool_dict[tool_name])\n\u001b[1;32m     72\u001b[0m \u001b[38;5;28;01mwith\u001b[39;00m \u001b[38;5;28mself\u001b[39m\u001b[38;5;241m.\u001b[39mcallback_manager\u001b[38;5;241m.\u001b[39mevent(\n\u001b[1;32m     73\u001b[0m     CBEventType\u001b[38;5;241m.\u001b[39mFUNCTION_CALL,\n\u001b[1;32m     74\u001b[0m     payload\u001b[38;5;241m=\u001b[39m{\n\u001b[0;32m   (...)\u001b[0m\n\u001b[1;32m     77\u001b[0m     },\n\u001b[1;32m     78\u001b[0m ) \u001b[38;5;28;01mas\u001b[39;00m event:\n\u001b[0;32m---> 79\u001b[0m     tool_output \u001b[38;5;241m=\u001b[39m \u001b[43mtool\u001b[49m\u001b[43m(\u001b[49m\u001b[38;5;241;43m*\u001b[39;49m\u001b[38;5;241;43m*\u001b[39;49m\u001b[43mtool_input\u001b[49m\u001b[43m)\u001b[49m\n\u001b[1;32m     80\u001b[0m     event\u001b[38;5;241m.\u001b[39mon_end(payload\u001b[38;5;241m=\u001b[39m{EventPayload\u001b[38;5;241m.\u001b[39mFUNCTION_OUTPUT: \u001b[38;5;28mstr\u001b[39m(tool_output)})\n\u001b[1;32m     82\u001b[0m \u001b[38;5;28;01mreturn\u001b[39;00m {\u001b[38;5;124m\"\u001b[39m\u001b[38;5;124moutput\u001b[39m\u001b[38;5;124m\"\u001b[39m: tool_output}\n",
      "File \u001b[0;32m/opt/homebrew/Caskroom/mambaforge/base/envs/py38/lib/python3.8/site-packages/llama_index/core/tools/types.py:163\u001b[0m, in \u001b[0;36mAsyncBaseTool.__call__\u001b[0;34m(self, *args, **kwargs)\u001b[0m\n\u001b[1;32m    162\u001b[0m \u001b[38;5;28;01mdef\u001b[39;00m \u001b[38;5;21m__call__\u001b[39m(\u001b[38;5;28mself\u001b[39m, \u001b[38;5;241m*\u001b[39margs: Any, \u001b[38;5;241m*\u001b[39m\u001b[38;5;241m*\u001b[39mkwargs: Any) \u001b[38;5;241m-\u001b[39m\u001b[38;5;241m>\u001b[39m ToolOutput:\n\u001b[0;32m--> 163\u001b[0m     \u001b[38;5;28;01mreturn\u001b[39;00m \u001b[38;5;28;43mself\u001b[39;49m\u001b[38;5;241;43m.\u001b[39;49m\u001b[43mcall\u001b[49m\u001b[43m(\u001b[49m\u001b[38;5;241;43m*\u001b[39;49m\u001b[43margs\u001b[49m\u001b[43m,\u001b[49m\u001b[43m \u001b[49m\u001b[38;5;241;43m*\u001b[39;49m\u001b[38;5;241;43m*\u001b[39;49m\u001b[43mkwargs\u001b[49m\u001b[43m)\u001b[49m\n",
      "File \u001b[0;32m/opt/homebrew/Caskroom/mambaforge/base/envs/py38/lib/python3.8/site-packages/llama_index/core/tools/query_engine.py:68\u001b[0m, in \u001b[0;36mQueryEngineTool.call\u001b[0;34m(self, *args, **kwargs)\u001b[0m\n\u001b[1;32m     66\u001b[0m \u001b[38;5;28;01mdef\u001b[39;00m \u001b[38;5;21mcall\u001b[39m(\u001b[38;5;28mself\u001b[39m, \u001b[38;5;241m*\u001b[39margs: Any, \u001b[38;5;241m*\u001b[39m\u001b[38;5;241m*\u001b[39mkwargs: Any) \u001b[38;5;241m-\u001b[39m\u001b[38;5;241m>\u001b[39m ToolOutput:\n\u001b[1;32m     67\u001b[0m     query_str \u001b[38;5;241m=\u001b[39m \u001b[38;5;28mself\u001b[39m\u001b[38;5;241m.\u001b[39m_get_query_str(\u001b[38;5;241m*\u001b[39margs, \u001b[38;5;241m*\u001b[39m\u001b[38;5;241m*\u001b[39mkwargs)\n\u001b[0;32m---> 68\u001b[0m     response \u001b[38;5;241m=\u001b[39m \u001b[38;5;28;43mself\u001b[39;49m\u001b[38;5;241;43m.\u001b[39;49m\u001b[43m_query_engine\u001b[49m\u001b[38;5;241;43m.\u001b[39;49m\u001b[43mquery\u001b[49m\u001b[43m(\u001b[49m\u001b[43mquery_str\u001b[49m\u001b[43m)\u001b[49m\n\u001b[1;32m     69\u001b[0m     \u001b[38;5;28;01mreturn\u001b[39;00m ToolOutput(\n\u001b[1;32m     70\u001b[0m         content\u001b[38;5;241m=\u001b[39m\u001b[38;5;28mstr\u001b[39m(response),\n\u001b[1;32m     71\u001b[0m         tool_name\u001b[38;5;241m=\u001b[39m\u001b[38;5;28mself\u001b[39m\u001b[38;5;241m.\u001b[39mmetadata\u001b[38;5;241m.\u001b[39mname,\n\u001b[1;32m     72\u001b[0m         raw_input\u001b[38;5;241m=\u001b[39m{\u001b[38;5;124m\"\u001b[39m\u001b[38;5;124minput\u001b[39m\u001b[38;5;124m\"\u001b[39m: query_str},\n\u001b[1;32m     73\u001b[0m         raw_output\u001b[38;5;241m=\u001b[39mresponse,\n\u001b[1;32m     74\u001b[0m     )\n",
      "File \u001b[0;32m/opt/homebrew/Caskroom/mambaforge/base/envs/py38/lib/python3.8/site-packages/llama_index/core/instrumentation/dispatcher.py:223\u001b[0m, in \u001b[0;36mDispatcher.span.<locals>.wrapper\u001b[0;34m(func, instance, args, kwargs)\u001b[0m\n\u001b[1;32m    219\u001b[0m \u001b[38;5;28mself\u001b[39m\u001b[38;5;241m.\u001b[39mspan_enter(\n\u001b[1;32m    220\u001b[0m     id_\u001b[38;5;241m=\u001b[39mid_, bound_args\u001b[38;5;241m=\u001b[39mbound_args, instance\u001b[38;5;241m=\u001b[39minstance, parent_id\u001b[38;5;241m=\u001b[39mparent_id\n\u001b[1;32m    221\u001b[0m )\n\u001b[1;32m    222\u001b[0m \u001b[38;5;28;01mtry\u001b[39;00m:\n\u001b[0;32m--> 223\u001b[0m     result \u001b[38;5;241m=\u001b[39m \u001b[43mfunc\u001b[49m\u001b[43m(\u001b[49m\u001b[38;5;241;43m*\u001b[39;49m\u001b[43margs\u001b[49m\u001b[43m,\u001b[49m\u001b[43m \u001b[49m\u001b[38;5;241;43m*\u001b[39;49m\u001b[38;5;241;43m*\u001b[39;49m\u001b[43mkwargs\u001b[49m\u001b[43m)\u001b[49m\n\u001b[1;32m    224\u001b[0m \u001b[38;5;28;01mexcept\u001b[39;00m \u001b[38;5;167;01mBaseException\u001b[39;00m \u001b[38;5;28;01mas\u001b[39;00m e:\n\u001b[1;32m    225\u001b[0m     \u001b[38;5;28mself\u001b[39m\u001b[38;5;241m.\u001b[39mevent(SpanDropEvent(span_id\u001b[38;5;241m=\u001b[39mid_, err_str\u001b[38;5;241m=\u001b[39m\u001b[38;5;28mstr\u001b[39m(e)))\n",
      "File \u001b[0;32m/opt/homebrew/Caskroom/mambaforge/base/envs/py38/lib/python3.8/site-packages/llama_index/core/base/base_query_engine.py:51\u001b[0m, in \u001b[0;36mBaseQueryEngine.query\u001b[0;34m(self, str_or_query_bundle)\u001b[0m\n\u001b[1;32m     49\u001b[0m     \u001b[38;5;28;01mif\u001b[39;00m \u001b[38;5;28misinstance\u001b[39m(str_or_query_bundle, \u001b[38;5;28mstr\u001b[39m):\n\u001b[1;32m     50\u001b[0m         str_or_query_bundle \u001b[38;5;241m=\u001b[39m QueryBundle(str_or_query_bundle)\n\u001b[0;32m---> 51\u001b[0m     query_result \u001b[38;5;241m=\u001b[39m \u001b[38;5;28;43mself\u001b[39;49m\u001b[38;5;241;43m.\u001b[39;49m\u001b[43m_query\u001b[49m\u001b[43m(\u001b[49m\u001b[43mstr_or_query_bundle\u001b[49m\u001b[43m)\u001b[49m\n\u001b[1;32m     52\u001b[0m dispatcher\u001b[38;5;241m.\u001b[39mevent(\n\u001b[1;32m     53\u001b[0m     QueryEndEvent(query\u001b[38;5;241m=\u001b[39mstr_or_query_bundle, response\u001b[38;5;241m=\u001b[39mquery_result)\n\u001b[1;32m     54\u001b[0m )\n\u001b[1;32m     55\u001b[0m \u001b[38;5;28;01mreturn\u001b[39;00m query_result\n",
      "File \u001b[0;32m/opt/homebrew/Caskroom/mambaforge/base/envs/py38/lib/python3.8/site-packages/llama_index/core/indices/struct_store/sql_query.py:386\u001b[0m, in \u001b[0;36mBaseSQLTableQueryEngine._query\u001b[0;34m(self, query_bundle)\u001b[0m\n\u001b[1;32m    384\u001b[0m \u001b[38;5;28;01mdef\u001b[39;00m \u001b[38;5;21m_query\u001b[39m(\u001b[38;5;28mself\u001b[39m, query_bundle: QueryBundle) \u001b[38;5;241m-\u001b[39m\u001b[38;5;241m>\u001b[39m Response:\n\u001b[1;32m    385\u001b[0m \u001b[38;5;250m    \u001b[39m\u001b[38;5;124;03m\"\"\"Answer a query.\"\"\"\u001b[39;00m\n\u001b[0;32m--> 386\u001b[0m     retrieved_nodes, metadata \u001b[38;5;241m=\u001b[39m \u001b[38;5;28;43mself\u001b[39;49m\u001b[38;5;241;43m.\u001b[39;49m\u001b[43msql_retriever\u001b[49m\u001b[38;5;241;43m.\u001b[39;49m\u001b[43mretrieve_with_metadata\u001b[49m\u001b[43m(\u001b[49m\n\u001b[1;32m    387\u001b[0m \u001b[43m        \u001b[49m\u001b[43mquery_bundle\u001b[49m\n\u001b[1;32m    388\u001b[0m \u001b[43m    \u001b[49m\u001b[43m)\u001b[49m\n\u001b[1;32m    390\u001b[0m     sql_query_str \u001b[38;5;241m=\u001b[39m metadata[\u001b[38;5;124m\"\u001b[39m\u001b[38;5;124msql_query\u001b[39m\u001b[38;5;124m\"\u001b[39m]\n\u001b[1;32m    391\u001b[0m     \u001b[38;5;28;01mif\u001b[39;00m \u001b[38;5;28mself\u001b[39m\u001b[38;5;241m.\u001b[39m_synthesize_response:\n",
      "File \u001b[0;32m/opt/homebrew/Caskroom/mambaforge/base/envs/py38/lib/python3.8/site-packages/llama_index/core/indices/struct_store/sql_retriever.py:291\u001b[0m, in \u001b[0;36mNLSQLRetriever.retrieve_with_metadata\u001b[0;34m(self, str_or_query_bundle)\u001b[0m\n\u001b[1;32m    289\u001b[0m \u001b[38;5;28;01melse\u001b[39;00m:\n\u001b[1;32m    290\u001b[0m     query_bundle \u001b[38;5;241m=\u001b[39m str_or_query_bundle\n\u001b[0;32m--> 291\u001b[0m table_desc_str \u001b[38;5;241m=\u001b[39m \u001b[38;5;28;43mself\u001b[39;49m\u001b[38;5;241;43m.\u001b[39;49m\u001b[43m_get_table_context\u001b[49m\u001b[43m(\u001b[49m\u001b[43mquery_bundle\u001b[49m\u001b[43m)\u001b[49m\n\u001b[1;32m    292\u001b[0m logger\u001b[38;5;241m.\u001b[39minfo(\u001b[38;5;124mf\u001b[39m\u001b[38;5;124m\"\u001b[39m\u001b[38;5;124m> Table desc str: \u001b[39m\u001b[38;5;132;01m{\u001b[39;00mtable_desc_str\u001b[38;5;132;01m}\u001b[39;00m\u001b[38;5;124m\"\u001b[39m)\n\u001b[1;32m    293\u001b[0m \u001b[38;5;28;01mif\u001b[39;00m \u001b[38;5;28mself\u001b[39m\u001b[38;5;241m.\u001b[39m_verbose:\n",
      "File \u001b[0;32m/opt/homebrew/Caskroom/mambaforge/base/envs/py38/lib/python3.8/site-packages/llama_index/core/indices/struct_store/sql_retriever.py:397\u001b[0m, in \u001b[0;36mNLSQLRetriever._get_table_context\u001b[0;34m(self, query_bundle)\u001b[0m\n\u001b[1;32m    394\u001b[0m     context_strs \u001b[38;5;241m=\u001b[39m [\u001b[38;5;28mself\u001b[39m\u001b[38;5;241m.\u001b[39m_context_str_prefix]\n\u001b[1;32m    396\u001b[0m \u001b[38;5;28;01mfor\u001b[39;00m table_schema_obj \u001b[38;5;129;01min\u001b[39;00m table_schema_objs:\n\u001b[0;32m--> 397\u001b[0m     table_info \u001b[38;5;241m=\u001b[39m \u001b[38;5;28;43mself\u001b[39;49m\u001b[38;5;241;43m.\u001b[39;49m\u001b[43m_sql_database\u001b[49m\u001b[38;5;241;43m.\u001b[39;49m\u001b[43mget_single_table_info\u001b[49m\u001b[43m(\u001b[49m\n\u001b[1;32m    398\u001b[0m \u001b[43m        \u001b[49m\u001b[43mtable_schema_obj\u001b[49m\u001b[38;5;241;43m.\u001b[39;49m\u001b[43mtable_name\u001b[49m\n\u001b[1;32m    399\u001b[0m \u001b[43m    \u001b[49m\u001b[43m)\u001b[49m\n\u001b[1;32m    401\u001b[0m     \u001b[38;5;28;01mif\u001b[39;00m table_schema_obj\u001b[38;5;241m.\u001b[39mcontext_str:\n\u001b[1;32m    402\u001b[0m         table_opt_context \u001b[38;5;241m=\u001b[39m \u001b[38;5;124m\"\u001b[39m\u001b[38;5;124m The table description is: \u001b[39m\u001b[38;5;124m\"\u001b[39m\n",
      "File \u001b[0;32m/opt/homebrew/Caskroom/mambaforge/base/envs/py38/lib/python3.8/site-packages/llama_index/core/utilities/sql_wrapper.py:167\u001b[0m, in \u001b[0;36mSQLDatabase.get_single_table_info\u001b[0;34m(self, table_name)\u001b[0m\n\u001b[1;32m    165\u001b[0m template \u001b[38;5;241m+\u001b[39m\u001b[38;5;241m=\u001b[39m \u001b[38;5;124m\"\u001b[39m\u001b[38;5;124mand foreign keys: \u001b[39m\u001b[38;5;132;01m{foreign_keys}\u001b[39;00m\u001b[38;5;124m.\u001b[39m\u001b[38;5;124m\"\u001b[39m\n\u001b[1;32m    166\u001b[0m columns \u001b[38;5;241m=\u001b[39m []\n\u001b[0;32m--> 167\u001b[0m \u001b[38;5;28;01mfor\u001b[39;00m column \u001b[38;5;129;01min\u001b[39;00m \u001b[38;5;28;43mself\u001b[39;49m\u001b[38;5;241;43m.\u001b[39;49m\u001b[43m_inspector\u001b[49m\u001b[38;5;241;43m.\u001b[39;49m\u001b[43mget_columns\u001b[49m\u001b[43m(\u001b[49m\u001b[43mtable_name\u001b[49m\u001b[43m,\u001b[49m\u001b[43m \u001b[49m\u001b[43mschema\u001b[49m\u001b[38;5;241;43m=\u001b[39;49m\u001b[38;5;28;43mself\u001b[39;49m\u001b[38;5;241;43m.\u001b[39;49m\u001b[43m_schema\u001b[49m\u001b[43m)\u001b[49m:\n\u001b[1;32m    168\u001b[0m     \u001b[38;5;28;01mif\u001b[39;00m column\u001b[38;5;241m.\u001b[39mget(\u001b[38;5;124m\"\u001b[39m\u001b[38;5;124mcomment\u001b[39m\u001b[38;5;124m\"\u001b[39m):\n\u001b[1;32m    169\u001b[0m         columns\u001b[38;5;241m.\u001b[39mappend(\n\u001b[1;32m    170\u001b[0m             \u001b[38;5;124mf\u001b[39m\u001b[38;5;124m\"\u001b[39m\u001b[38;5;132;01m{\u001b[39;00mcolumn[\u001b[38;5;124m'\u001b[39m\u001b[38;5;124mname\u001b[39m\u001b[38;5;124m'\u001b[39m]\u001b[38;5;132;01m}\u001b[39;00m\u001b[38;5;124m (\u001b[39m\u001b[38;5;132;01m{\u001b[39;00mcolumn[\u001b[38;5;124m'\u001b[39m\u001b[38;5;124mtype\u001b[39m\u001b[38;5;124m'\u001b[39m]\u001b[38;5;132;01m!s}\u001b[39;00m\u001b[38;5;124m): \u001b[39m\u001b[38;5;124m\"\u001b[39m\n\u001b[1;32m    171\u001b[0m             \u001b[38;5;124mf\u001b[39m\u001b[38;5;124m\"\u001b[39m\u001b[38;5;124m'\u001b[39m\u001b[38;5;132;01m{\u001b[39;00mcolumn\u001b[38;5;241m.\u001b[39mget(\u001b[38;5;124m'\u001b[39m\u001b[38;5;124mcomment\u001b[39m\u001b[38;5;124m'\u001b[39m)\u001b[38;5;132;01m}\u001b[39;00m\u001b[38;5;124m'\u001b[39m\u001b[38;5;124m\"\u001b[39m\n\u001b[1;32m    172\u001b[0m         )\n",
      "File \u001b[0;32m/opt/homebrew/Caskroom/mambaforge/base/envs/py38/lib/python3.8/site-packages/sqlalchemy/engine/reflection.py:859\u001b[0m, in \u001b[0;36mInspector.get_columns\u001b[0;34m(self, table_name, schema, **kw)\u001b[0m\n\u001b[1;32m    835\u001b[0m \u001b[38;5;250m\u001b[39m\u001b[38;5;124mr\u001b[39m\u001b[38;5;124;03m\"\"\"Return information about columns in ``table_name``.\u001b[39;00m\n\u001b[1;32m    836\u001b[0m \n\u001b[1;32m    837\u001b[0m \u001b[38;5;124;03mGiven a string ``table_name`` and an optional string ``schema``,\u001b[39;00m\n\u001b[0;32m   (...)\u001b[0m\n\u001b[1;32m    855\u001b[0m \n\u001b[1;32m    856\u001b[0m \u001b[38;5;124;03m\"\"\"\u001b[39;00m\n\u001b[1;32m    858\u001b[0m \u001b[38;5;28;01mwith\u001b[39;00m \u001b[38;5;28mself\u001b[39m\u001b[38;5;241m.\u001b[39m_operation_context() \u001b[38;5;28;01mas\u001b[39;00m conn:\n\u001b[0;32m--> 859\u001b[0m     col_defs \u001b[38;5;241m=\u001b[39m \u001b[38;5;28;43mself\u001b[39;49m\u001b[38;5;241;43m.\u001b[39;49m\u001b[43mdialect\u001b[49m\u001b[38;5;241;43m.\u001b[39;49m\u001b[43mget_columns\u001b[49m\u001b[43m(\u001b[49m\n\u001b[1;32m    860\u001b[0m \u001b[43m        \u001b[49m\u001b[43mconn\u001b[49m\u001b[43m,\u001b[49m\u001b[43m \u001b[49m\u001b[43mtable_name\u001b[49m\u001b[43m,\u001b[49m\u001b[43m \u001b[49m\u001b[43mschema\u001b[49m\u001b[43m,\u001b[49m\u001b[43m \u001b[49m\u001b[43minfo_cache\u001b[49m\u001b[38;5;241;43m=\u001b[39;49m\u001b[38;5;28;43mself\u001b[39;49m\u001b[38;5;241;43m.\u001b[39;49m\u001b[43minfo_cache\u001b[49m\u001b[43m,\u001b[49m\u001b[43m \u001b[49m\u001b[38;5;241;43m*\u001b[39;49m\u001b[38;5;241;43m*\u001b[39;49m\u001b[43mkw\u001b[49m\n\u001b[1;32m    861\u001b[0m \u001b[43m    \u001b[49m\u001b[43m)\u001b[49m\n\u001b[1;32m    862\u001b[0m \u001b[38;5;28;01mif\u001b[39;00m col_defs:\n\u001b[1;32m    863\u001b[0m     \u001b[38;5;28mself\u001b[39m\u001b[38;5;241m.\u001b[39m_instantiate_types([col_defs])\n",
      "File \u001b[0;32m<string>:2\u001b[0m, in \u001b[0;36mget_columns\u001b[0;34m(self, connection, table_name, schema, **kw)\u001b[0m\n",
      "File \u001b[0;32m/opt/homebrew/Caskroom/mambaforge/base/envs/py38/lib/python3.8/site-packages/sqlalchemy/engine/reflection.py:97\u001b[0m, in \u001b[0;36mcache\u001b[0;34m(fn, self, con, *args, **kw)\u001b[0m\n\u001b[1;32m     95\u001b[0m ret: _R \u001b[38;5;241m=\u001b[39m info_cache\u001b[38;5;241m.\u001b[39mget(key)\n\u001b[1;32m     96\u001b[0m \u001b[38;5;28;01mif\u001b[39;00m ret \u001b[38;5;129;01mis\u001b[39;00m \u001b[38;5;28;01mNone\u001b[39;00m:\n\u001b[0;32m---> 97\u001b[0m     ret \u001b[38;5;241m=\u001b[39m \u001b[43mfn\u001b[49m\u001b[43m(\u001b[49m\u001b[38;5;28;43mself\u001b[39;49m\u001b[43m,\u001b[49m\u001b[43m \u001b[49m\u001b[43mcon\u001b[49m\u001b[43m,\u001b[49m\u001b[43m \u001b[49m\u001b[38;5;241;43m*\u001b[39;49m\u001b[43margs\u001b[49m\u001b[43m,\u001b[49m\u001b[43m \u001b[49m\u001b[38;5;241;43m*\u001b[39;49m\u001b[38;5;241;43m*\u001b[39;49m\u001b[43mkw\u001b[49m\u001b[43m)\u001b[49m\n\u001b[1;32m     98\u001b[0m     info_cache[key] \u001b[38;5;241m=\u001b[39m ret\n\u001b[1;32m     99\u001b[0m \u001b[38;5;28;01mreturn\u001b[39;00m ret\n",
      "File \u001b[0;32m/opt/homebrew/Caskroom/mambaforge/base/envs/py38/lib/python3.8/site-packages/sqlalchemy/dialects/sqlite/base.py:2250\u001b[0m, in \u001b[0;36mSQLiteDialect.get_columns\u001b[0;34m(self, connection, table_name, schema, **kw)\u001b[0m\n\u001b[1;32m   2248\u001b[0m     \u001b[38;5;28;01mreturn\u001b[39;00m columns\n\u001b[1;32m   2249\u001b[0m \u001b[38;5;28;01melif\u001b[39;00m \u001b[38;5;129;01mnot\u001b[39;00m \u001b[38;5;28mself\u001b[39m\u001b[38;5;241m.\u001b[39mhas_table(connection, table_name, schema):\n\u001b[0;32m-> 2250\u001b[0m     \u001b[38;5;28;01mraise\u001b[39;00m exc\u001b[38;5;241m.\u001b[39mNoSuchTableError(\n\u001b[1;32m   2251\u001b[0m         \u001b[38;5;124mf\u001b[39m\u001b[38;5;124m\"\u001b[39m\u001b[38;5;132;01m{\u001b[39;00mschema\u001b[38;5;132;01m}\u001b[39;00m\u001b[38;5;124m.\u001b[39m\u001b[38;5;132;01m{\u001b[39;00mtable_name\u001b[38;5;132;01m}\u001b[39;00m\u001b[38;5;124m\"\u001b[39m \u001b[38;5;28;01mif\u001b[39;00m schema \u001b[38;5;28;01melse\u001b[39;00m table_name\n\u001b[1;32m   2252\u001b[0m     )\n\u001b[1;32m   2253\u001b[0m \u001b[38;5;28;01melse\u001b[39;00m:\n\u001b[1;32m   2254\u001b[0m     \u001b[38;5;28;01mreturn\u001b[39;00m ReflectionDefaults\u001b[38;5;241m.\u001b[39mcolumns()\n",
      "\u001b[0;31mNoSuchTableError\u001b[0m: album"
     ]
    },
    {
     "ename": "",
     "evalue": "",
     "output_type": "error",
     "traceback": [
      "\u001b[1;31mThe Kernel crashed while executing code in the current cell or a previous cell. \n",
      "\u001b[1;31mPlease review the code in the cell(s) to identify a possible cause of the failure. \n",
      "\u001b[1;31mClick <a href='https://aka.ms/vscodeJupyterKernelCrash'>here</a> for more info. \n",
      "\u001b[1;31mView Jupyter <a href='command:jupyter.viewOutput'>log</a> for further details."
     ]
    }
   ],
   "source": [
    "all_sql_queries = []\n",
    "all_ans = []\n",
    "for question in tqdm(questions):\n",
    "    agent_worker = QueryPipelineAgentWorker(qp)\n",
    "    agent = AgentRunner(agent_worker)\n",
    "    task = agent.create_task(question)\n",
    "    # Need to manually run the task as to recover the convo_history\n",
    "    step_output = agent.run_step(task.task_id)\n",
    "    ans = str(step_output)\n",
    "    sql_query_match = re.search(r\"\\'sql_query\\': \\'([^\\']+)\\'\", ans)\n",
    "\n",
    "    if not sql_query_match:\n",
    "        print(ans)\n",
    "    # Extract the sql_query if the pattern is found\n",
    "    sql_query = sql_query_match.group(1) if sql_query_match else None\n",
    "\n",
    "    # Regular expression to extract the response\n",
    "    response_match = re.search(r\"response=\\'([^\\']+)\\'\", ans)\n",
    "\n",
    "    # Extract the response if the pattern is found\n",
    "    response = response_match.group(1) if response_match else None\n",
    "\n",
    "    print(\"SQL Query:\", sql_query)\n",
    "    print(\"Response:\", response)\n",
    "    all_ans.append(response)\n",
    "    all_sql_queries.append(sql_query)"
   ]
  },
  {
   "cell_type": "code",
   "execution_count": null,
   "metadata": {
    "id": "AYFYLSHqEfQV"
   },
   "outputs": [
    {
     "data": {
      "text/html": [
       "<div>\n",
       "<style scoped>\n",
       "    .dataframe tbody tr th:only-of-type {\n",
       "        vertical-align: middle;\n",
       "    }\n",
       "\n",
       "    .dataframe tbody tr th {\n",
       "        vertical-align: top;\n",
       "    }\n",
       "\n",
       "    .dataframe thead th {\n",
       "        text-align: right;\n",
       "    }\n",
       "</style>\n",
       "<table border=\"1\" class=\"dataframe\">\n",
       "  <thead>\n",
       "    <tr style=\"text-align: right;\">\n",
       "      <th></th>\n",
       "      <th>question</th>\n",
       "      <th>query_gen</th>\n",
       "      <th>response</th>\n",
       "    </tr>\n",
       "  </thead>\n",
       "  <tbody>\n",
       "    <tr>\n",
       "      <th>0</th>\n",
       "      <td>What is the name of the artist with ID 5?</td>\n",
       "      <td>SELECT Name\\nFROM artists\\nWHERE ArtistId = 5;</td>\n",
       "      <td>The artist with ID 5 is Alice In Chains.</td>\n",
       "    </tr>\n",
       "    <tr>\n",
       "      <th>1</th>\n",
       "      <td>List all tracks in the album with ID 3.</td>\n",
       "      <td>SELECT Name, Composer \\nFROM tracks \\nWHERE AlbumId = 3</td>\n",
       "      <td>The tracks in the album with ID 3 are \"Fast As a Shark\" composed by F. Baltes, S. Kaufman, U. Dirkscneider &amp; W. Hoffman, \"Restless and Wild\" composed by F. Baltes, R.A. Smith-Diesel, S. Kaufman, U. Dirkscneider &amp; W. Hoffman, and \"Princess of the Dawn\" composed by Deaffy &amp; R.A. Smith-Diesel.</td>\n",
       "    </tr>\n",
       "    <tr>\n",
       "      <th>2</th>\n",
       "      <td>How many tracks does the artist named 'Aerosmith' have?</td>\n",
       "      <td>None</td>\n",
       "      <td>None</td>\n",
       "    </tr>\n",
       "  </tbody>\n",
       "</table>\n",
       "</div>"
      ],
      "text/plain": [
       "                                                  question  \\\n",
       "0                What is the name of the artist with ID 5?   \n",
       "1                  List all tracks in the album with ID 3.   \n",
       "2  How many tracks does the artist named 'Aerosmith' have?   \n",
       "\n",
       "                                                 query_gen  \\\n",
       "0           SELECT Name\\nFROM artists\\nWHERE ArtistId = 5;   \n",
       "1  SELECT Name, Composer \\nFROM tracks \\nWHERE AlbumId = 3   \n",
       "2                                                     None   \n",
       "\n",
       "                                                                                                                                                                                                                                                                                              response  \n",
       "0                                                                                                                                                                                                                                                             The artist with ID 5 is Alice In Chains.  \n",
       "1  The tracks in the album with ID 3 are \"Fast As a Shark\" composed by F. Baltes, S. Kaufman, U. Dirkscneider & W. Hoffman, \"Restless and Wild\" composed by F. Baltes, R.A. Smith-Diesel, S. Kaufman, U. Dirkscneider & W. Hoffman, and \"Princess of the Dawn\" composed by Deaffy & R.A. Smith-Diesel.  \n",
       "2                                                                                                                                                                                                                                                                                                 None  "
      ]
     },
     "execution_count": 26,
     "metadata": {},
     "output_type": "execute_result"
    }
   ],
   "source": [
    "df = pd.DataFrame({\"question\": questions, \"query_gen\": all_sql_queries, \"response\": all_ans})\n",
    "df[:3]"
   ]
  },
  {
   "cell_type": "code",
   "execution_count": null,
   "metadata": {},
   "outputs": [
    {
     "name": "stdout",
     "output_type": "stream",
     "text": [
      "\n",
      "SQL Evaluation Prompt:\n",
      "TEST EDIT \n",
      "-----------------------\n",
      "You are tasked with determining if the SQL generated appropiately answers a given instruction taking into account its generated query and response.\n",
      "\n",
      "Data:\n",
      "-----\n",
      "- [Instruction]: {question}\n",
      "  This section contains the specific task or problem that the sql query is intended to solve.\n",
      "\n",
      "- [Reference Query]: {query_gen}\n",
      "  This is the sql query submitted for evaluation. Analyze it in the context of the provided instruction.\n",
      "\n",
      "- [Provided Response]: {response}\n",
      "  This is the response and/or conclusions made after running the sql query through the database\n",
      "\n",
      "Evaluation:\n",
      "-----------\n",
      "Your response should be a single word: either \"correct\" or \"incorrect\".\n",
      "You must assume that the db exists and that columns are appropiately named.\n",
      "You must take into account the response as additional information to determine the correctness.\n",
      "\n",
      "- \"correct\" indicates that the sql query correctly solves the instruction.\n",
      "- \"incorrect\" indicates that the sql query correctly does not solve the instruction correctly.\n",
      "\n",
      "Note: Your response should contain only the word \"correct\" or \"incorrect\" with no additional text or characters.\n",
      "\n"
     ]
    }
   ],
   "source": [
    "print(SQL_GEN_EVAL_PROMPT_TEMPLATE)"
   ]
  },
  {
   "cell_type": "code",
   "execution_count": null,
   "metadata": {},
   "outputs": [],
   "source": [
    "df.rename(columns={\"query\": \"question\", \"sql_query\": \"query_gen\"}, inplace=True)"
   ]
  },
  {
   "cell_type": "code",
   "execution_count": null,
   "metadata": {
    "id": "kOL9mJRvXeJS"
   },
   "outputs": [
    {
     "name": "stdout",
     "output_type": "stream",
     "text": [
      "The `model_name` field is deprecated. Use `model` instead.                 This will be removed in a future release.\n"
     ]
    },
    {
     "name": "stderr",
     "output_type": "stream",
     "text": [
      "llm_classify |██████████| 50/50 (100.0%) | ⏳ 00:14<00:00 |  3.50it/s\n"
     ]
    }
   ],
   "source": [
    "rails = list(SQL_GEN_EVAL_PROMPT_RAILS_MAP.values())\n",
    "model = OpenAIModel(\n",
    "    model_name=\"gpt-4\",\n",
    "    temperature=0.0,\n",
    ")\n",
    "relevance_classifications = llm_classify(\n",
    "    dataframe=df,\n",
    "    template=SQL_GEN_EVAL_PROMPT_TEMPLATE,\n",
    "    model=model,\n",
    "    rails=rails,\n",
    "    provide_explanation=True,\n",
    ")\n",
    "# relevance_classifications"
   ]
  },
  {
   "cell_type": "code",
   "execution_count": null,
   "metadata": {
    "id": "msPdqs7Vh_Dr"
   },
   "outputs": [],
   "source": [
    "labels = relevance_classifications[\"label\"].tolist()\n",
    "explanation = relevance_classifications[\"explanation\"].tolist()"
   ]
  },
  {
   "cell_type": "code",
   "execution_count": null,
   "metadata": {
    "id": "emIUo7v7ijY3"
   },
   "outputs": [],
   "source": [
    "df[\"label\"] = labels\n",
    "df[\"explanation\"] = explanation"
   ]
  },
  {
   "cell_type": "code",
   "execution_count": null,
   "metadata": {},
   "outputs": [
    {
     "data": {
      "text/html": [
       "<div>\n",
       "<style scoped>\n",
       "    .dataframe tbody tr th:only-of-type {\n",
       "        vertical-align: middle;\n",
       "    }\n",
       "\n",
       "    .dataframe tbody tr th {\n",
       "        vertical-align: top;\n",
       "    }\n",
       "\n",
       "    .dataframe thead th {\n",
       "        text-align: right;\n",
       "    }\n",
       "</style>\n",
       "<table border=\"1\" class=\"dataframe\">\n",
       "  <thead>\n",
       "    <tr style=\"text-align: right;\">\n",
       "      <th></th>\n",
       "      <th>question</th>\n",
       "      <th>query_gen</th>\n",
       "      <th>response</th>\n",
       "      <th>label</th>\n",
       "      <th>explanation</th>\n",
       "    </tr>\n",
       "  </thead>\n",
       "  <tbody>\n",
       "    <tr>\n",
       "      <th>0</th>\n",
       "      <td>What is the name of the artist with ID 5?</td>\n",
       "      <td>SELECT Name\\nFROM artists\\nWHERE ArtistId = 5;</td>\n",
       "      <td>The artist with ID 5 is Alice In Chains.</td>\n",
       "      <td>correct</td>\n",
       "      <td>The SQL query is selecting the 'Name' from the 'artists' table where the 'ArtistId' is equal to 5. This matches the instruction to find the name of the artist with ID 5. The provided response also indicates that the query has been executed correctly and returned the expected result.</td>\n",
       "    </tr>\n",
       "    <tr>\n",
       "      <th>1</th>\n",
       "      <td>List all tracks in the album with ID 3.</td>\n",
       "      <td>SELECT Name, Composer \\nFROM tracks \\nWHERE AlbumId = 3</td>\n",
       "      <td>The tracks in the album with ID 3 are \"Fast As a Shark\" composed by F. Baltes, S. Kaufman, U. Dirkscneider &amp; W. Hoffman, \"Restless and Wild\" composed by F. Baltes, R.A. Smith-Diesel, S. Kaufman, U. Dirkscneider &amp; W. Hoffman, and \"Princess of the Dawn\" composed by Deaffy &amp; R.A. Smith-Diesel.</td>\n",
       "      <td>correct</td>\n",
       "      <td>The instruction asks for all tracks in the album with ID 3. The SQL query correctly selects the Name and Composer from the 'tracks' table where the AlbumId is 3. The provided response lists the tracks and their composers, which matches the information requested in the instruction. Therefore, the SQL query correctly solves the instruction.</td>\n",
       "    </tr>\n",
       "  </tbody>\n",
       "</table>\n",
       "</div>"
      ],
      "text/plain": [
       "                                    question  \\\n",
       "0  What is the name of the artist with ID 5?   \n",
       "1    List all tracks in the album with ID 3.   \n",
       "\n",
       "                                                 query_gen  \\\n",
       "0           SELECT Name\\nFROM artists\\nWHERE ArtistId = 5;   \n",
       "1  SELECT Name, Composer \\nFROM tracks \\nWHERE AlbumId = 3   \n",
       "\n",
       "                                                                                                                                                                                                                                                                                              response  \\\n",
       "0                                                                                                                                                                                                                                                             The artist with ID 5 is Alice In Chains.   \n",
       "1  The tracks in the album with ID 3 are \"Fast As a Shark\" composed by F. Baltes, S. Kaufman, U. Dirkscneider & W. Hoffman, \"Restless and Wild\" composed by F. Baltes, R.A. Smith-Diesel, S. Kaufman, U. Dirkscneider & W. Hoffman, and \"Princess of the Dawn\" composed by Deaffy & R.A. Smith-Diesel.   \n",
       "\n",
       "     label  \\\n",
       "0  correct   \n",
       "1  correct   \n",
       "\n",
       "                                                                                                                                                                                                                                                                                                                                            explanation  \n",
       "0                                                           The SQL query is selecting the 'Name' from the 'artists' table where the 'ArtistId' is equal to 5. This matches the instruction to find the name of the artist with ID 5. The provided response also indicates that the query has been executed correctly and returned the expected result.  \n",
       "1  The instruction asks for all tracks in the album with ID 3. The SQL query correctly selects the Name and Composer from the 'tracks' table where the AlbumId is 3. The provided response lists the tracks and their composers, which matches the information requested in the instruction. Therefore, the SQL query correctly solves the instruction.  "
      ]
     },
     "execution_count": 34,
     "metadata": {},
     "output_type": "execute_result"
    }
   ],
   "source": [
    "df[:2]"
   ]
  },
  {
   "cell_type": "code",
   "execution_count": null,
   "metadata": {
    "id": "XcGsFTzcxlEQ"
   },
   "outputs": [],
   "source": [
    "boolean_classifications = [x == \"correct\" for x in df[\"label\"].tolist()]"
   ]
  },
  {
   "cell_type": "code",
   "execution_count": null,
   "metadata": {
    "id": "LOR8wHIP60ZF"
   },
   "outputs": [],
   "source": [
    "df[\"is_correct\"] = boolean_classifications"
   ]
  },
  {
   "cell_type": "code",
   "execution_count": null,
   "metadata": {
    "id": "qmYz96wf64Q3"
   },
   "outputs": [],
   "source": [
    "df[\"ground_truth\"] = [\n",
    "    True,\n",
    "    True,\n",
    "    False,\n",
    "    False,\n",
    "    True,\n",
    "    False,\n",
    "    True,\n",
    "    True,\n",
    "    False,\n",
    "    True,\n",
    "    False,\n",
    "    True,\n",
    "    True,\n",
    "    True,\n",
    "    True,\n",
    "    False,\n",
    "    False,\n",
    "    False,\n",
    "    True,\n",
    "    False,\n",
    "    False,\n",
    "    False,\n",
    "    False,\n",
    "    True,\n",
    "    True,\n",
    "    True,\n",
    "    True,\n",
    "    True,\n",
    "    False,\n",
    "    False,\n",
    "    False,\n",
    "    False,\n",
    "    True,\n",
    "    False,\n",
    "    True,\n",
    "    False,\n",
    "    True,\n",
    "    False,\n",
    "    True,\n",
    "    True,\n",
    "    True,\n",
    "    True,\n",
    "    True,\n",
    "    True,\n",
    "    True,\n",
    "    False,\n",
    "    True,\n",
    "    False,\n",
    "    True,\n",
    "    False,\n",
    "]\n",
    "true_labels = df[\"ground_truth\"]"
   ]
  },
  {
   "cell_type": "code",
   "execution_count": null,
   "metadata": {
    "id": "BC0rliCE9hHg"
   },
   "outputs": [
    {
     "name": "stdout",
     "output_type": "stream",
     "text": [
      "              precision    recall  f1-score   support\n",
      "\n",
      "        True       0.95      0.71      0.82        28\n",
      "       False       0.72      0.95      0.82        22\n",
      "\n",
      "    accuracy                           0.82        50\n",
      "   macro avg       0.84      0.83      0.82        50\n",
      "weighted avg       0.85      0.82      0.82        50\n",
      "\n"
     ]
    },
    {
     "data": {
      "text/plain": [
       "<Axes: title={'center': 'Confusion Matrix (Normalized)'}, xlabel='Predicted Classes', ylabel='Actual Classes'>"
      ]
     },
     "execution_count": 38,
     "metadata": {},
     "output_type": "execute_result"
    },
    {
     "data": {
      "image/png": "[encoded data removed]",
      "text/plain": [
       "<Figure size 640x480 with 2 Axes>"
      ]
     },
     "metadata": {},
     "output_type": "display_data"
    }
   ],
   "source": [
    "print(classification_report(true_labels, boolean_classifications, labels=[True, False]))\n",
    "confusion_matrix = ConfusionMatrix(\n",
    "    actual_vector=true_labels.tolist(), predict_vector=boolean_classifications\n",
    ")\n",
    "confusion_matrix.plot(\n",
    "    cmap=plt.colormaps[\"Blues\"],\n",
    "    number_label=True,\n",
    "    normalized=True,\n",
    ")"
   ]
  },
  {
   "cell_type": "code",
   "execution_count": null,
   "metadata": {
    "id": "Os3ssWNu_zXR"
   },
   "outputs": [],
   "source": []
  }
 ],
 "metadata": {
  "colab": {
   "provenance": []
  },
  "kernelspec": {
   "display_name": "Python 3",
   "name": "python3"
  },
  "language_info": {
   "codemirror_mode": {
    "name": "ipython",
    "version": 3
   },
   "file_extension": ".py",
   "mimetype": "text/x-python",
   "name": "python",
   "nbconvert_exporter": "python",
   "pygments_lexer": "ipython3",
   "version": "3.8.17"
  }
 },
 "nbformat": 4,
 "nbformat_minor": 0
}
