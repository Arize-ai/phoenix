{
 "cells": [
  {
   "cell_type": "markdown",
   "metadata": {
    "id": "aEJv_ZkwEGba"
   },
   "source": [
    "<center>\n",
    "    <p style=\"text-align:center\">\n",
    "        <img alt=\"phoenix logo\" src=\"https://storage.googleapis.com/arize-assets/arize-logo-white.jpg\" width=\"200\"/>\n",
    "        <br>\n",
    "        <img alt=\"phoenix logo\" src=\"https://storage.googleapis.com/arize-assets/phoenix/assets/phoenix-logo-light.svg\" width=\"200\"/>\n",
    "        <br>\n",
    "        <a href=\"https://arize.com/docs/phoenix/\">Docs</a>\n",
    "        |\n",
    "        <a href=\"https://github.com/Arize-ai/phoenix\">GitHub</a>\n",
    "        |\n",
    "        <a href=\"https://arize-ai.slack.com/join/shared_invite/zt-2w57bhem8-hq24MB6u7yE_ZF_ilOYSBw#/shared-invite/email\">Community</a>\n",
    "    </p>\n",
    "</center>\n",
    "<h1 align=\"center\">Agent Tool Parameter Extraction Classification Evals</h1>\n",
    "\n",
    "The purpose of this notebook is:\n",
    "\n",
    "- to evaluate the performance of an LLM-assisted approach to evaluating agent tool parameter extraction,\n",
    "- to provide an experimental framework for users to iterate and improve on the default agent tool parameter extraction template.\n",
    "\n",
    "## Install Dependencies and Import Libraries"
   ]
  },
  {
   "cell_type": "code",
   "execution_count": 1,
   "metadata": {
    "colab": {
     "base_uri": "https://localhost:8080/"
    },
    "id": "0la5vhfxEGbb",
    "outputId": "492cf86b-2bfb-49a4-b3d1-b3396fcdab32"
   },
   "outputs": [
    {
     "name": "stdout",
     "output_type": "stream",
     "text": [
      "\u001b[2K     \u001b[90m━━━━━━━━━━━━━━━━━━━━━━━━━━━━━━━━━━━━━━━━\u001b[0m \u001b[32m50.3/50.3 kB\u001b[0m \u001b[31m2.4 MB/s\u001b[0m eta \u001b[36m0:00:00\u001b[0m\n",
      "\u001b[2K     \u001b[90m━━━━━━━━━━━━━━━━━━━━━━━━━━━━━━━━━━━━━━━━\u001b[0m \u001b[32m72.3/72.3 kB\u001b[0m \u001b[31m4.1 MB/s\u001b[0m eta \u001b[36m0:00:00\u001b[0m\n",
      "\u001b[2K   \u001b[90m━━━━━━━━━━━━━━━━━━━━━━━━━━━━━━━━━━━━━━━━\u001b[0m \u001b[32m64.3/64.3 kB\u001b[0m \u001b[31m4.5 MB/s\u001b[0m eta \u001b[36m0:00:00\u001b[0m\n",
      "\u001b[2K   \u001b[90m━━━━━━━━━━━━━━━━━━━━━━━━━━━━━━━━━━━━━━━━\u001b[0m \u001b[32m70.9/70.9 kB\u001b[0m \u001b[31m4.9 MB/s\u001b[0m eta \u001b[36m0:00:00\u001b[0m\n",
      "\u001b[2K   \u001b[90m━━━━━━━━━━━━━━━━━━━━━━━━━━━━━━━━━━━━━━━━\u001b[0m \u001b[32m118.5/118.5 kB\u001b[0m \u001b[31m8.8 MB/s\u001b[0m eta \u001b[36m0:00:00\u001b[0m\n",
      "\u001b[2K   \u001b[90m━━━━━━━━━━━━━━━━━━━━━━━━━━━━━━━━━━━━━━━━\u001b[0m \u001b[32m65.8/65.8 kB\u001b[0m \u001b[31m4.9 MB/s\u001b[0m eta \u001b[36m0:00:00\u001b[0m\n",
      "\u001b[2K   \u001b[90m━━━━━━━━━━━━━━━━━━━━━━━━━━━━━━━━━━━━━━━━\u001b[0m \u001b[32m196.2/196.2 kB\u001b[0m \u001b[31m13.3 MB/s\u001b[0m eta \u001b[36m0:00:00\u001b[0m\n",
      "\u001b[2K   \u001b[90m━━━━━━━━━━━━━━━━━━━━━━━━━━━━━━━━━━━━━━━━\u001b[0m \u001b[32m235.6/235.6 kB\u001b[0m \u001b[31m11.5 MB/s\u001b[0m eta \u001b[36m0:00:00\u001b[0m\n",
      "\u001b[2K   \u001b[90m━━━━━━━━━━━━━━━━━━━━━━━━━━━━━━━━━━━━━━━━\u001b[0m \u001b[32m76.4/76.4 kB\u001b[0m \u001b[31m6.0 MB/s\u001b[0m eta \u001b[36m0:00:00\u001b[0m\n",
      "\u001b[2K   \u001b[90m━━━━━━━━━━━━━━━━━━━━━━━━━━━━━━━━━━━━━━━━\u001b[0m \u001b[32m610.4/610.4 kB\u001b[0m \u001b[31m17.3 MB/s\u001b[0m eta \u001b[36m0:00:00\u001b[0m\n",
      "\u001b[2K   \u001b[90m━━━━━━━━━━━━━━━━━━━━━━━━━━━━━━━━━━━━━━━━\u001b[0m \u001b[32m1.6/1.6 MB\u001b[0m \u001b[31m50.0 MB/s\u001b[0m eta \u001b[36m0:00:00\u001b[0m\n",
      "\u001b[?25h\u001b[31mERROR: pip's dependency resolver does not currently take into account all the packages that are installed. This behaviour is the source of the following dependency conflicts.\n",
      "google-genai 1.24.0 requires httpx<1.0.0,>=0.28.1, but you have httpx 0.27.2 which is incompatible.\n",
      "firebase-admin 6.9.0 requires httpx[http2]==0.28.1, but you have httpx 0.27.2 which is incompatible.\u001b[0m\u001b[31m\n",
      "\u001b[0mRequirement already satisfied: opentelemetry-sdk in /usr/local/lib/python3.11/dist-packages (1.34.1)\n",
      "Requirement already satisfied: arize[Datasets] in /usr/local/lib/python3.11/dist-packages (7.47.0)\n",
      "Requirement already satisfied: googleapis-common-protos<2,>=1.51.0 in /usr/local/lib/python3.11/dist-packages (from arize[Datasets]) (1.70.0)\n",
      "Requirement already satisfied: pandas<3,>=0.25.3 in /usr/local/lib/python3.11/dist-packages (from arize[Datasets]) (2.2.2)\n",
      "Requirement already satisfied: protobuf<6,>=4.21.0 in /usr/local/lib/python3.11/dist-packages (from arize[Datasets]) (5.29.5)\n",
      "Requirement already satisfied: pyarrow>=0.15.0 in /usr/local/lib/python3.11/dist-packages (from arize[Datasets]) (18.1.0)\n",
      "Requirement already satisfied: pydantic<3,>=2.0.0 in /usr/local/lib/python3.11/dist-packages (from arize[Datasets]) (2.11.7)\n",
      "Requirement already satisfied: requests-futures==1.0.0 in /usr/local/lib/python3.11/dist-packages (from arize[Datasets]) (1.0.0)\n",
      "Requirement already satisfied: tqdm<5,>=4.60.0 in /usr/local/lib/python3.11/dist-packages (from arize[Datasets]) (4.67.1)\n",
      "Collecting deprecated (from arize[Datasets])\n",
      "  Downloading Deprecated-1.2.18-py2.py3-none-any.whl.metadata (5.7 kB)\n",
      "Collecting openinference-semantic-conventions<1,>=0.1.6 (from arize[Datasets])\n",
      "  Downloading openinference_semantic_conventions-0.1.21-py3-none-any.whl.metadata (1.2 kB)\n",
      "Collecting opentelemetry-exporter-otlp<2,>=1.25.0 (from arize[Datasets])\n",
      "  Downloading opentelemetry_exporter_otlp-1.34.1-py3-none-any.whl.metadata (2.4 kB)\n",
      "Requirement already satisfied: opentelemetry-semantic-conventions<1,>=0.43b0 in /usr/local/lib/python3.11/dist-packages (from arize[Datasets]) (0.55b1)\n",
      "Requirement already satisfied: typing-extensions<5,>=4 in /usr/local/lib/python3.11/dist-packages (from arize[Datasets]) (4.14.1)\n",
      "Requirement already satisfied: wrapt<2,>=1.12.1 in /usr/local/lib/python3.11/dist-packages (from arize[Datasets]) (1.17.2)\n",
      "Requirement already satisfied: requests>=1.2.0 in /usr/local/lib/python3.11/dist-packages (from requests-futures==1.0.0->arize[Datasets]) (2.32.3)\n",
      "Requirement already satisfied: opentelemetry-api==1.34.1 in /usr/local/lib/python3.11/dist-packages (from opentelemetry-sdk) (1.34.1)\n",
      "Requirement already satisfied: importlib-metadata<8.8.0,>=6.0 in /usr/local/lib/python3.11/dist-packages (from opentelemetry-api==1.34.1->opentelemetry-sdk) (8.7.0)\n",
      "Collecting opentelemetry-exporter-otlp-proto-grpc==1.34.1 (from opentelemetry-exporter-otlp<2,>=1.25.0->arize[Datasets])\n",
      "  Downloading opentelemetry_exporter_otlp_proto_grpc-1.34.1-py3-none-any.whl.metadata (2.4 kB)\n",
      "Collecting opentelemetry-exporter-otlp-proto-http==1.34.1 (from opentelemetry-exporter-otlp<2,>=1.25.0->arize[Datasets])\n",
      "  Downloading opentelemetry_exporter_otlp_proto_http-1.34.1-py3-none-any.whl.metadata (2.3 kB)\n",
      "Requirement already satisfied: grpcio<2.0.0,>=1.63.2 in /usr/local/lib/python3.11/dist-packages (from opentelemetry-exporter-otlp-proto-grpc==1.34.1->opentelemetry-exporter-otlp<2,>=1.25.0->arize[Datasets]) (1.73.1)\n",
      "Collecting opentelemetry-exporter-otlp-proto-common==1.34.1 (from opentelemetry-exporter-otlp-proto-grpc==1.34.1->opentelemetry-exporter-otlp<2,>=1.25.0->arize[Datasets])\n",
      "  Downloading opentelemetry_exporter_otlp_proto_common-1.34.1-py3-none-any.whl.metadata (1.9 kB)\n",
      "Collecting opentelemetry-proto==1.34.1 (from opentelemetry-exporter-otlp-proto-grpc==1.34.1->opentelemetry-exporter-otlp<2,>=1.25.0->arize[Datasets])\n",
      "  Downloading opentelemetry_proto-1.34.1-py3-none-any.whl.metadata (2.4 kB)\n",
      "Requirement already satisfied: numpy>=1.23.2 in /usr/local/lib/python3.11/dist-packages (from pandas<3,>=0.25.3->arize[Datasets]) (2.0.2)\n",
      "Requirement already satisfied: python-dateutil>=2.8.2 in /usr/local/lib/python3.11/dist-packages (from pandas<3,>=0.25.3->arize[Datasets]) (2.9.0.post0)\n",
      "Requirement already satisfied: pytz>=2020.1 in /usr/local/lib/python3.11/dist-packages (from pandas<3,>=0.25.3->arize[Datasets]) (2025.2)\n",
      "Requirement already satisfied: tzdata>=2022.7 in /usr/local/lib/python3.11/dist-packages (from pandas<3,>=0.25.3->arize[Datasets]) (2025.2)\n",
      "Requirement already satisfied: annotated-types>=0.6.0 in /usr/local/lib/python3.11/dist-packages (from pydantic<3,>=2.0.0->arize[Datasets]) (0.7.0)\n",
      "Requirement already satisfied: pydantic-core==2.33.2 in /usr/local/lib/python3.11/dist-packages (from pydantic<3,>=2.0.0->arize[Datasets]) (2.33.2)\n",
      "Requirement already satisfied: typing-inspection>=0.4.0 in /usr/local/lib/python3.11/dist-packages (from pydantic<3,>=2.0.0->arize[Datasets]) (0.4.1)\n",
      "Requirement already satisfied: zipp>=3.20 in /usr/local/lib/python3.11/dist-packages (from importlib-metadata<8.8.0,>=6.0->opentelemetry-api==1.34.1->opentelemetry-sdk) (3.23.0)\n",
      "Requirement already satisfied: six>=1.5 in /usr/local/lib/python3.11/dist-packages (from python-dateutil>=2.8.2->pandas<3,>=0.25.3->arize[Datasets]) (1.17.0)\n",
      "Requirement already satisfied: charset-normalizer<4,>=2 in /usr/local/lib/python3.11/dist-packages (from requests>=1.2.0->requests-futures==1.0.0->arize[Datasets]) (3.4.2)\n",
      "Requirement already satisfied: idna<4,>=2.5 in /usr/local/lib/python3.11/dist-packages (from requests>=1.2.0->requests-futures==1.0.0->arize[Datasets]) (3.10)\n",
      "Requirement already satisfied: urllib3<3,>=1.21.1 in /usr/local/lib/python3.11/dist-packages (from requests>=1.2.0->requests-futures==1.0.0->arize[Datasets]) (2.4.0)\n",
      "Requirement already satisfied: certifi>=2017.4.17 in /usr/local/lib/python3.11/dist-packages (from requests>=1.2.0->requests-futures==1.0.0->arize[Datasets]) (2025.6.15)\n",
      "Downloading openinference_semantic_conventions-0.1.21-py3-none-any.whl (10 kB)\n",
      "Downloading opentelemetry_exporter_otlp-1.34.1-py3-none-any.whl (7.0 kB)\n",
      "Downloading opentelemetry_exporter_otlp_proto_grpc-1.34.1-py3-none-any.whl (18 kB)\n",
      "Downloading opentelemetry_exporter_otlp_proto_http-1.34.1-py3-none-any.whl (17 kB)\n",
      "Downloading opentelemetry_exporter_otlp_proto_common-1.34.1-py3-none-any.whl (18 kB)\n",
      "Downloading opentelemetry_proto-1.34.1-py3-none-any.whl (55 kB)\n",
      "\u001b[2K   \u001b[90m━━━━━━━━━━━━━━━━━━━━━━━━━━━━━━━━━━━━━━━━\u001b[0m \u001b[32m55.7/55.7 kB\u001b[0m \u001b[31m1.8 MB/s\u001b[0m eta \u001b[36m0:00:00\u001b[0m\n",
      "\u001b[?25hDownloading Deprecated-1.2.18-py2.py3-none-any.whl (10.0 kB)\n",
      "Installing collected packages: opentelemetry-proto, openinference-semantic-conventions, deprecated, opentelemetry-exporter-otlp-proto-common, opentelemetry-exporter-otlp-proto-http, opentelemetry-exporter-otlp-proto-grpc, opentelemetry-exporter-otlp\n",
      "Successfully installed deprecated-1.2.18 openinference-semantic-conventions-0.1.21 opentelemetry-exporter-otlp-1.34.1 opentelemetry-exporter-otlp-proto-common-1.34.1 opentelemetry-exporter-otlp-proto-grpc-1.34.1 opentelemetry-exporter-otlp-proto-http-1.34.1 opentelemetry-proto-1.34.1\n",
      "Requirement already satisfied: openai in /usr/local/lib/python3.11/dist-packages (1.93.0)\n",
      "Requirement already satisfied: pandas in /usr/local/lib/python3.11/dist-packages (2.2.2)\n",
      "Requirement already satisfied: anyio<5,>=3.5.0 in /usr/local/lib/python3.11/dist-packages (from openai) (4.9.0)\n",
      "Requirement already satisfied: distro<2,>=1.7.0 in /usr/local/lib/python3.11/dist-packages (from openai) (1.9.0)\n",
      "Requirement already satisfied: httpx<1,>=0.23.0 in /usr/local/lib/python3.11/dist-packages (from openai) (0.27.2)\n",
      "Requirement already satisfied: jiter<1,>=0.4.0 in /usr/local/lib/python3.11/dist-packages (from openai) (0.10.0)\n",
      "Requirement already satisfied: pydantic<3,>=1.9.0 in /usr/local/lib/python3.11/dist-packages (from openai) (2.11.7)\n",
      "Requirement already satisfied: sniffio in /usr/local/lib/python3.11/dist-packages (from openai) (1.3.1)\n",
      "Requirement already satisfied: tqdm>4 in /usr/local/lib/python3.11/dist-packages (from openai) (4.67.1)\n",
      "Requirement already satisfied: typing-extensions<5,>=4.11 in /usr/local/lib/python3.11/dist-packages (from openai) (4.14.1)\n",
      "Requirement already satisfied: numpy>=1.23.2 in /usr/local/lib/python3.11/dist-packages (from pandas) (2.0.2)\n",
      "Requirement already satisfied: python-dateutil>=2.8.2 in /usr/local/lib/python3.11/dist-packages (from pandas) (2.9.0.post0)\n",
      "Requirement already satisfied: pytz>=2020.1 in /usr/local/lib/python3.11/dist-packages (from pandas) (2025.2)\n",
      "Requirement already satisfied: tzdata>=2022.7 in /usr/local/lib/python3.11/dist-packages (from pandas) (2025.2)\n",
      "Requirement already satisfied: idna>=2.8 in /usr/local/lib/python3.11/dist-packages (from anyio<5,>=3.5.0->openai) (3.10)\n",
      "Requirement already satisfied: certifi in /usr/local/lib/python3.11/dist-packages (from httpx<1,>=0.23.0->openai) (2025.6.15)\n",
      "Requirement already satisfied: httpcore==1.* in /usr/local/lib/python3.11/dist-packages (from httpx<1,>=0.23.0->openai) (1.0.9)\n",
      "Requirement already satisfied: h11>=0.16 in /usr/local/lib/python3.11/dist-packages (from httpcore==1.*->httpx<1,>=0.23.0->openai) (0.16.0)\n",
      "Requirement already satisfied: annotated-types>=0.6.0 in /usr/local/lib/python3.11/dist-packages (from pydantic<3,>=1.9.0->openai) (0.7.0)\n",
      "Requirement already satisfied: pydantic-core==2.33.2 in /usr/local/lib/python3.11/dist-packages (from pydantic<3,>=1.9.0->openai) (2.33.2)\n",
      "Requirement already satisfied: typing-inspection>=0.4.0 in /usr/local/lib/python3.11/dist-packages (from pydantic<3,>=1.9.0->openai) (0.4.1)\n",
      "Requirement already satisfied: six>=1.5 in /usr/local/lib/python3.11/dist-packages (from python-dateutil>=2.8.2->pandas) (1.17.0)\n",
      "Collecting anthropic>=0.18.0\n",
      "  Downloading anthropic-0.57.1-py3-none-any.whl.metadata (27 kB)\n",
      "Requirement already satisfied: anyio<5,>=3.5.0 in /usr/local/lib/python3.11/dist-packages (from anthropic>=0.18.0) (4.9.0)\n",
      "Requirement already satisfied: distro<2,>=1.7.0 in /usr/local/lib/python3.11/dist-packages (from anthropic>=0.18.0) (1.9.0)\n",
      "Requirement already satisfied: httpx<1,>=0.25.0 in /usr/local/lib/python3.11/dist-packages (from anthropic>=0.18.0) (0.27.2)\n",
      "Requirement already satisfied: jiter<1,>=0.4.0 in /usr/local/lib/python3.11/dist-packages (from anthropic>=0.18.0) (0.10.0)\n",
      "Requirement already satisfied: pydantic<3,>=1.9.0 in /usr/local/lib/python3.11/dist-packages (from anthropic>=0.18.0) (2.11.7)\n",
      "Requirement already satisfied: sniffio in /usr/local/lib/python3.11/dist-packages (from anthropic>=0.18.0) (1.3.1)\n",
      "Requirement already satisfied: typing-extensions<5,>=4.10 in /usr/local/lib/python3.11/dist-packages (from anthropic>=0.18.0) (4.14.1)\n",
      "Requirement already satisfied: idna>=2.8 in /usr/local/lib/python3.11/dist-packages (from anyio<5,>=3.5.0->anthropic>=0.18.0) (3.10)\n",
      "Requirement already satisfied: certifi in /usr/local/lib/python3.11/dist-packages (from httpx<1,>=0.25.0->anthropic>=0.18.0) (2025.6.15)\n",
      "Requirement already satisfied: httpcore==1.* in /usr/local/lib/python3.11/dist-packages (from httpx<1,>=0.25.0->anthropic>=0.18.0) (1.0.9)\n",
      "Requirement already satisfied: h11>=0.16 in /usr/local/lib/python3.11/dist-packages (from httpcore==1.*->httpx<1,>=0.25.0->anthropic>=0.18.0) (0.16.0)\n",
      "Requirement already satisfied: annotated-types>=0.6.0 in /usr/local/lib/python3.11/dist-packages (from pydantic<3,>=1.9.0->anthropic>=0.18.0) (0.7.0)\n",
      "Requirement already satisfied: pydantic-core==2.33.2 in /usr/local/lib/python3.11/dist-packages (from pydantic<3,>=1.9.0->anthropic>=0.18.0) (2.33.2)\n",
      "Requirement already satisfied: typing-inspection>=0.4.0 in /usr/local/lib/python3.11/dist-packages (from pydantic<3,>=1.9.0->anthropic>=0.18.0) (0.4.1)\n",
      "Downloading anthropic-0.57.1-py3-none-any.whl (292 kB)\n",
      "\u001b[2K   \u001b[90m━━━━━━━━━━━━━━━━━━━━━━━━━━━━━━━━━━━━━━━━\u001b[0m \u001b[32m292.8/292.8 kB\u001b[0m \u001b[31m5.7 MB/s\u001b[0m eta \u001b[36m0:00:00\u001b[0m\n",
      "\u001b[?25hInstalling collected packages: anthropic\n",
      "Successfully installed anthropic-0.57.1\n"
     ]
    }
   ],
   "source": [
    "!pip install -qq \"arize-phoenix-evals>=0.22.0\" \"openai>=1\" ipython matplotlib pycm pyarrow opentelemetry-sdk scikit-learn arize tiktoken nest_asyncio 'httpx<0.28'\n",
    "!pip install \"arize[Datasets]\" opentelemetry-sdk\n",
    "!pip install openai pandas\n",
    "!pip install \"anthropic>=0.18.0\""
   ]
  },
  {
   "cell_type": "markdown",
   "metadata": {
    "id": "UX492hfvEGbb"
   },
   "source": [
    "ℹ️ To enable async request submission in notebook environments like Jupyter or Google Colab, optionally use `nest_asyncio`. `nest_asyncio` globally patches `asyncio` to enable event loops to be re-entrant. This is not required for non-notebook environments.\n",
    "\n",
    "Without `nest_asyncio`, eval submission can be much slower, depending on your organization's rate limits. Speed increases of about 5x are typical."
   ]
  },
  {
   "cell_type": "code",
   "execution_count": 2,
   "metadata": {
    "id": "OKTub2q4EGbc"
   },
   "outputs": [],
   "source": [
    "import nest_asyncio\n",
    "\n",
    "nest_asyncio.apply()"
   ]
  },
  {
   "cell_type": "code",
   "execution_count": 3,
   "metadata": {
    "id": "5N4dMv_1EGbc"
   },
   "outputs": [],
   "source": [
    "import json\n",
    "import os\n",
    "from getpass import getpass\n",
    "\n",
    "import matplotlib.pyplot as plt\n",
    "import openai\n",
    "import pandas as pd\n",
    "from pycm import ConfusionMatrix\n",
    "\n",
    "import phoenix.evals.default_templates as templates\n",
    "from phoenix.evals import (\n",
    "    AnthropicModel,\n",
    "    OpenAIModel,\n",
    "    llm_classify,\n",
    ")\n",
    "\n",
    "pd.set_option(\"display.max_colwidth\", None)"
   ]
  },
  {
   "cell_type": "markdown",
   "metadata": {
    "id": "Gthqcv8xEGbc"
   },
   "source": [
    "## Download Benchmark Dataset\n",
    "\n",
    "We'll evaluate the evaluation system consisting of a few example user prompts, with corresponding tool choices and ground truth answers, in addition to an evaluation prompt template against benchmark datasets of user queries and the corresponding tools called with ground-truth labels. We will be using the Berkely Function-Calling Leaderboard dataset. This dataset is commonly used for Agent applications that call tools as a benchmark."
   ]
  },
  {
   "cell_type": "code",
   "execution_count": 4,
   "metadata": {
    "colab": {
     "base_uri": "https://localhost:8080/"
    },
    "id": "a5mv7s5zPpTu",
    "outputId": "950664fe-06b9-40cb-ab49-12fd2a61aa8f"
   },
   "outputs": [
    {
     "name": "stdout",
     "output_type": "stream",
     "text": [
      "--2025-07-10 16:16:07--  https://huggingface.co/datasets/gorilla-llm/Berkeley-Function-Calling-Leaderboard/blob/main/BFCL_v3_exec_multiple.json\n",
      "Resolving huggingface.co (huggingface.co)... 3.166.152.110, 3.166.152.44, 3.166.152.65, ...\n",
      "Connecting to huggingface.co (huggingface.co)|3.166.152.110|:443... connected.\n",
      "HTTP request sent, awaiting response... 200 OK\n",
      "Length: 1201626 (1.1M) [text/html]\n",
      "Saving to: ‘exec_simple.json’\n",
      "\n",
      "exec_simple.json    100%[===================>]   1.15M  --.-KB/s    in 0.08s   \n",
      "\n",
      "2025-07-10 16:16:08 (15.1 MB/s) - ‘exec_simple.json’ saved [1201626/1201626]\n",
      "\n"
     ]
    }
   ],
   "source": [
    "!wget -O exec_simple.json https://huggingface.co/datasets/gorilla-llm/Berkeley-Function-Calling-Leaderboard/blob/main/BFCL_v3_exec_multiple.json"
   ]
  },
  {
   "cell_type": "code",
   "execution_count": 5,
   "metadata": {
    "colab": {
     "base_uri": "https://localhost:8080/",
     "height": 1000
    },
    "id": "FW2qxwM2P0sh",
    "outputId": "3cb37a64-a013-4100-9d2e-41826ab98452"
   },
   "outputs": [
    {
     "data": {
      "application/vnd.google.colaboratory.intrinsic+json": {
       "summary": "{\n  \"name\": \"df_eval\",\n  \"rows\": 50,\n  \"fields\": [\n    {\n      \"column\": \"question\",\n      \"properties\": {\n        \"dtype\": \"string\",\n        \"num_unique_values\": 50,\n        \"samples\": [\n          \"I've been hearing the slang term \\\"lit\\\" quite frequently these days and it's piqued my curiosity. I'm not entirely sure what it means, so I'm looking to find a definition that could shed some light on its usage and connotations. Can you find out what \\\"lit\\\" means on Urban Dictionary for me?\",\n          \"I've got a dataset here that needs to be ordered from highest to lowest value. The numbers I'm working with are 34, 2, 56, 7, 9, and 12. Could you help me sort these in descending order?\",\n          \"I'm currently in the middle of a cybersecurity investigation and have come across a suspicious IP address that we suspect might be the source of a recent cyber attack. The IP address is 192.168.1.1, and I need to track down the physical location it's associated with to proceed with the investigation. To start with, could you find out the zipcode for where this IP address is registered?\"\n        ],\n        \"semantic_type\": \"\",\n        \"description\": \"\"\n      }\n    },\n    {\n      \"column\": \"tool_call\",\n      \"properties\": {\n        \"dtype\": \"string\",\n        \"num_unique_values\": 50,\n        \"samples\": [\n          \"find_term_on_urban_dictionary(term=\\\"lit\\\")\",\n          \"sort_array(array=[34, 2, 56, 7, 9, 12], reverse=True)\",\n          \"get_zipcode_by_ip_address(ip_address=\\\"192.168.1.1\\\")\"\n        ],\n        \"semantic_type\": \"\",\n        \"description\": \"\"\n      }\n    },\n    {\n      \"column\": \"tool_definitions\",\n      \"properties\": {\n        \"dtype\": \"category\",\n        \"num_unique_values\": 1,\n        \"samples\": [\n          \"get_weather_data: Fetches weather data from the Open-Meteo API for the given latitude and longitude. | Parameters: {\\\"type\\\": \\\"dict\\\", \\\"properties\\\": {\\\"coordinates\\\": {\\\"type\\\": \\\"array\\\", \\\"items\\\": {\\\"type\\\": \\\"float\\\"}, \\\"description\\\": \\\"The latitude and longitude of the location.\\\"}}, \\\"required\\\": [\\\"coordinates\\\"]}\\ncalc_binomial_probability: Calculates the probability of getting k successes in n trials. | Parameters: {\\\"type\\\": \\\"dict\\\", \\\"properties\\\": {\\\"n\\\": {\\\"type\\\": \\\"integer\\\", \\\"description\\\": \\\"The number of trials.\\\"}, \\\"k\\\": {\\\"type\\\": \\\"integer\\\", \\\"description\\\": \\\"The number of successes.\\\"}, \\\"p\\\": {\\\"type\\\": \\\"float\\\", \\\"description\\\": \\\"The probability of success.\\\"}}, \\\"required\\\": [\\\"n\\\", \\\"k\\\", \\\"p\\\"]}\\ncalculate_cosine_similarity: Calculates the cosine similarity of two vectors. | Parameters: {\\\"type\\\": \\\"dict\\\", \\\"properties\\\": {\\\"vectorA\\\": {\\\"type\\\": \\\"array\\\", \\\"items\\\": {\\\"type\\\": \\\"float\\\"}, \\\"description\\\": \\\"The first vector.\\\"}, \\\"vectorB\\\": {\\\"type\\\": \\\"array\\\", \\\"items\\\": {\\\"type\\\": \\\"float\\\"}, \\\"description\\\": \\\"The second vector.\\\"}}, \\\"required\\\": [\\\"vectorA\\\", \\\"vectorB\\\"]}\\nget_stock_price_by_stock_name: Finds the price of a stock by its stock name. | Parameters: {\\\"type\\\": \\\"dict\\\", \\\"properties\\\": {\\\"stock_name\\\": {\\\"type\\\": \\\"string\\\", \\\"description\\\": \\\"The stock name of the product, in the format of the stock symbol.\\\"}}, \\\"required\\\": [\\\"stock_name\\\"]}\\ncalculate_density: Calculates the density of an object. | Parameters: {\\\"type\\\": \\\"dict\\\", \\\"properties\\\": {\\\"mass\\\": {\\\"type\\\": \\\"float\\\", \\\"description\\\": \\\"The mass of the object, in kilograms.\\\"}, \\\"volume\\\": {\\\"type\\\": \\\"float\\\", \\\"description\\\": \\\"The volume of the object, in cubic meters.\\\"}}, \\\"required\\\": [\\\"mass\\\", \\\"volume\\\"]}\\ncalculate_future_value: Calculates the future value of an investment. | Parameters: {\\\"type\\\": \\\"dict\\\", \\\"properties\\\": {\\\"present_value\\\": {\\\"type\\\": \\\"float\\\", \\\"description\\\": \\\"The present value of the investment, in dollars.\\\"}, \\\"interest_rate\\\": {\\\"type\\\": \\\"float\\\", \\\"description\\\": \\\"The interest rate of the investment, ranging from 0 to 1.\\\"}, \\\"periods\\\": {\\\"type\\\": \\\"integer\\\", \\\"description\\\": \\\"The number of periods, in years.\\\"}}, \\\"required\\\": [\\\"present_value\\\", \\\"interest_rate\\\", \\\"periods\\\"]}\\nget_rating_by_amazon_ASIN: Finds the rating of a product by its Amazon ASIN. | Parameters: {\\\"type\\\": \\\"dict\\\", \\\"properties\\\": {\\\"ASIN\\\": {\\\"type\\\": \\\"string\\\", \\\"description\\\": \\\"The Amazon ASIN of the product.\\\"}}, \\\"required\\\": [\\\"ASIN\\\"]}\\nretrieve_holiday_by_year: Finds the holidays of a year. | Parameters: {\\\"type\\\": \\\"dict\\\", \\\"properties\\\": {\\\"year\\\": {\\\"type\\\": \\\"string\\\", \\\"description\\\": \\\"The year of the holidays.\\\"}, \\\"country\\\": {\\\"type\\\": \\\"string\\\", \\\"description\\\": \\\"The country of the holidays. Possible options: US, AT, DE, ES, FR, GB, IT, NL, PL, RO, SK, UA.\\\"}}, \\\"required\\\": [\\\"year\\\", \\\"country\\\"]}\\ncalculate_displacement: Calculates the displacement of an object. | Parameters: {\\\"type\\\": \\\"dict\\\", \\\"properties\\\": {\\\"initial_velocity\\\": {\\\"type\\\": \\\"float\\\", \\\"description\\\": \\\"The initial velocity of the object, in meters per second.\\\"}, \\\"acceleration\\\": {\\\"type\\\": \\\"float\\\", \\\"description\\\": \\\"The acceleration of the object, in meters per second squared.\\\"}, \\\"time\\\": {\\\"type\\\": \\\"float\\\", \\\"description\\\": \\\"The time the object has been moving, in seconds.\\\"}}, \\\"required\\\": [\\\"initial_velocity\\\", \\\"acceleration\\\", \\\"time\\\"]}\\nget_zipcode_by_ip_address: Finds the zipcode of an IP address. | Parameters: {\\\"type\\\": \\\"dict\\\", \\\"properties\\\": {\\\"ip_address\\\": {\\\"type\\\": \\\"string\\\", \\\"description\\\": \\\"The IP address to find the location of.\\\"}}, \\\"required\\\": [\\\"ip_address\\\"]}\\ncalculate_electrostatic_potential_energy: Calculates the electrostatic potential energy. | Parameters: {\\\"type\\\": \\\"dict\\\", \\\"properties\\\": {\\\"charge\\\": {\\\"type\\\": \\\"float\\\", \\\"description\\\": \\\"The charge of the object, in coulombs.\\\"}, \\\"voltage\\\": {\\\"type\\\": \\\"float\\\", \\\"description\\\": \\\"The voltage of the object, in volts.\\\"}}, \\\"required\\\": [\\\"charge\\\", \\\"voltage\\\"]}\\nmortgage_calculator: Calculates the monthly mortgage payment. | Parameters: {\\\"type\\\": \\\"dict\\\", \\\"properties\\\": {\\\"loan_amount\\\": {\\\"type\\\": \\\"float\\\", \\\"description\\\": \\\"The amount of the loan.\\\"}, \\\"interest_rate\\\": {\\\"type\\\": \\\"float\\\", \\\"description\\\": \\\"The interest rate of the loan, ranging from 0 to 1.\\\"}, \\\"loan_period\\\": {\\\"type\\\": \\\"integer\\\", \\\"description\\\": \\\"The period of the loan, in years.\\\"}}, \\\"required\\\": [\\\"loan_amount\\\", \\\"interest_rate\\\", \\\"loan_period\\\"]}\\ncalculate_final_velocity: Calculates the final velocity of an object. | Parameters: {\\\"type\\\": \\\"dict\\\", \\\"properties\\\": {\\\"initial_velocity\\\": {\\\"type\\\": \\\"float\\\", \\\"description\\\": \\\"The initial velocity of the object.\\\"}, \\\"acceleration\\\": {\\\"type\\\": \\\"float\\\", \\\"description\\\": \\\"The acceleration of the object.\\\"}, \\\"time\\\": {\\\"type\\\": \\\"float\\\", \\\"description\\\": \\\"The time the object has been moving.\\\"}}, \\\"required\\\": [\\\"initial_velocity\\\", \\\"acceleration\\\", \\\"time\\\"]}\\nget_fibonacci_sequence: Calculates the n numbers of the Fibonacci. | Parameters: {\\\"type\\\": \\\"dict\\\", \\\"properties\\\": {\\\"n\\\": {\\\"type\\\": \\\"integer\\\", \\\"description\\\": \\\"The number of Fibonacci numbers to calculate.\\\"}}, \\\"required\\\": [\\\"n\\\"]}\\nsort_array: Sorts an array of numbers. | Parameters: {\\\"type\\\": \\\"dict\\\", \\\"properties\\\": {\\\"array\\\": {\\\"type\\\": \\\"array\\\", \\\"items\\\": {\\\"type\\\": \\\"float\\\"}, \\\"description\\\": \\\"The array of numbers.\\\"}, \\\"reverse\\\": {\\\"type\\\": \\\"boolean\\\", \\\"description\\\": \\\"Whether to sort the array in reverse order, i.e., descending order.\\\", \\\"default\\\": false}}, \\\"required\\\": [\\\"array\\\"]}\\nget_time_zone_by_coord: Finds the timezone of a coordinate. | Parameters: {\\\"type\\\": \\\"dict\\\", \\\"properties\\\": {\\\"long\\\": {\\\"type\\\": \\\"string\\\", \\\"description\\\": \\\"The longitude of the coordinate.\\\"}, \\\"lat\\\": {\\\"type\\\": \\\"string\\\", \\\"description\\\": \\\"The latitude of the coordinate.\\\"}}, \\\"required\\\": [\\\"long\\\", \\\"lat\\\"]}\\ncalculate_mean: Calculates the mean of a list of numbers. | Parameters: {\\\"type\\\": \\\"dict\\\", \\\"properties\\\": {\\\"numbers\\\": {\\\"type\\\": \\\"array\\\", \\\"items\\\": {\\\"type\\\": \\\"integer\\\"}, \\\"description\\\": \\\"The list of numbers.\\\"}}, \\\"required\\\": [\\\"numbers\\\"]}\\ncalculate_permutations: Calculates the number of permutations of k elements from a set of n elements. | Parameters: {\\\"type\\\": \\\"dict\\\", \\\"properties\\\": {\\\"n\\\": {\\\"type\\\": \\\"integer\\\", \\\"description\\\": \\\"The number of elements in the set.\\\"}, \\\"k\\\": {\\\"type\\\": \\\"integer\\\", \\\"description\\\": \\\"The number of elements to choose.\\\"}}, \\\"required\\\": [\\\"n\\\", \\\"k\\\"]}\\nget_company_name_by_stock_name: Finds the company name of a stock by its stock name. | Parameters: {\\\"type\\\": \\\"dict\\\", \\\"properties\\\": {\\\"stock_name\\\": {\\\"type\\\": \\\"string\\\", \\\"description\\\": \\\"The stock name of the product, in the format of the stock symbol.\\\"}}, \\\"required\\\": [\\\"stock_name\\\"]}\\ncalculate_standard_deviation: Calculates the standard deviation of a list of numbers. | Parameters: {\\\"type\\\": \\\"dict\\\", \\\"properties\\\": {\\\"numbers\\\": {\\\"type\\\": \\\"array\\\", \\\"items\\\": {\\\"type\\\": \\\"integer\\\"}, \\\"description\\\": \\\"The list of numbers.\\\"}}, \\\"required\\\": [\\\"numbers\\\"]}\\nmath_lcm: Calculates the least common multiple of two numbers. | Parameters: {\\\"type\\\": \\\"dict\\\", \\\"properties\\\": {\\\"a\\\": {\\\"type\\\": \\\"integer\\\", \\\"description\\\": \\\"The first number. This should be the larger number.\\\"}, \\\"b\\\": {\\\"type\\\": \\\"integer\\\", \\\"description\\\": \\\"The second number.\\\"}}, \\\"required\\\": [\\\"a\\\", \\\"b\\\"]}\\ncalculate_triangle_area: Calculates the area of a triangle given its base and height. | Parameters: {\\\"type\\\": \\\"dict\\\", \\\"properties\\\": {\\\"base\\\": {\\\"type\\\": \\\"integer\\\", \\\"description\\\": \\\"The base of the triangle, in meters.\\\"}, \\\"height\\\": {\\\"type\\\": \\\"integer\\\", \\\"description\\\": \\\"The height of the triangle, in meters.\\\"}}, \\\"required\\\": [\\\"base\\\", \\\"height\\\"]}\\nconvert_currency: Converts a given amount from one currency to another using the ExchangeRate-API. | Parameters: {\\\"type\\\": \\\"dict\\\", \\\"properties\\\": {\\\"amount\\\": {\\\"type\\\": \\\"float\\\", \\\"description\\\": \\\"The amount of money to convert, in the base currency.\\\"}, \\\"from_currency\\\": {\\\"type\\\": \\\"string\\\", \\\"description\\\": \\\"The ISO currency code for the base currency.\\\"}, \\\"to_currency\\\": {\\\"type\\\": \\\"string\\\", \\\"description\\\": \\\"The ISO currency code for the target currency.\\\"}}, \\\"required\\\": [\\\"amount\\\", \\\"from_currency\\\", \\\"to_currency\\\"]}\\nget_stock_history: Finds the price of a stock by its stock name. | Parameters: {\\\"type\\\": \\\"dict\\\", \\\"properties\\\": {\\\"stock_name\\\": {\\\"type\\\": \\\"string\\\", \\\"description\\\": \\\"The stock name of the product, in the format of the stock symbol.\\\"}, \\\"interval\\\": {\\\"type\\\": \\\"string\\\", \\\"description\\\": \\\"The interval of the stock history. Allows one of following : 5m|15m|30m|1h|1d|1wk|1mo|3mo\\\"}, \\\"diffandsplits\\\": {\\\"type\\\": \\\"string\\\", \\\"description\\\": \\\"The diff and splits of the stock history. Allows one of following : true|false. Default to false\\\"}}, \\\"required\\\": [\\\"stock_name\\\", \\\"interval\\\"]}\\nmath_gcd: Calculates the greatest common divisor of two numbers. | Parameters: {\\\"type\\\": \\\"dict\\\", \\\"properties\\\": {\\\"a\\\": {\\\"type\\\": \\\"integer\\\", \\\"description\\\": \\\"The first number. This should be the larger number.\\\"}, \\\"b\\\": {\\\"type\\\": \\\"integer\\\", \\\"description\\\": \\\"The second number.\\\"}}, \\\"required\\\": [\\\"a\\\", \\\"b\\\"]}\\nestimate_derivative: Estimate the derivative of a function at a given point. | Parameters: {\\\"type\\\": \\\"dict\\\", \\\"properties\\\": {\\\"function\\\": {\\\"type\\\": \\\"string\\\", \\\"description\\\": \\\"The function to calculate the derivative of. This should be the string literal of lambda function\\\"}, \\\"x\\\": {\\\"type\\\": \\\"integer\\\", \\\"description\\\": \\\"The point to calculate the derivative at.\\\"}}, \\\"required\\\": [\\\"function\\\", \\\"x\\\"]}\\nfind_term_on_urban_dictionary: Finds the definition of a term on Urban Dictionary. | Parameters: {\\\"type\\\": \\\"dict\\\", \\\"properties\\\": {\\\"term\\\": {\\\"type\\\": \\\"string\\\", \\\"description\\\": \\\"The term to find the definition of.\\\"}}, \\\"required\\\": [\\\"term\\\"]}\\nget_distance: Calculates the distance between two 2D points. | Parameters: {\\\"type\\\": \\\"dict\\\", \\\"properties\\\": {\\\"pointA\\\": {\\\"type\\\": \\\"tuple\\\", \\\"description\\\": \\\"The first point.\\\", \\\"items\\\": {\\\"type\\\": \\\"float\\\"}}, \\\"pointB\\\": {\\\"type\\\": \\\"tuple\\\", \\\"description\\\": \\\"The second point.\\\", \\\"items\\\": {\\\"type\\\": \\\"float\\\"}}}, \\\"required\\\": [\\\"pointA\\\", \\\"pointB\\\"]}\\ngeometry_area_circle: Calculates the area of a circle. | Parameters: {\\\"type\\\": \\\"dict\\\", \\\"properties\\\": {\\\"radius\\\": {\\\"type\\\": \\\"integer\\\", \\\"description\\\": \\\"The radius of the circle, in feet.\\\"}}, \\\"required\\\": [\\\"radius\\\"]}\\nget_covid_death_by_country: Finds the most up to date total deaths of a country result from COVID. | Parameters: {\\\"type\\\": \\\"dict\\\", \\\"properties\\\": {\\\"country\\\": {\\\"type\\\": \\\"string\\\", \\\"description\\\": \\\"The country to find the total deaths of, in the format of the country's full name.\\\"}}, \\\"required\\\": [\\\"country\\\"]}\\nget_active_covid_case_by_country: Finds the most up to date active cases of a country result from COVID. | Parameters: {\\\"type\\\": \\\"dict\\\", \\\"properties\\\": {\\\"country\\\": {\\\"type\\\": \\\"string\\\", \\\"description\\\": \\\"The country to find the active cases of, in the format of the country's full name.\\\"}}, \\\"required\\\": [\\\"country\\\"]}\\nmat_mul: Multiplies two matrices. | Parameters: {\\\"type\\\": \\\"dict\\\", \\\"properties\\\": {\\\"matA\\\": {\\\"type\\\": \\\"array\\\", \\\"description\\\": \\\"The first matrix.\\\", \\\"items\\\": {\\\"type\\\": \\\"array\\\", \\\"items\\\": {\\\"type\\\": \\\"integer\\\"}}}, \\\"matB\\\": {\\\"type\\\": \\\"array\\\", \\\"description\\\": \\\"The second matrix.\\\", \\\"items\\\": {\\\"type\\\": \\\"array\\\", \\\"items\\\": {\\\"type\\\": \\\"integer\\\"}}}}, \\\"required\\\": [\\\"matA\\\", \\\"matB\\\"]}\\nget_coordinate_by_ip_address: Finds the latitude and longitude of an IP address. | Parameters: {\\\"type\\\": \\\"dict\\\", \\\"properties\\\": {\\\"ip_address\\\": {\\\"type\\\": \\\"string\\\", \\\"description\\\": \\\"The IP address to find the location of.\\\"}}, \\\"required\\\": [\\\"ip_address\\\"]}\\nget_coordinates_from_city: Fetches the latitude and longitude of a given city name using the Maps.co Geocoding API. | Parameters: {\\\"type\\\": \\\"dict\\\", \\\"properties\\\": {\\\"city_name\\\": {\\\"type\\\": \\\"string\\\", \\\"description\\\": \\\"The name of the city, such as 'Rome'.\\\"}}, \\\"required\\\": [\\\"city_name\\\"]}\\nget_product_name_by_amazon_ASIN: Finds the price of a product by its Amazon ASIN. | Parameters: {\\\"type\\\": \\\"dict\\\", \\\"properties\\\": {\\\"ASIN\\\": {\\\"type\\\": \\\"string\\\", \\\"description\\\": \\\"The Amazon ASIN of the product.\\\"}}, \\\"required\\\": [\\\"ASIN\\\"]}\\nget_price_by_amazon_ASIN: Finds the price of a product by its Amazon ASIN. | Parameters: {\\\"type\\\": \\\"dict\\\", \\\"properties\\\": {\\\"ASIN\\\": {\\\"type\\\": \\\"string\\\", \\\"description\\\": \\\"The Amazon ASIN of the product.\\\"}}, \\\"required\\\": [\\\"ASIN\\\"]}\\nget_prime_factors: Calculates the prime factors of a number. | Parameters: {\\\"type\\\": \\\"dict\\\", \\\"properties\\\": {\\\"number\\\": {\\\"type\\\": \\\"integer\\\", \\\"description\\\": \\\"The number to calculate the prime factors of.\\\"}}, \\\"required\\\": [\\\"number\\\"]}\\nretrieve_city_based_on_zipcode: Finds the city of a zipcode. | Parameters: {\\\"type\\\": \\\"dict\\\", \\\"properties\\\": {\\\"zipcode\\\": {\\\"type\\\": \\\"string\\\", \\\"description\\\": \\\"The zipcode of the city.\\\"}}, \\\"required\\\": [\\\"zipcode\\\"]}\\nmath_factorial: Calculates the factorial of a number. | Parameters: {\\\"type\\\": \\\"dict\\\", \\\"properties\\\": {\\\"n\\\": {\\\"type\\\": \\\"integer\\\", \\\"description\\\": \\\"The number to calculate the factorial of.\\\"}}, \\\"required\\\": [\\\"n\\\"]}\\nquadratic_roots: Calculates the roots of a quadratic equation. | Parameters: {\\\"type\\\": \\\"dict\\\", \\\"properties\\\": {\\\"a\\\": {\\\"type\\\": \\\"integer\\\", \\\"description\\\": \\\"The first coefficient.\\\"}, \\\"b\\\": {\\\"type\\\": \\\"integer\\\", \\\"description\\\": \\\"The second coefficient.\\\"}, \\\"c\\\": {\\\"type\\\": \\\"integer\\\", \\\"description\\\": \\\"The third coefficient.\\\"}}, \\\"required\\\": [\\\"a\\\", \\\"b\\\", \\\"c\\\"]}\\nadd_binary_numbers: Adds two binary numbers. | Parameters: {\\\"type\\\": \\\"dict\\\", \\\"properties\\\": {\\\"a\\\": {\\\"type\\\": \\\"string\\\", \\\"description\\\": \\\"The first binary number.\\\"}, \\\"b\\\": {\\\"type\\\": \\\"string\\\", \\\"description\\\": \\\"The second binary number.\\\"}}, \\\"required\\\": [\\\"a\\\", \\\"b\\\"]}\\nconvert_binary_to_decimal: Converts a binary number to a decimal number. | Parameters: {\\\"type\\\": \\\"dict\\\", \\\"properties\\\": {\\\"binary\\\": {\\\"type\\\": \\\"string\\\", \\\"description\\\": \\\"The binary number to convert.\\\"}}, \\\"required\\\": [\\\"binary\\\"]}\\nconvert_decimal_to_hex: Converts a decimal number to a hexadecimal number. | Parameters: {\\\"type\\\": \\\"dict\\\", \\\"properties\\\": {\\\"decimal\\\": {\\\"type\\\": \\\"integer\\\", \\\"description\\\": \\\"The decimal number to convert.\\\"}}, \\\"required\\\": [\\\"decimal\\\"]}\\nlinear_regression: Finds the linear regression of a set of points and evaluates it at a given point. | Parameters: {\\\"type\\\": \\\"dict\\\", \\\"properties\\\": {\\\"x\\\": {\\\"type\\\": \\\"array\\\", \\\"description\\\": \\\"The x coordinates of the points.\\\", \\\"items\\\": {\\\"type\\\": \\\"integer\\\"}}, \\\"y\\\": {\\\"type\\\": \\\"array\\\", \\\"description\\\": \\\"The y coordinates of the points.\\\", \\\"items\\\": {\\\"type\\\": \\\"integer\\\"}}, \\\"point\\\": {\\\"type\\\": \\\"integer\\\", \\\"description\\\": \\\"The point to calculate the linear regression at.\\\"}}, \\\"required\\\": [\\\"x\\\", \\\"y\\\", \\\"point\\\"]}\\ncalculate_slope: Calculates the slope of the linear regression line from a set of points. | Parameters: {\\\"type\\\": \\\"dict\\\", \\\"properties\\\": {\\\"x\\\": {\\\"type\\\": \\\"array\\\", \\\"description\\\": \\\"The x coordinates of the points.\\\", \\\"items\\\": {\\\"type\\\": \\\"integer\\\"}}, \\\"y\\\": {\\\"type\\\": \\\"array\\\", \\\"description\\\": \\\"The y coordinates of the points.\\\", \\\"items\\\": {\\\"type\\\": \\\"integer\\\"}}}, \\\"required\\\": [\\\"x\\\", \\\"y\\\"]}\\ncalculate_intercept: Calculates the y-intercept of the linear regression line from a set of points and a given slope. | Parameters: {\\\"type\\\": \\\"dict\\\", \\\"properties\\\": {\\\"x\\\": {\\\"type\\\": \\\"array\\\", \\\"description\\\": \\\"The x coordinates of the points.\\\", \\\"items\\\": {\\\"type\\\": \\\"integer\\\"}}, \\\"y\\\": {\\\"type\\\": \\\"array\\\", \\\"description\\\": \\\"The y coordinates of the points.\\\", \\\"items\\\": {\\\"type\\\": \\\"integer\\\"}}, \\\"slope\\\": {\\\"type\\\": \\\"integer\\\", \\\"description\\\": \\\"The slope of the linear regression line.\\\"}}, \\\"required\\\": [\\\"x\\\", \\\"y\\\", \\\"slope\\\"]}\\npredict_value: Predicts the value of y given the slope, intercept, and an x value. | Parameters: {\\\"type\\\": \\\"dict\\\", \\\"properties\\\": {\\\"slope\\\": {\\\"type\\\": \\\"integer\\\", \\\"description\\\": \\\"The slope of the linear regression line.\\\"}, \\\"intercept\\\": {\\\"type\\\": \\\"integer\\\", \\\"description\\\": \\\"The y-intercept of the linear regression line.\\\"}, \\\"x\\\": {\\\"type\\\": \\\"integer\\\", \\\"description\\\": \\\"The x value to predict the y for.\\\"}}, \\\"required\\\": [\\\"slope\\\", \\\"intercept\\\", \\\"x\\\"]}\\ncalculate_investment_value: Calculates the value of an investment over time. | Parameters: {\\\"type\\\": \\\"dict\\\", \\\"properties\\\": {\\\"initial_investment\\\": {\\\"type\\\": \\\"integer\\\", \\\"description\\\": \\\"The initial investment amount.\\\"}, \\\"annual_contribution\\\": {\\\"type\\\": \\\"integer\\\", \\\"description\\\": \\\"The annual contribution amount.\\\"}, \\\"years\\\": {\\\"type\\\": \\\"integer\\\", \\\"description\\\": \\\"The number of years to calculate the investment value for.\\\"}, \\\"annual_return\\\": {\\\"type\\\": \\\"float\\\", \\\"description\\\": \\\"The annual return rate, ranging from 0 to 1.\\\"}, \\\"inflation_rate\\\": {\\\"type\\\": \\\"array\\\", \\\"items\\\": {\\\"type\\\": \\\"float\\\"}, \\\"description\\\": \\\"The inflation rate for each year in percentage, ranging from 0 to 1.\\\"}, \\\"adjust_for_inflation\\\": {\\\"type\\\": \\\"boolean\\\", \\\"default\\\": true, \\\"description\\\": \\\"Whether to adjust the investment value for inflation.\\\"}}, \\\"required\\\": [\\\"initial_investment\\\", \\\"annual_contribution\\\", \\\"years\\\", \\\"annual_return\\\", \\\"inflation_rate\\\"]}\\ncompound_interest: Calculates compound interest over time. | Parameters: {\\\"type\\\": \\\"dict\\\", \\\"properties\\\": {\\\"principal\\\": {\\\"type\\\": \\\"integer\\\", \\\"description\\\": \\\"The principal amount.\\\"}, \\\"rate\\\": {\\\"type\\\": \\\"float\\\", \\\"description\\\": \\\"The annual interest rate.\\\"}, \\\"times_compounded\\\": {\\\"type\\\": \\\"integer\\\", \\\"description\\\": \\\"The number of times the interest is compounded per year.\\\"}, \\\"years\\\": {\\\"type\\\": \\\"integer\\\", \\\"description\\\": \\\"The number of years to calculate the compound interest for.\\\"}}, \\\"required\\\": [\\\"principal\\\", \\\"rate\\\", \\\"times_compounded\\\", \\\"years\\\"]}\\ninflation_adjustment: Adjusts an amount for inflation. | Parameters: {\\\"type\\\": \\\"dict\\\", \\\"properties\\\": {\\\"amount\\\": {\\\"type\\\": \\\"float\\\", \\\"description\\\": \\\"The amount to adjust for inflation.\\\"}, \\\"inflation_rate\\\": {\\\"type\\\": \\\"float\\\", \\\"description\\\": \\\"The annual inflation float.\\\"}, \\\"years\\\": {\\\"type\\\": \\\"integer\\\", \\\"description\\\": \\\"The number of years to adjust for inflation.\\\"}}, \\\"required\\\": [\\\"amount\\\", \\\"inflation_rate\\\", \\\"years\\\"]}\\nadjust_for_inflation: Adjusts the investment value for inflation for each year. | Parameters: {\\\"type\\\": \\\"dict\\\", \\\"properties\\\": {\\\"investment_value\\\": {\\\"type\\\": \\\"float\\\", \\\"description\\\": \\\"The value of the investment to adjust.\\\"}, \\\"inflation_rates\\\": {\\\"type\\\": \\\"array\\\", \\\"items\\\": {\\\"type\\\": \\\"float\\\"}, \\\"description\\\": \\\"The inflation rates for each year.\\\"}}, \\\"required\\\": [\\\"investment_value\\\", \\\"inflation_rates\\\"]}\\ncalculate_basal_metabolic_rate: Calculates the Basal Metabolic Rate (BMR) of a person. | Parameters: {\\\"type\\\": \\\"dict\\\", \\\"properties\\\": {\\\"weight\\\": {\\\"type\\\": \\\"float\\\", \\\"description\\\": \\\"The weight of the person in kilograms.\\\"}, \\\"height\\\": {\\\"type\\\": \\\"float\\\", \\\"description\\\": \\\"The height of the person in centimeters.\\\"}, \\\"age\\\": {\\\"type\\\": \\\"float\\\", \\\"description\\\": \\\"The age of the person in years.\\\"}, \\\"gender\\\": {\\\"type\\\": \\\"string\\\", \\\"description\\\": \\\"The gender of the person. Possible options [male, female, other].\\\"}}, \\\"required\\\": [\\\"weight\\\", \\\"height\\\", \\\"age\\\", \\\"gender\\\"]}\\ncalculate_daily_energy_expenditure: Calculates the daily energy expenditure based on BMR and activity level. | Parameters: {\\\"type\\\": \\\"dict\\\", \\\"properties\\\": {\\\"basal_metabolic_rate\\\": {\\\"type\\\": \\\"float\\\", \\\"description\\\": \\\"The BMR of the person.\\\"}, \\\"activity_level\\\": {\\\"type\\\": \\\"float\\\", \\\"description\\\": \\\"The activity level of the person. Possible options [1,2,3,4,5].\\\"}}, \\\"required\\\": [\\\"basal_metabolic_rate\\\", \\\"activity_level\\\"]}\\ncalculate_nutritional_needs: Calculates the nutritional needs of a person based on their weight, height, age, gender, activity level, and goal. | Parameters: {\\\"type\\\": \\\"dict\\\", \\\"properties\\\": {\\\"weight\\\": {\\\"type\\\": \\\"float\\\", \\\"description\\\": \\\"The weight of the person in kilograms.\\\"}, \\\"height\\\": {\\\"type\\\": \\\"float\\\", \\\"description\\\": \\\"The height of the person in centimeters.\\\"}, \\\"age\\\": {\\\"type\\\": \\\"float\\\", \\\"description\\\": \\\"The age of the person in years.\\\"}, \\\"gender\\\": {\\\"type\\\": \\\"string\\\", \\\"description\\\": \\\"The gender of the person. Possible options [male, female, other].\\\"}, \\\"activity_level\\\": {\\\"type\\\": \\\"float\\\", \\\"description\\\": \\\"The activity level of the person. Possible options [1,2,3,4,5].\\\"}, \\\"goal\\\": {\\\"type\\\": \\\"string\\\", \\\"description\\\": \\\"The goal of the person. Possible options [lose, gain, maintain].\\\"}}, \\\"required\\\": [\\\"weight\\\", \\\"height\\\", \\\"age\\\", \\\"gender\\\", \\\"activity_level\\\", \\\"goal\\\"]}\\nbook_room: Books a room for a customer. | Parameters: {\\\"type\\\": \\\"dict\\\", \\\"properties\\\": {\\\"room_type\\\": {\\\"type\\\": \\\"dict\\\", \\\"description\\\": \\\"The room type to book.\\\"}, \\\"check_in_date\\\": {\\\"type\\\": \\\"string\\\", \\\"description\\\": \\\"The check-in date in format of MM-DD-YYYY.\\\"}, \\\"check_out_date\\\": {\\\"type\\\": \\\"string\\\", \\\"description\\\": \\\"The check-out date in format of MM-DD-YYYY.\\\"}, \\\"customer_id\\\": {\\\"type\\\": \\\"string\\\", \\\"description\\\": \\\"The customer ID.\\\"}, \\\"discount_code\\\": {\\\"type\\\": \\\"string\\\", \\\"description\\\": \\\"The discount code (if any).\\\", \\\"default\\\": null}}, \\\"required\\\": [\\\"room_type\\\", \\\"check_in_date\\\", \\\"check_out_date\\\", \\\"customer_id\\\"]}\\ncalculate_total_price: Calculates the total price of the room booking. | Parameters: {\\\"type\\\": \\\"dict\\\", \\\"properties\\\": {\\\"room_price\\\": {\\\"type\\\": \\\"float\\\", \\\"description\\\": \\\"The price per night of the room.\\\"}, \\\"nights\\\": {\\\"type\\\": \\\"integer\\\", \\\"description\\\": \\\"The number of nights for the booking.\\\"}, \\\"discount\\\": {\\\"type\\\": \\\"float\\\", \\\"description\\\": \\\"The discount amount (if any).\\\", \\\"default\\\": 0}}, \\\"required\\\": [\\\"room_price\\\", \\\"nights\\\"]}\\nconfirm_booking: Confirms the room booking and sends a confirmation to the customer. | Parameters: {\\\"type\\\": \\\"dict\\\", \\\"properties\\\": {\\\"customer_id\\\": {\\\"type\\\": \\\"string\\\", \\\"description\\\": \\\"The customer ID.\\\"}, \\\"room_number\\\": {\\\"type\\\": \\\"string\\\", \\\"description\\\": \\\"The room number assigned to the booking.\\\"}, \\\"total_price\\\": {\\\"type\\\": \\\"float\\\", \\\"description\\\": \\\"The total price for the booking.\\\"}}, \\\"required\\\": [\\\"customer_id\\\", \\\"room_number\\\", \\\"total_price\\\"]}\\norder_food: Orders food for a customer. Return the total price. | Parameters: {\\\"type\\\": \\\"dict\\\", \\\"properties\\\": {\\\"item\\\": {\\\"type\\\": \\\"array\\\", \\\"items\\\": {\\\"type\\\": \\\"string\\\"}, \\\"description\\\": \\\"the name of the product.\\\"}, \\\"quantity\\\": {\\\"type\\\": \\\"array\\\", \\\"items\\\": {\\\"type\\\": \\\"integer\\\"}, \\\"description\\\": \\\"the number of the product purchased.\\\"}, \\\"price\\\": {\\\"type\\\": \\\"array\\\", \\\"items\\\": {\\\"type\\\": \\\"float\\\"}, \\\"description\\\": \\\"the price of the product.\\\"}}, \\\"required\\\": [\\\"item\\\", \\\"quantity\\\", \\\"price\\\"]}\\ncalculate_total: Calculates the total price of an order given the quantities and prices. | Parameters: {\\\"type\\\": \\\"dict\\\", \\\"properties\\\": {\\\"quantities\\\": {\\\"type\\\": \\\"array\\\", \\\"items\\\": {\\\"type\\\": \\\"integer\\\"}, \\\"description\\\": \\\"The quantities of each product.\\\"}, \\\"prices\\\": {\\\"type\\\": \\\"array\\\", \\\"items\\\": {\\\"type\\\": \\\"float\\\"}, \\\"description\\\": \\\"The price of each product.\\\"}}, \\\"required\\\": [\\\"quantities\\\", \\\"prices\\\"]}\\napply_discount: Applies a discount to the total price. | Parameters: {\\\"type\\\": \\\"dict\\\", \\\"properties\\\": {\\\"total\\\": {\\\"type\\\": \\\"float\\\", \\\"description\\\": \\\"The original total price.\\\"}, \\\"discount\\\": {\\\"type\\\": \\\"float\\\", \\\"description\\\": \\\"The discount percentage to apply.\\\"}}, \\\"required\\\": [\\\"total\\\", \\\"discount\\\"]}\\nget_movie_director: Fetches the director of a movie from the OMDB API. | Parameters: {\\\"type\\\": \\\"dict\\\", \\\"properties\\\": {\\\"movie_name\\\": {\\\"type\\\": \\\"string\\\", \\\"description\\\": \\\"The name of the movie.\\\"}}, \\\"required\\\": [\\\"movie_name\\\"]}\\ncalculate_interest_rate: Calculates the interest rate for a given principal, rate, and time. | Parameters: {\\\"type\\\": \\\"dict\\\", \\\"properties\\\": {\\\"principal\\\": {\\\"type\\\": \\\"float\\\", \\\"description\\\": \\\"The initial amount of money.\\\"}, \\\"rate\\\": {\\\"type\\\": \\\"float\\\", \\\"description\\\": \\\"The interest rate per period.\\\"}, \\\"time\\\": {\\\"type\\\": \\\"float\\\", \\\"description\\\": \\\"The time the money is invested or borrowed for.\\\"}}, \\\"required\\\": [\\\"principal\\\", \\\"rate\\\", \\\"time\\\"]}\\nconvert_temperature: Converts temperature from Celsius to Fahrenheit or vice versa. | Parameters: {\\\"type\\\": \\\"dict\\\", \\\"properties\\\": {\\\"temperature\\\": {\\\"type\\\": \\\"float\\\", \\\"description\\\": \\\"The temperature to convert.\\\"}, \\\"unit_from\\\": {\\\"type\\\": \\\"string\\\", \\\"description\\\": \\\"The current unit of the temperature (Celsius or Fahrenheit).\\\"}, \\\"unit_to\\\": {\\\"type\\\": \\\"string\\\", \\\"description\\\": \\\"The unit to convert the temperature to (Celsius or Fahrenheit).\\\"}}, \\\"required\\\": [\\\"temperature\\\", \\\"unit_from\\\", \\\"unit_to\\\"]}\\ngenerate_random_number: Generates a random number within a specified range. | Parameters: {\\\"type\\\": \\\"dict\\\", \\\"properties\\\": {\\\"min\\\": {\\\"type\\\": \\\"integer\\\", \\\"description\\\": \\\"The minimum value of the range.\\\"}, \\\"max\\\": {\\\"type\\\": \\\"integer\\\", \\\"description\\\": \\\"The maximum value of the range.\\\"}}, \\\"required\\\": [\\\"min\\\", \\\"max\\\"]}\\nget_movie_rating: Fetches the age rating of a movie from the OMDB API. | Parameters: {\\\"type\\\": \\\"dict\\\", \\\"properties\\\": {\\\"movie_name\\\": {\\\"type\\\": \\\"string\\\", \\\"description\\\": \\\"The name of the movie.\\\"}}, \\\"required\\\": [\\\"movie_name\\\"]}\\nget_movie_genre: Retrieves the genre of a movie from the OMDB API. | Parameters: {\\\"type\\\": \\\"dict\\\", \\\"properties\\\": {\\\"movie_name\\\": {\\\"type\\\": \\\"string\\\", \\\"description\\\": \\\"The name of the movie to retrieve the genre for.\\\"}}, \\\"required\\\": [\\\"movie_name\\\"]}\\nget_director_by_movie_name: Gets the director of a movie. | Parameters: {\\\"type\\\": \\\"dict\\\", \\\"properties\\\": {\\\"movie_name\\\": {\\\"type\\\": \\\"string\\\", \\\"description\\\": \\\"The movie to find the director of.\\\"}}, \\\"required\\\": [\\\"movie_name\\\"]}\\nconvert_coordinates: Converts a list of tuples into a list of lists. | Parameters: {\\\"type\\\": \\\"dict\\\", \\\"properties\\\": {\\\"coordinates\\\": {\\\"type\\\": \\\"array\\\", \\\"items\\\": {\\\"type\\\": \\\"tuple\\\", \\\"items\\\": {\\\"type\\\": \\\"float\\\"}, \\\"description\\\": \\\"A single coordinate represented by a tuple (x, y).\\\"}, \\\"description\\\": \\\"The coordinates to be converted, where each coordinate is a tuple (x, y).\\\"}}, \\\"required\\\": [\\\"coordinates\\\"]}\\npolygon_area: Calculate the area of a polygon given its vertices using the shoelace formula. | Parameters: {\\\"type\\\": \\\"dict\\\", \\\"properties\\\": {\\\"vertices\\\": {\\\"type\\\": \\\"array\\\", \\\"items\\\": {\\\"type\\\": \\\"array\\\", \\\"items\\\": {\\\"type\\\": \\\"float\\\"}, \\\"minItems\\\": 2, \\\"maxItems\\\": 2, \\\"description\\\": \\\"A single vertex represented by a 2 element list [x, y].\\\"}, \\\"description\\\": \\\"The vertices of the polygon, where each vertex is a 2 element list [x, y].\\\"}}, \\\"required\\\": [\\\"vertices\\\"]}\\nvalidate_polygon: Checks if the given vertices form a valid polygon. | Parameters: {\\\"type\\\": \\\"dict\\\", \\\"properties\\\": {\\\"vertices\\\": {\\\"type\\\": \\\"array\\\", \\\"items\\\": {\\\"type\\\": \\\"array\\\", \\\"items\\\": {\\\"type\\\": \\\"float\\\"}, \\\"description\\\": \\\"A single vertex represented by a 2 element list [x, y].\\\"}, \\\"description\\\": \\\"The vertices of the polygon, where each vertex is a 2 element list [x, y].\\\"}}, \\\"required\\\": [\\\"vertices\\\"]}\"\n        ],\n        \"semantic_type\": \"\",\n        \"description\": \"\"\n      }\n    }\n  ]\n}",
       "type": "dataframe",
       "variable_name": "df_eval"
      },
      "text/html": [
       "\n",
       "  <div id=\"df-9266f341-6eb1-4919-89f6-d503b2a13d48\" class=\"colab-df-container\">\n",
       "    <div>\n",
       "<style scoped>\n",
       "    .dataframe tbody tr th:only-of-type {\n",
       "        vertical-align: middle;\n",
       "    }\n",
       "\n",
       "    .dataframe tbody tr th {\n",
       "        vertical-align: top;\n",
       "    }\n",
       "\n",
       "    .dataframe thead th {\n",
       "        text-align: right;\n",
       "    }\n",
       "</style>\n",
       "<table border=\"1\" class=\"dataframe\">\n",
       "  <thead>\n",
       "    <tr style=\"text-align: right;\">\n",
       "      <th></th>\n",
       "      <th>question</th>\n",
       "      <th>tool_call</th>\n",
       "      <th>tool_definitions</th>\n",
       "    </tr>\n",
       "  </thead>\n",
       "  <tbody>\n",
       "    <tr>\n",
       "      <th>0</th>\n",
       "      <td>I'm playing a dice game and want to calculate my chances. I roll the die 20 times, and I'm trying to figure out the probability of landing on a 6 exactly five times, considering each roll has a one in six chance of being a 6. Could you help me with that?</td>\n",
       "      <td>calc_binomial_probability(n=20, k=5, p=1/6)</td>\n",
       "      <td>get_weather_data: Fetches weather data from the Open-Meteo API for the given latitude and longitude. | Parameters: {\"type\": \"dict\", \"properties\": {\"coordinates\": {\"type\": \"array\", \"items\": {\"type\": \"float\"}, \"description\": \"The latitude and longitude of the location.\"}}, \"required\": [\"coordinates\"]}\\ncalc_binomial_probability: Calculates the probability of getting k successes in n trials. | Parameters: {\"type\": \"dict\", \"properties\": {\"n\": {\"type\": \"integer\", \"description\": \"The number of trials.\"}, \"k\": {\"type\": \"integer\", \"description\": \"The number of successes.\"}, \"p\": {\"type\": \"float\", \"description\": \"The probability of success.\"}}, \"required\": [\"n\", \"k\", \"p\"]}\\ncalculate_cosine_similarity: Calculates the cosine similarity of two vectors. | Parameters: {\"type\": \"dict\", \"properties\": {\"vectorA\": {\"type\": \"array\", \"items\": {\"type\": \"float\"}, \"description\": \"The first vector.\"}, \"vectorB\": {\"type\": \"array\", \"items\": {\"type\": \"float\"}, \"description\": \"The second vector.\"}}, \"required\": [\"vectorA\", \"vectorB\"]}\\nget_stock_price_by_stock_name: Finds the price of a stock by its stock name. | Parameters: {\"type\": \"dict\", \"properties\": {\"stock_name\": {\"type\": \"string\", \"description\": \"The stock name of the product, in the format of the stock symbol.\"}}, \"required\": [\"stock_name\"]}\\ncalculate_density: Calculates the density of an object. | Parameters: {\"type\": \"dict\", \"properties\": {\"mass\": {\"type\": \"float\", \"description\": \"The mass of the object, in kilograms.\"}, \"volume\": {\"type\": \"float\", \"description\": \"The volume of the object, in cubic meters.\"}}, \"required\": [\"mass\", \"volume\"]}\\ncalculate_future_value: Calculates the future value of an investment. | Parameters: {\"type\": \"dict\", \"properties\": {\"present_value\": {\"type\": \"float\", \"description\": \"The present value of the investment, in dollars.\"}, \"interest_rate\": {\"type\": \"float\", \"description\": \"The interest rate of the investment, ranging from 0 to 1.\"}, \"periods\": {\"type\": \"integer\", \"description\": \"The number of periods, in years.\"}}, \"required\": [\"present_value\", \"interest_rate\", \"periods\"]}\\nget_rating_by_amazon_ASIN: Finds the rating of a product by its Amazon ASIN. | Parameters: {\"type\": \"dict\", \"properties\": {\"ASIN\": {\"type\": \"string\", \"description\": \"The Amazon ASIN of the product.\"}}, \"required\": [\"ASIN\"]}\\nretrieve_holiday_by_year: Finds the holidays of a year. | Parameters: {\"type\": \"dict\", \"properties\": {\"year\": {\"type\": \"string\", \"description\": \"The year of the holidays.\"}, \"country\": {\"type\": \"string\", \"description\": \"The country of the holidays. Possible options: US, AT, DE, ES, FR, GB, IT, NL, PL, RO, SK, UA.\"}}, \"required\": [\"year\", \"country\"]}\\ncalculate_displacement: Calculates the displacement of an object. | Parameters: {\"type\": \"dict\", \"properties\": {\"initial_velocity\": {\"type\": \"float\", \"description\": \"The initial velocity of the object, in meters per second.\"}, \"acceleration\": {\"type\": \"float\", \"description\": \"The acceleration of the object, in meters per second squared.\"}, \"time\": {\"type\": \"float\", \"description\": \"The time the object has been moving, in seconds.\"}}, \"required\": [\"initial_velocity\", \"acceleration\", \"time\"]}\\nget_zipcode_by_ip_address: Finds the zipcode of an IP address. | Parameters: {\"type\": \"dict\", \"properties\": {\"ip_address\": {\"type\": \"string\", \"description\": \"The IP address to find the location of.\"}}, \"required\": [\"ip_address\"]}\\ncalculate_electrostatic_potential_energy: Calculates the electrostatic potential energy. | Parameters: {\"type\": \"dict\", \"properties\": {\"charge\": {\"type\": \"float\", \"description\": \"The charge of the object, in coulombs.\"}, \"voltage\": {\"type\": \"float\", \"description\": \"The voltage of the object, in volts.\"}}, \"required\": [\"charge\", \"voltage\"]}\\nmortgage_calculator: Calculates the monthly mortgage payment. | Parameters: {\"type\": \"dict\", \"properties\": {\"loan_amount\": {\"type\": \"float\", \"description\": \"The amount of the loan.\"}, \"interest_rate\": {\"type\": \"float\", \"description\": \"The interest rate of the loan, ranging from 0 to 1.\"}, \"loan_period\": {\"type\": \"integer\", \"description\": \"The period of the loan, in years.\"}}, \"required\": [\"loan_amount\", \"interest_rate\", \"loan_period\"]}\\ncalculate_final_velocity: Calculates the final velocity of an object. | Parameters: {\"type\": \"dict\", \"properties\": {\"initial_velocity\": {\"type\": \"float\", \"description\": \"The initial velocity of the object.\"}, \"acceleration\": {\"type\": \"float\", \"description\": \"The acceleration of the object.\"}, \"time\": {\"type\": \"float\", \"description\": \"The time the object has been moving.\"}}, \"required\": [\"initial_velocity\", \"acceleration\", \"time\"]}\\nget_fibonacci_sequence: Calculates the n numbers of the Fibonacci. | Parameters: {\"type\": \"dict\", \"properties\": {\"n\": {\"type\": \"integer\", \"description\": \"The number of Fibonacci numbers to calculate.\"}}, \"required\": [\"n\"]}\\nsort_array: Sorts an array of numbers. | Parameters: {\"type\": \"dict\", \"properties\": {\"array\": {\"type\": \"array\", \"items\": {\"type\": \"float\"}, \"description\": \"The array of numbers.\"}, \"reverse\": {\"type\": \"boolean\", \"description\": \"Whether to sort the array in reverse order, i.e., descending order.\", \"default\": false}}, \"required\": [\"array\"]}\\nget_time_zone_by_coord: Finds the timezone of a coordinate. | Parameters: {\"type\": \"dict\", \"properties\": {\"long\": {\"type\": \"string\", \"description\": \"The longitude of the coordinate.\"}, \"lat\": {\"type\": \"string\", \"description\": \"The latitude of the coordinate.\"}}, \"required\": [\"long\", \"lat\"]}\\ncalculate_mean: Calculates the mean of a list of numbers. | Parameters: {\"type\": \"dict\", \"properties\": {\"numbers\": {\"type\": \"array\", \"items\": {\"type\": \"integer\"}, \"description\": \"The list of numbers.\"}}, \"required\": [\"numbers\"]}\\ncalculate_permutations: Calculates the number of permutations of k elements from a set of n elements. | Parameters: {\"type\": \"dict\", \"properties\": {\"n\": {\"type\": \"integer\", \"description\": \"The number of elements in the set.\"}, \"k\": {\"type\": \"integer\", \"description\": \"The number of elements to choose.\"}}, \"required\": [\"n\", \"k\"]}\\nget_company_name_by_stock_name: Finds the company name of a stock by its stock name. | Parameters: {\"type\": \"dict\", \"properties\": {\"stock_name\": {\"type\": \"string\", \"description\": \"The stock name of the product, in the format of the stock symbol.\"}}, \"required\": [\"stock_name\"]}\\ncalculate_standard_deviation: Calculates the standard deviation of a list of numbers. | Parameters: {\"type\": \"dict\", \"properties\": {\"numbers\": {\"type\": \"array\", \"items\": {\"type\": \"integer\"}, \"description\": \"The list of numbers.\"}}, \"required\": [\"numbers\"]}\\nmath_lcm: Calculates the least common multiple of two numbers. | Parameters: {\"type\": \"dict\", \"properties\": {\"a\": {\"type\": \"integer\", \"description\": \"The first number. This should be the larger number.\"}, \"b\": {\"type\": \"integer\", \"description\": \"The second number.\"}}, \"required\": [\"a\", \"b\"]}\\ncalculate_triangle_area: Calculates the area of a triangle given its base and height. | Parameters: {\"type\": \"dict\", \"properties\": {\"base\": {\"type\": \"integer\", \"description\": \"The base of the triangle, in meters.\"}, \"height\": {\"type\": \"integer\", \"description\": \"The height of the triangle, in meters.\"}}, \"required\": [\"base\", \"height\"]}\\nconvert_currency: Converts a given amount from one currency to another using the ExchangeRate-API. | Parameters: {\"type\": \"dict\", \"properties\": {\"amount\": {\"type\": \"float\", \"description\": \"The amount of money to convert, in the base currency.\"}, \"from_currency\": {\"type\": \"string\", \"description\": \"The ISO currency code for the base currency.\"}, \"to_currency\": {\"type\": \"string\", \"description\": \"The ISO currency code for the target currency.\"}}, \"required\": [\"amount\", \"from_currency\", \"to_currency\"]}\\nget_stock_history: Finds the price of a stock by its stock name. | Parameters: {\"type\": \"dict\", \"properties\": {\"stock_name\": {\"type\": \"string\", \"description\": \"The stock name of the product, in the format of the stock symbol.\"}, \"interval\": {\"type\": \"string\", \"description\": \"The interval of the stock history. Allows one of following : 5m|15m|30m|1h|1d|1wk|1mo|3mo\"}, \"diffandsplits\": {\"type\": \"string\", \"description\": \"The diff and splits of the stock history. Allows one of following : true|false. Default to false\"}}, \"required\": [\"stock_name\", \"interval\"]}\\nmath_gcd: Calculates the greatest common divisor of two numbers. | Parameters: {\"type\": \"dict\", \"properties\": {\"a\": {\"type\": \"integer\", \"description\": \"The first number. This should be the larger number.\"}, \"b\": {\"type\": \"integer\", \"description\": \"The second number.\"}}, \"required\": [\"a\", \"b\"]}\\nestimate_derivative: Estimate the derivative of a function at a given point. | Parameters: {\"type\": \"dict\", \"properties\": {\"function\": {\"type\": \"string\", \"description\": \"The function to calculate the derivative of. This should be the string literal of lambda function\"}, \"x\": {\"type\": \"integer\", \"description\": \"The point to calculate the derivative at.\"}}, \"required\": [\"function\", \"x\"]}\\nfind_term_on_urban_dictionary: Finds the definition of a term on Urban Dictionary. | Parameters: {\"type\": \"dict\", \"properties\": {\"term\": {\"type\": \"string\", \"description\": \"The term to find the definition of.\"}}, \"required\": [\"term\"]}\\nget_distance: Calculates the distance between two 2D points. | Parameters: {\"type\": \"dict\", \"properties\": {\"pointA\": {\"type\": \"tuple\", \"description\": \"The first point.\", \"items\": {\"type\": \"float\"}}, \"pointB\": {\"type\": \"tuple\", \"description\": \"The second point.\", \"items\": {\"type\": \"float\"}}}, \"required\": [\"pointA\", \"pointB\"]}\\ngeometry_area_circle: Calculates the area of a circle. | Parameters: {\"type\": \"dict\", \"properties\": {\"radius\": {\"type\": \"integer\", \"description\": \"The radius of the circle, in feet.\"}}, \"required\": [\"radius\"]}\\nget_covid_death_by_country: Finds the most up to date total deaths of a country result from COVID. | Parameters: {\"type\": \"dict\", \"properties\": {\"country\": {\"type\": \"string\", \"description\": \"The country to find the total deaths of, in the format of the country's full name.\"}}, \"required\": [\"country\"]}\\nget_active_covid_case_by_country: Finds the most up to date active cases of a country result from COVID. | Parameters: {\"type\": \"dict\", \"properties\": {\"country\": {\"type\": \"string\", \"description\": \"The country to find the active cases of, in the format of the country's full name.\"}}, \"required\": [\"country\"]}\\nmat_mul: Multiplies two matrices. | Parameters: {\"type\": \"dict\", \"properties\": {\"matA\": {\"type\": \"array\", \"description\": \"The first matrix.\", \"items\": {\"type\": \"array\", \"items\": {\"type\": \"integer\"}}}, \"matB\": {\"type\": \"array\", \"description\": \"The second matrix.\", \"items\": {\"type\": \"array\", \"items\": {\"type\": \"integer\"}}}}, \"required\": [\"matA\", \"matB\"]}\\nget_coordinate_by_ip_address: Finds the latitude and longitude of an IP address. | Parameters: {\"type\": \"dict\", \"properties\": {\"ip_address\": {\"type\": \"string\", \"description\": \"The IP address to find the location of.\"}}, \"required\": [\"ip_address\"]}\\nget_coordinates_from_city: Fetches the latitude and longitude of a given city name using the Maps.co Geocoding API. | Parameters: {\"type\": \"dict\", \"properties\": {\"city_name\": {\"type\": \"string\", \"description\": \"The name of the city, such as 'Rome'.\"}}, \"required\": [\"city_name\"]}\\nget_product_name_by_amazon_ASIN: Finds the price of a product by its Amazon ASIN. | Parameters: {\"type\": \"dict\", \"properties\": {\"ASIN\": {\"type\": \"string\", \"description\": \"The Amazon ASIN of the product.\"}}, \"required\": [\"ASIN\"]}\\nget_price_by_amazon_ASIN: Finds the price of a product by its Amazon ASIN. | Parameters: {\"type\": \"dict\", \"properties\": {\"ASIN\": {\"type\": \"string\", \"description\": \"The Amazon ASIN of the product.\"}}, \"required\": [\"ASIN\"]}\\nget_prime_factors: Calculates the prime factors of a number. | Parameters: {\"type\": \"dict\", \"properties\": {\"number\": {\"type\": \"integer\", \"description\": \"The number to calculate the prime factors of.\"}}, \"required\": [\"number\"]}\\nretrieve_city_based_on_zipcode: Finds the city of a zipcode. | Parameters: {\"type\": \"dict\", \"properties\": {\"zipcode\": {\"type\": \"string\", \"description\": \"The zipcode of the city.\"}}, \"required\": [\"zipcode\"]}\\nmath_factorial: Calculates the factorial of a number. | Parameters: {\"type\": \"dict\", \"properties\": {\"n\": {\"type\": \"integer\", \"description\": \"The number to calculate the factorial of.\"}}, \"required\": [\"n\"]}\\nquadratic_roots: Calculates the roots of a quadratic equation. | Parameters: {\"type\": \"dict\", \"properties\": {\"a\": {\"type\": \"integer\", \"description\": \"The first coefficient.\"}, \"b\": {\"type\": \"integer\", \"description\": \"The second coefficient.\"}, \"c\": {\"type\": \"integer\", \"description\": \"The third coefficient.\"}}, \"required\": [\"a\", \"b\", \"c\"]}\\nadd_binary_numbers: Adds two binary numbers. | Parameters: {\"type\": \"dict\", \"properties\": {\"a\": {\"type\": \"string\", \"description\": \"The first binary number.\"}, \"b\": {\"type\": \"string\", \"description\": \"The second binary number.\"}}, \"required\": [\"a\", \"b\"]}\\nconvert_binary_to_decimal: Converts a binary number to a decimal number. | Parameters: {\"type\": \"dict\", \"properties\": {\"binary\": {\"type\": \"string\", \"description\": \"The binary number to convert.\"}}, \"required\": [\"binary\"]}\\nconvert_decimal_to_hex: Converts a decimal number to a hexadecimal number. | Parameters: {\"type\": \"dict\", \"properties\": {\"decimal\": {\"type\": \"integer\", \"description\": \"The decimal number to convert.\"}}, \"required\": [\"decimal\"]}\\nlinear_regression: Finds the linear regression of a set of points and evaluates it at a given point. | Parameters: {\"type\": \"dict\", \"properties\": {\"x\": {\"type\": \"array\", \"description\": \"The x coordinates of the points.\", \"items\": {\"type\": \"integer\"}}, \"y\": {\"type\": \"array\", \"description\": \"The y coordinates of the points.\", \"items\": {\"type\": \"integer\"}}, \"point\": {\"type\": \"integer\", \"description\": \"The point to calculate the linear regression at.\"}}, \"required\": [\"x\", \"y\", \"point\"]}\\ncalculate_slope: Calculates the slope of the linear regression line from a set of points. | Parameters: {\"type\": \"dict\", \"properties\": {\"x\": {\"type\": \"array\", \"description\": \"The x coordinates of the points.\", \"items\": {\"type\": \"integer\"}}, \"y\": {\"type\": \"array\", \"description\": \"The y coordinates of the points.\", \"items\": {\"type\": \"integer\"}}}, \"required\": [\"x\", \"y\"]}\\ncalculate_intercept: Calculates the y-intercept of the linear regression line from a set of points and a given slope. | Parameters: {\"type\": \"dict\", \"properties\": {\"x\": {\"type\": \"array\", \"description\": \"The x coordinates of the points.\", \"items\": {\"type\": \"integer\"}}, \"y\": {\"type\": \"array\", \"description\": \"The y coordinates of the points.\", \"items\": {\"type\": \"integer\"}}, \"slope\": {\"type\": \"integer\", \"description\": \"The slope of the linear regression line.\"}}, \"required\": [\"x\", \"y\", \"slope\"]}\\npredict_value: Predicts the value of y given the slope, intercept, and an x value. | Parameters: {\"type\": \"dict\", \"properties\": {\"slope\": {\"type\": \"integer\", \"description\": \"The slope of the linear regression line.\"}, \"intercept\": {\"type\": \"integer\", \"description\": \"The y-intercept of the linear regression line.\"}, \"x\": {\"type\": \"integer\", \"description\": \"The x value to predict the y for.\"}}, \"required\": [\"slope\", \"intercept\", \"x\"]}\\ncalculate_investment_value: Calculates the value of an investment over time. | Parameters: {\"type\": \"dict\", \"properties\": {\"initial_investment\": {\"type\": \"integer\", \"description\": \"The initial investment amount.\"}, \"annual_contribution\": {\"type\": \"integer\", \"description\": \"The annual contribution amount.\"}, \"years\": {\"type\": \"integer\", \"description\": \"The number of years to calculate the investment value for.\"}, \"annual_return\": {\"type\": \"float\", \"description\": \"The annual return rate, ranging from 0 to 1.\"}, \"inflation_rate\": {\"type\": \"array\", \"items\": {\"type\": \"float\"}, \"description\": \"The inflation rate for each year in percentage, ranging from 0 to 1.\"}, \"adjust_for_inflation\": {\"type\": \"boolean\", \"default\": true, \"description\": \"Whether to adjust the investment value for inflation.\"}}, \"required\": [\"initial_investment\", \"annual_contribution\", \"years\", \"annual_return\", \"inflation_rate\"]}\\ncompound_interest: Calculates compound interest over time. | Parameters: {\"type\": \"dict\", \"properties\": {\"principal\": {\"type\": \"integer\", \"description\": \"The principal amount.\"}, \"rate\": {\"type\": \"float\", \"description\": \"The annual interest rate.\"}, \"times_compounded\": {\"type\": \"integer\", \"description\": \"The number of times the interest is compounded per year.\"}, \"years\": {\"type\": \"integer\", \"description\": \"The number of years to calculate the compound interest for.\"}}, \"required\": [\"principal\", \"rate\", \"times_compounded\", \"years\"]}\\ninflation_adjustment: Adjusts an amount for inflation. | Parameters: {\"type\": \"dict\", \"properties\": {\"amount\": {\"type\": \"float\", \"description\": \"The amount to adjust for inflation.\"}, \"inflation_rate\": {\"type\": \"float\", \"description\": \"The annual inflation float.\"}, \"years\": {\"type\": \"integer\", \"description\": \"The number of years to adjust for inflation.\"}}, \"required\": [\"amount\", \"inflation_rate\", \"years\"]}\\nadjust_for_inflation: Adjusts the investment value for inflation for each year. | Parameters: {\"type\": \"dict\", \"properties\": {\"investment_value\": {\"type\": \"float\", \"description\": \"The value of the investment to adjust.\"}, \"inflation_rates\": {\"type\": \"array\", \"items\": {\"type\": \"float\"}, \"description\": \"The inflation rates for each year.\"}}, \"required\": [\"investment_value\", \"inflation_rates\"]}\\ncalculate_basal_metabolic_rate: Calculates the Basal Metabolic Rate (BMR) of a person. | Parameters: {\"type\": \"dict\", \"properties\": {\"weight\": {\"type\": \"float\", \"description\": \"The weight of the person in kilograms.\"}, \"height\": {\"type\": \"float\", \"description\": \"The height of the person in centimeters.\"}, \"age\": {\"type\": \"float\", \"description\": \"The age of the person in years.\"}, \"gender\": {\"type\": \"string\", \"description\": \"The gender of the person. Possible options [male, female, other].\"}}, \"required\": [\"weight\", \"height\", \"age\", \"gender\"]}\\ncalculate_daily_energy_expenditure: Calculates the daily energy expenditure based on BMR and activity level. | Parameters: {\"type\": \"dict\", \"properties\": {\"basal_metabolic_rate\": {\"type\": \"float\", \"description\": \"The BMR of the person.\"}, \"activity_level\": {\"type\": \"float\", \"description\": \"The activity level of the person. Possible options [1,2,3,4,5].\"}}, \"required\": [\"basal_metabolic_rate\", \"activity_level\"]}\\ncalculate_nutritional_needs: Calculates the nutritional needs of a person based on their weight, height, age, gender, activity level, and goal. | Parameters: {\"type\": \"dict\", \"properties\": {\"weight\": {\"type\": \"float\", \"description\": \"The weight of the person in kilograms.\"}, \"height\": {\"type\": \"float\", \"description\": \"The height of the person in centimeters.\"}, \"age\": {\"type\": \"float\", \"description\": \"The age of the person in years.\"}, \"gender\": {\"type\": \"string\", \"description\": \"The gender of the person. Possible options [male, female, other].\"}, \"activity_level\": {\"type\": \"float\", \"description\": \"The activity level of the person. Possible options [1,2,3,4,5].\"}, \"goal\": {\"type\": \"string\", \"description\": \"The goal of the person. Possible options [lose, gain, maintain].\"}}, \"required\": [\"weight\", \"height\", \"age\", \"gender\", \"activity_level\", \"goal\"]}\\nbook_room: Books a room for a customer. | Parameters: {\"type\": \"dict\", \"properties\": {\"room_type\": {\"type\": \"dict\", \"description\": \"The room type to book.\"}, \"check_in_date\": {\"type\": \"string\", \"description\": \"The check-in date in format of MM-DD-YYYY.\"}, \"check_out_date\": {\"type\": \"string\", \"description\": \"The check-out date in format of MM-DD-YYYY.\"}, \"customer_id\": {\"type\": \"string\", \"description\": \"The customer ID.\"}, \"discount_code\": {\"type\": \"string\", \"description\": \"The discount code (if any).\", \"default\": null}}, \"required\": [\"room_type\", \"check_in_date\", \"check_out_date\", \"customer_id\"]}\\ncalculate_total_price: Calculates the total price of the room booking. | Parameters: {\"type\": \"dict\", \"properties\": {\"room_price\": {\"type\": \"float\", \"description\": \"The price per night of the room.\"}, \"nights\": {\"type\": \"integer\", \"description\": \"The number of nights for the booking.\"}, \"discount\": {\"type\": \"float\", \"description\": \"The discount amount (if any).\", \"default\": 0}}, \"required\": [\"room_price\", \"nights\"]}\\nconfirm_booking: Confirms the room booking and sends a confirmation to the customer. | Parameters: {\"type\": \"dict\", \"properties\": {\"customer_id\": {\"type\": \"string\", \"description\": \"The customer ID.\"}, \"room_number\": {\"type\": \"string\", \"description\": \"The room number assigned to the booking.\"}, \"total_price\": {\"type\": \"float\", \"description\": \"The total price for the booking.\"}}, \"required\": [\"customer_id\", \"room_number\", \"total_price\"]}\\norder_food: Orders food for a customer. Return the total price. | Parameters: {\"type\": \"dict\", \"properties\": {\"item\": {\"type\": \"array\", \"items\": {\"type\": \"string\"}, \"description\": \"the name of the product.\"}, \"quantity\": {\"type\": \"array\", \"items\": {\"type\": \"integer\"}, \"description\": \"the number of the product purchased.\"}, \"price\": {\"type\": \"array\", \"items\": {\"type\": \"float\"}, \"description\": \"the price of the product.\"}}, \"required\": [\"item\", \"quantity\", \"price\"]}\\ncalculate_total: Calculates the total price of an order given the quantities and prices. | Parameters: {\"type\": \"dict\", \"properties\": {\"quantities\": {\"type\": \"array\", \"items\": {\"type\": \"integer\"}, \"description\": \"The quantities of each product.\"}, \"prices\": {\"type\": \"array\", \"items\": {\"type\": \"float\"}, \"description\": \"The price of each product.\"}}, \"required\": [\"quantities\", \"prices\"]}\\napply_discount: Applies a discount to the total price. | Parameters: {\"type\": \"dict\", \"properties\": {\"total\": {\"type\": \"float\", \"description\": \"The original total price.\"}, \"discount\": {\"type\": \"float\", \"description\": \"The discount percentage to apply.\"}}, \"required\": [\"total\", \"discount\"]}\\nget_movie_director: Fetches the director of a movie from the OMDB API. | Parameters: {\"type\": \"dict\", \"properties\": {\"movie_name\": {\"type\": \"string\", \"description\": \"The name of the movie.\"}}, \"required\": [\"movie_name\"]}\\ncalculate_interest_rate: Calculates the interest rate for a given principal, rate, and time. | Parameters: {\"type\": \"dict\", \"properties\": {\"principal\": {\"type\": \"float\", \"description\": \"The initial amount of money.\"}, \"rate\": {\"type\": \"float\", \"description\": \"The interest rate per period.\"}, \"time\": {\"type\": \"float\", \"description\": \"The time the money is invested or borrowed for.\"}}, \"required\": [\"principal\", \"rate\", \"time\"]}\\nconvert_temperature: Converts temperature from Celsius to Fahrenheit or vice versa. | Parameters: {\"type\": \"dict\", \"properties\": {\"temperature\": {\"type\": \"float\", \"description\": \"The temperature to convert.\"}, \"unit_from\": {\"type\": \"string\", \"description\": \"The current unit of the temperature (Celsius or Fahrenheit).\"}, \"unit_to\": {\"type\": \"string\", \"description\": \"The unit to convert the temperature to (Celsius or Fahrenheit).\"}}, \"required\": [\"temperature\", \"unit_from\", \"unit_to\"]}\\ngenerate_random_number: Generates a random number within a specified range. | Parameters: {\"type\": \"dict\", \"properties\": {\"min\": {\"type\": \"integer\", \"description\": \"The minimum value of the range.\"}, \"max\": {\"type\": \"integer\", \"description\": \"The maximum value of the range.\"}}, \"required\": [\"min\", \"max\"]}\\nget_movie_rating: Fetches the age rating of a movie from the OMDB API. | Parameters: {\"type\": \"dict\", \"properties\": {\"movie_name\": {\"type\": \"string\", \"description\": \"The name of the movie.\"}}, \"required\": [\"movie_name\"]}\\nget_movie_genre: Retrieves the genre of a movie from the OMDB API. | Parameters: {\"type\": \"dict\", \"properties\": {\"movie_name\": {\"type\": \"string\", \"description\": \"The name of the movie to retrieve the genre for.\"}}, \"required\": [\"movie_name\"]}\\nget_director_by_movie_name: Gets the director of a movie. | Parameters: {\"type\": \"dict\", \"properties\": {\"movie_name\": {\"type\": \"string\", \"description\": \"The movie to find the director of.\"}}, \"required\": [\"movie_name\"]}\\nconvert_coordinates: Converts a list of tuples into a list of lists. | Parameters: {\"type\": \"dict\", \"properties\": {\"coordinates\": {\"type\": \"array\", \"items\": {\"type\": \"tuple\", \"items\": {\"type\": \"float\"}, \"description\": \"A single coordinate represented by a tuple (x, y).\"}, \"description\": \"The coordinates to be converted, where each coordinate is a tuple (x, y).\"}}, \"required\": [\"coordinates\"]}\\npolygon_area: Calculate the area of a polygon given its vertices using the shoelace formula. | Parameters: {\"type\": \"dict\", \"properties\": {\"vertices\": {\"type\": \"array\", \"items\": {\"type\": \"array\", \"items\": {\"type\": \"float\"}, \"minItems\": 2, \"maxItems\": 2, \"description\": \"A single vertex represented by a 2 element list [x, y].\"}, \"description\": \"The vertices of the polygon, where each vertex is a 2 element list [x, y].\"}}, \"required\": [\"vertices\"]}\\nvalidate_polygon: Checks if the given vertices form a valid polygon. | Parameters: {\"type\": \"dict\", \"properties\": {\"vertices\": {\"type\": \"array\", \"items\": {\"type\": \"array\", \"items\": {\"type\": \"float\"}, \"description\": \"A single vertex represented by a 2 element list [x, y].\"}, \"description\": \"The vertices of the polygon, where each vertex is a 2 element list [x, y].\"}}, \"required\": [\"vertices\"]}</td>\n",
       "    </tr>\n",
       "    <tr>\n",
       "      <th>1</th>\n",
       "      <td>I'm working on a machine learning model, comparing the characteristics of two objects. The feature vectors for these objects are [0.5, 0.7, 0.2, 0.9, 0.1] for the first object and [0.4, 0.6, 0.3, 0.8, 0.2] for the second. To understand how similar these objects are, I need to calculate the cosine similarity between these two vectors. Can you help me with that?</td>\n",
       "      <td>calculate_cosine_similarity(vectorA=[0.5, 0.7, 0.2, 0.9, 0.1], vectorB=[0.4, 0.6, 0.3, 0.8, 0.2])</td>\n",
       "      <td>get_weather_data: Fetches weather data from the Open-Meteo API for the given latitude and longitude. | Parameters: {\"type\": \"dict\", \"properties\": {\"coordinates\": {\"type\": \"array\", \"items\": {\"type\": \"float\"}, \"description\": \"The latitude and longitude of the location.\"}}, \"required\": [\"coordinates\"]}\\ncalc_binomial_probability: Calculates the probability of getting k successes in n trials. | Parameters: {\"type\": \"dict\", \"properties\": {\"n\": {\"type\": \"integer\", \"description\": \"The number of trials.\"}, \"k\": {\"type\": \"integer\", \"description\": \"The number of successes.\"}, \"p\": {\"type\": \"float\", \"description\": \"The probability of success.\"}}, \"required\": [\"n\", \"k\", \"p\"]}\\ncalculate_cosine_similarity: Calculates the cosine similarity of two vectors. | Parameters: {\"type\": \"dict\", \"properties\": {\"vectorA\": {\"type\": \"array\", \"items\": {\"type\": \"float\"}, \"description\": \"The first vector.\"}, \"vectorB\": {\"type\": \"array\", \"items\": {\"type\": \"float\"}, \"description\": \"The second vector.\"}}, \"required\": [\"vectorA\", \"vectorB\"]}\\nget_stock_price_by_stock_name: Finds the price of a stock by its stock name. | Parameters: {\"type\": \"dict\", \"properties\": {\"stock_name\": {\"type\": \"string\", \"description\": \"The stock name of the product, in the format of the stock symbol.\"}}, \"required\": [\"stock_name\"]}\\ncalculate_density: Calculates the density of an object. | Parameters: {\"type\": \"dict\", \"properties\": {\"mass\": {\"type\": \"float\", \"description\": \"The mass of the object, in kilograms.\"}, \"volume\": {\"type\": \"float\", \"description\": \"The volume of the object, in cubic meters.\"}}, \"required\": [\"mass\", \"volume\"]}\\ncalculate_future_value: Calculates the future value of an investment. | Parameters: {\"type\": \"dict\", \"properties\": {\"present_value\": {\"type\": \"float\", \"description\": \"The present value of the investment, in dollars.\"}, \"interest_rate\": {\"type\": \"float\", \"description\": \"The interest rate of the investment, ranging from 0 to 1.\"}, \"periods\": {\"type\": \"integer\", \"description\": \"The number of periods, in years.\"}}, \"required\": [\"present_value\", \"interest_rate\", \"periods\"]}\\nget_rating_by_amazon_ASIN: Finds the rating of a product by its Amazon ASIN. | Parameters: {\"type\": \"dict\", \"properties\": {\"ASIN\": {\"type\": \"string\", \"description\": \"The Amazon ASIN of the product.\"}}, \"required\": [\"ASIN\"]}\\nretrieve_holiday_by_year: Finds the holidays of a year. | Parameters: {\"type\": \"dict\", \"properties\": {\"year\": {\"type\": \"string\", \"description\": \"The year of the holidays.\"}, \"country\": {\"type\": \"string\", \"description\": \"The country of the holidays. Possible options: US, AT, DE, ES, FR, GB, IT, NL, PL, RO, SK, UA.\"}}, \"required\": [\"year\", \"country\"]}\\ncalculate_displacement: Calculates the displacement of an object. | Parameters: {\"type\": \"dict\", \"properties\": {\"initial_velocity\": {\"type\": \"float\", \"description\": \"The initial velocity of the object, in meters per second.\"}, \"acceleration\": {\"type\": \"float\", \"description\": \"The acceleration of the object, in meters per second squared.\"}, \"time\": {\"type\": \"float\", \"description\": \"The time the object has been moving, in seconds.\"}}, \"required\": [\"initial_velocity\", \"acceleration\", \"time\"]}\\nget_zipcode_by_ip_address: Finds the zipcode of an IP address. | Parameters: {\"type\": \"dict\", \"properties\": {\"ip_address\": {\"type\": \"string\", \"description\": \"The IP address to find the location of.\"}}, \"required\": [\"ip_address\"]}\\ncalculate_electrostatic_potential_energy: Calculates the electrostatic potential energy. | Parameters: {\"type\": \"dict\", \"properties\": {\"charge\": {\"type\": \"float\", \"description\": \"The charge of the object, in coulombs.\"}, \"voltage\": {\"type\": \"float\", \"description\": \"The voltage of the object, in volts.\"}}, \"required\": [\"charge\", \"voltage\"]}\\nmortgage_calculator: Calculates the monthly mortgage payment. | Parameters: {\"type\": \"dict\", \"properties\": {\"loan_amount\": {\"type\": \"float\", \"description\": \"The amount of the loan.\"}, \"interest_rate\": {\"type\": \"float\", \"description\": \"The interest rate of the loan, ranging from 0 to 1.\"}, \"loan_period\": {\"type\": \"integer\", \"description\": \"The period of the loan, in years.\"}}, \"required\": [\"loan_amount\", \"interest_rate\", \"loan_period\"]}\\ncalculate_final_velocity: Calculates the final velocity of an object. | Parameters: {\"type\": \"dict\", \"properties\": {\"initial_velocity\": {\"type\": \"float\", \"description\": \"The initial velocity of the object.\"}, \"acceleration\": {\"type\": \"float\", \"description\": \"The acceleration of the object.\"}, \"time\": {\"type\": \"float\", \"description\": \"The time the object has been moving.\"}}, \"required\": [\"initial_velocity\", \"acceleration\", \"time\"]}\\nget_fibonacci_sequence: Calculates the n numbers of the Fibonacci. | Parameters: {\"type\": \"dict\", \"properties\": {\"n\": {\"type\": \"integer\", \"description\": \"The number of Fibonacci numbers to calculate.\"}}, \"required\": [\"n\"]}\\nsort_array: Sorts an array of numbers. | Parameters: {\"type\": \"dict\", \"properties\": {\"array\": {\"type\": \"array\", \"items\": {\"type\": \"float\"}, \"description\": \"The array of numbers.\"}, \"reverse\": {\"type\": \"boolean\", \"description\": \"Whether to sort the array in reverse order, i.e., descending order.\", \"default\": false}}, \"required\": [\"array\"]}\\nget_time_zone_by_coord: Finds the timezone of a coordinate. | Parameters: {\"type\": \"dict\", \"properties\": {\"long\": {\"type\": \"string\", \"description\": \"The longitude of the coordinate.\"}, \"lat\": {\"type\": \"string\", \"description\": \"The latitude of the coordinate.\"}}, \"required\": [\"long\", \"lat\"]}\\ncalculate_mean: Calculates the mean of a list of numbers. | Parameters: {\"type\": \"dict\", \"properties\": {\"numbers\": {\"type\": \"array\", \"items\": {\"type\": \"integer\"}, \"description\": \"The list of numbers.\"}}, \"required\": [\"numbers\"]}\\ncalculate_permutations: Calculates the number of permutations of k elements from a set of n elements. | Parameters: {\"type\": \"dict\", \"properties\": {\"n\": {\"type\": \"integer\", \"description\": \"The number of elements in the set.\"}, \"k\": {\"type\": \"integer\", \"description\": \"The number of elements to choose.\"}}, \"required\": [\"n\", \"k\"]}\\nget_company_name_by_stock_name: Finds the company name of a stock by its stock name. | Parameters: {\"type\": \"dict\", \"properties\": {\"stock_name\": {\"type\": \"string\", \"description\": \"The stock name of the product, in the format of the stock symbol.\"}}, \"required\": [\"stock_name\"]}\\ncalculate_standard_deviation: Calculates the standard deviation of a list of numbers. | Parameters: {\"type\": \"dict\", \"properties\": {\"numbers\": {\"type\": \"array\", \"items\": {\"type\": \"integer\"}, \"description\": \"The list of numbers.\"}}, \"required\": [\"numbers\"]}\\nmath_lcm: Calculates the least common multiple of two numbers. | Parameters: {\"type\": \"dict\", \"properties\": {\"a\": {\"type\": \"integer\", \"description\": \"The first number. This should be the larger number.\"}, \"b\": {\"type\": \"integer\", \"description\": \"The second number.\"}}, \"required\": [\"a\", \"b\"]}\\ncalculate_triangle_area: Calculates the area of a triangle given its base and height. | Parameters: {\"type\": \"dict\", \"properties\": {\"base\": {\"type\": \"integer\", \"description\": \"The base of the triangle, in meters.\"}, \"height\": {\"type\": \"integer\", \"description\": \"The height of the triangle, in meters.\"}}, \"required\": [\"base\", \"height\"]}\\nconvert_currency: Converts a given amount from one currency to another using the ExchangeRate-API. | Parameters: {\"type\": \"dict\", \"properties\": {\"amount\": {\"type\": \"float\", \"description\": \"The amount of money to convert, in the base currency.\"}, \"from_currency\": {\"type\": \"string\", \"description\": \"The ISO currency code for the base currency.\"}, \"to_currency\": {\"type\": \"string\", \"description\": \"The ISO currency code for the target currency.\"}}, \"required\": [\"amount\", \"from_currency\", \"to_currency\"]}\\nget_stock_history: Finds the price of a stock by its stock name. | Parameters: {\"type\": \"dict\", \"properties\": {\"stock_name\": {\"type\": \"string\", \"description\": \"The stock name of the product, in the format of the stock symbol.\"}, \"interval\": {\"type\": \"string\", \"description\": \"The interval of the stock history. Allows one of following : 5m|15m|30m|1h|1d|1wk|1mo|3mo\"}, \"diffandsplits\": {\"type\": \"string\", \"description\": \"The diff and splits of the stock history. Allows one of following : true|false. Default to false\"}}, \"required\": [\"stock_name\", \"interval\"]}\\nmath_gcd: Calculates the greatest common divisor of two numbers. | Parameters: {\"type\": \"dict\", \"properties\": {\"a\": {\"type\": \"integer\", \"description\": \"The first number. This should be the larger number.\"}, \"b\": {\"type\": \"integer\", \"description\": \"The second number.\"}}, \"required\": [\"a\", \"b\"]}\\nestimate_derivative: Estimate the derivative of a function at a given point. | Parameters: {\"type\": \"dict\", \"properties\": {\"function\": {\"type\": \"string\", \"description\": \"The function to calculate the derivative of. This should be the string literal of lambda function\"}, \"x\": {\"type\": \"integer\", \"description\": \"The point to calculate the derivative at.\"}}, \"required\": [\"function\", \"x\"]}\\nfind_term_on_urban_dictionary: Finds the definition of a term on Urban Dictionary. | Parameters: {\"type\": \"dict\", \"properties\": {\"term\": {\"type\": \"string\", \"description\": \"The term to find the definition of.\"}}, \"required\": [\"term\"]}\\nget_distance: Calculates the distance between two 2D points. | Parameters: {\"type\": \"dict\", \"properties\": {\"pointA\": {\"type\": \"tuple\", \"description\": \"The first point.\", \"items\": {\"type\": \"float\"}}, \"pointB\": {\"type\": \"tuple\", \"description\": \"The second point.\", \"items\": {\"type\": \"float\"}}}, \"required\": [\"pointA\", \"pointB\"]}\\ngeometry_area_circle: Calculates the area of a circle. | Parameters: {\"type\": \"dict\", \"properties\": {\"radius\": {\"type\": \"integer\", \"description\": \"The radius of the circle, in feet.\"}}, \"required\": [\"radius\"]}\\nget_covid_death_by_country: Finds the most up to date total deaths of a country result from COVID. | Parameters: {\"type\": \"dict\", \"properties\": {\"country\": {\"type\": \"string\", \"description\": \"The country to find the total deaths of, in the format of the country's full name.\"}}, \"required\": [\"country\"]}\\nget_active_covid_case_by_country: Finds the most up to date active cases of a country result from COVID. | Parameters: {\"type\": \"dict\", \"properties\": {\"country\": {\"type\": \"string\", \"description\": \"The country to find the active cases of, in the format of the country's full name.\"}}, \"required\": [\"country\"]}\\nmat_mul: Multiplies two matrices. | Parameters: {\"type\": \"dict\", \"properties\": {\"matA\": {\"type\": \"array\", \"description\": \"The first matrix.\", \"items\": {\"type\": \"array\", \"items\": {\"type\": \"integer\"}}}, \"matB\": {\"type\": \"array\", \"description\": \"The second matrix.\", \"items\": {\"type\": \"array\", \"items\": {\"type\": \"integer\"}}}}, \"required\": [\"matA\", \"matB\"]}\\nget_coordinate_by_ip_address: Finds the latitude and longitude of an IP address. | Parameters: {\"type\": \"dict\", \"properties\": {\"ip_address\": {\"type\": \"string\", \"description\": \"The IP address to find the location of.\"}}, \"required\": [\"ip_address\"]}\\nget_coordinates_from_city: Fetches the latitude and longitude of a given city name using the Maps.co Geocoding API. | Parameters: {\"type\": \"dict\", \"properties\": {\"city_name\": {\"type\": \"string\", \"description\": \"The name of the city, such as 'Rome'.\"}}, \"required\": [\"city_name\"]}\\nget_product_name_by_amazon_ASIN: Finds the price of a product by its Amazon ASIN. | Parameters: {\"type\": \"dict\", \"properties\": {\"ASIN\": {\"type\": \"string\", \"description\": \"The Amazon ASIN of the product.\"}}, \"required\": [\"ASIN\"]}\\nget_price_by_amazon_ASIN: Finds the price of a product by its Amazon ASIN. | Parameters: {\"type\": \"dict\", \"properties\": {\"ASIN\": {\"type\": \"string\", \"description\": \"The Amazon ASIN of the product.\"}}, \"required\": [\"ASIN\"]}\\nget_prime_factors: Calculates the prime factors of a number. | Parameters: {\"type\": \"dict\", \"properties\": {\"number\": {\"type\": \"integer\", \"description\": \"The number to calculate the prime factors of.\"}}, \"required\": [\"number\"]}\\nretrieve_city_based_on_zipcode: Finds the city of a zipcode. | Parameters: {\"type\": \"dict\", \"properties\": {\"zipcode\": {\"type\": \"string\", \"description\": \"The zipcode of the city.\"}}, \"required\": [\"zipcode\"]}\\nmath_factorial: Calculates the factorial of a number. | Parameters: {\"type\": \"dict\", \"properties\": {\"n\": {\"type\": \"integer\", \"description\": \"The number to calculate the factorial of.\"}}, \"required\": [\"n\"]}\\nquadratic_roots: Calculates the roots of a quadratic equation. | Parameters: {\"type\": \"dict\", \"properties\": {\"a\": {\"type\": \"integer\", \"description\": \"The first coefficient.\"}, \"b\": {\"type\": \"integer\", \"description\": \"The second coefficient.\"}, \"c\": {\"type\": \"integer\", \"description\": \"The third coefficient.\"}}, \"required\": [\"a\", \"b\", \"c\"]}\\nadd_binary_numbers: Adds two binary numbers. | Parameters: {\"type\": \"dict\", \"properties\": {\"a\": {\"type\": \"string\", \"description\": \"The first binary number.\"}, \"b\": {\"type\": \"string\", \"description\": \"The second binary number.\"}}, \"required\": [\"a\", \"b\"]}\\nconvert_binary_to_decimal: Converts a binary number to a decimal number. | Parameters: {\"type\": \"dict\", \"properties\": {\"binary\": {\"type\": \"string\", \"description\": \"The binary number to convert.\"}}, \"required\": [\"binary\"]}\\nconvert_decimal_to_hex: Converts a decimal number to a hexadecimal number. | Parameters: {\"type\": \"dict\", \"properties\": {\"decimal\": {\"type\": \"integer\", \"description\": \"The decimal number to convert.\"}}, \"required\": [\"decimal\"]}\\nlinear_regression: Finds the linear regression of a set of points and evaluates it at a given point. | Parameters: {\"type\": \"dict\", \"properties\": {\"x\": {\"type\": \"array\", \"description\": \"The x coordinates of the points.\", \"items\": {\"type\": \"integer\"}}, \"y\": {\"type\": \"array\", \"description\": \"The y coordinates of the points.\", \"items\": {\"type\": \"integer\"}}, \"point\": {\"type\": \"integer\", \"description\": \"The point to calculate the linear regression at.\"}}, \"required\": [\"x\", \"y\", \"point\"]}\\ncalculate_slope: Calculates the slope of the linear regression line from a set of points. | Parameters: {\"type\": \"dict\", \"properties\": {\"x\": {\"type\": \"array\", \"description\": \"The x coordinates of the points.\", \"items\": {\"type\": \"integer\"}}, \"y\": {\"type\": \"array\", \"description\": \"The y coordinates of the points.\", \"items\": {\"type\": \"integer\"}}}, \"required\": [\"x\", \"y\"]}\\ncalculate_intercept: Calculates the y-intercept of the linear regression line from a set of points and a given slope. | Parameters: {\"type\": \"dict\", \"properties\": {\"x\": {\"type\": \"array\", \"description\": \"The x coordinates of the points.\", \"items\": {\"type\": \"integer\"}}, \"y\": {\"type\": \"array\", \"description\": \"The y coordinates of the points.\", \"items\": {\"type\": \"integer\"}}, \"slope\": {\"type\": \"integer\", \"description\": \"The slope of the linear regression line.\"}}, \"required\": [\"x\", \"y\", \"slope\"]}\\npredict_value: Predicts the value of y given the slope, intercept, and an x value. | Parameters: {\"type\": \"dict\", \"properties\": {\"slope\": {\"type\": \"integer\", \"description\": \"The slope of the linear regression line.\"}, \"intercept\": {\"type\": \"integer\", \"description\": \"The y-intercept of the linear regression line.\"}, \"x\": {\"type\": \"integer\", \"description\": \"The x value to predict the y for.\"}}, \"required\": [\"slope\", \"intercept\", \"x\"]}\\ncalculate_investment_value: Calculates the value of an investment over time. | Parameters: {\"type\": \"dict\", \"properties\": {\"initial_investment\": {\"type\": \"integer\", \"description\": \"The initial investment amount.\"}, \"annual_contribution\": {\"type\": \"integer\", \"description\": \"The annual contribution amount.\"}, \"years\": {\"type\": \"integer\", \"description\": \"The number of years to calculate the investment value for.\"}, \"annual_return\": {\"type\": \"float\", \"description\": \"The annual return rate, ranging from 0 to 1.\"}, \"inflation_rate\": {\"type\": \"array\", \"items\": {\"type\": \"float\"}, \"description\": \"The inflation rate for each year in percentage, ranging from 0 to 1.\"}, \"adjust_for_inflation\": {\"type\": \"boolean\", \"default\": true, \"description\": \"Whether to adjust the investment value for inflation.\"}}, \"required\": [\"initial_investment\", \"annual_contribution\", \"years\", \"annual_return\", \"inflation_rate\"]}\\ncompound_interest: Calculates compound interest over time. | Parameters: {\"type\": \"dict\", \"properties\": {\"principal\": {\"type\": \"integer\", \"description\": \"The principal amount.\"}, \"rate\": {\"type\": \"float\", \"description\": \"The annual interest rate.\"}, \"times_compounded\": {\"type\": \"integer\", \"description\": \"The number of times the interest is compounded per year.\"}, \"years\": {\"type\": \"integer\", \"description\": \"The number of years to calculate the compound interest for.\"}}, \"required\": [\"principal\", \"rate\", \"times_compounded\", \"years\"]}\\ninflation_adjustment: Adjusts an amount for inflation. | Parameters: {\"type\": \"dict\", \"properties\": {\"amount\": {\"type\": \"float\", \"description\": \"The amount to adjust for inflation.\"}, \"inflation_rate\": {\"type\": \"float\", \"description\": \"The annual inflation float.\"}, \"years\": {\"type\": \"integer\", \"description\": \"The number of years to adjust for inflation.\"}}, \"required\": [\"amount\", \"inflation_rate\", \"years\"]}\\nadjust_for_inflation: Adjusts the investment value for inflation for each year. | Parameters: {\"type\": \"dict\", \"properties\": {\"investment_value\": {\"type\": \"float\", \"description\": \"The value of the investment to adjust.\"}, \"inflation_rates\": {\"type\": \"array\", \"items\": {\"type\": \"float\"}, \"description\": \"The inflation rates for each year.\"}}, \"required\": [\"investment_value\", \"inflation_rates\"]}\\ncalculate_basal_metabolic_rate: Calculates the Basal Metabolic Rate (BMR) of a person. | Parameters: {\"type\": \"dict\", \"properties\": {\"weight\": {\"type\": \"float\", \"description\": \"The weight of the person in kilograms.\"}, \"height\": {\"type\": \"float\", \"description\": \"The height of the person in centimeters.\"}, \"age\": {\"type\": \"float\", \"description\": \"The age of the person in years.\"}, \"gender\": {\"type\": \"string\", \"description\": \"The gender of the person. Possible options [male, female, other].\"}}, \"required\": [\"weight\", \"height\", \"age\", \"gender\"]}\\ncalculate_daily_energy_expenditure: Calculates the daily energy expenditure based on BMR and activity level. | Parameters: {\"type\": \"dict\", \"properties\": {\"basal_metabolic_rate\": {\"type\": \"float\", \"description\": \"The BMR of the person.\"}, \"activity_level\": {\"type\": \"float\", \"description\": \"The activity level of the person. Possible options [1,2,3,4,5].\"}}, \"required\": [\"basal_metabolic_rate\", \"activity_level\"]}\\ncalculate_nutritional_needs: Calculates the nutritional needs of a person based on their weight, height, age, gender, activity level, and goal. | Parameters: {\"type\": \"dict\", \"properties\": {\"weight\": {\"type\": \"float\", \"description\": \"The weight of the person in kilograms.\"}, \"height\": {\"type\": \"float\", \"description\": \"The height of the person in centimeters.\"}, \"age\": {\"type\": \"float\", \"description\": \"The age of the person in years.\"}, \"gender\": {\"type\": \"string\", \"description\": \"The gender of the person. Possible options [male, female, other].\"}, \"activity_level\": {\"type\": \"float\", \"description\": \"The activity level of the person. Possible options [1,2,3,4,5].\"}, \"goal\": {\"type\": \"string\", \"description\": \"The goal of the person. Possible options [lose, gain, maintain].\"}}, \"required\": [\"weight\", \"height\", \"age\", \"gender\", \"activity_level\", \"goal\"]}\\nbook_room: Books a room for a customer. | Parameters: {\"type\": \"dict\", \"properties\": {\"room_type\": {\"type\": \"dict\", \"description\": \"The room type to book.\"}, \"check_in_date\": {\"type\": \"string\", \"description\": \"The check-in date in format of MM-DD-YYYY.\"}, \"check_out_date\": {\"type\": \"string\", \"description\": \"The check-out date in format of MM-DD-YYYY.\"}, \"customer_id\": {\"type\": \"string\", \"description\": \"The customer ID.\"}, \"discount_code\": {\"type\": \"string\", \"description\": \"The discount code (if any).\", \"default\": null}}, \"required\": [\"room_type\", \"check_in_date\", \"check_out_date\", \"customer_id\"]}\\ncalculate_total_price: Calculates the total price of the room booking. | Parameters: {\"type\": \"dict\", \"properties\": {\"room_price\": {\"type\": \"float\", \"description\": \"The price per night of the room.\"}, \"nights\": {\"type\": \"integer\", \"description\": \"The number of nights for the booking.\"}, \"discount\": {\"type\": \"float\", \"description\": \"The discount amount (if any).\", \"default\": 0}}, \"required\": [\"room_price\", \"nights\"]}\\nconfirm_booking: Confirms the room booking and sends a confirmation to the customer. | Parameters: {\"type\": \"dict\", \"properties\": {\"customer_id\": {\"type\": \"string\", \"description\": \"The customer ID.\"}, \"room_number\": {\"type\": \"string\", \"description\": \"The room number assigned to the booking.\"}, \"total_price\": {\"type\": \"float\", \"description\": \"The total price for the booking.\"}}, \"required\": [\"customer_id\", \"room_number\", \"total_price\"]}\\norder_food: Orders food for a customer. Return the total price. | Parameters: {\"type\": \"dict\", \"properties\": {\"item\": {\"type\": \"array\", \"items\": {\"type\": \"string\"}, \"description\": \"the name of the product.\"}, \"quantity\": {\"type\": \"array\", \"items\": {\"type\": \"integer\"}, \"description\": \"the number of the product purchased.\"}, \"price\": {\"type\": \"array\", \"items\": {\"type\": \"float\"}, \"description\": \"the price of the product.\"}}, \"required\": [\"item\", \"quantity\", \"price\"]}\\ncalculate_total: Calculates the total price of an order given the quantities and prices. | Parameters: {\"type\": \"dict\", \"properties\": {\"quantities\": {\"type\": \"array\", \"items\": {\"type\": \"integer\"}, \"description\": \"The quantities of each product.\"}, \"prices\": {\"type\": \"array\", \"items\": {\"type\": \"float\"}, \"description\": \"The price of each product.\"}}, \"required\": [\"quantities\", \"prices\"]}\\napply_discount: Applies a discount to the total price. | Parameters: {\"type\": \"dict\", \"properties\": {\"total\": {\"type\": \"float\", \"description\": \"The original total price.\"}, \"discount\": {\"type\": \"float\", \"description\": \"The discount percentage to apply.\"}}, \"required\": [\"total\", \"discount\"]}\\nget_movie_director: Fetches the director of a movie from the OMDB API. | Parameters: {\"type\": \"dict\", \"properties\": {\"movie_name\": {\"type\": \"string\", \"description\": \"The name of the movie.\"}}, \"required\": [\"movie_name\"]}\\ncalculate_interest_rate: Calculates the interest rate for a given principal, rate, and time. | Parameters: {\"type\": \"dict\", \"properties\": {\"principal\": {\"type\": \"float\", \"description\": \"The initial amount of money.\"}, \"rate\": {\"type\": \"float\", \"description\": \"The interest rate per period.\"}, \"time\": {\"type\": \"float\", \"description\": \"The time the money is invested or borrowed for.\"}}, \"required\": [\"principal\", \"rate\", \"time\"]}\\nconvert_temperature: Converts temperature from Celsius to Fahrenheit or vice versa. | Parameters: {\"type\": \"dict\", \"properties\": {\"temperature\": {\"type\": \"float\", \"description\": \"The temperature to convert.\"}, \"unit_from\": {\"type\": \"string\", \"description\": \"The current unit of the temperature (Celsius or Fahrenheit).\"}, \"unit_to\": {\"type\": \"string\", \"description\": \"The unit to convert the temperature to (Celsius or Fahrenheit).\"}}, \"required\": [\"temperature\", \"unit_from\", \"unit_to\"]}\\ngenerate_random_number: Generates a random number within a specified range. | Parameters: {\"type\": \"dict\", \"properties\": {\"min\": {\"type\": \"integer\", \"description\": \"The minimum value of the range.\"}, \"max\": {\"type\": \"integer\", \"description\": \"The maximum value of the range.\"}}, \"required\": [\"min\", \"max\"]}\\nget_movie_rating: Fetches the age rating of a movie from the OMDB API. | Parameters: {\"type\": \"dict\", \"properties\": {\"movie_name\": {\"type\": \"string\", \"description\": \"The name of the movie.\"}}, \"required\": [\"movie_name\"]}\\nget_movie_genre: Retrieves the genre of a movie from the OMDB API. | Parameters: {\"type\": \"dict\", \"properties\": {\"movie_name\": {\"type\": \"string\", \"description\": \"The name of the movie to retrieve the genre for.\"}}, \"required\": [\"movie_name\"]}\\nget_director_by_movie_name: Gets the director of a movie. | Parameters: {\"type\": \"dict\", \"properties\": {\"movie_name\": {\"type\": \"string\", \"description\": \"The movie to find the director of.\"}}, \"required\": [\"movie_name\"]}\\nconvert_coordinates: Converts a list of tuples into a list of lists. | Parameters: {\"type\": \"dict\", \"properties\": {\"coordinates\": {\"type\": \"array\", \"items\": {\"type\": \"tuple\", \"items\": {\"type\": \"float\"}, \"description\": \"A single coordinate represented by a tuple (x, y).\"}, \"description\": \"The coordinates to be converted, where each coordinate is a tuple (x, y).\"}}, \"required\": [\"coordinates\"]}\\npolygon_area: Calculate the area of a polygon given its vertices using the shoelace formula. | Parameters: {\"type\": \"dict\", \"properties\": {\"vertices\": {\"type\": \"array\", \"items\": {\"type\": \"array\", \"items\": {\"type\": \"float\"}, \"minItems\": 2, \"maxItems\": 2, \"description\": \"A single vertex represented by a 2 element list [x, y].\"}, \"description\": \"The vertices of the polygon, where each vertex is a 2 element list [x, y].\"}}, \"required\": [\"vertices\"]}\\nvalidate_polygon: Checks if the given vertices form a valid polygon. | Parameters: {\"type\": \"dict\", \"properties\": {\"vertices\": {\"type\": \"array\", \"items\": {\"type\": \"array\", \"items\": {\"type\": \"float\"}, \"description\": \"A single vertex represented by a 2 element list [x, y].\"}, \"description\": \"The vertices of the polygon, where each vertex is a 2 element list [x, y].\"}}, \"required\": [\"vertices\"]}</td>\n",
       "    </tr>\n",
       "    <tr>\n",
       "      <th>2</th>\n",
       "      <td>I'm currently conducting a physics experiment, and I have this object that weighs 50 kilograms and takes up a space of about 10 cubic meters. Could you help me calculate the density of this object?</td>\n",
       "      <td>calculate_density(mass=50, volume=10)</td>\n",
       "      <td>get_weather_data: Fetches weather data from the Open-Meteo API for the given latitude and longitude. | Parameters: {\"type\": \"dict\", \"properties\": {\"coordinates\": {\"type\": \"array\", \"items\": {\"type\": \"float\"}, \"description\": \"The latitude and longitude of the location.\"}}, \"required\": [\"coordinates\"]}\\ncalc_binomial_probability: Calculates the probability of getting k successes in n trials. | Parameters: {\"type\": \"dict\", \"properties\": {\"n\": {\"type\": \"integer\", \"description\": \"The number of trials.\"}, \"k\": {\"type\": \"integer\", \"description\": \"The number of successes.\"}, \"p\": {\"type\": \"float\", \"description\": \"The probability of success.\"}}, \"required\": [\"n\", \"k\", \"p\"]}\\ncalculate_cosine_similarity: Calculates the cosine similarity of two vectors. | Parameters: {\"type\": \"dict\", \"properties\": {\"vectorA\": {\"type\": \"array\", \"items\": {\"type\": \"float\"}, \"description\": \"The first vector.\"}, \"vectorB\": {\"type\": \"array\", \"items\": {\"type\": \"float\"}, \"description\": \"The second vector.\"}}, \"required\": [\"vectorA\", \"vectorB\"]}\\nget_stock_price_by_stock_name: Finds the price of a stock by its stock name. | Parameters: {\"type\": \"dict\", \"properties\": {\"stock_name\": {\"type\": \"string\", \"description\": \"The stock name of the product, in the format of the stock symbol.\"}}, \"required\": [\"stock_name\"]}\\ncalculate_density: Calculates the density of an object. | Parameters: {\"type\": \"dict\", \"properties\": {\"mass\": {\"type\": \"float\", \"description\": \"The mass of the object, in kilograms.\"}, \"volume\": {\"type\": \"float\", \"description\": \"The volume of the object, in cubic meters.\"}}, \"required\": [\"mass\", \"volume\"]}\\ncalculate_future_value: Calculates the future value of an investment. | Parameters: {\"type\": \"dict\", \"properties\": {\"present_value\": {\"type\": \"float\", \"description\": \"The present value of the investment, in dollars.\"}, \"interest_rate\": {\"type\": \"float\", \"description\": \"The interest rate of the investment, ranging from 0 to 1.\"}, \"periods\": {\"type\": \"integer\", \"description\": \"The number of periods, in years.\"}}, \"required\": [\"present_value\", \"interest_rate\", \"periods\"]}\\nget_rating_by_amazon_ASIN: Finds the rating of a product by its Amazon ASIN. | Parameters: {\"type\": \"dict\", \"properties\": {\"ASIN\": {\"type\": \"string\", \"description\": \"The Amazon ASIN of the product.\"}}, \"required\": [\"ASIN\"]}\\nretrieve_holiday_by_year: Finds the holidays of a year. | Parameters: {\"type\": \"dict\", \"properties\": {\"year\": {\"type\": \"string\", \"description\": \"The year of the holidays.\"}, \"country\": {\"type\": \"string\", \"description\": \"The country of the holidays. Possible options: US, AT, DE, ES, FR, GB, IT, NL, PL, RO, SK, UA.\"}}, \"required\": [\"year\", \"country\"]}\\ncalculate_displacement: Calculates the displacement of an object. | Parameters: {\"type\": \"dict\", \"properties\": {\"initial_velocity\": {\"type\": \"float\", \"description\": \"The initial velocity of the object, in meters per second.\"}, \"acceleration\": {\"type\": \"float\", \"description\": \"The acceleration of the object, in meters per second squared.\"}, \"time\": {\"type\": \"float\", \"description\": \"The time the object has been moving, in seconds.\"}}, \"required\": [\"initial_velocity\", \"acceleration\", \"time\"]}\\nget_zipcode_by_ip_address: Finds the zipcode of an IP address. | Parameters: {\"type\": \"dict\", \"properties\": {\"ip_address\": {\"type\": \"string\", \"description\": \"The IP address to find the location of.\"}}, \"required\": [\"ip_address\"]}\\ncalculate_electrostatic_potential_energy: Calculates the electrostatic potential energy. | Parameters: {\"type\": \"dict\", \"properties\": {\"charge\": {\"type\": \"float\", \"description\": \"The charge of the object, in coulombs.\"}, \"voltage\": {\"type\": \"float\", \"description\": \"The voltage of the object, in volts.\"}}, \"required\": [\"charge\", \"voltage\"]}\\nmortgage_calculator: Calculates the monthly mortgage payment. | Parameters: {\"type\": \"dict\", \"properties\": {\"loan_amount\": {\"type\": \"float\", \"description\": \"The amount of the loan.\"}, \"interest_rate\": {\"type\": \"float\", \"description\": \"The interest rate of the loan, ranging from 0 to 1.\"}, \"loan_period\": {\"type\": \"integer\", \"description\": \"The period of the loan, in years.\"}}, \"required\": [\"loan_amount\", \"interest_rate\", \"loan_period\"]}\\ncalculate_final_velocity: Calculates the final velocity of an object. | Parameters: {\"type\": \"dict\", \"properties\": {\"initial_velocity\": {\"type\": \"float\", \"description\": \"The initial velocity of the object.\"}, \"acceleration\": {\"type\": \"float\", \"description\": \"The acceleration of the object.\"}, \"time\": {\"type\": \"float\", \"description\": \"The time the object has been moving.\"}}, \"required\": [\"initial_velocity\", \"acceleration\", \"time\"]}\\nget_fibonacci_sequence: Calculates the n numbers of the Fibonacci. | Parameters: {\"type\": \"dict\", \"properties\": {\"n\": {\"type\": \"integer\", \"description\": \"The number of Fibonacci numbers to calculate.\"}}, \"required\": [\"n\"]}\\nsort_array: Sorts an array of numbers. | Parameters: {\"type\": \"dict\", \"properties\": {\"array\": {\"type\": \"array\", \"items\": {\"type\": \"float\"}, \"description\": \"The array of numbers.\"}, \"reverse\": {\"type\": \"boolean\", \"description\": \"Whether to sort the array in reverse order, i.e., descending order.\", \"default\": false}}, \"required\": [\"array\"]}\\nget_time_zone_by_coord: Finds the timezone of a coordinate. | Parameters: {\"type\": \"dict\", \"properties\": {\"long\": {\"type\": \"string\", \"description\": \"The longitude of the coordinate.\"}, \"lat\": {\"type\": \"string\", \"description\": \"The latitude of the coordinate.\"}}, \"required\": [\"long\", \"lat\"]}\\ncalculate_mean: Calculates the mean of a list of numbers. | Parameters: {\"type\": \"dict\", \"properties\": {\"numbers\": {\"type\": \"array\", \"items\": {\"type\": \"integer\"}, \"description\": \"The list of numbers.\"}}, \"required\": [\"numbers\"]}\\ncalculate_permutations: Calculates the number of permutations of k elements from a set of n elements. | Parameters: {\"type\": \"dict\", \"properties\": {\"n\": {\"type\": \"integer\", \"description\": \"The number of elements in the set.\"}, \"k\": {\"type\": \"integer\", \"description\": \"The number of elements to choose.\"}}, \"required\": [\"n\", \"k\"]}\\nget_company_name_by_stock_name: Finds the company name of a stock by its stock name. | Parameters: {\"type\": \"dict\", \"properties\": {\"stock_name\": {\"type\": \"string\", \"description\": \"The stock name of the product, in the format of the stock symbol.\"}}, \"required\": [\"stock_name\"]}\\ncalculate_standard_deviation: Calculates the standard deviation of a list of numbers. | Parameters: {\"type\": \"dict\", \"properties\": {\"numbers\": {\"type\": \"array\", \"items\": {\"type\": \"integer\"}, \"description\": \"The list of numbers.\"}}, \"required\": [\"numbers\"]}\\nmath_lcm: Calculates the least common multiple of two numbers. | Parameters: {\"type\": \"dict\", \"properties\": {\"a\": {\"type\": \"integer\", \"description\": \"The first number. This should be the larger number.\"}, \"b\": {\"type\": \"integer\", \"description\": \"The second number.\"}}, \"required\": [\"a\", \"b\"]}\\ncalculate_triangle_area: Calculates the area of a triangle given its base and height. | Parameters: {\"type\": \"dict\", \"properties\": {\"base\": {\"type\": \"integer\", \"description\": \"The base of the triangle, in meters.\"}, \"height\": {\"type\": \"integer\", \"description\": \"The height of the triangle, in meters.\"}}, \"required\": [\"base\", \"height\"]}\\nconvert_currency: Converts a given amount from one currency to another using the ExchangeRate-API. | Parameters: {\"type\": \"dict\", \"properties\": {\"amount\": {\"type\": \"float\", \"description\": \"The amount of money to convert, in the base currency.\"}, \"from_currency\": {\"type\": \"string\", \"description\": \"The ISO currency code for the base currency.\"}, \"to_currency\": {\"type\": \"string\", \"description\": \"The ISO currency code for the target currency.\"}}, \"required\": [\"amount\", \"from_currency\", \"to_currency\"]}\\nget_stock_history: Finds the price of a stock by its stock name. | Parameters: {\"type\": \"dict\", \"properties\": {\"stock_name\": {\"type\": \"string\", \"description\": \"The stock name of the product, in the format of the stock symbol.\"}, \"interval\": {\"type\": \"string\", \"description\": \"The interval of the stock history. Allows one of following : 5m|15m|30m|1h|1d|1wk|1mo|3mo\"}, \"diffandsplits\": {\"type\": \"string\", \"description\": \"The diff and splits of the stock history. Allows one of following : true|false. Default to false\"}}, \"required\": [\"stock_name\", \"interval\"]}\\nmath_gcd: Calculates the greatest common divisor of two numbers. | Parameters: {\"type\": \"dict\", \"properties\": {\"a\": {\"type\": \"integer\", \"description\": \"The first number. This should be the larger number.\"}, \"b\": {\"type\": \"integer\", \"description\": \"The second number.\"}}, \"required\": [\"a\", \"b\"]}\\nestimate_derivative: Estimate the derivative of a function at a given point. | Parameters: {\"type\": \"dict\", \"properties\": {\"function\": {\"type\": \"string\", \"description\": \"The function to calculate the derivative of. This should be the string literal of lambda function\"}, \"x\": {\"type\": \"integer\", \"description\": \"The point to calculate the derivative at.\"}}, \"required\": [\"function\", \"x\"]}\\nfind_term_on_urban_dictionary: Finds the definition of a term on Urban Dictionary. | Parameters: {\"type\": \"dict\", \"properties\": {\"term\": {\"type\": \"string\", \"description\": \"The term to find the definition of.\"}}, \"required\": [\"term\"]}\\nget_distance: Calculates the distance between two 2D points. | Parameters: {\"type\": \"dict\", \"properties\": {\"pointA\": {\"type\": \"tuple\", \"description\": \"The first point.\", \"items\": {\"type\": \"float\"}}, \"pointB\": {\"type\": \"tuple\", \"description\": \"The second point.\", \"items\": {\"type\": \"float\"}}}, \"required\": [\"pointA\", \"pointB\"]}\\ngeometry_area_circle: Calculates the area of a circle. | Parameters: {\"type\": \"dict\", \"properties\": {\"radius\": {\"type\": \"integer\", \"description\": \"The radius of the circle, in feet.\"}}, \"required\": [\"radius\"]}\\nget_covid_death_by_country: Finds the most up to date total deaths of a country result from COVID. | Parameters: {\"type\": \"dict\", \"properties\": {\"country\": {\"type\": \"string\", \"description\": \"The country to find the total deaths of, in the format of the country's full name.\"}}, \"required\": [\"country\"]}\\nget_active_covid_case_by_country: Finds the most up to date active cases of a country result from COVID. | Parameters: {\"type\": \"dict\", \"properties\": {\"country\": {\"type\": \"string\", \"description\": \"The country to find the active cases of, in the format of the country's full name.\"}}, \"required\": [\"country\"]}\\nmat_mul: Multiplies two matrices. | Parameters: {\"type\": \"dict\", \"properties\": {\"matA\": {\"type\": \"array\", \"description\": \"The first matrix.\", \"items\": {\"type\": \"array\", \"items\": {\"type\": \"integer\"}}}, \"matB\": {\"type\": \"array\", \"description\": \"The second matrix.\", \"items\": {\"type\": \"array\", \"items\": {\"type\": \"integer\"}}}}, \"required\": [\"matA\", \"matB\"]}\\nget_coordinate_by_ip_address: Finds the latitude and longitude of an IP address. | Parameters: {\"type\": \"dict\", \"properties\": {\"ip_address\": {\"type\": \"string\", \"description\": \"The IP address to find the location of.\"}}, \"required\": [\"ip_address\"]}\\nget_coordinates_from_city: Fetches the latitude and longitude of a given city name using the Maps.co Geocoding API. | Parameters: {\"type\": \"dict\", \"properties\": {\"city_name\": {\"type\": \"string\", \"description\": \"The name of the city, such as 'Rome'.\"}}, \"required\": [\"city_name\"]}\\nget_product_name_by_amazon_ASIN: Finds the price of a product by its Amazon ASIN. | Parameters: {\"type\": \"dict\", \"properties\": {\"ASIN\": {\"type\": \"string\", \"description\": \"The Amazon ASIN of the product.\"}}, \"required\": [\"ASIN\"]}\\nget_price_by_amazon_ASIN: Finds the price of a product by its Amazon ASIN. | Parameters: {\"type\": \"dict\", \"properties\": {\"ASIN\": {\"type\": \"string\", \"description\": \"The Amazon ASIN of the product.\"}}, \"required\": [\"ASIN\"]}\\nget_prime_factors: Calculates the prime factors of a number. | Parameters: {\"type\": \"dict\", \"properties\": {\"number\": {\"type\": \"integer\", \"description\": \"The number to calculate the prime factors of.\"}}, \"required\": [\"number\"]}\\nretrieve_city_based_on_zipcode: Finds the city of a zipcode. | Parameters: {\"type\": \"dict\", \"properties\": {\"zipcode\": {\"type\": \"string\", \"description\": \"The zipcode of the city.\"}}, \"required\": [\"zipcode\"]}\\nmath_factorial: Calculates the factorial of a number. | Parameters: {\"type\": \"dict\", \"properties\": {\"n\": {\"type\": \"integer\", \"description\": \"The number to calculate the factorial of.\"}}, \"required\": [\"n\"]}\\nquadratic_roots: Calculates the roots of a quadratic equation. | Parameters: {\"type\": \"dict\", \"properties\": {\"a\": {\"type\": \"integer\", \"description\": \"The first coefficient.\"}, \"b\": {\"type\": \"integer\", \"description\": \"The second coefficient.\"}, \"c\": {\"type\": \"integer\", \"description\": \"The third coefficient.\"}}, \"required\": [\"a\", \"b\", \"c\"]}\\nadd_binary_numbers: Adds two binary numbers. | Parameters: {\"type\": \"dict\", \"properties\": {\"a\": {\"type\": \"string\", \"description\": \"The first binary number.\"}, \"b\": {\"type\": \"string\", \"description\": \"The second binary number.\"}}, \"required\": [\"a\", \"b\"]}\\nconvert_binary_to_decimal: Converts a binary number to a decimal number. | Parameters: {\"type\": \"dict\", \"properties\": {\"binary\": {\"type\": \"string\", \"description\": \"The binary number to convert.\"}}, \"required\": [\"binary\"]}\\nconvert_decimal_to_hex: Converts a decimal number to a hexadecimal number. | Parameters: {\"type\": \"dict\", \"properties\": {\"decimal\": {\"type\": \"integer\", \"description\": \"The decimal number to convert.\"}}, \"required\": [\"decimal\"]}\\nlinear_regression: Finds the linear regression of a set of points and evaluates it at a given point. | Parameters: {\"type\": \"dict\", \"properties\": {\"x\": {\"type\": \"array\", \"description\": \"The x coordinates of the points.\", \"items\": {\"type\": \"integer\"}}, \"y\": {\"type\": \"array\", \"description\": \"The y coordinates of the points.\", \"items\": {\"type\": \"integer\"}}, \"point\": {\"type\": \"integer\", \"description\": \"The point to calculate the linear regression at.\"}}, \"required\": [\"x\", \"y\", \"point\"]}\\ncalculate_slope: Calculates the slope of the linear regression line from a set of points. | Parameters: {\"type\": \"dict\", \"properties\": {\"x\": {\"type\": \"array\", \"description\": \"The x coordinates of the points.\", \"items\": {\"type\": \"integer\"}}, \"y\": {\"type\": \"array\", \"description\": \"The y coordinates of the points.\", \"items\": {\"type\": \"integer\"}}}, \"required\": [\"x\", \"y\"]}\\ncalculate_intercept: Calculates the y-intercept of the linear regression line from a set of points and a given slope. | Parameters: {\"type\": \"dict\", \"properties\": {\"x\": {\"type\": \"array\", \"description\": \"The x coordinates of the points.\", \"items\": {\"type\": \"integer\"}}, \"y\": {\"type\": \"array\", \"description\": \"The y coordinates of the points.\", \"items\": {\"type\": \"integer\"}}, \"slope\": {\"type\": \"integer\", \"description\": \"The slope of the linear regression line.\"}}, \"required\": [\"x\", \"y\", \"slope\"]}\\npredict_value: Predicts the value of y given the slope, intercept, and an x value. | Parameters: {\"type\": \"dict\", \"properties\": {\"slope\": {\"type\": \"integer\", \"description\": \"The slope of the linear regression line.\"}, \"intercept\": {\"type\": \"integer\", \"description\": \"The y-intercept of the linear regression line.\"}, \"x\": {\"type\": \"integer\", \"description\": \"The x value to predict the y for.\"}}, \"required\": [\"slope\", \"intercept\", \"x\"]}\\ncalculate_investment_value: Calculates the value of an investment over time. | Parameters: {\"type\": \"dict\", \"properties\": {\"initial_investment\": {\"type\": \"integer\", \"description\": \"The initial investment amount.\"}, \"annual_contribution\": {\"type\": \"integer\", \"description\": \"The annual contribution amount.\"}, \"years\": {\"type\": \"integer\", \"description\": \"The number of years to calculate the investment value for.\"}, \"annual_return\": {\"type\": \"float\", \"description\": \"The annual return rate, ranging from 0 to 1.\"}, \"inflation_rate\": {\"type\": \"array\", \"items\": {\"type\": \"float\"}, \"description\": \"The inflation rate for each year in percentage, ranging from 0 to 1.\"}, \"adjust_for_inflation\": {\"type\": \"boolean\", \"default\": true, \"description\": \"Whether to adjust the investment value for inflation.\"}}, \"required\": [\"initial_investment\", \"annual_contribution\", \"years\", \"annual_return\", \"inflation_rate\"]}\\ncompound_interest: Calculates compound interest over time. | Parameters: {\"type\": \"dict\", \"properties\": {\"principal\": {\"type\": \"integer\", \"description\": \"The principal amount.\"}, \"rate\": {\"type\": \"float\", \"description\": \"The annual interest rate.\"}, \"times_compounded\": {\"type\": \"integer\", \"description\": \"The number of times the interest is compounded per year.\"}, \"years\": {\"type\": \"integer\", \"description\": \"The number of years to calculate the compound interest for.\"}}, \"required\": [\"principal\", \"rate\", \"times_compounded\", \"years\"]}\\ninflation_adjustment: Adjusts an amount for inflation. | Parameters: {\"type\": \"dict\", \"properties\": {\"amount\": {\"type\": \"float\", \"description\": \"The amount to adjust for inflation.\"}, \"inflation_rate\": {\"type\": \"float\", \"description\": \"The annual inflation float.\"}, \"years\": {\"type\": \"integer\", \"description\": \"The number of years to adjust for inflation.\"}}, \"required\": [\"amount\", \"inflation_rate\", \"years\"]}\\nadjust_for_inflation: Adjusts the investment value for inflation for each year. | Parameters: {\"type\": \"dict\", \"properties\": {\"investment_value\": {\"type\": \"float\", \"description\": \"The value of the investment to adjust.\"}, \"inflation_rates\": {\"type\": \"array\", \"items\": {\"type\": \"float\"}, \"description\": \"The inflation rates for each year.\"}}, \"required\": [\"investment_value\", \"inflation_rates\"]}\\ncalculate_basal_metabolic_rate: Calculates the Basal Metabolic Rate (BMR) of a person. | Parameters: {\"type\": \"dict\", \"properties\": {\"weight\": {\"type\": \"float\", \"description\": \"The weight of the person in kilograms.\"}, \"height\": {\"type\": \"float\", \"description\": \"The height of the person in centimeters.\"}, \"age\": {\"type\": \"float\", \"description\": \"The age of the person in years.\"}, \"gender\": {\"type\": \"string\", \"description\": \"The gender of the person. Possible options [male, female, other].\"}}, \"required\": [\"weight\", \"height\", \"age\", \"gender\"]}\\ncalculate_daily_energy_expenditure: Calculates the daily energy expenditure based on BMR and activity level. | Parameters: {\"type\": \"dict\", \"properties\": {\"basal_metabolic_rate\": {\"type\": \"float\", \"description\": \"The BMR of the person.\"}, \"activity_level\": {\"type\": \"float\", \"description\": \"The activity level of the person. Possible options [1,2,3,4,5].\"}}, \"required\": [\"basal_metabolic_rate\", \"activity_level\"]}\\ncalculate_nutritional_needs: Calculates the nutritional needs of a person based on their weight, height, age, gender, activity level, and goal. | Parameters: {\"type\": \"dict\", \"properties\": {\"weight\": {\"type\": \"float\", \"description\": \"The weight of the person in kilograms.\"}, \"height\": {\"type\": \"float\", \"description\": \"The height of the person in centimeters.\"}, \"age\": {\"type\": \"float\", \"description\": \"The age of the person in years.\"}, \"gender\": {\"type\": \"string\", \"description\": \"The gender of the person. Possible options [male, female, other].\"}, \"activity_level\": {\"type\": \"float\", \"description\": \"The activity level of the person. Possible options [1,2,3,4,5].\"}, \"goal\": {\"type\": \"string\", \"description\": \"The goal of the person. Possible options [lose, gain, maintain].\"}}, \"required\": [\"weight\", \"height\", \"age\", \"gender\", \"activity_level\", \"goal\"]}\\nbook_room: Books a room for a customer. | Parameters: {\"type\": \"dict\", \"properties\": {\"room_type\": {\"type\": \"dict\", \"description\": \"The room type to book.\"}, \"check_in_date\": {\"type\": \"string\", \"description\": \"The check-in date in format of MM-DD-YYYY.\"}, \"check_out_date\": {\"type\": \"string\", \"description\": \"The check-out date in format of MM-DD-YYYY.\"}, \"customer_id\": {\"type\": \"string\", \"description\": \"The customer ID.\"}, \"discount_code\": {\"type\": \"string\", \"description\": \"The discount code (if any).\", \"default\": null}}, \"required\": [\"room_type\", \"check_in_date\", \"check_out_date\", \"customer_id\"]}\\ncalculate_total_price: Calculates the total price of the room booking. | Parameters: {\"type\": \"dict\", \"properties\": {\"room_price\": {\"type\": \"float\", \"description\": \"The price per night of the room.\"}, \"nights\": {\"type\": \"integer\", \"description\": \"The number of nights for the booking.\"}, \"discount\": {\"type\": \"float\", \"description\": \"The discount amount (if any).\", \"default\": 0}}, \"required\": [\"room_price\", \"nights\"]}\\nconfirm_booking: Confirms the room booking and sends a confirmation to the customer. | Parameters: {\"type\": \"dict\", \"properties\": {\"customer_id\": {\"type\": \"string\", \"description\": \"The customer ID.\"}, \"room_number\": {\"type\": \"string\", \"description\": \"The room number assigned to the booking.\"}, \"total_price\": {\"type\": \"float\", \"description\": \"The total price for the booking.\"}}, \"required\": [\"customer_id\", \"room_number\", \"total_price\"]}\\norder_food: Orders food for a customer. Return the total price. | Parameters: {\"type\": \"dict\", \"properties\": {\"item\": {\"type\": \"array\", \"items\": {\"type\": \"string\"}, \"description\": \"the name of the product.\"}, \"quantity\": {\"type\": \"array\", \"items\": {\"type\": \"integer\"}, \"description\": \"the number of the product purchased.\"}, \"price\": {\"type\": \"array\", \"items\": {\"type\": \"float\"}, \"description\": \"the price of the product.\"}}, \"required\": [\"item\", \"quantity\", \"price\"]}\\ncalculate_total: Calculates the total price of an order given the quantities and prices. | Parameters: {\"type\": \"dict\", \"properties\": {\"quantities\": {\"type\": \"array\", \"items\": {\"type\": \"integer\"}, \"description\": \"The quantities of each product.\"}, \"prices\": {\"type\": \"array\", \"items\": {\"type\": \"float\"}, \"description\": \"The price of each product.\"}}, \"required\": [\"quantities\", \"prices\"]}\\napply_discount: Applies a discount to the total price. | Parameters: {\"type\": \"dict\", \"properties\": {\"total\": {\"type\": \"float\", \"description\": \"The original total price.\"}, \"discount\": {\"type\": \"float\", \"description\": \"The discount percentage to apply.\"}}, \"required\": [\"total\", \"discount\"]}\\nget_movie_director: Fetches the director of a movie from the OMDB API. | Parameters: {\"type\": \"dict\", \"properties\": {\"movie_name\": {\"type\": \"string\", \"description\": \"The name of the movie.\"}}, \"required\": [\"movie_name\"]}\\ncalculate_interest_rate: Calculates the interest rate for a given principal, rate, and time. | Parameters: {\"type\": \"dict\", \"properties\": {\"principal\": {\"type\": \"float\", \"description\": \"The initial amount of money.\"}, \"rate\": {\"type\": \"float\", \"description\": \"The interest rate per period.\"}, \"time\": {\"type\": \"float\", \"description\": \"The time the money is invested or borrowed for.\"}}, \"required\": [\"principal\", \"rate\", \"time\"]}\\nconvert_temperature: Converts temperature from Celsius to Fahrenheit or vice versa. | Parameters: {\"type\": \"dict\", \"properties\": {\"temperature\": {\"type\": \"float\", \"description\": \"The temperature to convert.\"}, \"unit_from\": {\"type\": \"string\", \"description\": \"The current unit of the temperature (Celsius or Fahrenheit).\"}, \"unit_to\": {\"type\": \"string\", \"description\": \"The unit to convert the temperature to (Celsius or Fahrenheit).\"}}, \"required\": [\"temperature\", \"unit_from\", \"unit_to\"]}\\ngenerate_random_number: Generates a random number within a specified range. | Parameters: {\"type\": \"dict\", \"properties\": {\"min\": {\"type\": \"integer\", \"description\": \"The minimum value of the range.\"}, \"max\": {\"type\": \"integer\", \"description\": \"The maximum value of the range.\"}}, \"required\": [\"min\", \"max\"]}\\nget_movie_rating: Fetches the age rating of a movie from the OMDB API. | Parameters: {\"type\": \"dict\", \"properties\": {\"movie_name\": {\"type\": \"string\", \"description\": \"The name of the movie.\"}}, \"required\": [\"movie_name\"]}\\nget_movie_genre: Retrieves the genre of a movie from the OMDB API. | Parameters: {\"type\": \"dict\", \"properties\": {\"movie_name\": {\"type\": \"string\", \"description\": \"The name of the movie to retrieve the genre for.\"}}, \"required\": [\"movie_name\"]}\\nget_director_by_movie_name: Gets the director of a movie. | Parameters: {\"type\": \"dict\", \"properties\": {\"movie_name\": {\"type\": \"string\", \"description\": \"The movie to find the director of.\"}}, \"required\": [\"movie_name\"]}\\nconvert_coordinates: Converts a list of tuples into a list of lists. | Parameters: {\"type\": \"dict\", \"properties\": {\"coordinates\": {\"type\": \"array\", \"items\": {\"type\": \"tuple\", \"items\": {\"type\": \"float\"}, \"description\": \"A single coordinate represented by a tuple (x, y).\"}, \"description\": \"The coordinates to be converted, where each coordinate is a tuple (x, y).\"}}, \"required\": [\"coordinates\"]}\\npolygon_area: Calculate the area of a polygon given its vertices using the shoelace formula. | Parameters: {\"type\": \"dict\", \"properties\": {\"vertices\": {\"type\": \"array\", \"items\": {\"type\": \"array\", \"items\": {\"type\": \"float\"}, \"minItems\": 2, \"maxItems\": 2, \"description\": \"A single vertex represented by a 2 element list [x, y].\"}, \"description\": \"The vertices of the polygon, where each vertex is a 2 element list [x, y].\"}}, \"required\": [\"vertices\"]}\\nvalidate_polygon: Checks if the given vertices form a valid polygon. | Parameters: {\"type\": \"dict\", \"properties\": {\"vertices\": {\"type\": \"array\", \"items\": {\"type\": \"array\", \"items\": {\"type\": \"float\"}, \"description\": \"A single vertex represented by a 2 element list [x, y].\"}, \"description\": \"The vertices of the polygon, where each vertex is a 2 element list [x, y].\"}}, \"required\": [\"vertices\"]}</td>\n",
       "    </tr>\n",
       "    <tr>\n",
       "      <th>3</th>\n",
       "      <td>I'm working on a physics experiment where we're tracking the movement of a special object. It starts off at 15 m/s, and we're accelerating it at a rate of 9.8 m/s². I need to calculate how far it will have traveled after 10 seconds. Can you crunch those numbers for me?</td>\n",
       "      <td>calculate_displacement(initial_velocity=15.0, acceleration=9.8, time=10)</td>\n",
       "      <td>get_weather_data: Fetches weather data from the Open-Meteo API for the given latitude and longitude. | Parameters: {\"type\": \"dict\", \"properties\": {\"coordinates\": {\"type\": \"array\", \"items\": {\"type\": \"float\"}, \"description\": \"The latitude and longitude of the location.\"}}, \"required\": [\"coordinates\"]}\\ncalc_binomial_probability: Calculates the probability of getting k successes in n trials. | Parameters: {\"type\": \"dict\", \"properties\": {\"n\": {\"type\": \"integer\", \"description\": \"The number of trials.\"}, \"k\": {\"type\": \"integer\", \"description\": \"The number of successes.\"}, \"p\": {\"type\": \"float\", \"description\": \"The probability of success.\"}}, \"required\": [\"n\", \"k\", \"p\"]}\\ncalculate_cosine_similarity: Calculates the cosine similarity of two vectors. | Parameters: {\"type\": \"dict\", \"properties\": {\"vectorA\": {\"type\": \"array\", \"items\": {\"type\": \"float\"}, \"description\": \"The first vector.\"}, \"vectorB\": {\"type\": \"array\", \"items\": {\"type\": \"float\"}, \"description\": \"The second vector.\"}}, \"required\": [\"vectorA\", \"vectorB\"]}\\nget_stock_price_by_stock_name: Finds the price of a stock by its stock name. | Parameters: {\"type\": \"dict\", \"properties\": {\"stock_name\": {\"type\": \"string\", \"description\": \"The stock name of the product, in the format of the stock symbol.\"}}, \"required\": [\"stock_name\"]}\\ncalculate_density: Calculates the density of an object. | Parameters: {\"type\": \"dict\", \"properties\": {\"mass\": {\"type\": \"float\", \"description\": \"The mass of the object, in kilograms.\"}, \"volume\": {\"type\": \"float\", \"description\": \"The volume of the object, in cubic meters.\"}}, \"required\": [\"mass\", \"volume\"]}\\ncalculate_future_value: Calculates the future value of an investment. | Parameters: {\"type\": \"dict\", \"properties\": {\"present_value\": {\"type\": \"float\", \"description\": \"The present value of the investment, in dollars.\"}, \"interest_rate\": {\"type\": \"float\", \"description\": \"The interest rate of the investment, ranging from 0 to 1.\"}, \"periods\": {\"type\": \"integer\", \"description\": \"The number of periods, in years.\"}}, \"required\": [\"present_value\", \"interest_rate\", \"periods\"]}\\nget_rating_by_amazon_ASIN: Finds the rating of a product by its Amazon ASIN. | Parameters: {\"type\": \"dict\", \"properties\": {\"ASIN\": {\"type\": \"string\", \"description\": \"The Amazon ASIN of the product.\"}}, \"required\": [\"ASIN\"]}\\nretrieve_holiday_by_year: Finds the holidays of a year. | Parameters: {\"type\": \"dict\", \"properties\": {\"year\": {\"type\": \"string\", \"description\": \"The year of the holidays.\"}, \"country\": {\"type\": \"string\", \"description\": \"The country of the holidays. Possible options: US, AT, DE, ES, FR, GB, IT, NL, PL, RO, SK, UA.\"}}, \"required\": [\"year\", \"country\"]}\\ncalculate_displacement: Calculates the displacement of an object. | Parameters: {\"type\": \"dict\", \"properties\": {\"initial_velocity\": {\"type\": \"float\", \"description\": \"The initial velocity of the object, in meters per second.\"}, \"acceleration\": {\"type\": \"float\", \"description\": \"The acceleration of the object, in meters per second squared.\"}, \"time\": {\"type\": \"float\", \"description\": \"The time the object has been moving, in seconds.\"}}, \"required\": [\"initial_velocity\", \"acceleration\", \"time\"]}\\nget_zipcode_by_ip_address: Finds the zipcode of an IP address. | Parameters: {\"type\": \"dict\", \"properties\": {\"ip_address\": {\"type\": \"string\", \"description\": \"The IP address to find the location of.\"}}, \"required\": [\"ip_address\"]}\\ncalculate_electrostatic_potential_energy: Calculates the electrostatic potential energy. | Parameters: {\"type\": \"dict\", \"properties\": {\"charge\": {\"type\": \"float\", \"description\": \"The charge of the object, in coulombs.\"}, \"voltage\": {\"type\": \"float\", \"description\": \"The voltage of the object, in volts.\"}}, \"required\": [\"charge\", \"voltage\"]}\\nmortgage_calculator: Calculates the monthly mortgage payment. | Parameters: {\"type\": \"dict\", \"properties\": {\"loan_amount\": {\"type\": \"float\", \"description\": \"The amount of the loan.\"}, \"interest_rate\": {\"type\": \"float\", \"description\": \"The interest rate of the loan, ranging from 0 to 1.\"}, \"loan_period\": {\"type\": \"integer\", \"description\": \"The period of the loan, in years.\"}}, \"required\": [\"loan_amount\", \"interest_rate\", \"loan_period\"]}\\ncalculate_final_velocity: Calculates the final velocity of an object. | Parameters: {\"type\": \"dict\", \"properties\": {\"initial_velocity\": {\"type\": \"float\", \"description\": \"The initial velocity of the object.\"}, \"acceleration\": {\"type\": \"float\", \"description\": \"The acceleration of the object.\"}, \"time\": {\"type\": \"float\", \"description\": \"The time the object has been moving.\"}}, \"required\": [\"initial_velocity\", \"acceleration\", \"time\"]}\\nget_fibonacci_sequence: Calculates the n numbers of the Fibonacci. | Parameters: {\"type\": \"dict\", \"properties\": {\"n\": {\"type\": \"integer\", \"description\": \"The number of Fibonacci numbers to calculate.\"}}, \"required\": [\"n\"]}\\nsort_array: Sorts an array of numbers. | Parameters: {\"type\": \"dict\", \"properties\": {\"array\": {\"type\": \"array\", \"items\": {\"type\": \"float\"}, \"description\": \"The array of numbers.\"}, \"reverse\": {\"type\": \"boolean\", \"description\": \"Whether to sort the array in reverse order, i.e., descending order.\", \"default\": false}}, \"required\": [\"array\"]}\\nget_time_zone_by_coord: Finds the timezone of a coordinate. | Parameters: {\"type\": \"dict\", \"properties\": {\"long\": {\"type\": \"string\", \"description\": \"The longitude of the coordinate.\"}, \"lat\": {\"type\": \"string\", \"description\": \"The latitude of the coordinate.\"}}, \"required\": [\"long\", \"lat\"]}\\ncalculate_mean: Calculates the mean of a list of numbers. | Parameters: {\"type\": \"dict\", \"properties\": {\"numbers\": {\"type\": \"array\", \"items\": {\"type\": \"integer\"}, \"description\": \"The list of numbers.\"}}, \"required\": [\"numbers\"]}\\ncalculate_permutations: Calculates the number of permutations of k elements from a set of n elements. | Parameters: {\"type\": \"dict\", \"properties\": {\"n\": {\"type\": \"integer\", \"description\": \"The number of elements in the set.\"}, \"k\": {\"type\": \"integer\", \"description\": \"The number of elements to choose.\"}}, \"required\": [\"n\", \"k\"]}\\nget_company_name_by_stock_name: Finds the company name of a stock by its stock name. | Parameters: {\"type\": \"dict\", \"properties\": {\"stock_name\": {\"type\": \"string\", \"description\": \"The stock name of the product, in the format of the stock symbol.\"}}, \"required\": [\"stock_name\"]}\\ncalculate_standard_deviation: Calculates the standard deviation of a list of numbers. | Parameters: {\"type\": \"dict\", \"properties\": {\"numbers\": {\"type\": \"array\", \"items\": {\"type\": \"integer\"}, \"description\": \"The list of numbers.\"}}, \"required\": [\"numbers\"]}\\nmath_lcm: Calculates the least common multiple of two numbers. | Parameters: {\"type\": \"dict\", \"properties\": {\"a\": {\"type\": \"integer\", \"description\": \"The first number. This should be the larger number.\"}, \"b\": {\"type\": \"integer\", \"description\": \"The second number.\"}}, \"required\": [\"a\", \"b\"]}\\ncalculate_triangle_area: Calculates the area of a triangle given its base and height. | Parameters: {\"type\": \"dict\", \"properties\": {\"base\": {\"type\": \"integer\", \"description\": \"The base of the triangle, in meters.\"}, \"height\": {\"type\": \"integer\", \"description\": \"The height of the triangle, in meters.\"}}, \"required\": [\"base\", \"height\"]}\\nconvert_currency: Converts a given amount from one currency to another using the ExchangeRate-API. | Parameters: {\"type\": \"dict\", \"properties\": {\"amount\": {\"type\": \"float\", \"description\": \"The amount of money to convert, in the base currency.\"}, \"from_currency\": {\"type\": \"string\", \"description\": \"The ISO currency code for the base currency.\"}, \"to_currency\": {\"type\": \"string\", \"description\": \"The ISO currency code for the target currency.\"}}, \"required\": [\"amount\", \"from_currency\", \"to_currency\"]}\\nget_stock_history: Finds the price of a stock by its stock name. | Parameters: {\"type\": \"dict\", \"properties\": {\"stock_name\": {\"type\": \"string\", \"description\": \"The stock name of the product, in the format of the stock symbol.\"}, \"interval\": {\"type\": \"string\", \"description\": \"The interval of the stock history. Allows one of following : 5m|15m|30m|1h|1d|1wk|1mo|3mo\"}, \"diffandsplits\": {\"type\": \"string\", \"description\": \"The diff and splits of the stock history. Allows one of following : true|false. Default to false\"}}, \"required\": [\"stock_name\", \"interval\"]}\\nmath_gcd: Calculates the greatest common divisor of two numbers. | Parameters: {\"type\": \"dict\", \"properties\": {\"a\": {\"type\": \"integer\", \"description\": \"The first number. This should be the larger number.\"}, \"b\": {\"type\": \"integer\", \"description\": \"The second number.\"}}, \"required\": [\"a\", \"b\"]}\\nestimate_derivative: Estimate the derivative of a function at a given point. | Parameters: {\"type\": \"dict\", \"properties\": {\"function\": {\"type\": \"string\", \"description\": \"The function to calculate the derivative of. This should be the string literal of lambda function\"}, \"x\": {\"type\": \"integer\", \"description\": \"The point to calculate the derivative at.\"}}, \"required\": [\"function\", \"x\"]}\\nfind_term_on_urban_dictionary: Finds the definition of a term on Urban Dictionary. | Parameters: {\"type\": \"dict\", \"properties\": {\"term\": {\"type\": \"string\", \"description\": \"The term to find the definition of.\"}}, \"required\": [\"term\"]}\\nget_distance: Calculates the distance between two 2D points. | Parameters: {\"type\": \"dict\", \"properties\": {\"pointA\": {\"type\": \"tuple\", \"description\": \"The first point.\", \"items\": {\"type\": \"float\"}}, \"pointB\": {\"type\": \"tuple\", \"description\": \"The second point.\", \"items\": {\"type\": \"float\"}}}, \"required\": [\"pointA\", \"pointB\"]}\\ngeometry_area_circle: Calculates the area of a circle. | Parameters: {\"type\": \"dict\", \"properties\": {\"radius\": {\"type\": \"integer\", \"description\": \"The radius of the circle, in feet.\"}}, \"required\": [\"radius\"]}\\nget_covid_death_by_country: Finds the most up to date total deaths of a country result from COVID. | Parameters: {\"type\": \"dict\", \"properties\": {\"country\": {\"type\": \"string\", \"description\": \"The country to find the total deaths of, in the format of the country's full name.\"}}, \"required\": [\"country\"]}\\nget_active_covid_case_by_country: Finds the most up to date active cases of a country result from COVID. | Parameters: {\"type\": \"dict\", \"properties\": {\"country\": {\"type\": \"string\", \"description\": \"The country to find the active cases of, in the format of the country's full name.\"}}, \"required\": [\"country\"]}\\nmat_mul: Multiplies two matrices. | Parameters: {\"type\": \"dict\", \"properties\": {\"matA\": {\"type\": \"array\", \"description\": \"The first matrix.\", \"items\": {\"type\": \"array\", \"items\": {\"type\": \"integer\"}}}, \"matB\": {\"type\": \"array\", \"description\": \"The second matrix.\", \"items\": {\"type\": \"array\", \"items\": {\"type\": \"integer\"}}}}, \"required\": [\"matA\", \"matB\"]}\\nget_coordinate_by_ip_address: Finds the latitude and longitude of an IP address. | Parameters: {\"type\": \"dict\", \"properties\": {\"ip_address\": {\"type\": \"string\", \"description\": \"The IP address to find the location of.\"}}, \"required\": [\"ip_address\"]}\\nget_coordinates_from_city: Fetches the latitude and longitude of a given city name using the Maps.co Geocoding API. | Parameters: {\"type\": \"dict\", \"properties\": {\"city_name\": {\"type\": \"string\", \"description\": \"The name of the city, such as 'Rome'.\"}}, \"required\": [\"city_name\"]}\\nget_product_name_by_amazon_ASIN: Finds the price of a product by its Amazon ASIN. | Parameters: {\"type\": \"dict\", \"properties\": {\"ASIN\": {\"type\": \"string\", \"description\": \"The Amazon ASIN of the product.\"}}, \"required\": [\"ASIN\"]}\\nget_price_by_amazon_ASIN: Finds the price of a product by its Amazon ASIN. | Parameters: {\"type\": \"dict\", \"properties\": {\"ASIN\": {\"type\": \"string\", \"description\": \"The Amazon ASIN of the product.\"}}, \"required\": [\"ASIN\"]}\\nget_prime_factors: Calculates the prime factors of a number. | Parameters: {\"type\": \"dict\", \"properties\": {\"number\": {\"type\": \"integer\", \"description\": \"The number to calculate the prime factors of.\"}}, \"required\": [\"number\"]}\\nretrieve_city_based_on_zipcode: Finds the city of a zipcode. | Parameters: {\"type\": \"dict\", \"properties\": {\"zipcode\": {\"type\": \"string\", \"description\": \"The zipcode of the city.\"}}, \"required\": [\"zipcode\"]}\\nmath_factorial: Calculates the factorial of a number. | Parameters: {\"type\": \"dict\", \"properties\": {\"n\": {\"type\": \"integer\", \"description\": \"The number to calculate the factorial of.\"}}, \"required\": [\"n\"]}\\nquadratic_roots: Calculates the roots of a quadratic equation. | Parameters: {\"type\": \"dict\", \"properties\": {\"a\": {\"type\": \"integer\", \"description\": \"The first coefficient.\"}, \"b\": {\"type\": \"integer\", \"description\": \"The second coefficient.\"}, \"c\": {\"type\": \"integer\", \"description\": \"The third coefficient.\"}}, \"required\": [\"a\", \"b\", \"c\"]}\\nadd_binary_numbers: Adds two binary numbers. | Parameters: {\"type\": \"dict\", \"properties\": {\"a\": {\"type\": \"string\", \"description\": \"The first binary number.\"}, \"b\": {\"type\": \"string\", \"description\": \"The second binary number.\"}}, \"required\": [\"a\", \"b\"]}\\nconvert_binary_to_decimal: Converts a binary number to a decimal number. | Parameters: {\"type\": \"dict\", \"properties\": {\"binary\": {\"type\": \"string\", \"description\": \"The binary number to convert.\"}}, \"required\": [\"binary\"]}\\nconvert_decimal_to_hex: Converts a decimal number to a hexadecimal number. | Parameters: {\"type\": \"dict\", \"properties\": {\"decimal\": {\"type\": \"integer\", \"description\": \"The decimal number to convert.\"}}, \"required\": [\"decimal\"]}\\nlinear_regression: Finds the linear regression of a set of points and evaluates it at a given point. | Parameters: {\"type\": \"dict\", \"properties\": {\"x\": {\"type\": \"array\", \"description\": \"The x coordinates of the points.\", \"items\": {\"type\": \"integer\"}}, \"y\": {\"type\": \"array\", \"description\": \"The y coordinates of the points.\", \"items\": {\"type\": \"integer\"}}, \"point\": {\"type\": \"integer\", \"description\": \"The point to calculate the linear regression at.\"}}, \"required\": [\"x\", \"y\", \"point\"]}\\ncalculate_slope: Calculates the slope of the linear regression line from a set of points. | Parameters: {\"type\": \"dict\", \"properties\": {\"x\": {\"type\": \"array\", \"description\": \"The x coordinates of the points.\", \"items\": {\"type\": \"integer\"}}, \"y\": {\"type\": \"array\", \"description\": \"The y coordinates of the points.\", \"items\": {\"type\": \"integer\"}}}, \"required\": [\"x\", \"y\"]}\\ncalculate_intercept: Calculates the y-intercept of the linear regression line from a set of points and a given slope. | Parameters: {\"type\": \"dict\", \"properties\": {\"x\": {\"type\": \"array\", \"description\": \"The x coordinates of the points.\", \"items\": {\"type\": \"integer\"}}, \"y\": {\"type\": \"array\", \"description\": \"The y coordinates of the points.\", \"items\": {\"type\": \"integer\"}}, \"slope\": {\"type\": \"integer\", \"description\": \"The slope of the linear regression line.\"}}, \"required\": [\"x\", \"y\", \"slope\"]}\\npredict_value: Predicts the value of y given the slope, intercept, and an x value. | Parameters: {\"type\": \"dict\", \"properties\": {\"slope\": {\"type\": \"integer\", \"description\": \"The slope of the linear regression line.\"}, \"intercept\": {\"type\": \"integer\", \"description\": \"The y-intercept of the linear regression line.\"}, \"x\": {\"type\": \"integer\", \"description\": \"The x value to predict the y for.\"}}, \"required\": [\"slope\", \"intercept\", \"x\"]}\\ncalculate_investment_value: Calculates the value of an investment over time. | Parameters: {\"type\": \"dict\", \"properties\": {\"initial_investment\": {\"type\": \"integer\", \"description\": \"The initial investment amount.\"}, \"annual_contribution\": {\"type\": \"integer\", \"description\": \"The annual contribution amount.\"}, \"years\": {\"type\": \"integer\", \"description\": \"The number of years to calculate the investment value for.\"}, \"annual_return\": {\"type\": \"float\", \"description\": \"The annual return rate, ranging from 0 to 1.\"}, \"inflation_rate\": {\"type\": \"array\", \"items\": {\"type\": \"float\"}, \"description\": \"The inflation rate for each year in percentage, ranging from 0 to 1.\"}, \"adjust_for_inflation\": {\"type\": \"boolean\", \"default\": true, \"description\": \"Whether to adjust the investment value for inflation.\"}}, \"required\": [\"initial_investment\", \"annual_contribution\", \"years\", \"annual_return\", \"inflation_rate\"]}\\ncompound_interest: Calculates compound interest over time. | Parameters: {\"type\": \"dict\", \"properties\": {\"principal\": {\"type\": \"integer\", \"description\": \"The principal amount.\"}, \"rate\": {\"type\": \"float\", \"description\": \"The annual interest rate.\"}, \"times_compounded\": {\"type\": \"integer\", \"description\": \"The number of times the interest is compounded per year.\"}, \"years\": {\"type\": \"integer\", \"description\": \"The number of years to calculate the compound interest for.\"}}, \"required\": [\"principal\", \"rate\", \"times_compounded\", \"years\"]}\\ninflation_adjustment: Adjusts an amount for inflation. | Parameters: {\"type\": \"dict\", \"properties\": {\"amount\": {\"type\": \"float\", \"description\": \"The amount to adjust for inflation.\"}, \"inflation_rate\": {\"type\": \"float\", \"description\": \"The annual inflation float.\"}, \"years\": {\"type\": \"integer\", \"description\": \"The number of years to adjust for inflation.\"}}, \"required\": [\"amount\", \"inflation_rate\", \"years\"]}\\nadjust_for_inflation: Adjusts the investment value for inflation for each year. | Parameters: {\"type\": \"dict\", \"properties\": {\"investment_value\": {\"type\": \"float\", \"description\": \"The value of the investment to adjust.\"}, \"inflation_rates\": {\"type\": \"array\", \"items\": {\"type\": \"float\"}, \"description\": \"The inflation rates for each year.\"}}, \"required\": [\"investment_value\", \"inflation_rates\"]}\\ncalculate_basal_metabolic_rate: Calculates the Basal Metabolic Rate (BMR) of a person. | Parameters: {\"type\": \"dict\", \"properties\": {\"weight\": {\"type\": \"float\", \"description\": \"The weight of the person in kilograms.\"}, \"height\": {\"type\": \"float\", \"description\": \"The height of the person in centimeters.\"}, \"age\": {\"type\": \"float\", \"description\": \"The age of the person in years.\"}, \"gender\": {\"type\": \"string\", \"description\": \"The gender of the person. Possible options [male, female, other].\"}}, \"required\": [\"weight\", \"height\", \"age\", \"gender\"]}\\ncalculate_daily_energy_expenditure: Calculates the daily energy expenditure based on BMR and activity level. | Parameters: {\"type\": \"dict\", \"properties\": {\"basal_metabolic_rate\": {\"type\": \"float\", \"description\": \"The BMR of the person.\"}, \"activity_level\": {\"type\": \"float\", \"description\": \"The activity level of the person. Possible options [1,2,3,4,5].\"}}, \"required\": [\"basal_metabolic_rate\", \"activity_level\"]}\\ncalculate_nutritional_needs: Calculates the nutritional needs of a person based on their weight, height, age, gender, activity level, and goal. | Parameters: {\"type\": \"dict\", \"properties\": {\"weight\": {\"type\": \"float\", \"description\": \"The weight of the person in kilograms.\"}, \"height\": {\"type\": \"float\", \"description\": \"The height of the person in centimeters.\"}, \"age\": {\"type\": \"float\", \"description\": \"The age of the person in years.\"}, \"gender\": {\"type\": \"string\", \"description\": \"The gender of the person. Possible options [male, female, other].\"}, \"activity_level\": {\"type\": \"float\", \"description\": \"The activity level of the person. Possible options [1,2,3,4,5].\"}, \"goal\": {\"type\": \"string\", \"description\": \"The goal of the person. Possible options [lose, gain, maintain].\"}}, \"required\": [\"weight\", \"height\", \"age\", \"gender\", \"activity_level\", \"goal\"]}\\nbook_room: Books a room for a customer. | Parameters: {\"type\": \"dict\", \"properties\": {\"room_type\": {\"type\": \"dict\", \"description\": \"The room type to book.\"}, \"check_in_date\": {\"type\": \"string\", \"description\": \"The check-in date in format of MM-DD-YYYY.\"}, \"check_out_date\": {\"type\": \"string\", \"description\": \"The check-out date in format of MM-DD-YYYY.\"}, \"customer_id\": {\"type\": \"string\", \"description\": \"The customer ID.\"}, \"discount_code\": {\"type\": \"string\", \"description\": \"The discount code (if any).\", \"default\": null}}, \"required\": [\"room_type\", \"check_in_date\", \"check_out_date\", \"customer_id\"]}\\ncalculate_total_price: Calculates the total price of the room booking. | Parameters: {\"type\": \"dict\", \"properties\": {\"room_price\": {\"type\": \"float\", \"description\": \"The price per night of the room.\"}, \"nights\": {\"type\": \"integer\", \"description\": \"The number of nights for the booking.\"}, \"discount\": {\"type\": \"float\", \"description\": \"The discount amount (if any).\", \"default\": 0}}, \"required\": [\"room_price\", \"nights\"]}\\nconfirm_booking: Confirms the room booking and sends a confirmation to the customer. | Parameters: {\"type\": \"dict\", \"properties\": {\"customer_id\": {\"type\": \"string\", \"description\": \"The customer ID.\"}, \"room_number\": {\"type\": \"string\", \"description\": \"The room number assigned to the booking.\"}, \"total_price\": {\"type\": \"float\", \"description\": \"The total price for the booking.\"}}, \"required\": [\"customer_id\", \"room_number\", \"total_price\"]}\\norder_food: Orders food for a customer. Return the total price. | Parameters: {\"type\": \"dict\", \"properties\": {\"item\": {\"type\": \"array\", \"items\": {\"type\": \"string\"}, \"description\": \"the name of the product.\"}, \"quantity\": {\"type\": \"array\", \"items\": {\"type\": \"integer\"}, \"description\": \"the number of the product purchased.\"}, \"price\": {\"type\": \"array\", \"items\": {\"type\": \"float\"}, \"description\": \"the price of the product.\"}}, \"required\": [\"item\", \"quantity\", \"price\"]}\\ncalculate_total: Calculates the total price of an order given the quantities and prices. | Parameters: {\"type\": \"dict\", \"properties\": {\"quantities\": {\"type\": \"array\", \"items\": {\"type\": \"integer\"}, \"description\": \"The quantities of each product.\"}, \"prices\": {\"type\": \"array\", \"items\": {\"type\": \"float\"}, \"description\": \"The price of each product.\"}}, \"required\": [\"quantities\", \"prices\"]}\\napply_discount: Applies a discount to the total price. | Parameters: {\"type\": \"dict\", \"properties\": {\"total\": {\"type\": \"float\", \"description\": \"The original total price.\"}, \"discount\": {\"type\": \"float\", \"description\": \"The discount percentage to apply.\"}}, \"required\": [\"total\", \"discount\"]}\\nget_movie_director: Fetches the director of a movie from the OMDB API. | Parameters: {\"type\": \"dict\", \"properties\": {\"movie_name\": {\"type\": \"string\", \"description\": \"The name of the movie.\"}}, \"required\": [\"movie_name\"]}\\ncalculate_interest_rate: Calculates the interest rate for a given principal, rate, and time. | Parameters: {\"type\": \"dict\", \"properties\": {\"principal\": {\"type\": \"float\", \"description\": \"The initial amount of money.\"}, \"rate\": {\"type\": \"float\", \"description\": \"The interest rate per period.\"}, \"time\": {\"type\": \"float\", \"description\": \"The time the money is invested or borrowed for.\"}}, \"required\": [\"principal\", \"rate\", \"time\"]}\\nconvert_temperature: Converts temperature from Celsius to Fahrenheit or vice versa. | Parameters: {\"type\": \"dict\", \"properties\": {\"temperature\": {\"type\": \"float\", \"description\": \"The temperature to convert.\"}, \"unit_from\": {\"type\": \"string\", \"description\": \"The current unit of the temperature (Celsius or Fahrenheit).\"}, \"unit_to\": {\"type\": \"string\", \"description\": \"The unit to convert the temperature to (Celsius or Fahrenheit).\"}}, \"required\": [\"temperature\", \"unit_from\", \"unit_to\"]}\\ngenerate_random_number: Generates a random number within a specified range. | Parameters: {\"type\": \"dict\", \"properties\": {\"min\": {\"type\": \"integer\", \"description\": \"The minimum value of the range.\"}, \"max\": {\"type\": \"integer\", \"description\": \"The maximum value of the range.\"}}, \"required\": [\"min\", \"max\"]}\\nget_movie_rating: Fetches the age rating of a movie from the OMDB API. | Parameters: {\"type\": \"dict\", \"properties\": {\"movie_name\": {\"type\": \"string\", \"description\": \"The name of the movie.\"}}, \"required\": [\"movie_name\"]}\\nget_movie_genre: Retrieves the genre of a movie from the OMDB API. | Parameters: {\"type\": \"dict\", \"properties\": {\"movie_name\": {\"type\": \"string\", \"description\": \"The name of the movie to retrieve the genre for.\"}}, \"required\": [\"movie_name\"]}\\nget_director_by_movie_name: Gets the director of a movie. | Parameters: {\"type\": \"dict\", \"properties\": {\"movie_name\": {\"type\": \"string\", \"description\": \"The movie to find the director of.\"}}, \"required\": [\"movie_name\"]}\\nconvert_coordinates: Converts a list of tuples into a list of lists. | Parameters: {\"type\": \"dict\", \"properties\": {\"coordinates\": {\"type\": \"array\", \"items\": {\"type\": \"tuple\", \"items\": {\"type\": \"float\"}, \"description\": \"A single coordinate represented by a tuple (x, y).\"}, \"description\": \"The coordinates to be converted, where each coordinate is a tuple (x, y).\"}}, \"required\": [\"coordinates\"]}\\npolygon_area: Calculate the area of a polygon given its vertices using the shoelace formula. | Parameters: {\"type\": \"dict\", \"properties\": {\"vertices\": {\"type\": \"array\", \"items\": {\"type\": \"array\", \"items\": {\"type\": \"float\"}, \"minItems\": 2, \"maxItems\": 2, \"description\": \"A single vertex represented by a 2 element list [x, y].\"}, \"description\": \"The vertices of the polygon, where each vertex is a 2 element list [x, y].\"}}, \"required\": [\"vertices\"]}\\nvalidate_polygon: Checks if the given vertices form a valid polygon. | Parameters: {\"type\": \"dict\", \"properties\": {\"vertices\": {\"type\": \"array\", \"items\": {\"type\": \"array\", \"items\": {\"type\": \"float\"}, \"description\": \"A single vertex represented by a 2 element list [x, y].\"}, \"description\": \"The vertices of the polygon, where each vertex is a 2 element list [x, y].\"}}, \"required\": [\"vertices\"]}</td>\n",
       "    </tr>\n",
       "    <tr>\n",
       "      <th>4</th>\n",
       "      <td>I'm conducting a physics experiment involving charged particles and electric fields. There's a particle that I've introduced into the field, and it carries a charge of exactly 5 coulombs. The electric field itself has a potential difference of 10 volts. I need to calculate the electrostatic potential energy for this scenario. Can you help me with that calculation?</td>\n",
       "      <td>calculate_electrostatic_potential_energy(charge=5.0, voltage=10.0)</td>\n",
       "      <td>get_weather_data: Fetches weather data from the Open-Meteo API for the given latitude and longitude. | Parameters: {\"type\": \"dict\", \"properties\": {\"coordinates\": {\"type\": \"array\", \"items\": {\"type\": \"float\"}, \"description\": \"The latitude and longitude of the location.\"}}, \"required\": [\"coordinates\"]}\\ncalc_binomial_probability: Calculates the probability of getting k successes in n trials. | Parameters: {\"type\": \"dict\", \"properties\": {\"n\": {\"type\": \"integer\", \"description\": \"The number of trials.\"}, \"k\": {\"type\": \"integer\", \"description\": \"The number of successes.\"}, \"p\": {\"type\": \"float\", \"description\": \"The probability of success.\"}}, \"required\": [\"n\", \"k\", \"p\"]}\\ncalculate_cosine_similarity: Calculates the cosine similarity of two vectors. | Parameters: {\"type\": \"dict\", \"properties\": {\"vectorA\": {\"type\": \"array\", \"items\": {\"type\": \"float\"}, \"description\": \"The first vector.\"}, \"vectorB\": {\"type\": \"array\", \"items\": {\"type\": \"float\"}, \"description\": \"The second vector.\"}}, \"required\": [\"vectorA\", \"vectorB\"]}\\nget_stock_price_by_stock_name: Finds the price of a stock by its stock name. | Parameters: {\"type\": \"dict\", \"properties\": {\"stock_name\": {\"type\": \"string\", \"description\": \"The stock name of the product, in the format of the stock symbol.\"}}, \"required\": [\"stock_name\"]}\\ncalculate_density: Calculates the density of an object. | Parameters: {\"type\": \"dict\", \"properties\": {\"mass\": {\"type\": \"float\", \"description\": \"The mass of the object, in kilograms.\"}, \"volume\": {\"type\": \"float\", \"description\": \"The volume of the object, in cubic meters.\"}}, \"required\": [\"mass\", \"volume\"]}\\ncalculate_future_value: Calculates the future value of an investment. | Parameters: {\"type\": \"dict\", \"properties\": {\"present_value\": {\"type\": \"float\", \"description\": \"The present value of the investment, in dollars.\"}, \"interest_rate\": {\"type\": \"float\", \"description\": \"The interest rate of the investment, ranging from 0 to 1.\"}, \"periods\": {\"type\": \"integer\", \"description\": \"The number of periods, in years.\"}}, \"required\": [\"present_value\", \"interest_rate\", \"periods\"]}\\nget_rating_by_amazon_ASIN: Finds the rating of a product by its Amazon ASIN. | Parameters: {\"type\": \"dict\", \"properties\": {\"ASIN\": {\"type\": \"string\", \"description\": \"The Amazon ASIN of the product.\"}}, \"required\": [\"ASIN\"]}\\nretrieve_holiday_by_year: Finds the holidays of a year. | Parameters: {\"type\": \"dict\", \"properties\": {\"year\": {\"type\": \"string\", \"description\": \"The year of the holidays.\"}, \"country\": {\"type\": \"string\", \"description\": \"The country of the holidays. Possible options: US, AT, DE, ES, FR, GB, IT, NL, PL, RO, SK, UA.\"}}, \"required\": [\"year\", \"country\"]}\\ncalculate_displacement: Calculates the displacement of an object. | Parameters: {\"type\": \"dict\", \"properties\": {\"initial_velocity\": {\"type\": \"float\", \"description\": \"The initial velocity of the object, in meters per second.\"}, \"acceleration\": {\"type\": \"float\", \"description\": \"The acceleration of the object, in meters per second squared.\"}, \"time\": {\"type\": \"float\", \"description\": \"The time the object has been moving, in seconds.\"}}, \"required\": [\"initial_velocity\", \"acceleration\", \"time\"]}\\nget_zipcode_by_ip_address: Finds the zipcode of an IP address. | Parameters: {\"type\": \"dict\", \"properties\": {\"ip_address\": {\"type\": \"string\", \"description\": \"The IP address to find the location of.\"}}, \"required\": [\"ip_address\"]}\\ncalculate_electrostatic_potential_energy: Calculates the electrostatic potential energy. | Parameters: {\"type\": \"dict\", \"properties\": {\"charge\": {\"type\": \"float\", \"description\": \"The charge of the object, in coulombs.\"}, \"voltage\": {\"type\": \"float\", \"description\": \"The voltage of the object, in volts.\"}}, \"required\": [\"charge\", \"voltage\"]}\\nmortgage_calculator: Calculates the monthly mortgage payment. | Parameters: {\"type\": \"dict\", \"properties\": {\"loan_amount\": {\"type\": \"float\", \"description\": \"The amount of the loan.\"}, \"interest_rate\": {\"type\": \"float\", \"description\": \"The interest rate of the loan, ranging from 0 to 1.\"}, \"loan_period\": {\"type\": \"integer\", \"description\": \"The period of the loan, in years.\"}}, \"required\": [\"loan_amount\", \"interest_rate\", \"loan_period\"]}\\ncalculate_final_velocity: Calculates the final velocity of an object. | Parameters: {\"type\": \"dict\", \"properties\": {\"initial_velocity\": {\"type\": \"float\", \"description\": \"The initial velocity of the object.\"}, \"acceleration\": {\"type\": \"float\", \"description\": \"The acceleration of the object.\"}, \"time\": {\"type\": \"float\", \"description\": \"The time the object has been moving.\"}}, \"required\": [\"initial_velocity\", \"acceleration\", \"time\"]}\\nget_fibonacci_sequence: Calculates the n numbers of the Fibonacci. | Parameters: {\"type\": \"dict\", \"properties\": {\"n\": {\"type\": \"integer\", \"description\": \"The number of Fibonacci numbers to calculate.\"}}, \"required\": [\"n\"]}\\nsort_array: Sorts an array of numbers. | Parameters: {\"type\": \"dict\", \"properties\": {\"array\": {\"type\": \"array\", \"items\": {\"type\": \"float\"}, \"description\": \"The array of numbers.\"}, \"reverse\": {\"type\": \"boolean\", \"description\": \"Whether to sort the array in reverse order, i.e., descending order.\", \"default\": false}}, \"required\": [\"array\"]}\\nget_time_zone_by_coord: Finds the timezone of a coordinate. | Parameters: {\"type\": \"dict\", \"properties\": {\"long\": {\"type\": \"string\", \"description\": \"The longitude of the coordinate.\"}, \"lat\": {\"type\": \"string\", \"description\": \"The latitude of the coordinate.\"}}, \"required\": [\"long\", \"lat\"]}\\ncalculate_mean: Calculates the mean of a list of numbers. | Parameters: {\"type\": \"dict\", \"properties\": {\"numbers\": {\"type\": \"array\", \"items\": {\"type\": \"integer\"}, \"description\": \"The list of numbers.\"}}, \"required\": [\"numbers\"]}\\ncalculate_permutations: Calculates the number of permutations of k elements from a set of n elements. | Parameters: {\"type\": \"dict\", \"properties\": {\"n\": {\"type\": \"integer\", \"description\": \"The number of elements in the set.\"}, \"k\": {\"type\": \"integer\", \"description\": \"The number of elements to choose.\"}}, \"required\": [\"n\", \"k\"]}\\nget_company_name_by_stock_name: Finds the company name of a stock by its stock name. | Parameters: {\"type\": \"dict\", \"properties\": {\"stock_name\": {\"type\": \"string\", \"description\": \"The stock name of the product, in the format of the stock symbol.\"}}, \"required\": [\"stock_name\"]}\\ncalculate_standard_deviation: Calculates the standard deviation of a list of numbers. | Parameters: {\"type\": \"dict\", \"properties\": {\"numbers\": {\"type\": \"array\", \"items\": {\"type\": \"integer\"}, \"description\": \"The list of numbers.\"}}, \"required\": [\"numbers\"]}\\nmath_lcm: Calculates the least common multiple of two numbers. | Parameters: {\"type\": \"dict\", \"properties\": {\"a\": {\"type\": \"integer\", \"description\": \"The first number. This should be the larger number.\"}, \"b\": {\"type\": \"integer\", \"description\": \"The second number.\"}}, \"required\": [\"a\", \"b\"]}\\ncalculate_triangle_area: Calculates the area of a triangle given its base and height. | Parameters: {\"type\": \"dict\", \"properties\": {\"base\": {\"type\": \"integer\", \"description\": \"The base of the triangle, in meters.\"}, \"height\": {\"type\": \"integer\", \"description\": \"The height of the triangle, in meters.\"}}, \"required\": [\"base\", \"height\"]}\\nconvert_currency: Converts a given amount from one currency to another using the ExchangeRate-API. | Parameters: {\"type\": \"dict\", \"properties\": {\"amount\": {\"type\": \"float\", \"description\": \"The amount of money to convert, in the base currency.\"}, \"from_currency\": {\"type\": \"string\", \"description\": \"The ISO currency code for the base currency.\"}, \"to_currency\": {\"type\": \"string\", \"description\": \"The ISO currency code for the target currency.\"}}, \"required\": [\"amount\", \"from_currency\", \"to_currency\"]}\\nget_stock_history: Finds the price of a stock by its stock name. | Parameters: {\"type\": \"dict\", \"properties\": {\"stock_name\": {\"type\": \"string\", \"description\": \"The stock name of the product, in the format of the stock symbol.\"}, \"interval\": {\"type\": \"string\", \"description\": \"The interval of the stock history. Allows one of following : 5m|15m|30m|1h|1d|1wk|1mo|3mo\"}, \"diffandsplits\": {\"type\": \"string\", \"description\": \"The diff and splits of the stock history. Allows one of following : true|false. Default to false\"}}, \"required\": [\"stock_name\", \"interval\"]}\\nmath_gcd: Calculates the greatest common divisor of two numbers. | Parameters: {\"type\": \"dict\", \"properties\": {\"a\": {\"type\": \"integer\", \"description\": \"The first number. This should be the larger number.\"}, \"b\": {\"type\": \"integer\", \"description\": \"The second number.\"}}, \"required\": [\"a\", \"b\"]}\\nestimate_derivative: Estimate the derivative of a function at a given point. | Parameters: {\"type\": \"dict\", \"properties\": {\"function\": {\"type\": \"string\", \"description\": \"The function to calculate the derivative of. This should be the string literal of lambda function\"}, \"x\": {\"type\": \"integer\", \"description\": \"The point to calculate the derivative at.\"}}, \"required\": [\"function\", \"x\"]}\\nfind_term_on_urban_dictionary: Finds the definition of a term on Urban Dictionary. | Parameters: {\"type\": \"dict\", \"properties\": {\"term\": {\"type\": \"string\", \"description\": \"The term to find the definition of.\"}}, \"required\": [\"term\"]}\\nget_distance: Calculates the distance between two 2D points. | Parameters: {\"type\": \"dict\", \"properties\": {\"pointA\": {\"type\": \"tuple\", \"description\": \"The first point.\", \"items\": {\"type\": \"float\"}}, \"pointB\": {\"type\": \"tuple\", \"description\": \"The second point.\", \"items\": {\"type\": \"float\"}}}, \"required\": [\"pointA\", \"pointB\"]}\\ngeometry_area_circle: Calculates the area of a circle. | Parameters: {\"type\": \"dict\", \"properties\": {\"radius\": {\"type\": \"integer\", \"description\": \"The radius of the circle, in feet.\"}}, \"required\": [\"radius\"]}\\nget_covid_death_by_country: Finds the most up to date total deaths of a country result from COVID. | Parameters: {\"type\": \"dict\", \"properties\": {\"country\": {\"type\": \"string\", \"description\": \"The country to find the total deaths of, in the format of the country's full name.\"}}, \"required\": [\"country\"]}\\nget_active_covid_case_by_country: Finds the most up to date active cases of a country result from COVID. | Parameters: {\"type\": \"dict\", \"properties\": {\"country\": {\"type\": \"string\", \"description\": \"The country to find the active cases of, in the format of the country's full name.\"}}, \"required\": [\"country\"]}\\nmat_mul: Multiplies two matrices. | Parameters: {\"type\": \"dict\", \"properties\": {\"matA\": {\"type\": \"array\", \"description\": \"The first matrix.\", \"items\": {\"type\": \"array\", \"items\": {\"type\": \"integer\"}}}, \"matB\": {\"type\": \"array\", \"description\": \"The second matrix.\", \"items\": {\"type\": \"array\", \"items\": {\"type\": \"integer\"}}}}, \"required\": [\"matA\", \"matB\"]}\\nget_coordinate_by_ip_address: Finds the latitude and longitude of an IP address. | Parameters: {\"type\": \"dict\", \"properties\": {\"ip_address\": {\"type\": \"string\", \"description\": \"The IP address to find the location of.\"}}, \"required\": [\"ip_address\"]}\\nget_coordinates_from_city: Fetches the latitude and longitude of a given city name using the Maps.co Geocoding API. | Parameters: {\"type\": \"dict\", \"properties\": {\"city_name\": {\"type\": \"string\", \"description\": \"The name of the city, such as 'Rome'.\"}}, \"required\": [\"city_name\"]}\\nget_product_name_by_amazon_ASIN: Finds the price of a product by its Amazon ASIN. | Parameters: {\"type\": \"dict\", \"properties\": {\"ASIN\": {\"type\": \"string\", \"description\": \"The Amazon ASIN of the product.\"}}, \"required\": [\"ASIN\"]}\\nget_price_by_amazon_ASIN: Finds the price of a product by its Amazon ASIN. | Parameters: {\"type\": \"dict\", \"properties\": {\"ASIN\": {\"type\": \"string\", \"description\": \"The Amazon ASIN of the product.\"}}, \"required\": [\"ASIN\"]}\\nget_prime_factors: Calculates the prime factors of a number. | Parameters: {\"type\": \"dict\", \"properties\": {\"number\": {\"type\": \"integer\", \"description\": \"The number to calculate the prime factors of.\"}}, \"required\": [\"number\"]}\\nretrieve_city_based_on_zipcode: Finds the city of a zipcode. | Parameters: {\"type\": \"dict\", \"properties\": {\"zipcode\": {\"type\": \"string\", \"description\": \"The zipcode of the city.\"}}, \"required\": [\"zipcode\"]}\\nmath_factorial: Calculates the factorial of a number. | Parameters: {\"type\": \"dict\", \"properties\": {\"n\": {\"type\": \"integer\", \"description\": \"The number to calculate the factorial of.\"}}, \"required\": [\"n\"]}\\nquadratic_roots: Calculates the roots of a quadratic equation. | Parameters: {\"type\": \"dict\", \"properties\": {\"a\": {\"type\": \"integer\", \"description\": \"The first coefficient.\"}, \"b\": {\"type\": \"integer\", \"description\": \"The second coefficient.\"}, \"c\": {\"type\": \"integer\", \"description\": \"The third coefficient.\"}}, \"required\": [\"a\", \"b\", \"c\"]}\\nadd_binary_numbers: Adds two binary numbers. | Parameters: {\"type\": \"dict\", \"properties\": {\"a\": {\"type\": \"string\", \"description\": \"The first binary number.\"}, \"b\": {\"type\": \"string\", \"description\": \"The second binary number.\"}}, \"required\": [\"a\", \"b\"]}\\nconvert_binary_to_decimal: Converts a binary number to a decimal number. | Parameters: {\"type\": \"dict\", \"properties\": {\"binary\": {\"type\": \"string\", \"description\": \"The binary number to convert.\"}}, \"required\": [\"binary\"]}\\nconvert_decimal_to_hex: Converts a decimal number to a hexadecimal number. | Parameters: {\"type\": \"dict\", \"properties\": {\"decimal\": {\"type\": \"integer\", \"description\": \"The decimal number to convert.\"}}, \"required\": [\"decimal\"]}\\nlinear_regression: Finds the linear regression of a set of points and evaluates it at a given point. | Parameters: {\"type\": \"dict\", \"properties\": {\"x\": {\"type\": \"array\", \"description\": \"The x coordinates of the points.\", \"items\": {\"type\": \"integer\"}}, \"y\": {\"type\": \"array\", \"description\": \"The y coordinates of the points.\", \"items\": {\"type\": \"integer\"}}, \"point\": {\"type\": \"integer\", \"description\": \"The point to calculate the linear regression at.\"}}, \"required\": [\"x\", \"y\", \"point\"]}\\ncalculate_slope: Calculates the slope of the linear regression line from a set of points. | Parameters: {\"type\": \"dict\", \"properties\": {\"x\": {\"type\": \"array\", \"description\": \"The x coordinates of the points.\", \"items\": {\"type\": \"integer\"}}, \"y\": {\"type\": \"array\", \"description\": \"The y coordinates of the points.\", \"items\": {\"type\": \"integer\"}}}, \"required\": [\"x\", \"y\"]}\\ncalculate_intercept: Calculates the y-intercept of the linear regression line from a set of points and a given slope. | Parameters: {\"type\": \"dict\", \"properties\": {\"x\": {\"type\": \"array\", \"description\": \"The x coordinates of the points.\", \"items\": {\"type\": \"integer\"}}, \"y\": {\"type\": \"array\", \"description\": \"The y coordinates of the points.\", \"items\": {\"type\": \"integer\"}}, \"slope\": {\"type\": \"integer\", \"description\": \"The slope of the linear regression line.\"}}, \"required\": [\"x\", \"y\", \"slope\"]}\\npredict_value: Predicts the value of y given the slope, intercept, and an x value. | Parameters: {\"type\": \"dict\", \"properties\": {\"slope\": {\"type\": \"integer\", \"description\": \"The slope of the linear regression line.\"}, \"intercept\": {\"type\": \"integer\", \"description\": \"The y-intercept of the linear regression line.\"}, \"x\": {\"type\": \"integer\", \"description\": \"The x value to predict the y for.\"}}, \"required\": [\"slope\", \"intercept\", \"x\"]}\\ncalculate_investment_value: Calculates the value of an investment over time. | Parameters: {\"type\": \"dict\", \"properties\": {\"initial_investment\": {\"type\": \"integer\", \"description\": \"The initial investment amount.\"}, \"annual_contribution\": {\"type\": \"integer\", \"description\": \"The annual contribution amount.\"}, \"years\": {\"type\": \"integer\", \"description\": \"The number of years to calculate the investment value for.\"}, \"annual_return\": {\"type\": \"float\", \"description\": \"The annual return rate, ranging from 0 to 1.\"}, \"inflation_rate\": {\"type\": \"array\", \"items\": {\"type\": \"float\"}, \"description\": \"The inflation rate for each year in percentage, ranging from 0 to 1.\"}, \"adjust_for_inflation\": {\"type\": \"boolean\", \"default\": true, \"description\": \"Whether to adjust the investment value for inflation.\"}}, \"required\": [\"initial_investment\", \"annual_contribution\", \"years\", \"annual_return\", \"inflation_rate\"]}\\ncompound_interest: Calculates compound interest over time. | Parameters: {\"type\": \"dict\", \"properties\": {\"principal\": {\"type\": \"integer\", \"description\": \"The principal amount.\"}, \"rate\": {\"type\": \"float\", \"description\": \"The annual interest rate.\"}, \"times_compounded\": {\"type\": \"integer\", \"description\": \"The number of times the interest is compounded per year.\"}, \"years\": {\"type\": \"integer\", \"description\": \"The number of years to calculate the compound interest for.\"}}, \"required\": [\"principal\", \"rate\", \"times_compounded\", \"years\"]}\\ninflation_adjustment: Adjusts an amount for inflation. | Parameters: {\"type\": \"dict\", \"properties\": {\"amount\": {\"type\": \"float\", \"description\": \"The amount to adjust for inflation.\"}, \"inflation_rate\": {\"type\": \"float\", \"description\": \"The annual inflation float.\"}, \"years\": {\"type\": \"integer\", \"description\": \"The number of years to adjust for inflation.\"}}, \"required\": [\"amount\", \"inflation_rate\", \"years\"]}\\nadjust_for_inflation: Adjusts the investment value for inflation for each year. | Parameters: {\"type\": \"dict\", \"properties\": {\"investment_value\": {\"type\": \"float\", \"description\": \"The value of the investment to adjust.\"}, \"inflation_rates\": {\"type\": \"array\", \"items\": {\"type\": \"float\"}, \"description\": \"The inflation rates for each year.\"}}, \"required\": [\"investment_value\", \"inflation_rates\"]}\\ncalculate_basal_metabolic_rate: Calculates the Basal Metabolic Rate (BMR) of a person. | Parameters: {\"type\": \"dict\", \"properties\": {\"weight\": {\"type\": \"float\", \"description\": \"The weight of the person in kilograms.\"}, \"height\": {\"type\": \"float\", \"description\": \"The height of the person in centimeters.\"}, \"age\": {\"type\": \"float\", \"description\": \"The age of the person in years.\"}, \"gender\": {\"type\": \"string\", \"description\": \"The gender of the person. Possible options [male, female, other].\"}}, \"required\": [\"weight\", \"height\", \"age\", \"gender\"]}\\ncalculate_daily_energy_expenditure: Calculates the daily energy expenditure based on BMR and activity level. | Parameters: {\"type\": \"dict\", \"properties\": {\"basal_metabolic_rate\": {\"type\": \"float\", \"description\": \"The BMR of the person.\"}, \"activity_level\": {\"type\": \"float\", \"description\": \"The activity level of the person. Possible options [1,2,3,4,5].\"}}, \"required\": [\"basal_metabolic_rate\", \"activity_level\"]}\\ncalculate_nutritional_needs: Calculates the nutritional needs of a person based on their weight, height, age, gender, activity level, and goal. | Parameters: {\"type\": \"dict\", \"properties\": {\"weight\": {\"type\": \"float\", \"description\": \"The weight of the person in kilograms.\"}, \"height\": {\"type\": \"float\", \"description\": \"The height of the person in centimeters.\"}, \"age\": {\"type\": \"float\", \"description\": \"The age of the person in years.\"}, \"gender\": {\"type\": \"string\", \"description\": \"The gender of the person. Possible options [male, female, other].\"}, \"activity_level\": {\"type\": \"float\", \"description\": \"The activity level of the person. Possible options [1,2,3,4,5].\"}, \"goal\": {\"type\": \"string\", \"description\": \"The goal of the person. Possible options [lose, gain, maintain].\"}}, \"required\": [\"weight\", \"height\", \"age\", \"gender\", \"activity_level\", \"goal\"]}\\nbook_room: Books a room for a customer. | Parameters: {\"type\": \"dict\", \"properties\": {\"room_type\": {\"type\": \"dict\", \"description\": \"The room type to book.\"}, \"check_in_date\": {\"type\": \"string\", \"description\": \"The check-in date in format of MM-DD-YYYY.\"}, \"check_out_date\": {\"type\": \"string\", \"description\": \"The check-out date in format of MM-DD-YYYY.\"}, \"customer_id\": {\"type\": \"string\", \"description\": \"The customer ID.\"}, \"discount_code\": {\"type\": \"string\", \"description\": \"The discount code (if any).\", \"default\": null}}, \"required\": [\"room_type\", \"check_in_date\", \"check_out_date\", \"customer_id\"]}\\ncalculate_total_price: Calculates the total price of the room booking. | Parameters: {\"type\": \"dict\", \"properties\": {\"room_price\": {\"type\": \"float\", \"description\": \"The price per night of the room.\"}, \"nights\": {\"type\": \"integer\", \"description\": \"The number of nights for the booking.\"}, \"discount\": {\"type\": \"float\", \"description\": \"The discount amount (if any).\", \"default\": 0}}, \"required\": [\"room_price\", \"nights\"]}\\nconfirm_booking: Confirms the room booking and sends a confirmation to the customer. | Parameters: {\"type\": \"dict\", \"properties\": {\"customer_id\": {\"type\": \"string\", \"description\": \"The customer ID.\"}, \"room_number\": {\"type\": \"string\", \"description\": \"The room number assigned to the booking.\"}, \"total_price\": {\"type\": \"float\", \"description\": \"The total price for the booking.\"}}, \"required\": [\"customer_id\", \"room_number\", \"total_price\"]}\\norder_food: Orders food for a customer. Return the total price. | Parameters: {\"type\": \"dict\", \"properties\": {\"item\": {\"type\": \"array\", \"items\": {\"type\": \"string\"}, \"description\": \"the name of the product.\"}, \"quantity\": {\"type\": \"array\", \"items\": {\"type\": \"integer\"}, \"description\": \"the number of the product purchased.\"}, \"price\": {\"type\": \"array\", \"items\": {\"type\": \"float\"}, \"description\": \"the price of the product.\"}}, \"required\": [\"item\", \"quantity\", \"price\"]}\\ncalculate_total: Calculates the total price of an order given the quantities and prices. | Parameters: {\"type\": \"dict\", \"properties\": {\"quantities\": {\"type\": \"array\", \"items\": {\"type\": \"integer\"}, \"description\": \"The quantities of each product.\"}, \"prices\": {\"type\": \"array\", \"items\": {\"type\": \"float\"}, \"description\": \"The price of each product.\"}}, \"required\": [\"quantities\", \"prices\"]}\\napply_discount: Applies a discount to the total price. | Parameters: {\"type\": \"dict\", \"properties\": {\"total\": {\"type\": \"float\", \"description\": \"The original total price.\"}, \"discount\": {\"type\": \"float\", \"description\": \"The discount percentage to apply.\"}}, \"required\": [\"total\", \"discount\"]}\\nget_movie_director: Fetches the director of a movie from the OMDB API. | Parameters: {\"type\": \"dict\", \"properties\": {\"movie_name\": {\"type\": \"string\", \"description\": \"The name of the movie.\"}}, \"required\": [\"movie_name\"]}\\ncalculate_interest_rate: Calculates the interest rate for a given principal, rate, and time. | Parameters: {\"type\": \"dict\", \"properties\": {\"principal\": {\"type\": \"float\", \"description\": \"The initial amount of money.\"}, \"rate\": {\"type\": \"float\", \"description\": \"The interest rate per period.\"}, \"time\": {\"type\": \"float\", \"description\": \"The time the money is invested or borrowed for.\"}}, \"required\": [\"principal\", \"rate\", \"time\"]}\\nconvert_temperature: Converts temperature from Celsius to Fahrenheit or vice versa. | Parameters: {\"type\": \"dict\", \"properties\": {\"temperature\": {\"type\": \"float\", \"description\": \"The temperature to convert.\"}, \"unit_from\": {\"type\": \"string\", \"description\": \"The current unit of the temperature (Celsius or Fahrenheit).\"}, \"unit_to\": {\"type\": \"string\", \"description\": \"The unit to convert the temperature to (Celsius or Fahrenheit).\"}}, \"required\": [\"temperature\", \"unit_from\", \"unit_to\"]}\\ngenerate_random_number: Generates a random number within a specified range. | Parameters: {\"type\": \"dict\", \"properties\": {\"min\": {\"type\": \"integer\", \"description\": \"The minimum value of the range.\"}, \"max\": {\"type\": \"integer\", \"description\": \"The maximum value of the range.\"}}, \"required\": [\"min\", \"max\"]}\\nget_movie_rating: Fetches the age rating of a movie from the OMDB API. | Parameters: {\"type\": \"dict\", \"properties\": {\"movie_name\": {\"type\": \"string\", \"description\": \"The name of the movie.\"}}, \"required\": [\"movie_name\"]}\\nget_movie_genre: Retrieves the genre of a movie from the OMDB API. | Parameters: {\"type\": \"dict\", \"properties\": {\"movie_name\": {\"type\": \"string\", \"description\": \"The name of the movie to retrieve the genre for.\"}}, \"required\": [\"movie_name\"]}\\nget_director_by_movie_name: Gets the director of a movie. | Parameters: {\"type\": \"dict\", \"properties\": {\"movie_name\": {\"type\": \"string\", \"description\": \"The movie to find the director of.\"}}, \"required\": [\"movie_name\"]}\\nconvert_coordinates: Converts a list of tuples into a list of lists. | Parameters: {\"type\": \"dict\", \"properties\": {\"coordinates\": {\"type\": \"array\", \"items\": {\"type\": \"tuple\", \"items\": {\"type\": \"float\"}, \"description\": \"A single coordinate represented by a tuple (x, y).\"}, \"description\": \"The coordinates to be converted, where each coordinate is a tuple (x, y).\"}}, \"required\": [\"coordinates\"]}\\npolygon_area: Calculate the area of a polygon given its vertices using the shoelace formula. | Parameters: {\"type\": \"dict\", \"properties\": {\"vertices\": {\"type\": \"array\", \"items\": {\"type\": \"array\", \"items\": {\"type\": \"float\"}, \"minItems\": 2, \"maxItems\": 2, \"description\": \"A single vertex represented by a 2 element list [x, y].\"}, \"description\": \"The vertices of the polygon, where each vertex is a 2 element list [x, y].\"}}, \"required\": [\"vertices\"]}\\nvalidate_polygon: Checks if the given vertices form a valid polygon. | Parameters: {\"type\": \"dict\", \"properties\": {\"vertices\": {\"type\": \"array\", \"items\": {\"type\": \"array\", \"items\": {\"type\": \"float\"}, \"description\": \"A single vertex represented by a 2 element list [x, y].\"}, \"description\": \"The vertices of the polygon, where each vertex is a 2 element list [x, y].\"}}, \"required\": [\"vertices\"]}</td>\n",
       "    </tr>\n",
       "  </tbody>\n",
       "</table>\n",
       "</div>\n",
       "    <div class=\"colab-df-buttons\">\n",
       "\n",
       "  <div class=\"colab-df-container\">\n",
       "    <button class=\"colab-df-convert\" onclick=\"convertToInteractive('df-9266f341-6eb1-4919-89f6-d503b2a13d48')\"\n",
       "            title=\"Convert this dataframe to an interactive table.\"\n",
       "            style=\"display:none;\">\n",
       "\n",
       "  <svg xmlns=\"http://www.w3.org/2000/svg\" height=\"24px\" viewBox=\"0 -960 960 960\">\n",
       "    <path d=\"M120-120v-720h720v720H120Zm60-500h600v-160H180v160Zm220 220h160v-160H400v160Zm0 220h160v-160H400v160ZM180-400h160v-160H180v160Zm440 0h160v-160H620v160ZM180-180h160v-160H180v160Zm440 0h160v-160H620v160Z\"/>\n",
       "  </svg>\n",
       "    </button>\n",
       "\n",
       "  <style>\n",
       "    .colab-df-container {\n",
       "      display:flex;\n",
       "      gap: 12px;\n",
       "    }\n",
       "\n",
       "    .colab-df-convert {\n",
       "      background-color: #E8F0FE;\n",
       "      border: none;\n",
       "      border-radius: 50%;\n",
       "      cursor: pointer;\n",
       "      display: none;\n",
       "      fill: #1967D2;\n",
       "      height: 32px;\n",
       "      padding: 0 0 0 0;\n",
       "      width: 32px;\n",
       "    }\n",
       "\n",
       "    .colab-df-convert:hover {\n",
       "      background-color: #E2EBFA;\n",
       "      box-shadow: 0px 1px 2px rgba(60, 64, 67, 0.3), 0px 1px 3px 1px rgba(60, 64, 67, 0.15);\n",
       "      fill: #174EA6;\n",
       "    }\n",
       "\n",
       "    .colab-df-buttons div {\n",
       "      margin-bottom: 4px;\n",
       "    }\n",
       "\n",
       "    [theme=dark] .colab-df-convert {\n",
       "      background-color: #3B4455;\n",
       "      fill: #D2E3FC;\n",
       "    }\n",
       "\n",
       "    [theme=dark] .colab-df-convert:hover {\n",
       "      background-color: #434B5C;\n",
       "      box-shadow: 0px 1px 3px 1px rgba(0, 0, 0, 0.15);\n",
       "      filter: drop-shadow(0px 1px 2px rgba(0, 0, 0, 0.3));\n",
       "      fill: #FFFFFF;\n",
       "    }\n",
       "  </style>\n",
       "\n",
       "    <script>\n",
       "      const buttonEl =\n",
       "        document.querySelector('#df-9266f341-6eb1-4919-89f6-d503b2a13d48 button.colab-df-convert');\n",
       "      buttonEl.style.display =\n",
       "        google.colab.kernel.accessAllowed ? 'block' : 'none';\n",
       "\n",
       "      async function convertToInteractive(key) {\n",
       "        const element = document.querySelector('#df-9266f341-6eb1-4919-89f6-d503b2a13d48');\n",
       "        const dataTable =\n",
       "          await google.colab.kernel.invokeFunction('convertToInteractive',\n",
       "                                                    [key], {});\n",
       "        if (!dataTable) return;\n",
       "\n",
       "        const docLinkHtml = 'Like what you see? Visit the ' +\n",
       "          '<a target=\"_blank\" href=https://colab.research.google.com/notebooks/data_table.ipynb>data table notebook</a>'\n",
       "          + ' to learn more about interactive tables.';\n",
       "        element.innerHTML = '';\n",
       "        dataTable['output_type'] = 'display_data';\n",
       "        await google.colab.output.renderOutput(dataTable, element);\n",
       "        const docLink = document.createElement('div');\n",
       "        docLink.innerHTML = docLinkHtml;\n",
       "        element.appendChild(docLink);\n",
       "      }\n",
       "    </script>\n",
       "  </div>\n",
       "\n",
       "\n",
       "    <div id=\"df-b785d6fc-bd47-4e8a-985f-dd4399d7556e\">\n",
       "      <button class=\"colab-df-quickchart\" onclick=\"quickchart('df-b785d6fc-bd47-4e8a-985f-dd4399d7556e')\"\n",
       "                title=\"Suggest charts\"\n",
       "                style=\"display:none;\">\n",
       "\n",
       "<svg xmlns=\"http://www.w3.org/2000/svg\" height=\"24px\"viewBox=\"0 0 24 24\"\n",
       "     width=\"24px\">\n",
       "    <g>\n",
       "        <path d=\"M19 3H5c-1.1 0-2 .9-2 2v14c0 1.1.9 2 2 2h14c1.1 0 2-.9 2-2V5c0-1.1-.9-2-2-2zM9 17H7v-7h2v7zm4 0h-2V7h2v10zm4 0h-2v-4h2v4z\"/>\n",
       "    </g>\n",
       "</svg>\n",
       "      </button>\n",
       "\n",
       "<style>\n",
       "  .colab-df-quickchart {\n",
       "      --bg-color: #E8F0FE;\n",
       "      --fill-color: #1967D2;\n",
       "      --hover-bg-color: #E2EBFA;\n",
       "      --hover-fill-color: #174EA6;\n",
       "      --disabled-fill-color: #AAA;\n",
       "      --disabled-bg-color: #DDD;\n",
       "  }\n",
       "\n",
       "  [theme=dark] .colab-df-quickchart {\n",
       "      --bg-color: #3B4455;\n",
       "      --fill-color: #D2E3FC;\n",
       "      --hover-bg-color: #434B5C;\n",
       "      --hover-fill-color: #FFFFFF;\n",
       "      --disabled-bg-color: #3B4455;\n",
       "      --disabled-fill-color: #666;\n",
       "  }\n",
       "\n",
       "  .colab-df-quickchart {\n",
       "    background-color: var(--bg-color);\n",
       "    border: none;\n",
       "    border-radius: 50%;\n",
       "    cursor: pointer;\n",
       "    display: none;\n",
       "    fill: var(--fill-color);\n",
       "    height: 32px;\n",
       "    padding: 0;\n",
       "    width: 32px;\n",
       "  }\n",
       "\n",
       "  .colab-df-quickchart:hover {\n",
       "    background-color: var(--hover-bg-color);\n",
       "    box-shadow: 0 1px 2px rgba(60, 64, 67, 0.3), 0 1px 3px 1px rgba(60, 64, 67, 0.15);\n",
       "    fill: var(--button-hover-fill-color);\n",
       "  }\n",
       "\n",
       "  .colab-df-quickchart-complete:disabled,\n",
       "  .colab-df-quickchart-complete:disabled:hover {\n",
       "    background-color: var(--disabled-bg-color);\n",
       "    fill: var(--disabled-fill-color);\n",
       "    box-shadow: none;\n",
       "  }\n",
       "\n",
       "  .colab-df-spinner {\n",
       "    border: 2px solid var(--fill-color);\n",
       "    border-color: transparent;\n",
       "    border-bottom-color: var(--fill-color);\n",
       "    animation:\n",
       "      spin 1s steps(1) infinite;\n",
       "  }\n",
       "\n",
       "  @keyframes spin {\n",
       "    0% {\n",
       "      border-color: transparent;\n",
       "      border-bottom-color: var(--fill-color);\n",
       "      border-left-color: var(--fill-color);\n",
       "    }\n",
       "    20% {\n",
       "      border-color: transparent;\n",
       "      border-left-color: var(--fill-color);\n",
       "      border-top-color: var(--fill-color);\n",
       "    }\n",
       "    30% {\n",
       "      border-color: transparent;\n",
       "      border-left-color: var(--fill-color);\n",
       "      border-top-color: var(--fill-color);\n",
       "      border-right-color: var(--fill-color);\n",
       "    }\n",
       "    40% {\n",
       "      border-color: transparent;\n",
       "      border-right-color: var(--fill-color);\n",
       "      border-top-color: var(--fill-color);\n",
       "    }\n",
       "    60% {\n",
       "      border-color: transparent;\n",
       "      border-right-color: var(--fill-color);\n",
       "    }\n",
       "    80% {\n",
       "      border-color: transparent;\n",
       "      border-right-color: var(--fill-color);\n",
       "      border-bottom-color: var(--fill-color);\n",
       "    }\n",
       "    90% {\n",
       "      border-color: transparent;\n",
       "      border-bottom-color: var(--fill-color);\n",
       "    }\n",
       "  }\n",
       "</style>\n",
       "\n",
       "      <script>\n",
       "        async function quickchart(key) {\n",
       "          const quickchartButtonEl =\n",
       "            document.querySelector('#' + key + ' button');\n",
       "          quickchartButtonEl.disabled = true;  // To prevent multiple clicks.\n",
       "          quickchartButtonEl.classList.add('colab-df-spinner');\n",
       "          try {\n",
       "            const charts = await google.colab.kernel.invokeFunction(\n",
       "                'suggestCharts', [key], {});\n",
       "          } catch (error) {\n",
       "            console.error('Error during call to suggestCharts:', error);\n",
       "          }\n",
       "          quickchartButtonEl.classList.remove('colab-df-spinner');\n",
       "          quickchartButtonEl.classList.add('colab-df-quickchart-complete');\n",
       "        }\n",
       "        (() => {\n",
       "          let quickchartButtonEl =\n",
       "            document.querySelector('#df-b785d6fc-bd47-4e8a-985f-dd4399d7556e button');\n",
       "          quickchartButtonEl.style.display =\n",
       "            google.colab.kernel.accessAllowed ? 'block' : 'none';\n",
       "        })();\n",
       "      </script>\n",
       "    </div>\n",
       "\n",
       "    </div>\n",
       "  </div>\n"
      ],
      "text/plain": [
       "                                                                                                                                                                                                                                                                                                                                                                         question  \\\n",
       "0                                                                                                                  I'm playing a dice game and want to calculate my chances. I roll the die 20 times, and I'm trying to figure out the probability of landing on a 6 exactly five times, considering each roll has a one in six chance of being a 6. Could you help me with that?   \n",
       "1      I'm working on a machine learning model, comparing the characteristics of two objects. The feature vectors for these objects are [0.5, 0.7, 0.2, 0.9, 0.1] for the first object and [0.4, 0.6, 0.3, 0.8, 0.2] for the second. To understand how similar these objects are, I need to calculate the cosine similarity between these two vectors. Can you help me with that?   \n",
       "2                                                                                                                                                                           I'm currently conducting a physics experiment, and I have this object that weighs 50 kilograms and takes up a space of about 10 cubic meters. Could you help me calculate the density of this object?   \n",
       "3                                                                                                   I'm working on a physics experiment where we're tracking the movement of a special object. It starts off at 15 m/s, and we're accelerating it at a rate of 9.8 m/s². I need to calculate how far it will have traveled after 10 seconds. Can you crunch those numbers for me?   \n",
       "4  I'm conducting a physics experiment involving charged particles and electric fields. There's a particle that I've introduced into the field, and it carries a charge of exactly 5 coulombs. The electric field itself has a potential difference of 10 volts. I need to calculate the electrostatic potential energy for this scenario. Can you help me with that calculation?   \n",
       "\n",
       "                                                                                           tool_call  \\\n",
       "0                                                        calc_binomial_probability(n=20, k=5, p=1/6)   \n",
       "1  calculate_cosine_similarity(vectorA=[0.5, 0.7, 0.2, 0.9, 0.1], vectorB=[0.4, 0.6, 0.3, 0.8, 0.2])   \n",
       "2                                                              calculate_density(mass=50, volume=10)   \n",
       "3                           calculate_displacement(initial_velocity=15.0, acceleration=9.8, time=10)   \n",
       "4                                 calculate_electrostatic_potential_energy(charge=5.0, voltage=10.0)   \n",
       "\n",
       "                                                                                                                                                                                                                                                                                                                                                                                                                                                                                                                                                                                                                                                                                                                                                                                                                                                                                                                                                                                                                                                                                                                                                                                                                                                                                                                                                                                                                                                                                                                                                                                                                                                                                                                                                                                                                                                                                                                                                                                                                                                                                                                                                                                                                                                                                                                                                                                                                                                                                                                                                                                                                                                                                                                                                                                                                                                                                                                                                                                                                                                                                                                                                                                                                                                                                                                                                                                                                                                                                                                                                                                                                                                                                                                                                                                                                                                                                                                                                                                                                                                                                                                                                                                                                                                                                                                                                                                                                                                                                                                                                                                                                                                                                                                                                                                                                                                                                                                                                                                                                                                                                                                                                                                                                                                                                                                                                                                                                                                                                                                                                                                                                                                                                                                                                                                                                                                                                                                                                                                                                                                                                                                                                                                                                                                                                                                                                                                                                                                                                                                                                                                                                                                                                                                                                                                                                                                                                                                                                                                                                                                                                                                                                                                                                                                                                                                                                                                                                                                                                                                                                                                                                                                                                                                                                                                                                                                                                                                                                                                                                                                                                                                                                                                                                                                                                                                                                                                                                                                                                                                                                                                                                                                                                                                                                                                                                                                                                                                                                                                                                                                                                                                                                                                                                                                                                                                                                                                                                                                                                                                                                                                                                                                                                                                                                                                                                                                                                                                                                                                                                                                                                                                                                                                                                                                                                                                                                                                                                                                                                                                                                                                                                                                                                                                                                                                                                                                                                                                                                                                                                                                                                                                                                                                                                                                                                                                                                                                                                                                                                                                                                                                                                                                                                                                                                                                                                                                                                                                                                                                                                                                                                                                                                                                                                                                                                                                                                                                                                                                                                                                                                                                                                                                                                                                                                                                                                                                                                                                                                                                                                                                                                                                                                                                                                                                                                                                                                                                                                                                                                                                                                                                                                                                                                                                                                                                                                                                                                                                                                                                                                                                                                                                                                                                                                                                                                                                                                                                                                                                                                                                                                                                                                                                                                                                                                                                                                                                                                                                                                                                                                                                                                                                                                                                                                                                                                                                                                                                                                                                                                                                                                                                                                                                                                                                                                                                                                                                                                                                                                                                                                                                                                                                                                                                                                                                                                                                                                                                                                                                                                                                                                                                                                                                                                                                                                                                                                                                                                                                                                                                                                                                                                                                                                                                                                                                                                                                                                                                                                                                                                                                                                                                                                                                                                                                                                                                                                                                                                                                                                                                                                                                                                                                                                                                                                                                                                                                                                                                                                                                                                                                                                                                                                                                                                                                                                                                                                                                                                                                                                                                                                                                                                                                                                                                                                                                                                                                                                                                                                                                                                                                                                                                                                                                                                                                                                                                                                                                                                                                                                                                                                                                                                                                                                                                                                                                                                                                                                                                                                                                                                                                                                                                                                                                                                                                                                                                                                                                                                                                                                                                                                                                                                                                                                                                                                                                                                                                                                                                                                                                                                                                                                                                                                                                                                                                                                                                                                                                                                                                                                                                                                                                                                                                                                                                                                                                                                                                                                                                                                                                                                                                                                                                                                                                                                                                                                                                                                                                                                                                                                                                                                                                                                                                                                                                                                                                                                                                                                                                                                                                                                                                                                                                                                                                                                                                                                                                                                                                                                                                                                                                                                                                                                                                                                                                                                                                                                                                                                                                                                                                                                                                                                                                                                                                                                                                                                                                                                                                                                                                                                                                                                                                                                                                                                                                                                                                                                                                                                                                                                                                                                                                                                                                                                                                                                                                                                                                                                                                                                                                                                                                                                                                                                                                                                                                                                                                                                tool_definitions  \n",
       "0  get_weather_data: Fetches weather data from the Open-Meteo API for the given latitude and longitude. | Parameters: {\"type\": \"dict\", \"properties\": {\"coordinates\": {\"type\": \"array\", \"items\": {\"type\": \"float\"}, \"description\": \"The latitude and longitude of the location.\"}}, \"required\": [\"coordinates\"]}\\ncalc_binomial_probability: Calculates the probability of getting k successes in n trials. | Parameters: {\"type\": \"dict\", \"properties\": {\"n\": {\"type\": \"integer\", \"description\": \"The number of trials.\"}, \"k\": {\"type\": \"integer\", \"description\": \"The number of successes.\"}, \"p\": {\"type\": \"float\", \"description\": \"The probability of success.\"}}, \"required\": [\"n\", \"k\", \"p\"]}\\ncalculate_cosine_similarity: Calculates the cosine similarity of two vectors. | Parameters: {\"type\": \"dict\", \"properties\": {\"vectorA\": {\"type\": \"array\", \"items\": {\"type\": \"float\"}, \"description\": \"The first vector.\"}, \"vectorB\": {\"type\": \"array\", \"items\": {\"type\": \"float\"}, \"description\": \"The second vector.\"}}, \"required\": [\"vectorA\", \"vectorB\"]}\\nget_stock_price_by_stock_name: Finds the price of a stock by its stock name. | Parameters: {\"type\": \"dict\", \"properties\": {\"stock_name\": {\"type\": \"string\", \"description\": \"The stock name of the product, in the format of the stock symbol.\"}}, \"required\": [\"stock_name\"]}\\ncalculate_density: Calculates the density of an object. | Parameters: {\"type\": \"dict\", \"properties\": {\"mass\": {\"type\": \"float\", \"description\": \"The mass of the object, in kilograms.\"}, \"volume\": {\"type\": \"float\", \"description\": \"The volume of the object, in cubic meters.\"}}, \"required\": [\"mass\", \"volume\"]}\\ncalculate_future_value: Calculates the future value of an investment. | Parameters: {\"type\": \"dict\", \"properties\": {\"present_value\": {\"type\": \"float\", \"description\": \"The present value of the investment, in dollars.\"}, \"interest_rate\": {\"type\": \"float\", \"description\": \"The interest rate of the investment, ranging from 0 to 1.\"}, \"periods\": {\"type\": \"integer\", \"description\": \"The number of periods, in years.\"}}, \"required\": [\"present_value\", \"interest_rate\", \"periods\"]}\\nget_rating_by_amazon_ASIN: Finds the rating of a product by its Amazon ASIN. | Parameters: {\"type\": \"dict\", \"properties\": {\"ASIN\": {\"type\": \"string\", \"description\": \"The Amazon ASIN of the product.\"}}, \"required\": [\"ASIN\"]}\\nretrieve_holiday_by_year: Finds the holidays of a year. | Parameters: {\"type\": \"dict\", \"properties\": {\"year\": {\"type\": \"string\", \"description\": \"The year of the holidays.\"}, \"country\": {\"type\": \"string\", \"description\": \"The country of the holidays. Possible options: US, AT, DE, ES, FR, GB, IT, NL, PL, RO, SK, UA.\"}}, \"required\": [\"year\", \"country\"]}\\ncalculate_displacement: Calculates the displacement of an object. | Parameters: {\"type\": \"dict\", \"properties\": {\"initial_velocity\": {\"type\": \"float\", \"description\": \"The initial velocity of the object, in meters per second.\"}, \"acceleration\": {\"type\": \"float\", \"description\": \"The acceleration of the object, in meters per second squared.\"}, \"time\": {\"type\": \"float\", \"description\": \"The time the object has been moving, in seconds.\"}}, \"required\": [\"initial_velocity\", \"acceleration\", \"time\"]}\\nget_zipcode_by_ip_address: Finds the zipcode of an IP address. | Parameters: {\"type\": \"dict\", \"properties\": {\"ip_address\": {\"type\": \"string\", \"description\": \"The IP address to find the location of.\"}}, \"required\": [\"ip_address\"]}\\ncalculate_electrostatic_potential_energy: Calculates the electrostatic potential energy. | Parameters: {\"type\": \"dict\", \"properties\": {\"charge\": {\"type\": \"float\", \"description\": \"The charge of the object, in coulombs.\"}, \"voltage\": {\"type\": \"float\", \"description\": \"The voltage of the object, in volts.\"}}, \"required\": [\"charge\", \"voltage\"]}\\nmortgage_calculator: Calculates the monthly mortgage payment. | Parameters: {\"type\": \"dict\", \"properties\": {\"loan_amount\": {\"type\": \"float\", \"description\": \"The amount of the loan.\"}, \"interest_rate\": {\"type\": \"float\", \"description\": \"The interest rate of the loan, ranging from 0 to 1.\"}, \"loan_period\": {\"type\": \"integer\", \"description\": \"The period of the loan, in years.\"}}, \"required\": [\"loan_amount\", \"interest_rate\", \"loan_period\"]}\\ncalculate_final_velocity: Calculates the final velocity of an object. | Parameters: {\"type\": \"dict\", \"properties\": {\"initial_velocity\": {\"type\": \"float\", \"description\": \"The initial velocity of the object.\"}, \"acceleration\": {\"type\": \"float\", \"description\": \"The acceleration of the object.\"}, \"time\": {\"type\": \"float\", \"description\": \"The time the object has been moving.\"}}, \"required\": [\"initial_velocity\", \"acceleration\", \"time\"]}\\nget_fibonacci_sequence: Calculates the n numbers of the Fibonacci. | Parameters: {\"type\": \"dict\", \"properties\": {\"n\": {\"type\": \"integer\", \"description\": \"The number of Fibonacci numbers to calculate.\"}}, \"required\": [\"n\"]}\\nsort_array: Sorts an array of numbers. | Parameters: {\"type\": \"dict\", \"properties\": {\"array\": {\"type\": \"array\", \"items\": {\"type\": \"float\"}, \"description\": \"The array of numbers.\"}, \"reverse\": {\"type\": \"boolean\", \"description\": \"Whether to sort the array in reverse order, i.e., descending order.\", \"default\": false}}, \"required\": [\"array\"]}\\nget_time_zone_by_coord: Finds the timezone of a coordinate. | Parameters: {\"type\": \"dict\", \"properties\": {\"long\": {\"type\": \"string\", \"description\": \"The longitude of the coordinate.\"}, \"lat\": {\"type\": \"string\", \"description\": \"The latitude of the coordinate.\"}}, \"required\": [\"long\", \"lat\"]}\\ncalculate_mean: Calculates the mean of a list of numbers. | Parameters: {\"type\": \"dict\", \"properties\": {\"numbers\": {\"type\": \"array\", \"items\": {\"type\": \"integer\"}, \"description\": \"The list of numbers.\"}}, \"required\": [\"numbers\"]}\\ncalculate_permutations: Calculates the number of permutations of k elements from a set of n elements. | Parameters: {\"type\": \"dict\", \"properties\": {\"n\": {\"type\": \"integer\", \"description\": \"The number of elements in the set.\"}, \"k\": {\"type\": \"integer\", \"description\": \"The number of elements to choose.\"}}, \"required\": [\"n\", \"k\"]}\\nget_company_name_by_stock_name: Finds the company name of a stock by its stock name. | Parameters: {\"type\": \"dict\", \"properties\": {\"stock_name\": {\"type\": \"string\", \"description\": \"The stock name of the product, in the format of the stock symbol.\"}}, \"required\": [\"stock_name\"]}\\ncalculate_standard_deviation: Calculates the standard deviation of a list of numbers. | Parameters: {\"type\": \"dict\", \"properties\": {\"numbers\": {\"type\": \"array\", \"items\": {\"type\": \"integer\"}, \"description\": \"The list of numbers.\"}}, \"required\": [\"numbers\"]}\\nmath_lcm: Calculates the least common multiple of two numbers. | Parameters: {\"type\": \"dict\", \"properties\": {\"a\": {\"type\": \"integer\", \"description\": \"The first number. This should be the larger number.\"}, \"b\": {\"type\": \"integer\", \"description\": \"The second number.\"}}, \"required\": [\"a\", \"b\"]}\\ncalculate_triangle_area: Calculates the area of a triangle given its base and height. | Parameters: {\"type\": \"dict\", \"properties\": {\"base\": {\"type\": \"integer\", \"description\": \"The base of the triangle, in meters.\"}, \"height\": {\"type\": \"integer\", \"description\": \"The height of the triangle, in meters.\"}}, \"required\": [\"base\", \"height\"]}\\nconvert_currency: Converts a given amount from one currency to another using the ExchangeRate-API. | Parameters: {\"type\": \"dict\", \"properties\": {\"amount\": {\"type\": \"float\", \"description\": \"The amount of money to convert, in the base currency.\"}, \"from_currency\": {\"type\": \"string\", \"description\": \"The ISO currency code for the base currency.\"}, \"to_currency\": {\"type\": \"string\", \"description\": \"The ISO currency code for the target currency.\"}}, \"required\": [\"amount\", \"from_currency\", \"to_currency\"]}\\nget_stock_history: Finds the price of a stock by its stock name. | Parameters: {\"type\": \"dict\", \"properties\": {\"stock_name\": {\"type\": \"string\", \"description\": \"The stock name of the product, in the format of the stock symbol.\"}, \"interval\": {\"type\": \"string\", \"description\": \"The interval of the stock history. Allows one of following : 5m|15m|30m|1h|1d|1wk|1mo|3mo\"}, \"diffandsplits\": {\"type\": \"string\", \"description\": \"The diff and splits of the stock history. Allows one of following : true|false. Default to false\"}}, \"required\": [\"stock_name\", \"interval\"]}\\nmath_gcd: Calculates the greatest common divisor of two numbers. | Parameters: {\"type\": \"dict\", \"properties\": {\"a\": {\"type\": \"integer\", \"description\": \"The first number. This should be the larger number.\"}, \"b\": {\"type\": \"integer\", \"description\": \"The second number.\"}}, \"required\": [\"a\", \"b\"]}\\nestimate_derivative: Estimate the derivative of a function at a given point. | Parameters: {\"type\": \"dict\", \"properties\": {\"function\": {\"type\": \"string\", \"description\": \"The function to calculate the derivative of. This should be the string literal of lambda function\"}, \"x\": {\"type\": \"integer\", \"description\": \"The point to calculate the derivative at.\"}}, \"required\": [\"function\", \"x\"]}\\nfind_term_on_urban_dictionary: Finds the definition of a term on Urban Dictionary. | Parameters: {\"type\": \"dict\", \"properties\": {\"term\": {\"type\": \"string\", \"description\": \"The term to find the definition of.\"}}, \"required\": [\"term\"]}\\nget_distance: Calculates the distance between two 2D points. | Parameters: {\"type\": \"dict\", \"properties\": {\"pointA\": {\"type\": \"tuple\", \"description\": \"The first point.\", \"items\": {\"type\": \"float\"}}, \"pointB\": {\"type\": \"tuple\", \"description\": \"The second point.\", \"items\": {\"type\": \"float\"}}}, \"required\": [\"pointA\", \"pointB\"]}\\ngeometry_area_circle: Calculates the area of a circle. | Parameters: {\"type\": \"dict\", \"properties\": {\"radius\": {\"type\": \"integer\", \"description\": \"The radius of the circle, in feet.\"}}, \"required\": [\"radius\"]}\\nget_covid_death_by_country: Finds the most up to date total deaths of a country result from COVID. | Parameters: {\"type\": \"dict\", \"properties\": {\"country\": {\"type\": \"string\", \"description\": \"The country to find the total deaths of, in the format of the country's full name.\"}}, \"required\": [\"country\"]}\\nget_active_covid_case_by_country: Finds the most up to date active cases of a country result from COVID. | Parameters: {\"type\": \"dict\", \"properties\": {\"country\": {\"type\": \"string\", \"description\": \"The country to find the active cases of, in the format of the country's full name.\"}}, \"required\": [\"country\"]}\\nmat_mul: Multiplies two matrices. | Parameters: {\"type\": \"dict\", \"properties\": {\"matA\": {\"type\": \"array\", \"description\": \"The first matrix.\", \"items\": {\"type\": \"array\", \"items\": {\"type\": \"integer\"}}}, \"matB\": {\"type\": \"array\", \"description\": \"The second matrix.\", \"items\": {\"type\": \"array\", \"items\": {\"type\": \"integer\"}}}}, \"required\": [\"matA\", \"matB\"]}\\nget_coordinate_by_ip_address: Finds the latitude and longitude of an IP address. | Parameters: {\"type\": \"dict\", \"properties\": {\"ip_address\": {\"type\": \"string\", \"description\": \"The IP address to find the location of.\"}}, \"required\": [\"ip_address\"]}\\nget_coordinates_from_city: Fetches the latitude and longitude of a given city name using the Maps.co Geocoding API. | Parameters: {\"type\": \"dict\", \"properties\": {\"city_name\": {\"type\": \"string\", \"description\": \"The name of the city, such as 'Rome'.\"}}, \"required\": [\"city_name\"]}\\nget_product_name_by_amazon_ASIN: Finds the price of a product by its Amazon ASIN. | Parameters: {\"type\": \"dict\", \"properties\": {\"ASIN\": {\"type\": \"string\", \"description\": \"The Amazon ASIN of the product.\"}}, \"required\": [\"ASIN\"]}\\nget_price_by_amazon_ASIN: Finds the price of a product by its Amazon ASIN. | Parameters: {\"type\": \"dict\", \"properties\": {\"ASIN\": {\"type\": \"string\", \"description\": \"The Amazon ASIN of the product.\"}}, \"required\": [\"ASIN\"]}\\nget_prime_factors: Calculates the prime factors of a number. | Parameters: {\"type\": \"dict\", \"properties\": {\"number\": {\"type\": \"integer\", \"description\": \"The number to calculate the prime factors of.\"}}, \"required\": [\"number\"]}\\nretrieve_city_based_on_zipcode: Finds the city of a zipcode. | Parameters: {\"type\": \"dict\", \"properties\": {\"zipcode\": {\"type\": \"string\", \"description\": \"The zipcode of the city.\"}}, \"required\": [\"zipcode\"]}\\nmath_factorial: Calculates the factorial of a number. | Parameters: {\"type\": \"dict\", \"properties\": {\"n\": {\"type\": \"integer\", \"description\": \"The number to calculate the factorial of.\"}}, \"required\": [\"n\"]}\\nquadratic_roots: Calculates the roots of a quadratic equation. | Parameters: {\"type\": \"dict\", \"properties\": {\"a\": {\"type\": \"integer\", \"description\": \"The first coefficient.\"}, \"b\": {\"type\": \"integer\", \"description\": \"The second coefficient.\"}, \"c\": {\"type\": \"integer\", \"description\": \"The third coefficient.\"}}, \"required\": [\"a\", \"b\", \"c\"]}\\nadd_binary_numbers: Adds two binary numbers. | Parameters: {\"type\": \"dict\", \"properties\": {\"a\": {\"type\": \"string\", \"description\": \"The first binary number.\"}, \"b\": {\"type\": \"string\", \"description\": \"The second binary number.\"}}, \"required\": [\"a\", \"b\"]}\\nconvert_binary_to_decimal: Converts a binary number to a decimal number. | Parameters: {\"type\": \"dict\", \"properties\": {\"binary\": {\"type\": \"string\", \"description\": \"The binary number to convert.\"}}, \"required\": [\"binary\"]}\\nconvert_decimal_to_hex: Converts a decimal number to a hexadecimal number. | Parameters: {\"type\": \"dict\", \"properties\": {\"decimal\": {\"type\": \"integer\", \"description\": \"The decimal number to convert.\"}}, \"required\": [\"decimal\"]}\\nlinear_regression: Finds the linear regression of a set of points and evaluates it at a given point. | Parameters: {\"type\": \"dict\", \"properties\": {\"x\": {\"type\": \"array\", \"description\": \"The x coordinates of the points.\", \"items\": {\"type\": \"integer\"}}, \"y\": {\"type\": \"array\", \"description\": \"The y coordinates of the points.\", \"items\": {\"type\": \"integer\"}}, \"point\": {\"type\": \"integer\", \"description\": \"The point to calculate the linear regression at.\"}}, \"required\": [\"x\", \"y\", \"point\"]}\\ncalculate_slope: Calculates the slope of the linear regression line from a set of points. | Parameters: {\"type\": \"dict\", \"properties\": {\"x\": {\"type\": \"array\", \"description\": \"The x coordinates of the points.\", \"items\": {\"type\": \"integer\"}}, \"y\": {\"type\": \"array\", \"description\": \"The y coordinates of the points.\", \"items\": {\"type\": \"integer\"}}}, \"required\": [\"x\", \"y\"]}\\ncalculate_intercept: Calculates the y-intercept of the linear regression line from a set of points and a given slope. | Parameters: {\"type\": \"dict\", \"properties\": {\"x\": {\"type\": \"array\", \"description\": \"The x coordinates of the points.\", \"items\": {\"type\": \"integer\"}}, \"y\": {\"type\": \"array\", \"description\": \"The y coordinates of the points.\", \"items\": {\"type\": \"integer\"}}, \"slope\": {\"type\": \"integer\", \"description\": \"The slope of the linear regression line.\"}}, \"required\": [\"x\", \"y\", \"slope\"]}\\npredict_value: Predicts the value of y given the slope, intercept, and an x value. | Parameters: {\"type\": \"dict\", \"properties\": {\"slope\": {\"type\": \"integer\", \"description\": \"The slope of the linear regression line.\"}, \"intercept\": {\"type\": \"integer\", \"description\": \"The y-intercept of the linear regression line.\"}, \"x\": {\"type\": \"integer\", \"description\": \"The x value to predict the y for.\"}}, \"required\": [\"slope\", \"intercept\", \"x\"]}\\ncalculate_investment_value: Calculates the value of an investment over time. | Parameters: {\"type\": \"dict\", \"properties\": {\"initial_investment\": {\"type\": \"integer\", \"description\": \"The initial investment amount.\"}, \"annual_contribution\": {\"type\": \"integer\", \"description\": \"The annual contribution amount.\"}, \"years\": {\"type\": \"integer\", \"description\": \"The number of years to calculate the investment value for.\"}, \"annual_return\": {\"type\": \"float\", \"description\": \"The annual return rate, ranging from 0 to 1.\"}, \"inflation_rate\": {\"type\": \"array\", \"items\": {\"type\": \"float\"}, \"description\": \"The inflation rate for each year in percentage, ranging from 0 to 1.\"}, \"adjust_for_inflation\": {\"type\": \"boolean\", \"default\": true, \"description\": \"Whether to adjust the investment value for inflation.\"}}, \"required\": [\"initial_investment\", \"annual_contribution\", \"years\", \"annual_return\", \"inflation_rate\"]}\\ncompound_interest: Calculates compound interest over time. | Parameters: {\"type\": \"dict\", \"properties\": {\"principal\": {\"type\": \"integer\", \"description\": \"The principal amount.\"}, \"rate\": {\"type\": \"float\", \"description\": \"The annual interest rate.\"}, \"times_compounded\": {\"type\": \"integer\", \"description\": \"The number of times the interest is compounded per year.\"}, \"years\": {\"type\": \"integer\", \"description\": \"The number of years to calculate the compound interest for.\"}}, \"required\": [\"principal\", \"rate\", \"times_compounded\", \"years\"]}\\ninflation_adjustment: Adjusts an amount for inflation. | Parameters: {\"type\": \"dict\", \"properties\": {\"amount\": {\"type\": \"float\", \"description\": \"The amount to adjust for inflation.\"}, \"inflation_rate\": {\"type\": \"float\", \"description\": \"The annual inflation float.\"}, \"years\": {\"type\": \"integer\", \"description\": \"The number of years to adjust for inflation.\"}}, \"required\": [\"amount\", \"inflation_rate\", \"years\"]}\\nadjust_for_inflation: Adjusts the investment value for inflation for each year. | Parameters: {\"type\": \"dict\", \"properties\": {\"investment_value\": {\"type\": \"float\", \"description\": \"The value of the investment to adjust.\"}, \"inflation_rates\": {\"type\": \"array\", \"items\": {\"type\": \"float\"}, \"description\": \"The inflation rates for each year.\"}}, \"required\": [\"investment_value\", \"inflation_rates\"]}\\ncalculate_basal_metabolic_rate: Calculates the Basal Metabolic Rate (BMR) of a person. | Parameters: {\"type\": \"dict\", \"properties\": {\"weight\": {\"type\": \"float\", \"description\": \"The weight of the person in kilograms.\"}, \"height\": {\"type\": \"float\", \"description\": \"The height of the person in centimeters.\"}, \"age\": {\"type\": \"float\", \"description\": \"The age of the person in years.\"}, \"gender\": {\"type\": \"string\", \"description\": \"The gender of the person. Possible options [male, female, other].\"}}, \"required\": [\"weight\", \"height\", \"age\", \"gender\"]}\\ncalculate_daily_energy_expenditure: Calculates the daily energy expenditure based on BMR and activity level. | Parameters: {\"type\": \"dict\", \"properties\": {\"basal_metabolic_rate\": {\"type\": \"float\", \"description\": \"The BMR of the person.\"}, \"activity_level\": {\"type\": \"float\", \"description\": \"The activity level of the person. Possible options [1,2,3,4,5].\"}}, \"required\": [\"basal_metabolic_rate\", \"activity_level\"]}\\ncalculate_nutritional_needs: Calculates the nutritional needs of a person based on their weight, height, age, gender, activity level, and goal. | Parameters: {\"type\": \"dict\", \"properties\": {\"weight\": {\"type\": \"float\", \"description\": \"The weight of the person in kilograms.\"}, \"height\": {\"type\": \"float\", \"description\": \"The height of the person in centimeters.\"}, \"age\": {\"type\": \"float\", \"description\": \"The age of the person in years.\"}, \"gender\": {\"type\": \"string\", \"description\": \"The gender of the person. Possible options [male, female, other].\"}, \"activity_level\": {\"type\": \"float\", \"description\": \"The activity level of the person. Possible options [1,2,3,4,5].\"}, \"goal\": {\"type\": \"string\", \"description\": \"The goal of the person. Possible options [lose, gain, maintain].\"}}, \"required\": [\"weight\", \"height\", \"age\", \"gender\", \"activity_level\", \"goal\"]}\\nbook_room: Books a room for a customer. | Parameters: {\"type\": \"dict\", \"properties\": {\"room_type\": {\"type\": \"dict\", \"description\": \"The room type to book.\"}, \"check_in_date\": {\"type\": \"string\", \"description\": \"The check-in date in format of MM-DD-YYYY.\"}, \"check_out_date\": {\"type\": \"string\", \"description\": \"The check-out date in format of MM-DD-YYYY.\"}, \"customer_id\": {\"type\": \"string\", \"description\": \"The customer ID.\"}, \"discount_code\": {\"type\": \"string\", \"description\": \"The discount code (if any).\", \"default\": null}}, \"required\": [\"room_type\", \"check_in_date\", \"check_out_date\", \"customer_id\"]}\\ncalculate_total_price: Calculates the total price of the room booking. | Parameters: {\"type\": \"dict\", \"properties\": {\"room_price\": {\"type\": \"float\", \"description\": \"The price per night of the room.\"}, \"nights\": {\"type\": \"integer\", \"description\": \"The number of nights for the booking.\"}, \"discount\": {\"type\": \"float\", \"description\": \"The discount amount (if any).\", \"default\": 0}}, \"required\": [\"room_price\", \"nights\"]}\\nconfirm_booking: Confirms the room booking and sends a confirmation to the customer. | Parameters: {\"type\": \"dict\", \"properties\": {\"customer_id\": {\"type\": \"string\", \"description\": \"The customer ID.\"}, \"room_number\": {\"type\": \"string\", \"description\": \"The room number assigned to the booking.\"}, \"total_price\": {\"type\": \"float\", \"description\": \"The total price for the booking.\"}}, \"required\": [\"customer_id\", \"room_number\", \"total_price\"]}\\norder_food: Orders food for a customer. Return the total price. | Parameters: {\"type\": \"dict\", \"properties\": {\"item\": {\"type\": \"array\", \"items\": {\"type\": \"string\"}, \"description\": \"the name of the product.\"}, \"quantity\": {\"type\": \"array\", \"items\": {\"type\": \"integer\"}, \"description\": \"the number of the product purchased.\"}, \"price\": {\"type\": \"array\", \"items\": {\"type\": \"float\"}, \"description\": \"the price of the product.\"}}, \"required\": [\"item\", \"quantity\", \"price\"]}\\ncalculate_total: Calculates the total price of an order given the quantities and prices. | Parameters: {\"type\": \"dict\", \"properties\": {\"quantities\": {\"type\": \"array\", \"items\": {\"type\": \"integer\"}, \"description\": \"The quantities of each product.\"}, \"prices\": {\"type\": \"array\", \"items\": {\"type\": \"float\"}, \"description\": \"The price of each product.\"}}, \"required\": [\"quantities\", \"prices\"]}\\napply_discount: Applies a discount to the total price. | Parameters: {\"type\": \"dict\", \"properties\": {\"total\": {\"type\": \"float\", \"description\": \"The original total price.\"}, \"discount\": {\"type\": \"float\", \"description\": \"The discount percentage to apply.\"}}, \"required\": [\"total\", \"discount\"]}\\nget_movie_director: Fetches the director of a movie from the OMDB API. | Parameters: {\"type\": \"dict\", \"properties\": {\"movie_name\": {\"type\": \"string\", \"description\": \"The name of the movie.\"}}, \"required\": [\"movie_name\"]}\\ncalculate_interest_rate: Calculates the interest rate for a given principal, rate, and time. | Parameters: {\"type\": \"dict\", \"properties\": {\"principal\": {\"type\": \"float\", \"description\": \"The initial amount of money.\"}, \"rate\": {\"type\": \"float\", \"description\": \"The interest rate per period.\"}, \"time\": {\"type\": \"float\", \"description\": \"The time the money is invested or borrowed for.\"}}, \"required\": [\"principal\", \"rate\", \"time\"]}\\nconvert_temperature: Converts temperature from Celsius to Fahrenheit or vice versa. | Parameters: {\"type\": \"dict\", \"properties\": {\"temperature\": {\"type\": \"float\", \"description\": \"The temperature to convert.\"}, \"unit_from\": {\"type\": \"string\", \"description\": \"The current unit of the temperature (Celsius or Fahrenheit).\"}, \"unit_to\": {\"type\": \"string\", \"description\": \"The unit to convert the temperature to (Celsius or Fahrenheit).\"}}, \"required\": [\"temperature\", \"unit_from\", \"unit_to\"]}\\ngenerate_random_number: Generates a random number within a specified range. | Parameters: {\"type\": \"dict\", \"properties\": {\"min\": {\"type\": \"integer\", \"description\": \"The minimum value of the range.\"}, \"max\": {\"type\": \"integer\", \"description\": \"The maximum value of the range.\"}}, \"required\": [\"min\", \"max\"]}\\nget_movie_rating: Fetches the age rating of a movie from the OMDB API. | Parameters: {\"type\": \"dict\", \"properties\": {\"movie_name\": {\"type\": \"string\", \"description\": \"The name of the movie.\"}}, \"required\": [\"movie_name\"]}\\nget_movie_genre: Retrieves the genre of a movie from the OMDB API. | Parameters: {\"type\": \"dict\", \"properties\": {\"movie_name\": {\"type\": \"string\", \"description\": \"The name of the movie to retrieve the genre for.\"}}, \"required\": [\"movie_name\"]}\\nget_director_by_movie_name: Gets the director of a movie. | Parameters: {\"type\": \"dict\", \"properties\": {\"movie_name\": {\"type\": \"string\", \"description\": \"The movie to find the director of.\"}}, \"required\": [\"movie_name\"]}\\nconvert_coordinates: Converts a list of tuples into a list of lists. | Parameters: {\"type\": \"dict\", \"properties\": {\"coordinates\": {\"type\": \"array\", \"items\": {\"type\": \"tuple\", \"items\": {\"type\": \"float\"}, \"description\": \"A single coordinate represented by a tuple (x, y).\"}, \"description\": \"The coordinates to be converted, where each coordinate is a tuple (x, y).\"}}, \"required\": [\"coordinates\"]}\\npolygon_area: Calculate the area of a polygon given its vertices using the shoelace formula. | Parameters: {\"type\": \"dict\", \"properties\": {\"vertices\": {\"type\": \"array\", \"items\": {\"type\": \"array\", \"items\": {\"type\": \"float\"}, \"minItems\": 2, \"maxItems\": 2, \"description\": \"A single vertex represented by a 2 element list [x, y].\"}, \"description\": \"The vertices of the polygon, where each vertex is a 2 element list [x, y].\"}}, \"required\": [\"vertices\"]}\\nvalidate_polygon: Checks if the given vertices form a valid polygon. | Parameters: {\"type\": \"dict\", \"properties\": {\"vertices\": {\"type\": \"array\", \"items\": {\"type\": \"array\", \"items\": {\"type\": \"float\"}, \"description\": \"A single vertex represented by a 2 element list [x, y].\"}, \"description\": \"The vertices of the polygon, where each vertex is a 2 element list [x, y].\"}}, \"required\": [\"vertices\"]}  \n",
       "1  get_weather_data: Fetches weather data from the Open-Meteo API for the given latitude and longitude. | Parameters: {\"type\": \"dict\", \"properties\": {\"coordinates\": {\"type\": \"array\", \"items\": {\"type\": \"float\"}, \"description\": \"The latitude and longitude of the location.\"}}, \"required\": [\"coordinates\"]}\\ncalc_binomial_probability: Calculates the probability of getting k successes in n trials. | Parameters: {\"type\": \"dict\", \"properties\": {\"n\": {\"type\": \"integer\", \"description\": \"The number of trials.\"}, \"k\": {\"type\": \"integer\", \"description\": \"The number of successes.\"}, \"p\": {\"type\": \"float\", \"description\": \"The probability of success.\"}}, \"required\": [\"n\", \"k\", \"p\"]}\\ncalculate_cosine_similarity: Calculates the cosine similarity of two vectors. | Parameters: {\"type\": \"dict\", \"properties\": {\"vectorA\": {\"type\": \"array\", \"items\": {\"type\": \"float\"}, \"description\": \"The first vector.\"}, \"vectorB\": {\"type\": \"array\", \"items\": {\"type\": \"float\"}, \"description\": \"The second vector.\"}}, \"required\": [\"vectorA\", \"vectorB\"]}\\nget_stock_price_by_stock_name: Finds the price of a stock by its stock name. | Parameters: {\"type\": \"dict\", \"properties\": {\"stock_name\": {\"type\": \"string\", \"description\": \"The stock name of the product, in the format of the stock symbol.\"}}, \"required\": [\"stock_name\"]}\\ncalculate_density: Calculates the density of an object. | Parameters: {\"type\": \"dict\", \"properties\": {\"mass\": {\"type\": \"float\", \"description\": \"The mass of the object, in kilograms.\"}, \"volume\": {\"type\": \"float\", \"description\": \"The volume of the object, in cubic meters.\"}}, \"required\": [\"mass\", \"volume\"]}\\ncalculate_future_value: Calculates the future value of an investment. | Parameters: {\"type\": \"dict\", \"properties\": {\"present_value\": {\"type\": \"float\", \"description\": \"The present value of the investment, in dollars.\"}, \"interest_rate\": {\"type\": \"float\", \"description\": \"The interest rate of the investment, ranging from 0 to 1.\"}, \"periods\": {\"type\": \"integer\", \"description\": \"The number of periods, in years.\"}}, \"required\": [\"present_value\", \"interest_rate\", \"periods\"]}\\nget_rating_by_amazon_ASIN: Finds the rating of a product by its Amazon ASIN. | Parameters: {\"type\": \"dict\", \"properties\": {\"ASIN\": {\"type\": \"string\", \"description\": \"The Amazon ASIN of the product.\"}}, \"required\": [\"ASIN\"]}\\nretrieve_holiday_by_year: Finds the holidays of a year. | Parameters: {\"type\": \"dict\", \"properties\": {\"year\": {\"type\": \"string\", \"description\": \"The year of the holidays.\"}, \"country\": {\"type\": \"string\", \"description\": \"The country of the holidays. Possible options: US, AT, DE, ES, FR, GB, IT, NL, PL, RO, SK, UA.\"}}, \"required\": [\"year\", \"country\"]}\\ncalculate_displacement: Calculates the displacement of an object. | Parameters: {\"type\": \"dict\", \"properties\": {\"initial_velocity\": {\"type\": \"float\", \"description\": \"The initial velocity of the object, in meters per second.\"}, \"acceleration\": {\"type\": \"float\", \"description\": \"The acceleration of the object, in meters per second squared.\"}, \"time\": {\"type\": \"float\", \"description\": \"The time the object has been moving, in seconds.\"}}, \"required\": [\"initial_velocity\", \"acceleration\", \"time\"]}\\nget_zipcode_by_ip_address: Finds the zipcode of an IP address. | Parameters: {\"type\": \"dict\", \"properties\": {\"ip_address\": {\"type\": \"string\", \"description\": \"The IP address to find the location of.\"}}, \"required\": [\"ip_address\"]}\\ncalculate_electrostatic_potential_energy: Calculates the electrostatic potential energy. | Parameters: {\"type\": \"dict\", \"properties\": {\"charge\": {\"type\": \"float\", \"description\": \"The charge of the object, in coulombs.\"}, \"voltage\": {\"type\": \"float\", \"description\": \"The voltage of the object, in volts.\"}}, \"required\": [\"charge\", \"voltage\"]}\\nmortgage_calculator: Calculates the monthly mortgage payment. | Parameters: {\"type\": \"dict\", \"properties\": {\"loan_amount\": {\"type\": \"float\", \"description\": \"The amount of the loan.\"}, \"interest_rate\": {\"type\": \"float\", \"description\": \"The interest rate of the loan, ranging from 0 to 1.\"}, \"loan_period\": {\"type\": \"integer\", \"description\": \"The period of the loan, in years.\"}}, \"required\": [\"loan_amount\", \"interest_rate\", \"loan_period\"]}\\ncalculate_final_velocity: Calculates the final velocity of an object. | Parameters: {\"type\": \"dict\", \"properties\": {\"initial_velocity\": {\"type\": \"float\", \"description\": \"The initial velocity of the object.\"}, \"acceleration\": {\"type\": \"float\", \"description\": \"The acceleration of the object.\"}, \"time\": {\"type\": \"float\", \"description\": \"The time the object has been moving.\"}}, \"required\": [\"initial_velocity\", \"acceleration\", \"time\"]}\\nget_fibonacci_sequence: Calculates the n numbers of the Fibonacci. | Parameters: {\"type\": \"dict\", \"properties\": {\"n\": {\"type\": \"integer\", \"description\": \"The number of Fibonacci numbers to calculate.\"}}, \"required\": [\"n\"]}\\nsort_array: Sorts an array of numbers. | Parameters: {\"type\": \"dict\", \"properties\": {\"array\": {\"type\": \"array\", \"items\": {\"type\": \"float\"}, \"description\": \"The array of numbers.\"}, \"reverse\": {\"type\": \"boolean\", \"description\": \"Whether to sort the array in reverse order, i.e., descending order.\", \"default\": false}}, \"required\": [\"array\"]}\\nget_time_zone_by_coord: Finds the timezone of a coordinate. | Parameters: {\"type\": \"dict\", \"properties\": {\"long\": {\"type\": \"string\", \"description\": \"The longitude of the coordinate.\"}, \"lat\": {\"type\": \"string\", \"description\": \"The latitude of the coordinate.\"}}, \"required\": [\"long\", \"lat\"]}\\ncalculate_mean: Calculates the mean of a list of numbers. | Parameters: {\"type\": \"dict\", \"properties\": {\"numbers\": {\"type\": \"array\", \"items\": {\"type\": \"integer\"}, \"description\": \"The list of numbers.\"}}, \"required\": [\"numbers\"]}\\ncalculate_permutations: Calculates the number of permutations of k elements from a set of n elements. | Parameters: {\"type\": \"dict\", \"properties\": {\"n\": {\"type\": \"integer\", \"description\": \"The number of elements in the set.\"}, \"k\": {\"type\": \"integer\", \"description\": \"The number of elements to choose.\"}}, \"required\": [\"n\", \"k\"]}\\nget_company_name_by_stock_name: Finds the company name of a stock by its stock name. | Parameters: {\"type\": \"dict\", \"properties\": {\"stock_name\": {\"type\": \"string\", \"description\": \"The stock name of the product, in the format of the stock symbol.\"}}, \"required\": [\"stock_name\"]}\\ncalculate_standard_deviation: Calculates the standard deviation of a list of numbers. | Parameters: {\"type\": \"dict\", \"properties\": {\"numbers\": {\"type\": \"array\", \"items\": {\"type\": \"integer\"}, \"description\": \"The list of numbers.\"}}, \"required\": [\"numbers\"]}\\nmath_lcm: Calculates the least common multiple of two numbers. | Parameters: {\"type\": \"dict\", \"properties\": {\"a\": {\"type\": \"integer\", \"description\": \"The first number. This should be the larger number.\"}, \"b\": {\"type\": \"integer\", \"description\": \"The second number.\"}}, \"required\": [\"a\", \"b\"]}\\ncalculate_triangle_area: Calculates the area of a triangle given its base and height. | Parameters: {\"type\": \"dict\", \"properties\": {\"base\": {\"type\": \"integer\", \"description\": \"The base of the triangle, in meters.\"}, \"height\": {\"type\": \"integer\", \"description\": \"The height of the triangle, in meters.\"}}, \"required\": [\"base\", \"height\"]}\\nconvert_currency: Converts a given amount from one currency to another using the ExchangeRate-API. | Parameters: {\"type\": \"dict\", \"properties\": {\"amount\": {\"type\": \"float\", \"description\": \"The amount of money to convert, in the base currency.\"}, \"from_currency\": {\"type\": \"string\", \"description\": \"The ISO currency code for the base currency.\"}, \"to_currency\": {\"type\": \"string\", \"description\": \"The ISO currency code for the target currency.\"}}, \"required\": [\"amount\", \"from_currency\", \"to_currency\"]}\\nget_stock_history: Finds the price of a stock by its stock name. | Parameters: {\"type\": \"dict\", \"properties\": {\"stock_name\": {\"type\": \"string\", \"description\": \"The stock name of the product, in the format of the stock symbol.\"}, \"interval\": {\"type\": \"string\", \"description\": \"The interval of the stock history. Allows one of following : 5m|15m|30m|1h|1d|1wk|1mo|3mo\"}, \"diffandsplits\": {\"type\": \"string\", \"description\": \"The diff and splits of the stock history. Allows one of following : true|false. Default to false\"}}, \"required\": [\"stock_name\", \"interval\"]}\\nmath_gcd: Calculates the greatest common divisor of two numbers. | Parameters: {\"type\": \"dict\", \"properties\": {\"a\": {\"type\": \"integer\", \"description\": \"The first number. This should be the larger number.\"}, \"b\": {\"type\": \"integer\", \"description\": \"The second number.\"}}, \"required\": [\"a\", \"b\"]}\\nestimate_derivative: Estimate the derivative of a function at a given point. | Parameters: {\"type\": \"dict\", \"properties\": {\"function\": {\"type\": \"string\", \"description\": \"The function to calculate the derivative of. This should be the string literal of lambda function\"}, \"x\": {\"type\": \"integer\", \"description\": \"The point to calculate the derivative at.\"}}, \"required\": [\"function\", \"x\"]}\\nfind_term_on_urban_dictionary: Finds the definition of a term on Urban Dictionary. | Parameters: {\"type\": \"dict\", \"properties\": {\"term\": {\"type\": \"string\", \"description\": \"The term to find the definition of.\"}}, \"required\": [\"term\"]}\\nget_distance: Calculates the distance between two 2D points. | Parameters: {\"type\": \"dict\", \"properties\": {\"pointA\": {\"type\": \"tuple\", \"description\": \"The first point.\", \"items\": {\"type\": \"float\"}}, \"pointB\": {\"type\": \"tuple\", \"description\": \"The second point.\", \"items\": {\"type\": \"float\"}}}, \"required\": [\"pointA\", \"pointB\"]}\\ngeometry_area_circle: Calculates the area of a circle. | Parameters: {\"type\": \"dict\", \"properties\": {\"radius\": {\"type\": \"integer\", \"description\": \"The radius of the circle, in feet.\"}}, \"required\": [\"radius\"]}\\nget_covid_death_by_country: Finds the most up to date total deaths of a country result from COVID. | Parameters: {\"type\": \"dict\", \"properties\": {\"country\": {\"type\": \"string\", \"description\": \"The country to find the total deaths of, in the format of the country's full name.\"}}, \"required\": [\"country\"]}\\nget_active_covid_case_by_country: Finds the most up to date active cases of a country result from COVID. | Parameters: {\"type\": \"dict\", \"properties\": {\"country\": {\"type\": \"string\", \"description\": \"The country to find the active cases of, in the format of the country's full name.\"}}, \"required\": [\"country\"]}\\nmat_mul: Multiplies two matrices. | Parameters: {\"type\": \"dict\", \"properties\": {\"matA\": {\"type\": \"array\", \"description\": \"The first matrix.\", \"items\": {\"type\": \"array\", \"items\": {\"type\": \"integer\"}}}, \"matB\": {\"type\": \"array\", \"description\": \"The second matrix.\", \"items\": {\"type\": \"array\", \"items\": {\"type\": \"integer\"}}}}, \"required\": [\"matA\", \"matB\"]}\\nget_coordinate_by_ip_address: Finds the latitude and longitude of an IP address. | Parameters: {\"type\": \"dict\", \"properties\": {\"ip_address\": {\"type\": \"string\", \"description\": \"The IP address to find the location of.\"}}, \"required\": [\"ip_address\"]}\\nget_coordinates_from_city: Fetches the latitude and longitude of a given city name using the Maps.co Geocoding API. | Parameters: {\"type\": \"dict\", \"properties\": {\"city_name\": {\"type\": \"string\", \"description\": \"The name of the city, such as 'Rome'.\"}}, \"required\": [\"city_name\"]}\\nget_product_name_by_amazon_ASIN: Finds the price of a product by its Amazon ASIN. | Parameters: {\"type\": \"dict\", \"properties\": {\"ASIN\": {\"type\": \"string\", \"description\": \"The Amazon ASIN of the product.\"}}, \"required\": [\"ASIN\"]}\\nget_price_by_amazon_ASIN: Finds the price of a product by its Amazon ASIN. | Parameters: {\"type\": \"dict\", \"properties\": {\"ASIN\": {\"type\": \"string\", \"description\": \"The Amazon ASIN of the product.\"}}, \"required\": [\"ASIN\"]}\\nget_prime_factors: Calculates the prime factors of a number. | Parameters: {\"type\": \"dict\", \"properties\": {\"number\": {\"type\": \"integer\", \"description\": \"The number to calculate the prime factors of.\"}}, \"required\": [\"number\"]}\\nretrieve_city_based_on_zipcode: Finds the city of a zipcode. | Parameters: {\"type\": \"dict\", \"properties\": {\"zipcode\": {\"type\": \"string\", \"description\": \"The zipcode of the city.\"}}, \"required\": [\"zipcode\"]}\\nmath_factorial: Calculates the factorial of a number. | Parameters: {\"type\": \"dict\", \"properties\": {\"n\": {\"type\": \"integer\", \"description\": \"The number to calculate the factorial of.\"}}, \"required\": [\"n\"]}\\nquadratic_roots: Calculates the roots of a quadratic equation. | Parameters: {\"type\": \"dict\", \"properties\": {\"a\": {\"type\": \"integer\", \"description\": \"The first coefficient.\"}, \"b\": {\"type\": \"integer\", \"description\": \"The second coefficient.\"}, \"c\": {\"type\": \"integer\", \"description\": \"The third coefficient.\"}}, \"required\": [\"a\", \"b\", \"c\"]}\\nadd_binary_numbers: Adds two binary numbers. | Parameters: {\"type\": \"dict\", \"properties\": {\"a\": {\"type\": \"string\", \"description\": \"The first binary number.\"}, \"b\": {\"type\": \"string\", \"description\": \"The second binary number.\"}}, \"required\": [\"a\", \"b\"]}\\nconvert_binary_to_decimal: Converts a binary number to a decimal number. | Parameters: {\"type\": \"dict\", \"properties\": {\"binary\": {\"type\": \"string\", \"description\": \"The binary number to convert.\"}}, \"required\": [\"binary\"]}\\nconvert_decimal_to_hex: Converts a decimal number to a hexadecimal number. | Parameters: {\"type\": \"dict\", \"properties\": {\"decimal\": {\"type\": \"integer\", \"description\": \"The decimal number to convert.\"}}, \"required\": [\"decimal\"]}\\nlinear_regression: Finds the linear regression of a set of points and evaluates it at a given point. | Parameters: {\"type\": \"dict\", \"properties\": {\"x\": {\"type\": \"array\", \"description\": \"The x coordinates of the points.\", \"items\": {\"type\": \"integer\"}}, \"y\": {\"type\": \"array\", \"description\": \"The y coordinates of the points.\", \"items\": {\"type\": \"integer\"}}, \"point\": {\"type\": \"integer\", \"description\": \"The point to calculate the linear regression at.\"}}, \"required\": [\"x\", \"y\", \"point\"]}\\ncalculate_slope: Calculates the slope of the linear regression line from a set of points. | Parameters: {\"type\": \"dict\", \"properties\": {\"x\": {\"type\": \"array\", \"description\": \"The x coordinates of the points.\", \"items\": {\"type\": \"integer\"}}, \"y\": {\"type\": \"array\", \"description\": \"The y coordinates of the points.\", \"items\": {\"type\": \"integer\"}}}, \"required\": [\"x\", \"y\"]}\\ncalculate_intercept: Calculates the y-intercept of the linear regression line from a set of points and a given slope. | Parameters: {\"type\": \"dict\", \"properties\": {\"x\": {\"type\": \"array\", \"description\": \"The x coordinates of the points.\", \"items\": {\"type\": \"integer\"}}, \"y\": {\"type\": \"array\", \"description\": \"The y coordinates of the points.\", \"items\": {\"type\": \"integer\"}}, \"slope\": {\"type\": \"integer\", \"description\": \"The slope of the linear regression line.\"}}, \"required\": [\"x\", \"y\", \"slope\"]}\\npredict_value: Predicts the value of y given the slope, intercept, and an x value. | Parameters: {\"type\": \"dict\", \"properties\": {\"slope\": {\"type\": \"integer\", \"description\": \"The slope of the linear regression line.\"}, \"intercept\": {\"type\": \"integer\", \"description\": \"The y-intercept of the linear regression line.\"}, \"x\": {\"type\": \"integer\", \"description\": \"The x value to predict the y for.\"}}, \"required\": [\"slope\", \"intercept\", \"x\"]}\\ncalculate_investment_value: Calculates the value of an investment over time. | Parameters: {\"type\": \"dict\", \"properties\": {\"initial_investment\": {\"type\": \"integer\", \"description\": \"The initial investment amount.\"}, \"annual_contribution\": {\"type\": \"integer\", \"description\": \"The annual contribution amount.\"}, \"years\": {\"type\": \"integer\", \"description\": \"The number of years to calculate the investment value for.\"}, \"annual_return\": {\"type\": \"float\", \"description\": \"The annual return rate, ranging from 0 to 1.\"}, \"inflation_rate\": {\"type\": \"array\", \"items\": {\"type\": \"float\"}, \"description\": \"The inflation rate for each year in percentage, ranging from 0 to 1.\"}, \"adjust_for_inflation\": {\"type\": \"boolean\", \"default\": true, \"description\": \"Whether to adjust the investment value for inflation.\"}}, \"required\": [\"initial_investment\", \"annual_contribution\", \"years\", \"annual_return\", \"inflation_rate\"]}\\ncompound_interest: Calculates compound interest over time. | Parameters: {\"type\": \"dict\", \"properties\": {\"principal\": {\"type\": \"integer\", \"description\": \"The principal amount.\"}, \"rate\": {\"type\": \"float\", \"description\": \"The annual interest rate.\"}, \"times_compounded\": {\"type\": \"integer\", \"description\": \"The number of times the interest is compounded per year.\"}, \"years\": {\"type\": \"integer\", \"description\": \"The number of years to calculate the compound interest for.\"}}, \"required\": [\"principal\", \"rate\", \"times_compounded\", \"years\"]}\\ninflation_adjustment: Adjusts an amount for inflation. | Parameters: {\"type\": \"dict\", \"properties\": {\"amount\": {\"type\": \"float\", \"description\": \"The amount to adjust for inflation.\"}, \"inflation_rate\": {\"type\": \"float\", \"description\": \"The annual inflation float.\"}, \"years\": {\"type\": \"integer\", \"description\": \"The number of years to adjust for inflation.\"}}, \"required\": [\"amount\", \"inflation_rate\", \"years\"]}\\nadjust_for_inflation: Adjusts the investment value for inflation for each year. | Parameters: {\"type\": \"dict\", \"properties\": {\"investment_value\": {\"type\": \"float\", \"description\": \"The value of the investment to adjust.\"}, \"inflation_rates\": {\"type\": \"array\", \"items\": {\"type\": \"float\"}, \"description\": \"The inflation rates for each year.\"}}, \"required\": [\"investment_value\", \"inflation_rates\"]}\\ncalculate_basal_metabolic_rate: Calculates the Basal Metabolic Rate (BMR) of a person. | Parameters: {\"type\": \"dict\", \"properties\": {\"weight\": {\"type\": \"float\", \"description\": \"The weight of the person in kilograms.\"}, \"height\": {\"type\": \"float\", \"description\": \"The height of the person in centimeters.\"}, \"age\": {\"type\": \"float\", \"description\": \"The age of the person in years.\"}, \"gender\": {\"type\": \"string\", \"description\": \"The gender of the person. Possible options [male, female, other].\"}}, \"required\": [\"weight\", \"height\", \"age\", \"gender\"]}\\ncalculate_daily_energy_expenditure: Calculates the daily energy expenditure based on BMR and activity level. | Parameters: {\"type\": \"dict\", \"properties\": {\"basal_metabolic_rate\": {\"type\": \"float\", \"description\": \"The BMR of the person.\"}, \"activity_level\": {\"type\": \"float\", \"description\": \"The activity level of the person. Possible options [1,2,3,4,5].\"}}, \"required\": [\"basal_metabolic_rate\", \"activity_level\"]}\\ncalculate_nutritional_needs: Calculates the nutritional needs of a person based on their weight, height, age, gender, activity level, and goal. | Parameters: {\"type\": \"dict\", \"properties\": {\"weight\": {\"type\": \"float\", \"description\": \"The weight of the person in kilograms.\"}, \"height\": {\"type\": \"float\", \"description\": \"The height of the person in centimeters.\"}, \"age\": {\"type\": \"float\", \"description\": \"The age of the person in years.\"}, \"gender\": {\"type\": \"string\", \"description\": \"The gender of the person. Possible options [male, female, other].\"}, \"activity_level\": {\"type\": \"float\", \"description\": \"The activity level of the person. Possible options [1,2,3,4,5].\"}, \"goal\": {\"type\": \"string\", \"description\": \"The goal of the person. Possible options [lose, gain, maintain].\"}}, \"required\": [\"weight\", \"height\", \"age\", \"gender\", \"activity_level\", \"goal\"]}\\nbook_room: Books a room for a customer. | Parameters: {\"type\": \"dict\", \"properties\": {\"room_type\": {\"type\": \"dict\", \"description\": \"The room type to book.\"}, \"check_in_date\": {\"type\": \"string\", \"description\": \"The check-in date in format of MM-DD-YYYY.\"}, \"check_out_date\": {\"type\": \"string\", \"description\": \"The check-out date in format of MM-DD-YYYY.\"}, \"customer_id\": {\"type\": \"string\", \"description\": \"The customer ID.\"}, \"discount_code\": {\"type\": \"string\", \"description\": \"The discount code (if any).\", \"default\": null}}, \"required\": [\"room_type\", \"check_in_date\", \"check_out_date\", \"customer_id\"]}\\ncalculate_total_price: Calculates the total price of the room booking. | Parameters: {\"type\": \"dict\", \"properties\": {\"room_price\": {\"type\": \"float\", \"description\": \"The price per night of the room.\"}, \"nights\": {\"type\": \"integer\", \"description\": \"The number of nights for the booking.\"}, \"discount\": {\"type\": \"float\", \"description\": \"The discount amount (if any).\", \"default\": 0}}, \"required\": [\"room_price\", \"nights\"]}\\nconfirm_booking: Confirms the room booking and sends a confirmation to the customer. | Parameters: {\"type\": \"dict\", \"properties\": {\"customer_id\": {\"type\": \"string\", \"description\": \"The customer ID.\"}, \"room_number\": {\"type\": \"string\", \"description\": \"The room number assigned to the booking.\"}, \"total_price\": {\"type\": \"float\", \"description\": \"The total price for the booking.\"}}, \"required\": [\"customer_id\", \"room_number\", \"total_price\"]}\\norder_food: Orders food for a customer. Return the total price. | Parameters: {\"type\": \"dict\", \"properties\": {\"item\": {\"type\": \"array\", \"items\": {\"type\": \"string\"}, \"description\": \"the name of the product.\"}, \"quantity\": {\"type\": \"array\", \"items\": {\"type\": \"integer\"}, \"description\": \"the number of the product purchased.\"}, \"price\": {\"type\": \"array\", \"items\": {\"type\": \"float\"}, \"description\": \"the price of the product.\"}}, \"required\": [\"item\", \"quantity\", \"price\"]}\\ncalculate_total: Calculates the total price of an order given the quantities and prices. | Parameters: {\"type\": \"dict\", \"properties\": {\"quantities\": {\"type\": \"array\", \"items\": {\"type\": \"integer\"}, \"description\": \"The quantities of each product.\"}, \"prices\": {\"type\": \"array\", \"items\": {\"type\": \"float\"}, \"description\": \"The price of each product.\"}}, \"required\": [\"quantities\", \"prices\"]}\\napply_discount: Applies a discount to the total price. | Parameters: {\"type\": \"dict\", \"properties\": {\"total\": {\"type\": \"float\", \"description\": \"The original total price.\"}, \"discount\": {\"type\": \"float\", \"description\": \"The discount percentage to apply.\"}}, \"required\": [\"total\", \"discount\"]}\\nget_movie_director: Fetches the director of a movie from the OMDB API. | Parameters: {\"type\": \"dict\", \"properties\": {\"movie_name\": {\"type\": \"string\", \"description\": \"The name of the movie.\"}}, \"required\": [\"movie_name\"]}\\ncalculate_interest_rate: Calculates the interest rate for a given principal, rate, and time. | Parameters: {\"type\": \"dict\", \"properties\": {\"principal\": {\"type\": \"float\", \"description\": \"The initial amount of money.\"}, \"rate\": {\"type\": \"float\", \"description\": \"The interest rate per period.\"}, \"time\": {\"type\": \"float\", \"description\": \"The time the money is invested or borrowed for.\"}}, \"required\": [\"principal\", \"rate\", \"time\"]}\\nconvert_temperature: Converts temperature from Celsius to Fahrenheit or vice versa. | Parameters: {\"type\": \"dict\", \"properties\": {\"temperature\": {\"type\": \"float\", \"description\": \"The temperature to convert.\"}, \"unit_from\": {\"type\": \"string\", \"description\": \"The current unit of the temperature (Celsius or Fahrenheit).\"}, \"unit_to\": {\"type\": \"string\", \"description\": \"The unit to convert the temperature to (Celsius or Fahrenheit).\"}}, \"required\": [\"temperature\", \"unit_from\", \"unit_to\"]}\\ngenerate_random_number: Generates a random number within a specified range. | Parameters: {\"type\": \"dict\", \"properties\": {\"min\": {\"type\": \"integer\", \"description\": \"The minimum value of the range.\"}, \"max\": {\"type\": \"integer\", \"description\": \"The maximum value of the range.\"}}, \"required\": [\"min\", \"max\"]}\\nget_movie_rating: Fetches the age rating of a movie from the OMDB API. | Parameters: {\"type\": \"dict\", \"properties\": {\"movie_name\": {\"type\": \"string\", \"description\": \"The name of the movie.\"}}, \"required\": [\"movie_name\"]}\\nget_movie_genre: Retrieves the genre of a movie from the OMDB API. | Parameters: {\"type\": \"dict\", \"properties\": {\"movie_name\": {\"type\": \"string\", \"description\": \"The name of the movie to retrieve the genre for.\"}}, \"required\": [\"movie_name\"]}\\nget_director_by_movie_name: Gets the director of a movie. | Parameters: {\"type\": \"dict\", \"properties\": {\"movie_name\": {\"type\": \"string\", \"description\": \"The movie to find the director of.\"}}, \"required\": [\"movie_name\"]}\\nconvert_coordinates: Converts a list of tuples into a list of lists. | Parameters: {\"type\": \"dict\", \"properties\": {\"coordinates\": {\"type\": \"array\", \"items\": {\"type\": \"tuple\", \"items\": {\"type\": \"float\"}, \"description\": \"A single coordinate represented by a tuple (x, y).\"}, \"description\": \"The coordinates to be converted, where each coordinate is a tuple (x, y).\"}}, \"required\": [\"coordinates\"]}\\npolygon_area: Calculate the area of a polygon given its vertices using the shoelace formula. | Parameters: {\"type\": \"dict\", \"properties\": {\"vertices\": {\"type\": \"array\", \"items\": {\"type\": \"array\", \"items\": {\"type\": \"float\"}, \"minItems\": 2, \"maxItems\": 2, \"description\": \"A single vertex represented by a 2 element list [x, y].\"}, \"description\": \"The vertices of the polygon, where each vertex is a 2 element list [x, y].\"}}, \"required\": [\"vertices\"]}\\nvalidate_polygon: Checks if the given vertices form a valid polygon. | Parameters: {\"type\": \"dict\", \"properties\": {\"vertices\": {\"type\": \"array\", \"items\": {\"type\": \"array\", \"items\": {\"type\": \"float\"}, \"description\": \"A single vertex represented by a 2 element list [x, y].\"}, \"description\": \"The vertices of the polygon, where each vertex is a 2 element list [x, y].\"}}, \"required\": [\"vertices\"]}  \n",
       "2  get_weather_data: Fetches weather data from the Open-Meteo API for the given latitude and longitude. | Parameters: {\"type\": \"dict\", \"properties\": {\"coordinates\": {\"type\": \"array\", \"items\": {\"type\": \"float\"}, \"description\": \"The latitude and longitude of the location.\"}}, \"required\": [\"coordinates\"]}\\ncalc_binomial_probability: Calculates the probability of getting k successes in n trials. | Parameters: {\"type\": \"dict\", \"properties\": {\"n\": {\"type\": \"integer\", \"description\": \"The number of trials.\"}, \"k\": {\"type\": \"integer\", \"description\": \"The number of successes.\"}, \"p\": {\"type\": \"float\", \"description\": \"The probability of success.\"}}, \"required\": [\"n\", \"k\", \"p\"]}\\ncalculate_cosine_similarity: Calculates the cosine similarity of two vectors. | Parameters: {\"type\": \"dict\", \"properties\": {\"vectorA\": {\"type\": \"array\", \"items\": {\"type\": \"float\"}, \"description\": \"The first vector.\"}, \"vectorB\": {\"type\": \"array\", \"items\": {\"type\": \"float\"}, \"description\": \"The second vector.\"}}, \"required\": [\"vectorA\", \"vectorB\"]}\\nget_stock_price_by_stock_name: Finds the price of a stock by its stock name. | Parameters: {\"type\": \"dict\", \"properties\": {\"stock_name\": {\"type\": \"string\", \"description\": \"The stock name of the product, in the format of the stock symbol.\"}}, \"required\": [\"stock_name\"]}\\ncalculate_density: Calculates the density of an object. | Parameters: {\"type\": \"dict\", \"properties\": {\"mass\": {\"type\": \"float\", \"description\": \"The mass of the object, in kilograms.\"}, \"volume\": {\"type\": \"float\", \"description\": \"The volume of the object, in cubic meters.\"}}, \"required\": [\"mass\", \"volume\"]}\\ncalculate_future_value: Calculates the future value of an investment. | Parameters: {\"type\": \"dict\", \"properties\": {\"present_value\": {\"type\": \"float\", \"description\": \"The present value of the investment, in dollars.\"}, \"interest_rate\": {\"type\": \"float\", \"description\": \"The interest rate of the investment, ranging from 0 to 1.\"}, \"periods\": {\"type\": \"integer\", \"description\": \"The number of periods, in years.\"}}, \"required\": [\"present_value\", \"interest_rate\", \"periods\"]}\\nget_rating_by_amazon_ASIN: Finds the rating of a product by its Amazon ASIN. | Parameters: {\"type\": \"dict\", \"properties\": {\"ASIN\": {\"type\": \"string\", \"description\": \"The Amazon ASIN of the product.\"}}, \"required\": [\"ASIN\"]}\\nretrieve_holiday_by_year: Finds the holidays of a year. | Parameters: {\"type\": \"dict\", \"properties\": {\"year\": {\"type\": \"string\", \"description\": \"The year of the holidays.\"}, \"country\": {\"type\": \"string\", \"description\": \"The country of the holidays. Possible options: US, AT, DE, ES, FR, GB, IT, NL, PL, RO, SK, UA.\"}}, \"required\": [\"year\", \"country\"]}\\ncalculate_displacement: Calculates the displacement of an object. | Parameters: {\"type\": \"dict\", \"properties\": {\"initial_velocity\": {\"type\": \"float\", \"description\": \"The initial velocity of the object, in meters per second.\"}, \"acceleration\": {\"type\": \"float\", \"description\": \"The acceleration of the object, in meters per second squared.\"}, \"time\": {\"type\": \"float\", \"description\": \"The time the object has been moving, in seconds.\"}}, \"required\": [\"initial_velocity\", \"acceleration\", \"time\"]}\\nget_zipcode_by_ip_address: Finds the zipcode of an IP address. | Parameters: {\"type\": \"dict\", \"properties\": {\"ip_address\": {\"type\": \"string\", \"description\": \"The IP address to find the location of.\"}}, \"required\": [\"ip_address\"]}\\ncalculate_electrostatic_potential_energy: Calculates the electrostatic potential energy. | Parameters: {\"type\": \"dict\", \"properties\": {\"charge\": {\"type\": \"float\", \"description\": \"The charge of the object, in coulombs.\"}, \"voltage\": {\"type\": \"float\", \"description\": \"The voltage of the object, in volts.\"}}, \"required\": [\"charge\", \"voltage\"]}\\nmortgage_calculator: Calculates the monthly mortgage payment. | Parameters: {\"type\": \"dict\", \"properties\": {\"loan_amount\": {\"type\": \"float\", \"description\": \"The amount of the loan.\"}, \"interest_rate\": {\"type\": \"float\", \"description\": \"The interest rate of the loan, ranging from 0 to 1.\"}, \"loan_period\": {\"type\": \"integer\", \"description\": \"The period of the loan, in years.\"}}, \"required\": [\"loan_amount\", \"interest_rate\", \"loan_period\"]}\\ncalculate_final_velocity: Calculates the final velocity of an object. | Parameters: {\"type\": \"dict\", \"properties\": {\"initial_velocity\": {\"type\": \"float\", \"description\": \"The initial velocity of the object.\"}, \"acceleration\": {\"type\": \"float\", \"description\": \"The acceleration of the object.\"}, \"time\": {\"type\": \"float\", \"description\": \"The time the object has been moving.\"}}, \"required\": [\"initial_velocity\", \"acceleration\", \"time\"]}\\nget_fibonacci_sequence: Calculates the n numbers of the Fibonacci. | Parameters: {\"type\": \"dict\", \"properties\": {\"n\": {\"type\": \"integer\", \"description\": \"The number of Fibonacci numbers to calculate.\"}}, \"required\": [\"n\"]}\\nsort_array: Sorts an array of numbers. | Parameters: {\"type\": \"dict\", \"properties\": {\"array\": {\"type\": \"array\", \"items\": {\"type\": \"float\"}, \"description\": \"The array of numbers.\"}, \"reverse\": {\"type\": \"boolean\", \"description\": \"Whether to sort the array in reverse order, i.e., descending order.\", \"default\": false}}, \"required\": [\"array\"]}\\nget_time_zone_by_coord: Finds the timezone of a coordinate. | Parameters: {\"type\": \"dict\", \"properties\": {\"long\": {\"type\": \"string\", \"description\": \"The longitude of the coordinate.\"}, \"lat\": {\"type\": \"string\", \"description\": \"The latitude of the coordinate.\"}}, \"required\": [\"long\", \"lat\"]}\\ncalculate_mean: Calculates the mean of a list of numbers. | Parameters: {\"type\": \"dict\", \"properties\": {\"numbers\": {\"type\": \"array\", \"items\": {\"type\": \"integer\"}, \"description\": \"The list of numbers.\"}}, \"required\": [\"numbers\"]}\\ncalculate_permutations: Calculates the number of permutations of k elements from a set of n elements. | Parameters: {\"type\": \"dict\", \"properties\": {\"n\": {\"type\": \"integer\", \"description\": \"The number of elements in the set.\"}, \"k\": {\"type\": \"integer\", \"description\": \"The number of elements to choose.\"}}, \"required\": [\"n\", \"k\"]}\\nget_company_name_by_stock_name: Finds the company name of a stock by its stock name. | Parameters: {\"type\": \"dict\", \"properties\": {\"stock_name\": {\"type\": \"string\", \"description\": \"The stock name of the product, in the format of the stock symbol.\"}}, \"required\": [\"stock_name\"]}\\ncalculate_standard_deviation: Calculates the standard deviation of a list of numbers. | Parameters: {\"type\": \"dict\", \"properties\": {\"numbers\": {\"type\": \"array\", \"items\": {\"type\": \"integer\"}, \"description\": \"The list of numbers.\"}}, \"required\": [\"numbers\"]}\\nmath_lcm: Calculates the least common multiple of two numbers. | Parameters: {\"type\": \"dict\", \"properties\": {\"a\": {\"type\": \"integer\", \"description\": \"The first number. This should be the larger number.\"}, \"b\": {\"type\": \"integer\", \"description\": \"The second number.\"}}, \"required\": [\"a\", \"b\"]}\\ncalculate_triangle_area: Calculates the area of a triangle given its base and height. | Parameters: {\"type\": \"dict\", \"properties\": {\"base\": {\"type\": \"integer\", \"description\": \"The base of the triangle, in meters.\"}, \"height\": {\"type\": \"integer\", \"description\": \"The height of the triangle, in meters.\"}}, \"required\": [\"base\", \"height\"]}\\nconvert_currency: Converts a given amount from one currency to another using the ExchangeRate-API. | Parameters: {\"type\": \"dict\", \"properties\": {\"amount\": {\"type\": \"float\", \"description\": \"The amount of money to convert, in the base currency.\"}, \"from_currency\": {\"type\": \"string\", \"description\": \"The ISO currency code for the base currency.\"}, \"to_currency\": {\"type\": \"string\", \"description\": \"The ISO currency code for the target currency.\"}}, \"required\": [\"amount\", \"from_currency\", \"to_currency\"]}\\nget_stock_history: Finds the price of a stock by its stock name. | Parameters: {\"type\": \"dict\", \"properties\": {\"stock_name\": {\"type\": \"string\", \"description\": \"The stock name of the product, in the format of the stock symbol.\"}, \"interval\": {\"type\": \"string\", \"description\": \"The interval of the stock history. Allows one of following : 5m|15m|30m|1h|1d|1wk|1mo|3mo\"}, \"diffandsplits\": {\"type\": \"string\", \"description\": \"The diff and splits of the stock history. Allows one of following : true|false. Default to false\"}}, \"required\": [\"stock_name\", \"interval\"]}\\nmath_gcd: Calculates the greatest common divisor of two numbers. | Parameters: {\"type\": \"dict\", \"properties\": {\"a\": {\"type\": \"integer\", \"description\": \"The first number. This should be the larger number.\"}, \"b\": {\"type\": \"integer\", \"description\": \"The second number.\"}}, \"required\": [\"a\", \"b\"]}\\nestimate_derivative: Estimate the derivative of a function at a given point. | Parameters: {\"type\": \"dict\", \"properties\": {\"function\": {\"type\": \"string\", \"description\": \"The function to calculate the derivative of. This should be the string literal of lambda function\"}, \"x\": {\"type\": \"integer\", \"description\": \"The point to calculate the derivative at.\"}}, \"required\": [\"function\", \"x\"]}\\nfind_term_on_urban_dictionary: Finds the definition of a term on Urban Dictionary. | Parameters: {\"type\": \"dict\", \"properties\": {\"term\": {\"type\": \"string\", \"description\": \"The term to find the definition of.\"}}, \"required\": [\"term\"]}\\nget_distance: Calculates the distance between two 2D points. | Parameters: {\"type\": \"dict\", \"properties\": {\"pointA\": {\"type\": \"tuple\", \"description\": \"The first point.\", \"items\": {\"type\": \"float\"}}, \"pointB\": {\"type\": \"tuple\", \"description\": \"The second point.\", \"items\": {\"type\": \"float\"}}}, \"required\": [\"pointA\", \"pointB\"]}\\ngeometry_area_circle: Calculates the area of a circle. | Parameters: {\"type\": \"dict\", \"properties\": {\"radius\": {\"type\": \"integer\", \"description\": \"The radius of the circle, in feet.\"}}, \"required\": [\"radius\"]}\\nget_covid_death_by_country: Finds the most up to date total deaths of a country result from COVID. | Parameters: {\"type\": \"dict\", \"properties\": {\"country\": {\"type\": \"string\", \"description\": \"The country to find the total deaths of, in the format of the country's full name.\"}}, \"required\": [\"country\"]}\\nget_active_covid_case_by_country: Finds the most up to date active cases of a country result from COVID. | Parameters: {\"type\": \"dict\", \"properties\": {\"country\": {\"type\": \"string\", \"description\": \"The country to find the active cases of, in the format of the country's full name.\"}}, \"required\": [\"country\"]}\\nmat_mul: Multiplies two matrices. | Parameters: {\"type\": \"dict\", \"properties\": {\"matA\": {\"type\": \"array\", \"description\": \"The first matrix.\", \"items\": {\"type\": \"array\", \"items\": {\"type\": \"integer\"}}}, \"matB\": {\"type\": \"array\", \"description\": \"The second matrix.\", \"items\": {\"type\": \"array\", \"items\": {\"type\": \"integer\"}}}}, \"required\": [\"matA\", \"matB\"]}\\nget_coordinate_by_ip_address: Finds the latitude and longitude of an IP address. | Parameters: {\"type\": \"dict\", \"properties\": {\"ip_address\": {\"type\": \"string\", \"description\": \"The IP address to find the location of.\"}}, \"required\": [\"ip_address\"]}\\nget_coordinates_from_city: Fetches the latitude and longitude of a given city name using the Maps.co Geocoding API. | Parameters: {\"type\": \"dict\", \"properties\": {\"city_name\": {\"type\": \"string\", \"description\": \"The name of the city, such as 'Rome'.\"}}, \"required\": [\"city_name\"]}\\nget_product_name_by_amazon_ASIN: Finds the price of a product by its Amazon ASIN. | Parameters: {\"type\": \"dict\", \"properties\": {\"ASIN\": {\"type\": \"string\", \"description\": \"The Amazon ASIN of the product.\"}}, \"required\": [\"ASIN\"]}\\nget_price_by_amazon_ASIN: Finds the price of a product by its Amazon ASIN. | Parameters: {\"type\": \"dict\", \"properties\": {\"ASIN\": {\"type\": \"string\", \"description\": \"The Amazon ASIN of the product.\"}}, \"required\": [\"ASIN\"]}\\nget_prime_factors: Calculates the prime factors of a number. | Parameters: {\"type\": \"dict\", \"properties\": {\"number\": {\"type\": \"integer\", \"description\": \"The number to calculate the prime factors of.\"}}, \"required\": [\"number\"]}\\nretrieve_city_based_on_zipcode: Finds the city of a zipcode. | Parameters: {\"type\": \"dict\", \"properties\": {\"zipcode\": {\"type\": \"string\", \"description\": \"The zipcode of the city.\"}}, \"required\": [\"zipcode\"]}\\nmath_factorial: Calculates the factorial of a number. | Parameters: {\"type\": \"dict\", \"properties\": {\"n\": {\"type\": \"integer\", \"description\": \"The number to calculate the factorial of.\"}}, \"required\": [\"n\"]}\\nquadratic_roots: Calculates the roots of a quadratic equation. | Parameters: {\"type\": \"dict\", \"properties\": {\"a\": {\"type\": \"integer\", \"description\": \"The first coefficient.\"}, \"b\": {\"type\": \"integer\", \"description\": \"The second coefficient.\"}, \"c\": {\"type\": \"integer\", \"description\": \"The third coefficient.\"}}, \"required\": [\"a\", \"b\", \"c\"]}\\nadd_binary_numbers: Adds two binary numbers. | Parameters: {\"type\": \"dict\", \"properties\": {\"a\": {\"type\": \"string\", \"description\": \"The first binary number.\"}, \"b\": {\"type\": \"string\", \"description\": \"The second binary number.\"}}, \"required\": [\"a\", \"b\"]}\\nconvert_binary_to_decimal: Converts a binary number to a decimal number. | Parameters: {\"type\": \"dict\", \"properties\": {\"binary\": {\"type\": \"string\", \"description\": \"The binary number to convert.\"}}, \"required\": [\"binary\"]}\\nconvert_decimal_to_hex: Converts a decimal number to a hexadecimal number. | Parameters: {\"type\": \"dict\", \"properties\": {\"decimal\": {\"type\": \"integer\", \"description\": \"The decimal number to convert.\"}}, \"required\": [\"decimal\"]}\\nlinear_regression: Finds the linear regression of a set of points and evaluates it at a given point. | Parameters: {\"type\": \"dict\", \"properties\": {\"x\": {\"type\": \"array\", \"description\": \"The x coordinates of the points.\", \"items\": {\"type\": \"integer\"}}, \"y\": {\"type\": \"array\", \"description\": \"The y coordinates of the points.\", \"items\": {\"type\": \"integer\"}}, \"point\": {\"type\": \"integer\", \"description\": \"The point to calculate the linear regression at.\"}}, \"required\": [\"x\", \"y\", \"point\"]}\\ncalculate_slope: Calculates the slope of the linear regression line from a set of points. | Parameters: {\"type\": \"dict\", \"properties\": {\"x\": {\"type\": \"array\", \"description\": \"The x coordinates of the points.\", \"items\": {\"type\": \"integer\"}}, \"y\": {\"type\": \"array\", \"description\": \"The y coordinates of the points.\", \"items\": {\"type\": \"integer\"}}}, \"required\": [\"x\", \"y\"]}\\ncalculate_intercept: Calculates the y-intercept of the linear regression line from a set of points and a given slope. | Parameters: {\"type\": \"dict\", \"properties\": {\"x\": {\"type\": \"array\", \"description\": \"The x coordinates of the points.\", \"items\": {\"type\": \"integer\"}}, \"y\": {\"type\": \"array\", \"description\": \"The y coordinates of the points.\", \"items\": {\"type\": \"integer\"}}, \"slope\": {\"type\": \"integer\", \"description\": \"The slope of the linear regression line.\"}}, \"required\": [\"x\", \"y\", \"slope\"]}\\npredict_value: Predicts the value of y given the slope, intercept, and an x value. | Parameters: {\"type\": \"dict\", \"properties\": {\"slope\": {\"type\": \"integer\", \"description\": \"The slope of the linear regression line.\"}, \"intercept\": {\"type\": \"integer\", \"description\": \"The y-intercept of the linear regression line.\"}, \"x\": {\"type\": \"integer\", \"description\": \"The x value to predict the y for.\"}}, \"required\": [\"slope\", \"intercept\", \"x\"]}\\ncalculate_investment_value: Calculates the value of an investment over time. | Parameters: {\"type\": \"dict\", \"properties\": {\"initial_investment\": {\"type\": \"integer\", \"description\": \"The initial investment amount.\"}, \"annual_contribution\": {\"type\": \"integer\", \"description\": \"The annual contribution amount.\"}, \"years\": {\"type\": \"integer\", \"description\": \"The number of years to calculate the investment value for.\"}, \"annual_return\": {\"type\": \"float\", \"description\": \"The annual return rate, ranging from 0 to 1.\"}, \"inflation_rate\": {\"type\": \"array\", \"items\": {\"type\": \"float\"}, \"description\": \"The inflation rate for each year in percentage, ranging from 0 to 1.\"}, \"adjust_for_inflation\": {\"type\": \"boolean\", \"default\": true, \"description\": \"Whether to adjust the investment value for inflation.\"}}, \"required\": [\"initial_investment\", \"annual_contribution\", \"years\", \"annual_return\", \"inflation_rate\"]}\\ncompound_interest: Calculates compound interest over time. | Parameters: {\"type\": \"dict\", \"properties\": {\"principal\": {\"type\": \"integer\", \"description\": \"The principal amount.\"}, \"rate\": {\"type\": \"float\", \"description\": \"The annual interest rate.\"}, \"times_compounded\": {\"type\": \"integer\", \"description\": \"The number of times the interest is compounded per year.\"}, \"years\": {\"type\": \"integer\", \"description\": \"The number of years to calculate the compound interest for.\"}}, \"required\": [\"principal\", \"rate\", \"times_compounded\", \"years\"]}\\ninflation_adjustment: Adjusts an amount for inflation. | Parameters: {\"type\": \"dict\", \"properties\": {\"amount\": {\"type\": \"float\", \"description\": \"The amount to adjust for inflation.\"}, \"inflation_rate\": {\"type\": \"float\", \"description\": \"The annual inflation float.\"}, \"years\": {\"type\": \"integer\", \"description\": \"The number of years to adjust for inflation.\"}}, \"required\": [\"amount\", \"inflation_rate\", \"years\"]}\\nadjust_for_inflation: Adjusts the investment value for inflation for each year. | Parameters: {\"type\": \"dict\", \"properties\": {\"investment_value\": {\"type\": \"float\", \"description\": \"The value of the investment to adjust.\"}, \"inflation_rates\": {\"type\": \"array\", \"items\": {\"type\": \"float\"}, \"description\": \"The inflation rates for each year.\"}}, \"required\": [\"investment_value\", \"inflation_rates\"]}\\ncalculate_basal_metabolic_rate: Calculates the Basal Metabolic Rate (BMR) of a person. | Parameters: {\"type\": \"dict\", \"properties\": {\"weight\": {\"type\": \"float\", \"description\": \"The weight of the person in kilograms.\"}, \"height\": {\"type\": \"float\", \"description\": \"The height of the person in centimeters.\"}, \"age\": {\"type\": \"float\", \"description\": \"The age of the person in years.\"}, \"gender\": {\"type\": \"string\", \"description\": \"The gender of the person. Possible options [male, female, other].\"}}, \"required\": [\"weight\", \"height\", \"age\", \"gender\"]}\\ncalculate_daily_energy_expenditure: Calculates the daily energy expenditure based on BMR and activity level. | Parameters: {\"type\": \"dict\", \"properties\": {\"basal_metabolic_rate\": {\"type\": \"float\", \"description\": \"The BMR of the person.\"}, \"activity_level\": {\"type\": \"float\", \"description\": \"The activity level of the person. Possible options [1,2,3,4,5].\"}}, \"required\": [\"basal_metabolic_rate\", \"activity_level\"]}\\ncalculate_nutritional_needs: Calculates the nutritional needs of a person based on their weight, height, age, gender, activity level, and goal. | Parameters: {\"type\": \"dict\", \"properties\": {\"weight\": {\"type\": \"float\", \"description\": \"The weight of the person in kilograms.\"}, \"height\": {\"type\": \"float\", \"description\": \"The height of the person in centimeters.\"}, \"age\": {\"type\": \"float\", \"description\": \"The age of the person in years.\"}, \"gender\": {\"type\": \"string\", \"description\": \"The gender of the person. Possible options [male, female, other].\"}, \"activity_level\": {\"type\": \"float\", \"description\": \"The activity level of the person. Possible options [1,2,3,4,5].\"}, \"goal\": {\"type\": \"string\", \"description\": \"The goal of the person. Possible options [lose, gain, maintain].\"}}, \"required\": [\"weight\", \"height\", \"age\", \"gender\", \"activity_level\", \"goal\"]}\\nbook_room: Books a room for a customer. | Parameters: {\"type\": \"dict\", \"properties\": {\"room_type\": {\"type\": \"dict\", \"description\": \"The room type to book.\"}, \"check_in_date\": {\"type\": \"string\", \"description\": \"The check-in date in format of MM-DD-YYYY.\"}, \"check_out_date\": {\"type\": \"string\", \"description\": \"The check-out date in format of MM-DD-YYYY.\"}, \"customer_id\": {\"type\": \"string\", \"description\": \"The customer ID.\"}, \"discount_code\": {\"type\": \"string\", \"description\": \"The discount code (if any).\", \"default\": null}}, \"required\": [\"room_type\", \"check_in_date\", \"check_out_date\", \"customer_id\"]}\\ncalculate_total_price: Calculates the total price of the room booking. | Parameters: {\"type\": \"dict\", \"properties\": {\"room_price\": {\"type\": \"float\", \"description\": \"The price per night of the room.\"}, \"nights\": {\"type\": \"integer\", \"description\": \"The number of nights for the booking.\"}, \"discount\": {\"type\": \"float\", \"description\": \"The discount amount (if any).\", \"default\": 0}}, \"required\": [\"room_price\", \"nights\"]}\\nconfirm_booking: Confirms the room booking and sends a confirmation to the customer. | Parameters: {\"type\": \"dict\", \"properties\": {\"customer_id\": {\"type\": \"string\", \"description\": \"The customer ID.\"}, \"room_number\": {\"type\": \"string\", \"description\": \"The room number assigned to the booking.\"}, \"total_price\": {\"type\": \"float\", \"description\": \"The total price for the booking.\"}}, \"required\": [\"customer_id\", \"room_number\", \"total_price\"]}\\norder_food: Orders food for a customer. Return the total price. | Parameters: {\"type\": \"dict\", \"properties\": {\"item\": {\"type\": \"array\", \"items\": {\"type\": \"string\"}, \"description\": \"the name of the product.\"}, \"quantity\": {\"type\": \"array\", \"items\": {\"type\": \"integer\"}, \"description\": \"the number of the product purchased.\"}, \"price\": {\"type\": \"array\", \"items\": {\"type\": \"float\"}, \"description\": \"the price of the product.\"}}, \"required\": [\"item\", \"quantity\", \"price\"]}\\ncalculate_total: Calculates the total price of an order given the quantities and prices. | Parameters: {\"type\": \"dict\", \"properties\": {\"quantities\": {\"type\": \"array\", \"items\": {\"type\": \"integer\"}, \"description\": \"The quantities of each product.\"}, \"prices\": {\"type\": \"array\", \"items\": {\"type\": \"float\"}, \"description\": \"The price of each product.\"}}, \"required\": [\"quantities\", \"prices\"]}\\napply_discount: Applies a discount to the total price. | Parameters: {\"type\": \"dict\", \"properties\": {\"total\": {\"type\": \"float\", \"description\": \"The original total price.\"}, \"discount\": {\"type\": \"float\", \"description\": \"The discount percentage to apply.\"}}, \"required\": [\"total\", \"discount\"]}\\nget_movie_director: Fetches the director of a movie from the OMDB API. | Parameters: {\"type\": \"dict\", \"properties\": {\"movie_name\": {\"type\": \"string\", \"description\": \"The name of the movie.\"}}, \"required\": [\"movie_name\"]}\\ncalculate_interest_rate: Calculates the interest rate for a given principal, rate, and time. | Parameters: {\"type\": \"dict\", \"properties\": {\"principal\": {\"type\": \"float\", \"description\": \"The initial amount of money.\"}, \"rate\": {\"type\": \"float\", \"description\": \"The interest rate per period.\"}, \"time\": {\"type\": \"float\", \"description\": \"The time the money is invested or borrowed for.\"}}, \"required\": [\"principal\", \"rate\", \"time\"]}\\nconvert_temperature: Converts temperature from Celsius to Fahrenheit or vice versa. | Parameters: {\"type\": \"dict\", \"properties\": {\"temperature\": {\"type\": \"float\", \"description\": \"The temperature to convert.\"}, \"unit_from\": {\"type\": \"string\", \"description\": \"The current unit of the temperature (Celsius or Fahrenheit).\"}, \"unit_to\": {\"type\": \"string\", \"description\": \"The unit to convert the temperature to (Celsius or Fahrenheit).\"}}, \"required\": [\"temperature\", \"unit_from\", \"unit_to\"]}\\ngenerate_random_number: Generates a random number within a specified range. | Parameters: {\"type\": \"dict\", \"properties\": {\"min\": {\"type\": \"integer\", \"description\": \"The minimum value of the range.\"}, \"max\": {\"type\": \"integer\", \"description\": \"The maximum value of the range.\"}}, \"required\": [\"min\", \"max\"]}\\nget_movie_rating: Fetches the age rating of a movie from the OMDB API. | Parameters: {\"type\": \"dict\", \"properties\": {\"movie_name\": {\"type\": \"string\", \"description\": \"The name of the movie.\"}}, \"required\": [\"movie_name\"]}\\nget_movie_genre: Retrieves the genre of a movie from the OMDB API. | Parameters: {\"type\": \"dict\", \"properties\": {\"movie_name\": {\"type\": \"string\", \"description\": \"The name of the movie to retrieve the genre for.\"}}, \"required\": [\"movie_name\"]}\\nget_director_by_movie_name: Gets the director of a movie. | Parameters: {\"type\": \"dict\", \"properties\": {\"movie_name\": {\"type\": \"string\", \"description\": \"The movie to find the director of.\"}}, \"required\": [\"movie_name\"]}\\nconvert_coordinates: Converts a list of tuples into a list of lists. | Parameters: {\"type\": \"dict\", \"properties\": {\"coordinates\": {\"type\": \"array\", \"items\": {\"type\": \"tuple\", \"items\": {\"type\": \"float\"}, \"description\": \"A single coordinate represented by a tuple (x, y).\"}, \"description\": \"The coordinates to be converted, where each coordinate is a tuple (x, y).\"}}, \"required\": [\"coordinates\"]}\\npolygon_area: Calculate the area of a polygon given its vertices using the shoelace formula. | Parameters: {\"type\": \"dict\", \"properties\": {\"vertices\": {\"type\": \"array\", \"items\": {\"type\": \"array\", \"items\": {\"type\": \"float\"}, \"minItems\": 2, \"maxItems\": 2, \"description\": \"A single vertex represented by a 2 element list [x, y].\"}, \"description\": \"The vertices of the polygon, where each vertex is a 2 element list [x, y].\"}}, \"required\": [\"vertices\"]}\\nvalidate_polygon: Checks if the given vertices form a valid polygon. | Parameters: {\"type\": \"dict\", \"properties\": {\"vertices\": {\"type\": \"array\", \"items\": {\"type\": \"array\", \"items\": {\"type\": \"float\"}, \"description\": \"A single vertex represented by a 2 element list [x, y].\"}, \"description\": \"The vertices of the polygon, where each vertex is a 2 element list [x, y].\"}}, \"required\": [\"vertices\"]}  \n",
       "3  get_weather_data: Fetches weather data from the Open-Meteo API for the given latitude and longitude. | Parameters: {\"type\": \"dict\", \"properties\": {\"coordinates\": {\"type\": \"array\", \"items\": {\"type\": \"float\"}, \"description\": \"The latitude and longitude of the location.\"}}, \"required\": [\"coordinates\"]}\\ncalc_binomial_probability: Calculates the probability of getting k successes in n trials. | Parameters: {\"type\": \"dict\", \"properties\": {\"n\": {\"type\": \"integer\", \"description\": \"The number of trials.\"}, \"k\": {\"type\": \"integer\", \"description\": \"The number of successes.\"}, \"p\": {\"type\": \"float\", \"description\": \"The probability of success.\"}}, \"required\": [\"n\", \"k\", \"p\"]}\\ncalculate_cosine_similarity: Calculates the cosine similarity of two vectors. | Parameters: {\"type\": \"dict\", \"properties\": {\"vectorA\": {\"type\": \"array\", \"items\": {\"type\": \"float\"}, \"description\": \"The first vector.\"}, \"vectorB\": {\"type\": \"array\", \"items\": {\"type\": \"float\"}, \"description\": \"The second vector.\"}}, \"required\": [\"vectorA\", \"vectorB\"]}\\nget_stock_price_by_stock_name: Finds the price of a stock by its stock name. | Parameters: {\"type\": \"dict\", \"properties\": {\"stock_name\": {\"type\": \"string\", \"description\": \"The stock name of the product, in the format of the stock symbol.\"}}, \"required\": [\"stock_name\"]}\\ncalculate_density: Calculates the density of an object. | Parameters: {\"type\": \"dict\", \"properties\": {\"mass\": {\"type\": \"float\", \"description\": \"The mass of the object, in kilograms.\"}, \"volume\": {\"type\": \"float\", \"description\": \"The volume of the object, in cubic meters.\"}}, \"required\": [\"mass\", \"volume\"]}\\ncalculate_future_value: Calculates the future value of an investment. | Parameters: {\"type\": \"dict\", \"properties\": {\"present_value\": {\"type\": \"float\", \"description\": \"The present value of the investment, in dollars.\"}, \"interest_rate\": {\"type\": \"float\", \"description\": \"The interest rate of the investment, ranging from 0 to 1.\"}, \"periods\": {\"type\": \"integer\", \"description\": \"The number of periods, in years.\"}}, \"required\": [\"present_value\", \"interest_rate\", \"periods\"]}\\nget_rating_by_amazon_ASIN: Finds the rating of a product by its Amazon ASIN. | Parameters: {\"type\": \"dict\", \"properties\": {\"ASIN\": {\"type\": \"string\", \"description\": \"The Amazon ASIN of the product.\"}}, \"required\": [\"ASIN\"]}\\nretrieve_holiday_by_year: Finds the holidays of a year. | Parameters: {\"type\": \"dict\", \"properties\": {\"year\": {\"type\": \"string\", \"description\": \"The year of the holidays.\"}, \"country\": {\"type\": \"string\", \"description\": \"The country of the holidays. Possible options: US, AT, DE, ES, FR, GB, IT, NL, PL, RO, SK, UA.\"}}, \"required\": [\"year\", \"country\"]}\\ncalculate_displacement: Calculates the displacement of an object. | Parameters: {\"type\": \"dict\", \"properties\": {\"initial_velocity\": {\"type\": \"float\", \"description\": \"The initial velocity of the object, in meters per second.\"}, \"acceleration\": {\"type\": \"float\", \"description\": \"The acceleration of the object, in meters per second squared.\"}, \"time\": {\"type\": \"float\", \"description\": \"The time the object has been moving, in seconds.\"}}, \"required\": [\"initial_velocity\", \"acceleration\", \"time\"]}\\nget_zipcode_by_ip_address: Finds the zipcode of an IP address. | Parameters: {\"type\": \"dict\", \"properties\": {\"ip_address\": {\"type\": \"string\", \"description\": \"The IP address to find the location of.\"}}, \"required\": [\"ip_address\"]}\\ncalculate_electrostatic_potential_energy: Calculates the electrostatic potential energy. | Parameters: {\"type\": \"dict\", \"properties\": {\"charge\": {\"type\": \"float\", \"description\": \"The charge of the object, in coulombs.\"}, \"voltage\": {\"type\": \"float\", \"description\": \"The voltage of the object, in volts.\"}}, \"required\": [\"charge\", \"voltage\"]}\\nmortgage_calculator: Calculates the monthly mortgage payment. | Parameters: {\"type\": \"dict\", \"properties\": {\"loan_amount\": {\"type\": \"float\", \"description\": \"The amount of the loan.\"}, \"interest_rate\": {\"type\": \"float\", \"description\": \"The interest rate of the loan, ranging from 0 to 1.\"}, \"loan_period\": {\"type\": \"integer\", \"description\": \"The period of the loan, in years.\"}}, \"required\": [\"loan_amount\", \"interest_rate\", \"loan_period\"]}\\ncalculate_final_velocity: Calculates the final velocity of an object. | Parameters: {\"type\": \"dict\", \"properties\": {\"initial_velocity\": {\"type\": \"float\", \"description\": \"The initial velocity of the object.\"}, \"acceleration\": {\"type\": \"float\", \"description\": \"The acceleration of the object.\"}, \"time\": {\"type\": \"float\", \"description\": \"The time the object has been moving.\"}}, \"required\": [\"initial_velocity\", \"acceleration\", \"time\"]}\\nget_fibonacci_sequence: Calculates the n numbers of the Fibonacci. | Parameters: {\"type\": \"dict\", \"properties\": {\"n\": {\"type\": \"integer\", \"description\": \"The number of Fibonacci numbers to calculate.\"}}, \"required\": [\"n\"]}\\nsort_array: Sorts an array of numbers. | Parameters: {\"type\": \"dict\", \"properties\": {\"array\": {\"type\": \"array\", \"items\": {\"type\": \"float\"}, \"description\": \"The array of numbers.\"}, \"reverse\": {\"type\": \"boolean\", \"description\": \"Whether to sort the array in reverse order, i.e., descending order.\", \"default\": false}}, \"required\": [\"array\"]}\\nget_time_zone_by_coord: Finds the timezone of a coordinate. | Parameters: {\"type\": \"dict\", \"properties\": {\"long\": {\"type\": \"string\", \"description\": \"The longitude of the coordinate.\"}, \"lat\": {\"type\": \"string\", \"description\": \"The latitude of the coordinate.\"}}, \"required\": [\"long\", \"lat\"]}\\ncalculate_mean: Calculates the mean of a list of numbers. | Parameters: {\"type\": \"dict\", \"properties\": {\"numbers\": {\"type\": \"array\", \"items\": {\"type\": \"integer\"}, \"description\": \"The list of numbers.\"}}, \"required\": [\"numbers\"]}\\ncalculate_permutations: Calculates the number of permutations of k elements from a set of n elements. | Parameters: {\"type\": \"dict\", \"properties\": {\"n\": {\"type\": \"integer\", \"description\": \"The number of elements in the set.\"}, \"k\": {\"type\": \"integer\", \"description\": \"The number of elements to choose.\"}}, \"required\": [\"n\", \"k\"]}\\nget_company_name_by_stock_name: Finds the company name of a stock by its stock name. | Parameters: {\"type\": \"dict\", \"properties\": {\"stock_name\": {\"type\": \"string\", \"description\": \"The stock name of the product, in the format of the stock symbol.\"}}, \"required\": [\"stock_name\"]}\\ncalculate_standard_deviation: Calculates the standard deviation of a list of numbers. | Parameters: {\"type\": \"dict\", \"properties\": {\"numbers\": {\"type\": \"array\", \"items\": {\"type\": \"integer\"}, \"description\": \"The list of numbers.\"}}, \"required\": [\"numbers\"]}\\nmath_lcm: Calculates the least common multiple of two numbers. | Parameters: {\"type\": \"dict\", \"properties\": {\"a\": {\"type\": \"integer\", \"description\": \"The first number. This should be the larger number.\"}, \"b\": {\"type\": \"integer\", \"description\": \"The second number.\"}}, \"required\": [\"a\", \"b\"]}\\ncalculate_triangle_area: Calculates the area of a triangle given its base and height. | Parameters: {\"type\": \"dict\", \"properties\": {\"base\": {\"type\": \"integer\", \"description\": \"The base of the triangle, in meters.\"}, \"height\": {\"type\": \"integer\", \"description\": \"The height of the triangle, in meters.\"}}, \"required\": [\"base\", \"height\"]}\\nconvert_currency: Converts a given amount from one currency to another using the ExchangeRate-API. | Parameters: {\"type\": \"dict\", \"properties\": {\"amount\": {\"type\": \"float\", \"description\": \"The amount of money to convert, in the base currency.\"}, \"from_currency\": {\"type\": \"string\", \"description\": \"The ISO currency code for the base currency.\"}, \"to_currency\": {\"type\": \"string\", \"description\": \"The ISO currency code for the target currency.\"}}, \"required\": [\"amount\", \"from_currency\", \"to_currency\"]}\\nget_stock_history: Finds the price of a stock by its stock name. | Parameters: {\"type\": \"dict\", \"properties\": {\"stock_name\": {\"type\": \"string\", \"description\": \"The stock name of the product, in the format of the stock symbol.\"}, \"interval\": {\"type\": \"string\", \"description\": \"The interval of the stock history. Allows one of following : 5m|15m|30m|1h|1d|1wk|1mo|3mo\"}, \"diffandsplits\": {\"type\": \"string\", \"description\": \"The diff and splits of the stock history. Allows one of following : true|false. Default to false\"}}, \"required\": [\"stock_name\", \"interval\"]}\\nmath_gcd: Calculates the greatest common divisor of two numbers. | Parameters: {\"type\": \"dict\", \"properties\": {\"a\": {\"type\": \"integer\", \"description\": \"The first number. This should be the larger number.\"}, \"b\": {\"type\": \"integer\", \"description\": \"The second number.\"}}, \"required\": [\"a\", \"b\"]}\\nestimate_derivative: Estimate the derivative of a function at a given point. | Parameters: {\"type\": \"dict\", \"properties\": {\"function\": {\"type\": \"string\", \"description\": \"The function to calculate the derivative of. This should be the string literal of lambda function\"}, \"x\": {\"type\": \"integer\", \"description\": \"The point to calculate the derivative at.\"}}, \"required\": [\"function\", \"x\"]}\\nfind_term_on_urban_dictionary: Finds the definition of a term on Urban Dictionary. | Parameters: {\"type\": \"dict\", \"properties\": {\"term\": {\"type\": \"string\", \"description\": \"The term to find the definition of.\"}}, \"required\": [\"term\"]}\\nget_distance: Calculates the distance between two 2D points. | Parameters: {\"type\": \"dict\", \"properties\": {\"pointA\": {\"type\": \"tuple\", \"description\": \"The first point.\", \"items\": {\"type\": \"float\"}}, \"pointB\": {\"type\": \"tuple\", \"description\": \"The second point.\", \"items\": {\"type\": \"float\"}}}, \"required\": [\"pointA\", \"pointB\"]}\\ngeometry_area_circle: Calculates the area of a circle. | Parameters: {\"type\": \"dict\", \"properties\": {\"radius\": {\"type\": \"integer\", \"description\": \"The radius of the circle, in feet.\"}}, \"required\": [\"radius\"]}\\nget_covid_death_by_country: Finds the most up to date total deaths of a country result from COVID. | Parameters: {\"type\": \"dict\", \"properties\": {\"country\": {\"type\": \"string\", \"description\": \"The country to find the total deaths of, in the format of the country's full name.\"}}, \"required\": [\"country\"]}\\nget_active_covid_case_by_country: Finds the most up to date active cases of a country result from COVID. | Parameters: {\"type\": \"dict\", \"properties\": {\"country\": {\"type\": \"string\", \"description\": \"The country to find the active cases of, in the format of the country's full name.\"}}, \"required\": [\"country\"]}\\nmat_mul: Multiplies two matrices. | Parameters: {\"type\": \"dict\", \"properties\": {\"matA\": {\"type\": \"array\", \"description\": \"The first matrix.\", \"items\": {\"type\": \"array\", \"items\": {\"type\": \"integer\"}}}, \"matB\": {\"type\": \"array\", \"description\": \"The second matrix.\", \"items\": {\"type\": \"array\", \"items\": {\"type\": \"integer\"}}}}, \"required\": [\"matA\", \"matB\"]}\\nget_coordinate_by_ip_address: Finds the latitude and longitude of an IP address. | Parameters: {\"type\": \"dict\", \"properties\": {\"ip_address\": {\"type\": \"string\", \"description\": \"The IP address to find the location of.\"}}, \"required\": [\"ip_address\"]}\\nget_coordinates_from_city: Fetches the latitude and longitude of a given city name using the Maps.co Geocoding API. | Parameters: {\"type\": \"dict\", \"properties\": {\"city_name\": {\"type\": \"string\", \"description\": \"The name of the city, such as 'Rome'.\"}}, \"required\": [\"city_name\"]}\\nget_product_name_by_amazon_ASIN: Finds the price of a product by its Amazon ASIN. | Parameters: {\"type\": \"dict\", \"properties\": {\"ASIN\": {\"type\": \"string\", \"description\": \"The Amazon ASIN of the product.\"}}, \"required\": [\"ASIN\"]}\\nget_price_by_amazon_ASIN: Finds the price of a product by its Amazon ASIN. | Parameters: {\"type\": \"dict\", \"properties\": {\"ASIN\": {\"type\": \"string\", \"description\": \"The Amazon ASIN of the product.\"}}, \"required\": [\"ASIN\"]}\\nget_prime_factors: Calculates the prime factors of a number. | Parameters: {\"type\": \"dict\", \"properties\": {\"number\": {\"type\": \"integer\", \"description\": \"The number to calculate the prime factors of.\"}}, \"required\": [\"number\"]}\\nretrieve_city_based_on_zipcode: Finds the city of a zipcode. | Parameters: {\"type\": \"dict\", \"properties\": {\"zipcode\": {\"type\": \"string\", \"description\": \"The zipcode of the city.\"}}, \"required\": [\"zipcode\"]}\\nmath_factorial: Calculates the factorial of a number. | Parameters: {\"type\": \"dict\", \"properties\": {\"n\": {\"type\": \"integer\", \"description\": \"The number to calculate the factorial of.\"}}, \"required\": [\"n\"]}\\nquadratic_roots: Calculates the roots of a quadratic equation. | Parameters: {\"type\": \"dict\", \"properties\": {\"a\": {\"type\": \"integer\", \"description\": \"The first coefficient.\"}, \"b\": {\"type\": \"integer\", \"description\": \"The second coefficient.\"}, \"c\": {\"type\": \"integer\", \"description\": \"The third coefficient.\"}}, \"required\": [\"a\", \"b\", \"c\"]}\\nadd_binary_numbers: Adds two binary numbers. | Parameters: {\"type\": \"dict\", \"properties\": {\"a\": {\"type\": \"string\", \"description\": \"The first binary number.\"}, \"b\": {\"type\": \"string\", \"description\": \"The second binary number.\"}}, \"required\": [\"a\", \"b\"]}\\nconvert_binary_to_decimal: Converts a binary number to a decimal number. | Parameters: {\"type\": \"dict\", \"properties\": {\"binary\": {\"type\": \"string\", \"description\": \"The binary number to convert.\"}}, \"required\": [\"binary\"]}\\nconvert_decimal_to_hex: Converts a decimal number to a hexadecimal number. | Parameters: {\"type\": \"dict\", \"properties\": {\"decimal\": {\"type\": \"integer\", \"description\": \"The decimal number to convert.\"}}, \"required\": [\"decimal\"]}\\nlinear_regression: Finds the linear regression of a set of points and evaluates it at a given point. | Parameters: {\"type\": \"dict\", \"properties\": {\"x\": {\"type\": \"array\", \"description\": \"The x coordinates of the points.\", \"items\": {\"type\": \"integer\"}}, \"y\": {\"type\": \"array\", \"description\": \"The y coordinates of the points.\", \"items\": {\"type\": \"integer\"}}, \"point\": {\"type\": \"integer\", \"description\": \"The point to calculate the linear regression at.\"}}, \"required\": [\"x\", \"y\", \"point\"]}\\ncalculate_slope: Calculates the slope of the linear regression line from a set of points. | Parameters: {\"type\": \"dict\", \"properties\": {\"x\": {\"type\": \"array\", \"description\": \"The x coordinates of the points.\", \"items\": {\"type\": \"integer\"}}, \"y\": {\"type\": \"array\", \"description\": \"The y coordinates of the points.\", \"items\": {\"type\": \"integer\"}}}, \"required\": [\"x\", \"y\"]}\\ncalculate_intercept: Calculates the y-intercept of the linear regression line from a set of points and a given slope. | Parameters: {\"type\": \"dict\", \"properties\": {\"x\": {\"type\": \"array\", \"description\": \"The x coordinates of the points.\", \"items\": {\"type\": \"integer\"}}, \"y\": {\"type\": \"array\", \"description\": \"The y coordinates of the points.\", \"items\": {\"type\": \"integer\"}}, \"slope\": {\"type\": \"integer\", \"description\": \"The slope of the linear regression line.\"}}, \"required\": [\"x\", \"y\", \"slope\"]}\\npredict_value: Predicts the value of y given the slope, intercept, and an x value. | Parameters: {\"type\": \"dict\", \"properties\": {\"slope\": {\"type\": \"integer\", \"description\": \"The slope of the linear regression line.\"}, \"intercept\": {\"type\": \"integer\", \"description\": \"The y-intercept of the linear regression line.\"}, \"x\": {\"type\": \"integer\", \"description\": \"The x value to predict the y for.\"}}, \"required\": [\"slope\", \"intercept\", \"x\"]}\\ncalculate_investment_value: Calculates the value of an investment over time. | Parameters: {\"type\": \"dict\", \"properties\": {\"initial_investment\": {\"type\": \"integer\", \"description\": \"The initial investment amount.\"}, \"annual_contribution\": {\"type\": \"integer\", \"description\": \"The annual contribution amount.\"}, \"years\": {\"type\": \"integer\", \"description\": \"The number of years to calculate the investment value for.\"}, \"annual_return\": {\"type\": \"float\", \"description\": \"The annual return rate, ranging from 0 to 1.\"}, \"inflation_rate\": {\"type\": \"array\", \"items\": {\"type\": \"float\"}, \"description\": \"The inflation rate for each year in percentage, ranging from 0 to 1.\"}, \"adjust_for_inflation\": {\"type\": \"boolean\", \"default\": true, \"description\": \"Whether to adjust the investment value for inflation.\"}}, \"required\": [\"initial_investment\", \"annual_contribution\", \"years\", \"annual_return\", \"inflation_rate\"]}\\ncompound_interest: Calculates compound interest over time. | Parameters: {\"type\": \"dict\", \"properties\": {\"principal\": {\"type\": \"integer\", \"description\": \"The principal amount.\"}, \"rate\": {\"type\": \"float\", \"description\": \"The annual interest rate.\"}, \"times_compounded\": {\"type\": \"integer\", \"description\": \"The number of times the interest is compounded per year.\"}, \"years\": {\"type\": \"integer\", \"description\": \"The number of years to calculate the compound interest for.\"}}, \"required\": [\"principal\", \"rate\", \"times_compounded\", \"years\"]}\\ninflation_adjustment: Adjusts an amount for inflation. | Parameters: {\"type\": \"dict\", \"properties\": {\"amount\": {\"type\": \"float\", \"description\": \"The amount to adjust for inflation.\"}, \"inflation_rate\": {\"type\": \"float\", \"description\": \"The annual inflation float.\"}, \"years\": {\"type\": \"integer\", \"description\": \"The number of years to adjust for inflation.\"}}, \"required\": [\"amount\", \"inflation_rate\", \"years\"]}\\nadjust_for_inflation: Adjusts the investment value for inflation for each year. | Parameters: {\"type\": \"dict\", \"properties\": {\"investment_value\": {\"type\": \"float\", \"description\": \"The value of the investment to adjust.\"}, \"inflation_rates\": {\"type\": \"array\", \"items\": {\"type\": \"float\"}, \"description\": \"The inflation rates for each year.\"}}, \"required\": [\"investment_value\", \"inflation_rates\"]}\\ncalculate_basal_metabolic_rate: Calculates the Basal Metabolic Rate (BMR) of a person. | Parameters: {\"type\": \"dict\", \"properties\": {\"weight\": {\"type\": \"float\", \"description\": \"The weight of the person in kilograms.\"}, \"height\": {\"type\": \"float\", \"description\": \"The height of the person in centimeters.\"}, \"age\": {\"type\": \"float\", \"description\": \"The age of the person in years.\"}, \"gender\": {\"type\": \"string\", \"description\": \"The gender of the person. Possible options [male, female, other].\"}}, \"required\": [\"weight\", \"height\", \"age\", \"gender\"]}\\ncalculate_daily_energy_expenditure: Calculates the daily energy expenditure based on BMR and activity level. | Parameters: {\"type\": \"dict\", \"properties\": {\"basal_metabolic_rate\": {\"type\": \"float\", \"description\": \"The BMR of the person.\"}, \"activity_level\": {\"type\": \"float\", \"description\": \"The activity level of the person. Possible options [1,2,3,4,5].\"}}, \"required\": [\"basal_metabolic_rate\", \"activity_level\"]}\\ncalculate_nutritional_needs: Calculates the nutritional needs of a person based on their weight, height, age, gender, activity level, and goal. | Parameters: {\"type\": \"dict\", \"properties\": {\"weight\": {\"type\": \"float\", \"description\": \"The weight of the person in kilograms.\"}, \"height\": {\"type\": \"float\", \"description\": \"The height of the person in centimeters.\"}, \"age\": {\"type\": \"float\", \"description\": \"The age of the person in years.\"}, \"gender\": {\"type\": \"string\", \"description\": \"The gender of the person. Possible options [male, female, other].\"}, \"activity_level\": {\"type\": \"float\", \"description\": \"The activity level of the person. Possible options [1,2,3,4,5].\"}, \"goal\": {\"type\": \"string\", \"description\": \"The goal of the person. Possible options [lose, gain, maintain].\"}}, \"required\": [\"weight\", \"height\", \"age\", \"gender\", \"activity_level\", \"goal\"]}\\nbook_room: Books a room for a customer. | Parameters: {\"type\": \"dict\", \"properties\": {\"room_type\": {\"type\": \"dict\", \"description\": \"The room type to book.\"}, \"check_in_date\": {\"type\": \"string\", \"description\": \"The check-in date in format of MM-DD-YYYY.\"}, \"check_out_date\": {\"type\": \"string\", \"description\": \"The check-out date in format of MM-DD-YYYY.\"}, \"customer_id\": {\"type\": \"string\", \"description\": \"The customer ID.\"}, \"discount_code\": {\"type\": \"string\", \"description\": \"The discount code (if any).\", \"default\": null}}, \"required\": [\"room_type\", \"check_in_date\", \"check_out_date\", \"customer_id\"]}\\ncalculate_total_price: Calculates the total price of the room booking. | Parameters: {\"type\": \"dict\", \"properties\": {\"room_price\": {\"type\": \"float\", \"description\": \"The price per night of the room.\"}, \"nights\": {\"type\": \"integer\", \"description\": \"The number of nights for the booking.\"}, \"discount\": {\"type\": \"float\", \"description\": \"The discount amount (if any).\", \"default\": 0}}, \"required\": [\"room_price\", \"nights\"]}\\nconfirm_booking: Confirms the room booking and sends a confirmation to the customer. | Parameters: {\"type\": \"dict\", \"properties\": {\"customer_id\": {\"type\": \"string\", \"description\": \"The customer ID.\"}, \"room_number\": {\"type\": \"string\", \"description\": \"The room number assigned to the booking.\"}, \"total_price\": {\"type\": \"float\", \"description\": \"The total price for the booking.\"}}, \"required\": [\"customer_id\", \"room_number\", \"total_price\"]}\\norder_food: Orders food for a customer. Return the total price. | Parameters: {\"type\": \"dict\", \"properties\": {\"item\": {\"type\": \"array\", \"items\": {\"type\": \"string\"}, \"description\": \"the name of the product.\"}, \"quantity\": {\"type\": \"array\", \"items\": {\"type\": \"integer\"}, \"description\": \"the number of the product purchased.\"}, \"price\": {\"type\": \"array\", \"items\": {\"type\": \"float\"}, \"description\": \"the price of the product.\"}}, \"required\": [\"item\", \"quantity\", \"price\"]}\\ncalculate_total: Calculates the total price of an order given the quantities and prices. | Parameters: {\"type\": \"dict\", \"properties\": {\"quantities\": {\"type\": \"array\", \"items\": {\"type\": \"integer\"}, \"description\": \"The quantities of each product.\"}, \"prices\": {\"type\": \"array\", \"items\": {\"type\": \"float\"}, \"description\": \"The price of each product.\"}}, \"required\": [\"quantities\", \"prices\"]}\\napply_discount: Applies a discount to the total price. | Parameters: {\"type\": \"dict\", \"properties\": {\"total\": {\"type\": \"float\", \"description\": \"The original total price.\"}, \"discount\": {\"type\": \"float\", \"description\": \"The discount percentage to apply.\"}}, \"required\": [\"total\", \"discount\"]}\\nget_movie_director: Fetches the director of a movie from the OMDB API. | Parameters: {\"type\": \"dict\", \"properties\": {\"movie_name\": {\"type\": \"string\", \"description\": \"The name of the movie.\"}}, \"required\": [\"movie_name\"]}\\ncalculate_interest_rate: Calculates the interest rate for a given principal, rate, and time. | Parameters: {\"type\": \"dict\", \"properties\": {\"principal\": {\"type\": \"float\", \"description\": \"The initial amount of money.\"}, \"rate\": {\"type\": \"float\", \"description\": \"The interest rate per period.\"}, \"time\": {\"type\": \"float\", \"description\": \"The time the money is invested or borrowed for.\"}}, \"required\": [\"principal\", \"rate\", \"time\"]}\\nconvert_temperature: Converts temperature from Celsius to Fahrenheit or vice versa. | Parameters: {\"type\": \"dict\", \"properties\": {\"temperature\": {\"type\": \"float\", \"description\": \"The temperature to convert.\"}, \"unit_from\": {\"type\": \"string\", \"description\": \"The current unit of the temperature (Celsius or Fahrenheit).\"}, \"unit_to\": {\"type\": \"string\", \"description\": \"The unit to convert the temperature to (Celsius or Fahrenheit).\"}}, \"required\": [\"temperature\", \"unit_from\", \"unit_to\"]}\\ngenerate_random_number: Generates a random number within a specified range. | Parameters: {\"type\": \"dict\", \"properties\": {\"min\": {\"type\": \"integer\", \"description\": \"The minimum value of the range.\"}, \"max\": {\"type\": \"integer\", \"description\": \"The maximum value of the range.\"}}, \"required\": [\"min\", \"max\"]}\\nget_movie_rating: Fetches the age rating of a movie from the OMDB API. | Parameters: {\"type\": \"dict\", \"properties\": {\"movie_name\": {\"type\": \"string\", \"description\": \"The name of the movie.\"}}, \"required\": [\"movie_name\"]}\\nget_movie_genre: Retrieves the genre of a movie from the OMDB API. | Parameters: {\"type\": \"dict\", \"properties\": {\"movie_name\": {\"type\": \"string\", \"description\": \"The name of the movie to retrieve the genre for.\"}}, \"required\": [\"movie_name\"]}\\nget_director_by_movie_name: Gets the director of a movie. | Parameters: {\"type\": \"dict\", \"properties\": {\"movie_name\": {\"type\": \"string\", \"description\": \"The movie to find the director of.\"}}, \"required\": [\"movie_name\"]}\\nconvert_coordinates: Converts a list of tuples into a list of lists. | Parameters: {\"type\": \"dict\", \"properties\": {\"coordinates\": {\"type\": \"array\", \"items\": {\"type\": \"tuple\", \"items\": {\"type\": \"float\"}, \"description\": \"A single coordinate represented by a tuple (x, y).\"}, \"description\": \"The coordinates to be converted, where each coordinate is a tuple (x, y).\"}}, \"required\": [\"coordinates\"]}\\npolygon_area: Calculate the area of a polygon given its vertices using the shoelace formula. | Parameters: {\"type\": \"dict\", \"properties\": {\"vertices\": {\"type\": \"array\", \"items\": {\"type\": \"array\", \"items\": {\"type\": \"float\"}, \"minItems\": 2, \"maxItems\": 2, \"description\": \"A single vertex represented by a 2 element list [x, y].\"}, \"description\": \"The vertices of the polygon, where each vertex is a 2 element list [x, y].\"}}, \"required\": [\"vertices\"]}\\nvalidate_polygon: Checks if the given vertices form a valid polygon. | Parameters: {\"type\": \"dict\", \"properties\": {\"vertices\": {\"type\": \"array\", \"items\": {\"type\": \"array\", \"items\": {\"type\": \"float\"}, \"description\": \"A single vertex represented by a 2 element list [x, y].\"}, \"description\": \"The vertices of the polygon, where each vertex is a 2 element list [x, y].\"}}, \"required\": [\"vertices\"]}  \n",
       "4  get_weather_data: Fetches weather data from the Open-Meteo API for the given latitude and longitude. | Parameters: {\"type\": \"dict\", \"properties\": {\"coordinates\": {\"type\": \"array\", \"items\": {\"type\": \"float\"}, \"description\": \"The latitude and longitude of the location.\"}}, \"required\": [\"coordinates\"]}\\ncalc_binomial_probability: Calculates the probability of getting k successes in n trials. | Parameters: {\"type\": \"dict\", \"properties\": {\"n\": {\"type\": \"integer\", \"description\": \"The number of trials.\"}, \"k\": {\"type\": \"integer\", \"description\": \"The number of successes.\"}, \"p\": {\"type\": \"float\", \"description\": \"The probability of success.\"}}, \"required\": [\"n\", \"k\", \"p\"]}\\ncalculate_cosine_similarity: Calculates the cosine similarity of two vectors. | Parameters: {\"type\": \"dict\", \"properties\": {\"vectorA\": {\"type\": \"array\", \"items\": {\"type\": \"float\"}, \"description\": \"The first vector.\"}, \"vectorB\": {\"type\": \"array\", \"items\": {\"type\": \"float\"}, \"description\": \"The second vector.\"}}, \"required\": [\"vectorA\", \"vectorB\"]}\\nget_stock_price_by_stock_name: Finds the price of a stock by its stock name. | Parameters: {\"type\": \"dict\", \"properties\": {\"stock_name\": {\"type\": \"string\", \"description\": \"The stock name of the product, in the format of the stock symbol.\"}}, \"required\": [\"stock_name\"]}\\ncalculate_density: Calculates the density of an object. | Parameters: {\"type\": \"dict\", \"properties\": {\"mass\": {\"type\": \"float\", \"description\": \"The mass of the object, in kilograms.\"}, \"volume\": {\"type\": \"float\", \"description\": \"The volume of the object, in cubic meters.\"}}, \"required\": [\"mass\", \"volume\"]}\\ncalculate_future_value: Calculates the future value of an investment. | Parameters: {\"type\": \"dict\", \"properties\": {\"present_value\": {\"type\": \"float\", \"description\": \"The present value of the investment, in dollars.\"}, \"interest_rate\": {\"type\": \"float\", \"description\": \"The interest rate of the investment, ranging from 0 to 1.\"}, \"periods\": {\"type\": \"integer\", \"description\": \"The number of periods, in years.\"}}, \"required\": [\"present_value\", \"interest_rate\", \"periods\"]}\\nget_rating_by_amazon_ASIN: Finds the rating of a product by its Amazon ASIN. | Parameters: {\"type\": \"dict\", \"properties\": {\"ASIN\": {\"type\": \"string\", \"description\": \"The Amazon ASIN of the product.\"}}, \"required\": [\"ASIN\"]}\\nretrieve_holiday_by_year: Finds the holidays of a year. | Parameters: {\"type\": \"dict\", \"properties\": {\"year\": {\"type\": \"string\", \"description\": \"The year of the holidays.\"}, \"country\": {\"type\": \"string\", \"description\": \"The country of the holidays. Possible options: US, AT, DE, ES, FR, GB, IT, NL, PL, RO, SK, UA.\"}}, \"required\": [\"year\", \"country\"]}\\ncalculate_displacement: Calculates the displacement of an object. | Parameters: {\"type\": \"dict\", \"properties\": {\"initial_velocity\": {\"type\": \"float\", \"description\": \"The initial velocity of the object, in meters per second.\"}, \"acceleration\": {\"type\": \"float\", \"description\": \"The acceleration of the object, in meters per second squared.\"}, \"time\": {\"type\": \"float\", \"description\": \"The time the object has been moving, in seconds.\"}}, \"required\": [\"initial_velocity\", \"acceleration\", \"time\"]}\\nget_zipcode_by_ip_address: Finds the zipcode of an IP address. | Parameters: {\"type\": \"dict\", \"properties\": {\"ip_address\": {\"type\": \"string\", \"description\": \"The IP address to find the location of.\"}}, \"required\": [\"ip_address\"]}\\ncalculate_electrostatic_potential_energy: Calculates the electrostatic potential energy. | Parameters: {\"type\": \"dict\", \"properties\": {\"charge\": {\"type\": \"float\", \"description\": \"The charge of the object, in coulombs.\"}, \"voltage\": {\"type\": \"float\", \"description\": \"The voltage of the object, in volts.\"}}, \"required\": [\"charge\", \"voltage\"]}\\nmortgage_calculator: Calculates the monthly mortgage payment. | Parameters: {\"type\": \"dict\", \"properties\": {\"loan_amount\": {\"type\": \"float\", \"description\": \"The amount of the loan.\"}, \"interest_rate\": {\"type\": \"float\", \"description\": \"The interest rate of the loan, ranging from 0 to 1.\"}, \"loan_period\": {\"type\": \"integer\", \"description\": \"The period of the loan, in years.\"}}, \"required\": [\"loan_amount\", \"interest_rate\", \"loan_period\"]}\\ncalculate_final_velocity: Calculates the final velocity of an object. | Parameters: {\"type\": \"dict\", \"properties\": {\"initial_velocity\": {\"type\": \"float\", \"description\": \"The initial velocity of the object.\"}, \"acceleration\": {\"type\": \"float\", \"description\": \"The acceleration of the object.\"}, \"time\": {\"type\": \"float\", \"description\": \"The time the object has been moving.\"}}, \"required\": [\"initial_velocity\", \"acceleration\", \"time\"]}\\nget_fibonacci_sequence: Calculates the n numbers of the Fibonacci. | Parameters: {\"type\": \"dict\", \"properties\": {\"n\": {\"type\": \"integer\", \"description\": \"The number of Fibonacci numbers to calculate.\"}}, \"required\": [\"n\"]}\\nsort_array: Sorts an array of numbers. | Parameters: {\"type\": \"dict\", \"properties\": {\"array\": {\"type\": \"array\", \"items\": {\"type\": \"float\"}, \"description\": \"The array of numbers.\"}, \"reverse\": {\"type\": \"boolean\", \"description\": \"Whether to sort the array in reverse order, i.e., descending order.\", \"default\": false}}, \"required\": [\"array\"]}\\nget_time_zone_by_coord: Finds the timezone of a coordinate. | Parameters: {\"type\": \"dict\", \"properties\": {\"long\": {\"type\": \"string\", \"description\": \"The longitude of the coordinate.\"}, \"lat\": {\"type\": \"string\", \"description\": \"The latitude of the coordinate.\"}}, \"required\": [\"long\", \"lat\"]}\\ncalculate_mean: Calculates the mean of a list of numbers. | Parameters: {\"type\": \"dict\", \"properties\": {\"numbers\": {\"type\": \"array\", \"items\": {\"type\": \"integer\"}, \"description\": \"The list of numbers.\"}}, \"required\": [\"numbers\"]}\\ncalculate_permutations: Calculates the number of permutations of k elements from a set of n elements. | Parameters: {\"type\": \"dict\", \"properties\": {\"n\": {\"type\": \"integer\", \"description\": \"The number of elements in the set.\"}, \"k\": {\"type\": \"integer\", \"description\": \"The number of elements to choose.\"}}, \"required\": [\"n\", \"k\"]}\\nget_company_name_by_stock_name: Finds the company name of a stock by its stock name. | Parameters: {\"type\": \"dict\", \"properties\": {\"stock_name\": {\"type\": \"string\", \"description\": \"The stock name of the product, in the format of the stock symbol.\"}}, \"required\": [\"stock_name\"]}\\ncalculate_standard_deviation: Calculates the standard deviation of a list of numbers. | Parameters: {\"type\": \"dict\", \"properties\": {\"numbers\": {\"type\": \"array\", \"items\": {\"type\": \"integer\"}, \"description\": \"The list of numbers.\"}}, \"required\": [\"numbers\"]}\\nmath_lcm: Calculates the least common multiple of two numbers. | Parameters: {\"type\": \"dict\", \"properties\": {\"a\": {\"type\": \"integer\", \"description\": \"The first number. This should be the larger number.\"}, \"b\": {\"type\": \"integer\", \"description\": \"The second number.\"}}, \"required\": [\"a\", \"b\"]}\\ncalculate_triangle_area: Calculates the area of a triangle given its base and height. | Parameters: {\"type\": \"dict\", \"properties\": {\"base\": {\"type\": \"integer\", \"description\": \"The base of the triangle, in meters.\"}, \"height\": {\"type\": \"integer\", \"description\": \"The height of the triangle, in meters.\"}}, \"required\": [\"base\", \"height\"]}\\nconvert_currency: Converts a given amount from one currency to another using the ExchangeRate-API. | Parameters: {\"type\": \"dict\", \"properties\": {\"amount\": {\"type\": \"float\", \"description\": \"The amount of money to convert, in the base currency.\"}, \"from_currency\": {\"type\": \"string\", \"description\": \"The ISO currency code for the base currency.\"}, \"to_currency\": {\"type\": \"string\", \"description\": \"The ISO currency code for the target currency.\"}}, \"required\": [\"amount\", \"from_currency\", \"to_currency\"]}\\nget_stock_history: Finds the price of a stock by its stock name. | Parameters: {\"type\": \"dict\", \"properties\": {\"stock_name\": {\"type\": \"string\", \"description\": \"The stock name of the product, in the format of the stock symbol.\"}, \"interval\": {\"type\": \"string\", \"description\": \"The interval of the stock history. Allows one of following : 5m|15m|30m|1h|1d|1wk|1mo|3mo\"}, \"diffandsplits\": {\"type\": \"string\", \"description\": \"The diff and splits of the stock history. Allows one of following : true|false. Default to false\"}}, \"required\": [\"stock_name\", \"interval\"]}\\nmath_gcd: Calculates the greatest common divisor of two numbers. | Parameters: {\"type\": \"dict\", \"properties\": {\"a\": {\"type\": \"integer\", \"description\": \"The first number. This should be the larger number.\"}, \"b\": {\"type\": \"integer\", \"description\": \"The second number.\"}}, \"required\": [\"a\", \"b\"]}\\nestimate_derivative: Estimate the derivative of a function at a given point. | Parameters: {\"type\": \"dict\", \"properties\": {\"function\": {\"type\": \"string\", \"description\": \"The function to calculate the derivative of. This should be the string literal of lambda function\"}, \"x\": {\"type\": \"integer\", \"description\": \"The point to calculate the derivative at.\"}}, \"required\": [\"function\", \"x\"]}\\nfind_term_on_urban_dictionary: Finds the definition of a term on Urban Dictionary. | Parameters: {\"type\": \"dict\", \"properties\": {\"term\": {\"type\": \"string\", \"description\": \"The term to find the definition of.\"}}, \"required\": [\"term\"]}\\nget_distance: Calculates the distance between two 2D points. | Parameters: {\"type\": \"dict\", \"properties\": {\"pointA\": {\"type\": \"tuple\", \"description\": \"The first point.\", \"items\": {\"type\": \"float\"}}, \"pointB\": {\"type\": \"tuple\", \"description\": \"The second point.\", \"items\": {\"type\": \"float\"}}}, \"required\": [\"pointA\", \"pointB\"]}\\ngeometry_area_circle: Calculates the area of a circle. | Parameters: {\"type\": \"dict\", \"properties\": {\"radius\": {\"type\": \"integer\", \"description\": \"The radius of the circle, in feet.\"}}, \"required\": [\"radius\"]}\\nget_covid_death_by_country: Finds the most up to date total deaths of a country result from COVID. | Parameters: {\"type\": \"dict\", \"properties\": {\"country\": {\"type\": \"string\", \"description\": \"The country to find the total deaths of, in the format of the country's full name.\"}}, \"required\": [\"country\"]}\\nget_active_covid_case_by_country: Finds the most up to date active cases of a country result from COVID. | Parameters: {\"type\": \"dict\", \"properties\": {\"country\": {\"type\": \"string\", \"description\": \"The country to find the active cases of, in the format of the country's full name.\"}}, \"required\": [\"country\"]}\\nmat_mul: Multiplies two matrices. | Parameters: {\"type\": \"dict\", \"properties\": {\"matA\": {\"type\": \"array\", \"description\": \"The first matrix.\", \"items\": {\"type\": \"array\", \"items\": {\"type\": \"integer\"}}}, \"matB\": {\"type\": \"array\", \"description\": \"The second matrix.\", \"items\": {\"type\": \"array\", \"items\": {\"type\": \"integer\"}}}}, \"required\": [\"matA\", \"matB\"]}\\nget_coordinate_by_ip_address: Finds the latitude and longitude of an IP address. | Parameters: {\"type\": \"dict\", \"properties\": {\"ip_address\": {\"type\": \"string\", \"description\": \"The IP address to find the location of.\"}}, \"required\": [\"ip_address\"]}\\nget_coordinates_from_city: Fetches the latitude and longitude of a given city name using the Maps.co Geocoding API. | Parameters: {\"type\": \"dict\", \"properties\": {\"city_name\": {\"type\": \"string\", \"description\": \"The name of the city, such as 'Rome'.\"}}, \"required\": [\"city_name\"]}\\nget_product_name_by_amazon_ASIN: Finds the price of a product by its Amazon ASIN. | Parameters: {\"type\": \"dict\", \"properties\": {\"ASIN\": {\"type\": \"string\", \"description\": \"The Amazon ASIN of the product.\"}}, \"required\": [\"ASIN\"]}\\nget_price_by_amazon_ASIN: Finds the price of a product by its Amazon ASIN. | Parameters: {\"type\": \"dict\", \"properties\": {\"ASIN\": {\"type\": \"string\", \"description\": \"The Amazon ASIN of the product.\"}}, \"required\": [\"ASIN\"]}\\nget_prime_factors: Calculates the prime factors of a number. | Parameters: {\"type\": \"dict\", \"properties\": {\"number\": {\"type\": \"integer\", \"description\": \"The number to calculate the prime factors of.\"}}, \"required\": [\"number\"]}\\nretrieve_city_based_on_zipcode: Finds the city of a zipcode. | Parameters: {\"type\": \"dict\", \"properties\": {\"zipcode\": {\"type\": \"string\", \"description\": \"The zipcode of the city.\"}}, \"required\": [\"zipcode\"]}\\nmath_factorial: Calculates the factorial of a number. | Parameters: {\"type\": \"dict\", \"properties\": {\"n\": {\"type\": \"integer\", \"description\": \"The number to calculate the factorial of.\"}}, \"required\": [\"n\"]}\\nquadratic_roots: Calculates the roots of a quadratic equation. | Parameters: {\"type\": \"dict\", \"properties\": {\"a\": {\"type\": \"integer\", \"description\": \"The first coefficient.\"}, \"b\": {\"type\": \"integer\", \"description\": \"The second coefficient.\"}, \"c\": {\"type\": \"integer\", \"description\": \"The third coefficient.\"}}, \"required\": [\"a\", \"b\", \"c\"]}\\nadd_binary_numbers: Adds two binary numbers. | Parameters: {\"type\": \"dict\", \"properties\": {\"a\": {\"type\": \"string\", \"description\": \"The first binary number.\"}, \"b\": {\"type\": \"string\", \"description\": \"The second binary number.\"}}, \"required\": [\"a\", \"b\"]}\\nconvert_binary_to_decimal: Converts a binary number to a decimal number. | Parameters: {\"type\": \"dict\", \"properties\": {\"binary\": {\"type\": \"string\", \"description\": \"The binary number to convert.\"}}, \"required\": [\"binary\"]}\\nconvert_decimal_to_hex: Converts a decimal number to a hexadecimal number. | Parameters: {\"type\": \"dict\", \"properties\": {\"decimal\": {\"type\": \"integer\", \"description\": \"The decimal number to convert.\"}}, \"required\": [\"decimal\"]}\\nlinear_regression: Finds the linear regression of a set of points and evaluates it at a given point. | Parameters: {\"type\": \"dict\", \"properties\": {\"x\": {\"type\": \"array\", \"description\": \"The x coordinates of the points.\", \"items\": {\"type\": \"integer\"}}, \"y\": {\"type\": \"array\", \"description\": \"The y coordinates of the points.\", \"items\": {\"type\": \"integer\"}}, \"point\": {\"type\": \"integer\", \"description\": \"The point to calculate the linear regression at.\"}}, \"required\": [\"x\", \"y\", \"point\"]}\\ncalculate_slope: Calculates the slope of the linear regression line from a set of points. | Parameters: {\"type\": \"dict\", \"properties\": {\"x\": {\"type\": \"array\", \"description\": \"The x coordinates of the points.\", \"items\": {\"type\": \"integer\"}}, \"y\": {\"type\": \"array\", \"description\": \"The y coordinates of the points.\", \"items\": {\"type\": \"integer\"}}}, \"required\": [\"x\", \"y\"]}\\ncalculate_intercept: Calculates the y-intercept of the linear regression line from a set of points and a given slope. | Parameters: {\"type\": \"dict\", \"properties\": {\"x\": {\"type\": \"array\", \"description\": \"The x coordinates of the points.\", \"items\": {\"type\": \"integer\"}}, \"y\": {\"type\": \"array\", \"description\": \"The y coordinates of the points.\", \"items\": {\"type\": \"integer\"}}, \"slope\": {\"type\": \"integer\", \"description\": \"The slope of the linear regression line.\"}}, \"required\": [\"x\", \"y\", \"slope\"]}\\npredict_value: Predicts the value of y given the slope, intercept, and an x value. | Parameters: {\"type\": \"dict\", \"properties\": {\"slope\": {\"type\": \"integer\", \"description\": \"The slope of the linear regression line.\"}, \"intercept\": {\"type\": \"integer\", \"description\": \"The y-intercept of the linear regression line.\"}, \"x\": {\"type\": \"integer\", \"description\": \"The x value to predict the y for.\"}}, \"required\": [\"slope\", \"intercept\", \"x\"]}\\ncalculate_investment_value: Calculates the value of an investment over time. | Parameters: {\"type\": \"dict\", \"properties\": {\"initial_investment\": {\"type\": \"integer\", \"description\": \"The initial investment amount.\"}, \"annual_contribution\": {\"type\": \"integer\", \"description\": \"The annual contribution amount.\"}, \"years\": {\"type\": \"integer\", \"description\": \"The number of years to calculate the investment value for.\"}, \"annual_return\": {\"type\": \"float\", \"description\": \"The annual return rate, ranging from 0 to 1.\"}, \"inflation_rate\": {\"type\": \"array\", \"items\": {\"type\": \"float\"}, \"description\": \"The inflation rate for each year in percentage, ranging from 0 to 1.\"}, \"adjust_for_inflation\": {\"type\": \"boolean\", \"default\": true, \"description\": \"Whether to adjust the investment value for inflation.\"}}, \"required\": [\"initial_investment\", \"annual_contribution\", \"years\", \"annual_return\", \"inflation_rate\"]}\\ncompound_interest: Calculates compound interest over time. | Parameters: {\"type\": \"dict\", \"properties\": {\"principal\": {\"type\": \"integer\", \"description\": \"The principal amount.\"}, \"rate\": {\"type\": \"float\", \"description\": \"The annual interest rate.\"}, \"times_compounded\": {\"type\": \"integer\", \"description\": \"The number of times the interest is compounded per year.\"}, \"years\": {\"type\": \"integer\", \"description\": \"The number of years to calculate the compound interest for.\"}}, \"required\": [\"principal\", \"rate\", \"times_compounded\", \"years\"]}\\ninflation_adjustment: Adjusts an amount for inflation. | Parameters: {\"type\": \"dict\", \"properties\": {\"amount\": {\"type\": \"float\", \"description\": \"The amount to adjust for inflation.\"}, \"inflation_rate\": {\"type\": \"float\", \"description\": \"The annual inflation float.\"}, \"years\": {\"type\": \"integer\", \"description\": \"The number of years to adjust for inflation.\"}}, \"required\": [\"amount\", \"inflation_rate\", \"years\"]}\\nadjust_for_inflation: Adjusts the investment value for inflation for each year. | Parameters: {\"type\": \"dict\", \"properties\": {\"investment_value\": {\"type\": \"float\", \"description\": \"The value of the investment to adjust.\"}, \"inflation_rates\": {\"type\": \"array\", \"items\": {\"type\": \"float\"}, \"description\": \"The inflation rates for each year.\"}}, \"required\": [\"investment_value\", \"inflation_rates\"]}\\ncalculate_basal_metabolic_rate: Calculates the Basal Metabolic Rate (BMR) of a person. | Parameters: {\"type\": \"dict\", \"properties\": {\"weight\": {\"type\": \"float\", \"description\": \"The weight of the person in kilograms.\"}, \"height\": {\"type\": \"float\", \"description\": \"The height of the person in centimeters.\"}, \"age\": {\"type\": \"float\", \"description\": \"The age of the person in years.\"}, \"gender\": {\"type\": \"string\", \"description\": \"The gender of the person. Possible options [male, female, other].\"}}, \"required\": [\"weight\", \"height\", \"age\", \"gender\"]}\\ncalculate_daily_energy_expenditure: Calculates the daily energy expenditure based on BMR and activity level. | Parameters: {\"type\": \"dict\", \"properties\": {\"basal_metabolic_rate\": {\"type\": \"float\", \"description\": \"The BMR of the person.\"}, \"activity_level\": {\"type\": \"float\", \"description\": \"The activity level of the person. Possible options [1,2,3,4,5].\"}}, \"required\": [\"basal_metabolic_rate\", \"activity_level\"]}\\ncalculate_nutritional_needs: Calculates the nutritional needs of a person based on their weight, height, age, gender, activity level, and goal. | Parameters: {\"type\": \"dict\", \"properties\": {\"weight\": {\"type\": \"float\", \"description\": \"The weight of the person in kilograms.\"}, \"height\": {\"type\": \"float\", \"description\": \"The height of the person in centimeters.\"}, \"age\": {\"type\": \"float\", \"description\": \"The age of the person in years.\"}, \"gender\": {\"type\": \"string\", \"description\": \"The gender of the person. Possible options [male, female, other].\"}, \"activity_level\": {\"type\": \"float\", \"description\": \"The activity level of the person. Possible options [1,2,3,4,5].\"}, \"goal\": {\"type\": \"string\", \"description\": \"The goal of the person. Possible options [lose, gain, maintain].\"}}, \"required\": [\"weight\", \"height\", \"age\", \"gender\", \"activity_level\", \"goal\"]}\\nbook_room: Books a room for a customer. | Parameters: {\"type\": \"dict\", \"properties\": {\"room_type\": {\"type\": \"dict\", \"description\": \"The room type to book.\"}, \"check_in_date\": {\"type\": \"string\", \"description\": \"The check-in date in format of MM-DD-YYYY.\"}, \"check_out_date\": {\"type\": \"string\", \"description\": \"The check-out date in format of MM-DD-YYYY.\"}, \"customer_id\": {\"type\": \"string\", \"description\": \"The customer ID.\"}, \"discount_code\": {\"type\": \"string\", \"description\": \"The discount code (if any).\", \"default\": null}}, \"required\": [\"room_type\", \"check_in_date\", \"check_out_date\", \"customer_id\"]}\\ncalculate_total_price: Calculates the total price of the room booking. | Parameters: {\"type\": \"dict\", \"properties\": {\"room_price\": {\"type\": \"float\", \"description\": \"The price per night of the room.\"}, \"nights\": {\"type\": \"integer\", \"description\": \"The number of nights for the booking.\"}, \"discount\": {\"type\": \"float\", \"description\": \"The discount amount (if any).\", \"default\": 0}}, \"required\": [\"room_price\", \"nights\"]}\\nconfirm_booking: Confirms the room booking and sends a confirmation to the customer. | Parameters: {\"type\": \"dict\", \"properties\": {\"customer_id\": {\"type\": \"string\", \"description\": \"The customer ID.\"}, \"room_number\": {\"type\": \"string\", \"description\": \"The room number assigned to the booking.\"}, \"total_price\": {\"type\": \"float\", \"description\": \"The total price for the booking.\"}}, \"required\": [\"customer_id\", \"room_number\", \"total_price\"]}\\norder_food: Orders food for a customer. Return the total price. | Parameters: {\"type\": \"dict\", \"properties\": {\"item\": {\"type\": \"array\", \"items\": {\"type\": \"string\"}, \"description\": \"the name of the product.\"}, \"quantity\": {\"type\": \"array\", \"items\": {\"type\": \"integer\"}, \"description\": \"the number of the product purchased.\"}, \"price\": {\"type\": \"array\", \"items\": {\"type\": \"float\"}, \"description\": \"the price of the product.\"}}, \"required\": [\"item\", \"quantity\", \"price\"]}\\ncalculate_total: Calculates the total price of an order given the quantities and prices. | Parameters: {\"type\": \"dict\", \"properties\": {\"quantities\": {\"type\": \"array\", \"items\": {\"type\": \"integer\"}, \"description\": \"The quantities of each product.\"}, \"prices\": {\"type\": \"array\", \"items\": {\"type\": \"float\"}, \"description\": \"The price of each product.\"}}, \"required\": [\"quantities\", \"prices\"]}\\napply_discount: Applies a discount to the total price. | Parameters: {\"type\": \"dict\", \"properties\": {\"total\": {\"type\": \"float\", \"description\": \"The original total price.\"}, \"discount\": {\"type\": \"float\", \"description\": \"The discount percentage to apply.\"}}, \"required\": [\"total\", \"discount\"]}\\nget_movie_director: Fetches the director of a movie from the OMDB API. | Parameters: {\"type\": \"dict\", \"properties\": {\"movie_name\": {\"type\": \"string\", \"description\": \"The name of the movie.\"}}, \"required\": [\"movie_name\"]}\\ncalculate_interest_rate: Calculates the interest rate for a given principal, rate, and time. | Parameters: {\"type\": \"dict\", \"properties\": {\"principal\": {\"type\": \"float\", \"description\": \"The initial amount of money.\"}, \"rate\": {\"type\": \"float\", \"description\": \"The interest rate per period.\"}, \"time\": {\"type\": \"float\", \"description\": \"The time the money is invested or borrowed for.\"}}, \"required\": [\"principal\", \"rate\", \"time\"]}\\nconvert_temperature: Converts temperature from Celsius to Fahrenheit or vice versa. | Parameters: {\"type\": \"dict\", \"properties\": {\"temperature\": {\"type\": \"float\", \"description\": \"The temperature to convert.\"}, \"unit_from\": {\"type\": \"string\", \"description\": \"The current unit of the temperature (Celsius or Fahrenheit).\"}, \"unit_to\": {\"type\": \"string\", \"description\": \"The unit to convert the temperature to (Celsius or Fahrenheit).\"}}, \"required\": [\"temperature\", \"unit_from\", \"unit_to\"]}\\ngenerate_random_number: Generates a random number within a specified range. | Parameters: {\"type\": \"dict\", \"properties\": {\"min\": {\"type\": \"integer\", \"description\": \"The minimum value of the range.\"}, \"max\": {\"type\": \"integer\", \"description\": \"The maximum value of the range.\"}}, \"required\": [\"min\", \"max\"]}\\nget_movie_rating: Fetches the age rating of a movie from the OMDB API. | Parameters: {\"type\": \"dict\", \"properties\": {\"movie_name\": {\"type\": \"string\", \"description\": \"The name of the movie.\"}}, \"required\": [\"movie_name\"]}\\nget_movie_genre: Retrieves the genre of a movie from the OMDB API. | Parameters: {\"type\": \"dict\", \"properties\": {\"movie_name\": {\"type\": \"string\", \"description\": \"The name of the movie to retrieve the genre for.\"}}, \"required\": [\"movie_name\"]}\\nget_director_by_movie_name: Gets the director of a movie. | Parameters: {\"type\": \"dict\", \"properties\": {\"movie_name\": {\"type\": \"string\", \"description\": \"The movie to find the director of.\"}}, \"required\": [\"movie_name\"]}\\nconvert_coordinates: Converts a list of tuples into a list of lists. | Parameters: {\"type\": \"dict\", \"properties\": {\"coordinates\": {\"type\": \"array\", \"items\": {\"type\": \"tuple\", \"items\": {\"type\": \"float\"}, \"description\": \"A single coordinate represented by a tuple (x, y).\"}, \"description\": \"The coordinates to be converted, where each coordinate is a tuple (x, y).\"}}, \"required\": [\"coordinates\"]}\\npolygon_area: Calculate the area of a polygon given its vertices using the shoelace formula. | Parameters: {\"type\": \"dict\", \"properties\": {\"vertices\": {\"type\": \"array\", \"items\": {\"type\": \"array\", \"items\": {\"type\": \"float\"}, \"minItems\": 2, \"maxItems\": 2, \"description\": \"A single vertex represented by a 2 element list [x, y].\"}, \"description\": \"The vertices of the polygon, where each vertex is a 2 element list [x, y].\"}}, \"required\": [\"vertices\"]}\\nvalidate_polygon: Checks if the given vertices form a valid polygon. | Parameters: {\"type\": \"dict\", \"properties\": {\"vertices\": {\"type\": \"array\", \"items\": {\"type\": \"array\", \"items\": {\"type\": \"float\"}, \"description\": \"A single vertex represented by a 2 element list [x, y].\"}, \"description\": \"The vertices of the polygon, where each vertex is a 2 element list [x, y].\"}}, \"required\": [\"vertices\"]}  "
      ]
     },
     "execution_count": 5,
     "metadata": {},
     "output_type": "execute_result"
    }
   ],
   "source": [
    "import pandas as pd\n",
    "import requests\n",
    "\n",
    "# Load dataset\n",
    "url = \"https://huggingface.co/datasets/gorilla-llm/Berkeley-Function-Calling-Leaderboard/resolve/main/BFCL_v3_exec_multiple.json\"\n",
    "response = requests.get(url)\n",
    "dataset = [json.loads(line) for line in response.text.strip().splitlines()]\n",
    "\n",
    "# Collect all unique tool definitions (these are all the tools the agent\n",
    "# can choose from, as well as their parameters)\n",
    "unique_tools = {}\n",
    "for entry in dataset:\n",
    "    for tool in entry.get(\"function\", []):\n",
    "        if tool[\"name\"] not in unique_tools:\n",
    "            unique_tools[tool[\"name\"]] = tool\n",
    "\n",
    "tool_definitions_text = \"\\n\".join(\n",
    "    f\"{tool['name']}: {tool['description']} | Parameters: {json.dumps(tool['parameters'])}\"\n",
    "    for tool in unique_tools.values()\n",
    ")\n",
    "\n",
    "\n",
    "# Prepare data for evaluation\n",
    "eval_data = []\n",
    "for entry in dataset:\n",
    "    question = entry[\"question\"][0][0][\"content\"]\n",
    "    ground_truths = entry.get(\"ground_truth\", [])\n",
    "    for gt in ground_truths:\n",
    "        eval_data.append(\n",
    "            {\"question\": question, \"tool_call\": gt, \"tool_definitions\": tool_definitions_text}\n",
    "        )\n",
    "\n",
    "df_eval = pd.DataFrame(eval_data)\n",
    "df_eval.head()"
   ]
  },
  {
   "cell_type": "markdown",
   "metadata": {
    "id": "eO7_Lz5iSxnt"
   },
   "source": [
    "## Modify Benchmark Dataset\n",
    "\n",
    "The BFCL Dataset does not have any `negative` examples, i.e. only `question`, `available_tools`, and `ground_truth` are present. In order to accurately benchmark our LLM-as-a-Judge, this code snippet appends some `incorrect` examples to our dataset, by adding 20 rows of data where the `incorrect` tool is selected with correspondingly incorrect parameters."
   ]
  },
  {
   "cell_type": "code",
   "execution_count": 6,
   "metadata": {
    "id": "TnUiOiwYS31x"
   },
   "outputs": [],
   "source": [
    "import json\n",
    "import random\n",
    "import re\n",
    "\n",
    "\n",
    "# Parse tool definitions into a dict: tool_name -> list of required parameters\n",
    "def extract_tool_param_templates(tool_definitions):\n",
    "    tools = {}\n",
    "    pattern = r\"^(\\w+):.*?\\| Parameters: (.*)$\"\n",
    "    for line in tool_definitions.strip().split(\"\\n\"):\n",
    "        match = re.match(pattern, line.strip())\n",
    "        if match:\n",
    "            name, param_json = match.groups()\n",
    "            try:\n",
    "                param_schema = json.loads(param_json)\n",
    "                required = param_schema.get(\"required\", [])\n",
    "                tools[name] = required\n",
    "            except json.JSONDecodeError:\n",
    "                continue\n",
    "    return tools\n",
    "\n",
    "\n",
    "tool_param_templates = extract_tool_param_templates(tool_definitions_text)\n",
    "tool_names = list(tool_param_templates.keys())\n",
    "\n",
    "# Sample 20 wrong examples\n",
    "wrong_examples = []\n",
    "for i in range(20):\n",
    "    row = df_eval.iloc[i]\n",
    "    question = row[\"question\"]\n",
    "    correct_tool_call_str = row[\"tool_call\"]\n",
    "\n",
    "    # Get correct tool name (assume it's before the first '(')\n",
    "    try:\n",
    "        correct_tool_name = correct_tool_call_str.split(\"(\")[0]\n",
    "    except Exception as e:\n",
    "        print(f\"Skipping row {i} due to error: {e}\")\n",
    "        continue\n",
    "\n",
    "    # Get a different tool\n",
    "    incorrect_tools = [tool for tool in tool_names if tool != correct_tool_name]\n",
    "    if not incorrect_tools:\n",
    "        continue\n",
    "\n",
    "    wrong_tool = random.choice(incorrect_tools)\n",
    "    required_params = tool_param_templates.get(wrong_tool, [])\n",
    "\n",
    "    # Build dummy argument string\n",
    "    dummy_args = []\n",
    "    for param in required_params:\n",
    "        dummy_value = random.choice(\n",
    "            [42, 3.14, '\"example\"', \"[1, 2, 3]\", \"True\"]\n",
    "        )  # random but plausible\n",
    "        dummy_args.append(f\"{param}={dummy_value}\")\n",
    "\n",
    "    wrong_tool_call = f\"{wrong_tool}({', '.join(dummy_args)})\"\n",
    "\n",
    "    wrong_examples.append(\n",
    "        {\n",
    "            \"question\": question,\n",
    "            \"tool_call\": wrong_tool_call,\n",
    "            \"tool_definitions\": tool_definitions_text,\n",
    "        }\n",
    "    )\n",
    "\n",
    "# Create and label the correct examples\n",
    "df_eval[\"true_label\"] = \"correct\"\n",
    "\n",
    "# Create and label the incorrect examples\n",
    "df_wrong = pd.DataFrame(wrong_examples)\n",
    "df_wrong[\"true_label\"] = \"incorrect\"\n",
    "\n",
    "# Combine both datasets\n",
    "df_combined = pd.concat([df_eval, df_wrong], ignore_index=True)\n",
    "\n",
    "# OPTIONAL: Shuffle AFTER labeling\n",
    "df_eval_final = df_combined.sample(frac=1).reset_index(drop=True)"
   ]
  },
  {
   "cell_type": "markdown",
   "metadata": {
    "id": "1BsKhwkqEGbc"
   },
   "source": [
    "## Display Agent Tool Parameter Extraction Prompt Template\n",
    "\n",
    "View the default template used to evaluate agent tool parameter extraction.\n",
    "You can tweak this template and evaluate its performance relative to the default."
   ]
  },
  {
   "cell_type": "code",
   "execution_count": 7,
   "metadata": {
    "colab": {
     "base_uri": "https://localhost:8080/"
    },
    "id": "mbuxlKUqlvk0",
    "outputId": "a5aba42a-7852-4727-db25-ecd621e48499"
   },
   "outputs": [
    {
     "name": "stdout",
     "output_type": "stream",
     "text": [
      "\n",
      "You are an evaluation assistant assessing whether the parameters provided in a tool call correctly\n",
      "match the user's question. Your task is to decide if the parameters selected are correct and \n",
      "sufficient to answer the question, using only the list of available tools and their parameter\n",
      "definitions provided below. You are not responsible for checking if the correct tool was selected\n",
      "— assume the tool is correct. You are evaluating **only** whether the parameters are accurate and\n",
      "justified based on the content of the question.\n",
      "\n",
      "Think like a grading rubric. Be strict. If the parameters are not clearly correct based on the\n",
      "question alone, label them \"incorrect\". Do not make assumptions or infer values that are not\n",
      "explicitly stated or directly supported by the question. Only use the information provided.\n",
      "\n",
      "Your response must be a **single word**: either `\"correct\"` or `\"incorrect\"`. \n",
      "Do not include any explanation, punctuation, or other characters. The output will be parsed\n",
      "programmatically.\n",
      "\n",
      "---\n",
      "Label the parameter extraction as `\"correct\"` if **all** of the following are true:\n",
      "- All required parameters are present and correctly filled based on the question\n",
      "- The parameter values are explicitly justified by the question\n",
      "- No extra, irrelevant, or hallucinated parameters are included\n",
      "\n",
      "Label the parameter extraction as `\"incorrect\"` if **any** of the following are true:\n",
      "- Any required parameter is missing, malformed, or incorrectly populated\n",
      "- Any parameter value is inferred or not clearly supported by the question\n",
      "- Any extra or irrelevant parameter is included\n",
      "---\n",
      "\n",
      "[BEGIN DATA]\n",
      "************\n",
      "[Question]: {question}\n",
      "************\n",
      "[Tool Called With Parameters]: {tool_call}\n",
      "************\n",
      "[END DATA]\n",
      "\n",
      "[Tool Definitions]: {tool_definitions}\n",
      "\n",
      "\n"
     ]
    }
   ],
   "source": [
    "print(templates.TOOL_PARAMETER_EXTRACTION_PROMPT_TEMPLATE)"
   ]
  },
  {
   "cell_type": "markdown",
   "metadata": {
    "id": "oR2oNMS6EGbc"
   },
   "source": [
    "Eval template variables:\n",
    "\n",
    "- **question** : The question the user poses\n",
    "- **tool_call** : The tool that is actually called (ground truth)\n",
    "- **tool_definitions** : All the available tools to the agent"
   ]
  },
  {
   "cell_type": "markdown",
   "metadata": {
    "id": "tV3bLwrAEGbd"
   },
   "source": [
    "## Configure the LLM\n",
    "\n",
    "Configure your API keys."
   ]
  },
  {
   "cell_type": "code",
   "execution_count": 8,
   "metadata": {
    "colab": {
     "base_uri": "https://localhost:8080/"
    },
    "id": "dlm4HdAGEGbd",
    "outputId": "799bd4f0-ee41-4afa-aa40-4236d29514e6"
   },
   "outputs": [
    {
     "name": "stdout",
     "output_type": "stream",
     "text": [
      "🔑 Enter your OpenAI API key: ··········\n",
      "🔑 Enter your Anthropic API key: ··········\n"
     ]
    }
   ],
   "source": [
    "if not (openai_api_key := os.getenv(\"OPENAI_API_KEY\")):\n",
    "    openai_api_key = getpass(\"🔑 Enter your OpenAI API key: \")\n",
    "\n",
    "openai.api_key = openai_api_key\n",
    "os.environ[\"OPENAI_API_KEY\"] = openai_api_key\n",
    "\n",
    "\n",
    "# Set Anthropic API key\n",
    "if not (anthropic_api_key := os.getenv(\"ANTHROPIC_API_KEY\")):\n",
    "    anthropic_api_key = getpass(\"🔑 Enter your Anthropic API key: \")\n",
    "\n",
    "os.environ[\"ANTHROPIC_API_KEY\"] = anthropic_api_key"
   ]
  },
  {
   "cell_type": "markdown",
   "metadata": {
    "id": "9NJpkArqgrmE"
   },
   "source": [
    "## Evaluate the Dataset Using Phoenix"
   ]
  },
  {
   "cell_type": "code",
   "execution_count": 9,
   "metadata": {
    "colab": {
     "base_uri": "https://localhost:8080/",
     "height": 847,
     "referenced_widgets": [
      "11a19352e7dc48f48e1de400552582f2",
      "e5b6db55d7df4cb5af38d0249f8be20e",
      "0ec917fa6adc4ffa9f0736824a53bdf3",
      "2297336662e94b27922e874b0321bd3e",
      "b8e4f1fde9b74536a4c2d9fd2ddc95d2",
      "52fcfb62da9d44beafafbc022d54dbc4",
      "4e824d22017a4953a26cb60b547a0aea",
      "f4c214b6301149d4aba656a9b4a517aa",
      "43fee9ac324c4719b14370981cf4ff55",
      "25168ef30fc64f1cbd1acdc85d314851",
      "9d3a259f6ba74792beb5448039b62ad9",
      "fc3ad5d3770f4f8e90c6e462de5c2baf",
      "40344a77df6c494ba4c59f7eb7daf93b",
      "b692112089fb48b597501fd41d7e9309",
      "1b4b2a157d044070b6ff12fc5b231975",
      "0913c48176864a348d0afea6621f7734",
      "1e5faa47e9a54311b72aa633ee140e33",
      "37b910a8221b46da9f844834bfea222e",
      "ac75ce445ebe42188454a08ac878f3be",
      "ed537e5b73624bf480d1624af1e86676",
      "d4f7f668eb7c4cb9923bdbd7f7eab9ee",
      "18dd518d69134f798855fae6279260ba",
      "d4f8abec598445b6995d34e1bb14efb4",
      "ab58e3a8307b477b8f1cef4e9324751a",
      "fd3a8aae6c534807a97dd847ddbdb366",
      "c465b3999aca4722b1c3ada8ce0fba58",
      "f93e704141414d3d8c8091042c041580",
      "1218c036286949ebb6455fe16100101a",
      "10339f7a7a79432e89486f5e820118d5",
      "60a9f2dc59b14b25b5190b6b50584da4",
      "a291959d1510476990768f5c571e8340",
      "26c573b89b15401e93f1a4f4bf4dabd2",
      "608f098ddfea483ab63a28e708ec182e",
      "9348ea7b67b8455aa2fa81dd15fcd7f6",
      "59369ab214134f5ab5366fee1e289d84",
      "925d0e1fb50d4b3297de6d9a89bb4a6a",
      "23dc6f0abfe94b548adb494f4e8251af",
      "8b760544250a496785ba42695b148942",
      "5686a27f25db4afab4bb83a774a621e4",
      "6a35e07e02c244b8a2fa0528646aeb22",
      "3813e3fe73804a6583da436db03dc8a8",
      "d7df50e3c85d429bb4c9d8ebfe0529d5",
      "ae2a11e078944736baacadd0ee9da1b9",
      "6747c065bdd34a08aebc7cab22959f70",
      "ea1b7ba097154e879d29d230922d821a",
      "b3f12ad80d924c4ab32b2b3eb6fdfb03",
      "e788e482453848e699614e1a2ea8ce17",
      "b6d15b41ff2a4f01bb593c1a75b84ccf",
      "c23168f9f0b04609827cd8a784d93892",
      "a98ac0543b5749899a275ea96703344f",
      "57493bcd3ef54c5d9b97992ea09b7a9a",
      "7aafbc8af83f4292adb446ec8b73b46c",
      "1cf7742a5b004f7d8b7356d76fd1e9a9",
      "0f224df498944b5aa1e866192f111dd8",
      "22638bfe5e9b4629a23d925c2e462aad",
      "40bd755b4ac14db8bde499187a7da44c",
      "3320e2f8aacf4ffaae0702057d9146f3",
      "df84b585621447b5ac6d87f6902731c6",
      "3b1cf789e71740c7a73a54807edbd407",
      "4ef628fd0d274874bc3c6dbf23c372f5",
      "4b54372e7b484d88a6495114271a2bff",
      "bc59a8a2fcb245929d338013d8056f4c",
      "b7a55e635446484cb95f4c59927d258c",
      "ac49b4ac941a424c90715b24addb7a63",
      "f687228d0a7d452096012549713cd56a",
      "b6d50b46294b42e099c70cc559c75bb6",
      "160ab678e2674ac0b0fd2a6118ca64c5",
      "caa601977c5a4a9d94a98bce1bdda47e",
      "ad531d3a7e7045099452c087ca2b7e4c",
      "3593889b1e9a405480fee6b3aa2b1660",
      "fbc42198b5d245af88129d4219e5f378",
      "ae4eee1639094c5d9a0512c2ce14d839",
      "475bb8e6edc2453c86ff31de02d57ded",
      "1a4f4acbf96d4aecbbbdc23524f1fc12",
      "c4feb7039ec740a9b7704f18cbc78663",
      "e15e603bf71f48bb8cf0bfb16f48bd85",
      "dba97099e9884d70a36faa126d13641c",
      "53c54c891a674b04ba0106f1f8931046",
      "d7e376d5663c4b0490e492758e34947b",
      "91f74b2a275b43378f18832140807add",
      "a66c4928ded34688958595d8ebc7b71c",
      "c6d0738e230c48cdba51f71993eae09a",
      "be6eaee0cfd842c4971085c7ecbab8f7",
      "3b58c94a12a541098d5850b86d11f000",
      "e4536434d07a4c74a479094d43f20d5c",
      "a837f74f8a2945f199c3c1ccc006abec",
      "6790b8f459f54f2b8285f6ac48ead522",
      "89ed7ef9ebdc41de8fa40b9388ff523f",
      "fa79e4e6ddc64c2a9e87464c8a076e67",
      "defa0c8ed69344129ad0cd962e4c20f0",
      "6dd47116d86248e780fdf3170d02b3f4",
      "5caf184743c04502ab8eac7a6f48b6f9",
      "430008144a9d44a9a29237dca8885438",
      "0059f99e8a26433c94e12cbc79a6f215",
      "216374e470cb41b2b55a0e632b3ba2a5",
      "2981e398daf144169239349a543f6e24",
      "1992b0a8a2c64d3eac6e669aaa91d9eb",
      "b6b44ed0d32342f2adcefa4f9858e9d1",
      "7c583721acb642afa53bbd2303f3ab29",
      "b5888e04c9484c2482c1d1098b258f18",
      "2a74508978e04245932fb59a798be376",
      "8e1698123a3d4cd1ba983443f95e3fce",
      "5be96be0bcd8461d98894c7028bcc310",
      "cc42d60bb6bc479794d5edb18fd92b3e",
      "1da7fd2c929b462594b2f2efb7f6ee9d",
      "fbf4a09ce2874928aae53999d6a2b61d",
      "26a7786f10fc48f9b840422eab1cd085",
      "cbfba3e516a2423b9c0a9aab99a20b7c",
      "54573c75891740afa5e47024d53ac2dd",
      "8ff32a5701a74a33a4339c3cdbe29c74",
      "449cf88bb878427eb97af395ad71c998",
      "3e9372d581944994933d84427dd2af2d",
      "5ca8fe7b3aeb46bfb3f5ea8ca7742723",
      "e4e23d0c47a0465cbca362d06415e5a3",
      "7056ba83e3794c6ab18b2ed306db24ed",
      "5a2fc644f83940e292b21e47647394cb",
      "5e61d89e7c94440bb357e7e20261af41",
      "90e49e0c940b4713a93c35b1a903fe4f",
      "84a02fc132224e2a83144ffba67c17d6",
      "259799276ddf4c798a53face1c40c7b4",
      "43f0102ed0fb4e87988bd8cfb457df8a",
      "17822d9bb06348a89b286bd2492123ff",
      "62738f1c6b4249e1ba4452e71515bbcb",
      "3e4e935d26e248d8ac8b55d60c290713",
      "79c8a051c477446f8d7d331ca5acc838",
      "5e96433379964b2080a05627090f2d84",
      "5c69bc4bf90d4bfb98283a1368e10774",
      "24ee29af602c4b04bf43326a1ab3f96a",
      "6fa9c98c50ed4ebaafd489ab1631101f",
      "f57ab92bec5d4b798594575d9ef24c7a",
      "766fe7418a3f4e32b290272a40010ec1",
      "90ee4912d1584d439f0e5ae1775b2d1e"
     ]
    },
    "id": "q5zDDCXqPwN0",
    "outputId": "2254d24a-f409-43d4-b0c2-4f481e3b560a"
   },
   "outputs": [
    {
     "name": "stderr",
     "output_type": "stream",
     "text": [
      "\r  0%|          | 0/12 [00:00<?, ?it/s]"
     ]
    },
    {
     "name": "stdout",
     "output_type": "stream",
     "text": [
      "\n",
      "🧪 Evaluating OpenAI model: gpt-4o\n"
     ]
    },
    {
     "data": {
      "application/vnd.jupyter.widget-view+json": {
       "model_id": "11a19352e7dc48f48e1de400552582f2",
       "version_major": 2,
       "version_minor": 0
      },
      "text/plain": [
       "llm_classify |          | 0/50 (0.0%) | ⏳ 00:00<? | ?it/s"
      ]
     },
     "metadata": {},
     "output_type": "display_data"
    },
    {
     "name": "stderr",
     "output_type": "stream",
     "text": [
      "\r  8%|▊         | 1/12 [00:07<01:19,  7.23s/it]"
     ]
    },
    {
     "name": "stdout",
     "output_type": "stream",
     "text": [
      "\n",
      "🧪 Evaluating OpenAI model: gpt-4o-mini\n"
     ]
    },
    {
     "data": {
      "application/vnd.jupyter.widget-view+json": {
       "model_id": "fc3ad5d3770f4f8e90c6e462de5c2baf",
       "version_major": 2,
       "version_minor": 0
      },
      "text/plain": [
       "llm_classify |          | 0/50 (0.0%) | ⏳ 00:00<? | ?it/s"
      ]
     },
     "metadata": {},
     "output_type": "display_data"
    },
    {
     "name": "stderr",
     "output_type": "stream",
     "text": [
      "\r 17%|█▋        | 2/12 [00:14<01:09,  6.99s/it]"
     ]
    },
    {
     "name": "stdout",
     "output_type": "stream",
     "text": [
      "\n",
      "🧪 Evaluating OpenAI model: gpt-4\n"
     ]
    },
    {
     "data": {
      "application/vnd.jupyter.widget-view+json": {
       "model_id": "d4f8abec598445b6995d34e1bb14efb4",
       "version_major": 2,
       "version_minor": 0
      },
      "text/plain": [
       "llm_classify |          | 0/50 (0.0%) | ⏳ 00:00<? | ?it/s"
      ]
     },
     "metadata": {},
     "output_type": "display_data"
    },
    {
     "name": "stderr",
     "output_type": "stream",
     "text": [
      "\r 25%|██▌       | 3/12 [00:24<01:18,  8.76s/it]"
     ]
    },
    {
     "name": "stdout",
     "output_type": "stream",
     "text": [
      "\n",
      "🧪 Evaluating OpenAI model: gpt-4-turbo\n"
     ]
    },
    {
     "data": {
      "application/vnd.jupyter.widget-view+json": {
       "model_id": "9348ea7b67b8455aa2fa81dd15fcd7f6",
       "version_major": 2,
       "version_minor": 0
      },
      "text/plain": [
       "llm_classify |          | 0/50 (0.0%) | ⏳ 00:00<? | ?it/s"
      ]
     },
     "metadata": {},
     "output_type": "display_data"
    },
    {
     "name": "stderr",
     "output_type": "stream",
     "text": [
      "\r 33%|███▎      | 4/12 [00:32<01:07,  8.41s/it]"
     ]
    },
    {
     "name": "stdout",
     "output_type": "stream",
     "text": [
      "\n",
      "🧪 Evaluating OpenAI model: gpt-4-turbo-2024-04-09\n"
     ]
    },
    {
     "data": {
      "application/vnd.jupyter.widget-view+json": {
       "model_id": "ea1b7ba097154e879d29d230922d821a",
       "version_major": 2,
       "version_minor": 0
      },
      "text/plain": [
       "llm_classify |          | 0/50 (0.0%) | ⏳ 00:00<? | ?it/s"
      ]
     },
     "metadata": {},
     "output_type": "display_data"
    },
    {
     "name": "stderr",
     "output_type": "stream",
     "text": [
      "\r 42%|████▏     | 5/12 [00:42<01:01,  8.81s/it]"
     ]
    },
    {
     "name": "stdout",
     "output_type": "stream",
     "text": [
      "\n",
      "🧪 Evaluating OpenAI model: gpt-3.5-turbo\n"
     ]
    },
    {
     "data": {
      "application/vnd.jupyter.widget-view+json": {
       "model_id": "40bd755b4ac14db8bde499187a7da44c",
       "version_major": 2,
       "version_minor": 0
      },
      "text/plain": [
       "llm_classify |          | 0/50 (0.0%) | ⏳ 00:00<? | ?it/s"
      ]
     },
     "metadata": {},
     "output_type": "display_data"
    },
    {
     "name": "stderr",
     "output_type": "stream",
     "text": [
      "\r 50%|█████     | 6/12 [00:51<00:54,  9.02s/it]"
     ]
    },
    {
     "name": "stdout",
     "output_type": "stream",
     "text": [
      "\n",
      "🧪 Evaluating OpenAI model: gpt-3.5-turbo-0125\n"
     ]
    },
    {
     "data": {
      "application/vnd.jupyter.widget-view+json": {
       "model_id": "160ab678e2674ac0b0fd2a6118ca64c5",
       "version_major": 2,
       "version_minor": 0
      },
      "text/plain": [
       "llm_classify |          | 0/50 (0.0%) | ⏳ 00:00<? | ?it/s"
      ]
     },
     "metadata": {},
     "output_type": "display_data"
    },
    {
     "name": "stderr",
     "output_type": "stream",
     "text": [
      "\r 58%|█████▊    | 7/12 [00:58<00:41,  8.24s/it]"
     ]
    },
    {
     "name": "stdout",
     "output_type": "stream",
     "text": [
      "\n",
      "🧪 Evaluating OpenAI model: o1\n"
     ]
    },
    {
     "data": {
      "application/vnd.jupyter.widget-view+json": {
       "model_id": "53c54c891a674b04ba0106f1f8931046",
       "version_major": 2,
       "version_minor": 0
      },
      "text/plain": [
       "llm_classify |          | 0/50 (0.0%) | ⏳ 00:00<? | ?it/s"
      ]
     },
     "metadata": {},
     "output_type": "display_data"
    },
    {
     "name": "stderr",
     "output_type": "stream",
     "text": [
      "\r 67%|██████▋   | 8/12 [01:21<00:51, 12.94s/it]"
     ]
    },
    {
     "name": "stdout",
     "output_type": "stream",
     "text": [
      "\n",
      "🧪 Evaluating OpenAI model: o1-mini\n"
     ]
    },
    {
     "data": {
      "application/vnd.jupyter.widget-view+json": {
       "model_id": "fa79e4e6ddc64c2a9e87464c8a076e67",
       "version_major": 2,
       "version_minor": 0
      },
      "text/plain": [
       "llm_classify |          | 0/50 (0.0%) | ⏳ 00:00<? | ?it/s"
      ]
     },
     "metadata": {},
     "output_type": "display_data"
    },
    {
     "name": "stderr",
     "output_type": "stream",
     "text": [
      "\r 75%|███████▌  | 9/12 [01:35<00:39, 13.29s/it]"
     ]
    },
    {
     "name": "stdout",
     "output_type": "stream",
     "text": [
      "\n",
      "🧪 Evaluating OpenAI model: o3\n"
     ]
    },
    {
     "data": {
      "application/vnd.jupyter.widget-view+json": {
       "model_id": "b5888e04c9484c2482c1d1098b258f18",
       "version_major": 2,
       "version_minor": 0
      },
      "text/plain": [
       "llm_classify |          | 0/50 (0.0%) | ⏳ 00:00<? | ?it/s"
      ]
     },
     "metadata": {},
     "output_type": "display_data"
    },
    {
     "name": "stderr",
     "output_type": "stream",
     "text": [
      "\r 83%|████████▎ | 10/12 [01:52<00:28, 14.35s/it]"
     ]
    },
    {
     "name": "stdout",
     "output_type": "stream",
     "text": [
      "\n",
      "🧪 Evaluating OpenAI model: o3-mini\n"
     ]
    },
    {
     "data": {
      "application/vnd.jupyter.widget-view+json": {
       "model_id": "449cf88bb878427eb97af395ad71c998",
       "version_major": 2,
       "version_minor": 0
      },
      "text/plain": [
       "llm_classify |          | 0/50 (0.0%) | ⏳ 00:00<? | ?it/s"
      ]
     },
     "metadata": {},
     "output_type": "display_data"
    },
    {
     "name": "stderr",
     "output_type": "stream",
     "text": [
      "\r 92%|█████████▏| 11/12 [02:13<00:16, 16.48s/it]"
     ]
    },
    {
     "name": "stdout",
     "output_type": "stream",
     "text": [
      "\n",
      "🧪 Evaluating OpenAI model: o4-mini\n"
     ]
    },
    {
     "data": {
      "application/vnd.jupyter.widget-view+json": {
       "model_id": "17822d9bb06348a89b286bd2492123ff",
       "version_major": 2,
       "version_minor": 0
      },
      "text/plain": [
       "llm_classify |          | 0/50 (0.0%) | ⏳ 00:00<? | ?it/s"
      ]
     },
     "metadata": {},
     "output_type": "display_data"
    },
    {
     "name": "stderr",
     "output_type": "stream",
     "text": [
      "100%|██████████| 12/12 [02:29<00:00, 12.43s/it]\n"
     ]
    }
   ],
   "source": [
    "from tqdm import tqdm\n",
    "\n",
    "# List of OpenAI model codes to benchmark\n",
    "open_ai_models = [\n",
    "    \"gpt-4o\",  # GPT-4 Omni (May 2024)\n",
    "    \"gpt-4o-mini\",  # Smaller version of GPT-4o\n",
    "    \"gpt-4\",  # GPT-4 (March 2023)\n",
    "    \"gpt-4-turbo\",  # GPT-4 Turbo (November 2023)\n",
    "    \"gpt-4-turbo-2024-04-09\",  # GPT-4 Turbo snapshot (April 2024)\n",
    "    \"gpt-3.5-turbo\",  # GPT-3.5 Turbo (March 2023)\n",
    "    \"gpt-3.5-turbo-0125\",  # GPT-3.5 Turbo snapshot (January 2025)\n",
    "    \"o1\",  # OpenAI's first reasoning model\n",
    "    \"o1-mini\",  # Smaller version of o1\n",
    "    \"o3\",  # Successor to o1 with improved reasoning\n",
    "    \"o3-mini\",  # Smaller version of o3\n",
    "    \"o4-mini\",  # Latest mini reasoning model (April 2025)\n",
    "]\n",
    "\n",
    "# List of Claude (Anthropic) models to benchmark\n",
    "anthropic_models = [\n",
    "    \"claude-3-opus-20240229\",  # Claude 3 Opus\n",
    "    \"claude-3-sonnet-20240229\",  # Claude 3 Sonnet\n",
    "    \"claude-3-haiku-20240307\",  # Claude 3 Haiku\n",
    "    \"claude-opus-4-20250514\",  # Claude Opus 4\n",
    "    \"claude-sonnet-4-20250514\",  # Claude Sonnet 4\n",
    "]\n",
    "\n",
    "\n",
    "#\n",
    "\n",
    "all_results = []\n",
    "\n",
    "# ---------- Evaluate OpenAI Models ----------\n",
    "for model_name in tqdm(open_ai_models):\n",
    "    print(f\"\\n🧪 Evaluating OpenAI model: {model_name}\")\n",
    "\n",
    "    model = OpenAIModel(model=model_name, temperature=1)\n",
    "\n",
    "    results = llm_classify(\n",
    "        data=df_eval,\n",
    "        template=templates.TOOL_PARAMETER_EXTRACTION_PROMPT_TEMPLATE,\n",
    "        model=model,\n",
    "        rails=[\"correct\", \"incorrect\"],\n",
    "        provide_explanation=False,\n",
    "    )\n",
    "\n",
    "    df_result = df_eval.copy()\n",
    "    df_result[\"label\"] = results[\"label\"]\n",
    "    df_result[\"model\"] = model_name\n",
    "    all_results.append(df_result)"
   ]
  },
  {
   "cell_type": "markdown",
   "metadata": {
    "id": "sNF3fP4QcFs7"
   },
   "source": [
    "## Evaluate Anthropic Models"
   ]
  },
  {
   "cell_type": "code",
   "execution_count": 10,
   "metadata": {
    "colab": {
     "base_uri": "https://localhost:8080/",
     "height": 1000,
     "referenced_widgets": [
      "97fb9f884bff402cb29f91ad720d7643",
      "a6f5fad0018447d388b104dcd9182394",
      "482cb8ffa07e4cff8cdd54b80908fc7e",
      "136d9839851843fc8110409b6af5bddb",
      "d485e71ea2d9445fbd48965118fd6ba4",
      "2abea0d6b03e49a296c397e4fea374f7",
      "04fd0067a56e4c1d9d0ddaaedf3e4e3f",
      "00d9cdb672c940ea90f97419ee7bfec5",
      "4d5731062b0148c383020e2d866369af",
      "ff8f32a4c18a48e8b8eadafd53232799",
      "d1f6496c11404907acda6c3b35d1a16f",
      "dd4dc245307b46dfbc3b839b415a6dd5",
      "bd59271839ac4371a1771c4b8460dc3e",
      "c113487e004842b2915e1b2e0089c9e1",
      "bde76013fd414662ac7d02ed8378dc79",
      "9e9b7ad6b26d4f258c656584a6687877",
      "ab064aec631e4848b5c6015834147ead",
      "56fd3a897d9c468abf6f0ed326e4fadd",
      "68ef74088ec24f33ac68f251adfffcb3",
      "f74a72240e4e4753b961568df195527c",
      "8710b0ff53c94668b3bab0dbff47effe",
      "73f61a1dbd374c3ebb91bad4553b6bfc",
      "243c1059820746ce855f0213e35bab71",
      "3fdcff64117e406fb7082ea945c1d96e",
      "7216f2504ffc4603a424e2535668202a",
      "061d4abaa6d24f198cd6e56dee4d8437",
      "c05224745293437b88fb69ac30405c39",
      "01db47cd4ff74fd6a04c0adb6b9f104b",
      "013f24eeeacd40afb8a2417440aa228f",
      "6d02466f3b4e4099842ca0782b8383c2",
      "8e58148a45c3439eae961312fe944b4e",
      "7931a0650e20408189d5bbdc369e4bd7",
      "e524e6c27a8347e0914514f9198aad0e",
      "5bdda007e2924b14a6bec8c39bf02c2b",
      "52195add7ceb45748d2f994617b68fe6",
      "8c0918ea0ac84c2b996b0a1343ae3ff6",
      "2348137c35ad49e8b7535d93c1007853",
      "0a738d9898014c408dfe6803a7cc6dfe",
      "f803cf097a8f4259aae20838f3455c48",
      "735b3c3f99ec4df5bb5b6c49a23e2628",
      "497cbb779d9941b9a11cc202c45aa9ce",
      "2ffa08d58bf8402ca7f858a1632e89ec",
      "b3ca09bce6d8415daad8af51855672f6",
      "40553818a38c48678beabd17c2fbdb16",
      "49a1cab81c6847be8fc8c7e527f184c3",
      "1675844499b14573a86e3ede209e477b",
      "f61ee3f4378a4aa38353dbd0f4b43a7e",
      "74f5302831964329801706679024121a",
      "e1b783651a4147fa866b20fb5eecabfe",
      "2f5b7e736ed0422b8ce810a94c344f28",
      "09ae262e18df42a5a37faa12d1520c96",
      "c34e0528975a4afb887145a3be970451",
      "e26fa03ae9bd4f8ebb9f9d5cbe820bac",
      "abba9e1a7ad34e239636d287c9230c90",
      "5f52ca57a62e4aa485740e36552fe629"
     ]
    },
    "id": "LJX1KXX2cE_v",
    "outputId": "0c625656-1d00-4aaa-b7f1-ea0a7b15a3e0"
   },
   "outputs": [
    {
     "name": "stderr",
     "output_type": "stream",
     "text": [
      "\r  0%|          | 0/5 [00:00<?, ?it/s]"
     ]
    },
    {
     "name": "stdout",
     "output_type": "stream",
     "text": [
      "\n",
      "🧪 Evaluating Anthropic model: claude-3-opus-20240229\n"
     ]
    },
    {
     "data": {
      "application/vnd.jupyter.widget-view+json": {
       "model_id": "97fb9f884bff402cb29f91ad720d7643",
       "version_major": 2,
       "version_minor": 0
      },
      "text/plain": [
       "llm_classify |          | 0/50 (0.0%) | ⏳ 00:00<? | ?it/s"
      ]
     },
     "metadata": {},
     "output_type": "display_data"
    },
    {
     "name": "stderr",
     "output_type": "stream",
     "text": [
      "  0%|          | 0/5 [00:18<?, ?it/s]"
     ]
    },
    {
     "name": "stdout",
     "output_type": "stream",
     "text": [
      "Exception in worker on attempt 1: raised InternalServerError(\"Error code: 529 - {'type': 'error', 'error': {'type': 'overloaded_error', 'message': 'Overloaded'}}\")\n",
      "Requeuing...\n"
     ]
    },
    {
     "name": "stderr",
     "output_type": "stream",
     "text": [
      "  0%|          | 0/5 [00:19<?, ?it/s]"
     ]
    },
    {
     "name": "stdout",
     "output_type": "stream",
     "text": [
      "Exception in worker on attempt 1: raised InternalServerError(\"Error code: 529 - {'type': 'error', 'error': {'type': 'overloaded_error', 'message': 'Overloaded'}}\")\n",
      "Requeuing...\n"
     ]
    },
    {
     "name": "stderr",
     "output_type": "stream",
     "text": [
      "  0%|          | 0/5 [00:20<?, ?it/s]"
     ]
    },
    {
     "name": "stdout",
     "output_type": "stream",
     "text": [
      "Exception in worker on attempt 1: raised InternalServerError(\"Error code: 529 - {'type': 'error', 'error': {'type': 'overloaded_error', 'message': 'Overloaded'}}\")\n",
      "Requeuing...\n",
      "Exception in worker on attempt 1: raised InternalServerError(\"Error code: 529 - {'type': 'error', 'error': {'type': 'overloaded_error', 'message': 'Overloaded'}}\")\n",
      "Requeuing...\n"
     ]
    },
    {
     "name": "stderr",
     "output_type": "stream",
     "text": [
      "  0%|          | 0/5 [00:20<?, ?it/s]"
     ]
    },
    {
     "name": "stdout",
     "output_type": "stream",
     "text": [
      "Exception in worker on attempt 1: raised InternalServerError(\"Error code: 529 - {'type': 'error', 'error': {'type': 'overloaded_error', 'message': 'Overloaded'}}\")\n",
      "Requeuing...\n"
     ]
    },
    {
     "name": "stderr",
     "output_type": "stream",
     "text": [
      "  0%|          | 0/5 [00:21<?, ?it/s]"
     ]
    },
    {
     "name": "stdout",
     "output_type": "stream",
     "text": [
      "Exception in worker on attempt 1: raised InternalServerError(\"Error code: 529 - {'type': 'error', 'error': {'type': 'overloaded_error', 'message': 'Overloaded'}}\")\n",
      "Requeuing...\n"
     ]
    },
    {
     "name": "stderr",
     "output_type": "stream",
     "text": [
      "  0%|          | 0/5 [00:21<?, ?it/s]"
     ]
    },
    {
     "name": "stdout",
     "output_type": "stream",
     "text": [
      "Exception in worker on attempt 1: raised InternalServerError(\"Error code: 529 - {'type': 'error', 'error': {'type': 'overloaded_error', 'message': 'Overloaded'}}\")\n",
      "Requeuing...\n",
      "Exception in worker on attempt 1: raised InternalServerError(\"Error code: 529 - {'type': 'error', 'error': {'type': 'overloaded_error', 'message': 'Overloaded'}}\")\n",
      "Requeuing...\n"
     ]
    },
    {
     "name": "stderr",
     "output_type": "stream",
     "text": [
      "                                     "
     ]
    },
    {
     "name": "stdout",
     "output_type": "stream",
     "text": [
      "Exception in worker on attempt 1: raised InternalServerError(\"Error code: 529 - {'type': 'error', 'error': {'type': 'overloaded_error', 'message': 'Overloaded'}}\")\n",
      "Requeuing...\n",
      "Exception in worker on attempt 2: raised InternalServerError(\"Error code: 529 - {'type': 'error', 'error': {'type': 'overloaded_error', 'message': 'Overloaded'}}\")\n",
      "Requeuing...\n",
      "Exception in worker on attempt 1: raised InternalServerError(\"Error code: 529 - {'type': 'error', 'error': {'type': 'overloaded_error', 'message': 'Overloaded'}}\")\n",
      "Requeuing...\n"
     ]
    },
    {
     "name": "stderr",
     "output_type": "stream",
     "text": [
      "  0%|          | 0/5 [00:23<?, ?it/s]"
     ]
    },
    {
     "name": "stdout",
     "output_type": "stream",
     "text": [
      "Exception in worker on attempt 1: raised InternalServerError(\"Error code: 529 - {'type': 'error', 'error': {'type': 'overloaded_error', 'message': 'Overloaded'}}\")\n",
      "Requeuing...\n",
      "Exception in worker on attempt 1: raised InternalServerError(\"Error code: 529 - {'type': 'error', 'error': {'type': 'overloaded_error', 'message': 'Overloaded'}}\")\n",
      "Requeuing...\n"
     ]
    },
    {
     "name": "stderr",
     "output_type": "stream",
     "text": [
      "  0%|          | 0/5 [00:23<?, ?it/s]"
     ]
    },
    {
     "name": "stdout",
     "output_type": "stream",
     "text": [
      "Exception in worker on attempt 2: raised InternalServerError(\"Error code: 529 - {'type': 'error', 'error': {'type': 'overloaded_error', 'message': 'Overloaded'}}\")\n",
      "Requeuing...\n",
      "Exception in worker on attempt 1: raised InternalServerError(\"Error code: 529 - {'type': 'error', 'error': {'type': 'overloaded_error', 'message': 'Overloaded'}}\")\n",
      "Requeuing...\n"
     ]
    },
    {
     "name": "stderr",
     "output_type": "stream",
     "text": [
      "  0%|          | 0/5 [00:24<?, ?it/s]"
     ]
    },
    {
     "name": "stdout",
     "output_type": "stream",
     "text": [
      "Exception in worker on attempt 1: raised InternalServerError(\"Error code: 529 - {'type': 'error', 'error': {'type': 'overloaded_error', 'message': 'Overloaded'}}\")\n",
      "Requeuing...\n",
      "Exception in worker on attempt 2: raised InternalServerError(\"Error code: 529 - {'type': 'error', 'error': {'type': 'overloaded_error', 'message': 'Overloaded'}}\")\n",
      "Requeuing...\n",
      "Exception in worker on attempt 1: raised InternalServerError(\"Error code: 529 - {'type': 'error', 'error': {'type': 'overloaded_error', 'message': 'Overloaded'}}\")\n",
      "Requeuing...\n"
     ]
    },
    {
     "name": "stderr",
     "output_type": "stream",
     "text": [
      "  0%|          | 0/5 [00:24<?, ?it/s]"
     ]
    },
    {
     "name": "stdout",
     "output_type": "stream",
     "text": [
      "Exception in worker on attempt 1: raised InternalServerError(\"Error code: 529 - {'type': 'error', 'error': {'type': 'overloaded_error', 'message': 'Overloaded'}}\")\n",
      "Requeuing...\n",
      "Exception in worker on attempt 2: raised InternalServerError(\"Error code: 529 - {'type': 'error', 'error': {'type': 'overloaded_error', 'message': 'Overloaded'}}\")\n",
      "Requeuing...\n",
      "Exception in worker on attempt 2: raised InternalServerError(\"Error code: 529 - {'type': 'error', 'error': {'type': 'overloaded_error', 'message': 'Overloaded'}}\")\n",
      "Requeuing...\n",
      "Exception in worker on attempt 1: raised InternalServerError(\"Error code: 529 - {'type': 'error', 'error': {'type': 'overloaded_error', 'message': 'Overloaded'}}\")\n",
      "Requeuing...\n"
     ]
    },
    {
     "name": "stderr",
     "output_type": "stream",
     "text": [
      "  0%|          | 0/5 [00:24<?, ?it/s]"
     ]
    },
    {
     "name": "stdout",
     "output_type": "stream",
     "text": [
      "Exception in worker on attempt 2: raised InternalServerError(\"Error code: 529 - {'type': 'error', 'error': {'type': 'overloaded_error', 'message': 'Overloaded'}}\")\n",
      "Requeuing...\n"
     ]
    },
    {
     "name": "stderr",
     "output_type": "stream",
     "text": [
      "  0%|          | 0/5 [00:25<?, ?it/s]"
     ]
    },
    {
     "name": "stdout",
     "output_type": "stream",
     "text": [
      "Exception in worker on attempt 2: raised InternalServerError(\"Error code: 529 - {'type': 'error', 'error': {'type': 'overloaded_error', 'message': 'Overloaded'}}\")\n",
      "Requeuing...\n",
      "Exception in worker on attempt 2: raised InternalServerError(\"Error code: 529 - {'type': 'error', 'error': {'type': 'overloaded_error', 'message': 'Overloaded'}}\")\n",
      "Requeuing...\n"
     ]
    },
    {
     "name": "stderr",
     "output_type": "stream",
     "text": [
      "  0%|          | 0/5 [00:25<?, ?it/s]"
     ]
    },
    {
     "name": "stdout",
     "output_type": "stream",
     "text": [
      "Exception in worker on attempt 2: raised InternalServerError(\"Error code: 529 - {'type': 'error', 'error': {'type': 'overloaded_error', 'message': 'Overloaded'}}\")\n",
      "Requeuing...\n"
     ]
    },
    {
     "name": "stderr",
     "output_type": "stream",
     "text": [
      "  0%|          | 0/5 [00:25<?, ?it/s]"
     ]
    },
    {
     "name": "stdout",
     "output_type": "stream",
     "text": [
      "Exception in worker on attempt 2: raised InternalServerError(\"Error code: 529 - {'type': 'error', 'error': {'type': 'overloaded_error', 'message': 'Overloaded'}}\")\n",
      "Requeuing...\n",
      "Exception in worker on attempt 3: raised InternalServerError(\"Error code: 529 - {'type': 'error', 'error': {'type': 'overloaded_error', 'message': 'Overloaded'}}\")\n",
      "Requeuing...\n"
     ]
    },
    {
     "name": "stderr",
     "output_type": "stream",
     "text": [
      "  0%|          | 0/5 [00:26<?, ?it/s]"
     ]
    },
    {
     "name": "stdout",
     "output_type": "stream",
     "text": [
      "Exception in worker on attempt 2: raised InternalServerError(\"Error code: 529 - {'type': 'error', 'error': {'type': 'overloaded_error', 'message': 'Overloaded'}}\")\n",
      "Requeuing...\n",
      "Exception in worker on attempt 3: raised InternalServerError(\"Error code: 529 - {'type': 'error', 'error': {'type': 'overloaded_error', 'message': 'Overloaded'}}\")\n",
      "Requeuing...\n",
      "Exception in worker on attempt 3: raised InternalServerError(\"Error code: 529 - {'type': 'error', 'error': {'type': 'overloaded_error', 'message': 'Overloaded'}}\")\n",
      "Requeuing...\n"
     ]
    },
    {
     "name": "stderr",
     "output_type": "stream",
     "text": [
      "  0%|          | 0/5 [00:26<?, ?it/s]"
     ]
    },
    {
     "name": "stdout",
     "output_type": "stream",
     "text": [
      "Exception in worker on attempt 2: raised InternalServerError(\"Error code: 529 - {'type': 'error', 'error': {'type': 'overloaded_error', 'message': 'Overloaded'}}\")\n",
      "Requeuing...\n",
      "Exception in worker on attempt 3: raised InternalServerError(\"Error code: 529 - {'type': 'error', 'error': {'type': 'overloaded_error', 'message': 'Overloaded'}}\")\n",
      "Requeuing...\n",
      "Exception in worker on attempt 3: raised InternalServerError(\"Error code: 529 - {'type': 'error', 'error': {'type': 'overloaded_error', 'message': 'Overloaded'}}\")\n",
      "Requeuing...\n"
     ]
    },
    {
     "name": "stderr",
     "output_type": "stream",
     "text": [
      "  0%|          | 0/5 [00:26<?, ?it/s]"
     ]
    },
    {
     "name": "stdout",
     "output_type": "stream",
     "text": [
      "Exception in worker on attempt 2: raised InternalServerError(\"Error code: 529 - {'type': 'error', 'error': {'type': 'overloaded_error', 'message': 'Overloaded'}}\")\n",
      "Requeuing...\n",
      "Exception in worker on attempt 2: raised InternalServerError(\"Error code: 529 - {'type': 'error', 'error': {'type': 'overloaded_error', 'message': 'Overloaded'}}\")\n",
      "Requeuing...\n",
      "Exception in worker on attempt 3: raised InternalServerError(\"Error code: 529 - {'type': 'error', 'error': {'type': 'overloaded_error', 'message': 'Overloaded'}}\")\n",
      "Requeuing...\n",
      "Exception in worker on attempt 3: raised InternalServerError(\"Error code: 529 - {'type': 'error', 'error': {'type': 'overloaded_error', 'message': 'Overloaded'}}\")\n",
      "Requeuing...\n"
     ]
    },
    {
     "name": "stderr",
     "output_type": "stream",
     "text": [
      "  0%|          | 0/5 [00:27<?, ?it/s]"
     ]
    },
    {
     "name": "stdout",
     "output_type": "stream",
     "text": [
      "Exception in worker on attempt 2: raised InternalServerError(\"Error code: 529 - {'type': 'error', 'error': {'type': 'overloaded_error', 'message': 'Overloaded'}}\")\n",
      "Requeuing...\n",
      "Exception in worker on attempt 3: raised InternalServerError(\"Error code: 529 - {'type': 'error', 'error': {'type': 'overloaded_error', 'message': 'Overloaded'}}\")\n",
      "Requeuing...\n"
     ]
    },
    {
     "name": "stderr",
     "output_type": "stream",
     "text": [
      "  0%|          | 0/5 [00:27<?, ?it/s]"
     ]
    },
    {
     "name": "stdout",
     "output_type": "stream",
     "text": [
      "Exception in worker on attempt 2: raised InternalServerError(\"Error code: 529 - {'type': 'error', 'error': {'type': 'overloaded_error', 'message': 'Overloaded'}}\")\n",
      "Requeuing...\n"
     ]
    },
    {
     "name": "stderr",
     "output_type": "stream",
     "text": [
      "  0%|          | 0/5 [00:27<?, ?it/s]"
     ]
    },
    {
     "name": "stdout",
     "output_type": "stream",
     "text": [
      "Exception in worker on attempt 3: raised InternalServerError(\"Error code: 529 - {'type': 'error', 'error': {'type': 'overloaded_error', 'message': 'Overloaded'}}\")\n",
      "Requeuing...\n"
     ]
    },
    {
     "name": "stderr",
     "output_type": "stream",
     "text": [
      "  0%|          | 0/5 [00:27<?, ?it/s]"
     ]
    },
    {
     "name": "stdout",
     "output_type": "stream",
     "text": [
      "Exception in worker on attempt 4: raised InternalServerError(\"Error code: 529 - {'type': 'error', 'error': {'type': 'overloaded_error', 'message': 'Overloaded'}}\")\n",
      "Requeuing...\n"
     ]
    },
    {
     "name": "stderr",
     "output_type": "stream",
     "text": [
      "  0%|          | 0/5 [00:28<?, ?it/s]"
     ]
    },
    {
     "name": "stdout",
     "output_type": "stream",
     "text": [
      "Exception in worker on attempt 4: raised InternalServerError(\"Error code: 529 - {'type': 'error', 'error': {'type': 'overloaded_error', 'message': 'Overloaded'}}\")\n",
      "Requeuing...\n",
      "Exception in worker on attempt 3: raised InternalServerError(\"Error code: 529 - {'type': 'error', 'error': {'type': 'overloaded_error', 'message': 'Overloaded'}}\")\n",
      "Requeuing...\n"
     ]
    },
    {
     "name": "stderr",
     "output_type": "stream",
     "text": [
      "                                     "
     ]
    },
    {
     "name": "stdout",
     "output_type": "stream",
     "text": [
      "Exception in worker on attempt 3: raised InternalServerError(\"Error code: 529 - {'type': 'error', 'error': {'type': 'overloaded_error', 'message': 'Overloaded'}}\")\n",
      "Requeuing...\n",
      "Exception in worker on attempt 3: raised InternalServerError(\"Error code: 529 - {'type': 'error', 'error': {'type': 'overloaded_error', 'message': 'Overloaded'}}\")\n",
      "Requeuing...\n",
      "Exception in worker on attempt 4: raised InternalServerError(\"Error code: 529 - {'type': 'error', 'error': {'type': 'overloaded_error', 'message': 'Overloaded'}}\")\n",
      "Requeuing...\n"
     ]
    },
    {
     "name": "stderr",
     "output_type": "stream",
     "text": [
      "  0%|          | 0/5 [00:28<?, ?it/s]"
     ]
    },
    {
     "name": "stdout",
     "output_type": "stream",
     "text": [
      "Exception in worker on attempt 3: raised InternalServerError(\"Error code: 529 - {'type': 'error', 'error': {'type': 'overloaded_error', 'message': 'Overloaded'}}\")\n",
      "Requeuing...\n"
     ]
    },
    {
     "name": "stderr",
     "output_type": "stream",
     "text": [
      "  0%|          | 0/5 [00:29<?, ?it/s]"
     ]
    },
    {
     "name": "stdout",
     "output_type": "stream",
     "text": [
      "Exception in worker on attempt 4: raised InternalServerError(\"Error code: 529 - {'type': 'error', 'error': {'type': 'overloaded_error', 'message': 'Overloaded'}}\")\n",
      "Requeuing...\n"
     ]
    },
    {
     "name": "stderr",
     "output_type": "stream",
     "text": [
      "  0%|          | 0/5 [00:29<?, ?it/s]"
     ]
    },
    {
     "name": "stdout",
     "output_type": "stream",
     "text": [
      "Exception in worker on attempt 2: raised InternalServerError(\"Error code: 529 - {'type': 'error', 'error': {'type': 'overloaded_error', 'message': 'Overloaded'}}\")\n",
      "Requeuing...\n",
      "Exception in worker on attempt 4: raised InternalServerError(\"Error code: 529 - {'type': 'error', 'error': {'type': 'overloaded_error', 'message': 'Overloaded'}}\")\n",
      "Requeuing...\n"
     ]
    },
    {
     "name": "stderr",
     "output_type": "stream",
     "text": [
      "  0%|          | 0/5 [00:30<?, ?it/s]"
     ]
    },
    {
     "name": "stdout",
     "output_type": "stream",
     "text": [
      "Exception in worker on attempt 3: raised InternalServerError(\"Error code: 529 - {'type': 'error', 'error': {'type': 'overloaded_error', 'message': 'Overloaded'}}\")\n",
      "Requeuing...\n"
     ]
    },
    {
     "name": "stderr",
     "output_type": "stream",
     "text": [
      "  0%|          | 0/5 [00:30<?, ?it/s]"
     ]
    },
    {
     "name": "stdout",
     "output_type": "stream",
     "text": [
      "Exception in worker on attempt 4: raised InternalServerError(\"Error code: 529 - {'type': 'error', 'error': {'type': 'overloaded_error', 'message': 'Overloaded'}}\")\n",
      "Requeuing...\n"
     ]
    },
    {
     "name": "stderr",
     "output_type": "stream",
     "text": [
      "  0%|          | 0/5 [00:31<?, ?it/s]"
     ]
    },
    {
     "name": "stdout",
     "output_type": "stream",
     "text": [
      "Exception in worker on attempt 4: raised InternalServerError(\"Error code: 529 - {'type': 'error', 'error': {'type': 'overloaded_error', 'message': 'Overloaded'}}\")\n",
      "Requeuing...\n"
     ]
    },
    {
     "name": "stderr",
     "output_type": "stream",
     "text": [
      "  0%|          | 0/5 [00:31<?, ?it/s]"
     ]
    },
    {
     "name": "stdout",
     "output_type": "stream",
     "text": [
      "Exception in worker on attempt 3: raised InternalServerError(\"Error code: 529 - {'type': 'error', 'error': {'type': 'overloaded_error', 'message': 'Overloaded'}}\")\n",
      "Requeuing...\n",
      "Exception in worker on attempt 5: raised InternalServerError(\"Error code: 529 - {'type': 'error', 'error': {'type': 'overloaded_error', 'message': 'Overloaded'}}\")\n",
      "Requeuing...\n"
     ]
    },
    {
     "name": "stderr",
     "output_type": "stream",
     "text": [
      "  0%|          | 0/5 [00:32<?, ?it/s]"
     ]
    },
    {
     "name": "stdout",
     "output_type": "stream",
     "text": [
      "Exception in worker on attempt 4: raised InternalServerError(\"Error code: 529 - {'type': 'error', 'error': {'type': 'overloaded_error', 'message': 'Overloaded'}}\")\n",
      "Requeuing...\n",
      "Exception in worker on attempt 4: raised InternalServerError(\"Error code: 529 - {'type': 'error', 'error': {'type': 'overloaded_error', 'message': 'Overloaded'}}\")\n",
      "Requeuing...\n"
     ]
    },
    {
     "name": "stderr",
     "output_type": "stream",
     "text": [
      "  0%|          | 0/5 [00:32<?, ?it/s]"
     ]
    },
    {
     "name": "stdout",
     "output_type": "stream",
     "text": [
      "Exception in worker on attempt 4: raised InternalServerError(\"Error code: 529 - {'type': 'error', 'error': {'type': 'overloaded_error', 'message': 'Overloaded'}}\")\n",
      "Requeuing...\n",
      "Exception in worker on attempt 4: raised InternalServerError(\"Error code: 529 - {'type': 'error', 'error': {'type': 'overloaded_error', 'message': 'Overloaded'}}\")\n",
      "Requeuing...\n"
     ]
    },
    {
     "name": "stderr",
     "output_type": "stream",
     "text": []
    },
    {
     "name": "stdout",
     "output_type": "stream",
     "text": [
      "Exception in worker on attempt 4: raised InternalServerError(\"Error code: 529 - {'type': 'error', 'error': {'type': 'overloaded_error', 'message': 'Overloaded'}}\")\n",
      "Requeuing...\n",
      "Exception in worker on attempt 3: raised InternalServerError(\"Error code: 529 - {'type': 'error', 'error': {'type': 'overloaded_error', 'message': 'Overloaded'}}\")\n"
     ]
    },
    {
     "name": "stderr",
     "output_type": "stream",
     "text": [
      "  0%|          | 0/5 [00:33<?, ?it/s]"
     ]
    },
    {
     "name": "stdout",
     "output_type": "stream",
     "text": [
      "Requeuing...\n",
      "Exception in worker on attempt 4: raised InternalServerError(\"Error code: 529 - {'type': 'error', 'error': {'type': 'overloaded_error', 'message': 'Overloaded'}}\")\n",
      "Requeuing...\n"
     ]
    },
    {
     "name": "stderr",
     "output_type": "stream",
     "text": [
      "  0%|          | 0/5 [00:33<?, ?it/s]"
     ]
    },
    {
     "name": "stdout",
     "output_type": "stream",
     "text": [
      "Exception in worker on attempt 5: raised InternalServerError(\"Error code: 529 - {'type': 'error', 'error': {'type': 'overloaded_error', 'message': 'Overloaded'}}\")\n",
      "Requeuing...\n"
     ]
    },
    {
     "name": "stderr",
     "output_type": "stream",
     "text": [
      "  0%|          | 0/5 [00:34<?, ?it/s]"
     ]
    },
    {
     "name": "stdout",
     "output_type": "stream",
     "text": [
      "Exception in worker on attempt 5: raised InternalServerError(\"Error code: 529 - {'type': 'error', 'error': {'type': 'overloaded_error', 'message': 'Overloaded'}}\")\n",
      "Requeuing...\n"
     ]
    },
    {
     "name": "stderr",
     "output_type": "stream",
     "text": [
      "  0%|          | 0/5 [00:34<?, ?it/s]"
     ]
    },
    {
     "name": "stdout",
     "output_type": "stream",
     "text": [
      "Exception in worker on attempt 3: raised InternalServerError(\"Error code: 529 - {'type': 'error', 'error': {'type': 'overloaded_error', 'message': 'Overloaded'}}\")\n",
      "Requeuing...\n",
      "Exception in worker on attempt 4: raised InternalServerError(\"Error code: 529 - {'type': 'error', 'error': {'type': 'overloaded_error', 'message': 'Overloaded'}}\")\n",
      "Requeuing...\n"
     ]
    },
    {
     "name": "stderr",
     "output_type": "stream",
     "text": [
      "  0%|          | 0/5 [00:34<?, ?it/s]"
     ]
    },
    {
     "name": "stdout",
     "output_type": "stream",
     "text": [
      "Exception in worker on attempt 4: raised InternalServerError(\"Error code: 529 - {'type': 'error', 'error': {'type': 'overloaded_error', 'message': 'Overloaded'}}\")\n",
      "Requeuing...\n"
     ]
    },
    {
     "name": "stderr",
     "output_type": "stream",
     "text": [
      "  0%|          | 0/5 [00:35<?, ?it/s]"
     ]
    },
    {
     "name": "stdout",
     "output_type": "stream",
     "text": [
      "Exception in worker on attempt 4: raised InternalServerError(\"Error code: 529 - {'type': 'error', 'error': {'type': 'overloaded_error', 'message': 'Overloaded'}}\")\n",
      "Requeuing...\n",
      "Exception in worker on attempt 5: raised InternalServerError(\"Error code: 529 - {'type': 'error', 'error': {'type': 'overloaded_error', 'message': 'Overloaded'}}\")\n",
      "Requeuing...\n"
     ]
    },
    {
     "name": "stderr",
     "output_type": "stream",
     "text": [
      "  0%|          | 0/5 [00:35<?, ?it/s]"
     ]
    },
    {
     "name": "stdout",
     "output_type": "stream",
     "text": [
      "Exception in worker on attempt 5: raised InternalServerError(\"Error code: 529 - {'type': 'error', 'error': {'type': 'overloaded_error', 'message': 'Overloaded'}}\")\n",
      "Requeuing...\n"
     ]
    },
    {
     "name": "stderr",
     "output_type": "stream",
     "text": [
      "  0%|          | 0/5 [00:35<?, ?it/s]"
     ]
    },
    {
     "name": "stdout",
     "output_type": "stream",
     "text": [
      "Exception in worker on attempt 5: raised InternalServerError(\"Error code: 529 - {'type': 'error', 'error': {'type': 'overloaded_error', 'message': 'Overloaded'}}\")\n",
      "Requeuing...\n"
     ]
    },
    {
     "name": "stderr",
     "output_type": "stream",
     "text": [
      "  0%|          | 0/5 [00:36<?, ?it/s]"
     ]
    },
    {
     "name": "stdout",
     "output_type": "stream",
     "text": [
      "Exception in worker on attempt 5: raised InternalServerError(\"Error code: 529 - {'type': 'error', 'error': {'type': 'overloaded_error', 'message': 'Overloaded'}}\")\n",
      "Requeuing...\n",
      "Exception in worker on attempt 5: raised InternalServerError(\"Error code: 529 - {'type': 'error', 'error': {'type': 'overloaded_error', 'message': 'Overloaded'}}\")\n",
      "Requeuing...\n"
     ]
    },
    {
     "name": "stderr",
     "output_type": "stream",
     "text": [
      "  0%|          | 0/5 [00:36<?, ?it/s]"
     ]
    },
    {
     "name": "stdout",
     "output_type": "stream",
     "text": [
      "Exception in worker on attempt 6: raised InternalServerError(\"Error code: 529 - {'type': 'error', 'error': {'type': 'overloaded_error', 'message': 'Overloaded'}}\")\n",
      "Requeuing...\n"
     ]
    },
    {
     "name": "stderr",
     "output_type": "stream",
     "text": [
      "  0%|          | 0/5 [00:37<?, ?it/s]"
     ]
    },
    {
     "name": "stdout",
     "output_type": "stream",
     "text": [
      "Exception in worker on attempt 6: raised InternalServerError(\"Error code: 529 - {'type': 'error', 'error': {'type': 'overloaded_error', 'message': 'Overloaded'}}\")\n",
      "Requeuing...\n"
     ]
    },
    {
     "name": "stderr",
     "output_type": "stream",
     "text": [
      "  0%|          | 0/5 [00:37<?, ?it/s]"
     ]
    },
    {
     "name": "stdout",
     "output_type": "stream",
     "text": [
      "Exception in worker on attempt 6: raised InternalServerError(\"Error code: 529 - {'type': 'error', 'error': {'type': 'overloaded_error', 'message': 'Overloaded'}}\")\n",
      "Requeuing...\n",
      "Exception in worker on attempt 5: raised InternalServerError(\"Error code: 529 - {'type': 'error', 'error': {'type': 'overloaded_error', 'message': 'Overloaded'}}\")\n",
      "Requeuing...\n"
     ]
    },
    {
     "name": "stderr",
     "output_type": "stream",
     "text": [
      "  0%|          | 0/5 [00:38<?, ?it/s]"
     ]
    },
    {
     "name": "stdout",
     "output_type": "stream",
     "text": [
      "Exception in worker on attempt 5: raised InternalServerError(\"Error code: 529 - {'type': 'error', 'error': {'type': 'overloaded_error', 'message': 'Overloaded'}}\")\n",
      "Requeuing...\n"
     ]
    },
    {
     "name": "stderr",
     "output_type": "stream",
     "text": [
      "  0%|          | 0/5 [00:38<?, ?it/s]"
     ]
    },
    {
     "name": "stdout",
     "output_type": "stream",
     "text": [
      "Exception in worker on attempt 5: raised InternalServerError(\"Error code: 529 - {'type': 'error', 'error': {'type': 'overloaded_error', 'message': 'Overloaded'}}\")\n",
      "Requeuing...\n",
      "Exception in worker on attempt 6: raised InternalServerError(\"Error code: 529 - {'type': 'error', 'error': {'type': 'overloaded_error', 'message': 'Overloaded'}}\")\n",
      "Requeuing...\n",
      "Exception in worker on attempt 5: raised InternalServerError(\"Error code: 529 - {'type': 'error', 'error': {'type': 'overloaded_error', 'message': 'Overloaded'}}\")\n",
      "Requeuing...\n"
     ]
    },
    {
     "name": "stderr",
     "output_type": "stream",
     "text": [
      "  0%|          | 0/5 [00:38<?, ?it/s]"
     ]
    },
    {
     "name": "stdout",
     "output_type": "stream",
     "text": [
      "Exception in worker on attempt 6: raised InternalServerError(\"Error code: 529 - {'type': 'error', 'error': {'type': 'overloaded_error', 'message': 'Overloaded'}}\")\n",
      "Requeuing...\n",
      "Exception in worker on attempt 7: raised InternalServerError(\"Error code: 529 - {'type': 'error', 'error': {'type': 'overloaded_error', 'message': 'Overloaded'}}\")\n",
      "Requeuing...\n"
     ]
    },
    {
     "name": "stderr",
     "output_type": "stream",
     "text": [
      "  0%|          | 0/5 [00:39<?, ?it/s]"
     ]
    },
    {
     "name": "stdout",
     "output_type": "stream",
     "text": [
      "Exception in worker on attempt 5: raised InternalServerError(\"Error code: 529 - {'type': 'error', 'error': {'type': 'overloaded_error', 'message': 'Overloaded'}}\")\n",
      "Requeuing...\n",
      "Exception in worker on attempt 7: raised InternalServerError(\"Error code: 529 - {'type': 'error', 'error': {'type': 'overloaded_error', 'message': 'Overloaded'}}\")\n",
      "Requeuing...\n"
     ]
    },
    {
     "name": "stderr",
     "output_type": "stream",
     "text": [
      "  0%|          | 0/5 [00:40<?, ?it/s]"
     ]
    },
    {
     "name": "stdout",
     "output_type": "stream",
     "text": [
      "Exception in worker on attempt 7: raised InternalServerError(\"Error code: 529 - {'type': 'error', 'error': {'type': 'overloaded_error', 'message': 'Overloaded'}}\")\n",
      "Requeuing...\n",
      "Exception in worker on attempt 7: raised InternalServerError(\"Error code: 529 - {'type': 'error', 'error': {'type': 'overloaded_error', 'message': 'Overloaded'}}\")\n",
      "Requeuing...\n",
      "Exception in worker on attempt 6: raised InternalServerError(\"Error code: 529 - {'type': 'error', 'error': {'type': 'overloaded_error', 'message': 'Overloaded'}}\")\n"
     ]
    },
    {
     "name": "stderr",
     "output_type": "stream",
     "text": [
      "  0%|          | 0/5 [00:40<?, ?it/s]"
     ]
    },
    {
     "name": "stdout",
     "output_type": "stream",
     "text": [
      "Requeuing...\n",
      "Exception in worker on attempt 6: raised InternalServerError(\"Error code: 529 - {'type': 'error', 'error': {'type': 'overloaded_error', 'message': 'Overloaded'}}\")\n",
      "Requeuing...\n"
     ]
    },
    {
     "name": "stderr",
     "output_type": "stream",
     "text": [
      "  0%|          | 0/5 [00:41<?, ?it/s]"
     ]
    },
    {
     "name": "stdout",
     "output_type": "stream",
     "text": [
      "Exception in worker on attempt 8: raised InternalServerError(\"Error code: 529 - {'type': 'error', 'error': {'type': 'overloaded_error', 'message': 'Overloaded'}}\")\n",
      "Requeuing...\n"
     ]
    },
    {
     "name": "stderr",
     "output_type": "stream",
     "text": [
      "  0%|          | 0/5 [00:41<?, ?it/s]"
     ]
    },
    {
     "name": "stdout",
     "output_type": "stream",
     "text": [
      "Exception in worker on attempt 7: raised InternalServerError(\"Error code: 529 - {'type': 'error', 'error': {'type': 'overloaded_error', 'message': 'Overloaded'}}\")\n",
      "Requeuing...\n",
      "Exception in worker on attempt 8: raised InternalServerError(\"Error code: 529 - {'type': 'error', 'error': {'type': 'overloaded_error', 'message': 'Overloaded'}}\")\n",
      "Requeuing...\n",
      "Exception in worker on attempt 6: raised InternalServerError(\"Error code: 529 - {'type': 'error', 'error': {'type': 'overloaded_error', 'message': 'Overloaded'}}\")\n",
      "Requeuing...\n"
     ]
    },
    {
     "name": "stderr",
     "output_type": "stream",
     "text": [
      "  0%|          | 0/5 [00:42<?, ?it/s]"
     ]
    },
    {
     "name": "stdout",
     "output_type": "stream",
     "text": [
      "Exception in worker on attempt 6: raised InternalServerError(\"Error code: 529 - {'type': 'error', 'error': {'type': 'overloaded_error', 'message': 'Overloaded'}}\")\n",
      "Requeuing...\n",
      "Exception in worker on attempt 5: raised InternalServerError(\"Error code: 529 - {'type': 'error', 'error': {'type': 'overloaded_error', 'message': 'Overloaded'}}\")\n",
      "Requeuing...\n"
     ]
    },
    {
     "name": "stderr",
     "output_type": "stream",
     "text": [
      "  0%|          | 0/5 [00:42<?, ?it/s]"
     ]
    },
    {
     "name": "stdout",
     "output_type": "stream",
     "text": [
      "Exception in worker on attempt 8: raised InternalServerError(\"Error code: 529 - {'type': 'error', 'error': {'type': 'overloaded_error', 'message': 'Overloaded'}}\")\n",
      "Requeuing...\n"
     ]
    },
    {
     "name": "stderr",
     "output_type": "stream",
     "text": [
      "  0%|          | 0/5 [00:43<?, ?it/s]"
     ]
    },
    {
     "name": "stdout",
     "output_type": "stream",
     "text": [
      "Exception in worker on attempt 5: raised InternalServerError(\"Error code: 529 - {'type': 'error', 'error': {'type': 'overloaded_error', 'message': 'Overloaded'}}\")\n",
      "Requeuing...\n"
     ]
    },
    {
     "name": "stderr",
     "output_type": "stream",
     "text": [
      "  0%|          | 0/5 [00:43<?, ?it/s]"
     ]
    },
    {
     "name": "stdout",
     "output_type": "stream",
     "text": [
      "Exception in worker on attempt 6: raised InternalServerError(\"Error code: 529 - {'type': 'error', 'error': {'type': 'overloaded_error', 'message': 'Overloaded'}}\")\n",
      "Requeuing...\n"
     ]
    },
    {
     "name": "stderr",
     "output_type": "stream",
     "text": [
      "  0%|          | 0/5 [00:43<?, ?it/s]"
     ]
    },
    {
     "name": "stdout",
     "output_type": "stream",
     "text": [
      "Exception in worker on attempt 5: raised InternalServerError(\"Error code: 529 - {'type': 'error', 'error': {'type': 'overloaded_error', 'message': 'Overloaded'}}\")\n",
      "Requeuing...\n"
     ]
    },
    {
     "name": "stderr",
     "output_type": "stream",
     "text": [
      "  0%|          | 0/5 [00:45<?, ?it/s]"
     ]
    },
    {
     "name": "stdout",
     "output_type": "stream",
     "text": [
      "Exception in worker on attempt 6: raised InternalServerError(\"Error code: 529 - {'type': 'error', 'error': {'type': 'overloaded_error', 'message': 'Overloaded'}}\")\n",
      "Requeuing...\n",
      "Exception in worker on attempt 6: raised InternalServerError(\"Error code: 529 - {'type': 'error', 'error': {'type': 'overloaded_error', 'message': 'Overloaded'}}\")\n",
      "Requeuing...\n",
      "Exception in worker on attempt 6: raised InternalServerError(\"Error code: 529 - {'type': 'error', 'error': {'type': 'overloaded_error', 'message': 'Overloaded'}}\")\n",
      "Requeuing...\n",
      "Exception in worker on attempt 7: raised InternalServerError(\"Error code: 529 - {'type': 'error', 'error': {'type': 'overloaded_error', 'message': 'Overloaded'}}\")\n",
      "Requeuing...\n"
     ]
    },
    {
     "name": "stderr",
     "output_type": "stream",
     "text": [
      "  0%|          | 0/5 [00:45<?, ?it/s]"
     ]
    },
    {
     "name": "stdout",
     "output_type": "stream",
     "text": [
      "Exception in worker on attempt 4: raised InternalServerError(\"Error code: 529 - {'type': 'error', 'error': {'type': 'overloaded_error', 'message': 'Overloaded'}}\")\n",
      "Requeuing...\n",
      "Exception in worker on attempt 7: raised InternalServerError(\"Error code: 529 - {'type': 'error', 'error': {'type': 'overloaded_error', 'message': 'Overloaded'}}\")\n",
      "Requeuing...\n"
     ]
    },
    {
     "name": "stderr",
     "output_type": "stream",
     "text": [
      "  0%|          | 0/5 [00:46<?, ?it/s]"
     ]
    },
    {
     "name": "stdout",
     "output_type": "stream",
     "text": [
      "Exception in worker on attempt 8: raised InternalServerError(\"Error code: 529 - {'type': 'error', 'error': {'type': 'overloaded_error', 'message': 'Overloaded'}}\")\n",
      "Requeuing...\n",
      "Exception in worker on attempt 6: raised InternalServerError(\"Error code: 529 - {'type': 'error', 'error': {'type': 'overloaded_error', 'message': 'Overloaded'}}\")\n",
      "Requeuing...\n"
     ]
    },
    {
     "name": "stderr",
     "output_type": "stream",
     "text": [
      "  0%|          | 0/5 [00:46<?, ?it/s]"
     ]
    },
    {
     "name": "stdout",
     "output_type": "stream",
     "text": [
      "Exception in worker on attempt 9: raised InternalServerError(\"Error code: 529 - {'type': 'error', 'error': {'type': 'overloaded_error', 'message': 'Overloaded'}}\")\n",
      "Requeuing...\n"
     ]
    },
    {
     "name": "stderr",
     "output_type": "stream",
     "text": [
      "  0%|          | 0/5 [00:47<?, ?it/s]"
     ]
    },
    {
     "name": "stdout",
     "output_type": "stream",
     "text": [
      "Exception in worker on attempt 8: raised InternalServerError(\"Error code: 529 - {'type': 'error', 'error': {'type': 'overloaded_error', 'message': 'Overloaded'}}\")\n",
      "Requeuing...\n",
      "Exception in worker on attempt 9: raised InternalServerError(\"Error code: 529 - {'type': 'error', 'error': {'type': 'overloaded_error', 'message': 'Overloaded'}}\")\n",
      "Requeuing...\n",
      "Exception in worker on attempt 7: raised InternalServerError(\"Error code: 529 - {'type': 'error', 'error': {'type': 'overloaded_error', 'message': 'Overloaded'}}\")\n",
      "Requeuing...\n"
     ]
    },
    {
     "name": "stderr",
     "output_type": "stream",
     "text": [
      "  0%|          | 0/5 [00:47<?, ?it/s]"
     ]
    },
    {
     "name": "stdout",
     "output_type": "stream",
     "text": [
      "Exception in worker on attempt 7: raised InternalServerError(\"Error code: 529 - {'type': 'error', 'error': {'type': 'overloaded_error', 'message': 'Overloaded'}}\")\n",
      "Requeuing...\n",
      "Exception in worker on attempt 6: raised InternalServerError(\"Error code: 529 - {'type': 'error', 'error': {'type': 'overloaded_error', 'message': 'Overloaded'}}\")\n",
      "Requeuing...\n"
     ]
    },
    {
     "name": "stderr",
     "output_type": "stream",
     "text": [
      "  0%|          | 0/5 [00:47<?, ?it/s]"
     ]
    },
    {
     "name": "stdout",
     "output_type": "stream",
     "text": [
      "Exception in worker on attempt 7: raised InternalServerError(\"Error code: 529 - {'type': 'error', 'error': {'type': 'overloaded_error', 'message': 'Overloaded'}}\")\n",
      "Requeuing...\n"
     ]
    },
    {
     "name": "stderr",
     "output_type": "stream",
     "text": [
      "  0%|          | 0/5 [00:48<?, ?it/s]"
     ]
    },
    {
     "name": "stdout",
     "output_type": "stream",
     "text": [
      "Exception in worker on attempt 7: raised InternalServerError(\"Error code: 529 - {'type': 'error', 'error': {'type': 'overloaded_error', 'message': 'Overloaded'}}\")\n",
      "Requeuing...\n"
     ]
    },
    {
     "name": "stderr",
     "output_type": "stream",
     "text": [
      "  0%|          | 0/5 [00:48<?, ?it/s]"
     ]
    },
    {
     "name": "stdout",
     "output_type": "stream",
     "text": [
      "Exception in worker on attempt 7: raised InternalServerError(\"Error code: 529 - {'type': 'error', 'error': {'type': 'overloaded_error', 'message': 'Overloaded'}}\")\n",
      "Requeuing...\n",
      "Exception in worker on attempt 7: raised InternalServerError(\"Error code: 529 - {'type': 'error', 'error': {'type': 'overloaded_error', 'message': 'Overloaded'}}\")\n",
      "Requeuing...\n",
      "Exception in worker on attempt 8: raised InternalServerError(\"Error code: 529 - {'type': 'error', 'error': {'type': 'overloaded_error', 'message': 'Overloaded'}}\")\n",
      "Requeuing...\n",
      "Exception in worker on attempt 7: raised InternalServerError(\"Error code: 529 - {'type': 'error', 'error': {'type': 'overloaded_error', 'message': 'Overloaded'}}\")\n",
      "Requeuing...\n"
     ]
    },
    {
     "name": "stderr",
     "output_type": "stream",
     "text": [
      "  0%|          | 0/5 [00:48<?, ?it/s]"
     ]
    },
    {
     "name": "stdout",
     "output_type": "stream",
     "text": [
      "Exception in worker on attempt 6: raised InternalServerError(\"Error code: 529 - {'type': 'error', 'error': {'type': 'overloaded_error', 'message': 'Overloaded'}}\")\n",
      "Requeuing...\n"
     ]
    },
    {
     "name": "stderr",
     "output_type": "stream",
     "text": [
      "  0%|          | 0/5 [00:49<?, ?it/s]"
     ]
    },
    {
     "name": "stdout",
     "output_type": "stream",
     "text": [
      "Exception in worker on attempt 9: raised InternalServerError(\"Error code: 529 - {'type': 'error', 'error': {'type': 'overloaded_error', 'message': 'Overloaded'}}\")\n",
      "Requeuing...\n"
     ]
    },
    {
     "name": "stderr",
     "output_type": "stream",
     "text": [
      "  0%|          | 0/5 [00:49<?, ?it/s]"
     ]
    },
    {
     "name": "stdout",
     "output_type": "stream",
     "text": [
      "Exception in worker on attempt 8: raised InternalServerError(\"Error code: 529 - {'type': 'error', 'error': {'type': 'overloaded_error', 'message': 'Overloaded'}}\")\n",
      "Requeuing...\n",
      "Exception in worker on attempt 10: raised InternalServerError(\"Error code: 529 - {'type': 'error', 'error': {'type': 'overloaded_error', 'message': 'Overloaded'}}\")\n",
      "Requeuing...\n"
     ]
    },
    {
     "name": "stderr",
     "output_type": "stream",
     "text": [
      "  0%|          | 0/5 [00:50<?, ?it/s]"
     ]
    },
    {
     "name": "stdout",
     "output_type": "stream",
     "text": [
      "Exception in worker on attempt 9: raised InternalServerError(\"Error code: 529 - {'type': 'error', 'error': {'type': 'overloaded_error', 'message': 'Overloaded'}}\")\n",
      "Requeuing...\n"
     ]
    },
    {
     "name": "stderr",
     "output_type": "stream",
     "text": [
      "  0%|          | 0/5 [00:50<?, ?it/s]"
     ]
    },
    {
     "name": "stdout",
     "output_type": "stream",
     "text": [
      "Exception in worker on attempt 8: raised InternalServerError(\"Error code: 529 - {'type': 'error', 'error': {'type': 'overloaded_error', 'message': 'Overloaded'}}\")\n",
      "Requeuing...\n",
      "Exception in worker on attempt 8: raised InternalServerError(\"Error code: 529 - {'type': 'error', 'error': {'type': 'overloaded_error', 'message': 'Overloaded'}}\")\n",
      "Requeuing...\n"
     ]
    },
    {
     "name": "stderr",
     "output_type": "stream",
     "text": [
      "  0%|          | 0/5 [00:50<?, ?it/s]"
     ]
    },
    {
     "name": "stdout",
     "output_type": "stream",
     "text": [
      "Exception in worker on attempt 5: raised InternalServerError(\"Error code: 529 - {'type': 'error', 'error': {'type': 'overloaded_error', 'message': 'Overloaded'}}\")\n",
      "Requeuing...\n"
     ]
    },
    {
     "name": "stderr",
     "output_type": "stream",
     "text": [
      "  0%|          | 0/5 [00:51<?, ?it/s]"
     ]
    },
    {
     "name": "stdout",
     "output_type": "stream",
     "text": [
      "Exception in worker on attempt 7: raised InternalServerError(\"Error code: 529 - {'type': 'error', 'error': {'type': 'overloaded_error', 'message': 'Overloaded'}}\")\n",
      "Requeuing...\n",
      "Exception in worker on attempt 8: raised InternalServerError(\"Error code: 529 - {'type': 'error', 'error': {'type': 'overloaded_error', 'message': 'Overloaded'}}\")\n",
      "Requeuing...\n"
     ]
    },
    {
     "name": "stderr",
     "output_type": "stream",
     "text": [
      "  0%|          | 0/5 [00:51<?, ?it/s]"
     ]
    },
    {
     "name": "stdout",
     "output_type": "stream",
     "text": [
      "Exception in worker on attempt 8: raised InternalServerError(\"Error code: 529 - {'type': 'error', 'error': {'type': 'overloaded_error', 'message': 'Overloaded'}}\")\n",
      "Requeuing...\n",
      "Exception in worker on attempt 9: raised InternalServerError(\"Error code: 529 - {'type': 'error', 'error': {'type': 'overloaded_error', 'message': 'Overloaded'}}\")\n",
      "Requeuing...\n"
     ]
    },
    {
     "name": "stderr",
     "output_type": "stream",
     "text": [
      "  0%|          | 0/5 [00:52<?, ?it/s]"
     ]
    },
    {
     "name": "stdout",
     "output_type": "stream",
     "text": [
      "Exception in worker on attempt 8: raised InternalServerError(\"Error code: 529 - {'type': 'error', 'error': {'type': 'overloaded_error', 'message': 'Overloaded'}}\")\n",
      "Requeuing...\n",
      "Exception in worker on attempt 10: raised InternalServerError(\"Error code: 529 - {'type': 'error', 'error': {'type': 'overloaded_error', 'message': 'Overloaded'}}\")\n",
      "Requeuing...\n"
     ]
    },
    {
     "name": "stderr",
     "output_type": "stream",
     "text": [
      "  0%|          | 0/5 [00:52<?, ?it/s]"
     ]
    },
    {
     "name": "stdout",
     "output_type": "stream",
     "text": [
      "Exception in worker on attempt 10: raised InternalServerError(\"Error code: 529 - {'type': 'error', 'error': {'type': 'overloaded_error', 'message': 'Overloaded'}}\")\n",
      "Requeuing...\n",
      "Exception in worker on attempt 9: raised InternalServerError(\"Error code: 529 - {'type': 'error', 'error': {'type': 'overloaded_error', 'message': 'Overloaded'}}\")\n",
      "Requeuing...\n"
     ]
    },
    {
     "name": "stderr",
     "output_type": "stream",
     "text": [
      "\r 20%|██        | 1/5 [01:03<04:13, 63.45s/it]"
     ]
    },
    {
     "name": "stdout",
     "output_type": "stream",
     "text": [
      "\n",
      "🧪 Evaluating Anthropic model: claude-3-sonnet-20240229\n"
     ]
    },
    {
     "data": {
      "application/vnd.jupyter.widget-view+json": {
       "model_id": "dd4dc245307b46dfbc3b839b415a6dd5",
       "version_major": 2,
       "version_minor": 0
      },
      "text/plain": [
       "llm_classify |          | 0/50 (0.0%) | ⏳ 00:00<? | ?it/s"
      ]
     },
     "metadata": {},
     "output_type": "display_data"
    },
    {
     "name": "stderr",
     "output_type": "stream",
     "text": [
      "\r 40%|████      | 2/5 [01:16<01:42, 34.05s/it]"
     ]
    },
    {
     "name": "stdout",
     "output_type": "stream",
     "text": [
      "\n",
      "🧪 Evaluating Anthropic model: claude-3-haiku-20240307\n"
     ]
    },
    {
     "data": {
      "application/vnd.jupyter.widget-view+json": {
       "model_id": "243c1059820746ce855f0213e35bab71",
       "version_major": 2,
       "version_minor": 0
      },
      "text/plain": [
       "llm_classify |          | 0/50 (0.0%) | ⏳ 00:00<? | ?it/s"
      ]
     },
     "metadata": {},
     "output_type": "display_data"
    },
    {
     "name": "stderr",
     "output_type": "stream",
     "text": [
      "\r 60%|██████    | 3/5 [01:31<00:50, 25.12s/it]"
     ]
    },
    {
     "name": "stdout",
     "output_type": "stream",
     "text": [
      "\n",
      "🧪 Evaluating Anthropic model: claude-opus-4-20250514\n"
     ]
    },
    {
     "data": {
      "application/vnd.jupyter.widget-view+json": {
       "model_id": "5bdda007e2924b14a6bec8c39bf02c2b",
       "version_major": 2,
       "version_minor": 0
      },
      "text/plain": [
       "llm_classify |          | 0/50 (0.0%) | ⏳ 00:00<? | ?it/s"
      ]
     },
     "metadata": {},
     "output_type": "display_data"
    },
    {
     "name": "stderr",
     "output_type": "stream",
     "text": [
      "\r 80%|████████  | 4/5 [01:47<00:21, 21.45s/it]"
     ]
    },
    {
     "name": "stdout",
     "output_type": "stream",
     "text": [
      "\n",
      "🧪 Evaluating Anthropic model: claude-sonnet-4-20250514\n"
     ]
    },
    {
     "data": {
      "application/vnd.jupyter.widget-view+json": {
       "model_id": "49a1cab81c6847be8fc8c7e527f184c3",
       "version_major": 2,
       "version_minor": 0
      },
      "text/plain": [
       "llm_classify |          | 0/50 (0.0%) | ⏳ 00:00<? | ?it/s"
      ]
     },
     "metadata": {},
     "output_type": "display_data"
    },
    {
     "name": "stderr",
     "output_type": "stream",
     "text": [
      "100%|██████████| 5/5 [02:00<00:00, 24.18s/it]\n"
     ]
    }
   ],
   "source": [
    "# ---------- Evaluate Anthropic Models ----------\n",
    "for model_name in tqdm(anthropic_models):\n",
    "    print(f\"\\n🧪 Evaluating Anthropic model: {model_name}\")\n",
    "\n",
    "    model = AnthropicModel(model=model_name, temperature=0.0)\n",
    "    results = llm_classify(\n",
    "        data=df_eval,\n",
    "        template=templates.TOOL_PARAMETER_EXTRACTION_PROMPT_TEMPLATE,\n",
    "        model=model,\n",
    "        rails=[\"correct\", \"incorrect\"],\n",
    "        provide_explanation=False,\n",
    "    )\n",
    "\n",
    "    df_result = df_eval.copy()\n",
    "    df_result[\"label\"] = results[\"label\"]\n",
    "    df_result[\"model\"] = model_name\n",
    "    all_results.append(df_result)"
   ]
  },
  {
   "cell_type": "markdown",
   "metadata": {
    "id": "Z7W3RD-yUrvR"
   },
   "source": [
    "## Show Results\n",
    "\n",
    "Let's see how well different models performed as a Judge! We'll show:\n",
    "- Confusion Matrix for one model (GPT 4o)\n",
    "- F1 score per model benchmarked, to compare how different models perform as a judge vs the ground truth\n",
    "-  An agreement matrix to see which models agree with each other as judges."
   ]
  },
  {
   "cell_type": "code",
   "execution_count": 11,
   "metadata": {
    "colab": {
     "base_uri": "https://localhost:8080/",
     "height": 1000
    },
    "id": "MEZEr0cVUu9Z",
    "outputId": "811f7d62-4742-43f7-9aef-8eec539cf47c"
   },
   "outputs": [
    {
     "name": "stderr",
     "output_type": "stream",
     "text": [
      "/tmp/ipython-input-11-2317285331.py:48: FutureWarning: \n",
      "\n",
      "Passing `palette` without assigning `hue` is deprecated and will be removed in v0.14.0. Assign the `y` variable to `hue` and set `legend=False` for the same effect.\n",
      "\n",
      "  ax = sns.barplot(\n"
     ]
    },
    {
     "data": {
      "image/png": "[encoded data removed]",
      "text/plain": [
       "<Figure size 1000x600 with 1 Axes>"
      ]
     },
     "metadata": {},
     "output_type": "display_data"
    },
    {
     "data": {
      "image/png": "[encoded data removed]",
      "text/plain": [
       "<Figure size 1000x800 with 2 Axes>"
      ]
     },
     "metadata": {},
     "output_type": "display_data"
    },
    {
     "data": {
      "image/png": "[encoded data removed]",
      "text/plain": [
       "<Figure size 640x480 with 2 Axes>"
      ]
     },
     "metadata": {},
     "output_type": "display_data"
    }
   ],
   "source": [
    "import seaborn as sns\n",
    "from sklearn.metrics import accuracy_score, f1_score, precision_score, recall_score\n",
    "\n",
    "# Combine results and save\n",
    "df_all_models = pd.concat(all_results, ignore_index=True)\n",
    "df_all_models.to_csv(\"judge_results_all_models.csv\", index=False)\n",
    "\n",
    "# Compute metrics\n",
    "metrics = []\n",
    "models = df_all_models[\"model\"].unique()\n",
    "\n",
    "for model_name in models:\n",
    "    df_model = df_all_models[df_all_models[\"model\"] == model_name]\n",
    "\n",
    "    # Keep only valid predictions and labels\n",
    "    df_model = df_model[\n",
    "        df_model[\"label\"].isin([\"correct\", \"incorrect\"])\n",
    "        & df_model[\"true_label\"].isin([\"correct\", \"incorrect\"])\n",
    "    ]\n",
    "\n",
    "    # Use real ground truth, given we added some incorrect examples\n",
    "    true_labels = df_model[\"true_label\"].tolist()\n",
    "    pred_labels = df_model[\"label\"].tolist()\n",
    "\n",
    "    accuracy = accuracy_score(true_labels, pred_labels)\n",
    "    precision = precision_score(true_labels, pred_labels, pos_label=\"correct\", zero_division=0)\n",
    "    recall = recall_score(true_labels, pred_labels, pos_label=\"correct\", zero_division=0)\n",
    "    f1 = f1_score(true_labels, pred_labels, pos_label=\"correct\", zero_division=0)\n",
    "\n",
    "    metrics.append(\n",
    "        {\n",
    "            \"Model\": model_name,\n",
    "            \"Accuracy\": accuracy,\n",
    "            \"Precision\": precision,\n",
    "            \"Recall\": recall,\n",
    "            \"F1 Score\": f1,\n",
    "        }\n",
    "    )\n",
    "\n",
    "# Create dataframe and sort it\n",
    "df_metrics = pd.DataFrame(metrics)\n",
    "df_metrics_sorted = df_metrics.sort_values(\"F1 Score\", ascending=False)\n",
    "\n",
    "# Preserve order of models for plotting\n",
    "model_order = df_metrics_sorted[\"Model\"].tolist()\n",
    "\n",
    "# Plot with fixed order\n",
    "plt.figure(figsize=(10, 6))\n",
    "ax = sns.barplot(\n",
    "    data=df_metrics_sorted, x=\"F1 Score\", y=\"Model\", palette=\"Blues_d\", order=model_order\n",
    ")\n",
    "plt.title(\"F1 Score by Model\")\n",
    "plt.xlim(0, 1)\n",
    "\n",
    "# Add labels at correct y-axis positions\n",
    "for i, model in enumerate(model_order):\n",
    "    score = df_metrics_sorted[df_metrics_sorted[\"Model\"] == model][\"F1 Score\"].values[0]\n",
    "    ax.text(score + 0.01, i, f\"{score:.2f}\", va=\"center\")\n",
    "\n",
    "plt.tight_layout()\n",
    "plt.show()\n",
    "\n",
    "# ---- Generate agreement Matrix for models -------\n",
    "\n",
    "# Generate a consistent ID for each example\n",
    "df_all_models[\"example_id\"] = df_all_models.groupby(\"model\").cumcount()\n",
    "\n",
    "# Pivot to wide format: one row per example, one column per model\n",
    "df_pivot = df_all_models.pivot(index=\"example_id\", columns=\"model\", values=\"label\")\n",
    "\n",
    "# Compute agreement rates between models\n",
    "agreement_matrix = pd.DataFrame(index=model_order, columns=model_order)\n",
    "\n",
    "for m1 in model_order:\n",
    "    for m2 in model_order:\n",
    "        agreement = (df_pivot[m1] == df_pivot[m2]).mean()\n",
    "        agreement_matrix.loc[m1, m2] = agreement\n",
    "\n",
    "agreement_matrix = agreement_matrix.astype(float)\n",
    "\n",
    "# ----------------------------------------\n",
    "# Plot Agreement Heatmap\n",
    "# ----------------------------------------\n",
    "\n",
    "plt.figure(figsize=(10, 8))\n",
    "sns.heatmap(agreement_matrix, annot=True, cmap=\"Blues\", fmt=\".2f\", cbar=True)\n",
    "plt.title(\"Model Agreement Matrix (Label Agreement Rate)\")\n",
    "plt.tight_layout()\n",
    "plt.show()\n",
    "\n",
    "# ---------------- Confusion Matrix for GPT-4o ----------------\n",
    "\n",
    "# Filter to GPT-4o predictions and valid labels\n",
    "df_4o = df_all_models[\n",
    "    (df_all_models[\"model\"] == \"gpt-4o\")\n",
    "    & (df_all_models[\"label\"].isin([\"correct\", \"incorrect\"]))\n",
    "    & (df_all_models[\"true_label\"].isin([\"correct\", \"incorrect\"]))\n",
    "]\n",
    "\n",
    "true_labels_4o = df_4o[\"true_label\"].tolist()\n",
    "pred_labels_4o = df_4o[\"label\"].tolist()\n",
    "rails = [\"correct\", \"incorrect\"]  # class order\n",
    "\n",
    "# Generate and plot confusion matrix\n",
    "confusion_matrix_4o = ConfusionMatrix(\n",
    "    actual_vector=true_labels_4o,\n",
    "    predict_vector=pred_labels_4o,\n",
    "    classes=rails,\n",
    ")\n",
    "confusion_matrix_4o.plot(\n",
    "    cmap=plt.colormaps[\"Blues\"],\n",
    "    number_label=True,\n",
    "    normalized=True,\n",
    ")\n",
    "plt.title(\"GPT-4o Confusion Matrix\")\n",
    "plt.tight_layout()\n",
    "plt.show()"
   ]
  }
 ],
 "metadata": {
  "colab": {
   "provenance": []
  },
  "kernelspec": {
   "display_name": "Python 3 (ipykernel)",
   "language": "python",
   "name": "python3"
  },
  "language_info": {
   "codemirror_mode": {
    "name": "ipython",
    "version": 3
   },
   "file_extension": ".py",
   "mimetype": "text/x-python",
   "name": "python",
   "nbconvert_exporter": "python",
   "pygments_lexer": "ipython3",
   "version": "3.8.18"
  },
  "widgets": {
   "application/vnd.jupyter.widget-state+json": {
    "0059f99e8a26433c94e12cbc79a6f215": {
     "model_module": "@jupyter-widgets/base",
     "model_module_version": "1.2.0",
     "model_name": "LayoutModel",
     "state": {
      "_model_module": "@jupyter-widgets/base",
      "_model_module_version": "1.2.0",
      "_model_name": "LayoutModel",
      "_view_count": null,
      "_view_module": "@jupyter-widgets/base",
      "_view_module_version": "1.2.0",
      "_view_name": "LayoutView",
      "align_content": null,
      "align_items": null,
      "align_self": null,
      "border": null,
      "bottom": null,
      "display": null,
      "flex": null,
      "flex_flow": null,
      "grid_area": null,
      "grid_auto_columns": null,
      "grid_auto_flow": null,
      "grid_auto_rows": null,
      "grid_column": null,
      "grid_gap": null,
      "grid_row": null,
      "grid_template_areas": null,
      "grid_template_columns": null,
      "grid_template_rows": null,
      "height": null,
      "justify_content": null,
      "justify_items": null,
      "left": null,
      "margin": null,
      "max_height": null,
      "max_width": null,
      "min_height": null,
      "min_width": null,
      "object_fit": null,
      "object_position": null,
      "order": null,
      "overflow": null,
      "overflow_x": null,
      "overflow_y": null,
      "padding": null,
      "right": null,
      "top": null,
      "visibility": null,
      "width": null
     }
    },
    "00d9cdb672c940ea90f97419ee7bfec5": {
     "model_module": "@jupyter-widgets/base",
     "model_module_version": "1.2.0",
     "model_name": "LayoutModel",
     "state": {
      "_model_module": "@jupyter-widgets/base",
      "_model_module_version": "1.2.0",
      "_model_name": "LayoutModel",
      "_view_count": null,
      "_view_module": "@jupyter-widgets/base",
      "_view_module_version": "1.2.0",
      "_view_name": "LayoutView",
      "align_content": null,
      "align_items": null,
      "align_self": null,
      "border": null,
      "bottom": null,
      "display": null,
      "flex": null,
      "flex_flow": null,
      "grid_area": null,
      "grid_auto_columns": null,
      "grid_auto_flow": null,
      "grid_auto_rows": null,
      "grid_column": null,
      "grid_gap": null,
      "grid_row": null,
      "grid_template_areas": null,
      "grid_template_columns": null,
      "grid_template_rows": null,
      "height": null,
      "justify_content": null,
      "justify_items": null,
      "left": null,
      "margin": null,
      "max_height": null,
      "max_width": null,
      "min_height": null,
      "min_width": null,
      "object_fit": null,
      "object_position": null,
      "order": null,
      "overflow": null,
      "overflow_x": null,
      "overflow_y": null,
      "padding": null,
      "right": null,
      "top": null,
      "visibility": null,
      "width": null
     }
    },
    "013f24eeeacd40afb8a2417440aa228f": {
     "model_module": "@jupyter-widgets/controls",
     "model_module_version": "1.5.0",
     "model_name": "DescriptionStyleModel",
     "state": {
      "_model_module": "@jupyter-widgets/controls",
      "_model_module_version": "1.5.0",
      "_model_name": "DescriptionStyleModel",
      "_view_count": null,
      "_view_module": "@jupyter-widgets/base",
      "_view_module_version": "1.2.0",
      "_view_name": "StyleView",
      "description_width": ""
     }
    },
    "01db47cd4ff74fd6a04c0adb6b9f104b": {
     "model_module": "@jupyter-widgets/base",
     "model_module_version": "1.2.0",
     "model_name": "LayoutModel",
     "state": {
      "_model_module": "@jupyter-widgets/base",
      "_model_module_version": "1.2.0",
      "_model_name": "LayoutModel",
      "_view_count": null,
      "_view_module": "@jupyter-widgets/base",
      "_view_module_version": "1.2.0",
      "_view_name": "LayoutView",
      "align_content": null,
      "align_items": null,
      "align_self": null,
      "border": null,
      "bottom": null,
      "display": null,
      "flex": null,
      "flex_flow": null,
      "grid_area": null,
      "grid_auto_columns": null,
      "grid_auto_flow": null,
      "grid_auto_rows": null,
      "grid_column": null,
      "grid_gap": null,
      "grid_row": null,
      "grid_template_areas": null,
      "grid_template_columns": null,
      "grid_template_rows": null,
      "height": null,
      "justify_content": null,
      "justify_items": null,
      "left": null,
      "margin": null,
      "max_height": null,
      "max_width": null,
      "min_height": null,
      "min_width": null,
      "object_fit": null,
      "object_position": null,
      "order": null,
      "overflow": null,
      "overflow_x": null,
      "overflow_y": null,
      "padding": null,
      "right": null,
      "top": null,
      "visibility": null,
      "width": null
     }
    },
    "04fd0067a56e4c1d9d0ddaaedf3e4e3f": {
     "model_module": "@jupyter-widgets/controls",
     "model_module_version": "1.5.0",
     "model_name": "DescriptionStyleModel",
     "state": {
      "_model_module": "@jupyter-widgets/controls",
      "_model_module_version": "1.5.0",
      "_model_name": "DescriptionStyleModel",
      "_view_count": null,
      "_view_module": "@jupyter-widgets/base",
      "_view_module_version": "1.2.0",
      "_view_name": "StyleView",
      "description_width": ""
     }
    },
    "061d4abaa6d24f198cd6e56dee4d8437": {
     "model_module": "@jupyter-widgets/controls",
     "model_module_version": "1.5.0",
     "model_name": "HTMLModel",
     "state": {
      "_dom_classes": [],
      "_model_module": "@jupyter-widgets/controls",
      "_model_module_version": "1.5.0",
      "_model_name": "HTMLModel",
      "_view_count": null,
      "_view_module": "@jupyter-widgets/controls",
      "_view_module_version": "1.5.0",
      "_view_name": "HTMLView",
      "description": "",
      "description_tooltip": null,
      "layout": "IPY_MODEL_7931a0650e20408189d5bbdc369e4bd7",
      "placeholder": "​",
      "style": "IPY_MODEL_e524e6c27a8347e0914514f9198aad0e",
      "value": " 50/50 (100.0%) | ⏳ 00:17&lt;00:00 |  1.86it/s"
     }
    },
    "0913c48176864a348d0afea6621f7734": {
     "model_module": "@jupyter-widgets/base",
     "model_module_version": "1.2.0",
     "model_name": "LayoutModel",
     "state": {
      "_model_module": "@jupyter-widgets/base",
      "_model_module_version": "1.2.0",
      "_model_name": "LayoutModel",
      "_view_count": null,
      "_view_module": "@jupyter-widgets/base",
      "_view_module_version": "1.2.0",
      "_view_name": "LayoutView",
      "align_content": null,
      "align_items": null,
      "align_self": null,
      "border": null,
      "bottom": null,
      "display": null,
      "flex": null,
      "flex_flow": null,
      "grid_area": null,
      "grid_auto_columns": null,
      "grid_auto_flow": null,
      "grid_auto_rows": null,
      "grid_column": null,
      "grid_gap": null,
      "grid_row": null,
      "grid_template_areas": null,
      "grid_template_columns": null,
      "grid_template_rows": null,
      "height": null,
      "justify_content": null,
      "justify_items": null,
      "left": null,
      "margin": null,
      "max_height": null,
      "max_width": null,
      "min_height": null,
      "min_width": null,
      "object_fit": null,
      "object_position": null,
      "order": null,
      "overflow": null,
      "overflow_x": null,
      "overflow_y": null,
      "padding": null,
      "right": null,
      "top": null,
      "visibility": null,
      "width": null
     }
    },
    "09ae262e18df42a5a37faa12d1520c96": {
     "model_module": "@jupyter-widgets/controls",
     "model_module_version": "1.5.0",
     "model_name": "DescriptionStyleModel",
     "state": {
      "_model_module": "@jupyter-widgets/controls",
      "_model_module_version": "1.5.0",
      "_model_name": "DescriptionStyleModel",
      "_view_count": null,
      "_view_module": "@jupyter-widgets/base",
      "_view_module_version": "1.2.0",
      "_view_name": "StyleView",
      "description_width": ""
     }
    },
    "0a738d9898014c408dfe6803a7cc6dfe": {
     "model_module": "@jupyter-widgets/base",
     "model_module_version": "1.2.0",
     "model_name": "LayoutModel",
     "state": {
      "_model_module": "@jupyter-widgets/base",
      "_model_module_version": "1.2.0",
      "_model_name": "LayoutModel",
      "_view_count": null,
      "_view_module": "@jupyter-widgets/base",
      "_view_module_version": "1.2.0",
      "_view_name": "LayoutView",
      "align_content": null,
      "align_items": null,
      "align_self": null,
      "border": null,
      "bottom": null,
      "display": null,
      "flex": null,
      "flex_flow": null,
      "grid_area": null,
      "grid_auto_columns": null,
      "grid_auto_flow": null,
      "grid_auto_rows": null,
      "grid_column": null,
      "grid_gap": null,
      "grid_row": null,
      "grid_template_areas": null,
      "grid_template_columns": null,
      "grid_template_rows": null,
      "height": null,
      "justify_content": null,
      "justify_items": null,
      "left": null,
      "margin": null,
      "max_height": null,
      "max_width": null,
      "min_height": null,
      "min_width": null,
      "object_fit": null,
      "object_position": null,
      "order": null,
      "overflow": null,
      "overflow_x": null,
      "overflow_y": null,
      "padding": null,
      "right": null,
      "top": null,
      "visibility": null,
      "width": null
     }
    },
    "0ec917fa6adc4ffa9f0736824a53bdf3": {
     "model_module": "@jupyter-widgets/controls",
     "model_module_version": "1.5.0",
     "model_name": "FloatProgressModel",
     "state": {
      "_dom_classes": [],
      "_model_module": "@jupyter-widgets/controls",
      "_model_module_version": "1.5.0",
      "_model_name": "FloatProgressModel",
      "_view_count": null,
      "_view_module": "@jupyter-widgets/controls",
      "_view_module_version": "1.5.0",
      "_view_name": "ProgressView",
      "bar_style": "success",
      "description": "",
      "description_tooltip": null,
      "layout": "IPY_MODEL_f4c214b6301149d4aba656a9b4a517aa",
      "max": 50,
      "min": 0,
      "orientation": "horizontal",
      "style": "IPY_MODEL_43fee9ac324c4719b14370981cf4ff55",
      "value": 50
     }
    },
    "0f224df498944b5aa1e866192f111dd8": {
     "model_module": "@jupyter-widgets/base",
     "model_module_version": "1.2.0",
     "model_name": "LayoutModel",
     "state": {
      "_model_module": "@jupyter-widgets/base",
      "_model_module_version": "1.2.0",
      "_model_name": "LayoutModel",
      "_view_count": null,
      "_view_module": "@jupyter-widgets/base",
      "_view_module_version": "1.2.0",
      "_view_name": "LayoutView",
      "align_content": null,
      "align_items": null,
      "align_self": null,
      "border": null,
      "bottom": null,
      "display": null,
      "flex": null,
      "flex_flow": null,
      "grid_area": null,
      "grid_auto_columns": null,
      "grid_auto_flow": null,
      "grid_auto_rows": null,
      "grid_column": null,
      "grid_gap": null,
      "grid_row": null,
      "grid_template_areas": null,
      "grid_template_columns": null,
      "grid_template_rows": null,
      "height": null,
      "justify_content": null,
      "justify_items": null,
      "left": null,
      "margin": null,
      "max_height": null,
      "max_width": null,
      "min_height": null,
      "min_width": null,
      "object_fit": null,
      "object_position": null,
      "order": null,
      "overflow": null,
      "overflow_x": null,
      "overflow_y": null,
      "padding": null,
      "right": null,
      "top": null,
      "visibility": null,
      "width": null
     }
    },
    "10339f7a7a79432e89486f5e820118d5": {
     "model_module": "@jupyter-widgets/controls",
     "model_module_version": "1.5.0",
     "model_name": "DescriptionStyleModel",
     "state": {
      "_model_module": "@jupyter-widgets/controls",
      "_model_module_version": "1.5.0",
      "_model_name": "DescriptionStyleModel",
      "_view_count": null,
      "_view_module": "@jupyter-widgets/base",
      "_view_module_version": "1.2.0",
      "_view_name": "StyleView",
      "description_width": ""
     }
    },
    "11a19352e7dc48f48e1de400552582f2": {
     "model_module": "@jupyter-widgets/controls",
     "model_module_version": "1.5.0",
     "model_name": "HBoxModel",
     "state": {
      "_dom_classes": [],
      "_model_module": "@jupyter-widgets/controls",
      "_model_module_version": "1.5.0",
      "_model_name": "HBoxModel",
      "_view_count": null,
      "_view_module": "@jupyter-widgets/controls",
      "_view_module_version": "1.5.0",
      "_view_name": "HBoxView",
      "box_style": "",
      "children": [
       "IPY_MODEL_e5b6db55d7df4cb5af38d0249f8be20e",
       "IPY_MODEL_0ec917fa6adc4ffa9f0736824a53bdf3",
       "IPY_MODEL_2297336662e94b27922e874b0321bd3e"
      ],
      "layout": "IPY_MODEL_b8e4f1fde9b74536a4c2d9fd2ddc95d2"
     }
    },
    "1218c036286949ebb6455fe16100101a": {
     "model_module": "@jupyter-widgets/base",
     "model_module_version": "1.2.0",
     "model_name": "LayoutModel",
     "state": {
      "_model_module": "@jupyter-widgets/base",
      "_model_module_version": "1.2.0",
      "_model_name": "LayoutModel",
      "_view_count": null,
      "_view_module": "@jupyter-widgets/base",
      "_view_module_version": "1.2.0",
      "_view_name": "LayoutView",
      "align_content": null,
      "align_items": null,
      "align_self": null,
      "border": null,
      "bottom": null,
      "display": null,
      "flex": null,
      "flex_flow": null,
      "grid_area": null,
      "grid_auto_columns": null,
      "grid_auto_flow": null,
      "grid_auto_rows": null,
      "grid_column": null,
      "grid_gap": null,
      "grid_row": null,
      "grid_template_areas": null,
      "grid_template_columns": null,
      "grid_template_rows": null,
      "height": null,
      "justify_content": null,
      "justify_items": null,
      "left": null,
      "margin": null,
      "max_height": null,
      "max_width": null,
      "min_height": null,
      "min_width": null,
      "object_fit": null,
      "object_position": null,
      "order": null,
      "overflow": null,
      "overflow_x": null,
      "overflow_y": null,
      "padding": null,
      "right": null,
      "top": null,
      "visibility": null,
      "width": null
     }
    },
    "136d9839851843fc8110409b6af5bddb": {
     "model_module": "@jupyter-widgets/controls",
     "model_module_version": "1.5.0",
     "model_name": "HTMLModel",
     "state": {
      "_dom_classes": [],
      "_model_module": "@jupyter-widgets/controls",
      "_model_module_version": "1.5.0",
      "_model_name": "HTMLModel",
      "_view_count": null,
      "_view_module": "@jupyter-widgets/controls",
      "_view_module_version": "1.5.0",
      "_view_name": "HTMLView",
      "description": "",
      "description_tooltip": null,
      "layout": "IPY_MODEL_ff8f32a4c18a48e8b8eadafd53232799",
      "placeholder": "​",
      "style": "IPY_MODEL_d1f6496c11404907acda6c3b35d1a16f",
      "value": " 50/50 (100.0%) | ⏳ 01:34&lt;00:00 |  1.56it/s"
     }
    },
    "160ab678e2674ac0b0fd2a6118ca64c5": {
     "model_module": "@jupyter-widgets/controls",
     "model_module_version": "1.5.0",
     "model_name": "HBoxModel",
     "state": {
      "_dom_classes": [],
      "_model_module": "@jupyter-widgets/controls",
      "_model_module_version": "1.5.0",
      "_model_name": "HBoxModel",
      "_view_count": null,
      "_view_module": "@jupyter-widgets/controls",
      "_view_module_version": "1.5.0",
      "_view_name": "HBoxView",
      "box_style": "",
      "children": [
       "IPY_MODEL_caa601977c5a4a9d94a98bce1bdda47e",
       "IPY_MODEL_ad531d3a7e7045099452c087ca2b7e4c",
       "IPY_MODEL_3593889b1e9a405480fee6b3aa2b1660"
      ],
      "layout": "IPY_MODEL_fbc42198b5d245af88129d4219e5f378"
     }
    },
    "1675844499b14573a86e3ede209e477b": {
     "model_module": "@jupyter-widgets/controls",
     "model_module_version": "1.5.0",
     "model_name": "HTMLModel",
     "state": {
      "_dom_classes": [],
      "_model_module": "@jupyter-widgets/controls",
      "_model_module_version": "1.5.0",
      "_model_name": "HTMLModel",
      "_view_count": null,
      "_view_module": "@jupyter-widgets/controls",
      "_view_module_version": "1.5.0",
      "_view_name": "HTMLView",
      "description": "",
      "description_tooltip": null,
      "layout": "IPY_MODEL_2f5b7e736ed0422b8ce810a94c344f28",
      "placeholder": "​",
      "style": "IPY_MODEL_09ae262e18df42a5a37faa12d1520c96",
      "value": "llm_classify "
     }
    },
    "17822d9bb06348a89b286bd2492123ff": {
     "model_module": "@jupyter-widgets/controls",
     "model_module_version": "1.5.0",
     "model_name": "HBoxModel",
     "state": {
      "_dom_classes": [],
      "_model_module": "@jupyter-widgets/controls",
      "_model_module_version": "1.5.0",
      "_model_name": "HBoxModel",
      "_view_count": null,
      "_view_module": "@jupyter-widgets/controls",
      "_view_module_version": "1.5.0",
      "_view_name": "HBoxView",
      "box_style": "",
      "children": [
       "IPY_MODEL_62738f1c6b4249e1ba4452e71515bbcb",
       "IPY_MODEL_3e4e935d26e248d8ac8b55d60c290713",
       "IPY_MODEL_79c8a051c477446f8d7d331ca5acc838"
      ],
      "layout": "IPY_MODEL_5e96433379964b2080a05627090f2d84"
     }
    },
    "18dd518d69134f798855fae6279260ba": {
     "model_module": "@jupyter-widgets/controls",
     "model_module_version": "1.5.0",
     "model_name": "DescriptionStyleModel",
     "state": {
      "_model_module": "@jupyter-widgets/controls",
      "_model_module_version": "1.5.0",
      "_model_name": "DescriptionStyleModel",
      "_view_count": null,
      "_view_module": "@jupyter-widgets/base",
      "_view_module_version": "1.2.0",
      "_view_name": "StyleView",
      "description_width": ""
     }
    },
    "1992b0a8a2c64d3eac6e669aaa91d9eb": {
     "model_module": "@jupyter-widgets/controls",
     "model_module_version": "1.5.0",
     "model_name": "ProgressStyleModel",
     "state": {
      "_model_module": "@jupyter-widgets/controls",
      "_model_module_version": "1.5.0",
      "_model_name": "ProgressStyleModel",
      "_view_count": null,
      "_view_module": "@jupyter-widgets/base",
      "_view_module_version": "1.2.0",
      "_view_name": "StyleView",
      "bar_color": null,
      "description_width": ""
     }
    },
    "1a4f4acbf96d4aecbbbdc23524f1fc12": {
     "model_module": "@jupyter-widgets/base",
     "model_module_version": "1.2.0",
     "model_name": "LayoutModel",
     "state": {
      "_model_module": "@jupyter-widgets/base",
      "_model_module_version": "1.2.0",
      "_model_name": "LayoutModel",
      "_view_count": null,
      "_view_module": "@jupyter-widgets/base",
      "_view_module_version": "1.2.0",
      "_view_name": "LayoutView",
      "align_content": null,
      "align_items": null,
      "align_self": null,
      "border": null,
      "bottom": null,
      "display": null,
      "flex": null,
      "flex_flow": null,
      "grid_area": null,
      "grid_auto_columns": null,
      "grid_auto_flow": null,
      "grid_auto_rows": null,
      "grid_column": null,
      "grid_gap": null,
      "grid_row": null,
      "grid_template_areas": null,
      "grid_template_columns": null,
      "grid_template_rows": null,
      "height": null,
      "justify_content": null,
      "justify_items": null,
      "left": null,
      "margin": null,
      "max_height": null,
      "max_width": null,
      "min_height": null,
      "min_width": null,
      "object_fit": null,
      "object_position": null,
      "order": null,
      "overflow": null,
      "overflow_x": null,
      "overflow_y": null,
      "padding": null,
      "right": null,
      "top": null,
      "visibility": null,
      "width": null
     }
    },
    "1b4b2a157d044070b6ff12fc5b231975": {
     "model_module": "@jupyter-widgets/controls",
     "model_module_version": "1.5.0",
     "model_name": "HTMLModel",
     "state": {
      "_dom_classes": [],
      "_model_module": "@jupyter-widgets/controls",
      "_model_module_version": "1.5.0",
      "_model_name": "HTMLModel",
      "_view_count": null,
      "_view_module": "@jupyter-widgets/controls",
      "_view_module_version": "1.5.0",
      "_view_name": "HTMLView",
      "description": "",
      "description_tooltip": null,
      "layout": "IPY_MODEL_d4f7f668eb7c4cb9923bdbd7f7eab9ee",
      "placeholder": "​",
      "style": "IPY_MODEL_18dd518d69134f798855fae6279260ba",
      "value": " 50/50 (100.0%) | ⏳ 00:06&lt;00:00 | 10.67it/s"
     }
    },
    "1cf7742a5b004f7d8b7356d76fd1e9a9": {
     "model_module": "@jupyter-widgets/controls",
     "model_module_version": "1.5.0",
     "model_name": "ProgressStyleModel",
     "state": {
      "_model_module": "@jupyter-widgets/controls",
      "_model_module_version": "1.5.0",
      "_model_name": "ProgressStyleModel",
      "_view_count": null,
      "_view_module": "@jupyter-widgets/base",
      "_view_module_version": "1.2.0",
      "_view_name": "StyleView",
      "bar_color": null,
      "description_width": ""
     }
    },
    "1da7fd2c929b462594b2f2efb7f6ee9d": {
     "model_module": "@jupyter-widgets/base",
     "model_module_version": "1.2.0",
     "model_name": "LayoutModel",
     "state": {
      "_model_module": "@jupyter-widgets/base",
      "_model_module_version": "1.2.0",
      "_model_name": "LayoutModel",
      "_view_count": null,
      "_view_module": "@jupyter-widgets/base",
      "_view_module_version": "1.2.0",
      "_view_name": "LayoutView",
      "align_content": null,
      "align_items": null,
      "align_self": null,
      "border": null,
      "bottom": null,
      "display": null,
      "flex": null,
      "flex_flow": null,
      "grid_area": null,
      "grid_auto_columns": null,
      "grid_auto_flow": null,
      "grid_auto_rows": null,
      "grid_column": null,
      "grid_gap": null,
      "grid_row": null,
      "grid_template_areas": null,
      "grid_template_columns": null,
      "grid_template_rows": null,
      "height": null,
      "justify_content": null,
      "justify_items": null,
      "left": null,
      "margin": null,
      "max_height": null,
      "max_width": null,
      "min_height": null,
      "min_width": null,
      "object_fit": null,
      "object_position": null,
      "order": null,
      "overflow": null,
      "overflow_x": null,
      "overflow_y": null,
      "padding": null,
      "right": null,
      "top": null,
      "visibility": null,
      "width": null
     }
    },
    "1e5faa47e9a54311b72aa633ee140e33": {
     "model_module": "@jupyter-widgets/base",
     "model_module_version": "1.2.0",
     "model_name": "LayoutModel",
     "state": {
      "_model_module": "@jupyter-widgets/base",
      "_model_module_version": "1.2.0",
      "_model_name": "LayoutModel",
      "_view_count": null,
      "_view_module": "@jupyter-widgets/base",
      "_view_module_version": "1.2.0",
      "_view_name": "LayoutView",
      "align_content": null,
      "align_items": null,
      "align_self": null,
      "border": null,
      "bottom": null,
      "display": null,
      "flex": null,
      "flex_flow": null,
      "grid_area": null,
      "grid_auto_columns": null,
      "grid_auto_flow": null,
      "grid_auto_rows": null,
      "grid_column": null,
      "grid_gap": null,
      "grid_row": null,
      "grid_template_areas": null,
      "grid_template_columns": null,
      "grid_template_rows": null,
      "height": null,
      "justify_content": null,
      "justify_items": null,
      "left": null,
      "margin": null,
      "max_height": null,
      "max_width": null,
      "min_height": null,
      "min_width": null,
      "object_fit": null,
      "object_position": null,
      "order": null,
      "overflow": null,
      "overflow_x": null,
      "overflow_y": null,
      "padding": null,
      "right": null,
      "top": null,
      "visibility": null,
      "width": null
     }
    },
    "216374e470cb41b2b55a0e632b3ba2a5": {
     "model_module": "@jupyter-widgets/controls",
     "model_module_version": "1.5.0",
     "model_name": "DescriptionStyleModel",
     "state": {
      "_model_module": "@jupyter-widgets/controls",
      "_model_module_version": "1.5.0",
      "_model_name": "DescriptionStyleModel",
      "_view_count": null,
      "_view_module": "@jupyter-widgets/base",
      "_view_module_version": "1.2.0",
      "_view_name": "StyleView",
      "description_width": ""
     }
    },
    "22638bfe5e9b4629a23d925c2e462aad": {
     "model_module": "@jupyter-widgets/controls",
     "model_module_version": "1.5.0",
     "model_name": "DescriptionStyleModel",
     "state": {
      "_model_module": "@jupyter-widgets/controls",
      "_model_module_version": "1.5.0",
      "_model_name": "DescriptionStyleModel",
      "_view_count": null,
      "_view_module": "@jupyter-widgets/base",
      "_view_module_version": "1.2.0",
      "_view_name": "StyleView",
      "description_width": ""
     }
    },
    "2297336662e94b27922e874b0321bd3e": {
     "model_module": "@jupyter-widgets/controls",
     "model_module_version": "1.5.0",
     "model_name": "HTMLModel",
     "state": {
      "_dom_classes": [],
      "_model_module": "@jupyter-widgets/controls",
      "_model_module_version": "1.5.0",
      "_model_name": "HTMLModel",
      "_view_count": null,
      "_view_module": "@jupyter-widgets/controls",
      "_view_module_version": "1.5.0",
      "_view_name": "HTMLView",
      "description": "",
      "description_tooltip": null,
      "layout": "IPY_MODEL_25168ef30fc64f1cbd1acdc85d314851",
      "placeholder": "​",
      "style": "IPY_MODEL_9d3a259f6ba74792beb5448039b62ad9",
      "value": " 50/50 (100.0%) | ⏳ 00:58&lt;00:00 | 10.31it/s"
     }
    },
    "2348137c35ad49e8b7535d93c1007853": {
     "model_module": "@jupyter-widgets/controls",
     "model_module_version": "1.5.0",
     "model_name": "HTMLModel",
     "state": {
      "_dom_classes": [],
      "_model_module": "@jupyter-widgets/controls",
      "_model_module_version": "1.5.0",
      "_model_name": "HTMLModel",
      "_view_count": null,
      "_view_module": "@jupyter-widgets/controls",
      "_view_module_version": "1.5.0",
      "_view_name": "HTMLView",
      "description": "",
      "description_tooltip": null,
      "layout": "IPY_MODEL_b3ca09bce6d8415daad8af51855672f6",
      "placeholder": "​",
      "style": "IPY_MODEL_40553818a38c48678beabd17c2fbdb16",
      "value": " 50/50 (100.0%) | ⏳ 00:14&lt;00:00 |  2.15it/s"
     }
    },
    "23dc6f0abfe94b548adb494f4e8251af": {
     "model_module": "@jupyter-widgets/controls",
     "model_module_version": "1.5.0",
     "model_name": "HTMLModel",
     "state": {
      "_dom_classes": [],
      "_model_module": "@jupyter-widgets/controls",
      "_model_module_version": "1.5.0",
      "_model_name": "HTMLModel",
      "_view_count": null,
      "_view_module": "@jupyter-widgets/controls",
      "_view_module_version": "1.5.0",
      "_view_name": "HTMLView",
      "description": "",
      "description_tooltip": null,
      "layout": "IPY_MODEL_ae2a11e078944736baacadd0ee9da1b9",
      "placeholder": "​",
      "style": "IPY_MODEL_6747c065bdd34a08aebc7cab22959f70",
      "value": " 50/50 (100.0%) | ⏳ 00:33&lt;00:00 | 12.14it/s"
     }
    },
    "243c1059820746ce855f0213e35bab71": {
     "model_module": "@jupyter-widgets/controls",
     "model_module_version": "1.5.0",
     "model_name": "HBoxModel",
     "state": {
      "_dom_classes": [],
      "_model_module": "@jupyter-widgets/controls",
      "_model_module_version": "1.5.0",
      "_model_name": "HBoxModel",
      "_view_count": null,
      "_view_module": "@jupyter-widgets/controls",
      "_view_module_version": "1.5.0",
      "_view_name": "HBoxView",
      "box_style": "",
      "children": [
       "IPY_MODEL_3fdcff64117e406fb7082ea945c1d96e",
       "IPY_MODEL_7216f2504ffc4603a424e2535668202a",
       "IPY_MODEL_061d4abaa6d24f198cd6e56dee4d8437"
      ],
      "layout": "IPY_MODEL_c05224745293437b88fb69ac30405c39"
     }
    },
    "24ee29af602c4b04bf43326a1ab3f96a": {
     "model_module": "@jupyter-widgets/controls",
     "model_module_version": "1.5.0",
     "model_name": "DescriptionStyleModel",
     "state": {
      "_model_module": "@jupyter-widgets/controls",
      "_model_module_version": "1.5.0",
      "_model_name": "DescriptionStyleModel",
      "_view_count": null,
      "_view_module": "@jupyter-widgets/base",
      "_view_module_version": "1.2.0",
      "_view_name": "StyleView",
      "description_width": ""
     }
    },
    "25168ef30fc64f1cbd1acdc85d314851": {
     "model_module": "@jupyter-widgets/base",
     "model_module_version": "1.2.0",
     "model_name": "LayoutModel",
     "state": {
      "_model_module": "@jupyter-widgets/base",
      "_model_module_version": "1.2.0",
      "_model_name": "LayoutModel",
      "_view_count": null,
      "_view_module": "@jupyter-widgets/base",
      "_view_module_version": "1.2.0",
      "_view_name": "LayoutView",
      "align_content": null,
      "align_items": null,
      "align_self": null,
      "border": null,
      "bottom": null,
      "display": null,
      "flex": null,
      "flex_flow": null,
      "grid_area": null,
      "grid_auto_columns": null,
      "grid_auto_flow": null,
      "grid_auto_rows": null,
      "grid_column": null,
      "grid_gap": null,
      "grid_row": null,
      "grid_template_areas": null,
      "grid_template_columns": null,
      "grid_template_rows": null,
      "height": null,
      "justify_content": null,
      "justify_items": null,
      "left": null,
      "margin": null,
      "max_height": null,
      "max_width": null,
      "min_height": null,
      "min_width": null,
      "object_fit": null,
      "object_position": null,
      "order": null,
      "overflow": null,
      "overflow_x": null,
      "overflow_y": null,
      "padding": null,
      "right": null,
      "top": null,
      "visibility": null,
      "width": null
     }
    },
    "259799276ddf4c798a53face1c40c7b4": {
     "model_module": "@jupyter-widgets/base",
     "model_module_version": "1.2.0",
     "model_name": "LayoutModel",
     "state": {
      "_model_module": "@jupyter-widgets/base",
      "_model_module_version": "1.2.0",
      "_model_name": "LayoutModel",
      "_view_count": null,
      "_view_module": "@jupyter-widgets/base",
      "_view_module_version": "1.2.0",
      "_view_name": "LayoutView",
      "align_content": null,
      "align_items": null,
      "align_self": null,
      "border": null,
      "bottom": null,
      "display": null,
      "flex": null,
      "flex_flow": null,
      "grid_area": null,
      "grid_auto_columns": null,
      "grid_auto_flow": null,
      "grid_auto_rows": null,
      "grid_column": null,
      "grid_gap": null,
      "grid_row": null,
      "grid_template_areas": null,
      "grid_template_columns": null,
      "grid_template_rows": null,
      "height": null,
      "justify_content": null,
      "justify_items": null,
      "left": null,
      "margin": null,
      "max_height": null,
      "max_width": null,
      "min_height": null,
      "min_width": null,
      "object_fit": null,
      "object_position": null,
      "order": null,
      "overflow": null,
      "overflow_x": null,
      "overflow_y": null,
      "padding": null,
      "right": null,
      "top": null,
      "visibility": null,
      "width": null
     }
    },
    "26a7786f10fc48f9b840422eab1cd085": {
     "model_module": "@jupyter-widgets/base",
     "model_module_version": "1.2.0",
     "model_name": "LayoutModel",
     "state": {
      "_model_module": "@jupyter-widgets/base",
      "_model_module_version": "1.2.0",
      "_model_name": "LayoutModel",
      "_view_count": null,
      "_view_module": "@jupyter-widgets/base",
      "_view_module_version": "1.2.0",
      "_view_name": "LayoutView",
      "align_content": null,
      "align_items": null,
      "align_self": null,
      "border": null,
      "bottom": null,
      "display": null,
      "flex": null,
      "flex_flow": null,
      "grid_area": null,
      "grid_auto_columns": null,
      "grid_auto_flow": null,
      "grid_auto_rows": null,
      "grid_column": null,
      "grid_gap": null,
      "grid_row": null,
      "grid_template_areas": null,
      "grid_template_columns": null,
      "grid_template_rows": null,
      "height": null,
      "justify_content": null,
      "justify_items": null,
      "left": null,
      "margin": null,
      "max_height": null,
      "max_width": null,
      "min_height": null,
      "min_width": null,
      "object_fit": null,
      "object_position": null,
      "order": null,
      "overflow": null,
      "overflow_x": null,
      "overflow_y": null,
      "padding": null,
      "right": null,
      "top": null,
      "visibility": null,
      "width": null
     }
    },
    "26c573b89b15401e93f1a4f4bf4dabd2": {
     "model_module": "@jupyter-widgets/base",
     "model_module_version": "1.2.0",
     "model_name": "LayoutModel",
     "state": {
      "_model_module": "@jupyter-widgets/base",
      "_model_module_version": "1.2.0",
      "_model_name": "LayoutModel",
      "_view_count": null,
      "_view_module": "@jupyter-widgets/base",
      "_view_module_version": "1.2.0",
      "_view_name": "LayoutView",
      "align_content": null,
      "align_items": null,
      "align_self": null,
      "border": null,
      "bottom": null,
      "display": null,
      "flex": null,
      "flex_flow": null,
      "grid_area": null,
      "grid_auto_columns": null,
      "grid_auto_flow": null,
      "grid_auto_rows": null,
      "grid_column": null,
      "grid_gap": null,
      "grid_row": null,
      "grid_template_areas": null,
      "grid_template_columns": null,
      "grid_template_rows": null,
      "height": null,
      "justify_content": null,
      "justify_items": null,
      "left": null,
      "margin": null,
      "max_height": null,
      "max_width": null,
      "min_height": null,
      "min_width": null,
      "object_fit": null,
      "object_position": null,
      "order": null,
      "overflow": null,
      "overflow_x": null,
      "overflow_y": null,
      "padding": null,
      "right": null,
      "top": null,
      "visibility": null,
      "width": null
     }
    },
    "2981e398daf144169239349a543f6e24": {
     "model_module": "@jupyter-widgets/base",
     "model_module_version": "1.2.0",
     "model_name": "LayoutModel",
     "state": {
      "_model_module": "@jupyter-widgets/base",
      "_model_module_version": "1.2.0",
      "_model_name": "LayoutModel",
      "_view_count": null,
      "_view_module": "@jupyter-widgets/base",
      "_view_module_version": "1.2.0",
      "_view_name": "LayoutView",
      "align_content": null,
      "align_items": null,
      "align_self": null,
      "border": null,
      "bottom": null,
      "display": null,
      "flex": null,
      "flex_flow": null,
      "grid_area": null,
      "grid_auto_columns": null,
      "grid_auto_flow": null,
      "grid_auto_rows": null,
      "grid_column": null,
      "grid_gap": null,
      "grid_row": null,
      "grid_template_areas": null,
      "grid_template_columns": null,
      "grid_template_rows": null,
      "height": null,
      "justify_content": null,
      "justify_items": null,
      "left": null,
      "margin": null,
      "max_height": null,
      "max_width": null,
      "min_height": null,
      "min_width": null,
      "object_fit": null,
      "object_position": null,
      "order": null,
      "overflow": null,
      "overflow_x": null,
      "overflow_y": null,
      "padding": null,
      "right": null,
      "top": null,
      "visibility": null,
      "width": null
     }
    },
    "2a74508978e04245932fb59a798be376": {
     "model_module": "@jupyter-widgets/controls",
     "model_module_version": "1.5.0",
     "model_name": "HTMLModel",
     "state": {
      "_dom_classes": [],
      "_model_module": "@jupyter-widgets/controls",
      "_model_module_version": "1.5.0",
      "_model_name": "HTMLModel",
      "_view_count": null,
      "_view_module": "@jupyter-widgets/controls",
      "_view_module_version": "1.5.0",
      "_view_name": "HTMLView",
      "description": "",
      "description_tooltip": null,
      "layout": "IPY_MODEL_1da7fd2c929b462594b2f2efb7f6ee9d",
      "placeholder": "​",
      "style": "IPY_MODEL_fbf4a09ce2874928aae53999d6a2b61d",
      "value": "llm_classify "
     }
    },
    "2abea0d6b03e49a296c397e4fea374f7": {
     "model_module": "@jupyter-widgets/base",
     "model_module_version": "1.2.0",
     "model_name": "LayoutModel",
     "state": {
      "_model_module": "@jupyter-widgets/base",
      "_model_module_version": "1.2.0",
      "_model_name": "LayoutModel",
      "_view_count": null,
      "_view_module": "@jupyter-widgets/base",
      "_view_module_version": "1.2.0",
      "_view_name": "LayoutView",
      "align_content": null,
      "align_items": null,
      "align_self": null,
      "border": null,
      "bottom": null,
      "display": null,
      "flex": null,
      "flex_flow": null,
      "grid_area": null,
      "grid_auto_columns": null,
      "grid_auto_flow": null,
      "grid_auto_rows": null,
      "grid_column": null,
      "grid_gap": null,
      "grid_row": null,
      "grid_template_areas": null,
      "grid_template_columns": null,
      "grid_template_rows": null,
      "height": null,
      "justify_content": null,
      "justify_items": null,
      "left": null,
      "margin": null,
      "max_height": null,
      "max_width": null,
      "min_height": null,
      "min_width": null,
      "object_fit": null,
      "object_position": null,
      "order": null,
      "overflow": null,
      "overflow_x": null,
      "overflow_y": null,
      "padding": null,
      "right": null,
      "top": null,
      "visibility": null,
      "width": null
     }
    },
    "2f5b7e736ed0422b8ce810a94c344f28": {
     "model_module": "@jupyter-widgets/base",
     "model_module_version": "1.2.0",
     "model_name": "LayoutModel",
     "state": {
      "_model_module": "@jupyter-widgets/base",
      "_model_module_version": "1.2.0",
      "_model_name": "LayoutModel",
      "_view_count": null,
      "_view_module": "@jupyter-widgets/base",
      "_view_module_version": "1.2.0",
      "_view_name": "LayoutView",
      "align_content": null,
      "align_items": null,
      "align_self": null,
      "border": null,
      "bottom": null,
      "display": null,
      "flex": null,
      "flex_flow": null,
      "grid_area": null,
      "grid_auto_columns": null,
      "grid_auto_flow": null,
      "grid_auto_rows": null,
      "grid_column": null,
      "grid_gap": null,
      "grid_row": null,
      "grid_template_areas": null,
      "grid_template_columns": null,
      "grid_template_rows": null,
      "height": null,
      "justify_content": null,
      "justify_items": null,
      "left": null,
      "margin": null,
      "max_height": null,
      "max_width": null,
      "min_height": null,
      "min_width": null,
      "object_fit": null,
      "object_position": null,
      "order": null,
      "overflow": null,
      "overflow_x": null,
      "overflow_y": null,
      "padding": null,
      "right": null,
      "top": null,
      "visibility": null,
      "width": null
     }
    },
    "2ffa08d58bf8402ca7f858a1632e89ec": {
     "model_module": "@jupyter-widgets/controls",
     "model_module_version": "1.5.0",
     "model_name": "ProgressStyleModel",
     "state": {
      "_model_module": "@jupyter-widgets/controls",
      "_model_module_version": "1.5.0",
      "_model_name": "ProgressStyleModel",
      "_view_count": null,
      "_view_module": "@jupyter-widgets/base",
      "_view_module_version": "1.2.0",
      "_view_name": "StyleView",
      "bar_color": null,
      "description_width": ""
     }
    },
    "3320e2f8aacf4ffaae0702057d9146f3": {
     "model_module": "@jupyter-widgets/controls",
     "model_module_version": "1.5.0",
     "model_name": "HTMLModel",
     "state": {
      "_dom_classes": [],
      "_model_module": "@jupyter-widgets/controls",
      "_model_module_version": "1.5.0",
      "_model_name": "HTMLModel",
      "_view_count": null,
      "_view_module": "@jupyter-widgets/controls",
      "_view_module_version": "1.5.0",
      "_view_name": "HTMLView",
      "description": "",
      "description_tooltip": null,
      "layout": "IPY_MODEL_4b54372e7b484d88a6495114271a2bff",
      "placeholder": "​",
      "style": "IPY_MODEL_bc59a8a2fcb245929d338013d8056f4c",
      "value": "llm_classify "
     }
    },
    "3593889b1e9a405480fee6b3aa2b1660": {
     "model_module": "@jupyter-widgets/controls",
     "model_module_version": "1.5.0",
     "model_name": "HTMLModel",
     "state": {
      "_dom_classes": [],
      "_model_module": "@jupyter-widgets/controls",
      "_model_module_version": "1.5.0",
      "_model_name": "HTMLModel",
      "_view_count": null,
      "_view_module": "@jupyter-widgets/controls",
      "_view_module_version": "1.5.0",
      "_view_name": "HTMLView",
      "description": "",
      "description_tooltip": null,
      "layout": "IPY_MODEL_e15e603bf71f48bb8cf0bfb16f48bd85",
      "placeholder": "​",
      "style": "IPY_MODEL_dba97099e9884d70a36faa126d13641c",
      "value": " 50/50 (100.0%) | ⏳ 00:06&lt;00:00 |  9.05it/s"
     }
    },
    "37b910a8221b46da9f844834bfea222e": {
     "model_module": "@jupyter-widgets/controls",
     "model_module_version": "1.5.0",
     "model_name": "DescriptionStyleModel",
     "state": {
      "_model_module": "@jupyter-widgets/controls",
      "_model_module_version": "1.5.0",
      "_model_name": "DescriptionStyleModel",
      "_view_count": null,
      "_view_module": "@jupyter-widgets/base",
      "_view_module_version": "1.2.0",
      "_view_name": "StyleView",
      "description_width": ""
     }
    },
    "3813e3fe73804a6583da436db03dc8a8": {
     "model_module": "@jupyter-widgets/base",
     "model_module_version": "1.2.0",
     "model_name": "LayoutModel",
     "state": {
      "_model_module": "@jupyter-widgets/base",
      "_model_module_version": "1.2.0",
      "_model_name": "LayoutModel",
      "_view_count": null,
      "_view_module": "@jupyter-widgets/base",
      "_view_module_version": "1.2.0",
      "_view_name": "LayoutView",
      "align_content": null,
      "align_items": null,
      "align_self": null,
      "border": null,
      "bottom": null,
      "display": null,
      "flex": null,
      "flex_flow": null,
      "grid_area": null,
      "grid_auto_columns": null,
      "grid_auto_flow": null,
      "grid_auto_rows": null,
      "grid_column": null,
      "grid_gap": null,
      "grid_row": null,
      "grid_template_areas": null,
      "grid_template_columns": null,
      "grid_template_rows": null,
      "height": null,
      "justify_content": null,
      "justify_items": null,
      "left": null,
      "margin": null,
      "max_height": null,
      "max_width": null,
      "min_height": null,
      "min_width": null,
      "object_fit": null,
      "object_position": null,
      "order": null,
      "overflow": null,
      "overflow_x": null,
      "overflow_y": null,
      "padding": null,
      "right": null,
      "top": null,
      "visibility": null,
      "width": null
     }
    },
    "3b1cf789e71740c7a73a54807edbd407": {
     "model_module": "@jupyter-widgets/controls",
     "model_module_version": "1.5.0",
     "model_name": "HTMLModel",
     "state": {
      "_dom_classes": [],
      "_model_module": "@jupyter-widgets/controls",
      "_model_module_version": "1.5.0",
      "_model_name": "HTMLModel",
      "_view_count": null,
      "_view_module": "@jupyter-widgets/controls",
      "_view_module_version": "1.5.0",
      "_view_name": "HTMLView",
      "description": "",
      "description_tooltip": null,
      "layout": "IPY_MODEL_f687228d0a7d452096012549713cd56a",
      "placeholder": "​",
      "style": "IPY_MODEL_b6d50b46294b42e099c70cc559c75bb6",
      "value": " 50/50 (100.0%) | ⏳ 00:16&lt;00:00 |  1.92it/s"
     }
    },
    "3b58c94a12a541098d5850b86d11f000": {
     "model_module": "@jupyter-widgets/controls",
     "model_module_version": "1.5.0",
     "model_name": "DescriptionStyleModel",
     "state": {
      "_model_module": "@jupyter-widgets/controls",
      "_model_module_version": "1.5.0",
      "_model_name": "DescriptionStyleModel",
      "_view_count": null,
      "_view_module": "@jupyter-widgets/base",
      "_view_module_version": "1.2.0",
      "_view_name": "StyleView",
      "description_width": ""
     }
    },
    "3e4e935d26e248d8ac8b55d60c290713": {
     "model_module": "@jupyter-widgets/controls",
     "model_module_version": "1.5.0",
     "model_name": "FloatProgressModel",
     "state": {
      "_dom_classes": [],
      "_model_module": "@jupyter-widgets/controls",
      "_model_module_version": "1.5.0",
      "_model_name": "FloatProgressModel",
      "_view_count": null,
      "_view_module": "@jupyter-widgets/controls",
      "_view_module_version": "1.5.0",
      "_view_name": "ProgressView",
      "bar_style": "success",
      "description": "",
      "description_tooltip": null,
      "layout": "IPY_MODEL_6fa9c98c50ed4ebaafd489ab1631101f",
      "max": 50,
      "min": 0,
      "orientation": "horizontal",
      "style": "IPY_MODEL_f57ab92bec5d4b798594575d9ef24c7a",
      "value": 50
     }
    },
    "3e9372d581944994933d84427dd2af2d": {
     "model_module": "@jupyter-widgets/controls",
     "model_module_version": "1.5.0",
     "model_name": "HTMLModel",
     "state": {
      "_dom_classes": [],
      "_model_module": "@jupyter-widgets/controls",
      "_model_module_version": "1.5.0",
      "_model_name": "HTMLModel",
      "_view_count": null,
      "_view_module": "@jupyter-widgets/controls",
      "_view_module_version": "1.5.0",
      "_view_name": "HTMLView",
      "description": "",
      "description_tooltip": null,
      "layout": "IPY_MODEL_5a2fc644f83940e292b21e47647394cb",
      "placeholder": "​",
      "style": "IPY_MODEL_5e61d89e7c94440bb357e7e20261af41",
      "value": "llm_classify "
     }
    },
    "3fdcff64117e406fb7082ea945c1d96e": {
     "model_module": "@jupyter-widgets/controls",
     "model_module_version": "1.5.0",
     "model_name": "HTMLModel",
     "state": {
      "_dom_classes": [],
      "_model_module": "@jupyter-widgets/controls",
      "_model_module_version": "1.5.0",
      "_model_name": "HTMLModel",
      "_view_count": null,
      "_view_module": "@jupyter-widgets/controls",
      "_view_module_version": "1.5.0",
      "_view_name": "HTMLView",
      "description": "",
      "description_tooltip": null,
      "layout": "IPY_MODEL_01db47cd4ff74fd6a04c0adb6b9f104b",
      "placeholder": "​",
      "style": "IPY_MODEL_013f24eeeacd40afb8a2417440aa228f",
      "value": "llm_classify "
     }
    },
    "40344a77df6c494ba4c59f7eb7daf93b": {
     "model_module": "@jupyter-widgets/controls",
     "model_module_version": "1.5.0",
     "model_name": "HTMLModel",
     "state": {
      "_dom_classes": [],
      "_model_module": "@jupyter-widgets/controls",
      "_model_module_version": "1.5.0",
      "_model_name": "HTMLModel",
      "_view_count": null,
      "_view_module": "@jupyter-widgets/controls",
      "_view_module_version": "1.5.0",
      "_view_name": "HTMLView",
      "description": "",
      "description_tooltip": null,
      "layout": "IPY_MODEL_1e5faa47e9a54311b72aa633ee140e33",
      "placeholder": "​",
      "style": "IPY_MODEL_37b910a8221b46da9f844834bfea222e",
      "value": "llm_classify "
     }
    },
    "40553818a38c48678beabd17c2fbdb16": {
     "model_module": "@jupyter-widgets/controls",
     "model_module_version": "1.5.0",
     "model_name": "DescriptionStyleModel",
     "state": {
      "_model_module": "@jupyter-widgets/controls",
      "_model_module_version": "1.5.0",
      "_model_name": "DescriptionStyleModel",
      "_view_count": null,
      "_view_module": "@jupyter-widgets/base",
      "_view_module_version": "1.2.0",
      "_view_name": "StyleView",
      "description_width": ""
     }
    },
    "40bd755b4ac14db8bde499187a7da44c": {
     "model_module": "@jupyter-widgets/controls",
     "model_module_version": "1.5.0",
     "model_name": "HBoxModel",
     "state": {
      "_dom_classes": [],
      "_model_module": "@jupyter-widgets/controls",
      "_model_module_version": "1.5.0",
      "_model_name": "HBoxModel",
      "_view_count": null,
      "_view_module": "@jupyter-widgets/controls",
      "_view_module_version": "1.5.0",
      "_view_name": "HBoxView",
      "box_style": "",
      "children": [
       "IPY_MODEL_3320e2f8aacf4ffaae0702057d9146f3",
       "IPY_MODEL_df84b585621447b5ac6d87f6902731c6",
       "IPY_MODEL_3b1cf789e71740c7a73a54807edbd407"
      ],
      "layout": "IPY_MODEL_4ef628fd0d274874bc3c6dbf23c372f5"
     }
    },
    "430008144a9d44a9a29237dca8885438": {
     "model_module": "@jupyter-widgets/base",
     "model_module_version": "1.2.0",
     "model_name": "LayoutModel",
     "state": {
      "_model_module": "@jupyter-widgets/base",
      "_model_module_version": "1.2.0",
      "_model_name": "LayoutModel",
      "_view_count": null,
      "_view_module": "@jupyter-widgets/base",
      "_view_module_version": "1.2.0",
      "_view_name": "LayoutView",
      "align_content": null,
      "align_items": null,
      "align_self": null,
      "border": null,
      "bottom": null,
      "display": null,
      "flex": null,
      "flex_flow": null,
      "grid_area": null,
      "grid_auto_columns": null,
      "grid_auto_flow": null,
      "grid_auto_rows": null,
      "grid_column": null,
      "grid_gap": null,
      "grid_row": null,
      "grid_template_areas": null,
      "grid_template_columns": null,
      "grid_template_rows": null,
      "height": null,
      "justify_content": null,
      "justify_items": null,
      "left": null,
      "margin": null,
      "max_height": null,
      "max_width": null,
      "min_height": null,
      "min_width": null,
      "object_fit": null,
      "object_position": null,
      "order": null,
      "overflow": null,
      "overflow_x": null,
      "overflow_y": null,
      "padding": null,
      "right": null,
      "top": null,
      "visibility": null,
      "width": null
     }
    },
    "43f0102ed0fb4e87988bd8cfb457df8a": {
     "model_module": "@jupyter-widgets/controls",
     "model_module_version": "1.5.0",
     "model_name": "DescriptionStyleModel",
     "state": {
      "_model_module": "@jupyter-widgets/controls",
      "_model_module_version": "1.5.0",
      "_model_name": "DescriptionStyleModel",
      "_view_count": null,
      "_view_module": "@jupyter-widgets/base",
      "_view_module_version": "1.2.0",
      "_view_name": "StyleView",
      "description_width": ""
     }
    },
    "43fee9ac324c4719b14370981cf4ff55": {
     "model_module": "@jupyter-widgets/controls",
     "model_module_version": "1.5.0",
     "model_name": "ProgressStyleModel",
     "state": {
      "_model_module": "@jupyter-widgets/controls",
      "_model_module_version": "1.5.0",
      "_model_name": "ProgressStyleModel",
      "_view_count": null,
      "_view_module": "@jupyter-widgets/base",
      "_view_module_version": "1.2.0",
      "_view_name": "StyleView",
      "bar_color": null,
      "description_width": ""
     }
    },
    "449cf88bb878427eb97af395ad71c998": {
     "model_module": "@jupyter-widgets/controls",
     "model_module_version": "1.5.0",
     "model_name": "HBoxModel",
     "state": {
      "_dom_classes": [],
      "_model_module": "@jupyter-widgets/controls",
      "_model_module_version": "1.5.0",
      "_model_name": "HBoxModel",
      "_view_count": null,
      "_view_module": "@jupyter-widgets/controls",
      "_view_module_version": "1.5.0",
      "_view_name": "HBoxView",
      "box_style": "",
      "children": [
       "IPY_MODEL_3e9372d581944994933d84427dd2af2d",
       "IPY_MODEL_5ca8fe7b3aeb46bfb3f5ea8ca7742723",
       "IPY_MODEL_e4e23d0c47a0465cbca362d06415e5a3"
      ],
      "layout": "IPY_MODEL_7056ba83e3794c6ab18b2ed306db24ed"
     }
    },
    "475bb8e6edc2453c86ff31de02d57ded": {
     "model_module": "@jupyter-widgets/controls",
     "model_module_version": "1.5.0",
     "model_name": "DescriptionStyleModel",
     "state": {
      "_model_module": "@jupyter-widgets/controls",
      "_model_module_version": "1.5.0",
      "_model_name": "DescriptionStyleModel",
      "_view_count": null,
      "_view_module": "@jupyter-widgets/base",
      "_view_module_version": "1.2.0",
      "_view_name": "StyleView",
      "description_width": ""
     }
    },
    "482cb8ffa07e4cff8cdd54b80908fc7e": {
     "model_module": "@jupyter-widgets/controls",
     "model_module_version": "1.5.0",
     "model_name": "FloatProgressModel",
     "state": {
      "_dom_classes": [],
      "_model_module": "@jupyter-widgets/controls",
      "_model_module_version": "1.5.0",
      "_model_name": "FloatProgressModel",
      "_view_count": null,
      "_view_module": "@jupyter-widgets/controls",
      "_view_module_version": "1.5.0",
      "_view_name": "ProgressView",
      "bar_style": "success",
      "description": "",
      "description_tooltip": null,
      "layout": "IPY_MODEL_00d9cdb672c940ea90f97419ee7bfec5",
      "max": 50,
      "min": 0,
      "orientation": "horizontal",
      "style": "IPY_MODEL_4d5731062b0148c383020e2d866369af",
      "value": 50
     }
    },
    "497cbb779d9941b9a11cc202c45aa9ce": {
     "model_module": "@jupyter-widgets/base",
     "model_module_version": "1.2.0",
     "model_name": "LayoutModel",
     "state": {
      "_model_module": "@jupyter-widgets/base",
      "_model_module_version": "1.2.0",
      "_model_name": "LayoutModel",
      "_view_count": null,
      "_view_module": "@jupyter-widgets/base",
      "_view_module_version": "1.2.0",
      "_view_name": "LayoutView",
      "align_content": null,
      "align_items": null,
      "align_self": null,
      "border": null,
      "bottom": null,
      "display": null,
      "flex": null,
      "flex_flow": null,
      "grid_area": null,
      "grid_auto_columns": null,
      "grid_auto_flow": null,
      "grid_auto_rows": null,
      "grid_column": null,
      "grid_gap": null,
      "grid_row": null,
      "grid_template_areas": null,
      "grid_template_columns": null,
      "grid_template_rows": null,
      "height": null,
      "justify_content": null,
      "justify_items": null,
      "left": null,
      "margin": null,
      "max_height": null,
      "max_width": null,
      "min_height": null,
      "min_width": null,
      "object_fit": null,
      "object_position": null,
      "order": null,
      "overflow": null,
      "overflow_x": null,
      "overflow_y": null,
      "padding": null,
      "right": null,
      "top": null,
      "visibility": null,
      "width": null
     }
    },
    "49a1cab81c6847be8fc8c7e527f184c3": {
     "model_module": "@jupyter-widgets/controls",
     "model_module_version": "1.5.0",
     "model_name": "HBoxModel",
     "state": {
      "_dom_classes": [],
      "_model_module": "@jupyter-widgets/controls",
      "_model_module_version": "1.5.0",
      "_model_name": "HBoxModel",
      "_view_count": null,
      "_view_module": "@jupyter-widgets/controls",
      "_view_module_version": "1.5.0",
      "_view_name": "HBoxView",
      "box_style": "",
      "children": [
       "IPY_MODEL_1675844499b14573a86e3ede209e477b",
       "IPY_MODEL_f61ee3f4378a4aa38353dbd0f4b43a7e",
       "IPY_MODEL_74f5302831964329801706679024121a"
      ],
      "layout": "IPY_MODEL_e1b783651a4147fa866b20fb5eecabfe"
     }
    },
    "4b54372e7b484d88a6495114271a2bff": {
     "model_module": "@jupyter-widgets/base",
     "model_module_version": "1.2.0",
     "model_name": "LayoutModel",
     "state": {
      "_model_module": "@jupyter-widgets/base",
      "_model_module_version": "1.2.0",
      "_model_name": "LayoutModel",
      "_view_count": null,
      "_view_module": "@jupyter-widgets/base",
      "_view_module_version": "1.2.0",
      "_view_name": "LayoutView",
      "align_content": null,
      "align_items": null,
      "align_self": null,
      "border": null,
      "bottom": null,
      "display": null,
      "flex": null,
      "flex_flow": null,
      "grid_area": null,
      "grid_auto_columns": null,
      "grid_auto_flow": null,
      "grid_auto_rows": null,
      "grid_column": null,
      "grid_gap": null,
      "grid_row": null,
      "grid_template_areas": null,
      "grid_template_columns": null,
      "grid_template_rows": null,
      "height": null,
      "justify_content": null,
      "justify_items": null,
      "left": null,
      "margin": null,
      "max_height": null,
      "max_width": null,
      "min_height": null,
      "min_width": null,
      "object_fit": null,
      "object_position": null,
      "order": null,
      "overflow": null,
      "overflow_x": null,
      "overflow_y": null,
      "padding": null,
      "right": null,
      "top": null,
      "visibility": null,
      "width": null
     }
    },
    "4d5731062b0148c383020e2d866369af": {
     "model_module": "@jupyter-widgets/controls",
     "model_module_version": "1.5.0",
     "model_name": "ProgressStyleModel",
     "state": {
      "_model_module": "@jupyter-widgets/controls",
      "_model_module_version": "1.5.0",
      "_model_name": "ProgressStyleModel",
      "_view_count": null,
      "_view_module": "@jupyter-widgets/base",
      "_view_module_version": "1.2.0",
      "_view_name": "StyleView",
      "bar_color": null,
      "description_width": ""
     }
    },
    "4e824d22017a4953a26cb60b547a0aea": {
     "model_module": "@jupyter-widgets/controls",
     "model_module_version": "1.5.0",
     "model_name": "DescriptionStyleModel",
     "state": {
      "_model_module": "@jupyter-widgets/controls",
      "_model_module_version": "1.5.0",
      "_model_name": "DescriptionStyleModel",
      "_view_count": null,
      "_view_module": "@jupyter-widgets/base",
      "_view_module_version": "1.2.0",
      "_view_name": "StyleView",
      "description_width": ""
     }
    },
    "4ef628fd0d274874bc3c6dbf23c372f5": {
     "model_module": "@jupyter-widgets/base",
     "model_module_version": "1.2.0",
     "model_name": "LayoutModel",
     "state": {
      "_model_module": "@jupyter-widgets/base",
      "_model_module_version": "1.2.0",
      "_model_name": "LayoutModel",
      "_view_count": null,
      "_view_module": "@jupyter-widgets/base",
      "_view_module_version": "1.2.0",
      "_view_name": "LayoutView",
      "align_content": null,
      "align_items": null,
      "align_self": null,
      "border": null,
      "bottom": null,
      "display": null,
      "flex": null,
      "flex_flow": null,
      "grid_area": null,
      "grid_auto_columns": null,
      "grid_auto_flow": null,
      "grid_auto_rows": null,
      "grid_column": null,
      "grid_gap": null,
      "grid_row": null,
      "grid_template_areas": null,
      "grid_template_columns": null,
      "grid_template_rows": null,
      "height": null,
      "justify_content": null,
      "justify_items": null,
      "left": null,
      "margin": null,
      "max_height": null,
      "max_width": null,
      "min_height": null,
      "min_width": null,
      "object_fit": null,
      "object_position": null,
      "order": null,
      "overflow": null,
      "overflow_x": null,
      "overflow_y": null,
      "padding": null,
      "right": null,
      "top": null,
      "visibility": null,
      "width": null
     }
    },
    "52195add7ceb45748d2f994617b68fe6": {
     "model_module": "@jupyter-widgets/controls",
     "model_module_version": "1.5.0",
     "model_name": "HTMLModel",
     "state": {
      "_dom_classes": [],
      "_model_module": "@jupyter-widgets/controls",
      "_model_module_version": "1.5.0",
      "_model_name": "HTMLModel",
      "_view_count": null,
      "_view_module": "@jupyter-widgets/controls",
      "_view_module_version": "1.5.0",
      "_view_name": "HTMLView",
      "description": "",
      "description_tooltip": null,
      "layout": "IPY_MODEL_f803cf097a8f4259aae20838f3455c48",
      "placeholder": "​",
      "style": "IPY_MODEL_735b3c3f99ec4df5bb5b6c49a23e2628",
      "value": "llm_classify "
     }
    },
    "52fcfb62da9d44beafafbc022d54dbc4": {
     "model_module": "@jupyter-widgets/base",
     "model_module_version": "1.2.0",
     "model_name": "LayoutModel",
     "state": {
      "_model_module": "@jupyter-widgets/base",
      "_model_module_version": "1.2.0",
      "_model_name": "LayoutModel",
      "_view_count": null,
      "_view_module": "@jupyter-widgets/base",
      "_view_module_version": "1.2.0",
      "_view_name": "LayoutView",
      "align_content": null,
      "align_items": null,
      "align_self": null,
      "border": null,
      "bottom": null,
      "display": null,
      "flex": null,
      "flex_flow": null,
      "grid_area": null,
      "grid_auto_columns": null,
      "grid_auto_flow": null,
      "grid_auto_rows": null,
      "grid_column": null,
      "grid_gap": null,
      "grid_row": null,
      "grid_template_areas": null,
      "grid_template_columns": null,
      "grid_template_rows": null,
      "height": null,
      "justify_content": null,
      "justify_items": null,
      "left": null,
      "margin": null,
      "max_height": null,
      "max_width": null,
      "min_height": null,
      "min_width": null,
      "object_fit": null,
      "object_position": null,
      "order": null,
      "overflow": null,
      "overflow_x": null,
      "overflow_y": null,
      "padding": null,
      "right": null,
      "top": null,
      "visibility": null,
      "width": null
     }
    },
    "53c54c891a674b04ba0106f1f8931046": {
     "model_module": "@jupyter-widgets/controls",
     "model_module_version": "1.5.0",
     "model_name": "HBoxModel",
     "state": {
      "_dom_classes": [],
      "_model_module": "@jupyter-widgets/controls",
      "_model_module_version": "1.5.0",
      "_model_name": "HBoxModel",
      "_view_count": null,
      "_view_module": "@jupyter-widgets/controls",
      "_view_module_version": "1.5.0",
      "_view_name": "HBoxView",
      "box_style": "",
      "children": [
       "IPY_MODEL_d7e376d5663c4b0490e492758e34947b",
       "IPY_MODEL_91f74b2a275b43378f18832140807add",
       "IPY_MODEL_a66c4928ded34688958595d8ebc7b71c"
      ],
      "layout": "IPY_MODEL_c6d0738e230c48cdba51f71993eae09a"
     }
    },
    "54573c75891740afa5e47024d53ac2dd": {
     "model_module": "@jupyter-widgets/base",
     "model_module_version": "1.2.0",
     "model_name": "LayoutModel",
     "state": {
      "_model_module": "@jupyter-widgets/base",
      "_model_module_version": "1.2.0",
      "_model_name": "LayoutModel",
      "_view_count": null,
      "_view_module": "@jupyter-widgets/base",
      "_view_module_version": "1.2.0",
      "_view_name": "LayoutView",
      "align_content": null,
      "align_items": null,
      "align_self": null,
      "border": null,
      "bottom": null,
      "display": null,
      "flex": null,
      "flex_flow": null,
      "grid_area": null,
      "grid_auto_columns": null,
      "grid_auto_flow": null,
      "grid_auto_rows": null,
      "grid_column": null,
      "grid_gap": null,
      "grid_row": null,
      "grid_template_areas": null,
      "grid_template_columns": null,
      "grid_template_rows": null,
      "height": null,
      "justify_content": null,
      "justify_items": null,
      "left": null,
      "margin": null,
      "max_height": null,
      "max_width": null,
      "min_height": null,
      "min_width": null,
      "object_fit": null,
      "object_position": null,
      "order": null,
      "overflow": null,
      "overflow_x": null,
      "overflow_y": null,
      "padding": null,
      "right": null,
      "top": null,
      "visibility": null,
      "width": null
     }
    },
    "5686a27f25db4afab4bb83a774a621e4": {
     "model_module": "@jupyter-widgets/base",
     "model_module_version": "1.2.0",
     "model_name": "LayoutModel",
     "state": {
      "_model_module": "@jupyter-widgets/base",
      "_model_module_version": "1.2.0",
      "_model_name": "LayoutModel",
      "_view_count": null,
      "_view_module": "@jupyter-widgets/base",
      "_view_module_version": "1.2.0",
      "_view_name": "LayoutView",
      "align_content": null,
      "align_items": null,
      "align_self": null,
      "border": null,
      "bottom": null,
      "display": null,
      "flex": null,
      "flex_flow": null,
      "grid_area": null,
      "grid_auto_columns": null,
      "grid_auto_flow": null,
      "grid_auto_rows": null,
      "grid_column": null,
      "grid_gap": null,
      "grid_row": null,
      "grid_template_areas": null,
      "grid_template_columns": null,
      "grid_template_rows": null,
      "height": null,
      "justify_content": null,
      "justify_items": null,
      "left": null,
      "margin": null,
      "max_height": null,
      "max_width": null,
      "min_height": null,
      "min_width": null,
      "object_fit": null,
      "object_position": null,
      "order": null,
      "overflow": null,
      "overflow_x": null,
      "overflow_y": null,
      "padding": null,
      "right": null,
      "top": null,
      "visibility": null,
      "width": null
     }
    },
    "56fd3a897d9c468abf6f0ed326e4fadd": {
     "model_module": "@jupyter-widgets/controls",
     "model_module_version": "1.5.0",
     "model_name": "DescriptionStyleModel",
     "state": {
      "_model_module": "@jupyter-widgets/controls",
      "_model_module_version": "1.5.0",
      "_model_name": "DescriptionStyleModel",
      "_view_count": null,
      "_view_module": "@jupyter-widgets/base",
      "_view_module_version": "1.2.0",
      "_view_name": "StyleView",
      "description_width": ""
     }
    },
    "57493bcd3ef54c5d9b97992ea09b7a9a": {
     "model_module": "@jupyter-widgets/controls",
     "model_module_version": "1.5.0",
     "model_name": "DescriptionStyleModel",
     "state": {
      "_model_module": "@jupyter-widgets/controls",
      "_model_module_version": "1.5.0",
      "_model_name": "DescriptionStyleModel",
      "_view_count": null,
      "_view_module": "@jupyter-widgets/base",
      "_view_module_version": "1.2.0",
      "_view_name": "StyleView",
      "description_width": ""
     }
    },
    "59369ab214134f5ab5366fee1e289d84": {
     "model_module": "@jupyter-widgets/controls",
     "model_module_version": "1.5.0",
     "model_name": "HTMLModel",
     "state": {
      "_dom_classes": [],
      "_model_module": "@jupyter-widgets/controls",
      "_model_module_version": "1.5.0",
      "_model_name": "HTMLModel",
      "_view_count": null,
      "_view_module": "@jupyter-widgets/controls",
      "_view_module_version": "1.5.0",
      "_view_name": "HTMLView",
      "description": "",
      "description_tooltip": null,
      "layout": "IPY_MODEL_5686a27f25db4afab4bb83a774a621e4",
      "placeholder": "​",
      "style": "IPY_MODEL_6a35e07e02c244b8a2fa0528646aeb22",
      "value": "llm_classify "
     }
    },
    "5a2fc644f83940e292b21e47647394cb": {
     "model_module": "@jupyter-widgets/base",
     "model_module_version": "1.2.0",
     "model_name": "LayoutModel",
     "state": {
      "_model_module": "@jupyter-widgets/base",
      "_model_module_version": "1.2.0",
      "_model_name": "LayoutModel",
      "_view_count": null,
      "_view_module": "@jupyter-widgets/base",
      "_view_module_version": "1.2.0",
      "_view_name": "LayoutView",
      "align_content": null,
      "align_items": null,
      "align_self": null,
      "border": null,
      "bottom": null,
      "display": null,
      "flex": null,
      "flex_flow": null,
      "grid_area": null,
      "grid_auto_columns": null,
      "grid_auto_flow": null,
      "grid_auto_rows": null,
      "grid_column": null,
      "grid_gap": null,
      "grid_row": null,
      "grid_template_areas": null,
      "grid_template_columns": null,
      "grid_template_rows": null,
      "height": null,
      "justify_content": null,
      "justify_items": null,
      "left": null,
      "margin": null,
      "max_height": null,
      "max_width": null,
      "min_height": null,
      "min_width": null,
      "object_fit": null,
      "object_position": null,
      "order": null,
      "overflow": null,
      "overflow_x": null,
      "overflow_y": null,
      "padding": null,
      "right": null,
      "top": null,
      "visibility": null,
      "width": null
     }
    },
    "5bdda007e2924b14a6bec8c39bf02c2b": {
     "model_module": "@jupyter-widgets/controls",
     "model_module_version": "1.5.0",
     "model_name": "HBoxModel",
     "state": {
      "_dom_classes": [],
      "_model_module": "@jupyter-widgets/controls",
      "_model_module_version": "1.5.0",
      "_model_name": "HBoxModel",
      "_view_count": null,
      "_view_module": "@jupyter-widgets/controls",
      "_view_module_version": "1.5.0",
      "_view_name": "HBoxView",
      "box_style": "",
      "children": [
       "IPY_MODEL_52195add7ceb45748d2f994617b68fe6",
       "IPY_MODEL_8c0918ea0ac84c2b996b0a1343ae3ff6",
       "IPY_MODEL_2348137c35ad49e8b7535d93c1007853"
      ],
      "layout": "IPY_MODEL_0a738d9898014c408dfe6803a7cc6dfe"
     }
    },
    "5be96be0bcd8461d98894c7028bcc310": {
     "model_module": "@jupyter-widgets/controls",
     "model_module_version": "1.5.0",
     "model_name": "HTMLModel",
     "state": {
      "_dom_classes": [],
      "_model_module": "@jupyter-widgets/controls",
      "_model_module_version": "1.5.0",
      "_model_name": "HTMLModel",
      "_view_count": null,
      "_view_module": "@jupyter-widgets/controls",
      "_view_module_version": "1.5.0",
      "_view_name": "HTMLView",
      "description": "",
      "description_tooltip": null,
      "layout": "IPY_MODEL_54573c75891740afa5e47024d53ac2dd",
      "placeholder": "​",
      "style": "IPY_MODEL_8ff32a5701a74a33a4339c3cdbe29c74",
      "value": " 50/50 (100.0%) | ⏳ 02:27&lt;00:00 |  1.18it/s"
     }
    },
    "5c69bc4bf90d4bfb98283a1368e10774": {
     "model_module": "@jupyter-widgets/base",
     "model_module_version": "1.2.0",
     "model_name": "LayoutModel",
     "state": {
      "_model_module": "@jupyter-widgets/base",
      "_model_module_version": "1.2.0",
      "_model_name": "LayoutModel",
      "_view_count": null,
      "_view_module": "@jupyter-widgets/base",
      "_view_module_version": "1.2.0",
      "_view_name": "LayoutView",
      "align_content": null,
      "align_items": null,
      "align_self": null,
      "border": null,
      "bottom": null,
      "display": null,
      "flex": null,
      "flex_flow": null,
      "grid_area": null,
      "grid_auto_columns": null,
      "grid_auto_flow": null,
      "grid_auto_rows": null,
      "grid_column": null,
      "grid_gap": null,
      "grid_row": null,
      "grid_template_areas": null,
      "grid_template_columns": null,
      "grid_template_rows": null,
      "height": null,
      "justify_content": null,
      "justify_items": null,
      "left": null,
      "margin": null,
      "max_height": null,
      "max_width": null,
      "min_height": null,
      "min_width": null,
      "object_fit": null,
      "object_position": null,
      "order": null,
      "overflow": null,
      "overflow_x": null,
      "overflow_y": null,
      "padding": null,
      "right": null,
      "top": null,
      "visibility": null,
      "width": null
     }
    },
    "5ca8fe7b3aeb46bfb3f5ea8ca7742723": {
     "model_module": "@jupyter-widgets/controls",
     "model_module_version": "1.5.0",
     "model_name": "FloatProgressModel",
     "state": {
      "_dom_classes": [],
      "_model_module": "@jupyter-widgets/controls",
      "_model_module_version": "1.5.0",
      "_model_name": "FloatProgressModel",
      "_view_count": null,
      "_view_module": "@jupyter-widgets/controls",
      "_view_module_version": "1.5.0",
      "_view_name": "ProgressView",
      "bar_style": "success",
      "description": "",
      "description_tooltip": null,
      "layout": "IPY_MODEL_90e49e0c940b4713a93c35b1a903fe4f",
      "max": 50,
      "min": 0,
      "orientation": "horizontal",
      "style": "IPY_MODEL_84a02fc132224e2a83144ffba67c17d6",
      "value": 50
     }
    },
    "5caf184743c04502ab8eac7a6f48b6f9": {
     "model_module": "@jupyter-widgets/controls",
     "model_module_version": "1.5.0",
     "model_name": "HTMLModel",
     "state": {
      "_dom_classes": [],
      "_model_module": "@jupyter-widgets/controls",
      "_model_module_version": "1.5.0",
      "_model_name": "HTMLModel",
      "_view_count": null,
      "_view_module": "@jupyter-widgets/controls",
      "_view_module_version": "1.5.0",
      "_view_name": "HTMLView",
      "description": "",
      "description_tooltip": null,
      "layout": "IPY_MODEL_b6b44ed0d32342f2adcefa4f9858e9d1",
      "placeholder": "​",
      "style": "IPY_MODEL_7c583721acb642afa53bbd2303f3ab29",
      "value": " 50/50 (100.0%) | ⏳ 02:41&lt;00:00 |  2.87it/s"
     }
    },
    "5e61d89e7c94440bb357e7e20261af41": {
     "model_module": "@jupyter-widgets/controls",
     "model_module_version": "1.5.0",
     "model_name": "DescriptionStyleModel",
     "state": {
      "_model_module": "@jupyter-widgets/controls",
      "_model_module_version": "1.5.0",
      "_model_name": "DescriptionStyleModel",
      "_view_count": null,
      "_view_module": "@jupyter-widgets/base",
      "_view_module_version": "1.2.0",
      "_view_name": "StyleView",
      "description_width": ""
     }
    },
    "5e96433379964b2080a05627090f2d84": {
     "model_module": "@jupyter-widgets/base",
     "model_module_version": "1.2.0",
     "model_name": "LayoutModel",
     "state": {
      "_model_module": "@jupyter-widgets/base",
      "_model_module_version": "1.2.0",
      "_model_name": "LayoutModel",
      "_view_count": null,
      "_view_module": "@jupyter-widgets/base",
      "_view_module_version": "1.2.0",
      "_view_name": "LayoutView",
      "align_content": null,
      "align_items": null,
      "align_self": null,
      "border": null,
      "bottom": null,
      "display": null,
      "flex": null,
      "flex_flow": null,
      "grid_area": null,
      "grid_auto_columns": null,
      "grid_auto_flow": null,
      "grid_auto_rows": null,
      "grid_column": null,
      "grid_gap": null,
      "grid_row": null,
      "grid_template_areas": null,
      "grid_template_columns": null,
      "grid_template_rows": null,
      "height": null,
      "justify_content": null,
      "justify_items": null,
      "left": null,
      "margin": null,
      "max_height": null,
      "max_width": null,
      "min_height": null,
      "min_width": null,
      "object_fit": null,
      "object_position": null,
      "order": null,
      "overflow": null,
      "overflow_x": null,
      "overflow_y": null,
      "padding": null,
      "right": null,
      "top": null,
      "visibility": null,
      "width": null
     }
    },
    "5f52ca57a62e4aa485740e36552fe629": {
     "model_module": "@jupyter-widgets/controls",
     "model_module_version": "1.5.0",
     "model_name": "DescriptionStyleModel",
     "state": {
      "_model_module": "@jupyter-widgets/controls",
      "_model_module_version": "1.5.0",
      "_model_name": "DescriptionStyleModel",
      "_view_count": null,
      "_view_module": "@jupyter-widgets/base",
      "_view_module_version": "1.2.0",
      "_view_name": "StyleView",
      "description_width": ""
     }
    },
    "608f098ddfea483ab63a28e708ec182e": {
     "model_module": "@jupyter-widgets/controls",
     "model_module_version": "1.5.0",
     "model_name": "DescriptionStyleModel",
     "state": {
      "_model_module": "@jupyter-widgets/controls",
      "_model_module_version": "1.5.0",
      "_model_name": "DescriptionStyleModel",
      "_view_count": null,
      "_view_module": "@jupyter-widgets/base",
      "_view_module_version": "1.2.0",
      "_view_name": "StyleView",
      "description_width": ""
     }
    },
    "60a9f2dc59b14b25b5190b6b50584da4": {
     "model_module": "@jupyter-widgets/base",
     "model_module_version": "1.2.0",
     "model_name": "LayoutModel",
     "state": {
      "_model_module": "@jupyter-widgets/base",
      "_model_module_version": "1.2.0",
      "_model_name": "LayoutModel",
      "_view_count": null,
      "_view_module": "@jupyter-widgets/base",
      "_view_module_version": "1.2.0",
      "_view_name": "LayoutView",
      "align_content": null,
      "align_items": null,
      "align_self": null,
      "border": null,
      "bottom": null,
      "display": null,
      "flex": null,
      "flex_flow": null,
      "grid_area": null,
      "grid_auto_columns": null,
      "grid_auto_flow": null,
      "grid_auto_rows": null,
      "grid_column": null,
      "grid_gap": null,
      "grid_row": null,
      "grid_template_areas": null,
      "grid_template_columns": null,
      "grid_template_rows": null,
      "height": null,
      "justify_content": null,
      "justify_items": null,
      "left": null,
      "margin": null,
      "max_height": null,
      "max_width": null,
      "min_height": null,
      "min_width": null,
      "object_fit": null,
      "object_position": null,
      "order": null,
      "overflow": null,
      "overflow_x": null,
      "overflow_y": null,
      "padding": null,
      "right": null,
      "top": null,
      "visibility": null,
      "width": null
     }
    },
    "62738f1c6b4249e1ba4452e71515bbcb": {
     "model_module": "@jupyter-widgets/controls",
     "model_module_version": "1.5.0",
     "model_name": "HTMLModel",
     "state": {
      "_dom_classes": [],
      "_model_module": "@jupyter-widgets/controls",
      "_model_module_version": "1.5.0",
      "_model_name": "HTMLModel",
      "_view_count": null,
      "_view_module": "@jupyter-widgets/controls",
      "_view_module_version": "1.5.0",
      "_view_name": "HTMLView",
      "description": "",
      "description_tooltip": null,
      "layout": "IPY_MODEL_5c69bc4bf90d4bfb98283a1368e10774",
      "placeholder": "​",
      "style": "IPY_MODEL_24ee29af602c4b04bf43326a1ab3f96a",
      "value": "llm_classify "
     }
    },
    "6747c065bdd34a08aebc7cab22959f70": {
     "model_module": "@jupyter-widgets/controls",
     "model_module_version": "1.5.0",
     "model_name": "DescriptionStyleModel",
     "state": {
      "_model_module": "@jupyter-widgets/controls",
      "_model_module_version": "1.5.0",
      "_model_name": "DescriptionStyleModel",
      "_view_count": null,
      "_view_module": "@jupyter-widgets/base",
      "_view_module_version": "1.2.0",
      "_view_name": "StyleView",
      "description_width": ""
     }
    },
    "6790b8f459f54f2b8285f6ac48ead522": {
     "model_module": "@jupyter-widgets/base",
     "model_module_version": "1.2.0",
     "model_name": "LayoutModel",
     "state": {
      "_model_module": "@jupyter-widgets/base",
      "_model_module_version": "1.2.0",
      "_model_name": "LayoutModel",
      "_view_count": null,
      "_view_module": "@jupyter-widgets/base",
      "_view_module_version": "1.2.0",
      "_view_name": "LayoutView",
      "align_content": null,
      "align_items": null,
      "align_self": null,
      "border": null,
      "bottom": null,
      "display": null,
      "flex": null,
      "flex_flow": null,
      "grid_area": null,
      "grid_auto_columns": null,
      "grid_auto_flow": null,
      "grid_auto_rows": null,
      "grid_column": null,
      "grid_gap": null,
      "grid_row": null,
      "grid_template_areas": null,
      "grid_template_columns": null,
      "grid_template_rows": null,
      "height": null,
      "justify_content": null,
      "justify_items": null,
      "left": null,
      "margin": null,
      "max_height": null,
      "max_width": null,
      "min_height": null,
      "min_width": null,
      "object_fit": null,
      "object_position": null,
      "order": null,
      "overflow": null,
      "overflow_x": null,
      "overflow_y": null,
      "padding": null,
      "right": null,
      "top": null,
      "visibility": null,
      "width": null
     }
    },
    "68ef74088ec24f33ac68f251adfffcb3": {
     "model_module": "@jupyter-widgets/base",
     "model_module_version": "1.2.0",
     "model_name": "LayoutModel",
     "state": {
      "_model_module": "@jupyter-widgets/base",
      "_model_module_version": "1.2.0",
      "_model_name": "LayoutModel",
      "_view_count": null,
      "_view_module": "@jupyter-widgets/base",
      "_view_module_version": "1.2.0",
      "_view_name": "LayoutView",
      "align_content": null,
      "align_items": null,
      "align_self": null,
      "border": null,
      "bottom": null,
      "display": null,
      "flex": null,
      "flex_flow": null,
      "grid_area": null,
      "grid_auto_columns": null,
      "grid_auto_flow": null,
      "grid_auto_rows": null,
      "grid_column": null,
      "grid_gap": null,
      "grid_row": null,
      "grid_template_areas": null,
      "grid_template_columns": null,
      "grid_template_rows": null,
      "height": null,
      "justify_content": null,
      "justify_items": null,
      "left": null,
      "margin": null,
      "max_height": null,
      "max_width": null,
      "min_height": null,
      "min_width": null,
      "object_fit": null,
      "object_position": null,
      "order": null,
      "overflow": null,
      "overflow_x": null,
      "overflow_y": null,
      "padding": null,
      "right": null,
      "top": null,
      "visibility": null,
      "width": null
     }
    },
    "6a35e07e02c244b8a2fa0528646aeb22": {
     "model_module": "@jupyter-widgets/controls",
     "model_module_version": "1.5.0",
     "model_name": "DescriptionStyleModel",
     "state": {
      "_model_module": "@jupyter-widgets/controls",
      "_model_module_version": "1.5.0",
      "_model_name": "DescriptionStyleModel",
      "_view_count": null,
      "_view_module": "@jupyter-widgets/base",
      "_view_module_version": "1.2.0",
      "_view_name": "StyleView",
      "description_width": ""
     }
    },
    "6d02466f3b4e4099842ca0782b8383c2": {
     "model_module": "@jupyter-widgets/base",
     "model_module_version": "1.2.0",
     "model_name": "LayoutModel",
     "state": {
      "_model_module": "@jupyter-widgets/base",
      "_model_module_version": "1.2.0",
      "_model_name": "LayoutModel",
      "_view_count": null,
      "_view_module": "@jupyter-widgets/base",
      "_view_module_version": "1.2.0",
      "_view_name": "LayoutView",
      "align_content": null,
      "align_items": null,
      "align_self": null,
      "border": null,
      "bottom": null,
      "display": null,
      "flex": null,
      "flex_flow": null,
      "grid_area": null,
      "grid_auto_columns": null,
      "grid_auto_flow": null,
      "grid_auto_rows": null,
      "grid_column": null,
      "grid_gap": null,
      "grid_row": null,
      "grid_template_areas": null,
      "grid_template_columns": null,
      "grid_template_rows": null,
      "height": null,
      "justify_content": null,
      "justify_items": null,
      "left": null,
      "margin": null,
      "max_height": null,
      "max_width": null,
      "min_height": null,
      "min_width": null,
      "object_fit": null,
      "object_position": null,
      "order": null,
      "overflow": null,
      "overflow_x": null,
      "overflow_y": null,
      "padding": null,
      "right": null,
      "top": null,
      "visibility": null,
      "width": null
     }
    },
    "6dd47116d86248e780fdf3170d02b3f4": {
     "model_module": "@jupyter-widgets/controls",
     "model_module_version": "1.5.0",
     "model_name": "FloatProgressModel",
     "state": {
      "_dom_classes": [],
      "_model_module": "@jupyter-widgets/controls",
      "_model_module_version": "1.5.0",
      "_model_name": "FloatProgressModel",
      "_view_count": null,
      "_view_module": "@jupyter-widgets/controls",
      "_view_module_version": "1.5.0",
      "_view_name": "ProgressView",
      "bar_style": "success",
      "description": "",
      "description_tooltip": null,
      "layout": "IPY_MODEL_2981e398daf144169239349a543f6e24",
      "max": 50,
      "min": 0,
      "orientation": "horizontal",
      "style": "IPY_MODEL_1992b0a8a2c64d3eac6e669aaa91d9eb",
      "value": 50
     }
    },
    "6fa9c98c50ed4ebaafd489ab1631101f": {
     "model_module": "@jupyter-widgets/base",
     "model_module_version": "1.2.0",
     "model_name": "LayoutModel",
     "state": {
      "_model_module": "@jupyter-widgets/base",
      "_model_module_version": "1.2.0",
      "_model_name": "LayoutModel",
      "_view_count": null,
      "_view_module": "@jupyter-widgets/base",
      "_view_module_version": "1.2.0",
      "_view_name": "LayoutView",
      "align_content": null,
      "align_items": null,
      "align_self": null,
      "border": null,
      "bottom": null,
      "display": null,
      "flex": null,
      "flex_flow": null,
      "grid_area": null,
      "grid_auto_columns": null,
      "grid_auto_flow": null,
      "grid_auto_rows": null,
      "grid_column": null,
      "grid_gap": null,
      "grid_row": null,
      "grid_template_areas": null,
      "grid_template_columns": null,
      "grid_template_rows": null,
      "height": null,
      "justify_content": null,
      "justify_items": null,
      "left": null,
      "margin": null,
      "max_height": null,
      "max_width": null,
      "min_height": null,
      "min_width": null,
      "object_fit": null,
      "object_position": null,
      "order": null,
      "overflow": null,
      "overflow_x": null,
      "overflow_y": null,
      "padding": null,
      "right": null,
      "top": null,
      "visibility": null,
      "width": null
     }
    },
    "7056ba83e3794c6ab18b2ed306db24ed": {
     "model_module": "@jupyter-widgets/base",
     "model_module_version": "1.2.0",
     "model_name": "LayoutModel",
     "state": {
      "_model_module": "@jupyter-widgets/base",
      "_model_module_version": "1.2.0",
      "_model_name": "LayoutModel",
      "_view_count": null,
      "_view_module": "@jupyter-widgets/base",
      "_view_module_version": "1.2.0",
      "_view_name": "LayoutView",
      "align_content": null,
      "align_items": null,
      "align_self": null,
      "border": null,
      "bottom": null,
      "display": null,
      "flex": null,
      "flex_flow": null,
      "grid_area": null,
      "grid_auto_columns": null,
      "grid_auto_flow": null,
      "grid_auto_rows": null,
      "grid_column": null,
      "grid_gap": null,
      "grid_row": null,
      "grid_template_areas": null,
      "grid_template_columns": null,
      "grid_template_rows": null,
      "height": null,
      "justify_content": null,
      "justify_items": null,
      "left": null,
      "margin": null,
      "max_height": null,
      "max_width": null,
      "min_height": null,
      "min_width": null,
      "object_fit": null,
      "object_position": null,
      "order": null,
      "overflow": null,
      "overflow_x": null,
      "overflow_y": null,
      "padding": null,
      "right": null,
      "top": null,
      "visibility": null,
      "width": null
     }
    },
    "7216f2504ffc4603a424e2535668202a": {
     "model_module": "@jupyter-widgets/controls",
     "model_module_version": "1.5.0",
     "model_name": "FloatProgressModel",
     "state": {
      "_dom_classes": [],
      "_model_module": "@jupyter-widgets/controls",
      "_model_module_version": "1.5.0",
      "_model_name": "FloatProgressModel",
      "_view_count": null,
      "_view_module": "@jupyter-widgets/controls",
      "_view_module_version": "1.5.0",
      "_view_name": "ProgressView",
      "bar_style": "success",
      "description": "",
      "description_tooltip": null,
      "layout": "IPY_MODEL_6d02466f3b4e4099842ca0782b8383c2",
      "max": 50,
      "min": 0,
      "orientation": "horizontal",
      "style": "IPY_MODEL_8e58148a45c3439eae961312fe944b4e",
      "value": 50
     }
    },
    "735b3c3f99ec4df5bb5b6c49a23e2628": {
     "model_module": "@jupyter-widgets/controls",
     "model_module_version": "1.5.0",
     "model_name": "DescriptionStyleModel",
     "state": {
      "_model_module": "@jupyter-widgets/controls",
      "_model_module_version": "1.5.0",
      "_model_name": "DescriptionStyleModel",
      "_view_count": null,
      "_view_module": "@jupyter-widgets/base",
      "_view_module_version": "1.2.0",
      "_view_name": "StyleView",
      "description_width": ""
     }
    },
    "73f61a1dbd374c3ebb91bad4553b6bfc": {
     "model_module": "@jupyter-widgets/controls",
     "model_module_version": "1.5.0",
     "model_name": "DescriptionStyleModel",
     "state": {
      "_model_module": "@jupyter-widgets/controls",
      "_model_module_version": "1.5.0",
      "_model_name": "DescriptionStyleModel",
      "_view_count": null,
      "_view_module": "@jupyter-widgets/base",
      "_view_module_version": "1.2.0",
      "_view_name": "StyleView",
      "description_width": ""
     }
    },
    "74f5302831964329801706679024121a": {
     "model_module": "@jupyter-widgets/controls",
     "model_module_version": "1.5.0",
     "model_name": "HTMLModel",
     "state": {
      "_dom_classes": [],
      "_model_module": "@jupyter-widgets/controls",
      "_model_module_version": "1.5.0",
      "_model_name": "HTMLModel",
      "_view_count": null,
      "_view_module": "@jupyter-widgets/controls",
      "_view_module_version": "1.5.0",
      "_view_name": "HTMLView",
      "description": "",
      "description_tooltip": null,
      "layout": "IPY_MODEL_abba9e1a7ad34e239636d287c9230c90",
      "placeholder": "​",
      "style": "IPY_MODEL_5f52ca57a62e4aa485740e36552fe629",
      "value": " 50/50 (100.0%) | ⏳ 00:12&lt;00:00 |  5.51it/s"
     }
    },
    "766fe7418a3f4e32b290272a40010ec1": {
     "model_module": "@jupyter-widgets/base",
     "model_module_version": "1.2.0",
     "model_name": "LayoutModel",
     "state": {
      "_model_module": "@jupyter-widgets/base",
      "_model_module_version": "1.2.0",
      "_model_name": "LayoutModel",
      "_view_count": null,
      "_view_module": "@jupyter-widgets/base",
      "_view_module_version": "1.2.0",
      "_view_name": "LayoutView",
      "align_content": null,
      "align_items": null,
      "align_self": null,
      "border": null,
      "bottom": null,
      "display": null,
      "flex": null,
      "flex_flow": null,
      "grid_area": null,
      "grid_auto_columns": null,
      "grid_auto_flow": null,
      "grid_auto_rows": null,
      "grid_column": null,
      "grid_gap": null,
      "grid_row": null,
      "grid_template_areas": null,
      "grid_template_columns": null,
      "grid_template_rows": null,
      "height": null,
      "justify_content": null,
      "justify_items": null,
      "left": null,
      "margin": null,
      "max_height": null,
      "max_width": null,
      "min_height": null,
      "min_width": null,
      "object_fit": null,
      "object_position": null,
      "order": null,
      "overflow": null,
      "overflow_x": null,
      "overflow_y": null,
      "padding": null,
      "right": null,
      "top": null,
      "visibility": null,
      "width": null
     }
    },
    "7931a0650e20408189d5bbdc369e4bd7": {
     "model_module": "@jupyter-widgets/base",
     "model_module_version": "1.2.0",
     "model_name": "LayoutModel",
     "state": {
      "_model_module": "@jupyter-widgets/base",
      "_model_module_version": "1.2.0",
      "_model_name": "LayoutModel",
      "_view_count": null,
      "_view_module": "@jupyter-widgets/base",
      "_view_module_version": "1.2.0",
      "_view_name": "LayoutView",
      "align_content": null,
      "align_items": null,
      "align_self": null,
      "border": null,
      "bottom": null,
      "display": null,
      "flex": null,
      "flex_flow": null,
      "grid_area": null,
      "grid_auto_columns": null,
      "grid_auto_flow": null,
      "grid_auto_rows": null,
      "grid_column": null,
      "grid_gap": null,
      "grid_row": null,
      "grid_template_areas": null,
      "grid_template_columns": null,
      "grid_template_rows": null,
      "height": null,
      "justify_content": null,
      "justify_items": null,
      "left": null,
      "margin": null,
      "max_height": null,
      "max_width": null,
      "min_height": null,
      "min_width": null,
      "object_fit": null,
      "object_position": null,
      "order": null,
      "overflow": null,
      "overflow_x": null,
      "overflow_y": null,
      "padding": null,
      "right": null,
      "top": null,
      "visibility": null,
      "width": null
     }
    },
    "79c8a051c477446f8d7d331ca5acc838": {
     "model_module": "@jupyter-widgets/controls",
     "model_module_version": "1.5.0",
     "model_name": "HTMLModel",
     "state": {
      "_dom_classes": [],
      "_model_module": "@jupyter-widgets/controls",
      "_model_module_version": "1.5.0",
      "_model_name": "HTMLModel",
      "_view_count": null,
      "_view_module": "@jupyter-widgets/controls",
      "_view_module_version": "1.5.0",
      "_view_name": "HTMLView",
      "description": "",
      "description_tooltip": null,
      "layout": "IPY_MODEL_766fe7418a3f4e32b290272a40010ec1",
      "placeholder": "​",
      "style": "IPY_MODEL_90ee4912d1584d439f0e5ae1775b2d1e",
      "value": " 50/50 (100.0%) | ⏳ 01:49&lt;00:00 |  1.58it/s"
     }
    },
    "7aafbc8af83f4292adb446ec8b73b46c": {
     "model_module": "@jupyter-widgets/base",
     "model_module_version": "1.2.0",
     "model_name": "LayoutModel",
     "state": {
      "_model_module": "@jupyter-widgets/base",
      "_model_module_version": "1.2.0",
      "_model_name": "LayoutModel",
      "_view_count": null,
      "_view_module": "@jupyter-widgets/base",
      "_view_module_version": "1.2.0",
      "_view_name": "LayoutView",
      "align_content": null,
      "align_items": null,
      "align_self": null,
      "border": null,
      "bottom": null,
      "display": null,
      "flex": null,
      "flex_flow": null,
      "grid_area": null,
      "grid_auto_columns": null,
      "grid_auto_flow": null,
      "grid_auto_rows": null,
      "grid_column": null,
      "grid_gap": null,
      "grid_row": null,
      "grid_template_areas": null,
      "grid_template_columns": null,
      "grid_template_rows": null,
      "height": null,
      "justify_content": null,
      "justify_items": null,
      "left": null,
      "margin": null,
      "max_height": null,
      "max_width": null,
      "min_height": null,
      "min_width": null,
      "object_fit": null,
      "object_position": null,
      "order": null,
      "overflow": null,
      "overflow_x": null,
      "overflow_y": null,
      "padding": null,
      "right": null,
      "top": null,
      "visibility": null,
      "width": null
     }
    },
    "7c583721acb642afa53bbd2303f3ab29": {
     "model_module": "@jupyter-widgets/controls",
     "model_module_version": "1.5.0",
     "model_name": "DescriptionStyleModel",
     "state": {
      "_model_module": "@jupyter-widgets/controls",
      "_model_module_version": "1.5.0",
      "_model_name": "DescriptionStyleModel",
      "_view_count": null,
      "_view_module": "@jupyter-widgets/base",
      "_view_module_version": "1.2.0",
      "_view_name": "StyleView",
      "description_width": ""
     }
    },
    "84a02fc132224e2a83144ffba67c17d6": {
     "model_module": "@jupyter-widgets/controls",
     "model_module_version": "1.5.0",
     "model_name": "ProgressStyleModel",
     "state": {
      "_model_module": "@jupyter-widgets/controls",
      "_model_module_version": "1.5.0",
      "_model_name": "ProgressStyleModel",
      "_view_count": null,
      "_view_module": "@jupyter-widgets/base",
      "_view_module_version": "1.2.0",
      "_view_name": "StyleView",
      "bar_color": null,
      "description_width": ""
     }
    },
    "8710b0ff53c94668b3bab0dbff47effe": {
     "model_module": "@jupyter-widgets/base",
     "model_module_version": "1.2.0",
     "model_name": "LayoutModel",
     "state": {
      "_model_module": "@jupyter-widgets/base",
      "_model_module_version": "1.2.0",
      "_model_name": "LayoutModel",
      "_view_count": null,
      "_view_module": "@jupyter-widgets/base",
      "_view_module_version": "1.2.0",
      "_view_name": "LayoutView",
      "align_content": null,
      "align_items": null,
      "align_self": null,
      "border": null,
      "bottom": null,
      "display": null,
      "flex": null,
      "flex_flow": null,
      "grid_area": null,
      "grid_auto_columns": null,
      "grid_auto_flow": null,
      "grid_auto_rows": null,
      "grid_column": null,
      "grid_gap": null,
      "grid_row": null,
      "grid_template_areas": null,
      "grid_template_columns": null,
      "grid_template_rows": null,
      "height": null,
      "justify_content": null,
      "justify_items": null,
      "left": null,
      "margin": null,
      "max_height": null,
      "max_width": null,
      "min_height": null,
      "min_width": null,
      "object_fit": null,
      "object_position": null,
      "order": null,
      "overflow": null,
      "overflow_x": null,
      "overflow_y": null,
      "padding": null,
      "right": null,
      "top": null,
      "visibility": null,
      "width": null
     }
    },
    "89ed7ef9ebdc41de8fa40b9388ff523f": {
     "model_module": "@jupyter-widgets/controls",
     "model_module_version": "1.5.0",
     "model_name": "DescriptionStyleModel",
     "state": {
      "_model_module": "@jupyter-widgets/controls",
      "_model_module_version": "1.5.0",
      "_model_name": "DescriptionStyleModel",
      "_view_count": null,
      "_view_module": "@jupyter-widgets/base",
      "_view_module_version": "1.2.0",
      "_view_name": "StyleView",
      "description_width": ""
     }
    },
    "8b760544250a496785ba42695b148942": {
     "model_module": "@jupyter-widgets/base",
     "model_module_version": "1.2.0",
     "model_name": "LayoutModel",
     "state": {
      "_model_module": "@jupyter-widgets/base",
      "_model_module_version": "1.2.0",
      "_model_name": "LayoutModel",
      "_view_count": null,
      "_view_module": "@jupyter-widgets/base",
      "_view_module_version": "1.2.0",
      "_view_name": "LayoutView",
      "align_content": null,
      "align_items": null,
      "align_self": null,
      "border": null,
      "bottom": null,
      "display": null,
      "flex": null,
      "flex_flow": null,
      "grid_area": null,
      "grid_auto_columns": null,
      "grid_auto_flow": null,
      "grid_auto_rows": null,
      "grid_column": null,
      "grid_gap": null,
      "grid_row": null,
      "grid_template_areas": null,
      "grid_template_columns": null,
      "grid_template_rows": null,
      "height": null,
      "justify_content": null,
      "justify_items": null,
      "left": null,
      "margin": null,
      "max_height": null,
      "max_width": null,
      "min_height": null,
      "min_width": null,
      "object_fit": null,
      "object_position": null,
      "order": null,
      "overflow": null,
      "overflow_x": null,
      "overflow_y": null,
      "padding": null,
      "right": null,
      "top": null,
      "visibility": null,
      "width": null
     }
    },
    "8c0918ea0ac84c2b996b0a1343ae3ff6": {
     "model_module": "@jupyter-widgets/controls",
     "model_module_version": "1.5.0",
     "model_name": "FloatProgressModel",
     "state": {
      "_dom_classes": [],
      "_model_module": "@jupyter-widgets/controls",
      "_model_module_version": "1.5.0",
      "_model_name": "FloatProgressModel",
      "_view_count": null,
      "_view_module": "@jupyter-widgets/controls",
      "_view_module_version": "1.5.0",
      "_view_name": "ProgressView",
      "bar_style": "",
      "description": "",
      "description_tooltip": null,
      "layout": "IPY_MODEL_497cbb779d9941b9a11cc202c45aa9ce",
      "max": 50,
      "min": 0,
      "orientation": "horizontal",
      "style": "IPY_MODEL_2ffa08d58bf8402ca7f858a1632e89ec",
      "value": 50
     }
    },
    "8e1698123a3d4cd1ba983443f95e3fce": {
     "model_module": "@jupyter-widgets/controls",
     "model_module_version": "1.5.0",
     "model_name": "FloatProgressModel",
     "state": {
      "_dom_classes": [],
      "_model_module": "@jupyter-widgets/controls",
      "_model_module_version": "1.5.0",
      "_model_name": "FloatProgressModel",
      "_view_count": null,
      "_view_module": "@jupyter-widgets/controls",
      "_view_module_version": "1.5.0",
      "_view_name": "ProgressView",
      "bar_style": "success",
      "description": "",
      "description_tooltip": null,
      "layout": "IPY_MODEL_26a7786f10fc48f9b840422eab1cd085",
      "max": 50,
      "min": 0,
      "orientation": "horizontal",
      "style": "IPY_MODEL_cbfba3e516a2423b9c0a9aab99a20b7c",
      "value": 50
     }
    },
    "8e58148a45c3439eae961312fe944b4e": {
     "model_module": "@jupyter-widgets/controls",
     "model_module_version": "1.5.0",
     "model_name": "ProgressStyleModel",
     "state": {
      "_model_module": "@jupyter-widgets/controls",
      "_model_module_version": "1.5.0",
      "_model_name": "ProgressStyleModel",
      "_view_count": null,
      "_view_module": "@jupyter-widgets/base",
      "_view_module_version": "1.2.0",
      "_view_name": "StyleView",
      "bar_color": null,
      "description_width": ""
     }
    },
    "8ff32a5701a74a33a4339c3cdbe29c74": {
     "model_module": "@jupyter-widgets/controls",
     "model_module_version": "1.5.0",
     "model_name": "DescriptionStyleModel",
     "state": {
      "_model_module": "@jupyter-widgets/controls",
      "_model_module_version": "1.5.0",
      "_model_name": "DescriptionStyleModel",
      "_view_count": null,
      "_view_module": "@jupyter-widgets/base",
      "_view_module_version": "1.2.0",
      "_view_name": "StyleView",
      "description_width": ""
     }
    },
    "90e49e0c940b4713a93c35b1a903fe4f": {
     "model_module": "@jupyter-widgets/base",
     "model_module_version": "1.2.0",
     "model_name": "LayoutModel",
     "state": {
      "_model_module": "@jupyter-widgets/base",
      "_model_module_version": "1.2.0",
      "_model_name": "LayoutModel",
      "_view_count": null,
      "_view_module": "@jupyter-widgets/base",
      "_view_module_version": "1.2.0",
      "_view_name": "LayoutView",
      "align_content": null,
      "align_items": null,
      "align_self": null,
      "border": null,
      "bottom": null,
      "display": null,
      "flex": null,
      "flex_flow": null,
      "grid_area": null,
      "grid_auto_columns": null,
      "grid_auto_flow": null,
      "grid_auto_rows": null,
      "grid_column": null,
      "grid_gap": null,
      "grid_row": null,
      "grid_template_areas": null,
      "grid_template_columns": null,
      "grid_template_rows": null,
      "height": null,
      "justify_content": null,
      "justify_items": null,
      "left": null,
      "margin": null,
      "max_height": null,
      "max_width": null,
      "min_height": null,
      "min_width": null,
      "object_fit": null,
      "object_position": null,
      "order": null,
      "overflow": null,
      "overflow_x": null,
      "overflow_y": null,
      "padding": null,
      "right": null,
      "top": null,
      "visibility": null,
      "width": null
     }
    },
    "90ee4912d1584d439f0e5ae1775b2d1e": {
     "model_module": "@jupyter-widgets/controls",
     "model_module_version": "1.5.0",
     "model_name": "DescriptionStyleModel",
     "state": {
      "_model_module": "@jupyter-widgets/controls",
      "_model_module_version": "1.5.0",
      "_model_name": "DescriptionStyleModel",
      "_view_count": null,
      "_view_module": "@jupyter-widgets/base",
      "_view_module_version": "1.2.0",
      "_view_name": "StyleView",
      "description_width": ""
     }
    },
    "91f74b2a275b43378f18832140807add": {
     "model_module": "@jupyter-widgets/controls",
     "model_module_version": "1.5.0",
     "model_name": "FloatProgressModel",
     "state": {
      "_dom_classes": [],
      "_model_module": "@jupyter-widgets/controls",
      "_model_module_version": "1.5.0",
      "_model_name": "FloatProgressModel",
      "_view_count": null,
      "_view_module": "@jupyter-widgets/controls",
      "_view_module_version": "1.5.0",
      "_view_name": "ProgressView",
      "bar_style": "success",
      "description": "",
      "description_tooltip": null,
      "layout": "IPY_MODEL_e4536434d07a4c74a479094d43f20d5c",
      "max": 50,
      "min": 0,
      "orientation": "horizontal",
      "style": "IPY_MODEL_a837f74f8a2945f199c3c1ccc006abec",
      "value": 50
     }
    },
    "925d0e1fb50d4b3297de6d9a89bb4a6a": {
     "model_module": "@jupyter-widgets/controls",
     "model_module_version": "1.5.0",
     "model_name": "FloatProgressModel",
     "state": {
      "_dom_classes": [],
      "_model_module": "@jupyter-widgets/controls",
      "_model_module_version": "1.5.0",
      "_model_name": "FloatProgressModel",
      "_view_count": null,
      "_view_module": "@jupyter-widgets/controls",
      "_view_module_version": "1.5.0",
      "_view_name": "ProgressView",
      "bar_style": "success",
      "description": "",
      "description_tooltip": null,
      "layout": "IPY_MODEL_3813e3fe73804a6583da436db03dc8a8",
      "max": 50,
      "min": 0,
      "orientation": "horizontal",
      "style": "IPY_MODEL_d7df50e3c85d429bb4c9d8ebfe0529d5",
      "value": 50
     }
    },
    "9348ea7b67b8455aa2fa81dd15fcd7f6": {
     "model_module": "@jupyter-widgets/controls",
     "model_module_version": "1.5.0",
     "model_name": "HBoxModel",
     "state": {
      "_dom_classes": [],
      "_model_module": "@jupyter-widgets/controls",
      "_model_module_version": "1.5.0",
      "_model_name": "HBoxModel",
      "_view_count": null,
      "_view_module": "@jupyter-widgets/controls",
      "_view_module_version": "1.5.0",
      "_view_name": "HBoxView",
      "box_style": "",
      "children": [
       "IPY_MODEL_59369ab214134f5ab5366fee1e289d84",
       "IPY_MODEL_925d0e1fb50d4b3297de6d9a89bb4a6a",
       "IPY_MODEL_23dc6f0abfe94b548adb494f4e8251af"
      ],
      "layout": "IPY_MODEL_8b760544250a496785ba42695b148942"
     }
    },
    "97fb9f884bff402cb29f91ad720d7643": {
     "model_module": "@jupyter-widgets/controls",
     "model_module_version": "1.5.0",
     "model_name": "HBoxModel",
     "state": {
      "_dom_classes": [],
      "_model_module": "@jupyter-widgets/controls",
      "_model_module_version": "1.5.0",
      "_model_name": "HBoxModel",
      "_view_count": null,
      "_view_module": "@jupyter-widgets/controls",
      "_view_module_version": "1.5.0",
      "_view_name": "HBoxView",
      "box_style": "",
      "children": [
       "IPY_MODEL_a6f5fad0018447d388b104dcd9182394",
       "IPY_MODEL_482cb8ffa07e4cff8cdd54b80908fc7e",
       "IPY_MODEL_136d9839851843fc8110409b6af5bddb"
      ],
      "layout": "IPY_MODEL_d485e71ea2d9445fbd48965118fd6ba4"
     }
    },
    "9d3a259f6ba74792beb5448039b62ad9": {
     "model_module": "@jupyter-widgets/controls",
     "model_module_version": "1.5.0",
     "model_name": "DescriptionStyleModel",
     "state": {
      "_model_module": "@jupyter-widgets/controls",
      "_model_module_version": "1.5.0",
      "_model_name": "DescriptionStyleModel",
      "_view_count": null,
      "_view_module": "@jupyter-widgets/base",
      "_view_module_version": "1.2.0",
      "_view_name": "StyleView",
      "description_width": ""
     }
    },
    "9e9b7ad6b26d4f258c656584a6687877": {
     "model_module": "@jupyter-widgets/base",
     "model_module_version": "1.2.0",
     "model_name": "LayoutModel",
     "state": {
      "_model_module": "@jupyter-widgets/base",
      "_model_module_version": "1.2.0",
      "_model_name": "LayoutModel",
      "_view_count": null,
      "_view_module": "@jupyter-widgets/base",
      "_view_module_version": "1.2.0",
      "_view_name": "LayoutView",
      "align_content": null,
      "align_items": null,
      "align_self": null,
      "border": null,
      "bottom": null,
      "display": null,
      "flex": null,
      "flex_flow": null,
      "grid_area": null,
      "grid_auto_columns": null,
      "grid_auto_flow": null,
      "grid_auto_rows": null,
      "grid_column": null,
      "grid_gap": null,
      "grid_row": null,
      "grid_template_areas": null,
      "grid_template_columns": null,
      "grid_template_rows": null,
      "height": null,
      "justify_content": null,
      "justify_items": null,
      "left": null,
      "margin": null,
      "max_height": null,
      "max_width": null,
      "min_height": null,
      "min_width": null,
      "object_fit": null,
      "object_position": null,
      "order": null,
      "overflow": null,
      "overflow_x": null,
      "overflow_y": null,
      "padding": null,
      "right": null,
      "top": null,
      "visibility": null,
      "width": null
     }
    },
    "a291959d1510476990768f5c571e8340": {
     "model_module": "@jupyter-widgets/controls",
     "model_module_version": "1.5.0",
     "model_name": "ProgressStyleModel",
     "state": {
      "_model_module": "@jupyter-widgets/controls",
      "_model_module_version": "1.5.0",
      "_model_name": "ProgressStyleModel",
      "_view_count": null,
      "_view_module": "@jupyter-widgets/base",
      "_view_module_version": "1.2.0",
      "_view_name": "StyleView",
      "bar_color": null,
      "description_width": ""
     }
    },
    "a66c4928ded34688958595d8ebc7b71c": {
     "model_module": "@jupyter-widgets/controls",
     "model_module_version": "1.5.0",
     "model_name": "HTMLModel",
     "state": {
      "_dom_classes": [],
      "_model_module": "@jupyter-widgets/controls",
      "_model_module_version": "1.5.0",
      "_model_name": "HTMLModel",
      "_view_count": null,
      "_view_module": "@jupyter-widgets/controls",
      "_view_module_version": "1.5.0",
      "_view_name": "HTMLView",
      "description": "",
      "description_tooltip": null,
      "layout": "IPY_MODEL_6790b8f459f54f2b8285f6ac48ead522",
      "placeholder": "​",
      "style": "IPY_MODEL_89ed7ef9ebdc41de8fa40b9388ff523f",
      "value": " 50/50 (100.0%) | ⏳ 03:04&lt;00:00 |  1.28s/it"
     }
    },
    "a6f5fad0018447d388b104dcd9182394": {
     "model_module": "@jupyter-widgets/controls",
     "model_module_version": "1.5.0",
     "model_name": "HTMLModel",
     "state": {
      "_dom_classes": [],
      "_model_module": "@jupyter-widgets/controls",
      "_model_module_version": "1.5.0",
      "_model_name": "HTMLModel",
      "_view_count": null,
      "_view_module": "@jupyter-widgets/controls",
      "_view_module_version": "1.5.0",
      "_view_name": "HTMLView",
      "description": "",
      "description_tooltip": null,
      "layout": "IPY_MODEL_2abea0d6b03e49a296c397e4fea374f7",
      "placeholder": "​",
      "style": "IPY_MODEL_04fd0067a56e4c1d9d0ddaaedf3e4e3f",
      "value": "llm_classify "
     }
    },
    "a837f74f8a2945f199c3c1ccc006abec": {
     "model_module": "@jupyter-widgets/controls",
     "model_module_version": "1.5.0",
     "model_name": "ProgressStyleModel",
     "state": {
      "_model_module": "@jupyter-widgets/controls",
      "_model_module_version": "1.5.0",
      "_model_name": "ProgressStyleModel",
      "_view_count": null,
      "_view_module": "@jupyter-widgets/base",
      "_view_module_version": "1.2.0",
      "_view_name": "StyleView",
      "bar_color": null,
      "description_width": ""
     }
    },
    "a98ac0543b5749899a275ea96703344f": {
     "model_module": "@jupyter-widgets/base",
     "model_module_version": "1.2.0",
     "model_name": "LayoutModel",
     "state": {
      "_model_module": "@jupyter-widgets/base",
      "_model_module_version": "1.2.0",
      "_model_name": "LayoutModel",
      "_view_count": null,
      "_view_module": "@jupyter-widgets/base",
      "_view_module_version": "1.2.0",
      "_view_name": "LayoutView",
      "align_content": null,
      "align_items": null,
      "align_self": null,
      "border": null,
      "bottom": null,
      "display": null,
      "flex": null,
      "flex_flow": null,
      "grid_area": null,
      "grid_auto_columns": null,
      "grid_auto_flow": null,
      "grid_auto_rows": null,
      "grid_column": null,
      "grid_gap": null,
      "grid_row": null,
      "grid_template_areas": null,
      "grid_template_columns": null,
      "grid_template_rows": null,
      "height": null,
      "justify_content": null,
      "justify_items": null,
      "left": null,
      "margin": null,
      "max_height": null,
      "max_width": null,
      "min_height": null,
      "min_width": null,
      "object_fit": null,
      "object_position": null,
      "order": null,
      "overflow": null,
      "overflow_x": null,
      "overflow_y": null,
      "padding": null,
      "right": null,
      "top": null,
      "visibility": null,
      "width": null
     }
    },
    "ab064aec631e4848b5c6015834147ead": {
     "model_module": "@jupyter-widgets/base",
     "model_module_version": "1.2.0",
     "model_name": "LayoutModel",
     "state": {
      "_model_module": "@jupyter-widgets/base",
      "_model_module_version": "1.2.0",
      "_model_name": "LayoutModel",
      "_view_count": null,
      "_view_module": "@jupyter-widgets/base",
      "_view_module_version": "1.2.0",
      "_view_name": "LayoutView",
      "align_content": null,
      "align_items": null,
      "align_self": null,
      "border": null,
      "bottom": null,
      "display": null,
      "flex": null,
      "flex_flow": null,
      "grid_area": null,
      "grid_auto_columns": null,
      "grid_auto_flow": null,
      "grid_auto_rows": null,
      "grid_column": null,
      "grid_gap": null,
      "grid_row": null,
      "grid_template_areas": null,
      "grid_template_columns": null,
      "grid_template_rows": null,
      "height": null,
      "justify_content": null,
      "justify_items": null,
      "left": null,
      "margin": null,
      "max_height": null,
      "max_width": null,
      "min_height": null,
      "min_width": null,
      "object_fit": null,
      "object_position": null,
      "order": null,
      "overflow": null,
      "overflow_x": null,
      "overflow_y": null,
      "padding": null,
      "right": null,
      "top": null,
      "visibility": null,
      "width": null
     }
    },
    "ab58e3a8307b477b8f1cef4e9324751a": {
     "model_module": "@jupyter-widgets/controls",
     "model_module_version": "1.5.0",
     "model_name": "HTMLModel",
     "state": {
      "_dom_classes": [],
      "_model_module": "@jupyter-widgets/controls",
      "_model_module_version": "1.5.0",
      "_model_name": "HTMLModel",
      "_view_count": null,
      "_view_module": "@jupyter-widgets/controls",
      "_view_module_version": "1.5.0",
      "_view_name": "HTMLView",
      "description": "",
      "description_tooltip": null,
      "layout": "IPY_MODEL_1218c036286949ebb6455fe16100101a",
      "placeholder": "​",
      "style": "IPY_MODEL_10339f7a7a79432e89486f5e820118d5",
      "value": "llm_classify "
     }
    },
    "abba9e1a7ad34e239636d287c9230c90": {
     "model_module": "@jupyter-widgets/base",
     "model_module_version": "1.2.0",
     "model_name": "LayoutModel",
     "state": {
      "_model_module": "@jupyter-widgets/base",
      "_model_module_version": "1.2.0",
      "_model_name": "LayoutModel",
      "_view_count": null,
      "_view_module": "@jupyter-widgets/base",
      "_view_module_version": "1.2.0",
      "_view_name": "LayoutView",
      "align_content": null,
      "align_items": null,
      "align_self": null,
      "border": null,
      "bottom": null,
      "display": null,
      "flex": null,
      "flex_flow": null,
      "grid_area": null,
      "grid_auto_columns": null,
      "grid_auto_flow": null,
      "grid_auto_rows": null,
      "grid_column": null,
      "grid_gap": null,
      "grid_row": null,
      "grid_template_areas": null,
      "grid_template_columns": null,
      "grid_template_rows": null,
      "height": null,
      "justify_content": null,
      "justify_items": null,
      "left": null,
      "margin": null,
      "max_height": null,
      "max_width": null,
      "min_height": null,
      "min_width": null,
      "object_fit": null,
      "object_position": null,
      "order": null,
      "overflow": null,
      "overflow_x": null,
      "overflow_y": null,
      "padding": null,
      "right": null,
      "top": null,
      "visibility": null,
      "width": null
     }
    },
    "ac49b4ac941a424c90715b24addb7a63": {
     "model_module": "@jupyter-widgets/controls",
     "model_module_version": "1.5.0",
     "model_name": "ProgressStyleModel",
     "state": {
      "_model_module": "@jupyter-widgets/controls",
      "_model_module_version": "1.5.0",
      "_model_name": "ProgressStyleModel",
      "_view_count": null,
      "_view_module": "@jupyter-widgets/base",
      "_view_module_version": "1.2.0",
      "_view_name": "StyleView",
      "bar_color": null,
      "description_width": ""
     }
    },
    "ac75ce445ebe42188454a08ac878f3be": {
     "model_module": "@jupyter-widgets/base",
     "model_module_version": "1.2.0",
     "model_name": "LayoutModel",
     "state": {
      "_model_module": "@jupyter-widgets/base",
      "_model_module_version": "1.2.0",
      "_model_name": "LayoutModel",
      "_view_count": null,
      "_view_module": "@jupyter-widgets/base",
      "_view_module_version": "1.2.0",
      "_view_name": "LayoutView",
      "align_content": null,
      "align_items": null,
      "align_self": null,
      "border": null,
      "bottom": null,
      "display": null,
      "flex": null,
      "flex_flow": null,
      "grid_area": null,
      "grid_auto_columns": null,
      "grid_auto_flow": null,
      "grid_auto_rows": null,
      "grid_column": null,
      "grid_gap": null,
      "grid_row": null,
      "grid_template_areas": null,
      "grid_template_columns": null,
      "grid_template_rows": null,
      "height": null,
      "justify_content": null,
      "justify_items": null,
      "left": null,
      "margin": null,
      "max_height": null,
      "max_width": null,
      "min_height": null,
      "min_width": null,
      "object_fit": null,
      "object_position": null,
      "order": null,
      "overflow": null,
      "overflow_x": null,
      "overflow_y": null,
      "padding": null,
      "right": null,
      "top": null,
      "visibility": null,
      "width": null
     }
    },
    "ad531d3a7e7045099452c087ca2b7e4c": {
     "model_module": "@jupyter-widgets/controls",
     "model_module_version": "1.5.0",
     "model_name": "FloatProgressModel",
     "state": {
      "_dom_classes": [],
      "_model_module": "@jupyter-widgets/controls",
      "_model_module_version": "1.5.0",
      "_model_name": "FloatProgressModel",
      "_view_count": null,
      "_view_module": "@jupyter-widgets/controls",
      "_view_module_version": "1.5.0",
      "_view_name": "ProgressView",
      "bar_style": "success",
      "description": "",
      "description_tooltip": null,
      "layout": "IPY_MODEL_1a4f4acbf96d4aecbbbdc23524f1fc12",
      "max": 50,
      "min": 0,
      "orientation": "horizontal",
      "style": "IPY_MODEL_c4feb7039ec740a9b7704f18cbc78663",
      "value": 50
     }
    },
    "ae2a11e078944736baacadd0ee9da1b9": {
     "model_module": "@jupyter-widgets/base",
     "model_module_version": "1.2.0",
     "model_name": "LayoutModel",
     "state": {
      "_model_module": "@jupyter-widgets/base",
      "_model_module_version": "1.2.0",
      "_model_name": "LayoutModel",
      "_view_count": null,
      "_view_module": "@jupyter-widgets/base",
      "_view_module_version": "1.2.0",
      "_view_name": "LayoutView",
      "align_content": null,
      "align_items": null,
      "align_self": null,
      "border": null,
      "bottom": null,
      "display": null,
      "flex": null,
      "flex_flow": null,
      "grid_area": null,
      "grid_auto_columns": null,
      "grid_auto_flow": null,
      "grid_auto_rows": null,
      "grid_column": null,
      "grid_gap": null,
      "grid_row": null,
      "grid_template_areas": null,
      "grid_template_columns": null,
      "grid_template_rows": null,
      "height": null,
      "justify_content": null,
      "justify_items": null,
      "left": null,
      "margin": null,
      "max_height": null,
      "max_width": null,
      "min_height": null,
      "min_width": null,
      "object_fit": null,
      "object_position": null,
      "order": null,
      "overflow": null,
      "overflow_x": null,
      "overflow_y": null,
      "padding": null,
      "right": null,
      "top": null,
      "visibility": null,
      "width": null
     }
    },
    "ae4eee1639094c5d9a0512c2ce14d839": {
     "model_module": "@jupyter-widgets/base",
     "model_module_version": "1.2.0",
     "model_name": "LayoutModel",
     "state": {
      "_model_module": "@jupyter-widgets/base",
      "_model_module_version": "1.2.0",
      "_model_name": "LayoutModel",
      "_view_count": null,
      "_view_module": "@jupyter-widgets/base",
      "_view_module_version": "1.2.0",
      "_view_name": "LayoutView",
      "align_content": null,
      "align_items": null,
      "align_self": null,
      "border": null,
      "bottom": null,
      "display": null,
      "flex": null,
      "flex_flow": null,
      "grid_area": null,
      "grid_auto_columns": null,
      "grid_auto_flow": null,
      "grid_auto_rows": null,
      "grid_column": null,
      "grid_gap": null,
      "grid_row": null,
      "grid_template_areas": null,
      "grid_template_columns": null,
      "grid_template_rows": null,
      "height": null,
      "justify_content": null,
      "justify_items": null,
      "left": null,
      "margin": null,
      "max_height": null,
      "max_width": null,
      "min_height": null,
      "min_width": null,
      "object_fit": null,
      "object_position": null,
      "order": null,
      "overflow": null,
      "overflow_x": null,
      "overflow_y": null,
      "padding": null,
      "right": null,
      "top": null,
      "visibility": null,
      "width": null
     }
    },
    "b3ca09bce6d8415daad8af51855672f6": {
     "model_module": "@jupyter-widgets/base",
     "model_module_version": "1.2.0",
     "model_name": "LayoutModel",
     "state": {
      "_model_module": "@jupyter-widgets/base",
      "_model_module_version": "1.2.0",
      "_model_name": "LayoutModel",
      "_view_count": null,
      "_view_module": "@jupyter-widgets/base",
      "_view_module_version": "1.2.0",
      "_view_name": "LayoutView",
      "align_content": null,
      "align_items": null,
      "align_self": null,
      "border": null,
      "bottom": null,
      "display": null,
      "flex": null,
      "flex_flow": null,
      "grid_area": null,
      "grid_auto_columns": null,
      "grid_auto_flow": null,
      "grid_auto_rows": null,
      "grid_column": null,
      "grid_gap": null,
      "grid_row": null,
      "grid_template_areas": null,
      "grid_template_columns": null,
      "grid_template_rows": null,
      "height": null,
      "justify_content": null,
      "justify_items": null,
      "left": null,
      "margin": null,
      "max_height": null,
      "max_width": null,
      "min_height": null,
      "min_width": null,
      "object_fit": null,
      "object_position": null,
      "order": null,
      "overflow": null,
      "overflow_x": null,
      "overflow_y": null,
      "padding": null,
      "right": null,
      "top": null,
      "visibility": null,
      "width": null
     }
    },
    "b3f12ad80d924c4ab32b2b3eb6fdfb03": {
     "model_module": "@jupyter-widgets/controls",
     "model_module_version": "1.5.0",
     "model_name": "HTMLModel",
     "state": {
      "_dom_classes": [],
      "_model_module": "@jupyter-widgets/controls",
      "_model_module_version": "1.5.0",
      "_model_name": "HTMLModel",
      "_view_count": null,
      "_view_module": "@jupyter-widgets/controls",
      "_view_module_version": "1.5.0",
      "_view_name": "HTMLView",
      "description": "",
      "description_tooltip": null,
      "layout": "IPY_MODEL_a98ac0543b5749899a275ea96703344f",
      "placeholder": "​",
      "style": "IPY_MODEL_57493bcd3ef54c5d9b97992ea09b7a9a",
      "value": "llm_classify "
     }
    },
    "b5888e04c9484c2482c1d1098b258f18": {
     "model_module": "@jupyter-widgets/controls",
     "model_module_version": "1.5.0",
     "model_name": "HBoxModel",
     "state": {
      "_dom_classes": [],
      "_model_module": "@jupyter-widgets/controls",
      "_model_module_version": "1.5.0",
      "_model_name": "HBoxModel",
      "_view_count": null,
      "_view_module": "@jupyter-widgets/controls",
      "_view_module_version": "1.5.0",
      "_view_name": "HBoxView",
      "box_style": "",
      "children": [
       "IPY_MODEL_2a74508978e04245932fb59a798be376",
       "IPY_MODEL_8e1698123a3d4cd1ba983443f95e3fce",
       "IPY_MODEL_5be96be0bcd8461d98894c7028bcc310"
      ],
      "layout": "IPY_MODEL_cc42d60bb6bc479794d5edb18fd92b3e"
     }
    },
    "b692112089fb48b597501fd41d7e9309": {
     "model_module": "@jupyter-widgets/controls",
     "model_module_version": "1.5.0",
     "model_name": "FloatProgressModel",
     "state": {
      "_dom_classes": [],
      "_model_module": "@jupyter-widgets/controls",
      "_model_module_version": "1.5.0",
      "_model_name": "FloatProgressModel",
      "_view_count": null,
      "_view_module": "@jupyter-widgets/controls",
      "_view_module_version": "1.5.0",
      "_view_name": "ProgressView",
      "bar_style": "success",
      "description": "",
      "description_tooltip": null,
      "layout": "IPY_MODEL_ac75ce445ebe42188454a08ac878f3be",
      "max": 50,
      "min": 0,
      "orientation": "horizontal",
      "style": "IPY_MODEL_ed537e5b73624bf480d1624af1e86676",
      "value": 50
     }
    },
    "b6b44ed0d32342f2adcefa4f9858e9d1": {
     "model_module": "@jupyter-widgets/base",
     "model_module_version": "1.2.0",
     "model_name": "LayoutModel",
     "state": {
      "_model_module": "@jupyter-widgets/base",
      "_model_module_version": "1.2.0",
      "_model_name": "LayoutModel",
      "_view_count": null,
      "_view_module": "@jupyter-widgets/base",
      "_view_module_version": "1.2.0",
      "_view_name": "LayoutView",
      "align_content": null,
      "align_items": null,
      "align_self": null,
      "border": null,
      "bottom": null,
      "display": null,
      "flex": null,
      "flex_flow": null,
      "grid_area": null,
      "grid_auto_columns": null,
      "grid_auto_flow": null,
      "grid_auto_rows": null,
      "grid_column": null,
      "grid_gap": null,
      "grid_row": null,
      "grid_template_areas": null,
      "grid_template_columns": null,
      "grid_template_rows": null,
      "height": null,
      "justify_content": null,
      "justify_items": null,
      "left": null,
      "margin": null,
      "max_height": null,
      "max_width": null,
      "min_height": null,
      "min_width": null,
      "object_fit": null,
      "object_position": null,
      "order": null,
      "overflow": null,
      "overflow_x": null,
      "overflow_y": null,
      "padding": null,
      "right": null,
      "top": null,
      "visibility": null,
      "width": null
     }
    },
    "b6d15b41ff2a4f01bb593c1a75b84ccf": {
     "model_module": "@jupyter-widgets/controls",
     "model_module_version": "1.5.0",
     "model_name": "HTMLModel",
     "state": {
      "_dom_classes": [],
      "_model_module": "@jupyter-widgets/controls",
      "_model_module_version": "1.5.0",
      "_model_name": "HTMLModel",
      "_view_count": null,
      "_view_module": "@jupyter-widgets/controls",
      "_view_module_version": "1.5.0",
      "_view_name": "HTMLView",
      "description": "",
      "description_tooltip": null,
      "layout": "IPY_MODEL_0f224df498944b5aa1e866192f111dd8",
      "placeholder": "​",
      "style": "IPY_MODEL_22638bfe5e9b4629a23d925c2e462aad",
      "value": " 50/50 (100.0%) | ⏳ 00:25&lt;00:00 |  2.91it/s"
     }
    },
    "b6d50b46294b42e099c70cc559c75bb6": {
     "model_module": "@jupyter-widgets/controls",
     "model_module_version": "1.5.0",
     "model_name": "DescriptionStyleModel",
     "state": {
      "_model_module": "@jupyter-widgets/controls",
      "_model_module_version": "1.5.0",
      "_model_name": "DescriptionStyleModel",
      "_view_count": null,
      "_view_module": "@jupyter-widgets/base",
      "_view_module_version": "1.2.0",
      "_view_name": "StyleView",
      "description_width": ""
     }
    },
    "b7a55e635446484cb95f4c59927d258c": {
     "model_module": "@jupyter-widgets/base",
     "model_module_version": "1.2.0",
     "model_name": "LayoutModel",
     "state": {
      "_model_module": "@jupyter-widgets/base",
      "_model_module_version": "1.2.0",
      "_model_name": "LayoutModel",
      "_view_count": null,
      "_view_module": "@jupyter-widgets/base",
      "_view_module_version": "1.2.0",
      "_view_name": "LayoutView",
      "align_content": null,
      "align_items": null,
      "align_self": null,
      "border": null,
      "bottom": null,
      "display": null,
      "flex": null,
      "flex_flow": null,
      "grid_area": null,
      "grid_auto_columns": null,
      "grid_auto_flow": null,
      "grid_auto_rows": null,
      "grid_column": null,
      "grid_gap": null,
      "grid_row": null,
      "grid_template_areas": null,
      "grid_template_columns": null,
      "grid_template_rows": null,
      "height": null,
      "justify_content": null,
      "justify_items": null,
      "left": null,
      "margin": null,
      "max_height": null,
      "max_width": null,
      "min_height": null,
      "min_width": null,
      "object_fit": null,
      "object_position": null,
      "order": null,
      "overflow": null,
      "overflow_x": null,
      "overflow_y": null,
      "padding": null,
      "right": null,
      "top": null,
      "visibility": null,
      "width": null
     }
    },
    "b8e4f1fde9b74536a4c2d9fd2ddc95d2": {
     "model_module": "@jupyter-widgets/base",
     "model_module_version": "1.2.0",
     "model_name": "LayoutModel",
     "state": {
      "_model_module": "@jupyter-widgets/base",
      "_model_module_version": "1.2.0",
      "_model_name": "LayoutModel",
      "_view_count": null,
      "_view_module": "@jupyter-widgets/base",
      "_view_module_version": "1.2.0",
      "_view_name": "LayoutView",
      "align_content": null,
      "align_items": null,
      "align_self": null,
      "border": null,
      "bottom": null,
      "display": null,
      "flex": null,
      "flex_flow": null,
      "grid_area": null,
      "grid_auto_columns": null,
      "grid_auto_flow": null,
      "grid_auto_rows": null,
      "grid_column": null,
      "grid_gap": null,
      "grid_row": null,
      "grid_template_areas": null,
      "grid_template_columns": null,
      "grid_template_rows": null,
      "height": null,
      "justify_content": null,
      "justify_items": null,
      "left": null,
      "margin": null,
      "max_height": null,
      "max_width": null,
      "min_height": null,
      "min_width": null,
      "object_fit": null,
      "object_position": null,
      "order": null,
      "overflow": null,
      "overflow_x": null,
      "overflow_y": null,
      "padding": null,
      "right": null,
      "top": null,
      "visibility": null,
      "width": null
     }
    },
    "bc59a8a2fcb245929d338013d8056f4c": {
     "model_module": "@jupyter-widgets/controls",
     "model_module_version": "1.5.0",
     "model_name": "DescriptionStyleModel",
     "state": {
      "_model_module": "@jupyter-widgets/controls",
      "_model_module_version": "1.5.0",
      "_model_name": "DescriptionStyleModel",
      "_view_count": null,
      "_view_module": "@jupyter-widgets/base",
      "_view_module_version": "1.2.0",
      "_view_name": "StyleView",
      "description_width": ""
     }
    },
    "bd59271839ac4371a1771c4b8460dc3e": {
     "model_module": "@jupyter-widgets/controls",
     "model_module_version": "1.5.0",
     "model_name": "HTMLModel",
     "state": {
      "_dom_classes": [],
      "_model_module": "@jupyter-widgets/controls",
      "_model_module_version": "1.5.0",
      "_model_name": "HTMLModel",
      "_view_count": null,
      "_view_module": "@jupyter-widgets/controls",
      "_view_module_version": "1.5.0",
      "_view_name": "HTMLView",
      "description": "",
      "description_tooltip": null,
      "layout": "IPY_MODEL_ab064aec631e4848b5c6015834147ead",
      "placeholder": "​",
      "style": "IPY_MODEL_56fd3a897d9c468abf6f0ed326e4fadd",
      "value": "llm_classify "
     }
    },
    "bde76013fd414662ac7d02ed8378dc79": {
     "model_module": "@jupyter-widgets/controls",
     "model_module_version": "1.5.0",
     "model_name": "HTMLModel",
     "state": {
      "_dom_classes": [],
      "_model_module": "@jupyter-widgets/controls",
      "_model_module_version": "1.5.0",
      "_model_name": "HTMLModel",
      "_view_count": null,
      "_view_module": "@jupyter-widgets/controls",
      "_view_module_version": "1.5.0",
      "_view_name": "HTMLView",
      "description": "",
      "description_tooltip": null,
      "layout": "IPY_MODEL_8710b0ff53c94668b3bab0dbff47effe",
      "placeholder": "​",
      "style": "IPY_MODEL_73f61a1dbd374c3ebb91bad4553b6bfc",
      "value": " 50/50 (100.0%) | ⏳ 00:30&lt;00:00 |  4.92it/s"
     }
    },
    "be6eaee0cfd842c4971085c7ecbab8f7": {
     "model_module": "@jupyter-widgets/base",
     "model_module_version": "1.2.0",
     "model_name": "LayoutModel",
     "state": {
      "_model_module": "@jupyter-widgets/base",
      "_model_module_version": "1.2.0",
      "_model_name": "LayoutModel",
      "_view_count": null,
      "_view_module": "@jupyter-widgets/base",
      "_view_module_version": "1.2.0",
      "_view_name": "LayoutView",
      "align_content": null,
      "align_items": null,
      "align_self": null,
      "border": null,
      "bottom": null,
      "display": null,
      "flex": null,
      "flex_flow": null,
      "grid_area": null,
      "grid_auto_columns": null,
      "grid_auto_flow": null,
      "grid_auto_rows": null,
      "grid_column": null,
      "grid_gap": null,
      "grid_row": null,
      "grid_template_areas": null,
      "grid_template_columns": null,
      "grid_template_rows": null,
      "height": null,
      "justify_content": null,
      "justify_items": null,
      "left": null,
      "margin": null,
      "max_height": null,
      "max_width": null,
      "min_height": null,
      "min_width": null,
      "object_fit": null,
      "object_position": null,
      "order": null,
      "overflow": null,
      "overflow_x": null,
      "overflow_y": null,
      "padding": null,
      "right": null,
      "top": null,
      "visibility": null,
      "width": null
     }
    },
    "c05224745293437b88fb69ac30405c39": {
     "model_module": "@jupyter-widgets/base",
     "model_module_version": "1.2.0",
     "model_name": "LayoutModel",
     "state": {
      "_model_module": "@jupyter-widgets/base",
      "_model_module_version": "1.2.0",
      "_model_name": "LayoutModel",
      "_view_count": null,
      "_view_module": "@jupyter-widgets/base",
      "_view_module_version": "1.2.0",
      "_view_name": "LayoutView",
      "align_content": null,
      "align_items": null,
      "align_self": null,
      "border": null,
      "bottom": null,
      "display": null,
      "flex": null,
      "flex_flow": null,
      "grid_area": null,
      "grid_auto_columns": null,
      "grid_auto_flow": null,
      "grid_auto_rows": null,
      "grid_column": null,
      "grid_gap": null,
      "grid_row": null,
      "grid_template_areas": null,
      "grid_template_columns": null,
      "grid_template_rows": null,
      "height": null,
      "justify_content": null,
      "justify_items": null,
      "left": null,
      "margin": null,
      "max_height": null,
      "max_width": null,
      "min_height": null,
      "min_width": null,
      "object_fit": null,
      "object_position": null,
      "order": null,
      "overflow": null,
      "overflow_x": null,
      "overflow_y": null,
      "padding": null,
      "right": null,
      "top": null,
      "visibility": null,
      "width": null
     }
    },
    "c113487e004842b2915e1b2e0089c9e1": {
     "model_module": "@jupyter-widgets/controls",
     "model_module_version": "1.5.0",
     "model_name": "FloatProgressModel",
     "state": {
      "_dom_classes": [],
      "_model_module": "@jupyter-widgets/controls",
      "_model_module_version": "1.5.0",
      "_model_name": "FloatProgressModel",
      "_view_count": null,
      "_view_module": "@jupyter-widgets/controls",
      "_view_module_version": "1.5.0",
      "_view_name": "ProgressView",
      "bar_style": "success",
      "description": "",
      "description_tooltip": null,
      "layout": "IPY_MODEL_68ef74088ec24f33ac68f251adfffcb3",
      "max": 50,
      "min": 0,
      "orientation": "horizontal",
      "style": "IPY_MODEL_f74a72240e4e4753b961568df195527c",
      "value": 50
     }
    },
    "c23168f9f0b04609827cd8a784d93892": {
     "model_module": "@jupyter-widgets/base",
     "model_module_version": "1.2.0",
     "model_name": "LayoutModel",
     "state": {
      "_model_module": "@jupyter-widgets/base",
      "_model_module_version": "1.2.0",
      "_model_name": "LayoutModel",
      "_view_count": null,
      "_view_module": "@jupyter-widgets/base",
      "_view_module_version": "1.2.0",
      "_view_name": "LayoutView",
      "align_content": null,
      "align_items": null,
      "align_self": null,
      "border": null,
      "bottom": null,
      "display": null,
      "flex": null,
      "flex_flow": null,
      "grid_area": null,
      "grid_auto_columns": null,
      "grid_auto_flow": null,
      "grid_auto_rows": null,
      "grid_column": null,
      "grid_gap": null,
      "grid_row": null,
      "grid_template_areas": null,
      "grid_template_columns": null,
      "grid_template_rows": null,
      "height": null,
      "justify_content": null,
      "justify_items": null,
      "left": null,
      "margin": null,
      "max_height": null,
      "max_width": null,
      "min_height": null,
      "min_width": null,
      "object_fit": null,
      "object_position": null,
      "order": null,
      "overflow": null,
      "overflow_x": null,
      "overflow_y": null,
      "padding": null,
      "right": null,
      "top": null,
      "visibility": null,
      "width": null
     }
    },
    "c34e0528975a4afb887145a3be970451": {
     "model_module": "@jupyter-widgets/base",
     "model_module_version": "1.2.0",
     "model_name": "LayoutModel",
     "state": {
      "_model_module": "@jupyter-widgets/base",
      "_model_module_version": "1.2.0",
      "_model_name": "LayoutModel",
      "_view_count": null,
      "_view_module": "@jupyter-widgets/base",
      "_view_module_version": "1.2.0",
      "_view_name": "LayoutView",
      "align_content": null,
      "align_items": null,
      "align_self": null,
      "border": null,
      "bottom": null,
      "display": null,
      "flex": null,
      "flex_flow": null,
      "grid_area": null,
      "grid_auto_columns": null,
      "grid_auto_flow": null,
      "grid_auto_rows": null,
      "grid_column": null,
      "grid_gap": null,
      "grid_row": null,
      "grid_template_areas": null,
      "grid_template_columns": null,
      "grid_template_rows": null,
      "height": null,
      "justify_content": null,
      "justify_items": null,
      "left": null,
      "margin": null,
      "max_height": null,
      "max_width": null,
      "min_height": null,
      "min_width": null,
      "object_fit": null,
      "object_position": null,
      "order": null,
      "overflow": null,
      "overflow_x": null,
      "overflow_y": null,
      "padding": null,
      "right": null,
      "top": null,
      "visibility": null,
      "width": null
     }
    },
    "c465b3999aca4722b1c3ada8ce0fba58": {
     "model_module": "@jupyter-widgets/controls",
     "model_module_version": "1.5.0",
     "model_name": "HTMLModel",
     "state": {
      "_dom_classes": [],
      "_model_module": "@jupyter-widgets/controls",
      "_model_module_version": "1.5.0",
      "_model_name": "HTMLModel",
      "_view_count": null,
      "_view_module": "@jupyter-widgets/controls",
      "_view_module_version": "1.5.0",
      "_view_name": "HTMLView",
      "description": "",
      "description_tooltip": null,
      "layout": "IPY_MODEL_26c573b89b15401e93f1a4f4bf4dabd2",
      "placeholder": "​",
      "style": "IPY_MODEL_608f098ddfea483ab63a28e708ec182e",
      "value": " 50/50 (100.0%) | ⏳ 00:44&lt;00:00 | 12.49it/s"
     }
    },
    "c4feb7039ec740a9b7704f18cbc78663": {
     "model_module": "@jupyter-widgets/controls",
     "model_module_version": "1.5.0",
     "model_name": "ProgressStyleModel",
     "state": {
      "_model_module": "@jupyter-widgets/controls",
      "_model_module_version": "1.5.0",
      "_model_name": "ProgressStyleModel",
      "_view_count": null,
      "_view_module": "@jupyter-widgets/base",
      "_view_module_version": "1.2.0",
      "_view_name": "StyleView",
      "bar_color": null,
      "description_width": ""
     }
    },
    "c6d0738e230c48cdba51f71993eae09a": {
     "model_module": "@jupyter-widgets/base",
     "model_module_version": "1.2.0",
     "model_name": "LayoutModel",
     "state": {
      "_model_module": "@jupyter-widgets/base",
      "_model_module_version": "1.2.0",
      "_model_name": "LayoutModel",
      "_view_count": null,
      "_view_module": "@jupyter-widgets/base",
      "_view_module_version": "1.2.0",
      "_view_name": "LayoutView",
      "align_content": null,
      "align_items": null,
      "align_self": null,
      "border": null,
      "bottom": null,
      "display": null,
      "flex": null,
      "flex_flow": null,
      "grid_area": null,
      "grid_auto_columns": null,
      "grid_auto_flow": null,
      "grid_auto_rows": null,
      "grid_column": null,
      "grid_gap": null,
      "grid_row": null,
      "grid_template_areas": null,
      "grid_template_columns": null,
      "grid_template_rows": null,
      "height": null,
      "justify_content": null,
      "justify_items": null,
      "left": null,
      "margin": null,
      "max_height": null,
      "max_width": null,
      "min_height": null,
      "min_width": null,
      "object_fit": null,
      "object_position": null,
      "order": null,
      "overflow": null,
      "overflow_x": null,
      "overflow_y": null,
      "padding": null,
      "right": null,
      "top": null,
      "visibility": null,
      "width": null
     }
    },
    "caa601977c5a4a9d94a98bce1bdda47e": {
     "model_module": "@jupyter-widgets/controls",
     "model_module_version": "1.5.0",
     "model_name": "HTMLModel",
     "state": {
      "_dom_classes": [],
      "_model_module": "@jupyter-widgets/controls",
      "_model_module_version": "1.5.0",
      "_model_name": "HTMLModel",
      "_view_count": null,
      "_view_module": "@jupyter-widgets/controls",
      "_view_module_version": "1.5.0",
      "_view_name": "HTMLView",
      "description": "",
      "description_tooltip": null,
      "layout": "IPY_MODEL_ae4eee1639094c5d9a0512c2ce14d839",
      "placeholder": "​",
      "style": "IPY_MODEL_475bb8e6edc2453c86ff31de02d57ded",
      "value": "llm_classify "
     }
    },
    "cbfba3e516a2423b9c0a9aab99a20b7c": {
     "model_module": "@jupyter-widgets/controls",
     "model_module_version": "1.5.0",
     "model_name": "ProgressStyleModel",
     "state": {
      "_model_module": "@jupyter-widgets/controls",
      "_model_module_version": "1.5.0",
      "_model_name": "ProgressStyleModel",
      "_view_count": null,
      "_view_module": "@jupyter-widgets/base",
      "_view_module_version": "1.2.0",
      "_view_name": "StyleView",
      "bar_color": null,
      "description_width": ""
     }
    },
    "cc42d60bb6bc479794d5edb18fd92b3e": {
     "model_module": "@jupyter-widgets/base",
     "model_module_version": "1.2.0",
     "model_name": "LayoutModel",
     "state": {
      "_model_module": "@jupyter-widgets/base",
      "_model_module_version": "1.2.0",
      "_model_name": "LayoutModel",
      "_view_count": null,
      "_view_module": "@jupyter-widgets/base",
      "_view_module_version": "1.2.0",
      "_view_name": "LayoutView",
      "align_content": null,
      "align_items": null,
      "align_self": null,
      "border": null,
      "bottom": null,
      "display": null,
      "flex": null,
      "flex_flow": null,
      "grid_area": null,
      "grid_auto_columns": null,
      "grid_auto_flow": null,
      "grid_auto_rows": null,
      "grid_column": null,
      "grid_gap": null,
      "grid_row": null,
      "grid_template_areas": null,
      "grid_template_columns": null,
      "grid_template_rows": null,
      "height": null,
      "justify_content": null,
      "justify_items": null,
      "left": null,
      "margin": null,
      "max_height": null,
      "max_width": null,
      "min_height": null,
      "min_width": null,
      "object_fit": null,
      "object_position": null,
      "order": null,
      "overflow": null,
      "overflow_x": null,
      "overflow_y": null,
      "padding": null,
      "right": null,
      "top": null,
      "visibility": null,
      "width": null
     }
    },
    "d1f6496c11404907acda6c3b35d1a16f": {
     "model_module": "@jupyter-widgets/controls",
     "model_module_version": "1.5.0",
     "model_name": "DescriptionStyleModel",
     "state": {
      "_model_module": "@jupyter-widgets/controls",
      "_model_module_version": "1.5.0",
      "_model_name": "DescriptionStyleModel",
      "_view_count": null,
      "_view_module": "@jupyter-widgets/base",
      "_view_module_version": "1.2.0",
      "_view_name": "StyleView",
      "description_width": ""
     }
    },
    "d485e71ea2d9445fbd48965118fd6ba4": {
     "model_module": "@jupyter-widgets/base",
     "model_module_version": "1.2.0",
     "model_name": "LayoutModel",
     "state": {
      "_model_module": "@jupyter-widgets/base",
      "_model_module_version": "1.2.0",
      "_model_name": "LayoutModel",
      "_view_count": null,
      "_view_module": "@jupyter-widgets/base",
      "_view_module_version": "1.2.0",
      "_view_name": "LayoutView",
      "align_content": null,
      "align_items": null,
      "align_self": null,
      "border": null,
      "bottom": null,
      "display": null,
      "flex": null,
      "flex_flow": null,
      "grid_area": null,
      "grid_auto_columns": null,
      "grid_auto_flow": null,
      "grid_auto_rows": null,
      "grid_column": null,
      "grid_gap": null,
      "grid_row": null,
      "grid_template_areas": null,
      "grid_template_columns": null,
      "grid_template_rows": null,
      "height": null,
      "justify_content": null,
      "justify_items": null,
      "left": null,
      "margin": null,
      "max_height": null,
      "max_width": null,
      "min_height": null,
      "min_width": null,
      "object_fit": null,
      "object_position": null,
      "order": null,
      "overflow": null,
      "overflow_x": null,
      "overflow_y": null,
      "padding": null,
      "right": null,
      "top": null,
      "visibility": null,
      "width": null
     }
    },
    "d4f7f668eb7c4cb9923bdbd7f7eab9ee": {
     "model_module": "@jupyter-widgets/base",
     "model_module_version": "1.2.0",
     "model_name": "LayoutModel",
     "state": {
      "_model_module": "@jupyter-widgets/base",
      "_model_module_version": "1.2.0",
      "_model_name": "LayoutModel",
      "_view_count": null,
      "_view_module": "@jupyter-widgets/base",
      "_view_module_version": "1.2.0",
      "_view_name": "LayoutView",
      "align_content": null,
      "align_items": null,
      "align_self": null,
      "border": null,
      "bottom": null,
      "display": null,
      "flex": null,
      "flex_flow": null,
      "grid_area": null,
      "grid_auto_columns": null,
      "grid_auto_flow": null,
      "grid_auto_rows": null,
      "grid_column": null,
      "grid_gap": null,
      "grid_row": null,
      "grid_template_areas": null,
      "grid_template_columns": null,
      "grid_template_rows": null,
      "height": null,
      "justify_content": null,
      "justify_items": null,
      "left": null,
      "margin": null,
      "max_height": null,
      "max_width": null,
      "min_height": null,
      "min_width": null,
      "object_fit": null,
      "object_position": null,
      "order": null,
      "overflow": null,
      "overflow_x": null,
      "overflow_y": null,
      "padding": null,
      "right": null,
      "top": null,
      "visibility": null,
      "width": null
     }
    },
    "d4f8abec598445b6995d34e1bb14efb4": {
     "model_module": "@jupyter-widgets/controls",
     "model_module_version": "1.5.0",
     "model_name": "HBoxModel",
     "state": {
      "_dom_classes": [],
      "_model_module": "@jupyter-widgets/controls",
      "_model_module_version": "1.5.0",
      "_model_name": "HBoxModel",
      "_view_count": null,
      "_view_module": "@jupyter-widgets/controls",
      "_view_module_version": "1.5.0",
      "_view_name": "HBoxView",
      "box_style": "",
      "children": [
       "IPY_MODEL_ab58e3a8307b477b8f1cef4e9324751a",
       "IPY_MODEL_fd3a8aae6c534807a97dd847ddbdb366",
       "IPY_MODEL_c465b3999aca4722b1c3ada8ce0fba58"
      ],
      "layout": "IPY_MODEL_f93e704141414d3d8c8091042c041580"
     }
    },
    "d7df50e3c85d429bb4c9d8ebfe0529d5": {
     "model_module": "@jupyter-widgets/controls",
     "model_module_version": "1.5.0",
     "model_name": "ProgressStyleModel",
     "state": {
      "_model_module": "@jupyter-widgets/controls",
      "_model_module_version": "1.5.0",
      "_model_name": "ProgressStyleModel",
      "_view_count": null,
      "_view_module": "@jupyter-widgets/base",
      "_view_module_version": "1.2.0",
      "_view_name": "StyleView",
      "bar_color": null,
      "description_width": ""
     }
    },
    "d7e376d5663c4b0490e492758e34947b": {
     "model_module": "@jupyter-widgets/controls",
     "model_module_version": "1.5.0",
     "model_name": "HTMLModel",
     "state": {
      "_dom_classes": [],
      "_model_module": "@jupyter-widgets/controls",
      "_model_module_version": "1.5.0",
      "_model_name": "HTMLModel",
      "_view_count": null,
      "_view_module": "@jupyter-widgets/controls",
      "_view_module_version": "1.5.0",
      "_view_name": "HTMLView",
      "description": "",
      "description_tooltip": null,
      "layout": "IPY_MODEL_be6eaee0cfd842c4971085c7ecbab8f7",
      "placeholder": "​",
      "style": "IPY_MODEL_3b58c94a12a541098d5850b86d11f000",
      "value": "llm_classify "
     }
    },
    "dba97099e9884d70a36faa126d13641c": {
     "model_module": "@jupyter-widgets/controls",
     "model_module_version": "1.5.0",
     "model_name": "DescriptionStyleModel",
     "state": {
      "_model_module": "@jupyter-widgets/controls",
      "_model_module_version": "1.5.0",
      "_model_name": "DescriptionStyleModel",
      "_view_count": null,
      "_view_module": "@jupyter-widgets/base",
      "_view_module_version": "1.2.0",
      "_view_name": "StyleView",
      "description_width": ""
     }
    },
    "dd4dc245307b46dfbc3b839b415a6dd5": {
     "model_module": "@jupyter-widgets/controls",
     "model_module_version": "1.5.0",
     "model_name": "HBoxModel",
     "state": {
      "_dom_classes": [],
      "_model_module": "@jupyter-widgets/controls",
      "_model_module_version": "1.5.0",
      "_model_name": "HBoxModel",
      "_view_count": null,
      "_view_module": "@jupyter-widgets/controls",
      "_view_module_version": "1.5.0",
      "_view_name": "HBoxView",
      "box_style": "",
      "children": [
       "IPY_MODEL_bd59271839ac4371a1771c4b8460dc3e",
       "IPY_MODEL_c113487e004842b2915e1b2e0089c9e1",
       "IPY_MODEL_bde76013fd414662ac7d02ed8378dc79"
      ],
      "layout": "IPY_MODEL_9e9b7ad6b26d4f258c656584a6687877"
     }
    },
    "defa0c8ed69344129ad0cd962e4c20f0": {
     "model_module": "@jupyter-widgets/controls",
     "model_module_version": "1.5.0",
     "model_name": "HTMLModel",
     "state": {
      "_dom_classes": [],
      "_model_module": "@jupyter-widgets/controls",
      "_model_module_version": "1.5.0",
      "_model_name": "HTMLModel",
      "_view_count": null,
      "_view_module": "@jupyter-widgets/controls",
      "_view_module_version": "1.5.0",
      "_view_name": "HTMLView",
      "description": "",
      "description_tooltip": null,
      "layout": "IPY_MODEL_0059f99e8a26433c94e12cbc79a6f215",
      "placeholder": "​",
      "style": "IPY_MODEL_216374e470cb41b2b55a0e632b3ba2a5",
      "value": "llm_classify "
     }
    },
    "df84b585621447b5ac6d87f6902731c6": {
     "model_module": "@jupyter-widgets/controls",
     "model_module_version": "1.5.0",
     "model_name": "FloatProgressModel",
     "state": {
      "_dom_classes": [],
      "_model_module": "@jupyter-widgets/controls",
      "_model_module_version": "1.5.0",
      "_model_name": "FloatProgressModel",
      "_view_count": null,
      "_view_module": "@jupyter-widgets/controls",
      "_view_module_version": "1.5.0",
      "_view_name": "ProgressView",
      "bar_style": "success",
      "description": "",
      "description_tooltip": null,
      "layout": "IPY_MODEL_b7a55e635446484cb95f4c59927d258c",
      "max": 50,
      "min": 0,
      "orientation": "horizontal",
      "style": "IPY_MODEL_ac49b4ac941a424c90715b24addb7a63",
      "value": 50
     }
    },
    "e15e603bf71f48bb8cf0bfb16f48bd85": {
     "model_module": "@jupyter-widgets/base",
     "model_module_version": "1.2.0",
     "model_name": "LayoutModel",
     "state": {
      "_model_module": "@jupyter-widgets/base",
      "_model_module_version": "1.2.0",
      "_model_name": "LayoutModel",
      "_view_count": null,
      "_view_module": "@jupyter-widgets/base",
      "_view_module_version": "1.2.0",
      "_view_name": "LayoutView",
      "align_content": null,
      "align_items": null,
      "align_self": null,
      "border": null,
      "bottom": null,
      "display": null,
      "flex": null,
      "flex_flow": null,
      "grid_area": null,
      "grid_auto_columns": null,
      "grid_auto_flow": null,
      "grid_auto_rows": null,
      "grid_column": null,
      "grid_gap": null,
      "grid_row": null,
      "grid_template_areas": null,
      "grid_template_columns": null,
      "grid_template_rows": null,
      "height": null,
      "justify_content": null,
      "justify_items": null,
      "left": null,
      "margin": null,
      "max_height": null,
      "max_width": null,
      "min_height": null,
      "min_width": null,
      "object_fit": null,
      "object_position": null,
      "order": null,
      "overflow": null,
      "overflow_x": null,
      "overflow_y": null,
      "padding": null,
      "right": null,
      "top": null,
      "visibility": null,
      "width": null
     }
    },
    "e1b783651a4147fa866b20fb5eecabfe": {
     "model_module": "@jupyter-widgets/base",
     "model_module_version": "1.2.0",
     "model_name": "LayoutModel",
     "state": {
      "_model_module": "@jupyter-widgets/base",
      "_model_module_version": "1.2.0",
      "_model_name": "LayoutModel",
      "_view_count": null,
      "_view_module": "@jupyter-widgets/base",
      "_view_module_version": "1.2.0",
      "_view_name": "LayoutView",
      "align_content": null,
      "align_items": null,
      "align_self": null,
      "border": null,
      "bottom": null,
      "display": null,
      "flex": null,
      "flex_flow": null,
      "grid_area": null,
      "grid_auto_columns": null,
      "grid_auto_flow": null,
      "grid_auto_rows": null,
      "grid_column": null,
      "grid_gap": null,
      "grid_row": null,
      "grid_template_areas": null,
      "grid_template_columns": null,
      "grid_template_rows": null,
      "height": null,
      "justify_content": null,
      "justify_items": null,
      "left": null,
      "margin": null,
      "max_height": null,
      "max_width": null,
      "min_height": null,
      "min_width": null,
      "object_fit": null,
      "object_position": null,
      "order": null,
      "overflow": null,
      "overflow_x": null,
      "overflow_y": null,
      "padding": null,
      "right": null,
      "top": null,
      "visibility": null,
      "width": null
     }
    },
    "e26fa03ae9bd4f8ebb9f9d5cbe820bac": {
     "model_module": "@jupyter-widgets/controls",
     "model_module_version": "1.5.0",
     "model_name": "ProgressStyleModel",
     "state": {
      "_model_module": "@jupyter-widgets/controls",
      "_model_module_version": "1.5.0",
      "_model_name": "ProgressStyleModel",
      "_view_count": null,
      "_view_module": "@jupyter-widgets/base",
      "_view_module_version": "1.2.0",
      "_view_name": "StyleView",
      "bar_color": null,
      "description_width": ""
     }
    },
    "e4536434d07a4c74a479094d43f20d5c": {
     "model_module": "@jupyter-widgets/base",
     "model_module_version": "1.2.0",
     "model_name": "LayoutModel",
     "state": {
      "_model_module": "@jupyter-widgets/base",
      "_model_module_version": "1.2.0",
      "_model_name": "LayoutModel",
      "_view_count": null,
      "_view_module": "@jupyter-widgets/base",
      "_view_module_version": "1.2.0",
      "_view_name": "LayoutView",
      "align_content": null,
      "align_items": null,
      "align_self": null,
      "border": null,
      "bottom": null,
      "display": null,
      "flex": null,
      "flex_flow": null,
      "grid_area": null,
      "grid_auto_columns": null,
      "grid_auto_flow": null,
      "grid_auto_rows": null,
      "grid_column": null,
      "grid_gap": null,
      "grid_row": null,
      "grid_template_areas": null,
      "grid_template_columns": null,
      "grid_template_rows": null,
      "height": null,
      "justify_content": null,
      "justify_items": null,
      "left": null,
      "margin": null,
      "max_height": null,
      "max_width": null,
      "min_height": null,
      "min_width": null,
      "object_fit": null,
      "object_position": null,
      "order": null,
      "overflow": null,
      "overflow_x": null,
      "overflow_y": null,
      "padding": null,
      "right": null,
      "top": null,
      "visibility": null,
      "width": null
     }
    },
    "e4e23d0c47a0465cbca362d06415e5a3": {
     "model_module": "@jupyter-widgets/controls",
     "model_module_version": "1.5.0",
     "model_name": "HTMLModel",
     "state": {
      "_dom_classes": [],
      "_model_module": "@jupyter-widgets/controls",
      "_model_module_version": "1.5.0",
      "_model_name": "HTMLModel",
      "_view_count": null,
      "_view_module": "@jupyter-widgets/controls",
      "_view_module_version": "1.5.0",
      "_view_name": "HTMLView",
      "description": "",
      "description_tooltip": null,
      "layout": "IPY_MODEL_259799276ddf4c798a53face1c40c7b4",
      "placeholder": "​",
      "style": "IPY_MODEL_43f0102ed0fb4e87988bd8cfb457df8a",
      "value": " 50/50 (100.0%) | ⏳ 02:11&lt;00:00 |  1.80s/it"
     }
    },
    "e524e6c27a8347e0914514f9198aad0e": {
     "model_module": "@jupyter-widgets/controls",
     "model_module_version": "1.5.0",
     "model_name": "DescriptionStyleModel",
     "state": {
      "_model_module": "@jupyter-widgets/controls",
      "_model_module_version": "1.5.0",
      "_model_name": "DescriptionStyleModel",
      "_view_count": null,
      "_view_module": "@jupyter-widgets/base",
      "_view_module_version": "1.2.0",
      "_view_name": "StyleView",
      "description_width": ""
     }
    },
    "e5b6db55d7df4cb5af38d0249f8be20e": {
     "model_module": "@jupyter-widgets/controls",
     "model_module_version": "1.5.0",
     "model_name": "HTMLModel",
     "state": {
      "_dom_classes": [],
      "_model_module": "@jupyter-widgets/controls",
      "_model_module_version": "1.5.0",
      "_model_name": "HTMLModel",
      "_view_count": null,
      "_view_module": "@jupyter-widgets/controls",
      "_view_module_version": "1.5.0",
      "_view_name": "HTMLView",
      "description": "",
      "description_tooltip": null,
      "layout": "IPY_MODEL_52fcfb62da9d44beafafbc022d54dbc4",
      "placeholder": "​",
      "style": "IPY_MODEL_4e824d22017a4953a26cb60b547a0aea",
      "value": "llm_classify "
     }
    },
    "e788e482453848e699614e1a2ea8ce17": {
     "model_module": "@jupyter-widgets/controls",
     "model_module_version": "1.5.0",
     "model_name": "FloatProgressModel",
     "state": {
      "_dom_classes": [],
      "_model_module": "@jupyter-widgets/controls",
      "_model_module_version": "1.5.0",
      "_model_name": "FloatProgressModel",
      "_view_count": null,
      "_view_module": "@jupyter-widgets/controls",
      "_view_module_version": "1.5.0",
      "_view_name": "ProgressView",
      "bar_style": "success",
      "description": "",
      "description_tooltip": null,
      "layout": "IPY_MODEL_7aafbc8af83f4292adb446ec8b73b46c",
      "max": 50,
      "min": 0,
      "orientation": "horizontal",
      "style": "IPY_MODEL_1cf7742a5b004f7d8b7356d76fd1e9a9",
      "value": 50
     }
    },
    "ea1b7ba097154e879d29d230922d821a": {
     "model_module": "@jupyter-widgets/controls",
     "model_module_version": "1.5.0",
     "model_name": "HBoxModel",
     "state": {
      "_dom_classes": [],
      "_model_module": "@jupyter-widgets/controls",
      "_model_module_version": "1.5.0",
      "_model_name": "HBoxModel",
      "_view_count": null,
      "_view_module": "@jupyter-widgets/controls",
      "_view_module_version": "1.5.0",
      "_view_name": "HBoxView",
      "box_style": "",
      "children": [
       "IPY_MODEL_b3f12ad80d924c4ab32b2b3eb6fdfb03",
       "IPY_MODEL_e788e482453848e699614e1a2ea8ce17",
       "IPY_MODEL_b6d15b41ff2a4f01bb593c1a75b84ccf"
      ],
      "layout": "IPY_MODEL_c23168f9f0b04609827cd8a784d93892"
     }
    },
    "ed537e5b73624bf480d1624af1e86676": {
     "model_module": "@jupyter-widgets/controls",
     "model_module_version": "1.5.0",
     "model_name": "ProgressStyleModel",
     "state": {
      "_model_module": "@jupyter-widgets/controls",
      "_model_module_version": "1.5.0",
      "_model_name": "ProgressStyleModel",
      "_view_count": null,
      "_view_module": "@jupyter-widgets/base",
      "_view_module_version": "1.2.0",
      "_view_name": "StyleView",
      "bar_color": null,
      "description_width": ""
     }
    },
    "f4c214b6301149d4aba656a9b4a517aa": {
     "model_module": "@jupyter-widgets/base",
     "model_module_version": "1.2.0",
     "model_name": "LayoutModel",
     "state": {
      "_model_module": "@jupyter-widgets/base",
      "_model_module_version": "1.2.0",
      "_model_name": "LayoutModel",
      "_view_count": null,
      "_view_module": "@jupyter-widgets/base",
      "_view_module_version": "1.2.0",
      "_view_name": "LayoutView",
      "align_content": null,
      "align_items": null,
      "align_self": null,
      "border": null,
      "bottom": null,
      "display": null,
      "flex": null,
      "flex_flow": null,
      "grid_area": null,
      "grid_auto_columns": null,
      "grid_auto_flow": null,
      "grid_auto_rows": null,
      "grid_column": null,
      "grid_gap": null,
      "grid_row": null,
      "grid_template_areas": null,
      "grid_template_columns": null,
      "grid_template_rows": null,
      "height": null,
      "justify_content": null,
      "justify_items": null,
      "left": null,
      "margin": null,
      "max_height": null,
      "max_width": null,
      "min_height": null,
      "min_width": null,
      "object_fit": null,
      "object_position": null,
      "order": null,
      "overflow": null,
      "overflow_x": null,
      "overflow_y": null,
      "padding": null,
      "right": null,
      "top": null,
      "visibility": null,
      "width": null
     }
    },
    "f57ab92bec5d4b798594575d9ef24c7a": {
     "model_module": "@jupyter-widgets/controls",
     "model_module_version": "1.5.0",
     "model_name": "ProgressStyleModel",
     "state": {
      "_model_module": "@jupyter-widgets/controls",
      "_model_module_version": "1.5.0",
      "_model_name": "ProgressStyleModel",
      "_view_count": null,
      "_view_module": "@jupyter-widgets/base",
      "_view_module_version": "1.2.0",
      "_view_name": "StyleView",
      "bar_color": null,
      "description_width": ""
     }
    },
    "f61ee3f4378a4aa38353dbd0f4b43a7e": {
     "model_module": "@jupyter-widgets/controls",
     "model_module_version": "1.5.0",
     "model_name": "FloatProgressModel",
     "state": {
      "_dom_classes": [],
      "_model_module": "@jupyter-widgets/controls",
      "_model_module_version": "1.5.0",
      "_model_name": "FloatProgressModel",
      "_view_count": null,
      "_view_module": "@jupyter-widgets/controls",
      "_view_module_version": "1.5.0",
      "_view_name": "ProgressView",
      "bar_style": "",
      "description": "",
      "description_tooltip": null,
      "layout": "IPY_MODEL_c34e0528975a4afb887145a3be970451",
      "max": 50,
      "min": 0,
      "orientation": "horizontal",
      "style": "IPY_MODEL_e26fa03ae9bd4f8ebb9f9d5cbe820bac",
      "value": 50
     }
    },
    "f687228d0a7d452096012549713cd56a": {
     "model_module": "@jupyter-widgets/base",
     "model_module_version": "1.2.0",
     "model_name": "LayoutModel",
     "state": {
      "_model_module": "@jupyter-widgets/base",
      "_model_module_version": "1.2.0",
      "_model_name": "LayoutModel",
      "_view_count": null,
      "_view_module": "@jupyter-widgets/base",
      "_view_module_version": "1.2.0",
      "_view_name": "LayoutView",
      "align_content": null,
      "align_items": null,
      "align_self": null,
      "border": null,
      "bottom": null,
      "display": null,
      "flex": null,
      "flex_flow": null,
      "grid_area": null,
      "grid_auto_columns": null,
      "grid_auto_flow": null,
      "grid_auto_rows": null,
      "grid_column": null,
      "grid_gap": null,
      "grid_row": null,
      "grid_template_areas": null,
      "grid_template_columns": null,
      "grid_template_rows": null,
      "height": null,
      "justify_content": null,
      "justify_items": null,
      "left": null,
      "margin": null,
      "max_height": null,
      "max_width": null,
      "min_height": null,
      "min_width": null,
      "object_fit": null,
      "object_position": null,
      "order": null,
      "overflow": null,
      "overflow_x": null,
      "overflow_y": null,
      "padding": null,
      "right": null,
      "top": null,
      "visibility": null,
      "width": null
     }
    },
    "f74a72240e4e4753b961568df195527c": {
     "model_module": "@jupyter-widgets/controls",
     "model_module_version": "1.5.0",
     "model_name": "ProgressStyleModel",
     "state": {
      "_model_module": "@jupyter-widgets/controls",
      "_model_module_version": "1.5.0",
      "_model_name": "ProgressStyleModel",
      "_view_count": null,
      "_view_module": "@jupyter-widgets/base",
      "_view_module_version": "1.2.0",
      "_view_name": "StyleView",
      "bar_color": null,
      "description_width": ""
     }
    },
    "f803cf097a8f4259aae20838f3455c48": {
     "model_module": "@jupyter-widgets/base",
     "model_module_version": "1.2.0",
     "model_name": "LayoutModel",
     "state": {
      "_model_module": "@jupyter-widgets/base",
      "_model_module_version": "1.2.0",
      "_model_name": "LayoutModel",
      "_view_count": null,
      "_view_module": "@jupyter-widgets/base",
      "_view_module_version": "1.2.0",
      "_view_name": "LayoutView",
      "align_content": null,
      "align_items": null,
      "align_self": null,
      "border": null,
      "bottom": null,
      "display": null,
      "flex": null,
      "flex_flow": null,
      "grid_area": null,
      "grid_auto_columns": null,
      "grid_auto_flow": null,
      "grid_auto_rows": null,
      "grid_column": null,
      "grid_gap": null,
      "grid_row": null,
      "grid_template_areas": null,
      "grid_template_columns": null,
      "grid_template_rows": null,
      "height": null,
      "justify_content": null,
      "justify_items": null,
      "left": null,
      "margin": null,
      "max_height": null,
      "max_width": null,
      "min_height": null,
      "min_width": null,
      "object_fit": null,
      "object_position": null,
      "order": null,
      "overflow": null,
      "overflow_x": null,
      "overflow_y": null,
      "padding": null,
      "right": null,
      "top": null,
      "visibility": null,
      "width": null
     }
    },
    "f93e704141414d3d8c8091042c041580": {
     "model_module": "@jupyter-widgets/base",
     "model_module_version": "1.2.0",
     "model_name": "LayoutModel",
     "state": {
      "_model_module": "@jupyter-widgets/base",
      "_model_module_version": "1.2.0",
      "_model_name": "LayoutModel",
      "_view_count": null,
      "_view_module": "@jupyter-widgets/base",
      "_view_module_version": "1.2.0",
      "_view_name": "LayoutView",
      "align_content": null,
      "align_items": null,
      "align_self": null,
      "border": null,
      "bottom": null,
      "display": null,
      "flex": null,
      "flex_flow": null,
      "grid_area": null,
      "grid_auto_columns": null,
      "grid_auto_flow": null,
      "grid_auto_rows": null,
      "grid_column": null,
      "grid_gap": null,
      "grid_row": null,
      "grid_template_areas": null,
      "grid_template_columns": null,
      "grid_template_rows": null,
      "height": null,
      "justify_content": null,
      "justify_items": null,
      "left": null,
      "margin": null,
      "max_height": null,
      "max_width": null,
      "min_height": null,
      "min_width": null,
      "object_fit": null,
      "object_position": null,
      "order": null,
      "overflow": null,
      "overflow_x": null,
      "overflow_y": null,
      "padding": null,
      "right": null,
      "top": null,
      "visibility": null,
      "width": null
     }
    },
    "fa79e4e6ddc64c2a9e87464c8a076e67": {
     "model_module": "@jupyter-widgets/controls",
     "model_module_version": "1.5.0",
     "model_name": "HBoxModel",
     "state": {
      "_dom_classes": [],
      "_model_module": "@jupyter-widgets/controls",
      "_model_module_version": "1.5.0",
      "_model_name": "HBoxModel",
      "_view_count": null,
      "_view_module": "@jupyter-widgets/controls",
      "_view_module_version": "1.5.0",
      "_view_name": "HBoxView",
      "box_style": "",
      "children": [
       "IPY_MODEL_defa0c8ed69344129ad0cd962e4c20f0",
       "IPY_MODEL_6dd47116d86248e780fdf3170d02b3f4",
       "IPY_MODEL_5caf184743c04502ab8eac7a6f48b6f9"
      ],
      "layout": "IPY_MODEL_430008144a9d44a9a29237dca8885438"
     }
    },
    "fbc42198b5d245af88129d4219e5f378": {
     "model_module": "@jupyter-widgets/base",
     "model_module_version": "1.2.0",
     "model_name": "LayoutModel",
     "state": {
      "_model_module": "@jupyter-widgets/base",
      "_model_module_version": "1.2.0",
      "_model_name": "LayoutModel",
      "_view_count": null,
      "_view_module": "@jupyter-widgets/base",
      "_view_module_version": "1.2.0",
      "_view_name": "LayoutView",
      "align_content": null,
      "align_items": null,
      "align_self": null,
      "border": null,
      "bottom": null,
      "display": null,
      "flex": null,
      "flex_flow": null,
      "grid_area": null,
      "grid_auto_columns": null,
      "grid_auto_flow": null,
      "grid_auto_rows": null,
      "grid_column": null,
      "grid_gap": null,
      "grid_row": null,
      "grid_template_areas": null,
      "grid_template_columns": null,
      "grid_template_rows": null,
      "height": null,
      "justify_content": null,
      "justify_items": null,
      "left": null,
      "margin": null,
      "max_height": null,
      "max_width": null,
      "min_height": null,
      "min_width": null,
      "object_fit": null,
      "object_position": null,
      "order": null,
      "overflow": null,
      "overflow_x": null,
      "overflow_y": null,
      "padding": null,
      "right": null,
      "top": null,
      "visibility": null,
      "width": null
     }
    },
    "fbf4a09ce2874928aae53999d6a2b61d": {
     "model_module": "@jupyter-widgets/controls",
     "model_module_version": "1.5.0",
     "model_name": "DescriptionStyleModel",
     "state": {
      "_model_module": "@jupyter-widgets/controls",
      "_model_module_version": "1.5.0",
      "_model_name": "DescriptionStyleModel",
      "_view_count": null,
      "_view_module": "@jupyter-widgets/base",
      "_view_module_version": "1.2.0",
      "_view_name": "StyleView",
      "description_width": ""
     }
    },
    "fc3ad5d3770f4f8e90c6e462de5c2baf": {
     "model_module": "@jupyter-widgets/controls",
     "model_module_version": "1.5.0",
     "model_name": "HBoxModel",
     "state": {
      "_dom_classes": [],
      "_model_module": "@jupyter-widgets/controls",
      "_model_module_version": "1.5.0",
      "_model_name": "HBoxModel",
      "_view_count": null,
      "_view_module": "@jupyter-widgets/controls",
      "_view_module_version": "1.5.0",
      "_view_name": "HBoxView",
      "box_style": "",
      "children": [
       "IPY_MODEL_40344a77df6c494ba4c59f7eb7daf93b",
       "IPY_MODEL_b692112089fb48b597501fd41d7e9309",
       "IPY_MODEL_1b4b2a157d044070b6ff12fc5b231975"
      ],
      "layout": "IPY_MODEL_0913c48176864a348d0afea6621f7734"
     }
    },
    "fd3a8aae6c534807a97dd847ddbdb366": {
     "model_module": "@jupyter-widgets/controls",
     "model_module_version": "1.5.0",
     "model_name": "FloatProgressModel",
     "state": {
      "_dom_classes": [],
      "_model_module": "@jupyter-widgets/controls",
      "_model_module_version": "1.5.0",
      "_model_name": "FloatProgressModel",
      "_view_count": null,
      "_view_module": "@jupyter-widgets/controls",
      "_view_module_version": "1.5.0",
      "_view_name": "ProgressView",
      "bar_style": "success",
      "description": "",
      "description_tooltip": null,
      "layout": "IPY_MODEL_60a9f2dc59b14b25b5190b6b50584da4",
      "max": 50,
      "min": 0,
      "orientation": "horizontal",
      "style": "IPY_MODEL_a291959d1510476990768f5c571e8340",
      "value": 50
     }
    },
    "ff8f32a4c18a48e8b8eadafd53232799": {
     "model_module": "@jupyter-widgets/base",
     "model_module_version": "1.2.0",
     "model_name": "LayoutModel",
     "state": {
      "_model_module": "@jupyter-widgets/base",
      "_model_module_version": "1.2.0",
      "_model_name": "LayoutModel",
      "_view_count": null,
      "_view_module": "@jupyter-widgets/base",
      "_view_module_version": "1.2.0",
      "_view_name": "LayoutView",
      "align_content": null,
      "align_items": null,
      "align_self": null,
      "border": null,
      "bottom": null,
      "display": null,
      "flex": null,
      "flex_flow": null,
      "grid_area": null,
      "grid_auto_columns": null,
      "grid_auto_flow": null,
      "grid_auto_rows": null,
      "grid_column": null,
      "grid_gap": null,
      "grid_row": null,
      "grid_template_areas": null,
      "grid_template_columns": null,
      "grid_template_rows": null,
      "height": null,
      "justify_content": null,
      "justify_items": null,
      "left": null,
      "margin": null,
      "max_height": null,
      "max_width": null,
      "min_height": null,
      "min_width": null,
      "object_fit": null,
      "object_position": null,
      "order": null,
      "overflow": null,
      "overflow_x": null,
      "overflow_y": null,
      "padding": null,
      "right": null,
      "top": null,
      "visibility": null,
      "width": null
     }
    }
   }
  }
 },
 "nbformat": 4,
 "nbformat_minor": 0
}