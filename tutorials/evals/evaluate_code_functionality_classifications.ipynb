{
  "cells": [
    {
      "cell_type": "markdown",
      "metadata": {
        "id": "xjgDyfmL6hB_"
      },
      "source": [
        "<center>\n",
        "    <p style=\"text-align:center\">\n",
        "        <img alt=\"phoenix logo\" src=\"https://storage.googleapis.com/arize-assets/phoenix/assets/phoenix-logo-light.svg\" width=\"200\"/>\n",
        "        <br>\n",
        "        <a href=\"https://docs.arize.com/phoenix/\">Docs</a>\n",
        "        |\n",
        "        <a href=\"https://github.com/Arize-ai/phoenix\">GitHub</a>\n",
        "        |\n",
        "        <a href=\"https://join.slack.com/t/arize-ai/shared_invite/zt-1px8dcmlf-fmThhDFD_V_48oU7ALan4Q\">Community</a>\n",
        "    </p>\n",
        "</center>\n",
        "<h1 align=\"center\">Code Functionality  Evals</h1>\n",
        "\n",
        "\n",
        "This tests whether code is written correctly, without bugs, accomplishes the functionality you want, does not have syntax errors.\n",
        "\n",
        "The purpose of this notebook is:\n",
        "\n",
        "- to evaluate the performance of code fuctionality Eval\n",
        "- to provide an experimental framework for users to iterate and improve on the default classification template.\n",
        "\n",
        "## Install Dependencies and Import Libraries"
      ]
    },
    {
      "cell_type": "code",
      "execution_count": 8,
      "metadata": {
        "id": "R8pDe5eG6hCJ"
      },
      "outputs": [],
      "source": [
        "#!pip install -qq \"arize-phoenix[experimental]\" \"openai>=1\" ipython matplotlib pycm scikit-learn tiktoken nest_asyncio"
      ]
    },
    {
      "cell_type": "markdown",
      "metadata": {
        "id": "h2ctpohg6hCK"
      },
      "source": [
        "ℹ️ To enable async request submission in notebook environments like Jupyter or Google Colab, optionally use `nest_asyncio`. `nest_asyncio` globally patches `asyncio` to enable event loops to be re-entrant. This is not required for non-notebook environments.\n",
        "\n",
        "Without `nest_asyncio`, eval submission can be much slower, depending on your organization's rate limits. Speed increases of about 5x are typical."
      ]
    },
    {
      "cell_type": "code",
      "execution_count": 9,
      "metadata": {
        "id": "WHnAJf1g6hCL"
      },
      "outputs": [],
      "source": [
        "import nest_asyncio\n",
        "\n",
        "nest_asyncio.apply()"
      ]
    },
    {
      "cell_type": "code",
      "execution_count": 10,
      "metadata": {
        "id": "0bNZhOO46hCL"
      },
      "outputs": [],
      "source": [
        "import os\n",
        "from getpass import getpass\n",
        "\n",
        "import matplotlib.pyplot as plt\n",
        "import pandas as pd\n",
        "from phoenix.experimental.evals import (\n",
        "    CODE_FUNCTIONALITY_PROMPT_TEMPLATE,\n",
        "    CODE_FUNCTIONALITY_PROMPT_RAILS_MAP,\n",
        "    OpenAIModel,\n",
        "    download_benchmark_dataset,\n",
        "    llm_classify,\n",
        ")\n",
        "from pycm import ConfusionMatrix\n",
        "from sklearn.metrics import classification_report\n",
        "\n",
        "pd.set_option(\"display.max_colwidth\", None)"
      ]
    },
    {
      "cell_type": "markdown",
      "metadata": {
        "id": "mvrJ8sQK6hCM"
      },
      "source": [
        "## Download Benchmark Dataset\n",
        "\n",
        "TODO"
      ]
    },
    {
      "cell_type": "code",
      "execution_count": 11,
      "metadata": {
        "colab": {
          "base_uri": "https://localhost:8080/",
          "height": 501
        },
        "id": "o-BbInt76hCN",
        "outputId": "b025c49f-a548-4dc4-ff8b-172c2a56b88c"
      },
      "outputs": [
        {
          "data": {
            "text/html": [
              "<div>\n",
              "<style scoped>\n",
              "    .dataframe tbody tr th:only-of-type {\n",
              "        vertical-align: middle;\n",
              "    }\n",
              "\n",
              "    .dataframe tbody tr th {\n",
              "        vertical-align: top;\n",
              "    }\n",
              "\n",
              "    .dataframe thead th {\n",
              "        text-align: right;\n",
              "    }\n",
              "</style>\n",
              "<table border=\"1\" class=\"dataframe\">\n",
              "  <thead>\n",
              "    <tr style=\"text-align: right;\">\n",
              "      <th></th>\n",
              "      <th>coding_instruction</th>\n",
              "      <th>code</th>\n",
              "      <th>is_well_coded</th>\n",
              "    </tr>\n",
              "  </thead>\n",
              "  <tbody>\n",
              "    <tr>\n",
              "      <th>0</th>\n",
              "      <td>Create a neural network in Python from scratch that takes a 2D array of numbers as its input and predicts the sum of the numbers in each row.</td>\n",
              "      <td>import numpy as np\\n\\nclass NeuralNetwork:\\n    def __init__(self, input_size):\\n        self.weights = np.random.rand(input_size, 1)\\n        self.bias = np.random.rand(1, 1)\\n\\n    def predict(self, X):\\n        return np.dot(X, self.weights) + self.bias\\n\\n# Example Usage:\\ninput_data = np.array([[1, 2, 3], [4, 5, 6], [7, 8, 9]])\\nnn = NeuralNetwork(input_size=input_data.shape[1])\\npredictions = nn.predict(input_data)\\nprint(predictions)</td>\n",
              "      <td>True</td>\n",
              "    </tr>\n",
              "    <tr>\n",
              "      <th>1</th>\n",
              "      <td>Generate a Python program to find the mode of the given list.</td>\n",
              "      <td>from statistics import mode\\n\\ndef find_mode(input_list):\\n    try:\\n        result = mode(input_list)\\n        return result\\n    except StatisticsError:\\n        return \"No unique mode found\"\\n\\n# Example Usage:\\ndata_list = [1, 2, 2, 3, 4, 4, 5]\\nmode_result = find_mode(data_list)\\nprint(mode_result)</td>\n",
              "      <td>True</td>\n",
              "    </tr>\n",
              "    <tr>\n",
              "      <th>2</th>\n",
              "      <td>Develop a text summarizer in Python that takes a text input and returns a summary of the text in two sentences.</td>\n",
              "      <td>from nltk import sent_tokenize\\nfrom nltk.corpus import stopwords\\nfrom nltk.stem import PorterStemmer\\nfrom sklearn.feature_extraction.text import TfidfVectorizer\\nfrom sklearn.metrics.pairwise import cosine_similarity\\n\\ndef text_summarizer(text):\\n    sentences = sent_tokenize(text)\\n    stop_words = set(stopwords.words('english'))\\n    vectorizer = TfidfVectorizer()\\n    ps = PorterStemmer()\\n\\n    def preprocess_sentence(sentence):\\n        words = [ps.stem(word) for word in sentence.split() if word.lower() not in stop_words]\\n        return ' '.join(words)\\n\\n    preprocessed_sentences = [preprocess_sentence(sentence) for sentence in sentences]\\n\\n    try:\\n        tfidf_matrix = vectorizer.fit_transform(preprocessed_sentences)\\n        sentence_similarity = cosine_similarity(tfidf_matrix, tfidf_matrix)\\n    except ValueError:\\n        return \"Input text is too short for summarization.\"\\n\\n    sentence_scores = [(index, sum(sentence_similarity[index])) for index in range(len(sentences))]\\n    sentence_scores = sorted(sentence_scores, key=lambda x: x[1], reverse=True)\\n\\n    summary_sentences = [sentences[score[0]] for score in sentence_scores[:2]]\\n    summary = ' '.join(summary_sentences)\\n\\n    return summary\\n\\n# Example Usage:\\ninput_text = \"Your input text goes here. It should be a longer piece of text for meaningful summarization.\"\\nsummary_result = text_summarizer(input_text)\\nprint(summary_result)</td>\n",
              "      <td>True</td>\n",
              "    </tr>\n",
              "    <tr>\n",
              "      <th>3</th>\n",
              "      <td>Create a program in Python to generate random passwords of 8 characters.</td>\n",
              "      <td>import random\\nimport string\\n\\ndef generate_random_password():\\n    password_length = 8\\n    characters = string.ascii_letters + string.digits + string.punctuation\\n    password = ''.join(random.choice(characters) for i in range(password_length))\\n    return password\\n\\n# Example Usage:\\nrandom_password = generate_random_password()\\nprint(random_password)</td>\n",
              "      <td>True</td>\n",
              "    </tr>\n",
              "    <tr>\n",
              "      <th>4</th>\n",
              "      <td>Design a python program to replace every occurrence of a word in a string with another word.</td>\n",
              "      <td>def replace_word(string, word, replacement_word):\\n    return string.replace(word)\\n\\nprint(replace_word(\"Hello hello world!\", \"hello\", \"welcome\"))</td>\n",
              "      <td>False</td>\n",
              "    </tr>\n",
              "  </tbody>\n",
              "</table>\n",
              "</div>"
            ],
            "text/plain": [
              "                                                                                                                              coding_instruction  \\\n",
              "0  Create a neural network in Python from scratch that takes a 2D array of numbers as its input and predicts the sum of the numbers in each row.   \n",
              "1                                                                                  Generate a Python program to find the mode of the given list.   \n",
              "2                                Develop a text summarizer in Python that takes a text input and returns a summary of the text in two sentences.   \n",
              "3                                                                       Create a program in Python to generate random passwords of 8 characters.   \n",
              "4                                                   Design a python program to replace every occurrence of a word in a string with another word.   \n",
              "\n",
              "                                                                                                                                                                                                                                                                                                                                                                                                                                                                                                                                                                                                                                                                                                                                                                                                                                                                                                                                                                                                                                                                                                                                                                                                                                                                                                                                                                                                                                                                                         code  \\\n",
              "0                                                                                                                                                                                                                                                                                                                                                                                                                                                                                                                                                                                                                                                                                                                                                                                                                                                                                                                                                                                                                                import numpy as np\\n\\nclass NeuralNetwork:\\n    def __init__(self, input_size):\\n        self.weights = np.random.rand(input_size, 1)\\n        self.bias = np.random.rand(1, 1)\\n\\n    def predict(self, X):\\n        return np.dot(X, self.weights) + self.bias\\n\\n# Example Usage:\\ninput_data = np.array([[1, 2, 3], [4, 5, 6], [7, 8, 9]])\\nnn = NeuralNetwork(input_size=input_data.shape[1])\\npredictions = nn.predict(input_data)\\nprint(predictions)   \n",
              "1                                                                                                                                                                                                                                                                                                                                                                                                                                                                                                                                                                                                                                                                                                                                                                                                                                                                                                                                                                                                                                                                                                                                                                            from statistics import mode\\n\\ndef find_mode(input_list):\\n    try:\\n        result = mode(input_list)\\n        return result\\n    except StatisticsError:\\n        return \"No unique mode found\"\\n\\n# Example Usage:\\ndata_list = [1, 2, 2, 3, 4, 4, 5]\\nmode_result = find_mode(data_list)\\nprint(mode_result)   \n",
              "2  from nltk import sent_tokenize\\nfrom nltk.corpus import stopwords\\nfrom nltk.stem import PorterStemmer\\nfrom sklearn.feature_extraction.text import TfidfVectorizer\\nfrom sklearn.metrics.pairwise import cosine_similarity\\n\\ndef text_summarizer(text):\\n    sentences = sent_tokenize(text)\\n    stop_words = set(stopwords.words('english'))\\n    vectorizer = TfidfVectorizer()\\n    ps = PorterStemmer()\\n\\n    def preprocess_sentence(sentence):\\n        words = [ps.stem(word) for word in sentence.split() if word.lower() not in stop_words]\\n        return ' '.join(words)\\n\\n    preprocessed_sentences = [preprocess_sentence(sentence) for sentence in sentences]\\n\\n    try:\\n        tfidf_matrix = vectorizer.fit_transform(preprocessed_sentences)\\n        sentence_similarity = cosine_similarity(tfidf_matrix, tfidf_matrix)\\n    except ValueError:\\n        return \"Input text is too short for summarization.\"\\n\\n    sentence_scores = [(index, sum(sentence_similarity[index])) for index in range(len(sentences))]\\n    sentence_scores = sorted(sentence_scores, key=lambda x: x[1], reverse=True)\\n\\n    summary_sentences = [sentences[score[0]] for score in sentence_scores[:2]]\\n    summary = ' '.join(summary_sentences)\\n\\n    return summary\\n\\n# Example Usage:\\ninput_text = \"Your input text goes here. It should be a longer piece of text for meaningful summarization.\"\\nsummary_result = text_summarizer(input_text)\\nprint(summary_result)   \n",
              "3                                                                                                                                                                                                                                                                                                                                                                                                                                                                                                                                                                                                                                                                                                                                                                                                                                                                                                                                                                                                                                                                                                                      import random\\nimport string\\n\\ndef generate_random_password():\\n    password_length = 8\\n    characters = string.ascii_letters + string.digits + string.punctuation\\n    password = ''.join(random.choice(characters) for i in range(password_length))\\n    return password\\n\\n# Example Usage:\\nrandom_password = generate_random_password()\\nprint(random_password)   \n",
              "4                                                                                                                                                                                                                                                                                                                                                                                                                                                                                                                                                                                                                                                                                                                                                                                                                                                                                                                                                                                                                                                                                                                                                                                                                                                                                                                                         def replace_word(string, word, replacement_word):\\n    return string.replace(word)\\n\\nprint(replace_word(\"Hello hello world!\", \"hello\", \"welcome\"))   \n",
              "\n",
              "   is_well_coded  \n",
              "0           True  \n",
              "1           True  \n",
              "2           True  \n",
              "3           True  \n",
              "4          False  "
            ]
          },
          "execution_count": 11,
          "metadata": {},
          "output_type": "execute_result"
        }
      ],
      "source": [
        "df = pd.read_csv(\"https://storage.googleapis.com/arize-assets/phoenix/evals/code-functionality/validated_python_code_samples_2.csv\")\n",
        "\n",
        "df.head()"
      ]
    },
    {
      "cell_type": "markdown",
      "metadata": {
        "id": "khGGD8hN6hCP"
      },
      "source": [
        "\n",
        "\n",
        "```\n",
        "# This is formatted as code\n",
        "```\n",
        "\n",
        "## Display Code Functionality Classification Template\n",
        "\n",
        "View the default template used to code functionality. You can tweak this template and evaluate its performance relative to the default."
      ]
    },
    {
      "cell_type": "code",
      "execution_count": 12,
      "metadata": {
        "id": "gIexKX_j9IQy"
      },
      "outputs": [
        {
          "name": "stdout",
          "output_type": "stream",
          "text": [
            "OrderedDict([(True, 'bug_free'), (False, 'is_bug')])\n"
          ]
        }
      ],
      "source": [
        "print(CODE_FUNCTIONALITY_PROMPT_RAILS_MAP)"
      ]
    },
    {
      "cell_type": "code",
      "execution_count": 13,
      "metadata": {
        "colab": {
          "base_uri": "https://localhost:8080/"
        },
        "id": "x_gU5TFg6hCP",
        "outputId": "3177644a-7bb9-4a89-ccb2-04c2d46c503e"
      },
      "outputs": [
        {
          "name": "stdout",
          "output_type": "stream",
          "text": [
            "\n",
            "Code Evaluation Prompt:\n",
            "-----------------------\n",
            "Evaluate the provided code to determine its correctness in solving the given instruction.\n",
            "\n",
            "Data:\n",
            "-----\n",
            "[Instruction]: {coding_instruction}\n",
            "  Clearly define the task or problem that the code aims to address.\n",
            "\n",
            "[Reference Code]: {code}\n",
            "  Examine the submitted code for evaluation in the context of the provided instruction.\n",
            "\n",
            "Evaluation:\n",
            "-----------\n",
            "Provide a concise response with a single word: either \"bug_free\" or \"is_bug\".\n",
            "- \"bug_free\" signifies that the code correctly and efficiently solves the instruction with no bugs.\n",
            "- \"is_bug\" indicates that the code either fails to meet the instruction requirements or contains bugs.\n",
            "\n",
            "Example:\n",
            "-----------\n",
            "\n",
            "[Instruction]: Implement the Fibonacci sequence in Python.\n",
            "\n",
            "[Reference Code]: 'def fibonacci(n):\n",
            "    if n <= 1:\n",
            "        return n\n",
            "    else:\n",
            "        return fibonacci(n - 1) + fibonacci(n - 2)\n",
            "\n",
            "for i in range(10):\n",
            "    print(fibonacci(i))'\n",
            "\n",
            "[Output]: bug_free\n",
            "\n",
            "Note: Assumptions can be made that any code needed for the instruction is correct, and optimization is not a requirement for a correct solution. \n",
            "Your response should consist solely of the words \"bug_free\" or \"is_bug\" without additional text or characters.\n",
            "\n"
          ]
        }
      ],
      "source": [
        "print(CODE_FUNCTIONALITY_PROMPT_TEMPLATE)"
      ]
    },
    {
      "cell_type": "markdown",
      "metadata": {
        "id": "505OyTtx6hCQ"
      },
      "source": [
        "The template variables are:\n",
        "\n",
        "- **coding_instruction:** Instructions of code to write\n",
        "- **reference:** Code that was written (represents AI code for AI code generation): Note: these examples are hand created from a dataset\n",
        "- **is_well_coded :** Does it functionaliy do what was desired, is it bug free, no syntax errors "
      ]
    },
    {
      "cell_type": "markdown",
      "metadata": {
        "id": "cWTzktuj6hCQ"
      },
      "source": [
        "## Configure the LLM\n",
        "\n",
        "Configure your OpenAI API key."
      ]
    },
    {
      "cell_type": "code",
      "execution_count": 14,
      "metadata": {
        "id": "Hq-KlIVH6hCQ"
      },
      "outputs": [],
      "source": [
        "if not (openai_api_key := os.getenv(\"OPENAI_API_KEY\")):\n",
        "    openai_api_key = getpass(\"🔑 Enter your OpenAI API key: \")\n",
        "os.environ[\"OPENAI_API_KEY\"] = openai_api_key"
      ]
    },
    {
      "cell_type": "markdown",
      "metadata": {
        "id": "aNybVoRm6hCR"
      },
      "source": [
        "## Benchmark Dataset Sample\n",
        "Sample size determines run time\n",
        "Recommend iterating small: 100 samples\n",
        "Then increasing to large test set"
      ]
    },
    {
      "cell_type": "markdown",
      "metadata": {
        "id": "MSOJ9_2_6hCR"
      },
      "source": [
        "## LLM Evals: Code Functionality Classifications GPT-4\n",
        "Run Code Functionality against a subset of the data.\n",
        "Instantiate the LLM and set parameters."
      ]
    },
    {
      "cell_type": "code",
      "execution_count": 15,
      "metadata": {
        "id": "rQ4dZYfS6hCS"
      },
      "outputs": [],
      "source": [
        "model = OpenAIModel(\n",
        "    model_name=\"gpt-4\",\n",
        "    temperature=0.0,\n",
        ")"
      ]
    },
    {
      "cell_type": "code",
      "execution_count": 16,
      "metadata": {
        "colab": {
          "base_uri": "https://localhost:8080/",
          "height": 35
        },
        "id": "VeNgrhj16hCS",
        "outputId": "b73ae49a-1d06-4253-9102-4a1748672e52"
      },
      "outputs": [
        {
          "data": {
            "text/plain": [
              "\"Hello! I'm working perfectly. How can I assist you today?\""
            ]
          },
          "execution_count": 16,
          "metadata": {},
          "output_type": "execute_result"
        }
      ],
      "source": [
        "model(\"Hello world, this is a test if you are working?\")"
      ]
    },
    {
      "cell_type": "markdown",
      "metadata": {
        "id": "7oLPjvr36hCT"
      },
      "source": [
        "## Run Code Func Classifications\n",
        "\n",
        "Run code functionality classifications against a subset of the data."
      ]
    },
    {
      "cell_type": "code",
      "execution_count": 17,
      "metadata": {
        "colab": {
          "base_uri": "https://localhost:8080/",
          "height": 49,
          "referenced_widgets": [
            "c0bf7edf0714433cacd6295f8df8ecfd",
            "f651d744299742f396315025e7332f8b",
            "ab43496b8282441296f0ee5b9845341c",
            "64c2b6e77c20460ea32aa13af3c1d983",
            "37e2c2b9c4a14081b47edad41cc2a1e9",
            "ac8148add5e7430ba59ab2a63e078948",
            "64105662a4b2456e80af62a48c6a18ac",
            "ea97b3822df04632be317e583f5c6c90",
            "356736fd7e0d4af9a48cba556a503b46",
            "71edd0c1edfc4a3f831ebc1ee4f375fe",
            "253ca39603f9498b82df5167f0053f83"
          ]
        },
        "id": "Q2592lfO6hCU",
        "outputId": "71538975-1024-4133-9023-cc0cc3495140"
      },
      "outputs": [
        {
          "name": "stderr",
          "output_type": "stream",
          "text": [
            "llm_classify |██████████| 50/50 (100.0%) | ⏳ 00:11<00:00 |  4.41it/s\n"
          ]
        }
      ],
      "source": [
        "# The rails is used to hold the output to specific values based on the template\n",
        "# It will remove text such as \",,,\" or \"...\"\n",
        "# Will ensure the binary value expected from the template is returned\n",
        "rails = list(CODE_FUNCTIONALITY_PROMPT_RAILS_MAP.values())\n",
        "relevance_classifications = llm_classify(\n",
        "    dataframe=df,\n",
        "    template=CODE_FUNCTIONALITY_PROMPT_TEMPLATE,\n",
        "    model=model,\n",
        "    rails=rails,\n",
        "    concurrency=20,\n",
        ")[\"label\"].tolist()"
      ]
    },
    {
      "cell_type": "markdown",
      "metadata": {
        "id": "ImqyWlGw6hCV"
      },
      "source": [
        "## Evaluate Classifications\n",
        "\n",
        "Evaluate the predictions against human-labeled ground-truth code functionality labels."
      ]
    },
    {
      "cell_type": "code",
      "execution_count": 18,
      "metadata": {
        "colab": {
          "base_uri": "https://localhost:8080/",
          "height": 651
        },
        "id": "8Ls9n2S76hCW",
        "outputId": "2d706646-8fea-48f8-ce60-6270865bf94c"
      },
      "outputs": [
        {
          "name": "stdout",
          "output_type": "stream",
          "text": [
            "              precision    recall  f1-score   support\n",
            "\n",
            "    bug_free       0.96      0.77      0.86        31\n",
            "      is_bug       0.72      0.95      0.82        19\n",
            "\n",
            "    accuracy                           0.84        50\n",
            "   macro avg       0.84      0.86      0.84        50\n",
            "weighted avg       0.87      0.84      0.84        50\n",
            "\n"
          ]
        },
        {
          "data": {
            "text/plain": [
              "<Axes: title={'center': 'Confusion Matrix (Normalized)'}, xlabel='Predicted Classes', ylabel='Actual Classes'>"
            ]
          },
          "execution_count": 18,
          "metadata": {},
          "output_type": "execute_result"
        },
        {
          "data": {
            "image/png": "[encoded data removed]",
            "text/plain": [
              "<Figure size 640x480 with 2 Axes>"
            ]
          },
          "metadata": {},
          "output_type": "display_data"
        }
      ],
      "source": [
        "true_labels = df[\"is_well_coded\"].map(CODE_FUNCTIONALITY_PROMPT_RAILS_MAP).tolist()\n",
        "\n",
        "print(classification_report(true_labels, relevance_classifications, labels=rails))\n",
        "confusion_matrix = ConfusionMatrix(\n",
        "    actual_vector=true_labels, predict_vector=relevance_classifications, classes=rails\n",
        ")\n",
        "confusion_matrix.plot(\n",
        "    cmap=plt.colormaps[\"Blues\"],\n",
        "    number_label=True,\n",
        "    normalized=True,\n",
        ")"
      ]
    },
    {
      "cell_type": "markdown",
      "metadata": {
        "id": "w5ZJV1IC6hCX"
      },
      "source": [
        "## Classifications with explanations\n",
        "\n",
        "When evaluating a dataset for code functionality, it can be useful to know why the LLM classified a document as relevant or irrelevant. The following code block runs `llm_classify` with explanations turned on so that we can inspect why the LLM made the classification it did. There is speed tradeoff since more tokens is being generated but it can be highly informative when troubleshooting."
      ]
    },
    {
      "cell_type": "code",
      "execution_count": 19,
      "metadata": {
        "colab": {
          "base_uri": "https://localhost:8080/",
          "height": 873,
          "referenced_widgets": [
            "b26fcae79d684f81b1cd5d834fe33e3f",
            "b2f9a03aa8604fa2848fd83a1fc9d637",
            "d05d4ca8a0e04889a40fac35d55ac477",
            "e5fd230a19744d27a5a086975282dd15",
            "368150568aca44d2b211aa63a13a56a0",
            "091ca7b9a88040a1ab48850475457240",
            "4977bf42e0f94544ac303e04463256bc",
            "9f05807a873e41b08871d62315637682",
            "4647de4b4756446a8f900c264d97da5a",
            "b46c691554314dff8e71d13629095ac5",
            "199b38c1a70049b3b3875a1786172833"
          ]
        },
        "id": "DwS_xRu-6hCY",
        "outputId": "2a7eb4de-59b0-429e-a82c-441886e7542b"
      },
      "outputs": [
        {
          "name": "stdout",
          "output_type": "stream",
          "text": [
            "Using prompt:\n",
            "\n",
            "\n",
            "Code Evaluation Prompt:\n",
            "-----------------------\n",
            "Evaluate the provided code to determine its correctness in solving the given instruction.\n",
            "\n",
            "Data:\n",
            "-----\n",
            "[Instruction]: {coding_instruction}\n",
            "  Clearly define the task or problem that the code aims to address.\n",
            "\n",
            "[Reference Code]: {code}\n",
            "  Examine the submitted code for evaluation in the context of the provided instruction.\n",
            "\n",
            "Evaluation:\n",
            "-----------\n",
            "Provide a concise response with a single word: either \"bug_free\" or \"is_bug\".\n",
            "- \"bug_free\" signifies that the code correctly and efficiently solves the instruction with no bugs.\n",
            "- \"is_bug\" indicates that the code either fails to meet the instruction requirements or contains bugs.\n",
            "\n",
            "Example:\n",
            "-----------\n",
            "\n",
            "[Instruction]: Implement the Fibonacci sequence in Python.\n",
            "\n",
            "[Reference Code]: 'def fibonacci(n):\n",
            "    if n <= 1:\n",
            "        return n\n",
            "    else:\n",
            "        return fibonacci(n - 1) + fibonacci(n - 2)\n",
            "\n",
            "for i in range(10):\n",
            "    print(fibonacci(i))'\n",
            "\n",
            "[Output]: bug_free\n",
            "\n",
            "Note: Assumptions can be made that any code needed for the instruction is correct, and optimization is not a requirement for a correct solution. \n",
            "\n",
            "First, write out in a step by step manner an EXPLANATION to show how to determine if the code is 'bug_free' or 'is_bug'. \n",
            "Avoid simply stating the correct answer at the outset. \n",
            "You are then going to respond with a LABEL (a single word evaluation). \n",
            "If the code correctly solves the instruction with no bugs, then the code LABEL is \"bug_free\". \n",
            "If the code either fails to meet the instruction requirements or contains bugs, then the code LABEL is \"is_bug\".\n",
            "\n",
            "Example response:\n",
            "************\n",
            "EXPLANATION: An explanation of your reasoning for if the code is bug free \"bug_free\"\n",
            "or \"is_bug\" LABEL: \"bug_free\" or \"is_bug\"\n",
            "************\n",
            "\n",
            "EXPLANATION:\n",
            "\n",
            "\n",
            "OpenAI invocation parameters: {'model': 'gpt-4', 'temperature': 0.0, 'max_tokens': 256, 'frequency_penalty': 0, 'presence_penalty': 0, 'top_p': 1, 'n': 1, 'timeout': None}\n"
          ]
        },
        {
          "name": "stderr",
          "output_type": "stream",
          "text": [
            "llm_classify |██        | 1/5 (20.0%) | ⏳ 00:07<00:28 |  7.03s/it"
          ]
        },
        {
          "name": "stdout",
          "output_type": "stream",
          "text": [
            "- Snapped 'is_bug' to rail: is_bug\n"
          ]
        },
        {
          "name": "stderr",
          "output_type": "stream",
          "text": [
            "llm_classify |████      | 2/5 (40.0%) | ⏳ 00:12<00:17 |  5.86s/it "
          ]
        },
        {
          "name": "stdout",
          "output_type": "stream",
          "text": [
            "- Snapped 'bug_free' to rail: bug_free\n"
          ]
        },
        {
          "name": "stderr",
          "output_type": "stream",
          "text": [
            "llm_classify |██████    | 3/5 (60.0%) | ⏳ 00:13<00:07 |  3.62s/it "
          ]
        },
        {
          "name": "stdout",
          "output_type": "stream",
          "text": [
            "- Snapped 'is_bug' to rail: is_bug\n"
          ]
        },
        {
          "name": "stderr",
          "output_type": "stream",
          "text": [
            "llm_classify |████████  | 4/5 (80.0%) | ⏳ 00:18<00:04 |  4.25s/it "
          ]
        },
        {
          "name": "stdout",
          "output_type": "stream",
          "text": [
            "- Snapped 'bug_free' to rail: bug_free\n"
          ]
        },
        {
          "name": "stderr",
          "output_type": "stream",
          "text": [
            "llm_classify |██████████| 5/5 (100.0%) | ⏳ 00:19<00:00 |  3.23s/it"
          ]
        },
        {
          "name": "stdout",
          "output_type": "stream",
          "text": [
            "- Snapped 'bug_free' to rail: bug_free\n"
          ]
        },
        {
          "name": "stderr",
          "output_type": "stream",
          "text": [
            "llm_classify |██████████| 5/5 (100.0%) | ⏳ 00:20<00:00 |  4.13s/it\n"
          ]
        }
      ],
      "source": [
        "small_df_sample = df.copy().sample(n=5).reset_index(drop=True)\n",
        "relevance_classifications_df = llm_classify(\n",
        "    dataframe=small_df_sample,\n",
        "    template=CODE_FUNCTIONALITY_PROMPT_TEMPLATE,\n",
        "    model=model,\n",
        "    rails=rails,\n",
        "    provide_explanation=True,\n",
        "    verbose=True,\n",
        "    concurrency=20,\n",
        ")"
      ]
    },
    {
      "cell_type": "code",
      "execution_count": 20,
      "metadata": {
        "colab": {
          "base_uri": "https://localhost:8080/",
          "height": 727
        },
        "id": "Kz0R9iIO6hCY",
        "outputId": "5551ce99-e76d-4df4-e9d4-4556896cd1c8"
      },
      "outputs": [
        {
          "data": {
            "text/html": [
              "<div>\n",
              "<style scoped>\n",
              "    .dataframe tbody tr th:only-of-type {\n",
              "        vertical-align: middle;\n",
              "    }\n",
              "\n",
              "    .dataframe tbody tr th {\n",
              "        vertical-align: top;\n",
              "    }\n",
              "\n",
              "    .dataframe thead th {\n",
              "        text-align: right;\n",
              "    }\n",
              "</style>\n",
              "<table border=\"1\" class=\"dataframe\">\n",
              "  <thead>\n",
              "    <tr style=\"text-align: right;\">\n",
              "      <th></th>\n",
              "      <th>coding_instruction</th>\n",
              "      <th>code</th>\n",
              "      <th>label</th>\n",
              "      <th>explanation</th>\n",
              "    </tr>\n",
              "  </thead>\n",
              "  <tbody>\n",
              "    <tr>\n",
              "      <th>0</th>\n",
              "      <td>Generate a python program to normalize a list of values in the range 0 and 1</td>\n",
              "      <td>def normalize_list(input_list):\\n    min_val = min(input_list)\\n    max_val = max(input_list)\\n    output_list = []\\n    for value in input_list:\\n        normalized_value = (value - min_val) / (max_val - min_val)\\n        output_list.append(normalized_value)\\n    return output_list</td>\n",
              "      <td>bug_free</td>\n",
              "      <td>The provided Python code is designed to normalize a list of values in the range 0 and 1. The function 'normalize_list' takes an input list, finds the minimum and maximum values in the list, and then iterates over the list to calculate the normalized value for each element. The normalized value is calculated by subtracting the minimum value from the current value and dividing the result by the difference between the maximum and minimum values. This operation scales all values in the list to a range between 0 and 1, which is the desired outcome. The function then returns the list of normalized values. The code does not contain any syntax errors, and it correctly implements the normalization formula. Therefore, it should work as expected for any list of numerical values, assuming that the list is not empty and does not contain non-numerical values.</td>\n",
              "    </tr>\n",
              "    <tr>\n",
              "      <th>1</th>\n",
              "      <td>Design a polynomial class in Python that stores the coefficients of an n-th degree polynomial function.</td>\n",
              "      <td>class Polynomial: \\n    def __init__(self, coefficients): \\n        self.coefficients = coefficients\\n\\n    def __call__(self, x):\\n        result = 0\\n        for i, c in enumerate(self.coefficients):\\n            result = c * x**i\\n        return result</td>\n",
              "      <td>is_bug</td>\n",
              "      <td>The Polynomial class is designed to store the coefficients of an n-th degree polynomial function. However, the __call__ method, which is supposed to evaluate the polynomial at a given value of x, contains a bug. In the loop where it calculates the result, it should accumulate the result by adding to the previous result, not by assigning the new value to the result. In its current form, the method only returns the last term of the polynomial, not the sum of all terms.</td>\n",
              "    </tr>\n",
              "    <tr>\n",
              "      <th>2</th>\n",
              "      <td>Create a Python script that makes an HTTP request to retrieve data and convert it from JSON to a pandas DataFrame.</td>\n",
              "      <td>import requests\\nimport pandas as pd\\n\\nurl = 'https://example.com/api/data'\\n\\n# Make the request and get the response\\nresponse = requests.get(url)\\n\\n# Convert the JSON response to a python dictionary\\ndata = response.json()\\n\\n# Convert the dictionary to a pandas DataFrame\\ndf = pd.DataFrame(data)</td>\n",
              "      <td>bug_free</td>\n",
              "      <td>The provided Python script correctly makes an HTTP GET request to the specified URL using the requests library. It then converts the JSON response to a Python dictionary using the json() method of the response object. Finally, it converts the dictionary to a pandas DataFrame using the DataFrame() constructor of the pandas library. The code does not contain any syntax errors or logical bugs, and it correctly implements the task described in the instruction. However, it's important to note that the code does not handle potential exceptions that might occur during the execution, such as network errors, invalid JSON data, or issues with converting the data to a DataFrame. But since the instruction does not specify the need for error handling, we can consider this code as 'bug_free' in the context of the given instruction.</td>\n",
              "    </tr>\n",
              "    <tr>\n",
              "      <th>3</th>\n",
              "      <td>Generate a Python program to find the mode of the given list.</td>\n",
              "      <td>from statistics import mode\\n\\ndef find_mode(input_list):\\n    try:\\n        result = mode(input_list)\\n        return result\\n    except StatisticsError:\\n        return \"No unique mode found\"\\n\\n# Example Usage:\\ndata_list = [1, 2, 2, 3, 4, 4, 5]\\nmode_result = find_mode(data_list)\\nprint(mode_result)</td>\n",
              "      <td>bug_free</td>\n",
              "      <td>The provided Python code is intended to find the mode of a given list. The mode is the value that appears most frequently in a data set. The code uses the 'mode' function from the 'statistics' module in Python, which returns the single most common data point from the discrete or nominal data. If there is not exactly one most common value, it raises a StatisticsError. The code handles this exception and returns a message 'No unique mode found'. Therefore, the code correctly implements the task as per the instruction.</td>\n",
              "    </tr>\n",
              "    <tr>\n",
              "      <th>4</th>\n",
              "      <td>Write a Python program to accept user input as a string and check if the user input is a palindrome (a word, phrase, or sequence that reads the same backward as forward).</td>\n",
              "      <td>input_word = input(\"Enter a word: \")\\n\\ndef is_palindrome(word):\\n  word = word.lower()\\n  reversed_word = word[::2]\\n  if reversed_word == word:\\n    return True\\n  else:\\n    return False\\n  \\nprint(is_palindrome(input_word))</td>\n",
              "      <td>is_bug</td>\n",
              "      <td>The code is supposed to check if a word is a palindrome, meaning it reads the same forwards and backwards. The code correctly converts the input word to lowercase to ensure the comparison is case insensitive. However, the code incorrectly reverses the word using the slicing operation word[::2]. This operation does not reverse the word, but instead skips every other character. The correct operation to reverse a string in Python is word[::-1]. Therefore, the code will not correctly identify palindromes and is not bug free.</td>\n",
              "    </tr>\n",
              "  </tbody>\n",
              "</table>\n",
              "</div>"
            ],
            "text/plain": [
              "                                                                                                                                                           coding_instruction  \\\n",
              "0                                                                                                Generate a python program to normalize a list of values in the range 0 and 1   \n",
              "1                                                                     Design a polynomial class in Python that stores the coefficients of an n-th degree polynomial function.   \n",
              "2                                                          Create a Python script that makes an HTTP request to retrieve data and convert it from JSON to a pandas DataFrame.   \n",
              "3                                                                                                               Generate a Python program to find the mode of the given list.   \n",
              "4  Write a Python program to accept user input as a string and check if the user input is a palindrome (a word, phrase, or sequence that reads the same backward as forward).   \n",
              "\n",
              "                                                                                                                                                                                                                                                                                                               code  \\\n",
              "0                       def normalize_list(input_list):\\n    min_val = min(input_list)\\n    max_val = max(input_list)\\n    output_list = []\\n    for value in input_list:\\n        normalized_value = (value - min_val) / (max_val - min_val)\\n        output_list.append(normalized_value)\\n    return output_list   \n",
              "1                                                   class Polynomial: \\n    def __init__(self, coefficients): \\n        self.coefficients = coefficients\\n\\n    def __call__(self, x):\\n        result = 0\\n        for i, c in enumerate(self.coefficients):\\n            result = c * x**i\\n        return result   \n",
              "2    import requests\\nimport pandas as pd\\n\\nurl = 'https://example.com/api/data'\\n\\n# Make the request and get the response\\nresponse = requests.get(url)\\n\\n# Convert the JSON response to a python dictionary\\ndata = response.json()\\n\\n# Convert the dictionary to a pandas DataFrame\\ndf = pd.DataFrame(data)   \n",
              "3  from statistics import mode\\n\\ndef find_mode(input_list):\\n    try:\\n        result = mode(input_list)\\n        return result\\n    except StatisticsError:\\n        return \"No unique mode found\"\\n\\n# Example Usage:\\ndata_list = [1, 2, 2, 3, 4, 4, 5]\\nmode_result = find_mode(data_list)\\nprint(mode_result)   \n",
              "4                                                                               input_word = input(\"Enter a word: \")\\n\\ndef is_palindrome(word):\\n  word = word.lower()\\n  reversed_word = word[::2]\\n  if reversed_word == word:\\n    return True\\n  else:\\n    return False\\n  \\nprint(is_palindrome(input_word))   \n",
              "\n",
              "      label  \\\n",
              "0  bug_free   \n",
              "1    is_bug   \n",
              "2  bug_free   \n",
              "3  bug_free   \n",
              "4    is_bug   \n",
              "\n",
              "                                                                                                                                                                                                                                                                                                                                                                                                                                                                                                                                                                                                                                                                                                                                                                                                                                                                                 explanation  \n",
              "0  The provided Python code is designed to normalize a list of values in the range 0 and 1. The function 'normalize_list' takes an input list, finds the minimum and maximum values in the list, and then iterates over the list to calculate the normalized value for each element. The normalized value is calculated by subtracting the minimum value from the current value and dividing the result by the difference between the maximum and minimum values. This operation scales all values in the list to a range between 0 and 1, which is the desired outcome. The function then returns the list of normalized values. The code does not contain any syntax errors, and it correctly implements the normalization formula. Therefore, it should work as expected for any list of numerical values, assuming that the list is not empty and does not contain non-numerical values.  \n",
              "1                                                                                                                                                                                                                                                                                                                                                                                                    The Polynomial class is designed to store the coefficients of an n-th degree polynomial function. However, the __call__ method, which is supposed to evaluate the polynomial at a given value of x, contains a bug. In the loop where it calculates the result, it should accumulate the result by adding to the previous result, not by assigning the new value to the result. In its current form, the method only returns the last term of the polynomial, not the sum of all terms.  \n",
              "2                              The provided Python script correctly makes an HTTP GET request to the specified URL using the requests library. It then converts the JSON response to a Python dictionary using the json() method of the response object. Finally, it converts the dictionary to a pandas DataFrame using the DataFrame() constructor of the pandas library. The code does not contain any syntax errors or logical bugs, and it correctly implements the task described in the instruction. However, it's important to note that the code does not handle potential exceptions that might occur during the execution, such as network errors, invalid JSON data, or issues with converting the data to a DataFrame. But since the instruction does not specify the need for error handling, we can consider this code as 'bug_free' in the context of the given instruction.  \n",
              "3                                                                                                                                                                                                                                                                                                                                                  The provided Python code is intended to find the mode of a given list. The mode is the value that appears most frequently in a data set. The code uses the 'mode' function from the 'statistics' module in Python, which returns the single most common data point from the discrete or nominal data. If there is not exactly one most common value, it raises a StatisticsError. The code handles this exception and returns a message 'No unique mode found'. Therefore, the code correctly implements the task as per the instruction.  \n",
              "4                                                                                                                                                                                                                                                                                                                                             The code is supposed to check if a word is a palindrome, meaning it reads the same forwards and backwards. The code correctly converts the input word to lowercase to ensure the comparison is case insensitive. However, the code incorrectly reverses the word using the slicing operation word[::2]. This operation does not reverse the word, but instead skips every other character. The correct operation to reverse a string in Python is word[::-1]. Therefore, the code will not correctly identify palindromes and is not bug free.  "
            ]
          },
          "execution_count": 20,
          "metadata": {},
          "output_type": "execute_result"
        }
      ],
      "source": [
        "# Let's view the data\n",
        "merged_df = pd.merge(\n",
        "    small_df_sample, relevance_classifications_df, left_index=True, right_index=True\n",
        ")\n",
        "merged_df[[\"coding_instruction\", \"code\", \"label\", \"explanation\"]].head()"
      ]
    },
    {
      "cell_type": "markdown",
      "metadata": {
        "id": "cHNsvloA6hCZ"
      },
      "source": [
        "## LLM Evals: code functionality Classifications GPT-3.5 Turbo\n",
        "Run Code functionality against a subset of the data using GPT-3.5. GPT-3.5 can significantly speed up the classification process. However there are tradeoffs as  we will see below."
      ]
    },
    {
      "cell_type": "code",
      "execution_count": 21,
      "metadata": {
        "id": "jiQ9LvpU6hCZ"
      },
      "outputs": [],
      "source": [
        "model = OpenAIModel(model_name=\"gpt-3.5-turbo\", temperature=0.0, request_timeout=20)"
      ]
    },
    {
      "cell_type": "markdown",
      "metadata": {
        "id": "qn7yl3yZ6hCZ"
      },
      "source": []
    },
    {
      "cell_type": "code",
      "execution_count": 22,
      "metadata": {
        "colab": {
          "base_uri": "https://localhost:8080/",
          "height": 49,
          "referenced_widgets": [
            "ff32a8b777544169b36fb1bdb76fc2cd",
            "35bfe03f3c1847c29e9e1e21b2bb1318",
            "1e86750ccde54d4aa6670bdf859241c1",
            "ae2320e255434c1ca30315869fcf1c2c",
            "0bf70e3a03434e80acb0f4a272a834b2",
            "17be1db41b4c4c1b9d2d0cc7fffcf8da",
            "7d89dab32a534203845ff9a1a81ddd5c",
            "d36e9b21647c49c9890c030b2db66faa",
            "ffb1efd695434393b2866727cfbff013",
            "b059a016478244c88d4426009bc9c410",
            "c578cf15d20a4e85a2a88d18f4e24f4b"
          ]
        },
        "id": "uPSGto_B6hCZ",
        "outputId": "8a2062e6-8292-4e8d-849f-8d6214f144b9"
      },
      "outputs": [
        {
          "name": "stderr",
          "output_type": "stream",
          "text": [
            "llm_classify |██████████| 50/50 (100.0%) | ⏳ 00:11<00:00 |  4.43it/s\n"
          ]
        }
      ],
      "source": [
        "rails = list(CODE_FUNCTIONALITY_PROMPT_RAILS_MAP.values())\n",
        "relevance_classifications = llm_classify(\n",
        "    dataframe=df,\n",
        "    template=CODE_FUNCTIONALITY_PROMPT_TEMPLATE,\n",
        "    model=model,\n",
        "    rails=rails,\n",
        "    concurrency=20,\n",
        ")[\"label\"].tolist()"
      ]
    },
    {
      "cell_type": "code",
      "execution_count": 23,
      "metadata": {
        "colab": {
          "base_uri": "https://localhost:8080/",
          "height": 651
        },
        "id": "V6L35oYA6hCa",
        "outputId": "87179d4a-b836-42b5-bd18-eb41891f54ce"
      },
      "outputs": [
        {
          "name": "stdout",
          "output_type": "stream",
          "text": [
            "              precision    recall  f1-score   support\n",
            "\n",
            "    bug_free       0.82      0.90      0.86        31\n",
            "      is_bug       0.81      0.68      0.74        19\n",
            "\n",
            "    accuracy                           0.82        50\n",
            "   macro avg       0.82      0.79      0.80        50\n",
            "weighted avg       0.82      0.82      0.82        50\n",
            "\n"
          ]
        },
        {
          "data": {
            "text/plain": [
              "<Axes: title={'center': 'Confusion Matrix (Normalized)'}, xlabel='Predicted Classes', ylabel='Actual Classes'>"
            ]
          },
          "execution_count": 23,
          "metadata": {},
          "output_type": "execute_result"
        },
        {
          "data": {
            "image/png": "[encoded data removed]",
            "text/plain": [
              "<Figure size 640x480 with 2 Axes>"
            ]
          },
          "metadata": {},
          "output_type": "display_data"
        }
      ],
      "source": [
        "true_labels = df[\"is_well_coded\"].map(CODE_FUNCTIONALITY_PROMPT_RAILS_MAP).tolist()\n",
        "\n",
        "print(classification_report(true_labels, relevance_classifications, labels=rails))\n",
        "confusion_matrix = ConfusionMatrix(\n",
        "    actual_vector=true_labels, predict_vector=relevance_classifications, classes=rails\n",
        ")\n",
        "confusion_matrix.plot(\n",
        "    cmap=plt.colormaps[\"Blues\"],\n",
        "    number_label=True,\n",
        "    normalized=True,\n",
        ")"
      ]
    },
    {
      "cell_type": "markdown",
      "metadata": {
        "id": "zCu7LB4z6hCa"
      },
      "source": [
        "## Preview: Running with GPT-4 Turbo"
      ]
    },
    {
      "cell_type": "code",
      "execution_count": 24,
      "metadata": {
        "colab": {
          "base_uri": "https://localhost:8080/",
          "height": 49,
          "referenced_widgets": [
            "02fc9a2deab940c5977b03c385c30575",
            "b8bb99cd755b47ebb55ffc4050eccfab",
            "0b54918e838a4f8f8a25e8ae956e460a",
            "759eda72a4d14146b06a60ef0092c652",
            "2d194d7870a64a389110349d4ce1daa5",
            "b3333a176d114c1b88f33b6a43ec4c8e",
            "2ea963be95d1417b9dcc605094a60d00",
            "a6392887d0f94fb8bb0d338576e906d7",
            "aaaaefb1e1dc4e039f3737fd5f46d1a5",
            "a638738c8a614f189f200556d7ef4f51",
            "b7a34539760c4007adfc5e1785d64208"
          ]
        },
        "id": "jTN1nIqP6hCa",
        "outputId": "35c13485-ac0c-47a2-fda9-fece6e72b420"
      },
      "outputs": [
        {
          "name": "stderr",
          "output_type": "stream",
          "text": [
            "llm_classify |██████████| 50/50 (100.0%) | ⏳ 00:11<00:00 |  4.49it/s\n"
          ]
        }
      ],
      "source": [
        "model = OpenAIModel(model_name=\"gpt-4-1106-preview\")\n",
        "classifications = llm_classify(\n",
        "    dataframe=df,\n",
        "    template=CODE_FUNCTIONALITY_PROMPT_TEMPLATE,\n",
        "    model=model,\n",
        "    rails=list(CODE_FUNCTIONALITY_PROMPT_RAILS_MAP.values()),\n",
        "    concurrency=20,\n",
        ")[\"label\"].tolist()"
      ]
    },
    {
      "cell_type": "code",
      "execution_count": 25,
      "metadata": {
        "colab": {
          "base_uri": "https://localhost:8080/",
          "height": 651
        },
        "id": "dpaZ71bK6hCb",
        "outputId": "48207873-f3c7-4605-8a91-b7b3a4889cd0"
      },
      "outputs": [
        {
          "name": "stdout",
          "output_type": "stream",
          "text": [
            "              precision    recall  f1-score   support\n",
            "\n",
            "    bug_free       1.00      0.77      0.87        31\n",
            "      is_bug       0.73      1.00      0.84        19\n",
            "\n",
            "    accuracy                           0.86        50\n",
            "   macro avg       0.87      0.89      0.86        50\n",
            "weighted avg       0.90      0.86      0.86        50\n",
            "\n"
          ]
        },
        {
          "data": {
            "text/plain": [
              "<Axes: title={'center': 'Confusion Matrix (Normalized)'}, xlabel='Predicted Classes', ylabel='Actual Classes'>"
            ]
          },
          "execution_count": 25,
          "metadata": {},
          "output_type": "execute_result"
        },
        {
          "data": {
            "image/png": "[encoded data removed]",
            "text/plain": [
              "<Figure size 640x480 with 2 Axes>"
            ]
          },
          "metadata": {},
          "output_type": "display_data"
        }
      ],
      "source": [
        "true_labels = df[\"is_well_coded\"].map(CODE_FUNCTIONALITY_PROMPT_RAILS_MAP).tolist()\n",
        "\n",
        "print(classification_report(true_labels, classifications, labels=rails))\n",
        "confusion_matrix = ConfusionMatrix(\n",
        "    actual_vector=true_labels, predict_vector=classifications, classes=rails\n",
        ")\n",
        "confusion_matrix.plot(\n",
        "    cmap=plt.colormaps[\"Blues\"],\n",
        "    number_label=True,\n",
        "    normalized=True,\n",
        ")"
      ]
    }
  ],
  "metadata": {
    "colab": {
      "provenance": []
    },
    "kernelspec": {
      "display_name": "Python 3 (ipykernel)",
      "language": "python",
      "name": "python3"
    },
    "language_info": {
      "codemirror_mode": {
        "name": "ipython",
        "version": 3
      },
      "file_extension": ".py",
      "mimetype": "text/x-python",
      "name": "python",
      "nbconvert_exporter": "python",
      "pygments_lexer": "ipython3",
      "version": "3.11.5"
    },
    "widgets": {
      "application/vnd.jupyter.widget-state+json": {
        "02fc9a2deab940c5977b03c385c30575": {
          "model_module": "@jupyter-widgets/controls",
          "model_module_version": "1.5.0",
          "model_name": "HBoxModel",
          "state": {
            "_dom_classes": [],
            "_model_module": "@jupyter-widgets/controls",
            "_model_module_version": "1.5.0",
            "_model_name": "HBoxModel",
            "_view_count": null,
            "_view_module": "@jupyter-widgets/controls",
            "_view_module_version": "1.5.0",
            "_view_name": "HBoxView",
            "box_style": "",
            "children": [
              "IPY_MODEL_b8bb99cd755b47ebb55ffc4050eccfab",
              "IPY_MODEL_0b54918e838a4f8f8a25e8ae956e460a",
              "IPY_MODEL_759eda72a4d14146b06a60ef0092c652"
            ],
            "layout": "IPY_MODEL_2d194d7870a64a389110349d4ce1daa5"
          }
        },
        "091ca7b9a88040a1ab48850475457240": {
          "model_module": "@jupyter-widgets/base",
          "model_module_version": "1.2.0",
          "model_name": "LayoutModel",
          "state": {
            "_model_module": "@jupyter-widgets/base",
            "_model_module_version": "1.2.0",
            "_model_name": "LayoutModel",
            "_view_count": null,
            "_view_module": "@jupyter-widgets/base",
            "_view_module_version": "1.2.0",
            "_view_name": "LayoutView",
            "align_content": null,
            "align_items": null,
            "align_self": null,
            "border": null,
            "bottom": null,
            "display": null,
            "flex": null,
            "flex_flow": null,
            "grid_area": null,
            "grid_auto_columns": null,
            "grid_auto_flow": null,
            "grid_auto_rows": null,
            "grid_column": null,
            "grid_gap": null,
            "grid_row": null,
            "grid_template_areas": null,
            "grid_template_columns": null,
            "grid_template_rows": null,
            "height": null,
            "justify_content": null,
            "justify_items": null,
            "left": null,
            "margin": null,
            "max_height": null,
            "max_width": null,
            "min_height": null,
            "min_width": null,
            "object_fit": null,
            "object_position": null,
            "order": null,
            "overflow": null,
            "overflow_x": null,
            "overflow_y": null,
            "padding": null,
            "right": null,
            "top": null,
            "visibility": null,
            "width": null
          }
        },
        "0b54918e838a4f8f8a25e8ae956e460a": {
          "model_module": "@jupyter-widgets/controls",
          "model_module_version": "1.5.0",
          "model_name": "FloatProgressModel",
          "state": {
            "_dom_classes": [],
            "_model_module": "@jupyter-widgets/controls",
            "_model_module_version": "1.5.0",
            "_model_name": "FloatProgressModel",
            "_view_count": null,
            "_view_module": "@jupyter-widgets/controls",
            "_view_module_version": "1.5.0",
            "_view_name": "ProgressView",
            "bar_style": "",
            "description": "",
            "description_tooltip": null,
            "layout": "IPY_MODEL_a6392887d0f94fb8bb0d338576e906d7",
            "max": 50,
            "min": 0,
            "orientation": "horizontal",
            "style": "IPY_MODEL_aaaaefb1e1dc4e039f3737fd5f46d1a5",
            "value": 50
          }
        },
        "0bf70e3a03434e80acb0f4a272a834b2": {
          "model_module": "@jupyter-widgets/base",
          "model_module_version": "1.2.0",
          "model_name": "LayoutModel",
          "state": {
            "_model_module": "@jupyter-widgets/base",
            "_model_module_version": "1.2.0",
            "_model_name": "LayoutModel",
            "_view_count": null,
            "_view_module": "@jupyter-widgets/base",
            "_view_module_version": "1.2.0",
            "_view_name": "LayoutView",
            "align_content": null,
            "align_items": null,
            "align_self": null,
            "border": null,
            "bottom": null,
            "display": null,
            "flex": null,
            "flex_flow": null,
            "grid_area": null,
            "grid_auto_columns": null,
            "grid_auto_flow": null,
            "grid_auto_rows": null,
            "grid_column": null,
            "grid_gap": null,
            "grid_row": null,
            "grid_template_areas": null,
            "grid_template_columns": null,
            "grid_template_rows": null,
            "height": null,
            "justify_content": null,
            "justify_items": null,
            "left": null,
            "margin": null,
            "max_height": null,
            "max_width": null,
            "min_height": null,
            "min_width": null,
            "object_fit": null,
            "object_position": null,
            "order": null,
            "overflow": null,
            "overflow_x": null,
            "overflow_y": null,
            "padding": null,
            "right": null,
            "top": null,
            "visibility": null,
            "width": null
          }
        },
        "17be1db41b4c4c1b9d2d0cc7fffcf8da": {
          "model_module": "@jupyter-widgets/base",
          "model_module_version": "1.2.0",
          "model_name": "LayoutModel",
          "state": {
            "_model_module": "@jupyter-widgets/base",
            "_model_module_version": "1.2.0",
            "_model_name": "LayoutModel",
            "_view_count": null,
            "_view_module": "@jupyter-widgets/base",
            "_view_module_version": "1.2.0",
            "_view_name": "LayoutView",
            "align_content": null,
            "align_items": null,
            "align_self": null,
            "border": null,
            "bottom": null,
            "display": null,
            "flex": null,
            "flex_flow": null,
            "grid_area": null,
            "grid_auto_columns": null,
            "grid_auto_flow": null,
            "grid_auto_rows": null,
            "grid_column": null,
            "grid_gap": null,
            "grid_row": null,
            "grid_template_areas": null,
            "grid_template_columns": null,
            "grid_template_rows": null,
            "height": null,
            "justify_content": null,
            "justify_items": null,
            "left": null,
            "margin": null,
            "max_height": null,
            "max_width": null,
            "min_height": null,
            "min_width": null,
            "object_fit": null,
            "object_position": null,
            "order": null,
            "overflow": null,
            "overflow_x": null,
            "overflow_y": null,
            "padding": null,
            "right": null,
            "top": null,
            "visibility": null,
            "width": null
          }
        },
        "199b38c1a70049b3b3875a1786172833": {
          "model_module": "@jupyter-widgets/controls",
          "model_module_version": "1.5.0",
          "model_name": "DescriptionStyleModel",
          "state": {
            "_model_module": "@jupyter-widgets/controls",
            "_model_module_version": "1.5.0",
            "_model_name": "DescriptionStyleModel",
            "_view_count": null,
            "_view_module": "@jupyter-widgets/base",
            "_view_module_version": "1.2.0",
            "_view_name": "StyleView",
            "description_width": ""
          }
        },
        "1e86750ccde54d4aa6670bdf859241c1": {
          "model_module": "@jupyter-widgets/controls",
          "model_module_version": "1.5.0",
          "model_name": "FloatProgressModel",
          "state": {
            "_dom_classes": [],
            "_model_module": "@jupyter-widgets/controls",
            "_model_module_version": "1.5.0",
            "_model_name": "FloatProgressModel",
            "_view_count": null,
            "_view_module": "@jupyter-widgets/controls",
            "_view_module_version": "1.5.0",
            "_view_name": "ProgressView",
            "bar_style": "",
            "description": "",
            "description_tooltip": null,
            "layout": "IPY_MODEL_d36e9b21647c49c9890c030b2db66faa",
            "max": 50,
            "min": 0,
            "orientation": "horizontal",
            "style": "IPY_MODEL_ffb1efd695434393b2866727cfbff013",
            "value": 49
          }
        },
        "253ca39603f9498b82df5167f0053f83": {
          "model_module": "@jupyter-widgets/controls",
          "model_module_version": "1.5.0",
          "model_name": "DescriptionStyleModel",
          "state": {
            "_model_module": "@jupyter-widgets/controls",
            "_model_module_version": "1.5.0",
            "_model_name": "DescriptionStyleModel",
            "_view_count": null,
            "_view_module": "@jupyter-widgets/base",
            "_view_module_version": "1.2.0",
            "_view_name": "StyleView",
            "description_width": ""
          }
        },
        "2d194d7870a64a389110349d4ce1daa5": {
          "model_module": "@jupyter-widgets/base",
          "model_module_version": "1.2.0",
          "model_name": "LayoutModel",
          "state": {
            "_model_module": "@jupyter-widgets/base",
            "_model_module_version": "1.2.0",
            "_model_name": "LayoutModel",
            "_view_count": null,
            "_view_module": "@jupyter-widgets/base",
            "_view_module_version": "1.2.0",
            "_view_name": "LayoutView",
            "align_content": null,
            "align_items": null,
            "align_self": null,
            "border": null,
            "bottom": null,
            "display": null,
            "flex": null,
            "flex_flow": null,
            "grid_area": null,
            "grid_auto_columns": null,
            "grid_auto_flow": null,
            "grid_auto_rows": null,
            "grid_column": null,
            "grid_gap": null,
            "grid_row": null,
            "grid_template_areas": null,
            "grid_template_columns": null,
            "grid_template_rows": null,
            "height": null,
            "justify_content": null,
            "justify_items": null,
            "left": null,
            "margin": null,
            "max_height": null,
            "max_width": null,
            "min_height": null,
            "min_width": null,
            "object_fit": null,
            "object_position": null,
            "order": null,
            "overflow": null,
            "overflow_x": null,
            "overflow_y": null,
            "padding": null,
            "right": null,
            "top": null,
            "visibility": null,
            "width": null
          }
        },
        "2ea963be95d1417b9dcc605094a60d00": {
          "model_module": "@jupyter-widgets/controls",
          "model_module_version": "1.5.0",
          "model_name": "DescriptionStyleModel",
          "state": {
            "_model_module": "@jupyter-widgets/controls",
            "_model_module_version": "1.5.0",
            "_model_name": "DescriptionStyleModel",
            "_view_count": null,
            "_view_module": "@jupyter-widgets/base",
            "_view_module_version": "1.2.0",
            "_view_name": "StyleView",
            "description_width": ""
          }
        },
        "356736fd7e0d4af9a48cba556a503b46": {
          "model_module": "@jupyter-widgets/controls",
          "model_module_version": "1.5.0",
          "model_name": "ProgressStyleModel",
          "state": {
            "_model_module": "@jupyter-widgets/controls",
            "_model_module_version": "1.5.0",
            "_model_name": "ProgressStyleModel",
            "_view_count": null,
            "_view_module": "@jupyter-widgets/base",
            "_view_module_version": "1.2.0",
            "_view_name": "StyleView",
            "bar_color": null,
            "description_width": ""
          }
        },
        "35bfe03f3c1847c29e9e1e21b2bb1318": {
          "model_module": "@jupyter-widgets/controls",
          "model_module_version": "1.5.0",
          "model_name": "HTMLModel",
          "state": {
            "_dom_classes": [],
            "_model_module": "@jupyter-widgets/controls",
            "_model_module_version": "1.5.0",
            "_model_name": "HTMLModel",
            "_view_count": null,
            "_view_module": "@jupyter-widgets/controls",
            "_view_module_version": "1.5.0",
            "_view_name": "HTMLView",
            "description": "",
            "description_tooltip": null,
            "layout": "IPY_MODEL_17be1db41b4c4c1b9d2d0cc7fffcf8da",
            "placeholder": "​",
            "style": "IPY_MODEL_7d89dab32a534203845ff9a1a81ddd5c",
            "value": "llm_classify "
          }
        },
        "368150568aca44d2b211aa63a13a56a0": {
          "model_module": "@jupyter-widgets/base",
          "model_module_version": "1.2.0",
          "model_name": "LayoutModel",
          "state": {
            "_model_module": "@jupyter-widgets/base",
            "_model_module_version": "1.2.0",
            "_model_name": "LayoutModel",
            "_view_count": null,
            "_view_module": "@jupyter-widgets/base",
            "_view_module_version": "1.2.0",
            "_view_name": "LayoutView",
            "align_content": null,
            "align_items": null,
            "align_self": null,
            "border": null,
            "bottom": null,
            "display": null,
            "flex": null,
            "flex_flow": null,
            "grid_area": null,
            "grid_auto_columns": null,
            "grid_auto_flow": null,
            "grid_auto_rows": null,
            "grid_column": null,
            "grid_gap": null,
            "grid_row": null,
            "grid_template_areas": null,
            "grid_template_columns": null,
            "grid_template_rows": null,
            "height": null,
            "justify_content": null,
            "justify_items": null,
            "left": null,
            "margin": null,
            "max_height": null,
            "max_width": null,
            "min_height": null,
            "min_width": null,
            "object_fit": null,
            "object_position": null,
            "order": null,
            "overflow": null,
            "overflow_x": null,
            "overflow_y": null,
            "padding": null,
            "right": null,
            "top": null,
            "visibility": null,
            "width": null
          }
        },
        "37e2c2b9c4a14081b47edad41cc2a1e9": {
          "model_module": "@jupyter-widgets/base",
          "model_module_version": "1.2.0",
          "model_name": "LayoutModel",
          "state": {
            "_model_module": "@jupyter-widgets/base",
            "_model_module_version": "1.2.0",
            "_model_name": "LayoutModel",
            "_view_count": null,
            "_view_module": "@jupyter-widgets/base",
            "_view_module_version": "1.2.0",
            "_view_name": "LayoutView",
            "align_content": null,
            "align_items": null,
            "align_self": null,
            "border": null,
            "bottom": null,
            "display": null,
            "flex": null,
            "flex_flow": null,
            "grid_area": null,
            "grid_auto_columns": null,
            "grid_auto_flow": null,
            "grid_auto_rows": null,
            "grid_column": null,
            "grid_gap": null,
            "grid_row": null,
            "grid_template_areas": null,
            "grid_template_columns": null,
            "grid_template_rows": null,
            "height": null,
            "justify_content": null,
            "justify_items": null,
            "left": null,
            "margin": null,
            "max_height": null,
            "max_width": null,
            "min_height": null,
            "min_width": null,
            "object_fit": null,
            "object_position": null,
            "order": null,
            "overflow": null,
            "overflow_x": null,
            "overflow_y": null,
            "padding": null,
            "right": null,
            "top": null,
            "visibility": null,
            "width": null
          }
        },
        "4647de4b4756446a8f900c264d97da5a": {
          "model_module": "@jupyter-widgets/controls",
          "model_module_version": "1.5.0",
          "model_name": "ProgressStyleModel",
          "state": {
            "_model_module": "@jupyter-widgets/controls",
            "_model_module_version": "1.5.0",
            "_model_name": "ProgressStyleModel",
            "_view_count": null,
            "_view_module": "@jupyter-widgets/base",
            "_view_module_version": "1.2.0",
            "_view_name": "StyleView",
            "bar_color": null,
            "description_width": ""
          }
        },
        "4977bf42e0f94544ac303e04463256bc": {
          "model_module": "@jupyter-widgets/controls",
          "model_module_version": "1.5.0",
          "model_name": "DescriptionStyleModel",
          "state": {
            "_model_module": "@jupyter-widgets/controls",
            "_model_module_version": "1.5.0",
            "_model_name": "DescriptionStyleModel",
            "_view_count": null,
            "_view_module": "@jupyter-widgets/base",
            "_view_module_version": "1.2.0",
            "_view_name": "StyleView",
            "description_width": ""
          }
        },
        "64105662a4b2456e80af62a48c6a18ac": {
          "model_module": "@jupyter-widgets/controls",
          "model_module_version": "1.5.0",
          "model_name": "DescriptionStyleModel",
          "state": {
            "_model_module": "@jupyter-widgets/controls",
            "_model_module_version": "1.5.0",
            "_model_name": "DescriptionStyleModel",
            "_view_count": null,
            "_view_module": "@jupyter-widgets/base",
            "_view_module_version": "1.2.0",
            "_view_name": "StyleView",
            "description_width": ""
          }
        },
        "64c2b6e77c20460ea32aa13af3c1d983": {
          "model_module": "@jupyter-widgets/controls",
          "model_module_version": "1.5.0",
          "model_name": "HTMLModel",
          "state": {
            "_dom_classes": [],
            "_model_module": "@jupyter-widgets/controls",
            "_model_module_version": "1.5.0",
            "_model_name": "HTMLModel",
            "_view_count": null,
            "_view_module": "@jupyter-widgets/controls",
            "_view_module_version": "1.5.0",
            "_view_name": "HTMLView",
            "description": "",
            "description_tooltip": null,
            "layout": "IPY_MODEL_71edd0c1edfc4a3f831ebc1ee4f375fe",
            "placeholder": "​",
            "style": "IPY_MODEL_253ca39603f9498b82df5167f0053f83",
            "value": " 50/50 (100.0%) | ⏳ 00:29&lt;00:00 |  5.91it/s"
          }
        },
        "71edd0c1edfc4a3f831ebc1ee4f375fe": {
          "model_module": "@jupyter-widgets/base",
          "model_module_version": "1.2.0",
          "model_name": "LayoutModel",
          "state": {
            "_model_module": "@jupyter-widgets/base",
            "_model_module_version": "1.2.0",
            "_model_name": "LayoutModel",
            "_view_count": null,
            "_view_module": "@jupyter-widgets/base",
            "_view_module_version": "1.2.0",
            "_view_name": "LayoutView",
            "align_content": null,
            "align_items": null,
            "align_self": null,
            "border": null,
            "bottom": null,
            "display": null,
            "flex": null,
            "flex_flow": null,
            "grid_area": null,
            "grid_auto_columns": null,
            "grid_auto_flow": null,
            "grid_auto_rows": null,
            "grid_column": null,
            "grid_gap": null,
            "grid_row": null,
            "grid_template_areas": null,
            "grid_template_columns": null,
            "grid_template_rows": null,
            "height": null,
            "justify_content": null,
            "justify_items": null,
            "left": null,
            "margin": null,
            "max_height": null,
            "max_width": null,
            "min_height": null,
            "min_width": null,
            "object_fit": null,
            "object_position": null,
            "order": null,
            "overflow": null,
            "overflow_x": null,
            "overflow_y": null,
            "padding": null,
            "right": null,
            "top": null,
            "visibility": null,
            "width": null
          }
        },
        "759eda72a4d14146b06a60ef0092c652": {
          "model_module": "@jupyter-widgets/controls",
          "model_module_version": "1.5.0",
          "model_name": "HTMLModel",
          "state": {
            "_dom_classes": [],
            "_model_module": "@jupyter-widgets/controls",
            "_model_module_version": "1.5.0",
            "_model_name": "HTMLModel",
            "_view_count": null,
            "_view_module": "@jupyter-widgets/controls",
            "_view_module_version": "1.5.0",
            "_view_name": "HTMLView",
            "description": "",
            "description_tooltip": null,
            "layout": "IPY_MODEL_a638738c8a614f189f200556d7ef4f51",
            "placeholder": "​",
            "style": "IPY_MODEL_b7a34539760c4007adfc5e1785d64208",
            "value": " 50/50 (100.0%) | ⏳ 00:11&lt;00:00 |  2.98it/s"
          }
        },
        "7d89dab32a534203845ff9a1a81ddd5c": {
          "model_module": "@jupyter-widgets/controls",
          "model_module_version": "1.5.0",
          "model_name": "DescriptionStyleModel",
          "state": {
            "_model_module": "@jupyter-widgets/controls",
            "_model_module_version": "1.5.0",
            "_model_name": "DescriptionStyleModel",
            "_view_count": null,
            "_view_module": "@jupyter-widgets/base",
            "_view_module_version": "1.2.0",
            "_view_name": "StyleView",
            "description_width": ""
          }
        },
        "9f05807a873e41b08871d62315637682": {
          "model_module": "@jupyter-widgets/base",
          "model_module_version": "1.2.0",
          "model_name": "LayoutModel",
          "state": {
            "_model_module": "@jupyter-widgets/base",
            "_model_module_version": "1.2.0",
            "_model_name": "LayoutModel",
            "_view_count": null,
            "_view_module": "@jupyter-widgets/base",
            "_view_module_version": "1.2.0",
            "_view_name": "LayoutView",
            "align_content": null,
            "align_items": null,
            "align_self": null,
            "border": null,
            "bottom": null,
            "display": null,
            "flex": null,
            "flex_flow": null,
            "grid_area": null,
            "grid_auto_columns": null,
            "grid_auto_flow": null,
            "grid_auto_rows": null,
            "grid_column": null,
            "grid_gap": null,
            "grid_row": null,
            "grid_template_areas": null,
            "grid_template_columns": null,
            "grid_template_rows": null,
            "height": null,
            "justify_content": null,
            "justify_items": null,
            "left": null,
            "margin": null,
            "max_height": null,
            "max_width": null,
            "min_height": null,
            "min_width": null,
            "object_fit": null,
            "object_position": null,
            "order": null,
            "overflow": null,
            "overflow_x": null,
            "overflow_y": null,
            "padding": null,
            "right": null,
            "top": null,
            "visibility": null,
            "width": null
          }
        },
        "a638738c8a614f189f200556d7ef4f51": {
          "model_module": "@jupyter-widgets/base",
          "model_module_version": "1.2.0",
          "model_name": "LayoutModel",
          "state": {
            "_model_module": "@jupyter-widgets/base",
            "_model_module_version": "1.2.0",
            "_model_name": "LayoutModel",
            "_view_count": null,
            "_view_module": "@jupyter-widgets/base",
            "_view_module_version": "1.2.0",
            "_view_name": "LayoutView",
            "align_content": null,
            "align_items": null,
            "align_self": null,
            "border": null,
            "bottom": null,
            "display": null,
            "flex": null,
            "flex_flow": null,
            "grid_area": null,
            "grid_auto_columns": null,
            "grid_auto_flow": null,
            "grid_auto_rows": null,
            "grid_column": null,
            "grid_gap": null,
            "grid_row": null,
            "grid_template_areas": null,
            "grid_template_columns": null,
            "grid_template_rows": null,
            "height": null,
            "justify_content": null,
            "justify_items": null,
            "left": null,
            "margin": null,
            "max_height": null,
            "max_width": null,
            "min_height": null,
            "min_width": null,
            "object_fit": null,
            "object_position": null,
            "order": null,
            "overflow": null,
            "overflow_x": null,
            "overflow_y": null,
            "padding": null,
            "right": null,
            "top": null,
            "visibility": null,
            "width": null
          }
        },
        "a6392887d0f94fb8bb0d338576e906d7": {
          "model_module": "@jupyter-widgets/base",
          "model_module_version": "1.2.0",
          "model_name": "LayoutModel",
          "state": {
            "_model_module": "@jupyter-widgets/base",
            "_model_module_version": "1.2.0",
            "_model_name": "LayoutModel",
            "_view_count": null,
            "_view_module": "@jupyter-widgets/base",
            "_view_module_version": "1.2.0",
            "_view_name": "LayoutView",
            "align_content": null,
            "align_items": null,
            "align_self": null,
            "border": null,
            "bottom": null,
            "display": null,
            "flex": null,
            "flex_flow": null,
            "grid_area": null,
            "grid_auto_columns": null,
            "grid_auto_flow": null,
            "grid_auto_rows": null,
            "grid_column": null,
            "grid_gap": null,
            "grid_row": null,
            "grid_template_areas": null,
            "grid_template_columns": null,
            "grid_template_rows": null,
            "height": null,
            "justify_content": null,
            "justify_items": null,
            "left": null,
            "margin": null,
            "max_height": null,
            "max_width": null,
            "min_height": null,
            "min_width": null,
            "object_fit": null,
            "object_position": null,
            "order": null,
            "overflow": null,
            "overflow_x": null,
            "overflow_y": null,
            "padding": null,
            "right": null,
            "top": null,
            "visibility": null,
            "width": null
          }
        },
        "aaaaefb1e1dc4e039f3737fd5f46d1a5": {
          "model_module": "@jupyter-widgets/controls",
          "model_module_version": "1.5.0",
          "model_name": "ProgressStyleModel",
          "state": {
            "_model_module": "@jupyter-widgets/controls",
            "_model_module_version": "1.5.0",
            "_model_name": "ProgressStyleModel",
            "_view_count": null,
            "_view_module": "@jupyter-widgets/base",
            "_view_module_version": "1.2.0",
            "_view_name": "StyleView",
            "bar_color": null,
            "description_width": ""
          }
        },
        "ab43496b8282441296f0ee5b9845341c": {
          "model_module": "@jupyter-widgets/controls",
          "model_module_version": "1.5.0",
          "model_name": "FloatProgressModel",
          "state": {
            "_dom_classes": [],
            "_model_module": "@jupyter-widgets/controls",
            "_model_module_version": "1.5.0",
            "_model_name": "FloatProgressModel",
            "_view_count": null,
            "_view_module": "@jupyter-widgets/controls",
            "_view_module_version": "1.5.0",
            "_view_name": "ProgressView",
            "bar_style": "",
            "description": "",
            "description_tooltip": null,
            "layout": "IPY_MODEL_ea97b3822df04632be317e583f5c6c90",
            "max": 50,
            "min": 0,
            "orientation": "horizontal",
            "style": "IPY_MODEL_356736fd7e0d4af9a48cba556a503b46",
            "value": 50
          }
        },
        "ac8148add5e7430ba59ab2a63e078948": {
          "model_module": "@jupyter-widgets/base",
          "model_module_version": "1.2.0",
          "model_name": "LayoutModel",
          "state": {
            "_model_module": "@jupyter-widgets/base",
            "_model_module_version": "1.2.0",
            "_model_name": "LayoutModel",
            "_view_count": null,
            "_view_module": "@jupyter-widgets/base",
            "_view_module_version": "1.2.0",
            "_view_name": "LayoutView",
            "align_content": null,
            "align_items": null,
            "align_self": null,
            "border": null,
            "bottom": null,
            "display": null,
            "flex": null,
            "flex_flow": null,
            "grid_area": null,
            "grid_auto_columns": null,
            "grid_auto_flow": null,
            "grid_auto_rows": null,
            "grid_column": null,
            "grid_gap": null,
            "grid_row": null,
            "grid_template_areas": null,
            "grid_template_columns": null,
            "grid_template_rows": null,
            "height": null,
            "justify_content": null,
            "justify_items": null,
            "left": null,
            "margin": null,
            "max_height": null,
            "max_width": null,
            "min_height": null,
            "min_width": null,
            "object_fit": null,
            "object_position": null,
            "order": null,
            "overflow": null,
            "overflow_x": null,
            "overflow_y": null,
            "padding": null,
            "right": null,
            "top": null,
            "visibility": null,
            "width": null
          }
        },
        "ae2320e255434c1ca30315869fcf1c2c": {
          "model_module": "@jupyter-widgets/controls",
          "model_module_version": "1.5.0",
          "model_name": "HTMLModel",
          "state": {
            "_dom_classes": [],
            "_model_module": "@jupyter-widgets/controls",
            "_model_module_version": "1.5.0",
            "_model_name": "HTMLModel",
            "_view_count": null,
            "_view_module": "@jupyter-widgets/controls",
            "_view_module_version": "1.5.0",
            "_view_name": "HTMLView",
            "description": "",
            "description_tooltip": null,
            "layout": "IPY_MODEL_b059a016478244c88d4426009bc9c410",
            "placeholder": "​",
            "style": "IPY_MODEL_c578cf15d20a4e85a2a88d18f4e24f4b",
            "value": " 49/50 (98.0%) | ⏳ 00:09&lt;00:00 |  5.35it/s"
          }
        },
        "b059a016478244c88d4426009bc9c410": {
          "model_module": "@jupyter-widgets/base",
          "model_module_version": "1.2.0",
          "model_name": "LayoutModel",
          "state": {
            "_model_module": "@jupyter-widgets/base",
            "_model_module_version": "1.2.0",
            "_model_name": "LayoutModel",
            "_view_count": null,
            "_view_module": "@jupyter-widgets/base",
            "_view_module_version": "1.2.0",
            "_view_name": "LayoutView",
            "align_content": null,
            "align_items": null,
            "align_self": null,
            "border": null,
            "bottom": null,
            "display": null,
            "flex": null,
            "flex_flow": null,
            "grid_area": null,
            "grid_auto_columns": null,
            "grid_auto_flow": null,
            "grid_auto_rows": null,
            "grid_column": null,
            "grid_gap": null,
            "grid_row": null,
            "grid_template_areas": null,
            "grid_template_columns": null,
            "grid_template_rows": null,
            "height": null,
            "justify_content": null,
            "justify_items": null,
            "left": null,
            "margin": null,
            "max_height": null,
            "max_width": null,
            "min_height": null,
            "min_width": null,
            "object_fit": null,
            "object_position": null,
            "order": null,
            "overflow": null,
            "overflow_x": null,
            "overflow_y": null,
            "padding": null,
            "right": null,
            "top": null,
            "visibility": null,
            "width": null
          }
        },
        "b26fcae79d684f81b1cd5d834fe33e3f": {
          "model_module": "@jupyter-widgets/controls",
          "model_module_version": "1.5.0",
          "model_name": "HBoxModel",
          "state": {
            "_dom_classes": [],
            "_model_module": "@jupyter-widgets/controls",
            "_model_module_version": "1.5.0",
            "_model_name": "HBoxModel",
            "_view_count": null,
            "_view_module": "@jupyter-widgets/controls",
            "_view_module_version": "1.5.0",
            "_view_name": "HBoxView",
            "box_style": "",
            "children": [
              "IPY_MODEL_b2f9a03aa8604fa2848fd83a1fc9d637",
              "IPY_MODEL_d05d4ca8a0e04889a40fac35d55ac477",
              "IPY_MODEL_e5fd230a19744d27a5a086975282dd15"
            ],
            "layout": "IPY_MODEL_368150568aca44d2b211aa63a13a56a0"
          }
        },
        "b2f9a03aa8604fa2848fd83a1fc9d637": {
          "model_module": "@jupyter-widgets/controls",
          "model_module_version": "1.5.0",
          "model_name": "HTMLModel",
          "state": {
            "_dom_classes": [],
            "_model_module": "@jupyter-widgets/controls",
            "_model_module_version": "1.5.0",
            "_model_name": "HTMLModel",
            "_view_count": null,
            "_view_module": "@jupyter-widgets/controls",
            "_view_module_version": "1.5.0",
            "_view_name": "HTMLView",
            "description": "",
            "description_tooltip": null,
            "layout": "IPY_MODEL_091ca7b9a88040a1ab48850475457240",
            "placeholder": "​",
            "style": "IPY_MODEL_4977bf42e0f94544ac303e04463256bc",
            "value": "llm_classify "
          }
        },
        "b3333a176d114c1b88f33b6a43ec4c8e": {
          "model_module": "@jupyter-widgets/base",
          "model_module_version": "1.2.0",
          "model_name": "LayoutModel",
          "state": {
            "_model_module": "@jupyter-widgets/base",
            "_model_module_version": "1.2.0",
            "_model_name": "LayoutModel",
            "_view_count": null,
            "_view_module": "@jupyter-widgets/base",
            "_view_module_version": "1.2.0",
            "_view_name": "LayoutView",
            "align_content": null,
            "align_items": null,
            "align_self": null,
            "border": null,
            "bottom": null,
            "display": null,
            "flex": null,
            "flex_flow": null,
            "grid_area": null,
            "grid_auto_columns": null,
            "grid_auto_flow": null,
            "grid_auto_rows": null,
            "grid_column": null,
            "grid_gap": null,
            "grid_row": null,
            "grid_template_areas": null,
            "grid_template_columns": null,
            "grid_template_rows": null,
            "height": null,
            "justify_content": null,
            "justify_items": null,
            "left": null,
            "margin": null,
            "max_height": null,
            "max_width": null,
            "min_height": null,
            "min_width": null,
            "object_fit": null,
            "object_position": null,
            "order": null,
            "overflow": null,
            "overflow_x": null,
            "overflow_y": null,
            "padding": null,
            "right": null,
            "top": null,
            "visibility": null,
            "width": null
          }
        },
        "b46c691554314dff8e71d13629095ac5": {
          "model_module": "@jupyter-widgets/base",
          "model_module_version": "1.2.0",
          "model_name": "LayoutModel",
          "state": {
            "_model_module": "@jupyter-widgets/base",
            "_model_module_version": "1.2.0",
            "_model_name": "LayoutModel",
            "_view_count": null,
            "_view_module": "@jupyter-widgets/base",
            "_view_module_version": "1.2.0",
            "_view_name": "LayoutView",
            "align_content": null,
            "align_items": null,
            "align_self": null,
            "border": null,
            "bottom": null,
            "display": null,
            "flex": null,
            "flex_flow": null,
            "grid_area": null,
            "grid_auto_columns": null,
            "grid_auto_flow": null,
            "grid_auto_rows": null,
            "grid_column": null,
            "grid_gap": null,
            "grid_row": null,
            "grid_template_areas": null,
            "grid_template_columns": null,
            "grid_template_rows": null,
            "height": null,
            "justify_content": null,
            "justify_items": null,
            "left": null,
            "margin": null,
            "max_height": null,
            "max_width": null,
            "min_height": null,
            "min_width": null,
            "object_fit": null,
            "object_position": null,
            "order": null,
            "overflow": null,
            "overflow_x": null,
            "overflow_y": null,
            "padding": null,
            "right": null,
            "top": null,
            "visibility": null,
            "width": null
          }
        },
        "b7a34539760c4007adfc5e1785d64208": {
          "model_module": "@jupyter-widgets/controls",
          "model_module_version": "1.5.0",
          "model_name": "DescriptionStyleModel",
          "state": {
            "_model_module": "@jupyter-widgets/controls",
            "_model_module_version": "1.5.0",
            "_model_name": "DescriptionStyleModel",
            "_view_count": null,
            "_view_module": "@jupyter-widgets/base",
            "_view_module_version": "1.2.0",
            "_view_name": "StyleView",
            "description_width": ""
          }
        },
        "b8bb99cd755b47ebb55ffc4050eccfab": {
          "model_module": "@jupyter-widgets/controls",
          "model_module_version": "1.5.0",
          "model_name": "HTMLModel",
          "state": {
            "_dom_classes": [],
            "_model_module": "@jupyter-widgets/controls",
            "_model_module_version": "1.5.0",
            "_model_name": "HTMLModel",
            "_view_count": null,
            "_view_module": "@jupyter-widgets/controls",
            "_view_module_version": "1.5.0",
            "_view_name": "HTMLView",
            "description": "",
            "description_tooltip": null,
            "layout": "IPY_MODEL_b3333a176d114c1b88f33b6a43ec4c8e",
            "placeholder": "​",
            "style": "IPY_MODEL_2ea963be95d1417b9dcc605094a60d00",
            "value": "llm_classify "
          }
        },
        "c0bf7edf0714433cacd6295f8df8ecfd": {
          "model_module": "@jupyter-widgets/controls",
          "model_module_version": "1.5.0",
          "model_name": "HBoxModel",
          "state": {
            "_dom_classes": [],
            "_model_module": "@jupyter-widgets/controls",
            "_model_module_version": "1.5.0",
            "_model_name": "HBoxModel",
            "_view_count": null,
            "_view_module": "@jupyter-widgets/controls",
            "_view_module_version": "1.5.0",
            "_view_name": "HBoxView",
            "box_style": "",
            "children": [
              "IPY_MODEL_f651d744299742f396315025e7332f8b",
              "IPY_MODEL_ab43496b8282441296f0ee5b9845341c",
              "IPY_MODEL_64c2b6e77c20460ea32aa13af3c1d983"
            ],
            "layout": "IPY_MODEL_37e2c2b9c4a14081b47edad41cc2a1e9"
          }
        },
        "c578cf15d20a4e85a2a88d18f4e24f4b": {
          "model_module": "@jupyter-widgets/controls",
          "model_module_version": "1.5.0",
          "model_name": "DescriptionStyleModel",
          "state": {
            "_model_module": "@jupyter-widgets/controls",
            "_model_module_version": "1.5.0",
            "_model_name": "DescriptionStyleModel",
            "_view_count": null,
            "_view_module": "@jupyter-widgets/base",
            "_view_module_version": "1.2.0",
            "_view_name": "StyleView",
            "description_width": ""
          }
        },
        "d05d4ca8a0e04889a40fac35d55ac477": {
          "model_module": "@jupyter-widgets/controls",
          "model_module_version": "1.5.0",
          "model_name": "FloatProgressModel",
          "state": {
            "_dom_classes": [],
            "_model_module": "@jupyter-widgets/controls",
            "_model_module_version": "1.5.0",
            "_model_name": "FloatProgressModel",
            "_view_count": null,
            "_view_module": "@jupyter-widgets/controls",
            "_view_module_version": "1.5.0",
            "_view_name": "ProgressView",
            "bar_style": "success",
            "description": "",
            "description_tooltip": null,
            "layout": "IPY_MODEL_9f05807a873e41b08871d62315637682",
            "max": 5,
            "min": 0,
            "orientation": "horizontal",
            "style": "IPY_MODEL_4647de4b4756446a8f900c264d97da5a",
            "value": 5
          }
        },
        "d36e9b21647c49c9890c030b2db66faa": {
          "model_module": "@jupyter-widgets/base",
          "model_module_version": "1.2.0",
          "model_name": "LayoutModel",
          "state": {
            "_model_module": "@jupyter-widgets/base",
            "_model_module_version": "1.2.0",
            "_model_name": "LayoutModel",
            "_view_count": null,
            "_view_module": "@jupyter-widgets/base",
            "_view_module_version": "1.2.0",
            "_view_name": "LayoutView",
            "align_content": null,
            "align_items": null,
            "align_self": null,
            "border": null,
            "bottom": null,
            "display": null,
            "flex": null,
            "flex_flow": null,
            "grid_area": null,
            "grid_auto_columns": null,
            "grid_auto_flow": null,
            "grid_auto_rows": null,
            "grid_column": null,
            "grid_gap": null,
            "grid_row": null,
            "grid_template_areas": null,
            "grid_template_columns": null,
            "grid_template_rows": null,
            "height": null,
            "justify_content": null,
            "justify_items": null,
            "left": null,
            "margin": null,
            "max_height": null,
            "max_width": null,
            "min_height": null,
            "min_width": null,
            "object_fit": null,
            "object_position": null,
            "order": null,
            "overflow": null,
            "overflow_x": null,
            "overflow_y": null,
            "padding": null,
            "right": null,
            "top": null,
            "visibility": null,
            "width": null
          }
        },
        "e5fd230a19744d27a5a086975282dd15": {
          "model_module": "@jupyter-widgets/controls",
          "model_module_version": "1.5.0",
          "model_name": "HTMLModel",
          "state": {
            "_dom_classes": [],
            "_model_module": "@jupyter-widgets/controls",
            "_model_module_version": "1.5.0",
            "_model_name": "HTMLModel",
            "_view_count": null,
            "_view_module": "@jupyter-widgets/controls",
            "_view_module_version": "1.5.0",
            "_view_name": "HTMLView",
            "description": "",
            "description_tooltip": null,
            "layout": "IPY_MODEL_b46c691554314dff8e71d13629095ac5",
            "placeholder": "​",
            "style": "IPY_MODEL_199b38c1a70049b3b3875a1786172833",
            "value": " 5/5 (100.0%) | ⏳ 00:19&lt;00:00 |  3.94s/it"
          }
        },
        "ea97b3822df04632be317e583f5c6c90": {
          "model_module": "@jupyter-widgets/base",
          "model_module_version": "1.2.0",
          "model_name": "LayoutModel",
          "state": {
            "_model_module": "@jupyter-widgets/base",
            "_model_module_version": "1.2.0",
            "_model_name": "LayoutModel",
            "_view_count": null,
            "_view_module": "@jupyter-widgets/base",
            "_view_module_version": "1.2.0",
            "_view_name": "LayoutView",
            "align_content": null,
            "align_items": null,
            "align_self": null,
            "border": null,
            "bottom": null,
            "display": null,
            "flex": null,
            "flex_flow": null,
            "grid_area": null,
            "grid_auto_columns": null,
            "grid_auto_flow": null,
            "grid_auto_rows": null,
            "grid_column": null,
            "grid_gap": null,
            "grid_row": null,
            "grid_template_areas": null,
            "grid_template_columns": null,
            "grid_template_rows": null,
            "height": null,
            "justify_content": null,
            "justify_items": null,
            "left": null,
            "margin": null,
            "max_height": null,
            "max_width": null,
            "min_height": null,
            "min_width": null,
            "object_fit": null,
            "object_position": null,
            "order": null,
            "overflow": null,
            "overflow_x": null,
            "overflow_y": null,
            "padding": null,
            "right": null,
            "top": null,
            "visibility": null,
            "width": null
          }
        },
        "f651d744299742f396315025e7332f8b": {
          "model_module": "@jupyter-widgets/controls",
          "model_module_version": "1.5.0",
          "model_name": "HTMLModel",
          "state": {
            "_dom_classes": [],
            "_model_module": "@jupyter-widgets/controls",
            "_model_module_version": "1.5.0",
            "_model_name": "HTMLModel",
            "_view_count": null,
            "_view_module": "@jupyter-widgets/controls",
            "_view_module_version": "1.5.0",
            "_view_name": "HTMLView",
            "description": "",
            "description_tooltip": null,
            "layout": "IPY_MODEL_ac8148add5e7430ba59ab2a63e078948",
            "placeholder": "​",
            "style": "IPY_MODEL_64105662a4b2456e80af62a48c6a18ac",
            "value": "llm_classify "
          }
        },
        "ff32a8b777544169b36fb1bdb76fc2cd": {
          "model_module": "@jupyter-widgets/controls",
          "model_module_version": "1.5.0",
          "model_name": "HBoxModel",
          "state": {
            "_dom_classes": [],
            "_model_module": "@jupyter-widgets/controls",
            "_model_module_version": "1.5.0",
            "_model_name": "HBoxModel",
            "_view_count": null,
            "_view_module": "@jupyter-widgets/controls",
            "_view_module_version": "1.5.0",
            "_view_name": "HBoxView",
            "box_style": "",
            "children": [
              "IPY_MODEL_35bfe03f3c1847c29e9e1e21b2bb1318",
              "IPY_MODEL_1e86750ccde54d4aa6670bdf859241c1",
              "IPY_MODEL_ae2320e255434c1ca30315869fcf1c2c"
            ],
            "layout": "IPY_MODEL_0bf70e3a03434e80acb0f4a272a834b2"
          }
        },
        "ffb1efd695434393b2866727cfbff013": {
          "model_module": "@jupyter-widgets/controls",
          "model_module_version": "1.5.0",
          "model_name": "ProgressStyleModel",
          "state": {
            "_model_module": "@jupyter-widgets/controls",
            "_model_module_version": "1.5.0",
            "_model_name": "ProgressStyleModel",
            "_view_count": null,
            "_view_module": "@jupyter-widgets/base",
            "_view_module_version": "1.2.0",
            "_view_name": "StyleView",
            "bar_color": null,
            "description_width": ""
          }
        }
      }
    }
  },
  "nbformat": 4,
  "nbformat_minor": 0
}
