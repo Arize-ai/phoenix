{
  "cells": [
    {
      "cell_type": "markdown",
      "metadata": {
        "id": "xjgDyfmL6hB_"
      },
      "source": [
        "<center>\n",
        "    <p style=\"text-align:center\">\n",
        "        <img alt=\"phoenix logo\" src=\"https://storage.googleapis.com/arize-assets/phoenix/assets/phoenix-logo-light.svg\" width=\"200\"/>\n",
        "        <br>\n",
        "        <a href=\"https://docs.arize.com/phoenix/\">Docs</a>\n",
        "        |\n",
        "        <a href=\"https://github.com/Arize-ai/phoenix\">GitHub</a>\n",
        "        |\n",
        "        <a href=\"https://join.slack.com/t/arize-ai/shared_invite/zt-1px8dcmlf-fmThhDFD_V_48oU7ALan4Q\">Community</a>\n",
        "    </p>\n",
        "</center>\n",
        "<h1 align=\"center\">Code Functionality  Evals</h1>\n",
        "\n",
        "\n",
        "This tests whether code is written correctly, without bugs, accomplishes the functionality you want, does not have syntax errors.\n",
        "\n",
        "The purpose of this notebook is:\n",
        "\n",
        "- to evaluate the performance of code fuctionality Eval\n",
        "- to provide an experimental framework for users to iterate and improve on the default classification template.\n",
        "\n",
        "## Install Dependencies and Import Libraries"
      ]
    },
    {
      "cell_type": "code",
      "execution_count": 25,
      "metadata": {
        "colab": {
          "base_uri": "https://localhost:8080/"
        },
        "id": "R8pDe5eG6hCJ",
        "outputId": "724b67f8-9d0f-41cd-f212-570d2484c5a0"
      },
      "outputs": [],
      "source": [
        "!pip install -qq  arize-phoenix \"openai>=1\" ipython matplotlib pycm scikit-learn tiktoken nest_asyncio"
      ]
    },
    {
      "cell_type": "markdown",
      "metadata": {
        "id": "h2ctpohg6hCK"
      },
      "source": [
        "ℹ️ To enable async request submission in notebook environments like Jupyter or Google Colab, optionally use `nest_asyncio`. `nest_asyncio` globally patches `asyncio` to enable event loops to be re-entrant. This is not required for non-notebook environments.\n",
        "\n",
        "Without `nest_asyncio`, eval submission can be much slower, depending on your organization's rate limits. Speed increases of about 5x are typical."
      ]
    },
    {
      "cell_type": "code",
      "execution_count": 2,
      "metadata": {
        "id": "WHnAJf1g6hCL"
      },
      "outputs": [],
      "source": [
        "import nest_asyncio\n",
        "\n",
        "nest_asyncio.apply()"
      ]
    },
    {
      "cell_type": "code",
      "execution_count": 23,
      "metadata": {
        "colab": {
          "base_uri": "https://localhost:8080/"
        },
        "id": "0bNZhOO46hCL",
        "outputId": "1980d240-5319-4d13-ea10-e2d745920d14"
      },
      "outputs": [],
      "source": [
        "import os\n",
        "from getpass import getpass\n",
        "\n",
        "import matplotlib.pyplot as plt\n",
        "import pandas as pd\n",
        "from phoenix.experimental.evals import (\n",
        "#To Add templates\n",
        "    CODE_FUNCTIONALITY_PROMPT_TEMPLATE,\n",
        "    CODE_FUNCTIONALITY_PROMPT_RAILS_MAP,\n",
        "    OpenAIModel,\n",
        "    download_benchmark_dataset,\n",
        "    llm_classify,\n",
        ")\n",
        "from pycm import ConfusionMatrix\n",
        "from sklearn.metrics import classification_report\n",
        "\n",
        "pd.set_option(\"display.max_colwidth\", None)"
      ]
    },
    {
      "cell_type": "markdown",
      "metadata": {
        "id": "mvrJ8sQK6hCM"
      },
      "source": [
        "## Download Benchmark Dataset\n",
        "\n",
        "TODO"
      ]
    },
    {
      "cell_type": "code",
      "execution_count": 3,
      "metadata": {
        "colab": {
          "base_uri": "https://localhost:8080/",
          "height": 536
        },
        "id": "o-BbInt76hCN",
        "outputId": "b87d1f6f-8bbf-419e-fb19-61c9297caa06"
      },
      "outputs": [
        {
          "data": {
            "text/html": [
              "<div>\n",
              "<style scoped>\n",
              "    .dataframe tbody tr th:only-of-type {\n",
              "        vertical-align: middle;\n",
              "    }\n",
              "\n",
              "    .dataframe tbody tr th {\n",
              "        vertical-align: top;\n",
              "    }\n",
              "\n",
              "    .dataframe thead th {\n",
              "        text-align: right;\n",
              "    }\n",
              "</style>\n",
              "<table border=\"1\" class=\"dataframe\">\n",
              "  <thead>\n",
              "    <tr style=\"text-align: right;\">\n",
              "      <th></th>\n",
              "      <th>coding_instruction</th>\n",
              "      <th>code</th>\n",
              "      <th>is_well_coded</th>\n",
              "    </tr>\n",
              "  </thead>\n",
              "  <tbody>\n",
              "    <tr>\n",
              "      <th>0</th>\n",
              "      <td>Create a neural network in Python from scratch that takes a 2D array of numbers as its input and predicts the sum of the numbers in each row.</td>\n",
              "      <td>import numpy as np\\n\\nclass NeuralNetwork:\\n    def __init__(self, input_size):\\n        self.weights = np.random.rand(input_size, 1)\\n        self.bias = np.random.rand(1, 1)\\n\\n    def predict(self, X):\\n        return np.dot(X, self.weights) + self.bias\\n\\n# Example Usage:\\ninput_data = np.array([[1, 2, 3], [4, 5, 6], [7, 8, 9]])\\nnn = NeuralNetwork(input_size=input_data.shape[1])\\npredictions = nn.predict(input_data)\\nprint(predictions)</td>\n",
              "      <td>True</td>\n",
              "    </tr>\n",
              "    <tr>\n",
              "      <th>1</th>\n",
              "      <td>Generate a Python program to find the mode of the given list.</td>\n",
              "      <td>from statistics import mode\\n\\ndef find_mode(input_list):\\n    try:\\n        result = mode(input_list)\\n        return result\\n    except StatisticsError:\\n        return \"No unique mode found\"\\n\\n# Example Usage:\\ndata_list = [1, 2, 2, 3, 4, 4, 5]\\nmode_result = find_mode(data_list)\\nprint(mode_result)</td>\n",
              "      <td>True</td>\n",
              "    </tr>\n",
              "    <tr>\n",
              "      <th>2</th>\n",
              "      <td>Develop a text summarizer in Python that takes a text input and returns a summary of the text in two sentences.</td>\n",
              "      <td>from nltk import sent_tokenize\\nfrom nltk.corpus import stopwords\\nfrom nltk.stem import PorterStemmer\\nfrom sklearn.feature_extraction.text import TfidfVectorizer\\nfrom sklearn.metrics.pairwise import cosine_similarity\\n\\ndef text_summarizer(text):\\n    sentences = sent_tokenize(text)\\n    stop_words = set(stopwords.words('english'))\\n    vectorizer = TfidfVectorizer()\\n    ps = PorterStemmer()\\n\\n    def preprocess_sentence(sentence):\\n        words = [ps.stem(word) for word in sentence.split() if word.lower() not in stop_words]\\n        return ' '.join(words)\\n\\n    preprocessed_sentences = [preprocess_sentence(sentence) for sentence in sentences]\\n\\n    try:\\n        tfidf_matrix = vectorizer.fit_transform(preprocessed_sentences)\\n        sentence_similarity = cosine_similarity(tfidf_matrix, tfidf_matrix)\\n    except ValueError:\\n        return \"Input text is too short for summarization.\"\\n\\n    sentence_scores = [(index, sum(sentence_similarity[index])) for index in range(len(sentences))]\\n    sentence_scores = sorted(sentence_scores, key=lambda x: x[1], reverse=True)\\n\\n    summary_sentences = [sentences[score[0]] for score in sentence_scores[:2]]\\n    summary = ' '.join(summary_sentences)\\n\\n    return summary\\n\\n# Example Usage:\\ninput_text = \"Your input text goes here. It should be a longer piece of text for meaningful summarization.\"\\nsummary_result = text_summarizer(input_text)\\nprint(summary_result)</td>\n",
              "      <td>True</td>\n",
              "    </tr>\n",
              "    <tr>\n",
              "      <th>3</th>\n",
              "      <td>Create a program in Python to generate random passwords of 8 characters.</td>\n",
              "      <td>import random\\nimport string\\n\\ndef generate_random_password():\\n    password_length = 8\\n    characters = string.ascii_letters + string.digits + string.punctuation\\n    password = ''.join(random.choice(characters) for i in range(password_length))\\n    return password\\n\\n# Example Usage:\\nrandom_password = generate_random_password()\\nprint(random_password)</td>\n",
              "      <td>True</td>\n",
              "    </tr>\n",
              "    <tr>\n",
              "      <th>4</th>\n",
              "      <td>Design a python program to replace every occurrence of a word in a string with another word.</td>\n",
              "      <td>def replace_word(string, word, replacement_word):\\n    return string.replace(word)\\n\\nprint(replace_word(\"Hello hello world!\", \"hello\", \"welcome\"))</td>\n",
              "      <td>False</td>\n",
              "    </tr>\n",
              "  </tbody>\n",
              "</table>\n",
              "</div>"
            ],
            "text/plain": [
              "                                                                                                                              coding_instruction  \\\n",
              "0  Create a neural network in Python from scratch that takes a 2D array of numbers as its input and predicts the sum of the numbers in each row.   \n",
              "1                                                                                  Generate a Python program to find the mode of the given list.   \n",
              "2                                Develop a text summarizer in Python that takes a text input and returns a summary of the text in two sentences.   \n",
              "3                                                                       Create a program in Python to generate random passwords of 8 characters.   \n",
              "4                                                   Design a python program to replace every occurrence of a word in a string with another word.   \n",
              "\n",
              "                                                                                                                                                                                                                                                                                                                                                                                                                                                                                                                                                                                                                                                                                                                                                                                                                                                                                                                                                                                                                                                                                                                                                                                                                                                                                                                                                                                                                                                                                         code  \\\n",
              "0                                                                                                                                                                                                                                                                                                                                                                                                                                                                                                                                                                                                                                                                                                                                                                                                                                                                                                                                                                                                                                import numpy as np\\n\\nclass NeuralNetwork:\\n    def __init__(self, input_size):\\n        self.weights = np.random.rand(input_size, 1)\\n        self.bias = np.random.rand(1, 1)\\n\\n    def predict(self, X):\\n        return np.dot(X, self.weights) + self.bias\\n\\n# Example Usage:\\ninput_data = np.array([[1, 2, 3], [4, 5, 6], [7, 8, 9]])\\nnn = NeuralNetwork(input_size=input_data.shape[1])\\npredictions = nn.predict(input_data)\\nprint(predictions)   \n",
              "1                                                                                                                                                                                                                                                                                                                                                                                                                                                                                                                                                                                                                                                                                                                                                                                                                                                                                                                                                                                                                                                                                                                                                                            from statistics import mode\\n\\ndef find_mode(input_list):\\n    try:\\n        result = mode(input_list)\\n        return result\\n    except StatisticsError:\\n        return \"No unique mode found\"\\n\\n# Example Usage:\\ndata_list = [1, 2, 2, 3, 4, 4, 5]\\nmode_result = find_mode(data_list)\\nprint(mode_result)   \n",
              "2  from nltk import sent_tokenize\\nfrom nltk.corpus import stopwords\\nfrom nltk.stem import PorterStemmer\\nfrom sklearn.feature_extraction.text import TfidfVectorizer\\nfrom sklearn.metrics.pairwise import cosine_similarity\\n\\ndef text_summarizer(text):\\n    sentences = sent_tokenize(text)\\n    stop_words = set(stopwords.words('english'))\\n    vectorizer = TfidfVectorizer()\\n    ps = PorterStemmer()\\n\\n    def preprocess_sentence(sentence):\\n        words = [ps.stem(word) for word in sentence.split() if word.lower() not in stop_words]\\n        return ' '.join(words)\\n\\n    preprocessed_sentences = [preprocess_sentence(sentence) for sentence in sentences]\\n\\n    try:\\n        tfidf_matrix = vectorizer.fit_transform(preprocessed_sentences)\\n        sentence_similarity = cosine_similarity(tfidf_matrix, tfidf_matrix)\\n    except ValueError:\\n        return \"Input text is too short for summarization.\"\\n\\n    sentence_scores = [(index, sum(sentence_similarity[index])) for index in range(len(sentences))]\\n    sentence_scores = sorted(sentence_scores, key=lambda x: x[1], reverse=True)\\n\\n    summary_sentences = [sentences[score[0]] for score in sentence_scores[:2]]\\n    summary = ' '.join(summary_sentences)\\n\\n    return summary\\n\\n# Example Usage:\\ninput_text = \"Your input text goes here. It should be a longer piece of text for meaningful summarization.\"\\nsummary_result = text_summarizer(input_text)\\nprint(summary_result)   \n",
              "3                                                                                                                                                                                                                                                                                                                                                                                                                                                                                                                                                                                                                                                                                                                                                                                                                                                                                                                                                                                                                                                                                                                      import random\\nimport string\\n\\ndef generate_random_password():\\n    password_length = 8\\n    characters = string.ascii_letters + string.digits + string.punctuation\\n    password = ''.join(random.choice(characters) for i in range(password_length))\\n    return password\\n\\n# Example Usage:\\nrandom_password = generate_random_password()\\nprint(random_password)   \n",
              "4                                                                                                                                                                                                                                                                                                                                                                                                                                                                                                                                                                                                                                                                                                                                                                                                                                                                                                                                                                                                                                                                                                                                                                                                                                                                                                                                         def replace_word(string, word, replacement_word):\\n    return string.replace(word)\\n\\nprint(replace_word(\"Hello hello world!\", \"hello\", \"welcome\"))   \n",
              "\n",
              "   is_well_coded  \n",
              "0           True  \n",
              "1           True  \n",
              "2           True  \n",
              "3           True  \n",
              "4          False  "
            ]
          },
          "execution_count": 3,
          "metadata": {},
          "output_type": "execute_result"
        }
      ],
      "source": [
        "df = pd.read_csv(\"https://storage.googleapis.com/arize-assets/phoenix/evals/code-functionality/validated_python_code_samples_2.csv\")\n",
        "\n",
        "df.head()"
      ]
    },
    {
      "cell_type": "markdown",
      "metadata": {
        "id": "khGGD8hN6hCP"
      },
      "source": [
        "\n",
        "\n",
        "```\n",
        "# This is formatted as code\n",
        "```\n",
        "\n",
        "## Display Code Functionality Classification Template\n",
        "\n",
        "View the default template used to code functionality. You can tweak this template and evaluate its performance relative to the default."
      ]
    },
    {
      "cell_type": "code",
      "execution_count": 19,
      "metadata": {
        "id": "BQAEPJJn7vcj"
      },
      "outputs": [
        {
          "name": "stdout",
          "output_type": "stream",
          "text": [
            "\n",
            "Code Evaluation Prompt:\n",
            "-----------------------\n",
            "Evaluate the provided code to determine its correctness in solving the given instruction.\n",
            "\n",
            "Data:\n",
            "-----\n",
            "[Instruction]: {coding_instruction}\n",
            "  Clearly define the task or problem that the code aims to address.\n",
            "\n",
            "[Reference Code]: {code}\n",
            "  Examine the submitted code for evaluation in the context of the provided instruction.\n",
            "\n",
            "Evaluation:\n",
            "-----------\n",
            "Provide a concise response with a single word: either \"bug_free\" or \"is_bug\".\n",
            "- \"bug_free\" signifies that the code correctly and efficiently solves the instruction with no bugs.\n",
            "- \"is_bug\" indicates that the code either fails to meet the instruction requirements or contains bugs.\n",
            "\n",
            "Example:\n",
            "-----------\n",
            "\n",
            "[Instruction]: Implement the Fibonacci sequence in Python.\n",
            "\n",
            "[Reference Code]: 'def fibonacci(n):\n",
            "    if n <= 1:\n",
            "        return n\n",
            "    else:\n",
            "        return fibonacci(n - 1) + fibonacci(n - 2)\n",
            "\n",
            "for i in range(10):\n",
            "    print(fibonacci(i))'\n",
            "\n",
            "[Output]: bug_free\n",
            "\n",
            "Note: Assumptions can be made that any code needed for the instruction is correct, and optimization is not a requirement for a correct solution. Your response should consist solely of the words \"bug_free\" or \"is_bug\" without additional text or characters.\n",
            "\n"
          ]
        }
      ],
      "source": [
        "print(CODE_FUNCTIONALITY_PROMPT_TEMPLATE)"
      ]
    },
    {
      "cell_type": "markdown",
      "metadata": {
        "id": "505OyTtx6hCQ"
      },
      "source": [
        "The template variables are:\n",
        "\n",
        "- **input:** TODO\n",
        "- **reference:** TODO\n",
        "- **output:** TODO"
      ]
    },
    {
      "cell_type": "markdown",
      "metadata": {
        "id": "cWTzktuj6hCQ"
      },
      "source": [
        "## Configure the LLM\n",
        "\n",
        "Configure your OpenAI API key."
      ]
    },
    {
      "cell_type": "code",
      "execution_count": 7,
      "metadata": {
        "colab": {
          "base_uri": "https://localhost:8080/"
        },
        "id": "Hq-KlIVH6hCQ",
        "outputId": "3b978aaa-183d-489a-afb8-e37db1cb2110"
      },
      "outputs": [],
      "source": [
        "if not (openai_api_key := os.getenv(\"OPENAI_API_KEY\")):\n",
        "    openai_api_key = getpass(\"🔑 Enter your OpenAI API key: \")\n",
        "os.environ[\"OPENAI_API_KEY\"] = openai_api_key"
      ]
    },
    {
      "cell_type": "markdown",
      "metadata": {
        "id": "aNybVoRm6hCR"
      },
      "source": [
        "## Benchmark Dataset Sample\n",
        "Sample size determines run time\n",
        "Recommend iterating small: 100 samples\n",
        "Then increasing to large test set"
      ]
    },
    {
      "cell_type": "markdown",
      "metadata": {
        "id": "MSOJ9_2_6hCR"
      },
      "source": [
        "## LLM Evals: Code Functionality Classifications GPT-4\n",
        "Run Code Functionality against a subset of the data.\n",
        "Instantiate the LLM and set parameters."
      ]
    },
    {
      "cell_type": "code",
      "execution_count": 8,
      "metadata": {
        "colab": {
          "base_uri": "https://localhost:8080/"
        },
        "id": "rQ4dZYfS6hCS",
        "outputId": "cb3b06db-0170-4ae2-d1ea-1440dcc66922"
      },
      "outputs": [
        {
          "name": "stdout",
          "output_type": "stream",
          "text": [
            "The `model_name` field is deprecated. Use `model` instead.                 This will be removed in a future release.\n"
          ]
        }
      ],
      "source": [
        "model = OpenAIModel(\n",
        "    model_name=\"gpt-4\",\n",
        "    temperature=0.0,\n",
        ")"
      ]
    },
    {
      "cell_type": "code",
      "execution_count": 9,
      "metadata": {
        "colab": {
          "base_uri": "https://localhost:8080/",
          "height": 35
        },
        "id": "VeNgrhj16hCS",
        "outputId": "d5c76620-cb75-4edb-d37f-afff6b72e75d"
      },
      "outputs": [
        {
          "data": {
            "text/plain": [
              "\"Hello! I'm working perfectly. How can I assist you today?\""
            ]
          },
          "execution_count": 9,
          "metadata": {},
          "output_type": "execute_result"
        }
      ],
      "source": [
        "model(\"Hello world, this is a test if you are working?\")"
      ]
    },
    {
      "cell_type": "markdown",
      "metadata": {
        "id": "7oLPjvr36hCT"
      },
      "source": [
        "## Run Code Func Classifications\n",
        "\n",
        "Run code functionality classifications against a subset of the data."
      ]
    },
    {
      "cell_type": "code",
      "execution_count": 10,
      "metadata": {
        "colab": {
          "base_uri": "https://localhost:8080/",
          "height": 49,
          "referenced_widgets": [
            "8763982494d64e97bf50204d4b8beca3",
            "34e87b1773004b83ae4f227a2ec4e504",
            "b5914f9bde894147a126f2552c68212c",
            "a508ddd770e44356a773d94ab8fcf977",
            "bb44d964d93642b9946253033c3d9e94",
            "8b4a5af6f76d431d8570e7400f8086fd",
            "a9933a0bab7f496fa2527f1abd4f2807",
            "2eefae02445a4b1e9aad8fdc47a63572",
            "ca3b583f7f5845f3b0cf197ac1b63976",
            "568d5c22695a4108b3b0c27119cbf97e",
            "f55ce1255e3f4dc6aab23b448a5c7574"
          ]
        },
        "id": "Q2592lfO6hCU",
        "outputId": "5e200b64-d312-4f9a-9c22-7abe4cf96883"
      },
      "outputs": [
        {
          "name": "stderr",
          "output_type": "stream",
          "text": [
            "llm_classify |██████████| 50/50 (100.0%) | ⏳ 00:09<00:00 |  5.20it/s\n"
          ]
        }
      ],
      "source": [
        "# The rails is used to hold the output to specific values based on the template\n",
        "# It will remove text such as \",,,\" or \"...\"\n",
        "# Will ensure the binary value expected from the template is returned\n",
        "rails = list(CODE_FUNCTIONALITY_PROMPT_RAILS_MAP.values())\n",
        "relevance_classifications = llm_classify(\n",
        "    dataframe=df,\n",
        "    template=CODE_FUNCTIONALITY_PROMPT_TEMPLATE,\n",
        "    model=model,\n",
        "    rails=rails,\n",
        "    concurrency=20,\n",
        ")[\"label\"].tolist()"
      ]
    },
    {
      "cell_type": "markdown",
      "metadata": {
        "id": "ImqyWlGw6hCV"
      },
      "source": [
        "## Evaluate Classifications\n",
        "\n",
        "Evaluate the predictions against human-labeled ground-truth code functionality labels."
      ]
    },
    {
      "cell_type": "code",
      "execution_count": 11,
      "metadata": {
        "colab": {
          "base_uri": "https://localhost:8080/",
          "height": 651
        },
        "id": "8Ls9n2S76hCW",
        "outputId": "d4167fe4-2260-4b92-dd39-0bbe7f921ef3"
      },
      "outputs": [
        {
          "name": "stdout",
          "output_type": "stream",
          "text": [
            "              precision    recall  f1-score   support\n",
            "\n",
            "    bug_free       0.96      0.77      0.86        31\n",
            "      is_bug       0.72      0.95      0.82        19\n",
            "\n",
            "    accuracy                           0.84        50\n",
            "   macro avg       0.84      0.86      0.84        50\n",
            "weighted avg       0.87      0.84      0.84        50\n",
            "\n"
          ]
        },
        {
          "data": {
            "text/plain": [
              "<Axes: title={'center': 'Confusion Matrix (Normalized)'}, xlabel='Predicted Classes', ylabel='Actual Classes'>"
            ]
          },
          "execution_count": 11,
          "metadata": {},
          "output_type": "execute_result"
        },
        {
          "data": {
            "image/png": "[encoded data removed]",
            "text/plain": [
              "<Figure size 640x480 with 2 Axes>"
            ]
          },
          "metadata": {},
          "output_type": "display_data"
        }
      ],
      "source": [
        "true_labels = df[\"is_well_coded\"].map(CODE_FUNCTIONALITY_PROMPT_RAILS_MAP).tolist()\n",
        "\n",
        "print(classification_report(true_labels, relevance_classifications, labels=rails))\n",
        "confusion_matrix = ConfusionMatrix(\n",
        "    actual_vector=true_labels, predict_vector=relevance_classifications, classes=rails\n",
        ")\n",
        "confusion_matrix.plot(\n",
        "    cmap=plt.colormaps[\"Blues\"],\n",
        "    number_label=True,\n",
        "    normalized=True,\n",
        ")"
      ]
    },
    {
      "cell_type": "markdown",
      "metadata": {
        "id": "w5ZJV1IC6hCX"
      },
      "source": [
        "## Classifications with explanations\n",
        "\n",
        "When evaluating a dataset for code functionality, it can be useful to know why the LLM classified a document as relevant or irrelevant. The following code block runs `llm_classify` with explanations turned on so that we can inspect why the LLM made the classification it did. There is speed tradeoff since more tokens is being generated but it can be highly informative when troubleshooting."
      ]
    },
    {
      "cell_type": "code",
      "execution_count": 12,
      "metadata": {
        "colab": {
          "base_uri": "https://localhost:8080/",
          "height": 873,
          "referenced_widgets": [
            "1f7c7ce2ea874835986c9988bc062d82",
            "bb5911202039461b98517aba47f7e656",
            "3357650b34ed48848c6aec68957a9654",
            "5b85cf639b5c4a0cb5e4acff52a58ae8",
            "b5440442ff814c69ab5409ec55b16a4e",
            "0d06c9bac593459e8b4349697b60fd45",
            "5ccf1ab7cc164b6cb0c12b99dbd526e1",
            "6f96f9c08c6742429e31e35b5b5e9c45",
            "861dc30d89d846c6a6f5c1b5398b877c",
            "90253079c26747df99af818a9edabf36",
            "e8071c5ea332447c894cd34bee283ab2"
          ]
        },
        "id": "DwS_xRu-6hCY",
        "outputId": "8b6783fe-6ff3-4a18-e363-a3bc5238bce6"
      },
      "outputs": [
        {
          "name": "stdout",
          "output_type": "stream",
          "text": [
            "Using prompt:\n",
            "\n",
            "\n",
            "Code Evaluation Prompt:\n",
            "-----------------------\n",
            "Evaluate the provided code to determine its correctness in solving the given instruction.\n",
            "\n",
            "Data:\n",
            "-----\n",
            "[Instruction]: {coding_instruction}\n",
            "  Clearly define the task or problem that the code aims to address.\n",
            "\n",
            "[Reference Code]: {code}\n",
            "  Examine the submitted code for evaluation in the context of the provided instruction.\n",
            "\n",
            "Evaluation:\n",
            "-----------\n",
            "Provide a concise response with a single word: either \"bug_free\" or \"is_bug\".\n",
            "- \"bug_free\" signifies that the code correctly and efficiently solves the instruction with no bugs.\n",
            "- \"is_bug\" indicates that the code either fails to meet the instruction requirements or contains bugs.\n",
            "\n",
            "Example:\n",
            "-----------\n",
            "\n",
            "[Instruction]: Implement the Fibonacci sequence in Python.\n",
            "\n",
            "[Reference Code]: 'def fibonacci(n):\n",
            "    if n <= 1:\n",
            "        return n\n",
            "    else:\n",
            "        return fibonacci(n - 1) + fibonacci(n - 2)\n",
            "\n",
            "for i in range(10):\n",
            "    print(fibonacci(i))'\n",
            "\n",
            "[Output]: bug_free\n",
            "\n",
            "Note: Assumptions can be made that any code needed for the instruction is correct, and optimization is not a requirement for a correct solution. Your response should consist solely of the words \"bug_free\" or \"is_bug\" without additional text or characters.\n",
            "\n",
            "OpenAI invocation parameters: {'model': 'gpt-4', 'temperature': 0.0, 'max_tokens': 256, 'frequency_penalty': 0, 'presence_penalty': 0, 'top_p': 1, 'n': 1, 'timeout': None}\n"
          ]
        },
        {
          "name": "stderr",
          "output_type": "stream",
          "text": [
            "llm_classify |██        | 1/5 (20.0%) | ⏳ 00:02<00:10 |  2.55s/it"
          ]
        },
        {
          "name": "stdout",
          "output_type": "stream",
          "text": [
            "- Snapped 'is_bug' to rail: is_bug\n"
          ]
        },
        {
          "name": "stderr",
          "output_type": "stream",
          "text": [
            "llm_classify |████      | 2/5 (40.0%) | ⏳ 00:04<00:06 |  2.09s/it "
          ]
        },
        {
          "name": "stdout",
          "output_type": "stream",
          "text": [
            "- Snapped 'bug_free' to rail: bug_free\n"
          ]
        },
        {
          "name": "stderr",
          "output_type": "stream",
          "text": [
            "llm_classify |██████    | 3/5 (60.0%) | ⏳ 00:04<00:02 |  1.28s/it "
          ]
        },
        {
          "name": "stdout",
          "output_type": "stream",
          "text": [
            "- Snapped 'bug_free' to rail: bug_free\n"
          ]
        },
        {
          "name": "stderr",
          "output_type": "stream",
          "text": [
            "llm_classify |████████  | 4/5 (80.0%) | ⏳ 00:05<00:00 |  1.02it/s "
          ]
        },
        {
          "name": "stdout",
          "output_type": "stream",
          "text": [
            "- Snapped 'bug_free' to rail: bug_free\n"
          ]
        },
        {
          "name": "stderr",
          "output_type": "stream",
          "text": [
            "llm_classify |██████████| 5/5 (100.0%) | ⏳ 00:07<00:00 |  1.34s/it"
          ]
        },
        {
          "name": "stdout",
          "output_type": "stream",
          "text": [
            "- Snapped 'is_bug' to rail: is_bug\n"
          ]
        },
        {
          "name": "stderr",
          "output_type": "stream",
          "text": [
            "llm_classify |██████████| 5/5 (100.0%) | ⏳ 00:08<00:00 |  1.63s/it\n"
          ]
        }
      ],
      "source": [
        "small_df_sample = df.copy().sample(n=5).reset_index(drop=True)\n",
        "relevance_classifications_df = llm_classify(\n",
        "    dataframe=small_df_sample,\n",
        "    template=CODE_FUNCTIONALITY_PROMPT_TEMPLATE,\n",
        "    model=model,\n",
        "    rails=rails,\n",
        "    provide_explanation=True,\n",
        "    verbose=True,\n",
        "    concurrency=20,\n",
        ")"
      ]
    },
    {
      "cell_type": "code",
      "execution_count": 13,
      "metadata": {
        "colab": {
          "base_uri": "https://localhost:8080/",
          "height": 1000
        },
        "id": "Kz0R9iIO6hCY",
        "outputId": "9413f186-6c65-4f0b-a1a7-23d903c4bd9d"
      },
      "outputs": [
        {
          "data": {
            "text/html": [
              "<div>\n",
              "<style scoped>\n",
              "    .dataframe tbody tr th:only-of-type {\n",
              "        vertical-align: middle;\n",
              "    }\n",
              "\n",
              "    .dataframe tbody tr th {\n",
              "        vertical-align: top;\n",
              "    }\n",
              "\n",
              "    .dataframe thead th {\n",
              "        text-align: right;\n",
              "    }\n",
              "</style>\n",
              "<table border=\"1\" class=\"dataframe\">\n",
              "  <thead>\n",
              "    <tr style=\"text-align: right;\">\n",
              "      <th></th>\n",
              "      <th>coding_instruction</th>\n",
              "      <th>code</th>\n",
              "      <th>label</th>\n",
              "      <th>explanation</th>\n",
              "    </tr>\n",
              "  </thead>\n",
              "  <tbody>\n",
              "    <tr>\n",
              "      <th>0</th>\n",
              "      <td>Take the list of people below and create a Python dictionary with the names as keys and the ages as values.</td>\n",
              "      <td>people_dict = {'John': '20', 'Jane': 40, 'Alex': 18, 'Peter': 45}</td>\n",
              "      <td>is_bug</td>\n",
              "      <td>The code has a bug. The age of 'John' is given as a string instead of an integer. All ages should be integers for consistency.</td>\n",
              "    </tr>\n",
              "    <tr>\n",
              "      <th>1</th>\n",
              "      <td>Construct a python script to display the frequency of each words appearing in a document</td>\n",
              "      <td>from collections import Counter\\n \\nwith open('text.txt', 'r') as f:\\n    data = f.read().lower().split()\\n    \\nword_counter = Counter(data)\\n \\n# Print the sorted most common 10 words\\nfor word, count in word_counter.most_common(10):\\n    print('{}: {}'.format(word, count))</td>\n",
              "      <td>bug_free</td>\n",
              "      <td>The provided code correctly opens a text file, reads the data, converts it to lowercase, splits it into words, counts the frequency of each word using the Counter class from the collections module, and then prints the 10 most common words with their frequencies. Therefore, it correctly solves the given instruction.</td>\n",
              "    </tr>\n",
              "    <tr>\n",
              "      <th>2</th>\n",
              "      <td>Generate a python program to normalize a list of values in the range 0 and 1</td>\n",
              "      <td>def normalize_list(input_list):\\n    min_val = min(input_list)\\n    max_val = max(input_list)\\n    output_list = []\\n    for value in input_list:\\n        normalized_value = (value - min_val) / (max_val - min_val)\\n        output_list.append(normalized_value)\\n    return output_list</td>\n",
              "      <td>bug_free</td>\n",
              "      <td>The provided code correctly normalizes a list of values in the range 0 and 1. It first finds the minimum and maximum values in the list, then for each value in the list, it subtracts the minimum value and divides by the range (max - min). This will result in a list where all values are between 0 and 1, inclusive. Therefore, the code is bug-free.</td>\n",
              "    </tr>\n",
              "    <tr>\n",
              "      <th>3</th>\n",
              "      <td>Create a program in Python to generate random passwords of 8 characters.</td>\n",
              "      <td>import random\\nimport string\\n\\ndef generate_random_password():\\n    password_length = 8\\n    characters = string.ascii_letters + string.digits + string.punctuation\\n    password = ''.join(random.choice(characters) for i in range(password_length))\\n    return password\\n\\n# Example Usage:\\nrandom_password = generate_random_password()\\nprint(random_password)</td>\n",
              "      <td>bug_free</td>\n",
              "      <td>The provided Python code correctly generates a random password of 8 characters. It uses the string and random libraries to create a string of 8 random characters, which includes ascii letters (both lowercase and uppercase), digits, and punctuation. Therefore, the code is bug-free and meets the requirements of the instruction.</td>\n",
              "    </tr>\n",
              "    <tr>\n",
              "      <th>4</th>\n",
              "      <td>Write a web scraper in Python that collects job postings from an online job search website.</td>\n",
              "      <td>import requests\\nfrom bs4 import BeautifulSoup\\n\\ndef scraper(url):\\n  response = requests.get(url)\\n  html = response.content\\n  soup = BeautifulSoup(html, 'lxml')\\n\\n  job_links = soup.find_all('h3', class_='job-title')  # bug introduced - changed h2 to h3\\n  \\n  jobs = []\\n  for job_link in job_links:\\n    job_url = job_link.find('a')['href']\\n    job_title = job_link.find('a').title  # bug introduced - changed .text to .title\\n    job_id = job_url[job_url.find('/') + 1:]  # bug introduced - changed .rfind to .find\\n    job = { 'title': job_title, 'url': job_url, 'id': job_id }\\n    jobs.append(job)\\n\\n  return jobs\\n\\nurl = 'https://www.example.com/jobs'\\njobs = scraper(url)</td>\n",
              "      <td>is_bug</td>\n",
              "      <td>The code contains several bugs. First, the tag and class used to find job links may not be correct ('h3', class_='job-title'), as it depends on the specific structure of the website being scraped. Second, the 'title' attribute is used to get the job title, but it should be 'text'. Lastly, the 'find' method is used to get the job id from the job url, but it should be 'rfind' to get the last part of the url after the last '/'.</td>\n",
              "    </tr>\n",
              "  </tbody>\n",
              "</table>\n",
              "</div>"
            ],
            "text/plain": [
              "                                                                                            coding_instruction  \\\n",
              "0  Take the list of people below and create a Python dictionary with the names as keys and the ages as values.   \n",
              "1                     Construct a python script to display the frequency of each words appearing in a document   \n",
              "2                                 Generate a python program to normalize a list of values in the range 0 and 1   \n",
              "3                                     Create a program in Python to generate random passwords of 8 characters.   \n",
              "4                  Write a web scraper in Python that collects job postings from an online job search website.   \n",
              "\n",
              "                                                                                                                                                                                                                                                                                                                                                                                                                                                                                                                                                                                                                                                                                                              code  \\\n",
              "0                                                                                                                                                                                                                                                                                                                                                                                                                                                                                                                                                                                                                                                people_dict = {'John': '20', 'Jane': 40, 'Alex': 18, 'Peter': 45}   \n",
              "1                                                                                                                                                                                                                                                                                                                                                                                                                             from collections import Counter\\n \\nwith open('text.txt', 'r') as f:\\n    data = f.read().lower().split()\\n    \\nword_counter = Counter(data)\\n \\n# Print the sorted most common 10 words\\nfor word, count in word_counter.most_common(10):\\n    print('{}: {}'.format(word, count))   \n",
              "2                                                                                                                                                                                                                                                                                                                                                                                                                      def normalize_list(input_list):\\n    min_val = min(input_list)\\n    max_val = max(input_list)\\n    output_list = []\\n    for value in input_list:\\n        normalized_value = (value - min_val) / (max_val - min_val)\\n        output_list.append(normalized_value)\\n    return output_list   \n",
              "3                                                                                                                                                                                                                                                                                                                                           import random\\nimport string\\n\\ndef generate_random_password():\\n    password_length = 8\\n    characters = string.ascii_letters + string.digits + string.punctuation\\n    password = ''.join(random.choice(characters) for i in range(password_length))\\n    return password\\n\\n# Example Usage:\\nrandom_password = generate_random_password()\\nprint(random_password)   \n",
              "4  import requests\\nfrom bs4 import BeautifulSoup\\n\\ndef scraper(url):\\n  response = requests.get(url)\\n  html = response.content\\n  soup = BeautifulSoup(html, 'lxml')\\n\\n  job_links = soup.find_all('h3', class_='job-title')  # bug introduced - changed h2 to h3\\n  \\n  jobs = []\\n  for job_link in job_links:\\n    job_url = job_link.find('a')['href']\\n    job_title = job_link.find('a').title  # bug introduced - changed .text to .title\\n    job_id = job_url[job_url.find('/') + 1:]  # bug introduced - changed .rfind to .find\\n    job = { 'title': job_title, 'url': job_url, 'id': job_id }\\n    jobs.append(job)\\n\\n  return jobs\\n\\nurl = 'https://www.example.com/jobs'\\njobs = scraper(url)   \n",
              "\n",
              "      label  \\\n",
              "0    is_bug   \n",
              "1  bug_free   \n",
              "2  bug_free   \n",
              "3  bug_free   \n",
              "4    is_bug   \n",
              "\n",
              "                                                                                                                                                                                                                                                                                                                                                                                                                                    explanation  \n",
              "0                                                                                                                                                                                                                                                                                                                The code has a bug. The age of 'John' is given as a string instead of an integer. All ages should be integers for consistency.  \n",
              "1                                                                                                                  The provided code correctly opens a text file, reads the data, converts it to lowercase, splits it into words, counts the frequency of each word using the Counter class from the collections module, and then prints the 10 most common words with their frequencies. Therefore, it correctly solves the given instruction.  \n",
              "2                                                                                   The provided code correctly normalizes a list of values in the range 0 and 1. It first finds the minimum and maximum values in the list, then for each value in the list, it subtracts the minimum value and divides by the range (max - min). This will result in a list where all values are between 0 and 1, inclusive. Therefore, the code is bug-free.  \n",
              "3                                                                                                       The provided Python code correctly generates a random password of 8 characters. It uses the string and random libraries to create a string of 8 random characters, which includes ascii letters (both lowercase and uppercase), digits, and punctuation. Therefore, the code is bug-free and meets the requirements of the instruction.  \n",
              "4  The code contains several bugs. First, the tag and class used to find job links may not be correct ('h3', class_='job-title'), as it depends on the specific structure of the website being scraped. Second, the 'title' attribute is used to get the job title, but it should be 'text'. Lastly, the 'find' method is used to get the job id from the job url, but it should be 'rfind' to get the last part of the url after the last '/'.  "
            ]
          },
          "execution_count": 13,
          "metadata": {},
          "output_type": "execute_result"
        }
      ],
      "source": [
        "# Let's view the data\n",
        "merged_df = pd.merge(\n",
        "    small_df_sample, relevance_classifications_df, left_index=True, right_index=True\n",
        ")\n",
        "merged_df[[\"coding_instruction\", \"code\", \"label\", \"explanation\"]].head()"
      ]
    },
    {
      "cell_type": "markdown",
      "metadata": {
        "id": "cHNsvloA6hCZ"
      },
      "source": [
        "## LLM Evals: code functionality Classifications GPT-3.5 Turbo\n",
        "Run Code functionality against a subset of the data using GPT-3.5. GPT-3.5 can significantly speed up the classification process. However there are tradeoffs as  we will see below."
      ]
    },
    {
      "cell_type": "code",
      "execution_count": 14,
      "metadata": {
        "colab": {
          "base_uri": "https://localhost:8080/"
        },
        "id": "jiQ9LvpU6hCZ",
        "outputId": "6054cdec-f39b-406c-870b-47cd296e56c9"
      },
      "outputs": [
        {
          "name": "stdout",
          "output_type": "stream",
          "text": [
            "The `model_name` field is deprecated. Use `model` instead.                 This will be removed in a future release.\n"
          ]
        }
      ],
      "source": [
        "model = OpenAIModel(model_name=\"gpt-3.5-turbo\", temperature=0.0, request_timeout=20)"
      ]
    },
    {
      "cell_type": "markdown",
      "metadata": {
        "id": "qn7yl3yZ6hCZ"
      },
      "source": []
    },
    {
      "cell_type": "code",
      "execution_count": 15,
      "metadata": {
        "colab": {
          "base_uri": "https://localhost:8080/",
          "height": 49,
          "referenced_widgets": [
            "62fd28d79b6d4bae912756a47d1450f2",
            "be64e987f1a547bdb9196b30bae0c2a2",
            "d0bc41ba95514e56b13bb6da23c26bd3",
            "19d2b7ed9b3949adbf9430b40c690800",
            "a78025bd35c84f3793772fd38872bbf3",
            "ff7320e39af3418483200597313e3a9f",
            "e5e348e67d674c77bf5b33643b2ae9ee",
            "efbd10c59abd49e0becbb8e17c6c046f",
            "dc58c35b2e554e0aa0689e3eb8c36e75",
            "dafe7d73cdb54b52a74596dd8d07ef2d",
            "60d5450863e64e36975beda2392ef80a"
          ]
        },
        "id": "uPSGto_B6hCZ",
        "outputId": "ef0454b7-6d6d-47ac-f73c-d2d3a3322565"
      },
      "outputs": [
        {
          "name": "stderr",
          "output_type": "stream",
          "text": [
            "llm_classify |██████████| 50/50 (100.0%) | ⏳ 00:09<00:00 |  5.39it/s\n"
          ]
        }
      ],
      "source": [
        "rails = list(CODE_FUNCTIONALITY_PROMPT_RAILS_MAP.values())\n",
        "relevance_classifications = llm_classify(\n",
        "    dataframe=df,\n",
        "    template=CODE_FUNCTIONALITY_PROMPT_TEMPLATE,\n",
        "    model=model,\n",
        "    rails=rails,\n",
        "    concurrency=20,\n",
        ")[\"label\"].tolist()"
      ]
    },
    {
      "cell_type": "code",
      "execution_count": 16,
      "metadata": {
        "colab": {
          "base_uri": "https://localhost:8080/",
          "height": 651
        },
        "id": "V6L35oYA6hCa",
        "outputId": "c147f626-389b-4356-bbb4-6f5a50a83902"
      },
      "outputs": [
        {
          "name": "stdout",
          "output_type": "stream",
          "text": [
            "              precision    recall  f1-score   support\n",
            "\n",
            "    bug_free       0.96      0.74      0.84        31\n",
            "      is_bug       0.69      0.95      0.80        19\n",
            "\n",
            "    accuracy                           0.82        50\n",
            "   macro avg       0.83      0.84      0.82        50\n",
            "weighted avg       0.86      0.82      0.82        50\n",
            "\n"
          ]
        },
        {
          "data": {
            "text/plain": [
              "<Axes: title={'center': 'Confusion Matrix (Normalized)'}, xlabel='Predicted Classes', ylabel='Actual Classes'>"
            ]
          },
          "execution_count": 16,
          "metadata": {},
          "output_type": "execute_result"
        },
        {
          "data": {
            "image/png": "[encoded data removed]",
            "text/plain": [
              "<Figure size 640x480 with 2 Axes>"
            ]
          },
          "metadata": {},
          "output_type": "display_data"
        }
      ],
      "source": [
        "true_labels = df[\"is_well_coded\"].map(CODE_FUNCTIONALITY_PROMPT_RAILS_MAP).tolist()\n",
        "\n",
        "print(classification_report(true_labels, relevance_classifications, labels=rails))\n",
        "confusion_matrix = ConfusionMatrix(\n",
        "    actual_vector=true_labels, predict_vector=relevance_classifications, classes=rails\n",
        ")\n",
        "confusion_matrix.plot(\n",
        "    cmap=plt.colormaps[\"Blues\"],\n",
        "    number_label=True,\n",
        "    normalized=True,\n",
        ")"
      ]
    },
    {
      "cell_type": "markdown",
      "metadata": {
        "id": "zCu7LB4z6hCa"
      },
      "source": [
        "## Preview: Running with GPT-4 Turbo"
      ]
    },
    {
      "cell_type": "code",
      "execution_count": 24,
      "metadata": {
        "colab": {
          "base_uri": "https://localhost:8080/",
          "height": 67,
          "referenced_widgets": [
            "eaf0c8354fc24e4aa228525639793107",
            "8499388789c04cf19e29279e9bc9c468",
            "6bfc17ec2fcd4cd4b2d250743590ca19",
            "554fa6afa4144418b9e7ae200ad12b91",
            "bb8d73f1129146c9809dd05ec848fb49",
            "14b484f8c5b84a248cfd6c7e584bb182",
            "4124a8afe45246fd811064e63a55fd6d",
            "34cdb200856f42f7bf6317022bc5b0f5",
            "89c44f8d9ad54370b75eacd7e83a4a70",
            "2ce2cdff3299422889b49b5107071a7b",
            "6490726f2b024d1d8bbedc36adbd7aa6"
          ]
        },
        "id": "jTN1nIqP6hCa",
        "outputId": "7aa1f761-01c3-4675-dc5d-3074ca767d2b"
      },
      "outputs": [
        {
          "name": "stdout",
          "output_type": "stream",
          "text": [
            "The `model_name` field is deprecated. Use `model` instead.                 This will be removed in a future release.\n"
          ]
        },
        {
          "name": "stderr",
          "output_type": "stream",
          "text": [
            "llm_classify |██████████| 50/50 (100.0%) | ⏳ 00:11<00:00 |  4.36it/s\n"
          ]
        }
      ],
      "source": [
        "model = OpenAIModel(model_name=\"gpt-4-1106-preview\")\n",
        "classifications = llm_classify(\n",
        "    dataframe=df,\n",
        "    template=CODE_FUNCTIONALITY_PROMPT_TEMPLATE,\n",
        "    model=model,\n",
        "    rails=list(CODE_FUNCTIONALITY_PROMPT_RAILS_MAP.values()),\n",
        "    concurrency=20,\n",
        ")[\"label\"].tolist()"
      ]
    },
    {
      "cell_type": "code",
      "execution_count": 18,
      "metadata": {
        "colab": {
          "base_uri": "https://localhost:8080/",
          "height": 651
        },
        "id": "dpaZ71bK6hCb",
        "outputId": "e77451db-27dc-48c3-b265-d7b58c0478e3"
      },
      "outputs": [
        {
          "name": "stdout",
          "output_type": "stream",
          "text": [
            "              precision    recall  f1-score   support\n",
            "\n",
            "    bug_free       1.00      0.77      0.87        31\n",
            "      is_bug       0.73      1.00      0.84        19\n",
            "\n",
            "    accuracy                           0.86        50\n",
            "   macro avg       0.87      0.89      0.86        50\n",
            "weighted avg       0.90      0.86      0.86        50\n",
            "\n"
          ]
        },
        {
          "data": {
            "text/plain": [
              "<Axes: title={'center': 'Confusion Matrix (Normalized)'}, xlabel='Predicted Classes', ylabel='Actual Classes'>"
            ]
          },
          "execution_count": 18,
          "metadata": {},
          "output_type": "execute_result"
        },
        {
          "data": {
            "image/png": "[encoded data removed]",
            "text/plain": [
              "<Figure size 640x480 with 2 Axes>"
            ]
          },
          "metadata": {},
          "output_type": "display_data"
        }
      ],
      "source": [
        "true_labels = df[\"is_well_coded\"].map(CODE_FUNCTIONALITY_PROMPT_RAILS_MAP).tolist()\n",
        "\n",
        "print(classification_report(true_labels, classifications, labels=rails))\n",
        "confusion_matrix = ConfusionMatrix(\n",
        "    actual_vector=true_labels, predict_vector=classifications, classes=rails\n",
        ")\n",
        "confusion_matrix.plot(\n",
        "    cmap=plt.colormaps[\"Blues\"],\n",
        "    number_label=True,\n",
        "    normalized=True,\n",
        ")"
      ]
    }
  ],
  "metadata": {
    "colab": {
      "provenance": []
    },
    "kernelspec": {
      "display_name": "Python 3 (ipykernel)",
      "language": "python",
      "name": "python3"
    },
    "language_info": {
      "codemirror_mode": {
        "name": "ipython",
        "version": 3
      },
      "file_extension": ".py",
      "mimetype": "text/x-python",
      "name": "python",
      "nbconvert_exporter": "python",
      "pygments_lexer": "ipython3",
      "version": "3.11.6"
    },
    "widgets": {
      "application/vnd.jupyter.widget-state+json": {
        "0d06c9bac593459e8b4349697b60fd45": {
          "model_module": "@jupyter-widgets/base",
          "model_module_version": "1.2.0",
          "model_name": "LayoutModel",
          "state": {
            "_model_module": "@jupyter-widgets/base",
            "_model_module_version": "1.2.0",
            "_model_name": "LayoutModel",
            "_view_count": null,
            "_view_module": "@jupyter-widgets/base",
            "_view_module_version": "1.2.0",
            "_view_name": "LayoutView",
            "align_content": null,
            "align_items": null,
            "align_self": null,
            "border": null,
            "bottom": null,
            "display": null,
            "flex": null,
            "flex_flow": null,
            "grid_area": null,
            "grid_auto_columns": null,
            "grid_auto_flow": null,
            "grid_auto_rows": null,
            "grid_column": null,
            "grid_gap": null,
            "grid_row": null,
            "grid_template_areas": null,
            "grid_template_columns": null,
            "grid_template_rows": null,
            "height": null,
            "justify_content": null,
            "justify_items": null,
            "left": null,
            "margin": null,
            "max_height": null,
            "max_width": null,
            "min_height": null,
            "min_width": null,
            "object_fit": null,
            "object_position": null,
            "order": null,
            "overflow": null,
            "overflow_x": null,
            "overflow_y": null,
            "padding": null,
            "right": null,
            "top": null,
            "visibility": null,
            "width": null
          }
        },
        "14b484f8c5b84a248cfd6c7e584bb182": {
          "model_module": "@jupyter-widgets/base",
          "model_module_version": "1.2.0",
          "model_name": "LayoutModel",
          "state": {
            "_model_module": "@jupyter-widgets/base",
            "_model_module_version": "1.2.0",
            "_model_name": "LayoutModel",
            "_view_count": null,
            "_view_module": "@jupyter-widgets/base",
            "_view_module_version": "1.2.0",
            "_view_name": "LayoutView",
            "align_content": null,
            "align_items": null,
            "align_self": null,
            "border": null,
            "bottom": null,
            "display": null,
            "flex": null,
            "flex_flow": null,
            "grid_area": null,
            "grid_auto_columns": null,
            "grid_auto_flow": null,
            "grid_auto_rows": null,
            "grid_column": null,
            "grid_gap": null,
            "grid_row": null,
            "grid_template_areas": null,
            "grid_template_columns": null,
            "grid_template_rows": null,
            "height": null,
            "justify_content": null,
            "justify_items": null,
            "left": null,
            "margin": null,
            "max_height": null,
            "max_width": null,
            "min_height": null,
            "min_width": null,
            "object_fit": null,
            "object_position": null,
            "order": null,
            "overflow": null,
            "overflow_x": null,
            "overflow_y": null,
            "padding": null,
            "right": null,
            "top": null,
            "visibility": null,
            "width": null
          }
        },
        "19d2b7ed9b3949adbf9430b40c690800": {
          "model_module": "@jupyter-widgets/controls",
          "model_module_version": "1.5.0",
          "model_name": "HTMLModel",
          "state": {
            "_dom_classes": [],
            "_model_module": "@jupyter-widgets/controls",
            "_model_module_version": "1.5.0",
            "_model_name": "HTMLModel",
            "_view_count": null,
            "_view_module": "@jupyter-widgets/controls",
            "_view_module_version": "1.5.0",
            "_view_name": "HTMLView",
            "description": "",
            "description_tooltip": null,
            "layout": "IPY_MODEL_dafe7d73cdb54b52a74596dd8d07ef2d",
            "placeholder": "​",
            "style": "IPY_MODEL_60d5450863e64e36975beda2392ef80a",
            "value": " 50/50 (100.0%) | ⏳ 00:10&lt;00:00 |  3.61it/s"
          }
        },
        "1f7c7ce2ea874835986c9988bc062d82": {
          "model_module": "@jupyter-widgets/controls",
          "model_module_version": "1.5.0",
          "model_name": "HBoxModel",
          "state": {
            "_dom_classes": [],
            "_model_module": "@jupyter-widgets/controls",
            "_model_module_version": "1.5.0",
            "_model_name": "HBoxModel",
            "_view_count": null,
            "_view_module": "@jupyter-widgets/controls",
            "_view_module_version": "1.5.0",
            "_view_name": "HBoxView",
            "box_style": "",
            "children": [
              "IPY_MODEL_bb5911202039461b98517aba47f7e656",
              "IPY_MODEL_3357650b34ed48848c6aec68957a9654",
              "IPY_MODEL_5b85cf639b5c4a0cb5e4acff52a58ae8"
            ],
            "layout": "IPY_MODEL_b5440442ff814c69ab5409ec55b16a4e"
          }
        },
        "2ce2cdff3299422889b49b5107071a7b": {
          "model_module": "@jupyter-widgets/base",
          "model_module_version": "1.2.0",
          "model_name": "LayoutModel",
          "state": {
            "_model_module": "@jupyter-widgets/base",
            "_model_module_version": "1.2.0",
            "_model_name": "LayoutModel",
            "_view_count": null,
            "_view_module": "@jupyter-widgets/base",
            "_view_module_version": "1.2.0",
            "_view_name": "LayoutView",
            "align_content": null,
            "align_items": null,
            "align_self": null,
            "border": null,
            "bottom": null,
            "display": null,
            "flex": null,
            "flex_flow": null,
            "grid_area": null,
            "grid_auto_columns": null,
            "grid_auto_flow": null,
            "grid_auto_rows": null,
            "grid_column": null,
            "grid_gap": null,
            "grid_row": null,
            "grid_template_areas": null,
            "grid_template_columns": null,
            "grid_template_rows": null,
            "height": null,
            "justify_content": null,
            "justify_items": null,
            "left": null,
            "margin": null,
            "max_height": null,
            "max_width": null,
            "min_height": null,
            "min_width": null,
            "object_fit": null,
            "object_position": null,
            "order": null,
            "overflow": null,
            "overflow_x": null,
            "overflow_y": null,
            "padding": null,
            "right": null,
            "top": null,
            "visibility": null,
            "width": null
          }
        },
        "2eefae02445a4b1e9aad8fdc47a63572": {
          "model_module": "@jupyter-widgets/base",
          "model_module_version": "1.2.0",
          "model_name": "LayoutModel",
          "state": {
            "_model_module": "@jupyter-widgets/base",
            "_model_module_version": "1.2.0",
            "_model_name": "LayoutModel",
            "_view_count": null,
            "_view_module": "@jupyter-widgets/base",
            "_view_module_version": "1.2.0",
            "_view_name": "LayoutView",
            "align_content": null,
            "align_items": null,
            "align_self": null,
            "border": null,
            "bottom": null,
            "display": null,
            "flex": null,
            "flex_flow": null,
            "grid_area": null,
            "grid_auto_columns": null,
            "grid_auto_flow": null,
            "grid_auto_rows": null,
            "grid_column": null,
            "grid_gap": null,
            "grid_row": null,
            "grid_template_areas": null,
            "grid_template_columns": null,
            "grid_template_rows": null,
            "height": null,
            "justify_content": null,
            "justify_items": null,
            "left": null,
            "margin": null,
            "max_height": null,
            "max_width": null,
            "min_height": null,
            "min_width": null,
            "object_fit": null,
            "object_position": null,
            "order": null,
            "overflow": null,
            "overflow_x": null,
            "overflow_y": null,
            "padding": null,
            "right": null,
            "top": null,
            "visibility": null,
            "width": null
          }
        },
        "3357650b34ed48848c6aec68957a9654": {
          "model_module": "@jupyter-widgets/controls",
          "model_module_version": "1.5.0",
          "model_name": "FloatProgressModel",
          "state": {
            "_dom_classes": [],
            "_model_module": "@jupyter-widgets/controls",
            "_model_module_version": "1.5.0",
            "_model_name": "FloatProgressModel",
            "_view_count": null,
            "_view_module": "@jupyter-widgets/controls",
            "_view_module_version": "1.5.0",
            "_view_name": "ProgressView",
            "bar_style": "success",
            "description": "",
            "description_tooltip": null,
            "layout": "IPY_MODEL_6f96f9c08c6742429e31e35b5b5e9c45",
            "max": 5,
            "min": 0,
            "orientation": "horizontal",
            "style": "IPY_MODEL_861dc30d89d846c6a6f5c1b5398b877c",
            "value": 5
          }
        },
        "34cdb200856f42f7bf6317022bc5b0f5": {
          "model_module": "@jupyter-widgets/base",
          "model_module_version": "1.2.0",
          "model_name": "LayoutModel",
          "state": {
            "_model_module": "@jupyter-widgets/base",
            "_model_module_version": "1.2.0",
            "_model_name": "LayoutModel",
            "_view_count": null,
            "_view_module": "@jupyter-widgets/base",
            "_view_module_version": "1.2.0",
            "_view_name": "LayoutView",
            "align_content": null,
            "align_items": null,
            "align_self": null,
            "border": null,
            "bottom": null,
            "display": null,
            "flex": null,
            "flex_flow": null,
            "grid_area": null,
            "grid_auto_columns": null,
            "grid_auto_flow": null,
            "grid_auto_rows": null,
            "grid_column": null,
            "grid_gap": null,
            "grid_row": null,
            "grid_template_areas": null,
            "grid_template_columns": null,
            "grid_template_rows": null,
            "height": null,
            "justify_content": null,
            "justify_items": null,
            "left": null,
            "margin": null,
            "max_height": null,
            "max_width": null,
            "min_height": null,
            "min_width": null,
            "object_fit": null,
            "object_position": null,
            "order": null,
            "overflow": null,
            "overflow_x": null,
            "overflow_y": null,
            "padding": null,
            "right": null,
            "top": null,
            "visibility": null,
            "width": null
          }
        },
        "34e87b1773004b83ae4f227a2ec4e504": {
          "model_module": "@jupyter-widgets/controls",
          "model_module_version": "1.5.0",
          "model_name": "HTMLModel",
          "state": {
            "_dom_classes": [],
            "_model_module": "@jupyter-widgets/controls",
            "_model_module_version": "1.5.0",
            "_model_name": "HTMLModel",
            "_view_count": null,
            "_view_module": "@jupyter-widgets/controls",
            "_view_module_version": "1.5.0",
            "_view_name": "HTMLView",
            "description": "",
            "description_tooltip": null,
            "layout": "IPY_MODEL_8b4a5af6f76d431d8570e7400f8086fd",
            "placeholder": "​",
            "style": "IPY_MODEL_a9933a0bab7f496fa2527f1abd4f2807",
            "value": "llm_classify "
          }
        },
        "4124a8afe45246fd811064e63a55fd6d": {
          "model_module": "@jupyter-widgets/controls",
          "model_module_version": "1.5.0",
          "model_name": "DescriptionStyleModel",
          "state": {
            "_model_module": "@jupyter-widgets/controls",
            "_model_module_version": "1.5.0",
            "_model_name": "DescriptionStyleModel",
            "_view_count": null,
            "_view_module": "@jupyter-widgets/base",
            "_view_module_version": "1.2.0",
            "_view_name": "StyleView",
            "description_width": ""
          }
        },
        "554fa6afa4144418b9e7ae200ad12b91": {
          "model_module": "@jupyter-widgets/controls",
          "model_module_version": "1.5.0",
          "model_name": "HTMLModel",
          "state": {
            "_dom_classes": [],
            "_model_module": "@jupyter-widgets/controls",
            "_model_module_version": "1.5.0",
            "_model_name": "HTMLModel",
            "_view_count": null,
            "_view_module": "@jupyter-widgets/controls",
            "_view_module_version": "1.5.0",
            "_view_name": "HTMLView",
            "description": "",
            "description_tooltip": null,
            "layout": "IPY_MODEL_2ce2cdff3299422889b49b5107071a7b",
            "placeholder": "​",
            "style": "IPY_MODEL_6490726f2b024d1d8bbedc36adbd7aa6",
            "value": " 50/50 (100.0%) | ⏳ 00:10&lt;00:00 |  4.06it/s"
          }
        },
        "568d5c22695a4108b3b0c27119cbf97e": {
          "model_module": "@jupyter-widgets/base",
          "model_module_version": "1.2.0",
          "model_name": "LayoutModel",
          "state": {
            "_model_module": "@jupyter-widgets/base",
            "_model_module_version": "1.2.0",
            "_model_name": "LayoutModel",
            "_view_count": null,
            "_view_module": "@jupyter-widgets/base",
            "_view_module_version": "1.2.0",
            "_view_name": "LayoutView",
            "align_content": null,
            "align_items": null,
            "align_self": null,
            "border": null,
            "bottom": null,
            "display": null,
            "flex": null,
            "flex_flow": null,
            "grid_area": null,
            "grid_auto_columns": null,
            "grid_auto_flow": null,
            "grid_auto_rows": null,
            "grid_column": null,
            "grid_gap": null,
            "grid_row": null,
            "grid_template_areas": null,
            "grid_template_columns": null,
            "grid_template_rows": null,
            "height": null,
            "justify_content": null,
            "justify_items": null,
            "left": null,
            "margin": null,
            "max_height": null,
            "max_width": null,
            "min_height": null,
            "min_width": null,
            "object_fit": null,
            "object_position": null,
            "order": null,
            "overflow": null,
            "overflow_x": null,
            "overflow_y": null,
            "padding": null,
            "right": null,
            "top": null,
            "visibility": null,
            "width": null
          }
        },
        "5b85cf639b5c4a0cb5e4acff52a58ae8": {
          "model_module": "@jupyter-widgets/controls",
          "model_module_version": "1.5.0",
          "model_name": "HTMLModel",
          "state": {
            "_dom_classes": [],
            "_model_module": "@jupyter-widgets/controls",
            "_model_module_version": "1.5.0",
            "_model_name": "HTMLModel",
            "_view_count": null,
            "_view_module": "@jupyter-widgets/controls",
            "_view_module_version": "1.5.0",
            "_view_name": "HTMLView",
            "description": "",
            "description_tooltip": null,
            "layout": "IPY_MODEL_90253079c26747df99af818a9edabf36",
            "placeholder": "​",
            "style": "IPY_MODEL_e8071c5ea332447c894cd34bee283ab2",
            "value": " 5/5 (100.0%) | ⏳ 00:09&lt;00:00 |  1.08it/s"
          }
        },
        "5ccf1ab7cc164b6cb0c12b99dbd526e1": {
          "model_module": "@jupyter-widgets/controls",
          "model_module_version": "1.5.0",
          "model_name": "DescriptionStyleModel",
          "state": {
            "_model_module": "@jupyter-widgets/controls",
            "_model_module_version": "1.5.0",
            "_model_name": "DescriptionStyleModel",
            "_view_count": null,
            "_view_module": "@jupyter-widgets/base",
            "_view_module_version": "1.2.0",
            "_view_name": "StyleView",
            "description_width": ""
          }
        },
        "60d5450863e64e36975beda2392ef80a": {
          "model_module": "@jupyter-widgets/controls",
          "model_module_version": "1.5.0",
          "model_name": "DescriptionStyleModel",
          "state": {
            "_model_module": "@jupyter-widgets/controls",
            "_model_module_version": "1.5.0",
            "_model_name": "DescriptionStyleModel",
            "_view_count": null,
            "_view_module": "@jupyter-widgets/base",
            "_view_module_version": "1.2.0",
            "_view_name": "StyleView",
            "description_width": ""
          }
        },
        "62fd28d79b6d4bae912756a47d1450f2": {
          "model_module": "@jupyter-widgets/controls",
          "model_module_version": "1.5.0",
          "model_name": "HBoxModel",
          "state": {
            "_dom_classes": [],
            "_model_module": "@jupyter-widgets/controls",
            "_model_module_version": "1.5.0",
            "_model_name": "HBoxModel",
            "_view_count": null,
            "_view_module": "@jupyter-widgets/controls",
            "_view_module_version": "1.5.0",
            "_view_name": "HBoxView",
            "box_style": "",
            "children": [
              "IPY_MODEL_be64e987f1a547bdb9196b30bae0c2a2",
              "IPY_MODEL_d0bc41ba95514e56b13bb6da23c26bd3",
              "IPY_MODEL_19d2b7ed9b3949adbf9430b40c690800"
            ],
            "layout": "IPY_MODEL_a78025bd35c84f3793772fd38872bbf3"
          }
        },
        "6490726f2b024d1d8bbedc36adbd7aa6": {
          "model_module": "@jupyter-widgets/controls",
          "model_module_version": "1.5.0",
          "model_name": "DescriptionStyleModel",
          "state": {
            "_model_module": "@jupyter-widgets/controls",
            "_model_module_version": "1.5.0",
            "_model_name": "DescriptionStyleModel",
            "_view_count": null,
            "_view_module": "@jupyter-widgets/base",
            "_view_module_version": "1.2.0",
            "_view_name": "StyleView",
            "description_width": ""
          }
        },
        "6bfc17ec2fcd4cd4b2d250743590ca19": {
          "model_module": "@jupyter-widgets/controls",
          "model_module_version": "1.5.0",
          "model_name": "FloatProgressModel",
          "state": {
            "_dom_classes": [],
            "_model_module": "@jupyter-widgets/controls",
            "_model_module_version": "1.5.0",
            "_model_name": "FloatProgressModel",
            "_view_count": null,
            "_view_module": "@jupyter-widgets/controls",
            "_view_module_version": "1.5.0",
            "_view_name": "ProgressView",
            "bar_style": "",
            "description": "",
            "description_tooltip": null,
            "layout": "IPY_MODEL_34cdb200856f42f7bf6317022bc5b0f5",
            "max": 50,
            "min": 0,
            "orientation": "horizontal",
            "style": "IPY_MODEL_89c44f8d9ad54370b75eacd7e83a4a70",
            "value": 50
          }
        },
        "6f96f9c08c6742429e31e35b5b5e9c45": {
          "model_module": "@jupyter-widgets/base",
          "model_module_version": "1.2.0",
          "model_name": "LayoutModel",
          "state": {
            "_model_module": "@jupyter-widgets/base",
            "_model_module_version": "1.2.0",
            "_model_name": "LayoutModel",
            "_view_count": null,
            "_view_module": "@jupyter-widgets/base",
            "_view_module_version": "1.2.0",
            "_view_name": "LayoutView",
            "align_content": null,
            "align_items": null,
            "align_self": null,
            "border": null,
            "bottom": null,
            "display": null,
            "flex": null,
            "flex_flow": null,
            "grid_area": null,
            "grid_auto_columns": null,
            "grid_auto_flow": null,
            "grid_auto_rows": null,
            "grid_column": null,
            "grid_gap": null,
            "grid_row": null,
            "grid_template_areas": null,
            "grid_template_columns": null,
            "grid_template_rows": null,
            "height": null,
            "justify_content": null,
            "justify_items": null,
            "left": null,
            "margin": null,
            "max_height": null,
            "max_width": null,
            "min_height": null,
            "min_width": null,
            "object_fit": null,
            "object_position": null,
            "order": null,
            "overflow": null,
            "overflow_x": null,
            "overflow_y": null,
            "padding": null,
            "right": null,
            "top": null,
            "visibility": null,
            "width": null
          }
        },
        "8499388789c04cf19e29279e9bc9c468": {
          "model_module": "@jupyter-widgets/controls",
          "model_module_version": "1.5.0",
          "model_name": "HTMLModel",
          "state": {
            "_dom_classes": [],
            "_model_module": "@jupyter-widgets/controls",
            "_model_module_version": "1.5.0",
            "_model_name": "HTMLModel",
            "_view_count": null,
            "_view_module": "@jupyter-widgets/controls",
            "_view_module_version": "1.5.0",
            "_view_name": "HTMLView",
            "description": "",
            "description_tooltip": null,
            "layout": "IPY_MODEL_14b484f8c5b84a248cfd6c7e584bb182",
            "placeholder": "​",
            "style": "IPY_MODEL_4124a8afe45246fd811064e63a55fd6d",
            "value": "llm_classify "
          }
        },
        "861dc30d89d846c6a6f5c1b5398b877c": {
          "model_module": "@jupyter-widgets/controls",
          "model_module_version": "1.5.0",
          "model_name": "ProgressStyleModel",
          "state": {
            "_model_module": "@jupyter-widgets/controls",
            "_model_module_version": "1.5.0",
            "_model_name": "ProgressStyleModel",
            "_view_count": null,
            "_view_module": "@jupyter-widgets/base",
            "_view_module_version": "1.2.0",
            "_view_name": "StyleView",
            "bar_color": null,
            "description_width": ""
          }
        },
        "8763982494d64e97bf50204d4b8beca3": {
          "model_module": "@jupyter-widgets/controls",
          "model_module_version": "1.5.0",
          "model_name": "HBoxModel",
          "state": {
            "_dom_classes": [],
            "_model_module": "@jupyter-widgets/controls",
            "_model_module_version": "1.5.0",
            "_model_name": "HBoxModel",
            "_view_count": null,
            "_view_module": "@jupyter-widgets/controls",
            "_view_module_version": "1.5.0",
            "_view_name": "HBoxView",
            "box_style": "",
            "children": [
              "IPY_MODEL_34e87b1773004b83ae4f227a2ec4e504",
              "IPY_MODEL_b5914f9bde894147a126f2552c68212c",
              "IPY_MODEL_a508ddd770e44356a773d94ab8fcf977"
            ],
            "layout": "IPY_MODEL_bb44d964d93642b9946253033c3d9e94"
          }
        },
        "89c44f8d9ad54370b75eacd7e83a4a70": {
          "model_module": "@jupyter-widgets/controls",
          "model_module_version": "1.5.0",
          "model_name": "ProgressStyleModel",
          "state": {
            "_model_module": "@jupyter-widgets/controls",
            "_model_module_version": "1.5.0",
            "_model_name": "ProgressStyleModel",
            "_view_count": null,
            "_view_module": "@jupyter-widgets/base",
            "_view_module_version": "1.2.0",
            "_view_name": "StyleView",
            "bar_color": null,
            "description_width": ""
          }
        },
        "8b4a5af6f76d431d8570e7400f8086fd": {
          "model_module": "@jupyter-widgets/base",
          "model_module_version": "1.2.0",
          "model_name": "LayoutModel",
          "state": {
            "_model_module": "@jupyter-widgets/base",
            "_model_module_version": "1.2.0",
            "_model_name": "LayoutModel",
            "_view_count": null,
            "_view_module": "@jupyter-widgets/base",
            "_view_module_version": "1.2.0",
            "_view_name": "LayoutView",
            "align_content": null,
            "align_items": null,
            "align_self": null,
            "border": null,
            "bottom": null,
            "display": null,
            "flex": null,
            "flex_flow": null,
            "grid_area": null,
            "grid_auto_columns": null,
            "grid_auto_flow": null,
            "grid_auto_rows": null,
            "grid_column": null,
            "grid_gap": null,
            "grid_row": null,
            "grid_template_areas": null,
            "grid_template_columns": null,
            "grid_template_rows": null,
            "height": null,
            "justify_content": null,
            "justify_items": null,
            "left": null,
            "margin": null,
            "max_height": null,
            "max_width": null,
            "min_height": null,
            "min_width": null,
            "object_fit": null,
            "object_position": null,
            "order": null,
            "overflow": null,
            "overflow_x": null,
            "overflow_y": null,
            "padding": null,
            "right": null,
            "top": null,
            "visibility": null,
            "width": null
          }
        },
        "90253079c26747df99af818a9edabf36": {
          "model_module": "@jupyter-widgets/base",
          "model_module_version": "1.2.0",
          "model_name": "LayoutModel",
          "state": {
            "_model_module": "@jupyter-widgets/base",
            "_model_module_version": "1.2.0",
            "_model_name": "LayoutModel",
            "_view_count": null,
            "_view_module": "@jupyter-widgets/base",
            "_view_module_version": "1.2.0",
            "_view_name": "LayoutView",
            "align_content": null,
            "align_items": null,
            "align_self": null,
            "border": null,
            "bottom": null,
            "display": null,
            "flex": null,
            "flex_flow": null,
            "grid_area": null,
            "grid_auto_columns": null,
            "grid_auto_flow": null,
            "grid_auto_rows": null,
            "grid_column": null,
            "grid_gap": null,
            "grid_row": null,
            "grid_template_areas": null,
            "grid_template_columns": null,
            "grid_template_rows": null,
            "height": null,
            "justify_content": null,
            "justify_items": null,
            "left": null,
            "margin": null,
            "max_height": null,
            "max_width": null,
            "min_height": null,
            "min_width": null,
            "object_fit": null,
            "object_position": null,
            "order": null,
            "overflow": null,
            "overflow_x": null,
            "overflow_y": null,
            "padding": null,
            "right": null,
            "top": null,
            "visibility": null,
            "width": null
          }
        },
        "a508ddd770e44356a773d94ab8fcf977": {
          "model_module": "@jupyter-widgets/controls",
          "model_module_version": "1.5.0",
          "model_name": "HTMLModel",
          "state": {
            "_dom_classes": [],
            "_model_module": "@jupyter-widgets/controls",
            "_model_module_version": "1.5.0",
            "_model_name": "HTMLModel",
            "_view_count": null,
            "_view_module": "@jupyter-widgets/controls",
            "_view_module_version": "1.5.0",
            "_view_name": "HTMLView",
            "description": "",
            "description_tooltip": null,
            "layout": "IPY_MODEL_568d5c22695a4108b3b0c27119cbf97e",
            "placeholder": "​",
            "style": "IPY_MODEL_f55ce1255e3f4dc6aab23b448a5c7574",
            "value": " 50/50 (100.0%) | ⏳ 00:33&lt;00:00 |  7.50it/s"
          }
        },
        "a78025bd35c84f3793772fd38872bbf3": {
          "model_module": "@jupyter-widgets/base",
          "model_module_version": "1.2.0",
          "model_name": "LayoutModel",
          "state": {
            "_model_module": "@jupyter-widgets/base",
            "_model_module_version": "1.2.0",
            "_model_name": "LayoutModel",
            "_view_count": null,
            "_view_module": "@jupyter-widgets/base",
            "_view_module_version": "1.2.0",
            "_view_name": "LayoutView",
            "align_content": null,
            "align_items": null,
            "align_self": null,
            "border": null,
            "bottom": null,
            "display": null,
            "flex": null,
            "flex_flow": null,
            "grid_area": null,
            "grid_auto_columns": null,
            "grid_auto_flow": null,
            "grid_auto_rows": null,
            "grid_column": null,
            "grid_gap": null,
            "grid_row": null,
            "grid_template_areas": null,
            "grid_template_columns": null,
            "grid_template_rows": null,
            "height": null,
            "justify_content": null,
            "justify_items": null,
            "left": null,
            "margin": null,
            "max_height": null,
            "max_width": null,
            "min_height": null,
            "min_width": null,
            "object_fit": null,
            "object_position": null,
            "order": null,
            "overflow": null,
            "overflow_x": null,
            "overflow_y": null,
            "padding": null,
            "right": null,
            "top": null,
            "visibility": null,
            "width": null
          }
        },
        "a9933a0bab7f496fa2527f1abd4f2807": {
          "model_module": "@jupyter-widgets/controls",
          "model_module_version": "1.5.0",
          "model_name": "DescriptionStyleModel",
          "state": {
            "_model_module": "@jupyter-widgets/controls",
            "_model_module_version": "1.5.0",
            "_model_name": "DescriptionStyleModel",
            "_view_count": null,
            "_view_module": "@jupyter-widgets/base",
            "_view_module_version": "1.2.0",
            "_view_name": "StyleView",
            "description_width": ""
          }
        },
        "b5440442ff814c69ab5409ec55b16a4e": {
          "model_module": "@jupyter-widgets/base",
          "model_module_version": "1.2.0",
          "model_name": "LayoutModel",
          "state": {
            "_model_module": "@jupyter-widgets/base",
            "_model_module_version": "1.2.0",
            "_model_name": "LayoutModel",
            "_view_count": null,
            "_view_module": "@jupyter-widgets/base",
            "_view_module_version": "1.2.0",
            "_view_name": "LayoutView",
            "align_content": null,
            "align_items": null,
            "align_self": null,
            "border": null,
            "bottom": null,
            "display": null,
            "flex": null,
            "flex_flow": null,
            "grid_area": null,
            "grid_auto_columns": null,
            "grid_auto_flow": null,
            "grid_auto_rows": null,
            "grid_column": null,
            "grid_gap": null,
            "grid_row": null,
            "grid_template_areas": null,
            "grid_template_columns": null,
            "grid_template_rows": null,
            "height": null,
            "justify_content": null,
            "justify_items": null,
            "left": null,
            "margin": null,
            "max_height": null,
            "max_width": null,
            "min_height": null,
            "min_width": null,
            "object_fit": null,
            "object_position": null,
            "order": null,
            "overflow": null,
            "overflow_x": null,
            "overflow_y": null,
            "padding": null,
            "right": null,
            "top": null,
            "visibility": null,
            "width": null
          }
        },
        "b5914f9bde894147a126f2552c68212c": {
          "model_module": "@jupyter-widgets/controls",
          "model_module_version": "1.5.0",
          "model_name": "FloatProgressModel",
          "state": {
            "_dom_classes": [],
            "_model_module": "@jupyter-widgets/controls",
            "_model_module_version": "1.5.0",
            "_model_name": "FloatProgressModel",
            "_view_count": null,
            "_view_module": "@jupyter-widgets/controls",
            "_view_module_version": "1.5.0",
            "_view_name": "ProgressView",
            "bar_style": "",
            "description": "",
            "description_tooltip": null,
            "layout": "IPY_MODEL_2eefae02445a4b1e9aad8fdc47a63572",
            "max": 50,
            "min": 0,
            "orientation": "horizontal",
            "style": "IPY_MODEL_ca3b583f7f5845f3b0cf197ac1b63976",
            "value": 50
          }
        },
        "bb44d964d93642b9946253033c3d9e94": {
          "model_module": "@jupyter-widgets/base",
          "model_module_version": "1.2.0",
          "model_name": "LayoutModel",
          "state": {
            "_model_module": "@jupyter-widgets/base",
            "_model_module_version": "1.2.0",
            "_model_name": "LayoutModel",
            "_view_count": null,
            "_view_module": "@jupyter-widgets/base",
            "_view_module_version": "1.2.0",
            "_view_name": "LayoutView",
            "align_content": null,
            "align_items": null,
            "align_self": null,
            "border": null,
            "bottom": null,
            "display": null,
            "flex": null,
            "flex_flow": null,
            "grid_area": null,
            "grid_auto_columns": null,
            "grid_auto_flow": null,
            "grid_auto_rows": null,
            "grid_column": null,
            "grid_gap": null,
            "grid_row": null,
            "grid_template_areas": null,
            "grid_template_columns": null,
            "grid_template_rows": null,
            "height": null,
            "justify_content": null,
            "justify_items": null,
            "left": null,
            "margin": null,
            "max_height": null,
            "max_width": null,
            "min_height": null,
            "min_width": null,
            "object_fit": null,
            "object_position": null,
            "order": null,
            "overflow": null,
            "overflow_x": null,
            "overflow_y": null,
            "padding": null,
            "right": null,
            "top": null,
            "visibility": null,
            "width": null
          }
        },
        "bb5911202039461b98517aba47f7e656": {
          "model_module": "@jupyter-widgets/controls",
          "model_module_version": "1.5.0",
          "model_name": "HTMLModel",
          "state": {
            "_dom_classes": [],
            "_model_module": "@jupyter-widgets/controls",
            "_model_module_version": "1.5.0",
            "_model_name": "HTMLModel",
            "_view_count": null,
            "_view_module": "@jupyter-widgets/controls",
            "_view_module_version": "1.5.0",
            "_view_name": "HTMLView",
            "description": "",
            "description_tooltip": null,
            "layout": "IPY_MODEL_0d06c9bac593459e8b4349697b60fd45",
            "placeholder": "​",
            "style": "IPY_MODEL_5ccf1ab7cc164b6cb0c12b99dbd526e1",
            "value": "llm_classify "
          }
        },
        "bb8d73f1129146c9809dd05ec848fb49": {
          "model_module": "@jupyter-widgets/base",
          "model_module_version": "1.2.0",
          "model_name": "LayoutModel",
          "state": {
            "_model_module": "@jupyter-widgets/base",
            "_model_module_version": "1.2.0",
            "_model_name": "LayoutModel",
            "_view_count": null,
            "_view_module": "@jupyter-widgets/base",
            "_view_module_version": "1.2.0",
            "_view_name": "LayoutView",
            "align_content": null,
            "align_items": null,
            "align_self": null,
            "border": null,
            "bottom": null,
            "display": null,
            "flex": null,
            "flex_flow": null,
            "grid_area": null,
            "grid_auto_columns": null,
            "grid_auto_flow": null,
            "grid_auto_rows": null,
            "grid_column": null,
            "grid_gap": null,
            "grid_row": null,
            "grid_template_areas": null,
            "grid_template_columns": null,
            "grid_template_rows": null,
            "height": null,
            "justify_content": null,
            "justify_items": null,
            "left": null,
            "margin": null,
            "max_height": null,
            "max_width": null,
            "min_height": null,
            "min_width": null,
            "object_fit": null,
            "object_position": null,
            "order": null,
            "overflow": null,
            "overflow_x": null,
            "overflow_y": null,
            "padding": null,
            "right": null,
            "top": null,
            "visibility": null,
            "width": null
          }
        },
        "be64e987f1a547bdb9196b30bae0c2a2": {
          "model_module": "@jupyter-widgets/controls",
          "model_module_version": "1.5.0",
          "model_name": "HTMLModel",
          "state": {
            "_dom_classes": [],
            "_model_module": "@jupyter-widgets/controls",
            "_model_module_version": "1.5.0",
            "_model_name": "HTMLModel",
            "_view_count": null,
            "_view_module": "@jupyter-widgets/controls",
            "_view_module_version": "1.5.0",
            "_view_name": "HTMLView",
            "description": "",
            "description_tooltip": null,
            "layout": "IPY_MODEL_ff7320e39af3418483200597313e3a9f",
            "placeholder": "​",
            "style": "IPY_MODEL_e5e348e67d674c77bf5b33643b2ae9ee",
            "value": "llm_classify "
          }
        },
        "ca3b583f7f5845f3b0cf197ac1b63976": {
          "model_module": "@jupyter-widgets/controls",
          "model_module_version": "1.5.0",
          "model_name": "ProgressStyleModel",
          "state": {
            "_model_module": "@jupyter-widgets/controls",
            "_model_module_version": "1.5.0",
            "_model_name": "ProgressStyleModel",
            "_view_count": null,
            "_view_module": "@jupyter-widgets/base",
            "_view_module_version": "1.2.0",
            "_view_name": "StyleView",
            "bar_color": null,
            "description_width": ""
          }
        },
        "d0bc41ba95514e56b13bb6da23c26bd3": {
          "model_module": "@jupyter-widgets/controls",
          "model_module_version": "1.5.0",
          "model_name": "FloatProgressModel",
          "state": {
            "_dom_classes": [],
            "_model_module": "@jupyter-widgets/controls",
            "_model_module_version": "1.5.0",
            "_model_name": "FloatProgressModel",
            "_view_count": null,
            "_view_module": "@jupyter-widgets/controls",
            "_view_module_version": "1.5.0",
            "_view_name": "ProgressView",
            "bar_style": "",
            "description": "",
            "description_tooltip": null,
            "layout": "IPY_MODEL_efbd10c59abd49e0becbb8e17c6c046f",
            "max": 50,
            "min": 0,
            "orientation": "horizontal",
            "style": "IPY_MODEL_dc58c35b2e554e0aa0689e3eb8c36e75",
            "value": 50
          }
        },
        "dafe7d73cdb54b52a74596dd8d07ef2d": {
          "model_module": "@jupyter-widgets/base",
          "model_module_version": "1.2.0",
          "model_name": "LayoutModel",
          "state": {
            "_model_module": "@jupyter-widgets/base",
            "_model_module_version": "1.2.0",
            "_model_name": "LayoutModel",
            "_view_count": null,
            "_view_module": "@jupyter-widgets/base",
            "_view_module_version": "1.2.0",
            "_view_name": "LayoutView",
            "align_content": null,
            "align_items": null,
            "align_self": null,
            "border": null,
            "bottom": null,
            "display": null,
            "flex": null,
            "flex_flow": null,
            "grid_area": null,
            "grid_auto_columns": null,
            "grid_auto_flow": null,
            "grid_auto_rows": null,
            "grid_column": null,
            "grid_gap": null,
            "grid_row": null,
            "grid_template_areas": null,
            "grid_template_columns": null,
            "grid_template_rows": null,
            "height": null,
            "justify_content": null,
            "justify_items": null,
            "left": null,
            "margin": null,
            "max_height": null,
            "max_width": null,
            "min_height": null,
            "min_width": null,
            "object_fit": null,
            "object_position": null,
            "order": null,
            "overflow": null,
            "overflow_x": null,
            "overflow_y": null,
            "padding": null,
            "right": null,
            "top": null,
            "visibility": null,
            "width": null
          }
        },
        "dc58c35b2e554e0aa0689e3eb8c36e75": {
          "model_module": "@jupyter-widgets/controls",
          "model_module_version": "1.5.0",
          "model_name": "ProgressStyleModel",
          "state": {
            "_model_module": "@jupyter-widgets/controls",
            "_model_module_version": "1.5.0",
            "_model_name": "ProgressStyleModel",
            "_view_count": null,
            "_view_module": "@jupyter-widgets/base",
            "_view_module_version": "1.2.0",
            "_view_name": "StyleView",
            "bar_color": null,
            "description_width": ""
          }
        },
        "e5e348e67d674c77bf5b33643b2ae9ee": {
          "model_module": "@jupyter-widgets/controls",
          "model_module_version": "1.5.0",
          "model_name": "DescriptionStyleModel",
          "state": {
            "_model_module": "@jupyter-widgets/controls",
            "_model_module_version": "1.5.0",
            "_model_name": "DescriptionStyleModel",
            "_view_count": null,
            "_view_module": "@jupyter-widgets/base",
            "_view_module_version": "1.2.0",
            "_view_name": "StyleView",
            "description_width": ""
          }
        },
        "e8071c5ea332447c894cd34bee283ab2": {
          "model_module": "@jupyter-widgets/controls",
          "model_module_version": "1.5.0",
          "model_name": "DescriptionStyleModel",
          "state": {
            "_model_module": "@jupyter-widgets/controls",
            "_model_module_version": "1.5.0",
            "_model_name": "DescriptionStyleModel",
            "_view_count": null,
            "_view_module": "@jupyter-widgets/base",
            "_view_module_version": "1.2.0",
            "_view_name": "StyleView",
            "description_width": ""
          }
        },
        "eaf0c8354fc24e4aa228525639793107": {
          "model_module": "@jupyter-widgets/controls",
          "model_module_version": "1.5.0",
          "model_name": "HBoxModel",
          "state": {
            "_dom_classes": [],
            "_model_module": "@jupyter-widgets/controls",
            "_model_module_version": "1.5.0",
            "_model_name": "HBoxModel",
            "_view_count": null,
            "_view_module": "@jupyter-widgets/controls",
            "_view_module_version": "1.5.0",
            "_view_name": "HBoxView",
            "box_style": "",
            "children": [
              "IPY_MODEL_8499388789c04cf19e29279e9bc9c468",
              "IPY_MODEL_6bfc17ec2fcd4cd4b2d250743590ca19",
              "IPY_MODEL_554fa6afa4144418b9e7ae200ad12b91"
            ],
            "layout": "IPY_MODEL_bb8d73f1129146c9809dd05ec848fb49"
          }
        },
        "efbd10c59abd49e0becbb8e17c6c046f": {
          "model_module": "@jupyter-widgets/base",
          "model_module_version": "1.2.0",
          "model_name": "LayoutModel",
          "state": {
            "_model_module": "@jupyter-widgets/base",
            "_model_module_version": "1.2.0",
            "_model_name": "LayoutModel",
            "_view_count": null,
            "_view_module": "@jupyter-widgets/base",
            "_view_module_version": "1.2.0",
            "_view_name": "LayoutView",
            "align_content": null,
            "align_items": null,
            "align_self": null,
            "border": null,
            "bottom": null,
            "display": null,
            "flex": null,
            "flex_flow": null,
            "grid_area": null,
            "grid_auto_columns": null,
            "grid_auto_flow": null,
            "grid_auto_rows": null,
            "grid_column": null,
            "grid_gap": null,
            "grid_row": null,
            "grid_template_areas": null,
            "grid_template_columns": null,
            "grid_template_rows": null,
            "height": null,
            "justify_content": null,
            "justify_items": null,
            "left": null,
            "margin": null,
            "max_height": null,
            "max_width": null,
            "min_height": null,
            "min_width": null,
            "object_fit": null,
            "object_position": null,
            "order": null,
            "overflow": null,
            "overflow_x": null,
            "overflow_y": null,
            "padding": null,
            "right": null,
            "top": null,
            "visibility": null,
            "width": null
          }
        },
        "f55ce1255e3f4dc6aab23b448a5c7574": {
          "model_module": "@jupyter-widgets/controls",
          "model_module_version": "1.5.0",
          "model_name": "DescriptionStyleModel",
          "state": {
            "_model_module": "@jupyter-widgets/controls",
            "_model_module_version": "1.5.0",
            "_model_name": "DescriptionStyleModel",
            "_view_count": null,
            "_view_module": "@jupyter-widgets/base",
            "_view_module_version": "1.2.0",
            "_view_name": "StyleView",
            "description_width": ""
          }
        },
        "ff7320e39af3418483200597313e3a9f": {
          "model_module": "@jupyter-widgets/base",
          "model_module_version": "1.2.0",
          "model_name": "LayoutModel",
          "state": {
            "_model_module": "@jupyter-widgets/base",
            "_model_module_version": "1.2.0",
            "_model_name": "LayoutModel",
            "_view_count": null,
            "_view_module": "@jupyter-widgets/base",
            "_view_module_version": "1.2.0",
            "_view_name": "LayoutView",
            "align_content": null,
            "align_items": null,
            "align_self": null,
            "border": null,
            "bottom": null,
            "display": null,
            "flex": null,
            "flex_flow": null,
            "grid_area": null,
            "grid_auto_columns": null,
            "grid_auto_flow": null,
            "grid_auto_rows": null,
            "grid_column": null,
            "grid_gap": null,
            "grid_row": null,
            "grid_template_areas": null,
            "grid_template_columns": null,
            "grid_template_rows": null,
            "height": null,
            "justify_content": null,
            "justify_items": null,
            "left": null,
            "margin": null,
            "max_height": null,
            "max_width": null,
            "min_height": null,
            "min_width": null,
            "object_fit": null,
            "object_position": null,
            "order": null,
            "overflow": null,
            "overflow_x": null,
            "overflow_y": null,
            "padding": null,
            "right": null,
            "top": null,
            "visibility": null,
            "width": null
          }
        }
      }
    }
  },
  "nbformat": 4,
  "nbformat_minor": 0
}
