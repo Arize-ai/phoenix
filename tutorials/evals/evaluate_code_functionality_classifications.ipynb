{
  "cells": [
    {
      "cell_type": "markdown",
      "metadata": {
        "id": "xjgDyfmL6hB_"
      },
      "source": [
        "<center>\n",
        "    <p style=\"text-align:center\">\n",
        "        <img alt=\"phoenix logo\" src=\"https://storage.googleapis.com/arize-assets/phoenix/assets/phoenix-logo-light.svg\" width=\"200\"/>\n",
        "        <br>\n",
        "        <a href=\"https://docs.arize.com/phoenix/\">Docs</a>\n",
        "        |\n",
        "        <a href=\"https://github.com/Arize-ai/phoenix\">GitHub</a>\n",
        "        |\n",
        "        <a href=\"https://join.slack.com/t/arize-ai/shared_invite/zt-1px8dcmlf-fmThhDFD_V_48oU7ALan4Q\">Community</a>\n",
        "    </p>\n",
        "</center>\n",
        "<h1 align=\"center\">Code Functionality  Evals</h1>\n",
        "\n",
        "\n",
        "This tests whether code is written correctly, without bugs, accomplishes the functionality you want, does not have syntax errors.\n",
        "\n",
        "The purpose of this notebook is:\n",
        "\n",
        "- to evaluate the performance of code fuctionality Eval\n",
        "- to provide an experimental framework for users to iterate and improve on the default classification template.\n",
        "\n",
        "## Install Dependencies and Import Libraries"
      ]
    },
    {
      "cell_type": "code",
      "execution_count": 4,
      "metadata": {
        "id": "R8pDe5eG6hCJ"
      },
      "outputs": [],
      "source": [
        "#!pip install -qq \"arize-phoenix[experimental]\" \"openai>=1\" ipython matplotlib pycm scikit-learn tiktoken nest_asyncio"
      ]
    },
    {
      "cell_type": "markdown",
      "metadata": {
        "id": "h2ctpohg6hCK"
      },
      "source": [
        "ℹ️ To enable async request submission in notebook environments like Jupyter or Google Colab, optionally use `nest_asyncio`. `nest_asyncio` globally patches `asyncio` to enable event loops to be re-entrant. This is not required for non-notebook environments.\n",
        "\n",
        "Without `nest_asyncio`, eval submission can be much slower, depending on your organization's rate limits. Speed increases of about 5x are typical."
      ]
    },
    {
      "cell_type": "code",
      "execution_count": 1,
      "metadata": {
        "id": "WHnAJf1g6hCL"
      },
      "outputs": [],
      "source": [
        "import nest_asyncio\n",
        "\n",
        "nest_asyncio.apply()"
      ]
    },
    {
      "cell_type": "code",
      "execution_count": 2,
      "metadata": {
        "id": "0bNZhOO46hCL"
      },
      "outputs": [
        {
          "name": "stderr",
          "output_type": "stream",
          "text": [
            "/Users/jasonlopatecki/vs_projects/evals_tests/link_evals/lib/python3.11/site-packages/tqdm/auto.py:21: TqdmWarning: IProgress not found. Please update jupyter and ipywidgets. See https://ipywidgets.readthedocs.io/en/stable/user_install.html\n",
            "  from .autonotebook import tqdm as notebook_tqdm\n"
          ]
        }
      ],
      "source": [
        "import os\n",
        "from getpass import getpass\n",
        "\n",
        "import matplotlib.pyplot as plt\n",
        "import pandas as pd\n",
        "from phoenix.experimental.evals import (\n",
        "    CODE_FUNCTIONALITY_PROMPT_TEMPLATE,\n",
        "    CODE_FUNCTIONALITY_PROMPT_RAILS_MAP,\n",
        "    OpenAIModel,\n",
        "    download_benchmark_dataset,\n",
        "    llm_classify,\n",
        ")\n",
        "from pycm import ConfusionMatrix\n",
        "from sklearn.metrics import classification_report\n",
        "\n",
        "pd.set_option(\"display.max_colwidth\", None)"
      ]
    },
    {
      "cell_type": "markdown",
      "metadata": {
        "id": "mvrJ8sQK6hCM"
      },
      "source": [
        "## Download Benchmark Dataset\n",
        "\n",
        "TODO"
      ]
    },
    {
      "cell_type": "code",
      "execution_count": 3,
      "metadata": {
        "colab": {
          "base_uri": "https://localhost:8080/",
          "height": 501
        },
        "id": "o-BbInt76hCN",
        "outputId": "b025c49f-a548-4dc4-ff8b-172c2a56b88c"
      },
      "outputs": [
        {
          "data": {
            "text/html": [
              "<div>\n",
              "<style scoped>\n",
              "    .dataframe tbody tr th:only-of-type {\n",
              "        vertical-align: middle;\n",
              "    }\n",
              "\n",
              "    .dataframe tbody tr th {\n",
              "        vertical-align: top;\n",
              "    }\n",
              "\n",
              "    .dataframe thead th {\n",
              "        text-align: right;\n",
              "    }\n",
              "</style>\n",
              "<table border=\"1\" class=\"dataframe\">\n",
              "  <thead>\n",
              "    <tr style=\"text-align: right;\">\n",
              "      <th></th>\n",
              "      <th>coding_instruction</th>\n",
              "      <th>code</th>\n",
              "      <th>is_well_coded</th>\n",
              "    </tr>\n",
              "  </thead>\n",
              "  <tbody>\n",
              "    <tr>\n",
              "      <th>0</th>\n",
              "      <td>Create a neural network in Python from scratch that takes a 2D array of numbers as its input and predicts the sum of the numbers in each row.</td>\n",
              "      <td>import numpy as np\\n\\nclass NeuralNetwork:\\n    def __init__(self, input_size):\\n        self.weights = np.random.rand(input_size, 1)\\n        self.bias = np.random.rand(1, 1)\\n\\n    def predict(self, X):\\n        return np.dot(X, self.weights) + self.bias\\n\\n# Example Usage:\\ninput_data = np.array([[1, 2, 3], [4, 5, 6], [7, 8, 9]])\\nnn = NeuralNetwork(input_size=input_data.shape[1])\\npredictions = nn.predict(input_data)\\nprint(predictions)</td>\n",
              "      <td>True</td>\n",
              "    </tr>\n",
              "    <tr>\n",
              "      <th>1</th>\n",
              "      <td>Generate a Python program to find the mode of the given list.</td>\n",
              "      <td>from statistics import mode\\n\\ndef find_mode(input_list):\\n    try:\\n        result = mode(input_list)\\n        return result\\n    except StatisticsError:\\n        return \"No unique mode found\"\\n\\n# Example Usage:\\ndata_list = [1, 2, 2, 3, 4, 4, 5]\\nmode_result = find_mode(data_list)\\nprint(mode_result)</td>\n",
              "      <td>True</td>\n",
              "    </tr>\n",
              "    <tr>\n",
              "      <th>2</th>\n",
              "      <td>Develop a text summarizer in Python that takes a text input and returns a summary of the text in two sentences.</td>\n",
              "      <td>from nltk import sent_tokenize\\nfrom nltk.corpus import stopwords\\nfrom nltk.stem import PorterStemmer\\nfrom sklearn.feature_extraction.text import TfidfVectorizer\\nfrom sklearn.metrics.pairwise import cosine_similarity\\n\\ndef text_summarizer(text):\\n    sentences = sent_tokenize(text)\\n    stop_words = set(stopwords.words('english'))\\n    vectorizer = TfidfVectorizer()\\n    ps = PorterStemmer()\\n\\n    def preprocess_sentence(sentence):\\n        words = [ps.stem(word) for word in sentence.split() if word.lower() not in stop_words]\\n        return ' '.join(words)\\n\\n    preprocessed_sentences = [preprocess_sentence(sentence) for sentence in sentences]\\n\\n    try:\\n        tfidf_matrix = vectorizer.fit_transform(preprocessed_sentences)\\n        sentence_similarity = cosine_similarity(tfidf_matrix, tfidf_matrix)\\n    except ValueError:\\n        return \"Input text is too short for summarization.\"\\n\\n    sentence_scores = [(index, sum(sentence_similarity[index])) for index in range(len(sentences))]\\n    sentence_scores = sorted(sentence_scores, key=lambda x: x[1], reverse=True)\\n\\n    summary_sentences = [sentences[score[0]] for score in sentence_scores[:2]]\\n    summary = ' '.join(summary_sentences)\\n\\n    return summary\\n\\n# Example Usage:\\ninput_text = \"Your input text goes here. It should be a longer piece of text for meaningful summarization.\"\\nsummary_result = text_summarizer(input_text)\\nprint(summary_result)</td>\n",
              "      <td>True</td>\n",
              "    </tr>\n",
              "    <tr>\n",
              "      <th>3</th>\n",
              "      <td>Create a program in Python to generate random passwords of 8 characters.</td>\n",
              "      <td>import random\\nimport string\\n\\ndef generate_random_password():\\n    password_length = 8\\n    characters = string.ascii_letters + string.digits + string.punctuation\\n    password = ''.join(random.choice(characters) for i in range(password_length))\\n    return password\\n\\n# Example Usage:\\nrandom_password = generate_random_password()\\nprint(random_password)</td>\n",
              "      <td>True</td>\n",
              "    </tr>\n",
              "    <tr>\n",
              "      <th>4</th>\n",
              "      <td>Design a python program to replace every occurrence of a word in a string with another word.</td>\n",
              "      <td>def replace_word(string, word, replacement_word):\\n    return string.replace(word)\\n\\nprint(replace_word(\"Hello hello world!\", \"hello\", \"welcome\"))</td>\n",
              "      <td>False</td>\n",
              "    </tr>\n",
              "  </tbody>\n",
              "</table>\n",
              "</div>"
            ],
            "text/plain": [
              "                                                                                                                              coding_instruction  \\\n",
              "0  Create a neural network in Python from scratch that takes a 2D array of numbers as its input and predicts the sum of the numbers in each row.   \n",
              "1                                                                                  Generate a Python program to find the mode of the given list.   \n",
              "2                                Develop a text summarizer in Python that takes a text input and returns a summary of the text in two sentences.   \n",
              "3                                                                       Create a program in Python to generate random passwords of 8 characters.   \n",
              "4                                                   Design a python program to replace every occurrence of a word in a string with another word.   \n",
              "\n",
              "                                                                                                                                                                                                                                                                                                                                                                                                                                                                                                                                                                                                                                                                                                                                                                                                                                                                                                                                                                                                                                                                                                                                                                                                                                                                                                                                                                                                                                                                                         code  \\\n",
              "0                                                                                                                                                                                                                                                                                                                                                                                                                                                                                                                                                                                                                                                                                                                                                                                                                                                                                                                                                                                                                                import numpy as np\\n\\nclass NeuralNetwork:\\n    def __init__(self, input_size):\\n        self.weights = np.random.rand(input_size, 1)\\n        self.bias = np.random.rand(1, 1)\\n\\n    def predict(self, X):\\n        return np.dot(X, self.weights) + self.bias\\n\\n# Example Usage:\\ninput_data = np.array([[1, 2, 3], [4, 5, 6], [7, 8, 9]])\\nnn = NeuralNetwork(input_size=input_data.shape[1])\\npredictions = nn.predict(input_data)\\nprint(predictions)   \n",
              "1                                                                                                                                                                                                                                                                                                                                                                                                                                                                                                                                                                                                                                                                                                                                                                                                                                                                                                                                                                                                                                                                                                                                                                            from statistics import mode\\n\\ndef find_mode(input_list):\\n    try:\\n        result = mode(input_list)\\n        return result\\n    except StatisticsError:\\n        return \"No unique mode found\"\\n\\n# Example Usage:\\ndata_list = [1, 2, 2, 3, 4, 4, 5]\\nmode_result = find_mode(data_list)\\nprint(mode_result)   \n",
              "2  from nltk import sent_tokenize\\nfrom nltk.corpus import stopwords\\nfrom nltk.stem import PorterStemmer\\nfrom sklearn.feature_extraction.text import TfidfVectorizer\\nfrom sklearn.metrics.pairwise import cosine_similarity\\n\\ndef text_summarizer(text):\\n    sentences = sent_tokenize(text)\\n    stop_words = set(stopwords.words('english'))\\n    vectorizer = TfidfVectorizer()\\n    ps = PorterStemmer()\\n\\n    def preprocess_sentence(sentence):\\n        words = [ps.stem(word) for word in sentence.split() if word.lower() not in stop_words]\\n        return ' '.join(words)\\n\\n    preprocessed_sentences = [preprocess_sentence(sentence) for sentence in sentences]\\n\\n    try:\\n        tfidf_matrix = vectorizer.fit_transform(preprocessed_sentences)\\n        sentence_similarity = cosine_similarity(tfidf_matrix, tfidf_matrix)\\n    except ValueError:\\n        return \"Input text is too short for summarization.\"\\n\\n    sentence_scores = [(index, sum(sentence_similarity[index])) for index in range(len(sentences))]\\n    sentence_scores = sorted(sentence_scores, key=lambda x: x[1], reverse=True)\\n\\n    summary_sentences = [sentences[score[0]] for score in sentence_scores[:2]]\\n    summary = ' '.join(summary_sentences)\\n\\n    return summary\\n\\n# Example Usage:\\ninput_text = \"Your input text goes here. It should be a longer piece of text for meaningful summarization.\"\\nsummary_result = text_summarizer(input_text)\\nprint(summary_result)   \n",
              "3                                                                                                                                                                                                                                                                                                                                                                                                                                                                                                                                                                                                                                                                                                                                                                                                                                                                                                                                                                                                                                                                                                                      import random\\nimport string\\n\\ndef generate_random_password():\\n    password_length = 8\\n    characters = string.ascii_letters + string.digits + string.punctuation\\n    password = ''.join(random.choice(characters) for i in range(password_length))\\n    return password\\n\\n# Example Usage:\\nrandom_password = generate_random_password()\\nprint(random_password)   \n",
              "4                                                                                                                                                                                                                                                                                                                                                                                                                                                                                                                                                                                                                                                                                                                                                                                                                                                                                                                                                                                                                                                                                                                                                                                                                                                                                                                                         def replace_word(string, word, replacement_word):\\n    return string.replace(word)\\n\\nprint(replace_word(\"Hello hello world!\", \"hello\", \"welcome\"))   \n",
              "\n",
              "   is_well_coded  \n",
              "0           True  \n",
              "1           True  \n",
              "2           True  \n",
              "3           True  \n",
              "4          False  "
            ]
          },
          "execution_count": 3,
          "metadata": {},
          "output_type": "execute_result"
        }
      ],
      "source": [
        "df = pd.read_csv(\"https://storage.googleapis.com/arize-assets/phoenix/evals/code-functionality/validated_python_code_samples_2.csv\")\n",
        "\n",
        "df.head()"
      ]
    },
    {
      "cell_type": "markdown",
      "metadata": {
        "id": "khGGD8hN6hCP"
      },
      "source": [
        "\n",
        "\n",
        "```\n",
        "# This is formatted as code\n",
        "```\n",
        "\n",
        "## Display Code Functionality Classification Template\n",
        "\n",
        "View the default template used to code functionality. You can tweak this template and evaluate its performance relative to the default."
      ]
    },
    {
      "cell_type": "code",
      "execution_count": 7,
      "metadata": {
        "id": "gIexKX_j9IQy"
      },
      "outputs": [
        {
          "name": "stdout",
          "output_type": "stream",
          "text": [
            "OrderedDict([(True, 'bug_free'), (False, 'is_bug')])\n"
          ]
        }
      ],
      "source": [
        "print(CODE_FUNCTIONALITY_PROMPT_RAILS_MAP)"
      ]
    },
    {
      "cell_type": "code",
      "execution_count": 5,
      "metadata": {
        "colab": {
          "base_uri": "https://localhost:8080/"
        },
        "id": "x_gU5TFg6hCP",
        "outputId": "3177644a-7bb9-4a89-ccb2-04c2d46c503e"
      },
      "outputs": [
        {
          "name": "stdout",
          "output_type": "stream",
          "text": [
            "\n",
            "Code Evaluation Prompt:\n",
            "-----------------------\n",
            "Evaluate the provided code to determine its correctness in solving the given instruction.\n",
            "\n",
            "Data:\n",
            "-----\n",
            "[Instruction]: {coding_instruction}\n",
            "  Clearly define the task or problem that the code aims to address.\n",
            "\n",
            "[Reference Code]: {code}\n",
            "  Examine the submitted code for evaluation in the context of the provided instruction.\n",
            "\n",
            "Evaluation:\n",
            "-----------\n",
            "Provide a concise response with a single word: either \"bug_free\" or \"is_bug\".\n",
            "- \"bug_free\" signifies that the code correctly and efficiently solves the instruction with no bugs.\n",
            "- \"is_bug\" indicates that the code either fails to meet the instruction requirements or contains bugs.\n",
            "\n",
            "Example:\n",
            "-----------\n",
            "\n",
            "[Instruction]: Implement the Fibonacci sequence in Python.\n",
            "\n",
            "[Reference Code]: 'def fibonacci(n):\n",
            "    if n <= 1:\n",
            "        return n\n",
            "    else:\n",
            "        return fibonacci(n - 1) + fibonacci(n - 2)\n",
            "\n",
            "for i in range(10):\n",
            "    print(fibonacci(i))'\n",
            "\n",
            "[Output]: bug_free\n",
            "\n",
            "Note: Assumptions can be made that any code needed for the instruction is correct, and optimization is not a requirement for a correct solution. \n",
            "Your response should consist solely of the words \"bug_free\" or \"is_bug\" without additional text or characters.\n",
            "\n"
          ]
        }
      ],
      "source": [
        "print(CODE_FUNCTIONALITY_PROMPT_TEMPLATE)"
      ]
    },
    {
      "cell_type": "markdown",
      "metadata": {
        "id": "505OyTtx6hCQ"
      },
      "source": [
        "The template variables are:\n",
        "\n",
        "- **input:** TODO\n",
        "- **reference:** TODO\n",
        "- **output:** TODO"
      ]
    },
    {
      "cell_type": "markdown",
      "metadata": {
        "id": "cWTzktuj6hCQ"
      },
      "source": [
        "## Configure the LLM\n",
        "\n",
        "Configure your OpenAI API key."
      ]
    },
    {
      "cell_type": "code",
      "execution_count": null,
      "metadata": {
        "id": "Hq-KlIVH6hCQ"
      },
      "outputs": [],
      "source": [
        "if not (openai_api_key := os.getenv(\"OPENAI_API_KEY\")):\n",
        "    openai_api_key = getpass(\"🔑 Enter your OpenAI API key: \")\n",
        "os.environ[\"OPENAI_API_KEY\"] = openai_api_key"
      ]
    },
    {
      "cell_type": "markdown",
      "metadata": {
        "id": "aNybVoRm6hCR"
      },
      "source": [
        "## Benchmark Dataset Sample\n",
        "Sample size determines run time\n",
        "Recommend iterating small: 100 samples\n",
        "Then increasing to large test set"
      ]
    },
    {
      "cell_type": "markdown",
      "metadata": {
        "id": "MSOJ9_2_6hCR"
      },
      "source": [
        "## LLM Evals: Code Functionality Classifications GPT-4\n",
        "Run Code Functionality against a subset of the data.\n",
        "Instantiate the LLM and set parameters."
      ]
    },
    {
      "cell_type": "code",
      "execution_count": null,
      "metadata": {
        "id": "rQ4dZYfS6hCS"
      },
      "outputs": [],
      "source": [
        "model = OpenAIModel(\n",
        "    model_name=\"gpt-4\",\n",
        "    temperature=0.0,\n",
        ")"
      ]
    },
    {
      "cell_type": "code",
      "execution_count": null,
      "metadata": {
        "colab": {
          "base_uri": "https://localhost:8080/",
          "height": 35
        },
        "id": "VeNgrhj16hCS",
        "outputId": "b73ae49a-1d06-4253-9102-4a1748672e52"
      },
      "outputs": [
        {
          "data": {
            "application/vnd.google.colaboratory.intrinsic+json": {
              "type": "string"
            },
            "text/plain": [
              "\"Hello! I'm working perfectly. How can I assist you today?\""
            ]
          },
          "execution_count": 45,
          "metadata": {},
          "output_type": "execute_result"
        }
      ],
      "source": [
        "model(\"Hello world, this is a test if you are working?\")"
      ]
    },
    {
      "cell_type": "markdown",
      "metadata": {
        "id": "7oLPjvr36hCT"
      },
      "source": [
        "## Run Code Func Classifications\n",
        "\n",
        "Run code functionality classifications against a subset of the data."
      ]
    },
    {
      "cell_type": "code",
      "execution_count": null,
      "metadata": {
        "colab": {
          "base_uri": "https://localhost:8080/",
          "height": 49,
          "referenced_widgets": [
            "c0bf7edf0714433cacd6295f8df8ecfd",
            "f651d744299742f396315025e7332f8b",
            "ab43496b8282441296f0ee5b9845341c",
            "64c2b6e77c20460ea32aa13af3c1d983",
            "37e2c2b9c4a14081b47edad41cc2a1e9",
            "ac8148add5e7430ba59ab2a63e078948",
            "64105662a4b2456e80af62a48c6a18ac",
            "ea97b3822df04632be317e583f5c6c90",
            "356736fd7e0d4af9a48cba556a503b46",
            "71edd0c1edfc4a3f831ebc1ee4f375fe",
            "253ca39603f9498b82df5167f0053f83"
          ]
        },
        "id": "Q2592lfO6hCU",
        "outputId": "71538975-1024-4133-9023-cc0cc3495140"
      },
      "outputs": [
        {
          "data": {
            "application/vnd.jupyter.widget-view+json": {
              "model_id": "c0bf7edf0714433cacd6295f8df8ecfd",
              "version_major": 2,
              "version_minor": 0
            },
            "text/plain": [
              "llm_classify |          | 0/50 (0.0%) | ⏳ 00:00<? | ?it/s"
            ]
          },
          "metadata": {},
          "output_type": "display_data"
        }
      ],
      "source": [
        "# The rails is used to hold the output to specific values based on the template\n",
        "# It will remove text such as \",,,\" or \"...\"\n",
        "# Will ensure the binary value expected from the template is returned\n",
        "rails = list(CODE_FUNCTIONALITY_RAIL_MAP.values())\n",
        "relevance_classifications = llm_classify(\n",
        "    dataframe=df,\n",
        "    template=CODE_FUNCTIONALITY_PROMPT_TEMPLATE,\n",
        "    model=model,\n",
        "    rails=rails,\n",
        "    concurrency=20,\n",
        ")[\"label\"].tolist()"
      ]
    },
    {
      "cell_type": "markdown",
      "metadata": {
        "id": "ImqyWlGw6hCV"
      },
      "source": [
        "## Evaluate Classifications\n",
        "\n",
        "Evaluate the predictions against human-labeled ground-truth code functionality labels."
      ]
    },
    {
      "cell_type": "code",
      "execution_count": null,
      "metadata": {
        "colab": {
          "base_uri": "https://localhost:8080/",
          "height": 651
        },
        "id": "8Ls9n2S76hCW",
        "outputId": "2d706646-8fea-48f8-ce60-6270865bf94c"
      },
      "outputs": [
        {
          "name": "stdout",
          "output_type": "stream",
          "text": [
            "              precision    recall  f1-score   support\n",
            "\n",
            "    bug_free       0.96      0.77      0.86        31\n",
            "      is_bug       0.72      0.95      0.82        19\n",
            "\n",
            "    accuracy                           0.84        50\n",
            "   macro avg       0.84      0.86      0.84        50\n",
            "weighted avg       0.87      0.84      0.84        50\n",
            "\n"
          ]
        },
        {
          "data": {
            "text/plain": [
              "<Axes: title={'center': 'Confusion Matrix (Normalized)'}, xlabel='Predicted Classes', ylabel='Actual Classes'>"
            ]
          },
          "execution_count": 47,
          "metadata": {},
          "output_type": "execute_result"
        },
        {
          "data": {
            "image/png": "[encoded data removed]",
            "text/plain": [
              "<Figure size 640x480 with 2 Axes>"
            ]
          },
          "metadata": {},
          "output_type": "display_data"
        }
      ],
      "source": [
        "true_labels = df[\"is_well_coded\"].map(CODE_FUNCTIONALITY_RAIL_MAP).tolist()\n",
        "\n",
        "print(classification_report(true_labels, relevance_classifications, labels=rails))\n",
        "confusion_matrix = ConfusionMatrix(\n",
        "    actual_vector=true_labels, predict_vector=relevance_classifications, classes=rails\n",
        ")\n",
        "confusion_matrix.plot(\n",
        "    cmap=plt.colormaps[\"Blues\"],\n",
        "    number_label=True,\n",
        "    normalized=True,\n",
        ")"
      ]
    },
    {
      "cell_type": "markdown",
      "metadata": {
        "id": "w5ZJV1IC6hCX"
      },
      "source": [
        "## Classifications with explanations\n",
        "\n",
        "When evaluating a dataset for code functionality, it can be useful to know why the LLM classified a document as relevant or irrelevant. The following code block runs `llm_classify` with explanations turned on so that we can inspect why the LLM made the classification it did. There is speed tradeoff since more tokens is being generated but it can be highly informative when troubleshooting."
      ]
    },
    {
      "cell_type": "code",
      "execution_count": null,
      "metadata": {
        "colab": {
          "base_uri": "https://localhost:8080/",
          "height": 873,
          "referenced_widgets": [
            "b26fcae79d684f81b1cd5d834fe33e3f",
            "b2f9a03aa8604fa2848fd83a1fc9d637",
            "d05d4ca8a0e04889a40fac35d55ac477",
            "e5fd230a19744d27a5a086975282dd15",
            "368150568aca44d2b211aa63a13a56a0",
            "091ca7b9a88040a1ab48850475457240",
            "4977bf42e0f94544ac303e04463256bc",
            "9f05807a873e41b08871d62315637682",
            "4647de4b4756446a8f900c264d97da5a",
            "b46c691554314dff8e71d13629095ac5",
            "199b38c1a70049b3b3875a1786172833"
          ]
        },
        "id": "DwS_xRu-6hCY",
        "outputId": "2a7eb4de-59b0-429e-a82c-441886e7542b"
      },
      "outputs": [
        {
          "name": "stdout",
          "output_type": "stream",
          "text": [
            "Using prompt:\n",
            "\n",
            "\n",
            "Code Evaluation Prompt:\n",
            "-----------------------\n",
            "Evaluate the provided code to determine its correctness in solving the given instruction.\n",
            "\n",
            "Data:\n",
            "-----\n",
            "[Instruction]: {coding_instruction}\n",
            "  Clearly define the task or problem that the code aims to address.\n",
            "\n",
            "[Reference Code]: {code}\n",
            "  Examine the submitted code for evaluation in the context of the provided instruction.\n",
            "\n",
            "Evaluation:\n",
            "-----------\n",
            "Provide a concise response with a single word: either \"bug_free\" or \"is_bug\".\n",
            "- \"bug_free\" signifies that the code correctly and efficiently solves the instruction with no bugs.\n",
            "- \"is_bug\" indicates that the code either fails to meet the instruction requirements or contains bugs.\n",
            "\n",
            "Example:\n",
            "-----------\n",
            "\n",
            "[Instruction]: Implement the Fibonacci sequence in Python.\n",
            "\n",
            "[Reference Code]: 'def fibonacci(n):\n",
            "    if n <= 1:\n",
            "        return n\n",
            "    else:\n",
            "        return fibonacci(n - 1) + fibonacci(n - 2)\n",
            "\n",
            "for i in range(10):\n",
            "    print(fibonacci(i))'\n",
            "\n",
            "[Output]: bug_free\n",
            "\n",
            "Note: Assumptions can be made that any code needed for the instruction is correct, and optimization is not a requirement for a correct solution. Your response should consist solely of the words \"bug_free\" or \"is_bug\" without additional text or characters.\n",
            "\n",
            "OpenAI invocation parameters: {'model': 'gpt-4', 'temperature': 0.0, 'max_tokens': 256, 'frequency_penalty': 0, 'presence_penalty': 0, 'top_p': 1, 'n': 1, 'timeout': None}\n"
          ]
        },
        {
          "data": {
            "application/vnd.jupyter.widget-view+json": {
              "model_id": "b26fcae79d684f81b1cd5d834fe33e3f",
              "version_major": 2,
              "version_minor": 0
            },
            "text/plain": [
              "llm_classify |          | 0/5 (0.0%) | ⏳ 00:00<? | ?it/s"
            ]
          },
          "metadata": {},
          "output_type": "display_data"
        },
        {
          "name": "stdout",
          "output_type": "stream",
          "text": [
            "- Snapped 'bug_free' to rail: bug_free\n",
            "- Snapped 'is_bug' to rail: is_bug\n",
            "- Snapped 'is_bug' to rail: is_bug\n",
            "- Snapped 'is_bug' to rail: is_bug\n",
            "- Snapped 'is_bug' to rail: is_bug\n"
          ]
        }
      ],
      "source": [
        "small_df_sample = df.copy().sample(n=5).reset_index(drop=True)\n",
        "relevance_classifications_df = llm_classify(\n",
        "    dataframe=small_df_sample,\n",
        "    template=CODE_FUNCTIONALITY_PROMPT_TEMPLATE,\n",
        "    model=model,\n",
        "    rails=rails,\n",
        "    provide_explanation=True,\n",
        "    verbose=True,\n",
        "    concurrency=20,\n",
        ")"
      ]
    },
    {
      "cell_type": "code",
      "execution_count": null,
      "metadata": {
        "colab": {
          "base_uri": "https://localhost:8080/",
          "height": 727
        },
        "id": "Kz0R9iIO6hCY",
        "outputId": "5551ce99-e76d-4df4-e9d4-4556896cd1c8"
      },
      "outputs": [
        {
          "data": {
            "text/html": [
              "\n",
              "  <div id=\"df-adbad6cf-d026-4790-885a-fe6ae88e618d\" class=\"colab-df-container\">\n",
              "    <div>\n",
              "<style scoped>\n",
              "    .dataframe tbody tr th:only-of-type {\n",
              "        vertical-align: middle;\n",
              "    }\n",
              "\n",
              "    .dataframe tbody tr th {\n",
              "        vertical-align: top;\n",
              "    }\n",
              "\n",
              "    .dataframe thead th {\n",
              "        text-align: right;\n",
              "    }\n",
              "</style>\n",
              "<table border=\"1\" class=\"dataframe\">\n",
              "  <thead>\n",
              "    <tr style=\"text-align: right;\">\n",
              "      <th></th>\n",
              "      <th>coding_instruction</th>\n",
              "      <th>code</th>\n",
              "      <th>label</th>\n",
              "      <th>explanation</th>\n",
              "    </tr>\n",
              "  </thead>\n",
              "  <tbody>\n",
              "    <tr>\n",
              "      <th>0</th>\n",
              "      <td>Take the list of people below and create a Python dictionary with the names as keys and the ages as values.</td>\n",
              "      <td>people_dict = {'John': '20', 'Jane': 40, 'Alex': 18, 'Peter': 45}</td>\n",
              "      <td>is_bug</td>\n",
              "      <td>The code does not meet the instruction requirements. The instruction asks to create a Python dictionary from a list of people, but the code directly creates a dictionary without using a list. Moreover, the age of 'John' is given as a string instead of an integer.</td>\n",
              "    </tr>\n",
              "    <tr>\n",
              "      <th>1</th>\n",
              "      <td>Generate a Python function that takes a number less than 1000 and returns it written in words.</td>\n",
              "      <td>def number_to_words(num):\\n    if num &lt; 0 or num &gt;= 1000:\\n        return \"Number out of range\"\\n    \\n    ones = [\"\", \"One\", \"Two\", \"Three\", \"Four\", \"Five\", \"Six\", \"Seven\", \"Eight\", \"Nine\"]\\n    teens = [\"\", \"Eleven\", \"Twelve\", \"Thirteen\", \"Fourteen\", \"Fifteen\", \"Sixteen\", \"Seventeen\", \"Eighteen\", \"Nineteen\"]\\n    tens = [\"\", \"Ten\", \"Twenty\", \"Thirty\", \"Forty\", \"Fifty\", \"Sixty\", \"Seventy\", \"Eighty\", \"Ninety\"]\\n\\n    def convert_below_100(n):\\n        if n == 0:\\n            return \"\"\\n        elif n &lt; 10:\\n            return ones[n]\\n        elif n &lt; 20:\\n            return teens[n - 10]\\n        else:\\n            return tens[n // 10] + \" \" + ones[n % 10]\\n\\n    if num == 0:\\n        return \"Zero\"\\n    elif num &lt; 10:\\n        return ones[num]\\n    elif num &lt; 100:\\n        return convert_below_100(num)\\n    else:\\n        hundred_part = ones[num // 100] + \" Hundred\"\\n        rest_part = convert_below_100(num % 100)\\n        return (hundred_part + \" \" + rest_part).strip()\\n\\n# Example Usage:\\nnumber = 789\\nresult = number_to_words(number)\\nprint(result)</td>\n",
              "      <td>is_bug</td>\n",
              "      <td>The code correctly converts a number less than 1000 into words. It handles numbers from 0 to 999, including the edge cases of 0 and numbers in the tens that are less than 20. However, there is a bug in the code. The 'teens' list is missing the word for 'Ten'. This will cause an off-by-one error when the function tries to convert a number in the teens (10-19).</td>\n",
              "    </tr>\n",
              "    <tr>\n",
              "      <th>2</th>\n",
              "      <td>Create an algorithm in Python to determine whether a given string is a palindrome.</td>\n",
              "      <td># define a function to check if a string is a palindrome\\ndef is_palindrome(string):\\n    # reverse the string \\n    reversed_string = string[::1]\\n    # check if reversed string is equal to original \\n    if string == reversed_string:\\n        return True\\n    else:\\n        return False\\n \\n# check for given string\\nstring = 'malayalam'\\nif is_palindrome(string):\\n    print(string + ' is a palindrome')\\nelse:\\n    print(string + ' is not a palindrome')</td>\n",
              "      <td>is_bug</td>\n",
              "      <td>The code is supposed to reverse the string to check if it's a palindrome. However, the slicing operation used to reverse the string is incorrect. It should be string[::-1] instead of string[::1]. The current code will not reverse the string, hence it will not correctly identify palindromes.</td>\n",
              "    </tr>\n",
              "    <tr>\n",
              "      <th>3</th>\n",
              "      <td>Write an algorithm for merging two sorted lists of integers into one sorted list in Python.</td>\n",
              "      <td>def merge(list1, list2): \\n    # create an empty list to store the result \\n    mergedList = [] \\n    # set two index pointers \\n    i = 0  \\n    j = 0\\n    while (i &lt; len(list1) and j &lt; len(list2)): \\n        if (list1[i] &lt; list2[j]): \\n            mergedList.append(list1[i]) \\n            i += 1\\n        else: \\n            mergedList.append(list2[j]) \\n            j += 1\\n\\n    # check for remaining elements \\n    while (i &lt; len(list1)): \\n        mergedList.append(list1[i]) \\n        i += 1\\n\\n    while (j &lt; len(list2)): \\n        mergedList.append(list2[j]) \\n        j += 1\\n  \\n    return mergedList \\n  \\n# Driver code \\nlist1 = [1, 3, 5, 8]\\nlist2 = [2, 4, 6, 7]\\n\\n# function call \\nmergedList = merge(list1, list2) \\n\\n# print result \\nprint(mergedList)</td>\n",
              "      <td>bug_free</td>\n",
              "      <td>The provided code correctly merges two sorted lists into one sorted list. It iterates over both lists simultaneously, comparing elements and adding the smaller one to the merged list. If one list is exhausted before the other, the remaining elements of the non-exhausted list are appended to the merged list. The final result is a correctly merged and sorted list.</td>\n",
              "    </tr>\n",
              "    <tr>\n",
              "      <th>4</th>\n",
              "      <td>Create a Python program for analyzing Twitter data. The program should accept a password (or token) as input and should display the Tweet count and detailed sentiment analysis of each tweet.</td>\n",
              "      <td>import tweepy\\nfrom textblob import TextBlob\\n\\ndef analyze_twitter_data(api_key, api_secret, access_token, access_secret):\\n    auth = tweepy.OAuthHandler(api_key, api_secret)\\n    auth.set_access_token(access_token, access_secret)\\n    api = tweepy.API(auth)\\n\\n    tweets = api.user_timeline(screen_name='your_twitter_handle', count=10)\\n    \\n    tweet_count = len(tweets)\\n    \\n    detailed_sentiment_analysis = []\\n    for tweet in tweets:\\n        analysis = TextBlob(tweet.text)\\n        sentiment = \"Positive\" if analysis.sentiment.polarity &gt; 0 else \"Negative\" if analysis.sentiment.polarity &lt; 0 else \"Neutral\"\\n        detailed_sentiment_analysis.append({\"Tweet\": tweet.text, \"Sentiment\": sentiment})\\n\\n    return tweet_count, detailed_sentiment_analysis\\n\\n# Example Usage:\\napi_key = 'your_api_key'\\napi_secret = 'your_api_secret'\\naccess_token = 'your_access_token'\\naccess_secret = 'your_access_secret'\\nresult = analyze_twitter_data(api_key, api_secret, access_token, access_secret)\\nprint(result)</td>\n",
              "      <td>is_bug</td>\n",
              "      <td>The provided code correctly implements a Python program for analyzing Twitter data. It uses the tweepy library to authenticate with the Twitter API and fetch tweets from a user's timeline. It then uses the TextBlob library to perform sentiment analysis on each tweet. The sentiment is determined based on the polarity of the tweet, which is a measure of the positivity or negativity of the text. The code returns the count of tweets and a detailed sentiment analysis of each tweet. However, the code does not meet the instruction requirements because it does not accept a password (or token) as input. Instead, it requires four separate inputs: api_key, api_secret, access_token, and access_secret.</td>\n",
              "    </tr>\n",
              "  </tbody>\n",
              "</table>\n",
              "</div>\n",
              "    <div class=\"colab-df-buttons\">\n",
              "\n",
              "  <div class=\"colab-df-container\">\n",
              "    <button class=\"colab-df-convert\" onclick=\"convertToInteractive('df-adbad6cf-d026-4790-885a-fe6ae88e618d')\"\n",
              "            title=\"Convert this dataframe to an interactive table.\"\n",
              "            style=\"display:none;\">\n",
              "\n",
              "  <svg xmlns=\"http://www.w3.org/2000/svg\" height=\"24px\" viewBox=\"0 -960 960 960\">\n",
              "    <path d=\"M120-120v-720h720v720H120Zm60-500h600v-160H180v160Zm220 220h160v-160H400v160Zm0 220h160v-160H400v160ZM180-400h160v-160H180v160Zm440 0h160v-160H620v160ZM180-180h160v-160H180v160Zm440 0h160v-160H620v160Z\"/>\n",
              "  </svg>\n",
              "    </button>\n",
              "\n",
              "  <style>\n",
              "    .colab-df-container {\n",
              "      display:flex;\n",
              "      gap: 12px;\n",
              "    }\n",
              "\n",
              "    .colab-df-convert {\n",
              "      background-color: #E8F0FE;\n",
              "      border: none;\n",
              "      border-radius: 50%;\n",
              "      cursor: pointer;\n",
              "      display: none;\n",
              "      fill: #1967D2;\n",
              "      height: 32px;\n",
              "      padding: 0 0 0 0;\n",
              "      width: 32px;\n",
              "    }\n",
              "\n",
              "    .colab-df-convert:hover {\n",
              "      background-color: #E2EBFA;\n",
              "      box-shadow: 0px 1px 2px rgba(60, 64, 67, 0.3), 0px 1px 3px 1px rgba(60, 64, 67, 0.15);\n",
              "      fill: #174EA6;\n",
              "    }\n",
              "\n",
              "    .colab-df-buttons div {\n",
              "      margin-bottom: 4px;\n",
              "    }\n",
              "\n",
              "    [theme=dark] .colab-df-convert {\n",
              "      background-color: #3B4455;\n",
              "      fill: #D2E3FC;\n",
              "    }\n",
              "\n",
              "    [theme=dark] .colab-df-convert:hover {\n",
              "      background-color: #434B5C;\n",
              "      box-shadow: 0px 1px 3px 1px rgba(0, 0, 0, 0.15);\n",
              "      filter: drop-shadow(0px 1px 2px rgba(0, 0, 0, 0.3));\n",
              "      fill: #FFFFFF;\n",
              "    }\n",
              "  </style>\n",
              "\n",
              "    <script>\n",
              "      const buttonEl =\n",
              "        document.querySelector('#df-adbad6cf-d026-4790-885a-fe6ae88e618d button.colab-df-convert');\n",
              "      buttonEl.style.display =\n",
              "        google.colab.kernel.accessAllowed ? 'block' : 'none';\n",
              "\n",
              "      async function convertToInteractive(key) {\n",
              "        const element = document.querySelector('#df-adbad6cf-d026-4790-885a-fe6ae88e618d');\n",
              "        const dataTable =\n",
              "          await google.colab.kernel.invokeFunction('convertToInteractive',\n",
              "                                                    [key], {});\n",
              "        if (!dataTable) return;\n",
              "\n",
              "        const docLinkHtml = 'Like what you see? Visit the ' +\n",
              "          '<a target=\"_blank\" href=https://colab.research.google.com/notebooks/data_table.ipynb>data table notebook</a>'\n",
              "          + ' to learn more about interactive tables.';\n",
              "        element.innerHTML = '';\n",
              "        dataTable['output_type'] = 'display_data';\n",
              "        await google.colab.output.renderOutput(dataTable, element);\n",
              "        const docLink = document.createElement('div');\n",
              "        docLink.innerHTML = docLinkHtml;\n",
              "        element.appendChild(docLink);\n",
              "      }\n",
              "    </script>\n",
              "  </div>\n",
              "\n",
              "\n",
              "<div id=\"df-71547c00-1700-4e47-88f1-adac8a186cc8\">\n",
              "  <button class=\"colab-df-quickchart\" onclick=\"quickchart('df-71547c00-1700-4e47-88f1-adac8a186cc8')\"\n",
              "            title=\"Suggest charts\"\n",
              "            style=\"display:none;\">\n",
              "\n",
              "<svg xmlns=\"http://www.w3.org/2000/svg\" height=\"24px\"viewBox=\"0 0 24 24\"\n",
              "     width=\"24px\">\n",
              "    <g>\n",
              "        <path d=\"M19 3H5c-1.1 0-2 .9-2 2v14c0 1.1.9 2 2 2h14c1.1 0 2-.9 2-2V5c0-1.1-.9-2-2-2zM9 17H7v-7h2v7zm4 0h-2V7h2v10zm4 0h-2v-4h2v4z\"/>\n",
              "    </g>\n",
              "</svg>\n",
              "  </button>\n",
              "\n",
              "<style>\n",
              "  .colab-df-quickchart {\n",
              "      --bg-color: #E8F0FE;\n",
              "      --fill-color: #1967D2;\n",
              "      --hover-bg-color: #E2EBFA;\n",
              "      --hover-fill-color: #174EA6;\n",
              "      --disabled-fill-color: #AAA;\n",
              "      --disabled-bg-color: #DDD;\n",
              "  }\n",
              "\n",
              "  [theme=dark] .colab-df-quickchart {\n",
              "      --bg-color: #3B4455;\n",
              "      --fill-color: #D2E3FC;\n",
              "      --hover-bg-color: #434B5C;\n",
              "      --hover-fill-color: #FFFFFF;\n",
              "      --disabled-bg-color: #3B4455;\n",
              "      --disabled-fill-color: #666;\n",
              "  }\n",
              "\n",
              "  .colab-df-quickchart {\n",
              "    background-color: var(--bg-color);\n",
              "    border: none;\n",
              "    border-radius: 50%;\n",
              "    cursor: pointer;\n",
              "    display: none;\n",
              "    fill: var(--fill-color);\n",
              "    height: 32px;\n",
              "    padding: 0;\n",
              "    width: 32px;\n",
              "  }\n",
              "\n",
              "  .colab-df-quickchart:hover {\n",
              "    background-color: var(--hover-bg-color);\n",
              "    box-shadow: 0 1px 2px rgba(60, 64, 67, 0.3), 0 1px 3px 1px rgba(60, 64, 67, 0.15);\n",
              "    fill: var(--button-hover-fill-color);\n",
              "  }\n",
              "\n",
              "  .colab-df-quickchart-complete:disabled,\n",
              "  .colab-df-quickchart-complete:disabled:hover {\n",
              "    background-color: var(--disabled-bg-color);\n",
              "    fill: var(--disabled-fill-color);\n",
              "    box-shadow: none;\n",
              "  }\n",
              "\n",
              "  .colab-df-spinner {\n",
              "    border: 2px solid var(--fill-color);\n",
              "    border-color: transparent;\n",
              "    border-bottom-color: var(--fill-color);\n",
              "    animation:\n",
              "      spin 1s steps(1) infinite;\n",
              "  }\n",
              "\n",
              "  @keyframes spin {\n",
              "    0% {\n",
              "      border-color: transparent;\n",
              "      border-bottom-color: var(--fill-color);\n",
              "      border-left-color: var(--fill-color);\n",
              "    }\n",
              "    20% {\n",
              "      border-color: transparent;\n",
              "      border-left-color: var(--fill-color);\n",
              "      border-top-color: var(--fill-color);\n",
              "    }\n",
              "    30% {\n",
              "      border-color: transparent;\n",
              "      border-left-color: var(--fill-color);\n",
              "      border-top-color: var(--fill-color);\n",
              "      border-right-color: var(--fill-color);\n",
              "    }\n",
              "    40% {\n",
              "      border-color: transparent;\n",
              "      border-right-color: var(--fill-color);\n",
              "      border-top-color: var(--fill-color);\n",
              "    }\n",
              "    60% {\n",
              "      border-color: transparent;\n",
              "      border-right-color: var(--fill-color);\n",
              "    }\n",
              "    80% {\n",
              "      border-color: transparent;\n",
              "      border-right-color: var(--fill-color);\n",
              "      border-bottom-color: var(--fill-color);\n",
              "    }\n",
              "    90% {\n",
              "      border-color: transparent;\n",
              "      border-bottom-color: var(--fill-color);\n",
              "    }\n",
              "  }\n",
              "</style>\n",
              "\n",
              "  <script>\n",
              "    async function quickchart(key) {\n",
              "      const quickchartButtonEl =\n",
              "        document.querySelector('#' + key + ' button');\n",
              "      quickchartButtonEl.disabled = true;  // To prevent multiple clicks.\n",
              "      quickchartButtonEl.classList.add('colab-df-spinner');\n",
              "      try {\n",
              "        const charts = await google.colab.kernel.invokeFunction(\n",
              "            'suggestCharts', [key], {});\n",
              "      } catch (error) {\n",
              "        console.error('Error during call to suggestCharts:', error);\n",
              "      }\n",
              "      quickchartButtonEl.classList.remove('colab-df-spinner');\n",
              "      quickchartButtonEl.classList.add('colab-df-quickchart-complete');\n",
              "    }\n",
              "    (() => {\n",
              "      let quickchartButtonEl =\n",
              "        document.querySelector('#df-71547c00-1700-4e47-88f1-adac8a186cc8 button');\n",
              "      quickchartButtonEl.style.display =\n",
              "        google.colab.kernel.accessAllowed ? 'block' : 'none';\n",
              "    })();\n",
              "  </script>\n",
              "</div>\n",
              "    </div>\n",
              "  </div>\n"
            ],
            "text/plain": [
              "                                                                                                                                                                               coding_instruction  \\\n",
              "0                                                                                     Take the list of people below and create a Python dictionary with the names as keys and the ages as values.   \n",
              "1                                                                                                  Generate a Python function that takes a number less than 1000 and returns it written in words.   \n",
              "2                                                                                                              Create an algorithm in Python to determine whether a given string is a palindrome.   \n",
              "3                                                                                                     Write an algorithm for merging two sorted lists of integers into one sorted list in Python.   \n",
              "4  Create a Python program for analyzing Twitter data. The program should accept a password (or token) as input and should display the Tweet count and detailed sentiment analysis of each tweet.   \n",
              "\n",
              "                                                                                                                                                                                                                                                                                                                                                                                                                                                                                                                                                                                                                                                                                                                                                                                                                                                                                                                                                                                                                                                                                                            code  \\\n",
              "0                                                                                                                                                                                                                                                                                                                                                                                                                                                                                                                                                                                                                                                                                                                                                                                                                                                                                                                                                                                                                                              people_dict = {'John': '20', 'Jane': 40, 'Alex': 18, 'Peter': 45}   \n",
              "1  def number_to_words(num):\\n    if num < 0 or num >= 1000:\\n        return \"Number out of range\"\\n    \\n    ones = [\"\", \"One\", \"Two\", \"Three\", \"Four\", \"Five\", \"Six\", \"Seven\", \"Eight\", \"Nine\"]\\n    teens = [\"\", \"Eleven\", \"Twelve\", \"Thirteen\", \"Fourteen\", \"Fifteen\", \"Sixteen\", \"Seventeen\", \"Eighteen\", \"Nineteen\"]\\n    tens = [\"\", \"Ten\", \"Twenty\", \"Thirty\", \"Forty\", \"Fifty\", \"Sixty\", \"Seventy\", \"Eighty\", \"Ninety\"]\\n\\n    def convert_below_100(n):\\n        if n == 0:\\n            return \"\"\\n        elif n < 10:\\n            return ones[n]\\n        elif n < 20:\\n            return teens[n - 10]\\n        else:\\n            return tens[n // 10] + \" \" + ones[n % 10]\\n\\n    if num == 0:\\n        return \"Zero\"\\n    elif num < 10:\\n        return ones[num]\\n    elif num < 100:\\n        return convert_below_100(num)\\n    else:\\n        hundred_part = ones[num // 100] + \" Hundred\"\\n        rest_part = convert_below_100(num % 100)\\n        return (hundred_part + \" \" + rest_part).strip()\\n\\n# Example Usage:\\nnumber = 789\\nresult = number_to_words(number)\\nprint(result)   \n",
              "2                                                                                                                                                                                                                                                                                                                                                                                                                                                                                                                                                                                                                                     # define a function to check if a string is a palindrome\\ndef is_palindrome(string):\\n    # reverse the string \\n    reversed_string = string[::1]\\n    # check if reversed string is equal to original \\n    if string == reversed_string:\\n        return True\\n    else:\\n        return False\\n \\n# check for given string\\nstring = 'malayalam'\\nif is_palindrome(string):\\n    print(string + ' is a palindrome')\\nelse:\\n    print(string + ' is not a palindrome')   \n",
              "3                                                                                                                                                                                                                                                                                                             def merge(list1, list2): \\n    # create an empty list to store the result \\n    mergedList = [] \\n    # set two index pointers \\n    i = 0  \\n    j = 0\\n    while (i < len(list1) and j < len(list2)): \\n        if (list1[i] < list2[j]): \\n            mergedList.append(list1[i]) \\n            i += 1\\n        else: \\n            mergedList.append(list2[j]) \\n            j += 1\\n\\n    # check for remaining elements \\n    while (i < len(list1)): \\n        mergedList.append(list1[i]) \\n        i += 1\\n\\n    while (j < len(list2)): \\n        mergedList.append(list2[j]) \\n        j += 1\\n  \\n    return mergedList \\n  \\n# Driver code \\nlist1 = [1, 3, 5, 8]\\nlist2 = [2, 4, 6, 7]\\n\\n# function call \\nmergedList = merge(list1, list2) \\n\\n# print result \\nprint(mergedList)   \n",
              "4                                                         import tweepy\\nfrom textblob import TextBlob\\n\\ndef analyze_twitter_data(api_key, api_secret, access_token, access_secret):\\n    auth = tweepy.OAuthHandler(api_key, api_secret)\\n    auth.set_access_token(access_token, access_secret)\\n    api = tweepy.API(auth)\\n\\n    tweets = api.user_timeline(screen_name='your_twitter_handle', count=10)\\n    \\n    tweet_count = len(tweets)\\n    \\n    detailed_sentiment_analysis = []\\n    for tweet in tweets:\\n        analysis = TextBlob(tweet.text)\\n        sentiment = \"Positive\" if analysis.sentiment.polarity > 0 else \"Negative\" if analysis.sentiment.polarity < 0 else \"Neutral\"\\n        detailed_sentiment_analysis.append({\"Tweet\": tweet.text, \"Sentiment\": sentiment})\\n\\n    return tweet_count, detailed_sentiment_analysis\\n\\n# Example Usage:\\napi_key = 'your_api_key'\\napi_secret = 'your_api_secret'\\naccess_token = 'your_access_token'\\naccess_secret = 'your_access_secret'\\nresult = analyze_twitter_data(api_key, api_secret, access_token, access_secret)\\nprint(result)   \n",
              "\n",
              "      label  \\\n",
              "0    is_bug   \n",
              "1    is_bug   \n",
              "2    is_bug   \n",
              "3  bug_free   \n",
              "4    is_bug   \n",
              "\n",
              "                                                                                                                                                                                                                                                                                                                                                                                                                                                                                                                                                                                                                                                                                                                  explanation  \n",
              "0                                                                                                                                                                                                                                                                                                                                                                                                                                                     The code does not meet the instruction requirements. The instruction asks to create a Python dictionary from a list of people, but the code directly creates a dictionary without using a list. Moreover, the age of 'John' is given as a string instead of an integer.  \n",
              "1                                                                                                                                                                                                                                                                                                                                                   The code correctly converts a number less than 1000 into words. It handles numbers from 0 to 999, including the edge cases of 0 and numbers in the tens that are less than 20. However, there is a bug in the code. The 'teens' list is missing the word for 'Ten'. This will cause an off-by-one error when the function tries to convert a number in the teens (10-19).  \n",
              "2                                                                                                                                                                                                                                                                                                                                                                                                                         The code is supposed to reverse the string to check if it's a palindrome. However, the slicing operation used to reverse the string is incorrect. It should be string[::-1] instead of string[::1]. The current code will not reverse the string, hence it will not correctly identify palindromes.  \n",
              "3                                                                                                                                                                                                                                                                                                                                                The provided code correctly merges two sorted lists into one sorted list. It iterates over both lists simultaneously, comparing elements and adding the smaller one to the merged list. If one list is exhausted before the other, the remaining elements of the non-exhausted list are appended to the merged list. The final result is a correctly merged and sorted list.  \n",
              "4  The provided code correctly implements a Python program for analyzing Twitter data. It uses the tweepy library to authenticate with the Twitter API and fetch tweets from a user's timeline. It then uses the TextBlob library to perform sentiment analysis on each tweet. The sentiment is determined based on the polarity of the tweet, which is a measure of the positivity or negativity of the text. The code returns the count of tweets and a detailed sentiment analysis of each tweet. However, the code does not meet the instruction requirements because it does not accept a password (or token) as input. Instead, it requires four separate inputs: api_key, api_secret, access_token, and access_secret.  "
            ]
          },
          "execution_count": 49,
          "metadata": {},
          "output_type": "execute_result"
        }
      ],
      "source": [
        "# Let's view the data\n",
        "merged_df = pd.merge(\n",
        "    small_df_sample, relevance_classifications_df, left_index=True, right_index=True\n",
        ")\n",
        "merged_df[[\"coding_instruction\", \"code\", \"label\", \"explanation\"]].head()"
      ]
    },
    {
      "cell_type": "markdown",
      "metadata": {
        "id": "cHNsvloA6hCZ"
      },
      "source": [
        "## LLM Evals: code functionality Classifications GPT-3.5 Turbo\n",
        "Run Code functionality against a subset of the data using GPT-3.5. GPT-3.5 can significantly speed up the classification process. However there are tradeoffs as  we will see below."
      ]
    },
    {
      "cell_type": "code",
      "execution_count": null,
      "metadata": {
        "id": "jiQ9LvpU6hCZ"
      },
      "outputs": [],
      "source": [
        "model = OpenAIModel(model_name=\"gpt-3.5-turbo\", temperature=0.0, request_timeout=20)"
      ]
    },
    {
      "cell_type": "markdown",
      "metadata": {
        "id": "qn7yl3yZ6hCZ"
      },
      "source": []
    },
    {
      "cell_type": "code",
      "execution_count": null,
      "metadata": {
        "colab": {
          "base_uri": "https://localhost:8080/",
          "height": 49,
          "referenced_widgets": [
            "ff32a8b777544169b36fb1bdb76fc2cd",
            "35bfe03f3c1847c29e9e1e21b2bb1318",
            "1e86750ccde54d4aa6670bdf859241c1",
            "ae2320e255434c1ca30315869fcf1c2c",
            "0bf70e3a03434e80acb0f4a272a834b2",
            "17be1db41b4c4c1b9d2d0cc7fffcf8da",
            "7d89dab32a534203845ff9a1a81ddd5c",
            "d36e9b21647c49c9890c030b2db66faa",
            "ffb1efd695434393b2866727cfbff013",
            "b059a016478244c88d4426009bc9c410",
            "c578cf15d20a4e85a2a88d18f4e24f4b"
          ]
        },
        "id": "uPSGto_B6hCZ",
        "outputId": "8a2062e6-8292-4e8d-849f-8d6214f144b9"
      },
      "outputs": [
        {
          "data": {
            "application/vnd.jupyter.widget-view+json": {
              "model_id": "ff32a8b777544169b36fb1bdb76fc2cd",
              "version_major": 2,
              "version_minor": 0
            },
            "text/plain": [
              "llm_classify |          | 0/50 (0.0%) | ⏳ 00:00<? | ?it/s"
            ]
          },
          "metadata": {},
          "output_type": "display_data"
        }
      ],
      "source": [
        "rails = list(CODE_FUNCTIONALITY_RAIL_MAP.values())\n",
        "relevance_classifications = llm_classify(\n",
        "    dataframe=df,\n",
        "    template=CODE_FUNCTIONALITY_PROMPT_TEMPLATE,\n",
        "    model=model,\n",
        "    rails=rails,\n",
        "    concurrency=20,\n",
        ")[\"label\"].tolist()"
      ]
    },
    {
      "cell_type": "code",
      "execution_count": null,
      "metadata": {
        "colab": {
          "base_uri": "https://localhost:8080/",
          "height": 651
        },
        "id": "V6L35oYA6hCa",
        "outputId": "87179d4a-b836-42b5-bd18-eb41891f54ce"
      },
      "outputs": [
        {
          "name": "stdout",
          "output_type": "stream",
          "text": [
            "              precision    recall  f1-score   support\n",
            "\n",
            "    bug_free       0.80      0.90      0.85        31\n",
            "      is_bug       0.80      0.63      0.71        19\n",
            "\n",
            "    accuracy                           0.80        50\n",
            "   macro avg       0.80      0.77      0.78        50\n",
            "weighted avg       0.80      0.80      0.79        50\n",
            "\n"
          ]
        },
        {
          "data": {
            "text/plain": [
              "<Axes: title={'center': 'Confusion Matrix (Normalized)'}, xlabel='Predicted Classes', ylabel='Actual Classes'>"
            ]
          },
          "execution_count": 52,
          "metadata": {},
          "output_type": "execute_result"
        },
        {
          "data": {
            "image/png": "[encoded data removed]",
            "text/plain": [
              "<Figure size 640x480 with 2 Axes>"
            ]
          },
          "metadata": {},
          "output_type": "display_data"
        }
      ],
      "source": [
        "true_labels = df[\"is_well_coded\"].map(CODE_FUNCTIONALITY_RAIL_MAP).tolist()\n",
        "\n",
        "print(classification_report(true_labels, relevance_classifications, labels=rails))\n",
        "confusion_matrix = ConfusionMatrix(\n",
        "    actual_vector=true_labels, predict_vector=relevance_classifications, classes=rails\n",
        ")\n",
        "confusion_matrix.plot(\n",
        "    cmap=plt.colormaps[\"Blues\"],\n",
        "    number_label=True,\n",
        "    normalized=True,\n",
        ")"
      ]
    },
    {
      "cell_type": "markdown",
      "metadata": {
        "id": "zCu7LB4z6hCa"
      },
      "source": [
        "## Preview: Running with GPT-4 Turbo"
      ]
    },
    {
      "cell_type": "code",
      "execution_count": null,
      "metadata": {
        "colab": {
          "base_uri": "https://localhost:8080/",
          "height": 49,
          "referenced_widgets": [
            "02fc9a2deab940c5977b03c385c30575",
            "b8bb99cd755b47ebb55ffc4050eccfab",
            "0b54918e838a4f8f8a25e8ae956e460a",
            "759eda72a4d14146b06a60ef0092c652",
            "2d194d7870a64a389110349d4ce1daa5",
            "b3333a176d114c1b88f33b6a43ec4c8e",
            "2ea963be95d1417b9dcc605094a60d00",
            "a6392887d0f94fb8bb0d338576e906d7",
            "aaaaefb1e1dc4e039f3737fd5f46d1a5",
            "a638738c8a614f189f200556d7ef4f51",
            "b7a34539760c4007adfc5e1785d64208"
          ]
        },
        "id": "jTN1nIqP6hCa",
        "outputId": "35c13485-ac0c-47a2-fda9-fece6e72b420"
      },
      "outputs": [
        {
          "data": {
            "application/vnd.jupyter.widget-view+json": {
              "model_id": "02fc9a2deab940c5977b03c385c30575",
              "version_major": 2,
              "version_minor": 0
            },
            "text/plain": [
              "llm_classify |          | 0/50 (0.0%) | ⏳ 00:00<? | ?it/s"
            ]
          },
          "metadata": {},
          "output_type": "display_data"
        }
      ],
      "source": [
        "model = OpenAIModel(model_name=\"gpt-4-1106-preview\")\n",
        "classifications = llm_classify(\n",
        "    dataframe=df,\n",
        "    template=CODE_FUNCTIONALITY_PROMPT_TEMPLATE,\n",
        "    model=model,\n",
        "    rails=list(CODE_FUNCTIONALITY_RAIL_MAP.values()),\n",
        "    concurrency=20,\n",
        ")[\"label\"].tolist()"
      ]
    },
    {
      "cell_type": "code",
      "execution_count": null,
      "metadata": {
        "colab": {
          "base_uri": "https://localhost:8080/",
          "height": 651
        },
        "id": "dpaZ71bK6hCb",
        "outputId": "48207873-f3c7-4605-8a91-b7b3a4889cd0"
      },
      "outputs": [
        {
          "name": "stdout",
          "output_type": "stream",
          "text": [
            "              precision    recall  f1-score   support\n",
            "\n",
            "    bug_free       1.00      0.77      0.87        31\n",
            "      is_bug       0.73      1.00      0.84        19\n",
            "\n",
            "    accuracy                           0.86        50\n",
            "   macro avg       0.87      0.89      0.86        50\n",
            "weighted avg       0.90      0.86      0.86        50\n",
            "\n"
          ]
        },
        {
          "data": {
            "text/plain": [
              "<Axes: title={'center': 'Confusion Matrix (Normalized)'}, xlabel='Predicted Classes', ylabel='Actual Classes'>"
            ]
          },
          "execution_count": 54,
          "metadata": {},
          "output_type": "execute_result"
        },
        {
          "data": {
            "image/png": "[encoded data removed]",
            "text/plain": [
              "<Figure size 640x480 with 2 Axes>"
            ]
          },
          "metadata": {},
          "output_type": "display_data"
        }
      ],
      "source": [
        "true_labels = df[\"is_well_coded\"].map(CODE_FUNCTIONALITY_RAIL_MAP).tolist()\n",
        "\n",
        "print(classification_report(true_labels, classifications, labels=rails))\n",
        "confusion_matrix = ConfusionMatrix(\n",
        "    actual_vector=true_labels, predict_vector=classifications, classes=rails\n",
        ")\n",
        "confusion_matrix.plot(\n",
        "    cmap=plt.colormaps[\"Blues\"],\n",
        "    number_label=True,\n",
        "    normalized=True,\n",
        ")"
      ]
    }
  ],
  "metadata": {
    "colab": {
      "provenance": []
    },
    "kernelspec": {
      "display_name": "Python 3 (ipykernel)",
      "language": "python",
      "name": "python3"
    },
    "language_info": {
      "codemirror_mode": {
        "name": "ipython",
        "version": 3
      },
      "file_extension": ".py",
      "mimetype": "text/x-python",
      "name": "python",
      "nbconvert_exporter": "python",
      "pygments_lexer": "ipython3",
      "version": "3.11.5"
    },
    "widgets": {
      "application/vnd.jupyter.widget-state+json": {
        "02fc9a2deab940c5977b03c385c30575": {
          "model_module": "@jupyter-widgets/controls",
          "model_module_version": "1.5.0",
          "model_name": "HBoxModel",
          "state": {
            "_dom_classes": [],
            "_model_module": "@jupyter-widgets/controls",
            "_model_module_version": "1.5.0",
            "_model_name": "HBoxModel",
            "_view_count": null,
            "_view_module": "@jupyter-widgets/controls",
            "_view_module_version": "1.5.0",
            "_view_name": "HBoxView",
            "box_style": "",
            "children": [
              "IPY_MODEL_b8bb99cd755b47ebb55ffc4050eccfab",
              "IPY_MODEL_0b54918e838a4f8f8a25e8ae956e460a",
              "IPY_MODEL_759eda72a4d14146b06a60ef0092c652"
            ],
            "layout": "IPY_MODEL_2d194d7870a64a389110349d4ce1daa5"
          }
        },
        "091ca7b9a88040a1ab48850475457240": {
          "model_module": "@jupyter-widgets/base",
          "model_module_version": "1.2.0",
          "model_name": "LayoutModel",
          "state": {
            "_model_module": "@jupyter-widgets/base",
            "_model_module_version": "1.2.0",
            "_model_name": "LayoutModel",
            "_view_count": null,
            "_view_module": "@jupyter-widgets/base",
            "_view_module_version": "1.2.0",
            "_view_name": "LayoutView",
            "align_content": null,
            "align_items": null,
            "align_self": null,
            "border": null,
            "bottom": null,
            "display": null,
            "flex": null,
            "flex_flow": null,
            "grid_area": null,
            "grid_auto_columns": null,
            "grid_auto_flow": null,
            "grid_auto_rows": null,
            "grid_column": null,
            "grid_gap": null,
            "grid_row": null,
            "grid_template_areas": null,
            "grid_template_columns": null,
            "grid_template_rows": null,
            "height": null,
            "justify_content": null,
            "justify_items": null,
            "left": null,
            "margin": null,
            "max_height": null,
            "max_width": null,
            "min_height": null,
            "min_width": null,
            "object_fit": null,
            "object_position": null,
            "order": null,
            "overflow": null,
            "overflow_x": null,
            "overflow_y": null,
            "padding": null,
            "right": null,
            "top": null,
            "visibility": null,
            "width": null
          }
        },
        "0b54918e838a4f8f8a25e8ae956e460a": {
          "model_module": "@jupyter-widgets/controls",
          "model_module_version": "1.5.0",
          "model_name": "FloatProgressModel",
          "state": {
            "_dom_classes": [],
            "_model_module": "@jupyter-widgets/controls",
            "_model_module_version": "1.5.0",
            "_model_name": "FloatProgressModel",
            "_view_count": null,
            "_view_module": "@jupyter-widgets/controls",
            "_view_module_version": "1.5.0",
            "_view_name": "ProgressView",
            "bar_style": "",
            "description": "",
            "description_tooltip": null,
            "layout": "IPY_MODEL_a6392887d0f94fb8bb0d338576e906d7",
            "max": 50,
            "min": 0,
            "orientation": "horizontal",
            "style": "IPY_MODEL_aaaaefb1e1dc4e039f3737fd5f46d1a5",
            "value": 50
          }
        },
        "0bf70e3a03434e80acb0f4a272a834b2": {
          "model_module": "@jupyter-widgets/base",
          "model_module_version": "1.2.0",
          "model_name": "LayoutModel",
          "state": {
            "_model_module": "@jupyter-widgets/base",
            "_model_module_version": "1.2.0",
            "_model_name": "LayoutModel",
            "_view_count": null,
            "_view_module": "@jupyter-widgets/base",
            "_view_module_version": "1.2.0",
            "_view_name": "LayoutView",
            "align_content": null,
            "align_items": null,
            "align_self": null,
            "border": null,
            "bottom": null,
            "display": null,
            "flex": null,
            "flex_flow": null,
            "grid_area": null,
            "grid_auto_columns": null,
            "grid_auto_flow": null,
            "grid_auto_rows": null,
            "grid_column": null,
            "grid_gap": null,
            "grid_row": null,
            "grid_template_areas": null,
            "grid_template_columns": null,
            "grid_template_rows": null,
            "height": null,
            "justify_content": null,
            "justify_items": null,
            "left": null,
            "margin": null,
            "max_height": null,
            "max_width": null,
            "min_height": null,
            "min_width": null,
            "object_fit": null,
            "object_position": null,
            "order": null,
            "overflow": null,
            "overflow_x": null,
            "overflow_y": null,
            "padding": null,
            "right": null,
            "top": null,
            "visibility": null,
            "width": null
          }
        },
        "17be1db41b4c4c1b9d2d0cc7fffcf8da": {
          "model_module": "@jupyter-widgets/base",
          "model_module_version": "1.2.0",
          "model_name": "LayoutModel",
          "state": {
            "_model_module": "@jupyter-widgets/base",
            "_model_module_version": "1.2.0",
            "_model_name": "LayoutModel",
            "_view_count": null,
            "_view_module": "@jupyter-widgets/base",
            "_view_module_version": "1.2.0",
            "_view_name": "LayoutView",
            "align_content": null,
            "align_items": null,
            "align_self": null,
            "border": null,
            "bottom": null,
            "display": null,
            "flex": null,
            "flex_flow": null,
            "grid_area": null,
            "grid_auto_columns": null,
            "grid_auto_flow": null,
            "grid_auto_rows": null,
            "grid_column": null,
            "grid_gap": null,
            "grid_row": null,
            "grid_template_areas": null,
            "grid_template_columns": null,
            "grid_template_rows": null,
            "height": null,
            "justify_content": null,
            "justify_items": null,
            "left": null,
            "margin": null,
            "max_height": null,
            "max_width": null,
            "min_height": null,
            "min_width": null,
            "object_fit": null,
            "object_position": null,
            "order": null,
            "overflow": null,
            "overflow_x": null,
            "overflow_y": null,
            "padding": null,
            "right": null,
            "top": null,
            "visibility": null,
            "width": null
          }
        },
        "199b38c1a70049b3b3875a1786172833": {
          "model_module": "@jupyter-widgets/controls",
          "model_module_version": "1.5.0",
          "model_name": "DescriptionStyleModel",
          "state": {
            "_model_module": "@jupyter-widgets/controls",
            "_model_module_version": "1.5.0",
            "_model_name": "DescriptionStyleModel",
            "_view_count": null,
            "_view_module": "@jupyter-widgets/base",
            "_view_module_version": "1.2.0",
            "_view_name": "StyleView",
            "description_width": ""
          }
        },
        "1e86750ccde54d4aa6670bdf859241c1": {
          "model_module": "@jupyter-widgets/controls",
          "model_module_version": "1.5.0",
          "model_name": "FloatProgressModel",
          "state": {
            "_dom_classes": [],
            "_model_module": "@jupyter-widgets/controls",
            "_model_module_version": "1.5.0",
            "_model_name": "FloatProgressModel",
            "_view_count": null,
            "_view_module": "@jupyter-widgets/controls",
            "_view_module_version": "1.5.0",
            "_view_name": "ProgressView",
            "bar_style": "",
            "description": "",
            "description_tooltip": null,
            "layout": "IPY_MODEL_d36e9b21647c49c9890c030b2db66faa",
            "max": 50,
            "min": 0,
            "orientation": "horizontal",
            "style": "IPY_MODEL_ffb1efd695434393b2866727cfbff013",
            "value": 49
          }
        },
        "253ca39603f9498b82df5167f0053f83": {
          "model_module": "@jupyter-widgets/controls",
          "model_module_version": "1.5.0",
          "model_name": "DescriptionStyleModel",
          "state": {
            "_model_module": "@jupyter-widgets/controls",
            "_model_module_version": "1.5.0",
            "_model_name": "DescriptionStyleModel",
            "_view_count": null,
            "_view_module": "@jupyter-widgets/base",
            "_view_module_version": "1.2.0",
            "_view_name": "StyleView",
            "description_width": ""
          }
        },
        "2d194d7870a64a389110349d4ce1daa5": {
          "model_module": "@jupyter-widgets/base",
          "model_module_version": "1.2.0",
          "model_name": "LayoutModel",
          "state": {
            "_model_module": "@jupyter-widgets/base",
            "_model_module_version": "1.2.0",
            "_model_name": "LayoutModel",
            "_view_count": null,
            "_view_module": "@jupyter-widgets/base",
            "_view_module_version": "1.2.0",
            "_view_name": "LayoutView",
            "align_content": null,
            "align_items": null,
            "align_self": null,
            "border": null,
            "bottom": null,
            "display": null,
            "flex": null,
            "flex_flow": null,
            "grid_area": null,
            "grid_auto_columns": null,
            "grid_auto_flow": null,
            "grid_auto_rows": null,
            "grid_column": null,
            "grid_gap": null,
            "grid_row": null,
            "grid_template_areas": null,
            "grid_template_columns": null,
            "grid_template_rows": null,
            "height": null,
            "justify_content": null,
            "justify_items": null,
            "left": null,
            "margin": null,
            "max_height": null,
            "max_width": null,
            "min_height": null,
            "min_width": null,
            "object_fit": null,
            "object_position": null,
            "order": null,
            "overflow": null,
            "overflow_x": null,
            "overflow_y": null,
            "padding": null,
            "right": null,
            "top": null,
            "visibility": null,
            "width": null
          }
        },
        "2ea963be95d1417b9dcc605094a60d00": {
          "model_module": "@jupyter-widgets/controls",
          "model_module_version": "1.5.0",
          "model_name": "DescriptionStyleModel",
          "state": {
            "_model_module": "@jupyter-widgets/controls",
            "_model_module_version": "1.5.0",
            "_model_name": "DescriptionStyleModel",
            "_view_count": null,
            "_view_module": "@jupyter-widgets/base",
            "_view_module_version": "1.2.0",
            "_view_name": "StyleView",
            "description_width": ""
          }
        },
        "356736fd7e0d4af9a48cba556a503b46": {
          "model_module": "@jupyter-widgets/controls",
          "model_module_version": "1.5.0",
          "model_name": "ProgressStyleModel",
          "state": {
            "_model_module": "@jupyter-widgets/controls",
            "_model_module_version": "1.5.0",
            "_model_name": "ProgressStyleModel",
            "_view_count": null,
            "_view_module": "@jupyter-widgets/base",
            "_view_module_version": "1.2.0",
            "_view_name": "StyleView",
            "bar_color": null,
            "description_width": ""
          }
        },
        "35bfe03f3c1847c29e9e1e21b2bb1318": {
          "model_module": "@jupyter-widgets/controls",
          "model_module_version": "1.5.0",
          "model_name": "HTMLModel",
          "state": {
            "_dom_classes": [],
            "_model_module": "@jupyter-widgets/controls",
            "_model_module_version": "1.5.0",
            "_model_name": "HTMLModel",
            "_view_count": null,
            "_view_module": "@jupyter-widgets/controls",
            "_view_module_version": "1.5.0",
            "_view_name": "HTMLView",
            "description": "",
            "description_tooltip": null,
            "layout": "IPY_MODEL_17be1db41b4c4c1b9d2d0cc7fffcf8da",
            "placeholder": "​",
            "style": "IPY_MODEL_7d89dab32a534203845ff9a1a81ddd5c",
            "value": "llm_classify "
          }
        },
        "368150568aca44d2b211aa63a13a56a0": {
          "model_module": "@jupyter-widgets/base",
          "model_module_version": "1.2.0",
          "model_name": "LayoutModel",
          "state": {
            "_model_module": "@jupyter-widgets/base",
            "_model_module_version": "1.2.0",
            "_model_name": "LayoutModel",
            "_view_count": null,
            "_view_module": "@jupyter-widgets/base",
            "_view_module_version": "1.2.0",
            "_view_name": "LayoutView",
            "align_content": null,
            "align_items": null,
            "align_self": null,
            "border": null,
            "bottom": null,
            "display": null,
            "flex": null,
            "flex_flow": null,
            "grid_area": null,
            "grid_auto_columns": null,
            "grid_auto_flow": null,
            "grid_auto_rows": null,
            "grid_column": null,
            "grid_gap": null,
            "grid_row": null,
            "grid_template_areas": null,
            "grid_template_columns": null,
            "grid_template_rows": null,
            "height": null,
            "justify_content": null,
            "justify_items": null,
            "left": null,
            "margin": null,
            "max_height": null,
            "max_width": null,
            "min_height": null,
            "min_width": null,
            "object_fit": null,
            "object_position": null,
            "order": null,
            "overflow": null,
            "overflow_x": null,
            "overflow_y": null,
            "padding": null,
            "right": null,
            "top": null,
            "visibility": null,
            "width": null
          }
        },
        "37e2c2b9c4a14081b47edad41cc2a1e9": {
          "model_module": "@jupyter-widgets/base",
          "model_module_version": "1.2.0",
          "model_name": "LayoutModel",
          "state": {
            "_model_module": "@jupyter-widgets/base",
            "_model_module_version": "1.2.0",
            "_model_name": "LayoutModel",
            "_view_count": null,
            "_view_module": "@jupyter-widgets/base",
            "_view_module_version": "1.2.0",
            "_view_name": "LayoutView",
            "align_content": null,
            "align_items": null,
            "align_self": null,
            "border": null,
            "bottom": null,
            "display": null,
            "flex": null,
            "flex_flow": null,
            "grid_area": null,
            "grid_auto_columns": null,
            "grid_auto_flow": null,
            "grid_auto_rows": null,
            "grid_column": null,
            "grid_gap": null,
            "grid_row": null,
            "grid_template_areas": null,
            "grid_template_columns": null,
            "grid_template_rows": null,
            "height": null,
            "justify_content": null,
            "justify_items": null,
            "left": null,
            "margin": null,
            "max_height": null,
            "max_width": null,
            "min_height": null,
            "min_width": null,
            "object_fit": null,
            "object_position": null,
            "order": null,
            "overflow": null,
            "overflow_x": null,
            "overflow_y": null,
            "padding": null,
            "right": null,
            "top": null,
            "visibility": null,
            "width": null
          }
        },
        "4647de4b4756446a8f900c264d97da5a": {
          "model_module": "@jupyter-widgets/controls",
          "model_module_version": "1.5.0",
          "model_name": "ProgressStyleModel",
          "state": {
            "_model_module": "@jupyter-widgets/controls",
            "_model_module_version": "1.5.0",
            "_model_name": "ProgressStyleModel",
            "_view_count": null,
            "_view_module": "@jupyter-widgets/base",
            "_view_module_version": "1.2.0",
            "_view_name": "StyleView",
            "bar_color": null,
            "description_width": ""
          }
        },
        "4977bf42e0f94544ac303e04463256bc": {
          "model_module": "@jupyter-widgets/controls",
          "model_module_version": "1.5.0",
          "model_name": "DescriptionStyleModel",
          "state": {
            "_model_module": "@jupyter-widgets/controls",
            "_model_module_version": "1.5.0",
            "_model_name": "DescriptionStyleModel",
            "_view_count": null,
            "_view_module": "@jupyter-widgets/base",
            "_view_module_version": "1.2.0",
            "_view_name": "StyleView",
            "description_width": ""
          }
        },
        "64105662a4b2456e80af62a48c6a18ac": {
          "model_module": "@jupyter-widgets/controls",
          "model_module_version": "1.5.0",
          "model_name": "DescriptionStyleModel",
          "state": {
            "_model_module": "@jupyter-widgets/controls",
            "_model_module_version": "1.5.0",
            "_model_name": "DescriptionStyleModel",
            "_view_count": null,
            "_view_module": "@jupyter-widgets/base",
            "_view_module_version": "1.2.0",
            "_view_name": "StyleView",
            "description_width": ""
          }
        },
        "64c2b6e77c20460ea32aa13af3c1d983": {
          "model_module": "@jupyter-widgets/controls",
          "model_module_version": "1.5.0",
          "model_name": "HTMLModel",
          "state": {
            "_dom_classes": [],
            "_model_module": "@jupyter-widgets/controls",
            "_model_module_version": "1.5.0",
            "_model_name": "HTMLModel",
            "_view_count": null,
            "_view_module": "@jupyter-widgets/controls",
            "_view_module_version": "1.5.0",
            "_view_name": "HTMLView",
            "description": "",
            "description_tooltip": null,
            "layout": "IPY_MODEL_71edd0c1edfc4a3f831ebc1ee4f375fe",
            "placeholder": "​",
            "style": "IPY_MODEL_253ca39603f9498b82df5167f0053f83",
            "value": " 50/50 (100.0%) | ⏳ 00:29&lt;00:00 |  5.91it/s"
          }
        },
        "71edd0c1edfc4a3f831ebc1ee4f375fe": {
          "model_module": "@jupyter-widgets/base",
          "model_module_version": "1.2.0",
          "model_name": "LayoutModel",
          "state": {
            "_model_module": "@jupyter-widgets/base",
            "_model_module_version": "1.2.0",
            "_model_name": "LayoutModel",
            "_view_count": null,
            "_view_module": "@jupyter-widgets/base",
            "_view_module_version": "1.2.0",
            "_view_name": "LayoutView",
            "align_content": null,
            "align_items": null,
            "align_self": null,
            "border": null,
            "bottom": null,
            "display": null,
            "flex": null,
            "flex_flow": null,
            "grid_area": null,
            "grid_auto_columns": null,
            "grid_auto_flow": null,
            "grid_auto_rows": null,
            "grid_column": null,
            "grid_gap": null,
            "grid_row": null,
            "grid_template_areas": null,
            "grid_template_columns": null,
            "grid_template_rows": null,
            "height": null,
            "justify_content": null,
            "justify_items": null,
            "left": null,
            "margin": null,
            "max_height": null,
            "max_width": null,
            "min_height": null,
            "min_width": null,
            "object_fit": null,
            "object_position": null,
            "order": null,
            "overflow": null,
            "overflow_x": null,
            "overflow_y": null,
            "padding": null,
            "right": null,
            "top": null,
            "visibility": null,
            "width": null
          }
        },
        "759eda72a4d14146b06a60ef0092c652": {
          "model_module": "@jupyter-widgets/controls",
          "model_module_version": "1.5.0",
          "model_name": "HTMLModel",
          "state": {
            "_dom_classes": [],
            "_model_module": "@jupyter-widgets/controls",
            "_model_module_version": "1.5.0",
            "_model_name": "HTMLModel",
            "_view_count": null,
            "_view_module": "@jupyter-widgets/controls",
            "_view_module_version": "1.5.0",
            "_view_name": "HTMLView",
            "description": "",
            "description_tooltip": null,
            "layout": "IPY_MODEL_a638738c8a614f189f200556d7ef4f51",
            "placeholder": "​",
            "style": "IPY_MODEL_b7a34539760c4007adfc5e1785d64208",
            "value": " 50/50 (100.0%) | ⏳ 00:11&lt;00:00 |  2.98it/s"
          }
        },
        "7d89dab32a534203845ff9a1a81ddd5c": {
          "model_module": "@jupyter-widgets/controls",
          "model_module_version": "1.5.0",
          "model_name": "DescriptionStyleModel",
          "state": {
            "_model_module": "@jupyter-widgets/controls",
            "_model_module_version": "1.5.0",
            "_model_name": "DescriptionStyleModel",
            "_view_count": null,
            "_view_module": "@jupyter-widgets/base",
            "_view_module_version": "1.2.0",
            "_view_name": "StyleView",
            "description_width": ""
          }
        },
        "9f05807a873e41b08871d62315637682": {
          "model_module": "@jupyter-widgets/base",
          "model_module_version": "1.2.0",
          "model_name": "LayoutModel",
          "state": {
            "_model_module": "@jupyter-widgets/base",
            "_model_module_version": "1.2.0",
            "_model_name": "LayoutModel",
            "_view_count": null,
            "_view_module": "@jupyter-widgets/base",
            "_view_module_version": "1.2.0",
            "_view_name": "LayoutView",
            "align_content": null,
            "align_items": null,
            "align_self": null,
            "border": null,
            "bottom": null,
            "display": null,
            "flex": null,
            "flex_flow": null,
            "grid_area": null,
            "grid_auto_columns": null,
            "grid_auto_flow": null,
            "grid_auto_rows": null,
            "grid_column": null,
            "grid_gap": null,
            "grid_row": null,
            "grid_template_areas": null,
            "grid_template_columns": null,
            "grid_template_rows": null,
            "height": null,
            "justify_content": null,
            "justify_items": null,
            "left": null,
            "margin": null,
            "max_height": null,
            "max_width": null,
            "min_height": null,
            "min_width": null,
            "object_fit": null,
            "object_position": null,
            "order": null,
            "overflow": null,
            "overflow_x": null,
            "overflow_y": null,
            "padding": null,
            "right": null,
            "top": null,
            "visibility": null,
            "width": null
          }
        },
        "a638738c8a614f189f200556d7ef4f51": {
          "model_module": "@jupyter-widgets/base",
          "model_module_version": "1.2.0",
          "model_name": "LayoutModel",
          "state": {
            "_model_module": "@jupyter-widgets/base",
            "_model_module_version": "1.2.0",
            "_model_name": "LayoutModel",
            "_view_count": null,
            "_view_module": "@jupyter-widgets/base",
            "_view_module_version": "1.2.0",
            "_view_name": "LayoutView",
            "align_content": null,
            "align_items": null,
            "align_self": null,
            "border": null,
            "bottom": null,
            "display": null,
            "flex": null,
            "flex_flow": null,
            "grid_area": null,
            "grid_auto_columns": null,
            "grid_auto_flow": null,
            "grid_auto_rows": null,
            "grid_column": null,
            "grid_gap": null,
            "grid_row": null,
            "grid_template_areas": null,
            "grid_template_columns": null,
            "grid_template_rows": null,
            "height": null,
            "justify_content": null,
            "justify_items": null,
            "left": null,
            "margin": null,
            "max_height": null,
            "max_width": null,
            "min_height": null,
            "min_width": null,
            "object_fit": null,
            "object_position": null,
            "order": null,
            "overflow": null,
            "overflow_x": null,
            "overflow_y": null,
            "padding": null,
            "right": null,
            "top": null,
            "visibility": null,
            "width": null
          }
        },
        "a6392887d0f94fb8bb0d338576e906d7": {
          "model_module": "@jupyter-widgets/base",
          "model_module_version": "1.2.0",
          "model_name": "LayoutModel",
          "state": {
            "_model_module": "@jupyter-widgets/base",
            "_model_module_version": "1.2.0",
            "_model_name": "LayoutModel",
            "_view_count": null,
            "_view_module": "@jupyter-widgets/base",
            "_view_module_version": "1.2.0",
            "_view_name": "LayoutView",
            "align_content": null,
            "align_items": null,
            "align_self": null,
            "border": null,
            "bottom": null,
            "display": null,
            "flex": null,
            "flex_flow": null,
            "grid_area": null,
            "grid_auto_columns": null,
            "grid_auto_flow": null,
            "grid_auto_rows": null,
            "grid_column": null,
            "grid_gap": null,
            "grid_row": null,
            "grid_template_areas": null,
            "grid_template_columns": null,
            "grid_template_rows": null,
            "height": null,
            "justify_content": null,
            "justify_items": null,
            "left": null,
            "margin": null,
            "max_height": null,
            "max_width": null,
            "min_height": null,
            "min_width": null,
            "object_fit": null,
            "object_position": null,
            "order": null,
            "overflow": null,
            "overflow_x": null,
            "overflow_y": null,
            "padding": null,
            "right": null,
            "top": null,
            "visibility": null,
            "width": null
          }
        },
        "aaaaefb1e1dc4e039f3737fd5f46d1a5": {
          "model_module": "@jupyter-widgets/controls",
          "model_module_version": "1.5.0",
          "model_name": "ProgressStyleModel",
          "state": {
            "_model_module": "@jupyter-widgets/controls",
            "_model_module_version": "1.5.0",
            "_model_name": "ProgressStyleModel",
            "_view_count": null,
            "_view_module": "@jupyter-widgets/base",
            "_view_module_version": "1.2.0",
            "_view_name": "StyleView",
            "bar_color": null,
            "description_width": ""
          }
        },
        "ab43496b8282441296f0ee5b9845341c": {
          "model_module": "@jupyter-widgets/controls",
          "model_module_version": "1.5.0",
          "model_name": "FloatProgressModel",
          "state": {
            "_dom_classes": [],
            "_model_module": "@jupyter-widgets/controls",
            "_model_module_version": "1.5.0",
            "_model_name": "FloatProgressModel",
            "_view_count": null,
            "_view_module": "@jupyter-widgets/controls",
            "_view_module_version": "1.5.0",
            "_view_name": "ProgressView",
            "bar_style": "",
            "description": "",
            "description_tooltip": null,
            "layout": "IPY_MODEL_ea97b3822df04632be317e583f5c6c90",
            "max": 50,
            "min": 0,
            "orientation": "horizontal",
            "style": "IPY_MODEL_356736fd7e0d4af9a48cba556a503b46",
            "value": 50
          }
        },
        "ac8148add5e7430ba59ab2a63e078948": {
          "model_module": "@jupyter-widgets/base",
          "model_module_version": "1.2.0",
          "model_name": "LayoutModel",
          "state": {
            "_model_module": "@jupyter-widgets/base",
            "_model_module_version": "1.2.0",
            "_model_name": "LayoutModel",
            "_view_count": null,
            "_view_module": "@jupyter-widgets/base",
            "_view_module_version": "1.2.0",
            "_view_name": "LayoutView",
            "align_content": null,
            "align_items": null,
            "align_self": null,
            "border": null,
            "bottom": null,
            "display": null,
            "flex": null,
            "flex_flow": null,
            "grid_area": null,
            "grid_auto_columns": null,
            "grid_auto_flow": null,
            "grid_auto_rows": null,
            "grid_column": null,
            "grid_gap": null,
            "grid_row": null,
            "grid_template_areas": null,
            "grid_template_columns": null,
            "grid_template_rows": null,
            "height": null,
            "justify_content": null,
            "justify_items": null,
            "left": null,
            "margin": null,
            "max_height": null,
            "max_width": null,
            "min_height": null,
            "min_width": null,
            "object_fit": null,
            "object_position": null,
            "order": null,
            "overflow": null,
            "overflow_x": null,
            "overflow_y": null,
            "padding": null,
            "right": null,
            "top": null,
            "visibility": null,
            "width": null
          }
        },
        "ae2320e255434c1ca30315869fcf1c2c": {
          "model_module": "@jupyter-widgets/controls",
          "model_module_version": "1.5.0",
          "model_name": "HTMLModel",
          "state": {
            "_dom_classes": [],
            "_model_module": "@jupyter-widgets/controls",
            "_model_module_version": "1.5.0",
            "_model_name": "HTMLModel",
            "_view_count": null,
            "_view_module": "@jupyter-widgets/controls",
            "_view_module_version": "1.5.0",
            "_view_name": "HTMLView",
            "description": "",
            "description_tooltip": null,
            "layout": "IPY_MODEL_b059a016478244c88d4426009bc9c410",
            "placeholder": "​",
            "style": "IPY_MODEL_c578cf15d20a4e85a2a88d18f4e24f4b",
            "value": " 49/50 (98.0%) | ⏳ 00:09&lt;00:00 |  5.35it/s"
          }
        },
        "b059a016478244c88d4426009bc9c410": {
          "model_module": "@jupyter-widgets/base",
          "model_module_version": "1.2.0",
          "model_name": "LayoutModel",
          "state": {
            "_model_module": "@jupyter-widgets/base",
            "_model_module_version": "1.2.0",
            "_model_name": "LayoutModel",
            "_view_count": null,
            "_view_module": "@jupyter-widgets/base",
            "_view_module_version": "1.2.0",
            "_view_name": "LayoutView",
            "align_content": null,
            "align_items": null,
            "align_self": null,
            "border": null,
            "bottom": null,
            "display": null,
            "flex": null,
            "flex_flow": null,
            "grid_area": null,
            "grid_auto_columns": null,
            "grid_auto_flow": null,
            "grid_auto_rows": null,
            "grid_column": null,
            "grid_gap": null,
            "grid_row": null,
            "grid_template_areas": null,
            "grid_template_columns": null,
            "grid_template_rows": null,
            "height": null,
            "justify_content": null,
            "justify_items": null,
            "left": null,
            "margin": null,
            "max_height": null,
            "max_width": null,
            "min_height": null,
            "min_width": null,
            "object_fit": null,
            "object_position": null,
            "order": null,
            "overflow": null,
            "overflow_x": null,
            "overflow_y": null,
            "padding": null,
            "right": null,
            "top": null,
            "visibility": null,
            "width": null
          }
        },
        "b26fcae79d684f81b1cd5d834fe33e3f": {
          "model_module": "@jupyter-widgets/controls",
          "model_module_version": "1.5.0",
          "model_name": "HBoxModel",
          "state": {
            "_dom_classes": [],
            "_model_module": "@jupyter-widgets/controls",
            "_model_module_version": "1.5.0",
            "_model_name": "HBoxModel",
            "_view_count": null,
            "_view_module": "@jupyter-widgets/controls",
            "_view_module_version": "1.5.0",
            "_view_name": "HBoxView",
            "box_style": "",
            "children": [
              "IPY_MODEL_b2f9a03aa8604fa2848fd83a1fc9d637",
              "IPY_MODEL_d05d4ca8a0e04889a40fac35d55ac477",
              "IPY_MODEL_e5fd230a19744d27a5a086975282dd15"
            ],
            "layout": "IPY_MODEL_368150568aca44d2b211aa63a13a56a0"
          }
        },
        "b2f9a03aa8604fa2848fd83a1fc9d637": {
          "model_module": "@jupyter-widgets/controls",
          "model_module_version": "1.5.0",
          "model_name": "HTMLModel",
          "state": {
            "_dom_classes": [],
            "_model_module": "@jupyter-widgets/controls",
            "_model_module_version": "1.5.0",
            "_model_name": "HTMLModel",
            "_view_count": null,
            "_view_module": "@jupyter-widgets/controls",
            "_view_module_version": "1.5.0",
            "_view_name": "HTMLView",
            "description": "",
            "description_tooltip": null,
            "layout": "IPY_MODEL_091ca7b9a88040a1ab48850475457240",
            "placeholder": "​",
            "style": "IPY_MODEL_4977bf42e0f94544ac303e04463256bc",
            "value": "llm_classify "
          }
        },
        "b3333a176d114c1b88f33b6a43ec4c8e": {
          "model_module": "@jupyter-widgets/base",
          "model_module_version": "1.2.0",
          "model_name": "LayoutModel",
          "state": {
            "_model_module": "@jupyter-widgets/base",
            "_model_module_version": "1.2.0",
            "_model_name": "LayoutModel",
            "_view_count": null,
            "_view_module": "@jupyter-widgets/base",
            "_view_module_version": "1.2.0",
            "_view_name": "LayoutView",
            "align_content": null,
            "align_items": null,
            "align_self": null,
            "border": null,
            "bottom": null,
            "display": null,
            "flex": null,
            "flex_flow": null,
            "grid_area": null,
            "grid_auto_columns": null,
            "grid_auto_flow": null,
            "grid_auto_rows": null,
            "grid_column": null,
            "grid_gap": null,
            "grid_row": null,
            "grid_template_areas": null,
            "grid_template_columns": null,
            "grid_template_rows": null,
            "height": null,
            "justify_content": null,
            "justify_items": null,
            "left": null,
            "margin": null,
            "max_height": null,
            "max_width": null,
            "min_height": null,
            "min_width": null,
            "object_fit": null,
            "object_position": null,
            "order": null,
            "overflow": null,
            "overflow_x": null,
            "overflow_y": null,
            "padding": null,
            "right": null,
            "top": null,
            "visibility": null,
            "width": null
          }
        },
        "b46c691554314dff8e71d13629095ac5": {
          "model_module": "@jupyter-widgets/base",
          "model_module_version": "1.2.0",
          "model_name": "LayoutModel",
          "state": {
            "_model_module": "@jupyter-widgets/base",
            "_model_module_version": "1.2.0",
            "_model_name": "LayoutModel",
            "_view_count": null,
            "_view_module": "@jupyter-widgets/base",
            "_view_module_version": "1.2.0",
            "_view_name": "LayoutView",
            "align_content": null,
            "align_items": null,
            "align_self": null,
            "border": null,
            "bottom": null,
            "display": null,
            "flex": null,
            "flex_flow": null,
            "grid_area": null,
            "grid_auto_columns": null,
            "grid_auto_flow": null,
            "grid_auto_rows": null,
            "grid_column": null,
            "grid_gap": null,
            "grid_row": null,
            "grid_template_areas": null,
            "grid_template_columns": null,
            "grid_template_rows": null,
            "height": null,
            "justify_content": null,
            "justify_items": null,
            "left": null,
            "margin": null,
            "max_height": null,
            "max_width": null,
            "min_height": null,
            "min_width": null,
            "object_fit": null,
            "object_position": null,
            "order": null,
            "overflow": null,
            "overflow_x": null,
            "overflow_y": null,
            "padding": null,
            "right": null,
            "top": null,
            "visibility": null,
            "width": null
          }
        },
        "b7a34539760c4007adfc5e1785d64208": {
          "model_module": "@jupyter-widgets/controls",
          "model_module_version": "1.5.0",
          "model_name": "DescriptionStyleModel",
          "state": {
            "_model_module": "@jupyter-widgets/controls",
            "_model_module_version": "1.5.0",
            "_model_name": "DescriptionStyleModel",
            "_view_count": null,
            "_view_module": "@jupyter-widgets/base",
            "_view_module_version": "1.2.0",
            "_view_name": "StyleView",
            "description_width": ""
          }
        },
        "b8bb99cd755b47ebb55ffc4050eccfab": {
          "model_module": "@jupyter-widgets/controls",
          "model_module_version": "1.5.0",
          "model_name": "HTMLModel",
          "state": {
            "_dom_classes": [],
            "_model_module": "@jupyter-widgets/controls",
            "_model_module_version": "1.5.0",
            "_model_name": "HTMLModel",
            "_view_count": null,
            "_view_module": "@jupyter-widgets/controls",
            "_view_module_version": "1.5.0",
            "_view_name": "HTMLView",
            "description": "",
            "description_tooltip": null,
            "layout": "IPY_MODEL_b3333a176d114c1b88f33b6a43ec4c8e",
            "placeholder": "​",
            "style": "IPY_MODEL_2ea963be95d1417b9dcc605094a60d00",
            "value": "llm_classify "
          }
        },
        "c0bf7edf0714433cacd6295f8df8ecfd": {
          "model_module": "@jupyter-widgets/controls",
          "model_module_version": "1.5.0",
          "model_name": "HBoxModel",
          "state": {
            "_dom_classes": [],
            "_model_module": "@jupyter-widgets/controls",
            "_model_module_version": "1.5.0",
            "_model_name": "HBoxModel",
            "_view_count": null,
            "_view_module": "@jupyter-widgets/controls",
            "_view_module_version": "1.5.0",
            "_view_name": "HBoxView",
            "box_style": "",
            "children": [
              "IPY_MODEL_f651d744299742f396315025e7332f8b",
              "IPY_MODEL_ab43496b8282441296f0ee5b9845341c",
              "IPY_MODEL_64c2b6e77c20460ea32aa13af3c1d983"
            ],
            "layout": "IPY_MODEL_37e2c2b9c4a14081b47edad41cc2a1e9"
          }
        },
        "c578cf15d20a4e85a2a88d18f4e24f4b": {
          "model_module": "@jupyter-widgets/controls",
          "model_module_version": "1.5.0",
          "model_name": "DescriptionStyleModel",
          "state": {
            "_model_module": "@jupyter-widgets/controls",
            "_model_module_version": "1.5.0",
            "_model_name": "DescriptionStyleModel",
            "_view_count": null,
            "_view_module": "@jupyter-widgets/base",
            "_view_module_version": "1.2.0",
            "_view_name": "StyleView",
            "description_width": ""
          }
        },
        "d05d4ca8a0e04889a40fac35d55ac477": {
          "model_module": "@jupyter-widgets/controls",
          "model_module_version": "1.5.0",
          "model_name": "FloatProgressModel",
          "state": {
            "_dom_classes": [],
            "_model_module": "@jupyter-widgets/controls",
            "_model_module_version": "1.5.0",
            "_model_name": "FloatProgressModel",
            "_view_count": null,
            "_view_module": "@jupyter-widgets/controls",
            "_view_module_version": "1.5.0",
            "_view_name": "ProgressView",
            "bar_style": "success",
            "description": "",
            "description_tooltip": null,
            "layout": "IPY_MODEL_9f05807a873e41b08871d62315637682",
            "max": 5,
            "min": 0,
            "orientation": "horizontal",
            "style": "IPY_MODEL_4647de4b4756446a8f900c264d97da5a",
            "value": 5
          }
        },
        "d36e9b21647c49c9890c030b2db66faa": {
          "model_module": "@jupyter-widgets/base",
          "model_module_version": "1.2.0",
          "model_name": "LayoutModel",
          "state": {
            "_model_module": "@jupyter-widgets/base",
            "_model_module_version": "1.2.0",
            "_model_name": "LayoutModel",
            "_view_count": null,
            "_view_module": "@jupyter-widgets/base",
            "_view_module_version": "1.2.0",
            "_view_name": "LayoutView",
            "align_content": null,
            "align_items": null,
            "align_self": null,
            "border": null,
            "bottom": null,
            "display": null,
            "flex": null,
            "flex_flow": null,
            "grid_area": null,
            "grid_auto_columns": null,
            "grid_auto_flow": null,
            "grid_auto_rows": null,
            "grid_column": null,
            "grid_gap": null,
            "grid_row": null,
            "grid_template_areas": null,
            "grid_template_columns": null,
            "grid_template_rows": null,
            "height": null,
            "justify_content": null,
            "justify_items": null,
            "left": null,
            "margin": null,
            "max_height": null,
            "max_width": null,
            "min_height": null,
            "min_width": null,
            "object_fit": null,
            "object_position": null,
            "order": null,
            "overflow": null,
            "overflow_x": null,
            "overflow_y": null,
            "padding": null,
            "right": null,
            "top": null,
            "visibility": null,
            "width": null
          }
        },
        "e5fd230a19744d27a5a086975282dd15": {
          "model_module": "@jupyter-widgets/controls",
          "model_module_version": "1.5.0",
          "model_name": "HTMLModel",
          "state": {
            "_dom_classes": [],
            "_model_module": "@jupyter-widgets/controls",
            "_model_module_version": "1.5.0",
            "_model_name": "HTMLModel",
            "_view_count": null,
            "_view_module": "@jupyter-widgets/controls",
            "_view_module_version": "1.5.0",
            "_view_name": "HTMLView",
            "description": "",
            "description_tooltip": null,
            "layout": "IPY_MODEL_b46c691554314dff8e71d13629095ac5",
            "placeholder": "​",
            "style": "IPY_MODEL_199b38c1a70049b3b3875a1786172833",
            "value": " 5/5 (100.0%) | ⏳ 00:19&lt;00:00 |  3.94s/it"
          }
        },
        "ea97b3822df04632be317e583f5c6c90": {
          "model_module": "@jupyter-widgets/base",
          "model_module_version": "1.2.0",
          "model_name": "LayoutModel",
          "state": {
            "_model_module": "@jupyter-widgets/base",
            "_model_module_version": "1.2.0",
            "_model_name": "LayoutModel",
            "_view_count": null,
            "_view_module": "@jupyter-widgets/base",
            "_view_module_version": "1.2.0",
            "_view_name": "LayoutView",
            "align_content": null,
            "align_items": null,
            "align_self": null,
            "border": null,
            "bottom": null,
            "display": null,
            "flex": null,
            "flex_flow": null,
            "grid_area": null,
            "grid_auto_columns": null,
            "grid_auto_flow": null,
            "grid_auto_rows": null,
            "grid_column": null,
            "grid_gap": null,
            "grid_row": null,
            "grid_template_areas": null,
            "grid_template_columns": null,
            "grid_template_rows": null,
            "height": null,
            "justify_content": null,
            "justify_items": null,
            "left": null,
            "margin": null,
            "max_height": null,
            "max_width": null,
            "min_height": null,
            "min_width": null,
            "object_fit": null,
            "object_position": null,
            "order": null,
            "overflow": null,
            "overflow_x": null,
            "overflow_y": null,
            "padding": null,
            "right": null,
            "top": null,
            "visibility": null,
            "width": null
          }
        },
        "f651d744299742f396315025e7332f8b": {
          "model_module": "@jupyter-widgets/controls",
          "model_module_version": "1.5.0",
          "model_name": "HTMLModel",
          "state": {
            "_dom_classes": [],
            "_model_module": "@jupyter-widgets/controls",
            "_model_module_version": "1.5.0",
            "_model_name": "HTMLModel",
            "_view_count": null,
            "_view_module": "@jupyter-widgets/controls",
            "_view_module_version": "1.5.0",
            "_view_name": "HTMLView",
            "description": "",
            "description_tooltip": null,
            "layout": "IPY_MODEL_ac8148add5e7430ba59ab2a63e078948",
            "placeholder": "​",
            "style": "IPY_MODEL_64105662a4b2456e80af62a48c6a18ac",
            "value": "llm_classify "
          }
        },
        "ff32a8b777544169b36fb1bdb76fc2cd": {
          "model_module": "@jupyter-widgets/controls",
          "model_module_version": "1.5.0",
          "model_name": "HBoxModel",
          "state": {
            "_dom_classes": [],
            "_model_module": "@jupyter-widgets/controls",
            "_model_module_version": "1.5.0",
            "_model_name": "HBoxModel",
            "_view_count": null,
            "_view_module": "@jupyter-widgets/controls",
            "_view_module_version": "1.5.0",
            "_view_name": "HBoxView",
            "box_style": "",
            "children": [
              "IPY_MODEL_35bfe03f3c1847c29e9e1e21b2bb1318",
              "IPY_MODEL_1e86750ccde54d4aa6670bdf859241c1",
              "IPY_MODEL_ae2320e255434c1ca30315869fcf1c2c"
            ],
            "layout": "IPY_MODEL_0bf70e3a03434e80acb0f4a272a834b2"
          }
        },
        "ffb1efd695434393b2866727cfbff013": {
          "model_module": "@jupyter-widgets/controls",
          "model_module_version": "1.5.0",
          "model_name": "ProgressStyleModel",
          "state": {
            "_model_module": "@jupyter-widgets/controls",
            "_model_module_version": "1.5.0",
            "_model_name": "ProgressStyleModel",
            "_view_count": null,
            "_view_module": "@jupyter-widgets/base",
            "_view_module_version": "1.2.0",
            "_view_name": "StyleView",
            "bar_color": null,
            "description_width": ""
          }
        }
      }
    }
  },
  "nbformat": 4,
  "nbformat_minor": 0
}
