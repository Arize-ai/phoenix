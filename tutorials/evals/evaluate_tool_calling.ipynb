{
 "cells": [
  {
   "cell_type": "markdown",
   "metadata": {},
   "source": [
    "<center>\n",
    "    <p style=\"text-align:center\">\n",
    "        <img alt=\"phoenix logo\" src=\"https://storage.googleapis.com/arize-phoenix-assets/assets/phoenix-logo-light.svg\" width=\"200\"/>\n",
    "        <br>\n",
    "        <a href=\"https://docs.arize.com/phoenix/\">Docs</a>\n",
    "        |\n",
    "        <a href=\"https://github.com/Arize-ai/phoenix\">GitHub</a>\n",
    "        |\n",
    "        <a href=\"https://join.slack.com/t/arize-ai/shared_invite/zt-1px8dcmlf-fmThhDFD_V_48oU7ALan4Q\">Community</a>\n",
    "    </p>\n",
    "</center>\n",
    "<h1 align=\"center\">Tool Calling Evals</h1>\n",
    "\n",
    "The purpose of this notebook is:\n",
    "\n",
    "- to evaluate the multi-step LLM logic involved in tool calling,\n",
    "- to provide an experimental framework for users to iterate and improve on the default evaluation template.\n",
    "\n",
    "## Install Dependencies and Import Libraries"
   ]
  },
  {
   "cell_type": "code",
   "execution_count": null,
   "metadata": {},
   "outputs": [],
   "source": [
    "%pip install -qq \"arize-phoenix[llama-index]\" \"arize-phoenix[evals]>=0.14.0\" \"llama-index-llms-openai\" \"openai>=1\" gcsfs nest_asyncio langchain langchain-openai"
   ]
  },
  {
   "cell_type": "code",
   "execution_count": null,
   "metadata": {},
   "outputs": [],
   "source": [
    "import os\n",
    "from getpass import getpass\n",
    "\n",
    "if not (openai_api_key := os.getenv(\"OPENAI_API_KEY\")):\n",
    "    openai_api_key = getpass(\"🔑 Enter your OpenAI API key: \")\n",
    "\n",
    "os.environ[\"OPENAI_API_KEY\"] = openai_api_key"
   ]
  },
  {
   "cell_type": "code",
   "execution_count": null,
   "metadata": {},
   "outputs": [],
   "source": [
    "import nest_asyncio\n",
    "import pandas as pd\n",
    "\n",
    "from phoenix.evals import (\n",
    "    TOOL_CALLING_PROMPT_RAILS_MAP,\n",
    "    TOOL_CALLING_PROMPT_TEMPLATE,\n",
    "    OpenAIModel,\n",
    "    llm_classify,\n",
    ")\n",
    "\n",
    "nest_asyncio.apply()"
   ]
  },
  {
   "cell_type": "markdown",
   "metadata": {},
   "source": [
    "# Generate App Usage Data\n",
    "\n",
    "Let's begin by generating some data to use for our evaluation. Let's pretend we have a chatbot for an ecommerce company that is armed with a set of functions to lookup products and orders."
   ]
  },
  {
   "cell_type": "code",
   "execution_count": null,
   "metadata": {},
   "outputs": [],
   "source": [
    "GEN_TEMPLATE = \"\"\"\n",
    "You are an assistant that generates complex customer service questions. You will try to answer the question with the tool if possible,\n",
    "do your best to answer, ask for more information only if needed.\n",
    "The questions should often involve:\n",
    "\n",
    "Please reference the product names, the product details, product IDS and product information.\n",
    "\n",
    "Multiple Categories: Questions that could logically fall into more than one category (e.g., combining product details with a discount code).\n",
    "Vague Details: Questions with limited or vague information that require clarification to categorize correctly.\n",
    "Mixed Intentions: Queries where the customer’s goal or need is unclear or seems to conflict within the question itself.\n",
    "Indirect Language: Use of indirect or polite phrasing that obscures the direct need or request (e.g., using \"I was wondering if...\" or \"Perhaps you could help me with...\").\n",
    "For specific categories:\n",
    "\n",
    "Track Package: Include vague timing references (e.g., \"recently\" or \"a while ago\") instead of specific dates.\n",
    "Product Comparison and Product Search: Include generic descriptors without specific product names or IDs (e.g., \"high-end smartphones\" or \"energy-efficient appliances\").\n",
    "Apply Discount Code: Include questions about discounts that might apply to hypothetical or past situations, or without mentioning if they have made a purchase.\n",
    "Product Details: Ask for comparisons or details that involve multiple products or categories ambiguously (e.g., \"Tell me about your range of electronics that are good for home office setups\").\n",
    "Examples of More Challenging Questions\n",
    "Multiple Categories\n",
    "\n",
    "\"I recently bought a samsung 106i smart phone, and I was wondering if there's a way to check what deals I might have missed or if my order is on its way?\"\n",
    "\"Could you tell me if the samsung 15H adapater in my last order are covered under warranty and if they have shipped yet?\"\n",
    "Vague Details\n",
    "\n",
    "\"There's an issue with one of the Vizio 14Y TV I think I bought last month—what should I do?\"\n",
    "\"I need help with a iPhone 16H I ordered, or maybe I'm just looking for something new. Can you help?\"\n",
    "Mixed Intentions\n",
    "\n",
    "\"I'm not sure if I should ask for a refund or just find out when it will arrive. What do you suggest?\"\n",
    "\"Could you help me decide whether to upgrade my product or just track the current one?\"\n",
    "Indirect Language\n",
    "\n",
    "\"I was wondering if you might assist me in figuring out a problem I have with an order, or maybe it's more of a query?\"\n",
    "\"Perhaps you could help me understand the benefits of your premium products compared to the regular ones?\"\n",
    "\n",
    "Some questions should be straightforward uses of the provided functions\n",
    "\n",
    "Respond with a list, one question per line. Do not include any numbering at the beginning of each line. Do not include any category headings.\n",
    "Generate 20 questions.\n",
    "\"\"\""
   ]
  },
  {
   "cell_type": "code",
   "execution_count": null,
   "metadata": {},
   "outputs": [],
   "source": [
    "model = OpenAIModel(model=\"gpt-4o\", max_tokens=1300)"
   ]
  },
  {
   "cell_type": "code",
   "execution_count": null,
   "metadata": {},
   "outputs": [],
   "source": [
    "resp = model(GEN_TEMPLATE)"
   ]
  },
  {
   "cell_type": "code",
   "execution_count": null,
   "metadata": {},
   "outputs": [],
   "source": [
    "split_response = resp.strip().split(\"\\n\")\n",
    "\n",
    "questions_df = pd.DataFrame(split_response, columns=[\"questions\"])\n",
    "print(questions_df)"
   ]
  },
  {
   "cell_type": "markdown",
   "metadata": {
    "id": "YOIstO10ynOw"
   },
   "source": [
    "# Define a tool-calling agent with Langchain\n",
    "\n",
    "Now we'll define the chatbot agent using Langchain to attach the functions as tools."
   ]
  },
  {
   "cell_type": "code",
   "execution_count": null,
   "metadata": {},
   "outputs": [],
   "source": [
    "from langchain.agents import AgentType, initialize_agent\n",
    "from langchain.prompts.chat import ChatPromptTemplate, MessagesPlaceholder\n",
    "from langchain.tools import tool\n",
    "from langchain_openai import ChatOpenAI\n",
    "\n",
    "import phoenix as px\n",
    "from phoenix.trace.langchain import LangChainInstrumentor"
   ]
  },
  {
   "cell_type": "markdown",
   "metadata": {},
   "source": [
    "We'll also enable tracing with Phoenix using our Langchain auto-instrumentor to capture telemetry that we can later evaluate."
   ]
  },
  {
   "cell_type": "code",
   "execution_count": null,
   "metadata": {},
   "outputs": [],
   "source": [
    "(session := px.launch_app()).view()\n",
    "LangChainInstrumentor().instrument(skip_dep_check=True)"
   ]
  },
  {
   "cell_type": "markdown",
   "metadata": {},
   "source": [
    "Now we'll define our basic functions using pydantic. The actual logic of the functions doesn't matter in this evaluation scenario, since we won't be evaluating anything beyond the function generation step."
   ]
  },
  {
   "cell_type": "code",
   "execution_count": null,
   "metadata": {},
   "outputs": [],
   "source": [
    "## function definitions using pydantic decorator\n",
    "\n",
    "\n",
    "@tool\n",
    "def product_comparison(product_a_id: str, product_b_id: str) -> dict:\n",
    "    \"\"\"\n",
    "    Compare features of two products.\n",
    "\n",
    "    Parameters:\n",
    "    product_a_id (str): The unique identifier of Product A.\n",
    "    product_b_id (str): The unique identifier of Product B.\n",
    "\n",
    "    Returns:\n",
    "    dict: A dictionary containing the comparison of the two products.\n",
    "    \"\"\"\n",
    "\n",
    "    if product_a_id == \"\" or product_b_id == \"\":\n",
    "        return {\"error\": \"missing product id\"}\n",
    "\n",
    "    # Implement the function logic here\n",
    "    return {\"comparison\": \"Similar\"}\n",
    "\n",
    "\n",
    "@tool\n",
    "def product_details(product_id: str) -> dict:\n",
    "    \"\"\"\n",
    "    Get detailed features on one product.\n",
    "\n",
    "    Parameters:\n",
    "    product_id (str): The unique identifier of the Product.\n",
    "\n",
    "    Returns:\n",
    "    dict: A dictionary containing product details.\n",
    "    \"\"\"\n",
    "\n",
    "    if product_id == \"\":\n",
    "        return {\"error\": \"missing product id\"}\n",
    "\n",
    "    # Implement the function logic here\n",
    "    return {\"name\": \"Product Name\", \"price\": \"$12.50\", \"Availability\": \"In Stock\"}\n",
    "\n",
    "\n",
    "@tool\n",
    "def apply_discount_code(order_id: int, discount_code: str) -> dict:\n",
    "    \"\"\"\n",
    "    Applies a discount code to an order.\n",
    "\n",
    "    Parameters:\n",
    "    order_id (str): The unique identifier of the order.\n",
    "    discount_code (str): The discount code to apply.\n",
    "\n",
    "    Returns:\n",
    "    dict: A dictionary containing the updated order details.\n",
    "    \"\"\"\n",
    "\n",
    "    if order_id == \"\" or discount_code == \"\":\n",
    "        return {\"error\": \"missing order id or discount code\"}\n",
    "\n",
    "    # Implement the function logic here\n",
    "    return {\"applied\": \"True\"}\n",
    "\n",
    "\n",
    "@tool\n",
    "def product_search(\n",
    "    query: str,\n",
    "    category: str = None,\n",
    "    min_price: float = 0.0,\n",
    "    max_price: float = None,\n",
    "    page: int = 1,\n",
    "    page_size: int = 20,\n",
    ") -> dict:\n",
    "    \"\"\"\n",
    "    Search for products based on criteria.\n",
    "\n",
    "    Parameters:\n",
    "    query (str): The search query string.\n",
    "    category (str, optional): The category to filter the search. Default is None.\n",
    "    min_price (float, optional): The minimum price of the products to search. Default is 0.\n",
    "    max_price (float, optional): The maximum price of the products to search. Default is None.\n",
    "    page (int, optional): The page number for pagination. Default is 1.\n",
    "    page_size (int, optional): The number of results per page. Default is 20.\n",
    "\n",
    "    Returns:\n",
    "    dict: A dictionary containing the search results and pagination info.\n",
    "    \"\"\"\n",
    "\n",
    "    if query == \"\":\n",
    "        return {\"error\": \"missing query\"}\n",
    "\n",
    "    # Implement the function logic here\n",
    "    return {\"results\": [], \"pagination\": {\"total\": 0, \"page\": 1, \"page_size\": 20}}\n",
    "\n",
    "\n",
    "@tool\n",
    "def customer_support(issue_type: str) -> dict:\n",
    "    \"\"\"\n",
    "    Get contact information for customer support regarding an issue.\n",
    "\n",
    "    Parameters:\n",
    "    issue_type (str): The type of issue (e.g., billing, technical support).\n",
    "\n",
    "    Returns:\n",
    "    dict: A dictionary containing the contact information for customer support.\n",
    "    \"\"\"\n",
    "\n",
    "    if issue_type == \"\":\n",
    "        return {\"error\": \"missing issue type\"}\n",
    "\n",
    "    # Implement the function logic here\n",
    "    return {\"contact\": issue_type}\n",
    "\n",
    "\n",
    "@tool\n",
    "def track_package(tracking_number: int) -> dict:\n",
    "    \"\"\"\n",
    "    Track the status of a package based on the tracking number.\n",
    "\n",
    "    Parameters:\n",
    "    tracking_number (str): The tracking number of the package.\n",
    "\n",
    "    Returns:\n",
    "    dict: A dictionary containing the tracking status of the package.\n",
    "    \"\"\"\n",
    "    if tracking_number == \"\":\n",
    "        return {\"error\": \"missing tracking number\"}\n",
    "\n",
    "    # Implement the function logic here\n",
    "    return {\"status\": \"Delivered\"}\n",
    "\n",
    "\n",
    "tools = [\n",
    "    product_comparison,\n",
    "    product_search,\n",
    "    customer_support,\n",
    "    track_package,\n",
    "    apply_discount_code,\n",
    "    product_details,\n",
    "]"
   ]
  },
  {
   "cell_type": "code",
   "execution_count": null,
   "metadata": {},
   "outputs": [],
   "source": [
    "llm = ChatOpenAI(model=\"gpt-4o\")\n",
    "prompt = ChatPromptTemplate.from_messages(\n",
    "    [\n",
    "        (\"system\", \"You are a helpful assistant\"),\n",
    "        (\"human\", \"{input}\"),\n",
    "        MessagesPlaceholder(variable_name=\"agent_scratchpad\"),\n",
    "    ]\n",
    ")"
   ]
  },
  {
   "cell_type": "code",
   "execution_count": null,
   "metadata": {},
   "outputs": [],
   "source": [
    "agent_executor = initialize_agent(tools, llm, agent=AgentType.OPENAI_FUNCTIONS)"
   ]
  },
  {
   "cell_type": "markdown",
   "metadata": {
    "id": "DOkDJEVmLMrN"
   },
   "source": [
    "# Run Agent on each question\n",
    "\n",
    "With our agent defined, we can now run it across each generated question."
   ]
  },
  {
   "cell_type": "code",
   "execution_count": null,
   "metadata": {},
   "outputs": [],
   "source": [
    "questions_df[\"response\"] = questions_df[\"questions\"].apply(agent_executor.invoke)"
   ]
  },
  {
   "cell_type": "code",
   "execution_count": null,
   "metadata": {},
   "outputs": [],
   "source": [
    "questions_df"
   ]
  },
  {
   "cell_type": "markdown",
   "metadata": {
    "id": "qcD7yrdq9xio"
   },
   "source": [
    "# Evaluate Tool Calls\n",
    "\n",
    "Now that we have some example runs of our agent to analyze, we can start the evaluation process. We'll start by exporting all of those spans from Phoenix"
   ]
  },
  {
   "cell_type": "code",
   "execution_count": null,
   "metadata": {},
   "outputs": [],
   "source": [
    "from phoenix.trace import SpanEvaluations\n",
    "from phoenix.trace.dsl import SpanQuery"
   ]
  },
  {
   "cell_type": "markdown",
   "metadata": {},
   "source": [
    "Since we'll only be evaluating the inputs, outputs, and function call columns, let's extract those into an easier to use df. Helpfully, Phoenix provides a method to query your span data and directly export only the values you care about."
   ]
  },
  {
   "cell_type": "code",
   "execution_count": null,
   "metadata": {},
   "outputs": [],
   "source": [
    "query = (\n",
    "    SpanQuery()\n",
    "    .where(\n",
    "        # Filter for the `LLM` span kind.\n",
    "        # The filter condition is a string of valid Python boolean expression.\n",
    "        \"span_kind == 'LLM'\",\n",
    "    )\n",
    "    .select(\n",
    "        # Extract and rename the following span attributes\n",
    "        question=\"llm.input_messages\",\n",
    "        response=\"llm.output_messages\",\n",
    "        tool_call=\"llm.function_call\",\n",
    "    )\n",
    ")\n",
    "trace_df = px.Client().query_spans(query)\n",
    "trace_df[\"tool_call\"] = trace_df[\"tool_call\"].fillna(\"No tool used\")"
   ]
  },
  {
   "cell_type": "code",
   "execution_count": null,
   "metadata": {},
   "outputs": [],
   "source": [
    "trace_df"
   ]
  },
  {
   "cell_type": "markdown",
   "metadata": {},
   "source": [
    "We'll also need to pass in our tool definitions to the evaluator. We've found this works best when formatted as a JSON object matching the format your agent's underlying model uses (e.g. https://platform.openai.com/docs/guides/function-calling for OpenAI)."
   ]
  },
  {
   "cell_type": "code",
   "execution_count": null,
   "metadata": {},
   "outputs": [],
   "source": [
    "# @title JSON Function / Tool\n",
    "json_tools = \"\"\"\n",
    "tools = [\n",
    "    {\n",
    "        \"name\": \"product_comparison\",\n",
    "        \"description\": \"Compare features of two products.\",\n",
    "        \"parameters\": {\n",
    "            \"type\": \"object\",\n",
    "            \"properties\": {\n",
    "                \"product_a_id\": {\n",
    "                    \"type\": \"string\",\n",
    "                    \"description\": \"The unique identifier of Product A.\"\n",
    "                },\n",
    "                \"product_b_id\": {\n",
    "                    \"type\": \"string\",\n",
    "                    \"description\": \"The unique identifier of Product B.\"\n",
    "                }\n",
    "            },\n",
    "            \"required\": [\"product_a_id\", \"product_b_id\"]\n",
    "        }\n",
    "    },\n",
    "    {\n",
    "        \"name\": \"product_search\",\n",
    "        \"description\": \"Search for products based on criteria.\",\n",
    "        \"parameters\": {\n",
    "            \"type\": \"object\",\n",
    "            \"properties\": {\n",
    "                \"query\": {\n",
    "                    \"type\": \"string\",\n",
    "                    \"description\": \"The search query string.\"\n",
    "                },\n",
    "                \"category\": {\n",
    "                    \"type\": \"string\",\n",
    "                    \"description\": \"The category to filter the search.\",\n",
    "                    \"default\": None\n",
    "                },\n",
    "                \"min_price\": {\n",
    "                    \"type\": \"number\",\n",
    "                    \"description\": \"The minimum price of the products to search.\",\n",
    "                    \"default\": 0\n",
    "                },\n",
    "                \"max_price\": {\n",
    "                    \"type\": \"number\",\n",
    "                    \"description\": \"The maximum price of the products to search.\",\n",
    "                    \"default\": None\n",
    "                },\n",
    "                \"page\": {\n",
    "                    \"type\": \"integer\",\n",
    "                    \"description\": \"The page number for pagination.\",\n",
    "                    \"default\": 1\n",
    "                },\n",
    "                \"page_size\": {\n",
    "                    \"type\": \"integer\",\n",
    "                    \"description\": \"The number of results per page.\",\n",
    "                    \"default\": 20\n",
    "                }\n",
    "            },\n",
    "            \"required\": [\"query\"]\n",
    "        }\n",
    "    },\n",
    "    {\n",
    "        \"name\": \"customer_support\",\n",
    "        \"description\": \"Get contact information for customer support regarding an issue.\",\n",
    "        \"parameters\": {\n",
    "            \"type\": \"object\",\n",
    "            \"properties\": {\n",
    "                \"issue_type\": {\n",
    "                    \"type\": \"string\",\n",
    "                    \"description\": \"The type of issue (e.g., billing, technical support).\"\n",
    "                }\n",
    "            },\n",
    "            \"required\": [\"issue_type\"]\n",
    "        }\n",
    "    },\n",
    "    {\n",
    "        \"name\": \"track_package\",\n",
    "        \"description\": \"Track the status of a package based on the tracking number.\",\n",
    "        \"parameters\": {\n",
    "            \"type\": \"object\",\n",
    "            \"properties\": {\n",
    "                \"tracking_number\": {\n",
    "                    \"type\": \"integer\",\n",
    "                    \"description\": \"The tracking number of the package.\"\n",
    "                }\n",
    "            },\n",
    "            \"required\": [\"tracking_number\"]\n",
    "        }\n",
    "    },\n",
    "    {\n",
    "        \"name\": \"product_details\",\n",
    "        \"description\": \"Returns details for a given product id\",\n",
    "        \"parameters\": {\n",
    "            \"type\": \"object\",\n",
    "            \"properties\": {\n",
    "                \"product_id\": {\n",
    "                    \"type\": \"string\",\n",
    "                    \"description\": \"The id of a product to look up.\"\n",
    "                }\n",
    "            },\n",
    "            \"required\": [\"product_id\"]\n",
    "        }\n",
    "    },\n",
    "    {\n",
    "        \"name\": \"apply_discount_code\",\n",
    "        \"description\": \"Applies the discount code to a given order.\",\n",
    "        \"parameters\": {\n",
    "            \"type\": \"object\",\n",
    "            \"properties\": {\n",
    "                \"order_id\": {\n",
    "                    \"type\": \"integer\",\n",
    "                    \"description\": \"The id of the order to apply the discount code to.\"\n",
    "                },\n",
    "                \"discount_code\": {\n",
    "                    \"type\": \"string\",\n",
    "                    \"description\": \"The discount code to apply\n",
    "                }\n",
    "            },\n",
    "            \"required\": [\"order_id, discount_code\"]\n",
    "        }\n",
    "    }\n",
    "]\n",
    "\n",
    "\"\"\""
   ]
  },
  {
   "cell_type": "markdown",
   "metadata": {},
   "source": [
    "Next, we define the evaluator model to use"
   ]
  },
  {
   "cell_type": "code",
   "execution_count": null,
   "metadata": {},
   "outputs": [],
   "source": [
    "eval_model = OpenAIModel(model=\"gpt-4o\")"
   ]
  },
  {
   "cell_type": "markdown",
   "metadata": {},
   "source": [
    "And we're ready to call our evaluator! The method below takes in the dataframe of traces to evaluate, our built in evaluation prompt, the eval model to use, and a rails object to snap responses from our model to a set of binary classification responses.\n",
    "\n",
    "We'll also instruct our model to provide explanations for its responses."
   ]
  },
  {
   "cell_type": "code",
   "execution_count": null,
   "metadata": {},
   "outputs": [],
   "source": [
    "rails = list(TOOL_CALLING_PROMPT_RAILS_MAP.values())\n",
    "\n",
    "response_classifications = llm_classify(\n",
    "    dataframe=trace_df,\n",
    "    template=TOOL_CALLING_PROMPT_TEMPLATE.template.replace(\"{tool_definitions}\", json_tools),\n",
    "    model=eval_model,\n",
    "    rails=rails,\n",
    "    provide_explanation=True,\n",
    ")"
   ]
  },
  {
   "cell_type": "code",
   "execution_count": null,
   "metadata": {},
   "outputs": [],
   "source": [
    "response_classifications"
   ]
  },
  {
   "cell_type": "markdown",
   "metadata": {},
   "source": [
    "Finally, we'll export these responses back into Phoenix to view them in the UI."
   ]
  },
  {
   "cell_type": "code",
   "execution_count": null,
   "metadata": {},
   "outputs": [],
   "source": [
    "px.Client().log_evaluations(\n",
    "    SpanEvaluations(eval_name=\"Tool Calling Eval\", dataframe=response_classifications),\n",
    ")"
   ]
  },
  {
   "cell_type": "code",
   "execution_count": null,
   "metadata": {},
   "outputs": [],
   "source": [
    "print(\"View your evals in the Spans section of the UI here:\", px.Client().web_url)"
   ]
  },
  {
   "cell_type": "markdown",
   "metadata": {},
   "source": [
    "From here, you could iterate on different agent logic and prompts to improve performance, or you could further decompose the evaluation into individual steps looking first at Routing, then Parameter Extraction, then Code Generation to determine where to focus.\n",
    "\n",
    "Happy building!"
   ]
  }
 ],
 "metadata": {
  "language_info": {
   "name": "python"
  }
 },
 "nbformat": 4,
 "nbformat_minor": 0
}
