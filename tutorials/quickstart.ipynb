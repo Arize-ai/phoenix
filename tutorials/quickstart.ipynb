{
 "cells": [
  {
   "attachments": {},
   "cell_type": "markdown",
   "metadata": {},
   "source": [
    "# <center>Quickstart Guide</center>\n",
    "## <center>Gain insights into your model via Phoenix</center>\n",
    "\n",
    "Phoenix first and foremost is an application that can run alongside your notebook environment. It takes in up to two sets of data and surfaces up drift, performance, and data quality insights.\n"
   ]
  },
  {
   "attachments": {},
   "cell_type": "markdown",
   "metadata": {},
   "source": [
    "### 📚 Install `arize-phoenix` "
   ]
  },
  {
   "cell_type": "code",
   "execution_count": null,
   "metadata": {},
   "outputs": [],
   "source": [
    "%pip install -q arize-phoenix"
   ]
  },
  {
   "attachments": {},
   "cell_type": "markdown",
   "metadata": {},
   "source": [
    "### Using a built-in dataset to view the application\n",
    "\n",
    "To get familiar with the application itself, the easiest way to get started is to use one of phoenix's example datasets."
   ]
  },
  {
   "cell_type": "code",
   "execution_count": null,
   "metadata": {},
   "outputs": [
    {
     "name": "stdout",
     "output_type": "stream",
     "text": [
      "INFO:     127.0.0.1:58714 - \"GET / HTTP/1.1\" 200 OK\n",
      "INFO:     127.0.0.1:58714 - \"GET /index.js HTTP/1.1\" 200 OK\n",
      "INFO:     127.0.0.1:58716 - \"GET /favicon.ico HTTP/1.1\" 200 OK\n",
      "INFO:     127.0.0.1:58714 - \"POST /graphql HTTP/1.1\" 200 OK\n",
      "INFO:     127.0.0.1:58714 - \"POST /graphql HTTP/1.1\" 200 OK\n",
      "node: EmbeddingDimension 0\n",
      "INFO:     127.0.0.1:58714 - \"POST /graphql HTTP/1.1\" 200 OK\n",
      "node: EmbeddingDimension 0\n",
      "INFO:     127.0.0.1:58714 - \"POST /graphql HTTP/1.1\" 200 OK\n",
      "node: EmbeddingDimension 0\n",
      "INFO:     127.0.0.1:58716 - \"POST /graphql HTTP/1.1\" 200 OK\n"
     ]
    }
   ],
   "source": [
    "import phoenix as px\n",
    "\n",
    "# Get the fixture datasets via a specific use case. Some valid values are \"fashion_mnist\", \"sentiment_classification_language_drift\", and \"credit_card_fraud\"\n",
    "datasets = px.load_example(\"sentiment_classification_language_drift\")\n",
    "session = px.launch_app(datasets.primary, datasets.reference)\n",
    "session.view()"
   ]
  }
 ],
 "metadata": {
  "kernelspec": {
   "display_name": "phoenix",
   "language": "python",
   "name": "python3"
  },
  "language_info": {
   "codemirror_mode": {
    "name": "ipython",
    "version": 3
   },
   "file_extension": ".py",
   "mimetype": "text/x-python",
   "name": "python",
   "nbconvert_exporter": "python",
   "pygments_lexer": "ipython3",
   "version": "3.10.3"
  },
  "orig_nbformat": 4
 },
 "nbformat": 4,
 "nbformat_minor": 2
}
