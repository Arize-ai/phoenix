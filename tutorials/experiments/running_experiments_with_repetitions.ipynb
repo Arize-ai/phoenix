{
 "cells": [
  {
   "cell_type": "markdown",
   "id": "dca316ce",
   "metadata": {},
   "source": [
    "<center>\n",
    "    <p style=\"text-align:center\">\n",
    "        <img alt=\"phoenix logo\" src=\"https://storage.googleapis.com/arize-phoenix-assets/assets/phoenix-logo-light.svg\" width=\"200\"/>\n",
    "        <br>\n",
    "        <a href=\"https://docs.arize.com/phoenix/\">Docs</a>\n",
    "        |\n",
    "        <a href=\"https://github.com/Arize-ai/phoenix\">GitHub</a>\n",
    "        |\n",
    "        <a href=\"https://join.slack.com/t/arize-ai/shared_invite/zt-1px8dcmlf-fmThhDFD_V_48oU7ALan4Q\">Community</a>\n",
    "    </p>\n",
    "</center>"
   ]
  },
  {
   "cell_type": "markdown",
   "id": "e0dbe604",
   "metadata": {},
   "source": [
    "# Evaluation of Customer Reviews using Repetitions in Phoenix\n",
    "\n",
    "This notebook walks through how to generate synthetic customer reviews, upload them into **Phoenix**, and run evaluations to identify patterns and repetitions.  \n",
    "We’ll go step by step: generating data, structuring it into a dataset, and finally running experiments inside Phoenix to compare model outputs against reference labels.  \n",
    "Along the way, we’ll also look at screenshots of the Phoenix UI to see how datasets and experiments are visualized.  \n"
   ]
  },
  {
   "cell_type": "markdown",
   "id": "a82d6871",
   "metadata": {},
   "source": [
    "### Setup & Installation\n",
    "We start by installing the required dependencies:  \n",
    "- **pandas** for data manipulation  \n",
    "- **openai** for LLM calls  \n",
    "- **arize-phoenix** to log and evaluate results  \n",
    "- **nest_asyncio** to avoid issues when running async code in notebooks  \n"
   ]
  },
  {
   "cell_type": "code",
   "execution_count": 22,
   "id": "2935272c",
   "metadata": {},
   "outputs": [
    {
     "name": "stdout",
     "output_type": "stream",
     "text": [
      "Requirement already satisfied: pandas in /Library/Frameworks/Python.framework/Versions/3.13/lib/python3.13/site-packages (2.2.3)\n",
      "Requirement already satisfied: openai in /Library/Frameworks/Python.framework/Versions/3.13/lib/python3.13/site-packages (1.99.6)\n",
      "Requirement already satisfied: arize-phoenix in /Library/Frameworks/Python.framework/Versions/3.13/lib/python3.13/site-packages (12.0.0)\n",
      "Requirement already satisfied: nest_asyncio in /Users/sriichavali/Library/Python/3.13/lib/python/site-packages (1.6.0)\n",
      "Requirement already satisfied: numpy>=1.26.0 in /Library/Frameworks/Python.framework/Versions/3.13/lib/python3.13/site-packages (from pandas) (1.26.4)\n",
      "Requirement already satisfied: python-dateutil>=2.8.2 in /Library/Frameworks/Python.framework/Versions/3.13/lib/python3.13/site-packages (from pandas) (2.9.0.post0)\n",
      "Requirement already satisfied: pytz>=2020.1 in /Library/Frameworks/Python.framework/Versions/3.13/lib/python3.13/site-packages (from pandas) (2024.2)\n",
      "Requirement already satisfied: tzdata>=2022.7 in /Library/Frameworks/Python.framework/Versions/3.13/lib/python3.13/site-packages (from pandas) (2024.2)\n",
      "Requirement already satisfied: anyio<5,>=3.5.0 in /Library/Frameworks/Python.framework/Versions/3.13/lib/python3.13/site-packages (from openai) (4.10.0)\n",
      "Requirement already satisfied: distro<2,>=1.7.0 in /Library/Frameworks/Python.framework/Versions/3.13/lib/python3.13/site-packages (from openai) (1.9.0)\n",
      "Requirement already satisfied: httpx<1,>=0.23.0 in /Library/Frameworks/Python.framework/Versions/3.13/lib/python3.13/site-packages (from openai) (0.27.2)\n",
      "Requirement already satisfied: jiter<1,>=0.4.0 in /Library/Frameworks/Python.framework/Versions/3.13/lib/python3.13/site-packages (from openai) (0.8.2)\n",
      "Requirement already satisfied: pydantic<3,>=1.9.0 in /Library/Frameworks/Python.framework/Versions/3.13/lib/python3.13/site-packages (from openai) (2.11.7)\n",
      "Requirement already satisfied: sniffio in /Library/Frameworks/Python.framework/Versions/3.13/lib/python3.13/site-packages (from openai) (1.3.1)\n",
      "Requirement already satisfied: tqdm>4 in /Library/Frameworks/Python.framework/Versions/3.13/lib/python3.13/site-packages (from openai) (4.67.1)\n",
      "Requirement already satisfied: typing-extensions<5,>=4.11 in /Library/Frameworks/Python.framework/Versions/3.13/lib/python3.13/site-packages (from openai) (4.12.2)\n",
      "Requirement already satisfied: idna>=2.8 in /Library/Frameworks/Python.framework/Versions/3.13/lib/python3.13/site-packages (from anyio<5,>=3.5.0->openai) (3.10)\n",
      "Requirement already satisfied: certifi in /Library/Frameworks/Python.framework/Versions/3.13/lib/python3.13/site-packages (from httpx<1,>=0.23.0->openai) (2025.1.31)\n",
      "Requirement already satisfied: httpcore==1.* in /Library/Frameworks/Python.framework/Versions/3.13/lib/python3.13/site-packages (from httpx<1,>=0.23.0->openai) (1.0.7)\n",
      "Requirement already satisfied: h11<0.15,>=0.13 in /Library/Frameworks/Python.framework/Versions/3.13/lib/python3.13/site-packages (from httpcore==1.*->httpx<1,>=0.23.0->openai) (0.14.0)\n",
      "Requirement already satisfied: annotated-types>=0.6.0 in /Library/Frameworks/Python.framework/Versions/3.13/lib/python3.13/site-packages (from pydantic<3,>=1.9.0->openai) (0.7.0)\n",
      "Requirement already satisfied: pydantic-core==2.33.2 in /Library/Frameworks/Python.framework/Versions/3.13/lib/python3.13/site-packages (from pydantic<3,>=1.9.0->openai) (2.33.2)\n",
      "Requirement already satisfied: typing-inspection>=0.4.0 in /Library/Frameworks/Python.framework/Versions/3.13/lib/python3.13/site-packages (from pydantic<3,>=1.9.0->openai) (0.4.1)\n",
      "Requirement already satisfied: aioitertools in /Library/Frameworks/Python.framework/Versions/3.13/lib/python3.13/site-packages (from arize-phoenix) (0.12.0)\n",
      "Requirement already satisfied: aiosqlite in /Library/Frameworks/Python.framework/Versions/3.13/lib/python3.13/site-packages (from arize-phoenix) (0.20.0)\n",
      "Requirement already satisfied: alembic<2,>=1.3.0 in /Library/Frameworks/Python.framework/Versions/3.13/lib/python3.13/site-packages (from arize-phoenix) (1.14.0)\n",
      "Requirement already satisfied: arize-phoenix-client>=1.20.0 in /Library/Frameworks/Python.framework/Versions/3.13/lib/python3.13/site-packages (from arize-phoenix) (1.21.0)\n",
      "Requirement already satisfied: arize-phoenix-evals>=2.0.0 in /Library/Frameworks/Python.framework/Versions/3.13/lib/python3.13/site-packages (from arize-phoenix) (2.2.0)\n",
      "Requirement already satisfied: arize-phoenix-otel>=0.10.3 in /Library/Frameworks/Python.framework/Versions/3.13/lib/python3.13/site-packages (from arize-phoenix) (0.12.1)\n",
      "Requirement already satisfied: authlib in /Library/Frameworks/Python.framework/Versions/3.13/lib/python3.13/site-packages (from arize-phoenix) (1.4.0)\n",
      "Requirement already satisfied: cachetools in /Library/Frameworks/Python.framework/Versions/3.13/lib/python3.13/site-packages (from arize-phoenix) (5.5.2)\n",
      "Requirement already satisfied: email-validator in /Library/Frameworks/Python.framework/Versions/3.13/lib/python3.13/site-packages (from arize-phoenix) (2.2.0)\n",
      "Requirement already satisfied: fastapi in /Library/Frameworks/Python.framework/Versions/3.13/lib/python3.13/site-packages (from arize-phoenix) (0.115.12)\n",
      "Requirement already satisfied: grpc-interceptor in /Library/Frameworks/Python.framework/Versions/3.13/lib/python3.13/site-packages (from arize-phoenix) (0.15.4)\n",
      "Requirement already satisfied: grpcio in /Library/Frameworks/Python.framework/Versions/3.13/lib/python3.13/site-packages (from arize-phoenix) (1.71.0)\n",
      "Requirement already satisfied: jinja2 in /Library/Frameworks/Python.framework/Versions/3.13/lib/python3.13/site-packages (from arize-phoenix) (3.1.5)\n",
      "Requirement already satisfied: openinference-instrumentation>=0.1.32 in /Library/Frameworks/Python.framework/Versions/3.13/lib/python3.13/site-packages (from arize-phoenix) (0.1.35)\n",
      "Requirement already satisfied: openinference-semantic-conventions>=0.1.20 in /Library/Frameworks/Python.framework/Versions/3.13/lib/python3.13/site-packages (from arize-phoenix) (0.1.21)\n",
      "Requirement already satisfied: opentelemetry-exporter-otlp in /Library/Frameworks/Python.framework/Versions/3.13/lib/python3.13/site-packages (from arize-phoenix) (1.29.0)\n",
      "Requirement already satisfied: opentelemetry-proto>=1.12.0 in /Library/Frameworks/Python.framework/Versions/3.13/lib/python3.13/site-packages (from arize-phoenix) (1.29.0)\n",
      "Requirement already satisfied: opentelemetry-sdk in /Library/Frameworks/Python.framework/Versions/3.13/lib/python3.13/site-packages (from arize-phoenix) (1.29.0)\n",
      "Requirement already satisfied: opentelemetry-semantic-conventions in /Library/Frameworks/Python.framework/Versions/3.13/lib/python3.13/site-packages (from arize-phoenix) (0.50b0)\n",
      "Requirement already satisfied: orjson in /Library/Frameworks/Python.framework/Versions/3.13/lib/python3.13/site-packages (from arize-phoenix) (3.10.14)\n",
      "Requirement already satisfied: prometheus-client in /Library/Frameworks/Python.framework/Versions/3.13/lib/python3.13/site-packages (from arize-phoenix) (0.22.1)\n",
      "Requirement already satisfied: protobuf>=4.25.8 in /Library/Frameworks/Python.framework/Versions/3.13/lib/python3.13/site-packages (from arize-phoenix) (5.29.3)\n",
      "Requirement already satisfied: psutil in /Library/Frameworks/Python.framework/Versions/3.13/lib/python3.13/site-packages (from arize-phoenix) (6.1.1)\n",
      "Requirement already satisfied: pyarrow in /Library/Frameworks/Python.framework/Versions/3.13/lib/python3.13/site-packages (from arize-phoenix) (18.1.0)\n",
      "Requirement already satisfied: python-multipart in /Library/Frameworks/Python.framework/Versions/3.13/lib/python3.13/site-packages (from arize-phoenix) (0.0.20)\n",
      "Requirement already satisfied: scikit-learn in /Library/Frameworks/Python.framework/Versions/3.13/lib/python3.13/site-packages (from arize-phoenix) (1.6.1)\n",
      "Requirement already satisfied: scipy in /Library/Frameworks/Python.framework/Versions/3.13/lib/python3.13/site-packages (from arize-phoenix) (1.15.1)\n",
      "Requirement already satisfied: sqlalchemy<3,>=2.0.4 in /Library/Frameworks/Python.framework/Versions/3.13/lib/python3.13/site-packages (from sqlalchemy[asyncio]<3,>=2.0.4->arize-phoenix) (2.0.37)\n",
      "Requirement already satisfied: sqlean-py>=3.45.1 in /Library/Frameworks/Python.framework/Versions/3.13/lib/python3.13/site-packages (from arize-phoenix) (3.47.0)\n",
      "Requirement already satisfied: starlette in /Library/Frameworks/Python.framework/Versions/3.13/lib/python3.13/site-packages (from arize-phoenix) (0.46.2)\n",
      "Requirement already satisfied: strawberry-graphql==0.270.1 in /Library/Frameworks/Python.framework/Versions/3.13/lib/python3.13/site-packages (from arize-phoenix) (0.270.1)\n",
      "Requirement already satisfied: uvicorn in /Library/Frameworks/Python.framework/Versions/3.13/lib/python3.13/site-packages (from arize-phoenix) (0.34.0)\n",
      "Requirement already satisfied: wrapt>=1.17.2 in /Library/Frameworks/Python.framework/Versions/3.13/lib/python3.13/site-packages (from arize-phoenix) (1.17.2)\n",
      "Requirement already satisfied: graphql-core<3.4.0,>=3.2.0 in /Library/Frameworks/Python.framework/Versions/3.13/lib/python3.13/site-packages (from strawberry-graphql==0.270.1->arize-phoenix) (3.2.5)\n",
      "Requirement already satisfied: packaging>=23 in /Users/sriichavali/Library/Python/3.13/lib/python/site-packages (from strawberry-graphql==0.270.1->arize-phoenix) (24.2)\n",
      "Requirement already satisfied: Mako in /Library/Frameworks/Python.framework/Versions/3.13/lib/python3.13/site-packages (from alembic<2,>=1.3.0->arize-phoenix) (1.3.8)\n",
      "Requirement already satisfied: six>=1.5 in /Library/Frameworks/Python.framework/Versions/3.13/lib/python3.13/site-packages (from python-dateutil>=2.8.2->pandas) (1.17.0)\n",
      "Requirement already satisfied: greenlet!=0.4.17 in /Library/Frameworks/Python.framework/Versions/3.13/lib/python3.13/site-packages (from sqlalchemy[asyncio]<3,>=2.0.4->arize-phoenix) (3.1.1)\n",
      "Requirement already satisfied: jsonpath-ng in /Library/Frameworks/Python.framework/Versions/3.13/lib/python3.13/site-packages (from arize-phoenix-evals>=2.0.0->arize-phoenix) (1.7.0)\n",
      "Requirement already satisfied: opentelemetry-api in /Library/Frameworks/Python.framework/Versions/3.13/lib/python3.13/site-packages (from arize-phoenix-evals>=2.0.0->arize-phoenix) (1.29.0)\n",
      "Requirement already satisfied: pystache in /Library/Frameworks/Python.framework/Versions/3.13/lib/python3.13/site-packages (from arize-phoenix-evals>=2.0.0->arize-phoenix) (0.6.8)\n",
      "Requirement already satisfied: cryptography in /Library/Frameworks/Python.framework/Versions/3.13/lib/python3.13/site-packages (from authlib->arize-phoenix) (44.0.0)\n",
      "Requirement already satisfied: cffi>=1.12 in /Library/Frameworks/Python.framework/Versions/3.13/lib/python3.13/site-packages (from cryptography->authlib->arize-phoenix) (1.17.1)\n",
      "Requirement already satisfied: pycparser in /Library/Frameworks/Python.framework/Versions/3.13/lib/python3.13/site-packages (from cffi>=1.12->cryptography->authlib->arize-phoenix) (2.22)\n",
      "Requirement already satisfied: dnspython>=2.0.0 in /Library/Frameworks/Python.framework/Versions/3.13/lib/python3.13/site-packages (from email-validator->arize-phoenix) (2.7.0)\n",
      "Requirement already satisfied: MarkupSafe>=2.0 in /Library/Frameworks/Python.framework/Versions/3.13/lib/python3.13/site-packages (from jinja2->arize-phoenix) (2.1.5)\n",
      "Requirement already satisfied: ply in /Library/Frameworks/Python.framework/Versions/3.13/lib/python3.13/site-packages (from jsonpath-ng->arize-phoenix-evals>=2.0.0->arize-phoenix) (3.11)\n",
      "Requirement already satisfied: deprecated>=1.2.6 in /Library/Frameworks/Python.framework/Versions/3.13/lib/python3.13/site-packages (from opentelemetry-api->arize-phoenix-evals>=2.0.0->arize-phoenix) (1.2.18)\n",
      "Requirement already satisfied: importlib-metadata<=8.5.0,>=6.0 in /Library/Frameworks/Python.framework/Versions/3.13/lib/python3.13/site-packages (from opentelemetry-api->arize-phoenix-evals>=2.0.0->arize-phoenix) (8.5.0)\n",
      "Requirement already satisfied: zipp>=3.20 in /Library/Frameworks/Python.framework/Versions/3.13/lib/python3.13/site-packages (from importlib-metadata<=8.5.0,>=6.0->opentelemetry-api->arize-phoenix-evals>=2.0.0->arize-phoenix) (3.21.0)\n",
      "Requirement already satisfied: opentelemetry-exporter-otlp-proto-grpc==1.29.0 in /Library/Frameworks/Python.framework/Versions/3.13/lib/python3.13/site-packages (from opentelemetry-exporter-otlp->arize-phoenix) (1.29.0)\n",
      "Requirement already satisfied: opentelemetry-exporter-otlp-proto-http==1.29.0 in /Library/Frameworks/Python.framework/Versions/3.13/lib/python3.13/site-packages (from opentelemetry-exporter-otlp->arize-phoenix) (1.29.0)\n",
      "Requirement already satisfied: googleapis-common-protos~=1.52 in /Library/Frameworks/Python.framework/Versions/3.13/lib/python3.13/site-packages (from opentelemetry-exporter-otlp-proto-grpc==1.29.0->opentelemetry-exporter-otlp->arize-phoenix) (1.66.0)\n",
      "Requirement already satisfied: opentelemetry-exporter-otlp-proto-common==1.29.0 in /Library/Frameworks/Python.framework/Versions/3.13/lib/python3.13/site-packages (from opentelemetry-exporter-otlp-proto-grpc==1.29.0->opentelemetry-exporter-otlp->arize-phoenix) (1.29.0)\n",
      "Requirement already satisfied: requests~=2.7 in /Library/Frameworks/Python.framework/Versions/3.13/lib/python3.13/site-packages (from opentelemetry-exporter-otlp-proto-http==1.29.0->opentelemetry-exporter-otlp->arize-phoenix) (2.32.3)\n",
      "Requirement already satisfied: charset-normalizer<4,>=2 in /Library/Frameworks/Python.framework/Versions/3.13/lib/python3.13/site-packages (from requests~=2.7->opentelemetry-exporter-otlp-proto-http==1.29.0->opentelemetry-exporter-otlp->arize-phoenix) (3.4.1)\n",
      "Requirement already satisfied: urllib3<3,>=1.21.1 in /Library/Frameworks/Python.framework/Versions/3.13/lib/python3.13/site-packages (from requests~=2.7->opentelemetry-exporter-otlp-proto-http==1.29.0->opentelemetry-exporter-otlp->arize-phoenix) (2.3.0)\n",
      "Requirement already satisfied: joblib>=1.2.0 in /Library/Frameworks/Python.framework/Versions/3.13/lib/python3.13/site-packages (from scikit-learn->arize-phoenix) (1.4.2)\n",
      "Requirement already satisfied: threadpoolctl>=3.1.0 in /Library/Frameworks/Python.framework/Versions/3.13/lib/python3.13/site-packages (from scikit-learn->arize-phoenix) (3.5.0)\n",
      "Requirement already satisfied: click>=7.0 in /Library/Frameworks/Python.framework/Versions/3.13/lib/python3.13/site-packages (from uvicorn->arize-phoenix) (8.1.8)\n",
      "Note: you may need to restart the kernel to use updated packages.\n"
     ]
    }
   ],
   "source": [
    "%pip install pandas openai arize-phoenix nest_asyncio"
   ]
  },
  {
   "cell_type": "markdown",
   "id": "6facc3b2",
   "metadata": {},
   "source": [
    "### Importing Libraries\n",
    "Next, we import the libraries needed to:  \n",
    "- Generate synthetic customer reviews using the OpenAI API  \n",
    "- Register Phoenix for tracking experiments  \n",
    "- Prepare data and send it into Phoenix for evaluation  \n"
   ]
  },
  {
   "cell_type": "code",
   "execution_count": 2,
   "id": "91129268",
   "metadata": {},
   "outputs": [
    {
     "name": "stderr",
     "output_type": "stream",
     "text": [
      "/Library/Frameworks/Python.framework/Versions/3.13/lib/python3.13/site-packages/tqdm/auto.py:21: TqdmWarning: IProgress not found. Please update jupyter and ipywidgets. See https://ipywidgets.readthedocs.io/en/stable/user_install.html\n",
      "  from .autonotebook import tqdm as notebook_tqdm\n"
     ]
    },
    {
     "name": "stdout",
     "output_type": "stream",
     "text": [
      "🔭 OpenTelemetry Tracing Details 🔭\n",
      "|  Phoenix Project: generating-datasets\n",
      "|  Span Processor: SimpleSpanProcessor\n",
      "|  Collector Endpoint: localhost:4317\n",
      "|  Transport: gRPC\n",
      "|  Transport Headers: {'user-agent': '****'}\n",
      "|  \n",
      "|  Using a default SpanProcessor. `add_span_processor` will overwrite this default.\n",
      "|  \n",
      "|  ⚠️ WARNING: It is strongly advised to use a BatchSpanProcessor in production environments.\n",
      "|  \n",
      "|  `register` has set this TracerProvider as the global OpenTelemetry default.\n",
      "|  To disable this behavior, call `register` with `set_global_tracer_provider=False`.\n",
      "\n"
     ]
    }
   ],
   "source": [
    "import json\n",
    "import os\n",
    "import re\n",
    "from getpass import getpass\n",
    "import pandas as pd\n",
    "from openai import AsyncOpenAI\n",
    "from openai import AsyncOpenAI\n",
    "from phoenix.client import Client\n",
    "from phoenix.otel import register\n",
    "from phoenix.client import AsyncClient\n",
    "# from openai import OpenAI\n",
    "\n",
    "if not (openai_api_key := os.getenv(\"OPENAI_API_KEY\")):\n",
    "    openai_api_key = getpass(\"🔑 Enter your OpenAI API key: \")\n",
    "\n",
    "os.environ[\"OPENAI_API_KEY\"] = openai_api_key\n",
    "\n",
    "openai_client = AsyncOpenAI()\n",
    "# openai_client = OpenAI()\n",
    "\n",
    "# client = Client()\n",
    "client = AsyncClient()\n",
    "\n",
    "tracer_provider = register(project_name=\"generating-datasets\", auto_instrument=True)"
   ]
  },
  {
   "cell_type": "markdown",
   "id": "137a42d3",
   "metadata": {},
   "source": [
    "### Generating Synthetic Customer Reviews\n",
    "Here, we create a **few-shot prompt** that instructs the model to generate 25 product reviews for clothing items.  \n",
    "This ensures we have a realistic dataset to evaluate with multiple tones and sentiments.  \n"
   ]
  },
  {
   "cell_type": "code",
   "execution_count": 37,
   "id": "6a8a6926",
   "metadata": {},
   "outputs": [],
   "source": [
    "few_shot_prompt = \"\"\"\n",
    "You are a creative writer simulating customer product reviews for a clothing brand.\n",
    "Generate exactly 25 unique reviews. Each review should be a few sentences long (max 200 words each) and sound like something a real customer might write.\n",
    "\n",
    "Balance them across the following categories:\n",
    "1. Highly Positive & Actionable → clear praise AND provides constructive suggestions for improvement.\n",
    "2. Positive but Generic → generally favorable but vague.\n",
    "3. Neutral / Mixed → highlights both pros and cons.\n",
    "4. Negative but Actionable → critical but with constructive feedback.\n",
    "5. Highly Negative & Non-Constructive → strongly negative, unhelpful venting.\n",
    "6. Off-topic → not about clothing at all (e.g., a review mistakenly left about a different product or service). Don't say anything about how the product is not about clothing.\n",
    "\n",
    "Constraints:\n",
    "- Cover all 6 categories across the 25 reviews.\n",
    "- Use a natural human voice, with realistic details.\n",
    "- Constructive feedback should be specific and actionable.\n",
    "- Make them really hard for someone else to classify. Add ambiguous reviews and reviews that are not clear, such as \"The shirt is fine. Not bad, not great. Might buy again\"\n",
    "- Decide the classified label randomly first and then write the review. Double check all the reviews and make sure you classify them correctly.\n",
    "\n",
    "OUTPUT SHAPE (JSON array ONLY; no extra text):\n",
    "[\n",
    "  {\n",
    "    \"input\": str,\n",
    "    \"label\": \"highly positive & actionable\" | \"positive but generic\" | \"neutral\" | \"negative but actionable\" | \"highly negative\" | \"off-topic\",\n",
    "  }\n",
    "]\n",
    "\n",
    "Style Examples, Here are examples for guidance (do not repeat):\n",
    "{\n",
    "  \"input\": \"I absolutely love the new denim jacket I purchased. The fit is perfect, the stitching feels durable, and I’ve already gotten compliments. The inside lining is soft and makes it comfortable to wear for hours. One small suggestion would be to add an inner pocket for a phone or keys — that would make it perfect. Overall, I’ll definitely be back for more.\",\n",
    "  \"label\": \"highly positive & actionable\"\n",
    "}\n",
    "{\n",
    "  \"input\": \"The T-shirt I bought was nice. The color was good and it felt comfortable. I liked it overall and would probably buy again.\",\n",
    "  \"label\": \"positive but generic\"\n",
    "}\n",
    "{\n",
    "  \"input\": \"The dress arrived on time and the material is soft. However, the sizing runs a bit small, and the shade of blue was lighter than pictured. It’s not bad, but I’m not as excited about it as I hoped.\",\n",
    "  \"label\": \"neutral\"\n",
    "}\n",
    "{\n",
    "  \"input\": \"The shoes looked stylish but the soles wore down quickly after just a month. If the company improved the durability of the soles, these would be a great buy. Right now, I don’t think they’re worth the price.\",\n",
    "  \"label\": \"negative but actionable\"\n",
    "}\n",
    "{\n",
    "  \"input\": \"This sweater is terrible. The worst thing I’ve ever bought. Waste of money.\",\n",
    "  \"label\": \"highly negative & non-constructive\"\n",
    "}\n",
    "{\n",
    "  \"input\": \"I'm very disappointed in my delivery. The dog food arrived late and was leaking.\",\n",
    "  \"label\": \"off-topic\"\n",
    "}\n",
    "\"\"\""
   ]
  },
  {
   "cell_type": "markdown",
   "id": "e07ca64a",
   "metadata": {},
   "source": [
    "### Running the LLM to Generate Data\n",
    "We send our prompt to the OpenAI model (`gpt-4o-mini`) to generate the reviews.  \n",
    "The output will be a structured set of text responses simulating customer feedback.  \n"
   ]
  },
  {
   "cell_type": "code",
   "execution_count": 38,
   "id": "e88bc163",
   "metadata": {},
   "outputs": [
    {
     "name": "stderr",
     "output_type": "stream",
     "text": [
      "Transient error StatusCode.UNAVAILABLE encountered while exporting traces to localhost:4317, retrying in 1s.\n"
     ]
    }
   ],
   "source": [
    "resp = await openai_client.chat.completions.create(\n",
    "    model=\"gpt-5\",\n",
    "    messages=[{\"role\": \"user\", \"content\": few_shot_prompt}],\n",
    ")\n",
    "content = resp.choices[0].message.content.strip()\n",
    "\n",
    "try:\n",
    "    data = json.loads(content)\n",
    "except json.JSONDecodeError:\n",
    "    m = re.search(r\"\\[\\s*{.*}\\s*\\]\\s*$\", content, re.S)\n",
    "    assert m, \"Model did not return a JSON array.\"\n",
    "    data = json.loads(m.group(0))"
   ]
  },
  {
   "cell_type": "markdown",
   "id": "c08662cd",
   "metadata": {},
   "source": [
    "### Creating a DataFrame\n",
    "We load the generated responses into a **pandas DataFrame** with two columns:  \n",
    "- `input`: the customer review text  \n",
    "- `label`: the sentiment category we will later evaluate  \n"
   ]
  },
  {
   "cell_type": "code",
   "execution_count": 39,
   "id": "659fd27e",
   "metadata": {},
   "outputs": [
    {
     "data": {
      "text/html": [
       "<div>\n",
       "<style scoped>\n",
       "    .dataframe tbody tr th:only-of-type {\n",
       "        vertical-align: middle;\n",
       "    }\n",
       "\n",
       "    .dataframe tbody tr th {\n",
       "        vertical-align: top;\n",
       "    }\n",
       "\n",
       "    .dataframe thead th {\n",
       "        text-align: right;\n",
       "    }\n",
       "</style>\n",
       "<table border=\"1\" class=\"dataframe\">\n",
       "  <thead>\n",
       "    <tr style=\"text-align: right;\">\n",
       "      <th></th>\n",
       "      <th>input</th>\n",
       "      <th>label</th>\n",
       "    </tr>\n",
       "  </thead>\n",
       "  <tbody>\n",
       "    <tr>\n",
       "      <th>0</th>\n",
       "      <td>I bought the linen button-up for a summer wedd...</td>\n",
       "      <td>highly positive &amp; actionable</td>\n",
       "    </tr>\n",
       "    <tr>\n",
       "      <th>1</th>\n",
       "      <td>The high-waisted jeans fit like a glove and so...</td>\n",
       "      <td>highly positive &amp; actionable</td>\n",
       "    </tr>\n",
       "    <tr>\n",
       "      <th>2</th>\n",
       "      <td>Your running shorts are a surprise favorite—no...</td>\n",
       "      <td>highly positive &amp; actionable</td>\n",
       "    </tr>\n",
       "    <tr>\n",
       "      <th>3</th>\n",
       "      <td>The wool blend coat looks luxe and feels warm ...</td>\n",
       "      <td>highly positive &amp; actionable</td>\n",
       "    </tr>\n",
       "    <tr>\n",
       "      <th>4</th>\n",
       "      <td>Got the ribbed set (tank + skirt) and I’m obse...</td>\n",
       "      <td>highly positive &amp; actionable</td>\n",
       "    </tr>\n",
       "    <tr>\n",
       "      <th>5</th>\n",
       "      <td>Nice tee. Soft, good color, feels well made. W...</td>\n",
       "      <td>positive but generic</td>\n",
       "    </tr>\n",
       "    <tr>\n",
       "      <th>6</th>\n",
       "      <td>The sundress is cute and comfy. I wore it all ...</td>\n",
       "      <td>positive but generic</td>\n",
       "    </tr>\n",
       "    <tr>\n",
       "      <th>7</th>\n",
       "      <td>Cozy hoodie, true to size, and arrived quickly...</td>\n",
       "      <td>positive but generic</td>\n",
       "    </tr>\n",
       "    <tr>\n",
       "      <th>8</th>\n",
       "      <td>The socks are comfortable and the price felt f...</td>\n",
       "      <td>positive but generic</td>\n",
       "    </tr>\n",
       "    <tr>\n",
       "      <th>9</th>\n",
       "      <td>The shirt is fine. Not bad, not great. Might b...</td>\n",
       "      <td>neutral</td>\n",
       "    </tr>\n",
       "    <tr>\n",
       "      <th>10</th>\n",
       "      <td>The cardigan is soft and the color matches the...</td>\n",
       "      <td>neutral</td>\n",
       "    </tr>\n",
       "    <tr>\n",
       "      <th>11</th>\n",
       "      <td>Comfy joggers with a weirdly long drawstring. ...</td>\n",
       "      <td>neutral</td>\n",
       "    </tr>\n",
       "    <tr>\n",
       "      <th>12</th>\n",
       "      <td>Pretty blouse and the print is even nicer in p...</td>\n",
       "      <td>neutral</td>\n",
       "    </tr>\n",
       "    <tr>\n",
       "      <th>13</th>\n",
       "      <td>The rain jacket blocks wind and the seams look...</td>\n",
       "      <td>neutral</td>\n",
       "    </tr>\n",
       "    <tr>\n",
       "      <th>14</th>\n",
       "      <td>My black sweatpants faded noticeably after the...</td>\n",
       "      <td>negative but actionable</td>\n",
       "    </tr>\n",
       "    <tr>\n",
       "      <th>15</th>\n",
       "      <td>The polo looks sharp at first, but the collar ...</td>\n",
       "      <td>negative but actionable</td>\n",
       "    </tr>\n",
       "    <tr>\n",
       "      <th>16</th>\n",
       "      <td>Two buttons on my shacket came loose after one...</td>\n",
       "      <td>negative but actionable</td>\n",
       "    </tr>\n",
       "    <tr>\n",
       "      <th>17</th>\n",
       "      <td>Beautiful leather boots, but the insole is thi...</td>\n",
       "      <td>negative but actionable</td>\n",
       "    </tr>\n",
       "    <tr>\n",
       "      <th>18</th>\n",
       "      <td>Worst jacket I’ve owned. Zipper jams, the lini...</td>\n",
       "      <td>highly negative</td>\n",
       "    </tr>\n",
       "    <tr>\n",
       "      <th>19</th>\n",
       "      <td>These leggings are garbage—see-through and sag...</td>\n",
       "      <td>highly negative</td>\n",
       "    </tr>\n",
       "    <tr>\n",
       "      <th>20</th>\n",
       "      <td>Customer service ignored three emails and my s...</td>\n",
       "      <td>highly negative</td>\n",
       "    </tr>\n",
       "    <tr>\n",
       "      <th>21</th>\n",
       "      <td>The belt snapped on day two while I was at wor...</td>\n",
       "      <td>highly negative</td>\n",
       "    </tr>\n",
       "    <tr>\n",
       "      <th>22</th>\n",
       "      <td>The blender pulverizes frozen fruit like a cha...</td>\n",
       "      <td>off-topic</td>\n",
       "    </tr>\n",
       "    <tr>\n",
       "      <th>23</th>\n",
       "      <td>Booked a weekend stay through the app and the ...</td>\n",
       "      <td>off-topic</td>\n",
       "    </tr>\n",
       "    <tr>\n",
       "      <th>24</th>\n",
       "      <td>Set up the new Wi‑Fi router in ten minutes and...</td>\n",
       "      <td>off-topic</td>\n",
       "    </tr>\n",
       "  </tbody>\n",
       "</table>\n",
       "</div>"
      ],
      "text/plain": [
       "                                                input  \\\n",
       "0   I bought the linen button-up for a summer wedd...   \n",
       "1   The high-waisted jeans fit like a glove and so...   \n",
       "2   Your running shorts are a surprise favorite—no...   \n",
       "3   The wool blend coat looks luxe and feels warm ...   \n",
       "4   Got the ribbed set (tank + skirt) and I’m obse...   \n",
       "5   Nice tee. Soft, good color, feels well made. W...   \n",
       "6   The sundress is cute and comfy. I wore it all ...   \n",
       "7   Cozy hoodie, true to size, and arrived quickly...   \n",
       "8   The socks are comfortable and the price felt f...   \n",
       "9   The shirt is fine. Not bad, not great. Might b...   \n",
       "10  The cardigan is soft and the color matches the...   \n",
       "11  Comfy joggers with a weirdly long drawstring. ...   \n",
       "12  Pretty blouse and the print is even nicer in p...   \n",
       "13  The rain jacket blocks wind and the seams look...   \n",
       "14  My black sweatpants faded noticeably after the...   \n",
       "15  The polo looks sharp at first, but the collar ...   \n",
       "16  Two buttons on my shacket came loose after one...   \n",
       "17  Beautiful leather boots, but the insole is thi...   \n",
       "18  Worst jacket I’ve owned. Zipper jams, the lini...   \n",
       "19  These leggings are garbage—see-through and sag...   \n",
       "20  Customer service ignored three emails and my s...   \n",
       "21  The belt snapped on day two while I was at wor...   \n",
       "22  The blender pulverizes frozen fruit like a cha...   \n",
       "23  Booked a weekend stay through the app and the ...   \n",
       "24  Set up the new Wi‑Fi router in ten minutes and...   \n",
       "\n",
       "                           label  \n",
       "0   highly positive & actionable  \n",
       "1   highly positive & actionable  \n",
       "2   highly positive & actionable  \n",
       "3   highly positive & actionable  \n",
       "4   highly positive & actionable  \n",
       "5           positive but generic  \n",
       "6           positive but generic  \n",
       "7           positive but generic  \n",
       "8           positive but generic  \n",
       "9                        neutral  \n",
       "10                       neutral  \n",
       "11                       neutral  \n",
       "12                       neutral  \n",
       "13                       neutral  \n",
       "14       negative but actionable  \n",
       "15       negative but actionable  \n",
       "16       negative but actionable  \n",
       "17       negative but actionable  \n",
       "18               highly negative  \n",
       "19               highly negative  \n",
       "20               highly negative  \n",
       "21               highly negative  \n",
       "22                     off-topic  \n",
       "23                     off-topic  \n",
       "24                     off-topic  "
      ]
     },
     "execution_count": 39,
     "metadata": {},
     "output_type": "execute_result"
    }
   ],
   "source": [
    "df = pd.DataFrame(data)[[\"input\", \"label\"]]\n",
    "df"
   ]
  },
  {
   "cell_type": "markdown",
   "id": "d91ac12e",
   "metadata": {},
   "source": [
    "### Uploading to Phoenix\n",
    "We now create a **Phoenix dataset** named `clothing-product-reviews` from our DataFrame. This allows us to track, explore, and evaluate the generated reviews inside Phoenix.  \n"
   ]
  },
  {
   "cell_type": "code",
   "execution_count": 40,
   "id": "ed69072e",
   "metadata": {},
   "outputs": [
    {
     "name": "stdout",
     "output_type": "stream",
     "text": [
      "Dataset created.\n"
     ]
    }
   ],
   "source": [
    "dataset_name = \"my-customer-product-reviews\"\n",
    "dataset = await client.datasets.create_dataset(\n",
    "    name= dataset_name,\n",
    "    dataframe=df,\n",
    "    input_keys=[\"input\"],\n",
    "    output_keys=[\"label\"],\n",
    ")\n",
    "print(\"Dataset created.\")"
   ]
  },
  {
   "cell_type": "markdown",
   "id": "22b4a183",
   "metadata": {},
   "source": [
    "This is what your uploaded dataset will look like in the Phoenix UI! \n",
    "\n",
    "<img alt=\"uploaded dataset image\" src=\"https://storage.googleapis.com/arize-phoenix-assets/assets/images/phoenix-docs-images/repetitions_dataset_view.png\" width=\"900\"/>"
   ]
  },
  {
   "cell_type": "markdown",
   "id": "96c013ba",
   "metadata": {},
   "source": [
    "### Defining the Evaluation Task\n",
    "We define a task function that represents how we want to evaluate each review.  \n",
    "This is where you could run another LLM pass (or a heuristic) to classify the review.  \n",
    "Phoenix wraps each run into an **Example** object for easy logging.  \n"
   ]
  },
  {
   "cell_type": "code",
   "execution_count": 41,
   "id": "6714c759",
   "metadata": {},
   "outputs": [],
   "source": [
    "async def my_task(theInput) -> str:\n",
    "    TASK_PROMPT = f\"\"\"\n",
    "        You will be given a single customer review about products from a clothing brand.\n",
    "        Your job is to classify the type of review into a label.\n",
    "        Please provide an explanation as to how you came to your answer.\n",
    "\n",
    "        Allowed labels:\n",
    "        - Highly Positive & Actionable\n",
    "        - Positive but Generic\n",
    "        - Neutral / Mixed\n",
    "        - Negative but Actionable\n",
    "        - Highly Negative & Non-Constructive\n",
    "        - Off-topic\n",
    "\n",
    "        Here is the customer review: {theInput}\n",
    "\n",
    "        RESPONSE FORMAT:\n",
    "        First provide your explanation, then on a new line write \"LABEL:\" followed by the exact label.\n",
    "        Example:\n",
    "        EXPLANATION: This review shows mixed sentiment with both positive and negative aspects...\n",
    "        LABEL: Neutral / Mixed\n",
    "    \"\"\"\n",
    "    resp = await openai_client.chat.completions.create(\n",
    "        model=\"gpt-4o-mini\",\n",
    "        messages=[{\"role\": \"user\", \"content\": TASK_PROMPT}],\n",
    "        temperature=1.0\n",
    "    )\n",
    "    content = resp.choices[0].message.content.strip()\n",
    "\n",
    "    # Extract just the label part after \"LABEL:\"\n",
    "    if \"LABEL:\" in content:\n",
    "        label = content.split(\"LABEL:\")[-1].strip()\n",
    "        return label\n",
    "    else:\n",
    "        print(\"FAILLLL\")\n",
    "        return content.split('\\n')[-1].strip()"
   ]
  },
  {
   "cell_type": "markdown",
   "id": "9c1e8957",
   "metadata": {},
   "source": [
    "### Running an Experiment\n",
    "We run an experiment on our dataset using the defined task.  \n",
    "This produces a labeled set of outputs that we can compare against our expectations.  \n",
    "Phoenix records:  \n",
    "- inputs (customer reviews)  \n",
    "- outputs (model classifications)  \n",
    "- metadata (timing, tokens, cost, etc.)  \n"
   ]
  },
  {
   "cell_type": "code",
   "execution_count": 42,
   "id": "8c5afa1f",
   "metadata": {},
   "outputs": [
    {
     "name": "stdout",
     "output_type": "stream",
     "text": [
      "🧪 Experiment started.\n",
      "📺 View dataset experiments: http://127.0.0.1:6006/datasets/RGF0YXNldDoxNQ==/experiments\n",
      "🔗 View this experiment: http://127.0.0.1:6006/datasets/RGF0YXNldDoxNQ==/compare?experimentId=RXhwZXJpbWVudDozMg==\n"
     ]
    },
    {
     "name": "stderr",
     "output_type": "stream",
     "text": [
      "running tasks |          | 0/75 (0.0%) | ⏳ 00:00<? | ?it/s"
     ]
    },
    {
     "name": "stderr",
     "output_type": "stream",
     "text": [
      "running tasks |██████████| 75/75 (100.0%) | ⏳ 01:21<00:00 |  1.09s/it"
     ]
    },
    {
     "name": "stdout",
     "output_type": "stream",
     "text": [
      "✅ Task runs completed.\n",
      "Experiment completed: 75 task runs, 0 evaluator runs, 0 evaluations\n"
     ]
    },
    {
     "name": "stderr",
     "output_type": "stream",
     "text": [
      "\n"
     ]
    }
   ],
   "source": [
    "from phoenix.client.experiments import async_run_experiment\n",
    "\n",
    "experiment = await async_run_experiment(\n",
    "    dataset=dataset, task=my_task, experiment_name=\"testing explanations\", client=client, repetitions=3)"
   ]
  },
  {
   "cell_type": "markdown",
   "id": "cbb164c6",
   "metadata": {},
   "source": [
    "This is what your uploaded experiment will look like in the Phoenix UI! You can click through the arrows as you want to look through each of the repetitions\n",
    "\n",
    "<img alt=\"uploaded dataset image\" src=\"https://storage.googleapis.com/arize-phoenix-assets/assets/images/phoenix-docs-images/repetitions_experiment_view.png\" width=\"900\"/>"
   ]
  }
 ],
 "metadata": {
  "kernelspec": {
   "display_name": "Python 3",
   "language": "python",
   "name": "python3"
  },
  "language_info": {
   "codemirror_mode": {
    "name": "ipython",
    "version": 3
   },
   "file_extension": ".py",
   "mimetype": "text/x-python",
   "name": "python",
   "nbconvert_exporter": "python",
   "pygments_lexer": "ipython3",
   "version": "3.13.2"
  }
 },
 "nbformat": 4,
 "nbformat_minor": 5
}
