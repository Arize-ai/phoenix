{
 "cells": [
  {
   "cell_type": "markdown",
   "metadata": {},
   "source": [
    "<center>\n",
    "    <p style=\"text-align:center\">\n",
    "        <img alt=\"phoenix logo\" src=\"https://raw.githubusercontent.com/Arize-ai/phoenix-assets/9e6101d95936f4bd4d390efc9ce646dc6937fb2d/images/socal/github-large-banner-phoenix.jpg\" width=\"1000\"/>\n",
    "        <br>\n",
    "        <br>\n",
    "        <a href=\"https://arize.com/docs/phoenix/\">Docs</a>\n",
    "        |\n",
    "        <a href=\"https://github.com/Arize-ai/phoenix\">GitHub</a>\n",
    "        |\n",
    "        <a href=\"https://arize-ai.slack.com/join/shared_invite/zt-2w57bhem8-hq24MB6u7yE_ZF_ilOYSBw#/shared-invite/email\">Community</a>\n",
    "    </p>\n",
    "</center>\n",
    "<h1 align=\"center\">Experiments: Text2SQL</h1>\n",
    "\n",
    "Let's work through a Text2SQL use case where we are starting from scratch without a nice and clean dataset of questions, SQL queries, or expected responses. For this example we will use a database of movies to illustrate how to retrieve temporal data from a sql database."
   ]
  },
  {
   "cell_type": "code",
   "execution_count": 1,
   "metadata": {},
   "outputs": [],
   "source": [
    "!pip install \"arize-phoenix>=11.0.0\" openai 'httpx<0.28' duckdb datasets pyarrow \"pydantic>=2.0.0\" nest_asyncio openinference-instrumentation-openai --quiet"
   ]
  },
  {
   "cell_type": "markdown",
   "metadata": {},
   "source": [
    "Let's first start a phoenix server. Note that this is not necessary if you have a phoenix server running already."
   ]
  },
  {
   "cell_type": "code",
   "execution_count": null,
   "metadata": {},
   "outputs": [
    {
     "name": "stderr",
     "output_type": "stream",
     "text": [
      "/Users/mikeldking/anaconda3/envs/phoenix/lib/python3.12/contextlib.py:144: SAWarning: Skipped unsupported reflection of expression-based index ix_cumulative_llm_token_count_total\n",
      "  next(self.gen)\n",
      "/Users/mikeldking/anaconda3/envs/phoenix/lib/python3.12/contextlib.py:144: SAWarning: Skipped unsupported reflection of expression-based index ix_latency\n",
      "  next(self.gen)\n"
     ]
    },
    {
     "name": "stdout",
     "output_type": "stream",
     "text": [
      "🌍 To view the Phoenix app in your browser, visit http://localhost:6006/\n",
      "📖 For more information on how to use Phoenix, check out https://arize.com/docs/phoenix\n",
      "📺 Opening a view to the Phoenix app. The app is running at http://localhost:6006/\n"
     ]
    },
    {
     "data": {
      "text/html": [
       "\n",
       "        <iframe\n",
       "            width=\"100%\"\n",
       "            height=\"1000\"\n",
       "            src=\"http://localhost:6006/\"\n",
       "            frameborder=\"0\"\n",
       "            allowfullscreen\n",
       "            \n",
       "        ></iframe>\n",
       "        "
      ],
      "text/plain": [
       "<IPython.lib.display.IFrame at 0x3095816d0>"
      ]
     },
     "execution_count": 1,
     "metadata": {},
     "output_type": "execute_result"
    },
    {
     "name": "stderr",
     "output_type": "stream",
     "text": [
      "Unknown dataset: RGF0YXNldDoz\n",
      "\n",
      "GraphQL request:4:3\n",
      "3 | ) {\n",
      "4 |   dataset: node(id: $id) {\n",
      "  |   ^\n",
      "5 |     __typename\n",
      "Traceback (most recent call last):\n",
      "  File \"/Users/mikeldking/anaconda3/envs/phoenix/lib/python3.12/site-packages/graphql/execution/execute.py\", line 530, in await_result\n",
      "    return_type, field_nodes, info, path, await result\n",
      "                                          ^^^^^^^^^^^^\n",
      "  File \"/Users/mikeldking/anaconda3/envs/phoenix/lib/python3.12/site-packages/strawberry/schema/schema_converter.py\", line 788, in _async_resolver\n",
      "    return await await_maybe(\n",
      "           ^^^^^^^^^^^^^^^^^^\n",
      "  File \"/Users/mikeldking/anaconda3/envs/phoenix/lib/python3.12/site-packages/strawberry/utils/await_maybe.py\", line 13, in await_maybe\n",
      "    return await value\n",
      "           ^^^^^^^^^^^\n",
      "  File \"/Users/mikeldking/anaconda3/envs/phoenix/lib/python3.12/site-packages/phoenix/server/api/queries.py\", line 552, in node\n",
      "    raise NotFound(f\"Unknown dataset: {id}\")\n",
      "phoenix.server.api.exceptions.NotFound: Unknown dataset: RGF0YXNldDoz\n",
      "Experiments must belong to the same dataset.\n",
      "\n",
      "GraphQL request:18:3\n",
      "17 | fragment ExperimentCompareTable_comparisons_2dEeQT on Query {\n",
      "18 |   compareExperiments(first: 50, experimentIds: $experimentIDs) {\n",
      "   |   ^\n",
      "19 |     edges {\n",
      "Traceback (most recent call last):\n",
      "  File \"/Users/mikeldking/anaconda3/envs/phoenix/lib/python3.12/site-packages/graphql/execution/execute.py\", line 530, in await_result\n",
      "    return_type, field_nodes, info, path, await result\n",
      "                                          ^^^^^^^^^^^^\n",
      "  File \"/Users/mikeldking/anaconda3/envs/phoenix/lib/python3.12/site-packages/strawberry/schema/schema_converter.py\", line 788, in _async_resolver\n",
      "    return await await_maybe(\n",
      "           ^^^^^^^^^^^^^^^^^^\n",
      "  File \"/Users/mikeldking/anaconda3/envs/phoenix/lib/python3.12/site-packages/strawberry/utils/await_maybe.py\", line 13, in await_maybe\n",
      "    return await value\n",
      "           ^^^^^^^^^^^\n",
      "  File \"/Users/mikeldking/anaconda3/envs/phoenix/lib/python3.12/site-packages/phoenix/server/api/queries.py\", line 378, in compare_experiments\n",
      "    raise ValueError(\"Experiments must belong to the same dataset.\")\n",
      "ValueError: Experiments must belong to the same dataset.\n",
      "/Users/mikeldking/anaconda3/envs/phoenix/lib/python3.12/site-packages/phoenix/trace/dsl/query.py:835: FutureWarning: Series.__getitem__ treating keys as positions is deprecated. In a future version, integer keys will always be treated as labels (consistent with DataFrame behavior). To access a value by position, use `ser.iloc[pos]`\n",
      "  df_attributes = pd.DataFrame.from_records(\n",
      "/Users/mikeldking/anaconda3/envs/phoenix/lib/python3.12/site-packages/phoenix/trace/dsl/query.py:835: FutureWarning: Series.__getitem__ treating keys as positions is deprecated. In a future version, integer keys will always be treated as labels (consistent with DataFrame behavior). To access a value by position, use `ser.iloc[pos]`\n",
      "  df_attributes = pd.DataFrame.from_records(\n"
     ]
    }
   ],
   "source": [
    "import phoenix as px\n",
    "\n",
    "px.launch_app().view()"
   ]
  },
  {
   "cell_type": "markdown",
   "metadata": {},
   "source": [
    "Let's also setup tracing for OpenAI as we will be using their API to perform the synthesis."
   ]
  },
  {
   "cell_type": "code",
   "execution_count": 3,
   "metadata": {},
   "outputs": [
    {
     "name": "stderr",
     "output_type": "stream",
     "text": [
      "Overriding of current TracerProvider is not allowed\n",
      "Attempting to instrument while already instrumented\n",
      "Attempting to instrument while already instrumented\n",
      "Attempting to instrument while already instrumented\n",
      "Attempting to instrument while already instrumented\n",
      "Attempting to instrument while already instrumented\n",
      "Attempting to instrument while already instrumented\n",
      "Attempting to instrument while already instrumented\n",
      "Attempting to instrument while already instrumented\n",
      "Attempting to instrument while already instrumented\n",
      "Attempting to instrument while already instrumented\n",
      "Attempting to instrument while already instrumented\n"
     ]
    }
   ],
   "source": [
    "from phoenix.otel import register\n",
    "\n",
    "tracer_provider = register(auto_instrument=True, verbose=False) # Instruments all openai calls\n",
    "\n",
    "tracer = tracer_provider.get_tracer(__name__)"
   ]
  },
  {
   "cell_type": "markdown",
   "metadata": {},
   "source": [
    "Let's make sure we can run async code in the notebook."
   ]
  },
  {
   "cell_type": "code",
   "execution_count": 4,
   "metadata": {},
   "outputs": [],
   "source": [
    "import nest_asyncio\n",
    "\n",
    "nest_asyncio.apply()"
   ]
  },
  {
   "cell_type": "markdown",
   "metadata": {},
   "source": [
    "Lastly, let's make sure we have our openai API key set up."
   ]
  },
  {
   "cell_type": "code",
   "execution_count": 5,
   "metadata": {},
   "outputs": [],
   "source": [
    "import os\n",
    "from getpass import getpass\n",
    "\n",
    "if not os.getenv(\"OPENAI_API_KEY\"):\n",
    "    os.environ[\"OPENAI_API_KEY\"] = getpass(\"🔑 Enter your OpenAI API key: \")"
   ]
  },
  {
   "cell_type": "markdown",
   "metadata": {},
   "source": [
    "## Download Data\n",
    "\n",
    "We are going to use the NBA dataset that information from 2014 - 2018. We will use DuckDB as our database."
   ]
  },
  {
   "cell_type": "code",
   "execution_count": 17,
   "metadata": {},
   "outputs": [
    {
     "data": {
      "application/vnd.jupyter.widget-view+json": {
       "model_id": "eadb784c8d8841ebad58a4817ac28fff",
       "version_major": 2,
       "version_minor": 0
      },
      "text/plain": [
       "README.md: 0.00B [00:00, ?B/s]"
      ]
     },
     "metadata": {},
     "output_type": "display_data"
    },
    {
     "data": {
      "application/vnd.jupyter.widget-view+json": {
       "model_id": "9c73a3c62b864c089718ba875c0fc5c7",
       "version_major": 2,
       "version_minor": 0
      },
      "text/plain": [
       "(…)-00000-of-00001-6db04ab1c75d6817.parquet:   0%|          | 0.00/13.9M [00:00<?, ?B/s]"
      ]
     },
     "metadata": {},
     "output_type": "display_data"
    },
    {
     "data": {
      "application/vnd.jupyter.widget-view+json": {
       "model_id": "7c6d371939a74432a9c039f143402a87",
       "version_major": 2,
       "version_minor": 0
      },
      "text/plain": [
       "Generating train split:   0%|          | 0/4803 [00:00<?, ? examples/s]"
      ]
     },
     "metadata": {},
     "output_type": "display_data"
    },
    {
     "name": "stdout",
     "output_type": "stream",
     "text": [
      "{'id': 5, 'budget': 4000000, 'genres': '[{\"id\": 80, \"name\": \"Crime\"}, {\"id\": 35, \"name\": \"Comedy\"}]', 'homepage': None, 'keywords': '[{\"id\": 612, \"name\": \"hotel\"}, {\"id\": 613, \"name\": \"new year\\'s eve\"}, {\"id\": 616, \"name\": \"witch\"}, {\"id\": 622, \"name\": \"bet\"}, {\"id\": 922, \"name\": \"hotel room\"}, {\"id\": 2700, \"name\": \"sperm\"}, {\"id\": 12670, \"name\": \"los angeles\"}, {\"id\": 160488, \"name\": \"hoodlum\"}, {\"id\": 187056, \"name\": \"woman director\"}, {\"id\": 198129, \"name\": \"episode film\"}]', 'original_language': 'en', 'original_title': 'Four Rooms', 'overview': \"It's Ted the Bellhop's first night on the job...and the hotel's very unusual guests are about to place him in some outrageous predicaments. It seems that this evening's room service is serving up one unbelievable happening after another.\", 'popularity': 22.87623, 'production_companies': '[{\"name\": \"Miramax Films\", \"id\": 14}, {\"name\": \"A Band Apart\", \"id\": 59}]', 'production_countries': '[{\"iso_3166_1\": \"US\", \"name\": \"United States of America\"}]', 'release_date': '1995-12-09', 'revenue': 4300000, 'runtime': 98.0, 'spoken_languages': '[{\"iso_639_1\": \"en\", \"name\": \"English\"}]', 'status': 'Released', 'tagline': \"Twelve outrageous guests. Four scandalous requests. And one lone bellhop, in his first day on the job, who's in for the wildest New year's Eve of his life.\", 'title': 'Four Rooms', 'vote_average': 6.5, 'vote_count': 530, 'cast': '[{\"cast_id\": 42, \"character\": \"Ted the Bellhop\", \"credit_id\": \"52fe420dc3a36847f80001b7\", \"gender\": 2, \"id\": 3129, \"name\": \"Tim Roth\", \"order\": 0}, {\"cast_id\": 31, \"character\": \"Man\", \"credit_id\": \"52fe420dc3a36847f800018b\", \"gender\": 2, \"id\": 3131, \"name\": \"Antonio Banderas\", \"order\": 1}, {\"cast_id\": 29, \"character\": \"Angela\", \"credit_id\": \"52fe420dc3a36847f8000183\", \"gender\": 1, \"id\": 3130, \"name\": \"Jennifer Beals\", \"order\": 2}, {\"cast_id\": 25, \"character\": \"Elspeth\", \"credit_id\": \"52fe420dc3a36847f8000173\", \"gender\": 1, \"id\": 3125, \"name\": \"Madonna\", \"order\": 3}, {\"cast_id\": 41, \"character\": \"Margaret\", \"credit_id\": \"52fe420dc3a36847f80001b3\", \"gender\": 1, \"id\": 3141, \"name\": \"Marisa Tomei\", \"order\": 4}, {\"cast_id\": 43, \"character\": \"Leo\", \"credit_id\": \"52fe420dc3a36847f80001bb\", \"gender\": 2, \"id\": 62, \"name\": \"Bruce Willis\", \"order\": 5}, {\"cast_id\": 38, \"character\": \"Chester Rush\", \"credit_id\": \"52fe420dc3a36847f80001a7\", \"gender\": 2, \"id\": 138, \"name\": \"Quentin Tarantino\", \"order\": 6}, {\"cast_id\": 22, \"character\": \"Jezebel\", \"credit_id\": \"52fe420dc3a36847f8000167\", \"gender\": 1, \"id\": 3122, \"name\": \"Sammi Davis\", \"order\": 7}, {\"cast_id\": 23, \"character\": \"Diana\", \"credit_id\": \"52fe420dc3a36847f800016b\", \"gender\": 1, \"id\": 3123, \"name\": \"Amanda de Cadenet\", \"order\": 8}, {\"cast_id\": 24, \"character\": \"Athena\", \"credit_id\": \"52fe420dc3a36847f800016f\", \"gender\": 1, \"id\": 3124, \"name\": \"Valeria Golino\", \"order\": 9}, {\"cast_id\": 27, \"character\": \"Raven\", \"credit_id\": \"52fe420dc3a36847f800017b\", \"gender\": 1, \"id\": 3127, \"name\": \"Lili Taylor\", \"order\": 10}, {\"cast_id\": 39, \"character\": \"Long Hair Yuppy Scum\", \"credit_id\": \"52fe420dc3a36847f80001ab\", \"gender\": 2, \"id\": 2545, \"name\": \"Lawrence Bender\", \"order\": 11}, {\"cast_id\": 26, \"character\": \"Eva\", \"credit_id\": \"52fe420dc3a36847f8000177\", \"gender\": 1, \"id\": 3126, \"name\": \"Ione Skye\", \"order\": 12}, {\"cast_id\": 28, \"character\": \"Kiva\", \"credit_id\": \"52fe420dc3a36847f800017f\", \"gender\": 1, \"id\": 3128, \"name\": \"Alicia Witt\", \"order\": 13}, {\"cast_id\": 30, \"character\": \"Siegfried\", \"credit_id\": \"52fe420dc3a36847f8000187\", \"gender\": 2, \"id\": 2555, \"name\": \"David Proval\", \"order\": 14}, {\"cast_id\": 32, \"character\": \"Sarah\", \"credit_id\": \"52fe420dc3a36847f800018f\", \"gender\": 1, \"id\": 3132, \"name\": \"Lana McKissack\", \"order\": 15}, {\"cast_id\": 34, \"character\": \"Wife\", \"credit_id\": \"52fe420dc3a36847f8000197\", \"gender\": 1, \"id\": 3134, \"name\": \"Tamlyn Tomita\", \"order\": 16}, {\"cast_id\": 40, \"character\": \"Betty\", \"credit_id\": \"52fe420dc3a36847f80001af\", \"gender\": 1, \"id\": 3138, \"name\": \"Kathy Griffin\", \"order\": 17}, {\"cast_id\": 37, \"character\": \"Norman\", \"credit_id\": \"52fe420dc3a36847f80001a3\", \"gender\": 2, \"id\": 3137, \"name\": \"Paul Calderon\", \"order\": 18}, {\"cast_id\": 36, \"character\": \"TV Dancing Girl\", \"credit_id\": \"52fe420dc3a36847f800019f\", \"gender\": 1, \"id\": 3136, \"name\": \"Salma Hayek\", \"order\": 19}, {\"cast_id\": 33, \"character\": \"Corpse\", \"credit_id\": \"52fe420dc3a36847f8000193\", \"gender\": 1, \"id\": 3133, \"name\": \"Patricia Vonne\", \"order\": 20}, {\"cast_id\": 35, \"character\": \"Juancho\", \"credit_id\": \"52fe420dc3a36847f800019b\", \"gender\": 0, \"id\": 3135, \"name\": \"Danny Verduzco\", \"order\": 21}, {\"cast_id\": 44, \"character\": \"Hooker\", \"credit_id\": \"52fe420dc3a36847f80001bf\", \"gender\": 0, \"id\": 37336, \"name\": \"Kimberly Blair\", \"order\": 22}, {\"cast_id\": 45, \"character\": \"Sam the Bellhop\", \"credit_id\": \"52fe420dc3a36847f80001c3\", \"gender\": 2, \"id\": 3140, \"name\": \"Marc Lawrence\", \"order\": 23}]', 'crew': '[{\"credit_id\": \"52fe420dc3a36847f800012d\", \"department\": \"Directing\", \"gender\": 1, \"id\": 3110, \"job\": \"Director\", \"name\": \"Allison Anders\"}, {\"credit_id\": \"52fe420dc3a36847f80001c9\", \"department\": \"Writing\", \"gender\": 1, \"id\": 3110, \"job\": \"Writer\", \"name\": \"Allison Anders\"}, {\"credit_id\": \"52fe420dc3a36847f8000133\", \"department\": \"Directing\", \"gender\": 2, \"id\": 3111, \"job\": \"Director\", \"name\": \"Alexandre Rockwell\"}, {\"credit_id\": \"52fe420dc3a36847f8000151\", \"department\": \"Production\", \"gender\": 2, \"id\": 3111, \"job\": \"Executive Producer\", \"name\": \"Alexandre Rockwell\"}, {\"credit_id\": \"52fe420dc3a36847f80001cf\", \"department\": \"Writing\", \"gender\": 2, \"id\": 3111, \"job\": \"Writer\", \"name\": \"Alexandre Rockwell\"}, {\"credit_id\": \"52fe420dc3a36847f8000139\", \"department\": \"Directing\", \"gender\": 0, \"id\": 2294, \"job\": \"Director\", \"name\": \"Robert Rodriguez\"}, {\"credit_id\": \"52fe420dc3a36847f80001d5\", \"department\": \"Writing\", \"gender\": 0, \"id\": 2294, \"job\": \"Writer\", \"name\": \"Robert Rodriguez\"}, {\"credit_id\": \"52fe420dc3a36847f800020b\", \"department\": \"Editing\", \"gender\": 0, \"id\": 2294, \"job\": \"Editor\", \"name\": \"Robert Rodriguez\"}, {\"credit_id\": \"52fe420dc3a36847f800013f\", \"department\": \"Directing\", \"gender\": 2, \"id\": 138, \"job\": \"Director\", \"name\": \"Quentin Tarantino\"}, {\"credit_id\": \"52fe420dc3a36847f800014b\", \"department\": \"Production\", \"gender\": 2, \"id\": 138, \"job\": \"Executive Producer\", \"name\": \"Quentin Tarantino\"}, {\"credit_id\": \"52fe420dc3a36847f80001db\", \"department\": \"Writing\", \"gender\": 2, \"id\": 138, \"job\": \"Writer\", \"name\": \"Quentin Tarantino\"}, {\"credit_id\": \"52fe420dc3a36847f800011b\", \"department\": \"Sound\", \"gender\": 0, \"id\": 3116, \"job\": \"Original Music Composer\", \"name\": \"Combustible Edison\"}, {\"credit_id\": \"52fe420dc3a36847f8000121\", \"department\": \"Art\", \"gender\": 2, \"id\": 3117, \"job\": \"Production Design\", \"name\": \"Gary Frutkoff\"}, {\"credit_id\": \"52fe420dc3a36847f8000127\", \"department\": \"Sound\", \"gender\": 0, \"id\": 3119, \"job\": \"Sound Designer\", \"name\": \"Lance Brown\"}, {\"credit_id\": \"52fe420dc3a36847f8000145\", \"department\": \"Production\", \"gender\": 2, \"id\": 2545, \"job\": \"Producer\", \"name\": \"Lawrence Bender\"}, {\"credit_id\": \"557ddf5dc3a36821930003fa\", \"department\": \"Production\", \"gender\": 0, \"id\": 37333, \"job\": \"Co-Producer\", \"name\": \"Heidi Vogel\"}, {\"credit_id\": \"557ddf469251410a2f000305\", \"department\": \"Production\", \"gender\": 2, \"id\": 37334, \"job\": \"Co-Producer\", \"name\": \"Paul Hellerman\"}, {\"credit_id\": \"59a176c2c3a368478f02876d\", \"department\": \"Production\", \"gender\": 2, \"id\": 37334, \"job\": \"Production Manager\", \"name\": \"Paul Hellerman\"}, {\"credit_id\": \"557ddf50c3a368219c000320\", \"department\": \"Production\", \"gender\": 0, \"id\": 37335, \"job\": \"Co-Producer\", \"name\": \"Scott Lambert\"}, {\"credit_id\": \"52fe420dc3a36847f8000157\", \"department\": \"Production\", \"gender\": 2, \"id\": 3118, \"job\": \"Casting\", \"name\": \"Russell Gray\"}, {\"credit_id\": \"52fe420dc3a36847f800015d\", \"department\": \"Art\", \"gender\": 2, \"id\": 11423, \"job\": \"Art Direction\", \"name\": \"Mayne Berke\"}, {\"credit_id\": \"52fe420dc3a36847f8000163\", \"department\": \"Art\", \"gender\": 1, \"id\": 9042, \"job\": \"Set Decoration\", \"name\": \"Sara Andrews\"}, {\"credit_id\": \"52fe420dc3a36847f8000205\", \"department\": \"Editing\", \"gender\": 1, \"id\": 156, \"job\": \"Editor\", \"name\": \"Sally Menke\"}, {\"credit_id\": \"52fe420dc3a36847f80001e7\", \"department\": \"Camera\", \"gender\": 2, \"id\": 3113, \"job\": \"Director of Photography\", \"name\": \"Guillermo Navarro\"}, {\"credit_id\": \"52fe420dc3a36847f80001f3\", \"department\": \"Camera\", \"gender\": 2, \"id\": 3115, \"job\": \"Director of Photography\", \"name\": \"Andrzej Sekula\"}, {\"credit_id\": \"5636073cc3a3681b52019f3b\", \"department\": \"Sound\", \"gender\": 0, \"id\": 6940, \"job\": \"Music Supervisor\", \"name\": \"Karyn Rachtman\"}, {\"credit_id\": \"52fe420dc3a36847f80001ff\", \"department\": \"Editing\", \"gender\": 0, \"id\": 3121, \"job\": \"Editor\", \"name\": \"Elena Maganini\"}, {\"credit_id\": \"52fe420dc3a36847f80001ed\", \"department\": \"Camera\", \"gender\": 2, \"id\": 3114, \"job\": \"Director of Photography\", \"name\": \"Phil Parmet\"}, {\"credit_id\": \"59a1702992514177810295da\", \"department\": \"Production\", \"gender\": 1, \"id\": 20540, \"job\": \"Casting Associate\", \"name\": \"Randi Hiller\"}, {\"credit_id\": \"59a164d2c3a36847d40275e2\", \"department\": \"Costume & Make-Up\", \"gender\": 1, \"id\": 46589, \"job\": \"Costume Design\", \"name\": \"Mary Claire Hannan\"}, {\"credit_id\": \"59a16bb0c3a36847e50280c3\", \"department\": \"Camera\", \"gender\": 2, \"id\": 56791, \"job\": \"Steadicam Operator\", \"name\": \"Jonathan Brown\"}, {\"credit_id\": \"59a164b7925141779f028e8d\", \"department\": \"Costume & Make-Up\", \"gender\": 0, \"id\": 62277, \"job\": \"Costume Design\", \"name\": \"Susan L. Bertram\"}, {\"credit_id\": \"59a16fb892514177a702981b\", \"department\": \"Editing\", \"gender\": 0, \"id\": 64315, \"job\": \"First Assistant Editor\", \"name\": \"Erik C. Andersen\"}, {\"credit_id\": \"59a16f12925141779f02989c\", \"department\": \"Production\", \"gender\": 0, \"id\": 64744, \"job\": \"Unit Production Manager\", \"name\": \"Debbie Hayn-Cass\"}, {\"credit_id\": \"59a176d5925141779302abba\", \"department\": \"Production\", \"gender\": 0, \"id\": 64744, \"job\": \"Production Supervisor\", \"name\": \"Debbie Hayn-Cass\"}, {\"credit_id\": \"59a16f3fc3a36847d4027fa6\", \"department\": \"Directing\", \"gender\": 2, \"id\": 71901, \"job\": \"First Assistant Director\", \"name\": \"Douglas Aarniokoski\"}, {\"credit_id\": \"52fe420dc3a36847f80001e1\", \"department\": \"Camera\", \"gender\": 2, \"id\": 77162, \"job\": \"Director of Photography\", \"name\": \"Rodrigo Garc\\\\u00eda\"}, {\"credit_id\": \"59a17786925141779302ac86\", \"department\": \"Sound\", \"gender\": 0, \"id\": 80824, \"job\": \"Sound Editor\", \"name\": \"Jay Nierenberg\"}, {\"credit_id\": \"59a177fbc3a36847c502c7f2\", \"department\": \"Crew\", \"gender\": 2, \"id\": 100888, \"job\": \"Creative Consultant\", \"name\": \"Chuck Jones\"}, {\"credit_id\": \"59a16cb6c3a368481e0297fd\", \"department\": \"Costume & Make-Up\", \"gender\": 0, \"id\": 144146, \"job\": \"Key Hair Stylist\", \"name\": \"Ermahn Ospina\"}, {\"credit_id\": \"59a16b70c3a368480e027bef\", \"department\": \"Camera\", \"gender\": 0, \"id\": 148455, \"job\": \"First Assistant Camera\", \"name\": \"Ziad Doueiri\"}, {\"credit_id\": \"52fe420dc3a36847f80001f9\", \"department\": \"Editing\", \"gender\": 1, \"id\": 1041072, \"job\": \"Editor\", \"name\": \"Margaret Goodspeed\"}, {\"credit_id\": \"59a16f62c3a368480e027f71\", \"department\": \"Directing\", \"gender\": 0, \"id\": 1120536, \"job\": \"First Assistant Director\", \"name\": \"Fernando Altschul\"}, {\"credit_id\": \"59a16f78925141774b02aff4\", \"department\": \"Directing\", \"gender\": 0, \"id\": 1342669, \"job\": \"Script Supervisor\", \"name\": \"Jayne-Ann Tenggren\"}, {\"credit_id\": \"59a176fbc3a368483002926e\", \"department\": \"Sound\", \"gender\": 0, \"id\": 1357671, \"job\": \"First Assistant Sound Editor\", \"name\": \"Tim Tuchrello\"}, {\"credit_id\": \"59a16565925141774b02a597\", \"department\": \"Art\", \"gender\": 0, \"id\": 1395016, \"job\": \"Construction Coordinator\", \"name\": \"Brian Markey\"}, {\"credit_id\": \"59a17039925141774f02926e\", \"department\": \"Production\", \"gender\": 0, \"id\": 1401374, \"job\": \"Location Manager\", \"name\": \"Robert Earl Craft\"}, {\"credit_id\": \"59a176ae925141779f029f6e\", \"department\": \"Production\", \"gender\": 0, \"id\": 1402054, \"job\": \"Production Coordinator\", \"name\": \"Dawn Todd Curfman\"}, {\"credit_id\": \"59a1776dc3a368480e02872e\", \"department\": \"Sound\", \"gender\": 0, \"id\": 1410954, \"job\": \"Production Sound Mixer\", \"name\": \"Pawel Wdowczak\"}, {\"credit_id\": \"59a1779bc3a36847c502c783\", \"department\": \"Sound\", \"gender\": 0, \"id\": 1412227, \"job\": \"Sound Effects Editor\", \"name\": \"Glenn Hoskinson\"}, {\"credit_id\": \"59a17819c3a36847d4028802\", \"department\": \"Sound\", \"gender\": 0, \"id\": 1412242, \"job\": \"Dolby Consultant\", \"name\": \"Thom \\'Coach\\' Ehle\"}, {\"credit_id\": \"59a17751925141779a02a7f7\", \"department\": \"Sound\", \"gender\": 0, \"id\": 1415642, \"job\": \"Music Editor\", \"name\": \"Denise Okimoto\"}, {\"credit_id\": \"59a16f01c3a368480e027f13\", \"department\": \"Crew\", \"gender\": 0, \"id\": 1419160, \"job\": \"Transportation Coordinator\", \"name\": \"P. Gerald Knight\"}, {\"credit_id\": \"59a177b4c3a368481e02a239\", \"department\": \"Sound\", \"gender\": 0, \"id\": 1438571, \"job\": \"Supervising Sound Editor\", \"name\": \"Bruce Fortune\"}, {\"credit_id\": \"59a16bd5c3a36848300287da\", \"department\": \"Costume & Make-Up\", \"gender\": 0, \"id\": 1547239, \"job\": \"Costume Supervisor\", \"name\": \"Jacqueline Aronson\"}, {\"credit_id\": \"59a16578925141779a02967e\", \"department\": \"Art\", \"gender\": 0, \"id\": 1549015, \"job\": \"Construction Foreman\", \"name\": \"Ray Maxwell\"}, {\"credit_id\": \"59a16df2925141779a029ec7\", \"department\": \"Art\", \"gender\": 0, \"id\": 1552012, \"job\": \"Property Master\", \"name\": \"Lynda Reiss\"}, {\"credit_id\": \"59a177d3c3a368478f02885c\", \"department\": \"Crew\", \"gender\": 0, \"id\": 1552088, \"job\": \"Special Sound Effects\", \"name\": \"Victor Iorillo\"}, {\"credit_id\": \"59a165419251417781028b8d\", \"department\": \"Art\", \"gender\": 0, \"id\": 1556697, \"job\": \"Art Department Coordinator\", \"name\": \"Marisol Jim\\\\u00e9nez\"}, {\"credit_id\": \"59a16f8bc3a368481e029acf\", \"department\": \"Editing\", \"gender\": 0, \"id\": 1564233, \"job\": \"Color Timer\", \"name\": \"Mike Stanwick\"}, {\"credit_id\": \"59a16fcc925141775b029c36\", \"department\": \"Lighting\", \"gender\": 0, \"id\": 1601800, \"job\": \"Best Boy Electric\", \"name\": \"Edgar Arellano\"}, {\"credit_id\": \"59a16e6c925141774f0290ae\", \"department\": \"Crew\", \"gender\": 0, \"id\": 1602889, \"job\": \"Special Effects Coordinator\", \"name\": \"Paul Taglianetti\"}, {\"credit_id\": \"59a16f2792514177a70297a5\", \"department\": \"Crew\", \"gender\": 0, \"id\": 1622121, \"job\": \"Unit Publicist\", \"name\": \"Nancy Willen\"}, {\"credit_id\": \"59a16dc5925141774f02900a\", \"department\": \"Crew\", \"gender\": 0, \"id\": 1686379, \"job\": \"Driver\", \"name\": \"Darrell Dubovsky\"}, {\"credit_id\": \"59a176e4925141779302abcb\", \"department\": \"Sound\", \"gender\": 2, \"id\": 1695796, \"job\": \"Boom Operator\", \"name\": \"Paul Koronkiewicz\"}, {\"credit_id\": \"59a16b87c3a368480e027c0b\", \"department\": \"Camera\", \"gender\": 0, \"id\": 1708344, \"job\": \"Key Grip\", \"name\": \"Rick Stribling\"}, {\"credit_id\": \"59a16ca0c3a36847c502bb99\", \"department\": \"Costume & Make-Up\", \"gender\": 0, \"id\": 1745153, \"job\": \"Hairstylist\", \"name\": \"Orlando\"}, {\"credit_id\": \"59a16d97c3a36847d4027e0a\", \"department\": \"Crew\", \"gender\": 0, \"id\": 1851724, \"job\": \"Carpenter\", \"name\": \"James C. Beeson\"}, {\"credit_id\": \"59a165efc3a36847d40276fd\", \"department\": \"Art\", \"gender\": 0, \"id\": 1851725, \"job\": \"Painter\", \"name\": \"Carlos A. Chavez\"}, {\"credit_id\": \"59a165c8c3a36847e5027b38\", \"department\": \"Art\", \"gender\": 0, \"id\": 1877352, \"job\": \"Lead Painter\", \"name\": \"Marc Gillson\"}, {\"credit_id\": \"59a16645c3a36847e5027bb2\", \"department\": \"Art\", \"gender\": 0, \"id\": 1877353, \"job\": \"Standby Painter\", \"name\": \"T.D. Donnelly\"}, {\"credit_id\": \"59a16b9d925141774f028e18\", \"department\": \"Camera\", \"gender\": 0, \"id\": 1877355, \"job\": \"Grip\", \"name\": \"Elizabeth Bolden\"}, {\"credit_id\": \"59a16becc3a368481e029726\", \"department\": \"Costume & Make-Up\", \"gender\": 0, \"id\": 1877356, \"job\": \"Costume Supervisor\", \"name\": \"Thomas G. Marquez\"}, {\"credit_id\": \"59a16d7d925141779a029e54\", \"department\": \"Costume & Make-Up\", \"gender\": 0, \"id\": 1877357, \"job\": \"Makeup Artist\", \"name\": \"Paul Starr\"}, {\"credit_id\": \"59a16daac3a36847e5028254\", \"department\": \"Crew\", \"gender\": 0, \"id\": 1877359, \"job\": \"Choreographer\", \"name\": \"Sissy Boyd\"}, {\"credit_id\": \"59a16db892514177a7029629\", \"department\": \"Crew\", \"gender\": 0, \"id\": 1877360, \"job\": \"Craft Service\", \"name\": \"Derek Hurd\"}, {\"credit_id\": \"59a16de4925141779f02977a\", \"department\": \"Crew\", \"gender\": 0, \"id\": 1877361, \"job\": \"Post Production Assistant\", \"name\": \"Ben Parker\"}, {\"credit_id\": \"59a16e58c3a36847e50282f4\", \"department\": \"Crew\", \"gender\": 0, \"id\": 1877361, \"job\": \"Set Production Assistant\", \"name\": \"Ben Parker\"}, {\"credit_id\": \"59a16e29c3a36848300289fb\", \"department\": \"Crew\", \"gender\": 0, \"id\": 1877363, \"job\": \"Security\", \"name\": \"Nick Roberts\"}, {\"credit_id\": \"59a16e45c3a368480e027e51\", \"department\": \"Crew\", \"gender\": 0, \"id\": 1877365, \"job\": \"Set Medic\", \"name\": \"Patrice Carbaugh\"}, {\"credit_id\": \"59a16edac3a36847f602927f\", \"department\": \"Crew\", \"gender\": 0, \"id\": 1877369, \"job\": \"Stand In\", \"name\": \"Michael Boyce Harris\"}, {\"credit_id\": \"59a16eeec3a36847c502be1c\", \"department\": \"Crew\", \"gender\": 0, \"id\": 1877370, \"job\": \"Transportation Captain\", \"name\": \"Dotti Thompson\"}, {\"credit_id\": \"59a16faac3a36847f6029352\", \"department\": \"Editing\", \"gender\": 0, \"id\": 1877377, \"job\": \"First Assistant Editor\", \"name\": \"Bob Allen\"}, {\"credit_id\": \"59a1700a925141779302a4ab\", \"department\": \"Lighting\", \"gender\": 0, \"id\": 1877378, \"job\": \"Electrician\", \"name\": \"Marcel DeJure\"}, {\"credit_id\": \"59a17018c3a3684830028c07\", \"department\": \"Lighting\", \"gender\": 0, \"id\": 1877379, \"job\": \"Gaffer\", \"name\": \"Chuck Smith\"}, {\"credit_id\": \"59a1704a925141774b02b0c1\", \"department\": \"Production\", \"gender\": 0, \"id\": 1877380, \"job\": \"Production Accountant\", \"name\": \"Deborah Hebert\"}, {\"credit_id\": \"59a17735c3a36847d4028704\", \"department\": \"Sound\", \"gender\": 0, \"id\": 1877413, \"job\": \"Foley\", \"name\": \"David Gertz\"}, {\"credit_id\": \"59a177e7925141779a02a87a\", \"department\": \"Crew\", \"gender\": 0, \"id\": 1877415, \"job\": \"Studio Teachers\", \"name\": \"Jan D. Tys\"}]'}\n",
      "{'id': 11, 'budget': 11000000, 'genres': '[{\"id\": 12, \"name\": \"Adventure\"}, {\"id\": 28, \"name\": \"Action\"}, {\"id\": 878, \"name\": \"Science Fiction\"}]', 'homepage': 'http://www.starwars.com/films/star-wars-episode-iv-a-new-hope', 'keywords': '[{\"id\": 803, \"name\": \"android\"}, {\"id\": 4270, \"name\": \"galaxy\"}, {\"id\": 4271, \"name\": \"hermit\"}, {\"id\": 10013, \"name\": \"death star\"}, {\"id\": 10016, \"name\": \"lightsaber\"}, {\"id\": 10527, \"name\": \"jedi\"}, {\"id\": 11107, \"name\": \"rescue mission\"}, {\"id\": 11195, \"name\": \"empire\"}, {\"id\": 11196, \"name\": \"rebellion\"}, {\"id\": 13194, \"name\": \"planet\"}, {\"id\": 155336, \"name\": \"smuggler\"}, {\"id\": 160134, \"name\": \"the force\"}, {\"id\": 161176, \"name\": \"space opera\"}, {\"id\": 163295, \"name\": \"galactic war\"}, {\"id\": 178710, \"name\": \"stormtrooper\"}, {\"id\": 178712, \"name\": \"totalitarianism\"}]', 'original_language': 'en', 'original_title': 'Star Wars', 'overview': 'Princess Leia is captured and held hostage by the evil Imperial forces in their effort to take over the galactic Empire. Venturesome Luke Skywalker and dashing captain Han Solo team together with the loveable robot duo R2-D2 and C-3PO to rescue the beautiful princess and restore peace and justice in the Empire.', 'popularity': 126.393695, 'production_companies': '[{\"name\": \"Lucasfilm\", \"id\": 1}, {\"name\": \"Twentieth Century Fox Film Corporation\", \"id\": 306}]', 'production_countries': '[{\"iso_3166_1\": \"US\", \"name\": \"United States of America\"}]', 'release_date': '1977-05-25', 'revenue': 775398007, 'runtime': 121.0, 'spoken_languages': '[{\"iso_639_1\": \"en\", \"name\": \"English\"}]', 'status': 'Released', 'tagline': 'A long time ago in a galaxy far, far away...', 'title': 'Star Wars', 'vote_average': 8.1, 'vote_count': 6624, 'cast': '[{\"cast_id\": 3, \"character\": \"Luke Skywalker\", \"credit_id\": \"52fe420dc3a36847f8000441\", \"gender\": 2, \"id\": 2, \"name\": \"Mark Hamill\", \"order\": 0}, {\"cast_id\": 4, \"character\": \"Han Solo\", \"credit_id\": \"52fe420dc3a36847f8000445\", \"gender\": 2, \"id\": 3, \"name\": \"Harrison Ford\", \"order\": 1}, {\"cast_id\": 5, \"character\": \"Princess Leia Organa\", \"credit_id\": \"52fe420dc3a36847f8000449\", \"gender\": 1, \"id\": 4, \"name\": \"Carrie Fisher\", \"order\": 2}, {\"cast_id\": 6, \"character\": \"Grand Moff Tarkin\", \"credit_id\": \"52fe420dc3a36847f800044d\", \"gender\": 2, \"id\": 5, \"name\": \"Peter Cushing\", \"order\": 3}, {\"cast_id\": 14, \"character\": \"Obi-Wan \\\\\"Ben\\\\\" Kenobi\", \"credit_id\": \"52fe420dc3a36847f8000477\", \"gender\": 2, \"id\": 12248, \"name\": \"Alec Guinness\", \"order\": 4}, {\"cast_id\": 7, \"character\": \"See Threepio (C-3PO)\", \"credit_id\": \"52fe420dc3a36847f8000451\", \"gender\": 2, \"id\": 6, \"name\": \"Anthony Daniels\", \"order\": 5}, {\"cast_id\": 8, \"character\": \"Artoo-Detoo (R2-D2)\", \"credit_id\": \"52fe420dc3a36847f8000455\", \"gender\": 2, \"id\": 130, \"name\": \"Kenny Baker\", \"order\": 6}, {\"cast_id\": 15, \"character\": \"Chewbacca\", \"credit_id\": \"52fe420dc3a36847f800047b\", \"gender\": 2, \"id\": 24343, \"name\": \"Peter Mayhew\", \"order\": 7}, {\"cast_id\": 16, \"character\": \"Darth Vader\", \"credit_id\": \"52fe420dc3a36847f800047f\", \"gender\": 2, \"id\": 24342, \"name\": \"David Prowse\", \"order\": 8}, {\"cast_id\": 17, \"character\": \"Voice of Darth Vader (voice)\", \"credit_id\": \"52fe420dc3a36847f8000483\", \"gender\": 0, \"id\": 15152, \"name\": \"James Earl Jones\", \"order\": 9}, {\"cast_id\": 18, \"character\": \"Uncle Owen\", \"credit_id\": \"52fe420dc3a36847f8000487\", \"gender\": 2, \"id\": 33032, \"name\": \"Phil Brown\", \"order\": 10}, {\"cast_id\": 19, \"character\": \"Aunt Beru\", \"credit_id\": \"52fe420dc3a36847f800048b\", \"gender\": 1, \"id\": 131625, \"name\": \"Shelagh Fraser\", \"order\": 11}, {\"cast_id\": 24, \"character\": \"Chief Jawa\", \"credit_id\": \"52fe420dc3a36847f800049f\", \"gender\": 2, \"id\": 132538, \"name\": \"Jack Purvis\", \"order\": 12}, {\"cast_id\": 26, \"character\": \"General Willard\", \"credit_id\": \"52fe420dc3a36847f80004a7\", \"gender\": 2, \"id\": 69249, \"name\": \"Eddie Byrne\", \"order\": 13}, {\"cast_id\": 27, \"character\": \"Red Two (Wedge)\", \"credit_id\": \"52fe420dc3a36847f80004ab\", \"gender\": 2, \"id\": 47698, \"name\": \"Denis Lawson\", \"order\": 14}, {\"cast_id\": 28, \"character\": \"Red Three (Biggs)\", \"credit_id\": \"52fe420dc3a36847f80004af\", \"gender\": 2, \"id\": 17356, \"name\": \"Garrick Hagon\", \"order\": 15}, {\"cast_id\": 33, \"character\": \"General Taggi\", \"credit_id\": \"52fe420dc3a36847f80004c3\", \"gender\": 2, \"id\": 42570, \"name\": \"Don Henderson\", \"order\": 16}, {\"cast_id\": 35, \"character\": \"Commander #1\", \"credit_id\": \"52fe420dc3a36847f80004cb\", \"gender\": 2, \"id\": 79489, \"name\": \"Leslie Schofield\", \"order\": 17}, {\"cast_id\": 34, \"character\": \"General Motti\", \"credit_id\": \"52fe420dc3a36847f80004c7\", \"gender\": 2, \"id\": 12829, \"name\": \"Richard LeParmentier\", \"order\": 18}, {\"cast_id\": 128, \"character\": \"Stormtrooper\", \"credit_id\": \"586570c7c3a36852d201e865\", \"gender\": 2, \"id\": 1729623, \"name\": \"Michael Leader\", \"order\": 19}, {\"cast_id\": 25, \"character\": \"General Dodonna\", \"credit_id\": \"52fe420dc3a36847f80004a3\", \"gender\": 2, \"id\": 216087, \"name\": \"Alex McCrindle\", \"order\": 20}, {\"cast_id\": 23, \"character\": \"Red Leader\", \"credit_id\": \"52fe420dc3a36847f800049b\", \"gender\": 2, \"id\": 47401, \"name\": \"Drewe Henley\", \"order\": 21}, {\"cast_id\": 29, \"character\": \"Red Four (John \\\\\"D\\\\\")\", \"credit_id\": \"52fe420dc3a36847f80004b3\", \"gender\": 2, \"id\": 162432, \"name\": \"Jack Klaff\", \"order\": 22}, {\"cast_id\": 21, \"character\": \"Red Six (Porkins)\", \"credit_id\": \"52fe420dc3a36847f8000493\", \"gender\": 2, \"id\": 663, \"name\": \"William Hootkins\", \"order\": 23}, {\"cast_id\": 30, \"character\": \"Gold Leader\", \"credit_id\": \"52fe420dc3a36847f80004b7\", \"gender\": 2, \"id\": 58475, \"name\": \"Angus MacInnes\", \"order\": 24}, {\"cast_id\": 126, \"character\": \"Gold Two\", \"credit_id\": \"569792c4c3a3683b040021fc\", \"gender\": 2, \"id\": 151819, \"name\": \"Jeremy Sinden\", \"order\": 25}, {\"cast_id\": 32, \"character\": \"Gold Five\", \"credit_id\": \"52fe420dc3a36847f80004bf\", \"gender\": 2, \"id\": 202276, \"name\": \"Graham Ashley\", \"order\": 26}, {\"cast_id\": 36, \"character\": \"Red Two (voice) (uncredited)\", \"credit_id\": \"52fe420dc3a36847f80004cf\", \"gender\": 2, \"id\": 1216947, \"name\": \"David Ankrum\", \"order\": 27}, {\"cast_id\": 37, \"character\": \"Boba Fett (special edition) (uncredited)\", \"credit_id\": \"52fe420dc3a36847f80004d3\", \"gender\": 2, \"id\": 1271058, \"name\": \"Mark Austin\", \"order\": 28}, {\"cast_id\": 38, \"character\": \"Stormtrooper (voice) (uncredited)\", \"credit_id\": \"52fe420dc3a36847f80004d7\", \"gender\": 2, \"id\": 3044, \"name\": \"Scott Beach\", \"order\": 29}, {\"cast_id\": 39, \"character\": \"Stormtrooper (uncredited)\", \"credit_id\": \"52fe420ec3a36847f80004db\", \"gender\": 2, \"id\": 1271059, \"name\": \"Lightning Bear\", \"order\": 30}, {\"cast_id\": 40, \"character\": \"Cantina Alien (uncredited)\", \"credit_id\": \"52fe420ec3a36847f80004df\", \"gender\": 2, \"id\": 1271060, \"name\": \"Jon Berg\", \"order\": 31}, {\"cast_id\": 41, \"character\": \"Cantina Alien (uncredited)\", \"credit_id\": \"52fe420ec3a36847f80004e3\", \"gender\": 0, \"id\": 1271061, \"name\": \"Doug Beswick\", \"order\": 32}, {\"cast_id\": 42, \"character\": \"Greedo (uncredited)\", \"credit_id\": \"52fe420ec3a36847f80004e7\", \"gender\": 2, \"id\": 199356, \"name\": \"Paul Blake\", \"order\": 33}, {\"cast_id\": 43, \"character\": \"Nabrun Leids (uncredited)\", \"credit_id\": \"52fe420ec3a36847f80004eb\", \"gender\": 0, \"id\": 1271062, \"name\": \"Janice Burchette\", \"order\": 34}, {\"cast_id\": 44, \"character\": \"Wuher (uncredited)\", \"credit_id\": \"52fe420ec3a36847f80004ef\", \"gender\": 2, \"id\": 1271063, \"name\": \"Ted Burnett\", \"order\": 35}, {\"cast_id\": 45, \"character\": \"Drifter (Red 12) (uncredited)\", \"credit_id\": \"52fe420ec3a36847f80004f3\", \"gender\": 2, \"id\": 1271064, \"name\": \"John Chapman\", \"order\": 36}, {\"cast_id\": 46, \"character\": \"Cantina Patron (uncredited)\", \"credit_id\": \"52fe420ec3a36847f80004f7\", \"gender\": 2, \"id\": 1271065, \"name\": \"Gilda Cohen\", \"order\": 37}, {\"cast_id\": 47, \"character\": \"Stormtrooper (uncredited)\", \"credit_id\": \"52fe420ec3a36847f80004fb\", \"gender\": 2, \"id\": 1178140, \"name\": \"Tim Condren\", \"order\": 38}, {\"cast_id\": 48, \"character\": \"Wioslea (uncredited)\", \"credit_id\": \"52fe420ec3a36847f80004ff\", \"gender\": 0, \"id\": 186229, \"name\": \"Barry Copping\", \"order\": 39}, {\"cast_id\": 49, \"character\": \"Dr. Evazan (uncredited)\", \"credit_id\": \"52fe420ec3a36847f8000503\", \"gender\": 2, \"id\": 1271066, \"name\": \"Alfie Curtis\", \"order\": 40}, {\"cast_id\": 50, \"character\": \"Cantina Patron (uncredited)\", \"credit_id\": \"52fe420ec3a36847f8000507\", \"gender\": 0, \"id\": 1271067, \"name\": \"Robert Davies\", \"order\": 41}, {\"cast_id\": 51, \"character\": \"Greedo (uncredited)\", \"credit_id\": \"52fe420ec3a36847f800050b\", \"gender\": 1, \"id\": 104149, \"name\": \"Maria De Aragon\", \"order\": 42}, {\"cast_id\": 52, \"character\": \"Hrchek Kal Fas (uncredited)\", \"credit_id\": \"52fe420ec3a36847f800050f\", \"gender\": 0, \"id\": 1271068, \"name\": \"Robert A. Denham\", \"order\": 43}, {\"cast_id\": 53, \"character\": \"Jawa (uncredited)\", \"credit_id\": \"52fe420ec3a36847f8000513\", \"gender\": 0, \"id\": 1271069, \"name\": \"Frazer Diamond\", \"order\": 44}, {\"cast_id\": 54, \"character\": \"Stormtrooper / Tusken Raider / Death Star Trooper / Garouf Lafoe (uncredited)\", \"credit_id\": \"52fe420ec3a36847f8000517\", \"gender\": 2, \"id\": 53587, \"name\": \"Peter Diamond\", \"order\": 45}, {\"cast_id\": 55, \"character\": \"Jawa (uncredited)\", \"credit_id\": \"52fe420ec3a36847f800051b\", \"gender\": 0, \"id\": 1271070, \"name\": \"Warwick Diamond\", \"order\": 46}, {\"cast_id\": 56, \"character\": \"Garindan (uncredited)\", \"credit_id\": \"52fe420ec3a36847f800051f\", \"gender\": 0, \"id\": 1271071, \"name\": \"Sadie Eden\", \"order\": 47}, {\"cast_id\": 57, \"character\": \"Djas Puhr (uncredited)\", \"credit_id\": \"52fe420ec3a36847f8000523\", \"gender\": 0, \"id\": 1271072, \"name\": \"Kim Falkinburg\", \"order\": 48}, {\"cast_id\": 58, \"character\": \"Death Star Trooper (uncredited)\", \"credit_id\": \"52fe420ec3a36847f8000527\", \"gender\": 2, \"id\": 202402, \"name\": \"Harry Fielder\", \"order\": 49}, {\"cast_id\": 59, \"character\": \"Stormtrooper with Binoculars (uncredited)\", \"credit_id\": \"52fe420ec3a36847f800052b\", \"gender\": 0, \"id\": 1271073, \"name\": \"Ted Gagliano\", \"order\": 50}, {\"cast_id\": 60, \"character\": \"Cantina Patron (uncredited)\", \"credit_id\": \"52fe420ec3a36847f800052f\", \"gender\": 0, \"id\": 1271074, \"name\": \"Salo Gardner\", \"order\": 51}, {\"cast_id\": 61, \"character\": \"Death Star Trooper (uncredited)\", \"credit_id\": \"52fe420ec3a36847f8000533\", \"gender\": 0, \"id\": 1195602, \"name\": \"Steve Gawley\", \"order\": 52}, {\"cast_id\": 62, \"character\": \"Kabe (uncredited)\", \"credit_id\": \"52fe420ec3a36847f8000537\", \"gender\": 0, \"id\": 1271075, \"name\": \"Barry Gnome\", \"order\": 53}, {\"cast_id\": 63, \"character\": \"Kabe / Jawa / GONK Droid (uncredited)\", \"credit_id\": \"52fe420ec3a36847f800053b\", \"gender\": 0, \"id\": 252527, \"name\": \"Rusty Goffe\", \"order\": 54}, {\"cast_id\": 64, \"character\": \"Cantina Patron (uncredited)\", \"credit_id\": \"52fe420ec3a36847f800053f\", \"gender\": 0, \"id\": 1271076, \"name\": \"Isaac Grand\", \"order\": 55}, {\"cast_id\": 65, \"character\": \"Stormtrooper (special edition) (uncredited)\", \"credit_id\": \"52fe420ec3a36847f8000543\", \"gender\": 0, \"id\": 1271077, \"name\": \"Nelson Hall\", \"order\": 56}, {\"cast_id\": 66, \"character\": \"Stormtrooper (uncredited)\", \"credit_id\": \"52fe420ec3a36847f8000547\", \"gender\": 0, \"id\": 1271078, \"name\": \"Reg Harding\", \"order\": 57}, {\"cast_id\": 67, \"character\": \"Leia\\'s Rebel Escort (uncredited)\", \"credit_id\": \"52fe420ec3a36847f800054b\", \"gender\": 2, \"id\": 964699, \"name\": \"Alan Harris\", \"order\": 58}, {\"cast_id\": 68, \"character\": \"Stormtrooper (uncredited)\", \"credit_id\": \"52fe420ec3a36847f800054f\", \"gender\": 0, \"id\": 1271079, \"name\": \"Frank Henson\", \"order\": 59}, {\"cast_id\": 69, \"character\": \"Brea Tonnika (uncredited)\", \"credit_id\": \"52fe420ec3a36847f8000553\", \"gender\": 0, \"id\": 1271080, \"name\": \"Christine Hewett\", \"order\": 60}, {\"cast_id\": 70, \"character\": \"Stormtrooper (uncredited)\", \"credit_id\": \"52fe420ec3a36847f8000557\", \"gender\": 0, \"id\": 1271081, \"name\": \"Arthur Howell\", \"order\": 61}, {\"cast_id\": 71, \"character\": \"Ponda Baba (uncredited)\", \"credit_id\": \"52fe420ec3a36847f800055b\", \"gender\": 0, \"id\": 1271082, \"name\": \"Tommy Ilsley\", \"order\": 62}, {\"cast_id\": 72, \"character\": \"Death Star Trooper (uncredited)\", \"credit_id\": \"52fe420ec3a36847f800055f\", \"gender\": 2, \"id\": 4945, \"name\": \"Joe Johnston\", \"order\": 63}, {\"cast_id\": 73, \"character\": \"Mosep (uncredited)\", \"credit_id\": \"52fe420ec3a36847f8000563\", \"gender\": 0, \"id\": 1271083, \"name\": \"Annette Jones\", \"order\": 64}, {\"cast_id\": 74, \"character\": \"Chall Bekan (uncredited)\", \"credit_id\": \"52fe420ec3a36847f8000567\", \"gender\": 0, \"id\": 1148750, \"name\": \"Linda Jones\", \"order\": 65}, {\"cast_id\": 75, \"character\": \"Solomohal (uncredited)\", \"credit_id\": \"52fe420ec3a36847f800056b\", \"gender\": 0, \"id\": 201344, \"name\": \"Joe Kaye\", \"order\": 66}, {\"cast_id\": 76, \"character\": \"Stormtrooper (voice) (uncredited)\", \"credit_id\": \"52fe420ec3a36847f800056f\", \"gender\": 0, \"id\": 1271085, \"name\": \"Colin Michael Kitchens\", \"order\": 67}, {\"cast_id\": 77, \"character\": \"Jawa (uncredited)\", \"credit_id\": \"52fe420ec3a36847f8000573\", \"gender\": 0, \"id\": 1271086, \"name\": \"Melissa Kurtz\", \"order\": 68}, {\"cast_id\": 78, \"character\": \"Jawa (uncredited)\", \"credit_id\": \"52fe420ec3a36847f8000577\", \"gender\": 0, \"id\": 1190780, \"name\": \"Tiffany L. Kurtz\", \"order\": 69}, {\"cast_id\": 79, \"character\": \"Daine Jir (uncredited)\", \"credit_id\": \"52fe420ec3a36847f800057b\", \"gender\": 0, \"id\": 190453, \"name\": \"Al Lampert\", \"order\": 70}, {\"cast_id\": 80, \"character\": \"BoShek (uncredited)\", \"credit_id\": \"52fe420ec3a36847f800057f\", \"gender\": 0, \"id\": 1012562, \"name\": \"Anthony Lang\", \"order\": 71}, {\"cast_id\": 81, \"character\": \"Muftak / Cantina Band Member (uncredited)\", \"credit_id\": \"52fe420ec3a36847f8000583\", \"gender\": 0, \"id\": 1271091, \"name\": \"Laine Liska\", \"order\": 72}, {\"cast_id\": 82, \"character\": \"Temple Guard / Medal Bearer (uncredited)\", \"credit_id\": \"52fe420ec3a36847f8000587\", \"gender\": 2, \"id\": 1271092, \"name\": \"Derek Lyons\", \"order\": 73}, {\"cast_id\": 83, \"character\": \"Jawa (uncredited)\", \"credit_id\": \"52fe420ec3a36847f800058b\", \"gender\": 0, \"id\": 1271095, \"name\": \"Mahjoub\", \"order\": 74}, {\"cast_id\": 84, \"character\": \"Takeel (uncredited)\", \"credit_id\": \"52fe420ec3a36847f800058f\", \"gender\": 0, \"id\": 1271096, \"name\": \"Alf Mangan\", \"order\": 75}, {\"cast_id\": 85, \"character\": \"Stormtrooper (special edition) (uncredited)\", \"credit_id\": \"52fe420ec3a36847f8000593\", \"gender\": 0, \"id\": 19801, \"name\": \"Rick McCallum\", \"order\": 76}, {\"cast_id\": 86, \"character\": \"Death Star Gunner (uncredited)\", \"credit_id\": \"52fe420ec3a36847f8000597\", \"gender\": 0, \"id\": 1271102, \"name\": \"Grant McCune\", \"order\": 77}, {\"cast_id\": 87, \"character\": \"Cantina Patron (uncredited)\", \"credit_id\": \"52fe420ec3a36847f800059b\", \"gender\": 0, \"id\": 1271104, \"name\": \"Geoffrey Moon\", \"order\": 78}, {\"cast_id\": 88, \"character\": \"Swilla Corey (uncredited)\", \"credit_id\": \"52fe420ec3a36847f800059f\", \"gender\": 0, \"id\": 1271106, \"name\": \"Mandy Morton\", \"order\": 79}, {\"cast_id\": 89, \"character\": \"Massassi Base Rebel Scout (uncredited)\", \"credit_id\": \"52fe420ec3a36847f80005a3\", \"gender\": 0, \"id\": 1271107, \"name\": \"Lorne Peterson\", \"order\": 80}, {\"cast_id\": 90, \"character\": \"Rycar Ryjerd (uncredited)\", \"credit_id\": \"52fe420ec3a36847f80005a7\", \"gender\": 0, \"id\": 1183443, \"name\": \"Marcus Powell\", \"order\": 81}, {\"cast_id\": 91, \"character\": \"InCom Engineer (uncredited)\", \"credit_id\": \"52fe420ec3a36847f80005ab\", \"gender\": 2, \"id\": 10657, \"name\": \"Shane Rimmer\", \"order\": 82}, {\"cast_id\": 92, \"character\": \"Leesub Sirln (uncredited)\", \"credit_id\": \"52fe420ec3a36847f80005af\", \"gender\": 0, \"id\": 1271116, \"name\": \"Pam Rose\", \"order\": 83}, {\"cast_id\": 93, \"character\": \"Cmdr. Praji (Imperial Officer #2 on rebel ship) (uncredited)\", \"credit_id\": \"52fe420ec3a36847f80005b3\", \"gender\": 2, \"id\": 110319, \"name\": \"George Roubicek\", \"order\": 84}, {\"cast_id\": 94, \"character\": \"Tawss Khaa (uncredited)\", \"credit_id\": \"52fe420ec3a36847f80005b7\", \"gender\": 0, \"id\": 1271121, \"name\": \"Erica Simmons\", \"order\": 85}, {\"cast_id\": 95, \"character\": \"Senni Tonnika (uncredited)\", \"credit_id\": \"52fe420ec3a36847f80005bb\", \"gender\": 0, \"id\": 1271122, \"name\": \"Angela Staines\", \"order\": 86}, {\"cast_id\": 96, \"character\": \"Cantina Patron (uncredited)\", \"credit_id\": \"52fe420ec3a36847f80005bf\", \"gender\": 0, \"id\": 1271123, \"name\": \"George Stock\", \"order\": 87}, {\"cast_id\": 97, \"character\": \"Cantina Patron (uncredited)\", \"credit_id\": \"52fe420ec3a36847f80005c3\", \"gender\": 0, \"id\": 1271124, \"name\": \"Roy Straite\", \"order\": 88}, {\"cast_id\": 98, \"character\": \"Sai\\'torr Kal Fas (uncredited)\", \"credit_id\": \"52fe420ec3a36847f80005c7\", \"gender\": 0, \"id\": 1271125, \"name\": \"Peter Sturgeon\", \"order\": 89}, {\"cast_id\": 99, \"character\": \"Lt. Pol Treidum (uncredited)\", \"credit_id\": \"52fe420ec3a36847f80005cb\", \"gender\": 0, \"id\": 187398, \"name\": \"Peter Sumner\", \"order\": 90}, {\"cast_id\": 100, \"character\": \"Cantina Voices (voice) (uncredited)\", \"credit_id\": \"52fe420ec3a36847f80005cf\", \"gender\": 0, \"id\": 1271126, \"name\": \"John Sylla\", \"order\": 91}, {\"cast_id\": 101, \"character\": \"Massassi Outpost Announcer / Various Voices (voice) (uncredited)\", \"credit_id\": \"52fe420ec3a36847f80005d3\", \"gender\": 0, \"id\": 390158, \"name\": \"Tom Sylla\", \"order\": 92}, {\"cast_id\": 22, \"character\": \"Lt. Shann Childsen (uncredited)\", \"credit_id\": \"52fe420dc3a36847f8000497\", \"gender\": 2, \"id\": 166258, \"name\": \"Malcolm Tierney\", \"order\": 93}, {\"cast_id\": 102, \"character\": \"Cantina Alien (uncredited)\", \"credit_id\": \"52fe420ec3a36847f80005d7\", \"gender\": 2, \"id\": 7727, \"name\": \"Phil Tippett\", \"order\": 94}, {\"cast_id\": 103, \"character\": \"Del Goren (uncredited)\", \"credit_id\": \"52fe420ec3a36847f80005db\", \"gender\": 0, \"id\": 184980, \"name\": \"Burnell Tucker\", \"order\": 95}, {\"cast_id\": 104, \"character\": \"Stormtrooper (voice) (uncredited)\", \"credit_id\": \"52fe420ec3a36847f80005df\", \"gender\": 0, \"id\": 160947, \"name\": \"Morgan Upton\", \"order\": 96}, {\"cast_id\": 105, \"character\": \"Stormtrooper (voice) (uncredited)\", \"credit_id\": \"52fe420ec3a36847f80005e3\", \"gender\": 0, \"id\": 161301, \"name\": \"Jerry Walter\", \"order\": 97}, {\"cast_id\": 106, \"character\": \"Jawa (uncredited)\", \"credit_id\": \"52fe420ec3a36847f80005e7\", \"gender\": 0, \"id\": 1271127, \"name\": \"Hal Wamsley\", \"order\": 98}, {\"cast_id\": 107, \"character\": \"Greedo (voice) (uncredited)\", \"credit_id\": \"52fe420ec3a36847f80005eb\", \"gender\": 2, \"id\": 159108, \"name\": \"Larry Ward\", \"order\": 99}, {\"cast_id\": 108, \"character\": \"Thuku (uncredited)\", \"credit_id\": \"52fe420ec3a36847f80005ef\", \"gender\": 0, \"id\": 1271128, \"name\": \"Diana Sadley Way\", \"order\": 100}, {\"cast_id\": 109, \"character\": \"Ketwol / Melas (uncredited)\", \"credit_id\": \"52fe420ec3a36847f80005f3\", \"gender\": 0, \"id\": 1271129, \"name\": \"Harold Weed\", \"order\": 101}, {\"cast_id\": 110, \"character\": \"Stormtrooper (uncredited)\", \"credit_id\": \"52fe420ec3a36847f80005f7\", \"gender\": 2, \"id\": 24278, \"name\": \"Bill Weston\", \"order\": 102}, {\"cast_id\": 111, \"character\": \"Mos Eisley Citizen (special edition) (uncredited)\", \"credit_id\": \"52fe420ec3a36847f80005fb\", \"gender\": 0, \"id\": 60207, \"name\": \"Steve \\'Spaz\\' Williams\", \"order\": 103}, {\"cast_id\": 112, \"character\": \"Cantina Patron (uncredited)\", \"credit_id\": \"52fe420ec3a36847f80005ff\", \"gender\": 0, \"id\": 1271131, \"name\": \"Fred Wood\", \"order\": 104}, {\"cast_id\": 129, \"character\": \"Rebel Pilot (uncredited)\", \"credit_id\": \"588f15b4c3a36860ce00562c\", \"gender\": 0, \"id\": 301657, \"name\": \"Colin Higgins\", \"order\": 105}]', 'crew': '[{\"credit_id\": \"52fe420dc3a36847f8000437\", \"department\": \"Directing\", \"gender\": 2, \"id\": 1, \"job\": \"Director\", \"name\": \"George Lucas\"}, {\"credit_id\": \"52fe420dc3a36847f800045b\", \"department\": \"Production\", \"gender\": 2, \"id\": 1, \"job\": \"Executive Producer\", \"name\": \"George Lucas\"}, {\"credit_id\": \"562e75309251414006009955\", \"department\": \"Writing\", \"gender\": 2, \"id\": 1, \"job\": \"Writer\", \"name\": \"George Lucas\"}, {\"credit_id\": \"52fe420dc3a36847f8000461\", \"department\": \"Production\", \"gender\": 2, \"id\": 12401, \"job\": \"Producer\", \"name\": \"Gary Kurtz\"}, {\"credit_id\": \"52fe420dc3a36847f8000467\", \"department\": \"Production\", \"gender\": 0, \"id\": 19801, \"job\": \"Producer\", \"name\": \"Rick McCallum\"}, {\"credit_id\": \"52fe420dc3a36847f800046d\", \"department\": \"Sound\", \"gender\": 2, \"id\": 491, \"job\": \"Original Music Composer\", \"name\": \"John Williams\"}, {\"credit_id\": \"52fe420dc3a36847f8000473\", \"department\": \"Camera\", \"gender\": 2, \"id\": 7753, \"job\": \"Director of Photography\", \"name\": \"Gilbert Taylor\"}, {\"credit_id\": \"56753ec2c3a368168b0023f2\", \"department\": \"Production\", \"gender\": 2, \"id\": 3176, \"job\": \"Casting\", \"name\": \"Vic Ramos\"}, {\"credit_id\": \"56753eb192514179db00265c\", \"department\": \"Production\", \"gender\": 1, \"id\": 390, \"job\": \"Casting\", \"name\": \"Irene Lamb\"}, {\"credit_id\": \"56753f7c92514179e3002598\", \"department\": \"Art\", \"gender\": 2, \"id\": 669, \"job\": \"Art Direction\", \"name\": \"Norman Reynolds\"}, {\"credit_id\": \"56753e8f92514179db002656\", \"department\": \"Editing\", \"gender\": 1, \"id\": 2551, \"job\": \"Editor\", \"name\": \"Marcia Lucas\"}, {\"credit_id\": \"56753ea192514179db00265a\", \"department\": \"Production\", \"gender\": 1, \"id\": 1221, \"job\": \"Casting\", \"name\": \"Dianne Crittenden\"}, {\"credit_id\": \"56753fbdc3a3681689002463\", \"department\": \"Art\", \"gender\": 2, \"id\": 5058, \"job\": \"Set Decoration\", \"name\": \"Roger Christian\"}, {\"credit_id\": \"56753f64c3a368167a00263a\", \"department\": \"Art\", \"gender\": 2, \"id\": 5059, \"job\": \"Art Direction\", \"name\": \"Leslie Dilley\"}, {\"credit_id\": \"56753fd2c3a368168900246d\", \"department\": \"Costume & Make-Up\", \"gender\": 2, \"id\": 5061, \"job\": \"Costume Design\", \"name\": \"John Mollo\"}, {\"credit_id\": \"588fd62c925141019a00dbfa\", \"department\": \"Visual Effects\", \"gender\": 2, \"id\": 7727, \"job\": \"Animation\", \"name\": \"Phil Tippett\"}, {\"credit_id\": \"56753e6cc3a368167c0026b6\", \"department\": \"Editing\", \"gender\": 2, \"id\": 8425, \"job\": \"Editor\", \"name\": \"Richard Chew\"}, {\"credit_id\": \"56753e7ec3a368167c0026ba\", \"department\": \"Editing\", \"gender\": 2, \"id\": 10766, \"job\": \"Editor\", \"name\": \"Paul Hirsch\"}, {\"credit_id\": \"56753f5292514179d20026b3\", \"department\": \"Art\", \"gender\": 2, \"id\": 568911, \"job\": \"Production Design\", \"name\": \"John Barry\"}, {\"credit_id\": \"56e9dfbec3a3682d6f0043c7\", \"department\": \"Visual Effects\", \"gender\": 0, \"id\": 1424133, \"job\": \"Visual Effects\", \"name\": \"Paul Huston\"}]'}\n",
      "{'id': 12, 'budget': 94000000, 'genres': '[{\"id\": 16, \"name\": \"Animation\"}, {\"id\": 10751, \"name\": \"Family\"}]', 'homepage': 'http://movies.disney.com/finding-nemo', 'keywords': '[{\"id\": 494, \"name\": \"father son relationship\"}, {\"id\": 10026, \"name\": \"harbor\"}, {\"id\": 14785, \"name\": \"underwater\"}, {\"id\": 33759, \"name\": \"fish tank\"}, {\"id\": 33760, \"name\": \"great barrier reef\"}, {\"id\": 156948, \"name\": \"missing child\"}, {\"id\": 179430, \"name\": \"aftercreditsstinger\"}, {\"id\": 179431, \"name\": \"duringcreditsstinger\"}, {\"id\": 180557, \"name\": \"short term memory loss\"}, {\"id\": 180568, \"name\": \"clownfish\"}, {\"id\": 180574, \"name\": \"father son reunion\"}, {\"id\": 181068, \"name\": \"protective father\"}]', 'original_language': 'en', 'original_title': 'Finding Nemo', 'overview': \"Nemo, an adventurous young clownfish, is unexpectedly taken from his Great Barrier Reef home to a dentist's office aquarium. It's up to his worrisome father Marlin and a friendly but forgetful fish Dory to bring Nemo home -- meeting vegetarian sharks, surfer dude turtles, hypnotic jellyfish, hungry seagulls, and more along the way.\", 'popularity': 85.688789, 'production_companies': '[{\"name\": \"Pixar Animation Studios\", \"id\": 3}]', 'production_countries': '[{\"iso_3166_1\": \"US\", \"name\": \"United States of America\"}]', 'release_date': '2003-05-30', 'revenue': 940335536, 'runtime': 100.0, 'spoken_languages': '[{\"iso_639_1\": \"en\", \"name\": \"English\"}]', 'status': 'Released', 'tagline': \"There are 3.7 trillion fish in the ocean, they're looking for one.\", 'title': 'Finding Nemo', 'vote_average': 7.6, 'vote_count': 6122, 'cast': '[{\"cast_id\": 8, \"character\": \"Marlin (voice)\", \"credit_id\": \"52fe420ec3a36847f8000679\", \"gender\": 2, \"id\": 13, \"name\": \"Albert Brooks\", \"order\": 0}, {\"cast_id\": 9, \"character\": \"Dory (voice)\", \"credit_id\": \"52fe420ec3a36847f800067d\", \"gender\": 1, \"id\": 14, \"name\": \"Ellen DeGeneres\", \"order\": 1}, {\"cast_id\": 7, \"character\": \"Nemo (voice)\", \"credit_id\": \"52fe420ec3a36847f8000675\", \"gender\": 2, \"id\": 12, \"name\": \"Alexander Gould\", \"order\": 2}, {\"cast_id\": 16, \"character\": \"Gill (voice)\", \"credit_id\": \"52fe420ec3a36847f8000699\", \"gender\": 2, \"id\": 5293, \"name\": \"Willem Dafoe\", \"order\": 3}, {\"cast_id\": 10, \"character\": \"Bloat (voice)\", \"credit_id\": \"52fe420ec3a36847f8000681\", \"gender\": 2, \"id\": 18, \"name\": \"Brad Garrett\", \"order\": 4}, {\"cast_id\": 11, \"character\": \"Peach (voice)\", \"credit_id\": \"52fe420ec3a36847f8000685\", \"gender\": 1, \"id\": 19, \"name\": \"Allison Janney\", \"order\": 5}, {\"cast_id\": 23, \"character\": \"Gurgle (voice)\", \"credit_id\": \"52fe420ec3a36847f80006c1\", \"gender\": 2, \"id\": 6168, \"name\": \"Austin Pendleton\", \"order\": 6}, {\"cast_id\": 24, \"character\": \"Bubbles (voice)\", \"credit_id\": \"52fe420ec3a36847f80006c5\", \"gender\": 2, \"id\": 17401, \"name\": \"Stephen Root\", \"order\": 7}, {\"cast_id\": 25, \"character\": \"Deb / Flo (voice)\", \"credit_id\": \"52fe420ec3a36847f80006c9\", \"gender\": 1, \"id\": 14723, \"name\": \"Vicki Lewis\", \"order\": 8}, {\"cast_id\": 26, \"character\": \"Jacques (voice)\", \"credit_id\": \"52fe420ec3a36847f80006cd\", \"gender\": 0, \"id\": 7911, \"name\": \"Joe Ranft\", \"order\": 9}, {\"cast_id\": 27, \"character\": \"Nigel (voice)\", \"credit_id\": \"52fe420ec3a36847f80006d1\", \"gender\": 2, \"id\": 118, \"name\": \"Geoffrey Rush\", \"order\": 10}, {\"cast_id\": 12, \"character\": \"Crush (voice)\", \"credit_id\": \"52fe420ec3a36847f8000689\", \"gender\": 2, \"id\": 7, \"name\": \"Andrew Stanton\", \"order\": 11}, {\"cast_id\": 13, \"character\": \"Coral (voice)\", \"credit_id\": \"52fe420ec3a36847f800068d\", \"gender\": 1, \"id\": 20, \"name\": \"Elizabeth Perkins\", \"order\": 12}, {\"cast_id\": 28, \"character\": \"Squirt (voice)\", \"credit_id\": \"52fe420ec3a36847f80006d5\", \"gender\": 2, \"id\": 981048, \"name\": \"Nicholas Bird\", \"order\": 13}, {\"cast_id\": 29, \"character\": \"Mr. Ray (voice)\", \"credit_id\": \"52fe420ec3a36847f80006d9\", \"gender\": 2, \"id\": 10, \"name\": \"Bob Peterson\", \"order\": 14}, {\"cast_id\": 14, \"character\": \"Bruce (voice)\", \"credit_id\": \"52fe420ec3a36847f8000691\", \"gender\": 2, \"id\": 22, \"name\": \"Barry Humphries\", \"order\": 15}, {\"cast_id\": 33, \"character\": \"Anchor (voice)\", \"credit_id\": \"52fe420ec3a36847f80006e9\", \"gender\": 2, \"id\": 8783, \"name\": \"Eric Bana\", \"order\": 16}, {\"cast_id\": 34, \"character\": \"Chum (voice)\", \"credit_id\": \"52fe420ec3a36847f80006ed\", \"gender\": 2, \"id\": 27752, \"name\": \"Bruce Spence\", \"order\": 17}, {\"cast_id\": 15, \"character\": \"Dentist (voice)\", \"credit_id\": \"52fe420ec3a36847f8000695\", \"gender\": 2, \"id\": 23, \"name\": \"Bill Hunter\", \"order\": 18}, {\"cast_id\": 35, \"character\": \"Darla (voice)\", \"credit_id\": \"52fe420ec3a36847f80006f1\", \"gender\": 1, \"id\": 981049, \"name\": \"LuLu Ebeling\", \"order\": 19}, {\"cast_id\": 36, \"character\": \"Tad (voice)\", \"credit_id\": \"52fe420ec3a36847f80006f5\", \"gender\": 0, \"id\": 1211731, \"name\": \"Jordan Ranft\", \"order\": 20}, {\"cast_id\": 39, \"character\": \"Pearl (voice)\", \"credit_id\": \"5438598cc3a36825ba001f32\", \"gender\": 0, \"id\": 1372790, \"name\": \"Erica Beck\", \"order\": 21}, {\"cast_id\": 37, \"character\": \"Sheldon (voice)\", \"credit_id\": \"52fe420ec3a36847f80006f9\", \"gender\": 2, \"id\": 17190, \"name\": \"Erik Per Sullivan\", \"order\": 22}, {\"cast_id\": 150, \"character\": \"Fish School (voice)\", \"credit_id\": \"593a590f9251411ef8009e8a\", \"gender\": 2, \"id\": 7907, \"name\": \"John Ratzenberger\", \"order\": 33}]', 'crew': '[{\"credit_id\": \"52fe420ec3a36847f80006b1\", \"department\": \"Writing\", \"gender\": 2, \"id\": 7, \"job\": \"Screenplay\", \"name\": \"Andrew Stanton\"}, {\"credit_id\": \"52fe420ec3a36847f8000653\", \"department\": \"Directing\", \"gender\": 2, \"id\": 7, \"job\": \"Director\", \"name\": \"Andrew Stanton\"}, {\"credit_id\": \"593a566cc3a3682344008b80\", \"department\": \"Writing\", \"gender\": 2, \"id\": 7, \"job\": \"Original Story\", \"name\": \"Andrew Stanton\"}, {\"credit_id\": \"5686e1c292514132db01e512\", \"department\": \"Editing\", \"gender\": 2, \"id\": 8, \"job\": \"Supervising Film Editor\", \"name\": \"Lee Unkrich\"}, {\"credit_id\": \"587cedf89251413ecb01b88e\", \"department\": \"Directing\", \"gender\": 2, \"id\": 8, \"job\": \"Co-Director\", \"name\": \"Lee Unkrich\"}, {\"credit_id\": \"52fe420ec3a36847f800065f\", \"department\": \"Production\", \"gender\": 2, \"id\": 9, \"job\": \"Producer\", \"name\": \"Graham Walters\"}, {\"credit_id\": \"52fe420ec3a36847f80006b7\", \"department\": \"Writing\", \"gender\": 2, \"id\": 10, \"job\": \"Screenplay\", \"name\": \"Bob Peterson\"}, {\"credit_id\": \"52fe420ec3a36847f80006bd\", \"department\": \"Writing\", \"gender\": 2, \"id\": 11, \"job\": \"Screenplay\", \"name\": \"David Reynolds\"}, {\"credit_id\": \"52fe420ec3a36847f800069f\", \"department\": \"Production\", \"gender\": 2, \"id\": 7879, \"job\": \"Executive Producer\", \"name\": \"John Lasseter\"}, {\"credit_id\": \"52fe420ec3a36847f80006a5\", \"department\": \"Editing\", \"gender\": 2, \"id\": 12914, \"job\": \"Editor\", \"name\": \"David Ian Salter\"}, {\"credit_id\": \"52fe420ec3a36847f80006ab\", \"department\": \"Sound\", \"gender\": 2, \"id\": 153, \"job\": \"Original Music Composer\", \"name\": \"Thomas Newman\"}, {\"credit_id\": \"5686db39c3a3684be901f2e3\", \"department\": \"Sound\", \"gender\": 2, \"id\": 2216, \"job\": \"Sound Designer\", \"name\": \"Gary Rydstrom\"}, {\"credit_id\": \"593a5fc99251411f1b009fa9\", \"department\": \"Sound\", \"gender\": 2, \"id\": 2216, \"job\": \"Supervising Sound Editor\", \"name\": \"Gary Rydstrom\"}, {\"credit_id\": \"593a5faac3a368232000a2be\", \"department\": \"Sound\", \"gender\": 2, \"id\": 2216, \"job\": \"Sound Re-Recording Mixer\", \"name\": \"Gary Rydstrom\"}, {\"credit_id\": \"5686dae5c3a368607501f818\", \"department\": \"Sound\", \"gender\": 2, \"id\": 7538, \"job\": \"Music Editor\", \"name\": \"Bill Bernstein\"}, {\"credit_id\": \"5686d4c49251417e63007c84\", \"department\": \"Art\", \"gender\": 2, \"id\": 7883, \"job\": \"Production Design\", \"name\": \"Ralph Eggleston\"}, {\"credit_id\": \"593a5bdd9251411eff00a467\", \"department\": \"Visual Effects\", \"gender\": 2, \"id\": 7891, \"job\": \"Visual Development\", \"name\": \"Dominique Louis\"}, {\"credit_id\": \"593a55f79251411ee9009e7b\", \"department\": \"Crew\", \"gender\": 2, \"id\": 7892, \"job\": \"In Memory Of\", \"name\": \"Glenn McQueen\"}, {\"credit_id\": \"55685d589251417453001180\", \"department\": \"Production\", \"gender\": 1, \"id\": 7903, \"job\": \"Casting\", \"name\": \"Mary Hidalgo\"}, {\"credit_id\": \"5686da739251417e15007b9c\", \"department\": \"Production\", \"gender\": 0, \"id\": 7912, \"job\": \"Production Supervisor\", \"name\": \"Marcia Gwendolyn Jones\"}, {\"credit_id\": \"593a59b89251411f1b009b7c\", \"department\": \"Writing\", \"gender\": 0, \"id\": 7924, \"job\": \"Story\", \"name\": \"Nathan Stanton\"}, {\"credit_id\": \"5686dc01c3a3684bcc021ce7\", \"department\": \"Visual Effects\", \"gender\": 0, \"id\": 7925, \"job\": \"Visual Development\", \"name\": \"Geefwee Boedoe\"}, {\"credit_id\": \"572294979251413eac0007e2\", \"department\": \"Art\", \"gender\": 0, \"id\": 7927, \"job\": \"Art Direction\", \"name\": \"Ricky Nierva\"}, {\"credit_id\": \"572f6de39251413de3000752\", \"department\": \"Visual Effects\", \"gender\": 0, \"id\": 7929, \"job\": \"Animation\", \"name\": \"Angus MacLane\"}, {\"credit_id\": \"593a5b24c3a36822d2009ba7\", \"department\": \"Visual Effects\", \"gender\": 0, \"id\": 7943, \"job\": \"CG Painter\", \"name\": \"Glenn Kim\"}, {\"credit_id\": \"572f67a9c3a3682faa000ae9\", \"department\": \"Visual Effects\", \"gender\": 0, \"id\": 7944, \"job\": \"CG Painter\", \"name\": \"Laura Phillips\"}, {\"credit_id\": \"593a5b0ec3a368230500a340\", \"department\": \"Visual Effects\", \"gender\": 0, \"id\": 7946, \"job\": \"CG Painter\", \"name\": \"Jamie Frye\"}, {\"credit_id\": \"593a5b2ec3a368230500a361\", \"department\": \"Visual Effects\", \"gender\": 0, \"id\": 7948, \"job\": \"CG Painter\", \"name\": \"Yvonne Herbst\"}, {\"credit_id\": \"593a5748c3a368235b009896\", \"department\": \"Art\", \"gender\": 0, \"id\": 7949, \"job\": \"Art Direction\", \"name\": \"Robin Cooper\"}, {\"credit_id\": \"57214da992514142350010bf\", \"department\": \"Art\", \"gender\": 0, \"id\": 7952, \"job\": \"Art Direction\", \"name\": \"Randy Berrett\"}, {\"credit_id\": \"572bdcfc9251413896000374\", \"department\": \"Art\", \"gender\": 2, \"id\": 7960, \"job\": \"Sculptor\", \"name\": \"Jerome Ranft\"}, {\"credit_id\": \"593a5af6c3a36822f800957a\", \"department\": \"Visual Effects\", \"gender\": 0, \"id\": 7963, \"job\": \"Visual Development\", \"name\": \"Carter Goodrich\"}, {\"credit_id\": \"593a5ae59251411eed00a144\", \"department\": \"Visual Effects\", \"gender\": 0, \"id\": 7967, \"job\": \"Visual Development\", \"name\": \"Peter DeSeve\"}, {\"credit_id\": \"593a5b8c9251411f25009d86\", \"department\": \"Visual Effects\", \"gender\": 0, \"id\": 7972, \"job\": \"CG Painter\", \"name\": \"Andrea Warren\"}, {\"credit_id\": \"5686d54ac3a3684be901f220\", \"department\": \"Camera\", \"gender\": 0, \"id\": 7988, \"job\": \"Director of Photography\", \"name\": \"Jeremy Lasky\"}, {\"credit_id\": \"593a57f29251411eed009f02\", \"department\": \"Crew\", \"gender\": 0, \"id\": 8007, \"job\": \"CG Supervisor\", \"name\": \"David Eisenmann\"}, {\"credit_id\": \"572bd56fc3a3687ff70002e4\", \"department\": \"Visual Effects\", \"gender\": 0, \"id\": 8012, \"job\": \"Animation Director\", \"name\": \"Alan Barillaro\"}, {\"credit_id\": \"576eb32c9251415bf6002177\", \"department\": \"Visual Effects\", \"gender\": 0, \"id\": 8013, \"job\": \"Animation\", \"name\": \"Andrew Gordon\"}, {\"credit_id\": \"5724e057c3a36817200000da\", \"department\": \"Visual Effects\", \"gender\": 0, \"id\": 8042, \"job\": \"Animation\", \"name\": \"Andy Schmidt\"}, {\"credit_id\": \"5686e321c3a368227b0159f4\", \"department\": \"Visual Effects\", \"gender\": 0, \"id\": 8058, \"job\": \"Fix Animator\", \"name\": \"Paul Mendoza\"}, {\"credit_id\": \"5686e2f4c3a3684be901f439\", \"department\": \"Visual Effects\", \"gender\": 0, \"id\": 8059, \"job\": \"Animation Manager\", \"name\": \"Jenni Tsoi\"}, {\"credit_id\": \"593a5cb9c3a368230500a4a4\", \"department\": \"Editing\", \"gender\": 0, \"id\": 8062, \"job\": \"Editorial Production Assistant\", \"name\": \"Gabrielle Siegel\"}, {\"credit_id\": \"593a5e68c3a368231200992f\", \"department\": \"Crew\", \"gender\": 0, \"id\": 8066, \"job\": \"Second Film Editor\", \"name\": \"Katherine Ringgold\"}, {\"credit_id\": \"5686d9b29251417e63007d1d\", \"department\": \"Editing\", \"gender\": 0, \"id\": 8071, \"job\": \"First Assistant Editor\", \"name\": \"Axel Geddes\"}, {\"credit_id\": \"576d68f99251414107001907\", \"department\": \"Sound\", \"gender\": 0, \"id\": 8078, \"job\": \"Sound Effects Editor\", \"name\": \"E.J. Holowicki\"}, {\"credit_id\": \"593a57bdc3a3682371009b87\", \"department\": \"Crew\", \"gender\": 0, \"id\": 8084, \"job\": \"CG Supervisor\", \"name\": \"Brian Green\"}, {\"credit_id\": \"593a582cc3a3682320009d3d\", \"department\": \"Crew\", \"gender\": 0, \"id\": 8098, \"job\": \"CG Supervisor\", \"name\": \"Anthony A. Apodaca\"}, {\"credit_id\": \"593a5800c3a368230500a0ca\", \"department\": \"Crew\", \"gender\": 0, \"id\": 8115, \"job\": \"CG Supervisor\", \"name\": \"Steve May\"}, {\"credit_id\": \"5686dcc692514169d000b984\", \"department\": \"Camera\", \"gender\": 0, \"id\": 8135, \"job\": \"Camera Supervisor\", \"name\": \"Louis Rivera\"}, {\"credit_id\": \"5686d82892514131df01d48e\", \"department\": \"Crew\", \"gender\": 0, \"id\": 8153, \"job\": \"Post Production Supervisor\", \"name\": \"Paul Cichocki\"}, {\"credit_id\": \"5686d8599251417e63007ce5\", \"department\": \"Crew\", \"gender\": 0, \"id\": 8155, \"job\": \"Projection\", \"name\": \"John Hazelton\"}, {\"credit_id\": \"5686dbb3c3a36860e9020270\", \"department\": \"Sound\", \"gender\": 0, \"id\": 8158, \"job\": \"Supervising Sound Editor\", \"name\": \"Michael Silvers\"}, {\"credit_id\": \"593a5fd79251411ee900a58a\", \"department\": \"Sound\", \"gender\": 0, \"id\": 8159, \"job\": \"Sound Effects Editor\", \"name\": \"Shannon Mills\"}, {\"credit_id\": \"593a5ffd9251411eed00a4af\", \"department\": \"Crew\", \"gender\": 0, \"id\": 8165, \"job\": \"Sound Design Assistant\", \"name\": \"Dee Selby\"}, {\"credit_id\": \"5686d53592514131df01d440\", \"department\": \"Camera\", \"gender\": 1, \"id\": 12912, \"job\": \"Director of Photography\", \"name\": \"Sharon Calahan\"}, {\"credit_id\": \"5686db73c3a36860e9020267\", \"department\": \"Sound\", \"gender\": 1, \"id\": 15893, \"job\": \"Sound Effects Editor\", \"name\": \"Teresa Eckton\"}, {\"credit_id\": \"593a59acc3a36822d2009ab2\", \"department\": \"Writing\", \"gender\": 2, \"id\": 21198, \"job\": \"Story\", \"name\": \"Peter Sohn\"}, {\"credit_id\": \"593a596bc3a3682371009cdf\", \"department\": \"Writing\", \"gender\": 0, \"id\": 32535, \"job\": \"Story\", \"name\": \"Jim Capobianco\"}, {\"credit_id\": \"593a5e74c3a36822f80097b2\", \"department\": \"Crew\", \"gender\": 0, \"id\": 56270, \"job\": \"Second Film Editor\", \"name\": \"Stan Webb\"}, {\"credit_id\": \"5686da079251412e5201ea96\", \"department\": \"Production\", \"gender\": 2, \"id\": 57673, \"job\": \"Casting\", \"name\": \"Kevin Reher\"}, {\"credit_id\": \"5686d9ee9251417e63007d28\", \"department\": \"Production\", \"gender\": 2, \"id\": 61419, \"job\": \"Casting\", \"name\": \"Matthew Jon Beck\"}, {\"credit_id\": \"593a5a449251411eff00a33f\", \"department\": \"Writing\", \"gender\": 0, \"id\": 61747, \"job\": \"Story\", \"name\": \"Bruce Morris\"}, {\"credit_id\": \"5686da51c3a368607501f804\", \"department\": \"Production\", \"gender\": 0, \"id\": 72753, \"job\": \"Production Manager\", \"name\": \"Lindsey Collins\"}, {\"credit_id\": \"5564f4779251413549000022\", \"department\": \"Production\", \"gender\": 0, \"id\": 76590, \"job\": \"Associate Producer\", \"name\": \"Jinko Gotoh\"}, {\"credit_id\": \"5686dc5bc3a3684be901f315\", \"department\": \"Writing\", \"gender\": 0, \"id\": 225975, \"job\": \"Storyboard\", \"name\": \"Bosco Ng\"}, {\"credit_id\": \"571377e5c3a368663600648a\", \"department\": \"Crew\", \"gender\": 0, \"id\": 231202, \"job\": \"Supervising Animator\", \"name\": \"Dylan Brown\"}, {\"credit_id\": \"593a5cff9251411ef800a14f\", \"department\": \"Visual Effects\", \"gender\": 0, \"id\": 1092247, \"job\": \"Animation Director\", \"name\": \"Mark A. Walsh\"}, {\"credit_id\": \"5686dd969251417e63007db6\", \"department\": \"Crew\", \"gender\": 2, \"id\": 1122225, \"job\": \"Temp Music Editor\", \"name\": \"David Slusser\"}, {\"credit_id\": \"552c48659251413873000e0a\", \"department\": \"Visual Effects\", \"gender\": 0, \"id\": 1140576, \"job\": \"Animation\", \"name\": \"Michael Parks\"}, {\"credit_id\": \"5686d4e9c3a36860e9020172\", \"department\": \"Art\", \"gender\": 0, \"id\": 1211220, \"job\": \"Sculptor\", \"name\": \"Greg Dykstra\"}, {\"credit_id\": \"572e23d3c3a36869e6001a63\", \"department\": \"Writing\", \"gender\": 2, \"id\": 1236458, \"job\": \"Storyboard\", \"name\": \"Ronnie del Carmen\"}, {\"credit_id\": \"593a5aeec3a368235b009b39\", \"department\": \"Visual Effects\", \"gender\": 2, \"id\": 1260745, \"job\": \"Visual Development\", \"name\": \"Tony Fucile\"}, {\"credit_id\": \"593a57679251411eff00a0eb\", \"department\": \"Art\", \"gender\": 0, \"id\": 1303001, \"job\": \"Art Direction\", \"name\": \"Anthony Christov\"}, {\"credit_id\": \"593a5bd3c3a368231200979b\", \"department\": \"Visual Effects\", \"gender\": 0, \"id\": 1335873, \"job\": \"Visual Development\", \"name\": \"George Hull\"}, {\"credit_id\": \"587cef1c9251413f1b01bdca\", \"department\": \"Sound\", \"gender\": 0, \"id\": 1422411, \"job\": \"Foley Editor\", \"name\": \"Al Nelson\"}, {\"credit_id\": \"5686db93c3a3684be901f2fa\", \"department\": \"Sound\", \"gender\": 0, \"id\": 1425978, \"job\": \"Sound Re-Recording Mixer\", \"name\": \"Gary Summers\"}, {\"credit_id\": \"593a5c16c3a3682371009ee0\", \"department\": \"Visual Effects\", \"gender\": 0, \"id\": 1451236, \"job\": \"Visual Development\", \"name\": \"Bruce Zick\"}, {\"credit_id\": \"593a59ca9251411eff00a2ed\", \"department\": \"Writing\", \"gender\": 0, \"id\": 1457647, \"job\": \"Story\", \"name\": \"Joe Ekers\"}, {\"credit_id\": \"5686dd60c3a3684bcc021d20\", \"department\": \"Crew\", \"gender\": 0, \"id\": 1516156, \"job\": \"Second Film Editor\", \"name\": \"Kevin Nolting\"}, {\"credit_id\": \"593a5b18c3a3682320009f68\", \"department\": \"Visual Effects\", \"gender\": 0, \"id\": 1516157, \"job\": \"CG Painter\", \"name\": \"Bert Berry\"}, {\"credit_id\": \"593a60249251411eed00a4c2\", \"department\": \"Sound\", \"gender\": 0, \"id\": 1549209, \"job\": \"Orchestrator\", \"name\": \"Thomas Pasatieri\"}, {\"credit_id\": \"5686d961c3a3684bcc021c8c\", \"department\": \"Editing\", \"gender\": 0, \"id\": 1552873, \"job\": \"Color Timer\", \"name\": \"Terry Claborn\"}, {\"credit_id\": \"5686d5179251417e63007c8f\", \"department\": \"Camera\", \"gender\": 0, \"id\": 1556611, \"job\": \"Camera Technician\", \"name\": \"Cosmic Don\"}, {\"credit_id\": \"5686d8449251411334017141\", \"department\": \"Crew\", \"gender\": 0, \"id\": 1556615, \"job\": \"Production Office Assistant\", \"name\": \"Jon Darrell Handy\"}, {\"credit_id\": \"5686d99e92514169d000b914\", \"department\": \"Editing\", \"gender\": 0, \"id\": 1556629, \"job\": \"Editorial Production Assistant\", \"name\": \"Gregory Amundson\"}, {\"credit_id\": \"5686da32c3a3684be901f2bc\", \"department\": \"Production\", \"gender\": 0, \"id\": 1556631, \"job\": \"Production Accountant\", \"name\": \"Nephi Sanchez\"}, {\"credit_id\": \"587ceef69251413ecb01b911\", \"department\": \"Sound\", \"gender\": 0, \"id\": 1556632, \"job\": \"ADR Editor\", \"name\": \"Steve Slanec\"}, {\"credit_id\": \"5686db58c3a368227b015896\", \"department\": \"Sound\", \"gender\": 0, \"id\": 1556634, \"job\": \"Sound Editor\", \"name\": \"Kent Brown\"}, {\"credit_id\": \"5686ddeac3a3685f8900b1ee\", \"department\": \"Crew\", \"gender\": 0, \"id\": 1556635, \"job\": \"Photoscience Manager\", \"name\": \"James Burgess\"}, {\"credit_id\": \"5686e1ffc3a36836280081e0\", \"department\": \"Editing\", \"gender\": 0, \"id\": 1556647, \"job\": \"Editorial Coordinator\", \"name\": \"Noelle P. Case\"}, {\"credit_id\": \"587cef76925141414300e9b3\", \"department\": \"Visual Effects\", \"gender\": 0, \"id\": 1623548, \"job\": \"Character Designer\", \"name\": \"Dan Lee\"}, {\"credit_id\": \"593a5808c3a3682320009d13\", \"department\": \"Crew\", \"gender\": 0, \"id\": 1711831, \"job\": \"CG Supervisor\", \"name\": \"Jesse Hollander\"}, {\"credit_id\": \"593a5d5f9251411ee900a412\", \"department\": \"Visual Effects\", \"gender\": 0, \"id\": 1719095, \"job\": \"Fix Animator\", \"name\": \"Chris DiGiovanni\"}, {\"credit_id\": \"593a5e259251411ee900a48b\", \"department\": \"Camera\", \"gender\": 0, \"id\": 1742751, \"job\": \"Camera Technician\", \"name\": \"Jeff Wan\"}, {\"credit_id\": \"589212269251412dc20098a0\", \"department\": \"Crew\", \"gender\": 0, \"id\": 1748698, \"job\": \"Supervising Technical Director\", \"name\": \"Oren Jacob\"}, {\"credit_id\": \"593a5c0bc3a368232000a01d\", \"department\": \"Visual Effects\", \"gender\": 0, \"id\": 1759722, \"job\": \"Visual Development\", \"name\": \"Mark Whiting\"}, {\"credit_id\": \"593a57cc9251411ef3009fc3\", \"department\": \"Crew\", \"gender\": 0, \"id\": 1830788, \"job\": \"CG Supervisor\", \"name\": \"Lisa Forssel\"}, {\"credit_id\": \"593a57da9251411f0400a053\", \"department\": \"Crew\", \"gender\": 0, \"id\": 1830790, \"job\": \"CG Supervisor\", \"name\": \"Danielle Feinberg\"}, {\"credit_id\": \"593a58249251411f0400a089\", \"department\": \"Crew\", \"gender\": 0, \"id\": 1830791, \"job\": \"CG Supervisor\", \"name\": \"Michael Fong\"}, {\"credit_id\": \"593a58359251411f25009b37\", \"department\": \"Crew\", \"gender\": 0, \"id\": 1830793, \"job\": \"CG Supervisor\", \"name\": \"Michael Lorenzen\"}, {\"credit_id\": \"593a5bcac3a3682320009fe0\", \"department\": \"Visual Effects\", \"gender\": 0, \"id\": 1830810, \"job\": \"Visual Development\", \"name\": \"D.J. Cleland-Hura\"}, {\"credit_id\": \"593a5beec3a368235b009c05\", \"department\": \"Visual Effects\", \"gender\": 0, \"id\": 1830811, \"job\": \"Visual Development\", \"name\": \"Simon Varela\"}, {\"credit_id\": \"593a5cc6c3a368230500a4ad\", \"department\": \"Editing\", \"gender\": 0, \"id\": 1830812, \"job\": \"Editorial Production Assistant\", \"name\": \"Jacob Parsons\"}, {\"credit_id\": \"593a5eba9251411ee900a4eb\", \"department\": \"Crew\", \"gender\": 0, \"id\": 1830814, \"job\": \"Production Office Assistant\", \"name\": \"Peter T. Schreiber\"}]'}\n",
      "{'id': 13, 'budget': 55000000, 'genres': '[{\"id\": 35, \"name\": \"Comedy\"}, {\"id\": 18, \"name\": \"Drama\"}, {\"id\": 10749, \"name\": \"Romance\"}]', 'homepage': None, 'keywords': '[{\"id\": 422, \"name\": \"vietnam veteran\"}, {\"id\": 458, \"name\": \"hippie\"}, {\"id\": 791, \"name\": \"mentally disabled\"}, {\"id\": 795, \"name\": \"running\"}, {\"id\": 818, \"name\": \"based on novel\"}, {\"id\": 2956, \"name\": \"vietnam\"}, {\"id\": 2957, \"name\": \"vietnam war\"}, {\"id\": 6054, \"name\": \"friendship\"}, {\"id\": 9673, \"name\": \"love\"}, {\"id\": 10235, \"name\": \"family relationships\"}, {\"id\": 10624, \"name\": \"bully\"}, {\"id\": 157499, \"name\": \"mother son relationship\"}, {\"id\": 162365, \"name\": \"military\"}, {\"id\": 162934, \"name\": \"hugging\"}, {\"id\": 166980, \"name\": \"shrimping\"}, {\"id\": 180204, \"name\": \"wounded soldier\"}, {\"id\": 187844, \"name\": \"flashback\"}, {\"id\": 208143, \"name\": \"park bench\"}, {\"id\": 215492, \"name\": \"amputee\"}]', 'original_language': 'en', 'original_title': 'Forrest Gump', 'overview': \"A man with a low IQ has accomplished great things in his life and been present during significant historic events - in each case, far exceeding what anyone imagined he could do. Yet, despite all the things he has attained, his one true love eludes him. 'Forrest Gump' is the story of a man who rose above his challenges, and who proved that determination, courage, and love are more important than ability.\", 'popularity': 138.133331, 'production_companies': '[{\"name\": \"Paramount Pictures\", \"id\": 4}]', 'production_countries': '[{\"iso_3166_1\": \"US\", \"name\": \"United States of America\"}]', 'release_date': '1994-07-06', 'revenue': 677945399, 'runtime': 142.0, 'spoken_languages': '[{\"iso_639_1\": \"en\", \"name\": \"English\"}]', 'status': 'Released', 'tagline': \"The world will never be the same, once you've seen it through the eyes of Forrest Gump.\", 'title': 'Forrest Gump', 'vote_average': 8.2, 'vote_count': 7927, 'cast': '[{\"cast_id\": 7, \"character\": \"Forrest Gump\", \"credit_id\": \"52fe420ec3a36847f800074f\", \"gender\": 2, \"id\": 31, \"name\": \"Tom Hanks\", \"order\": 0}, {\"cast_id\": 8, \"character\": \"Jenny Curran\", \"credit_id\": \"52fe420ec3a36847f8000753\", \"gender\": 1, \"id\": 32, \"name\": \"Robin Wright\", \"order\": 1}, {\"cast_id\": 9, \"character\": \"Lt. Dan Taylor\", \"credit_id\": \"52fe420ec3a36847f8000757\", \"gender\": 2, \"id\": 33, \"name\": \"Gary Sinise\", \"order\": 2}, {\"cast_id\": 10, \"character\": \"Pvt. Benjamin Buford \\'Bubba\\' Blue\", \"credit_id\": \"52fe420ec3a36847f800075b\", \"gender\": 2, \"id\": 34, \"name\": \"Mykelti Williamson\", \"order\": 3}, {\"cast_id\": 11, \"character\": \"Mrs. Gump\", \"credit_id\": \"52fe420ec3a36847f800075f\", \"gender\": 1, \"id\": 35, \"name\": \"Sally Field\", \"order\": 4}, {\"cast_id\": 38, \"character\": \"Young Forrest Gump\", \"credit_id\": \"540b61f0c3a368799f001e2b\", \"gender\": 2, \"id\": 37821, \"name\": \"Michael Conner Humphreys\", \"order\": 5}, {\"cast_id\": 33, \"character\": \"Young Jenny Curran\", \"credit_id\": \"52fe420ec3a36847f8000785\", \"gender\": 1, \"id\": 204997, \"name\": \"Hanna Hall\", \"order\": 6}, {\"cast_id\": 25, \"character\": \"Forrest Gump Jr.\", \"credit_id\": \"52fe420ec3a36847f8000775\", \"gender\": 2, \"id\": 9640, \"name\": \"Haley Joel Osment\", \"order\": 7}, {\"cast_id\": 34, \"character\": \"School Bus Driver\", \"credit_id\": \"52fe420ec3a36847f8000789\", \"gender\": 1, \"id\": 6751, \"name\": \"Siobhan Fallon\", \"order\": 8}, {\"cast_id\": 35, \"character\": \"Drill Sergeant\", \"credit_id\": \"52fe420ec3a36847f800078d\", \"gender\": 2, \"id\": 37825, \"name\": \"Afemo Omilami\", \"order\": 9}, {\"cast_id\": 105, \"character\": \"Young Elvis Presley\", \"credit_id\": \"5517d886c3a36862ff003646\", \"gender\": 2, \"id\": 37822, \"name\": \"Peter Dobson\", \"order\": 10}, {\"cast_id\": 106, \"character\": \"College Football Coach\", \"credit_id\": \"5517d8dd9251412c1e001eb4\", \"gender\": 2, \"id\": 37823, \"name\": \"Sonny Shroyer\", \"order\": 11}, {\"cast_id\": 109, \"character\": \"Barber\", \"credit_id\": \"55d0c1f9c3a3681bf9008562\", \"gender\": 2, \"id\": 951881, \"name\": \"George Kelly\", \"order\": 12}, {\"cast_id\": 110, \"character\": \"Principal\", \"credit_id\": \"55d0c22bc3a36877570013ec\", \"gender\": 2, \"id\": 36221, \"name\": \"Sam Anderson\", \"order\": 13}, {\"cast_id\": 111, \"character\": \"Louise\", \"credit_id\": \"55d0c25c9251413193007a8c\", \"gender\": 0, \"id\": 1215432, \"name\": \"Margo Moorer\", \"order\": 14}, {\"cast_id\": 112, \"character\": \"Boy with cross\", \"credit_id\": \"55d0c33bc3a3681bf900857d\", \"gender\": 2, \"id\": 1019727, \"name\": \"Christopher Jones\", \"order\": 15}, {\"cast_id\": 113, \"character\": \"Jenny\\'s Father\", \"credit_id\": \"55d0c375c3a3685875004bfe\", \"gender\": 0, \"id\": 37832, \"name\": \"Kevin Mangan\", \"order\": 16}, {\"cast_id\": 114, \"character\": \"High School Football Coach\", \"credit_id\": \"55d0c3f19251412e51006c2c\", \"gender\": 2, \"id\": 29934, \"name\": \"Brett Rice\", \"order\": 17}, {\"cast_id\": 115, \"character\": \"Recruiter\", \"credit_id\": \"55d0c41cc3a3681567007ae7\", \"gender\": 2, \"id\": 14526, \"name\": \"Daniel C. Striepeke\", \"order\": 18}, {\"cast_id\": 116, \"character\": \"Newscaster\", \"credit_id\": \"55d0c44f92514131a5007b43\", \"gender\": 0, \"id\": 6310, \"name\": \"David Brisbin\", \"order\": 19}, {\"cast_id\": 117, \"character\": \"Earl\", \"credit_id\": \"55d0c46b9251413196007bab\", \"gender\": 2, \"id\": 154697, \"name\": \"Kirk Ward\", \"order\": 20}, {\"cast_id\": 180, \"character\": \"Bubba\\'s Mother\", \"credit_id\": \"586b9a9e9251415d240050cc\", \"gender\": 0, \"id\": 37831, \"name\": \"Marlena Smalls\", \"order\": 21}, {\"cast_id\": 179, \"character\": \"Bubba\\'s Great Grandmother\", \"credit_id\": \"586b9997c3a3685e99005614\", \"gender\": 1, \"id\": 37830, \"name\": \"Kitty K. Green\", \"order\": 22}, {\"cast_id\": 118, \"character\": \"Jenny\\'s date\", \"credit_id\": \"55d0c4ba9251413198007f86\", \"gender\": 2, \"id\": 975108, \"name\": \"Mark Matheisen\", \"order\": 23}, {\"cast_id\": 119, \"character\": \"Local Anchor #1\", \"credit_id\": \"55d0c4e8c3a3685875004c1e\", \"gender\": 2, \"id\": 129725, \"name\": \"Al Harrington\", \"order\": 24}, {\"cast_id\": 120, \"character\": \"President Kennedy (voice)\", \"credit_id\": \"55d0c51bc3a3681bee007a2f\", \"gender\": 0, \"id\": 37824, \"name\": \"Jed Gillin\", \"order\": 25}, {\"cast_id\": 121, \"character\": \"Army Recruiter\", \"credit_id\": \"55d0c5479251413196007bbc\", \"gender\": 2, \"id\": 1346510, \"name\": \"Don Fischer\", \"order\": 26}, {\"cast_id\": 122, \"character\": \"Barracks Recruit\", \"credit_id\": \"55d0c5b7c3a3681bee007a45\", \"gender\": 0, \"id\": 1088274, \"name\": \"Matt Wallace\", \"order\": 27}, {\"cast_id\": 123, \"character\": \"Club patron\", \"credit_id\": \"55d0c61dc3a3681bf90085ca\", \"gender\": 2, \"id\": 114326, \"name\": \"Mike Jolly\", \"order\": 28}, {\"cast_id\": 124, \"character\": \"Club patron\", \"credit_id\": \"55d0c642c3a3681bf90085ce\", \"gender\": 2, \"id\": 170051, \"name\": \"Michael Kemmerling\", \"order\": 29}, {\"cast_id\": 125, \"character\": \"Club patron\", \"credit_id\": \"55d0c672c3a3681bff007de9\", \"gender\": 0, \"id\": 95140, \"name\": \"John Voldstad\", \"order\": 30}, {\"cast_id\": 126, \"character\": \"Helicopter gunman\", \"credit_id\": \"55d0c6c69251412e51006c77\", \"gender\": 0, \"id\": 1446990, \"name\": \"Daniel J. Gillooly\", \"order\": 31}, {\"cast_id\": 127, \"character\": \"Cleveland\", \"credit_id\": \"55d0c7119251413198007faa\", \"gender\": 0, \"id\": 1401994, \"name\": \"Michael Burgess\", \"order\": 32}, {\"cast_id\": 128, \"character\": \"Tex\", \"credit_id\": \"55d0c72d9251413196007bec\", \"gender\": 0, \"id\": 1235787, \"name\": \"Steven Griffith\", \"order\": 33}, {\"cast_id\": 129, \"character\": \"Army Hospital Male Nurse\", \"credit_id\": \"55d0c777925141319f0081b0\", \"gender\": 2, \"id\": 163441, \"name\": \"Michael McFall\", \"order\": 34}, {\"cast_id\": 130, \"character\": \"Wounded soldier\", \"credit_id\": \"55d0c7c192514131a2007d80\", \"gender\": 2, \"id\": 163441, \"name\": \"Michael McFall\", \"order\": 35}, {\"cast_id\": 131, \"character\": \"Wounded soldier\", \"credit_id\": \"55d0c7dd92514142b40050ca\", \"gender\": 2, \"id\": 92658, \"name\": \"Byron Minns\", \"order\": 36}, {\"cast_id\": 132, \"character\": \"Hospital Officer\", \"credit_id\": \"55d0c807c3a3681567007b3f\", \"gender\": 2, \"id\": 81692, \"name\": \"Stephen Bridgewater\", \"order\": 37}, {\"cast_id\": 133, \"character\": \"President Johnson (voice)\", \"credit_id\": \"55d0c850c3a3681bee007a87\", \"gender\": 2, \"id\": 37827, \"name\": \"John William Galt\", \"order\": 38}, {\"cast_id\": 134, \"character\": \"Isabel\", \"credit_id\": \"55d0c872c3a3681567007b4f\", \"gender\": 0, \"id\": 1313819, \"name\": \"Isabel Rose\", \"order\": 39}, {\"cast_id\": 135, \"character\": \"Abbie Hoffman\", \"credit_id\": \"55d0c8ad9251413198007fca\", \"gender\": 0, \"id\": 1409948, \"name\": \"Richard D\\'Alessandro\", \"order\": 40}, {\"cast_id\": 136, \"character\": \"Black Panther\", \"credit_id\": \"55d0c8f592514142b40050e8\", \"gender\": 2, \"id\": 46921, \"name\": \"Michael Jace\", \"order\": 41}, {\"cast_id\": 137, \"character\": \"Wesley\", \"credit_id\": \"55d0c90d9251412e51006cb5\", \"gender\": 2, \"id\": 148122, \"name\": \"Geoffrey Blake\", \"order\": 42}, {\"cast_id\": 138, \"character\": \"Hollywood Boulevard Girlfriend\", \"credit_id\": \"55d0c94ac3a3685875004c80\", \"gender\": 1, \"id\": 406976, \"name\": \"Vanessa Roth\", \"order\": 43}, {\"cast_id\": 139, \"character\": \"Dick Cavett\", \"credit_id\": \"55d0c986c3a36877570014ac\", \"gender\": 2, \"id\": 10565, \"name\": \"Dick Cavett\", \"order\": 44}, {\"cast_id\": 140, \"character\": \"Carla\", \"credit_id\": \"55d0c9b99251413198007ff5\", \"gender\": 0, \"id\": 1405338, \"name\": \"Tiffany Salerno\", \"order\": 45}, {\"cast_id\": 141, \"character\": \"Lenore\", \"credit_id\": \"55d0c9db92514131a5007bdd\", \"gender\": 0, \"id\": 1405338, \"name\": \"Tiffany Salerno\", \"order\": 46}, {\"cast_id\": 142, \"character\": \"President Nixon (voice)\", \"credit_id\": \"55d0ca079251413193007b52\", \"gender\": 2, \"id\": 86434, \"name\": \"Joe Alaskey\", \"order\": 47}, {\"cast_id\": 143, \"character\": \"Discharge Officer\", \"credit_id\": \"55d0ca3a925141319f0081fe\", \"gender\": 0, \"id\": 1465241, \"name\": \"Lazarus Jackson\", \"order\": 48}, {\"cast_id\": 144, \"character\": \"Drugged Out Boyfriend\", \"credit_id\": \"55d0ca79925141319800800d\", \"gender\": 0, \"id\": 1465241, \"name\": \"Lazarus Jackson\", \"order\": 49}, {\"cast_id\": 145, \"character\": \"Elderly Southern Woman\", \"credit_id\": \"55d0caafc3a3684453006715\", \"gender\": 0, \"id\": 37828, \"name\": \"Nora Dunfee\", \"order\": 50}, {\"cast_id\": 146, \"character\": \"Waitress in cafe\", \"credit_id\": \"55d0caf1925141319f008210\", \"gender\": 0, \"id\": 1327149, \"name\": \"Hallie D\\'Amore\", \"order\": 51}, {\"cast_id\": 147, \"character\": \"Taxi Driver\", \"credit_id\": \"55d0cb2692514131a2007e06\", \"gender\": 2, \"id\": 37829, \"name\": \"Michael Mattison\", \"order\": 52}, {\"cast_id\": 148, \"character\": \"Aging Hippie\", \"credit_id\": \"55d0cb52c3a3681bf900865e\", \"gender\": 2, \"id\": 176329, \"name\": \"Charles Boswell\", \"order\": 53}, {\"cast_id\": 149, \"character\": \"Wild eyed man\", \"credit_id\": \"55d0cb769251413193007b8b\", \"gender\": 2, \"id\": 169643, \"name\": \"Timothy McNeil\", \"order\": 54}, {\"cast_id\": 178, \"character\": \"Crony\", \"credit_id\": \"57d2dfcdc3a3684297000c72\", \"gender\": 2, \"id\": 196855, \"name\": \"Bob Penny\", \"order\": 55}, {\"cast_id\": 150, \"character\": \"Football Player (uncredited)\", \"credit_id\": \"55d0cbfcc3a3681bff007e78\", \"gender\": 0, \"id\": 98873, \"name\": \"Greg Brown\", \"order\": 56}, {\"cast_id\": 151, \"character\": \"Cheerleader (uncredited)\", \"credit_id\": \"55d0cc289251413196007c9a\", \"gender\": 2, \"id\": 13204, \"name\": \"Troy Christian\", \"order\": 57}, {\"cast_id\": 152, \"character\": \"Football Coach (uncredited)\", \"credit_id\": \"55d0cc6cc3a3681567007bdc\", \"gender\": 2, \"id\": 84901, \"name\": \"Bryan Hanna\", \"order\": 58}, {\"cast_id\": 153, \"character\": \"Barracks Recruit (uncredited)\", \"credit_id\": \"55d0cc86c3a3685875004cda\", \"gender\": 0, \"id\": 1392671, \"name\": \"Zach Hanner\", \"order\": 59}, {\"cast_id\": 154, \"character\": \"National Guardsman (uncredited)\", \"credit_id\": \"55d0cca19251413193007bc1\", \"gender\": 0, \"id\": 1273540, \"name\": \"Aaron Michael Lacey\", \"order\": 60}, {\"cast_id\": 155, \"character\": \"Football Fan (uncredited)\", \"credit_id\": \"55d0ccbac3a3684453006766\", \"gender\": 1, \"id\": 42961, \"name\": \"Jacqueline Lovell\", \"order\": 61}, {\"cast_id\": 157, \"character\": \"Football Player (uncredited)\", \"credit_id\": \"55d0ccf292514142b400514f\", \"gender\": 0, \"id\": 1150593, \"name\": \"Brendan Shanahan\", \"order\": 63}, {\"cast_id\": 158, \"character\": \"Black Panther (uncredited)\", \"credit_id\": \"55d0cd07c3a3681bf00070ca\", \"gender\": 0, \"id\": 567126, \"name\": \"William Shipman\", \"order\": 64}, {\"cast_id\": 159, \"character\": \"Nicholas Katzenbach (uncredited)\", \"credit_id\": \"55d0cd2fc3a3681bf900869a\", \"gender\": 2, \"id\": 173277, \"name\": \"Robb Skyler\", \"order\": 65}, {\"cast_id\": 160, \"character\": \"Jenny\\'s Babysitter (uncredited)\", \"credit_id\": \"55d0cd4bc3a368445300677a\", \"gender\": 0, \"id\": 23967, \"name\": \"Mary Ellen Trainor\", \"order\": 66}]', 'crew': '[{\"credit_id\": \"52fe420ec3a36847f800076b\", \"department\": \"Sound\", \"gender\": 2, \"id\": 37, \"job\": \"Original Music Composer\", \"name\": \"Alan Silvestri\"}, {\"credit_id\": \"52fe420ec3a36847f800072d\", \"department\": \"Directing\", \"gender\": 2, \"id\": 24, \"job\": \"Director\", \"name\": \"Robert Zemeckis\"}, {\"credit_id\": \"5690606ac3a3686b5200066a\", \"department\": \"Writing\", \"gender\": 2, \"id\": 26, \"job\": \"Novel\", \"name\": \"Winston Groom\"}, {\"credit_id\": \"52fe420ec3a36847f8000781\", \"department\": \"Writing\", \"gender\": 2, \"id\": 27, \"job\": \"Screenplay\", \"name\": \"Eric Roth\"}, {\"credit_id\": \"52fe420ec3a36847f800073f\", \"department\": \"Production\", \"gender\": 1, \"id\": 28, \"job\": \"Producer\", \"name\": \"Wendy Finerman\"}, {\"credit_id\": \"52fe420ec3a36847f8000745\", \"department\": \"Production\", \"gender\": 2, \"id\": 29, \"job\": \"Producer\", \"name\": \"Steve Tisch\"}, {\"credit_id\": \"52fe420ec3a36847f800074b\", \"department\": \"Production\", \"gender\": 2, \"id\": 30, \"job\": \"Producer\", \"name\": \"Steve Starkey\"}, {\"credit_id\": \"52fe420ec3a36847f8000765\", \"department\": \"Camera\", \"gender\": 2, \"id\": 36, \"job\": \"Director of Photography\", \"name\": \"Don Burgess\"}, {\"credit_id\": \"52fe420ec3a36847f8000771\", \"department\": \"Editing\", \"gender\": 2, \"id\": 38, \"job\": \"Editor\", \"name\": \"Arthur Schmidt\"}, {\"credit_id\": \"5517d02dc3a36862f90034e1\", \"department\": \"Art\", \"gender\": 0, \"id\": 37832, \"job\": \"Greensman\", \"name\": \"Kevin Mangan\"}, {\"credit_id\": \"5517cc68925141150000071c\", \"department\": \"Art\", \"gender\": 2, \"id\": 496, \"job\": \"Production Design\", \"name\": \"Rick Carter\"}, {\"credit_id\": \"55850aa6c3a36850300022a7\", \"department\": \"Costume & Make-Up\", \"gender\": 1, \"id\": 498, \"job\": \"Costume Design\", \"name\": \"Joanna Johnston\"}, {\"credit_id\": \"5517ccb99251416efe0037c8\", \"department\": \"Art\", \"gender\": 1, \"id\": 555, \"job\": \"Set Decoration\", \"name\": \"Nancy Haigh\"}, {\"credit_id\": \"532ec355c3a3685fcb003d7a\", \"department\": \"Production\", \"gender\": 1, \"id\": 2242, \"job\": \"Casting\", \"name\": \"Ellen Lewis\"}, {\"credit_id\": \"5517d2b49251416f0d0038cb\", \"department\": \"Sound\", \"gender\": 0, \"id\": 3992, \"job\": \"Supervising Sound Editor\", \"name\": \"Gloria S. Borders\"}, {\"credit_id\": \"5517cec1c3a3686692001b78\", \"department\": \"Art\", \"gender\": 2, \"id\": 8794, \"job\": \"Assistant Art Director\", \"name\": \"Tony Fanning\"}, {\"credit_id\": \"57c0e2e5925141498f0054b0\", \"department\": \"Directing\", \"gender\": 0, \"id\": 10955, \"job\": \"Assistant Director\", \"name\": \"Cherylanne Martin\"}, {\"credit_id\": \"5517d1d39251411500000815\", \"department\": \"Sound\", \"gender\": 0, \"id\": 8160, \"job\": \"Foley\", \"name\": \"Dennie Thorpe\"}, {\"credit_id\": \"5517d09e9251412cb9001c5c\", \"department\": \"Art\", \"gender\": 2, \"id\": 8274, \"job\": \"Leadman\", \"name\": \"Robert Greenfield\"}, {\"credit_id\": \"5517cca39251412cb9001b85\", \"department\": \"Art\", \"gender\": 2, \"id\": 8679, \"job\": \"Art Direction\", \"name\": \"William James Teegarden\"}, {\"credit_id\": \"5517d5ce9251416f00003810\", \"department\": \"Crew\", \"gender\": 2, \"id\": 11113, \"job\": \"Second Unit Cinematographer\", \"name\": \"David M. Dunlap\"}, {\"credit_id\": \"5517ce5b9251411500000771\", \"department\": \"Art\", \"gender\": 2, \"id\": 11412, \"job\": \"Assistant Art Director\", \"name\": \"Steve Arnold\"}, {\"credit_id\": \"5517d59b9251412c1e001e45\", \"department\": \"Crew\", \"gender\": 2, \"id\": 14049, \"job\": \"Stunt Coordinator\", \"name\": \"Bud Davis\"}, {\"credit_id\": \"57576a439251414294000653\", \"department\": \"Directing\", \"gender\": 2, \"id\": 13930, \"job\": \"Assistant Director\", \"name\": \"Bruce Moriarty\"}, {\"credit_id\": \"5599ae44c3a3685f800025a3\", \"department\": \"Production\", \"gender\": 0, \"id\": 15004, \"job\": \"Co-Producer\", \"name\": \"Charles Newirth\"}, {\"credit_id\": \"5517d62fc3a3686692001cf7\", \"department\": \"Camera\", \"gender\": 2, \"id\": 18095, \"job\": \"Still Photographer\", \"name\": \"Phillip V. Caruso\"}, {\"credit_id\": \"5517cf4fc3a36862ff00347c\", \"department\": \"Crew\", \"gender\": 2, \"id\": 22486, \"job\": \"Property Master\", \"name\": \"Robin L. Miller\"}, {\"credit_id\": \"57530658c3a3684c1000067a\", \"department\": \"Editing\", \"gender\": 0, \"id\": 23781, \"job\": \"Assistant Editor\", \"name\": \"Jeremiah O\\'Driscoll\"}, {\"credit_id\": \"5517d4d99251412c1e001e15\", \"department\": \"Crew\", \"gender\": 2, \"id\": 23782, \"job\": \"Visual Effects Art Director\", \"name\": \"Doug Chiang\"}, {\"credit_id\": \"5517d298c3a3686692001c36\", \"department\": \"Sound\", \"gender\": 0, \"id\": 42267, \"job\": \"Sound Re-Recording Mixer\", \"name\": \"Randy Thom\"}, {\"credit_id\": \"5517d4f1c3a368155200007f\", \"department\": \"Visual Effects\", \"gender\": 0, \"id\": 42268, \"job\": \"Visual Effects Producer\", \"name\": \"Debbie Denise\"}, {\"credit_id\": \"5517d51dc3a3685cfa001b63\", \"department\": \"Crew\", \"gender\": 0, \"id\": 42268, \"job\": \"Visual Effects Editor\", \"name\": \"Debbie Denise\"}, {\"credit_id\": \"5517d57ec3a36863020034ad\", \"department\": \"Visual Effects\", \"gender\": 0, \"id\": 42269, \"job\": \"Visual Effects Supervisor\", \"name\": \"Ken Ralston\"}, {\"credit_id\": \"5517d6dc9251416f0d0039a1\", \"department\": \"Editing\", \"gender\": 0, \"id\": 42283, \"job\": \"First Assistant Editor\", \"name\": \"Carin-Anne Strohmaier\"}, {\"credit_id\": \"5517cc80c3a3686302003317\", \"department\": \"Art\", \"gender\": 1, \"id\": 23972, \"job\": \"Art Direction\", \"name\": \"Leslie McDonald\"}, {\"credit_id\": \"5517cd8f9251411500000749\", \"department\": \"Costume & Make-Up\", \"gender\": 0, \"id\": 26986, \"job\": \"Makeup Artist\", \"name\": \"Rick Sharp\"}, {\"credit_id\": \"5517d153c3a36862f9003518\", \"department\": \"Art\", \"gender\": 1, \"id\": 38022, \"job\": \"Set Designer\", \"name\": \"Lauren E. Polizzi\"}, {\"credit_id\": \"5517d0d19251416f0000370b\", \"department\": \"Art\", \"gender\": 2, \"id\": 41082, \"job\": \"Leadman\", \"name\": \"Chris L. Spellman\"}, {\"credit_id\": \"575769e7c3a36814ec0003f4\", \"department\": \"Crew\", \"gender\": 0, \"id\": 42358, \"job\": \"Post Production Supervisor\", \"name\": \"Steven J. Boyd\"}, {\"credit_id\": \"56905ffcc3a3686b5b00061b\", \"department\": \"Sound\", \"gender\": 0, \"id\": 55227, \"job\": \"Production Sound Mixer\", \"name\": \"William B. Kaplan\"}, {\"credit_id\": \"5517cd76c3a36862f9003472\", \"department\": \"Costume & Make-Up\", \"gender\": 0, \"id\": 74765, \"job\": \"Makeup Artist\", \"name\": \"Jay Cannistraci\"}, {\"credit_id\": \"57576ba092514142940006ae\", \"department\": \"Crew\", \"gender\": 0, \"id\": 82240, \"job\": \"Thanks\", \"name\": \"Lindsey Buckingham\"}, {\"credit_id\": \"5517cfc19251412b6d001c47\", \"department\": \"Crew\", \"gender\": 0, \"id\": 134930, \"job\": \"Property Master\", \"name\": \"Stephen I. Erdberg\"}, {\"credit_id\": \"56365c55c3a3681b5201aa43\", \"department\": \"Sound\", \"gender\": 0, \"id\": 175037, \"job\": \"ADR & Dubbing\", \"name\": \"Leigh French\"}, {\"credit_id\": \"5517d54cc3a3685cfa001b72\", \"department\": \"Crew\", \"gender\": 0, \"id\": 237398, \"job\": \"Visual Effects Editor\", \"name\": \"Michael McGovern\"}, {\"credit_id\": \"5517d5ff9251416f0a003867\", \"department\": \"Camera\", \"gender\": 0, \"id\": 1017376, \"job\": \"Camera Operator\", \"name\": \"Chris Squires\"}, {\"credit_id\": \"57576bc5c3a3686dfa0006a6\", \"department\": \"Crew\", \"gender\": 0, \"id\": 1041458, \"job\": \"Thanks\", \"name\": \"Robert J. Groden\"}, {\"credit_id\": \"57ce0d2d9251413db9002eb1\", \"department\": \"Costume & Make-Up\", \"gender\": 0, \"id\": 1178899, \"job\": \"Makeup Artist\", \"name\": \"Craig Lyman\"}, {\"credit_id\": \"5517d4689251416f0d003925\", \"department\": \"Crew\", \"gender\": 0, \"id\": 1271928, \"job\": \"CG Supervisor\", \"name\": \"George Murphy\"}, {\"credit_id\": \"5517d496c3a36862ef00368c\", \"department\": \"Crew\", \"gender\": 0, \"id\": 1271932, \"job\": \"CG Supervisor\", \"name\": \"Stephen Rosenbaum\"}, {\"credit_id\": \"5517d80cc3a3686692001d3c\", \"department\": \"Crew\", \"gender\": 0, \"id\": 1271933, \"job\": \"Unit Publicist\", \"name\": \"Jane E. Russell\"}, {\"credit_id\": \"5517d67ac3a36862ff0035e4\", \"department\": \"Costume & Make-Up\", \"gender\": 0, \"id\": 1323768, \"job\": \"Costume Supervisor\", \"name\": \"Pamela Wise\"}, {\"credit_id\": \"5517d13dc3a36862fc003309\", \"department\": \"Art\", \"gender\": 0, \"id\": 1325650, \"job\": \"Set Designer\", \"name\": \"Elizabeth Lapp\"}, {\"credit_id\": \"5517d65cc3a36862ff0035dc\", \"department\": \"Costume & Make-Up\", \"gender\": 0, \"id\": 1328406, \"job\": \"Costume Supervisor\", \"name\": \"Dan Bronson\"}, {\"credit_id\": \"5517cf23c3a36862fc0032ab\", \"department\": \"Art\", \"gender\": 0, \"id\": 1341851, \"job\": \"Construction Coordinator\", \"name\": \"Jeff Passanante\"}, {\"credit_id\": \"5517cd11c3a36862f6003256\", \"department\": \"Costume & Make-Up\", \"gender\": 0, \"id\": 1358074, \"job\": \"Hairstylist\", \"name\": \"Hazel Catmull\"}, {\"credit_id\": \"56e217cc9251417894000845\", \"department\": \"Visual Effects\", \"gender\": 0, \"id\": 1368867, \"job\": \"Special Effects Supervisor\", \"name\": \"Allen Hall\"}, {\"credit_id\": \"5693e3949251417b0800007c\", \"department\": \"Visual Effects\", \"gender\": 0, \"id\": 1386913, \"job\": \"Visual Effects\", \"name\": \"Greg Maloney\"}, {\"credit_id\": \"5517d10e9251412cb9001c71\", \"department\": \"Art\", \"gender\": 0, \"id\": 1389555, \"job\": \"Set Designer\", \"name\": \"James C. Feng\"}, {\"credit_id\": \"5517d7a49251412b6d001dc4\", \"department\": \"Production\", \"gender\": 0, \"id\": 1391604, \"job\": \"Location Manager\", \"name\": \"Peggy Pridemore\"}, {\"credit_id\": \"5517d7049251416f0d0039a7\", \"department\": \"Sound\", \"gender\": 2, \"id\": 1394306, \"job\": \"Music Editor\", \"name\": \"Kenneth Karman\"}, {\"credit_id\": \"5517d257c3a368155200000e\", \"department\": \"Sound\", \"gender\": 2, \"id\": 1399116, \"job\": \"Sound Effects Editor\", \"name\": \"Robert Shoup\"}, {\"credit_id\": \"5517d7209251416f0d0039aa\", \"department\": \"Crew\", \"gender\": 0, \"id\": 1399328, \"job\": \"Transportation Coordinator\", \"name\": \"Joel Marrow\"}, {\"credit_id\": \"5517d206c3a36862ff0034ff\", \"department\": \"Editing\", \"gender\": 0, \"id\": 1400813, \"job\": \"Dialogue Editor\", \"name\": \"Dianna Stirpe\"}, {\"credit_id\": \"5517d218c3a3686692001c1e\", \"department\": \"Editing\", \"gender\": 0, \"id\": 1400905, \"job\": \"Dialogue Editor\", \"name\": \"Ewa Sztompke\"}, {\"credit_id\": \"56d09381c3a3681e3c007491\", \"department\": \"Costume & Make-Up\", \"gender\": 0, \"id\": 1412188, \"job\": \"Hair Designer\", \"name\": \"Judith A. Cory\"}, {\"credit_id\": \"5517d280c3a36862ff003520\", \"department\": \"Sound\", \"gender\": 2, \"id\": 1413169, \"job\": \"Sound Re-Recording Mixer\", \"name\": \"Dennis S. Sands\"}, {\"credit_id\": \"5517d193c3a3685cfa001ab0\", \"department\": \"Sound\", \"gender\": 0, \"id\": 1413172, \"job\": \"ADR & Dubbing\", \"name\": \"Sue Fox\"}, {\"credit_id\": \"5517d6919251416efe003995\", \"department\": \"Costume & Make-Up\", \"gender\": 0, \"id\": 1413196, \"job\": \"Set Costumer\", \"name\": \"Patricia Bercsi\"}, {\"credit_id\": \"5517d23bc3a36862ff00350f\", \"department\": \"Sound\", \"gender\": 0, \"id\": 1415465, \"job\": \"Sound Effects Editor\", \"name\": \"E. Larry Oatfield\"}, {\"credit_id\": \"5517d7f19251412c1e001e95\", \"department\": \"Crew\", \"gender\": 0, \"id\": 1419114, \"job\": \"Dialect Coach\", \"name\": \"Jessica Drake\"}, {\"credit_id\": \"57576c7592514142880006a0\", \"department\": \"Directing\", \"gender\": 0, \"id\": 1434225, \"job\": \"Script Supervisor\", \"name\": \"Susan Malerstein\"}, {\"credit_id\": \"5517d1f0c3a3686692001c17\", \"department\": \"Editing\", \"gender\": 0, \"id\": 1438399, \"job\": \"Dialogue Editor\", \"name\": \"Claire Sanfilippo\"}, {\"credit_id\": \"5517cd379251416efe0037dd\", \"department\": \"Costume & Make-Up\", \"gender\": 0, \"id\": 1446985, \"job\": \"Hairstylist\", \"name\": \"William A. Kohout\"}, {\"credit_id\": \"5517cd579251412b6d001bcc\", \"department\": \"Costume & Make-Up\", \"gender\": 0, \"id\": 1446986, \"job\": \"Hairstylist\", \"name\": \"Susan Schuler-Page\"}, {\"credit_id\": \"5517cdfd9251412cb9001bd0\", \"department\": \"Art\", \"gender\": 0, \"id\": 1446987, \"job\": \"Art Department Coordinator\", \"name\": \"Kacy Magedman\"}, {\"credit_id\": \"5517ce1a9251416efe003806\", \"department\": \"Art\", \"gender\": 0, \"id\": 1446988, \"job\": \"Art Department Coordinator\", \"name\": \"Wendy Richardson\"}, {\"credit_id\": \"5517ce71c3a36862fc003287\", \"department\": \"Art\", \"gender\": 0, \"id\": 1446989, \"job\": \"Assistant Art Director\", \"name\": \"Linda Berger\"}, {\"credit_id\": \"5517cffd9251412cb9001c36\", \"department\": \"Art\", \"gender\": 0, \"id\": 1446990, \"job\": \"Greensman\", \"name\": \"Daniel J. Gillooly\"}, {\"credit_id\": \"5517d0129251416efe00385b\", \"department\": \"Art\", \"gender\": 0, \"id\": 1446991, \"job\": \"Greensman\", \"name\": \"Hugo Herrera\"}, {\"credit_id\": \"5517d0459251416f000036ef\", \"department\": \"Art\", \"gender\": 0, \"id\": 1446992, \"job\": \"Greensman\", \"name\": \"Dan Ondrejko\"}, {\"credit_id\": \"5517d0669251412b6d001c61\", \"department\": \"Art\", \"gender\": 0, \"id\": 1446993, \"job\": \"Leadman\", \"name\": \"Paige Augustine\"}, {\"credit_id\": \"5517d07f9251412c1e001d26\", \"department\": \"Art\", \"gender\": 0, \"id\": 1446994, \"job\": \"Leadman\", \"name\": \"Claire Gaul\"}, {\"credit_id\": \"5517d1299251416f0d003869\", \"department\": \"Art\", \"gender\": 0, \"id\": 1446995, \"job\": \"Set Designer\", \"name\": \"Erin Kemp\"}, {\"credit_id\": \"5517d1bbc3a36862ef0035f2\", \"department\": \"Sound\", \"gender\": 0, \"id\": 1446996, \"job\": \"Foley\", \"name\": \"Tom Barwick\"}, {\"credit_id\": \"5517d6a6c3a36862ff0035ee\", \"department\": \"Costume & Make-Up\", \"gender\": 0, \"id\": 1447007, \"job\": \"Set Costumer\", \"name\": \"Rudolph Garcia\"}, {\"credit_id\": \"5517d6bec3a36815520000b9\", \"department\": \"Costume & Make-Up\", \"gender\": 0, \"id\": 1447008, \"job\": \"Set Costumer\", \"name\": \"Stephen P. Shubin\"}, {\"credit_id\": \"5517d760c3a36862ff00360c\", \"department\": \"Crew\", \"gender\": 0, \"id\": 1447009, \"job\": \"Choreographer\", \"name\": \"Leslie Cook\"}, {\"credit_id\": \"5517d7bb9251416f0a0038ab\", \"department\": \"Production\", \"gender\": 0, \"id\": 1447010, \"job\": \"Location Manager\", \"name\": \"Amy Ness\"}, {\"credit_id\": \"5517d7d0c3a36862ef0036fb\", \"department\": \"Production\", \"gender\": 1, \"id\": 1447011, \"job\": \"Location Manager\", \"name\": \"Mary Morgan\"}, {\"credit_id\": \"57576a03c3a3686e0000060a\", \"department\": \"Crew\", \"gender\": 0, \"id\": 1477006, \"job\": \"Post Production Supervisor\", \"name\": \"Rick Porras\"}, {\"credit_id\": \"567eda28c3a3684c1d008842\", \"department\": \"Crew\", \"gender\": 2, \"id\": 1521392, \"job\": \"Special Effects\", \"name\": \"Joe Montenegro\"}, {\"credit_id\": \"5681e33f9251417def012888\", \"department\": \"Camera\", \"gender\": 0, \"id\": 1555028, \"job\": \"Additional Photography\", \"name\": \"Bobby Mancuso\"}]'}\n",
      "{'id': 14, 'budget': 15000000, 'genres': '[{\"id\": 18, \"name\": \"Drama\"}]', 'homepage': 'http://www.dreamworks.com/ab/', 'keywords': '[{\"id\": 255, \"name\": \"male nudity\"}, {\"id\": 293, \"name\": \"female nudity\"}, {\"id\": 596, \"name\": \"adultery\"}, {\"id\": 1599, \"name\": \"midlife crisis\"}, {\"id\": 1862, \"name\": \"coming out\"}, {\"id\": 2201, \"name\": \"first time\"}, {\"id\": 2249, \"name\": \"camcorder\"}, {\"id\": 2389, \"name\": \"virgin\"}, {\"id\": 2483, \"name\": \"nudity\"}, {\"id\": 2559, \"name\": \"film maker\"}, {\"id\": 2918, \"name\": \"estate agent\"}, {\"id\": 8201, \"name\": \"satire\"}, {\"id\": 9957, \"name\": \"loneliness\"}, {\"id\": 10123, \"name\": \"dark comedy\"}, {\"id\": 10532, \"name\": \"suburbia\"}, {\"id\": 10683, \"name\": \"coming of age\"}, {\"id\": 10776, \"name\": \"marijuana\"}, {\"id\": 33611, \"name\": \"exercise\"}, {\"id\": 166123, \"name\": \"parent child relationship\"}, {\"id\": 224279, \"name\": \"bittersweet\"}, {\"id\": 229299, \"name\": \"affair\"}]', 'original_language': 'en', 'original_title': 'American Beauty', 'overview': \"Lester Burnham, a depressed suburban father in a mid-life crisis, decides to turn his hectic life around after developing an infatuation with his daughter's attractive friend.\", 'popularity': 80.878605, 'production_companies': '[{\"name\": \"DreamWorks SKG\", \"id\": 27}, {\"name\": \"Jinks/Cohen Company\", \"id\": 2721}]', 'production_countries': '[{\"iso_3166_1\": \"US\", \"name\": \"United States of America\"}]', 'release_date': '1999-09-15', 'revenue': 356296601, 'runtime': 122.0, 'spoken_languages': '[{\"iso_639_1\": \"en\", \"name\": \"English\"}]', 'status': 'Released', 'tagline': 'Look closer.', 'title': 'American Beauty', 'vote_average': 7.9, 'vote_count': 3313, 'cast': '[{\"cast_id\": 6, \"character\": \"Lester Burnham\", \"credit_id\": \"52fe420ec3a36847f80007db\", \"gender\": 2, \"id\": 1979, \"name\": \"Kevin Spacey\", \"order\": 0}, {\"cast_id\": 3, \"character\": \"Carolyn Burnham\", \"credit_id\": \"52fe420ec3a36847f80007cf\", \"gender\": 1, \"id\": 516, \"name\": \"Annette Bening\", \"order\": 1}, {\"cast_id\": 5, \"character\": \"Jane Burnham\", \"credit_id\": \"52fe420ec3a36847f80007d7\", \"gender\": 1, \"id\": 2155, \"name\": \"Thora Birch\", \"order\": 2}, {\"cast_id\": 7, \"character\": \"Ricky Fitts\", \"credit_id\": \"52fe420ec3a36847f80007df\", \"gender\": 2, \"id\": 8210, \"name\": \"Wes Bentley\", \"order\": 3}, {\"cast_id\": 8, \"character\": \"Angela Hayes\", \"credit_id\": \"52fe420ec3a36847f80007e3\", \"gender\": 1, \"id\": 8211, \"name\": \"Mena Suvari\", \"order\": 4}, {\"cast_id\": 9, \"character\": \"Colonel Frank Fitts\", \"credit_id\": \"52fe420ec3a36847f80007e7\", \"gender\": 2, \"id\": 2955, \"name\": \"Chris Cooper\", \"order\": 5}, {\"cast_id\": 4, \"character\": \"Jim Olmeyer\", \"credit_id\": \"52fe420ec3a36847f80007d3\", \"gender\": 2, \"id\": 2154, \"name\": \"Scott Bakula\", \"order\": 6}, {\"cast_id\": 10, \"character\": \"Buddy Kane\", \"credit_id\": \"52fe420ec3a36847f80007eb\", \"gender\": 2, \"id\": 8212, \"name\": \"Peter Gallagher\", \"order\": 7}, {\"cast_id\": 11, \"character\": \"Barbara Fitts\", \"credit_id\": \"52fe420ec3a36847f80007ef\", \"gender\": 1, \"id\": 19, \"name\": \"Allison Janney\", \"order\": 8}, {\"cast_id\": 12, \"character\": \"Jim Berkley\", \"credit_id\": \"52fe420ec3a36847f80007f3\", \"gender\": 2, \"id\": 8213, \"name\": \"Sam Robards\", \"order\": 9}, {\"cast_id\": 13, \"character\": \"Brad Dupree\", \"credit_id\": \"52fe420ec3a36847f80007f7\", \"gender\": 2, \"id\": 8214, \"name\": \"Barry Del Sherman\", \"order\": 10}, {\"cast_id\": 29, \"character\": \"Sale House Man #1\", \"credit_id\": \"55c23f1b9251413df1000167\", \"gender\": 2, \"id\": 68842, \"name\": \"John Cho\", \"order\": 11}, {\"cast_id\": 117, \"character\": \"Sale House Man #2\", \"credit_id\": \"579b6c6dc3a36811610030c1\", \"gender\": 2, \"id\": 1658382, \"name\": \"Hal Fort Atkinson\", \"order\": 12}, {\"cast_id\": 32, \"character\": \"Sale House Man #3\", \"credit_id\": \"55c23f6e9251413de80001a6\", \"gender\": 2, \"id\": 9634, \"name\": \"Kent Faulcon\", \"order\": 13}, {\"cast_id\": 25, \"character\": \"Sale House Woman #1\", \"credit_id\": \"549729c6c3a3686ae9006c28\", \"gender\": 1, \"id\": 64189, \"name\": \"Ara Celi\", \"order\": 14}, {\"cast_id\": 31, \"character\": \"Sale House Woman #2\", \"credit_id\": \"55c23f589251413de100019e\", \"gender\": 1, \"id\": 166961, \"name\": \"Sue Casey\", \"order\": 15}, {\"cast_id\": 33, \"character\": \"Sale House Woman #3\", \"credit_id\": \"55c23fc1c3a36842dd000190\", \"gender\": 1, \"id\": 1397945, \"name\": \"Brenda Wehle\", \"order\": 16}, {\"cast_id\": 34, \"character\": \"Sale House Woman #4\", \"credit_id\": \"55c23fe2c3a36842e90001d9\", \"gender\": 1, \"id\": 152796, \"name\": \"Lisa Cloud\", \"order\": 17}, {\"cast_id\": 36, \"character\": \"Christy Kane\", \"credit_id\": \"55c2407c9251413dee00018e\", \"gender\": 1, \"id\": 42715, \"name\": \"Amber Smith\", \"order\": 18}, {\"cast_id\": 37, \"character\": \"Catering Boss\", \"credit_id\": \"55c240bcc3a36842f3000204\", \"gender\": 2, \"id\": 12223, \"name\": \"Joel McCrary\", \"order\": 19}, {\"cast_id\": 38, \"character\": \"Mr. Smiley\\'s Counter Girl (Janine)\", \"credit_id\": \"55c240ddc3a36842e3000182\", \"gender\": 1, \"id\": 76742, \"name\": \"Marissa Jaret Winokur\", \"order\": 20}, {\"cast_id\": 39, \"character\": \"Mr. Smiley\\'s Manager\", \"credit_id\": \"55c240f6c3a36842f300020a\", \"gender\": 0, \"id\": 1441804, \"name\": \"Dennis Anderson\", \"order\": 21}, {\"cast_id\": 40, \"character\": \"Firing Range Attendant\", \"credit_id\": \"55c24111c3a36842f50001e2\", \"gender\": 2, \"id\": 177623, \"name\": \"Matthew Kimbrough\", \"order\": 22}, {\"cast_id\": 26, \"character\": \"Young Jane\", \"credit_id\": \"551cbac99251416a21001742\", \"gender\": 0, \"id\": 1448568, \"name\": \"Erin Cathryn Strubbe\", \"order\": 23}, {\"cast_id\": 35, \"character\": \"Spartanette #1\", \"credit_id\": \"55c240029251413de80001c5\", \"gender\": 1, \"id\": 101687, \"name\": \"Alison Faulk\", \"order\": 25}, {\"cast_id\": 42, \"character\": \"Spartanette #2\", \"credit_id\": \"55e52dcc92514137970010b7\", \"gender\": 0, \"id\": 1503019, \"name\": \"Krista Goodsitt\", \"order\": 26}, {\"cast_id\": 43, \"character\": \"Spartanette #3\", \"credit_id\": \"55e52dccc3a36813f2001196\", \"gender\": 1, \"id\": 1503020, \"name\": \"Lily Houtkin\", \"order\": 27}, {\"cast_id\": 44, \"character\": \"Spartanette #4\", \"credit_id\": \"55e52dcc92514137a8001157\", \"gender\": 1, \"id\": 1503021, \"name\": \"Carolina Lancaster\", \"order\": 28}, {\"cast_id\": 45, \"character\": \"Spartanette #5\", \"credit_id\": \"55e52dcdc3a36813eb001157\", \"gender\": 1, \"id\": 1503022, \"name\": \"Mona Leah\", \"order\": 29}, {\"cast_id\": 46, \"character\": \"Spartanette #6\", \"credit_id\": \"55e52dcdc3a36813f6000f1f\", \"gender\": 1, \"id\": 1503023, \"name\": \"Chekesha Van Putten\", \"order\": 30}, {\"cast_id\": 47, \"character\": \"Spartanette #7\", \"credit_id\": \"55e52dcdc3a36813eb00115c\", \"gender\": 1, \"id\": 1503024, \"name\": \"Emily Zachary\", \"order\": 31}, {\"cast_id\": 56, \"character\": \"Spartanette #8\", \"credit_id\": \"55e52e10c3a36813f20011af\", \"gender\": 1, \"id\": 1503030, \"name\": \"Nancy Anderson\", \"order\": 32}, {\"cast_id\": 48, \"character\": \"Spartanette #9\", \"credit_id\": \"55e52dce92514137a00011ec\", \"gender\": 1, \"id\": 568656, \"name\": \"Reshma Gajjar\", \"order\": 33}, {\"cast_id\": 49, \"character\": \"Spartanette #10\", \"credit_id\": \"55e52dcec3a36813f6000f24\", \"gender\": 1, \"id\": 1503025, \"name\": \"Stephanie Rizzo\", \"order\": 34}, {\"cast_id\": 50, \"character\": \"Playground Girl #1\", \"credit_id\": \"55e52dce92514137a600112b\", \"gender\": 1, \"id\": 1503026, \"name\": \"Heather Joy Sher\", \"order\": 35}, {\"cast_id\": 51, \"character\": \"Playground Girl #2\", \"credit_id\": \"55e52dcfc3a36814080012c3\", \"gender\": 1, \"id\": 1219143, \"name\": \"Chelsea Hertford\", \"order\": 36}, {\"cast_id\": 52, \"character\": \"Newscaster (uncredited)\", \"credit_id\": \"55e52dcf925141379d001124\", \"gender\": 1, \"id\": 1503027, \"name\": \"Elaine Corral Kendall\", \"order\": 37}, {\"cast_id\": 53, \"character\": \"Wedding Guest (uncredited)\", \"credit_id\": \"55e52dcfc3a36813f200119b\", \"gender\": 2, \"id\": 1503028, \"name\": \"David C. Fisher\", \"order\": 38}, {\"cast_id\": 54, \"character\": \"Advertising Executive (uncredited)\", \"credit_id\": \"55e52dcf92514137a800115c\", \"gender\": 2, \"id\": 1503029, \"name\": \"Tom Miller\", \"order\": 39}, {\"cast_id\": 118, \"character\": \"Bartender (uncredited)\", \"credit_id\": \"579b736b9251414779002262\", \"gender\": 2, \"id\": 8215, \"name\": \"Bruce Cohen\", \"order\": 41}]', 'crew': '[{\"credit_id\": \"52fe420ec3a36847f8000809\", \"department\": \"Sound\", \"gender\": 2, \"id\": 153, \"job\": \"Original Music Composer\", \"name\": \"Thomas Newman\"}, {\"credit_id\": \"52fe420ec3a36847f80007c5\", \"department\": \"Directing\", \"gender\": 2, \"id\": 39, \"job\": \"Director\", \"name\": \"Sam Mendes\"}, {\"credit_id\": \"52fe420ec3a36847f80007cb\", \"department\": \"Writing\", \"gender\": 2, \"id\": 2152, \"job\": \"Author\", \"name\": \"Alan Ball\"}, {\"credit_id\": \"52fe420ec3a36847f8000839\", \"department\": \"Writing\", \"gender\": 2, \"id\": 2152, \"job\": \"Screenplay\", \"name\": \"Alan Ball\"}, {\"credit_id\": \"5573217ec3a3686b7d00192f\", \"department\": \"Production\", \"gender\": 2, \"id\": 2152, \"job\": \"Co-Producer\", \"name\": \"Alan Ball\"}, {\"credit_id\": \"52fe420ec3a36847f80007fd\", \"department\": \"Production\", \"gender\": 2, \"id\": 8215, \"job\": \"Producer\", \"name\": \"Bruce Cohen\"}, {\"credit_id\": \"52fe420ec3a36847f8000803\", \"department\": \"Production\", \"gender\": 2, \"id\": 8216, \"job\": \"Producer\", \"name\": \"Dan Jinks\"}, {\"credit_id\": \"52fe420ec3a36847f800080f\", \"department\": \"Camera\", \"gender\": 0, \"id\": 8217, \"job\": \"Director of Photography\", \"name\": \"Conrad L. Hall\"}, {\"credit_id\": \"52fe420ec3a36847f8000815\", \"department\": \"Editing\", \"gender\": 2, \"id\": 7414, \"job\": \"Editor\", \"name\": \"Christopher Greenbury\"}, {\"credit_id\": \"52fe420ec3a36847f800081b\", \"department\": \"Editing\", \"gender\": 2, \"id\": 8219, \"job\": \"Editor\", \"name\": \"Tariq Anwar\"}, {\"credit_id\": \"52fe420ec3a36847f8000821\", \"department\": \"Production\", \"gender\": 1, \"id\": 495, \"job\": \"Casting\", \"name\": \"Debra Zane\"}, {\"credit_id\": \"5674285c9251412daf002f47\", \"department\": \"Art\", \"gender\": 1, \"id\": 8220, \"job\": \"Production Design\", \"name\": \"Naomi Shohan\"}, {\"credit_id\": \"52fe420ec3a36847f800082d\", \"department\": \"Art\", \"gender\": 2, \"id\": 8221, \"job\": \"Art Direction\", \"name\": \"David Lazan\"}, {\"credit_id\": \"52fe420ec3a36847f8000833\", \"department\": \"Costume & Make-Up\", \"gender\": 1, \"id\": 8222, \"job\": \"Costume Design\", \"name\": \"Julie Weiss\"}, {\"credit_id\": \"5750676ac3a36840c600120b\", \"department\": \"Production\", \"gender\": 1, \"id\": 494, \"job\": \"Casting\", \"name\": \"Terri Taylor\"}, {\"credit_id\": \"57506835c3a36840c6001223\", \"department\": \"Crew\", \"gender\": 1, \"id\": 2227, \"job\": \"Thanks\", \"name\": \"Nicole Kidman\"}, {\"credit_id\": \"56742d41c3a3685edc0022ef\", \"department\": \"Sound\", \"gender\": 2, \"id\": 3193, \"job\": \"Supervising Sound Editor\", \"name\": \"Scott Martin Gershin\"}, {\"credit_id\": \"56742c94c3a3685ee700246d\", \"department\": \"Editing\", \"gender\": 2, \"id\": 6048, \"job\": \"Dialogue Editor\", \"name\": \"Mark Gordon\"}, {\"credit_id\": \"56742b129251412db40026cf\", \"department\": \"Sound\", \"gender\": 2, \"id\": 7538, \"job\": \"Music Editor\", \"name\": \"Bill Bernstein\"}, {\"credit_id\": \"575065b6c3a3686c24000c96\", \"department\": \"Crew\", \"gender\": 1, \"id\": 8532, \"job\": \"Post Production Supervisor\", \"name\": \"Lisa Dennis Kennedy\"}, {\"credit_id\": \"56742ce69251414dee0000af\", \"department\": \"Sound\", \"gender\": 0, \"id\": 15331, \"job\": \"Sound Effects Editor\", \"name\": \"Bryan Bowen\"}, {\"credit_id\": \"56742914c3a3685ee20023b0\", \"department\": \"Crew\", \"gender\": 2, \"id\": 16498, \"job\": \"Special Effects Coordinator\", \"name\": \"John Hartigan\"}, {\"credit_id\": \"5674286ec3a3685ee200239d\", \"department\": \"Art\", \"gender\": 1, \"id\": 19309, \"job\": \"Set Decoration\", \"name\": \"Jan K. Bergstrom\"}, {\"credit_id\": \"567428dd9251414dee000022\", \"department\": \"Art\", \"gender\": 0, \"id\": 35760, \"job\": \"Assistant Art Director\", \"name\": \"Catherine Smith\"}, {\"credit_id\": \"56742a0292514133e50002ca\", \"department\": \"Crew\", \"gender\": 2, \"id\": 37925, \"job\": \"Second Unit Cinematographer\", \"name\": \"Conrad W. Hall\"}, {\"credit_id\": \"57506797c3a3686b96000e4b\", \"department\": \"Crew\", \"gender\": 2, \"id\": 47098, \"job\": \"Thanks\", \"name\": \"Pete Townshend\"}, {\"credit_id\": \"5573218bc3a3687094001bc3\", \"department\": \"Production\", \"gender\": 2, \"id\": 51689, \"job\": \"Co-Producer\", \"name\": \"Stan Wlodkowski\"}, {\"credit_id\": \"56742e31c3a3685ef100233f\", \"department\": \"Editing\", \"gender\": 2, \"id\": 55985, \"job\": \"First Assistant Editor\", \"name\": \"Tracey Wadmore-Smith\"}, {\"credit_id\": \"567429edc3a3685ef10022c9\", \"department\": \"Crew\", \"gender\": 0, \"id\": 73667, \"job\": \"Second Unit Cinematographer\", \"name\": \"David Golia\"}, {\"credit_id\": \"56742dac9251414dee0000cb\", \"department\": \"Costume & Make-Up\", \"gender\": 0, \"id\": 74323, \"job\": \"Makeup Artist\", \"name\": \"Tania McComas\"}, {\"credit_id\": \"58c9734792514107d3001dde\", \"department\": \"Production\", \"gender\": 1, \"id\": 74536, \"job\": \"Production Coordinator\", \"name\": \"Christa Vausbinder\"}, {\"credit_id\": \"589b9a60c3a3687e510008a4\", \"department\": \"Sound\", \"gender\": 0, \"id\": 75797, \"job\": \"ADR Supervisor\", \"name\": \"Trevor Jolly\"}, {\"credit_id\": \"56742a59c3a3685edc002290\", \"department\": \"Camera\", \"gender\": 0, \"id\": 82169, \"job\": \"Camera Operator\", \"name\": \"Geoffrey Haley\"}, {\"credit_id\": \"56742d939251412dbb002578\", \"department\": \"Costume & Make-Up\", \"gender\": 0, \"id\": 83066, \"job\": \"Key Hair Stylist\", \"name\": \"Carol A. O\\'Connell\"}, {\"credit_id\": \"56742b9fc3a3685ee500273f\", \"department\": \"Production\", \"gender\": 0, \"id\": 91173, \"job\": \"Researcher\", \"name\": \"Deborah Ricketts\"}, {\"credit_id\": \"56742a8c9251412daf002f93\", \"department\": \"Camera\", \"gender\": 2, \"id\": 108146, \"job\": \"First Assistant Camera\", \"name\": \"Clyde E. Bryan\"}, {\"credit_id\": \"56742b58c3a3685ee20023f2\", \"department\": \"Sound\", \"gender\": 0, \"id\": 120695, \"job\": \"Music Supervisor\", \"name\": \"Chris Douridas\"}, {\"credit_id\": \"56742be6c3a3685eeb0025c0\", \"department\": \"Crew\", \"gender\": 1, \"id\": 129193, \"job\": \"Choreographer\", \"name\": \"Paula Abdul\"}, {\"credit_id\": \"57506690c3a3681f8e001632\", \"department\": \"Crew\", \"gender\": 2, \"id\": 237920, \"job\": \"Utility Stunts\", \"name\": \"Phil Culotta\"}, {\"credit_id\": \"589b991dc3a3687e4b0010f5\", \"department\": \"Crew\", \"gender\": 0, \"id\": 484529, \"job\": \"Set Production Assistant\", \"name\": \"Mike Piccirillo\"}, {\"credit_id\": \"56742caa9251412daf002fce\", \"department\": \"Sound\", \"gender\": 0, \"id\": 548439, \"job\": \"Foley\", \"name\": \"James Moriana\"}, {\"credit_id\": \"56742cbec3a3685edc0022e4\", \"department\": \"Sound\", \"gender\": 0, \"id\": 548445, \"job\": \"Foley\", \"name\": \"Jeffrey Wilhoit\"}, {\"credit_id\": \"567ed8da9251414d98000953\", \"department\": \"Sound\", \"gender\": 0, \"id\": 548446, \"job\": \"Foley\", \"name\": \"Greg Zimmerman\"}, {\"credit_id\": \"56742a719251412daf002f8a\", \"department\": \"Camera\", \"gender\": 0, \"id\": 589974, \"job\": \"Still Photographer\", \"name\": \"Lorey Sebastian\"}, {\"credit_id\": \"573272a1c3a3686950000467\", \"department\": \"Sound\", \"gender\": 0, \"id\": 950773, \"job\": \"ADR & Dubbing\", \"name\": \"Jackie Gonneau\"}, {\"credit_id\": \"56742e1bc3a3685edc002309\", \"department\": \"Editing\", \"gender\": 2, \"id\": 993536, \"job\": \"First Assistant Editor\", \"name\": \"Larry Madaras\"}, {\"credit_id\": \"575066349251417a2a0029ea\", \"department\": \"Directing\", \"gender\": 2, \"id\": 1002623, \"job\": \"Assistant Director\", \"name\": \"Tony Adler\"}, {\"credit_id\": \"589b9533c3a3687e540005ea\", \"department\": \"Art\", \"gender\": 0, \"id\": 1096860, \"job\": \"Standby Painter\", \"name\": \"Christian Zimmermann\"}, {\"credit_id\": \"56d9d126c3a3681e3c0263b1\", \"department\": \"Production\", \"gender\": 0, \"id\": 1121874, \"job\": \"Unit Production Manager\", \"name\": \"Cristen Carr Strubbe\"}, {\"credit_id\": \"57d829c9c3a36841470000f1\", \"department\": \"Lighting\", \"gender\": 0, \"id\": 1181576, \"job\": \"Electrician\", \"name\": \"Ross Dunkerley\"}, {\"credit_id\": \"56742aaf9251412dbb002523\", \"department\": \"Costume & Make-Up\", \"gender\": 0, \"id\": 1203910, \"job\": \"Assistant Costume Designer\", \"name\": \"Marcy Grace Froehlich\"}, {\"credit_id\": \"56742dc3c3a3685ede002875\", \"department\": \"Costume & Make-Up\", \"gender\": 0, \"id\": 1319166, \"job\": \"Makeup Artist\", \"name\": \"Julie Hewett\"}, {\"credit_id\": \"56742cfd9251412dbb002564\", \"department\": \"Sound\", \"gender\": 0, \"id\": 1334485, \"job\": \"Sound Effects Editor\", \"name\": \"Alan Rankin\"}, {\"credit_id\": \"589b9873925141676b000764\", \"department\": \"Crew\", \"gender\": 0, \"id\": 1339462, \"job\": \"Driver\", \"name\": \"Jeff Couch\"}, {\"credit_id\": \"56742b8cc3a3685ef1002303\", \"department\": \"Directing\", \"gender\": 1, \"id\": 1341865, \"job\": \"Script Supervisor\", \"name\": \"Ana Maria Quintana\"}, {\"credit_id\": \"589b9a6f9251416774000878\", \"department\": \"Sound\", \"gender\": 0, \"id\": 1342654, \"job\": \"Boom Operator\", \"name\": \"Carl Fischer\"}, {\"credit_id\": \"56742d29c3a3685eeb0025e6\", \"department\": \"Sound\", \"gender\": 0, \"id\": 1345595, \"job\": \"Sound Re-Recording Mixer\", \"name\": \"Scott Millan\"}, {\"credit_id\": \"567428f59251412db10022ef\", \"department\": \"Art\", \"gender\": 0, \"id\": 1378222, \"job\": \"Construction Coordinator\", \"name\": \"Joe Ondrejko\"}, {\"credit_id\": \"56742af8c3a3685ee700244a\", \"department\": \"Costume & Make-Up\", \"gender\": 0, \"id\": 1387259, \"job\": \"Set Costumer\", \"name\": \"Kanani Wolf\"}, {\"credit_id\": \"56742d14c3a3685ede00285a\", \"department\": \"Sound\", \"gender\": 2, \"id\": 1391571, \"job\": \"Sound Re-Recording Mixer\", \"name\": \"Bob Beemer\"}, {\"credit_id\": \"589b951b92514167650005c9\", \"department\": \"Art\", \"gender\": 1, \"id\": 1392895, \"job\": \"Set Designer\", \"name\": \"Andrea Dopaso\"}, {\"credit_id\": \"56742ae4c3a3685ee7002446\", \"department\": \"Costume & Make-Up\", \"gender\": 0, \"id\": 1398176, \"job\": \"Set Costumer\", \"name\": \"Alix Hester\"}, {\"credit_id\": \"5674297dc3a3685ee5002701\", \"department\": \"Visual Effects\", \"gender\": 0, \"id\": 1399063, \"job\": \"Visual Effects Supervisor\", \"name\": \"Rob Hodgson\"}, {\"credit_id\": \"57d2f464c3a368427c001896\", \"department\": \"Crew\", \"gender\": 0, \"id\": 1401117, \"job\": \"Unit Publicist\", \"name\": \"David Linck\"}, {\"credit_id\": \"567429659251414dee000034\", \"department\": \"Visual Effects\", \"gender\": 0, \"id\": 1404846, \"job\": \"Visual Effects Producer\", \"name\": \"Jonathan F. Styrlund\"}, {\"credit_id\": \"567429d69251412db40026ae\", \"department\": \"Lighting\", \"gender\": 0, \"id\": 1408285, \"job\": \"Rigging Gaffer\", \"name\": \"Huston Beaumont\"}, {\"credit_id\": \"589b9a8792514167620007fd\", \"department\": \"Sound\", \"gender\": 0, \"id\": 1412702, \"job\": \"First Assistant Sound Editor\", \"name\": \"Thomas O\\'Neil Younkman\"}, {\"credit_id\": \"56742951c3a3685ee20023b3\", \"department\": \"Visual Effects\", \"gender\": 0, \"id\": 1413100, \"job\": \"Visual Effects Producer\", \"name\": \"Janet Yale\"}, {\"credit_id\": \"589b9ac79251416771000864\", \"department\": \"Sound\", \"gender\": 2, \"id\": 1413169, \"job\": \"Scoring Mixer\", \"name\": \"Dennis S. Sands\"}, {\"credit_id\": \"56742d809251412db80022a3\", \"department\": \"Costume & Make-Up\", \"gender\": 0, \"id\": 1417399, \"job\": \"Key Hair Stylist\", \"name\": \"Patricia DeHaney\"}, {\"credit_id\": \"589b997592514167740007ee\", \"department\": \"Crew\", \"gender\": 0, \"id\": 1421255, \"job\": \"Transportation Coordinator\", \"name\": \"A. Welch Lambeth\"}, {\"credit_id\": \"56742d6cc3a3685edc0022f3\", \"department\": \"Costume & Make-Up\", \"gender\": 1, \"id\": 1444908, \"job\": \"Hairstylist\", \"name\": \"Cydney Cornell\"}, {\"credit_id\": \"567429939251412db1002308\", \"department\": \"Visual Effects\", \"gender\": 0, \"id\": 1445885, \"job\": \"Visual Effects Supervisor\", \"name\": \"David Goldberg\"}, {\"credit_id\": \"56742c629251412db1002365\", \"department\": \"Editing\", \"gender\": 0, \"id\": 1454536, \"job\": \"Dialogue Editor\", \"name\": \"Simon Coke\"}, {\"credit_id\": \"56742acc9251412da90023ff\", \"department\": \"Costume & Make-Up\", \"gender\": 1, \"id\": 1455294, \"job\": \"Costume Supervisor\", \"name\": \"Hope Slepak\"}, {\"credit_id\": \"56742bc49251412db1002350\", \"department\": \"Directing\", \"gender\": 0, \"id\": 1457833, \"job\": \"Script Supervisor\", \"name\": \"Marilyn Giardino\"}, {\"credit_id\": \"567428a19251412db4002693\", \"department\": \"Art\", \"gender\": 0, \"id\": 1478848, \"job\": \"Art Department Coordinator\", \"name\": \"Molly Click\"}, {\"credit_id\": \"57dc85e2c3a3682248000ee4\", \"department\": \"Directing\", \"gender\": 0, \"id\": 1530090, \"job\": \"Assistant Director\", \"name\": \"Rosemary C. Cremona\"}, {\"credit_id\": \"589b94fac3a3687e4e000575\", \"department\": \"Art\", \"gender\": 0, \"id\": 1534970, \"job\": \"Painter\", \"name\": \"Chris Samp\"}, {\"credit_id\": \"56742b6f9251414dee00007e\", \"department\": \"Sound\", \"gender\": 0, \"id\": 1549209, \"job\": \"Orchestrator\", \"name\": \"Thomas Pasatieri\"}, {\"credit_id\": \"56742a19c3a3685edc002287\", \"department\": \"Lighting\", \"gender\": 0, \"id\": 1550617, \"job\": \"Rigging Grip\", \"name\": \"Gerald A. King\"}, {\"credit_id\": \"56742a3e9251412dbb00251a\", \"department\": \"Camera\", \"gender\": 0, \"id\": 1550618, \"job\": \"Camera Operator\", \"name\": \"Aaron Pazanti\"}, {\"credit_id\": \"56742b25c3a3685ee700244f\", \"department\": \"Sound\", \"gender\": 0, \"id\": 1550619, \"job\": \"Music Editor\", \"name\": \"Joanie Diener\"}, {\"credit_id\": \"589b9aafc3a3687e5400086b\", \"department\": \"Sound\", \"gender\": 0, \"id\": 1551222, \"job\": \"Production Sound Mixer\", \"name\": \"Richard Van Dyke\"}, {\"credit_id\": \"589b98fe92514167680007b5\", \"department\": \"Art\", \"gender\": 0, \"id\": 1552012, \"job\": \"Property Master\", \"name\": \"Lynda Reiss\"}, {\"credit_id\": \"589b99cbc3a3687e45000827\", \"department\": \"Editing\", \"gender\": 0, \"id\": 1552188, \"job\": \"Color Timer\", \"name\": \"Phil Hetos\"}, {\"credit_id\": \"589b9afc92514167740008cc\", \"department\": \"Visual Effects\", \"gender\": 0, \"id\": 1557497, \"job\": \"3D Artist\", \"name\": \"John Cassella\"}, {\"credit_id\": \"589b98bbc3a3687e540007a5\", \"department\": \"Crew\", \"gender\": 0, \"id\": 1558210, \"job\": \"Production Controller\", \"name\": \"Jim Turner\"}, {\"credit_id\": \"589b97d3c3a3687e4e0006e2\", \"department\": \"Camera\", \"gender\": 0, \"id\": 1568649, \"job\": \"Additional Camera\", \"name\": \"Dana Kroeger\"}, {\"credit_id\": \"589b9b2a925141676e0008c1\", \"department\": \"Visual Effects\", \"gender\": 0, \"id\": 1569847, \"job\": \"Visual Effects Coordinator\", \"name\": \"Paula Bonhomme\"}, {\"credit_id\": \"589b9847925141677400073c\", \"department\": \"Costume & Make-Up\", \"gender\": 0, \"id\": 1579408, \"job\": \"Set Dressing Artist\", \"name\": \"Ian Kay\"}, {\"credit_id\": \"589b9aea925141676200083a\", \"department\": \"Visual Effects\", \"gender\": 0, \"id\": 1585014, \"job\": \"24 Frame Playback\", \"name\": \"Ralph Merzbach\"}, {\"credit_id\": \"589b99acc3a3687e5800088b\", \"department\": \"Crew\", \"gender\": 0, \"id\": 1585196, \"job\": \"Visual Effects Editor\", \"name\": \"Matt Magnolia\"}, {\"credit_id\": \"589b989b9251416762000723\", \"department\": \"Crew\", \"gender\": 0, \"id\": 1586927, \"job\": \"Post Production Assistant\", \"name\": \"Kevin Du Toit\"}, {\"credit_id\": \"589b9a29c3a3687e5b000920\", \"department\": \"Production\", \"gender\": 0, \"id\": 1586941, \"job\": \"Production Accountant\", \"name\": \"Janet Lonsdale\"}, {\"credit_id\": \"589b98d3c3a3687e5b000871\", \"department\": \"Crew\", \"gender\": 0, \"id\": 1595472, \"job\": \"Projection\", \"name\": \"Ren\\\\u00e9 Gonz\\\\u00e1lez\"}, {\"credit_id\": \"575066e1925141307f000d26\", \"department\": \"Crew\", \"gender\": 1, \"id\": 1614896, \"job\": \"Stunt Coordinator\", \"name\": \"Ben Scott\"}, {\"credit_id\": \"589b9b4992514167650008f5\", \"department\": \"Writing\", \"gender\": 2, \"id\": 1632585, \"job\": \"Storyboard\", \"name\": \"Tony Chance\"}, {\"credit_id\": \"589b94d6c3a3687e450005ac\", \"department\": \"Art\", \"gender\": 0, \"id\": 1651183, \"job\": \"Greensman\", \"name\": \"Richard W. Jones\"}, {\"credit_id\": \"589b980ac3a3687e580007dd\", \"department\": \"Camera\", \"gender\": 2, \"id\": 1753763, \"job\": \"Key Grip\", \"name\": \"Bill Young\"}, {\"credit_id\": \"589b98629251416762000708\", \"department\": \"Crew\", \"gender\": 0, \"id\": 1753765, \"job\": \"Craft Service\", \"name\": \"Krissy Korn\"}, {\"credit_id\": \"589b988bc3a3687e4b00109a\", \"department\": \"Crew\", \"gender\": 0, \"id\": 1753766, \"job\": \"Loader\", \"name\": \"Michael Thomas\"}, {\"credit_id\": \"589b98e9c3a3687e450007b9\", \"department\": \"Crew\", \"gender\": 0, \"id\": 1753767, \"job\": \"Propmaker\", \"name\": \"Rob Garlow\"}, {\"credit_id\": \"589b9939925141677700076e\", \"department\": \"Crew\", \"gender\": 0, \"id\": 1753769, \"job\": \"Stand In\", \"name\": \"Holiday Freeman\"}, {\"credit_id\": \"589b995b92514167740007dc\", \"department\": \"Crew\", \"gender\": 0, \"id\": 1753770, \"job\": \"Transportation Captain\", \"name\": \"Randy Lovelady\"}, {\"credit_id\": \"589b99ec92514167710007ec\", \"department\": \"Editing\", \"gender\": 0, \"id\": 1753774, \"job\": \"Editorial Production Assistant\", \"name\": \"Jeffrey Skinner\"}, {\"credit_id\": \"589b9a18c3a3687e480007ff\", \"department\": \"Production\", \"gender\": 1, \"id\": 1753775, \"job\": \"Location Manager\", \"name\": \"Christine Bonnem\"}, {\"credit_id\": \"589b9b16925141676e0008b7\", \"department\": \"Visual Effects\", \"gender\": 0, \"id\": 1753782, \"job\": \"Digital Compositors\", \"name\": \"Olivier Sarda\"}, {\"credit_id\": \"589b9b5f9251416765000909\", \"department\": \"Crew\", \"gender\": 0, \"id\": 1753783, \"job\": \"Studio Teachers\", \"name\": \"Pia Mehr\"}]'}\n"
     ]
    }
   ],
   "source": [
    "import duckdb\n",
    "from datasets import load_dataset\n",
    "\n",
    "data = load_dataset(\"AiresPucrs/tmdb-5000-movies\")[\"train\"]\n",
    "\n",
    "conn = duckdb.connect(database=\":memory:\", read_only=False)\n",
    "conn.register(\"movies\", data.to_pandas())\n",
    "\n",
    "records =conn.query(\"SELECT * FROM movies LIMIT 5\").to_df().to_dict(orient=\"records\")\n",
    "\n",
    "for record in records:\n",
    "    print(record)"
   ]
  },
  {
   "cell_type": "markdown",
   "metadata": {},
   "source": [
    "## Implement Text2SQL\n",
    "\n",
    "Let's start by implementing a simple text2sql logic."
   ]
  },
  {
   "cell_type": "code",
   "execution_count": 7,
   "metadata": {},
   "outputs": [],
   "source": [
    "import os\n",
    "\n",
    "import openai\n",
    "\n",
    "client = openai.AsyncClient()\n",
    "\n",
    "columns = conn.query(\"DESCRIBE movies\").to_df().to_dict(orient=\"records\")\n",
    "\n",
    "# We will use GPT4o to start\n",
    "TASK_MODEL = \"gpt-4o\"\n",
    "CONFIG = {\"model\": TASK_MODEL}\n",
    "\n",
    "\n",
    "system_prompt = (\n",
    "    \"You are a SQL expert, and you are given a single table named movies with the following columns:\\n\"\n",
    "    f'{\",\".join(column[\"column_name\"] + \": \" + column[\"column_type\"] for column in columns)}\\n'\n",
    "    \"Write a SQL query corresponding to the user's request. Return just the query text, \"\n",
    "    \"with no formatting (backticks, markdown, etc.).\"\n",
    ")\n",
    "\n",
    "\n",
    "@tracer.chain\n",
    "async def generate_query(input):\n",
    "    response = await client.chat.completions.create(\n",
    "        model=TASK_MODEL,\n",
    "        temperature=0,\n",
    "        messages=[\n",
    "            {\n",
    "                \"role\": \"system\",\n",
    "                \"content\": system_prompt,\n",
    "            },\n",
    "            {\n",
    "                \"role\": \"user\",\n",
    "                \"content\": input,\n",
    "            },\n",
    "        ],\n",
    "    )\n",
    "    return response.choices[0].message.content"
   ]
  },
  {
   "cell_type": "code",
   "execution_count": 8,
   "metadata": {},
   "outputs": [
    {
     "name": "stdout",
     "output_type": "stream",
     "text": [
      "SELECT Title FROM movies ORDER BY Popularity DESC LIMIT 1;\n"
     ]
    }
   ],
   "source": [
    "query = await generate_query(\"what was the most popular movie?\")\n",
    "print(query)"
   ]
  },
  {
   "cell_type": "markdown",
   "metadata": {},
   "source": [
    "Awesome, looks like the we are producing SQL! let's try running the query and see if we get the expected results."
   ]
  },
  {
   "cell_type": "code",
   "execution_count": 9,
   "metadata": {},
   "outputs": [
    {
     "data": {
      "text/plain": [
       "[{'Title': 'Spider-Man: No Way Home'}]"
      ]
     },
     "execution_count": 9,
     "metadata": {},
     "output_type": "execute_result"
    }
   ],
   "source": [
    "@tracer.tool\n",
    "def execute_query(query):\n",
    "    return conn.query(query).fetchdf().to_dict(orient=\"records\")\n",
    "\n",
    "execute_query(query)"
   ]
  },
  {
   "cell_type": "markdown",
   "metadata": {},
   "source": [
    "## Evaluation\n",
    "\n",
    "Evaluation consists of three parts — data (e.g. examples), task, and evaluators. Let's hand write some question."
   ]
  },
  {
   "cell_type": "code",
   "execution_count": 10,
   "metadata": {},
   "outputs": [],
   "source": [
    "questions = [\n",
    "    \"Which movie recieved the most votes?\",\n",
    "    \"Which movie had the highest rating?\",\n",
    "    \"What french film was the most popular in 2015?\",\n",
    "    \"what are the best sci-fi movies in the 2000s?\",\n",
    "    \"How many movies were released around Christmas in 2018?\",\n",
    "]"
   ]
  },
  {
   "cell_type": "markdown",
   "metadata": {},
   "source": [
    "Let's store the data above as a versioned dataset in phoenix."
   ]
  },
  {
   "cell_type": "code",
   "execution_count": 11,
   "metadata": {},
   "outputs": [
    {
     "name": "stdout",
     "output_type": "stream",
     "text": [
      "📤 Uploading dataset...\n",
      "💾 Examples uploaded: http://localhost:6006/datasets/RGF0YXNldDox/examples\n",
      "🗄️ Dataset version ID: RGF0YXNldFZlcnNpb246MQ==\n"
     ]
    }
   ],
   "source": [
    "import pandas as pd\n",
    "\n",
    "ds = px.Client().upload_dataset(\n",
    "    dataset_name=\"movie-example-questions-3\",\n",
    "    dataframe=pd.DataFrame([{\"question\": question} for question in questions]),\n",
    "    input_keys=[\"question\"],\n",
    "    output_keys=[],\n",
    ")\n",
    "\n",
    "# If you have already uploaded the dataset, you can fetch it using the following line\n",
    "# ds = px.Client().get_dataset(name=\"movie-questions\")"
   ]
  },
  {
   "cell_type": "markdown",
   "metadata": {},
   "source": [
    "Next, we'll define the task. The task is to generate SQL queries from natural language questions."
   ]
  },
  {
   "cell_type": "code",
   "execution_count": 12,
   "metadata": {},
   "outputs": [],
   "source": [
    "\n",
    "@tracer.chain\n",
    "async def text2sql(question):\n",
    "    query = await generate_query(question)\n",
    "    results = None\n",
    "    error = None\n",
    "    try:\n",
    "        results = execute_query(query)\n",
    "    except duckdb.Error as e:\n",
    "        error = str(e)\n",
    "\n",
    "    return {\n",
    "        \"query\": query,\n",
    "        \"results\": results,\n",
    "        \"error\": error,\n",
    "    }"
   ]
  },
  {
   "cell_type": "markdown",
   "metadata": {},
   "source": [
    "Finally, we'll define the evaluation scores. We'll use the following simple scoring functions to see if the generated SQL queries are correct."
   ]
  },
  {
   "cell_type": "code",
   "execution_count": 14,
   "metadata": {},
   "outputs": [],
   "source": [
    "# Test if there are no sql execution errors\n",
    "\n",
    "def no_error(output):\n",
    "    return 1.0 if output.get(\"error\") is None else 0.0\n",
    "\n",
    "\n",
    "# Test if the query has results\n",
    "def has_results(output):\n",
    "    results = output.get(\"results\")\n",
    "    has_results = results is not None and len(results) > 0\n",
    "    return 1.0 if has_results else 0.0"
   ]
  },
  {
   "cell_type": "markdown",
   "metadata": {},
   "source": [
    "Now let's run the evaluation experiment."
   ]
  },
  {
   "cell_type": "code",
   "execution_count": 15,
   "metadata": {},
   "outputs": [
    {
     "name": "stdout",
     "output_type": "stream",
     "text": [
      "🧪 Experiment started.\n",
      "📺 View dataset experiments: http://localhost:6006/datasets/RGF0YXNldDox/experiments\n",
      "🔗 View this experiment: http://localhost:6006/datasets/RGF0YXNldDox/compare?experimentId=RXhwZXJpbWVudDox\n"
     ]
    },
    {
     "data": {
      "application/vnd.jupyter.widget-view+json": {
       "model_id": "87a951152c044e46b8d3973dd9021b80",
       "version_major": 2,
       "version_minor": 0
      },
      "text/plain": [
       "running tasks |          | 0/5 (0.0%) | ⏳ 00:00<? | ?it/s"
      ]
     },
     "metadata": {},
     "output_type": "display_data"
    },
    {
     "name": "stdout",
     "output_type": "stream",
     "text": [
      "✅ Task runs completed.\n",
      "🧠 Evaluation started.\n"
     ]
    },
    {
     "data": {
      "application/vnd.jupyter.widget-view+json": {
       "model_id": "c4437e0df55f4e71a48788edc717b8b7",
       "version_major": 2,
       "version_minor": 0
      },
      "text/plain": [
       "running experiment evaluations |          | 0/10 (0.0%) | ⏳ 00:00<? | ?it/s"
      ]
     },
     "metadata": {},
     "output_type": "display_data"
    },
    {
     "name": "stdout",
     "output_type": "stream",
     "text": [
      "\n",
      "🔗 View this experiment: http://localhost:6006/datasets/RGF0YXNldDox/compare?experimentId=RXhwZXJpbWVudDox\n",
      "\n",
      "Experiment Summary (06/30/25 09:23 AM -0700)\n",
      "--------------------------------------------\n",
      "| evaluator   |   n |   n_scores |   avg_score |\n",
      "|:------------|----:|-----------:|------------:|\n",
      "| has_results |   5 |          5 |         0.6 |\n",
      "| no_error    |   5 |          5 |         0.8 |\n",
      "\n",
      "Tasks Summary (06/30/25 09:23 AM -0700)\n",
      "---------------------------------------\n",
      "|   n_examples |   n_runs |   n_errors |\n",
      "|-------------:|---------:|-----------:|\n",
      "|            5 |        5 |          0 |\n"
     ]
    }
   ],
   "source": [
    "import phoenix as px\n",
    "from phoenix.experiments import run_experiment\n",
    "\n",
    "\n",
    "# Define the task to run text2sql on the input question\n",
    "def task(input):\n",
    "    return text2sql(input[\"question\"])\n",
    "\n",
    "\n",
    "experiment = run_experiment(\n",
    "    ds, task=task, evaluators=[no_error, has_results], experiment_metadata=CONFIG\n",
    ")"
   ]
  },
  {
   "cell_type": "markdown",
   "metadata": {},
   "source": [
    "Ok! It looks like we got results for 3 out of the five questions."
   ]
  },
  {
   "cell_type": "markdown",
   "metadata": {},
   "source": [
    "## Interpreting the results\n",
    "\n",
    "Now that we ran the initial evaluation, it looks like two of the results are valid, two produce SQL errors, and one is incorrect.\n",
    "\n",
    "- The incorrect query didn't seem to get the date format correct. That would probably be improved by showing a sample of the data to the model (e.g. few shot example).\n",
    "\n",
    "- There are is a binder error, which may also have to do with not understanding the data format."
   ]
  },
  {
   "cell_type": "markdown",
   "metadata": {},
   "source": [
    "Let's try to improve the prompt with few-shot examples and see if we can get better results."
   ]
  },
  {
   "cell_type": "code",
   "execution_count": 52,
   "metadata": {},
   "outputs": [
    {
     "name": "stdout",
     "output_type": "stream",
     "text": [
      "SELECT Title, Release_Date, Vote_Average\n",
      "FROM movies\n",
      "WHERE Genre LIKE '%Science Fiction%'\n",
      "AND Release_Date BETWEEN '2000-01-01' AND '2009-12-31'\n",
      "ORDER BY Vote_Average DESC;\n"
     ]
    }
   ],
   "source": [
    "samples = conn.query(\"SELECT * FROM movies LIMIT 1\").to_df().to_dict(orient=\"records\")[0]\n",
    "sample_rows = \"\\n\".join(\n",
    "    f\"{column['column_name']} | {column['column_type']} | {samples[column['column_name']]}\"\n",
    "    for column in columns\n",
    ")\n",
    "system_prompt = (\n",
    "    \"You are a SQL expert, and you are given a single table named movies with the following columns:\\n\\n\"\n",
    "    \"Column | Type | Example\\n\"\n",
    "    \"-------|------|--------\\n\"\n",
    "    f\"{sample_rows}\\n\"\n",
    "    \"\\n\"\n",
    "    \"Write a DuckDB SQL query corresponding to the user's request. \"\n",
    "    \"Return just the query text, with no formatting (backticks, markdown, etc.).\"\n",
    ")\n",
    "\n",
    "\n",
    "async def generate_query(input):\n",
    "    response = await client.chat.completions.create(\n",
    "        model=TASK_MODEL,\n",
    "        temperature=0,\n",
    "        messages=[\n",
    "            {\n",
    "                \"role\": \"system\",\n",
    "                \"content\": system_prompt,\n",
    "            },\n",
    "            {\n",
    "                \"role\": \"user\",\n",
    "                \"content\": input,\n",
    "            },\n",
    "        ],\n",
    "    )\n",
    "    return response.choices[0].message.content\n",
    "\n",
    "\n",
    "print(await generate_query(\"what are the best sci-fi movies in the 2000s?\"))"
   ]
  },
  {
   "cell_type": "markdown",
   "metadata": {},
   "source": [
    "Looking much better! Finally, let's add a scoring function that compares the results, if they exist, with the expected results.\n",
    "\n",
    "\n"
   ]
  },
  {
   "cell_type": "code",
   "execution_count": 53,
   "metadata": {},
   "outputs": [
    {
     "name": "stdout",
     "output_type": "stream",
     "text": [
      "🧪 Experiment started.\n",
      "📺 View dataset experiments: http://localhost:6006/datasets/RGF0YXNldDoz/experiments\n",
      "🔗 View this experiment: http://localhost:6006/datasets/RGF0YXNldDoz/compare?experimentId=RXhwZXJpbWVudDo0\n"
     ]
    },
    {
     "data": {
      "application/vnd.jupyter.widget-view+json": {
       "model_id": "184aafabfc2e4476b7c00ad204257ddb",
       "version_major": 2,
       "version_minor": 0
      },
      "text/plain": [
       "running tasks |          | 0/5 (0.0%) | ⏳ 00:00<? | ?it/s"
      ]
     },
     "metadata": {},
     "output_type": "display_data"
    },
    {
     "name": "stdout",
     "output_type": "stream",
     "text": [
      "✅ Task runs completed.\n",
      "🧠 Evaluation started.\n"
     ]
    },
    {
     "data": {
      "application/vnd.jupyter.widget-view+json": {
       "model_id": "85adc2b9b0eb4adfb2769aae1d46b271",
       "version_major": 2,
       "version_minor": 0
      },
      "text/plain": [
       "running experiment evaluations |          | 0/10 (0.0%) | ⏳ 00:00<? | ?it/s"
      ]
     },
     "metadata": {},
     "output_type": "display_data"
    },
    {
     "name": "stdout",
     "output_type": "stream",
     "text": [
      "\n",
      "🔗 View this experiment: http://localhost:6006/datasets/RGF0YXNldDoz/compare?experimentId=RXhwZXJpbWVudDo0\n",
      "\n",
      "Experiment Summary (06/30/25 09:18 AM -0700)\n",
      "--------------------------------------------\n",
      "| evaluator   |   n |   n_scores |   avg_score |\n",
      "|:------------|----:|-----------:|------------:|\n",
      "| has_results |   5 |          5 |         0.6 |\n",
      "| no_error    |   5 |          5 |         0.6 |\n",
      "\n",
      "Tasks Summary (06/30/25 09:18 AM -0700)\n",
      "---------------------------------------\n",
      "|   n_examples |   n_runs |   n_errors |\n",
      "|-------------:|---------:|-----------:|\n",
      "|            5 |        5 |          0 |\n"
     ]
    }
   ],
   "source": [
    "experiment = run_experiment(\n",
    "    ds, task=task, evaluators=[has_results, no_error], experiment_metadata=CONFIG\n",
    ")"
   ]
  },
  {
   "cell_type": "markdown",
   "metadata": {},
   "source": [
    "Amazing. It looks like we removed one of the errors, and got a result for the incorrect query. Let's try out using LLM as a judge to see how well it can assess the results.\n"
   ]
  },
  {
   "cell_type": "code",
   "execution_count": null,
   "metadata": {},
   "outputs": [],
   "source": [
    "from phoenix.evals.models import OpenAIModel\n",
    "from phoenix.experiments import evaluate_experiment\n",
    "from phoenix.experiments.evaluators.llm_evaluators import LLMCriteriaEvaluator\n",
    "\n",
    "llm_evaluator = LLMCriteriaEvaluator(\n",
    "    name=\"is_sql\",\n",
    "    criteria=\"is_sql\",\n",
    "    description=\"the output is a valid SQL query and that it executes without errors\",\n",
    "    model=OpenAIModel(),\n",
    ")\n",
    "\n",
    "evaluate_experiment(experiment, evaluators=[llm_evaluator])"
   ]
  },
  {
   "cell_type": "markdown",
   "metadata": {},
   "source": [
    "Sure enough the LLM agrees with our scoring. Pretty neat trick! This can come in useful when it's difficult to define a scoring function."
   ]
  },
  {
   "cell_type": "markdown",
   "metadata": {},
   "source": [
    "\n",
    "We now have a simple text2sql pipeline that can be used to generate SQL queries from natural language questions. Since Phoenix has been tracing the entire pipeline, we can now use the Phoenix UI to convert the spans that generated successful queries into examples to use in **Golden Dataset** for regression testing!\n",
    "\n",
    "<img src=\"https://storage.googleapis.com/arize-assets/phoenix/assets/images/golden_dataset.png\">"
   ]
  },
  {
   "cell_type": "markdown",
   "metadata": {},
   "source": [
    "## Generating more data\n",
    "Now that we have a basic flow in place, let's generate some data. We're going to use the dataset itself to generate expected queries, and have a model describe the queries. This is a slightly more robust method than having it generate queries, because we'd expect a model to describe a query more accurately than generate one from scratch.\n",
    "\n",
    "\n"
   ]
  },
  {
   "cell_type": "code",
   "execution_count": null,
   "metadata": {},
   "outputs": [],
   "source": [
    "import json\n",
    "from typing import List\n",
    "\n",
    "from pydantic import BaseModel\n",
    "\n",
    "\n",
    "class Question(BaseModel):\n",
    "    sql: str\n",
    "    question: str\n",
    "\n",
    "\n",
    "class Questions(BaseModel):\n",
    "    questions: List[Question]\n",
    "\n",
    "\n",
    "sample_rows = \"\\n\".join(\n",
    "    f\"{column['column_name']} | {column['column_type']} | {samples[column['column_name']]}\"\n",
    "    for column in columns\n",
    ")\n",
    "synthetic_data_prompt = f\"\"\"You are a SQL expert, and you are given a single table named nba with the following columns:\n",
    "\n",
    "Column | Type | Example\n",
    "-------|------|--------\n",
    "{sample_rows}\n",
    "\n",
    "Generate SQL queries that would be interesting to ask about this table. Return the SQL query as a string, as well as the\n",
    "question that the query answers.\"\"\"\n",
    "\n",
    "response = await client.chat.completions.create(\n",
    "    model=\"gpt-4o\",\n",
    "    temperature=0,\n",
    "    messages=[\n",
    "        {\n",
    "            \"role\": \"user\",\n",
    "            \"content\": synthetic_data_prompt,\n",
    "        }\n",
    "    ],\n",
    "    tools=[\n",
    "        {\n",
    "            \"type\": \"function\",\n",
    "            \"function\": {\n",
    "                \"name\": \"generate_questions\",\n",
    "                \"description\": \"Generate SQL queries that would be interesting to ask about this table.\",\n",
    "                \"parameters\": Questions.model_json_schema(),\n",
    "            },\n",
    "        }\n",
    "    ],\n",
    "    tool_choice={\"type\": \"function\", \"function\": {\"name\": \"generate_questions\"}},\n",
    ")\n",
    "\n",
    "generated_questions = json.loads(response.choices[0].message.tool_calls[0].function.arguments)[\n",
    "    \"questions\"\n",
    "]\n",
    "generated_questions[0]"
   ]
  },
  {
   "cell_type": "code",
   "execution_count": null,
   "metadata": {},
   "outputs": [],
   "source": [
    "generated_dataset = []\n",
    "for q in generated_questions:\n",
    "    try:\n",
    "        result = execute_query(q[\"sql\"])\n",
    "        generated_dataset.append(\n",
    "            {\n",
    "                \"input\": q[\"question\"],\n",
    "                \"expected\": {\n",
    "                    \"results\": result,\n",
    "                    \"error\": None,\n",
    "                    \"query\": q[\"sql\"],\n",
    "                },\n",
    "                \"metadata\": {\n",
    "                    \"category\": \"Generated\",\n",
    "                },\n",
    "            }\n",
    "        )\n",
    "    except duckdb.Error as e:\n",
    "        print(f\"Query failed: {q['sql']}\", e)\n",
    "        print(\"Skipping...\")\n",
    "\n",
    "generated_dataset[0]"
   ]
  },
  {
   "cell_type": "markdown",
   "metadata": {},
   "source": [
    "Awesome, let's crate a dataset with the new synthetic data.\n",
    "\n",
    "\n"
   ]
  },
  {
   "cell_type": "code",
   "execution_count": null,
   "metadata": {},
   "outputs": [],
   "source": [
    "synthetic_dataset = px.Client().upload_dataset(\n",
    "    dataset_name=\"nba-golden-synthetic\",\n",
    "    inputs=[{\"question\": example[\"input\"]} for example in generated_dataset],\n",
    "    outputs=[example[\"expected\"] for example in generated_dataset],\n",
    ");"
   ]
  },
  {
   "cell_type": "code",
   "execution_count": null,
   "metadata": {},
   "outputs": [],
   "source": [
    "run_experiment(\n",
    "    synthetic_dataset, task=task, evaluators=[no_error, has_results], experiment_metadata=CONFIG\n",
    ")"
   ]
  },
  {
   "cell_type": "markdown",
   "metadata": {},
   "source": [
    "Amazing! Now we have a rich dataset to work with and some failures to debug. From here, you could try to investigate whether some of the generated data needs improvement, or try tweaking the prompt to improve accuracy, or maybe even something more adventurous, like feed the errors back to the model and have it iterate on a better query. Most importantly, we have a good workflow in place to iterate on both the application and dataset.\n",
    "\n"
   ]
  },
  {
   "cell_type": "markdown",
   "metadata": {},
   "source": []
  },
  {
   "cell_type": "markdown",
   "metadata": {},
   "source": [
    "# Trying a smaller model\n",
    "Just for fun, let's wrap things up by trying out GPT-3.5-turbo. All we need to do is switch the model name, and run our Eval() function again.\n",
    "\n",
    "\n"
   ]
  },
  {
   "cell_type": "code",
   "execution_count": null,
   "metadata": {},
   "outputs": [],
   "source": [
    "TASK_MODEL = \"gpt-3.5-turbo\"\n",
    "\n",
    "experiment = run_experiment(\n",
    "    synthetic_dataset,\n",
    "    task=task,\n",
    "    evaluators=[no_error, has_results],\n",
    "    experiment_metadata={\"model\": TASK_MODEL},\n",
    ")"
   ]
  },
  {
   "cell_type": "markdown",
   "metadata": {},
   "source": [
    "Interesting! It looks like the smaller model is able to do decently well but we might want to ensure it follows instructions as well as a larger model. We can actually grab all the LLM spans from our previous GPT40 runs and use them to generate a OpenAI fine-tuning JSONL file!\n",
    "\n",
    "<img src=\"https://storage.googleapis.com/arize-assets/phoenix/assets/images/fine_tining_nba.png\">\n",
    "<img src=\"https://storage.googleapis.com/arize-assets/phoenix/assets/images/openai_ft.png\">"
   ]
  },
  {
   "cell_type": "markdown",
   "metadata": {},
   "source": [
    "## Conclusion\n",
    "\n",
    "In this example, we walked through the process of building a dataset for a text2sql application. We started with a few handwritten examples, and iterated on the dataset by using an LLM to generate more examples. We used the eval framework to track our progress, and iterated on the model and dataset to improve the results. Finally, we tried out a less powerful model to see if we could save cost or improve latency.\n",
    "\n",
    "Happy evaluations!"
   ]
  }
 ],
 "metadata": {
  "kernelspec": {
   "display_name": "phoenix",
   "language": "python",
   "name": "python3"
  },
  "language_info": {
   "codemirror_mode": {
    "name": "ipython",
    "version": 3
   },
   "file_extension": ".py",
   "mimetype": "text/x-python",
   "name": "python",
   "nbconvert_exporter": "python",
   "pygments_lexer": "ipython3",
   "version": "3.12.7"
  }
 },
 "nbformat": 4,
 "nbformat_minor": 2
}
