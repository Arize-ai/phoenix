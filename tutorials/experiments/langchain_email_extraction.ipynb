{
  "cells": [
    {
      "cell_type": "markdown",
      "metadata": {
        "id": "rO7X6VuWpHmG"
      },
      "source": [
        "<center>\n",
        "<p style=\"text-align:center\">\n",
        "<img alt=\"phoenix logo\" src=\"https://raw.githubusercontent.com/Arize-ai/phoenix-assets/9e6101d95936f4bd4d390efc9ce646dc6937fb2d/images/socal/github-large-banner-phoenix.jpg\" width=\"1000\"/>\n",
        "<br>\n",
        "<br>\n",
        "<a href=\"https://docs.arize.com/phoenix/\">Docs</a>\n",
        "|\n",
        "<a href=\"https://github.com/Arize-ai/phoenix\">GitHub</a>\n",
        "|\n",
        "<a href=\"https://join.slack.com/t/arize-ai/shared_invite/zt-1px8dcmlf-fmThhDFD_V_48oU7ALan4Q\">Community</a>\n",
        "</p>\n",
        "</center>\n",
        "<h1 align=\"center\">Model Comparison for an Email Text Extraction Service</h1>\n",
        "\n",
        "Imagine you're deploying a service that condenses emails into concise summaries. One challenge of using LLMs for summarization is that even the best models can miscategorize key details, or miss those details entirely.\n",
        "\n",
        "In this tutorial, you will construct a dataset and run experiments to engineer a prompt template that produces accurately summarizes your emails. You will:\n",
        "\n",
        "- Upload a **dataset** of **examples** containing emails to Phoenix\n",
        "- Define an **experiment task** that extracts and formats the key details from those emails\n",
        "- Devise an **evaluator** measuring Jaro-Winkler Similarity\n",
        "- Run **experiments** to iterate on your prompt template and to compare the summaries produced by different LLMs\n",
        "\n",
        "⚠️ This tutorial requires and OpenAI API key.\n",
        "\n",
        "Let's get started!\n"
      ]
    },
    {
      "cell_type": "code",
      "execution_count": null,
      "metadata": {
        "colab": {
          "base_uri": "https://localhost:8080/"
        },
        "id": "rFUqJE8V6EdJ",
        "outputId": "0bf58a43-1fc9-44cb-cc79-2f0e05613b02"
      },
      "outputs": [],
      "source": [
        "%pip install arize-phoenix langchain langchain-core langchain-community langchain-benchmarks langchain-openai nest_asyncio jarowinkler"
      ]
    },
    {
      "cell_type": "markdown",
      "metadata": {
        "id": "NqEaZvJs6EdK"
      },
      "source": [
        "# Set Up OpenAI API Key"
      ]
    },
    {
      "cell_type": "code",
      "execution_count": null,
      "metadata": {
        "colab": {
          "base_uri": "https://localhost:8080/"
        },
        "id": "ieJUPMC-6EdK",
        "outputId": "194d3065-123d-40e0-f130-bf98ed3bf44a"
      },
      "outputs": [],
      "source": [
        "import os\n",
        "from getpass import getpass\n",
        "\n",
        "if not os.getenv(\"OPENAI_API_KEY\"):\n",
        "    os.environ[\"OPENAI_API_KEY\"] = getpass(\"🔑 Enter your OpenAI API key: \")"
      ]
    },
    {
      "cell_type": "markdown",
      "metadata": {
        "id": "bSLxWyFV6EdK"
      },
      "source": [
        "# Import Modules"
      ]
    },
    {
      "cell_type": "code",
      "execution_count": null,
      "metadata": {
        "id": "jope0REY6EdK"
      },
      "outputs": [],
      "source": [
        "import json\n",
        "import tempfile\n",
        "from datetime import datetime, timezone\n",
        "\n",
        "import jarowinkler\n",
        "import nest_asyncio\n",
        "import pandas as pd\n",
        "import phoenix as px\n",
        "from langchain.output_parsers.openai_functions import JsonOutputFunctionsParser\n",
        "from langchain_benchmarks import download_public_dataset, registry\n",
        "from langchain_openai.chat_models import ChatOpenAI\n",
        "from openinference.instrumentation.langchain import LangChainInstrumentor\n",
        "from openinference.instrumentation.openai import OpenAIInstrumentor\n",
        "from opentelemetry.exporter.otlp.proto.grpc.trace_exporter import OTLPSpanExporter\n",
        "from opentelemetry.sdk.trace import TracerProvider\n",
        "from opentelemetry.sdk.trace.export import SimpleSpanProcessor\n",
        "from phoenix.experiments import evaluate_experiment, run_experiment\n",
        "\n",
        "nest_asyncio.apply()"
      ]
    },
    {
      "cell_type": "markdown",
      "metadata": {
        "id": "Z0WDhK_Y6EdK"
      },
      "source": [
        "# Launch Phoenix"
      ]
    },
    {
      "cell_type": "markdown",
      "metadata": {
        "id": "0yXTfs8lAdZh"
      },
      "source": [
        "First we have to set up our instance of Phoenix and our instrumentors to capture traces from our agent. We'll use both our Langchain and OpenAI auto instrumentors because while our task uses Langchain, our evaluation function will call OpenAI directly."
      ]
    },
    {
      "cell_type": "code",
      "execution_count": null,
      "metadata": {
        "colab": {
          "base_uri": "https://localhost:8080/",
          "height": 71
        },
        "id": "mFrkdFZf6EdK",
        "outputId": "d9b508b5-8e07-49da-89bc-6477d1cbe441"
      },
      "outputs": [],
      "source": [
        "px.launch_app()"
      ]
    },
    {
      "cell_type": "markdown",
      "metadata": {
        "id": "yCaNah-F6EdK"
      },
      "source": [
        "# Instrument LangChain and OpenAI"
      ]
    },
    {
      "cell_type": "code",
      "execution_count": null,
      "metadata": {
        "id": "LIBdauvr6EdK"
      },
      "outputs": [],
      "source": [
        "endpoint = \"http://127.0.0.1:4317\"\n",
        "(tracer_provider := TracerProvider()).add_span_processor(\n",
        "    SimpleSpanProcessor(OTLPSpanExporter(endpoint))\n",
        ")\n",
        "\n",
        "LangChainInstrumentor().instrument(tracer_provider=tracer_provider)\n",
        "OpenAIInstrumentor().instrument(tracer_provider=tracer_provider)"
      ]
    },
    {
      "cell_type": "markdown",
      "metadata": {
        "id": "NzvJVOZuBw6e"
      },
      "source": [
        "# Experiments in Phoenix"
      ]
    },
    {
      "cell_type": "markdown",
      "metadata": {
        "id": "ysmbKqO0BxXX"
      },
      "source": [
        "Experiments in Phoenix are made up of 3 elements: a dataset, a task, and an evaluator. The dataset is a collection of the inputs and expected outputs that we'll use to evaluate. The task is an operation that should be performed on each input. Finally, the evaluator compares the result against an expected output.\n",
        "\n",
        "For this example, here's what each looks like:\n",
        "*   Dataset - a dataframe of emails to analyze, and the expected output for our agent\n",
        "*   Task - a langchain agent that extracts key info from our input emails. The result of this task will then be compared against the expected output\n",
        "*   Eval - Jaro-Winkler distance calculation on the task's output and expected output\n",
        "\n"
      ]
    },
    {
      "cell_type": "markdown",
      "metadata": {
        "id": "xSLNHY6a6EdK"
      },
      "source": [
        "# Download JSON Data"
      ]
    },
    {
      "cell_type": "markdown",
      "metadata": {
        "id": "4tpAcUSmAvOD"
      },
      "source": [
        "We've prepared some example emails and actual responses that we can use to evaluate our two models. Let's download those and save them to a temporary file."
      ]
    },
    {
      "cell_type": "code",
      "execution_count": null,
      "metadata": {
        "colab": {
          "base_uri": "https://localhost:8080/",
          "height": 399,
          "referenced_widgets": [
            "23c0e2e29c1443e08dfeda81b8383ed1",
            "5b7212e1ed70496cbf64f9159cefd3fb",
            "53cf998a2e80400ba2b36dc1b6d31163",
            "4ec6257ea38140e6ab4708b9fe6954cc",
            "1cd3c9c420214ee19da5bc83842137bc",
            "0e99108df556418184960aac55ef31b8",
            "b9fee4b032e24cfd96bc3cf5d9243bed",
            "1c06fd82c7b2447a81c3346a02befec5",
            "9553474bbbe04a678aa6967ecd6c16d5",
            "271517f8ed794e54bb4d71363cb00dde",
            "dad19e00c2f04b75b0dad99c5a4bb642"
          ]
        },
        "id": "7m3IwRvQ6EdK",
        "outputId": "4ae16abd-bca7-4fca-fe8a-4d2a65acd217"
      },
      "outputs": [],
      "source": [
        "dataset_name = \"Email Extraction\"\n",
        "\n",
        "with tempfile.NamedTemporaryFile(suffix=\".json\") as f:\n",
        "    download_public_dataset(registry[dataset_name].dataset_id, path=f.name)\n",
        "    df = pd.read_json(f.name)[[\"inputs\", \"outputs\"]]\n",
        "df = df.sample(10, random_state=42)\n",
        "df"
      ]
    },
    {
      "cell_type": "markdown",
      "metadata": {
        "id": "9dneIPyl6EdK"
      },
      "source": [
        "# Upload Dataset to Phoenix"
      ]
    },
    {
      "cell_type": "markdown",
      "metadata": {
        "id": "Jk3F8h9lA4MR"
      },
      "source": [
        "Next, we'll upload our dataset to Phoenix. Once this is present in Phoenix, we can run multiple experiments with different models on this one dataset, and compare their performance."
      ]
    },
    {
      "cell_type": "code",
      "execution_count": null,
      "metadata": {
        "colab": {
          "base_uri": "https://localhost:8080/",
          "height": 71
        },
        "id": "37XF1y7F6EdK",
        "outputId": "9ccce271-3510-46b1-c100-c431b5b739d6"
      },
      "outputs": [],
      "source": [
        "dataset = px.Client().upload_dataset(\n",
        "    dataset_name=f\"{dataset_name}{datetime.now(timezone.utc)}\",\n",
        "    inputs=df.inputs,\n",
        "    outputs=df.outputs.map(lambda obj: obj[\"output\"]),\n",
        ")"
      ]
    },
    {
      "cell_type": "markdown",
      "metadata": {
        "id": "12cVoZ4t6EdK"
      },
      "source": [
        "# Set Up LangChain"
      ]
    },
    {
      "cell_type": "markdown",
      "metadata": {
        "id": "naKQx8TvBGno"
      },
      "source": [
        "Now we'll set up our Langchain agent. This is a straightforward agent that makes a call to our specified model and formats the response as JSON."
      ]
    },
    {
      "cell_type": "code",
      "execution_count": null,
      "metadata": {
        "id": "5FZMw54Y6EdL"
      },
      "outputs": [],
      "source": [
        "model = \"gpt-4o\"\n",
        "\n",
        "llm = ChatOpenAI(model=model).bind_functions(\n",
        "    functions=[registry[dataset_name].schema],\n",
        "    function_call=registry[dataset_name].schema.schema()[\"title\"],\n",
        ")\n",
        "output_parser = JsonOutputFunctionsParser()\n",
        "extraction_chain = registry[dataset_name].instructions | llm | output_parser"
      ]
    },
    {
      "cell_type": "markdown",
      "metadata": {
        "id": "BgMH06496EdL"
      },
      "source": [
        "# Define Task Function"
      ]
    },
    {
      "cell_type": "markdown",
      "metadata": {
        "id": "o1-BCl1yBh_T"
      },
      "source": [
        "Next, we need to define a Task for our experiment to use."
      ]
    },
    {
      "cell_type": "code",
      "execution_count": null,
      "metadata": {
        "id": "gHwS9N5v6EdL"
      },
      "outputs": [],
      "source": [
        "def task(input) -> str:\n",
        "    return extraction_chain.invoke(input)"
      ]
    },
    {
      "cell_type": "markdown",
      "metadata": {
        "id": "pwA52YTd6EdL"
      },
      "source": [
        "# Check that the task is working by running it on at least one Example"
      ]
    },
    {
      "cell_type": "code",
      "execution_count": null,
      "metadata": {
        "colab": {
          "base_uri": "https://localhost:8080/"
        },
        "id": "1LYl5gXB6EdL",
        "outputId": "f7d7ac21-ae9c-4f7f-8021-33093a0ff96a"
      },
      "outputs": [],
      "source": [
        "first_key = next(iter(dataset.examples))\n",
        "first_example = dataset.examples[first_key]\n",
        "\n",
        "task(first_example)"
      ]
    },
    {
      "cell_type": "markdown",
      "metadata": {
        "id": "Z7QGQoSu6EdL"
      },
      "source": [
        "# Run Experiment"
      ]
    },
    {
      "cell_type": "markdown",
      "metadata": {
        "id": "VdJn1XLQC-F9"
      },
      "source": [
        "Now we're ready to run our experiment. We'll specify our dataset and task, and generate responses for us to evaluate in the next step."
      ]
    },
    {
      "cell_type": "code",
      "execution_count": null,
      "metadata": {
        "colab": {
          "base_uri": "https://localhost:8080/",
          "height": 1000,
          "referenced_widgets": [
            "ba77edf0386043cba71514462f8ab091",
            "e841eddee20e4b74b72cfcd4307bd6cd",
            "0eb1369f66e146039bdba12ab417daf2",
            "142a9dff14a34c03ac3c4642f79a6c75",
            "7e45d773bd8047618b4ff059c4eb3a97",
            "331094037e404cad8af99ef6fbba62f1",
            "00cc5ee81fcb4bb2827ee219df026e5a",
            "4673c694c6cf41b883a73022b815b1e6",
            "7eae9af4538049daad43f3c764372e77",
            "b0515bb060ba4b2e9b2ebaf7a05f19e1",
            "d7a2823b513e44bab09592bdd2b37c26"
          ]
        },
        "id": "bEXpSKkb6EdL",
        "outputId": "34f18982-f1e5-4399-d71c-82c2ceb7456a"
      },
      "outputs": [],
      "source": [
        "experiment = run_experiment(dataset, task)"
      ]
    },
    {
      "cell_type": "markdown",
      "metadata": {
        "id": "m-DR5rrR6EdL"
      },
      "source": [
        "# Define Evaluator"
      ]
    },
    {
      "cell_type": "markdown",
      "metadata": {
        "id": "ir2W6wW4DNHt"
      },
      "source": [
        "Finally, we need to define our evaluation function. Here we'll use a Jaro-Winkler similarity function that generates a score for how similar the output and expected text are. [Jaro-Winkler similarity](https://en.wikipedia.org/wiki/Jaro%E2%80%93Winkler_distance) is technique for measuring edit distance between two strings."
      ]
    },
    {
      "cell_type": "code",
      "execution_count": null,
      "metadata": {
        "id": "uI7aif_I6EdL"
      },
      "outputs": [],
      "source": [
        "def jarowinkler_similarity(output, expected) -> float:\n",
        "    return jarowinkler.jarowinkler_similarity(\n",
        "        json.dumps(output, sort_keys=True),\n",
        "        json.dumps(expected, sort_keys=True),\n",
        "    )"
      ]
    },
    {
      "cell_type": "markdown",
      "metadata": {
        "id": "Ygypu6Ag6EdL"
      },
      "source": [
        "# Evaluate Experiment"
      ]
    },
    {
      "cell_type": "code",
      "execution_count": null,
      "metadata": {
        "id": "rTy47qYe6EdL"
      },
      "outputs": [],
      "source": [
        "evaluate_experiment(experiment, jarowinkler_similarity)"
      ]
    },
    {
      "cell_type": "markdown",
      "metadata": {
        "id": "kq4I-6tWDYvF"
      },
      "source": [
        "Now we have scores on how well GPT-4o does at extracting email facts. This is helpful, but doesn't mean much on its own. Let's compare it against another model."
      ]
    },
    {
      "cell_type": "markdown",
      "metadata": {
        "id": "TaEaKgAN_ZJh"
      },
      "source": [
        "# Re-run with GPT 3.5 Turbo and Compare Results"
      ]
    },
    {
      "cell_type": "markdown",
      "metadata": {
        "id": "GIzXZ1TBDp3J"
      },
      "source": [
        "To compare results with another model, we simply need to redefine our task. Our dataset and evaluator can stay the same."
      ]
    },
    {
      "cell_type": "code",
      "execution_count": null,
      "metadata": {
        "id": "N1hLsqlI_ghu"
      },
      "outputs": [],
      "source": [
        "model = \"gpt-3.5-turbo\"\n",
        "\n",
        "llm = ChatOpenAI(model=model).bind_functions(\n",
        "    functions=[registry[dataset_name].schema],\n",
        "    function_call=registry[dataset_name].schema.schema()[\"title\"],\n",
        ")\n",
        "extraction_chain = registry[dataset_name].instructions | llm | output_parser"
      ]
    },
    {
      "cell_type": "code",
      "execution_count": null,
      "metadata": {
        "id": "BDtS-xbsD0dL"
      },
      "outputs": [],
      "source": [
        "def task(input) -> str:\n",
        "    return extraction_chain.invoke(input)"
      ]
    },
    {
      "cell_type": "code",
      "execution_count": null,
      "metadata": {
        "id": "2LInnPwi_wBk"
      },
      "outputs": [],
      "source": [
        "experiment = run_experiment(dataset, task)"
      ]
    },
    {
      "cell_type": "code",
      "execution_count": null,
      "metadata": {
        "id": "zDzcTxx3_6N6"
      },
      "outputs": [],
      "source": [
        "evaluate_experiment(experiment, jarowinkler_similarity)"
      ]
    },
    {
      "cell_type": "markdown",
      "metadata": {
        "id": "TrACT8XUD18x"
      },
      "source": [
        "# View results"
      ]
    },
    {
      "cell_type": "markdown",
      "metadata": {
        "id": "OoXL1uTAEaAK"
      },
      "source": [
        "Now if you check your Phoenix experiment, you can compare Jaro-Winkler scores on a per query basis, and view aggregate model performance results. The screenshot belows shows results from GPT-4o on the left and GPT-3.5-turbo on the far right. The higher the jarowinkler_similarity score, the closer the outputted value is to the actual value.\n",
        "\n",
        "You should see that GPT-4o outperforms its older cousin."
      ]
    },
    {
      "cell_type": "markdown",
      "metadata": {
        "id": "R88DTSq_ogvs"
      },
      "source": [
        "![picture](https://storage.cloud.google.com/arize-assets/phoenix/assets/images/email-extraction-example.png)"
      ]
    },
    {
      "cell_type": "markdown",
      "metadata": {
        "id": "iIi5yd9LsikE"
      },
      "source": [
        "From here you could try out different models or iterate on your prompt, then run the same experiment with a modified Task to compare results."
      ]
    }
  ],
  "metadata": {
    "colab": {
      "provenance": []
    },
    "kernelspec": {
      "display_name": "Python 3",
      "name": "python3"
    },
    "language_info": {
      "codemirror_mode": {
        "name": "ipython",
        "version": 3
      },
      "file_extension": ".py",
      "mimetype": "text/x-python",
      "name": "python",
      "nbconvert_exporter": "python",
      "pygments_lexer": "ipython3",
      "version": "3.12.4"
    },
    "widgets": {
      "application/vnd.jupyter.widget-state+json": {
        "00cc5ee81fcb4bb2827ee219df026e5a": {
          "model_module": "@jupyter-widgets/controls",
          "model_module_version": "2.0.0",
          "model_name": "HTMLStyleModel",
          "state": {
            "_model_module": "@jupyter-widgets/controls",
            "_model_module_version": "2.0.0",
            "_model_name": "HTMLStyleModel",
            "_view_count": null,
            "_view_module": "@jupyter-widgets/base",
            "_view_module_version": "2.0.0",
            "_view_name": "StyleView",
            "background": null,
            "description_width": "",
            "font_size": null,
            "text_color": null
          }
        },
        "0e99108df556418184960aac55ef31b8": {
          "model_module": "@jupyter-widgets/base",
          "model_module_version": "2.0.0",
          "model_name": "LayoutModel",
          "state": {
            "_model_module": "@jupyter-widgets/base",
            "_model_module_version": "2.0.0",
            "_model_name": "LayoutModel",
            "_view_count": null,
            "_view_module": "@jupyter-widgets/base",
            "_view_module_version": "2.0.0",
            "_view_name": "LayoutView",
            "align_content": null,
            "align_items": null,
            "align_self": null,
            "border_bottom": null,
            "border_left": null,
            "border_right": null,
            "border_top": null,
            "bottom": null,
            "display": null,
            "flex": null,
            "flex_flow": null,
            "grid_area": null,
            "grid_auto_columns": null,
            "grid_auto_flow": null,
            "grid_auto_rows": null,
            "grid_column": null,
            "grid_gap": null,
            "grid_row": null,
            "grid_template_areas": null,
            "grid_template_columns": null,
            "grid_template_rows": null,
            "height": null,
            "justify_content": null,
            "justify_items": null,
            "left": null,
            "margin": null,
            "max_height": null,
            "max_width": null,
            "min_height": null,
            "min_width": null,
            "object_fit": null,
            "object_position": null,
            "order": null,
            "overflow": null,
            "padding": null,
            "right": null,
            "top": null,
            "visibility": null,
            "width": null
          }
        },
        "0eb1369f66e146039bdba12ab417daf2": {
          "model_module": "@jupyter-widgets/controls",
          "model_module_version": "2.0.0",
          "model_name": "FloatProgressModel",
          "state": {
            "_dom_classes": [],
            "_model_module": "@jupyter-widgets/controls",
            "_model_module_version": "2.0.0",
            "_model_name": "FloatProgressModel",
            "_view_count": null,
            "_view_module": "@jupyter-widgets/controls",
            "_view_module_version": "2.0.0",
            "_view_name": "ProgressView",
            "bar_style": "success",
            "description": "",
            "description_allow_html": false,
            "layout": "IPY_MODEL_4673c694c6cf41b883a73022b815b1e6",
            "max": 10,
            "min": 0,
            "orientation": "horizontal",
            "style": "IPY_MODEL_7eae9af4538049daad43f3c764372e77",
            "tabbable": null,
            "tooltip": null,
            "value": 10
          }
        },
        "142a9dff14a34c03ac3c4642f79a6c75": {
          "model_module": "@jupyter-widgets/controls",
          "model_module_version": "2.0.0",
          "model_name": "HTMLModel",
          "state": {
            "_dom_classes": [],
            "_model_module": "@jupyter-widgets/controls",
            "_model_module_version": "2.0.0",
            "_model_name": "HTMLModel",
            "_view_count": null,
            "_view_module": "@jupyter-widgets/controls",
            "_view_module_version": "2.0.0",
            "_view_name": "HTMLView",
            "description": "",
            "description_allow_html": false,
            "layout": "IPY_MODEL_b0515bb060ba4b2e9b2ebaf7a05f19e1",
            "placeholder": "​",
            "style": "IPY_MODEL_d7a2823b513e44bab09592bdd2b37c26",
            "tabbable": null,
            "tooltip": null,
            "value": " 10/10 (100.0%) | ⏳ 03:31&lt;00:00 |  8.08it/s"
          }
        },
        "1c06fd82c7b2447a81c3346a02befec5": {
          "model_module": "@jupyter-widgets/base",
          "model_module_version": "2.0.0",
          "model_name": "LayoutModel",
          "state": {
            "_model_module": "@jupyter-widgets/base",
            "_model_module_version": "2.0.0",
            "_model_name": "LayoutModel",
            "_view_count": null,
            "_view_module": "@jupyter-widgets/base",
            "_view_module_version": "2.0.0",
            "_view_name": "LayoutView",
            "align_content": null,
            "align_items": null,
            "align_self": null,
            "border_bottom": null,
            "border_left": null,
            "border_right": null,
            "border_top": null,
            "bottom": null,
            "display": null,
            "flex": null,
            "flex_flow": null,
            "grid_area": null,
            "grid_auto_columns": null,
            "grid_auto_flow": null,
            "grid_auto_rows": null,
            "grid_column": null,
            "grid_gap": null,
            "grid_row": null,
            "grid_template_areas": null,
            "grid_template_columns": null,
            "grid_template_rows": null,
            "height": null,
            "justify_content": null,
            "justify_items": null,
            "left": null,
            "margin": null,
            "max_height": null,
            "max_width": null,
            "min_height": null,
            "min_width": null,
            "object_fit": null,
            "object_position": null,
            "order": null,
            "overflow": null,
            "padding": null,
            "right": null,
            "top": null,
            "visibility": null,
            "width": null
          }
        },
        "1cd3c9c420214ee19da5bc83842137bc": {
          "model_module": "@jupyter-widgets/base",
          "model_module_version": "2.0.0",
          "model_name": "LayoutModel",
          "state": {
            "_model_module": "@jupyter-widgets/base",
            "_model_module_version": "2.0.0",
            "_model_name": "LayoutModel",
            "_view_count": null,
            "_view_module": "@jupyter-widgets/base",
            "_view_module_version": "2.0.0",
            "_view_name": "LayoutView",
            "align_content": null,
            "align_items": null,
            "align_self": null,
            "border_bottom": null,
            "border_left": null,
            "border_right": null,
            "border_top": null,
            "bottom": null,
            "display": null,
            "flex": null,
            "flex_flow": null,
            "grid_area": null,
            "grid_auto_columns": null,
            "grid_auto_flow": null,
            "grid_auto_rows": null,
            "grid_column": null,
            "grid_gap": null,
            "grid_row": null,
            "grid_template_areas": null,
            "grid_template_columns": null,
            "grid_template_rows": null,
            "height": null,
            "justify_content": null,
            "justify_items": null,
            "left": null,
            "margin": null,
            "max_height": null,
            "max_width": null,
            "min_height": null,
            "min_width": null,
            "object_fit": null,
            "object_position": null,
            "order": null,
            "overflow": null,
            "padding": null,
            "right": null,
            "top": null,
            "visibility": null,
            "width": null
          }
        },
        "23c0e2e29c1443e08dfeda81b8383ed1": {
          "model_module": "@jupyter-widgets/controls",
          "model_module_version": "2.0.0",
          "model_name": "HBoxModel",
          "state": {
            "_dom_classes": [],
            "_model_module": "@jupyter-widgets/controls",
            "_model_module_version": "2.0.0",
            "_model_name": "HBoxModel",
            "_view_count": null,
            "_view_module": "@jupyter-widgets/controls",
            "_view_module_version": "2.0.0",
            "_view_name": "HBoxView",
            "box_style": "",
            "children": [
              "IPY_MODEL_5b7212e1ed70496cbf64f9159cefd3fb",
              "IPY_MODEL_53cf998a2e80400ba2b36dc1b6d31163",
              "IPY_MODEL_4ec6257ea38140e6ab4708b9fe6954cc"
            ],
            "layout": "IPY_MODEL_1cd3c9c420214ee19da5bc83842137bc",
            "tabbable": null,
            "tooltip": null
          }
        },
        "271517f8ed794e54bb4d71363cb00dde": {
          "model_module": "@jupyter-widgets/base",
          "model_module_version": "2.0.0",
          "model_name": "LayoutModel",
          "state": {
            "_model_module": "@jupyter-widgets/base",
            "_model_module_version": "2.0.0",
            "_model_name": "LayoutModel",
            "_view_count": null,
            "_view_module": "@jupyter-widgets/base",
            "_view_module_version": "2.0.0",
            "_view_name": "LayoutView",
            "align_content": null,
            "align_items": null,
            "align_self": null,
            "border_bottom": null,
            "border_left": null,
            "border_right": null,
            "border_top": null,
            "bottom": null,
            "display": null,
            "flex": null,
            "flex_flow": null,
            "grid_area": null,
            "grid_auto_columns": null,
            "grid_auto_flow": null,
            "grid_auto_rows": null,
            "grid_column": null,
            "grid_gap": null,
            "grid_row": null,
            "grid_template_areas": null,
            "grid_template_columns": null,
            "grid_template_rows": null,
            "height": null,
            "justify_content": null,
            "justify_items": null,
            "left": null,
            "margin": null,
            "max_height": null,
            "max_width": null,
            "min_height": null,
            "min_width": null,
            "object_fit": null,
            "object_position": null,
            "order": null,
            "overflow": null,
            "padding": null,
            "right": null,
            "top": null,
            "visibility": null,
            "width": null
          }
        },
        "331094037e404cad8af99ef6fbba62f1": {
          "model_module": "@jupyter-widgets/base",
          "model_module_version": "2.0.0",
          "model_name": "LayoutModel",
          "state": {
            "_model_module": "@jupyter-widgets/base",
            "_model_module_version": "2.0.0",
            "_model_name": "LayoutModel",
            "_view_count": null,
            "_view_module": "@jupyter-widgets/base",
            "_view_module_version": "2.0.0",
            "_view_name": "LayoutView",
            "align_content": null,
            "align_items": null,
            "align_self": null,
            "border_bottom": null,
            "border_left": null,
            "border_right": null,
            "border_top": null,
            "bottom": null,
            "display": null,
            "flex": null,
            "flex_flow": null,
            "grid_area": null,
            "grid_auto_columns": null,
            "grid_auto_flow": null,
            "grid_auto_rows": null,
            "grid_column": null,
            "grid_gap": null,
            "grid_row": null,
            "grid_template_areas": null,
            "grid_template_columns": null,
            "grid_template_rows": null,
            "height": null,
            "justify_content": null,
            "justify_items": null,
            "left": null,
            "margin": null,
            "max_height": null,
            "max_width": null,
            "min_height": null,
            "min_width": null,
            "object_fit": null,
            "object_position": null,
            "order": null,
            "overflow": null,
            "padding": null,
            "right": null,
            "top": null,
            "visibility": null,
            "width": null
          }
        },
        "4673c694c6cf41b883a73022b815b1e6": {
          "model_module": "@jupyter-widgets/base",
          "model_module_version": "2.0.0",
          "model_name": "LayoutModel",
          "state": {
            "_model_module": "@jupyter-widgets/base",
            "_model_module_version": "2.0.0",
            "_model_name": "LayoutModel",
            "_view_count": null,
            "_view_module": "@jupyter-widgets/base",
            "_view_module_version": "2.0.0",
            "_view_name": "LayoutView",
            "align_content": null,
            "align_items": null,
            "align_self": null,
            "border_bottom": null,
            "border_left": null,
            "border_right": null,
            "border_top": null,
            "bottom": null,
            "display": null,
            "flex": null,
            "flex_flow": null,
            "grid_area": null,
            "grid_auto_columns": null,
            "grid_auto_flow": null,
            "grid_auto_rows": null,
            "grid_column": null,
            "grid_gap": null,
            "grid_row": null,
            "grid_template_areas": null,
            "grid_template_columns": null,
            "grid_template_rows": null,
            "height": null,
            "justify_content": null,
            "justify_items": null,
            "left": null,
            "margin": null,
            "max_height": null,
            "max_width": null,
            "min_height": null,
            "min_width": null,
            "object_fit": null,
            "object_position": null,
            "order": null,
            "overflow": null,
            "padding": null,
            "right": null,
            "top": null,
            "visibility": null,
            "width": null
          }
        },
        "4ec6257ea38140e6ab4708b9fe6954cc": {
          "model_module": "@jupyter-widgets/controls",
          "model_module_version": "2.0.0",
          "model_name": "HTMLModel",
          "state": {
            "_dom_classes": [],
            "_model_module": "@jupyter-widgets/controls",
            "_model_module_version": "2.0.0",
            "_model_name": "HTMLModel",
            "_view_count": null,
            "_view_module": "@jupyter-widgets/controls",
            "_view_module_version": "2.0.0",
            "_view_name": "HTMLView",
            "description": "",
            "description_allow_html": false,
            "layout": "IPY_MODEL_271517f8ed794e54bb4d71363cb00dde",
            "placeholder": "​",
            "style": "IPY_MODEL_dad19e00c2f04b75b0dad99c5a4bb642",
            "tabbable": null,
            "tooltip": null,
            "value": " 42/42 [00:00&lt;00:00, 1232.01it/s]"
          }
        },
        "53cf998a2e80400ba2b36dc1b6d31163": {
          "model_module": "@jupyter-widgets/controls",
          "model_module_version": "2.0.0",
          "model_name": "FloatProgressModel",
          "state": {
            "_dom_classes": [],
            "_model_module": "@jupyter-widgets/controls",
            "_model_module_version": "2.0.0",
            "_model_name": "FloatProgressModel",
            "_view_count": null,
            "_view_module": "@jupyter-widgets/controls",
            "_view_module_version": "2.0.0",
            "_view_name": "ProgressView",
            "bar_style": "success",
            "description": "",
            "description_allow_html": false,
            "layout": "IPY_MODEL_1c06fd82c7b2447a81c3346a02befec5",
            "max": 42,
            "min": 0,
            "orientation": "horizontal",
            "style": "IPY_MODEL_9553474bbbe04a678aa6967ecd6c16d5",
            "tabbable": null,
            "tooltip": null,
            "value": 42
          }
        },
        "5b7212e1ed70496cbf64f9159cefd3fb": {
          "model_module": "@jupyter-widgets/controls",
          "model_module_version": "2.0.0",
          "model_name": "HTMLModel",
          "state": {
            "_dom_classes": [],
            "_model_module": "@jupyter-widgets/controls",
            "_model_module_version": "2.0.0",
            "_model_name": "HTMLModel",
            "_view_count": null,
            "_view_module": "@jupyter-widgets/controls",
            "_view_module_version": "2.0.0",
            "_view_name": "HTMLView",
            "description": "",
            "description_allow_html": false,
            "layout": "IPY_MODEL_0e99108df556418184960aac55ef31b8",
            "placeholder": "​",
            "style": "IPY_MODEL_b9fee4b032e24cfd96bc3cf5d9243bed",
            "tabbable": null,
            "tooltip": null,
            "value": "100%"
          }
        },
        "7e45d773bd8047618b4ff059c4eb3a97": {
          "model_module": "@jupyter-widgets/base",
          "model_module_version": "2.0.0",
          "model_name": "LayoutModel",
          "state": {
            "_model_module": "@jupyter-widgets/base",
            "_model_module_version": "2.0.0",
            "_model_name": "LayoutModel",
            "_view_count": null,
            "_view_module": "@jupyter-widgets/base",
            "_view_module_version": "2.0.0",
            "_view_name": "LayoutView",
            "align_content": null,
            "align_items": null,
            "align_self": null,
            "border_bottom": null,
            "border_left": null,
            "border_right": null,
            "border_top": null,
            "bottom": null,
            "display": null,
            "flex": null,
            "flex_flow": null,
            "grid_area": null,
            "grid_auto_columns": null,
            "grid_auto_flow": null,
            "grid_auto_rows": null,
            "grid_column": null,
            "grid_gap": null,
            "grid_row": null,
            "grid_template_areas": null,
            "grid_template_columns": null,
            "grid_template_rows": null,
            "height": null,
            "justify_content": null,
            "justify_items": null,
            "left": null,
            "margin": null,
            "max_height": null,
            "max_width": null,
            "min_height": null,
            "min_width": null,
            "object_fit": null,
            "object_position": null,
            "order": null,
            "overflow": null,
            "padding": null,
            "right": null,
            "top": null,
            "visibility": null,
            "width": null
          }
        },
        "7eae9af4538049daad43f3c764372e77": {
          "model_module": "@jupyter-widgets/controls",
          "model_module_version": "2.0.0",
          "model_name": "ProgressStyleModel",
          "state": {
            "_model_module": "@jupyter-widgets/controls",
            "_model_module_version": "2.0.0",
            "_model_name": "ProgressStyleModel",
            "_view_count": null,
            "_view_module": "@jupyter-widgets/base",
            "_view_module_version": "2.0.0",
            "_view_name": "StyleView",
            "bar_color": null,
            "description_width": ""
          }
        },
        "9553474bbbe04a678aa6967ecd6c16d5": {
          "model_module": "@jupyter-widgets/controls",
          "model_module_version": "2.0.0",
          "model_name": "ProgressStyleModel",
          "state": {
            "_model_module": "@jupyter-widgets/controls",
            "_model_module_version": "2.0.0",
            "_model_name": "ProgressStyleModel",
            "_view_count": null,
            "_view_module": "@jupyter-widgets/base",
            "_view_module_version": "2.0.0",
            "_view_name": "StyleView",
            "bar_color": null,
            "description_width": ""
          }
        },
        "b0515bb060ba4b2e9b2ebaf7a05f19e1": {
          "model_module": "@jupyter-widgets/base",
          "model_module_version": "2.0.0",
          "model_name": "LayoutModel",
          "state": {
            "_model_module": "@jupyter-widgets/base",
            "_model_module_version": "2.0.0",
            "_model_name": "LayoutModel",
            "_view_count": null,
            "_view_module": "@jupyter-widgets/base",
            "_view_module_version": "2.0.0",
            "_view_name": "LayoutView",
            "align_content": null,
            "align_items": null,
            "align_self": null,
            "border_bottom": null,
            "border_left": null,
            "border_right": null,
            "border_top": null,
            "bottom": null,
            "display": null,
            "flex": null,
            "flex_flow": null,
            "grid_area": null,
            "grid_auto_columns": null,
            "grid_auto_flow": null,
            "grid_auto_rows": null,
            "grid_column": null,
            "grid_gap": null,
            "grid_row": null,
            "grid_template_areas": null,
            "grid_template_columns": null,
            "grid_template_rows": null,
            "height": null,
            "justify_content": null,
            "justify_items": null,
            "left": null,
            "margin": null,
            "max_height": null,
            "max_width": null,
            "min_height": null,
            "min_width": null,
            "object_fit": null,
            "object_position": null,
            "order": null,
            "overflow": null,
            "padding": null,
            "right": null,
            "top": null,
            "visibility": null,
            "width": null
          }
        },
        "b9fee4b032e24cfd96bc3cf5d9243bed": {
          "model_module": "@jupyter-widgets/controls",
          "model_module_version": "2.0.0",
          "model_name": "HTMLStyleModel",
          "state": {
            "_model_module": "@jupyter-widgets/controls",
            "_model_module_version": "2.0.0",
            "_model_name": "HTMLStyleModel",
            "_view_count": null,
            "_view_module": "@jupyter-widgets/base",
            "_view_module_version": "2.0.0",
            "_view_name": "StyleView",
            "background": null,
            "description_width": "",
            "font_size": null,
            "text_color": null
          }
        },
        "ba77edf0386043cba71514462f8ab091": {
          "model_module": "@jupyter-widgets/controls",
          "model_module_version": "2.0.0",
          "model_name": "HBoxModel",
          "state": {
            "_dom_classes": [],
            "_model_module": "@jupyter-widgets/controls",
            "_model_module_version": "2.0.0",
            "_model_name": "HBoxModel",
            "_view_count": null,
            "_view_module": "@jupyter-widgets/controls",
            "_view_module_version": "2.0.0",
            "_view_name": "HBoxView",
            "box_style": "",
            "children": [
              "IPY_MODEL_e841eddee20e4b74b72cfcd4307bd6cd",
              "IPY_MODEL_0eb1369f66e146039bdba12ab417daf2",
              "IPY_MODEL_142a9dff14a34c03ac3c4642f79a6c75"
            ],
            "layout": "IPY_MODEL_7e45d773bd8047618b4ff059c4eb3a97",
            "tabbable": null,
            "tooltip": null
          }
        },
        "d7a2823b513e44bab09592bdd2b37c26": {
          "model_module": "@jupyter-widgets/controls",
          "model_module_version": "2.0.0",
          "model_name": "HTMLStyleModel",
          "state": {
            "_model_module": "@jupyter-widgets/controls",
            "_model_module_version": "2.0.0",
            "_model_name": "HTMLStyleModel",
            "_view_count": null,
            "_view_module": "@jupyter-widgets/base",
            "_view_module_version": "2.0.0",
            "_view_name": "StyleView",
            "background": null,
            "description_width": "",
            "font_size": null,
            "text_color": null
          }
        },
        "dad19e00c2f04b75b0dad99c5a4bb642": {
          "model_module": "@jupyter-widgets/controls",
          "model_module_version": "2.0.0",
          "model_name": "HTMLStyleModel",
          "state": {
            "_model_module": "@jupyter-widgets/controls",
            "_model_module_version": "2.0.0",
            "_model_name": "HTMLStyleModel",
            "_view_count": null,
            "_view_module": "@jupyter-widgets/base",
            "_view_module_version": "2.0.0",
            "_view_name": "StyleView",
            "background": null,
            "description_width": "",
            "font_size": null,
            "text_color": null
          }
        },
        "e841eddee20e4b74b72cfcd4307bd6cd": {
          "model_module": "@jupyter-widgets/controls",
          "model_module_version": "2.0.0",
          "model_name": "HTMLModel",
          "state": {
            "_dom_classes": [],
            "_model_module": "@jupyter-widgets/controls",
            "_model_module_version": "2.0.0",
            "_model_name": "HTMLModel",
            "_view_count": null,
            "_view_module": "@jupyter-widgets/controls",
            "_view_module_version": "2.0.0",
            "_view_name": "HTMLView",
            "description": "",
            "description_allow_html": false,
            "layout": "IPY_MODEL_331094037e404cad8af99ef6fbba62f1",
            "placeholder": "​",
            "style": "IPY_MODEL_00cc5ee81fcb4bb2827ee219df026e5a",
            "tabbable": null,
            "tooltip": null,
            "value": "running tasks "
          }
        }
      }
    }
  },
  "nbformat": 4,
  "nbformat_minor": 0
}
