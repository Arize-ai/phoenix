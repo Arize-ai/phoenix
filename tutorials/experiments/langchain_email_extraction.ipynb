{
 "cells": [
  {
   "cell_type": "markdown",
   "metadata": {
    "id": "o966s6TtykEa"
   },
   "source": []
  },
  {
   "cell_type": "code",
   "execution_count": 1,
   "metadata": {},
   "outputs": [],
   "source": [
    "# !pip install arize-phoenix langchain langchain-core langchain-community langchain-benchmarks nest_asyncio jarowinkler"
   ]
  },
  {
   "cell_type": "markdown",
   "metadata": {},
   "source": [
    "# Set Up OpenAI API Key"
   ]
  },
  {
   "cell_type": "code",
   "execution_count": 2,
   "metadata": {},
   "outputs": [],
   "source": [
    "import os\n",
    "from getpass import getpass\n",
    "\n",
    "if not os.getenv(\"OPENAI_API_KEY\"):\n",
    "    os.environ[\"OPENAI_API_KEY\"] = getpass(\"🔑 Enter your OpenAI API key: \")"
   ]
  },
  {
   "cell_type": "markdown",
   "metadata": {},
   "source": [
    "# Import Modules"
   ]
  },
  {
   "cell_type": "code",
   "execution_count": 3,
   "metadata": {},
   "outputs": [],
   "source": [
    "import json\n",
    "import tempfile\n",
    "\n",
    "import jarowinkler\n",
    "import nest_asyncio\n",
    "import pandas as pd\n",
    "import phoenix as px\n",
    "from langchain.output_parsers.openai_functions import JsonOutputFunctionsParser\n",
    "from langchain_benchmarks import download_public_dataset, registry\n",
    "from langchain_openai.chat_models import ChatOpenAI\n",
    "from openinference.instrumentation.langchain import LangChainInstrumentor\n",
    "from openinference.instrumentation.openai import OpenAIInstrumentor\n",
    "from opentelemetry.exporter.otlp.proto.grpc.trace_exporter import OTLPSpanExporter\n",
    "from opentelemetry.sdk.trace import TracerProvider\n",
    "from opentelemetry.sdk.trace.export import SimpleSpanProcessor\n",
    "from phoenix.datasets.experiments import evaluate_experiment, run_experiment\n",
    "from phoenix.datasets.types import Example\n",
    "\n",
    "nest_asyncio.apply()"
   ]
  },
  {
   "cell_type": "markdown",
   "metadata": {},
   "source": [
    "# Launch Phoenix"
   ]
  },
  {
   "cell_type": "code",
   "execution_count": 4,
   "metadata": {},
   "outputs": [],
   "source": [
    "# px.launch_app()"
   ]
  },
  {
   "cell_type": "markdown",
   "metadata": {},
   "source": [
    "# Instrument LangChain and OpenAI"
   ]
  },
  {
   "cell_type": "code",
   "execution_count": 5,
   "metadata": {},
   "outputs": [],
   "source": [
    "endpoint = \"http://127.0.0.1:4317\"\n",
    "(tracer_provider := TracerProvider()).add_span_processor(\n",
    "    SimpleSpanProcessor(OTLPSpanExporter(endpoint))\n",
    ")\n",
    "\n",
    "LangChainInstrumentor().instrument(tracer_provider=tracer_provider)\n",
    "OpenAIInstrumentor().instrument(tracer_provider=tracer_provider)"
   ]
  },
  {
   "cell_type": "markdown",
   "metadata": {},
   "source": [
    "# Download JSON Data"
   ]
  },
  {
   "cell_type": "code",
   "execution_count": 6,
   "metadata": {},
   "outputs": [
    {
     "name": "stdout",
     "output_type": "stream",
     "text": [
      "Fetching examples...\n"
     ]
    },
    {
     "data": {
      "application/vnd.jupyter.widget-view+json": {
       "model_id": "b37ce21adad04430a0f828e08d622167",
       "version_major": 2,
       "version_minor": 0
      },
      "text/plain": [
       "  0%|          | 0/42 [00:00<?, ?it/s]"
      ]
     },
     "metadata": {},
     "output_type": "display_data"
    },
    {
     "name": "stdout",
     "output_type": "stream",
     "text": [
      "Done fetching examples.\n"
     ]
    },
    {
     "data": {
      "text/html": [
       "<div>\n",
       "<style scoped>\n",
       "    .dataframe tbody tr th:only-of-type {\n",
       "        vertical-align: middle;\n",
       "    }\n",
       "\n",
       "    .dataframe tbody tr th {\n",
       "        vertical-align: top;\n",
       "    }\n",
       "\n",
       "    .dataframe thead th {\n",
       "        text-align: right;\n",
       "    }\n",
       "</style>\n",
       "<table border=\"1\" class=\"dataframe\">\n",
       "  <thead>\n",
       "    <tr style=\"text-align: right;\">\n",
       "      <th></th>\n",
       "      <th>inputs</th>\n",
       "      <th>outputs</th>\n",
       "    </tr>\n",
       "  </thead>\n",
       "  <tbody>\n",
       "    <tr>\n",
       "      <th>25</th>\n",
       "      <td>{'input': '**iCloud** ��  \n",
       "  \n",
       "# Failed to atte...</td>\n",
       "      <td>{'output': {'tone': 'negative', 'topic': 'iClo...</td>\n",
       "    </tr>\n",
       "    <tr>\n",
       "      <th>13</th>\n",
       "      <td>{'input': '---  \n",
       "  \n",
       "|\n",
       "\n",
       "We Passed the Stop Dang...</td>\n",
       "      <td>{'output': {'tone': 'positive', 'topic': 'Stop...</td>\n",
       "    </tr>\n",
       "    <tr>\n",
       "      <th>8</th>\n",
       "      <td>{'input': '####  Where sustainability meets st...</td>\n",
       "      <td>{'output': {'tone': 'positive', 'topic': 'Prom...</td>\n",
       "    </tr>\n",
       "    <tr>\n",
       "      <th>26</th>\n",
       "      <td>{'input': '|  |  |  |  |  |\n",
       "\n",
       "Hello Jacob, 👋\n",
       "\n",
       " ...</td>\n",
       "      <td>{'output': {'tone': 'positive', 'topic': 'Busi...</td>\n",
       "    </tr>\n",
       "    <tr>\n",
       "      <th>4</th>\n",
       "      <td>{'input': 'Some travelers plan ahead; others p...</td>\n",
       "      <td>{'output': {'tone': 'positive', 'topic': 'Trav...</td>\n",
       "    </tr>\n",
       "    <tr>\n",
       "      <th>39</th>\n",
       "      <td>{'input': '---  \n",
       "|\n",
       "\n",
       "Costco  \n",
       "  \n",
       "---  \n",
       "  \n",
       "ANSWE...</td>\n",
       "      <td>{'output': {'tone': 'positive', 'topic': 'Invi...</td>\n",
       "    </tr>\n",
       "    <tr>\n",
       "      <th>19</th>\n",
       "      <td>{'input': 'Dear Jacob,  \n",
       "  \n",
       "Your opinion matte...</td>\n",
       "      <td>{'output': {'tone': 'positive', 'topic': 'Invi...</td>\n",
       "    </tr>\n",
       "    <tr>\n",
       "      <th>29</th>\n",
       "      <td>{'input': '_`I Am looking for a possible partn...</td>\n",
       "      <td>{'output': {'tone': 'positive', 'topic': 'Inve...</td>\n",
       "    </tr>\n",
       "    <tr>\n",
       "      <th>30</th>\n",
       "      <td>{'input': 'It's always been a hassle to get mo...</td>\n",
       "      <td>{'output': {'tone': 'positive', 'topic': 'Busi...</td>\n",
       "    </tr>\n",
       "    <tr>\n",
       "      <th>6</th>\n",
       "      <td>{'input': 'Your exclusive retreat at The Venet...</td>\n",
       "      <td>{'output': {'tone': 'positive', 'topic': 'Excl...</td>\n",
       "    </tr>\n",
       "  </tbody>\n",
       "</table>\n",
       "</div>"
      ],
      "text/plain": [
       "                                               inputs  \\\n",
       "25  {'input': '**iCloud** ��  \n",
       "  \n",
       "# Failed to atte...   \n",
       "13  {'input': '---  \n",
       "  \n",
       "|\n",
       "\n",
       "We Passed the Stop Dang...   \n",
       "8   {'input': '####  Where sustainability meets st...   \n",
       "26  {'input': '|  |  |  |  |  |\n",
       "\n",
       "Hello Jacob, 👋\n",
       "\n",
       " ...   \n",
       "4   {'input': 'Some travelers plan ahead; others p...   \n",
       "39  {'input': '---  \n",
       "|\n",
       "\n",
       "Costco  \n",
       "  \n",
       "---  \n",
       "  \n",
       "ANSWE...   \n",
       "19  {'input': 'Dear Jacob,  \n",
       "  \n",
       "Your opinion matte...   \n",
       "29  {'input': '_`I Am looking for a possible partn...   \n",
       "30  {'input': 'It's always been a hassle to get mo...   \n",
       "6   {'input': 'Your exclusive retreat at The Venet...   \n",
       "\n",
       "                                              outputs  \n",
       "25  {'output': {'tone': 'negative', 'topic': 'iClo...  \n",
       "13  {'output': {'tone': 'positive', 'topic': 'Stop...  \n",
       "8   {'output': {'tone': 'positive', 'topic': 'Prom...  \n",
       "26  {'output': {'tone': 'positive', 'topic': 'Busi...  \n",
       "4   {'output': {'tone': 'positive', 'topic': 'Trav...  \n",
       "39  {'output': {'tone': 'positive', 'topic': 'Invi...  \n",
       "19  {'output': {'tone': 'positive', 'topic': 'Invi...  \n",
       "29  {'output': {'tone': 'positive', 'topic': 'Inve...  \n",
       "30  {'output': {'tone': 'positive', 'topic': 'Busi...  \n",
       "6   {'output': {'tone': 'positive', 'topic': 'Excl...  "
      ]
     },
     "execution_count": 6,
     "metadata": {},
     "output_type": "execute_result"
    }
   ],
   "source": [
    "dataset_name = \"Email Extraction\"\n",
    "\n",
    "with tempfile.NamedTemporaryFile(suffix=\".json\") as f:\n",
    "    download_public_dataset(registry[dataset_name].dataset_id, path=f.name)\n",
    "    df = pd.read_json(f.name)[[\"inputs\", \"outputs\"]]\n",
    "df = df.sample(10, random_state=42)\n",
    "df"
   ]
  },
  {
   "cell_type": "markdown",
   "metadata": {},
   "source": [
    "# Upload Dataset to Phoenix"
   ]
  },
  {
   "cell_type": "code",
   "execution_count": 8,
   "metadata": {},
   "outputs": [
    {
     "data": {
      "text/html": [
       "<div>\n",
       "<style scoped>\n",
       "    .dataframe tbody tr th:only-of-type {\n",
       "        vertical-align: middle;\n",
       "    }\n",
       "\n",
       "    .dataframe tbody tr th {\n",
       "        vertical-align: top;\n",
       "    }\n",
       "\n",
       "    .dataframe thead th {\n",
       "        text-align: right;\n",
       "    }\n",
       "</style>\n",
       "<table border=\"1\" class=\"dataframe\">\n",
       "  <thead>\n",
       "    <tr style=\"text-align: right;\">\n",
       "      <th></th>\n",
       "      <th>input</th>\n",
       "      <th>output</th>\n",
       "      <th>metadata</th>\n",
       "    </tr>\n",
       "    <tr>\n",
       "      <th>example_id</th>\n",
       "      <th></th>\n",
       "      <th></th>\n",
       "      <th></th>\n",
       "    </tr>\n",
       "  </thead>\n",
       "  <tbody>\n",
       "    <tr>\n",
       "      <th>RGF0YXNldEV4YW1wbGU6MTcz</th>\n",
       "      <td>{'inputs': {'input': '**iCloud** ��  \n",
       "  \n",
       "# Fai...</td>\n",
       "      <td>{'outputs': {'output': {'action_items': ['Upda...</td>\n",
       "      <td>{}</td>\n",
       "    </tr>\n",
       "    <tr>\n",
       "      <th>RGF0YXNldEV4YW1wbGU6MTc0</th>\n",
       "      <td>{'inputs': {'input': '---  \n",
       "  \n",
       "|\n",
       "\n",
       "We Passed th...</td>\n",
       "      <td>{'outputs': {'output': {'action_items': ['visi...</td>\n",
       "      <td>{}</td>\n",
       "    </tr>\n",
       "    <tr>\n",
       "      <th>RGF0YXNldEV4YW1wbGU6MTc1</th>\n",
       "      <td>{'inputs': {'input': '####  Where sustainabili...</td>\n",
       "      <td>{'outputs': {'output': {'action_items': ['Choo...</td>\n",
       "      <td>{}</td>\n",
       "    </tr>\n",
       "    <tr>\n",
       "      <th>RGF0YXNldEV4YW1wbGU6MTc2</th>\n",
       "      <td>{'inputs': {'input': '|  |  |  |  |  |\n",
       "\n",
       "Hello ...</td>\n",
       "      <td>{'outputs': {'output': {'action_items': ['Tell...</td>\n",
       "      <td>{}</td>\n",
       "    </tr>\n",
       "    <tr>\n",
       "      <th>RGF0YXNldEV4YW1wbGU6MTc3</th>\n",
       "      <td>{'inputs': {'input': 'Some travelers plan ahea...</td>\n",
       "      <td>{'outputs': {'output': {'action_items': ['Cons...</td>\n",
       "      <td>{}</td>\n",
       "    </tr>\n",
       "  </tbody>\n",
       "</table>\n",
       "</div>"
      ],
      "text/plain": [
       "                                                                      input  \\\n",
       "example_id                                                                    \n",
       "RGF0YXNldEV4YW1wbGU6MTcz  {'inputs': {'input': '**iCloud** ��  \n",
       "  \n",
       "# Fai...   \n",
       "RGF0YXNldEV4YW1wbGU6MTc0  {'inputs': {'input': '---  \n",
       "  \n",
       "|\n",
       "\n",
       "We Passed th...   \n",
       "RGF0YXNldEV4YW1wbGU6MTc1  {'inputs': {'input': '####  Where sustainabili...   \n",
       "RGF0YXNldEV4YW1wbGU6MTc2  {'inputs': {'input': '|  |  |  |  |  |\n",
       "\n",
       "Hello ...   \n",
       "RGF0YXNldEV4YW1wbGU6MTc3  {'inputs': {'input': 'Some travelers plan ahea...   \n",
       "\n",
       "                                                                     output  \\\n",
       "example_id                                                                    \n",
       "RGF0YXNldEV4YW1wbGU6MTcz  {'outputs': {'output': {'action_items': ['Upda...   \n",
       "RGF0YXNldEV4YW1wbGU6MTc0  {'outputs': {'output': {'action_items': ['visi...   \n",
       "RGF0YXNldEV4YW1wbGU6MTc1  {'outputs': {'output': {'action_items': ['Choo...   \n",
       "RGF0YXNldEV4YW1wbGU6MTc2  {'outputs': {'output': {'action_items': ['Tell...   \n",
       "RGF0YXNldEV4YW1wbGU6MTc3  {'outputs': {'output': {'action_items': ['Cons...   \n",
       "\n",
       "                         metadata  \n",
       "example_id                         \n",
       "RGF0YXNldEV4YW1wbGU6MTcz       {}  \n",
       "RGF0YXNldEV4YW1wbGU6MTc0       {}  \n",
       "RGF0YXNldEV4YW1wbGU6MTc1       {}  \n",
       "RGF0YXNldEV4YW1wbGU6MTc2       {}  \n",
       "RGF0YXNldEV4YW1wbGU6MTc3       {}  "
      ]
     },
     "execution_count": 8,
     "metadata": {},
     "output_type": "execute_result"
    }
   ],
   "source": [
    "dataset = px.Client().upload_dataset(\n",
    "    df, name=dataset_name, input_keys=(\"inputs\",), output_keys=(\"outputs\",)\n",
    ")\n",
    "dataset.dataframe.head()"
   ]
  },
  {
   "cell_type": "markdown",
   "metadata": {},
   "source": [
    "# Set Up LangChain"
   ]
  },
  {
   "cell_type": "code",
   "execution_count": 9,
   "metadata": {},
   "outputs": [],
   "source": [
    "llm = ChatOpenAI(model=\"gpt-4o\").bind_functions(\n",
    "    functions=[registry[dataset_name].schema],\n",
    "    function_call=registry[dataset_name].schema.schema()[\"title\"],\n",
    ")\n",
    "output_parser = JsonOutputFunctionsParser()\n",
    "extraction_chain = registry[dataset_name].instructions | llm | output_parser"
   ]
  },
  {
   "cell_type": "markdown",
   "metadata": {},
   "source": [
    "# Define Task Function"
   ]
  },
  {
   "cell_type": "code",
   "execution_count": 10,
   "metadata": {},
   "outputs": [],
   "source": [
    "def task(ex: Example) -> str:\n",
    "    return extraction_chain.invoke(ex.input[\"inputs\"])"
   ]
  },
  {
   "cell_type": "markdown",
   "metadata": {},
   "source": [
    "# Check that the task is working by running it on at least one Example"
   ]
  },
  {
   "cell_type": "code",
   "execution_count": 11,
   "metadata": {},
   "outputs": [
    {
     "data": {
      "text/plain": [
       "{'sender': 'The iCloud Team',\n",
       " 'sender_address': '6101 Long Prairie Rd, Ste 744 #511, Flower Mound, TX, 75028',\n",
       " 'action_items': ['Update your payment information'],\n",
       " 'topic': 'Failed to renew iCloud storage subscription',\n",
       " 'tone': 'negative'}"
      ]
     },
     "execution_count": 11,
     "metadata": {},
     "output_type": "execute_result"
    }
   ],
   "source": [
    "task(dataset.examples[0])"
   ]
  },
  {
   "cell_type": "markdown",
   "metadata": {},
   "source": [
    "# Run Experiment"
   ]
  },
  {
   "cell_type": "code",
   "execution_count": 12,
   "metadata": {},
   "outputs": [
    {
     "name": "stdout",
     "output_type": "stream",
     "text": [
      "🧪 Experiment started.\n",
      "📺 View dataset experiments: http://127.0.0.1:6006/datasets/RGF0YXNldDo4/experiments\n",
      "🔗 View this experiment: http://127.0.0.1:6006/datasets/RGF0YXNldDo4/compare?experimentId=RXhwZXJpbWVudDoxNA==\n"
     ]
    },
    {
     "data": {
      "application/vnd.jupyter.widget-view+json": {
       "model_id": "26fe375532fb4096a332ae6ce8e8d4f9",
       "version_major": 2,
       "version_minor": 0
      },
      "text/plain": [
       "running tasks |          | 0/10 (0.0%) | ⏳ 00:00<? | ?it/s"
      ]
     },
     "metadata": {},
     "output_type": "display_data"
    },
    {
     "name": "stdout",
     "output_type": "stream",
     "text": [
      "✅ Task runs completed.\n",
      "🧠 Evaluation started.\n"
     ]
    }
   ],
   "source": [
    "experiment = run_experiment(dataset, task)"
   ]
  },
  {
   "cell_type": "markdown",
   "metadata": {},
   "source": [
    "# Define Evaluator"
   ]
  },
  {
   "cell_type": "code",
   "execution_count": 15,
   "metadata": {},
   "outputs": [],
   "source": [
    "def jarowinkler_similarity(output, expected) -> int:\n",
    "    return jarowinkler.jarowinkler_similarity(\n",
    "        json.dumps(output, sort_keys=True),\n",
    "        json.dumps(expected[\"outputs\"][\"output\"], sort_keys=True),\n",
    "    )"
   ]
  },
  {
   "cell_type": "markdown",
   "metadata": {},
   "source": [
    "# Evaluate Experiment"
   ]
  },
  {
   "cell_type": "code",
   "execution_count": 16,
   "metadata": {},
   "outputs": [
    {
     "data": {
      "application/vnd.jupyter.widget-view+json": {
       "model_id": "cf64e617ba8e4a22b134a34a69037750",
       "version_major": 2,
       "version_minor": 0
      },
      "text/plain": [
       "running experiment evaluations |          | 0/10 (0.0%) | ⏳ 00:00<? | ?it/s"
      ]
     },
     "metadata": {},
     "output_type": "display_data"
    }
   ],
   "source": [
    "evaluate_experiment(experiment, jarowinkler_similarity)"
   ]
  }
 ],
 "metadata": {
  "language_info": {
   "name": "python"
  }
 },
 "nbformat": 4,
 "nbformat_minor": 0
}
