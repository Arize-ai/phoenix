{
 "cells": [
  {
   "cell_type": "markdown",
   "metadata": {},
   "source": [
    "# Milvus - llama - phoenix integration"
   ]
  },
  {
   "cell_type": "code",
   "execution_count": 1,
   "metadata": {
    "colab": {
     "base_uri": "https://localhost:8080/"
    },
    "id": "uQ-2Yl_9WCWs",
    "outputId": "f452587a-15c7-420f-e45c-e27866c69794"
   },
   "outputs": [
    {
     "name": "stdout",
     "output_type": "stream",
     "text": [
      "Requirement already satisfied: milvus[client] in /home/ruiciro/arize/arize_venv/lib/python3.11/site-packages (2.2.12)\n",
      "Requirement already satisfied: pymilvus!=2.2.14,<2.3.0,>=2.2.0 in /home/ruiciro/arize/arize_venv/lib/python3.11/site-packages (from milvus[client]) (2.2.13)\n",
      "Requirement already satisfied: grpcio<=1.56.0,>=1.49.1 in /home/ruiciro/arize/arize_venv/lib/python3.11/site-packages (from pymilvus!=2.2.14,<2.3.0,>=2.2.0->milvus[client]) (1.56.0)\n",
      "Requirement already satisfied: protobuf>=3.20.0 in /home/ruiciro/arize/arize_venv/lib/python3.11/site-packages (from pymilvus!=2.2.14,<2.3.0,>=2.2.0->milvus[client]) (4.23.4)\n",
      "Requirement already satisfied: environs<=9.5.0 in /home/ruiciro/arize/arize_venv/lib/python3.11/site-packages (from pymilvus!=2.2.14,<2.3.0,>=2.2.0->milvus[client]) (9.5.0)\n",
      "Requirement already satisfied: ujson>=2.0.0 in /home/ruiciro/arize/arize_venv/lib/python3.11/site-packages (from pymilvus!=2.2.14,<2.3.0,>=2.2.0->milvus[client]) (5.8.0)\n",
      "Requirement already satisfied: pandas>=1.2.4 in /home/ruiciro/arize/arize_venv/lib/python3.11/site-packages (from pymilvus!=2.2.14,<2.3.0,>=2.2.0->milvus[client]) (2.0.3)\n",
      "Requirement already satisfied: marshmallow>=3.0.0 in /home/ruiciro/arize/arize_venv/lib/python3.11/site-packages (from environs<=9.5.0->pymilvus!=2.2.14,<2.3.0,>=2.2.0->milvus[client]) (3.20.1)\n",
      "Requirement already satisfied: python-dotenv in /home/ruiciro/arize/arize_venv/lib/python3.11/site-packages (from environs<=9.5.0->pymilvus!=2.2.14,<2.3.0,>=2.2.0->milvus[client]) (1.0.0)\n",
      "Requirement already satisfied: python-dateutil>=2.8.2 in /home/ruiciro/arize/arize_venv/lib/python3.11/site-packages (from pandas>=1.2.4->pymilvus!=2.2.14,<2.3.0,>=2.2.0->milvus[client]) (2.8.2)\n",
      "Requirement already satisfied: pytz>=2020.1 in /home/ruiciro/arize/arize_venv/lib/python3.11/site-packages (from pandas>=1.2.4->pymilvus!=2.2.14,<2.3.0,>=2.2.0->milvus[client]) (2023.3)\n",
      "Requirement already satisfied: tzdata>=2022.1 in /home/ruiciro/arize/arize_venv/lib/python3.11/site-packages (from pandas>=1.2.4->pymilvus!=2.2.14,<2.3.0,>=2.2.0->milvus[client]) (2023.3)\n",
      "Requirement already satisfied: numpy>=1.21.0 in /home/ruiciro/arize/arize_venv/lib/python3.11/site-packages (from pandas>=1.2.4->pymilvus!=2.2.14,<2.3.0,>=2.2.0->milvus[client]) (1.24.4)\n",
      "Requirement already satisfied: packaging>=17.0 in /home/ruiciro/arize/arize_venv/lib/python3.11/site-packages (from marshmallow>=3.0.0->environs<=9.5.0->pymilvus!=2.2.14,<2.3.0,>=2.2.0->milvus[client]) (23.1)\n",
      "Requirement already satisfied: six>=1.5 in /home/ruiciro/arize/arize_venv/lib/python3.11/site-packages (from python-dateutil>=2.8.2->pandas>=1.2.4->pymilvus!=2.2.14,<2.3.0,>=2.2.0->milvus[client]) (1.16.0)\n",
      "Requirement already satisfied: google-cloud-storage in /home/ruiciro/arize/arize_venv/lib/python3.11/site-packages (2.10.0)\n",
      "Requirement already satisfied: google-auth<3.0dev,>=1.25.0 in /home/ruiciro/arize/arize_venv/lib/python3.11/site-packages (from google-cloud-storage) (2.22.0)\n",
      "Requirement already satisfied: google-api-core!=2.0.*,!=2.1.*,!=2.2.*,!=2.3.0,<3.0.0dev,>=1.31.5 in /home/ruiciro/arize/arize_venv/lib/python3.11/site-packages (from google-cloud-storage) (2.11.1)\n",
      "Requirement already satisfied: google-cloud-core<3.0dev,>=2.3.0 in /home/ruiciro/arize/arize_venv/lib/python3.11/site-packages (from google-cloud-storage) (2.3.3)\n",
      "Requirement already satisfied: google-resumable-media>=2.3.2 in /home/ruiciro/arize/arize_venv/lib/python3.11/site-packages (from google-cloud-storage) (2.5.0)\n",
      "Requirement already satisfied: requests<3.0.0dev,>=2.18.0 in /home/ruiciro/arize/arize_venv/lib/python3.11/site-packages (from google-cloud-storage) (2.31.0)\n",
      "Requirement already satisfied: googleapis-common-protos<2.0.dev0,>=1.56.2 in /home/ruiciro/arize/arize_venv/lib/python3.11/site-packages (from google-api-core!=2.0.*,!=2.1.*,!=2.2.*,!=2.3.0,<3.0.0dev,>=1.31.5->google-cloud-storage) (1.60.0)\n",
      "Requirement already satisfied: protobuf!=3.20.0,!=3.20.1,!=4.21.0,!=4.21.1,!=4.21.2,!=4.21.3,!=4.21.4,!=4.21.5,<5.0.0.dev0,>=3.19.5 in /home/ruiciro/arize/arize_venv/lib/python3.11/site-packages (from google-api-core!=2.0.*,!=2.1.*,!=2.2.*,!=2.3.0,<3.0.0dev,>=1.31.5->google-cloud-storage) (4.23.4)\n",
      "Requirement already satisfied: cachetools<6.0,>=2.0.0 in /home/ruiciro/arize/arize_venv/lib/python3.11/site-packages (from google-auth<3.0dev,>=1.25.0->google-cloud-storage) (5.3.1)\n",
      "Requirement already satisfied: pyasn1-modules>=0.2.1 in /home/ruiciro/arize/arize_venv/lib/python3.11/site-packages (from google-auth<3.0dev,>=1.25.0->google-cloud-storage) (0.3.0)\n",
      "Requirement already satisfied: rsa<5,>=3.1.4 in /home/ruiciro/arize/arize_venv/lib/python3.11/site-packages (from google-auth<3.0dev,>=1.25.0->google-cloud-storage) (4.9)\n",
      "Requirement already satisfied: six>=1.9.0 in /home/ruiciro/arize/arize_venv/lib/python3.11/site-packages (from google-auth<3.0dev,>=1.25.0->google-cloud-storage) (1.16.0)\n",
      "Requirement already satisfied: urllib3<2.0 in /home/ruiciro/arize/arize_venv/lib/python3.11/site-packages (from google-auth<3.0dev,>=1.25.0->google-cloud-storage) (1.26.16)\n",
      "Requirement already satisfied: google-crc32c<2.0dev,>=1.0 in /home/ruiciro/arize/arize_venv/lib/python3.11/site-packages (from google-resumable-media>=2.3.2->google-cloud-storage) (1.5.0)\n",
      "Requirement already satisfied: charset-normalizer<4,>=2 in /home/ruiciro/arize/arize_venv/lib/python3.11/site-packages (from requests<3.0.0dev,>=2.18.0->google-cloud-storage) (3.2.0)\n",
      "Requirement already satisfied: idna<4,>=2.5 in /home/ruiciro/arize/arize_venv/lib/python3.11/site-packages (from requests<3.0.0dev,>=2.18.0->google-cloud-storage) (3.4)\n",
      "Requirement already satisfied: certifi>=2017.4.17 in /home/ruiciro/arize/arize_venv/lib/python3.11/site-packages (from requests<3.0.0dev,>=2.18.0->google-cloud-storage) (2023.7.22)\n",
      "Requirement already satisfied: pyasn1<0.6.0,>=0.4.6 in /home/ruiciro/arize/arize_venv/lib/python3.11/site-packages (from pyasn1-modules>=0.2.1->google-auth<3.0dev,>=1.25.0->google-cloud-storage) (0.5.0)\n",
      "Requirement already satisfied: pymilvus in /home/ruiciro/arize/arize_venv/lib/python3.11/site-packages (2.2.13)\n",
      "Requirement already satisfied: grpcio<=1.56.0,>=1.49.1 in /home/ruiciro/arize/arize_venv/lib/python3.11/site-packages (from pymilvus) (1.56.0)\n",
      "Requirement already satisfied: protobuf>=3.20.0 in /home/ruiciro/arize/arize_venv/lib/python3.11/site-packages (from pymilvus) (4.23.4)\n",
      "Requirement already satisfied: environs<=9.5.0 in /home/ruiciro/arize/arize_venv/lib/python3.11/site-packages (from pymilvus) (9.5.0)\n",
      "Requirement already satisfied: ujson>=2.0.0 in /home/ruiciro/arize/arize_venv/lib/python3.11/site-packages (from pymilvus) (5.8.0)\n",
      "Requirement already satisfied: pandas>=1.2.4 in /home/ruiciro/arize/arize_venv/lib/python3.11/site-packages (from pymilvus) (2.0.3)\n",
      "Requirement already satisfied: marshmallow>=3.0.0 in /home/ruiciro/arize/arize_venv/lib/python3.11/site-packages (from environs<=9.5.0->pymilvus) (3.20.1)\n",
      "Requirement already satisfied: python-dotenv in /home/ruiciro/arize/arize_venv/lib/python3.11/site-packages (from environs<=9.5.0->pymilvus) (1.0.0)\n",
      "Requirement already satisfied: python-dateutil>=2.8.2 in /home/ruiciro/arize/arize_venv/lib/python3.11/site-packages (from pandas>=1.2.4->pymilvus) (2.8.2)\n",
      "Requirement already satisfied: pytz>=2020.1 in /home/ruiciro/arize/arize_venv/lib/python3.11/site-packages (from pandas>=1.2.4->pymilvus) (2023.3)\n",
      "Requirement already satisfied: tzdata>=2022.1 in /home/ruiciro/arize/arize_venv/lib/python3.11/site-packages (from pandas>=1.2.4->pymilvus) (2023.3)\n",
      "Requirement already satisfied: numpy>=1.21.0 in /home/ruiciro/arize/arize_venv/lib/python3.11/site-packages (from pandas>=1.2.4->pymilvus) (1.24.4)\n",
      "Requirement already satisfied: packaging>=17.0 in /home/ruiciro/arize/arize_venv/lib/python3.11/site-packages (from marshmallow>=3.0.0->environs<=9.5.0->pymilvus) (23.1)\n",
      "Requirement already satisfied: six>=1.5 in /home/ruiciro/arize/arize_venv/lib/python3.11/site-packages (from python-dateutil>=2.8.2->pandas>=1.2.4->pymilvus) (1.16.0)\n"
     ]
    }
   ],
   "source": [
    "!python3 -m pip install \"milvus[client]\"\n",
    "!pip install -q arize-phoenix gcsfs llama-index\n",
    "!pip install google-cloud-storage\n",
    "!pip install pymilvus"
   ]
  },
  {
   "cell_type": "markdown",
   "metadata": {},
   "source": [
    "# Necessary imports"
   ]
  },
  {
   "cell_type": "code",
   "execution_count": 6,
   "metadata": {
    "id": "GFlrq8rrj0ZU"
   },
   "outputs": [],
   "source": [
    "import json\n",
    "import pandas as pd\n",
    "from gcsfs import GCSFileSystem\n",
    "from llama_index import StorageContext, load_index_from_storage\n",
    "from llama_index.vector_stores import MilvusVectorStore, SimpleVectorStore\n",
    "from llama_index import SimpleDirectoryReader\n",
    "from llama_index import VectorStoreIndex, Document\n",
    "from milvus import default_server\n",
    "from pymilvus import (\n",
    "    connections,\n",
    "    FieldSchema,\n",
    "    CollectionSchema,\n",
    "    DataType,\n",
    "    Collection,\n",
    "    utility,\n",
    ")\n",
    "from datetime import timedelta\n",
    "from functools import reduce\n",
    "import hashlib\n",
    "import json\n",
    "import logging\n",
    "import os\n",
    "import sys\n",
    "import tempfile\n",
    "import textwrap\n",
    "from tqdm import tqdm\n",
    "from typing import Any, Dict, List, Tuple\n",
    "import urllib\n",
    "import zipfile\n",
    "\n",
    "from gcsfs import GCSFileSystem\n",
    "from IPython.display import YouTubeVideo\n",
    "from llama_index.graph_stores.simple import SimpleGraphStore\n",
    "from langchain.chat_models import ChatOpenAI\n",
    "from llama_index import StorageContext, load_index_from_storage\n",
    "from llama_index.callbacks import CallbackManager, OpenInferenceCallbackHandler\n",
    "from llama_index.callbacks.open_inference_callback import as_dataframe\n",
    "from llama_index.embeddings.base import BaseEmbedding\n",
    "from llama_index.embeddings.openai import OpenAIEmbedding\n",
    "from llama_index.indices.query.schema import QueryBundle\n",
    "from llama_index.query_engine import RetrieverQueryEngine\n",
    "from llama_index.response.schema import Response\n",
    "from llama_index import ServiceContext, LLMPredictor\n",
    "from llama_index import StorageContext, load_index_from_storage\n",
    "from llama_index.embeddings.openai import OpenAIEmbedding\n",
    "from llama_index.response.schema import Response\n",
    "import numpy as np\n",
    "import numpy.typing as npt\n",
    "import openai\n",
    "import pandas as pd\n",
    "import phoenix as px\n",
    "from tenacity import (\n",
    "    retry,\n",
    "    stop_after_attempt,\n",
    "    wait_random_exponential,\n",
    ")\n",
    "\n",
    "\n",
    "pd.set_option(\"display.max_colwidth\", 1000)\n",
    "\n",
    "openai_api_key = \"\" #\"copy paste your api key here\"\n",
    "assert openai_api_key == \"\", \"❌ Please set your OpenAI API key\" #\"copy paste your api key here\"\n",
    "openai.api_key = openai_api_key\n",
    "os.environ[\"OPENAI_API_KEY\"] = openai_api_key"
   ]
  },
  {
   "cell_type": "markdown",
   "metadata": {},
   "source": [
    "# Recover data from dataset and get it in the proper format for milvus insertion"
   ]
  },
  {
   "cell_type": "code",
   "execution_count": 3,
   "metadata": {},
   "outputs": [],
   "source": [
    "with open(\"dataset.json\", \"r\") as file:\n",
    "    data = json.load(file)\n",
    "\n",
    "    rows = data['rows']\n",
    "\n",
    "    # If the 'node' field is a JSON object, convert it to a string\n",
    "    for row in rows:\n",
    "        if isinstance(row['node'], dict):\n",
    "            row['node'] = json.dumps(row['node'])"
   ]
  },
  {
   "cell_type": "markdown",
   "metadata": {},
   "source": [
    "# Creating a milvus lite connection and inserting data into it\n"
   ]
  },
  {
   "cell_type": "code",
   "execution_count": 4,
   "metadata": {
    "colab": {
     "base_uri": "https://localhost:8080/",
     "height": 646
    },
    "id": "a5k53Bk8WZcv",
    "outputId": "8dd04d27-3981-40c4-a43a-62e5fe93e0d1"
   },
   "outputs": [
    {
     "name": "stdout",
     "output_type": "stream",
     "text": [
      "\n",
      "\n",
      "    __  _________ _   ____  ______\n",
      "   /  |/  /  _/ /| | / / / / / __/\n",
      "  / /|_/ // // /_| |/ / /_/ /\\ \\\n",
      " /_/  /_/___/____/___/\\____/___/ {Lite}\n",
      "\n",
      " Welcome to use Milvus!\n",
      "\n",
      " Version:   v2.2.12-lite\n",
      " Process:   51310\n",
      " Started:   2023-08-07 11:34:24\n",
      " Config:    /home/ruiciro/.milvus.io/milvus-server/2.2.12/configs/milvus.yaml\n",
      " Logs:      /home/ruiciro/.milvus.io/milvus-server/2.2.12/logs\n",
      "\n",
      " Ctrl+C to exit ...\n"
     ]
    }
   ],
   "source": [
    "with default_server:\n",
    "    connections.connect(host='localhost', port=default_server.listen_port)\n",
    "    collection_name = 'colab_collection'\n",
    "\n",
    "    # define your fields\n",
    "    fields = [\n",
    "        FieldSchema(name=\"id\", dtype=DataType.VARCHAR, is_primary=True, auto_id=False, max_length=65535),\n",
    "        FieldSchema(name=\"embedding\", dtype=DataType.FLOAT_VECTOR, dim=1536),\n",
    "        FieldSchema(name=\"doc_id\", dtype=DataType.VARCHAR, max_length=65535),\n",
    "        FieldSchema(name=\"text\", dtype=DataType.VARCHAR, max_length=65535),\n",
    "        FieldSchema(name=\"node\", dtype=DataType.VARCHAR, max_length=65535),\n",
    "    ]\n",
    "\n",
    "    # define your schema\n",
    "    schema = CollectionSchema(fields=fields, description=\"this is a collection basedc on arize docs\")\n",
    "\n",
    "    # Transform the data into the format needed for the insert operation\n",
    "    insert_data = [\n",
    "        [record[field.name] for record in rows] for field in schema.fields\n",
    "    ]\n",
    "    # create your collection\n",
    "    collection = Collection(name=collection_name, schema=schema)\n",
    "\n",
    "    # Insert the data into the collection\n",
    "    mr = collection.insert(insert_data)\n",
    "\n"
   ]
  },
  {
   "cell_type": "markdown",
   "metadata": {},
   "source": [
    " # Pulling data from the created milvus vector store and generating a storage contex"
   ]
  },
  {
   "cell_type": "code",
   "execution_count": null,
   "metadata": {},
   "outputs": [],
   "source": []
  },
  {
   "cell_type": "markdown",
   "metadata": {},
   "source": [
    "# Creating a service context and running test queries"
   ]
  },
  {
   "cell_type": "code",
   "execution_count": null,
   "metadata": {},
   "outputs": [],
   "source": []
  },
  {
   "cell_type": "code",
   "execution_count": null,
   "metadata": {},
   "outputs": [],
   "source": []
  }
 ],
 "metadata": {
  "colab": {
   "provenance": []
  },
  "kernelspec": {
   "display_name": "Python 3 (ipykernel)",
   "language": "python",
   "name": "python3"
  },
  "language_info": {
   "codemirror_mode": {
    "name": "ipython",
    "version": 3
   },
   "file_extension": ".py",
   "mimetype": "text/x-python",
   "name": "python",
   "nbconvert_exporter": "python",
   "pygments_lexer": "ipython3",
   "version": "3.11.4"
  }
 },
 "nbformat": 4,
 "nbformat_minor": 4
}
