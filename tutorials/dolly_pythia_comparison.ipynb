{
 "cells": [
  {
   "cell_type": "code",
   "execution_count": null,
   "metadata": {},
   "outputs": [],
   "source": [
    "import os\n",
    "import pandas as pd\n",
    "import phoenix as px"
   ]
  },
  {
   "cell_type": "code",
   "execution_count": null,
   "metadata": {},
   "outputs": [],
   "source": [
    "dolly_df = pd.read_parquet(\n",
    "    \"/Users/xandersong/Desktop/anyscale_experiments/dolly-v2-3b_2023-05-31T19_10_23.249236_temperature-0.1.parquet\"\n",
    ")\n",
    "dolly_df"
   ]
  },
  {
   "cell_type": "code",
   "execution_count": null,
   "metadata": {},
   "outputs": [],
   "source": [
    "pythia_df = pd.read_parquet(\n",
    "    \"/Users/xandersong/Desktop/anyscale_experiments/pythia-2.8b_2023-06-01T00_36_06.425614_temperature-0.1.parquet\"\n",
    ")\n",
    "pythia_df"
   ]
  },
  {
   "cell_type": "code",
   "execution_count": null,
   "metadata": {},
   "outputs": [],
   "source": [
    "dolly_df[\"openai_evaluation_score\"].mean()"
   ]
  },
  {
   "cell_type": "code",
   "execution_count": null,
   "metadata": {},
   "outputs": [],
   "source": [
    "pythia_df[\"openai_evaluation_score\"].mean()"
   ]
  },
  {
   "cell_type": "code",
   "execution_count": null,
   "metadata": {},
   "outputs": [],
   "source": [
    "schema = px.Schema(\n",
    "    prompt_column_names=px.EmbeddingColumnNames(\n",
    "        raw_data_column_name=\"prompt\", vector_column_name=\"prompt_vector\"\n",
    "    ),\n",
    "    response_column_names=px.EmbeddingColumnNames(\n",
    "        raw_data_column_name=\"response\", vector_column_name=\"response_vector\"\n",
    "    ),\n",
    "    tag_column_names=[\n",
    "        \"category\",\n",
    "        \"openai_evaluation_score\",\n",
    "        \"instruction\",\n",
    "        \"input\",\n",
    "        \"output\",\n",
    "    ],\n",
    ")\n",
    "dolly_ds = px.Dataset(dolly_df, schema, name=\"dolly\")\n",
    "pythia_ds = px.Dataset(pythia_df, schema, name=\"pythia\")"
   ]
  },
  {
   "cell_type": "code",
   "execution_count": null,
   "metadata": {},
   "outputs": [],
   "source": [
    "px.launch_app(primary=dolly_ds, reference=pythia_ds)"
   ]
  }
 ],
 "metadata": {
  "language_info": {
   "name": "python"
  }
 },
 "nbformat": 4,
 "nbformat_minor": 2
}
