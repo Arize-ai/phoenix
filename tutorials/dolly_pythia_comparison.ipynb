{
 "cells": [
  {
   "cell_type": "code",
   "execution_count": null,
   "metadata": {},
   "outputs": [],
   "source": [
    "import os\n",
    "import pandas as pd\n",
    "import phoenix as px"
   ]
  },
  {
   "cell_type": "code",
   "execution_count": null,
   "metadata": {},
   "outputs": [],
   "source": [
    "dolly_df = pd.read_parquet(\"http://storage.googleapis.com/arize-assets/xander/anyscale-llm-finetuning-workshop/dolly-v2-3b_2023-05-31T00_02_52.845444_temp-0.1.parquet\")\n",
    "dolly_df"
   ]
  },
  {
   "cell_type": "code",
   "execution_count": null,
   "metadata": {},
   "outputs": [],
   "source": [
    "pythia_df = pd.read_parquet(\"http://storage.googleapis.com/arize-assets/xander/anyscale-llm-finetuning-workshop/pythia-2.8b_2023-05-31T00_49_33.681326_temp-0.1.parquet\")\n",
    "pythia_df"
   ]
  },
  {
   "cell_type": "code",
   "execution_count": null,
   "metadata": {},
   "outputs": [],
   "source": [
    "dolly_df[\"evaluation_score\"].mean()"
   ]
  },
  {
   "cell_type": "code",
   "execution_count": null,
   "metadata": {},
   "outputs": [],
   "source": [
    "pythia_df[\"evaluation_score\"].mean()"
   ]
  },
  {
   "cell_type": "code",
   "execution_count": null,
   "metadata": {},
   "outputs": [],
   "source": [
    "schema = px.Schema(\n",
    "    prompt_column_names=px.EmbeddingColumnNames(\n",
    "        raw_data_column_name=\"prompt\", vector_column_name=\"prompt_embedding\"\n",
    "    ),\n",
    "    response_column_names=px.EmbeddingColumnNames(\n",
    "        raw_data_column_name=\"response\", vector_column_name=\"response_embedding\"\n",
    "    ),\n",
    "    tag_column_names=[\n",
    "        # \"prompt_category\",\n",
    "        \"conversation_id\",\n",
    "        \"evaluation_score\",\n",
    "    ],\n",
    ")\n",
    "dolly_ds = px.Dataset(dolly_df, schema, name=\"dolly\")\n",
    "pythia_ds = px.Dataset(pythia_df, schema, name=\"pythia\")"
   ]
  },
  {
   "cell_type": "code",
   "execution_count": null,
   "metadata": {},
   "outputs": [],
   "source": [
    "px.launch_app(primary=dolly_ds, reference=pythia_ds)"
   ]
  }
 ],
 "metadata": {
  "language_info": {
   "name": "python"
  }
 },
 "nbformat": 4,
 "nbformat_minor": 2
}
