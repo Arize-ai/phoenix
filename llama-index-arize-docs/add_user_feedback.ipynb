{
 "cells": [
  {
   "cell_type": "code",
   "execution_count": null,
   "metadata": {},
   "outputs": [],
   "source": [
    "import numpy as np\n",
    "import pandas as pd"
   ]
  },
  {
   "cell_type": "code",
   "execution_count": null,
   "metadata": {},
   "outputs": [],
   "source": [
    "query_df = pd.read_parquet(\n",
    "    \"http://storage.googleapis.com/arize-assets/phoenix/datasets/unstructured/llm/llama-index/arize-docs/retrievals.parquet\"\n",
    ")\n",
    "query_df_columns = list(query_df.columns)\n",
    "query_df"
   ]
  },
  {
   "cell_type": "code",
   "execution_count": null,
   "metadata": {},
   "outputs": [],
   "source": [
    "evaluations_df = pd.read_parquet(\n",
    "    \"http://storage.googleapis.com/arize-assets/phoenix/datasets/unstructured/llm/llama-index/arize-docs/evaluations.parquet\"\n",
    ")[[\"text\", \"relevance_0\", \"relevance_1\"]]\n",
    "evaluations_df.head()"
   ]
  },
  {
   "cell_type": "code",
   "execution_count": null,
   "metadata": {},
   "outputs": [],
   "source": [
    "query_df = pd.merge(query_df, evaluations_df, left_on=\"query_text\", right_on=\"text\").drop(\n",
    "    columns=[\"text\"]\n",
    ")\n",
    "query_df"
   ]
  },
  {
   "cell_type": "code",
   "execution_count": null,
   "metadata": {},
   "outputs": [],
   "source": [
    "failed_retrieval_mask = (query_df[\"relevance_0\"] == \"irrelevant\") & (\n",
    "    query_df[\"relevance_1\"] == \"irrelevant\"\n",
    ")\n",
    "num_failed_retrievals = failed_retrieval_mask.sum()\n",
    "num_failed_retrievals"
   ]
  },
  {
   "cell_type": "code",
   "execution_count": null,
   "metadata": {},
   "outputs": [],
   "source": [
    "for index in np.where(failed_retrieval_mask)[0]:\n",
    "    assert failed_retrieval_mask[index]"
   ]
  },
  {
   "cell_type": "code",
   "execution_count": null,
   "metadata": {},
   "outputs": [],
   "source": [
    "query_df[\"user_feedback\"] = np.nan"
   ]
  },
  {
   "cell_type": "code",
   "execution_count": null,
   "metadata": {},
   "outputs": [],
   "source": [
    "num_thumbs_down = int(0.75 * num_failed_retrievals)\n",
    "failed_retrieval_indexes = np.where(failed_retrieval_mask)[0]\n",
    "thumbs_down_mask = np.random.choice(failed_retrieval_indexes, size=num_thumbs_down, replace=False)\n",
    "query_df[\"user_feedback\"][thumbs_down_mask] = -1\n",
    "query_df[\"user_feedback\"].sum()"
   ]
  },
  {
   "cell_type": "code",
   "execution_count": null,
   "metadata": {},
   "outputs": [],
   "source": [
    "successful_retrieval_mask = ~failed_retrieval_mask\n",
    "num_successful_retrievals = successful_retrieval_mask.sum()\n",
    "num_successful_retrievals"
   ]
  },
  {
   "cell_type": "code",
   "execution_count": null,
   "metadata": {},
   "outputs": [],
   "source": [
    "num_thumbs_up = int(0.25 * num_successful_retrievals)\n",
    "successful_retrieval_indexes = np.where(successful_retrieval_mask)[0]\n",
    "thumbs_up_mask = np.random.choice(successful_retrieval_indexes, size=num_thumbs_up, replace=False)\n",
    "query_df[\"user_feedback\"][thumbs_up_mask] = 1\n",
    "query_df[\"user_feedback\"].sum()"
   ]
  },
  {
   "cell_type": "code",
   "execution_count": null,
   "metadata": {},
   "outputs": [],
   "source": [
    "query_df[\"user_feedback\"].value_counts()"
   ]
  },
  {
   "cell_type": "code",
   "execution_count": null,
   "metadata": {},
   "outputs": [],
   "source": [
    "query_df[\"user_feedback\"].isna().sum()"
   ]
  },
  {
   "cell_type": "code",
   "execution_count": null,
   "metadata": {},
   "outputs": [],
   "source": [
    "query_df = query_df[query_df_columns + [\"user_feedback\"]]\n",
    "query_df.to_parquet(\"retrievals_with_user_feedback.parquet\")"
   ]
  }
 ],
 "metadata": {
  "language_info": {
   "name": "python"
  }
 },
 "nbformat": 4,
 "nbformat_minor": 2
}
