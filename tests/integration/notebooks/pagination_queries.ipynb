{
 "cells": [
  {
   "cell_type": "markdown",
   "metadata": {},
   "source": [
    "Example Queries for Cursor-Based Pagination"
   ]
  },
  {
   "cell_type": "code",
   "execution_count": null,
   "metadata": {},
   "outputs": [],
   "source": [
    "from phoenix.db import models\n",
    "from sqlalchemy import and_, create_engine, select\n",
    "from sqlalchemy.orm import aliased, sessionmaker"
   ]
  },
  {
   "cell_type": "code",
   "execution_count": null,
   "metadata": {},
   "outputs": [],
   "source": [
    "PostgresSession = sessionmaker(\n",
    "    create_engine(\n",
    "        \"postgresql+psycopg://localhost:5432/postgres?user=postgres&password=mysecretpassword\",\n",
    "        echo=True,\n",
    "    ),\n",
    "    expire_on_commit=False,\n",
    ")\n",
    "SqliteSession = sessionmaker(\n",
    "    create_engine(\"sqlite:////Users/xandersong/.phoenix/phoenix.db\", echo=True),\n",
    "    expire_on_commit=False,\n",
    ")"
   ]
  },
  {
   "cell_type": "markdown",
   "metadata": {},
   "source": [
    "- filter: None\n",
    "- sort: None\n",
    "- after: None\n",
    "- before: None\n",
    "- first: 10\n",
    "- last: None"
   ]
  },
  {
   "cell_type": "code",
   "execution_count": null,
   "metadata": {},
   "outputs": [],
   "source": [
    "page_size = 10\n",
    "with SqliteSession() as session:\n",
    "    span_ids = session.scalars(select(models.Span.id).limit(page_size)).all()\n",
    "span_ids"
   ]
  },
  {
   "cell_type": "markdown",
   "metadata": {},
   "source": [
    "- filter: None\n",
    "- sort: None\n",
    "- after: 5\n",
    "- before: None\n",
    "- first: 10\n",
    "- last: None"
   ]
  },
  {
   "cell_type": "code",
   "execution_count": null,
   "metadata": {},
   "outputs": [],
   "source": [
    "cursor = 10\n",
    "page_size = 10\n",
    "with SqliteSession() as session:\n",
    "    span_ids = session.scalars(\n",
    "        select(models.Span.id).where(models.Span.id >= cursor).limit(page_size)\n",
    "    ).all()\n",
    "span_ids"
   ]
  },
  {
   "cell_type": "markdown",
   "metadata": {},
   "source": [
    "- filter: \"\"\"span_kind == 'LLM'\"\"\"\n",
    "- sort: None\n",
    "- after: 10\n",
    "- before: None\n",
    "- first: 10\n",
    "- last: None"
   ]
  },
  {
   "cell_type": "code",
   "execution_count": null,
   "metadata": {},
   "outputs": [],
   "source": [
    "cursor = 10\n",
    "page_size = 10\n",
    "with SqliteSession() as session:\n",
    "    span_ids = session.scalars(\n",
    "        select(models.Span.id)\n",
    "        .where(models.Span.span_kind == \"LLM\")\n",
    "        .where(models.Span.id >= cursor)\n",
    "        .limit(page_size)\n",
    "    ).all()\n",
    "span_ids"
   ]
  },
  {
   "cell_type": "markdown",
   "metadata": {},
   "source": [
    "- filter: None\n",
    "- sort: prompt token count\n",
    "- after: 10\n",
    "- before: None\n",
    "- first: 10\n",
    "- last: None"
   ]
  },
  {
   "cell_type": "code",
   "execution_count": null,
   "metadata": {},
   "outputs": [],
   "source": [
    "cursor = 100\n",
    "page_size = 10\n",
    "with SqliteSession() as session:\n",
    "    prompt_tokens = models.Span.attributes[[\"llm\", \"token_count\", \"prompt\"]]\n",
    "    for index, span in enumerate(\n",
    "        session.execute(\n",
    "            select(models.Span.id, prompt_tokens)\n",
    "            .where(models.Span.id >= cursor)\n",
    "            .order_by(prompt_tokens, models.Span.id)\n",
    "            .limit(page_size)\n",
    "        )\n",
    "    ):\n",
    "        print(f\"{index=} {span=}\")"
   ]
  },
  {
   "cell_type": "markdown",
   "metadata": {},
   "source": [
    "- filter: attributes[\"llm.prompt.tokens] < 50\n",
    "- sort: evals[\"Q&A Correctness\"].score DESC\n",
    "- after: 10\n",
    "- before: None\n",
    "- first: 10\n",
    "- last: None"
   ]
  },
  {
   "cell_type": "code",
   "execution_count": null,
   "metadata": {},
   "outputs": [],
   "source": [
    "span"
   ]
  },
  {
   "cell_type": "code",
   "execution_count": null,
   "metadata": {},
   "outputs": [],
   "source": [
    "span.attributes[\"llm\"]"
   ]
  },
  {
   "cell_type": "code",
   "execution_count": null,
   "metadata": {},
   "outputs": [],
   "source": [
    "cursor = 100\n",
    "page_size = 10\n",
    "A = aliased(models.SpanAnnotation, name=\"A\")\n",
    "with SqliteSession() as session:\n",
    "    for index, (span, score) in enumerate(\n",
    "        session.execute(\n",
    "            select(models.Span, A.score)\n",
    "            .join(\n",
    "                A,\n",
    "                onclause=and_(\n",
    "                    A.span_rowid == models.Span.id,\n",
    "                    A.name == \"Q&A Correctness\",\n",
    "                    A.annotator_kind == \"LLM\",\n",
    "                ),\n",
    "            )\n",
    "            .where(models.Span.id >= cursor)\n",
    "            .order_by(A.score.desc(), models.Span.id)\n",
    "        )\n",
    "    ):\n",
    "        print(f\"{index=} {span.id=} {score=}\")"
   ]
  }
 ],
 "metadata": {
  "language_info": {
   "name": "python"
  }
 },
 "nbformat": 4,
 "nbformat_minor": 2
}
